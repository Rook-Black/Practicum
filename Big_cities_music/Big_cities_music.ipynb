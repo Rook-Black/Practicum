{
 "cells": [
  {
   "cell_type": "markdown",
   "metadata": {},
   "source": [
    "<font color='blue' size=5><b>Комментарий ревьюера</b></font>\n",
    "\n",
    "<font color='blue'>Привет, Иван ! Меня зовут Павел Григорьев, и я буду проверять этот проект. Спасибо за проделанную работу! Предлагаю общаться на «ты».</font>\n",
    "\n",
    "<font color='blue'>Я буду использовать различные цвета, чтобы было удобнее воспринимать мои комментарии:</font>\n",
    "\n",
    "\n",
    "---\n",
    "\n",
    "\n",
    "<font color='blue'>синий текст - просто текст комментария</font>\n",
    "\n",
    "<font color='green'>✔️ и зеленый текст - все отлично</font>\n",
    "\n",
    "<font color='orange'>⚠️ и оранжевый текст - сделано все правильно, однако есть рекомендации, на что стоит обратить внимание</font>\n",
    "\n",
    "<font color='red'>❌ и красный текст - есть недочеты</font>\n",
    "\n",
    "\n",
    "---\n",
    "\n",
    "<font color='blue'>Пожалуйста, не удаляй мои комментарии в случае возврата работы, так будет проще разобраться, какие были недочеты, а также сразу увидеть исправленное. </font>\n",
    "\n",
    "Ответы на мои комментарии лучше тоже помечать.\n",
    "Например: <font color='purple'><b>Комментарий студента</b></font>\n",
    "\n",
    "<font color='blue'><b>Давай смотреть, что получилось!</b></font>\n"
   ]
  },
  {
   "cell_type": "markdown",
   "metadata": {},
   "source": [
    "<font color='blue' size=3><b>Комментарий ревьюера 2</b></font>\n",
    "\n",
    "<font color='blue'>Привет еще раз. Спасибо, за исправления. Оформление комментариев по работе сохраняется. Только обозначим, что это вторая итерация."
   ]
  },
  {
   "cell_type": "markdown",
   "metadata": {
    "id": "E0vqbgi9ay0H"
   },
   "source": [
    "# Яндекс.Музыка"
   ]
  },
  {
   "cell_type": "markdown",
   "metadata": {
    "id": "VUC88oWjTJw2"
   },
   "source": [
    "Сравнение Москвы и Петербурга окружено мифами. Например:\n",
    " * Москва — мегаполис, подчинённый жёсткому ритму рабочей недели;\n",
    " * Петербург — культурная столица, со своими вкусами.\n",
    "\n",
    "На данных Яндекс.Музыки вы сравните поведение пользователей двух столиц.\n",
    "\n",
    "**Цель исследования** — проверьте три гипотезы:\n",
    "1. Активность пользователей зависит от дня недели. Причём в Москве и Петербурге это проявляется по-разному.\n",
    "2. В понедельник утром в Москве преобладают одни жанры, а в Петербурге — другие. Так же и вечером пятницы преобладают разные жанры — в зависимости от города. \n",
    "3. Москва и Петербург предпочитают разные жанры музыки. В Москве чаще слушают поп-музыку, в Петербурге — русский рэп.\n",
    "\n",
    "**Ход исследования**\n",
    "\n",
    "Данные о поведении пользователей вы получите из файла `yandex_music_project.csv`. О качестве данных ничего не известно. Поэтому перед проверкой гипотез понадобится обзор данных. \n",
    "\n",
    "Вы проверите данные на ошибки и оцените их влияние на исследование. Затем, на этапе предобработки вы поищете возможность исправить самые критичные ошибки данных.\n",
    " \n",
    "Таким образом, исследование пройдёт в три этапа:\n",
    " 1. Обзор данных.\n",
    " 2. Предобработка данных.\n",
    " 3. Проверка гипотез.\n",
    "\n"
   ]
  },
  {
   "cell_type": "markdown",
   "metadata": {},
   "source": [
    "<font color='purple'><b>Интересный комментарий, вроде все зеленое, но желтый треуголник есть, настораживате)))</b></font>\n",
    "\n",
    "<font color='blue'><b>Комментарий ревьюера: </b></font> ⚠️\\\n",
    "<font color='green'> Обрати внимание на оформление проекта:\n",
    "<ul><font color='green'>Вступительный блок где есть цель, описание данных и Этапы исследования.</font></ul>\n",
    "<ul><font color='green'>Проект разбит на блоки и подблоки заголовками разного уровня</font></ul>\n",
    "<ul><font color='green'>Есть выводы по каждому из этапов, а также общий вывод!</font></ul> \n",
    "Придерживайся такой структуры в дальнейшем :)"
   ]
  },
  {
   "cell_type": "markdown",
   "metadata": {},
   "source": [
    "<font color='blue'><b>Комментарий ревьюера 2: </b></font> ✔️\\\n",
    "<font color='blue'> Всё образцово оформлено, но если не обращать внимания, вступление часто игнорируют. В следующих проектах надо будет оформлять всё самостоятельно."
   ]
  },
  {
   "cell_type": "markdown",
   "metadata": {
    "id": "Ml1hmfXC_Zcs"
   },
   "source": [
    "## Обзор данных\n",
    "\n",
    "Составьте первое представление о данных Яндекс.Музыки.\n",
    "\n",
    "\n"
   ]
  },
  {
   "cell_type": "markdown",
   "metadata": {
    "id": "57eAOGIz_Zcs"
   },
   "source": [
    "Основной инструмент аналитика — `pandas`. Импортируйте эту библиотеку."
   ]
  },
  {
   "cell_type": "code",
   "execution_count": null,
   "metadata": {
    "id": "AXN7PHPN_Zcs"
   },
   "outputs": [],
   "source": [
    "# импорт библиотеки pandas\n",
    "\n",
    "import pandas as pd "
   ]
  },
  {
   "cell_type": "markdown",
   "metadata": {},
   "source": [
    "<font color='blue'><b>Комментарий ревьюера: </b></font> ✔️\\\n",
    "<font color='green'>Очень здорово, что ты используешь сокращение pd для Pandas, это общепринятое сокращение для этой библиотеки для удобной дальнейшей работы."
   ]
  },
  {
   "cell_type": "markdown",
   "metadata": {
    "id": "SG23P8tt_Zcs"
   },
   "source": [
    "Прочитайте файл `yandex_music_project.csv` из папки `/datasets` и сохраните его в переменной `df`:"
   ]
  },
  {
   "cell_type": "code",
   "execution_count": 7,
   "metadata": {
    "id": "fFVu7vqh_Zct"
   },
   "outputs": [],
   "source": [
    "# чтение файла с данными и сохранение в df\n",
    "\n",
    "df = pd.read_csv(\"A:\\Practicum\\Project_1\\data.csv\") "
   ]
  },
  {
   "cell_type": "markdown",
   "metadata": {},
   "source": [
    "<font color='blue'><b>Комментарий ревьюера: </b></font> ✔️\\\n",
    "<font color='green'>Указан правильный путь к файлу: слэш в начале пути очень важен, так как указывает, что нужно искать файл в корневой папке."
   ]
  },
  {
   "cell_type": "markdown",
   "metadata": {
    "id": "rDoOMd3uTqnZ"
   },
   "source": [
    "Выведите на экран первые десять строк таблицы:"
   ]
  },
  {
   "cell_type": "code",
   "execution_count": 8,
   "metadata": {
    "id": "oWTVX3gW_Zct"
   },
   "outputs": [
    {
     "data": {
      "text/html": [
       "<div>\n",
       "<style scoped>\n",
       "    .dataframe tbody tr th:only-of-type {\n",
       "        vertical-align: middle;\n",
       "    }\n",
       "\n",
       "    .dataframe tbody tr th {\n",
       "        vertical-align: top;\n",
       "    }\n",
       "\n",
       "    .dataframe thead th {\n",
       "        text-align: right;\n",
       "    }\n",
       "</style>\n",
       "<table border=\"1\" class=\"dataframe\">\n",
       "  <thead>\n",
       "    <tr style=\"text-align: right;\">\n",
       "      <th></th>\n",
       "      <th>userID</th>\n",
       "      <th>Track</th>\n",
       "      <th>artist</th>\n",
       "      <th>genre</th>\n",
       "      <th>City</th>\n",
       "      <th>time</th>\n",
       "      <th>Day</th>\n",
       "    </tr>\n",
       "  </thead>\n",
       "  <tbody>\n",
       "    <tr>\n",
       "      <th>0</th>\n",
       "      <td>FFB692EC</td>\n",
       "      <td>Kamigata To Boots</td>\n",
       "      <td>The Mass Missile</td>\n",
       "      <td>rock</td>\n",
       "      <td>Saint-Petersburg</td>\n",
       "      <td>20:28:33</td>\n",
       "      <td>Wednesday</td>\n",
       "    </tr>\n",
       "    <tr>\n",
       "      <th>1</th>\n",
       "      <td>55204538</td>\n",
       "      <td>Delayed Because of Accident</td>\n",
       "      <td>Andreas Rönnberg</td>\n",
       "      <td>rock</td>\n",
       "      <td>Moscow</td>\n",
       "      <td>14:07:09</td>\n",
       "      <td>Friday</td>\n",
       "    </tr>\n",
       "    <tr>\n",
       "      <th>2</th>\n",
       "      <td>20EC38</td>\n",
       "      <td>Funiculì funiculà</td>\n",
       "      <td>Mario Lanza</td>\n",
       "      <td>pop</td>\n",
       "      <td>Saint-Petersburg</td>\n",
       "      <td>20:58:07</td>\n",
       "      <td>Wednesday</td>\n",
       "    </tr>\n",
       "    <tr>\n",
       "      <th>3</th>\n",
       "      <td>A3DD03C9</td>\n",
       "      <td>Dragons in the Sunset</td>\n",
       "      <td>Fire + Ice</td>\n",
       "      <td>folk</td>\n",
       "      <td>Saint-Petersburg</td>\n",
       "      <td>08:37:09</td>\n",
       "      <td>Monday</td>\n",
       "    </tr>\n",
       "    <tr>\n",
       "      <th>4</th>\n",
       "      <td>E2DC1FAE</td>\n",
       "      <td>Soul People</td>\n",
       "      <td>Space Echo</td>\n",
       "      <td>dance</td>\n",
       "      <td>Moscow</td>\n",
       "      <td>08:34:34</td>\n",
       "      <td>Monday</td>\n",
       "    </tr>\n",
       "    <tr>\n",
       "      <th>...</th>\n",
       "      <td>...</td>\n",
       "      <td>...</td>\n",
       "      <td>...</td>\n",
       "      <td>...</td>\n",
       "      <td>...</td>\n",
       "      <td>...</td>\n",
       "      <td>...</td>\n",
       "    </tr>\n",
       "    <tr>\n",
       "      <th>65074</th>\n",
       "      <td>729CBB09</td>\n",
       "      <td>My Name</td>\n",
       "      <td>McLean</td>\n",
       "      <td>rnb</td>\n",
       "      <td>Moscow</td>\n",
       "      <td>13:32:28</td>\n",
       "      <td>Wednesday</td>\n",
       "    </tr>\n",
       "    <tr>\n",
       "      <th>65075</th>\n",
       "      <td>D08D4A55</td>\n",
       "      <td>Maybe One Day (feat. Black Spade)</td>\n",
       "      <td>Blu &amp; Exile</td>\n",
       "      <td>hip</td>\n",
       "      <td>Saint-Petersburg</td>\n",
       "      <td>10:00:00</td>\n",
       "      <td>Monday</td>\n",
       "    </tr>\n",
       "    <tr>\n",
       "      <th>65076</th>\n",
       "      <td>C5E3A0D5</td>\n",
       "      <td>Jalopiina</td>\n",
       "      <td>NaN</td>\n",
       "      <td>industrial</td>\n",
       "      <td>Moscow</td>\n",
       "      <td>20:09:26</td>\n",
       "      <td>Friday</td>\n",
       "    </tr>\n",
       "    <tr>\n",
       "      <th>65077</th>\n",
       "      <td>321D0506</td>\n",
       "      <td>Freight Train</td>\n",
       "      <td>Chas McDevitt</td>\n",
       "      <td>rock</td>\n",
       "      <td>Moscow</td>\n",
       "      <td>21:43:59</td>\n",
       "      <td>Friday</td>\n",
       "    </tr>\n",
       "    <tr>\n",
       "      <th>65078</th>\n",
       "      <td>3A64EF84</td>\n",
       "      <td>Tell Me Sweet Little Lies</td>\n",
       "      <td>Monica Lopez</td>\n",
       "      <td>country</td>\n",
       "      <td>Moscow</td>\n",
       "      <td>21:59:46</td>\n",
       "      <td>Friday</td>\n",
       "    </tr>\n",
       "  </tbody>\n",
       "</table>\n",
       "<p>65079 rows × 7 columns</p>\n",
       "</div>"
      ],
      "text/plain": [
       "         userID                              Track            artist  \\\n",
       "0      FFB692EC                  Kamigata To Boots  The Mass Missile   \n",
       "1      55204538        Delayed Because of Accident  Andreas Rönnberg   \n",
       "2        20EC38                  Funiculì funiculà       Mario Lanza   \n",
       "3      A3DD03C9              Dragons in the Sunset        Fire + Ice   \n",
       "4      E2DC1FAE                        Soul People        Space Echo   \n",
       "...         ...                                ...               ...   \n",
       "65074  729CBB09                            My Name            McLean   \n",
       "65075  D08D4A55  Maybe One Day (feat. Black Spade)       Blu & Exile   \n",
       "65076  C5E3A0D5                          Jalopiina               NaN   \n",
       "65077  321D0506                      Freight Train     Chas McDevitt   \n",
       "65078  3A64EF84          Tell Me Sweet Little Lies      Monica Lopez   \n",
       "\n",
       "            genre            City        time        Day  \n",
       "0            rock  Saint-Petersburg  20:28:33  Wednesday  \n",
       "1            rock            Moscow  14:07:09     Friday  \n",
       "2             pop  Saint-Petersburg  20:58:07  Wednesday  \n",
       "3            folk  Saint-Petersburg  08:37:09     Monday  \n",
       "4           dance            Moscow  08:34:34     Monday  \n",
       "...           ...               ...       ...        ...  \n",
       "65074         rnb            Moscow  13:32:28  Wednesday  \n",
       "65075         hip  Saint-Petersburg  10:00:00     Monday  \n",
       "65076  industrial            Moscow  20:09:26     Friday  \n",
       "65077        rock            Moscow  21:43:59     Friday  \n",
       "65078     country            Moscow  21:59:46     Friday  \n",
       "\n",
       "[65079 rows x 7 columns]"
      ]
     },
     "execution_count": 8,
     "metadata": {},
     "output_type": "execute_result"
    }
   ],
   "source": [
    "# получение первых 10 строк таблицы df\n",
    "\n",
    "df"
   ]
  },
  {
   "cell_type": "markdown",
   "metadata": {},
   "source": [
    "<font color='blue'><b>Комментарий ревьюера: </b></font> ✔️\\\n",
    "<font color='green'> .head(10) 👍\n",
    "    \n",
    "<font color='blue'><b>Комментарий ревьюера: </b></font> ⚠️\\\n",
    "<font color='orange'> Если строка последняя в ячейке методы print и display не применяются."
   ]
  },
  {
   "cell_type": "markdown",
   "metadata": {},
   "source": [
    "<font color='blue'><b>Комментарий ревьюера 2: </b></font> ✔️\\\n",
    "<font color='green'>  👍"
   ]
  },
  {
   "cell_type": "markdown",
   "metadata": {
    "id": "EO73Kwic_Zct"
   },
   "source": [
    "Одной командой получить общую информацию о таблице:"
   ]
  },
  {
   "cell_type": "code",
   "execution_count": 9,
   "metadata": {
    "id": "DSf2kIb-_Zct"
   },
   "outputs": [
    {
     "name": "stdout",
     "output_type": "stream",
     "text": [
      "<class 'pandas.core.frame.DataFrame'>\n",
      "RangeIndex: 65079 entries, 0 to 65078\n",
      "Data columns (total 7 columns):\n",
      " #   Column    Non-Null Count  Dtype \n",
      "---  ------    --------------  ----- \n",
      " 0     userID  65079 non-null  object\n",
      " 1   Track     63848 non-null  object\n",
      " 2   artist    57876 non-null  object\n",
      " 3   genre     63881 non-null  object\n",
      " 4     City    65079 non-null  object\n",
      " 5   time      65079 non-null  object\n",
      " 6   Day       65079 non-null  object\n",
      "dtypes: object(7)\n",
      "memory usage: 3.5+ MB\n"
     ]
    }
   ],
   "source": [
    "# получение общей информации о данных в таблице df\n",
    "\n",
    "df.info() "
   ]
  },
  {
   "cell_type": "markdown",
   "metadata": {},
   "source": [
    "<font color='blue'><b>Комментарий ревьюера: </b></font> ✔️\\\n",
    "<font color='green'>Отличный выбор метода - info действительно показывает много информации о датафрейме."
   ]
  },
  {
   "cell_type": "markdown",
   "metadata": {
    "id": "TaQ2Iwbr_Zct"
   },
   "source": [
    "Итак, в таблице семь столбцов. Тип данных во всех столбцах — `object`.\n",
    "\n",
    "Согласно документации к данным:\n",
    "* `userID` — идентификатор пользователя;\n",
    "* `Track` — название трека;  \n",
    "* `artist` — имя исполнителя;\n",
    "* `genre` — название жанра;\n",
    "* `City` — город пользователя;\n",
    "* `time` — время начала прослушивания;\n",
    "* `Day` — день недели.\n",
    "\n",
    "В названиях колонок видны три нарушения стиля:\n",
    "1. Строчные буквы сочетаются с прописными.\n",
    "2. Встречаются пробелы.\n",
    "3. Не используется \"змеиный_стиль\"\n",
    "\n",
    "\n",
    "\n",
    "Количество значений в столбцах различается. Значит, в данных есть пропущенные значения.\n"
   ]
  },
  {
   "cell_type": "markdown",
   "metadata": {},
   "source": [
    "<font color='blue'><b>Комментарий ревьюера: </b></font> ✔️\\\n",
    "<font color='green'>Абсолютно правильный ответ на вопрос задания! Отличная работа!"
   ]
  },
  {
   "cell_type": "markdown",
   "metadata": {
    "id": "MCB6-dXG_Zct"
   },
   "source": [
    "**Выводы**\n",
    "\n",
    "В каждой строке таблицы — данные о прослушанном треке. Часть колонок описывает саму композицию: название, исполнителя и жанр. Остальные данные рассказывают о пользователе: из какого он города, когда он слушал музыку. \n",
    "\n",
    "Предварительно можно утверждать, что, данных достаточно для проверки гипотез. Но встречаются пропуски в данных, а в названиях колонок — расхождения с хорошим стилем.\n",
    "\n",
    "Чтобы двигаться дальше, нужно устранить проблемы в данных."
   ]
  },
  {
   "cell_type": "markdown",
   "metadata": {
    "id": "SjYF6Ub9_Zct"
   },
   "source": [
    "## Предобработка данных\n",
    "Исправьте стиль в заголовках столбцов, исключите пропуски. Затем проверьте данные на дубликаты."
   ]
  },
  {
   "cell_type": "markdown",
   "metadata": {
    "id": "dIaKXr29_Zct"
   },
   "source": [
    "### Стиль заголовков\n",
    "Выведите на экран названия столбцов:"
   ]
  },
  {
   "cell_type": "code",
   "execution_count": 10,
   "metadata": {
    "id": "oKOTdF_Q_Zct"
   },
   "outputs": [
    {
     "data": {
      "text/plain": [
       "Index(['  userID', 'Track', 'artist', 'genre', '  City  ', 'time', 'Day'], dtype='object')"
      ]
     },
     "execution_count": 10,
     "metadata": {},
     "output_type": "execute_result"
    }
   ],
   "source": [
    "# перечень названий столбцов таблицы df\n",
    "\n",
    "df.columns "
   ]
  },
  {
   "cell_type": "markdown",
   "metadata": {},
   "source": [
    "<font color='blue'><b>Комментарий ревьюера: </b></font> ✔️\\\n",
    "<font color='green'>.columns 👍"
   ]
  },
  {
   "cell_type": "markdown",
   "metadata": {
    "id": "zj5534cv_Zct"
   },
   "source": [
    "Приведите названия в соответствие с хорошим стилем:\n",
    "* несколько слов в названии запишите в «змеином_регистре»,\n",
    "* все символы сделайте строчными,\n",
    "* устраните пробелы.\n",
    "\n",
    "Для этого переименуйте колонки так:\n",
    "* `'  userID'` → `'user_id'`;\n",
    "* `'Track'` → `'track'`;\n",
    "* `'  City  '` → `'city'`;\n",
    "* `'Day'` → `'day'`."
   ]
  },
  {
   "cell_type": "code",
   "execution_count": 11,
   "metadata": {
    "id": "ISlFqs5y_Zct"
   },
   "outputs": [],
   "source": [
    "# переименование столбцов\n",
    "df = df.rename(columns={'  userID': 'user_id', 'Track': 'track', '  City  ': 'city', 'Day': 'day'})\n",
    "#df = df.rename(columns={'  userID' : 'user_id', 'Track' : 'track', '  City  ' : 'city', 'Day' : 'day'}) "
   ]
  },
  {
   "cell_type": "markdown",
   "metadata": {},
   "source": [
    "<font color='blue'><b>Комментарий ревьюера: </b></font> ✔️\\\n",
    "<font color='green'>Хороший выбор метода - rename сработает без ошибок, даже если изменится порядок столбцов."
   ]
  },
  {
   "cell_type": "markdown",
   "metadata": {
    "id": "1dqbh00J_Zct"
   },
   "source": [
    "Проверьте результат. Для этого ещё раз выведите на экран названия столбцов:"
   ]
  },
  {
   "cell_type": "code",
   "execution_count": 12,
   "metadata": {
    "id": "d4NOAmTW_Zct"
   },
   "outputs": [
    {
     "data": {
      "text/plain": [
       "Index(['user_id', 'track', 'artist', 'genre', 'city', 'time', 'day'], dtype='object')"
      ]
     },
     "execution_count": 12,
     "metadata": {},
     "output_type": "execute_result"
    }
   ],
   "source": [
    "# проверка результатов - перечень названий столбцов\n",
    "\n",
    "df.columns "
   ]
  },
  {
   "cell_type": "markdown",
   "metadata": {
    "id": "5ISfbcfY_Zct"
   },
   "source": [
    "### Пропуски значений\n",
    "Сначала посчитайте, сколько в таблице пропущенных значений. Для этого достаточно двух методов `pandas`:"
   ]
  },
  {
   "cell_type": "code",
   "execution_count": 13,
   "metadata": {
    "id": "RskX29qr_Zct"
   },
   "outputs": [
    {
     "data": {
      "text/plain": [
       "user_id       0\n",
       "track      1231\n",
       "artist     7203\n",
       "genre      1198\n",
       "city          0\n",
       "time          0\n",
       "day           0\n",
       "dtype: int64"
      ]
     },
     "execution_count": 13,
     "metadata": {},
     "output_type": "execute_result"
    }
   ],
   "source": [
    "# подсчёт пропусков\n",
    "\n",
    "df.isna().sum() "
   ]
  },
  {
   "cell_type": "markdown",
   "metadata": {},
   "source": [
    "<font color='blue'><b>Комментарий ревьюера: </b></font> ✔️\\\n",
    "<font color='green'>Выбран метод isna() для нахождения пропущенных значений, это отлично! На самом деле, isnull() и isna() делают одно и то же, но использование isna() предпочтительнее."
   ]
  },
  {
   "cell_type": "markdown",
   "metadata": {
    "id": "qubhgnlO_Zct"
   },
   "source": [
    "Не все пропущенные значения влияют на исследование. Так в `track` и `artist` пропуски не важны для вашей работы. Достаточно заменить их явными обозначениями.\n",
    "\n",
    "Но пропуски в `genre` могут помешать сравнению музыкальных вкусов в Москве и Санкт-Петербурге. На практике было бы правильно установить причину пропусков и восстановить данные. Такой возможности нет в учебном проекте. Придётся:\n",
    "* заполнить и эти пропуски явными обозначениями,\n",
    "* оценить, насколько они повредят расчётам. "
   ]
  },
  {
   "cell_type": "markdown",
   "metadata": {
    "id": "fSv2laPA_Zct"
   },
   "source": [
    "Замените пропущенные значения в столбцах `track`, `artist` и `genre` на строку `'unknown'`. Для этого создайте список `columns_to_replace`, переберите его элементы циклом `for` и для каждого столбца выполните замену пропущенных значений:"
   ]
  },
  {
   "cell_type": "code",
   "execution_count": 14,
   "metadata": {
    "id": "KplB5qWs_Zct"
   },
   "outputs": [],
   "source": [
    "# перебор названий столбцов в цикле и замена пропущенных значений на 'unknown'\n",
    "\n",
    "columns_to_replace = ['track', 'artist', 'genre'] \n",
    "for column in columns_to_replace:\n",
    "    df[column] = df[column].fillna(\"unknown\")"
   ]
  },
  {
   "cell_type": "markdown",
   "metadata": {},
   "source": [
    "<font color='blue'><b>Комментарий ревьюера: </b></font> ✔️\\\n",
    "<font color='green'>Список columns_to_replace сформирован верно, цикл отработал без ошибок."
   ]
  },
  {
   "cell_type": "markdown",
   "metadata": {
    "id": "Ilsm-MZo_Zct"
   },
   "source": [
    "Убедитесь, что в таблице не осталось пропусков. Для этого ещё раз посчитайте пропущенные значения."
   ]
  },
  {
   "cell_type": "code",
   "execution_count": 15,
   "metadata": {
    "id": "Tq4nYRX4_Zct"
   },
   "outputs": [
    {
     "data": {
      "text/plain": [
       "user_id    0\n",
       "track      0\n",
       "artist     0\n",
       "genre      0\n",
       "city       0\n",
       "time       0\n",
       "day        0\n",
       "dtype: int64"
      ]
     },
     "execution_count": 15,
     "metadata": {},
     "output_type": "execute_result"
    }
   ],
   "source": [
    "# подсчёт пропусков\n",
    "\n",
    "df.isna().sum() "
   ]
  },
  {
   "cell_type": "markdown",
   "metadata": {},
   "source": [
    "<font color='blue'><b>Комментарий ревьюера: </b></font> ✔️\\\n",
    "<font color='green'>Пропусков нет!"
   ]
  },
  {
   "cell_type": "markdown",
   "metadata": {
    "id": "BWKRtBJ3_Zct"
   },
   "source": [
    "### Дубликаты\n",
    "Посчитайте явные дубликаты в таблице одной командой:"
   ]
  },
  {
   "cell_type": "code",
   "execution_count": 16,
   "metadata": {
    "id": "36eES_S0_Zct"
   },
   "outputs": [
    {
     "data": {
      "text/plain": [
       "3826"
      ]
     },
     "execution_count": 16,
     "metadata": {},
     "output_type": "execute_result"
    }
   ],
   "source": [
    "# подсчёт явных дубликатов\n",
    "\n",
    "df.duplicated().sum()"
   ]
  },
  {
   "cell_type": "markdown",
   "metadata": {},
   "source": [
    "<font color='blue'><b>Комментарий ревьюера: </b></font> ✔️\\\n",
    "<font color='green'>Дубликаты верно найдены и посчитаны оптимальными методами."
   ]
  },
  {
   "cell_type": "markdown",
   "metadata": {
    "id": "Ot25h6XR_Zct"
   },
   "source": [
    "Вызовите специальный метод `pandas`, чтобы удалить явные дубликаты:"
   ]
  },
  {
   "cell_type": "code",
   "execution_count": 17,
   "metadata": {
    "id": "exFHq6tt_Zct"
   },
   "outputs": [],
   "source": [
    "# удаление явных дубликатов (с удалением старых индексов и формированием новых)\n",
    "\n",
    "df = df.drop_duplicates().reset_index(drop=True)"
   ]
  },
  {
   "cell_type": "markdown",
   "metadata": {},
   "source": [
    "<font color='blue'><b>Комментарий ревьюера: </b></font> ✔️\\\n",
    "<font color='green'>Отлично! И индексы обновились!"
   ]
  },
  {
   "cell_type": "markdown",
   "metadata": {
    "id": "Im2YwBEG_Zct"
   },
   "source": [
    "Ещё раз посчитайте явные дубликаты в таблице — убедитесь, что полностью от них избавились:"
   ]
  },
  {
   "cell_type": "code",
   "execution_count": 18,
   "metadata": {
    "id": "-8PuNWQ0_Zct"
   },
   "outputs": [
    {
     "data": {
      "text/plain": [
       "0"
      ]
     },
     "execution_count": 18,
     "metadata": {},
     "output_type": "execute_result"
    }
   ],
   "source": [
    "# проверка на отсутствие дубликатов\n",
    "\n",
    "df.duplicated().sum() "
   ]
  },
  {
   "cell_type": "markdown",
   "metadata": {},
   "source": [
    "<font color='blue'><b>Комментарий ревьюера: </b></font> ✔️\\\n",
    "<font color='green'>Нет явных дубликатов."
   ]
  },
  {
   "cell_type": "markdown",
   "metadata": {
    "id": "QlFBsxAr_Zct"
   },
   "source": [
    "Теперь избавьтесь от неявных дубликатов в колонке `genre`. Например, название одного и того же жанра может быть записано немного по-разному. Такие ошибки тоже повлияют на результат исследования."
   ]
  },
  {
   "cell_type": "markdown",
   "metadata": {
    "id": "eSjWwsOh_Zct"
   },
   "source": [
    "Выведите на экран список уникальных названий жанров, отсортированный в алфавитном порядке. Для этого:\n",
    "* извлеките нужный столбец датафрейма, \n",
    "* примените к нему метод сортировки,\n",
    "* для отсортированного столбца вызовите метод, который вернёт уникальные значения из столбца."
   ]
  },
  {
   "cell_type": "code",
   "execution_count": 19,
   "metadata": {
    "id": "JIUcqzZN_Zct"
   },
   "outputs": [
    {
     "data": {
      "text/plain": [
       "array(['acid', 'acoustic', 'action', 'adult', 'africa', 'afrikaans',\n",
       "       'alternative', 'alternativepunk', 'ambient', 'americana',\n",
       "       'animated', 'anime', 'arabesk', 'arabic', 'arena',\n",
       "       'argentinetango', 'art', 'audiobook', 'author', 'avantgarde',\n",
       "       'axé', 'baile', 'balkan', 'beats', 'bigroom', 'black', 'bluegrass',\n",
       "       'blues', 'bollywood', 'bossa', 'brazilian', 'breakbeat', 'breaks',\n",
       "       'broadway', 'cantautori', 'cantopop', 'canzone', 'caribbean',\n",
       "       'caucasian', 'celtic', 'chamber', 'chanson', 'children', 'chill',\n",
       "       'chinese', 'choral', 'christian', 'christmas', 'classical',\n",
       "       'classicmetal', 'club', 'colombian', 'comedy', 'conjazz',\n",
       "       'contemporary', 'country', 'cuban', 'dance', 'dancehall',\n",
       "       'dancepop', 'dark', 'death', 'deep', 'deutschrock', 'deutschspr',\n",
       "       'dirty', 'disco', 'dnb', 'documentary', 'downbeat', 'downtempo',\n",
       "       'drum', 'dub', 'dubstep', 'eastern', 'easy', 'electronic',\n",
       "       'electropop', 'emo', 'entehno', 'epicmetal', 'estrada', 'ethnic',\n",
       "       'eurofolk', 'european', 'experimental', 'extrememetal', 'fado',\n",
       "       'fairytail', 'film', 'fitness', 'flamenco', 'folk', 'folklore',\n",
       "       'folkmetal', 'folkrock', 'folktronica', 'forró', 'frankreich',\n",
       "       'französisch', 'french', 'funk', 'future', 'gangsta', 'garage',\n",
       "       'german', 'ghazal', 'gitarre', 'glitch', 'gospel', 'gothic',\n",
       "       'grime', 'grunge', 'gypsy', 'handsup', \"hard'n'heavy\", 'hardcore',\n",
       "       'hardstyle', 'hardtechno', 'hip', 'hip-hop', 'hiphop',\n",
       "       'historisch', 'holiday', 'hop', 'horror', 'house', 'hymn', 'idm',\n",
       "       'independent', 'indian', 'indie', 'indipop', 'industrial',\n",
       "       'inspirational', 'instrumental', 'international', 'irish', 'jam',\n",
       "       'japanese', 'jazz', 'jewish', 'jpop', 'jungle', 'k-pop',\n",
       "       'karadeniz', 'karaoke', 'kayokyoku', 'korean', 'laiko', 'latin',\n",
       "       'latino', 'leftfield', 'local', 'lounge', 'loungeelectronic',\n",
       "       'lovers', 'malaysian', 'mandopop', 'marschmusik', 'meditative',\n",
       "       'mediterranean', 'melodic', 'metal', 'metalcore', 'mexican',\n",
       "       'middle', 'minimal', 'miscellaneous', 'modern', 'mood', 'mpb',\n",
       "       'muslim', 'native', 'neoklassik', 'neue', 'new', 'newage',\n",
       "       'newwave', 'nu', 'nujazz', 'numetal', 'oceania', 'old', 'opera',\n",
       "       'orchestral', 'other', 'piano', 'podcasts', 'pop', 'popdance',\n",
       "       'popelectronic', 'popeurodance', 'poprussian', 'post',\n",
       "       'posthardcore', 'postrock', 'power', 'progmetal', 'progressive',\n",
       "       'psychedelic', 'punjabi', 'punk', 'quebecois', 'ragga', 'ram',\n",
       "       'rancheras', 'rap', 'rave', 'reggae', 'reggaeton', 'regional',\n",
       "       'relax', 'religious', 'retro', 'rhythm', 'rnb', 'rnr', 'rock',\n",
       "       'rockabilly', 'rockalternative', 'rockindie', 'rockother',\n",
       "       'romance', 'roots', 'ruspop', 'rusrap', 'rusrock', 'russian',\n",
       "       'salsa', 'samba', 'scenic', 'schlager', 'self', 'sertanejo',\n",
       "       'shanson', 'shoegazing', 'showtunes', 'singer', 'ska', 'skarock',\n",
       "       'slow', 'smooth', 'soft', 'soul', 'soulful', 'sound', 'soundtrack',\n",
       "       'southern', 'specialty', 'speech', 'spiritual', 'sport',\n",
       "       'stonerrock', 'surf', 'swing', 'synthpop', 'synthrock',\n",
       "       'sängerportrait', 'tango', 'tanzorchester', 'taraftar', 'tatar',\n",
       "       'tech', 'techno', 'teen', 'thrash', 'top', 'traditional',\n",
       "       'tradjazz', 'trance', 'tribal', 'trip', 'triphop', 'tropical',\n",
       "       'türk', 'türkçe', 'ukrrock', 'unknown', 'urban', 'uzbek',\n",
       "       'variété', 'vi', 'videogame', 'vocal', 'western', 'world',\n",
       "       'worldbeat', 'ïîï', 'электроника'], dtype=object)"
      ]
     },
     "execution_count": 19,
     "metadata": {},
     "output_type": "execute_result"
    }
   ],
   "source": [
    "# Просмотр уникальных названий жанров\n",
    "\n",
    "#(sorted(df[\"genre\"].unique()))\n",
    "df['genre'].sort_values().unique()"
   ]
  },
  {
   "cell_type": "markdown",
   "metadata": {},
   "source": [
    "<font color='purple'><b>Спасибо большое постараюсь запомнить на будущее</b></font>\n",
    "\n",
    "<font color='blue'><b>Комментарий ревьюера: </b></font> ⚠️\\\n",
    "<font color='orange'>Список с названиями жанров отсортирован успешно. Но если нужно отсортировать датафрейм, то можно использовать метод sort_values(): df['genre'].sort_values().unique()"
   ]
  },
  {
   "cell_type": "markdown",
   "metadata": {},
   "source": [
    "<font color='blue'><b>Комментарий ревьюера 2: </b></font> ✔️\\\n",
    "<font color='green'>  👍"
   ]
  },
  {
   "cell_type": "markdown",
   "metadata": {
    "id": "qej-Qmuo_Zct"
   },
   "source": [
    "Просмотрите список и найдите неявные дубликаты названия `hiphop`. Это могут быть названия с ошибками или альтернативные названия того же жанра.\n",
    "\n",
    "Вы увидите следующие неявные дубликаты:\n",
    "* *hip*,\n",
    "* *hop*,\n",
    "* *hip-hop*.\n",
    "\n",
    "Чтобы очистить от них таблицу, напишите функцию `replace_wrong_genres()` с двумя параметрами: \n",
    "* `wrong_genres` — список дубликатов,\n",
    "* `correct_genre` — строка с правильным значением.\n",
    "\n",
    "Функция должна исправить колонку `genre` в таблице `df`: заменить каждое значение из списка `wrong_genres` на значение из `correct_genre`."
   ]
  },
  {
   "cell_type": "code",
   "execution_count": 20,
   "metadata": {
    "id": "ErNDkmns_Zct"
   },
   "outputs": [],
   "source": [
    "# Функция для замены неявных дубликатов\n",
    "\n",
    "def replace_wrong_genres(wrong_genres, correct_genre):\n",
    "    for wrong in wrong_genres:\n",
    "        df[\"genre\"] = df[\"genre\"].replace(wrong, correct_genre)"
   ]
  },
  {
   "cell_type": "markdown",
   "metadata": {},
   "source": [
    "<font color='blue'><b>Комментарий ревьюера: </b></font> ✔️\\\n",
    "<font color='green'>Функция написана верно! Метод replace оптимален."
   ]
  },
  {
   "cell_type": "markdown",
   "metadata": {
    "id": "aDoBJxbA_Zct"
   },
   "source": [
    "Вызовите `replace_wrong_genres()` и передайте ей такие аргументы, чтобы она устранила неявные дубликаты: вместо `hip`, `hop` и `hip-hop` в таблице должно быть значение `hiphop`:"
   ]
  },
  {
   "cell_type": "code",
   "execution_count": 21,
   "metadata": {
    "id": "YN5i2hpmSo09"
   },
   "outputs": [],
   "source": [
    "# Устранение неявных дубликатов\n",
    "\n",
    "wrong = [\"hip\", \"hop\", \"hip-hop\"]\n",
    "replace_wrong_genres(wrong, \"hiphop\") "
   ]
  },
  {
   "cell_type": "markdown",
   "metadata": {
    "id": "zQKF16_RG15m"
   },
   "source": [
    "Проверьте, что заменили неправильные названия:\n",
    "\n",
    "*   hip\n",
    "*   hop\n",
    "*   hip-hop\n",
    "\n",
    "Выведите отсортированный список уникальных значений столбца `genre`:"
   ]
  },
  {
   "cell_type": "code",
   "execution_count": 22,
   "metadata": {
    "id": "wvixALnFG15m"
   },
   "outputs": [
    {
     "data": {
      "text/plain": [
       "array(['acid', 'acoustic', 'action', 'adult', 'africa', 'afrikaans',\n",
       "       'alternative', 'alternativepunk', 'ambient', 'americana',\n",
       "       'animated', 'anime', 'arabesk', 'arabic', 'arena',\n",
       "       'argentinetango', 'art', 'audiobook', 'author', 'avantgarde',\n",
       "       'axé', 'baile', 'balkan', 'beats', 'bigroom', 'black', 'bluegrass',\n",
       "       'blues', 'bollywood', 'bossa', 'brazilian', 'breakbeat', 'breaks',\n",
       "       'broadway', 'cantautori', 'cantopop', 'canzone', 'caribbean',\n",
       "       'caucasian', 'celtic', 'chamber', 'chanson', 'children', 'chill',\n",
       "       'chinese', 'choral', 'christian', 'christmas', 'classical',\n",
       "       'classicmetal', 'club', 'colombian', 'comedy', 'conjazz',\n",
       "       'contemporary', 'country', 'cuban', 'dance', 'dancehall',\n",
       "       'dancepop', 'dark', 'death', 'deep', 'deutschrock', 'deutschspr',\n",
       "       'dirty', 'disco', 'dnb', 'documentary', 'downbeat', 'downtempo',\n",
       "       'drum', 'dub', 'dubstep', 'eastern', 'easy', 'electronic',\n",
       "       'electropop', 'emo', 'entehno', 'epicmetal', 'estrada', 'ethnic',\n",
       "       'eurofolk', 'european', 'experimental', 'extrememetal', 'fado',\n",
       "       'fairytail', 'film', 'fitness', 'flamenco', 'folk', 'folklore',\n",
       "       'folkmetal', 'folkrock', 'folktronica', 'forró', 'frankreich',\n",
       "       'französisch', 'french', 'funk', 'future', 'gangsta', 'garage',\n",
       "       'german', 'ghazal', 'gitarre', 'glitch', 'gospel', 'gothic',\n",
       "       'grime', 'grunge', 'gypsy', 'handsup', \"hard'n'heavy\", 'hardcore',\n",
       "       'hardstyle', 'hardtechno', 'hiphop', 'historisch', 'holiday',\n",
       "       'horror', 'house', 'hymn', 'idm', 'independent', 'indian', 'indie',\n",
       "       'indipop', 'industrial', 'inspirational', 'instrumental',\n",
       "       'international', 'irish', 'jam', 'japanese', 'jazz', 'jewish',\n",
       "       'jpop', 'jungle', 'k-pop', 'karadeniz', 'karaoke', 'kayokyoku',\n",
       "       'korean', 'laiko', 'latin', 'latino', 'leftfield', 'local',\n",
       "       'lounge', 'loungeelectronic', 'lovers', 'malaysian', 'mandopop',\n",
       "       'marschmusik', 'meditative', 'mediterranean', 'melodic', 'metal',\n",
       "       'metalcore', 'mexican', 'middle', 'minimal', 'miscellaneous',\n",
       "       'modern', 'mood', 'mpb', 'muslim', 'native', 'neoklassik', 'neue',\n",
       "       'new', 'newage', 'newwave', 'nu', 'nujazz', 'numetal', 'oceania',\n",
       "       'old', 'opera', 'orchestral', 'other', 'piano', 'podcasts', 'pop',\n",
       "       'popdance', 'popelectronic', 'popeurodance', 'poprussian', 'post',\n",
       "       'posthardcore', 'postrock', 'power', 'progmetal', 'progressive',\n",
       "       'psychedelic', 'punjabi', 'punk', 'quebecois', 'ragga', 'ram',\n",
       "       'rancheras', 'rap', 'rave', 'reggae', 'reggaeton', 'regional',\n",
       "       'relax', 'religious', 'retro', 'rhythm', 'rnb', 'rnr', 'rock',\n",
       "       'rockabilly', 'rockalternative', 'rockindie', 'rockother',\n",
       "       'romance', 'roots', 'ruspop', 'rusrap', 'rusrock', 'russian',\n",
       "       'salsa', 'samba', 'scenic', 'schlager', 'self', 'sertanejo',\n",
       "       'shanson', 'shoegazing', 'showtunes', 'singer', 'ska', 'skarock',\n",
       "       'slow', 'smooth', 'soft', 'soul', 'soulful', 'sound', 'soundtrack',\n",
       "       'southern', 'specialty', 'speech', 'spiritual', 'sport',\n",
       "       'stonerrock', 'surf', 'swing', 'synthpop', 'synthrock',\n",
       "       'sängerportrait', 'tango', 'tanzorchester', 'taraftar', 'tatar',\n",
       "       'tech', 'techno', 'teen', 'thrash', 'top', 'traditional',\n",
       "       'tradjazz', 'trance', 'tribal', 'trip', 'triphop', 'tropical',\n",
       "       'türk', 'türkçe', 'ukrrock', 'unknown', 'urban', 'uzbek',\n",
       "       'variété', 'vi', 'videogame', 'vocal', 'western', 'world',\n",
       "       'worldbeat', 'ïîï', 'электроника'], dtype=object)"
      ]
     },
     "execution_count": 22,
     "metadata": {},
     "output_type": "execute_result"
    }
   ],
   "source": [
    "# Проверка на неявные дубликаты\n",
    "\n",
    "df['genre'].sort_values().unique()"
   ]
  },
  {
   "cell_type": "markdown",
   "metadata": {},
   "source": [
    "<font color='blue'><b>Комментарий ревьюера: </b></font> ✔️\\\n",
    "<font color='green'>Неявных дубликатов не осталось. (возможно, кроме 'electronic' и 'электроника' :)"
   ]
  },
  {
   "cell_type": "markdown",
   "metadata": {
    "id": "jz6a9-7HQUDd"
   },
   "source": [
    "**Выводы**\n",
    "\n",
    "Предобработка обнаружила три проблемы в данных:\n",
    "\n",
    "- нарушения в стиле заголовков,\n",
    "- пропущенные значения,\n",
    "- дубликаты — явные и неявные.\n",
    "\n",
    "Вы исправили заголовки, чтобы упростить работу с таблицей. Без дубликатов исследование станет более точным.\n",
    "\n",
    "Пропущенные значения вы заменили на `'unknown'`. Ещё предстоит увидеть, не повредят ли исследованию пропуски в колонке `genre`.\n",
    "\n",
    "Теперь можно перейти к проверке гипотез. "
   ]
  },
  {
   "cell_type": "markdown",
   "metadata": {
    "id": "WttZHXH0SqKk"
   },
   "source": [
    "## Проверка гипотез"
   ]
  },
  {
   "cell_type": "markdown",
   "metadata": {
    "id": "Im936VVi_Zcu"
   },
   "source": [
    "### Сравнение поведения пользователей двух столиц"
   ]
  },
  {
   "cell_type": "markdown",
   "metadata": {
    "id": "nwt_MuaL_Zcu"
   },
   "source": [
    "Первая гипотеза утверждает, что пользователи по-разному слушают музыку в Москве и Санкт-Петербурге. Проверьте это предположение по данным о трёх днях недели — понедельнике, среде и пятнице. Для этого:\n",
    "\n",
    "* Разделите пользователей Москвы и Санкт-Петербурга\n",
    "* Сравните, сколько треков послушала каждая группа пользователей в понедельник, среду и пятницу.\n"
   ]
  },
  {
   "cell_type": "markdown",
   "metadata": {
    "id": "8Dw_YMmT_Zcu"
   },
   "source": [
    "Для тренировки сначала выполните каждый из расчётов по отдельности. \n",
    "\n",
    "Оцените активность пользователей в каждом городе. Сгруппируйте данные по городу и посчитайте прослушивания в каждой группе.\n",
    "\n"
   ]
  },
  {
   "cell_type": "code",
   "execution_count": 23,
   "metadata": {
    "id": "0_Qs96oh_Zcu"
   },
   "outputs": [
    {
     "name": "stdout",
     "output_type": "stream",
     "text": [
      "city\n",
      "Moscow              42741\n",
      "Saint-Petersburg    18512\n"
     ]
    }
   ],
   "source": [
    "# Подсчёт прослушиваний в каждом городе\n",
    "\n",
    "group_by_city = df.groupby(\"city\")[\"user_id\"].count() \n",
    "print(group_by_city.to_string())"
   ]
  },
  {
   "cell_type": "markdown",
   "metadata": {},
   "source": [
    "<font color='purple'><b>Исправил но смущает последняя строка *Name: user_id, dtype: int64*, от нее можно избавиться?</b></font>\n",
    "\n",
    "<font color='blue'><b>Комментарий ревьюера: </b></font> ❌\\\n",
    "<font color='red'> Между группировкой по столбцу city и вызовом метода count() нужно выбрать какой-нибудь из столбцов получившегося сгруппированного объекта, иначе в итоговой таблице будет несколько одинаковых столбцов."
   ]
  },
  {
   "cell_type": "markdown",
   "metadata": {},
   "source": [
    "<font color='blue'><b>Комментарий ревьюера 2: </b></font> ✔️\\\n",
    "<font color='blue'> Эта строчка элемент класса Series. Можно конвертировать в другой класс. print нужен чтобы спецсимволы отработали."
   ]
  },
  {
   "cell_type": "markdown",
   "metadata": {
    "id": "dzli3w8o_Zcu"
   },
   "source": [
    "В Москве прослушиваний больше, чем в Петербурге. Из этого не следует, что московские пользователи чаще слушают музыку. Просто самих пользователей в Москве больше.\n",
    "\n",
    "Теперь сгруппируйте данные по дню недели и подсчитайте прослушивания в понедельник, среду и пятницу. Учтите, что в данных есть информация только о прослушиваниях только за эти дни.\n"
   ]
  },
  {
   "cell_type": "code",
   "execution_count": 24,
   "metadata": {
    "id": "uZMKjiJz_Zcu"
   },
   "outputs": [
    {
     "name": "stdout",
     "output_type": "stream",
     "text": [
      "day\n",
      "Friday       21840\n",
      "Monday       21354\n",
      "Wednesday    18059\n"
     ]
    }
   ],
   "source": [
    "# Подсчёт прослушиваний в каждый из трёх дней\n",
    "\n",
    "group_by_day = df.groupby(\"day\")[\"user_id\"].count()\n",
    "print(group_by_day.to_string())"
   ]
  },
  {
   "cell_type": "markdown",
   "metadata": {},
   "source": [
    "<font color='blue'><b>Комментарий ревьюера: </b></font> ❌\\\n",
    "<font color='red'> То же, что и в группировке по городам"
   ]
  },
  {
   "cell_type": "markdown",
   "metadata": {},
   "source": [
    "<font color='blue'><b>Комментарий ревьюера 2: </b></font> ✔️\\\n",
    "<font color='green'> Отлично!  Избавились от лишнего на экране."
   ]
  },
  {
   "cell_type": "markdown",
   "metadata": {
    "id": "cC2tNrlL_Zcu"
   },
   "source": [
    "В среднем пользователи из двух городов менее активны по средам. Но картина может измениться, если рассмотреть каждый город в отдельности."
   ]
  },
  {
   "cell_type": "markdown",
   "metadata": {
    "id": "POzs8bGa_Zcu"
   },
   "source": [
    "Вы видели, как работает группировка по городу и по дням недели. Теперь напишите функцию, которая объединит два эти расчёта.\n",
    "\n",
    "Создайте функцию `number_tracks()`, которая посчитает прослушивания для заданного дня и города. Ей понадобятся два параметра:\n",
    "* день недели,\n",
    "* название города.\n",
    "\n",
    "В функции сохраните в переменную строки исходной таблицы, у которых значение:\n",
    "  * в колонке `day` равно параметру `day`,\n",
    "  * в колонке `city` равно параметру `city`.\n",
    "\n",
    "Для этого примените последовательную фильтрацию с логической индексацией.\n",
    "\n",
    "Затем посчитайте значения в столбце `user_id` получившейся таблицы. Результат сохраните в новую переменную. Верните эту переменную из функции."
   ]
  },
  {
   "cell_type": "code",
   "execution_count": 25,
   "metadata": {
    "id": "Nz3GdQB1_Zcu"
   },
   "outputs": [],
   "source": [
    "def number_tracks(city, day):\n",
    "    track = df[df[\"day\"] == day]\n",
    "    track_list = track[track[\"city\"] == city]\n",
    "    track_list_count = track_list[\"user_id\"].count()\n",
    "    return (track_list_count)\n",
    "# Объявляется функция с двумя параметрами: day, city.\n",
    "# В переменной track_list сохраняются те строки таблицы df, для которых \n",
    "# значение в столбце 'day' равно параметру day и одновременно значение\n",
    "# в столбце 'city' равно параметру city (используйте последовательную фильтрацию\n",
    "# с помощью логической индексации).\n",
    "# В переменной track_list_count сохраняется число значений столбца 'user_id',\n",
    "# рассчитанное методом count() для таблицы track_list.\n",
    "# Функция возвращает число - значение track_list_count.\n",
    "\n",
    "\n",
    "# Функция для подсчёта прослушиваний для конкретного города и дня.\n",
    "# С помощью последовательной фильтрации с логической индексацией она \n",
    "# сначала получит из исходной таблицы строки с нужным днём,\n",
    "# затем из результата отфильтрует строки с нужным городом,\n",
    "# методом count() посчитает количество значений в колонке user_id. \n",
    "# Это количество функция вернёт в качестве результата"
   ]
  },
  {
   "cell_type": "markdown",
   "metadata": {},
   "source": [
    "<font color='blue'><b>Комментарий ревьюера: </b></font> ✔️\\\n",
    "<font color='green'>Твоя функция полностью выполняет свои задачи."
   ]
  },
  {
   "cell_type": "markdown",
   "metadata": {
    "id": "ytf7xFrFJQ2r"
   },
   "source": [
    "Вызовите `number_tracks()` шесть раз, меняя значение параметров — так, чтобы получить данные для каждого города в каждый из трёх дней."
   ]
  },
  {
   "cell_type": "code",
   "execution_count": 26,
   "metadata": {
    "id": "rJcRATNQ_Zcu"
   },
   "outputs": [
    {
     "name": "stdout",
     "output_type": "stream",
     "text": [
      "15740\n"
     ]
    }
   ],
   "source": [
    "# количество прослушиваний в Москве по понедельникам\n",
    "\n",
    "print (number_tracks (\"Moscow\", \"Monday\"))"
   ]
  },
  {
   "cell_type": "code",
   "execution_count": 27,
   "metadata": {
    "id": "hq_ncZ5T_Zcu"
   },
   "outputs": [
    {
     "name": "stdout",
     "output_type": "stream",
     "text": [
      "5614\n"
     ]
    }
   ],
   "source": [
    "# количество прослушиваний в Санкт-Петербурге по понедельникам\n",
    "\n",
    "print (number_tracks (\"Saint-Petersburg\", \"Monday\"))"
   ]
  },
  {
   "cell_type": "code",
   "execution_count": 28,
   "metadata": {
    "id": "_NTy2VPU_Zcu"
   },
   "outputs": [
    {
     "name": "stdout",
     "output_type": "stream",
     "text": [
      "11056\n"
     ]
    }
   ],
   "source": [
    "# количество прослушиваний в Москве по средам\n",
    "\n",
    "print (number_tracks (\"Moscow\", \"Wednesday\"))"
   ]
  },
  {
   "cell_type": "code",
   "execution_count": 29,
   "metadata": {
    "id": "j2y3TAwo_Zcu"
   },
   "outputs": [
    {
     "name": "stdout",
     "output_type": "stream",
     "text": [
      "7003\n"
     ]
    }
   ],
   "source": [
    "# количество прослушиваний в Санкт-Петербурге по средам\n",
    "\n",
    "print (number_tracks (\"Saint-Petersburg\", \"Wednesday\"))"
   ]
  },
  {
   "cell_type": "code",
   "execution_count": 30,
   "metadata": {
    "id": "vYDw5u_K_Zcu"
   },
   "outputs": [
    {
     "name": "stdout",
     "output_type": "stream",
     "text": [
      "15945\n"
     ]
    }
   ],
   "source": [
    "# количество прослушиваний в Москве по пятницам\n",
    "\n",
    "print (number_tracks (\"Moscow\", \"Friday\"))"
   ]
  },
  {
   "cell_type": "code",
   "execution_count": 31,
   "metadata": {
    "id": "8_yzFtW3_Zcu"
   },
   "outputs": [
    {
     "name": "stdout",
     "output_type": "stream",
     "text": [
      "5895\n"
     ]
    }
   ],
   "source": [
    "# количество прослушиваний в Санкт-Петербурге по пятницам\n",
    "\n",
    "print (number_tracks (\"Saint-Petersburg\", \"Friday\"))"
   ]
  },
  {
   "cell_type": "markdown",
   "metadata": {
    "id": "7QXffbO-_Zcu"
   },
   "source": [
    "Создайте c помощью конструктора `pd.DataFrame` таблицу, где\n",
    "* названия колонок — `['city', 'monday', 'wednesday', 'friday']`;\n",
    "* данные — результаты, которые вы получили с помощью `number_tracks`."
   ]
  },
  {
   "cell_type": "code",
   "execution_count": 32,
   "metadata": {
    "id": "APAcLpOr_Zcu"
   },
   "outputs": [
    {
     "data": {
      "text/html": [
       "<div>\n",
       "<style scoped>\n",
       "    .dataframe tbody tr th:only-of-type {\n",
       "        vertical-align: middle;\n",
       "    }\n",
       "\n",
       "    .dataframe tbody tr th {\n",
       "        vertical-align: top;\n",
       "    }\n",
       "\n",
       "    .dataframe thead th {\n",
       "        text-align: right;\n",
       "    }\n",
       "</style>\n",
       "<table border=\"1\" class=\"dataframe\">\n",
       "  <thead>\n",
       "    <tr style=\"text-align: right;\">\n",
       "      <th></th>\n",
       "      <th>city</th>\n",
       "      <th>monday</th>\n",
       "      <th>wednesday</th>\n",
       "      <th>friday</th>\n",
       "    </tr>\n",
       "  </thead>\n",
       "  <tbody>\n",
       "    <tr>\n",
       "      <th>0</th>\n",
       "      <td>Moscow</td>\n",
       "      <td>15740</td>\n",
       "      <td>11056</td>\n",
       "      <td>15945</td>\n",
       "    </tr>\n",
       "    <tr>\n",
       "      <th>1</th>\n",
       "      <td>Saint-Petersburg</td>\n",
       "      <td>5614</td>\n",
       "      <td>7003</td>\n",
       "      <td>5895</td>\n",
       "    </tr>\n",
       "  </tbody>\n",
       "</table>\n",
       "</div>"
      ],
      "text/plain": [
       "               city  monday  wednesday  friday\n",
       "0            Moscow   15740      11056   15945\n",
       "1  Saint-Petersburg    5614       7003    5895"
      ]
     },
     "metadata": {},
     "output_type": "display_data"
    }
   ],
   "source": [
    "# Таблица с результатами\n",
    "\n",
    "columns = ['city', 'monday', 'wednesday', 'friday'] \n",
    "data = [[\"Moscow\", 15740, 11056, 15945],\n",
    "        [\"Saint-Petersburg\", 5614, 7003, 5895]]\n",
    "results_by_cities_and_days = pd.DataFrame(data=data, columns=columns)\n",
    "display (results_by_cities_and_days)"
   ]
  },
  {
   "cell_type": "markdown",
   "metadata": {},
   "source": [
    "<font color='blue'><b>Комментарий ревьюера: </b></font> ✔️\\\n",
    "<font color='green'>В таблице наглядней!"
   ]
  },
  {
   "cell_type": "markdown",
   "metadata": {
    "id": "-EgPIHYu_Zcu"
   },
   "source": [
    "**Выводы**\n",
    "\n",
    "Данные показывают разницу поведения пользователей:\n",
    "\n",
    "- В Москве пик прослушиваний приходится на понедельник и пятницу, а в среду заметен спад.\n",
    "- В Петербурге, наоборот, больше слушают музыку по средам. Активность в понедельник и пятницу здесь почти в равной мере уступает среде.\n",
    "\n",
    "Значит, данные говорят в пользу первой гипотезы."
   ]
  },
  {
   "cell_type": "markdown",
   "metadata": {
    "id": "atZAxtq4_Zcu"
   },
   "source": [
    "### Музыка в начале и в конце недели"
   ]
  },
  {
   "cell_type": "markdown",
   "metadata": {
    "id": "eXrQqXFH_Zcu"
   },
   "source": [
    "Согласно второй гипотезе, утром в понедельник в Москве преобладают одни жанры, а в Петербурге — другие. Так же и вечером пятницы преобладают разные жанры — в зависимости от города."
   ]
  },
  {
   "cell_type": "markdown",
   "metadata": {
    "id": "S8UcW6Hw_Zcu"
   },
   "source": [
    "Сохраните таблицы с данными в две переменные:\n",
    "* по Москве — в `moscow_general`;\n",
    "* по Санкт-Петербургу — в `spb_general`."
   ]
  },
  {
   "cell_type": "code",
   "execution_count": 33,
   "metadata": {
    "id": "qeaFfM_P_Zcu"
   },
   "outputs": [],
   "source": [
    "# получение таблицы moscow_general из тех строк таблицы df, \n",
    "# для которых значение в столбце 'city' равно 'Moscow'\n",
    "\n",
    "moscow_general = df[df[\"city\"] == \"Moscow\"]"
   ]
  },
  {
   "cell_type": "code",
   "execution_count": 34,
   "metadata": {
    "id": "ORaVRKto_Zcu"
   },
   "outputs": [],
   "source": [
    "# получение таблицы spb_general из тех строк таблицы df,\n",
    "# для которых значение в столбце 'city' равно 'Saint-Petersburg'\n",
    "\n",
    "spb_general = df[df[\"city\"] == \"Saint-Petersburg\"]"
   ]
  },
  {
   "cell_type": "markdown",
   "metadata": {},
   "source": [
    "<font color='blue'><b>Комментарий ревьюера: </b></font> ✔️\\\n",
    "<font color='green'>Срезы подготовлены!"
   ]
  },
  {
   "cell_type": "markdown",
   "metadata": {
    "id": "MEJV-CX2_Zcu"
   },
   "source": [
    "Создайте функцию `genre_weekday()` с четырьмя параметрами:\n",
    "* таблица (датафрейм) с данными,\n",
    "* день недели,\n",
    "* начальная временная метка в формате 'hh:mm', \n",
    "* последняя временная метка в формате 'hh:mm'.\n",
    "\n",
    "Функция должна вернуть информацию о топ-10 жанров тех треков, которые прослушивали в указанный день, в промежутке между двумя отметками времени."
   ]
  },
  {
   "cell_type": "code",
   "execution_count": 35,
   "metadata": {
    "id": "laJT9BYl_Zcu"
   },
   "outputs": [],
   "source": [
    "# Объявление функции genre_weekday() с параметрами table, day, time1, time2,\n",
    "# которая возвращает информацию о самых популярных жанрах в указанный день в\n",
    "# заданное время:\n",
    "# 1) в переменную genre_df сохраняются те строки переданного датафрейма table, для\n",
    "#    которых одновременно:\n",
    "#    - значение в столбце day равно значению аргумента day\n",
    "#    - значение в столбце time больше значения аргумента time1\n",
    "#    - значение в столбце time меньше значения аргумента time2\n",
    "#    Используйте последовательную фильтрацию с помощью логической индексации.\n",
    "# 2) сгруппировать датафрейм genre_df по столбцу genre, взять один из его\n",
    "#    столбцов и посчитать методом count() количество записей для каждого из\n",
    "#    присутствующих жанров, получившийся Series записать в переменную\n",
    "#    genre_df_count\n",
    "# 3) отсортировать genre_df_count по убыванию встречаемости и сохранить\n",
    "#    в переменную genre_df_sorted\n",
    "# 4) вернуть Series из 10 первых значений genre_df_sorted, это будут топ-10\n",
    "#    популярных жанров (в указанный день, в заданное время)\n",
    "\n",
    "\n",
    "def genre_weekday (table, day, time1, time2):\n",
    "    filtred_by_day = table[table[\"day\"] == day]\n",
    "    filtred_by_day_time1 = filtred_by_day[filtred_by_day[\"time\"] > time1]\n",
    "    filtred_by_day_time1_time2 = filtred_by_day_time1[filtred_by_day_time1[\"time\"] < time2]\n",
    "    genre_df = filtred_by_day_time1_time2.groupby(\"genre\")\n",
    "    genre_df_count = genre_df[\"genre\"].count()\n",
    "    genre_df_sorted = genre_df_count.sort_values(ascending=False)\n",
    "    return (genre_df_sorted.head(10))"
   ]
  },
  {
   "cell_type": "markdown",
   "metadata": {},
   "source": [
    "<font color='blue'><b>Комментарий ревьюера: </b></font> ✔️\\\n",
    "<font color='green'> Класс! 👍 \\\n",
    "Обрати внимание как сгруппированы и посчитаны значения в п.2) \\\n",
    "В блоке 3.1 надо сделать так же )) "
   ]
  },
  {
   "cell_type": "markdown",
   "metadata": {
    "id": "la2s2_PF_Zcu"
   },
   "source": [
    "Cравните результаты функции `genre_weekday()` для Москвы и Санкт-Петербурга в понедельник утром (с 7:00 до 11:00) и в пятницу вечером (с 17:00 до 23:00):"
   ]
  },
  {
   "cell_type": "code",
   "execution_count": 36,
   "metadata": {
    "id": "yz7itPUQ_Zcu"
   },
   "outputs": [
    {
     "data": {
      "text/plain": [
       "genre\n",
       "pop            781\n",
       "dance          549\n",
       "electronic     480\n",
       "rock           474\n",
       "hiphop         286\n",
       "ruspop         186\n",
       "world          181\n",
       "rusrap         175\n",
       "alternative    164\n",
       "unknown        161\n",
       "Name: genre, dtype: int64"
      ]
     },
     "execution_count": 36,
     "metadata": {},
     "output_type": "execute_result"
    }
   ],
   "source": [
    "# вызов функции для утра понедельника в Москве (вместо df — таблица moscow_general)\n",
    "# объекты, хранящие время, являются строками и сравниваются как строки\n",
    "# пример вызова: genre_weekday(moscow_general, 'Monday', '07:00', '11:00')\n",
    "\n",
    "genre_weekday (moscow_general, 'Monday', '07:00', '11:00')"
   ]
  },
  {
   "cell_type": "code",
   "execution_count": 37,
   "metadata": {
    "id": "kwUcHPdy_Zcu"
   },
   "outputs": [
    {
     "data": {
      "text/plain": [
       "genre\n",
       "pop            218\n",
       "dance          182\n",
       "rock           162\n",
       "electronic     147\n",
       "hiphop          80\n",
       "ruspop          64\n",
       "alternative     58\n",
       "rusrap          55\n",
       "jazz            44\n",
       "classical       40\n",
       "Name: genre, dtype: int64"
      ]
     },
     "metadata": {},
     "output_type": "display_data"
    }
   ],
   "source": [
    "# вызов функции для утра понедельника в Петербурге (вместо df — таблица spb_general)\n",
    "\n",
    "display (genre_weekday (spb_general, 'Monday', '07:00', '11:00'))"
   ]
  },
  {
   "cell_type": "code",
   "execution_count": 38,
   "metadata": {
    "id": "EzXVRE1o_Zcu"
   },
   "outputs": [
    {
     "data": {
      "text/plain": [
       "genre\n",
       "pop            713\n",
       "rock           517\n",
       "dance          495\n",
       "electronic     482\n",
       "hiphop         273\n",
       "world          208\n",
       "ruspop         170\n",
       "alternative    163\n",
       "classical      163\n",
       "rusrap         142\n",
       "Name: genre, dtype: int64"
      ]
     },
     "metadata": {},
     "output_type": "display_data"
    }
   ],
   "source": [
    "# вызов функции для вечера пятницы в Москве\n",
    "\n",
    "display (genre_weekday (moscow_general, 'Friday', '17:00', '23:00'))"
   ]
  },
  {
   "cell_type": "code",
   "execution_count": 39,
   "metadata": {
    "id": "JZaEKu5v_Zcu"
   },
   "outputs": [
    {
     "data": {
      "text/plain": [
       "genre\n",
       "pop            256\n",
       "electronic     216\n",
       "rock           216\n",
       "dance          210\n",
       "hiphop          97\n",
       "alternative     63\n",
       "jazz            61\n",
       "classical       60\n",
       "rusrap          59\n",
       "world           54\n",
       "Name: genre, dtype: int64"
      ]
     },
     "metadata": {},
     "output_type": "display_data"
    }
   ],
   "source": [
    "# вызов функции для вечера пятницы в Петербурге\n",
    "\n",
    "display (genre_weekday (spb_general, 'Friday', '17:00', '23:00'))"
   ]
  },
  {
   "cell_type": "markdown",
   "metadata": {},
   "source": [
    "<font color='blue'><b>Комментарий ревьюера: </b></font> ✔️\\\n",
    "<font color='green'>С помощью функции мы получили всю нужную информацию!"
   ]
  },
  {
   "cell_type": "markdown",
   "metadata": {
    "id": "wrCe4MNX_Zcu"
   },
   "source": [
    "**Выводы**\n",
    "\n",
    "Если сравнить топ-10 жанров в понедельник утром, можно сделать такие выводы:\n",
    "\n",
    "1. В Москве и Петербурге слушают похожую музыку. Единственное отличие — в московский рейтинг вошёл жанр “world”, а в петербургский — джаз и классика.\n",
    "\n",
    "2. В Москве пропущенных значений оказалось так много, что значение `'unknown'` заняло десятое место среди самых популярных жанров. Значит, пропущенные значения занимают существенную долю в данных и угрожают достоверности исследования.\n",
    "\n",
    "Вечер пятницы не меняет эту картину. Некоторые жанры поднимаются немного выше, другие спускаются, но в целом топ-10 остаётся тем же самым.\n",
    "\n",
    "Таким образом, вторая гипотеза подтвердилась лишь частично:\n",
    "* Пользователи слушают похожую музыку в начале недели и в конце.\n",
    "* Разница между Москвой и Петербургом не слишком выражена. В Москве чаще слушают русскую популярную музыку, в Петербурге — джаз.\n",
    "\n",
    "Однако пропуски в данных ставят под сомнение этот результат. В Москве их так много, что рейтинг топ-10 мог бы выглядеть иначе, если бы не утерянные  данные о жанрах."
   ]
  },
  {
   "cell_type": "markdown",
   "metadata": {
    "id": "JolODAqr_Zcu"
   },
   "source": [
    "### Жанровые предпочтения в Москве и Петербурге\n",
    "\n",
    "Гипотеза: Петербург — столица рэпа, музыку этого жанра там слушают чаще, чем в Москве.  А Москва — город контрастов, в котором, тем не менее, преобладает поп-музыка."
   ]
  },
  {
   "cell_type": "markdown",
   "metadata": {
    "id": "DlegSvaT_Zcu"
   },
   "source": [
    "Сгруппируйте таблицу `moscow_general` по жанру и посчитайте прослушивания треков каждого жанра методом `count()`. Затем отсортируйте результат в порядке убывания и сохраните его в таблице `moscow_genres`."
   ]
  },
  {
   "cell_type": "code",
   "execution_count": 40,
   "metadata": {
    "id": "r19lIPke_Zcu"
   },
   "outputs": [],
   "source": [
    "# одной строкой: группировка таблицы moscow_general по столбцу 'genre', \n",
    "# подсчёт числа значений 'genre' в этой группировке методом count(), \n",
    "# сортировка получившегося Series в порядке убывания и сохранение в moscow_genres\n",
    "\n",
    "moscow_genre_count = moscow_general.groupby(\"genre\")[\"genre\"].count()\n",
    "moscow_genres = moscow_genre_count.sort_values(ascending=False)\n"
   ]
  },
  {
   "cell_type": "markdown",
   "metadata": {
    "id": "6kMuomxTiIr8"
   },
   "source": [
    "Выведите на экран первые десять строк `moscow_genres`:"
   ]
  },
  {
   "cell_type": "code",
   "execution_count": 41,
   "metadata": {
    "id": "WhCSooF8_Zcv"
   },
   "outputs": [
    {
     "data": {
      "text/plain": [
       "genre\n",
       "pop            5892\n",
       "dance          4435\n",
       "rock           3965\n",
       "electronic     3786\n",
       "hiphop         2096\n",
       "classical      1616\n",
       "world          1432\n",
       "alternative    1379\n",
       "ruspop         1372\n",
       "rusrap         1161\n",
       "Name: genre, dtype: int64"
      ]
     },
     "execution_count": 41,
     "metadata": {},
     "output_type": "execute_result"
    }
   ],
   "source": [
    "# просмотр первых 10 строк moscow_genres\n",
    "\n",
    "moscow_genres.head(10)"
   ]
  },
  {
   "cell_type": "markdown",
   "metadata": {},
   "source": [
    "<font color='blue'><b>Комментарий ревьюера: </b></font> ✔️\\\n",
    "<font color='green'>Данные по Москве получены."
   ]
  },
  {
   "cell_type": "markdown",
   "metadata": {
    "id": "cnPG2vnN_Zcv"
   },
   "source": [
    "Теперь повторите то же и для Петербурга.\n",
    "\n",
    "Сгруппируйте таблицу `spb_general` по жанру. Посчитайте прослушивания треков каждого жанра. Результат отсортируйте в порядке убывания и сохраните в таблице `spb_genres`:\n"
   ]
  },
  {
   "cell_type": "code",
   "execution_count": 42,
   "metadata": {
    "id": "gluLIpE7_Zcv"
   },
   "outputs": [],
   "source": [
    "# одной строкой: группировка таблицы spb_general по столбцу 'genre', \n",
    "# подсчёт числа значений 'genre' в этой группировке методом count(), \n",
    "# сортировка получившегося Series в порядке убывания и сохранение в spb_genres\n",
    "\n",
    "spb_genre_count = spb_general.groupby(\"genre\")[\"genre\"].count()\n",
    "spb_genres = spb_genre_count.sort_values(ascending=False)\n"
   ]
  },
  {
   "cell_type": "markdown",
   "metadata": {
    "id": "5Doha_ODgyQ8"
   },
   "source": [
    "Выведите на экран первые десять строк `spb_genres`:"
   ]
  },
  {
   "cell_type": "code",
   "execution_count": 43,
   "metadata": {
    "id": "uaGJHjVU_Zcv"
   },
   "outputs": [
    {
     "data": {
      "text/plain": [
       "genre\n",
       "pop            2431\n",
       "dance          1932\n",
       "rock           1879\n",
       "electronic     1736\n",
       "hiphop          960\n",
       "alternative     649\n",
       "classical       646\n",
       "rusrap          564\n",
       "ruspop          538\n",
       "world           515\n",
       "Name: genre, dtype: int64"
      ]
     },
     "execution_count": 43,
     "metadata": {},
     "output_type": "execute_result"
    }
   ],
   "source": [
    "# просмотр первых 10 строк spb_genres\n",
    "\n",
    "spb_genres.head(10)"
   ]
  },
  {
   "cell_type": "markdown",
   "metadata": {},
   "source": [
    "<font color='blue'><b>Комментарий ревьюера: </b></font> ✔️\\\n",
    "<font color='green'>Данные по Питеру у нас тоже есть."
   ]
  },
  {
   "cell_type": "markdown",
   "metadata": {
    "id": "RY51YJYu_Zcv"
   },
   "source": [
    "**Выводы**"
   ]
  },
  {
   "cell_type": "markdown",
   "metadata": {
    "id": "nVhnJEm__Zcv"
   },
   "source": [
    "Гипотеза частично подтвердилась:\n",
    "* Поп-музыка — самый популярный жанр в Москве, как и предполагала гипотеза. Более того, в топ-10 жанров встречается близкий жанр — русская популярная музыка.\n",
    "* Вопреки ожиданиям, рэп одинаково популярен в Москве и Петербурге. \n"
   ]
  },
  {
   "cell_type": "markdown",
   "metadata": {
    "id": "ykKQ0N65_Zcv"
   },
   "source": [
    "## Итоги исследования"
   ]
  },
  {
   "cell_type": "markdown",
   "metadata": {
    "id": "tjUwbHb3_Zcv"
   },
   "source": [
    "Вы проверили три гипотезы и установили:\n",
    "\n",
    "1. День недели по-разному влияет на активность пользователей в Москве и Петербурге. \n",
    "\n",
    "Первая гипотеза полностью подтвердилась.\n",
    "\n",
    "2. Музыкальные предпочтения не сильно меняются в течение недели — будь то Москва или Петербург. Небольшие различия заметны в начале недели, по понедельникам:\n",
    "* в Москве слушают музыку жанра “world”,\n",
    "* в Петербурге — джаз и классику.\n",
    "\n",
    "Таким образом, вторая гипотеза подтвердилась лишь отчасти. Этот результат мог оказаться иным, если бы не пропуски в данных.\n",
    "\n",
    "3. Во вкусах пользователей Москвы и Петербурга больше общего чем различий. Вопреки ожиданиям, предпочтения жанров в Петербурге напоминают московские.\n",
    "\n",
    "Третья гипотеза не подтвердилась. Если различия в предпочтениях и существуют, на основной массе пользователей они незаметны.\n",
    "\n",
    "**На практике исследования содержат проверки статистических гипотез.**\n",
    "Из данных одного сервиса не всегда можно сделать вывод о всех жителях города.\n",
    "Проверки статистических гипотез покажут, насколько они достоверны, исходя из имеющихся данных. \n",
    "С методами проверок гипотез вы ещё познакомитесь в следующих темах."
   ]
  },
  {
   "cell_type": "markdown",
   "metadata": {},
   "source": [
    "<font color='blue'><b>Итоговый комментарий ревьюера</b></font>\\\n",
    "<font color='green'>Иван, хороший проект получился! \\\n",
    "Код исполняется, заменены пропуски, удалены дубликаты, сделаны групировки данных и срезы. Есть циклы и функции. ты получаешь верные значения!</font>\n",
    "\n",
    "<font color='blue'>Что нужно исправить:</font>\n",
    "<ul><font color='red'>Индексация по одному столбцу между методами groupby и count.</font></ul>\n",
    "\n",
    "<font color='blue'>Что можно сделать лучше:</font>\n",
    "<font color='orange'>Рекомендации отмечены оранжевым цветом.</font></ul>\n",
    "\n",
    "<font color='blue'><b>Спасибо, удачи :)</b></font>"
   ]
  },
  {
   "cell_type": "markdown",
   "metadata": {},
   "source": [
    "<font color='blue'><b>Итоговый комментарий ревьюера 2</b></font>\\\n",
    "<font color='green'>Иван, проект принят! \\\n",
    "Все рекомендации учтены.</font> \\\n",
    "<font color='blue'><b>Успеха в обучении!</b></font> "
   ]
  }
 ],
 "metadata": {
  "ExecuteTimeLog": [
   {
    "duration": 768,
    "start_time": "2022-03-16T06:20:51.912Z"
   },
   {
    "duration": 2466,
    "start_time": "2022-03-16T06:20:55.643Z"
   },
   {
    "duration": 327,
    "start_time": "2022-03-16T06:21:46.265Z"
   },
   {
    "duration": 185,
    "start_time": "2022-03-16T06:22:29.525Z"
   },
   {
    "duration": 26,
    "start_time": "2022-03-16T06:22:35.059Z"
   },
   {
    "duration": 743,
    "start_time": "2022-03-16T06:22:43.656Z"
   },
   {
    "duration": 196,
    "start_time": "2022-03-16T06:22:45.433Z"
   },
   {
    "duration": 25,
    "start_time": "2022-03-16T06:22:46.865Z"
   },
   {
    "duration": 436,
    "start_time": "2022-03-16T06:23:06.560Z"
   },
   {
    "duration": 32,
    "start_time": "2022-03-16T06:23:20.248Z"
   },
   {
    "duration": 33,
    "start_time": "2022-03-16T06:23:29.583Z"
   },
   {
    "duration": 6,
    "start_time": "2022-03-16T06:26:22.384Z"
   },
   {
    "duration": 47,
    "start_time": "2022-03-16T06:32:03.642Z"
   },
   {
    "duration": 6,
    "start_time": "2022-03-16T06:32:21.665Z"
   },
   {
    "duration": 39,
    "start_time": "2022-03-16T06:32:30.058Z"
   },
   {
    "duration": 5,
    "start_time": "2022-03-16T06:32:36.368Z"
   },
   {
    "duration": 842,
    "start_time": "2022-03-16T06:33:09.117Z"
   },
   {
    "duration": 186,
    "start_time": "2022-03-16T06:33:09.962Z"
   },
   {
    "duration": 27,
    "start_time": "2022-03-16T06:33:10.151Z"
   },
   {
    "duration": 33,
    "start_time": "2022-03-16T06:33:10.180Z"
   },
   {
    "duration": 32,
    "start_time": "2022-03-16T06:33:10.216Z"
   },
   {
    "duration": 42,
    "start_time": "2022-03-16T06:33:10.250Z"
   },
   {
    "duration": 6,
    "start_time": "2022-03-16T06:33:10.294Z"
   },
   {
    "duration": 4,
    "start_time": "2022-03-16T06:33:10.303Z"
   },
   {
    "duration": 3,
    "start_time": "2022-03-16T06:33:10.343Z"
   },
   {
    "duration": 6,
    "start_time": "2022-03-16T06:33:10.348Z"
   },
   {
    "duration": 5,
    "start_time": "2022-03-16T06:33:10.357Z"
   },
   {
    "duration": 7,
    "start_time": "2022-03-16T06:33:10.364Z"
   },
   {
    "duration": 6,
    "start_time": "2022-03-16T06:33:10.373Z"
   },
   {
    "duration": 5,
    "start_time": "2022-03-16T06:33:10.382Z"
   },
   {
    "duration": 4,
    "start_time": "2022-03-16T06:33:10.390Z"
   },
   {
    "duration": 3,
    "start_time": "2022-03-16T06:33:10.444Z"
   },
   {
    "duration": 6,
    "start_time": "2022-03-16T06:33:10.450Z"
   },
   {
    "duration": 5,
    "start_time": "2022-03-16T06:33:10.458Z"
   },
   {
    "duration": 9,
    "start_time": "2022-03-16T06:33:10.465Z"
   },
   {
    "duration": 12,
    "start_time": "2022-03-16T06:33:10.477Z"
   },
   {
    "duration": 20,
    "start_time": "2022-03-16T06:33:10.491Z"
   },
   {
    "duration": 29,
    "start_time": "2022-03-16T06:33:10.514Z"
   },
   {
    "duration": 4,
    "start_time": "2022-03-16T06:33:10.548Z"
   },
   {
    "duration": 6,
    "start_time": "2022-03-16T06:33:10.555Z"
   },
   {
    "duration": 6,
    "start_time": "2022-03-16T06:33:10.563Z"
   },
   {
    "duration": 8,
    "start_time": "2022-03-16T06:33:10.571Z"
   },
   {
    "duration": 6,
    "start_time": "2022-03-16T06:33:10.581Z"
   },
   {
    "duration": 5,
    "start_time": "2022-03-16T06:33:10.589Z"
   },
   {
    "duration": 46,
    "start_time": "2022-03-16T06:33:10.597Z"
   },
   {
    "duration": 7,
    "start_time": "2022-03-16T06:33:10.646Z"
   },
   {
    "duration": 18,
    "start_time": "2022-03-16T06:33:10.655Z"
   },
   {
    "duration": 9,
    "start_time": "2022-03-16T06:33:10.675Z"
   },
   {
    "duration": 8,
    "start_time": "2022-03-16T06:33:10.686Z"
   },
   {
    "duration": 6,
    "start_time": "2022-03-16T06:33:10.697Z"
   },
   {
    "duration": 9,
    "start_time": "2022-03-16T06:33:10.705Z"
   },
   {
    "duration": 6,
    "start_time": "2022-03-16T06:33:10.716Z"
   },
   {
    "duration": 18,
    "start_time": "2022-03-16T06:33:10.725Z"
   },
   {
    "duration": 6,
    "start_time": "2022-03-16T06:33:10.746Z"
   },
   {
    "duration": 445,
    "start_time": "2022-03-16T06:33:39.334Z"
   },
   {
    "duration": 7,
    "start_time": "2022-03-16T06:33:42.382Z"
   },
   {
    "duration": 1810,
    "start_time": "2022-03-16T06:34:07.217Z"
   },
   {
    "duration": 190,
    "start_time": "2022-03-16T06:34:09.795Z"
   },
   {
    "duration": 26,
    "start_time": "2022-03-16T06:34:11.313Z"
   },
   {
    "duration": 32,
    "start_time": "2022-03-16T06:34:14.016Z"
   },
   {
    "duration": 5,
    "start_time": "2022-03-16T06:34:17.151Z"
   },
   {
    "duration": 39,
    "start_time": "2022-03-16T06:34:19.440Z"
   },
   {
    "duration": 5,
    "start_time": "2022-03-16T06:34:22.327Z"
   },
   {
    "duration": 40,
    "start_time": "2022-03-16T06:35:36.565Z"
   },
   {
    "duration": 30,
    "start_time": "2022-03-16T07:05:01.204Z"
   },
   {
    "duration": 5,
    "start_time": "2022-03-16T07:05:05.484Z"
   },
   {
    "duration": 31,
    "start_time": "2022-03-16T07:05:33.977Z"
   },
   {
    "duration": 4342,
    "start_time": "2022-03-16T07:07:15.757Z"
   },
   {
    "duration": 4439,
    "start_time": "2022-03-16T07:07:54.279Z"
   },
   {
    "duration": 4187,
    "start_time": "2022-03-16T07:09:24.330Z"
   },
   {
    "duration": 4051,
    "start_time": "2022-03-16T07:10:28.118Z"
   },
   {
    "duration": 4058,
    "start_time": "2022-03-16T07:10:38.190Z"
   },
   {
    "duration": 4739,
    "start_time": "2022-03-16T07:11:11.564Z"
   },
   {
    "duration": 4188,
    "start_time": "2022-03-16T07:13:08.520Z"
   },
   {
    "duration": 746,
    "start_time": "2022-03-16T07:13:47.246Z"
   },
   {
    "duration": 185,
    "start_time": "2022-03-16T07:13:48.550Z"
   },
   {
    "duration": 25,
    "start_time": "2022-03-16T07:13:49.541Z"
   },
   {
    "duration": 34,
    "start_time": "2022-03-16T07:13:50.678Z"
   },
   {
    "duration": 7,
    "start_time": "2022-03-16T07:13:53.254Z"
   },
   {
    "duration": 6,
    "start_time": "2022-03-16T07:13:55.157Z"
   },
   {
    "duration": 11,
    "start_time": "2022-03-16T07:14:08.269Z"
   },
   {
    "duration": 405,
    "start_time": "2022-03-16T07:14:09.541Z"
   },
   {
    "duration": 312,
    "start_time": "2022-03-16T07:14:18.780Z"
   },
   {
    "duration": 867,
    "start_time": "2022-03-16T07:14:29.707Z"
   },
   {
    "duration": 250,
    "start_time": "2022-03-16T07:14:31.771Z"
   },
   {
    "duration": 36,
    "start_time": "2022-03-16T07:14:33.298Z"
   },
   {
    "duration": 32,
    "start_time": "2022-03-16T07:14:34.946Z"
   },
   {
    "duration": 6,
    "start_time": "2022-03-16T07:14:37.993Z"
   },
   {
    "duration": 28,
    "start_time": "2022-03-16T07:14:40.730Z"
   },
   {
    "duration": 6,
    "start_time": "2022-03-16T07:14:43.233Z"
   },
   {
    "duration": 33,
    "start_time": "2022-03-16T07:14:47.522Z"
   },
   {
    "duration": 22,
    "start_time": "2022-03-16T07:14:49.777Z"
   },
   {
    "duration": 31,
    "start_time": "2022-03-16T07:15:02.289Z"
   },
   {
    "duration": 83,
    "start_time": "2022-03-16T07:15:32.703Z"
   },
   {
    "duration": 136,
    "start_time": "2022-03-16T07:16:14.710Z"
   },
   {
    "duration": 87,
    "start_time": "2022-03-16T07:16:20.589Z"
   },
   {
    "duration": 10,
    "start_time": "2022-03-16T07:17:09.356Z"
   },
   {
    "duration": 111,
    "start_time": "2022-03-16T07:25:51.141Z"
   },
   {
    "duration": 115,
    "start_time": "2022-03-16T07:26:33.269Z"
   },
   {
    "duration": 4,
    "start_time": "2022-03-16T07:26:46.828Z"
   },
   {
    "duration": 842,
    "start_time": "2022-03-16T07:28:03.689Z"
   },
   {
    "duration": 827,
    "start_time": "2022-03-16T07:28:27.216Z"
   },
   {
    "duration": 4,
    "start_time": "2022-03-16T07:29:23.574Z"
   },
   {
    "duration": 599,
    "start_time": "2022-03-16T07:29:25.949Z"
   },
   {
    "duration": 4,
    "start_time": "2022-03-16T07:29:54.655Z"
   },
   {
    "duration": 720,
    "start_time": "2022-03-16T07:29:56.587Z"
   },
   {
    "duration": 656,
    "start_time": "2022-03-16T07:30:33.930Z"
   },
   {
    "duration": 4,
    "start_time": "2022-03-16T07:31:08.248Z"
   },
   {
    "duration": 312,
    "start_time": "2022-03-16T07:31:11.201Z"
   },
   {
    "duration": 659,
    "start_time": "2022-03-16T07:32:34.235Z"
   },
   {
    "duration": 813,
    "start_time": "2022-03-16T07:32:51.814Z"
   },
   {
    "duration": 190,
    "start_time": "2022-03-16T07:32:53.118Z"
   },
   {
    "duration": 26,
    "start_time": "2022-03-16T07:32:54.396Z"
   },
   {
    "duration": 33,
    "start_time": "2022-03-16T07:32:56.582Z"
   },
   {
    "duration": 6,
    "start_time": "2022-03-16T07:32:59.021Z"
   },
   {
    "duration": 31,
    "start_time": "2022-03-16T07:33:00.613Z"
   },
   {
    "duration": 6,
    "start_time": "2022-03-16T07:33:02.874Z"
   },
   {
    "duration": 31,
    "start_time": "2022-03-16T07:33:03.981Z"
   },
   {
    "duration": 21,
    "start_time": "2022-03-16T07:33:05.469Z"
   },
   {
    "duration": 31,
    "start_time": "2022-03-16T07:33:07.180Z"
   },
   {
    "duration": 88,
    "start_time": "2022-03-16T07:33:09.093Z"
   },
   {
    "duration": 94,
    "start_time": "2022-03-16T07:33:10.421Z"
   },
   {
    "duration": 76,
    "start_time": "2022-03-16T07:33:11.597Z"
   },
   {
    "duration": 12,
    "start_time": "2022-03-16T07:33:14.772Z"
   },
   {
    "duration": 4,
    "start_time": "2022-03-16T07:33:16.870Z"
   },
   {
    "duration": 799,
    "start_time": "2022-03-16T07:33:18.270Z"
   },
   {
    "duration": 4,
    "start_time": "2022-03-16T16:48:23.173Z"
   },
   {
    "duration": 10021,
    "start_time": "2022-03-16T16:48:25.812Z"
   },
   {
    "duration": 5,
    "start_time": "2022-03-16T16:49:05.499Z"
   },
   {
    "duration": 19,
    "start_time": "2022-03-16T16:49:07.563Z"
   },
   {
    "duration": 13,
    "start_time": "2022-03-16T16:49:36.170Z"
   },
   {
    "duration": 6,
    "start_time": "2022-03-16T16:53:11.513Z"
   },
   {
    "duration": 970,
    "start_time": "2022-03-16T16:53:25.954Z"
   },
   {
    "duration": 225,
    "start_time": "2022-03-16T16:53:27.418Z"
   },
   {
    "duration": 28,
    "start_time": "2022-03-16T16:53:28.498Z"
   },
   {
    "duration": 32,
    "start_time": "2022-03-16T16:53:29.673Z"
   },
   {
    "duration": 6,
    "start_time": "2022-03-16T16:53:32.240Z"
   },
   {
    "duration": 27,
    "start_time": "2022-03-16T16:53:34.593Z"
   },
   {
    "duration": 6,
    "start_time": "2022-03-16T16:53:35.768Z"
   },
   {
    "duration": 32,
    "start_time": "2022-03-16T16:53:37.129Z"
   },
   {
    "duration": 26,
    "start_time": "2022-03-16T16:53:39.073Z"
   },
   {
    "duration": 31,
    "start_time": "2022-03-16T16:53:40.176Z"
   },
   {
    "duration": 115,
    "start_time": "2022-03-16T16:53:41.545Z"
   },
   {
    "duration": 111,
    "start_time": "2022-03-16T16:53:43.512Z"
   },
   {
    "duration": 111,
    "start_time": "2022-03-16T16:53:44.944Z"
   },
   {
    "duration": 9,
    "start_time": "2022-03-16T16:53:47.104Z"
   },
   {
    "duration": 5,
    "start_time": "2022-03-16T16:53:48.624Z"
   },
   {
    "duration": 17,
    "start_time": "2022-03-16T16:53:49.672Z"
   },
   {
    "duration": 10,
    "start_time": "2022-03-16T16:53:50.784Z"
   },
   {
    "duration": 8,
    "start_time": "2022-03-16T16:53:54.463Z"
   },
   {
    "duration": 6,
    "start_time": "2022-03-16T16:55:24.421Z"
   },
   {
    "duration": 461,
    "start_time": "2022-03-16T16:56:40.571Z"
   },
   {
    "duration": 6,
    "start_time": "2022-03-16T16:57:04.601Z"
   },
   {
    "duration": 4,
    "start_time": "2022-03-16T16:57:15.905Z"
   },
   {
    "duration": 3,
    "start_time": "2022-03-16T16:57:21.592Z"
   },
   {
    "duration": 4,
    "start_time": "2022-03-16T16:57:34.040Z"
   },
   {
    "duration": 5,
    "start_time": "2022-03-16T16:57:58.302Z"
   },
   {
    "duration": 58,
    "start_time": "2022-03-16T17:00:08.938Z"
   },
   {
    "duration": 67,
    "start_time": "2022-03-16T17:00:18.936Z"
   },
   {
    "duration": 384,
    "start_time": "2022-03-16T17:02:02.778Z"
   },
   {
    "duration": 72,
    "start_time": "2022-03-16T17:02:14.780Z"
   },
   {
    "duration": 6,
    "start_time": "2022-03-16T17:12:14.082Z"
   },
   {
    "duration": 618,
    "start_time": "2022-03-16T17:13:00.121Z"
   },
   {
    "duration": 5,
    "start_time": "2022-03-16T17:13:17.264Z"
   },
   {
    "duration": 8040,
    "start_time": "2022-03-16T17:13:19.808Z"
   },
   {
    "duration": 6,
    "start_time": "2022-03-16T17:14:03.246Z"
   },
   {
    "duration": 4313,
    "start_time": "2022-03-16T17:14:05.853Z"
   },
   {
    "duration": 5,
    "start_time": "2022-03-16T17:14:59.965Z"
   },
   {
    "duration": 724,
    "start_time": "2022-03-16T17:15:02.700Z"
   },
   {
    "duration": 9,
    "start_time": "2022-03-16T17:15:16.035Z"
   },
   {
    "duration": 4506,
    "start_time": "2022-03-16T17:15:18.099Z"
   },
   {
    "duration": 5,
    "start_time": "2022-03-16T17:15:28.546Z"
   },
   {
    "duration": 23,
    "start_time": "2022-03-16T17:15:30.483Z"
   },
   {
    "duration": 18,
    "start_time": "2022-03-16T17:16:21.767Z"
   },
   {
    "duration": 19,
    "start_time": "2022-03-16T17:16:23.063Z"
   },
   {
    "duration": 19,
    "start_time": "2022-03-16T17:16:23.888Z"
   },
   {
    "duration": 20,
    "start_time": "2022-03-16T17:16:24.688Z"
   },
   {
    "duration": 19,
    "start_time": "2022-03-16T17:16:25.324Z"
   },
   {
    "duration": 325,
    "start_time": "2022-03-16T17:21:54.459Z"
   },
   {
    "duration": 6,
    "start_time": "2022-03-16T17:21:59.690Z"
   },
   {
    "duration": 18,
    "start_time": "2022-03-16T17:22:12.105Z"
   },
   {
    "duration": 15,
    "start_time": "2022-03-16T17:24:07.882Z"
   },
   {
    "duration": 19,
    "start_time": "2022-03-16T17:24:09.656Z"
   },
   {
    "duration": 6,
    "start_time": "2022-03-16T17:33:59.292Z"
   },
   {
    "duration": 30,
    "start_time": "2022-03-16T17:34:44.409Z"
   },
   {
    "duration": 16,
    "start_time": "2022-03-16T17:36:10.160Z"
   },
   {
    "duration": 21,
    "start_time": "2022-03-16T17:36:24.341Z"
   },
   {
    "duration": 35,
    "start_time": "2022-03-16T17:36:27.440Z"
   },
   {
    "duration": 16,
    "start_time": "2022-03-16T17:36:30.308Z"
   },
   {
    "duration": 21,
    "start_time": "2022-03-16T17:37:17.245Z"
   },
   {
    "duration": 30,
    "start_time": "2022-03-16T17:38:25.894Z"
   },
   {
    "duration": 32,
    "start_time": "2022-03-16T17:39:02.816Z"
   },
   {
    "duration": 26,
    "start_time": "2022-03-16T17:39:05.327Z"
   },
   {
    "duration": 33,
    "start_time": "2022-03-16T17:39:31.237Z"
   },
   {
    "duration": 28,
    "start_time": "2022-03-16T17:39:55.909Z"
   },
   {
    "duration": 29,
    "start_time": "2022-03-16T17:40:54.714Z"
   },
   {
    "duration": 30,
    "start_time": "2022-03-16T17:41:13.194Z"
   },
   {
    "duration": 6,
    "start_time": "2022-03-16T17:41:27.514Z"
   },
   {
    "duration": 36,
    "start_time": "2022-03-16T17:41:29.352Z"
   },
   {
    "duration": 49,
    "start_time": "2022-03-16T17:42:42.190Z"
   },
   {
    "duration": 38,
    "start_time": "2022-03-16T17:42:53.310Z"
   },
   {
    "duration": 38,
    "start_time": "2022-03-16T17:44:02.559Z"
   },
   {
    "duration": 7,
    "start_time": "2022-03-16T17:44:09.122Z"
   },
   {
    "duration": 24,
    "start_time": "2022-03-16T17:44:11.122Z"
   },
   {
    "duration": 17,
    "start_time": "2022-03-16T17:44:12.937Z"
   },
   {
    "duration": 22,
    "start_time": "2022-03-16T17:44:14.553Z"
   },
   {
    "duration": 18,
    "start_time": "2022-03-16T17:44:15.761Z"
   },
   {
    "duration": 13,
    "start_time": "2022-03-16T17:46:28.205Z"
   },
   {
    "duration": 18,
    "start_time": "2022-03-16T17:46:32.204Z"
   },
   {
    "duration": 13,
    "start_time": "2022-03-16T17:49:04.198Z"
   },
   {
    "duration": 6,
    "start_time": "2022-03-16T17:49:19.557Z"
   },
   {
    "duration": 11,
    "start_time": "2022-03-16T17:49:34.165Z"
   },
   {
    "duration": 8,
    "start_time": "2022-03-16T17:49:35.812Z"
   },
   {
    "duration": 8,
    "start_time": "2022-03-16T17:50:06.804Z"
   },
   {
    "duration": 7,
    "start_time": "2022-03-16T17:50:21.882Z"
   },
   {
    "duration": 772,
    "start_time": "2022-03-16T17:51:46.752Z"
   },
   {
    "duration": 209,
    "start_time": "2022-03-16T17:51:47.527Z"
   },
   {
    "duration": 27,
    "start_time": "2022-03-16T17:51:47.739Z"
   },
   {
    "duration": 50,
    "start_time": "2022-03-16T17:51:47.769Z"
   },
   {
    "duration": 7,
    "start_time": "2022-03-16T17:51:47.843Z"
   },
   {
    "duration": 31,
    "start_time": "2022-03-16T17:51:47.853Z"
   },
   {
    "duration": 6,
    "start_time": "2022-03-16T17:51:47.887Z"
   },
   {
    "duration": 73,
    "start_time": "2022-03-16T17:51:47.897Z"
   },
   {
    "duration": 24,
    "start_time": "2022-03-16T17:51:47.973Z"
   },
   {
    "duration": 29,
    "start_time": "2022-03-16T17:51:47.999Z"
   },
   {
    "duration": 82,
    "start_time": "2022-03-16T17:51:48.043Z"
   },
   {
    "duration": 127,
    "start_time": "2022-03-16T17:51:48.127Z"
   },
   {
    "duration": 87,
    "start_time": "2022-03-16T17:51:48.256Z"
   },
   {
    "duration": 9,
    "start_time": "2022-03-16T17:51:48.346Z"
   },
   {
    "duration": 4,
    "start_time": "2022-03-16T17:51:48.357Z"
   },
   {
    "duration": 14,
    "start_time": "2022-03-16T17:51:48.364Z"
   },
   {
    "duration": 9,
    "start_time": "2022-03-16T17:51:48.380Z"
   },
   {
    "duration": 90,
    "start_time": "2022-03-16T17:51:48.392Z"
   },
   {
    "duration": 42,
    "start_time": "2022-03-16T17:51:48.484Z"
   },
   {
    "duration": 6,
    "start_time": "2022-03-16T17:51:48.543Z"
   },
   {
    "duration": 33,
    "start_time": "2022-03-16T17:51:48.552Z"
   },
   {
    "duration": 24,
    "start_time": "2022-03-16T17:51:48.588Z"
   },
   {
    "duration": 26,
    "start_time": "2022-03-16T17:51:48.643Z"
   },
   {
    "duration": 24,
    "start_time": "2022-03-16T17:51:48.673Z"
   },
   {
    "duration": 58,
    "start_time": "2022-03-16T17:51:48.700Z"
   },
   {
    "duration": 24,
    "start_time": "2022-03-16T17:51:48.760Z"
   },
   {
    "duration": 18,
    "start_time": "2022-03-16T17:51:48.788Z"
   },
   {
    "duration": 53,
    "start_time": "2022-03-16T17:51:48.808Z"
   },
   {
    "duration": 18,
    "start_time": "2022-03-16T17:51:48.864Z"
   },
   {
    "duration": 7,
    "start_time": "2022-03-16T17:51:48.885Z"
   },
   {
    "duration": 60,
    "start_time": "2022-03-16T17:51:48.895Z"
   },
   {
    "duration": 20,
    "start_time": "2022-03-16T17:51:48.958Z"
   },
   {
    "duration": 25,
    "start_time": "2022-03-16T17:51:48.980Z"
   },
   {
    "duration": 19,
    "start_time": "2022-03-16T17:51:49.043Z"
   },
   {
    "duration": 14,
    "start_time": "2022-03-16T17:51:49.064Z"
   },
   {
    "duration": 6,
    "start_time": "2022-03-16T17:51:49.081Z"
   },
   {
    "duration": 8,
    "start_time": "2022-03-16T17:51:49.089Z"
   },
   {
    "duration": 45,
    "start_time": "2022-03-16T17:51:49.100Z"
   },
   {
    "duration": 3,
    "start_time": "2022-03-16T17:55:44.703Z"
   },
   {
    "duration": 204,
    "start_time": "2022-03-16T17:55:44.714Z"
   },
   {
    "duration": 23,
    "start_time": "2022-03-16T17:55:44.921Z"
   },
   {
    "duration": 32,
    "start_time": "2022-03-16T17:55:44.947Z"
   },
   {
    "duration": 5,
    "start_time": "2022-03-16T17:55:44.983Z"
   },
   {
    "duration": 63,
    "start_time": "2022-03-16T17:55:44.991Z"
   },
   {
    "duration": 7,
    "start_time": "2022-03-16T17:55:45.056Z"
   },
   {
    "duration": 36,
    "start_time": "2022-03-16T17:55:45.066Z"
   },
   {
    "duration": 52,
    "start_time": "2022-03-16T17:55:45.106Z"
   },
   {
    "duration": 33,
    "start_time": "2022-03-16T17:55:45.161Z"
   },
   {
    "duration": 105,
    "start_time": "2022-03-16T17:55:45.196Z"
   },
   {
    "duration": 102,
    "start_time": "2022-03-16T17:55:45.303Z"
   },
   {
    "duration": 81,
    "start_time": "2022-03-16T17:55:45.408Z"
   },
   {
    "duration": 10,
    "start_time": "2022-03-16T17:55:45.492Z"
   },
   {
    "duration": 4,
    "start_time": "2022-03-16T17:55:45.504Z"
   },
   {
    "duration": 41,
    "start_time": "2022-03-16T17:55:45.510Z"
   },
   {
    "duration": 9,
    "start_time": "2022-03-16T17:55:45.553Z"
   },
   {
    "duration": 49,
    "start_time": "2022-03-16T17:55:45.565Z"
   },
   {
    "duration": 70,
    "start_time": "2022-03-16T17:55:45.617Z"
   },
   {
    "duration": 5,
    "start_time": "2022-03-16T17:55:45.689Z"
   },
   {
    "duration": 63,
    "start_time": "2022-03-16T17:55:45.696Z"
   },
   {
    "duration": 24,
    "start_time": "2022-03-16T17:55:45.762Z"
   },
   {
    "duration": 20,
    "start_time": "2022-03-16T17:55:45.789Z"
   },
   {
    "duration": 44,
    "start_time": "2022-03-16T17:55:45.814Z"
   },
   {
    "duration": 19,
    "start_time": "2022-03-16T17:55:45.861Z"
   },
   {
    "duration": 63,
    "start_time": "2022-03-16T17:55:45.883Z"
   },
   {
    "duration": 23,
    "start_time": "2022-03-16T17:55:45.950Z"
   },
   {
    "duration": 26,
    "start_time": "2022-03-16T17:55:45.976Z"
   },
   {
    "duration": 17,
    "start_time": "2022-03-16T17:55:46.004Z"
   },
   {
    "duration": 6,
    "start_time": "2022-03-16T17:55:46.044Z"
   },
   {
    "duration": 35,
    "start_time": "2022-03-16T17:55:46.053Z"
   },
   {
    "duration": 18,
    "start_time": "2022-03-16T17:55:46.090Z"
   },
   {
    "duration": 47,
    "start_time": "2022-03-16T17:55:46.110Z"
   },
   {
    "duration": 16,
    "start_time": "2022-03-16T17:55:46.160Z"
   },
   {
    "duration": 10,
    "start_time": "2022-03-16T17:55:46.178Z"
   },
   {
    "duration": 9,
    "start_time": "2022-03-16T17:55:46.190Z"
   },
   {
    "duration": 46,
    "start_time": "2022-03-16T17:55:46.202Z"
   },
   {
    "duration": 6,
    "start_time": "2022-03-16T17:55:46.250Z"
   },
   {
    "duration": 746,
    "start_time": "2022-03-16T17:55:53.782Z"
   },
   {
    "duration": 189,
    "start_time": "2022-03-16T17:55:54.530Z"
   },
   {
    "duration": 29,
    "start_time": "2022-03-16T17:55:54.721Z"
   },
   {
    "duration": 36,
    "start_time": "2022-03-16T17:55:54.754Z"
   },
   {
    "duration": 6,
    "start_time": "2022-03-16T17:55:54.793Z"
   },
   {
    "duration": 62,
    "start_time": "2022-03-16T17:55:54.802Z"
   },
   {
    "duration": 5,
    "start_time": "2022-03-16T17:55:54.866Z"
   },
   {
    "duration": 31,
    "start_time": "2022-03-16T17:55:54.875Z"
   },
   {
    "duration": 22,
    "start_time": "2022-03-16T17:55:54.943Z"
   },
   {
    "duration": 30,
    "start_time": "2022-03-16T17:55:54.968Z"
   },
   {
    "duration": 143,
    "start_time": "2022-03-16T17:55:55.000Z"
   },
   {
    "duration": 140,
    "start_time": "2022-03-16T17:55:55.146Z"
   },
   {
    "duration": 108,
    "start_time": "2022-03-16T17:55:55.289Z"
   },
   {
    "duration": 13,
    "start_time": "2022-03-16T17:55:55.399Z"
   },
   {
    "duration": 4,
    "start_time": "2022-03-16T17:55:55.414Z"
   },
   {
    "duration": 31,
    "start_time": "2022-03-16T17:55:55.420Z"
   },
   {
    "duration": 9,
    "start_time": "2022-03-16T17:55:55.454Z"
   },
   {
    "duration": 47,
    "start_time": "2022-03-16T17:55:55.465Z"
   },
   {
    "duration": 68,
    "start_time": "2022-03-16T17:55:55.514Z"
   },
   {
    "duration": 5,
    "start_time": "2022-03-16T17:55:55.585Z"
   },
   {
    "duration": 26,
    "start_time": "2022-03-16T17:55:55.593Z"
   },
   {
    "duration": 25,
    "start_time": "2022-03-16T17:55:55.644Z"
   },
   {
    "duration": 27,
    "start_time": "2022-03-16T17:55:55.676Z"
   },
   {
    "duration": 37,
    "start_time": "2022-03-16T17:55:55.706Z"
   },
   {
    "duration": 20,
    "start_time": "2022-03-16T17:55:55.746Z"
   },
   {
    "duration": 18,
    "start_time": "2022-03-16T17:55:55.768Z"
   },
   {
    "duration": 12,
    "start_time": "2022-03-16T17:55:55.788Z"
   },
   {
    "duration": 51,
    "start_time": "2022-03-16T17:55:55.803Z"
   },
   {
    "duration": 11,
    "start_time": "2022-03-16T17:55:55.856Z"
   },
   {
    "duration": 5,
    "start_time": "2022-03-16T17:55:55.870Z"
   },
   {
    "duration": 27,
    "start_time": "2022-03-16T17:55:55.878Z"
   },
   {
    "duration": 51,
    "start_time": "2022-03-16T17:55:55.908Z"
   },
   {
    "duration": 22,
    "start_time": "2022-03-16T17:55:55.962Z"
   },
   {
    "duration": 17,
    "start_time": "2022-03-16T17:55:55.986Z"
   },
   {
    "duration": 43,
    "start_time": "2022-03-16T17:55:56.005Z"
   },
   {
    "duration": 6,
    "start_time": "2022-03-16T17:55:56.051Z"
   },
   {
    "duration": 9,
    "start_time": "2022-03-16T17:55:56.059Z"
   },
   {
    "duration": 7,
    "start_time": "2022-03-16T17:55:56.071Z"
   },
   {
    "duration": 477,
    "start_time": "2022-03-16T18:21:07.684Z"
   },
   {
    "duration": 15,
    "start_time": "2022-03-16T18:21:34.708Z"
   },
   {
    "duration": 21,
    "start_time": "2022-03-16T18:21:55.914Z"
   },
   {
    "duration": 830,
    "start_time": "2022-03-16T18:22:25.485Z"
   },
   {
    "duration": 191,
    "start_time": "2022-03-16T18:22:26.318Z"
   },
   {
    "duration": 39,
    "start_time": "2022-03-16T18:22:26.512Z"
   },
   {
    "duration": 32,
    "start_time": "2022-03-16T18:22:26.554Z"
   },
   {
    "duration": 5,
    "start_time": "2022-03-16T18:22:26.588Z"
   },
   {
    "duration": 63,
    "start_time": "2022-03-16T18:22:26.596Z"
   },
   {
    "duration": 5,
    "start_time": "2022-03-16T18:22:26.662Z"
   },
   {
    "duration": 31,
    "start_time": "2022-03-16T18:22:26.672Z"
   },
   {
    "duration": 57,
    "start_time": "2022-03-16T18:22:26.707Z"
   },
   {
    "duration": 45,
    "start_time": "2022-03-16T18:22:26.767Z"
   },
   {
    "duration": 105,
    "start_time": "2022-03-16T18:22:26.814Z"
   },
   {
    "duration": 114,
    "start_time": "2022-03-16T18:22:26.921Z"
   },
   {
    "duration": 86,
    "start_time": "2022-03-16T18:22:27.037Z"
   },
   {
    "duration": 27,
    "start_time": "2022-03-16T18:22:27.125Z"
   },
   {
    "duration": 4,
    "start_time": "2022-03-16T18:22:27.155Z"
   },
   {
    "duration": 16,
    "start_time": "2022-03-16T18:22:27.161Z"
   },
   {
    "duration": 9,
    "start_time": "2022-03-16T18:22:27.179Z"
   },
   {
    "duration": 89,
    "start_time": "2022-03-16T18:22:27.191Z"
   },
   {
    "duration": 61,
    "start_time": "2022-03-16T18:22:27.283Z"
   },
   {
    "duration": 5,
    "start_time": "2022-03-16T18:22:27.347Z"
   },
   {
    "duration": 30,
    "start_time": "2022-03-16T18:22:27.354Z"
   },
   {
    "duration": 20,
    "start_time": "2022-03-16T18:22:27.387Z"
   },
   {
    "duration": 19,
    "start_time": "2022-03-16T18:22:27.445Z"
   },
   {
    "duration": 19,
    "start_time": "2022-03-16T18:22:27.467Z"
   },
   {
    "duration": 54,
    "start_time": "2022-03-16T18:22:27.488Z"
   },
   {
    "duration": 21,
    "start_time": "2022-03-16T18:22:27.545Z"
   },
   {
    "duration": 15,
    "start_time": "2022-03-16T18:22:27.569Z"
   },
   {
    "duration": 61,
    "start_time": "2022-03-16T18:22:27.587Z"
   },
   {
    "duration": 14,
    "start_time": "2022-03-16T18:22:27.651Z"
   },
   {
    "duration": 6,
    "start_time": "2022-03-16T18:22:27.667Z"
   },
   {
    "duration": 29,
    "start_time": "2022-03-16T18:22:27.676Z"
   },
   {
    "duration": 46,
    "start_time": "2022-03-16T18:22:27.708Z"
   },
   {
    "duration": 22,
    "start_time": "2022-03-16T18:22:27.756Z"
   },
   {
    "duration": 16,
    "start_time": "2022-03-16T18:22:27.781Z"
   },
   {
    "duration": 45,
    "start_time": "2022-03-16T18:22:27.800Z"
   },
   {
    "duration": 6,
    "start_time": "2022-03-16T18:22:27.848Z"
   },
   {
    "duration": 12,
    "start_time": "2022-03-16T18:22:27.856Z"
   },
   {
    "duration": 7,
    "start_time": "2022-03-16T18:22:27.870Z"
   },
   {
    "duration": 9,
    "start_time": "2022-03-16T18:23:08.880Z"
   },
   {
    "duration": 4,
    "start_time": "2022-03-16T18:24:57.587Z"
   },
   {
    "duration": 14,
    "start_time": "2022-03-16T18:24:58.890Z"
   },
   {
    "duration": 15,
    "start_time": "2022-03-16T18:25:00.762Z"
   },
   {
    "duration": 15,
    "start_time": "2022-03-16T18:25:24.130Z"
   },
   {
    "duration": 15,
    "start_time": "2022-03-16T18:25:26.354Z"
   },
   {
    "duration": 789,
    "start_time": "2022-03-16T18:29:47.690Z"
   },
   {
    "duration": 188,
    "start_time": "2022-03-16T18:29:48.482Z"
   },
   {
    "duration": 26,
    "start_time": "2022-03-16T18:29:48.674Z"
   },
   {
    "duration": 50,
    "start_time": "2022-03-16T18:29:48.703Z"
   },
   {
    "duration": 6,
    "start_time": "2022-03-16T18:29:48.756Z"
   },
   {
    "duration": 34,
    "start_time": "2022-03-16T18:29:48.764Z"
   },
   {
    "duration": 10,
    "start_time": "2022-03-16T18:29:48.801Z"
   },
   {
    "duration": 32,
    "start_time": "2022-03-16T18:29:48.845Z"
   },
   {
    "duration": 22,
    "start_time": "2022-03-16T18:29:48.881Z"
   },
   {
    "duration": 49,
    "start_time": "2022-03-16T18:29:48.906Z"
   },
   {
    "duration": 98,
    "start_time": "2022-03-16T18:29:48.958Z"
   },
   {
    "duration": 106,
    "start_time": "2022-03-16T18:29:49.059Z"
   },
   {
    "duration": 83,
    "start_time": "2022-03-16T18:29:49.168Z"
   },
   {
    "duration": 16,
    "start_time": "2022-03-16T18:29:49.254Z"
   },
   {
    "duration": 5,
    "start_time": "2022-03-16T18:29:49.273Z"
   },
   {
    "duration": 14,
    "start_time": "2022-03-16T18:29:49.280Z"
   },
   {
    "duration": 49,
    "start_time": "2022-03-16T18:29:49.297Z"
   },
   {
    "duration": 43,
    "start_time": "2022-03-16T18:29:49.349Z"
   },
   {
    "duration": 67,
    "start_time": "2022-03-16T18:29:49.394Z"
   },
   {
    "duration": 5,
    "start_time": "2022-03-16T18:29:49.464Z"
   },
   {
    "duration": 25,
    "start_time": "2022-03-16T18:29:49.472Z"
   },
   {
    "duration": 51,
    "start_time": "2022-03-16T18:29:49.500Z"
   },
   {
    "duration": 17,
    "start_time": "2022-03-16T18:29:49.557Z"
   },
   {
    "duration": 18,
    "start_time": "2022-03-16T18:29:49.578Z"
   },
   {
    "duration": 50,
    "start_time": "2022-03-16T18:29:49.599Z"
   },
   {
    "duration": 20,
    "start_time": "2022-03-16T18:29:49.652Z"
   },
   {
    "duration": 13,
    "start_time": "2022-03-16T18:29:49.675Z"
   },
   {
    "duration": 51,
    "start_time": "2022-03-16T18:29:49.691Z"
   },
   {
    "duration": 12,
    "start_time": "2022-03-16T18:29:49.745Z"
   },
   {
    "duration": 5,
    "start_time": "2022-03-16T18:29:49.760Z"
   },
   {
    "duration": 39,
    "start_time": "2022-03-16T18:29:49.768Z"
   },
   {
    "duration": 36,
    "start_time": "2022-03-16T18:29:49.809Z"
   },
   {
    "duration": 21,
    "start_time": "2022-03-16T18:29:49.848Z"
   },
   {
    "duration": 16,
    "start_time": "2022-03-16T18:29:49.872Z"
   },
   {
    "duration": 13,
    "start_time": "2022-03-16T18:29:49.891Z"
   },
   {
    "duration": 40,
    "start_time": "2022-03-16T18:29:49.906Z"
   },
   {
    "duration": 10,
    "start_time": "2022-03-16T18:29:49.949Z"
   },
   {
    "duration": 6,
    "start_time": "2022-03-16T18:29:49.962Z"
   },
   {
    "duration": 678,
    "start_time": "2022-03-16T18:39:40.247Z"
   },
   {
    "duration": 50,
    "start_time": "2022-03-16T18:39:47.162Z"
   },
   {
    "duration": 520,
    "start_time": "2022-03-23T09:09:47.351Z"
   },
   {
    "duration": 188,
    "start_time": "2022-03-23T09:09:47.874Z"
   },
   {
    "duration": 29,
    "start_time": "2022-03-23T09:09:48.064Z"
   },
   {
    "duration": 41,
    "start_time": "2022-03-23T09:09:48.095Z"
   },
   {
    "duration": 32,
    "start_time": "2022-03-23T09:09:48.138Z"
   },
   {
    "duration": 15,
    "start_time": "2022-03-23T09:09:48.171Z"
   },
   {
    "duration": 7,
    "start_time": "2022-03-23T09:09:48.188Z"
   },
   {
    "duration": 35,
    "start_time": "2022-03-23T09:09:48.197Z"
   },
   {
    "duration": 52,
    "start_time": "2022-03-23T09:09:48.234Z"
   },
   {
    "duration": 33,
    "start_time": "2022-03-23T09:09:48.290Z"
   },
   {
    "duration": 119,
    "start_time": "2022-03-23T09:09:48.325Z"
   },
   {
    "duration": 114,
    "start_time": "2022-03-23T09:09:48.446Z"
   },
   {
    "duration": 93,
    "start_time": "2022-03-23T09:09:48.562Z"
   },
   {
    "duration": 62,
    "start_time": "2022-03-23T09:09:48.657Z"
   },
   {
    "duration": 4,
    "start_time": "2022-03-23T09:09:48.721Z"
   },
   {
    "duration": 15,
    "start_time": "2022-03-23T09:09:48.728Z"
   },
   {
    "duration": 15,
    "start_time": "2022-03-23T09:09:48.768Z"
   },
   {
    "duration": 47,
    "start_time": "2022-03-23T09:09:48.785Z"
   },
   {
    "duration": 70,
    "start_time": "2022-03-23T09:09:48.834Z"
   },
   {
    "duration": 6,
    "start_time": "2022-03-23T09:09:48.907Z"
   },
   {
    "duration": 22,
    "start_time": "2022-03-23T09:09:48.915Z"
   },
   {
    "duration": 42,
    "start_time": "2022-03-23T09:09:48.939Z"
   },
   {
    "duration": 17,
    "start_time": "2022-03-23T09:09:48.983Z"
   },
   {
    "duration": 16,
    "start_time": "2022-03-23T09:09:49.002Z"
   },
   {
    "duration": 57,
    "start_time": "2022-03-23T09:09:49.020Z"
   },
   {
    "duration": 19,
    "start_time": "2022-03-23T09:09:49.079Z"
   },
   {
    "duration": 12,
    "start_time": "2022-03-23T09:09:49.100Z"
   },
   {
    "duration": 14,
    "start_time": "2022-03-23T09:09:49.117Z"
   },
   {
    "duration": 44,
    "start_time": "2022-03-23T09:09:49.133Z"
   },
   {
    "duration": 6,
    "start_time": "2022-03-23T09:09:49.180Z"
   },
   {
    "duration": 27,
    "start_time": "2022-03-23T09:09:49.188Z"
   },
   {
    "duration": 15,
    "start_time": "2022-03-23T09:09:49.217Z"
   },
   {
    "duration": 48,
    "start_time": "2022-03-23T09:09:49.234Z"
   },
   {
    "duration": 15,
    "start_time": "2022-03-23T09:09:49.284Z"
   },
   {
    "duration": 12,
    "start_time": "2022-03-23T09:09:49.301Z"
   },
   {
    "duration": 6,
    "start_time": "2022-03-23T09:09:49.315Z"
   },
   {
    "duration": 50,
    "start_time": "2022-03-23T09:09:49.323Z"
   },
   {
    "duration": 6,
    "start_time": "2022-03-23T09:09:49.375Z"
   },
   {
    "duration": 3,
    "start_time": "2022-03-23T09:26:13.658Z"
   },
   {
    "duration": 207,
    "start_time": "2022-03-23T09:26:13.665Z"
   },
   {
    "duration": 15,
    "start_time": "2022-03-23T09:26:13.875Z"
   },
   {
    "duration": 41,
    "start_time": "2022-03-23T09:26:13.892Z"
   },
   {
    "duration": 5,
    "start_time": "2022-03-23T09:26:13.936Z"
   },
   {
    "duration": 14,
    "start_time": "2022-03-23T09:26:13.968Z"
   },
   {
    "duration": 8,
    "start_time": "2022-03-23T09:26:13.984Z"
   },
   {
    "duration": 35,
    "start_time": "2022-03-23T09:26:13.994Z"
   },
   {
    "duration": 56,
    "start_time": "2022-03-23T09:26:14.031Z"
   },
   {
    "duration": 35,
    "start_time": "2022-03-23T09:26:14.090Z"
   },
   {
    "duration": 124,
    "start_time": "2022-03-23T09:26:14.129Z"
   },
   {
    "duration": 113,
    "start_time": "2022-03-23T09:26:14.255Z"
   },
   {
    "duration": 82,
    "start_time": "2022-03-23T09:26:14.371Z"
   },
   {
    "duration": 59,
    "start_time": "2022-03-23T09:26:14.455Z"
   },
   {
    "duration": 4,
    "start_time": "2022-03-23T09:26:14.516Z"
   },
   {
    "duration": 45,
    "start_time": "2022-03-23T09:26:14.523Z"
   },
   {
    "duration": 56,
    "start_time": "2022-03-23T09:26:14.570Z"
   },
   {
    "duration": 75,
    "start_time": "2022-03-23T09:26:14.628Z"
   },
   {
    "duration": 87,
    "start_time": "2022-03-23T09:26:14.706Z"
   },
   {
    "duration": 7,
    "start_time": "2022-03-23T09:26:14.796Z"
   },
   {
    "duration": 31,
    "start_time": "2022-03-23T09:26:14.805Z"
   },
   {
    "duration": 37,
    "start_time": "2022-03-23T09:26:14.839Z"
   },
   {
    "duration": 20,
    "start_time": "2022-03-23T09:26:14.878Z"
   },
   {
    "duration": 21,
    "start_time": "2022-03-23T09:26:14.901Z"
   },
   {
    "duration": 58,
    "start_time": "2022-03-23T09:26:14.925Z"
   },
   {
    "duration": 22,
    "start_time": "2022-03-23T09:26:14.987Z"
   },
   {
    "duration": 13,
    "start_time": "2022-03-23T09:26:15.011Z"
   },
   {
    "duration": 52,
    "start_time": "2022-03-23T09:26:15.026Z"
   },
   {
    "duration": 14,
    "start_time": "2022-03-23T09:26:15.083Z"
   },
   {
    "duration": 7,
    "start_time": "2022-03-23T09:26:15.099Z"
   },
   {
    "duration": 28,
    "start_time": "2022-03-23T09:26:15.108Z"
   },
   {
    "duration": 41,
    "start_time": "2022-03-23T09:26:15.139Z"
   },
   {
    "duration": 22,
    "start_time": "2022-03-23T09:26:15.182Z"
   },
   {
    "duration": 16,
    "start_time": "2022-03-23T09:26:15.206Z"
   },
   {
    "duration": 48,
    "start_time": "2022-03-23T09:26:15.224Z"
   },
   {
    "duration": 6,
    "start_time": "2022-03-23T09:26:15.275Z"
   },
   {
    "duration": 9,
    "start_time": "2022-03-23T09:26:15.283Z"
   },
   {
    "duration": 10,
    "start_time": "2022-03-23T09:26:15.294Z"
   },
   {
    "duration": 18,
    "start_time": "2022-03-23T09:26:49.375Z"
   },
   {
    "duration": 17,
    "start_time": "2022-03-23T09:27:15.734Z"
   },
   {
    "duration": 3,
    "start_time": "2022-03-23T09:32:43.445Z"
   },
   {
    "duration": 226,
    "start_time": "2022-03-23T09:32:43.452Z"
   },
   {
    "duration": 17,
    "start_time": "2022-03-23T09:32:43.681Z"
   },
   {
    "duration": 72,
    "start_time": "2022-03-23T09:32:43.700Z"
   },
   {
    "duration": 5,
    "start_time": "2022-03-23T09:32:43.774Z"
   },
   {
    "duration": 11,
    "start_time": "2022-03-23T09:32:43.781Z"
   },
   {
    "duration": 5,
    "start_time": "2022-03-23T09:32:43.795Z"
   },
   {
    "duration": 67,
    "start_time": "2022-03-23T09:32:43.802Z"
   },
   {
    "duration": 25,
    "start_time": "2022-03-23T09:32:43.871Z"
   },
   {
    "duration": 35,
    "start_time": "2022-03-23T09:32:43.898Z"
   },
   {
    "duration": 122,
    "start_time": "2022-03-23T09:32:43.937Z"
   },
   {
    "duration": 123,
    "start_time": "2022-03-23T09:32:44.068Z"
   },
   {
    "duration": 93,
    "start_time": "2022-03-23T09:32:44.194Z"
   },
   {
    "duration": 52,
    "start_time": "2022-03-23T09:32:44.289Z"
   },
   {
    "duration": 24,
    "start_time": "2022-03-23T09:32:44.343Z"
   },
   {
    "duration": 15,
    "start_time": "2022-03-23T09:32:44.369Z"
   },
   {
    "duration": 51,
    "start_time": "2022-03-23T09:32:44.387Z"
   },
   {
    "duration": 36,
    "start_time": "2022-03-23T09:32:44.440Z"
   },
   {
    "duration": 17,
    "start_time": "2022-03-23T09:32:44.478Z"
   },
   {
    "duration": 6,
    "start_time": "2022-03-23T09:32:44.497Z"
   },
   {
    "duration": 24,
    "start_time": "2022-03-23T09:32:44.506Z"
   },
   {
    "duration": 47,
    "start_time": "2022-03-23T09:32:44.533Z"
   },
   {
    "duration": 18,
    "start_time": "2022-03-23T09:32:44.583Z"
   },
   {
    "duration": 18,
    "start_time": "2022-03-23T09:32:44.603Z"
   },
   {
    "duration": 61,
    "start_time": "2022-03-23T09:32:44.623Z"
   },
   {
    "duration": 22,
    "start_time": "2022-03-23T09:32:44.686Z"
   },
   {
    "duration": 14,
    "start_time": "2022-03-23T09:32:44.710Z"
   },
   {
    "duration": 59,
    "start_time": "2022-03-23T09:32:44.726Z"
   },
   {
    "duration": 18,
    "start_time": "2022-03-23T09:32:44.791Z"
   },
   {
    "duration": 6,
    "start_time": "2022-03-23T09:32:44.811Z"
   },
   {
    "duration": 57,
    "start_time": "2022-03-23T09:32:44.820Z"
   },
   {
    "duration": 17,
    "start_time": "2022-03-23T09:32:44.880Z"
   },
   {
    "duration": 21,
    "start_time": "2022-03-23T09:32:44.900Z"
   },
   {
    "duration": 53,
    "start_time": "2022-03-23T09:32:44.924Z"
   },
   {
    "duration": 11,
    "start_time": "2022-03-23T09:32:44.980Z"
   },
   {
    "duration": 6,
    "start_time": "2022-03-23T09:32:44.993Z"
   },
   {
    "duration": 15,
    "start_time": "2022-03-23T09:32:45.001Z"
   },
   {
    "duration": 17,
    "start_time": "2022-03-23T09:32:45.018Z"
   },
   {
    "duration": 481,
    "start_time": "2022-03-23T09:32:53.293Z"
   },
   {
    "duration": 186,
    "start_time": "2022-03-23T09:32:53.777Z"
   },
   {
    "duration": 27,
    "start_time": "2022-03-23T09:32:53.965Z"
   },
   {
    "duration": 42,
    "start_time": "2022-03-23T09:32:53.995Z"
   },
   {
    "duration": 31,
    "start_time": "2022-03-23T09:32:54.040Z"
   },
   {
    "duration": 16,
    "start_time": "2022-03-23T09:32:54.073Z"
   },
   {
    "duration": 8,
    "start_time": "2022-03-23T09:32:54.091Z"
   },
   {
    "duration": 72,
    "start_time": "2022-03-23T09:32:54.102Z"
   },
   {
    "duration": 28,
    "start_time": "2022-03-23T09:32:54.177Z"
   },
   {
    "duration": 33,
    "start_time": "2022-03-23T09:32:54.210Z"
   },
   {
    "duration": 104,
    "start_time": "2022-03-23T09:32:54.268Z"
   },
   {
    "duration": 119,
    "start_time": "2022-03-23T09:32:54.375Z"
   },
   {
    "duration": 96,
    "start_time": "2022-03-23T09:32:54.496Z"
   },
   {
    "duration": 54,
    "start_time": "2022-03-23T09:32:54.594Z"
   },
   {
    "duration": 5,
    "start_time": "2022-03-23T09:32:54.667Z"
   },
   {
    "duration": 15,
    "start_time": "2022-03-23T09:32:54.674Z"
   },
   {
    "duration": 53,
    "start_time": "2022-03-23T09:32:54.692Z"
   },
   {
    "duration": 17,
    "start_time": "2022-03-23T09:32:54.768Z"
   },
   {
    "duration": 16,
    "start_time": "2022-03-23T09:32:54.787Z"
   },
   {
    "duration": 5,
    "start_time": "2022-03-23T09:32:54.805Z"
   },
   {
    "duration": 33,
    "start_time": "2022-03-23T09:32:54.812Z"
   },
   {
    "duration": 18,
    "start_time": "2022-03-23T09:32:54.869Z"
   },
   {
    "duration": 18,
    "start_time": "2022-03-23T09:32:54.889Z"
   },
   {
    "duration": 17,
    "start_time": "2022-03-23T09:32:54.909Z"
   },
   {
    "duration": 57,
    "start_time": "2022-03-23T09:32:54.929Z"
   },
   {
    "duration": 19,
    "start_time": "2022-03-23T09:32:54.989Z"
   },
   {
    "duration": 13,
    "start_time": "2022-03-23T09:32:55.010Z"
   },
   {
    "duration": 48,
    "start_time": "2022-03-23T09:32:55.028Z"
   },
   {
    "duration": 14,
    "start_time": "2022-03-23T09:32:55.078Z"
   },
   {
    "duration": 5,
    "start_time": "2022-03-23T09:32:55.095Z"
   },
   {
    "duration": 27,
    "start_time": "2022-03-23T09:32:55.102Z"
   },
   {
    "duration": 48,
    "start_time": "2022-03-23T09:32:55.131Z"
   },
   {
    "duration": 19,
    "start_time": "2022-03-23T09:32:55.181Z"
   },
   {
    "duration": 15,
    "start_time": "2022-03-23T09:32:55.202Z"
   },
   {
    "duration": 11,
    "start_time": "2022-03-23T09:32:55.219Z"
   },
   {
    "duration": 38,
    "start_time": "2022-03-23T09:32:55.232Z"
   },
   {
    "duration": 11,
    "start_time": "2022-03-23T09:32:55.272Z"
   },
   {
    "duration": 6,
    "start_time": "2022-03-23T09:32:55.285Z"
   },
   {
    "duration": 108,
    "start_time": "2022-03-23T09:33:45.455Z"
   },
   {
    "duration": 511,
    "start_time": "2022-03-23T09:40:29.893Z"
   },
   {
    "duration": 238,
    "start_time": "2022-03-23T09:40:30.409Z"
   },
   {
    "duration": 35,
    "start_time": "2022-03-23T09:40:30.650Z"
   },
   {
    "duration": 42,
    "start_time": "2022-03-23T09:40:30.688Z"
   },
   {
    "duration": 6,
    "start_time": "2022-03-23T09:40:30.733Z"
   },
   {
    "duration": 39,
    "start_time": "2022-03-23T09:40:30.741Z"
   },
   {
    "duration": 13,
    "start_time": "2022-03-23T09:40:30.782Z"
   },
   {
    "duration": 44,
    "start_time": "2022-03-23T09:40:30.797Z"
   },
   {
    "duration": 41,
    "start_time": "2022-03-23T09:40:30.844Z"
   },
   {
    "duration": 37,
    "start_time": "2022-03-23T09:40:30.889Z"
   },
   {
    "duration": 128,
    "start_time": "2022-03-23T09:40:30.928Z"
   },
   {
    "duration": 134,
    "start_time": "2022-03-23T09:40:31.058Z"
   },
   {
    "duration": 108,
    "start_time": "2022-03-23T09:40:31.195Z"
   },
   {
    "duration": 65,
    "start_time": "2022-03-23T09:40:31.305Z"
   },
   {
    "duration": 5,
    "start_time": "2022-03-23T09:40:31.372Z"
   },
   {
    "duration": 19,
    "start_time": "2022-03-23T09:40:31.379Z"
   },
   {
    "duration": 73,
    "start_time": "2022-03-23T09:40:31.401Z"
   },
   {
    "duration": 26,
    "start_time": "2022-03-23T09:40:31.477Z"
   },
   {
    "duration": 21,
    "start_time": "2022-03-23T09:40:31.506Z"
   },
   {
    "duration": 39,
    "start_time": "2022-03-23T09:40:31.529Z"
   },
   {
    "duration": 23,
    "start_time": "2022-03-23T09:40:31.570Z"
   },
   {
    "duration": 19,
    "start_time": "2022-03-23T09:40:31.596Z"
   },
   {
    "duration": 52,
    "start_time": "2022-03-23T09:40:31.618Z"
   },
   {
    "duration": 20,
    "start_time": "2022-03-23T09:40:31.672Z"
   },
   {
    "duration": 27,
    "start_time": "2022-03-23T09:40:31.694Z"
   },
   {
    "duration": 60,
    "start_time": "2022-03-23T09:40:31.723Z"
   },
   {
    "duration": 16,
    "start_time": "2022-03-23T09:40:31.786Z"
   },
   {
    "duration": 16,
    "start_time": "2022-03-23T09:40:31.807Z"
   },
   {
    "duration": 13,
    "start_time": "2022-03-23T09:40:31.825Z"
   },
   {
    "duration": 33,
    "start_time": "2022-03-23T09:40:31.840Z"
   },
   {
    "duration": 34,
    "start_time": "2022-03-23T09:40:31.875Z"
   },
   {
    "duration": 18,
    "start_time": "2022-03-23T09:40:31.912Z"
   },
   {
    "duration": 53,
    "start_time": "2022-03-23T09:40:31.933Z"
   },
   {
    "duration": 16,
    "start_time": "2022-03-23T09:40:31.989Z"
   },
   {
    "duration": 13,
    "start_time": "2022-03-23T09:40:32.008Z"
   },
   {
    "duration": 13,
    "start_time": "2022-03-23T09:40:32.023Z"
   },
   {
    "duration": 12,
    "start_time": "2022-03-23T09:40:32.067Z"
   },
   {
    "duration": 9,
    "start_time": "2022-03-23T09:40:32.082Z"
   },
   {
    "duration": 17,
    "start_time": "2022-03-23T10:11:28.165Z"
   },
   {
    "duration": 553,
    "start_time": "2022-03-23T10:11:40.733Z"
   },
   {
    "duration": 210,
    "start_time": "2022-03-23T10:11:41.290Z"
   },
   {
    "duration": 27,
    "start_time": "2022-03-23T10:11:41.507Z"
   },
   {
    "duration": 62,
    "start_time": "2022-03-23T10:11:41.537Z"
   },
   {
    "duration": 7,
    "start_time": "2022-03-23T10:11:41.601Z"
   },
   {
    "duration": 17,
    "start_time": "2022-03-23T10:11:41.610Z"
   },
   {
    "duration": 8,
    "start_time": "2022-03-23T10:11:41.629Z"
   },
   {
    "duration": 74,
    "start_time": "2022-03-23T10:11:41.640Z"
   },
   {
    "duration": 27,
    "start_time": "2022-03-23T10:11:41.718Z"
   },
   {
    "duration": 62,
    "start_time": "2022-03-23T10:11:41.748Z"
   },
   {
    "duration": 114,
    "start_time": "2022-03-23T10:11:41.812Z"
   },
   {
    "duration": 134,
    "start_time": "2022-03-23T10:11:41.929Z"
   },
   {
    "duration": 106,
    "start_time": "2022-03-23T10:11:42.066Z"
   },
   {
    "duration": 62,
    "start_time": "2022-03-23T10:11:42.174Z"
   },
   {
    "duration": 5,
    "start_time": "2022-03-23T10:11:42.238Z"
   },
   {
    "duration": 44,
    "start_time": "2022-03-23T10:11:42.245Z"
   },
   {
    "duration": 57,
    "start_time": "2022-03-23T10:11:42.292Z"
   },
   {
    "duration": 40,
    "start_time": "2022-03-23T10:11:42.352Z"
   },
   {
    "duration": 20,
    "start_time": "2022-03-23T10:11:42.394Z"
   },
   {
    "duration": 6,
    "start_time": "2022-03-23T10:11:42.417Z"
   },
   {
    "duration": 63,
    "start_time": "2022-03-23T10:11:42.425Z"
   },
   {
    "duration": 21,
    "start_time": "2022-03-23T10:11:42.491Z"
   },
   {
    "duration": 24,
    "start_time": "2022-03-23T10:11:42.514Z"
   },
   {
    "duration": 55,
    "start_time": "2022-03-23T10:11:42.541Z"
   },
   {
    "duration": 29,
    "start_time": "2022-03-23T10:11:42.599Z"
   },
   {
    "duration": 55,
    "start_time": "2022-03-23T10:11:42.630Z"
   },
   {
    "duration": 13,
    "start_time": "2022-03-23T10:11:42.691Z"
   },
   {
    "duration": 31,
    "start_time": "2022-03-23T10:11:42.706Z"
   },
   {
    "duration": 16,
    "start_time": "2022-03-23T10:11:42.740Z"
   },
   {
    "duration": 28,
    "start_time": "2022-03-23T10:11:42.759Z"
   },
   {
    "duration": 62,
    "start_time": "2022-03-23T10:11:42.789Z"
   },
   {
    "duration": 18,
    "start_time": "2022-03-23T10:11:42.853Z"
   },
   {
    "duration": 22,
    "start_time": "2022-03-23T10:11:42.874Z"
   },
   {
    "duration": 16,
    "start_time": "2022-03-23T10:11:42.898Z"
   },
   {
    "duration": 12,
    "start_time": "2022-03-23T10:11:42.917Z"
   },
   {
    "duration": 9,
    "start_time": "2022-03-23T10:11:42.933Z"
   },
   {
    "duration": 49,
    "start_time": "2022-03-23T10:11:42.944Z"
   },
   {
    "duration": 16,
    "start_time": "2022-03-23T10:11:42.996Z"
   },
   {
    "duration": 19,
    "start_time": "2022-03-23T10:12:11.634Z"
   },
   {
    "duration": 99,
    "start_time": "2022-03-23T10:18:48.422Z"
   },
   {
    "duration": 17,
    "start_time": "2022-03-23T10:18:56.278Z"
   },
   {
    "duration": 24,
    "start_time": "2022-03-23T10:19:11.977Z"
   },
   {
    "duration": 18,
    "start_time": "2022-03-23T10:32:06.045Z"
   },
   {
    "duration": 71,
    "start_time": "2022-03-23T14:49:44.006Z"
   },
   {
    "duration": 487,
    "start_time": "2022-03-23T14:49:51.596Z"
   },
   {
    "duration": 200,
    "start_time": "2022-03-23T14:49:52.085Z"
   },
   {
    "duration": 28,
    "start_time": "2022-03-23T14:49:52.287Z"
   },
   {
    "duration": 42,
    "start_time": "2022-03-23T14:49:52.318Z"
   },
   {
    "duration": 5,
    "start_time": "2022-03-23T14:49:52.382Z"
   },
   {
    "duration": 20,
    "start_time": "2022-03-23T14:49:52.389Z"
   },
   {
    "duration": 12,
    "start_time": "2022-03-23T14:49:52.411Z"
   },
   {
    "duration": 57,
    "start_time": "2022-03-23T14:49:52.426Z"
   },
   {
    "duration": 25,
    "start_time": "2022-03-23T14:49:52.486Z"
   },
   {
    "duration": 33,
    "start_time": "2022-03-23T14:49:52.515Z"
   },
   {
    "duration": 120,
    "start_time": "2022-03-23T14:49:52.551Z"
   },
   {
    "duration": 130,
    "start_time": "2022-03-23T14:49:52.673Z"
   },
   {
    "duration": 104,
    "start_time": "2022-03-23T14:49:52.806Z"
   },
   {
    "duration": 53,
    "start_time": "2022-03-23T14:49:52.912Z"
   },
   {
    "duration": 4,
    "start_time": "2022-03-23T14:49:52.983Z"
   },
   {
    "duration": 38,
    "start_time": "2022-03-23T14:49:52.989Z"
   },
   {
    "duration": 54,
    "start_time": "2022-03-23T14:49:53.029Z"
   },
   {
    "duration": 14,
    "start_time": "2022-03-23T14:49:53.086Z"
   },
   {
    "duration": 14,
    "start_time": "2022-03-23T14:49:53.103Z"
   },
   {
    "duration": 6,
    "start_time": "2022-03-23T14:49:53.119Z"
   },
   {
    "duration": 55,
    "start_time": "2022-03-23T14:49:53.127Z"
   },
   {
    "duration": 19,
    "start_time": "2022-03-23T14:49:53.184Z"
   },
   {
    "duration": 17,
    "start_time": "2022-03-23T14:49:53.206Z"
   },
   {
    "duration": 18,
    "start_time": "2022-03-23T14:49:53.226Z"
   },
   {
    "duration": 22,
    "start_time": "2022-03-23T14:49:53.282Z"
   },
   {
    "duration": 19,
    "start_time": "2022-03-23T14:49:53.307Z"
   },
   {
    "duration": 14,
    "start_time": "2022-03-23T14:49:53.328Z"
   },
   {
    "duration": 45,
    "start_time": "2022-03-23T14:49:53.347Z"
   },
   {
    "duration": 12,
    "start_time": "2022-03-23T14:49:53.395Z"
   },
   {
    "duration": 8,
    "start_time": "2022-03-23T14:49:53.410Z"
   },
   {
    "duration": 33,
    "start_time": "2022-03-23T14:49:53.420Z"
   },
   {
    "duration": 38,
    "start_time": "2022-03-23T14:49:53.455Z"
   },
   {
    "duration": 22,
    "start_time": "2022-03-23T14:49:53.495Z"
   },
   {
    "duration": 14,
    "start_time": "2022-03-23T14:49:53.519Z"
   },
   {
    "duration": 46,
    "start_time": "2022-03-23T14:49:53.536Z"
   },
   {
    "duration": 12,
    "start_time": "2022-03-23T14:49:53.584Z"
   },
   {
    "duration": 17,
    "start_time": "2022-03-23T14:49:53.598Z"
   },
   {
    "duration": 6,
    "start_time": "2022-03-23T14:49:53.617Z"
   },
   {
    "duration": 16,
    "start_time": "2022-03-23T14:50:31.784Z"
   },
   {
    "duration": 442,
    "start_time": "2022-03-24T21:43:24.521Z"
   },
   {
    "duration": 164,
    "start_time": "2022-03-24T21:43:24.965Z"
   },
   {
    "duration": 17,
    "start_time": "2022-03-24T21:43:25.131Z"
   },
   {
    "duration": 40,
    "start_time": "2022-03-24T21:43:25.151Z"
   },
   {
    "duration": 4,
    "start_time": "2022-03-24T21:43:25.193Z"
   },
   {
    "duration": 13,
    "start_time": "2022-03-24T21:43:25.198Z"
   },
   {
    "duration": 9,
    "start_time": "2022-03-24T21:43:25.213Z"
   },
   {
    "duration": 59,
    "start_time": "2022-03-24T21:43:25.224Z"
   },
   {
    "duration": 19,
    "start_time": "2022-03-24T21:43:25.284Z"
   },
   {
    "duration": 26,
    "start_time": "2022-03-24T21:43:25.306Z"
   },
   {
    "duration": 97,
    "start_time": "2022-03-24T21:43:25.333Z"
   },
   {
    "duration": 95,
    "start_time": "2022-03-24T21:43:25.432Z"
   },
   {
    "duration": 75,
    "start_time": "2022-03-24T21:43:25.529Z"
   },
   {
    "duration": 43,
    "start_time": "2022-03-24T21:43:25.606Z"
   },
   {
    "duration": 3,
    "start_time": "2022-03-24T21:43:25.662Z"
   },
   {
    "duration": 12,
    "start_time": "2022-03-24T21:43:25.667Z"
   },
   {
    "duration": 41,
    "start_time": "2022-03-24T21:43:25.681Z"
   },
   {
    "duration": 44,
    "start_time": "2022-03-24T21:43:25.724Z"
   },
   {
    "duration": 15,
    "start_time": "2022-03-24T21:43:25.770Z"
   },
   {
    "duration": 4,
    "start_time": "2022-03-24T21:43:25.787Z"
   },
   {
    "duration": 21,
    "start_time": "2022-03-24T21:43:25.793Z"
   },
   {
    "duration": 52,
    "start_time": "2022-03-24T21:43:25.816Z"
   },
   {
    "duration": 15,
    "start_time": "2022-03-24T21:43:25.870Z"
   },
   {
    "duration": 13,
    "start_time": "2022-03-24T21:43:25.887Z"
   },
   {
    "duration": 19,
    "start_time": "2022-03-24T21:43:25.902Z"
   },
   {
    "duration": 50,
    "start_time": "2022-03-24T21:43:25.923Z"
   },
   {
    "duration": 9,
    "start_time": "2022-03-24T21:43:25.975Z"
   },
   {
    "duration": 13,
    "start_time": "2022-03-24T21:43:25.988Z"
   },
   {
    "duration": 22,
    "start_time": "2022-03-24T21:43:26.002Z"
   },
   {
    "duration": 4,
    "start_time": "2022-03-24T21:43:26.026Z"
   },
   {
    "duration": 52,
    "start_time": "2022-03-24T21:43:26.032Z"
   },
   {
    "duration": 13,
    "start_time": "2022-03-24T21:43:26.086Z"
   },
   {
    "duration": 19,
    "start_time": "2022-03-24T21:43:26.101Z"
   },
   {
    "duration": 50,
    "start_time": "2022-03-24T21:43:26.122Z"
   },
   {
    "duration": 8,
    "start_time": "2022-03-24T21:43:26.174Z"
   },
   {
    "duration": 4,
    "start_time": "2022-03-24T21:43:26.184Z"
   },
   {
    "duration": 7,
    "start_time": "2022-03-24T21:43:26.190Z"
   },
   {
    "duration": 5,
    "start_time": "2022-03-24T21:43:26.199Z"
   },
   {
    "duration": 487,
    "start_time": "2022-03-25T19:57:23.445Z"
   },
   {
    "duration": 202,
    "start_time": "2022-03-25T19:57:23.934Z"
   },
   {
    "duration": 24,
    "start_time": "2022-03-25T19:57:24.137Z"
   },
   {
    "duration": 35,
    "start_time": "2022-03-25T19:57:24.164Z"
   },
   {
    "duration": 5,
    "start_time": "2022-03-25T19:57:24.201Z"
   },
   {
    "duration": 12,
    "start_time": "2022-03-25T19:57:24.233Z"
   },
   {
    "duration": 13,
    "start_time": "2022-03-25T19:57:24.246Z"
   },
   {
    "duration": 39,
    "start_time": "2022-03-25T19:57:24.262Z"
   },
   {
    "duration": 39,
    "start_time": "2022-03-25T19:57:24.304Z"
   },
   {
    "duration": 35,
    "start_time": "2022-03-25T19:57:24.347Z"
   },
   {
    "duration": 92,
    "start_time": "2022-03-25T19:57:24.383Z"
   },
   {
    "duration": 95,
    "start_time": "2022-03-25T19:57:24.477Z"
   },
   {
    "duration": 75,
    "start_time": "2022-03-25T19:57:24.574Z"
   },
   {
    "duration": 52,
    "start_time": "2022-03-25T19:57:24.651Z"
   },
   {
    "duration": 4,
    "start_time": "2022-03-25T19:57:24.704Z"
   },
   {
    "duration": 32,
    "start_time": "2022-03-25T19:57:24.709Z"
   },
   {
    "duration": 55,
    "start_time": "2022-03-25T19:57:24.743Z"
   },
   {
    "duration": 11,
    "start_time": "2022-03-25T19:57:24.800Z"
   },
   {
    "duration": 28,
    "start_time": "2022-03-25T19:57:24.813Z"
   },
   {
    "duration": 4,
    "start_time": "2022-03-25T19:57:24.843Z"
   },
   {
    "duration": 26,
    "start_time": "2022-03-25T19:57:24.849Z"
   },
   {
    "duration": 17,
    "start_time": "2022-03-25T19:57:24.877Z"
   },
   {
    "duration": 40,
    "start_time": "2022-03-25T19:57:24.896Z"
   },
   {
    "duration": 19,
    "start_time": "2022-03-25T19:57:24.938Z"
   },
   {
    "duration": 25,
    "start_time": "2022-03-25T19:57:24.959Z"
   },
   {
    "duration": 17,
    "start_time": "2022-03-25T19:57:24.986Z"
   },
   {
    "duration": 10,
    "start_time": "2022-03-25T19:57:25.032Z"
   },
   {
    "duration": 15,
    "start_time": "2022-03-25T19:57:25.046Z"
   },
   {
    "duration": 15,
    "start_time": "2022-03-25T19:57:25.063Z"
   },
   {
    "duration": 6,
    "start_time": "2022-03-25T19:57:25.080Z"
   },
   {
    "duration": 53,
    "start_time": "2022-03-25T19:57:25.088Z"
   },
   {
    "duration": 13,
    "start_time": "2022-03-25T19:57:25.143Z"
   },
   {
    "duration": 18,
    "start_time": "2022-03-25T19:57:25.158Z"
   },
   {
    "duration": 13,
    "start_time": "2022-03-25T19:57:25.177Z"
   },
   {
    "duration": 41,
    "start_time": "2022-03-25T19:57:25.191Z"
   },
   {
    "duration": 5,
    "start_time": "2022-03-25T19:57:25.234Z"
   },
   {
    "duration": 12,
    "start_time": "2022-03-25T19:57:25.241Z"
   },
   {
    "duration": 14,
    "start_time": "2022-03-25T19:57:25.255Z"
   },
   {
    "duration": 424,
    "start_time": "2022-03-25T20:04:25.227Z"
   },
   {
    "duration": 170,
    "start_time": "2022-03-25T20:04:25.653Z"
   },
   {
    "duration": 23,
    "start_time": "2022-03-25T20:04:25.825Z"
   },
   {
    "duration": 45,
    "start_time": "2022-03-25T20:04:25.850Z"
   },
   {
    "duration": 24,
    "start_time": "2022-03-25T20:04:25.897Z"
   },
   {
    "duration": 37,
    "start_time": "2022-03-25T20:04:25.923Z"
   },
   {
    "duration": 20,
    "start_time": "2022-03-25T20:04:25.961Z"
   },
   {
    "duration": 44,
    "start_time": "2022-03-25T20:04:25.983Z"
   },
   {
    "duration": 39,
    "start_time": "2022-03-25T20:04:26.029Z"
   },
   {
    "duration": 43,
    "start_time": "2022-03-25T20:04:26.071Z"
   },
   {
    "duration": 87,
    "start_time": "2022-03-25T20:04:26.116Z"
   },
   {
    "duration": 86,
    "start_time": "2022-03-25T20:04:26.204Z"
   },
   {
    "duration": 72,
    "start_time": "2022-03-25T20:04:26.292Z"
   },
   {
    "duration": 44,
    "start_time": "2022-03-25T20:04:26.365Z"
   },
   {
    "duration": 3,
    "start_time": "2022-03-25T20:04:26.410Z"
   },
   {
    "duration": 19,
    "start_time": "2022-03-25T20:04:26.432Z"
   },
   {
    "duration": 49,
    "start_time": "2022-03-25T20:04:26.453Z"
   },
   {
    "duration": 12,
    "start_time": "2022-03-25T20:04:26.503Z"
   },
   {
    "duration": 25,
    "start_time": "2022-03-25T20:04:26.517Z"
   },
   {
    "duration": 17,
    "start_time": "2022-03-25T20:04:26.544Z"
   },
   {
    "duration": 40,
    "start_time": "2022-03-25T20:04:26.563Z"
   },
   {
    "duration": 21,
    "start_time": "2022-03-25T20:04:26.604Z"
   },
   {
    "duration": 27,
    "start_time": "2022-03-25T20:04:26.626Z"
   },
   {
    "duration": 43,
    "start_time": "2022-03-25T20:04:26.655Z"
   },
   {
    "duration": 30,
    "start_time": "2022-03-25T20:04:26.699Z"
   },
   {
    "duration": 23,
    "start_time": "2022-03-25T20:04:26.731Z"
   },
   {
    "duration": 12,
    "start_time": "2022-03-25T20:04:26.756Z"
   },
   {
    "duration": 24,
    "start_time": "2022-03-25T20:04:26.772Z"
   },
   {
    "duration": 20,
    "start_time": "2022-03-25T20:04:26.798Z"
   },
   {
    "duration": 19,
    "start_time": "2022-03-25T20:04:26.820Z"
   },
   {
    "duration": 45,
    "start_time": "2022-03-25T20:04:26.840Z"
   },
   {
    "duration": 22,
    "start_time": "2022-03-25T20:04:26.887Z"
   },
   {
    "duration": 27,
    "start_time": "2022-03-25T20:04:26.911Z"
   },
   {
    "duration": 17,
    "start_time": "2022-03-25T20:04:26.940Z"
   },
   {
    "duration": 18,
    "start_time": "2022-03-25T20:04:26.958Z"
   },
   {
    "duration": 16,
    "start_time": "2022-03-25T20:04:26.978Z"
   },
   {
    "duration": 19,
    "start_time": "2022-03-25T20:04:26.996Z"
   },
   {
    "duration": 22,
    "start_time": "2022-03-25T20:04:27.017Z"
   },
   {
    "duration": 438,
    "start_time": "2022-03-30T19:46:49.535Z"
   },
   {
    "duration": 176,
    "start_time": "2022-03-30T19:46:49.975Z"
   },
   {
    "duration": 19,
    "start_time": "2022-03-30T19:46:50.152Z"
   },
   {
    "duration": 32,
    "start_time": "2022-03-30T19:46:50.174Z"
   },
   {
    "duration": 26,
    "start_time": "2022-03-30T19:46:50.208Z"
   },
   {
    "duration": 19,
    "start_time": "2022-03-30T19:46:50.236Z"
   },
   {
    "duration": 14,
    "start_time": "2022-03-30T19:46:50.257Z"
   },
   {
    "duration": 31,
    "start_time": "2022-03-30T19:46:50.272Z"
   },
   {
    "duration": 36,
    "start_time": "2022-03-30T19:46:50.305Z"
   },
   {
    "duration": 26,
    "start_time": "2022-03-30T19:46:50.344Z"
   },
   {
    "duration": 89,
    "start_time": "2022-03-30T19:46:50.372Z"
   },
   {
    "duration": 96,
    "start_time": "2022-03-30T19:46:50.463Z"
   },
   {
    "duration": 74,
    "start_time": "2022-03-30T19:46:50.561Z"
   },
   {
    "duration": 44,
    "start_time": "2022-03-30T19:46:50.637Z"
   },
   {
    "duration": 3,
    "start_time": "2022-03-30T19:46:50.683Z"
   },
   {
    "duration": 13,
    "start_time": "2022-03-30T19:46:50.687Z"
   },
   {
    "duration": 69,
    "start_time": "2022-03-30T19:46:50.702Z"
   },
   {
    "duration": 12,
    "start_time": "2022-03-30T19:46:50.773Z"
   },
   {
    "duration": 13,
    "start_time": "2022-03-30T19:46:50.787Z"
   },
   {
    "duration": 4,
    "start_time": "2022-03-30T19:46:50.831Z"
   },
   {
    "duration": 35,
    "start_time": "2022-03-30T19:46:50.837Z"
   },
   {
    "duration": 15,
    "start_time": "2022-03-30T19:46:50.874Z"
   },
   {
    "duration": 48,
    "start_time": "2022-03-30T19:46:50.891Z"
   },
   {
    "duration": 15,
    "start_time": "2022-03-30T19:46:50.941Z"
   },
   {
    "duration": 17,
    "start_time": "2022-03-30T19:46:50.958Z"
   },
   {
    "duration": 63,
    "start_time": "2022-03-30T19:46:50.977Z"
   },
   {
    "duration": 10,
    "start_time": "2022-03-30T19:46:51.042Z"
   },
   {
    "duration": 13,
    "start_time": "2022-03-30T19:46:51.056Z"
   },
   {
    "duration": 13,
    "start_time": "2022-03-30T19:46:51.071Z"
   },
   {
    "duration": 48,
    "start_time": "2022-03-30T19:46:51.087Z"
   },
   {
    "duration": 41,
    "start_time": "2022-03-30T19:46:51.138Z"
   },
   {
    "duration": 14,
    "start_time": "2022-03-30T19:46:51.180Z"
   },
   {
    "duration": 43,
    "start_time": "2022-03-30T19:46:51.195Z"
   },
   {
    "duration": 13,
    "start_time": "2022-03-30T19:46:51.239Z"
   },
   {
    "duration": 12,
    "start_time": "2022-03-30T19:46:51.254Z"
   },
   {
    "duration": 8,
    "start_time": "2022-03-30T19:46:51.267Z"
   },
   {
    "duration": 17,
    "start_time": "2022-03-30T19:46:51.277Z"
   },
   {
    "duration": 38,
    "start_time": "2022-03-30T19:46:51.296Z"
   },
   {
    "duration": 2,
    "start_time": "2022-03-30T19:50:00.674Z"
   },
   {
    "duration": 199,
    "start_time": "2022-03-30T19:50:00.680Z"
   },
   {
    "duration": 12,
    "start_time": "2022-03-30T19:50:00.882Z"
   },
   {
    "duration": 44,
    "start_time": "2022-03-30T19:50:00.896Z"
   },
   {
    "duration": 4,
    "start_time": "2022-03-30T19:50:00.943Z"
   },
   {
    "duration": 19,
    "start_time": "2022-03-30T19:50:00.949Z"
   },
   {
    "duration": 20,
    "start_time": "2022-03-30T19:50:00.970Z"
   },
   {
    "duration": 32,
    "start_time": "2022-03-30T19:50:00.991Z"
   },
   {
    "duration": 25,
    "start_time": "2022-03-30T19:50:01.025Z"
   },
   {
    "duration": 27,
    "start_time": "2022-03-30T19:50:01.052Z"
   },
   {
    "duration": 84,
    "start_time": "2022-03-30T19:50:01.081Z"
   },
   {
    "duration": 90,
    "start_time": "2022-03-30T19:50:01.167Z"
   },
   {
    "duration": 63,
    "start_time": "2022-03-30T19:50:01.259Z"
   },
   {
    "duration": 43,
    "start_time": "2022-03-30T19:50:01.332Z"
   },
   {
    "duration": 3,
    "start_time": "2022-03-30T19:50:01.378Z"
   },
   {
    "duration": 28,
    "start_time": "2022-03-30T19:50:01.383Z"
   },
   {
    "duration": 50,
    "start_time": "2022-03-30T19:50:01.412Z"
   },
   {
    "duration": 12,
    "start_time": "2022-03-30T19:50:01.464Z"
   },
   {
    "duration": 15,
    "start_time": "2022-03-30T19:50:01.478Z"
   },
   {
    "duration": 6,
    "start_time": "2022-03-30T19:50:01.495Z"
   },
   {
    "duration": 46,
    "start_time": "2022-03-30T19:50:01.502Z"
   },
   {
    "duration": 27,
    "start_time": "2022-03-30T19:50:01.550Z"
   },
   {
    "duration": 22,
    "start_time": "2022-03-30T19:50:01.579Z"
   },
   {
    "duration": 51,
    "start_time": "2022-03-30T19:50:01.603Z"
   },
   {
    "duration": 31,
    "start_time": "2022-03-30T19:50:01.655Z"
   },
   {
    "duration": 19,
    "start_time": "2022-03-30T19:50:01.688Z"
   },
   {
    "duration": 16,
    "start_time": "2022-03-30T19:50:01.709Z"
   },
   {
    "duration": 22,
    "start_time": "2022-03-30T19:50:01.727Z"
   },
   {
    "duration": 28,
    "start_time": "2022-03-30T19:50:01.753Z"
   },
   {
    "duration": 6,
    "start_time": "2022-03-30T19:50:01.784Z"
   },
   {
    "duration": 28,
    "start_time": "2022-03-30T19:50:01.792Z"
   },
   {
    "duration": 15,
    "start_time": "2022-03-30T19:50:01.823Z"
   },
   {
    "duration": 21,
    "start_time": "2022-03-30T19:50:01.840Z"
   },
   {
    "duration": 17,
    "start_time": "2022-03-30T19:50:01.863Z"
   },
   {
    "duration": 14,
    "start_time": "2022-03-30T19:50:01.882Z"
   },
   {
    "duration": 16,
    "start_time": "2022-03-30T19:50:01.898Z"
   },
   {
    "duration": 22,
    "start_time": "2022-03-30T19:50:01.915Z"
   },
   {
    "duration": 24,
    "start_time": "2022-03-30T19:50:01.939Z"
   },
   {
    "duration": 3,
    "start_time": "2022-03-30T19:52:11.621Z"
   },
   {
    "duration": 168,
    "start_time": "2022-03-30T19:52:11.629Z"
   },
   {
    "duration": 12,
    "start_time": "2022-03-30T19:52:11.799Z"
   },
   {
    "duration": 41,
    "start_time": "2022-03-30T19:52:11.813Z"
   },
   {
    "duration": 15,
    "start_time": "2022-03-30T19:52:11.856Z"
   },
   {
    "duration": 18,
    "start_time": "2022-03-30T19:52:11.873Z"
   },
   {
    "duration": 424,
    "start_time": "2022-04-04T11:50:53.669Z"
   },
   {
    "duration": 145,
    "start_time": "2022-04-04T11:50:54.095Z"
   },
   {
    "duration": 18,
    "start_time": "2022-04-04T11:50:54.241Z"
   },
   {
    "duration": 36,
    "start_time": "2022-04-04T11:50:54.262Z"
   },
   {
    "duration": 4,
    "start_time": "2022-04-04T11:50:54.300Z"
   },
   {
    "duration": 12,
    "start_time": "2022-04-04T11:50:54.306Z"
   },
   {
    "duration": 10,
    "start_time": "2022-04-04T11:50:54.320Z"
   },
   {
    "duration": 26,
    "start_time": "2022-04-04T11:50:54.331Z"
   },
   {
    "duration": 38,
    "start_time": "2022-04-04T11:50:54.359Z"
   },
   {
    "duration": 22,
    "start_time": "2022-04-04T11:50:54.399Z"
   },
   {
    "duration": 77,
    "start_time": "2022-04-04T11:50:54.423Z"
   },
   {
    "duration": 68,
    "start_time": "2022-04-04T11:50:54.501Z"
   },
   {
    "duration": 57,
    "start_time": "2022-04-04T11:50:54.580Z"
   },
   {
    "duration": 51,
    "start_time": "2022-04-04T11:50:54.638Z"
   },
   {
    "duration": 3,
    "start_time": "2022-04-04T11:50:54.691Z"
   },
   {
    "duration": 11,
    "start_time": "2022-04-04T11:50:54.695Z"
   },
   {
    "duration": 51,
    "start_time": "2022-04-04T11:50:54.707Z"
   },
   {
    "duration": 10,
    "start_time": "2022-04-04T11:50:54.760Z"
   },
   {
    "duration": 17,
    "start_time": "2022-04-04T11:50:54.772Z"
   },
   {
    "duration": 17,
    "start_time": "2022-04-04T11:50:54.791Z"
   },
   {
    "duration": 35,
    "start_time": "2022-04-04T11:50:54.810Z"
   },
   {
    "duration": 32,
    "start_time": "2022-04-04T11:50:54.847Z"
   },
   {
    "duration": 26,
    "start_time": "2022-04-04T11:50:54.881Z"
   },
   {
    "duration": 17,
    "start_time": "2022-04-04T11:50:54.908Z"
   },
   {
    "duration": 23,
    "start_time": "2022-04-04T11:50:54.926Z"
   },
   {
    "duration": 12,
    "start_time": "2022-04-04T11:50:54.951Z"
   },
   {
    "duration": 21,
    "start_time": "2022-04-04T11:50:54.965Z"
   },
   {
    "duration": 21,
    "start_time": "2022-04-04T11:50:54.991Z"
   },
   {
    "duration": 19,
    "start_time": "2022-04-04T11:50:55.013Z"
   },
   {
    "duration": 7,
    "start_time": "2022-04-04T11:50:55.034Z"
   },
   {
    "duration": 26,
    "start_time": "2022-04-04T11:50:55.042Z"
   },
   {
    "duration": 17,
    "start_time": "2022-04-04T11:50:55.069Z"
   },
   {
    "duration": 20,
    "start_time": "2022-04-04T11:50:55.088Z"
   },
   {
    "duration": 16,
    "start_time": "2022-04-04T11:50:55.109Z"
   },
   {
    "duration": 9,
    "start_time": "2022-04-04T11:50:55.127Z"
   },
   {
    "duration": 12,
    "start_time": "2022-04-04T11:50:55.137Z"
   },
   {
    "duration": 10,
    "start_time": "2022-04-04T11:50:55.150Z"
   },
   {
    "duration": 13,
    "start_time": "2022-04-04T11:50:55.162Z"
   },
   {
    "duration": 16,
    "start_time": "2022-04-04T11:51:16.601Z"
   },
   {
    "duration": 47,
    "start_time": "2022-04-04T11:54:43.802Z"
   },
   {
    "duration": 16,
    "start_time": "2022-04-04T11:54:56.172Z"
   },
   {
    "duration": 12,
    "start_time": "2022-04-04T11:59:06.044Z"
   },
   {
    "duration": 543,
    "start_time": "2022-04-14T14:29:01.848Z"
   },
   {
    "duration": 210,
    "start_time": "2022-04-14T14:29:02.393Z"
   },
   {
    "duration": 29,
    "start_time": "2022-04-14T14:29:02.605Z"
   },
   {
    "duration": 52,
    "start_time": "2022-04-14T14:29:02.637Z"
   },
   {
    "duration": 8,
    "start_time": "2022-04-14T14:29:02.692Z"
   },
   {
    "duration": 16,
    "start_time": "2022-04-14T14:29:02.703Z"
   },
   {
    "duration": 10,
    "start_time": "2022-04-14T14:29:02.722Z"
   },
   {
    "duration": 71,
    "start_time": "2022-04-14T14:29:02.735Z"
   },
   {
    "duration": 37,
    "start_time": "2022-04-14T14:29:02.808Z"
   },
   {
    "duration": 39,
    "start_time": "2022-04-14T14:29:02.848Z"
   },
   {
    "duration": 118,
    "start_time": "2022-04-14T14:29:02.890Z"
   },
   {
    "duration": 140,
    "start_time": "2022-04-14T14:29:03.011Z"
   },
   {
    "duration": 110,
    "start_time": "2022-04-14T14:29:03.153Z"
   },
   {
    "duration": 62,
    "start_time": "2022-04-14T14:29:03.266Z"
   },
   {
    "duration": 5,
    "start_time": "2022-04-14T14:29:03.332Z"
   },
   {
    "duration": 46,
    "start_time": "2022-04-14T14:29:03.340Z"
   },
   {
    "duration": 57,
    "start_time": "2022-04-14T14:29:03.388Z"
   },
   {
    "duration": 38,
    "start_time": "2022-04-14T14:29:03.448Z"
   },
   {
    "duration": 19,
    "start_time": "2022-04-14T14:29:03.489Z"
   },
   {
    "duration": 102,
    "start_time": "2022-04-14T14:29:03.511Z"
   },
   {
    "duration": 0,
    "start_time": "2022-04-14T14:29:03.617Z"
   },
   {
    "duration": 0,
    "start_time": "2022-04-14T14:29:03.619Z"
   },
   {
    "duration": 0,
    "start_time": "2022-04-14T14:29:03.621Z"
   },
   {
    "duration": 0,
    "start_time": "2022-04-14T14:29:03.624Z"
   },
   {
    "duration": 0,
    "start_time": "2022-04-14T14:29:03.626Z"
   },
   {
    "duration": 0,
    "start_time": "2022-04-14T14:29:03.627Z"
   },
   {
    "duration": 0,
    "start_time": "2022-04-14T14:29:03.629Z"
   },
   {
    "duration": 0,
    "start_time": "2022-04-14T14:29:03.632Z"
   },
   {
    "duration": 0,
    "start_time": "2022-04-14T14:29:03.633Z"
   },
   {
    "duration": 1,
    "start_time": "2022-04-14T14:29:03.635Z"
   },
   {
    "duration": 0,
    "start_time": "2022-04-14T14:29:03.638Z"
   },
   {
    "duration": 0,
    "start_time": "2022-04-14T14:29:03.640Z"
   },
   {
    "duration": 0,
    "start_time": "2022-04-14T14:29:03.642Z"
   },
   {
    "duration": 0,
    "start_time": "2022-04-14T14:29:03.644Z"
   },
   {
    "duration": 0,
    "start_time": "2022-04-14T14:29:03.646Z"
   },
   {
    "duration": 0,
    "start_time": "2022-04-14T14:29:03.648Z"
   },
   {
    "duration": 0,
    "start_time": "2022-04-14T14:29:03.650Z"
   },
   {
    "duration": 0,
    "start_time": "2022-04-14T14:29:03.652Z"
   },
   {
    "duration": 85,
    "start_time": "2022-04-14T14:36:06.331Z"
   },
   {
    "duration": 85,
    "start_time": "2022-04-14T14:36:19.387Z"
   },
   {
    "duration": 466,
    "start_time": "2022-04-14T14:36:29.607Z"
   },
   {
    "duration": 199,
    "start_time": "2022-04-14T14:36:30.076Z"
   },
   {
    "duration": 28,
    "start_time": "2022-04-14T14:36:30.277Z"
   },
   {
    "duration": 40,
    "start_time": "2022-04-14T14:36:30.308Z"
   },
   {
    "duration": 32,
    "start_time": "2022-04-14T14:36:30.350Z"
   },
   {
    "duration": 14,
    "start_time": "2022-04-14T14:36:30.384Z"
   },
   {
    "duration": 12,
    "start_time": "2022-04-14T14:36:30.400Z"
   },
   {
    "duration": 46,
    "start_time": "2022-04-14T14:36:30.414Z"
   },
   {
    "duration": 42,
    "start_time": "2022-04-14T14:36:30.463Z"
   },
   {
    "duration": 34,
    "start_time": "2022-04-14T14:36:30.508Z"
   },
   {
    "duration": 95,
    "start_time": "2022-04-14T14:36:34.912Z"
   },
   {
    "duration": 90,
    "start_time": "2022-04-14T14:37:16.871Z"
   },
   {
    "duration": 4,
    "start_time": "2022-04-14T14:37:32.711Z"
   },
   {
    "duration": 197,
    "start_time": "2022-04-14T14:37:32.717Z"
   },
   {
    "duration": 19,
    "start_time": "2022-04-14T14:37:32.916Z"
   },
   {
    "duration": 55,
    "start_time": "2022-04-14T14:37:32.938Z"
   },
   {
    "duration": 5,
    "start_time": "2022-04-14T14:37:32.995Z"
   },
   {
    "duration": 12,
    "start_time": "2022-04-14T14:37:33.002Z"
   },
   {
    "duration": 9,
    "start_time": "2022-04-14T14:37:33.016Z"
   },
   {
    "duration": 62,
    "start_time": "2022-04-14T14:37:33.027Z"
   },
   {
    "duration": 22,
    "start_time": "2022-04-14T14:37:33.093Z"
   },
   {
    "duration": 31,
    "start_time": "2022-04-14T14:37:33.117Z"
   },
   {
    "duration": 113,
    "start_time": "2022-04-14T14:37:33.150Z"
   },
   {
    "duration": 132,
    "start_time": "2022-04-14T14:37:33.265Z"
   },
   {
    "duration": 92,
    "start_time": "2022-04-14T14:37:33.399Z"
   },
   {
    "duration": 49,
    "start_time": "2022-04-14T14:37:33.494Z"
   },
   {
    "duration": 4,
    "start_time": "2022-04-14T14:37:33.545Z"
   },
   {
    "duration": 40,
    "start_time": "2022-04-14T14:37:33.551Z"
   },
   {
    "duration": 49,
    "start_time": "2022-04-14T14:37:33.593Z"
   },
   {
    "duration": 16,
    "start_time": "2022-04-14T14:37:33.644Z"
   },
   {
    "duration": 15,
    "start_time": "2022-04-14T14:37:33.681Z"
   },
   {
    "duration": 122,
    "start_time": "2022-04-14T14:37:33.698Z"
   },
   {
    "duration": 0,
    "start_time": "2022-04-14T14:37:33.823Z"
   },
   {
    "duration": 0,
    "start_time": "2022-04-14T14:37:33.825Z"
   },
   {
    "duration": 0,
    "start_time": "2022-04-14T14:37:33.826Z"
   },
   {
    "duration": 0,
    "start_time": "2022-04-14T14:37:33.827Z"
   },
   {
    "duration": 0,
    "start_time": "2022-04-14T14:37:33.829Z"
   },
   {
    "duration": 0,
    "start_time": "2022-04-14T14:37:33.830Z"
   },
   {
    "duration": 0,
    "start_time": "2022-04-14T14:37:33.831Z"
   },
   {
    "duration": 0,
    "start_time": "2022-04-14T14:37:33.832Z"
   },
   {
    "duration": 0,
    "start_time": "2022-04-14T14:37:33.834Z"
   },
   {
    "duration": 0,
    "start_time": "2022-04-14T14:37:33.835Z"
   },
   {
    "duration": 0,
    "start_time": "2022-04-14T14:37:33.837Z"
   },
   {
    "duration": 0,
    "start_time": "2022-04-14T14:37:33.838Z"
   },
   {
    "duration": 0,
    "start_time": "2022-04-14T14:37:33.840Z"
   },
   {
    "duration": 0,
    "start_time": "2022-04-14T14:37:33.841Z"
   },
   {
    "duration": 0,
    "start_time": "2022-04-14T14:37:33.843Z"
   },
   {
    "duration": 0,
    "start_time": "2022-04-14T14:37:33.845Z"
   },
   {
    "duration": 0,
    "start_time": "2022-04-14T14:37:33.846Z"
   },
   {
    "duration": 0,
    "start_time": "2022-04-14T14:37:33.848Z"
   },
   {
    "duration": 47,
    "start_time": "2022-04-14T14:40:02.624Z"
   },
   {
    "duration": 50,
    "start_time": "2022-04-14T14:40:21.087Z"
   },
   {
    "duration": 1095,
    "start_time": "2022-04-14T14:40:30.135Z"
   },
   {
    "duration": 57,
    "start_time": "2022-04-14T14:40:38.894Z"
   },
   {
    "duration": 53,
    "start_time": "2022-04-14T14:40:49.197Z"
   },
   {
    "duration": 98,
    "start_time": "2022-04-14T14:41:02.132Z"
   },
   {
    "duration": 14,
    "start_time": "2022-04-14T14:41:06.716Z"
   },
   {
    "duration": 50,
    "start_time": "2022-04-14T14:41:37.140Z"
   },
   {
    "duration": 679,
    "start_time": "2022-04-14T14:49:25.692Z"
   },
   {
    "duration": 318,
    "start_time": "2022-04-14T14:49:26.375Z"
   },
   {
    "duration": 30,
    "start_time": "2022-04-14T14:49:26.696Z"
   },
   {
    "duration": 68,
    "start_time": "2022-04-14T14:49:26.730Z"
   },
   {
    "duration": 7,
    "start_time": "2022-04-14T14:49:26.801Z"
   },
   {
    "duration": 17,
    "start_time": "2022-04-14T14:49:26.811Z"
   },
   {
    "duration": 9,
    "start_time": "2022-04-14T14:49:26.831Z"
   },
   {
    "duration": 91,
    "start_time": "2022-04-14T14:49:26.842Z"
   },
   {
    "duration": 61,
    "start_time": "2022-04-14T14:49:26.936Z"
   },
   {
    "duration": 59,
    "start_time": "2022-04-14T14:49:27.004Z"
   },
   {
    "duration": 165,
    "start_time": "2022-04-14T14:49:27.082Z"
   },
   {
    "duration": 188,
    "start_time": "2022-04-14T14:49:27.251Z"
   },
   {
    "duration": 154,
    "start_time": "2022-04-14T14:49:27.442Z"
   },
   {
    "duration": 106,
    "start_time": "2022-04-14T14:49:27.599Z"
   },
   {
    "duration": 4,
    "start_time": "2022-04-14T14:49:27.708Z"
   },
   {
    "duration": 25,
    "start_time": "2022-04-14T14:49:27.714Z"
   },
   {
    "duration": 73,
    "start_time": "2022-04-14T14:49:27.741Z"
   },
   {
    "duration": 17,
    "start_time": "2022-04-14T14:49:27.816Z"
   },
   {
    "duration": 16,
    "start_time": "2022-04-14T14:49:27.835Z"
   },
   {
    "duration": 5,
    "start_time": "2022-04-14T14:49:27.883Z"
   },
   {
    "duration": 27,
    "start_time": "2022-04-14T14:49:27.890Z"
   },
   {
    "duration": 20,
    "start_time": "2022-04-14T14:49:27.919Z"
   },
   {
    "duration": 57,
    "start_time": "2022-04-14T14:49:27.941Z"
   },
   {
    "duration": 19,
    "start_time": "2022-04-14T14:49:28.001Z"
   },
   {
    "duration": 22,
    "start_time": "2022-04-14T14:49:28.023Z"
   },
   {
    "duration": 52,
    "start_time": "2022-04-14T14:49:28.047Z"
   },
   {
    "duration": 13,
    "start_time": "2022-04-14T14:49:28.101Z"
   },
   {
    "duration": 17,
    "start_time": "2022-04-14T14:49:28.119Z"
   },
   {
    "duration": 49,
    "start_time": "2022-04-14T14:49:28.139Z"
   },
   {
    "duration": 11,
    "start_time": "2022-04-14T14:49:28.190Z"
   },
   {
    "duration": 30,
    "start_time": "2022-04-14T14:49:28.203Z"
   },
   {
    "duration": 17,
    "start_time": "2022-04-14T14:49:28.235Z"
   },
   {
    "duration": 46,
    "start_time": "2022-04-14T14:49:28.254Z"
   },
   {
    "duration": 15,
    "start_time": "2022-04-14T14:49:28.302Z"
   },
   {
    "duration": 14,
    "start_time": "2022-04-14T14:49:28.320Z"
   },
   {
    "duration": 6,
    "start_time": "2022-04-14T14:49:28.336Z"
   },
   {
    "duration": 42,
    "start_time": "2022-04-14T14:49:28.345Z"
   },
   {
    "duration": 9,
    "start_time": "2022-04-14T14:49:28.389Z"
   }
  ],
  "colab": {
   "collapsed_sections": [
    "E0vqbgi9ay0H",
    "VUC88oWjTJw2"
   ],
   "name": "yandex_music_project_2021.2.ipynb",
   "provenance": []
  },
  "kernelspec": {
   "display_name": "Python 3.10.4 64-bit",
   "language": "python",
   "name": "python3"
  },
  "language_info": {
   "codemirror_mode": {
    "name": "ipython",
    "version": 3
   },
   "file_extension": ".py",
   "mimetype": "text/x-python",
   "name": "python",
   "nbconvert_exporter": "python",
   "pygments_lexer": "ipython3",
   "version": "3.10.4"
  },
  "toc": {
   "base_numbering": 1,
   "nav_menu": {},
   "number_sections": true,
   "sideBar": true,
   "skip_h1_title": true,
   "title_cell": "Table of Contents",
   "title_sidebar": "Contents",
   "toc_cell": false,
   "toc_position": {
    "height": "calc(100% - 180px)",
    "left": "10px",
    "top": "150px",
    "width": "413.368px"
   },
   "toc_section_display": true,
   "toc_window_display": true
  },
  "vscode": {
   "interpreter": {
    "hash": "2469a70536e4d2335a2ea8907942d0699c37342a371ac185bdb5b0aa6f073890"
   }
  }
 },
 "nbformat": 4,
 "nbformat_minor": 1
}
