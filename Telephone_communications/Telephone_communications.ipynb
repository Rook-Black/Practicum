{
 "cells": [
  {
   "attachments": {},
   "cell_type": "markdown",
   "metadata": {
    "toc": true
   },
   "source": [
    "<h1>Содержание<span class=\"tocSkip\"></span></h1>\n",
    "<div class=\"toc\"><ul class=\"toc-item\"><li><span><a href=\"#Описание-проекта\" data-toc-modified-id=\"Описание-проекта-1\"><span class=\"toc-item-num\">1&nbsp;&nbsp;</span>Описание проекта</a></span><ul class=\"toc-item\"><li><span><a href=\"#Цель-проекта\" data-toc-modified-id=\"Цель-проекта-1.1\"><span class=\"toc-item-num\">1.1&nbsp;&nbsp;</span>Цель проекта</a></span></li><li><span><a href=\"#Описание-тарифов\" data-toc-modified-id=\"Описание-тарифов-1.2\"><span class=\"toc-item-num\">1.2&nbsp;&nbsp;</span>Описание тарифов</a></span></li><li><span><a href=\"#Описание-данных\" data-toc-modified-id=\"Описание-данных-1.3\"><span class=\"toc-item-num\">1.3&nbsp;&nbsp;</span>Описание данных</a></span></li></ul></li><li><span><a href=\"#Обработка-данных\" data-toc-modified-id=\"Обработка-данных-2\"><span class=\"toc-item-num\">2&nbsp;&nbsp;</span>Обработка данных</a></span><ul class=\"toc-item\"><li><span><a href=\"#Открытие-файлов\" data-toc-modified-id=\"Открытие-файлов-2.1\"><span class=\"toc-item-num\">2.1&nbsp;&nbsp;</span>Открытие файлов</a></span><ul class=\"toc-item\"><li><span><a href=\"#Вывод\" data-toc-modified-id=\"Вывод-2.1.1\"><span class=\"toc-item-num\">2.1.1&nbsp;&nbsp;</span>Вывод</a></span></li></ul></li><li><span><a href=\"#Предподготовка-данных\" data-toc-modified-id=\"Предподготовка-данных-2.2\"><span class=\"toc-item-num\">2.2&nbsp;&nbsp;</span>Предподготовка данных</a></span><ul class=\"toc-item\"><li><span><a href=\"#Вывод\" data-toc-modified-id=\"Вывод-2.2.1\"><span class=\"toc-item-num\">2.2.1&nbsp;&nbsp;</span>Вывод</a></span></li></ul></li><li><span><a href=\"#Добавляем-необходимые-столбцы\" data-toc-modified-id=\"Добавляем-необходимые-столбцы-2.3\"><span class=\"toc-item-num\">2.3&nbsp;&nbsp;</span>Добавляем необходимые столбцы</a></span><ul class=\"toc-item\"><li><span><a href=\"#Вывод\" data-toc-modified-id=\"Вывод-2.3.1\"><span class=\"toc-item-num\">2.3.1&nbsp;&nbsp;</span>Вывод</a></span></li></ul></li></ul></li><li><span><a href=\"#Анализ-данных\" data-toc-modified-id=\"Анализ-данных-3\"><span class=\"toc-item-num\">3&nbsp;&nbsp;</span>Анализ данных</a></span><ul class=\"toc-item\"><li><span><a href=\"#Вывод\" data-toc-modified-id=\"Вывод-3.1\"><span class=\"toc-item-num\">3.1&nbsp;&nbsp;</span>Вывод</a></span></li></ul></li><li><span><a href=\"#Проверка-гипотез\" data-toc-modified-id=\"Проверка-гипотез-4\"><span class=\"toc-item-num\">4&nbsp;&nbsp;</span>Проверка гипотез</a></span></li><li><span><a href=\"#Вывод\" data-toc-modified-id=\"Вывод-5\"><span class=\"toc-item-num\">5&nbsp;&nbsp;</span>Вывод</a></span></li></ul></div>"
   ]
  },
  {
   "attachments": {},
   "cell_type": "markdown",
   "metadata": {},
   "source": [
    "## Описание проекта"
   ]
  },
  {
   "attachments": {},
   "cell_type": "markdown",
   "metadata": {},
   "source": [
    "### Цель проекта"
   ]
  },
  {
   "attachments": {},
   "cell_type": "markdown",
   "metadata": {},
   "source": [
    "Оценить использование тарифов \"Ультра\" и \"Смарт\" в компании связи и дать рекомендации по рекламной компании."
   ]
  },
  {
   "attachments": {},
   "cell_type": "markdown",
   "metadata": {},
   "source": [
    "### Описание тарифов"
   ]
  },
  {
   "attachments": {},
   "cell_type": "markdown",
   "metadata": {},
   "source": [
    "**Тариф «Смарт»:**\n",
    "1. Ежемесячная плата: 550 рублей\n",
    "2. Включено 500 минут разговора, 50 сообщений и 15 Гб интернет-трафика\n",
    "3. Стоимость услуг сверх тарифного пакета:\n",
    "- минута разговора: 3 рубля\n",
    "- сообщение: 3 рубля\n",
    "- 1 Гб интернет-трафика: 200 рублей\n",
    "\n",
    "**Тариф «Ультра»**\n",
    "1. Ежемесячная плата: 1950 рублей\n",
    "2. Включено 3000 минут разговора, 1000 сообщений и 30 Гб интернет-трафика\n",
    "3. Стоимость услуг сверх тарифного пакета:\n",
    "- минута разговора: 1 рубль\n",
    "- сообщение: 1 рубль\n",
    "- 1 Гб интернет-трафика: 150 рублей"
   ]
  },
  {
   "attachments": {},
   "cell_type": "markdown",
   "metadata": {},
   "source": [
    "### Описание данных"
   ]
  },
  {
   "attachments": {},
   "cell_type": "markdown",
   "metadata": {},
   "source": [
    "**Таблица *users* (информация о пользователях):**  \n",
    "user_id — уникальный идентификатор пользователя  \n",
    "first_name — имя пользователя  \n",
    "last_name — фамилия пользователя  \n",
    "age — возраст пользователя (годы)  \n",
    "reg_date — дата подключения тарифа (день, месяц, год)  \n",
    "churn_date — дата прекращения пользования тарифом (если значение пропущено, то тариф ещё действовал на момент выгрузки данных)  \n",
    "city — город проживания пользователя  \n",
    "tariff — название тарифного плана  \n",
    "\n",
    "**Таблица *calls* (информация о звонках):**  \n",
    "id — уникальный номер звонка  \n",
    "call_date — дата звонка  \n",
    "duration — длительность звонка в минутах  \n",
    "user_id — идентификатор пользователя, сделавшего звонок  \n",
    "\n",
    "**Таблица *messages* (информация о сообщениях):**  \n",
    "id — уникальный номер сообщения  \n",
    "message_date — дата сообщения  \n",
    "user_id — идентификатор пользователя, отправившего сообщение  \n",
    "\n",
    "**Таблица *internet* (информация об интернет-сессиях):**  \n",
    "id — уникальный номер сессии  \n",
    "mb_used — объём потраченного за сессию интернет-трафика (в мегабайтах)  \n",
    "session_date — дата интернет-сессии  \n",
    "user_id — идентификатор пользователя  \n",
    "\n",
    "**Таблица *tariffs* (информация о тарифах):**  \n",
    "tariff_name — название тарифа  \n",
    "rub_monthly_fee — ежемесячная абонентская плата в рублях  \n",
    "minutes_included — количество минут разговора в месяц, включённых в абонентскую плату  \n",
    "messages_included — количество сообщений в месяц, включённых в абонентскую плату  \n",
    "mb_per_month_included — объём интернет-трафика, включённого в абонентскую плату (в мегабайтах)  \n",
    "rub_per_minute — стоимость минуты разговора сверх тарифного пакета (например, если в тарифе 100 минут разговора в месяц, то со 101 минуты будет взиматься плата)  \n",
    "rub_per_message — стоимость отправки сообщения сверх тарифного пакета  \n",
    "rub_per_gb — стоимость дополнительного гигабайта интернет-трафика сверх тарифного пакета (1 гигабайт = 1024 мегабайта)"
   ]
  },
  {
   "attachments": {},
   "cell_type": "markdown",
   "metadata": {},
   "source": [
    "## Обработка данных"
   ]
  },
  {
   "attachments": {},
   "cell_type": "markdown",
   "metadata": {},
   "source": [
    "### Открытие файлов"
   ]
  },
  {
   "cell_type": "code",
   "execution_count": 1,
   "metadata": {},
   "outputs": [],
   "source": [
    "import pandas as pd\n",
    "import matplotlib.pyplot as plt\n",
    "from scipy import stats as st\n",
    "import numpy as np\n",
    "import math\n",
    "from collections import Counter"
   ]
  },
  {
   "attachments": {},
   "cell_type": "markdown",
   "metadata": {},
   "source": [
    "Достаем все данные и посмотрим на пару строк в каждом DF."
   ]
  },
  {
   "cell_type": "code",
   "execution_count": 2,
   "metadata": {},
   "outputs": [],
   "source": [
    "df_calls = pd.read_csv(\"/datasets/calls.csv\")\n",
    "df_internet = pd.read_csv(\"/datasets/internet.csv\")\n",
    "df_messages = pd.read_csv(\"/datasets/messages.csv\")\n",
    "df_tariffs = pd.read_csv(\"/datasets/tariffs.csv\")\n",
    "df_users = pd.read_csv(\"/datasets/users.csv\")"
   ]
  },
  {
   "cell_type": "code",
   "execution_count": 3,
   "metadata": {},
   "outputs": [
    {
     "data": {
      "text/html": [
       "<div>\n",
       "<style scoped>\n",
       "    .dataframe tbody tr th:only-of-type {\n",
       "        vertical-align: middle;\n",
       "    }\n",
       "\n",
       "    .dataframe tbody tr th {\n",
       "        vertical-align: top;\n",
       "    }\n",
       "\n",
       "    .dataframe thead th {\n",
       "        text-align: right;\n",
       "    }\n",
       "</style>\n",
       "<table border=\"1\" class=\"dataframe\">\n",
       "  <thead>\n",
       "    <tr style=\"text-align: right;\">\n",
       "      <th></th>\n",
       "      <th>id</th>\n",
       "      <th>call_date</th>\n",
       "      <th>duration</th>\n",
       "      <th>user_id</th>\n",
       "    </tr>\n",
       "  </thead>\n",
       "  <tbody>\n",
       "    <tr>\n",
       "      <th>70199</th>\n",
       "      <td>1175_348</td>\n",
       "      <td>2018-10-01</td>\n",
       "      <td>5.53</td>\n",
       "      <td>1175</td>\n",
       "    </tr>\n",
       "    <tr>\n",
       "      <th>77633</th>\n",
       "      <td>1195_48</td>\n",
       "      <td>2018-11-12</td>\n",
       "      <td>12.48</td>\n",
       "      <td>1195</td>\n",
       "    </tr>\n",
       "    <tr>\n",
       "      <th>172752</th>\n",
       "      <td>1427_116</td>\n",
       "      <td>2018-07-09</td>\n",
       "      <td>6.09</td>\n",
       "      <td>1427</td>\n",
       "    </tr>\n",
       "    <tr>\n",
       "      <th>181338</th>\n",
       "      <td>1453_530</td>\n",
       "      <td>2018-05-23</td>\n",
       "      <td>0.00</td>\n",
       "      <td>1453</td>\n",
       "    </tr>\n",
       "    <tr>\n",
       "      <th>7331</th>\n",
       "      <td>1019_273</td>\n",
       "      <td>2018-06-08</td>\n",
       "      <td>8.96</td>\n",
       "      <td>1019</td>\n",
       "    </tr>\n",
       "  </tbody>\n",
       "</table>\n",
       "</div>"
      ],
      "text/plain": [
       "              id   call_date  duration  user_id\n",
       "70199   1175_348  2018-10-01      5.53     1175\n",
       "77633    1195_48  2018-11-12     12.48     1195\n",
       "172752  1427_116  2018-07-09      6.09     1427\n",
       "181338  1453_530  2018-05-23      0.00     1453\n",
       "7331    1019_273  2018-06-08      8.96     1019"
      ]
     },
     "metadata": {},
     "output_type": "display_data"
    },
    {
     "data": {
      "text/html": [
       "<div>\n",
       "<style scoped>\n",
       "    .dataframe tbody tr th:only-of-type {\n",
       "        vertical-align: middle;\n",
       "    }\n",
       "\n",
       "    .dataframe tbody tr th {\n",
       "        vertical-align: top;\n",
       "    }\n",
       "\n",
       "    .dataframe thead th {\n",
       "        text-align: right;\n",
       "    }\n",
       "</style>\n",
       "<table border=\"1\" class=\"dataframe\">\n",
       "  <thead>\n",
       "    <tr style=\"text-align: right;\">\n",
       "      <th></th>\n",
       "      <th>Unnamed: 0</th>\n",
       "      <th>id</th>\n",
       "      <th>mb_used</th>\n",
       "      <th>session_date</th>\n",
       "      <th>user_id</th>\n",
       "    </tr>\n",
       "  </thead>\n",
       "  <tbody>\n",
       "    <tr>\n",
       "      <th>49327</th>\n",
       "      <td>49327</td>\n",
       "      <td>1171_29</td>\n",
       "      <td>478.04</td>\n",
       "      <td>2018-08-14</td>\n",
       "      <td>1171</td>\n",
       "    </tr>\n",
       "    <tr>\n",
       "      <th>68796</th>\n",
       "      <td>68796</td>\n",
       "      <td>1233_255</td>\n",
       "      <td>210.19</td>\n",
       "      <td>2018-07-23</td>\n",
       "      <td>1233</td>\n",
       "    </tr>\n",
       "    <tr>\n",
       "      <th>69255</th>\n",
       "      <td>69255</td>\n",
       "      <td>1236_16</td>\n",
       "      <td>0.00</td>\n",
       "      <td>2018-12-25</td>\n",
       "      <td>1236</td>\n",
       "    </tr>\n",
       "    <tr>\n",
       "      <th>58886</th>\n",
       "      <td>58886</td>\n",
       "      <td>1198_87</td>\n",
       "      <td>264.29</td>\n",
       "      <td>2018-11-20</td>\n",
       "      <td>1198</td>\n",
       "    </tr>\n",
       "    <tr>\n",
       "      <th>23466</th>\n",
       "      <td>23466</td>\n",
       "      <td>1079_69</td>\n",
       "      <td>216.29</td>\n",
       "      <td>2018-05-20</td>\n",
       "      <td>1079</td>\n",
       "    </tr>\n",
       "  </tbody>\n",
       "</table>\n",
       "</div>"
      ],
      "text/plain": [
       "       Unnamed: 0        id  mb_used session_date  user_id\n",
       "49327       49327   1171_29   478.04   2018-08-14     1171\n",
       "68796       68796  1233_255   210.19   2018-07-23     1233\n",
       "69255       69255   1236_16     0.00   2018-12-25     1236\n",
       "58886       58886   1198_87   264.29   2018-11-20     1198\n",
       "23466       23466   1079_69   216.29   2018-05-20     1079"
      ]
     },
     "metadata": {},
     "output_type": "display_data"
    },
    {
     "data": {
      "text/html": [
       "<div>\n",
       "<style scoped>\n",
       "    .dataframe tbody tr th:only-of-type {\n",
       "        vertical-align: middle;\n",
       "    }\n",
       "\n",
       "    .dataframe tbody tr th {\n",
       "        vertical-align: top;\n",
       "    }\n",
       "\n",
       "    .dataframe thead th {\n",
       "        text-align: right;\n",
       "    }\n",
       "</style>\n",
       "<table border=\"1\" class=\"dataframe\">\n",
       "  <thead>\n",
       "    <tr style=\"text-align: right;\">\n",
       "      <th></th>\n",
       "      <th>id</th>\n",
       "      <th>message_date</th>\n",
       "      <th>user_id</th>\n",
       "    </tr>\n",
       "  </thead>\n",
       "  <tbody>\n",
       "    <tr>\n",
       "      <th>12594</th>\n",
       "      <td>1054_150</td>\n",
       "      <td>2018-07-14</td>\n",
       "      <td>1054</td>\n",
       "    </tr>\n",
       "    <tr>\n",
       "      <th>12162</th>\n",
       "      <td>1052_234</td>\n",
       "      <td>2018-09-24</td>\n",
       "      <td>1052</td>\n",
       "    </tr>\n",
       "    <tr>\n",
       "      <th>59272</th>\n",
       "      <td>1259_139</td>\n",
       "      <td>2018-11-19</td>\n",
       "      <td>1259</td>\n",
       "    </tr>\n",
       "    <tr>\n",
       "      <th>121896</th>\n",
       "      <td>1495_71</td>\n",
       "      <td>2018-09-14</td>\n",
       "      <td>1495</td>\n",
       "    </tr>\n",
       "    <tr>\n",
       "      <th>20705</th>\n",
       "      <td>1089_708</td>\n",
       "      <td>2018-03-05</td>\n",
       "      <td>1089</td>\n",
       "    </tr>\n",
       "  </tbody>\n",
       "</table>\n",
       "</div>"
      ],
      "text/plain": [
       "              id message_date  user_id\n",
       "12594   1054_150   2018-07-14     1054\n",
       "12162   1052_234   2018-09-24     1052\n",
       "59272   1259_139   2018-11-19     1259\n",
       "121896   1495_71   2018-09-14     1495\n",
       "20705   1089_708   2018-03-05     1089"
      ]
     },
     "metadata": {},
     "output_type": "display_data"
    },
    {
     "data": {
      "text/html": [
       "<div>\n",
       "<style scoped>\n",
       "    .dataframe tbody tr th:only-of-type {\n",
       "        vertical-align: middle;\n",
       "    }\n",
       "\n",
       "    .dataframe tbody tr th {\n",
       "        vertical-align: top;\n",
       "    }\n",
       "\n",
       "    .dataframe thead th {\n",
       "        text-align: right;\n",
       "    }\n",
       "</style>\n",
       "<table border=\"1\" class=\"dataframe\">\n",
       "  <thead>\n",
       "    <tr style=\"text-align: right;\">\n",
       "      <th></th>\n",
       "      <th>messages_included</th>\n",
       "      <th>mb_per_month_included</th>\n",
       "      <th>minutes_included</th>\n",
       "      <th>rub_monthly_fee</th>\n",
       "      <th>rub_per_gb</th>\n",
       "      <th>rub_per_message</th>\n",
       "      <th>rub_per_minute</th>\n",
       "      <th>tariff_name</th>\n",
       "    </tr>\n",
       "  </thead>\n",
       "  <tbody>\n",
       "    <tr>\n",
       "      <th>0</th>\n",
       "      <td>50</td>\n",
       "      <td>15360</td>\n",
       "      <td>500</td>\n",
       "      <td>550</td>\n",
       "      <td>200</td>\n",
       "      <td>3</td>\n",
       "      <td>3</td>\n",
       "      <td>smart</td>\n",
       "    </tr>\n",
       "    <tr>\n",
       "      <th>1</th>\n",
       "      <td>1000</td>\n",
       "      <td>30720</td>\n",
       "      <td>3000</td>\n",
       "      <td>1950</td>\n",
       "      <td>150</td>\n",
       "      <td>1</td>\n",
       "      <td>1</td>\n",
       "      <td>ultra</td>\n",
       "    </tr>\n",
       "  </tbody>\n",
       "</table>\n",
       "</div>"
      ],
      "text/plain": [
       "   messages_included  mb_per_month_included  minutes_included  \\\n",
       "0                 50                  15360               500   \n",
       "1               1000                  30720              3000   \n",
       "\n",
       "   rub_monthly_fee  rub_per_gb  rub_per_message  rub_per_minute tariff_name  \n",
       "0              550         200                3               3       smart  \n",
       "1             1950         150                1               1       ultra  "
      ]
     },
     "metadata": {},
     "output_type": "display_data"
    },
    {
     "data": {
      "text/html": [
       "<div>\n",
       "<style scoped>\n",
       "    .dataframe tbody tr th:only-of-type {\n",
       "        vertical-align: middle;\n",
       "    }\n",
       "\n",
       "    .dataframe tbody tr th {\n",
       "        vertical-align: top;\n",
       "    }\n",
       "\n",
       "    .dataframe thead th {\n",
       "        text-align: right;\n",
       "    }\n",
       "</style>\n",
       "<table border=\"1\" class=\"dataframe\">\n",
       "  <thead>\n",
       "    <tr style=\"text-align: right;\">\n",
       "      <th></th>\n",
       "      <th>user_id</th>\n",
       "      <th>age</th>\n",
       "      <th>churn_date</th>\n",
       "      <th>city</th>\n",
       "      <th>first_name</th>\n",
       "      <th>last_name</th>\n",
       "      <th>reg_date</th>\n",
       "      <th>tariff</th>\n",
       "    </tr>\n",
       "  </thead>\n",
       "  <tbody>\n",
       "    <tr>\n",
       "      <th>263</th>\n",
       "      <td>1263</td>\n",
       "      <td>32</td>\n",
       "      <td>NaN</td>\n",
       "      <td>Балашиха</td>\n",
       "      <td>Ермолай</td>\n",
       "      <td>Зайцев</td>\n",
       "      <td>2018-04-30</td>\n",
       "      <td>smart</td>\n",
       "    </tr>\n",
       "    <tr>\n",
       "      <th>239</th>\n",
       "      <td>1239</td>\n",
       "      <td>68</td>\n",
       "      <td>NaN</td>\n",
       "      <td>Самара</td>\n",
       "      <td>Даниил</td>\n",
       "      <td>Ёрохов</td>\n",
       "      <td>2018-06-12</td>\n",
       "      <td>smart</td>\n",
       "    </tr>\n",
       "    <tr>\n",
       "      <th>107</th>\n",
       "      <td>1107</td>\n",
       "      <td>45</td>\n",
       "      <td>NaN</td>\n",
       "      <td>Орёл</td>\n",
       "      <td>Руслан</td>\n",
       "      <td>Воронин</td>\n",
       "      <td>2018-07-20</td>\n",
       "      <td>smart</td>\n",
       "    </tr>\n",
       "    <tr>\n",
       "      <th>225</th>\n",
       "      <td>1225</td>\n",
       "      <td>71</td>\n",
       "      <td>NaN</td>\n",
       "      <td>Оренбург</td>\n",
       "      <td>Даниэла</td>\n",
       "      <td>Горбачева</td>\n",
       "      <td>2018-04-26</td>\n",
       "      <td>ultra</td>\n",
       "    </tr>\n",
       "    <tr>\n",
       "      <th>194</th>\n",
       "      <td>1194</td>\n",
       "      <td>70</td>\n",
       "      <td>NaN</td>\n",
       "      <td>Москва</td>\n",
       "      <td>Егор</td>\n",
       "      <td>Наумов</td>\n",
       "      <td>2018-12-03</td>\n",
       "      <td>smart</td>\n",
       "    </tr>\n",
       "  </tbody>\n",
       "</table>\n",
       "</div>"
      ],
      "text/plain": [
       "     user_id  age churn_date      city first_name  last_name    reg_date  \\\n",
       "263     1263   32        NaN  Балашиха    Ермолай     Зайцев  2018-04-30   \n",
       "239     1239   68        NaN    Самара     Даниил     Ёрохов  2018-06-12   \n",
       "107     1107   45        NaN      Орёл     Руслан    Воронин  2018-07-20   \n",
       "225     1225   71        NaN  Оренбург    Даниэла  Горбачева  2018-04-26   \n",
       "194     1194   70        NaN    Москва       Егор     Наумов  2018-12-03   \n",
       "\n",
       "    tariff  \n",
       "263  smart  \n",
       "239  smart  \n",
       "107  smart  \n",
       "225  ultra  \n",
       "194  smart  "
      ]
     },
     "metadata": {},
     "output_type": "display_data"
    }
   ],
   "source": [
    "display(df_calls.sample(5))\n",
    "display(df_internet.sample(5))\n",
    "display(df_messages.sample(5))\n",
    "display(df_tariffs)\n",
    "display(df_users.sample(5))"
   ]
  },
  {
   "cell_type": "code",
   "execution_count": 4,
   "metadata": {},
   "outputs": [
    {
     "name": "stdout",
     "output_type": "stream",
     "text": [
      "<class 'pandas.core.frame.DataFrame'>\n",
      "RangeIndex: 202607 entries, 0 to 202606\n",
      "Data columns (total 4 columns):\n",
      " #   Column     Non-Null Count   Dtype  \n",
      "---  ------     --------------   -----  \n",
      " 0   id         202607 non-null  object \n",
      " 1   call_date  202607 non-null  object \n",
      " 2   duration   202607 non-null  float64\n",
      " 3   user_id    202607 non-null  int64  \n",
      "dtypes: float64(1), int64(1), object(2)\n",
      "memory usage: 6.2+ MB\n"
     ]
    },
    {
     "data": {
      "text/plain": [
       "None"
      ]
     },
     "metadata": {},
     "output_type": "display_data"
    },
    {
     "name": "stdout",
     "output_type": "stream",
     "text": [
      "<class 'pandas.core.frame.DataFrame'>\n",
      "RangeIndex: 149396 entries, 0 to 149395\n",
      "Data columns (total 5 columns):\n",
      " #   Column        Non-Null Count   Dtype  \n",
      "---  ------        --------------   -----  \n",
      " 0   Unnamed: 0    149396 non-null  int64  \n",
      " 1   id            149396 non-null  object \n",
      " 2   mb_used       149396 non-null  float64\n",
      " 3   session_date  149396 non-null  object \n",
      " 4   user_id       149396 non-null  int64  \n",
      "dtypes: float64(1), int64(2), object(2)\n",
      "memory usage: 5.7+ MB\n"
     ]
    },
    {
     "data": {
      "text/plain": [
       "None"
      ]
     },
     "metadata": {},
     "output_type": "display_data"
    },
    {
     "name": "stdout",
     "output_type": "stream",
     "text": [
      "<class 'pandas.core.frame.DataFrame'>\n",
      "RangeIndex: 123036 entries, 0 to 123035\n",
      "Data columns (total 3 columns):\n",
      " #   Column        Non-Null Count   Dtype \n",
      "---  ------        --------------   ----- \n",
      " 0   id            123036 non-null  object\n",
      " 1   message_date  123036 non-null  object\n",
      " 2   user_id       123036 non-null  int64 \n",
      "dtypes: int64(1), object(2)\n",
      "memory usage: 2.8+ MB\n"
     ]
    },
    {
     "data": {
      "text/plain": [
       "None"
      ]
     },
     "metadata": {},
     "output_type": "display_data"
    },
    {
     "name": "stdout",
     "output_type": "stream",
     "text": [
      "<class 'pandas.core.frame.DataFrame'>\n",
      "RangeIndex: 2 entries, 0 to 1\n",
      "Data columns (total 8 columns):\n",
      " #   Column                 Non-Null Count  Dtype \n",
      "---  ------                 --------------  ----- \n",
      " 0   messages_included      2 non-null      int64 \n",
      " 1   mb_per_month_included  2 non-null      int64 \n",
      " 2   minutes_included       2 non-null      int64 \n",
      " 3   rub_monthly_fee        2 non-null      int64 \n",
      " 4   rub_per_gb             2 non-null      int64 \n",
      " 5   rub_per_message        2 non-null      int64 \n",
      " 6   rub_per_minute         2 non-null      int64 \n",
      " 7   tariff_name            2 non-null      object\n",
      "dtypes: int64(7), object(1)\n",
      "memory usage: 256.0+ bytes\n"
     ]
    },
    {
     "data": {
      "text/plain": [
       "None"
      ]
     },
     "metadata": {},
     "output_type": "display_data"
    },
    {
     "name": "stdout",
     "output_type": "stream",
     "text": [
      "<class 'pandas.core.frame.DataFrame'>\n",
      "RangeIndex: 500 entries, 0 to 499\n",
      "Data columns (total 8 columns):\n",
      " #   Column      Non-Null Count  Dtype \n",
      "---  ------      --------------  ----- \n",
      " 0   user_id     500 non-null    int64 \n",
      " 1   age         500 non-null    int64 \n",
      " 2   churn_date  38 non-null     object\n",
      " 3   city        500 non-null    object\n",
      " 4   first_name  500 non-null    object\n",
      " 5   last_name   500 non-null    object\n",
      " 6   reg_date    500 non-null    object\n",
      " 7   tariff      500 non-null    object\n",
      "dtypes: int64(2), object(6)\n",
      "memory usage: 31.4+ KB\n"
     ]
    },
    {
     "data": {
      "text/plain": [
       "None"
      ]
     },
     "metadata": {},
     "output_type": "display_data"
    }
   ],
   "source": [
    "display(df_calls.info())\n",
    "display(df_internet.info())\n",
    "display(df_messages.info())\n",
    "display(df_tariffs.info())\n",
    "display(df_users.info())"
   ]
  },
  {
   "attachments": {},
   "cell_type": "markdown",
   "metadata": {},
   "source": [
    "На первый взгляд проблем с данными нет, явных пропусков нет. Единственные пропуски есть в *df_users* в столбце *chern_data*, но это особенность стобца, данные пользователи еще пользуются тарифом.  \n",
    "Смысла объединять таблицы в одну нет смысла, по скольку все иследования будут использоваться одельно дргу от друга. Так же размеры всех таблиц разные и получится одна большая каша."
   ]
  },
  {
   "attachments": {},
   "cell_type": "markdown",
   "metadata": {},
   "source": [
    "#### Вывод"
   ]
  },
  {
   "attachments": {},
   "cell_type": "markdown",
   "metadata": {},
   "source": [
    "Данные готовы к предварительно подготовки."
   ]
  },
  {
   "attachments": {},
   "cell_type": "markdown",
   "metadata": {},
   "source": [
    "### Предподготовка данных"
   ]
  },
  {
   "attachments": {},
   "cell_type": "markdown",
   "metadata": {},
   "source": [
    "Во всех таблицах даты записаны в формате *object*, нужно перевести их в нормальный формат даты. И добавим стобец месяца для каждой операции."
   ]
  },
  {
   "cell_type": "code",
   "execution_count": 5,
   "metadata": {},
   "outputs": [],
   "source": [
    "df_calls[\"date\"] = pd.to_datetime(df_calls[\"call_date\"], format = \"%Y-%m-%d\")\n",
    "df_internet[\"date\"] = pd.to_datetime(df_internet[\"session_date\"], format = \"%Y-%m-%d\")\n",
    "df_messages[\"date\"] = pd.to_datetime(df_messages[\"message_date\"], format = \"%Y-%m-%d\")\n",
    "df_users[\"reg_date\"] = pd.to_datetime(df_users[\"reg_date\"], format = \"%Y-%m-%d\")\n",
    "df_users[\"churn_date\"] = pd.to_datetime(df_users[\"churn_date\"], format = \"%Y-%m-%d\")"
   ]
  },
  {
   "cell_type": "code",
   "execution_count": 6,
   "metadata": {},
   "outputs": [],
   "source": [
    "for df in [df_messages, df_calls, df_internet]:\n",
    "    df[\"month\"] = df[\"date\"].dt.month"
   ]
  },
  {
   "cell_type": "code",
   "execution_count": 7,
   "metadata": {},
   "outputs": [
    {
     "data": {
      "text/html": [
       "<div>\n",
       "<style scoped>\n",
       "    .dataframe tbody tr th:only-of-type {\n",
       "        vertical-align: middle;\n",
       "    }\n",
       "\n",
       "    .dataframe tbody tr th {\n",
       "        vertical-align: top;\n",
       "    }\n",
       "\n",
       "    .dataframe thead th {\n",
       "        text-align: right;\n",
       "    }\n",
       "</style>\n",
       "<table border=\"1\" class=\"dataframe\">\n",
       "  <thead>\n",
       "    <tr style=\"text-align: right;\">\n",
       "      <th></th>\n",
       "      <th>user_id</th>\n",
       "      <th>age</th>\n",
       "      <th>churn_date</th>\n",
       "      <th>city</th>\n",
       "      <th>first_name</th>\n",
       "      <th>last_name</th>\n",
       "      <th>reg_date</th>\n",
       "      <th>tariff</th>\n",
       "      <th>reg_month</th>\n",
       "      <th>churn_month</th>\n",
       "    </tr>\n",
       "  </thead>\n",
       "  <tbody>\n",
       "    <tr>\n",
       "      <th>0</th>\n",
       "      <td>1000</td>\n",
       "      <td>52</td>\n",
       "      <td>NaT</td>\n",
       "      <td>Краснодар</td>\n",
       "      <td>Рафаил</td>\n",
       "      <td>Верещагин</td>\n",
       "      <td>2018-05-25</td>\n",
       "      <td>ultra</td>\n",
       "      <td>5</td>\n",
       "      <td>0.0</td>\n",
       "    </tr>\n",
       "    <tr>\n",
       "      <th>1</th>\n",
       "      <td>1001</td>\n",
       "      <td>41</td>\n",
       "      <td>NaT</td>\n",
       "      <td>Москва</td>\n",
       "      <td>Иван</td>\n",
       "      <td>Ежов</td>\n",
       "      <td>2018-11-01</td>\n",
       "      <td>smart</td>\n",
       "      <td>11</td>\n",
       "      <td>0.0</td>\n",
       "    </tr>\n",
       "    <tr>\n",
       "      <th>2</th>\n",
       "      <td>1002</td>\n",
       "      <td>59</td>\n",
       "      <td>NaT</td>\n",
       "      <td>Стерлитамак</td>\n",
       "      <td>Евгений</td>\n",
       "      <td>Абрамович</td>\n",
       "      <td>2018-06-17</td>\n",
       "      <td>smart</td>\n",
       "      <td>6</td>\n",
       "      <td>0.0</td>\n",
       "    </tr>\n",
       "    <tr>\n",
       "      <th>3</th>\n",
       "      <td>1003</td>\n",
       "      <td>23</td>\n",
       "      <td>NaT</td>\n",
       "      <td>Москва</td>\n",
       "      <td>Белла</td>\n",
       "      <td>Белякова</td>\n",
       "      <td>2018-08-17</td>\n",
       "      <td>ultra</td>\n",
       "      <td>8</td>\n",
       "      <td>0.0</td>\n",
       "    </tr>\n",
       "    <tr>\n",
       "      <th>4</th>\n",
       "      <td>1004</td>\n",
       "      <td>68</td>\n",
       "      <td>NaT</td>\n",
       "      <td>Новокузнецк</td>\n",
       "      <td>Татьяна</td>\n",
       "      <td>Авдеенко</td>\n",
       "      <td>2018-05-14</td>\n",
       "      <td>ultra</td>\n",
       "      <td>5</td>\n",
       "      <td>0.0</td>\n",
       "    </tr>\n",
       "    <tr>\n",
       "      <th>...</th>\n",
       "      <td>...</td>\n",
       "      <td>...</td>\n",
       "      <td>...</td>\n",
       "      <td>...</td>\n",
       "      <td>...</td>\n",
       "      <td>...</td>\n",
       "      <td>...</td>\n",
       "      <td>...</td>\n",
       "      <td>...</td>\n",
       "      <td>...</td>\n",
       "    </tr>\n",
       "    <tr>\n",
       "      <th>495</th>\n",
       "      <td>1495</td>\n",
       "      <td>65</td>\n",
       "      <td>NaT</td>\n",
       "      <td>Иркутск</td>\n",
       "      <td>Авксентий</td>\n",
       "      <td>Фокин</td>\n",
       "      <td>2018-08-28</td>\n",
       "      <td>ultra</td>\n",
       "      <td>8</td>\n",
       "      <td>0.0</td>\n",
       "    </tr>\n",
       "    <tr>\n",
       "      <th>496</th>\n",
       "      <td>1496</td>\n",
       "      <td>36</td>\n",
       "      <td>NaT</td>\n",
       "      <td>Вологда</td>\n",
       "      <td>Трифон</td>\n",
       "      <td>Блохин</td>\n",
       "      <td>2018-01-27</td>\n",
       "      <td>smart</td>\n",
       "      <td>1</td>\n",
       "      <td>0.0</td>\n",
       "    </tr>\n",
       "    <tr>\n",
       "      <th>497</th>\n",
       "      <td>1497</td>\n",
       "      <td>32</td>\n",
       "      <td>NaT</td>\n",
       "      <td>Челябинск</td>\n",
       "      <td>Каролина</td>\n",
       "      <td>Агеева</td>\n",
       "      <td>2018-10-09</td>\n",
       "      <td>smart</td>\n",
       "      <td>10</td>\n",
       "      <td>0.0</td>\n",
       "    </tr>\n",
       "    <tr>\n",
       "      <th>498</th>\n",
       "      <td>1498</td>\n",
       "      <td>68</td>\n",
       "      <td>2018-10-25</td>\n",
       "      <td>Владикавказ</td>\n",
       "      <td>Всеволод</td>\n",
       "      <td>Акимчин</td>\n",
       "      <td>2018-07-19</td>\n",
       "      <td>smart</td>\n",
       "      <td>7</td>\n",
       "      <td>10.0</td>\n",
       "    </tr>\n",
       "    <tr>\n",
       "      <th>499</th>\n",
       "      <td>1499</td>\n",
       "      <td>35</td>\n",
       "      <td>NaT</td>\n",
       "      <td>Пермь</td>\n",
       "      <td>Гектор</td>\n",
       "      <td>Корнилов</td>\n",
       "      <td>2018-09-27</td>\n",
       "      <td>smart</td>\n",
       "      <td>9</td>\n",
       "      <td>0.0</td>\n",
       "    </tr>\n",
       "  </tbody>\n",
       "</table>\n",
       "<p>500 rows × 10 columns</p>\n",
       "</div>"
      ],
      "text/plain": [
       "     user_id  age churn_date         city first_name  last_name   reg_date  \\\n",
       "0       1000   52        NaT    Краснодар     Рафаил  Верещагин 2018-05-25   \n",
       "1       1001   41        NaT       Москва       Иван       Ежов 2018-11-01   \n",
       "2       1002   59        NaT  Стерлитамак    Евгений  Абрамович 2018-06-17   \n",
       "3       1003   23        NaT       Москва      Белла   Белякова 2018-08-17   \n",
       "4       1004   68        NaT  Новокузнецк    Татьяна   Авдеенко 2018-05-14   \n",
       "..       ...  ...        ...          ...        ...        ...        ...   \n",
       "495     1495   65        NaT      Иркутск  Авксентий      Фокин 2018-08-28   \n",
       "496     1496   36        NaT      Вологда     Трифон     Блохин 2018-01-27   \n",
       "497     1497   32        NaT    Челябинск   Каролина     Агеева 2018-10-09   \n",
       "498     1498   68 2018-10-25  Владикавказ   Всеволод    Акимчин 2018-07-19   \n",
       "499     1499   35        NaT        Пермь     Гектор   Корнилов 2018-09-27   \n",
       "\n",
       "    tariff  reg_month  churn_month  \n",
       "0    ultra          5          0.0  \n",
       "1    smart         11          0.0  \n",
       "2    smart          6          0.0  \n",
       "3    ultra          8          0.0  \n",
       "4    ultra          5          0.0  \n",
       "..     ...        ...          ...  \n",
       "495  ultra          8          0.0  \n",
       "496  smart          1          0.0  \n",
       "497  smart         10          0.0  \n",
       "498  smart          7         10.0  \n",
       "499  smart          9          0.0  \n",
       "\n",
       "[500 rows x 10 columns]"
      ]
     },
     "execution_count": 7,
     "metadata": {},
     "output_type": "execute_result"
    }
   ],
   "source": [
    "df_users[\"reg_month\"] = df_users[\"reg_date\"].dt.month.fillna(0)\n",
    "df_users[\"churn_month\"] = df_users[\"churn_date\"].dt.month.fillna(0)\n",
    "df_users"
   ]
  },
  {
   "attachments": {},
   "cell_type": "markdown",
   "metadata": {},
   "source": [
    "Посмотрим подробнее таблицу с пользователями."
   ]
  },
  {
   "cell_type": "code",
   "execution_count": 8,
   "metadata": {},
   "outputs": [
    {
     "data": {
      "text/plain": [
       "0"
      ]
     },
     "execution_count": 8,
     "metadata": {},
     "output_type": "execute_result"
    }
   ],
   "source": [
    "df_users.duplicated().sum()"
   ]
  },
  {
   "cell_type": "code",
   "execution_count": 9,
   "metadata": {},
   "outputs": [
    {
     "data": {
      "text/plain": [
       "500"
      ]
     },
     "execution_count": 9,
     "metadata": {},
     "output_type": "execute_result"
    }
   ],
   "source": [
    "len(df_users[\"user_id\"].unique())"
   ]
  },
  {
   "attachments": {},
   "cell_type": "markdown",
   "metadata": {},
   "source": [
    "В таблице с пользователями проблем нет."
   ]
  },
  {
   "attachments": {},
   "cell_type": "markdown",
   "metadata": {},
   "source": [
    "Так же необходимо столбец со звонками округлить в большую сторону."
   ]
  },
  {
   "cell_type": "code",
   "execution_count": 10,
   "metadata": {},
   "outputs": [],
   "source": [
    "df_calls['duration'] = df_calls['duration'].apply(math.ceil).astype(int)"
   ]
  },
  {
   "attachments": {},
   "cell_type": "markdown",
   "metadata": {},
   "source": [
    "Теперь необходимо проверить таблицы со звонками, сообщениями и интернетом на дубликаты."
   ]
  },
  {
   "cell_type": "code",
   "execution_count": 11,
   "metadata": {},
   "outputs": [
    {
     "data": {
      "text/plain": [
       "0"
      ]
     },
     "execution_count": 11,
     "metadata": {},
     "output_type": "execute_result"
    }
   ],
   "source": [
    "df_calls.duplicated().sum()"
   ]
  },
  {
   "cell_type": "code",
   "execution_count": 12,
   "metadata": {},
   "outputs": [
    {
     "data": {
      "text/plain": [
       "0"
      ]
     },
     "execution_count": 12,
     "metadata": {},
     "output_type": "execute_result"
    }
   ],
   "source": [
    "df_internet.duplicated().sum()"
   ]
  },
  {
   "cell_type": "code",
   "execution_count": 13,
   "metadata": {},
   "outputs": [
    {
     "data": {
      "text/plain": [
       "0"
      ]
     },
     "execution_count": 13,
     "metadata": {},
     "output_type": "execute_result"
    }
   ],
   "source": [
    "df_messages.duplicated().sum()"
   ]
  },
  {
   "cell_type": "code",
   "execution_count": 14,
   "metadata": {},
   "outputs": [
    {
     "data": {
      "text/plain": [
       "492"
      ]
     },
     "execution_count": 14,
     "metadata": {},
     "output_type": "execute_result"
    }
   ],
   "source": [
    "len(df_calls[\"user_id\"].unique())"
   ]
  },
  {
   "cell_type": "code",
   "execution_count": 15,
   "metadata": {},
   "outputs": [
    {
     "data": {
      "text/plain": [
       "497"
      ]
     },
     "execution_count": 15,
     "metadata": {},
     "output_type": "execute_result"
    }
   ],
   "source": [
    "len(df_internet[\"user_id\"].unique())"
   ]
  },
  {
   "cell_type": "code",
   "execution_count": 16,
   "metadata": {},
   "outputs": [
    {
     "data": {
      "text/plain": [
       "426"
      ]
     },
     "execution_count": 16,
     "metadata": {},
     "output_type": "execute_result"
    }
   ],
   "source": [
    "len(df_messages[\"user_id\"].unique())"
   ]
  },
  {
   "attachments": {},
   "cell_type": "markdown",
   "metadata": {},
   "source": [
    "В данных DF нет повторений, но по некторомы пользователям нет информации, скорее всего они либо не пользовались данной услугой, на пример молодое поколение почти не пользуется смс или же не оборот пожилые не пользуются интернетом, так и из-за програмной ошибки или при переносе данных они были утеряны. По этому найдем всех пользователей по которым есть данные и оставим только их."
   ]
  },
  {
   "cell_type": "code",
   "execution_count": 17,
   "metadata": {},
   "outputs": [],
   "source": [
    "common_items = list((Counter(df_calls[\"user_id\"].sort_values().unique().tolist()) & \n",
    "                     Counter(df_internet[\"user_id\"].sort_values().unique().tolist()) & \n",
    "                     Counter(df_messages[\"user_id\"].sort_values().unique().tolist())).elements())"
   ]
  },
  {
   "cell_type": "code",
   "execution_count": 18,
   "metadata": {},
   "outputs": [],
   "source": [
    "df_calls = df_calls.query(\"user_id in @common_items\")\n",
    "df_internet = df_internet.query(\"user_id in @common_items\")\n",
    "df_messages = df_messages.query(\"user_id in @common_items\")"
   ]
  },
  {
   "attachments": {},
   "cell_type": "markdown",
   "metadata": {},
   "source": [
    "#### Вывод"
   ]
  },
  {
   "attachments": {},
   "cell_type": "markdown",
   "metadata": {},
   "source": [
    "По некоторым пользователям отсутствуют данные "
   ]
  },
  {
   "attachments": {},
   "cell_type": "markdown",
   "metadata": {},
   "source": [
    "### Добавляем необходимые столбцы"
   ]
  },
  {
   "attachments": {},
   "cell_type": "markdown",
   "metadata": {},
   "source": [
    "Для будущего иследования создадим таблицы с данными по звонкам, сообщениям и интернету."
   ]
  },
  {
   "attachments": {},
   "cell_type": "markdown",
   "metadata": {},
   "source": [
    "Для удобства в будущем поменяем индексы в таблице с тарифами."
   ]
  },
  {
   "cell_type": "code",
   "execution_count": 19,
   "metadata": {},
   "outputs": [],
   "source": [
    "df_tariffs = df_tariffs.set_axis([\"smart\",\"ultra\"],axis=0)"
   ]
  },
  {
   "attachments": {},
   "cell_type": "markdown",
   "metadata": {},
   "source": [
    "Посчитаем количество звонком и продолжительность их, количестов гигабайт и сообщений по месяцам для каждого пользователя."
   ]
  },
  {
   "cell_type": "code",
   "execution_count": 20,
   "metadata": {},
   "outputs": [],
   "source": [
    "calls_table = df_calls.groupby([\"user_id\",\"month\"]).agg({\"duration\":[\"sum\",\"count\"]})"
   ]
  },
  {
   "cell_type": "code",
   "execution_count": 21,
   "metadata": {},
   "outputs": [],
   "source": [
    "internet_table = df_internet.groupby([\"user_id\",\"month\"]).agg({\"mb_used\":[\"sum\"]})"
   ]
  },
  {
   "cell_type": "code",
   "execution_count": 22,
   "metadata": {},
   "outputs": [],
   "source": [
    "messages_table = df_messages.groupby([\"user_id\",\"month\"]).agg({\"id\":[\"count\"]})"
   ]
  },
  {
   "attachments": {},
   "cell_type": "markdown",
   "metadata": {},
   "source": [
    "Для удобства объеденим все в одну таблицу."
   ]
  },
  {
   "cell_type": "code",
   "execution_count": 23,
   "metadata": {},
   "outputs": [],
   "source": [
    "df_activity = pd.merge(left=calls_table,\n",
    "         right=internet_table,\n",
    "         on=[\"user_id\",\"month\"],\n",
    "         how = \"left\")"
   ]
  },
  {
   "cell_type": "code",
   "execution_count": 24,
   "metadata": {},
   "outputs": [],
   "source": [
    "df_activity = pd.merge(left=df_activity,\n",
    "         right=messages_table,\n",
    "         on=[\"user_id\",\"month\"],\n",
    "         how = \"right\")"
   ]
  },
  {
   "attachments": {},
   "cell_type": "markdown",
   "metadata": {},
   "source": [
    "Мультииндексы в столбцах нам не нужны, уберем их и переимянуем."
   ]
  },
  {
   "cell_type": "code",
   "execution_count": 25,
   "metadata": {},
   "outputs": [],
   "source": [
    "df_activity.columns = df_activity.columns.droplevel(0)"
   ]
  },
  {
   "cell_type": "code",
   "execution_count": 26,
   "metadata": {},
   "outputs": [],
   "source": [
    "df_activity.columns = [\"calls_sum\",\"calls_count\",\"internet\",\"messages\"]"
   ]
  },
  {
   "cell_type": "code",
   "execution_count": 27,
   "metadata": {},
   "outputs": [],
   "source": [
    "df_activity[\"internet\"] = df_activity[\"internet\"]/1024"
   ]
  },
  {
   "cell_type": "code",
   "execution_count": 28,
   "metadata": {
    "scrolled": false
   },
   "outputs": [],
   "source": [
    "df_activity = df_activity.sort_index(ascending=True)"
   ]
  },
  {
   "attachments": {},
   "cell_type": "markdown",
   "metadata": {},
   "source": [
    "Так же мультииндексы не нужны и в индексах, но прежде чем их убрать нужно перенести месяцы в отдельный столбец."
   ]
  },
  {
   "cell_type": "code",
   "execution_count": 29,
   "metadata": {
    "scrolled": false
   },
   "outputs": [],
   "source": [
    "df_activity[\"month\"] = df_activity.index.get_level_values(1)"
   ]
  },
  {
   "cell_type": "code",
   "execution_count": 30,
   "metadata": {},
   "outputs": [],
   "source": [
    "df_activity.index = df_activity.index.droplevel(1)"
   ]
  },
  {
   "attachments": {},
   "cell_type": "markdown",
   "metadata": {},
   "source": [
    "Теперь нужно к каждому пользователю добавить его тариф."
   ]
  },
  {
   "cell_type": "code",
   "execution_count": 31,
   "metadata": {},
   "outputs": [],
   "source": [
    "df_activity = pd.merge(left=df_activity,\n",
    "         right=df_users.loc[:,[\"user_id\",\"tariff\"]],\n",
    "         on=[\"user_id\"],\n",
    "         how = \"left\")"
   ]
  },
  {
   "attachments": {},
   "cell_type": "markdown",
   "metadata": {},
   "source": [
    "И в конце, нужно округлить количество гигабайт в большую сторону."
   ]
  },
  {
   "cell_type": "code",
   "execution_count": 32,
   "metadata": {},
   "outputs": [],
   "source": [
    "df_activity[\"internet\"] = df_activity[\"internet\"].fillna(0)\n",
    "df_activity[\"internet\"] = df_activity[\"internet\"].apply(math. ceil)"
   ]
  },
  {
   "cell_type": "code",
   "execution_count": 33,
   "metadata": {},
   "outputs": [
    {
     "data": {
      "text/html": [
       "<div>\n",
       "<style scoped>\n",
       "    .dataframe tbody tr th:only-of-type {\n",
       "        vertical-align: middle;\n",
       "    }\n",
       "\n",
       "    .dataframe tbody tr th {\n",
       "        vertical-align: top;\n",
       "    }\n",
       "\n",
       "    .dataframe thead th {\n",
       "        text-align: right;\n",
       "    }\n",
       "</style>\n",
       "<table border=\"1\" class=\"dataframe\">\n",
       "  <thead>\n",
       "    <tr style=\"text-align: right;\">\n",
       "      <th></th>\n",
       "      <th>user_id</th>\n",
       "      <th>calls_sum</th>\n",
       "      <th>calls_count</th>\n",
       "      <th>internet</th>\n",
       "      <th>messages</th>\n",
       "      <th>month</th>\n",
       "      <th>tariff</th>\n",
       "    </tr>\n",
       "  </thead>\n",
       "  <tbody>\n",
       "    <tr>\n",
       "      <th>0</th>\n",
       "      <td>1000</td>\n",
       "      <td>159.0</td>\n",
       "      <td>22.0</td>\n",
       "      <td>3</td>\n",
       "      <td>22</td>\n",
       "      <td>5</td>\n",
       "      <td>ultra</td>\n",
       "    </tr>\n",
       "    <tr>\n",
       "      <th>1</th>\n",
       "      <td>1000</td>\n",
       "      <td>172.0</td>\n",
       "      <td>43.0</td>\n",
       "      <td>23</td>\n",
       "      <td>60</td>\n",
       "      <td>6</td>\n",
       "      <td>ultra</td>\n",
       "    </tr>\n",
       "    <tr>\n",
       "      <th>2</th>\n",
       "      <td>1000</td>\n",
       "      <td>340.0</td>\n",
       "      <td>47.0</td>\n",
       "      <td>14</td>\n",
       "      <td>75</td>\n",
       "      <td>7</td>\n",
       "      <td>ultra</td>\n",
       "    </tr>\n",
       "    <tr>\n",
       "      <th>3</th>\n",
       "      <td>1000</td>\n",
       "      <td>408.0</td>\n",
       "      <td>52.0</td>\n",
       "      <td>14</td>\n",
       "      <td>81</td>\n",
       "      <td>8</td>\n",
       "      <td>ultra</td>\n",
       "    </tr>\n",
       "    <tr>\n",
       "      <th>4</th>\n",
       "      <td>1000</td>\n",
       "      <td>466.0</td>\n",
       "      <td>58.0</td>\n",
       "      <td>15</td>\n",
       "      <td>57</td>\n",
       "      <td>9</td>\n",
       "      <td>ultra</td>\n",
       "    </tr>\n",
       "    <tr>\n",
       "      <th>...</th>\n",
       "      <td>...</td>\n",
       "      <td>...</td>\n",
       "      <td>...</td>\n",
       "      <td>...</td>\n",
       "      <td>...</td>\n",
       "      <td>...</td>\n",
       "      <td>...</td>\n",
       "    </tr>\n",
       "    <tr>\n",
       "      <th>2666</th>\n",
       "      <td>1498</td>\n",
       "      <td>247.0</td>\n",
       "      <td>41.0</td>\n",
       "      <td>21</td>\n",
       "      <td>42</td>\n",
       "      <td>10</td>\n",
       "      <td>smart</td>\n",
       "    </tr>\n",
       "    <tr>\n",
       "      <th>2667</th>\n",
       "      <td>1499</td>\n",
       "      <td>70.0</td>\n",
       "      <td>9.0</td>\n",
       "      <td>2</td>\n",
       "      <td>11</td>\n",
       "      <td>9</td>\n",
       "      <td>smart</td>\n",
       "    </tr>\n",
       "    <tr>\n",
       "      <th>2668</th>\n",
       "      <td>1499</td>\n",
       "      <td>449.0</td>\n",
       "      <td>68.0</td>\n",
       "      <td>18</td>\n",
       "      <td>48</td>\n",
       "      <td>10</td>\n",
       "      <td>smart</td>\n",
       "    </tr>\n",
       "    <tr>\n",
       "      <th>2669</th>\n",
       "      <td>1499</td>\n",
       "      <td>612.0</td>\n",
       "      <td>74.0</td>\n",
       "      <td>18</td>\n",
       "      <td>59</td>\n",
       "      <td>11</td>\n",
       "      <td>smart</td>\n",
       "    </tr>\n",
       "    <tr>\n",
       "      <th>2670</th>\n",
       "      <td>1499</td>\n",
       "      <td>492.0</td>\n",
       "      <td>69.0</td>\n",
       "      <td>13</td>\n",
       "      <td>66</td>\n",
       "      <td>12</td>\n",
       "      <td>smart</td>\n",
       "    </tr>\n",
       "  </tbody>\n",
       "</table>\n",
       "<p>2671 rows × 7 columns</p>\n",
       "</div>"
      ],
      "text/plain": [
       "      user_id  calls_sum  calls_count  internet  messages  month tariff\n",
       "0        1000      159.0         22.0         3        22      5  ultra\n",
       "1        1000      172.0         43.0        23        60      6  ultra\n",
       "2        1000      340.0         47.0        14        75      7  ultra\n",
       "3        1000      408.0         52.0        14        81      8  ultra\n",
       "4        1000      466.0         58.0        15        57      9  ultra\n",
       "...       ...        ...          ...       ...       ...    ...    ...\n",
       "2666     1498      247.0         41.0        21        42     10  smart\n",
       "2667     1499       70.0          9.0         2        11      9  smart\n",
       "2668     1499      449.0         68.0        18        48     10  smart\n",
       "2669     1499      612.0         74.0        18        59     11  smart\n",
       "2670     1499      492.0         69.0        13        66     12  smart\n",
       "\n",
       "[2671 rows x 7 columns]"
      ]
     },
     "execution_count": 33,
     "metadata": {},
     "output_type": "execute_result"
    }
   ],
   "source": [
    "df_activity"
   ]
  },
  {
   "attachments": {},
   "cell_type": "markdown",
   "metadata": {},
   "source": [
    "Теперь таблица готова к подсчету оплты в месяц. Для этого напишем функцию payment."
   ]
  },
  {
   "cell_type": "code",
   "execution_count": 34,
   "metadata": {},
   "outputs": [],
   "source": [
    "def payment (activity):\n",
    "    tariff = activity[\"tariff\"]\n",
    "    pay = df_tariffs.loc[tariff,\"rub_monthly_fee\"]\n",
    "    if activity[\"calls_sum\"] > df_tariffs.loc[activity[\"tariff\"],\"minutes_included\"]:\n",
    "        pay += (activity[\"calls_sum\"] - df_tariffs.loc[activity[\"tariff\"],\"minutes_included\"]) * df_tariffs.loc[activity[\"tariff\"],\"rub_per_minute\"]\n",
    "    if activity[\"internet\"] *1024 > df_tariffs.loc[activity[\"tariff\"],\"mb_per_month_included\"]:\n",
    "        pay += (activity[\"internet\"] *1024 - df_tariffs.loc[activity[\"tariff\"],\"mb_per_month_included\"]) / 1024 * df_tariffs.loc[activity[\"tariff\"],\"rub_per_gb\"]\n",
    "    if activity[\"messages\"] > df_tariffs.loc[activity[\"tariff\"],\"messages_included\"]:\n",
    "        pay += (activity[\"messages\"] - df_tariffs.loc[activity[\"tariff\"],\"messages_included\"]) * df_tariffs.loc[activity[\"tariff\"],\"rub_per_message\"]\n",
    "    return (pay)"
   ]
  },
  {
   "cell_type": "code",
   "execution_count": 35,
   "metadata": {},
   "outputs": [],
   "source": [
    "df_activity['pay'] = df_activity.apply(payment,axis = 1)"
   ]
  },
  {
   "cell_type": "code",
   "execution_count": 36,
   "metadata": {
    "scrolled": true
   },
   "outputs": [
    {
     "data": {
      "text/html": [
       "<div>\n",
       "<style scoped>\n",
       "    .dataframe tbody tr th:only-of-type {\n",
       "        vertical-align: middle;\n",
       "    }\n",
       "\n",
       "    .dataframe tbody tr th {\n",
       "        vertical-align: top;\n",
       "    }\n",
       "\n",
       "    .dataframe thead th {\n",
       "        text-align: right;\n",
       "    }\n",
       "</style>\n",
       "<table border=\"1\" class=\"dataframe\">\n",
       "  <thead>\n",
       "    <tr style=\"text-align: right;\">\n",
       "      <th></th>\n",
       "      <th>user_id</th>\n",
       "      <th>calls_sum</th>\n",
       "      <th>calls_count</th>\n",
       "      <th>internet</th>\n",
       "      <th>messages</th>\n",
       "      <th>month</th>\n",
       "      <th>tariff</th>\n",
       "      <th>pay</th>\n",
       "    </tr>\n",
       "  </thead>\n",
       "  <tbody>\n",
       "    <tr>\n",
       "      <th>0</th>\n",
       "      <td>1000</td>\n",
       "      <td>159.0</td>\n",
       "      <td>22.0</td>\n",
       "      <td>3</td>\n",
       "      <td>22</td>\n",
       "      <td>5</td>\n",
       "      <td>ultra</td>\n",
       "      <td>1950.0</td>\n",
       "    </tr>\n",
       "    <tr>\n",
       "      <th>1</th>\n",
       "      <td>1000</td>\n",
       "      <td>172.0</td>\n",
       "      <td>43.0</td>\n",
       "      <td>23</td>\n",
       "      <td>60</td>\n",
       "      <td>6</td>\n",
       "      <td>ultra</td>\n",
       "      <td>1950.0</td>\n",
       "    </tr>\n",
       "    <tr>\n",
       "      <th>2</th>\n",
       "      <td>1000</td>\n",
       "      <td>340.0</td>\n",
       "      <td>47.0</td>\n",
       "      <td>14</td>\n",
       "      <td>75</td>\n",
       "      <td>7</td>\n",
       "      <td>ultra</td>\n",
       "      <td>1950.0</td>\n",
       "    </tr>\n",
       "    <tr>\n",
       "      <th>3</th>\n",
       "      <td>1000</td>\n",
       "      <td>408.0</td>\n",
       "      <td>52.0</td>\n",
       "      <td>14</td>\n",
       "      <td>81</td>\n",
       "      <td>8</td>\n",
       "      <td>ultra</td>\n",
       "      <td>1950.0</td>\n",
       "    </tr>\n",
       "    <tr>\n",
       "      <th>4</th>\n",
       "      <td>1000</td>\n",
       "      <td>466.0</td>\n",
       "      <td>58.0</td>\n",
       "      <td>15</td>\n",
       "      <td>57</td>\n",
       "      <td>9</td>\n",
       "      <td>ultra</td>\n",
       "      <td>1950.0</td>\n",
       "    </tr>\n",
       "    <tr>\n",
       "      <th>...</th>\n",
       "      <td>...</td>\n",
       "      <td>...</td>\n",
       "      <td>...</td>\n",
       "      <td>...</td>\n",
       "      <td>...</td>\n",
       "      <td>...</td>\n",
       "      <td>...</td>\n",
       "      <td>...</td>\n",
       "    </tr>\n",
       "    <tr>\n",
       "      <th>2666</th>\n",
       "      <td>1498</td>\n",
       "      <td>247.0</td>\n",
       "      <td>41.0</td>\n",
       "      <td>21</td>\n",
       "      <td>42</td>\n",
       "      <td>10</td>\n",
       "      <td>smart</td>\n",
       "      <td>1750.0</td>\n",
       "    </tr>\n",
       "    <tr>\n",
       "      <th>2667</th>\n",
       "      <td>1499</td>\n",
       "      <td>70.0</td>\n",
       "      <td>9.0</td>\n",
       "      <td>2</td>\n",
       "      <td>11</td>\n",
       "      <td>9</td>\n",
       "      <td>smart</td>\n",
       "      <td>550.0</td>\n",
       "    </tr>\n",
       "    <tr>\n",
       "      <th>2668</th>\n",
       "      <td>1499</td>\n",
       "      <td>449.0</td>\n",
       "      <td>68.0</td>\n",
       "      <td>18</td>\n",
       "      <td>48</td>\n",
       "      <td>10</td>\n",
       "      <td>smart</td>\n",
       "      <td>1150.0</td>\n",
       "    </tr>\n",
       "    <tr>\n",
       "      <th>2669</th>\n",
       "      <td>1499</td>\n",
       "      <td>612.0</td>\n",
       "      <td>74.0</td>\n",
       "      <td>18</td>\n",
       "      <td>59</td>\n",
       "      <td>11</td>\n",
       "      <td>smart</td>\n",
       "      <td>1513.0</td>\n",
       "    </tr>\n",
       "    <tr>\n",
       "      <th>2670</th>\n",
       "      <td>1499</td>\n",
       "      <td>492.0</td>\n",
       "      <td>69.0</td>\n",
       "      <td>13</td>\n",
       "      <td>66</td>\n",
       "      <td>12</td>\n",
       "      <td>smart</td>\n",
       "      <td>598.0</td>\n",
       "    </tr>\n",
       "  </tbody>\n",
       "</table>\n",
       "<p>2671 rows × 8 columns</p>\n",
       "</div>"
      ],
      "text/plain": [
       "      user_id  calls_sum  calls_count  internet  messages  month tariff  \\\n",
       "0        1000      159.0         22.0         3        22      5  ultra   \n",
       "1        1000      172.0         43.0        23        60      6  ultra   \n",
       "2        1000      340.0         47.0        14        75      7  ultra   \n",
       "3        1000      408.0         52.0        14        81      8  ultra   \n",
       "4        1000      466.0         58.0        15        57      9  ultra   \n",
       "...       ...        ...          ...       ...       ...    ...    ...   \n",
       "2666     1498      247.0         41.0        21        42     10  smart   \n",
       "2667     1499       70.0          9.0         2        11      9  smart   \n",
       "2668     1499      449.0         68.0        18        48     10  smart   \n",
       "2669     1499      612.0         74.0        18        59     11  smart   \n",
       "2670     1499      492.0         69.0        13        66     12  smart   \n",
       "\n",
       "         pay  \n",
       "0     1950.0  \n",
       "1     1950.0  \n",
       "2     1950.0  \n",
       "3     1950.0  \n",
       "4     1950.0  \n",
       "...      ...  \n",
       "2666  1750.0  \n",
       "2667   550.0  \n",
       "2668  1150.0  \n",
       "2669  1513.0  \n",
       "2670   598.0  \n",
       "\n",
       "[2671 rows x 8 columns]"
      ]
     },
     "execution_count": 36,
     "metadata": {},
     "output_type": "execute_result"
    }
   ],
   "source": [
    "df_activity"
   ]
  },
  {
   "attachments": {},
   "cell_type": "markdown",
   "metadata": {},
   "source": [
    "#### Вывод"
   ]
  },
  {
   "attachments": {},
   "cell_type": "markdown",
   "metadata": {},
   "source": [
    "Все необюходимые данные полученыб приведены к необходимому виду и теперь можно приступать к анализу данных."
   ]
  },
  {
   "attachments": {},
   "cell_type": "markdown",
   "metadata": {},
   "source": [
    "## Анализ данных"
   ]
  },
  {
   "attachments": {},
   "cell_type": "markdown",
   "metadata": {},
   "source": [
    "Для оценки активности пользователей по тарифам нужно сеначала разделить пользователей по тарифам."
   ]
  },
  {
   "cell_type": "code",
   "execution_count": 37,
   "metadata": {},
   "outputs": [],
   "source": [
    "df_activity_smart = df_activity.query(\"tariff == 'smart'\")\n",
    "df_activity_ultra = df_activity.query(\"tariff == 'ultra'\")"
   ]
  },
  {
   "attachments": {},
   "cell_type": "markdown",
   "metadata": {},
   "source": [
    "Теперь получим медиану, дисперсию и стандартное отклонение для каждого месяца и типа связи."
   ]
  },
  {
   "cell_type": "code",
   "execution_count": 38,
   "metadata": {},
   "outputs": [
    {
     "data": {
      "text/html": [
       "<div>\n",
       "<style scoped>\n",
       "    .dataframe tbody tr th:only-of-type {\n",
       "        vertical-align: middle;\n",
       "    }\n",
       "\n",
       "    .dataframe tbody tr th {\n",
       "        vertical-align: top;\n",
       "    }\n",
       "\n",
       "    .dataframe thead th {\n",
       "        text-align: right;\n",
       "    }\n",
       "</style>\n",
       "<table border=\"1\" class=\"dataframe\">\n",
       "  <thead>\n",
       "    <tr style=\"text-align: right;\">\n",
       "      <th></th>\n",
       "      <th>calls_sum</th>\n",
       "      <th>var_calls_sum</th>\n",
       "      <th>std_calls_sum</th>\n",
       "      <th>internet</th>\n",
       "      <th>var_internet</th>\n",
       "      <th>std_internet</th>\n",
       "      <th>messages</th>\n",
       "      <th>var_messages</th>\n",
       "      <th>std_messages</th>\n",
       "    </tr>\n",
       "    <tr>\n",
       "      <th>month</th>\n",
       "      <th></th>\n",
       "      <th></th>\n",
       "      <th></th>\n",
       "      <th></th>\n",
       "      <th></th>\n",
       "      <th></th>\n",
       "      <th></th>\n",
       "      <th></th>\n",
       "      <th></th>\n",
       "    </tr>\n",
       "  </thead>\n",
       "  <tbody>\n",
       "    <tr>\n",
       "      <th>1</th>\n",
       "      <td>172.0</td>\n",
       "      <td>23335.573361</td>\n",
       "      <td>152.759855</td>\n",
       "      <td>7</td>\n",
       "      <td>38.112383</td>\n",
       "      <td>6.173523</td>\n",
       "      <td>16.0</td>\n",
       "      <td>244.000000</td>\n",
       "      <td>15.620499</td>\n",
       "    </tr>\n",
       "    <tr>\n",
       "      <th>2</th>\n",
       "      <td>293.0</td>\n",
       "      <td>37335.712400</td>\n",
       "      <td>193.224513</td>\n",
       "      <td>13</td>\n",
       "      <td>33.374400</td>\n",
       "      <td>5.777058</td>\n",
       "      <td>22.5</td>\n",
       "      <td>431.656400</td>\n",
       "      <td>20.776342</td>\n",
       "    </tr>\n",
       "    <tr>\n",
       "      <th>3</th>\n",
       "      <td>412.0</td>\n",
       "      <td>37489.615627</td>\n",
       "      <td>193.622353</td>\n",
       "      <td>15</td>\n",
       "      <td>31.996219</td>\n",
       "      <td>5.656520</td>\n",
       "      <td>29.0</td>\n",
       "      <td>660.073514</td>\n",
       "      <td>25.691896</td>\n",
       "    </tr>\n",
       "    <tr>\n",
       "      <th>4</th>\n",
       "      <td>388.0</td>\n",
       "      <td>33318.178711</td>\n",
       "      <td>182.532678</td>\n",
       "      <td>15</td>\n",
       "      <td>29.069010</td>\n",
       "      <td>5.391568</td>\n",
       "      <td>32.5</td>\n",
       "      <td>512.471246</td>\n",
       "      <td>22.637828</td>\n",
       "    </tr>\n",
       "    <tr>\n",
       "      <th>5</th>\n",
       "      <td>437.5</td>\n",
       "      <td>33812.123891</td>\n",
       "      <td>183.880733</td>\n",
       "      <td>17</td>\n",
       "      <td>30.562483</td>\n",
       "      <td>5.528335</td>\n",
       "      <td>37.0</td>\n",
       "      <td>633.539909</td>\n",
       "      <td>25.170219</td>\n",
       "    </tr>\n",
       "    <tr>\n",
       "      <th>6</th>\n",
       "      <td>402.0</td>\n",
       "      <td>28729.167145</td>\n",
       "      <td>169.496806</td>\n",
       "      <td>16</td>\n",
       "      <td>33.520730</td>\n",
       "      <td>5.789709</td>\n",
       "      <td>33.0</td>\n",
       "      <td>726.483436</td>\n",
       "      <td>26.953357</td>\n",
       "    </tr>\n",
       "    <tr>\n",
       "      <th>7</th>\n",
       "      <td>414.5</td>\n",
       "      <td>31476.494121</td>\n",
       "      <td>177.416161</td>\n",
       "      <td>16</td>\n",
       "      <td>31.733518</td>\n",
       "      <td>5.633251</td>\n",
       "      <td>35.0</td>\n",
       "      <td>715.218259</td>\n",
       "      <td>26.743565</td>\n",
       "    </tr>\n",
       "    <tr>\n",
       "      <th>8</th>\n",
       "      <td>439.0</td>\n",
       "      <td>34312.527409</td>\n",
       "      <td>185.236410</td>\n",
       "      <td>17</td>\n",
       "      <td>30.845398</td>\n",
       "      <td>5.553863</td>\n",
       "      <td>34.0</td>\n",
       "      <td>764.871217</td>\n",
       "      <td>27.656305</td>\n",
       "    </tr>\n",
       "    <tr>\n",
       "      <th>9</th>\n",
       "      <td>439.5</td>\n",
       "      <td>32142.792549</td>\n",
       "      <td>179.284111</td>\n",
       "      <td>16</td>\n",
       "      <td>26.184908</td>\n",
       "      <td>5.117119</td>\n",
       "      <td>34.0</td>\n",
       "      <td>702.269702</td>\n",
       "      <td>26.500372</td>\n",
       "    </tr>\n",
       "    <tr>\n",
       "      <th>10</th>\n",
       "      <td>432.0</td>\n",
       "      <td>34062.348857</td>\n",
       "      <td>184.559879</td>\n",
       "      <td>17</td>\n",
       "      <td>33.213048</td>\n",
       "      <td>5.763076</td>\n",
       "      <td>35.0</td>\n",
       "      <td>735.205487</td>\n",
       "      <td>27.114673</td>\n",
       "    </tr>\n",
       "    <tr>\n",
       "      <th>11</th>\n",
       "      <td>433.0</td>\n",
       "      <td>29903.049239</td>\n",
       "      <td>172.924982</td>\n",
       "      <td>17</td>\n",
       "      <td>25.278285</td>\n",
       "      <td>5.027752</td>\n",
       "      <td>34.0</td>\n",
       "      <td>709.886486</td>\n",
       "      <td>26.643695</td>\n",
       "    </tr>\n",
       "    <tr>\n",
       "      <th>12</th>\n",
       "      <td>471.0</td>\n",
       "      <td>40323.130471</td>\n",
       "      <td>200.806201</td>\n",
       "      <td>17</td>\n",
       "      <td>29.482517</td>\n",
       "      <td>5.429781</td>\n",
       "      <td>38.0</td>\n",
       "      <td>832.261932</td>\n",
       "      <td>28.848950</td>\n",
       "    </tr>\n",
       "  </tbody>\n",
       "</table>\n",
       "</div>"
      ],
      "text/plain": [
       "       calls_sum  var_calls_sum  std_calls_sum  internet  var_internet  \\\n",
       "month                                                                    \n",
       "1          172.0   23335.573361     152.759855         7     38.112383   \n",
       "2          293.0   37335.712400     193.224513        13     33.374400   \n",
       "3          412.0   37489.615627     193.622353        15     31.996219   \n",
       "4          388.0   33318.178711     182.532678        15     29.069010   \n",
       "5          437.5   33812.123891     183.880733        17     30.562483   \n",
       "6          402.0   28729.167145     169.496806        16     33.520730   \n",
       "7          414.5   31476.494121     177.416161        16     31.733518   \n",
       "8          439.0   34312.527409     185.236410        17     30.845398   \n",
       "9          439.5   32142.792549     179.284111        16     26.184908   \n",
       "10         432.0   34062.348857     184.559879        17     33.213048   \n",
       "11         433.0   29903.049239     172.924982        17     25.278285   \n",
       "12         471.0   40323.130471     200.806201        17     29.482517   \n",
       "\n",
       "       std_internet  messages  var_messages  std_messages  \n",
       "month                                                      \n",
       "1          6.173523      16.0    244.000000     15.620499  \n",
       "2          5.777058      22.5    431.656400     20.776342  \n",
       "3          5.656520      29.0    660.073514     25.691896  \n",
       "4          5.391568      32.5    512.471246     22.637828  \n",
       "5          5.528335      37.0    633.539909     25.170219  \n",
       "6          5.789709      33.0    726.483436     26.953357  \n",
       "7          5.633251      35.0    715.218259     26.743565  \n",
       "8          5.553863      34.0    764.871217     27.656305  \n",
       "9          5.117119      34.0    702.269702     26.500372  \n",
       "10         5.763076      35.0    735.205487     27.114673  \n",
       "11         5.027752      34.0    709.886486     26.643695  \n",
       "12         5.429781      38.0    832.261932     28.848950  "
      ]
     },
     "execution_count": 38,
     "metadata": {},
     "output_type": "execute_result"
    }
   ],
   "source": [
    "analysis_smart = df_activity_smart.pivot_table(index = \"month\",\n",
    "                                              values = [\"calls_sum\",\n",
    "                                                       \"internet\",\n",
    "                                                       \"messages\"],\n",
    "                                              aggfunc = \"median\")\n",
    "for i in range(1,13):\n",
    "    for j in [\"calls_sum\",\"internet\",\"messages\"]:\n",
    "        analysis_smart.loc[i,f\"var_{j}\"] = np.var(df_activity_smart.query(\"month == @i\")[j])\n",
    "        analysis_smart.loc[i,f\"std_{j}\"] = np.std(df_activity_smart.query(\"month == @i\")[j])\n",
    "analysis_smart = analysis_smart.reindex(columns=['calls_sum', 'var_calls_sum', 'std_calls_sum',\n",
    "                                                'internet', 'var_internet', 'std_internet',\n",
    "                                                'messages', 'var_messages', 'std_messages'])\n",
    "analysis_smart"
   ]
  },
  {
   "cell_type": "code",
   "execution_count": 39,
   "metadata": {
    "scrolled": false
   },
   "outputs": [
    {
     "data": {
      "text/html": [
       "<div>\n",
       "<style scoped>\n",
       "    .dataframe tbody tr th:only-of-type {\n",
       "        vertical-align: middle;\n",
       "    }\n",
       "\n",
       "    .dataframe tbody tr th {\n",
       "        vertical-align: top;\n",
       "    }\n",
       "\n",
       "    .dataframe thead th {\n",
       "        text-align: right;\n",
       "    }\n",
       "</style>\n",
       "<table border=\"1\" class=\"dataframe\">\n",
       "  <thead>\n",
       "    <tr style=\"text-align: right;\">\n",
       "      <th></th>\n",
       "      <th>calls_sum</th>\n",
       "      <th>var_calls_sum</th>\n",
       "      <th>std_calls_sum</th>\n",
       "      <th>internet</th>\n",
       "      <th>var_internet</th>\n",
       "      <th>std_internet</th>\n",
       "      <th>messages</th>\n",
       "      <th>var_messages</th>\n",
       "      <th>std_messages</th>\n",
       "    </tr>\n",
       "    <tr>\n",
       "      <th>month</th>\n",
       "      <th></th>\n",
       "      <th></th>\n",
       "      <th></th>\n",
       "      <th></th>\n",
       "      <th></th>\n",
       "      <th></th>\n",
       "      <th></th>\n",
       "      <th></th>\n",
       "      <th></th>\n",
       "    </tr>\n",
       "  </thead>\n",
       "  <tbody>\n",
       "    <tr>\n",
       "      <th>1</th>\n",
       "      <td>382.0</td>\n",
       "      <td>60779.142857</td>\n",
       "      <td>246.534263</td>\n",
       "      <td>15.0</td>\n",
       "      <td>22.285714</td>\n",
       "      <td>4.720775</td>\n",
       "      <td>50.0</td>\n",
       "      <td>655.959184</td>\n",
       "      <td>25.611700</td>\n",
       "    </tr>\n",
       "    <tr>\n",
       "      <th>2</th>\n",
       "      <td>228.0</td>\n",
       "      <td>100047.750000</td>\n",
       "      <td>316.303256</td>\n",
       "      <td>9.5</td>\n",
       "      <td>124.359375</td>\n",
       "      <td>11.151653</td>\n",
       "      <td>35.5</td>\n",
       "      <td>668.808594</td>\n",
       "      <td>25.861334</td>\n",
       "    </tr>\n",
       "    <tr>\n",
       "      <th>3</th>\n",
       "      <td>467.0</td>\n",
       "      <td>131144.505600</td>\n",
       "      <td>362.138793</td>\n",
       "      <td>17.0</td>\n",
       "      <td>109.680000</td>\n",
       "      <td>10.472822</td>\n",
       "      <td>27.0</td>\n",
       "      <td>1753.600000</td>\n",
       "      <td>41.876007</td>\n",
       "    </tr>\n",
       "    <tr>\n",
       "      <th>4</th>\n",
       "      <td>485.0</td>\n",
       "      <td>71298.781856</td>\n",
       "      <td>267.018317</td>\n",
       "      <td>17.0</td>\n",
       "      <td>67.102493</td>\n",
       "      <td>8.191611</td>\n",
       "      <td>37.0</td>\n",
       "      <td>1374.194598</td>\n",
       "      <td>37.070131</td>\n",
       "    </tr>\n",
       "    <tr>\n",
       "      <th>5</th>\n",
       "      <td>524.0</td>\n",
       "      <td>80646.984375</td>\n",
       "      <td>283.984127</td>\n",
       "      <td>19.0</td>\n",
       "      <td>86.308594</td>\n",
       "      <td>9.290242</td>\n",
       "      <td>39.0</td>\n",
       "      <td>1622.206597</td>\n",
       "      <td>40.276626</td>\n",
       "    </tr>\n",
       "    <tr>\n",
       "      <th>6</th>\n",
       "      <td>483.0</td>\n",
       "      <td>95309.768707</td>\n",
       "      <td>308.722802</td>\n",
       "      <td>18.0</td>\n",
       "      <td>73.265810</td>\n",
       "      <td>8.559545</td>\n",
       "      <td>40.0</td>\n",
       "      <td>1655.844797</td>\n",
       "      <td>40.692073</td>\n",
       "    </tr>\n",
       "    <tr>\n",
       "      <th>7</th>\n",
       "      <td>565.0</td>\n",
       "      <td>89637.347196</td>\n",
       "      <td>299.394969</td>\n",
       "      <td>20.0</td>\n",
       "      <td>86.984247</td>\n",
       "      <td>9.326535</td>\n",
       "      <td>51.0</td>\n",
       "      <td>1923.191346</td>\n",
       "      <td>43.854206</td>\n",
       "    </tr>\n",
       "    <tr>\n",
       "      <th>8</th>\n",
       "      <td>521.0</td>\n",
       "      <td>95914.900566</td>\n",
       "      <td>309.701309</td>\n",
       "      <td>19.0</td>\n",
       "      <td>91.687618</td>\n",
       "      <td>9.575365</td>\n",
       "      <td>48.0</td>\n",
       "      <td>1895.532879</td>\n",
       "      <td>43.537718</td>\n",
       "    </tr>\n",
       "    <tr>\n",
       "      <th>9</th>\n",
       "      <td>525.5</td>\n",
       "      <td>97404.353580</td>\n",
       "      <td>312.096705</td>\n",
       "      <td>20.0</td>\n",
       "      <td>77.467778</td>\n",
       "      <td>8.801578</td>\n",
       "      <td>57.0</td>\n",
       "      <td>1757.048025</td>\n",
       "      <td>41.917157</td>\n",
       "    </tr>\n",
       "    <tr>\n",
       "      <th>10</th>\n",
       "      <td>526.0</td>\n",
       "      <td>100968.001700</td>\n",
       "      <td>317.754625</td>\n",
       "      <td>20.0</td>\n",
       "      <td>88.001913</td>\n",
       "      <td>9.380933</td>\n",
       "      <td>65.0</td>\n",
       "      <td>2313.108726</td>\n",
       "      <td>48.094789</td>\n",
       "    </tr>\n",
       "    <tr>\n",
       "      <th>11</th>\n",
       "      <td>549.0</td>\n",
       "      <td>88776.822605</td>\n",
       "      <td>297.954397</td>\n",
       "      <td>19.0</td>\n",
       "      <td>89.997030</td>\n",
       "      <td>9.486676</td>\n",
       "      <td>64.0</td>\n",
       "      <td>2150.090488</td>\n",
       "      <td>46.369068</td>\n",
       "    </tr>\n",
       "    <tr>\n",
       "      <th>12</th>\n",
       "      <td>614.0</td>\n",
       "      <td>103380.376106</td>\n",
       "      <td>321.528189</td>\n",
       "      <td>22.0</td>\n",
       "      <td>88.945215</td>\n",
       "      <td>9.431077</td>\n",
       "      <td>66.0</td>\n",
       "      <td>2239.648567</td>\n",
       "      <td>47.324925</td>\n",
       "    </tr>\n",
       "  </tbody>\n",
       "</table>\n",
       "</div>"
      ],
      "text/plain": [
       "       calls_sum  var_calls_sum  std_calls_sum  internet  var_internet  \\\n",
       "month                                                                    \n",
       "1          382.0   60779.142857     246.534263      15.0     22.285714   \n",
       "2          228.0  100047.750000     316.303256       9.5    124.359375   \n",
       "3          467.0  131144.505600     362.138793      17.0    109.680000   \n",
       "4          485.0   71298.781856     267.018317      17.0     67.102493   \n",
       "5          524.0   80646.984375     283.984127      19.0     86.308594   \n",
       "6          483.0   95309.768707     308.722802      18.0     73.265810   \n",
       "7          565.0   89637.347196     299.394969      20.0     86.984247   \n",
       "8          521.0   95914.900566     309.701309      19.0     91.687618   \n",
       "9          525.5   97404.353580     312.096705      20.0     77.467778   \n",
       "10         526.0  100968.001700     317.754625      20.0     88.001913   \n",
       "11         549.0   88776.822605     297.954397      19.0     89.997030   \n",
       "12         614.0  103380.376106     321.528189      22.0     88.945215   \n",
       "\n",
       "       std_internet  messages  var_messages  std_messages  \n",
       "month                                                      \n",
       "1          4.720775      50.0    655.959184     25.611700  \n",
       "2         11.151653      35.5    668.808594     25.861334  \n",
       "3         10.472822      27.0   1753.600000     41.876007  \n",
       "4          8.191611      37.0   1374.194598     37.070131  \n",
       "5          9.290242      39.0   1622.206597     40.276626  \n",
       "6          8.559545      40.0   1655.844797     40.692073  \n",
       "7          9.326535      51.0   1923.191346     43.854206  \n",
       "8          9.575365      48.0   1895.532879     43.537718  \n",
       "9          8.801578      57.0   1757.048025     41.917157  \n",
       "10         9.380933      65.0   2313.108726     48.094789  \n",
       "11         9.486676      64.0   2150.090488     46.369068  \n",
       "12         9.431077      66.0   2239.648567     47.324925  "
      ]
     },
     "execution_count": 39,
     "metadata": {},
     "output_type": "execute_result"
    }
   ],
   "source": [
    "analysis_ultra = df_activity_ultra.pivot_table(index = \"month\",\n",
    "                                              values = [\"calls_sum\",\n",
    "                                                       \"internet\",\n",
    "                                                       \"messages\"],\n",
    "                                              aggfunc = \"median\")\n",
    "for i in range(1,13):\n",
    "    for j in [\"calls_sum\",\"internet\",\"messages\"]:\n",
    "        analysis_ultra.loc[i,f\"var_{j}\"] = np.var(df_activity_ultra.query(\"month == @i\")[j])\n",
    "        analysis_ultra.loc[i,f\"std_{j}\"] = np.std(df_activity_ultra.query(\"month == @i\")[j])\n",
    "analysis_ultra = analysis_ultra.reindex(columns=['calls_sum', 'var_calls_sum', 'std_calls_sum',\n",
    "                                                'internet', 'var_internet', 'std_internet',\n",
    "                                                'messages', 'var_messages', 'std_messages'])\n",
    "analysis_ultra"
   ]
  },
  {
   "attachments": {},
   "cell_type": "markdown",
   "metadata": {},
   "source": [
    "Теперь у нас все есть что бы построить гистограммы."
   ]
  },
  {
   "cell_type": "code",
   "execution_count": 40,
   "metadata": {
    "scrolled": false
   },
   "outputs": [
    {
     "data": {
      "image/png": "[encoded data removed]",
      "text/plain": [
       "<Figure size 432x288 with 1 Axes>"
      ]
     },
     "metadata": {
      "needs_background": "light"
     },
     "output_type": "display_data"
    },
    {
     "data": {
      "image/png": "[encoded data removed]",
      "text/plain": [
       "<Figure size 432x288 with 1 Axes>"
      ]
     },
     "metadata": {
      "needs_background": "light"
     },
     "output_type": "display_data"
    },
    {
     "data": {
      "image/png": "[encoded data removed]",
      "text/plain": [
       "<Figure size 432x288 with 1 Axes>"
      ]
     },
     "metadata": {
      "needs_background": "light"
     },
     "output_type": "display_data"
    },
    {
     "data": {
      "image/png": "[encoded data removed]",
      "text/plain": [
       "<Figure size 432x288 with 1 Axes>"
      ]
     },
     "metadata": {
      "needs_background": "light"
     },
     "output_type": "display_data"
    },
    {
     "data": {
      "image/png": "[encoded data removed]",
      "text/plain": [
       "<Figure size 432x288 with 1 Axes>"
      ]
     },
     "metadata": {
      "needs_background": "light"
     },
     "output_type": "display_data"
    },
    {
     "data": {
      "image/png": "[encoded data removed]",
      "text/plain": [
       "<Figure size 432x288 with 1 Axes>"
      ]
     },
     "metadata": {
      "needs_background": "light"
     },
     "output_type": "display_data"
    },
    {
     "data": {
      "image/png": "[encoded data removed]",
      "text/plain": [
       "<Figure size 432x288 with 1 Axes>"
      ]
     },
     "metadata": {
      "needs_background": "light"
     },
     "output_type": "display_data"
    },
    {
     "data": {
      "image/png": "[encoded data removed]",
      "text/plain": [
       "<Figure size 432x288 with 1 Axes>"
      ]
     },
     "metadata": {
      "needs_background": "light"
     },
     "output_type": "display_data"
    },
    {
     "data": {
      "image/png": "[encoded data removed]",
      "text/plain": [
       "<Figure size 432x288 with 1 Axes>"
      ]
     },
     "metadata": {
      "needs_background": "light"
     },
     "output_type": "display_data"
    }
   ],
   "source": [
    "for i in analysis_ultra.columns:\n",
    "    analysis_smart[i].hist(bins = 12, alpha =0.7)\n",
    "    analysis_ultra[i].hist(bins = 12, alpha =0.7)\n",
    "    plt.xlabel(i)\n",
    "    plt.show()"
   ]
  },
  {
   "attachments": {},
   "cell_type": "markdown",
   "metadata": {},
   "source": [
    "### Вывод"
   ]
  },
  {
   "attachments": {},
   "cell_type": "markdown",
   "metadata": {},
   "source": [
    "На основе графиков выше можно сдлеать вывод, что звонки и смс используются в тарифах Ультра больше чем в Смарт, а вот интернет примерно одинаково, однако во всех случаях дисперсия больше для тарифом Ультра."
   ]
  },
  {
   "attachments": {},
   "cell_type": "markdown",
   "metadata": {},
   "source": [
    "## Проверка гипотез"
   ]
  },
  {
   "attachments": {},
   "cell_type": "markdown",
   "metadata": {},
   "source": [
    "Есть две гипотизы:\n",
    "- средняя выручка пользователей тарифов «Ультра» и «Смарт» различаются;\n",
    "- средняя выручка пользователей из Москвы отличается от выручки пользователей из других регионов."
   ]
  },
  {
   "attachments": {},
   "cell_type": "markdown",
   "metadata": {},
   "source": [
    "Уровень статистической значимости для обоих случаев возьмем 5%"
   ]
  },
  {
   "attachments": {},
   "cell_type": "markdown",
   "metadata": {},
   "source": [
    "Нулевая гипотеза: тарифы \"Ультра\" и \"Смарт\" приносят одинаковое количество выручки.  \n",
    "Альтернативная гипотеза: средняя плата по тарифа разные."
   ]
  },
  {
   "cell_type": "code",
   "execution_count": 41,
   "metadata": {},
   "outputs": [
    {
     "data": {
      "text/plain": [
       "'Средняя плата по тарифу Ультра 2048.6737400530506'"
      ]
     },
     "metadata": {},
     "output_type": "display_data"
    },
    {
     "data": {
      "text/plain": [
       "'Средняя плата по тарифу Смарт 1289.905059989567'"
      ]
     },
     "metadata": {},
     "output_type": "display_data"
    },
    {
     "data": {
      "text/plain": [
       "3.910326669505703e-120"
      ]
     },
     "execution_count": 41,
     "metadata": {},
     "output_type": "execute_result"
    }
   ],
   "source": [
    "display(f\"Средняя плата по тарифу Ультра {df_activity_ultra['pay'].mean()}\")\n",
    "display(f\"Средняя плата по тарифу Смарт {df_activity_smart['pay'].mean()}\")\n",
    "st.ttest_ind (df_activity_smart[\"pay\"],\n",
    "             df_activity_ultra[\"pay\"]).pvalue"
   ]
  },
  {
   "attachments": {},
   "cell_type": "markdown",
   "metadata": {},
   "source": [
    "pvalue очень маленькое следовательно нулевую гипотезу отвергаем."
   ]
  },
  {
   "attachments": {},
   "cell_type": "markdown",
   "metadata": {},
   "source": [
    "Данные говорят в пользу альтернативной гипотезы."
   ]
  },
  {
   "attachments": {},
   "cell_type": "markdown",
   "metadata": {},
   "source": [
    "Нулева гипотеза: средняя плата по услугам связи по Москве равна средней плате по другим городам.  \n",
    "Альтернативная: средняя плата по Москве отличается от средней других городов."
   ]
  },
  {
   "attachments": {},
   "cell_type": "markdown",
   "metadata": {},
   "source": [
    "Для Проверки гипотезы нужно сначала отсортировать данные по городам."
   ]
  },
  {
   "cell_type": "code",
   "execution_count": 42,
   "metadata": {},
   "outputs": [],
   "source": [
    "moscow_users = df_users.loc[df_users['city'] == \"Москва\", \"user_id\"]"
   ]
  },
  {
   "cell_type": "code",
   "execution_count": 43,
   "metadata": {},
   "outputs": [
    {
     "data": {
      "text/html": [
       "<div>\n",
       "<style scoped>\n",
       "    .dataframe tbody tr th:only-of-type {\n",
       "        vertical-align: middle;\n",
       "    }\n",
       "\n",
       "    .dataframe tbody tr th {\n",
       "        vertical-align: top;\n",
       "    }\n",
       "\n",
       "    .dataframe thead th {\n",
       "        text-align: right;\n",
       "    }\n",
       "</style>\n",
       "<table border=\"1\" class=\"dataframe\">\n",
       "  <thead>\n",
       "    <tr style=\"text-align: right;\">\n",
       "      <th></th>\n",
       "      <th>user_id</th>\n",
       "      <th>calls_sum</th>\n",
       "      <th>calls_count</th>\n",
       "      <th>internet</th>\n",
       "      <th>messages</th>\n",
       "      <th>month</th>\n",
       "      <th>tariff</th>\n",
       "      <th>pay</th>\n",
       "    </tr>\n",
       "  </thead>\n",
       "  <tbody>\n",
       "    <tr>\n",
       "      <th>15</th>\n",
       "      <td>1003</td>\n",
       "      <td>380.0</td>\n",
       "      <td>55.0</td>\n",
       "      <td>9</td>\n",
       "      <td>37</td>\n",
       "      <td>8</td>\n",
       "      <td>ultra</td>\n",
       "      <td>1950.0</td>\n",
       "    </tr>\n",
       "    <tr>\n",
       "      <th>16</th>\n",
       "      <td>1003</td>\n",
       "      <td>961.0</td>\n",
       "      <td>134.0</td>\n",
       "      <td>13</td>\n",
       "      <td>91</td>\n",
       "      <td>9</td>\n",
       "      <td>ultra</td>\n",
       "      <td>1950.0</td>\n",
       "    </tr>\n",
       "    <tr>\n",
       "      <th>17</th>\n",
       "      <td>1003</td>\n",
       "      <td>855.0</td>\n",
       "      <td>108.0</td>\n",
       "      <td>15</td>\n",
       "      <td>83</td>\n",
       "      <td>10</td>\n",
       "      <td>ultra</td>\n",
       "      <td>1950.0</td>\n",
       "    </tr>\n",
       "    <tr>\n",
       "      <th>18</th>\n",
       "      <td>1003</td>\n",
       "      <td>824.0</td>\n",
       "      <td>115.0</td>\n",
       "      <td>12</td>\n",
       "      <td>94</td>\n",
       "      <td>11</td>\n",
       "      <td>ultra</td>\n",
       "      <td>1950.0</td>\n",
       "    </tr>\n",
       "    <tr>\n",
       "      <th>19</th>\n",
       "      <td>1003</td>\n",
       "      <td>802.0</td>\n",
       "      <td>108.0</td>\n",
       "      <td>10</td>\n",
       "      <td>75</td>\n",
       "      <td>12</td>\n",
       "      <td>ultra</td>\n",
       "      <td>1950.0</td>\n",
       "    </tr>\n",
       "    <tr>\n",
       "      <th>...</th>\n",
       "      <td>...</td>\n",
       "      <td>...</td>\n",
       "      <td>...</td>\n",
       "      <td>...</td>\n",
       "      <td>...</td>\n",
       "      <td>...</td>\n",
       "      <td>...</td>\n",
       "      <td>...</td>\n",
       "    </tr>\n",
       "    <tr>\n",
       "      <th>2620</th>\n",
       "      <td>1490</td>\n",
       "      <td>346.0</td>\n",
       "      <td>45.0</td>\n",
       "      <td>17</td>\n",
       "      <td>50</td>\n",
       "      <td>8</td>\n",
       "      <td>smart</td>\n",
       "      <td>950.0</td>\n",
       "    </tr>\n",
       "    <tr>\n",
       "      <th>2621</th>\n",
       "      <td>1490</td>\n",
       "      <td>322.0</td>\n",
       "      <td>44.0</td>\n",
       "      <td>15</td>\n",
       "      <td>48</td>\n",
       "      <td>9</td>\n",
       "      <td>smart</td>\n",
       "      <td>550.0</td>\n",
       "    </tr>\n",
       "    <tr>\n",
       "      <th>2622</th>\n",
       "      <td>1490</td>\n",
       "      <td>312.0</td>\n",
       "      <td>42.0</td>\n",
       "      <td>21</td>\n",
       "      <td>45</td>\n",
       "      <td>10</td>\n",
       "      <td>smart</td>\n",
       "      <td>1750.0</td>\n",
       "    </tr>\n",
       "    <tr>\n",
       "      <th>2623</th>\n",
       "      <td>1490</td>\n",
       "      <td>282.0</td>\n",
       "      <td>38.0</td>\n",
       "      <td>19</td>\n",
       "      <td>47</td>\n",
       "      <td>11</td>\n",
       "      <td>smart</td>\n",
       "      <td>1350.0</td>\n",
       "    </tr>\n",
       "    <tr>\n",
       "      <th>2624</th>\n",
       "      <td>1490</td>\n",
       "      <td>290.0</td>\n",
       "      <td>42.0</td>\n",
       "      <td>16</td>\n",
       "      <td>46</td>\n",
       "      <td>12</td>\n",
       "      <td>smart</td>\n",
       "      <td>750.0</td>\n",
       "    </tr>\n",
       "  </tbody>\n",
       "</table>\n",
       "<p>491 rows × 8 columns</p>\n",
       "</div>"
      ],
      "text/plain": [
       "      user_id  calls_sum  calls_count  internet  messages  month tariff  \\\n",
       "15       1003      380.0         55.0         9        37      8  ultra   \n",
       "16       1003      961.0        134.0        13        91      9  ultra   \n",
       "17       1003      855.0        108.0        15        83     10  ultra   \n",
       "18       1003      824.0        115.0        12        94     11  ultra   \n",
       "19       1003      802.0        108.0        10        75     12  ultra   \n",
       "...       ...        ...          ...       ...       ...    ...    ...   \n",
       "2620     1490      346.0         45.0        17        50      8  smart   \n",
       "2621     1490      322.0         44.0        15        48      9  smart   \n",
       "2622     1490      312.0         42.0        21        45     10  smart   \n",
       "2623     1490      282.0         38.0        19        47     11  smart   \n",
       "2624     1490      290.0         42.0        16        46     12  smart   \n",
       "\n",
       "         pay  \n",
       "15    1950.0  \n",
       "16    1950.0  \n",
       "17    1950.0  \n",
       "18    1950.0  \n",
       "19    1950.0  \n",
       "...      ...  \n",
       "2620   950.0  \n",
       "2621   550.0  \n",
       "2622  1750.0  \n",
       "2623  1350.0  \n",
       "2624   750.0  \n",
       "\n",
       "[491 rows x 8 columns]"
      ]
     },
     "execution_count": 43,
     "metadata": {},
     "output_type": "execute_result"
    }
   ],
   "source": [
    "moscow_users = df_activity.query(\"user_id in @moscow_users\")\n",
    "moscow_users"
   ]
  },
  {
   "cell_type": "code",
   "execution_count": 44,
   "metadata": {},
   "outputs": [
    {
     "data": {
      "text/html": [
       "<div>\n",
       "<style scoped>\n",
       "    .dataframe tbody tr th:only-of-type {\n",
       "        vertical-align: middle;\n",
       "    }\n",
       "\n",
       "    .dataframe tbody tr th {\n",
       "        vertical-align: top;\n",
       "    }\n",
       "\n",
       "    .dataframe thead th {\n",
       "        text-align: right;\n",
       "    }\n",
       "</style>\n",
       "<table border=\"1\" class=\"dataframe\">\n",
       "  <thead>\n",
       "    <tr style=\"text-align: right;\">\n",
       "      <th></th>\n",
       "      <th>user_id</th>\n",
       "      <th>calls_sum</th>\n",
       "      <th>calls_count</th>\n",
       "      <th>internet</th>\n",
       "      <th>messages</th>\n",
       "      <th>month</th>\n",
       "      <th>tariff</th>\n",
       "      <th>pay</th>\n",
       "    </tr>\n",
       "  </thead>\n",
       "  <tbody>\n",
       "    <tr>\n",
       "      <th>0</th>\n",
       "      <td>1000</td>\n",
       "      <td>159.0</td>\n",
       "      <td>22.0</td>\n",
       "      <td>3</td>\n",
       "      <td>22</td>\n",
       "      <td>5</td>\n",
       "      <td>ultra</td>\n",
       "      <td>1950.0</td>\n",
       "    </tr>\n",
       "    <tr>\n",
       "      <th>1</th>\n",
       "      <td>1000</td>\n",
       "      <td>172.0</td>\n",
       "      <td>43.0</td>\n",
       "      <td>23</td>\n",
       "      <td>60</td>\n",
       "      <td>6</td>\n",
       "      <td>ultra</td>\n",
       "      <td>1950.0</td>\n",
       "    </tr>\n",
       "    <tr>\n",
       "      <th>2</th>\n",
       "      <td>1000</td>\n",
       "      <td>340.0</td>\n",
       "      <td>47.0</td>\n",
       "      <td>14</td>\n",
       "      <td>75</td>\n",
       "      <td>7</td>\n",
       "      <td>ultra</td>\n",
       "      <td>1950.0</td>\n",
       "    </tr>\n",
       "    <tr>\n",
       "      <th>3</th>\n",
       "      <td>1000</td>\n",
       "      <td>408.0</td>\n",
       "      <td>52.0</td>\n",
       "      <td>14</td>\n",
       "      <td>81</td>\n",
       "      <td>8</td>\n",
       "      <td>ultra</td>\n",
       "      <td>1950.0</td>\n",
       "    </tr>\n",
       "    <tr>\n",
       "      <th>4</th>\n",
       "      <td>1000</td>\n",
       "      <td>466.0</td>\n",
       "      <td>58.0</td>\n",
       "      <td>15</td>\n",
       "      <td>57</td>\n",
       "      <td>9</td>\n",
       "      <td>ultra</td>\n",
       "      <td>1950.0</td>\n",
       "    </tr>\n",
       "    <tr>\n",
       "      <th>...</th>\n",
       "      <td>...</td>\n",
       "      <td>...</td>\n",
       "      <td>...</td>\n",
       "      <td>...</td>\n",
       "      <td>...</td>\n",
       "      <td>...</td>\n",
       "      <td>...</td>\n",
       "      <td>...</td>\n",
       "    </tr>\n",
       "    <tr>\n",
       "      <th>2666</th>\n",
       "      <td>1498</td>\n",
       "      <td>247.0</td>\n",
       "      <td>41.0</td>\n",
       "      <td>21</td>\n",
       "      <td>42</td>\n",
       "      <td>10</td>\n",
       "      <td>smart</td>\n",
       "      <td>1750.0</td>\n",
       "    </tr>\n",
       "    <tr>\n",
       "      <th>2667</th>\n",
       "      <td>1499</td>\n",
       "      <td>70.0</td>\n",
       "      <td>9.0</td>\n",
       "      <td>2</td>\n",
       "      <td>11</td>\n",
       "      <td>9</td>\n",
       "      <td>smart</td>\n",
       "      <td>550.0</td>\n",
       "    </tr>\n",
       "    <tr>\n",
       "      <th>2668</th>\n",
       "      <td>1499</td>\n",
       "      <td>449.0</td>\n",
       "      <td>68.0</td>\n",
       "      <td>18</td>\n",
       "      <td>48</td>\n",
       "      <td>10</td>\n",
       "      <td>smart</td>\n",
       "      <td>1150.0</td>\n",
       "    </tr>\n",
       "    <tr>\n",
       "      <th>2669</th>\n",
       "      <td>1499</td>\n",
       "      <td>612.0</td>\n",
       "      <td>74.0</td>\n",
       "      <td>18</td>\n",
       "      <td>59</td>\n",
       "      <td>11</td>\n",
       "      <td>smart</td>\n",
       "      <td>1513.0</td>\n",
       "    </tr>\n",
       "    <tr>\n",
       "      <th>2670</th>\n",
       "      <td>1499</td>\n",
       "      <td>492.0</td>\n",
       "      <td>69.0</td>\n",
       "      <td>13</td>\n",
       "      <td>66</td>\n",
       "      <td>12</td>\n",
       "      <td>smart</td>\n",
       "      <td>598.0</td>\n",
       "    </tr>\n",
       "  </tbody>\n",
       "</table>\n",
       "<p>2671 rows × 8 columns</p>\n",
       "</div>"
      ],
      "text/plain": [
       "      user_id  calls_sum  calls_count  internet  messages  month tariff  \\\n",
       "0        1000      159.0         22.0         3        22      5  ultra   \n",
       "1        1000      172.0         43.0        23        60      6  ultra   \n",
       "2        1000      340.0         47.0        14        75      7  ultra   \n",
       "3        1000      408.0         52.0        14        81      8  ultra   \n",
       "4        1000      466.0         58.0        15        57      9  ultra   \n",
       "...       ...        ...          ...       ...       ...    ...    ...   \n",
       "2666     1498      247.0         41.0        21        42     10  smart   \n",
       "2667     1499       70.0          9.0         2        11      9  smart   \n",
       "2668     1499      449.0         68.0        18        48     10  smart   \n",
       "2669     1499      612.0         74.0        18        59     11  smart   \n",
       "2670     1499      492.0         69.0        13        66     12  smart   \n",
       "\n",
       "         pay  \n",
       "0     1950.0  \n",
       "1     1950.0  \n",
       "2     1950.0  \n",
       "3     1950.0  \n",
       "4     1950.0  \n",
       "...      ...  \n",
       "2666  1750.0  \n",
       "2667   550.0  \n",
       "2668  1150.0  \n",
       "2669  1513.0  \n",
       "2670   598.0  \n",
       "\n",
       "[2671 rows x 8 columns]"
      ]
     },
     "execution_count": 44,
     "metadata": {},
     "output_type": "execute_result"
    }
   ],
   "source": [
    "others_users = df_activity.query(\"user_id not in @moscow_users\")\n",
    "others_users"
   ]
  },
  {
   "cell_type": "code",
   "execution_count": 45,
   "metadata": {},
   "outputs": [
    {
     "data": {
      "text/plain": [
       "'Средняя плата по Москве 1554.7107942973523'"
      ]
     },
     "metadata": {},
     "output_type": "display_data"
    },
    {
     "data": {
      "text/plain": [
       "'Средняя плата по остальным городам 1504.0988393859977'"
      ]
     },
     "metadata": {},
     "output_type": "display_data"
    },
    {
     "data": {
      "text/plain": [
       "0.18176559973452375"
      ]
     },
     "execution_count": 45,
     "metadata": {},
     "output_type": "execute_result"
    }
   ],
   "source": [
    "display(f\"Средняя плата по Москве {moscow_users['pay'].mean()}\")\n",
    "display(f\"Средняя плата по остальным городам {others_users['pay'].mean()}\")\n",
    "st.ttest_ind (moscow_users[\"pay\"],\n",
    "             others_users[\"pay\"],\n",
    "             equal_var = False).pvalue"
   ]
  },
  {
   "attachments": {},
   "cell_type": "markdown",
   "metadata": {},
   "source": [
    "Нулевая гипотеза подтвердилась, в Москве средняя плата за связь такая же как и в других городах."
   ]
  },
  {
   "attachments": {},
   "cell_type": "markdown",
   "metadata": {},
   "source": [
    "## Вывод"
   ]
  },
  {
   "attachments": {},
   "cell_type": "markdown",
   "metadata": {},
   "source": [
    "На основе полученных данных, сделали вывод что пользователи по тарифам Ультра больше пользуются услугами свзяи, за исключением интернета, тут пользователи тарифа смарт не отстают. Так же получили что в средняя плата по тарифа отличается. Средняя цена не зависит от города проживания пользователя."
   ]
  }
 ],
 "metadata": {
  "ExecuteTimeLog": [
   {
    "duration": 497,
    "start_time": "2022-06-17T13:17:31.838Z"
   },
   {
    "duration": 913,
    "start_time": "2022-06-17T13:18:34.040Z"
   },
   {
    "duration": 96,
    "start_time": "2022-06-17T13:21:27.526Z"
   },
   {
    "duration": 1214,
    "start_time": "2022-06-17T13:21:53.125Z"
   },
   {
    "duration": 168,
    "start_time": "2022-06-17T13:23:45.239Z"
   },
   {
    "duration": 46,
    "start_time": "2022-06-17T13:24:25.223Z"
   },
   {
    "duration": 152,
    "start_time": "2022-06-17T13:27:32.955Z"
   },
   {
    "duration": 51,
    "start_time": "2022-06-17T13:45:45.448Z"
   },
   {
    "duration": 26,
    "start_time": "2022-06-17T13:46:17.647Z"
   },
   {
    "duration": 61,
    "start_time": "2022-06-17T13:48:56.482Z"
   },
   {
    "duration": 50,
    "start_time": "2022-06-17T13:50:58.346Z"
   },
   {
    "duration": 40,
    "start_time": "2022-06-17T13:52:38.191Z"
   },
   {
    "duration": 14,
    "start_time": "2022-06-17T13:52:45.394Z"
   },
   {
    "duration": 10,
    "start_time": "2022-06-17T14:21:23.363Z"
   },
   {
    "duration": 13,
    "start_time": "2022-06-17T14:21:28.646Z"
   },
   {
    "duration": 13,
    "start_time": "2022-06-17T14:21:35.484Z"
   },
   {
    "duration": 10,
    "start_time": "2022-06-17T14:21:59.736Z"
   },
   {
    "duration": 7,
    "start_time": "2022-06-17T14:22:05.404Z"
   },
   {
    "duration": 4,
    "start_time": "2022-06-17T14:22:51.606Z"
   },
   {
    "duration": 10,
    "start_time": "2022-06-17T14:22:59.597Z"
   },
   {
    "duration": 5,
    "start_time": "2022-06-17T14:23:02.489Z"
   },
   {
    "duration": 10,
    "start_time": "2022-06-17T14:23:07.218Z"
   },
   {
    "duration": 5,
    "start_time": "2022-06-17T14:23:12.503Z"
   },
   {
    "duration": 11,
    "start_time": "2022-06-17T14:23:25.497Z"
   },
   {
    "duration": 9,
    "start_time": "2022-06-17T14:23:32.477Z"
   },
   {
    "duration": 6,
    "start_time": "2022-06-17T14:23:38.360Z"
   },
   {
    "duration": 5,
    "start_time": "2022-06-17T14:27:05.835Z"
   },
   {
    "duration": 6,
    "start_time": "2022-06-17T14:27:12.252Z"
   },
   {
    "duration": 4,
    "start_time": "2022-06-17T14:27:46.959Z"
   },
   {
    "duration": 9,
    "start_time": "2022-06-17T14:30:46.031Z"
   },
   {
    "duration": 11,
    "start_time": "2022-06-17T14:31:02.666Z"
   },
   {
    "duration": 7,
    "start_time": "2022-06-17T14:31:08.311Z"
   },
   {
    "duration": 139,
    "start_time": "2022-06-17T14:33:32.012Z"
   },
   {
    "duration": 71,
    "start_time": "2022-06-17T14:33:53.109Z"
   },
   {
    "duration": 53,
    "start_time": "2022-06-17T14:33:58.552Z"
   },
   {
    "duration": 69,
    "start_time": "2022-06-17T14:34:20.683Z"
   },
   {
    "duration": 26,
    "start_time": "2022-06-17T14:34:29.380Z"
   },
   {
    "duration": 35,
    "start_time": "2022-06-17T14:34:39.627Z"
   },
   {
    "duration": 58,
    "start_time": "2022-06-17T14:44:19.034Z"
   },
   {
    "duration": 1113,
    "start_time": "2022-06-17T14:45:10.602Z"
   },
   {
    "duration": 557,
    "start_time": "2022-06-17T14:45:11.718Z"
   },
   {
    "duration": 53,
    "start_time": "2022-06-17T14:45:12.278Z"
   },
   {
    "duration": 126,
    "start_time": "2022-06-17T14:45:12.333Z"
   },
   {
    "duration": 111,
    "start_time": "2022-06-17T14:45:17.252Z"
   },
   {
    "duration": 54,
    "start_time": "2022-06-17T14:45:45.564Z"
   },
   {
    "duration": 18,
    "start_time": "2022-06-17T14:45:57.402Z"
   },
   {
    "duration": 8,
    "start_time": "2022-06-17T14:46:13.940Z"
   },
   {
    "duration": 5,
    "start_time": "2022-06-17T14:46:15.067Z"
   },
   {
    "duration": 119,
    "start_time": "2022-06-17T14:46:17.366Z"
   },
   {
    "duration": 111,
    "start_time": "2022-06-17T14:46:18.163Z"
   },
   {
    "duration": 59,
    "start_time": "2022-06-17T14:46:18.927Z"
   },
   {
    "duration": 62,
    "start_time": "2022-06-17T14:46:19.565Z"
   },
   {
    "duration": 27,
    "start_time": "2022-06-17T14:46:20.310Z"
   },
   {
    "duration": 37,
    "start_time": "2022-06-17T14:46:21.740Z"
   },
   {
    "duration": 87,
    "start_time": "2022-06-17T14:50:20.943Z"
   },
   {
    "duration": 155,
    "start_time": "2022-06-17T14:52:17.911Z"
   },
   {
    "duration": 83,
    "start_time": "2022-06-17T14:52:29.845Z"
   },
   {
    "duration": 476,
    "start_time": "2022-06-17T14:52:56.332Z"
   },
   {
    "duration": 641,
    "start_time": "2022-06-17T14:54:13.521Z"
   },
   {
    "duration": 533,
    "start_time": "2022-06-17T14:54:55.806Z"
   },
   {
    "duration": 1248,
    "start_time": "2022-06-21T05:54:36.028Z"
   },
   {
    "duration": 943,
    "start_time": "2022-06-21T05:54:39.388Z"
   },
   {
    "duration": 44,
    "start_time": "2022-06-21T05:54:40.790Z"
   },
   {
    "duration": 65,
    "start_time": "2022-06-21T05:54:43.611Z"
   },
   {
    "duration": 50,
    "start_time": "2022-06-21T05:54:44.628Z"
   },
   {
    "duration": 85,
    "start_time": "2022-06-21T05:54:49.163Z"
   },
   {
    "duration": 7,
    "start_time": "2022-06-21T05:54:53.388Z"
   },
   {
    "duration": 4,
    "start_time": "2022-06-21T05:54:57.675Z"
   },
   {
    "duration": 3,
    "start_time": "2022-06-21T05:55:08.500Z"
   },
   {
    "duration": 416,
    "start_time": "2022-06-21T05:55:08.505Z"
   },
   {
    "duration": 47,
    "start_time": "2022-06-21T05:55:08.923Z"
   },
   {
    "duration": 111,
    "start_time": "2022-06-21T05:55:08.972Z"
   },
   {
    "duration": 85,
    "start_time": "2022-06-21T05:55:09.085Z"
   },
   {
    "duration": 66,
    "start_time": "2022-06-21T05:55:09.172Z"
   },
   {
    "duration": 8,
    "start_time": "2022-06-21T05:55:09.239Z"
   },
   {
    "duration": 33,
    "start_time": "2022-06-21T05:55:09.248Z"
   },
   {
    "duration": 121,
    "start_time": "2022-06-21T05:55:09.285Z"
   },
   {
    "duration": 81,
    "start_time": "2022-06-21T05:55:09.408Z"
   },
   {
    "duration": 58,
    "start_time": "2022-06-21T05:55:09.491Z"
   },
   {
    "duration": 76,
    "start_time": "2022-06-21T05:55:09.550Z"
   },
   {
    "duration": 23,
    "start_time": "2022-06-21T05:55:09.628Z"
   },
   {
    "duration": 28,
    "start_time": "2022-06-21T05:55:09.653Z"
   },
   {
    "duration": 54,
    "start_time": "2022-06-21T05:55:29.698Z"
   },
   {
    "duration": 35,
    "start_time": "2022-06-21T05:55:45.026Z"
   },
   {
    "duration": 28,
    "start_time": "2022-06-21T05:56:18.672Z"
   },
   {
    "duration": 21,
    "start_time": "2022-06-21T05:56:21.271Z"
   },
   {
    "duration": 612,
    "start_time": "2022-06-21T05:56:52.343Z"
   },
   {
    "duration": 7,
    "start_time": "2022-06-21T05:57:00.630Z"
   },
   {
    "duration": 14,
    "start_time": "2022-06-21T05:57:53.843Z"
   },
   {
    "duration": 9,
    "start_time": "2022-06-21T05:58:45.103Z"
   },
   {
    "duration": 7,
    "start_time": "2022-06-21T05:58:49.505Z"
   },
   {
    "duration": 15,
    "start_time": "2022-06-21T05:58:56.112Z"
   },
   {
    "duration": 11,
    "start_time": "2022-06-21T05:59:52.527Z"
   },
   {
    "duration": 22,
    "start_time": "2022-06-21T06:00:09.909Z"
   },
   {
    "duration": 55,
    "start_time": "2022-06-21T06:01:10.355Z"
   },
   {
    "duration": 37,
    "start_time": "2022-06-21T06:01:12.329Z"
   },
   {
    "duration": 20,
    "start_time": "2022-06-21T06:01:24.474Z"
   },
   {
    "duration": 6,
    "start_time": "2022-06-21T06:01:32.914Z"
   },
   {
    "duration": 36,
    "start_time": "2022-06-21T06:01:38.560Z"
   },
   {
    "duration": 9,
    "start_time": "2022-06-21T06:01:50.042Z"
   },
   {
    "duration": 11,
    "start_time": "2022-06-21T06:01:57.282Z"
   },
   {
    "duration": 48,
    "start_time": "2022-06-21T06:02:18.312Z"
   },
   {
    "duration": 26,
    "start_time": "2022-06-21T06:02:38.959Z"
   },
   {
    "duration": 53,
    "start_time": "2022-06-21T06:06:02.950Z"
   },
   {
    "duration": 38,
    "start_time": "2022-06-21T06:06:12.687Z"
   },
   {
    "duration": 30,
    "start_time": "2022-06-21T06:07:32.732Z"
   },
   {
    "duration": 38,
    "start_time": "2022-06-21T06:08:01.754Z"
   },
   {
    "duration": 31,
    "start_time": "2022-06-21T06:08:07.906Z"
   },
   {
    "duration": 21,
    "start_time": "2022-06-21T06:08:33.442Z"
   },
   {
    "duration": 11,
    "start_time": "2022-06-21T06:09:05.568Z"
   },
   {
    "duration": 26,
    "start_time": "2022-06-21T06:09:23.807Z"
   },
   {
    "duration": 14,
    "start_time": "2022-06-21T06:09:32.527Z"
   },
   {
    "duration": 17,
    "start_time": "2022-06-21T06:09:36.302Z"
   },
   {
    "duration": 37,
    "start_time": "2022-06-21T06:10:45.301Z"
   },
   {
    "duration": 22,
    "start_time": "2022-06-21T06:10:46.116Z"
   },
   {
    "duration": 51,
    "start_time": "2022-06-21T06:18:27.557Z"
   },
   {
    "duration": 50,
    "start_time": "2022-06-21T06:23:09.115Z"
   },
   {
    "duration": 3,
    "start_time": "2022-06-21T06:23:45.141Z"
   },
   {
    "duration": 13,
    "start_time": "2022-06-21T06:24:43.328Z"
   },
   {
    "duration": 868,
    "start_time": "2022-06-21T06:26:04.245Z"
   },
   {
    "duration": 17,
    "start_time": "2022-06-21T06:26:28.156Z"
   },
   {
    "duration": 10,
    "start_time": "2022-06-21T06:26:38.300Z"
   },
   {
    "duration": 732,
    "start_time": "2022-06-21T06:26:58.915Z"
   },
   {
    "duration": 20067,
    "start_time": "2022-06-21T06:27:32.465Z"
   },
   {
    "duration": 9,
    "start_time": "2022-06-21T06:28:23.727Z"
   },
   {
    "duration": 9,
    "start_time": "2022-06-21T06:32:44.860Z"
   },
   {
    "duration": 70447,
    "start_time": "2022-06-21T06:32:50.884Z"
   },
   {
    "duration": 8,
    "start_time": "2022-06-21T06:42:46.140Z"
   },
   {
    "duration": 70,
    "start_time": "2022-06-21T06:43:07.218Z"
   },
   {
    "duration": 74,
    "start_time": "2022-06-21T06:43:09.638Z"
   },
   {
    "duration": 72,
    "start_time": "2022-06-21T06:43:20.907Z"
   },
   {
    "duration": 46,
    "start_time": "2022-06-21T06:43:26.936Z"
   },
   {
    "duration": 31,
    "start_time": "2022-06-21T06:43:29.154Z"
   },
   {
    "duration": 70,
    "start_time": "2022-06-21T06:44:37.338Z"
   },
   {
    "duration": 44,
    "start_time": "2022-06-21T06:44:40.137Z"
   },
   {
    "duration": 29,
    "start_time": "2022-06-21T06:44:41.647Z"
   },
   {
    "duration": 62,
    "start_time": "2022-06-21T06:45:04.128Z"
   },
   {
    "duration": 98,
    "start_time": "2022-06-21T06:45:09.510Z"
   },
   {
    "duration": 55,
    "start_time": "2022-06-21T06:45:19.117Z"
   },
   {
    "duration": 3,
    "start_time": "2022-06-21T06:50:26.576Z"
   },
   {
    "duration": 11,
    "start_time": "2022-06-21T06:54:07.041Z"
   },
   {
    "duration": 21,
    "start_time": "2022-06-21T06:58:55.402Z"
   },
   {
    "duration": 824,
    "start_time": "2022-06-21T06:59:07.570Z"
   },
   {
    "duration": 827,
    "start_time": "2022-06-21T06:59:34.281Z"
   },
   {
    "duration": 18,
    "start_time": "2022-06-21T07:01:26.421Z"
   },
   {
    "duration": 17,
    "start_time": "2022-06-21T07:01:48.639Z"
   },
   {
    "duration": 8,
    "start_time": "2022-06-21T07:02:08.754Z"
   },
   {
    "duration": 6,
    "start_time": "2022-06-21T07:02:39.778Z"
   },
   {
    "duration": 884,
    "start_time": "2022-06-21T07:04:12.531Z"
   },
   {
    "duration": 7,
    "start_time": "2022-06-21T07:04:20.640Z"
   },
   {
    "duration": 8,
    "start_time": "2022-06-21T07:04:30.078Z"
   },
   {
    "duration": 928,
    "start_time": "2022-06-21T07:04:36.948Z"
   },
   {
    "duration": 8,
    "start_time": "2022-06-21T07:04:43.636Z"
   },
   {
    "duration": 1178,
    "start_time": "2022-06-21T07:05:03.515Z"
   },
   {
    "duration": 993,
    "start_time": "2022-06-21T07:05:09.155Z"
   },
   {
    "duration": 6,
    "start_time": "2022-06-21T07:05:13.212Z"
   },
   {
    "duration": 5,
    "start_time": "2022-06-21T07:05:42.122Z"
   },
   {
    "duration": 6,
    "start_time": "2022-06-21T07:06:54.179Z"
   },
   {
    "duration": 9,
    "start_time": "2022-06-21T07:07:20.423Z"
   },
   {
    "duration": 5,
    "start_time": "2022-06-21T07:10:33.773Z"
   },
   {
    "duration": 6,
    "start_time": "2022-06-21T07:10:54.613Z"
   },
   {
    "duration": 13,
    "start_time": "2022-06-21T07:11:32.237Z"
   },
   {
    "duration": 6,
    "start_time": "2022-06-21T07:11:44.040Z"
   },
   {
    "duration": 11,
    "start_time": "2022-06-21T07:11:51.586Z"
   },
   {
    "duration": 5,
    "start_time": "2022-06-21T07:13:07.625Z"
   },
   {
    "duration": 6,
    "start_time": "2022-06-21T07:13:22.591Z"
   },
   {
    "duration": 16,
    "start_time": "2022-06-21T07:13:38.233Z"
   },
   {
    "duration": 993,
    "start_time": "2022-06-21T07:14:58.458Z"
   },
   {
    "duration": 4,
    "start_time": "2022-06-21T07:15:17.370Z"
   },
   {
    "duration": 5,
    "start_time": "2022-06-21T07:15:28.977Z"
   },
   {
    "duration": 7,
    "start_time": "2022-06-21T07:17:18.112Z"
   },
   {
    "duration": 7,
    "start_time": "2022-06-21T07:17:35.244Z"
   },
   {
    "duration": 8,
    "start_time": "2022-06-21T07:19:08.447Z"
   },
   {
    "duration": 7,
    "start_time": "2022-06-21T07:20:16.002Z"
   },
   {
    "duration": 7,
    "start_time": "2022-06-21T07:20:41.756Z"
   },
   {
    "duration": 48,
    "start_time": "2022-06-21T07:28:49.929Z"
   },
   {
    "duration": 24,
    "start_time": "2022-06-21T07:28:51.451Z"
   },
   {
    "duration": 25,
    "start_time": "2022-06-21T07:29:04.766Z"
   },
   {
    "duration": 29,
    "start_time": "2022-06-21T07:29:14.310Z"
   },
   {
    "duration": 30,
    "start_time": "2022-06-21T07:29:17.449Z"
   },
   {
    "duration": 22,
    "start_time": "2022-06-21T07:29:30.800Z"
   },
   {
    "duration": 48,
    "start_time": "2022-06-21T07:31:18.051Z"
   },
   {
    "duration": 36,
    "start_time": "2022-06-21T07:31:28.645Z"
   },
   {
    "duration": 1205,
    "start_time": "2022-06-21T07:33:09.717Z"
   },
   {
    "duration": 28,
    "start_time": "2022-06-21T07:33:44.171Z"
   },
   {
    "duration": 1021,
    "start_time": "2022-06-21T07:34:21.569Z"
   },
   {
    "duration": 252,
    "start_time": "2022-06-21T07:34:47.865Z"
   },
   {
    "duration": 71,
    "start_time": "2022-06-21T07:35:10.104Z"
   },
   {
    "duration": 49,
    "start_time": "2022-06-21T07:35:39.255Z"
   },
   {
    "duration": 22,
    "start_time": "2022-06-21T07:35:53.462Z"
   },
   {
    "duration": 18,
    "start_time": "2022-06-21T07:35:55.820Z"
   },
   {
    "duration": 27,
    "start_time": "2022-06-21T07:36:20.868Z"
   },
   {
    "duration": 27,
    "start_time": "2022-06-21T07:36:28.580Z"
   },
   {
    "duration": 11,
    "start_time": "2022-06-21T07:36:31.372Z"
   },
   {
    "duration": 10,
    "start_time": "2022-06-21T07:37:20.946Z"
   },
   {
    "duration": 10,
    "start_time": "2022-06-21T07:37:24.905Z"
   },
   {
    "duration": 13,
    "start_time": "2022-06-21T07:37:25.698Z"
   },
   {
    "duration": 9,
    "start_time": "2022-06-21T07:37:26.970Z"
   },
   {
    "duration": 7,
    "start_time": "2022-06-21T07:40:57.112Z"
   },
   {
    "duration": 59,
    "start_time": "2022-06-21T07:43:38.314Z"
   },
   {
    "duration": 53,
    "start_time": "2022-06-21T07:43:51.163Z"
   },
   {
    "duration": 56,
    "start_time": "2022-06-21T07:44:03.249Z"
   },
   {
    "duration": 66,
    "start_time": "2022-06-21T07:44:10.896Z"
   },
   {
    "duration": 62,
    "start_time": "2022-06-21T07:45:00.976Z"
   },
   {
    "duration": 6,
    "start_time": "2022-06-21T07:45:16.679Z"
   },
   {
    "duration": 10,
    "start_time": "2022-06-21T07:46:18.441Z"
   },
   {
    "duration": 12,
    "start_time": "2022-06-21T07:48:02.191Z"
   },
   {
    "duration": 12,
    "start_time": "2022-06-21T07:48:47.371Z"
   },
   {
    "duration": 9,
    "start_time": "2022-06-21T07:48:52.813Z"
   },
   {
    "duration": 16,
    "start_time": "2022-06-21T07:48:55.005Z"
   },
   {
    "duration": 9,
    "start_time": "2022-06-21T07:49:15.372Z"
   },
   {
    "duration": 17,
    "start_time": "2022-06-21T07:49:17.395Z"
   },
   {
    "duration": 889,
    "start_time": "2022-06-21T07:50:12.850Z"
   },
   {
    "duration": 983,
    "start_time": "2022-06-21T07:50:29.585Z"
   },
   {
    "duration": 1111,
    "start_time": "2022-06-21T07:50:47.665Z"
   },
   {
    "duration": 5,
    "start_time": "2022-06-21T07:50:57.445Z"
   },
   {
    "duration": 1278,
    "start_time": "2022-06-21T07:52:00.571Z"
   },
   {
    "duration": 8,
    "start_time": "2022-06-21T07:52:23.435Z"
   },
   {
    "duration": 15,
    "start_time": "2022-06-21T07:53:31.670Z"
   },
   {
    "duration": 6,
    "start_time": "2022-06-21T07:54:53.440Z"
   },
   {
    "duration": 864,
    "start_time": "2022-06-21T07:54:55.406Z"
   },
   {
    "duration": 794,
    "start_time": "2022-06-21T07:56:06.540Z"
   },
   {
    "duration": 7,
    "start_time": "2022-06-21T07:56:37.578Z"
   },
   {
    "duration": 1368,
    "start_time": "2022-06-21T07:56:50.113Z"
   },
   {
    "duration": 6,
    "start_time": "2022-06-21T07:57:09.353Z"
   },
   {
    "duration": 7,
    "start_time": "2022-06-21T07:58:11.569Z"
   },
   {
    "duration": 1011,
    "start_time": "2022-06-21T07:58:22.237Z"
   },
   {
    "duration": 7,
    "start_time": "2022-06-21T07:58:31.749Z"
   },
   {
    "duration": 1041,
    "start_time": "2022-06-21T07:58:33.597Z"
   },
   {
    "duration": 7,
    "start_time": "2022-06-21T07:59:24.867Z"
   },
   {
    "duration": 18,
    "start_time": "2022-06-21T07:59:26.803Z"
   },
   {
    "duration": 10,
    "start_time": "2022-06-21T08:00:20.297Z"
   },
   {
    "duration": 25,
    "start_time": "2022-06-21T08:00:22.045Z"
   },
   {
    "duration": 7,
    "start_time": "2022-06-21T08:01:30.813Z"
   },
   {
    "duration": 23,
    "start_time": "2022-06-21T08:01:32.786Z"
   },
   {
    "duration": 6,
    "start_time": "2022-06-21T08:01:43.169Z"
   },
   {
    "duration": 16,
    "start_time": "2022-06-21T08:01:45.476Z"
   },
   {
    "duration": 7,
    "start_time": "2022-06-21T08:02:01.580Z"
   },
   {
    "duration": 17,
    "start_time": "2022-06-21T08:02:03.452Z"
   },
   {
    "duration": 7,
    "start_time": "2022-06-21T08:03:00.098Z"
   },
   {
    "duration": 20,
    "start_time": "2022-06-21T08:03:02.418Z"
   },
   {
    "duration": 7,
    "start_time": "2022-06-21T08:06:08.706Z"
   },
   {
    "duration": 17,
    "start_time": "2022-06-21T08:06:10.770Z"
   },
   {
    "duration": 7,
    "start_time": "2022-06-21T08:06:21.411Z"
   },
   {
    "duration": 22,
    "start_time": "2022-06-21T08:06:23.281Z"
   },
   {
    "duration": 7,
    "start_time": "2022-06-21T08:06:51.236Z"
   },
   {
    "duration": 6,
    "start_time": "2022-06-21T08:07:13.175Z"
   },
   {
    "duration": 7,
    "start_time": "2022-06-21T08:07:44.911Z"
   },
   {
    "duration": 7,
    "start_time": "2022-06-21T08:07:56.088Z"
   },
   {
    "duration": 8,
    "start_time": "2022-06-21T08:08:04.634Z"
   },
   {
    "duration": 5,
    "start_time": "2022-06-21T08:08:13.877Z"
   },
   {
    "duration": 6,
    "start_time": "2022-06-21T08:08:22.196Z"
   },
   {
    "duration": 6,
    "start_time": "2022-06-21T08:10:17.647Z"
   },
   {
    "duration": 12,
    "start_time": "2022-06-21T08:15:11.620Z"
   },
   {
    "duration": 7,
    "start_time": "2022-06-21T08:16:07.498Z"
   },
   {
    "duration": 19,
    "start_time": "2022-06-21T08:16:13.913Z"
   },
   {
    "duration": 7,
    "start_time": "2022-06-21T08:16:30.743Z"
   },
   {
    "duration": 31,
    "start_time": "2022-06-21T08:16:32.712Z"
   },
   {
    "duration": 10,
    "start_time": "2022-06-21T08:17:19.278Z"
   },
   {
    "duration": 11,
    "start_time": "2022-06-21T08:17:23.279Z"
   },
   {
    "duration": 6,
    "start_time": "2022-06-21T08:17:51.520Z"
   },
   {
    "duration": 6,
    "start_time": "2022-06-21T08:17:56.127Z"
   },
   {
    "duration": 6,
    "start_time": "2022-06-21T08:18:09.395Z"
   },
   {
    "duration": 5,
    "start_time": "2022-06-21T08:18:48.817Z"
   },
   {
    "duration": 4,
    "start_time": "2022-06-21T08:19:29.569Z"
   },
   {
    "duration": 7,
    "start_time": "2022-06-21T08:19:36.560Z"
   },
   {
    "duration": 17,
    "start_time": "2022-06-21T08:19:43.105Z"
   },
   {
    "duration": 4,
    "start_time": "2022-06-21T08:20:17.599Z"
   },
   {
    "duration": 5,
    "start_time": "2022-06-21T08:20:21.150Z"
   },
   {
    "duration": 6,
    "start_time": "2022-06-21T08:22:39.437Z"
   },
   {
    "duration": 5,
    "start_time": "2022-06-21T08:23:00.040Z"
   },
   {
    "duration": 6,
    "start_time": "2022-06-21T08:23:12.583Z"
   },
   {
    "duration": 6,
    "start_time": "2022-06-21T08:23:18.782Z"
   },
   {
    "duration": 6,
    "start_time": "2022-06-21T08:23:52.390Z"
   },
   {
    "duration": 6,
    "start_time": "2022-06-21T08:24:34.540Z"
   },
   {
    "duration": 4,
    "start_time": "2022-06-21T08:24:42.195Z"
   },
   {
    "duration": 7,
    "start_time": "2022-06-21T08:24:46.236Z"
   },
   {
    "duration": 6,
    "start_time": "2022-06-21T08:24:54.139Z"
   },
   {
    "duration": 13,
    "start_time": "2022-06-21T08:25:37.505Z"
   },
   {
    "duration": 12,
    "start_time": "2022-06-21T08:25:43.256Z"
   },
   {
    "duration": 9,
    "start_time": "2022-06-21T08:26:06.869Z"
   },
   {
    "duration": 12,
    "start_time": "2022-06-21T08:26:19.951Z"
   },
   {
    "duration": 6,
    "start_time": "2022-06-21T08:26:26.783Z"
   },
   {
    "duration": 7,
    "start_time": "2022-06-21T08:26:39.654Z"
   },
   {
    "duration": 6,
    "start_time": "2022-06-21T08:26:44.575Z"
   },
   {
    "duration": 19,
    "start_time": "2022-06-21T08:27:04.270Z"
   },
   {
    "duration": 7,
    "start_time": "2022-06-21T08:27:39.924Z"
   },
   {
    "duration": 16,
    "start_time": "2022-06-21T08:27:42.540Z"
   },
   {
    "duration": 18,
    "start_time": "2022-06-21T08:27:52.221Z"
   },
   {
    "duration": 17,
    "start_time": "2022-06-21T08:27:54.284Z"
   },
   {
    "duration": 6,
    "start_time": "2022-06-21T08:28:25.741Z"
   },
   {
    "duration": 15,
    "start_time": "2022-06-21T08:28:27.899Z"
   },
   {
    "duration": 29,
    "start_time": "2022-06-21T09:39:46.488Z"
   },
   {
    "duration": 10,
    "start_time": "2022-06-21T09:40:49.954Z"
   },
   {
    "duration": 11,
    "start_time": "2022-06-21T09:41:01.299Z"
   },
   {
    "duration": 19,
    "start_time": "2022-06-21T09:42:22.355Z"
   },
   {
    "duration": 7,
    "start_time": "2022-06-21T09:43:13.749Z"
   },
   {
    "duration": 1069,
    "start_time": "2022-06-21T09:43:37.453Z"
   },
   {
    "duration": 1105,
    "start_time": "2022-06-21T09:44:13.280Z"
   },
   {
    "duration": 466,
    "start_time": "2022-06-21T09:44:14.387Z"
   },
   {
    "duration": 46,
    "start_time": "2022-06-21T09:44:14.855Z"
   },
   {
    "duration": 95,
    "start_time": "2022-06-21T09:44:14.902Z"
   },
   {
    "duration": 92,
    "start_time": "2022-06-21T09:44:14.999Z"
   },
   {
    "duration": 67,
    "start_time": "2022-06-21T09:44:15.093Z"
   },
   {
    "duration": 5,
    "start_time": "2022-06-21T09:44:15.162Z"
   },
   {
    "duration": 12,
    "start_time": "2022-06-21T09:44:15.169Z"
   },
   {
    "duration": 5,
    "start_time": "2022-06-21T09:44:15.183Z"
   },
   {
    "duration": 114,
    "start_time": "2022-06-21T09:44:15.190Z"
   },
   {
    "duration": 138,
    "start_time": "2022-06-21T09:44:15.306Z"
   },
   {
    "duration": 109,
    "start_time": "2022-06-21T09:44:15.445Z"
   },
   {
    "duration": 57,
    "start_time": "2022-06-21T09:44:15.561Z"
   },
   {
    "duration": 89,
    "start_time": "2022-06-21T09:44:15.623Z"
   },
   {
    "duration": 39,
    "start_time": "2022-06-21T09:44:15.714Z"
   },
   {
    "duration": 53,
    "start_time": "2022-06-21T09:44:15.756Z"
   },
   {
    "duration": 64,
    "start_time": "2022-06-21T09:44:15.811Z"
   },
   {
    "duration": 31,
    "start_time": "2022-06-21T09:44:15.877Z"
   },
   {
    "duration": 64,
    "start_time": "2022-06-21T09:44:15.923Z"
   },
   {
    "duration": 23,
    "start_time": "2022-06-21T09:44:15.989Z"
   },
   {
    "duration": 24,
    "start_time": "2022-06-21T09:44:16.014Z"
   },
   {
    "duration": 46,
    "start_time": "2022-06-21T09:44:16.047Z"
   },
   {
    "duration": 17,
    "start_time": "2022-06-21T09:44:16.095Z"
   },
   {
    "duration": 8,
    "start_time": "2022-06-21T09:44:24.957Z"
   },
   {
    "duration": 8,
    "start_time": "2022-06-21T09:44:26.858Z"
   },
   {
    "duration": 1530,
    "start_time": "2022-06-21T09:44:28.835Z"
   },
   {
    "duration": 10,
    "start_time": "2022-06-21T09:44:48.400Z"
   },
   {
    "duration": 10,
    "start_time": "2022-06-21T09:44:57.784Z"
   },
   {
    "duration": 31,
    "start_time": "2022-06-21T09:44:59.380Z"
   },
   {
    "duration": 1811,
    "start_time": "2022-06-21T09:45:02.351Z"
   },
   {
    "duration": 933,
    "start_time": "2022-06-21T09:45:09.055Z"
   },
   {
    "duration": 29,
    "start_time": "2022-06-21T09:46:10.485Z"
   },
   {
    "duration": 1177,
    "start_time": "2022-06-21T09:46:40.964Z"
   },
   {
    "duration": 6,
    "start_time": "2022-06-21T09:47:03.115Z"
   },
   {
    "duration": 15,
    "start_time": "2022-06-21T09:47:12.906Z"
   },
   {
    "duration": 27,
    "start_time": "2022-06-21T09:47:29.802Z"
   },
   {
    "duration": 7,
    "start_time": "2022-06-21T09:48:31.063Z"
   },
   {
    "duration": 6,
    "start_time": "2022-06-21T09:48:37.358Z"
   },
   {
    "duration": 5,
    "start_time": "2022-06-21T09:48:44.855Z"
   },
   {
    "duration": 7,
    "start_time": "2022-06-21T09:54:24.337Z"
   },
   {
    "duration": 94,
    "start_time": "2022-06-21T09:54:28.585Z"
   },
   {
    "duration": 39,
    "start_time": "2022-06-21T09:56:08.895Z"
   },
   {
    "duration": 7,
    "start_time": "2022-06-21T09:57:07.802Z"
   },
   {
    "duration": 112,
    "start_time": "2022-06-21T09:57:09.898Z"
   },
   {
    "duration": 31,
    "start_time": "2022-06-21T09:57:30.374Z"
   },
   {
    "duration": 29,
    "start_time": "2022-06-21T09:57:50.600Z"
   },
   {
    "duration": 27,
    "start_time": "2022-06-21T09:58:03.007Z"
   },
   {
    "duration": 7,
    "start_time": "2022-06-21T09:58:12.984Z"
   },
   {
    "duration": 32,
    "start_time": "2022-06-21T09:58:14.823Z"
   },
   {
    "duration": 7,
    "start_time": "2022-06-21T09:59:13.140Z"
   },
   {
    "duration": 6,
    "start_time": "2022-06-21T09:59:19.052Z"
   },
   {
    "duration": 28,
    "start_time": "2022-06-21T09:59:26.964Z"
   },
   {
    "duration": 9,
    "start_time": "2022-06-21T10:00:55.826Z"
   },
   {
    "duration": 29,
    "start_time": "2022-06-21T10:00:58.088Z"
   },
   {
    "duration": 7,
    "start_time": "2022-06-21T10:01:35.199Z"
   },
   {
    "duration": 71,
    "start_time": "2022-06-21T10:01:37.197Z"
   },
   {
    "duration": 7,
    "start_time": "2022-06-21T10:01:46.484Z"
   },
   {
    "duration": 43,
    "start_time": "2022-06-21T10:01:47.530Z"
   },
   {
    "duration": 21,
    "start_time": "2022-06-21T10:01:59.950Z"
   },
   {
    "duration": 27,
    "start_time": "2022-06-21T10:02:06.013Z"
   },
   {
    "duration": 20,
    "start_time": "2022-06-21T10:02:09.837Z"
   },
   {
    "duration": 20,
    "start_time": "2022-06-21T10:02:17.879Z"
   },
   {
    "duration": 7,
    "start_time": "2022-06-21T10:02:27.391Z"
   },
   {
    "duration": 19,
    "start_time": "2022-06-21T10:02:29.338Z"
   },
   {
    "duration": 20,
    "start_time": "2022-06-21T10:02:35.236Z"
   },
   {
    "duration": 6,
    "start_time": "2022-06-21T10:02:46.253Z"
   },
   {
    "duration": 43,
    "start_time": "2022-06-21T10:02:47.811Z"
   },
   {
    "duration": 33,
    "start_time": "2022-06-21T10:02:50.387Z"
   },
   {
    "duration": 7,
    "start_time": "2022-06-21T10:03:16.037Z"
   },
   {
    "duration": 41,
    "start_time": "2022-06-21T10:03:17.714Z"
   },
   {
    "duration": 7812,
    "start_time": "2022-06-21T10:03:32.650Z"
   },
   {
    "duration": 7257,
    "start_time": "2022-06-21T10:04:34.694Z"
   },
   {
    "duration": 7236,
    "start_time": "2022-06-21T10:04:46.240Z"
   },
   {
    "duration": 14,
    "start_time": "2022-06-21T10:05:13.942Z"
   },
   {
    "duration": 9,
    "start_time": "2022-06-21T10:05:23.844Z"
   },
   {
    "duration": 6,
    "start_time": "2022-06-21T10:05:29.709Z"
   },
   {
    "duration": 6,
    "start_time": "2022-06-21T10:05:41.356Z"
   },
   {
    "duration": 6,
    "start_time": "2022-06-21T10:05:47.100Z"
   },
   {
    "duration": 14,
    "start_time": "2022-06-21T10:06:09.244Z"
   },
   {
    "duration": 31,
    "start_time": "2022-06-21T10:06:15.589Z"
   },
   {
    "duration": 9,
    "start_time": "2022-06-21T10:07:38.640Z"
   },
   {
    "duration": 5,
    "start_time": "2022-06-21T10:08:17.805Z"
   },
   {
    "duration": 7,
    "start_time": "2022-06-21T10:08:30.382Z"
   },
   {
    "duration": 7,
    "start_time": "2022-06-21T10:08:35.541Z"
   },
   {
    "duration": 8161,
    "start_time": "2022-06-21T10:09:01.274Z"
   },
   {
    "duration": 9,
    "start_time": "2022-06-21T10:09:44.172Z"
   },
   {
    "duration": 12,
    "start_time": "2022-06-21T10:09:52.140Z"
   },
   {
    "duration": 9,
    "start_time": "2022-06-21T10:10:03.741Z"
   },
   {
    "duration": 11,
    "start_time": "2022-06-21T10:10:13.091Z"
   },
   {
    "duration": 13,
    "start_time": "2022-06-21T10:10:18.771Z"
   },
   {
    "duration": 24,
    "start_time": "2022-06-21T10:10:24.711Z"
   },
   {
    "duration": 21,
    "start_time": "2022-06-21T10:10:38.554Z"
   },
   {
    "duration": 21,
    "start_time": "2022-06-21T10:11:55.287Z"
   },
   {
    "duration": 12,
    "start_time": "2022-06-21T10:12:19.384Z"
   },
   {
    "duration": 10,
    "start_time": "2022-06-21T10:16:01.049Z"
   },
   {
    "duration": 14,
    "start_time": "2022-06-21T10:16:06.752Z"
   },
   {
    "duration": 102,
    "start_time": "2022-06-21T10:16:19.942Z"
   },
   {
    "duration": 13,
    "start_time": "2022-06-21T10:16:24.097Z"
   },
   {
    "duration": 14,
    "start_time": "2022-06-21T10:17:06.094Z"
   },
   {
    "duration": 18,
    "start_time": "2022-06-21T10:18:41.767Z"
   },
   {
    "duration": 18,
    "start_time": "2022-06-21T10:19:44.360Z"
   },
   {
    "duration": 16,
    "start_time": "2022-06-21T10:19:51.239Z"
   },
   {
    "duration": 22,
    "start_time": "2022-06-21T10:22:08.122Z"
   },
   {
    "duration": 1021,
    "start_time": "2022-06-21T10:22:31.609Z"
   },
   {
    "duration": 6,
    "start_time": "2022-06-21T10:22:48.881Z"
   },
   {
    "duration": 7,
    "start_time": "2022-06-21T10:23:00.998Z"
   },
   {
    "duration": 6,
    "start_time": "2022-06-21T10:23:26.247Z"
   },
   {
    "duration": 13,
    "start_time": "2022-06-21T10:23:43.614Z"
   },
   {
    "duration": 7,
    "start_time": "2022-06-21T10:23:47.644Z"
   },
   {
    "duration": 13,
    "start_time": "2022-06-21T10:24:20.822Z"
   },
   {
    "duration": 8,
    "start_time": "2022-06-21T10:24:25.200Z"
   },
   {
    "duration": 12,
    "start_time": "2022-06-21T10:25:32.252Z"
   },
   {
    "duration": 16,
    "start_time": "2022-06-21T10:25:35.291Z"
   },
   {
    "duration": 6,
    "start_time": "2022-06-21T10:27:15.640Z"
   },
   {
    "duration": 22,
    "start_time": "2022-06-21T10:27:22.063Z"
   },
   {
    "duration": 30,
    "start_time": "2022-06-21T10:27:43.357Z"
   },
   {
    "duration": 9,
    "start_time": "2022-06-21T10:27:58.395Z"
   },
   {
    "duration": 29,
    "start_time": "2022-06-21T10:28:00.821Z"
   },
   {
    "duration": 11,
    "start_time": "2022-06-21T10:28:34.657Z"
   },
   {
    "duration": 26,
    "start_time": "2022-06-21T10:28:37.445Z"
   },
   {
    "duration": 10,
    "start_time": "2022-06-21T10:28:51.308Z"
   },
   {
    "duration": 24,
    "start_time": "2022-06-21T10:28:53.092Z"
   },
   {
    "duration": 8,
    "start_time": "2022-06-21T10:29:54.883Z"
   },
   {
    "duration": 26,
    "start_time": "2022-06-21T10:29:56.817Z"
   },
   {
    "duration": 11,
    "start_time": "2022-06-21T10:30:25.967Z"
   },
   {
    "duration": 23,
    "start_time": "2022-06-21T10:30:28.136Z"
   },
   {
    "duration": 11,
    "start_time": "2022-06-21T10:30:55.064Z"
   },
   {
    "duration": 11,
    "start_time": "2022-06-21T10:30:59.887Z"
   },
   {
    "duration": 11,
    "start_time": "2022-06-21T10:31:03.499Z"
   },
   {
    "duration": 22,
    "start_time": "2022-06-21T10:31:05.242Z"
   },
   {
    "duration": 5,
    "start_time": "2022-06-21T10:31:19.470Z"
   },
   {
    "duration": 14,
    "start_time": "2022-06-21T10:31:59.243Z"
   },
   {
    "duration": 12,
    "start_time": "2022-06-21T10:32:04.292Z"
   },
   {
    "duration": 9,
    "start_time": "2022-06-21T10:32:36.955Z"
   },
   {
    "duration": 8,
    "start_time": "2022-06-21T10:32:45.803Z"
   },
   {
    "duration": 3256,
    "start_time": "2022-06-21T10:32:47.957Z"
   },
   {
    "duration": 34,
    "start_time": "2022-06-21T10:32:52.266Z"
   },
   {
    "duration": 62,
    "start_time": "2022-06-21T10:33:42.597Z"
   },
   {
    "duration": 14,
    "start_time": "2022-06-21T10:33:59.167Z"
   },
   {
    "duration": 10,
    "start_time": "2022-06-21T10:34:30.671Z"
   },
   {
    "duration": 31,
    "start_time": "2022-06-21T10:34:33.027Z"
   },
   {
    "duration": 8,
    "start_time": "2022-06-21T10:34:57.008Z"
   },
   {
    "duration": 18,
    "start_time": "2022-06-21T10:34:58.966Z"
   },
   {
    "duration": 8,
    "start_time": "2022-06-21T10:35:25.844Z"
   },
   {
    "duration": 20,
    "start_time": "2022-06-21T10:35:27.268Z"
   },
   {
    "duration": 9,
    "start_time": "2022-06-21T10:36:09.667Z"
   },
   {
    "duration": 22,
    "start_time": "2022-06-21T10:36:11.893Z"
   },
   {
    "duration": 53,
    "start_time": "2022-06-21T10:36:50.458Z"
   },
   {
    "duration": 14,
    "start_time": "2022-06-21T10:36:55.247Z"
   },
   {
    "duration": 10,
    "start_time": "2022-06-21T10:37:07.640Z"
   },
   {
    "duration": 42,
    "start_time": "2022-06-21T10:37:09.567Z"
   },
   {
    "duration": 131,
    "start_time": "2022-06-21T10:37:15.335Z"
   },
   {
    "duration": 30,
    "start_time": "2022-06-21T10:37:21.610Z"
   },
   {
    "duration": 9,
    "start_time": "2022-06-21T10:37:36.817Z"
   },
   {
    "duration": 91,
    "start_time": "2022-06-21T10:37:39.001Z"
   },
   {
    "duration": 17,
    "start_time": "2022-06-21T10:39:22.724Z"
   },
   {
    "duration": 70,
    "start_time": "2022-06-21T10:39:24.794Z"
   },
   {
    "duration": 7,
    "start_time": "2022-06-21T10:39:40.915Z"
   },
   {
    "duration": 93,
    "start_time": "2022-06-21T10:39:42.755Z"
   },
   {
    "duration": 8,
    "start_time": "2022-06-21T10:40:30.105Z"
   },
   {
    "duration": 5608,
    "start_time": "2022-06-21T10:40:32.000Z"
   },
   {
    "duration": 20,
    "start_time": "2022-06-21T10:40:41.048Z"
   },
   {
    "duration": 5888,
    "start_time": "2022-06-21T10:45:39.516Z"
   },
   {
    "duration": 14,
    "start_time": "2022-06-21T10:45:49.473Z"
   },
   {
    "duration": 7,
    "start_time": "2022-06-21T10:47:05.081Z"
   },
   {
    "duration": 68,
    "start_time": "2022-06-21T10:47:07.048Z"
   },
   {
    "duration": 6,
    "start_time": "2022-06-21T10:49:30.904Z"
   },
   {
    "duration": 987,
    "start_time": "2022-06-21T10:49:32.451Z"
   },
   {
    "duration": 11,
    "start_time": "2022-06-21T10:50:17.864Z"
   },
   {
    "duration": 21,
    "start_time": "2022-06-21T10:50:32.488Z"
   },
   {
    "duration": 20,
    "start_time": "2022-06-21T10:50:47.248Z"
   },
   {
    "duration": 13,
    "start_time": "2022-06-21T10:51:01.863Z"
   },
   {
    "duration": 46,
    "start_time": "2022-06-21T10:51:09.343Z"
   },
   {
    "duration": 7,
    "start_time": "2022-06-21T10:53:55.608Z"
   },
   {
    "duration": 75,
    "start_time": "2022-06-21T10:53:57.895Z"
   },
   {
    "duration": 8,
    "start_time": "2022-06-21T10:54:42.397Z"
   },
   {
    "duration": 5823,
    "start_time": "2022-06-21T10:54:44.173Z"
   },
   {
    "duration": 20,
    "start_time": "2022-06-21T10:54:55.143Z"
   },
   {
    "duration": 65,
    "start_time": "2022-06-21T10:58:40.876Z"
   },
   {
    "duration": 5738,
    "start_time": "2022-06-21T10:58:45.156Z"
   },
   {
    "duration": 61,
    "start_time": "2022-06-21T10:58:53.884Z"
   },
   {
    "duration": 5621,
    "start_time": "2022-06-21T10:59:27.133Z"
   },
   {
    "duration": 50,
    "start_time": "2022-06-21T10:59:35.688Z"
   },
   {
    "duration": 12,
    "start_time": "2022-06-21T11:00:02.934Z"
   },
   {
    "duration": 6561,
    "start_time": "2022-06-21T11:00:04.608Z"
   },
   {
    "duration": 31,
    "start_time": "2022-06-21T11:00:12.344Z"
   },
   {
    "duration": 6575,
    "start_time": "2022-06-21T11:00:38.531Z"
   },
   {
    "duration": 6458,
    "start_time": "2022-06-21T11:01:16.637Z"
   },
   {
    "duration": 28,
    "start_time": "2022-06-21T11:01:23.485Z"
   },
   {
    "duration": 6648,
    "start_time": "2022-06-21T11:02:57.802Z"
   },
   {
    "duration": 56,
    "start_time": "2022-06-21T11:03:05.090Z"
   },
   {
    "duration": 13,
    "start_time": "2022-06-21T11:03:21.921Z"
   },
   {
    "duration": 6443,
    "start_time": "2022-06-21T11:03:32.417Z"
   },
   {
    "duration": 64,
    "start_time": "2022-06-21T11:03:39.480Z"
   },
   {
    "duration": 7798,
    "start_time": "2022-06-21T11:04:02.495Z"
   },
   {
    "duration": 21,
    "start_time": "2022-06-21T11:04:10.990Z"
   },
   {
    "duration": 7,
    "start_time": "2022-06-21T11:05:03.613Z"
   },
   {
    "duration": 618,
    "start_time": "2022-06-21T11:05:05.572Z"
   },
   {
    "duration": 7,
    "start_time": "2022-06-21T11:06:52.337Z"
   },
   {
    "duration": 7865,
    "start_time": "2022-06-21T11:06:54.835Z"
   },
   {
    "duration": 111,
    "start_time": "2022-06-21T11:11:29.991Z"
   },
   {
    "duration": 10,
    "start_time": "2022-06-21T11:11:37.509Z"
   },
   {
    "duration": 7943,
    "start_time": "2022-06-21T11:11:39.233Z"
   },
   {
    "duration": 31,
    "start_time": "2022-06-21T11:11:52.691Z"
   },
   {
    "duration": 6578,
    "start_time": "2022-06-21T11:12:48.564Z"
   },
   {
    "duration": 78,
    "start_time": "2022-06-21T11:13:07.857Z"
   },
   {
    "duration": 1181,
    "start_time": "2022-06-21T11:25:32.176Z"
   },
   {
    "duration": 436,
    "start_time": "2022-06-21T11:25:33.359Z"
   },
   {
    "duration": 55,
    "start_time": "2022-06-21T11:25:33.796Z"
   },
   {
    "duration": 89,
    "start_time": "2022-06-21T11:25:33.853Z"
   },
   {
    "duration": 107,
    "start_time": "2022-06-21T11:25:33.944Z"
   },
   {
    "duration": 51,
    "start_time": "2022-06-21T11:25:34.052Z"
   },
   {
    "duration": 40,
    "start_time": "2022-06-21T11:25:34.105Z"
   },
   {
    "duration": 7,
    "start_time": "2022-06-21T11:25:34.147Z"
   },
   {
    "duration": 10,
    "start_time": "2022-06-21T11:25:34.156Z"
   },
   {
    "duration": 80,
    "start_time": "2022-06-21T11:25:34.169Z"
   },
   {
    "duration": 129,
    "start_time": "2022-06-21T11:25:34.250Z"
   },
   {
    "duration": 87,
    "start_time": "2022-06-21T11:25:34.381Z"
   },
   {
    "duration": 62,
    "start_time": "2022-06-21T11:25:34.469Z"
   },
   {
    "duration": 7,
    "start_time": "2022-06-21T11:25:34.536Z"
   },
   {
    "duration": 5,
    "start_time": "2022-06-21T11:25:34.545Z"
   },
   {
    "duration": 4,
    "start_time": "2022-06-21T11:25:34.552Z"
   },
   {
    "duration": 80,
    "start_time": "2022-06-21T11:25:34.557Z"
   },
   {
    "duration": 34,
    "start_time": "2022-06-21T11:25:34.643Z"
   },
   {
    "duration": 40,
    "start_time": "2022-06-21T11:25:34.679Z"
   },
   {
    "duration": 14,
    "start_time": "2022-06-21T11:25:34.722Z"
   },
   {
    "duration": 32,
    "start_time": "2022-06-21T11:25:34.737Z"
   },
   {
    "duration": 18,
    "start_time": "2022-06-21T11:25:34.771Z"
   },
   {
    "duration": 7,
    "start_time": "2022-06-21T11:26:44.656Z"
   },
   {
    "duration": 7118,
    "start_time": "2022-06-21T11:26:48.184Z"
   },
   {
    "duration": 26,
    "start_time": "2022-06-21T11:26:56.912Z"
   },
   {
    "duration": 17,
    "start_time": "2022-06-21T11:35:16.927Z"
   },
   {
    "duration": 6513,
    "start_time": "2022-06-21T11:35:40.258Z"
   },
   {
    "duration": 49,
    "start_time": "2022-06-21T11:36:04.154Z"
   },
   {
    "duration": 6,
    "start_time": "2022-06-21T11:36:35.002Z"
   },
   {
    "duration": 7,
    "start_time": "2022-06-21T11:36:42.059Z"
   },
   {
    "duration": 1231,
    "start_time": "2022-06-21T11:37:15.943Z"
   },
   {
    "duration": 460,
    "start_time": "2022-06-21T11:37:17.175Z"
   },
   {
    "duration": 71,
    "start_time": "2022-06-21T11:37:17.636Z"
   },
   {
    "duration": 98,
    "start_time": "2022-06-21T11:37:17.710Z"
   },
   {
    "duration": 102,
    "start_time": "2022-06-21T11:37:17.810Z"
   },
   {
    "duration": 64,
    "start_time": "2022-06-21T11:37:17.915Z"
   },
   {
    "duration": 25,
    "start_time": "2022-06-21T11:37:17.981Z"
   },
   {
    "duration": 21,
    "start_time": "2022-06-21T11:37:18.026Z"
   },
   {
    "duration": 19,
    "start_time": "2022-06-21T11:37:18.050Z"
   },
   {
    "duration": 75,
    "start_time": "2022-06-21T11:37:18.072Z"
   },
   {
    "duration": 125,
    "start_time": "2022-06-21T11:37:18.153Z"
   },
   {
    "duration": 101,
    "start_time": "2022-06-21T11:37:18.280Z"
   },
   {
    "duration": 63,
    "start_time": "2022-06-21T11:37:18.383Z"
   },
   {
    "duration": 7,
    "start_time": "2022-06-21T11:37:18.447Z"
   },
   {
    "duration": 13,
    "start_time": "2022-06-21T11:37:18.456Z"
   },
   {
    "duration": 16,
    "start_time": "2022-06-21T11:37:18.470Z"
   },
   {
    "duration": 66,
    "start_time": "2022-06-21T11:37:18.487Z"
   },
   {
    "duration": 44,
    "start_time": "2022-06-21T11:37:18.557Z"
   },
   {
    "duration": 53,
    "start_time": "2022-06-21T11:37:18.603Z"
   },
   {
    "duration": 14,
    "start_time": "2022-06-21T11:37:18.658Z"
   },
   {
    "duration": 28,
    "start_time": "2022-06-21T11:37:18.675Z"
   },
   {
    "duration": 37,
    "start_time": "2022-06-21T11:37:18.705Z"
   },
   {
    "duration": 1301,
    "start_time": "2022-06-21T11:38:30.077Z"
   },
   {
    "duration": 940,
    "start_time": "2022-06-21T11:39:28.461Z"
   },
   {
    "duration": 10,
    "start_time": "2022-06-21T11:39:52.996Z"
   },
   {
    "duration": 8,
    "start_time": "2022-06-21T11:39:55.565Z"
   },
   {
    "duration": 7440,
    "start_time": "2022-06-21T11:40:00.163Z"
   },
   {
    "duration": 37,
    "start_time": "2022-06-21T11:40:11.375Z"
   },
   {
    "duration": 19,
    "start_time": "2022-06-21T11:40:26.676Z"
   },
   {
    "duration": 22,
    "start_time": "2022-06-21T11:41:07.265Z"
   },
   {
    "duration": 12,
    "start_time": "2022-06-21T11:41:11.849Z"
   },
   {
    "duration": 54,
    "start_time": "2022-06-21T11:41:17.848Z"
   },
   {
    "duration": 47,
    "start_time": "2022-06-21T11:41:20.912Z"
   },
   {
    "duration": 37,
    "start_time": "2022-06-21T11:45:24.512Z"
   },
   {
    "duration": 29,
    "start_time": "2022-06-21T11:45:33.185Z"
   },
   {
    "duration": 14,
    "start_time": "2022-06-21T11:45:36.887Z"
   },
   {
    "duration": 30,
    "start_time": "2022-06-21T11:45:44.482Z"
   },
   {
    "duration": 14,
    "start_time": "2022-06-21T11:49:15.285Z"
   },
   {
    "duration": 37,
    "start_time": "2022-06-21T11:50:04.212Z"
   },
   {
    "duration": 6,
    "start_time": "2022-06-21T11:51:49.800Z"
   },
   {
    "duration": 7,
    "start_time": "2022-06-21T11:56:40.404Z"
   },
   {
    "duration": 6807,
    "start_time": "2022-06-21T11:56:43.801Z"
   },
   {
    "duration": 32,
    "start_time": "2022-06-21T11:56:52.322Z"
   },
   {
    "duration": 1304,
    "start_time": "2022-06-21T11:59:26.309Z"
   },
   {
    "duration": 1417,
    "start_time": "2022-06-21T11:59:31.508Z"
   },
   {
    "duration": 27,
    "start_time": "2022-06-21T11:59:42.500Z"
   },
   {
    "duration": 23,
    "start_time": "2022-06-21T11:59:55.735Z"
   },
   {
    "duration": 7,
    "start_time": "2022-06-21T11:59:59.480Z"
   },
   {
    "duration": 46,
    "start_time": "2022-06-21T12:00:38.247Z"
   },
   {
    "duration": 6,
    "start_time": "2022-06-21T12:05:07.563Z"
   },
   {
    "duration": 13,
    "start_time": "2022-06-21T12:05:22.815Z"
   },
   {
    "duration": 36,
    "start_time": "2022-06-21T12:05:32.660Z"
   },
   {
    "duration": 43,
    "start_time": "2022-06-21T12:05:45.548Z"
   },
   {
    "duration": 2190,
    "start_time": "2022-06-21T12:06:50.899Z"
   },
   {
    "duration": 7,
    "start_time": "2022-06-21T12:11:13.019Z"
   },
   {
    "duration": 12,
    "start_time": "2022-06-21T12:12:46.202Z"
   },
   {
    "duration": 12,
    "start_time": "2022-06-21T12:13:03.544Z"
   },
   {
    "duration": 6,
    "start_time": "2022-06-21T12:13:21.348Z"
   },
   {
    "duration": 18,
    "start_time": "2022-06-21T12:13:37.523Z"
   },
   {
    "duration": 24,
    "start_time": "2022-06-21T12:13:53.399Z"
   },
   {
    "duration": 196,
    "start_time": "2022-06-21T12:15:19.409Z"
   },
   {
    "duration": 98,
    "start_time": "2022-06-21T12:16:18.908Z"
   },
   {
    "duration": 1119,
    "start_time": "2022-06-21T12:16:40.043Z"
   },
   {
    "duration": 504,
    "start_time": "2022-06-21T12:16:41.164Z"
   },
   {
    "duration": 51,
    "start_time": "2022-06-21T12:16:41.670Z"
   },
   {
    "duration": 125,
    "start_time": "2022-06-21T12:16:41.723Z"
   },
   {
    "duration": 70,
    "start_time": "2022-06-21T12:16:41.852Z"
   },
   {
    "duration": 61,
    "start_time": "2022-06-21T12:16:41.926Z"
   },
   {
    "duration": 47,
    "start_time": "2022-06-21T12:16:41.989Z"
   },
   {
    "duration": 15,
    "start_time": "2022-06-21T12:16:42.037Z"
   },
   {
    "duration": 13,
    "start_time": "2022-06-21T12:16:42.056Z"
   },
   {
    "duration": 107,
    "start_time": "2022-06-21T12:16:42.070Z"
   },
   {
    "duration": 128,
    "start_time": "2022-06-21T12:16:42.179Z"
   },
   {
    "duration": 104,
    "start_time": "2022-06-21T12:16:42.308Z"
   },
   {
    "duration": 59,
    "start_time": "2022-06-21T12:16:42.414Z"
   },
   {
    "duration": 5,
    "start_time": "2022-06-21T12:16:42.475Z"
   },
   {
    "duration": 12,
    "start_time": "2022-06-21T12:16:42.482Z"
   },
   {
    "duration": 19,
    "start_time": "2022-06-21T12:16:42.495Z"
   },
   {
    "duration": 223,
    "start_time": "2022-06-21T12:16:42.523Z"
   },
   {
    "duration": 106,
    "start_time": "2022-06-21T12:16:42.747Z"
   },
   {
    "duration": 76,
    "start_time": "2022-06-21T12:16:42.856Z"
   },
   {
    "duration": 56,
    "start_time": "2022-06-21T12:16:42.942Z"
   },
   {
    "duration": 37,
    "start_time": "2022-06-21T12:16:43.000Z"
   },
   {
    "duration": 20,
    "start_time": "2022-06-21T12:16:43.048Z"
   },
   {
    "duration": 28,
    "start_time": "2022-06-21T12:16:43.070Z"
   },
   {
    "duration": 20,
    "start_time": "2022-06-21T12:17:27.447Z"
   },
   {
    "duration": 5,
    "start_time": "2022-06-21T12:18:29.053Z"
   },
   {
    "duration": 6,
    "start_time": "2022-06-21T12:19:22.403Z"
   },
   {
    "duration": 115,
    "start_time": "2022-06-21T12:20:13.999Z"
   },
   {
    "duration": 25,
    "start_time": "2022-06-21T12:20:18.655Z"
   },
   {
    "duration": 18,
    "start_time": "2022-06-21T12:20:27.662Z"
   },
   {
    "duration": 20,
    "start_time": "2022-06-21T12:21:00.260Z"
   },
   {
    "duration": 8,
    "start_time": "2022-06-21T12:21:05.808Z"
   },
   {
    "duration": 7,
    "start_time": "2022-06-21T12:21:12.762Z"
   },
   {
    "duration": 39,
    "start_time": "2022-06-21T12:21:15.053Z"
   },
   {
    "duration": 41,
    "start_time": "2022-06-21T12:21:16.041Z"
   },
   {
    "duration": 23,
    "start_time": "2022-06-21T12:21:33.016Z"
   },
   {
    "duration": 57,
    "start_time": "2022-06-21T12:21:48.938Z"
   },
   {
    "duration": 46,
    "start_time": "2022-06-21T12:21:51.455Z"
   },
   {
    "duration": 1334,
    "start_time": "2022-06-21T12:22:06.556Z"
   },
   {
    "duration": 556,
    "start_time": "2022-06-21T12:22:07.892Z"
   },
   {
    "duration": 51,
    "start_time": "2022-06-21T12:22:08.450Z"
   },
   {
    "duration": 106,
    "start_time": "2022-06-21T12:22:08.503Z"
   },
   {
    "duration": 102,
    "start_time": "2022-06-21T12:22:08.632Z"
   },
   {
    "duration": 64,
    "start_time": "2022-06-21T12:22:08.738Z"
   },
   {
    "duration": 29,
    "start_time": "2022-06-21T12:22:08.804Z"
   },
   {
    "duration": 43,
    "start_time": "2022-06-21T12:22:08.836Z"
   },
   {
    "duration": 11,
    "start_time": "2022-06-21T12:22:08.881Z"
   },
   {
    "duration": 104,
    "start_time": "2022-06-21T12:22:08.894Z"
   },
   {
    "duration": 176,
    "start_time": "2022-06-21T12:22:09.000Z"
   },
   {
    "duration": 121,
    "start_time": "2022-06-21T12:22:09.178Z"
   },
   {
    "duration": 81,
    "start_time": "2022-06-21T12:22:09.300Z"
   },
   {
    "duration": 5,
    "start_time": "2022-06-21T12:22:09.384Z"
   },
   {
    "duration": 7,
    "start_time": "2022-06-21T12:22:09.391Z"
   },
   {
    "duration": 8,
    "start_time": "2022-06-21T12:22:09.400Z"
   },
   {
    "duration": 50,
    "start_time": "2022-06-21T12:22:09.410Z"
   },
   {
    "duration": 31,
    "start_time": "2022-06-21T12:22:09.462Z"
   },
   {
    "duration": 18,
    "start_time": "2022-06-21T12:22:28.311Z"
   },
   {
    "duration": 108,
    "start_time": "2022-06-21T12:24:06.746Z"
   },
   {
    "duration": 12,
    "start_time": "2022-06-21T12:24:15.251Z"
   },
   {
    "duration": 20,
    "start_time": "2022-06-21T12:24:19.709Z"
   },
   {
    "duration": 9,
    "start_time": "2022-06-21T12:49:40.944Z"
   },
   {
    "duration": 22,
    "start_time": "2022-06-21T12:49:51.260Z"
   },
   {
    "duration": 15,
    "start_time": "2022-06-21T12:49:57.443Z"
   },
   {
    "duration": 177,
    "start_time": "2022-06-21T12:54:05.881Z"
   },
   {
    "duration": 9,
    "start_time": "2022-06-21T12:55:48.024Z"
   },
   {
    "duration": 4,
    "start_time": "2022-06-21T12:55:53.071Z"
   },
   {
    "duration": 15,
    "start_time": "2022-06-21T12:56:13.455Z"
   },
   {
    "duration": 9,
    "start_time": "2022-06-21T12:56:35.702Z"
   },
   {
    "duration": 1416,
    "start_time": "2022-06-21T12:56:45.062Z"
   },
   {
    "duration": 609,
    "start_time": "2022-06-21T12:56:46.486Z"
   },
   {
    "duration": 93,
    "start_time": "2022-06-21T12:56:47.097Z"
   },
   {
    "duration": 177,
    "start_time": "2022-06-21T12:56:47.194Z"
   },
   {
    "duration": 137,
    "start_time": "2022-06-21T12:56:47.375Z"
   },
   {
    "duration": 76,
    "start_time": "2022-06-21T12:56:47.514Z"
   },
   {
    "duration": 36,
    "start_time": "2022-06-21T12:56:47.592Z"
   },
   {
    "duration": 62,
    "start_time": "2022-06-21T12:56:47.630Z"
   },
   {
    "duration": 8,
    "start_time": "2022-06-21T12:56:47.694Z"
   },
   {
    "duration": 127,
    "start_time": "2022-06-21T12:56:47.704Z"
   },
   {
    "duration": 200,
    "start_time": "2022-06-21T12:56:47.837Z"
   },
   {
    "duration": 151,
    "start_time": "2022-06-21T12:56:48.039Z"
   },
   {
    "duration": 93,
    "start_time": "2022-06-21T12:56:48.193Z"
   },
   {
    "duration": 17,
    "start_time": "2022-06-21T12:56:48.293Z"
   },
   {
    "duration": 10,
    "start_time": "2022-06-21T12:56:48.312Z"
   },
   {
    "duration": 57,
    "start_time": "2022-06-21T12:56:48.337Z"
   },
   {
    "duration": 27,
    "start_time": "2022-06-21T12:56:48.395Z"
   },
   {
    "duration": 124,
    "start_time": "2022-06-21T12:56:48.437Z"
   },
   {
    "duration": 0,
    "start_time": "2022-06-21T12:56:48.562Z"
   },
   {
    "duration": 0,
    "start_time": "2022-06-21T12:56:48.564Z"
   },
   {
    "duration": 0,
    "start_time": "2022-06-21T12:56:48.565Z"
   },
   {
    "duration": 0,
    "start_time": "2022-06-21T12:56:48.566Z"
   },
   {
    "duration": 0,
    "start_time": "2022-06-21T12:56:48.567Z"
   },
   {
    "duration": 0,
    "start_time": "2022-06-21T12:56:48.568Z"
   },
   {
    "duration": 0,
    "start_time": "2022-06-21T12:56:48.570Z"
   },
   {
    "duration": 0,
    "start_time": "2022-06-21T12:56:48.571Z"
   },
   {
    "duration": 0,
    "start_time": "2022-06-21T12:56:48.572Z"
   },
   {
    "duration": 0,
    "start_time": "2022-06-21T12:56:48.573Z"
   },
   {
    "duration": 0,
    "start_time": "2022-06-21T12:56:48.574Z"
   },
   {
    "duration": 0,
    "start_time": "2022-06-21T12:56:48.576Z"
   },
   {
    "duration": 0,
    "start_time": "2022-06-21T12:56:48.577Z"
   },
   {
    "duration": 0,
    "start_time": "2022-06-21T12:56:48.578Z"
   },
   {
    "duration": 98,
    "start_time": "2022-06-21T12:57:09.645Z"
   },
   {
    "duration": 64,
    "start_time": "2022-06-21T12:57:11.852Z"
   },
   {
    "duration": 57,
    "start_time": "2022-06-21T12:57:13.217Z"
   },
   {
    "duration": 78,
    "start_time": "2022-06-21T12:57:21.217Z"
   },
   {
    "duration": 73,
    "start_time": "2022-06-21T12:57:41.000Z"
   },
   {
    "duration": 11,
    "start_time": "2022-06-21T12:58:03.654Z"
   },
   {
    "duration": 75,
    "start_time": "2022-06-21T12:58:06.577Z"
   },
   {
    "duration": 8,
    "start_time": "2022-06-21T13:00:11.955Z"
   },
   {
    "duration": 5,
    "start_time": "2022-06-21T13:01:47.348Z"
   },
   {
    "duration": 21,
    "start_time": "2022-06-21T13:02:33.239Z"
   },
   {
    "duration": 9,
    "start_time": "2022-06-21T13:03:09.800Z"
   },
   {
    "duration": 33,
    "start_time": "2022-06-21T13:03:42.560Z"
   },
   {
    "duration": 58,
    "start_time": "2022-06-21T13:14:45.513Z"
   },
   {
    "duration": 24,
    "start_time": "2022-06-21T13:14:50.061Z"
   },
   {
    "duration": 23,
    "start_time": "2022-06-21T13:15:00.943Z"
   },
   {
    "duration": 56,
    "start_time": "2022-06-21T13:15:42.102Z"
   },
   {
    "duration": 89,
    "start_time": "2022-06-21T13:15:51.752Z"
   },
   {
    "duration": 54,
    "start_time": "2022-06-21T13:15:53.752Z"
   },
   {
    "duration": 44,
    "start_time": "2022-06-21T13:15:57.637Z"
   },
   {
    "duration": 12,
    "start_time": "2022-06-21T13:15:59.510Z"
   },
   {
    "duration": 46,
    "start_time": "2022-06-21T13:16:02.134Z"
   },
   {
    "duration": 36,
    "start_time": "2022-06-21T13:16:04.260Z"
   },
   {
    "duration": 10,
    "start_time": "2022-06-21T13:16:08.169Z"
   },
   {
    "duration": 10,
    "start_time": "2022-06-21T13:16:10.314Z"
   },
   {
    "duration": 7013,
    "start_time": "2022-06-21T13:16:18.821Z"
   },
   {
    "duration": 6961,
    "start_time": "2022-06-21T13:16:35.202Z"
   },
   {
    "duration": 40,
    "start_time": "2022-06-21T13:16:43.324Z"
   },
   {
    "duration": 8,
    "start_time": "2022-06-21T13:17:14.400Z"
   },
   {
    "duration": 23,
    "start_time": "2022-06-21T13:17:17.455Z"
   },
   {
    "duration": 1287,
    "start_time": "2022-06-21T13:24:37.433Z"
   },
   {
    "duration": 43,
    "start_time": "2022-06-21T13:25:05.268Z"
   },
   {
    "duration": 16,
    "start_time": "2022-06-21T13:25:57.796Z"
   },
   {
    "duration": 18,
    "start_time": "2022-06-21T13:26:05.861Z"
   },
   {
    "duration": 638,
    "start_time": "2022-06-21T13:26:17.797Z"
   },
   {
    "duration": 12,
    "start_time": "2022-06-21T13:30:08.410Z"
   },
   {
    "duration": 14,
    "start_time": "2022-06-21T13:33:22.191Z"
   },
   {
    "duration": 19,
    "start_time": "2022-06-21T13:35:10.744Z"
   },
   {
    "duration": 50,
    "start_time": "2022-06-21T13:36:23.598Z"
   },
   {
    "duration": 47,
    "start_time": "2022-06-21T13:36:45.190Z"
   },
   {
    "duration": 68,
    "start_time": "2022-06-21T13:36:58.241Z"
   },
   {
    "duration": 28,
    "start_time": "2022-06-21T13:37:19.660Z"
   },
   {
    "duration": 17,
    "start_time": "2022-06-21T13:42:36.440Z"
   },
   {
    "duration": 21,
    "start_time": "2022-06-21T13:42:51.750Z"
   },
   {
    "duration": 16,
    "start_time": "2022-06-21T13:42:59.495Z"
   },
   {
    "duration": 29,
    "start_time": "2022-06-21T13:43:53.418Z"
   },
   {
    "duration": 114,
    "start_time": "2022-06-21T13:44:31.105Z"
   },
   {
    "duration": 91,
    "start_time": "2022-06-21T13:45:30.659Z"
   },
   {
    "duration": 103,
    "start_time": "2022-06-21T13:45:36.114Z"
   },
   {
    "duration": 143,
    "start_time": "2022-06-21T13:46:46.216Z"
   },
   {
    "duration": 126,
    "start_time": "2022-06-21T13:47:18.347Z"
   },
   {
    "duration": 17,
    "start_time": "2022-06-21T13:49:41.104Z"
   },
   {
    "duration": 34,
    "start_time": "2022-06-21T13:49:59.022Z"
   },
   {
    "duration": 13,
    "start_time": "2022-06-21T13:51:24.607Z"
   },
   {
    "duration": 20,
    "start_time": "2022-06-21T13:51:47.402Z"
   },
   {
    "duration": 1483,
    "start_time": "2022-06-21T13:56:19.279Z"
   },
   {
    "duration": 22,
    "start_time": "2022-06-21T13:56:33.639Z"
   },
   {
    "duration": 62,
    "start_time": "2022-06-21T13:56:44.619Z"
   },
   {
    "duration": 1356,
    "start_time": "2022-06-21T13:56:55.360Z"
   },
   {
    "duration": 25,
    "start_time": "2022-06-21T13:57:04.951Z"
   },
   {
    "duration": 42,
    "start_time": "2022-06-21T13:57:34.442Z"
   },
   {
    "duration": 1360,
    "start_time": "2022-06-21T13:57:42.726Z"
   },
   {
    "duration": 54,
    "start_time": "2022-06-21T13:58:02.513Z"
   },
   {
    "duration": 42,
    "start_time": "2022-06-21T13:58:23.304Z"
   },
   {
    "duration": 44,
    "start_time": "2022-06-21T13:58:30.604Z"
   },
   {
    "duration": 1594,
    "start_time": "2022-06-21T13:58:41.505Z"
   },
   {
    "duration": 16,
    "start_time": "2022-06-21T13:58:53.804Z"
   },
   {
    "duration": 48,
    "start_time": "2022-06-21T13:58:57.108Z"
   },
   {
    "duration": 42,
    "start_time": "2022-06-21T13:59:04.564Z"
   },
   {
    "duration": 27,
    "start_time": "2022-06-21T13:59:11.667Z"
   },
   {
    "duration": 56,
    "start_time": "2022-06-21T13:59:18.008Z"
   },
   {
    "duration": 37,
    "start_time": "2022-06-21T13:59:24.196Z"
   },
   {
    "duration": 33,
    "start_time": "2022-06-21T14:26:45.559Z"
   },
   {
    "duration": 38,
    "start_time": "2022-06-21T14:26:53.521Z"
   },
   {
    "duration": 29,
    "start_time": "2022-06-21T14:26:59.561Z"
   },
   {
    "duration": 24,
    "start_time": "2022-06-21T14:27:14.652Z"
   },
   {
    "duration": 41,
    "start_time": "2022-06-21T14:27:17.120Z"
   },
   {
    "duration": 24,
    "start_time": "2022-06-21T14:27:42.264Z"
   },
   {
    "duration": 55,
    "start_time": "2022-06-21T14:27:56.111Z"
   },
   {
    "duration": 28,
    "start_time": "2022-06-21T14:28:22.787Z"
   },
   {
    "duration": 26,
    "start_time": "2022-06-21T14:28:31.962Z"
   },
   {
    "duration": 30,
    "start_time": "2022-06-21T14:28:52.448Z"
   },
   {
    "duration": 24,
    "start_time": "2022-06-21T14:28:57.869Z"
   },
   {
    "duration": 45,
    "start_time": "2022-06-21T14:29:22.004Z"
   },
   {
    "duration": 26,
    "start_time": "2022-06-21T14:29:34.262Z"
   },
   {
    "duration": 45,
    "start_time": "2022-06-21T14:29:44.247Z"
   },
   {
    "duration": 25,
    "start_time": "2022-06-21T14:30:08.450Z"
   },
   {
    "duration": 14,
    "start_time": "2022-06-21T14:30:33.170Z"
   },
   {
    "duration": 47,
    "start_time": "2022-06-21T14:30:47.168Z"
   },
   {
    "duration": 9,
    "start_time": "2022-06-21T14:30:51.296Z"
   },
   {
    "duration": 12,
    "start_time": "2022-06-21T14:31:07.557Z"
   },
   {
    "duration": 84,
    "start_time": "2022-06-21T14:33:05.995Z"
   },
   {
    "duration": 303,
    "start_time": "2022-06-21T14:33:34.747Z"
   },
   {
    "duration": 25,
    "start_time": "2022-06-21T14:33:56.216Z"
   },
   {
    "duration": 26,
    "start_time": "2022-06-21T14:34:02.816Z"
   },
   {
    "duration": 59,
    "start_time": "2022-06-21T14:34:27.538Z"
   },
   {
    "duration": 18,
    "start_time": "2022-06-21T14:34:40.387Z"
   },
   {
    "duration": 19,
    "start_time": "2022-06-21T14:34:45.780Z"
   },
   {
    "duration": 309,
    "start_time": "2022-06-21T14:35:17.673Z"
   },
   {
    "duration": 160,
    "start_time": "2022-06-21T14:35:34.936Z"
   },
   {
    "duration": 158,
    "start_time": "2022-06-21T14:37:57.135Z"
   },
   {
    "duration": 159,
    "start_time": "2022-06-21T14:38:06.343Z"
   },
   {
    "duration": 1081,
    "start_time": "2022-06-21T14:39:09.086Z"
   },
   {
    "duration": 1085,
    "start_time": "2022-06-21T14:57:40.317Z"
   },
   {
    "duration": 31,
    "start_time": "2022-06-21T14:58:14.858Z"
   },
   {
    "duration": 18,
    "start_time": "2022-06-21T14:58:35.877Z"
   },
   {
    "duration": 24,
    "start_time": "2022-06-21T15:09:37.579Z"
   },
   {
    "duration": 41,
    "start_time": "2022-06-21T15:09:48.664Z"
   },
   {
    "duration": 12,
    "start_time": "2022-06-21T15:10:15.051Z"
   },
   {
    "duration": 21,
    "start_time": "2022-06-21T15:10:28.046Z"
   },
   {
    "duration": 17,
    "start_time": "2022-06-21T15:10:59.187Z"
   },
   {
    "duration": 245,
    "start_time": "2022-06-21T15:11:09.285Z"
   },
   {
    "duration": 11,
    "start_time": "2022-06-21T15:11:39.079Z"
   },
   {
    "duration": 226,
    "start_time": "2022-06-21T15:11:51.489Z"
   },
   {
    "duration": 285,
    "start_time": "2022-06-21T15:12:09.081Z"
   },
   {
    "duration": 24,
    "start_time": "2022-06-21T15:13:18.878Z"
   },
   {
    "duration": 39,
    "start_time": "2022-06-21T15:14:22.002Z"
   },
   {
    "duration": 19,
    "start_time": "2022-06-21T15:14:39.785Z"
   },
   {
    "duration": 15,
    "start_time": "2022-06-21T15:14:47.885Z"
   },
   {
    "duration": 13,
    "start_time": "2022-06-21T15:14:51.945Z"
   },
   {
    "duration": 12,
    "start_time": "2022-06-21T15:15:00.040Z"
   },
   {
    "duration": 33,
    "start_time": "2022-06-21T15:15:03.697Z"
   },
   {
    "duration": 33,
    "start_time": "2022-06-21T15:15:10.487Z"
   },
   {
    "duration": 56,
    "start_time": "2022-06-21T15:15:38.303Z"
   },
   {
    "duration": 156,
    "start_time": "2022-06-21T15:16:04.440Z"
   },
   {
    "duration": 1079,
    "start_time": "2022-06-21T15:17:23.171Z"
   },
   {
    "duration": 164,
    "start_time": "2022-06-21T15:18:16.504Z"
   },
   {
    "duration": 156,
    "start_time": "2022-06-21T15:18:31.273Z"
   },
   {
    "duration": 158,
    "start_time": "2022-06-21T15:18:50.585Z"
   },
   {
    "duration": 154,
    "start_time": "2022-06-21T15:18:54.589Z"
   },
   {
    "duration": 15,
    "start_time": "2022-06-21T15:19:12.272Z"
   },
   {
    "duration": 878,
    "start_time": "2022-06-21T15:19:41.788Z"
   },
   {
    "duration": 46,
    "start_time": "2022-06-21T15:20:37.794Z"
   },
   {
    "duration": 23,
    "start_time": "2022-06-21T15:22:18.838Z"
   },
   {
    "duration": 26,
    "start_time": "2022-06-21T15:22:41.272Z"
   },
   {
    "duration": 23,
    "start_time": "2022-06-21T15:23:23.303Z"
   },
   {
    "duration": 32,
    "start_time": "2022-06-21T15:23:35.330Z"
   },
   {
    "duration": 62,
    "start_time": "2022-06-21T15:24:19.113Z"
   },
   {
    "duration": 78,
    "start_time": "2022-06-21T15:24:23.623Z"
   },
   {
    "duration": 38,
    "start_time": "2022-06-21T15:25:03.760Z"
   },
   {
    "duration": 23,
    "start_time": "2022-06-21T15:25:25.381Z"
   },
   {
    "duration": 100,
    "start_time": "2022-06-21T15:26:30.707Z"
   },
   {
    "duration": 145,
    "start_time": "2022-06-21T15:26:42.583Z"
   },
   {
    "duration": 1336,
    "start_time": "2022-06-21T15:30:53.154Z"
   },
   {
    "duration": 1522,
    "start_time": "2022-06-21T15:31:20.205Z"
   },
   {
    "duration": 1494,
    "start_time": "2022-06-21T15:31:57.235Z"
   },
   {
    "duration": 1585,
    "start_time": "2022-06-21T15:32:54.977Z"
   },
   {
    "duration": 1695,
    "start_time": "2022-06-21T15:36:16.967Z"
   },
   {
    "duration": 4,
    "start_time": "2022-06-21T15:38:39.377Z"
   },
   {
    "duration": 1641,
    "start_time": "2022-06-21T15:38:50.009Z"
   },
   {
    "duration": 204,
    "start_time": "2022-06-21T15:39:46.087Z"
   },
   {
    "duration": 388,
    "start_time": "2022-06-21T15:40:07.581Z"
   },
   {
    "duration": 3030,
    "start_time": "2022-06-21T15:40:12.695Z"
   },
   {
    "duration": 2885,
    "start_time": "2022-06-21T15:40:47.463Z"
   },
   {
    "duration": 1754,
    "start_time": "2022-06-21T15:41:49.479Z"
   },
   {
    "duration": 1778,
    "start_time": "2022-06-21T15:43:18.164Z"
   },
   {
    "duration": 12,
    "start_time": "2022-06-21T15:51:54.537Z"
   },
   {
    "duration": 54,
    "start_time": "2022-06-21T15:52:18.767Z"
   },
   {
    "duration": 11,
    "start_time": "2022-06-21T15:52:39.780Z"
   },
   {
    "duration": 11,
    "start_time": "2022-06-21T15:52:48.178Z"
   },
   {
    "duration": 1746,
    "start_time": "2022-06-21T15:53:08.806Z"
   },
   {
    "duration": 1759,
    "start_time": "2022-06-21T15:54:01.614Z"
   },
   {
    "duration": 1267,
    "start_time": "2022-06-22T06:44:49.008Z"
   },
   {
    "duration": 1413,
    "start_time": "2022-06-22T06:44:50.277Z"
   },
   {
    "duration": 74,
    "start_time": "2022-06-22T06:44:51.692Z"
   },
   {
    "duration": 94,
    "start_time": "2022-06-22T06:44:51.769Z"
   },
   {
    "duration": 64,
    "start_time": "2022-06-22T06:44:51.867Z"
   },
   {
    "duration": 56,
    "start_time": "2022-06-22T06:44:51.932Z"
   },
   {
    "duration": 23,
    "start_time": "2022-06-22T06:44:51.990Z"
   },
   {
    "duration": 31,
    "start_time": "2022-06-22T06:44:52.014Z"
   },
   {
    "duration": 27,
    "start_time": "2022-06-22T06:44:52.046Z"
   },
   {
    "duration": 56,
    "start_time": "2022-06-22T06:44:52.074Z"
   },
   {
    "duration": 110,
    "start_time": "2022-06-22T06:44:52.133Z"
   },
   {
    "duration": 76,
    "start_time": "2022-06-22T06:44:52.244Z"
   },
   {
    "duration": 67,
    "start_time": "2022-06-22T06:44:52.321Z"
   },
   {
    "duration": 6,
    "start_time": "2022-06-22T06:44:52.392Z"
   },
   {
    "duration": 6,
    "start_time": "2022-06-22T06:44:52.399Z"
   },
   {
    "duration": 5,
    "start_time": "2022-06-22T06:44:52.406Z"
   },
   {
    "duration": 25,
    "start_time": "2022-06-22T06:44:52.433Z"
   },
   {
    "duration": 44,
    "start_time": "2022-06-22T06:44:52.464Z"
   },
   {
    "duration": 53,
    "start_time": "2022-06-22T06:44:52.510Z"
   },
   {
    "duration": 34,
    "start_time": "2022-06-22T06:44:52.564Z"
   },
   {
    "duration": 48,
    "start_time": "2022-06-22T06:44:52.600Z"
   },
   {
    "duration": 14,
    "start_time": "2022-06-22T06:44:52.654Z"
   },
   {
    "duration": 32,
    "start_time": "2022-06-22T06:44:52.670Z"
   },
   {
    "duration": 23,
    "start_time": "2022-06-22T06:44:52.704Z"
   },
   {
    "duration": 46,
    "start_time": "2022-06-22T06:44:52.729Z"
   },
   {
    "duration": 10,
    "start_time": "2022-06-22T06:44:52.777Z"
   },
   {
    "duration": 6351,
    "start_time": "2022-06-22T06:44:52.788Z"
   },
   {
    "duration": 7357,
    "start_time": "2022-06-22T06:44:59.141Z"
   },
   {
    "duration": 0,
    "start_time": "2022-06-22T06:45:06.500Z"
   },
   {
    "duration": 0,
    "start_time": "2022-06-22T06:45:06.501Z"
   },
   {
    "duration": 0,
    "start_time": "2022-06-22T06:45:06.502Z"
   },
   {
    "duration": 0,
    "start_time": "2022-06-22T06:45:06.503Z"
   },
   {
    "duration": 0,
    "start_time": "2022-06-22T06:45:06.504Z"
   },
   {
    "duration": 0,
    "start_time": "2022-06-22T06:45:06.505Z"
   },
   {
    "duration": 0,
    "start_time": "2022-06-22T06:45:06.506Z"
   },
   {
    "duration": 0,
    "start_time": "2022-06-22T06:45:06.507Z"
   },
   {
    "duration": 0,
    "start_time": "2022-06-22T06:45:06.508Z"
   },
   {
    "duration": 0,
    "start_time": "2022-06-22T06:45:06.509Z"
   },
   {
    "duration": 122,
    "start_time": "2022-06-22T06:47:33.818Z"
   },
   {
    "duration": 19,
    "start_time": "2022-06-22T06:47:52.497Z"
   },
   {
    "duration": 21,
    "start_time": "2022-06-22T06:51:05.895Z"
   },
   {
    "duration": 1510,
    "start_time": "2022-06-22T06:51:54.379Z"
   },
   {
    "duration": 116,
    "start_time": "2022-06-22T06:52:05.599Z"
   },
   {
    "duration": 8,
    "start_time": "2022-06-22T06:52:11.678Z"
   },
   {
    "duration": 3044,
    "start_time": "2022-06-22T06:52:34.379Z"
   },
   {
    "duration": 8,
    "start_time": "2022-06-22T06:52:40.286Z"
   },
   {
    "duration": 5,
    "start_time": "2022-06-22T06:52:51.500Z"
   },
   {
    "duration": 24,
    "start_time": "2022-06-22T06:53:22.515Z"
   },
   {
    "duration": 17,
    "start_time": "2022-06-22T06:54:37.568Z"
   },
   {
    "duration": 14,
    "start_time": "2022-06-22T06:54:42.095Z"
   },
   {
    "duration": 3,
    "start_time": "2022-06-22T06:55:07.402Z"
   },
   {
    "duration": 14,
    "start_time": "2022-06-22T06:55:11.503Z"
   },
   {
    "duration": 17,
    "start_time": "2022-06-22T06:55:43.399Z"
   },
   {
    "duration": 13,
    "start_time": "2022-06-22T06:56:55.779Z"
   },
   {
    "duration": 128,
    "start_time": "2022-06-22T06:57:13.932Z"
   },
   {
    "duration": 11,
    "start_time": "2022-06-22T06:57:16.586Z"
   },
   {
    "duration": 2,
    "start_time": "2022-06-22T06:58:32.103Z"
   },
   {
    "duration": 10,
    "start_time": "2022-06-22T06:58:34.070Z"
   },
   {
    "duration": 13,
    "start_time": "2022-06-22T06:59:09.406Z"
   },
   {
    "duration": 12,
    "start_time": "2022-06-22T06:59:14.155Z"
   },
   {
    "duration": 3,
    "start_time": "2022-06-22T06:59:16.397Z"
   },
   {
    "duration": 9,
    "start_time": "2022-06-22T06:59:18.206Z"
   },
   {
    "duration": 2,
    "start_time": "2022-06-22T07:00:07.123Z"
   },
   {
    "duration": 1312,
    "start_time": "2022-06-22T07:00:08.619Z"
   },
   {
    "duration": 22,
    "start_time": "2022-06-22T07:02:18.238Z"
   },
   {
    "duration": 87,
    "start_time": "2022-06-22T07:03:07.986Z"
   },
   {
    "duration": 12,
    "start_time": "2022-06-22T07:03:14.948Z"
   },
   {
    "duration": 5,
    "start_time": "2022-06-22T07:03:24.873Z"
   },
   {
    "duration": 1159,
    "start_time": "2022-06-22T07:03:30.817Z"
   },
   {
    "duration": 1048,
    "start_time": "2022-06-22T07:03:36.170Z"
   },
   {
    "duration": 6,
    "start_time": "2022-06-22T07:03:48.465Z"
   },
   {
    "duration": 1083,
    "start_time": "2022-06-22T07:04:10.527Z"
   },
   {
    "duration": 561,
    "start_time": "2022-06-22T07:04:11.612Z"
   },
   {
    "duration": 39,
    "start_time": "2022-06-22T07:04:12.175Z"
   },
   {
    "duration": 75,
    "start_time": "2022-06-22T07:04:12.215Z"
   },
   {
    "duration": 78,
    "start_time": "2022-06-22T07:04:12.291Z"
   },
   {
    "duration": 43,
    "start_time": "2022-06-22T07:04:12.371Z"
   },
   {
    "duration": 42,
    "start_time": "2022-06-22T07:04:12.416Z"
   },
   {
    "duration": 11,
    "start_time": "2022-06-22T07:04:12.460Z"
   },
   {
    "duration": 7,
    "start_time": "2022-06-22T07:04:12.472Z"
   },
   {
    "duration": 56,
    "start_time": "2022-06-22T07:04:12.481Z"
   },
   {
    "duration": 103,
    "start_time": "2022-06-22T07:04:12.540Z"
   },
   {
    "duration": 65,
    "start_time": "2022-06-22T07:04:12.650Z"
   },
   {
    "duration": 46,
    "start_time": "2022-06-22T07:04:12.717Z"
   },
   {
    "duration": 4,
    "start_time": "2022-06-22T07:04:12.765Z"
   },
   {
    "duration": 10,
    "start_time": "2022-06-22T07:04:12.770Z"
   },
   {
    "duration": 8,
    "start_time": "2022-06-22T07:04:12.781Z"
   },
   {
    "duration": 19,
    "start_time": "2022-06-22T07:04:12.791Z"
   },
   {
    "duration": 53,
    "start_time": "2022-06-22T07:04:12.811Z"
   },
   {
    "duration": 21,
    "start_time": "2022-06-22T07:04:12.866Z"
   },
   {
    "duration": 13,
    "start_time": "2022-06-22T07:04:12.888Z"
   },
   {
    "duration": 3,
    "start_time": "2022-06-22T07:04:12.902Z"
   },
   {
    "duration": 25,
    "start_time": "2022-06-22T07:04:12.906Z"
   },
   {
    "duration": 7,
    "start_time": "2022-06-22T07:04:17.583Z"
   },
   {
    "duration": 3,
    "start_time": "2022-06-22T07:04:24.791Z"
   },
   {
    "duration": 7,
    "start_time": "2022-06-22T07:04:26.569Z"
   },
   {
    "duration": 1144,
    "start_time": "2022-06-22T07:05:12.181Z"
   },
   {
    "duration": 6,
    "start_time": "2022-06-22T07:05:55.190Z"
   },
   {
    "duration": 5,
    "start_time": "2022-06-22T07:06:20.154Z"
   },
   {
    "duration": 17,
    "start_time": "2022-06-22T07:07:13.008Z"
   },
   {
    "duration": 24,
    "start_time": "2022-06-22T07:07:18.223Z"
   },
   {
    "duration": 12,
    "start_time": "2022-06-22T07:08:51.700Z"
   },
   {
    "duration": 12,
    "start_time": "2022-06-22T07:08:57.156Z"
   },
   {
    "duration": 13,
    "start_time": "2022-06-22T07:09:13.890Z"
   },
   {
    "duration": 19,
    "start_time": "2022-06-22T07:09:15.827Z"
   },
   {
    "duration": 11,
    "start_time": "2022-06-22T07:09:49.457Z"
   },
   {
    "duration": 13,
    "start_time": "2022-06-22T07:10:21.368Z"
   },
   {
    "duration": 13,
    "start_time": "2022-06-22T07:10:23.688Z"
   },
   {
    "duration": 30,
    "start_time": "2022-06-22T07:10:33.218Z"
   },
   {
    "duration": 36,
    "start_time": "2022-06-22T07:10:37.919Z"
   },
   {
    "duration": 8,
    "start_time": "2022-06-22T07:10:51.575Z"
   },
   {
    "duration": 11,
    "start_time": "2022-06-22T07:10:55.140Z"
   },
   {
    "duration": 4,
    "start_time": "2022-06-22T07:11:13.198Z"
   },
   {
    "duration": 12,
    "start_time": "2022-06-22T07:12:49.321Z"
   },
   {
    "duration": 7,
    "start_time": "2022-06-22T07:13:00.817Z"
   },
   {
    "duration": 15,
    "start_time": "2022-06-22T07:13:03.460Z"
   },
   {
    "duration": 7,
    "start_time": "2022-06-22T07:15:34.346Z"
   },
   {
    "duration": 11,
    "start_time": "2022-06-22T07:18:21.467Z"
   },
   {
    "duration": 9,
    "start_time": "2022-06-22T07:18:44.338Z"
   },
   {
    "duration": 14,
    "start_time": "2022-06-22T07:18:53.603Z"
   },
   {
    "duration": 15,
    "start_time": "2022-06-22T07:19:06.950Z"
   },
   {
    "duration": 14,
    "start_time": "2022-06-22T07:19:08.977Z"
   },
   {
    "duration": 17,
    "start_time": "2022-06-22T07:19:16.977Z"
   },
   {
    "duration": 10,
    "start_time": "2022-06-22T07:23:00.940Z"
   },
   {
    "duration": 8,
    "start_time": "2022-06-22T07:23:23.863Z"
   },
   {
    "duration": 25,
    "start_time": "2022-06-22T07:24:19.999Z"
   },
   {
    "duration": 104,
    "start_time": "2022-06-22T07:24:24.157Z"
   },
   {
    "duration": 16,
    "start_time": "2022-06-22T07:24:27.764Z"
   },
   {
    "duration": 3,
    "start_time": "2022-06-22T07:26:42.183Z"
   },
   {
    "duration": 21,
    "start_time": "2022-06-22T07:26:46.057Z"
   },
   {
    "duration": 11,
    "start_time": "2022-06-22T07:27:01.519Z"
   },
   {
    "duration": 4,
    "start_time": "2022-06-22T07:27:29.493Z"
   },
   {
    "duration": 1299,
    "start_time": "2022-06-22T07:28:02.649Z"
   },
   {
    "duration": 1469,
    "start_time": "2022-06-22T07:28:27.523Z"
   },
   {
    "duration": 1454,
    "start_time": "2022-06-22T07:28:35.311Z"
   },
   {
    "duration": 7,
    "start_time": "2022-06-22T07:28:48.978Z"
   },
   {
    "duration": 1368,
    "start_time": "2022-06-22T07:29:09.296Z"
   },
   {
    "duration": 9,
    "start_time": "2022-06-22T07:29:18.890Z"
   },
   {
    "duration": 1638,
    "start_time": "2022-06-22T07:29:40.759Z"
   },
   {
    "duration": 16,
    "start_time": "2022-06-22T07:30:16.453Z"
   },
   {
    "duration": 20,
    "start_time": "2022-06-22T07:32:15.328Z"
   },
   {
    "duration": 6,
    "start_time": "2022-06-22T07:32:25.842Z"
   },
   {
    "duration": 8,
    "start_time": "2022-06-22T07:34:03.299Z"
   },
   {
    "duration": 9,
    "start_time": "2022-06-22T07:34:27.157Z"
   },
   {
    "duration": 12,
    "start_time": "2022-06-22T07:35:21.845Z"
   },
   {
    "duration": 9,
    "start_time": "2022-06-22T07:35:39.704Z"
   },
   {
    "duration": 83,
    "start_time": "2022-06-22T07:36:37.958Z"
   },
   {
    "duration": 11,
    "start_time": "2022-06-22T07:37:05.581Z"
   },
   {
    "duration": 12,
    "start_time": "2022-06-22T07:37:15.163Z"
   },
   {
    "duration": 4,
    "start_time": "2022-06-22T07:37:29.965Z"
   },
   {
    "duration": 11,
    "start_time": "2022-06-22T07:37:51.860Z"
   },
   {
    "duration": 9,
    "start_time": "2022-06-22T07:39:05.644Z"
   },
   {
    "duration": 9,
    "start_time": "2022-06-22T07:39:12.055Z"
   },
   {
    "duration": 14,
    "start_time": "2022-06-22T07:39:30.399Z"
   },
   {
    "duration": 18,
    "start_time": "2022-06-22T07:41:07.922Z"
   },
   {
    "duration": 9,
    "start_time": "2022-06-22T07:41:20.586Z"
   },
   {
    "duration": 7,
    "start_time": "2022-06-22T07:41:55.001Z"
   },
   {
    "duration": 4,
    "start_time": "2022-06-22T07:42:01.664Z"
   },
   {
    "duration": 1078,
    "start_time": "2022-06-22T07:42:15.346Z"
   },
   {
    "duration": 442,
    "start_time": "2022-06-22T07:42:16.427Z"
   },
   {
    "duration": 51,
    "start_time": "2022-06-22T07:42:16.871Z"
   },
   {
    "duration": 89,
    "start_time": "2022-06-22T07:42:16.924Z"
   },
   {
    "duration": 105,
    "start_time": "2022-06-22T07:42:17.016Z"
   },
   {
    "duration": 64,
    "start_time": "2022-06-22T07:42:17.123Z"
   },
   {
    "duration": 63,
    "start_time": "2022-06-22T07:42:17.192Z"
   },
   {
    "duration": 7,
    "start_time": "2022-06-22T07:42:17.256Z"
   },
   {
    "duration": 7,
    "start_time": "2022-06-22T07:42:17.265Z"
   },
   {
    "duration": 108,
    "start_time": "2022-06-22T07:42:17.273Z"
   },
   {
    "duration": 148,
    "start_time": "2022-06-22T07:42:17.429Z"
   },
   {
    "duration": 103,
    "start_time": "2022-06-22T07:42:17.579Z"
   },
   {
    "duration": 102,
    "start_time": "2022-06-22T07:42:17.684Z"
   },
   {
    "duration": 7,
    "start_time": "2022-06-22T07:42:17.789Z"
   },
   {
    "duration": 9,
    "start_time": "2022-06-22T07:42:17.797Z"
   },
   {
    "duration": 26,
    "start_time": "2022-06-22T07:42:17.808Z"
   },
   {
    "duration": 25,
    "start_time": "2022-06-22T07:42:17.839Z"
   },
   {
    "duration": 47,
    "start_time": "2022-06-22T07:42:17.866Z"
   },
   {
    "duration": 21,
    "start_time": "2022-06-22T07:42:17.915Z"
   },
   {
    "duration": 40,
    "start_time": "2022-06-22T07:42:17.938Z"
   },
   {
    "duration": 28,
    "start_time": "2022-06-22T07:42:17.980Z"
   },
   {
    "duration": 28,
    "start_time": "2022-06-22T07:42:18.010Z"
   },
   {
    "duration": 16,
    "start_time": "2022-06-22T07:42:18.040Z"
   },
   {
    "duration": 19,
    "start_time": "2022-06-22T07:42:18.058Z"
   },
   {
    "duration": 3,
    "start_time": "2022-06-22T07:42:18.080Z"
   },
   {
    "duration": 6,
    "start_time": "2022-06-22T07:42:18.085Z"
   },
   {
    "duration": 8,
    "start_time": "2022-06-22T07:42:18.093Z"
   },
   {
    "duration": 31,
    "start_time": "2022-06-22T07:42:18.103Z"
   },
   {
    "duration": 24,
    "start_time": "2022-06-22T08:02:39.248Z"
   },
   {
    "duration": 7,
    "start_time": "2022-06-22T08:03:38.219Z"
   },
   {
    "duration": 2,
    "start_time": "2022-06-22T08:19:01.653Z"
   },
   {
    "duration": 12,
    "start_time": "2022-06-22T08:19:22.052Z"
   },
   {
    "duration": 5,
    "start_time": "2022-06-22T08:24:41.817Z"
   },
   {
    "duration": 4,
    "start_time": "2022-06-22T08:25:00.576Z"
   },
   {
    "duration": 10,
    "start_time": "2022-06-22T08:25:09.424Z"
   },
   {
    "duration": 17,
    "start_time": "2022-06-22T08:29:02.769Z"
   },
   {
    "duration": 88,
    "start_time": "2022-06-22T08:33:54.926Z"
   },
   {
    "duration": 5,
    "start_time": "2022-06-22T08:33:59.085Z"
   },
   {
    "duration": 75,
    "start_time": "2022-06-22T08:34:05.053Z"
   },
   {
    "duration": 4,
    "start_time": "2022-06-22T08:34:08.380Z"
   },
   {
    "duration": 5,
    "start_time": "2022-06-22T08:34:19.452Z"
   },
   {
    "duration": 11,
    "start_time": "2022-06-22T08:34:34.430Z"
   },
   {
    "duration": 10,
    "start_time": "2022-06-22T08:34:40.451Z"
   },
   {
    "duration": 6,
    "start_time": "2022-06-22T08:34:43.738Z"
   },
   {
    "duration": 4,
    "start_time": "2022-06-22T08:36:31.983Z"
   },
   {
    "duration": 4,
    "start_time": "2022-06-22T08:36:35.815Z"
   },
   {
    "duration": 117,
    "start_time": "2022-06-22T08:37:03.390Z"
   },
   {
    "duration": 6,
    "start_time": "2022-06-22T08:37:07.724Z"
   },
   {
    "duration": 8,
    "start_time": "2022-06-22T08:37:31.301Z"
   },
   {
    "duration": 7,
    "start_time": "2022-06-22T08:37:36.053Z"
   },
   {
    "duration": 9,
    "start_time": "2022-06-22T08:37:51.108Z"
   },
   {
    "duration": 89,
    "start_time": "2022-06-22T08:37:59.594Z"
   },
   {
    "duration": 6,
    "start_time": "2022-06-22T08:38:02.195Z"
   },
   {
    "duration": 1568,
    "start_time": "2022-06-22T08:39:07.145Z"
   },
   {
    "duration": 727,
    "start_time": "2022-06-22T08:39:30.209Z"
   },
   {
    "duration": 28,
    "start_time": "2022-06-22T08:39:52.513Z"
   },
   {
    "duration": 2805,
    "start_time": "2022-06-22T08:40:11.567Z"
   },
   {
    "duration": 7,
    "start_time": "2022-06-22T08:40:18.847Z"
   },
   {
    "duration": 6,
    "start_time": "2022-06-22T08:40:24.202Z"
   },
   {
    "duration": 8,
    "start_time": "2022-06-22T08:40:31.103Z"
   },
   {
    "duration": 5,
    "start_time": "2022-06-22T08:41:28.580Z"
   },
   {
    "duration": 7,
    "start_time": "2022-06-22T08:41:32.412Z"
   },
   {
    "duration": 976,
    "start_time": "2022-06-22T08:41:43.851Z"
   },
   {
    "duration": 1372,
    "start_time": "2022-06-22T08:41:56.899Z"
   },
   {
    "duration": 15,
    "start_time": "2022-06-22T08:42:00.827Z"
   },
   {
    "duration": 12,
    "start_time": "2022-06-22T08:49:02.864Z"
   },
   {
    "duration": 1257,
    "start_time": "2022-06-22T08:49:08.856Z"
   },
   {
    "duration": 1477,
    "start_time": "2022-06-22T08:50:42.995Z"
   },
   {
    "duration": 5,
    "start_time": "2022-06-22T08:51:03.899Z"
   },
   {
    "duration": 1379,
    "start_time": "2022-06-22T08:51:12.994Z"
   },
   {
    "duration": 1603,
    "start_time": "2022-06-22T08:51:20.754Z"
   },
   {
    "duration": 17,
    "start_time": "2022-06-22T08:51:25.987Z"
   },
   {
    "duration": 14,
    "start_time": "2022-06-22T08:51:31.307Z"
   },
   {
    "duration": 10,
    "start_time": "2022-06-22T08:53:45.784Z"
   },
   {
    "duration": 72,
    "start_time": "2022-06-22T08:53:53.411Z"
   },
   {
    "duration": 7,
    "start_time": "2022-06-22T08:54:01.932Z"
   },
   {
    "duration": 14,
    "start_time": "2022-06-22T08:54:05.798Z"
   },
   {
    "duration": 11,
    "start_time": "2022-06-22T08:54:48.019Z"
   },
   {
    "duration": 14,
    "start_time": "2022-06-22T08:55:20.616Z"
   },
   {
    "duration": 12,
    "start_time": "2022-06-22T08:55:21.816Z"
   },
   {
    "duration": 8,
    "start_time": "2022-06-22T08:55:27.960Z"
   },
   {
    "duration": 13,
    "start_time": "2022-06-22T08:55:42.312Z"
   },
   {
    "duration": 1033,
    "start_time": "2022-06-22T08:55:59.525Z"
   },
   {
    "duration": 382,
    "start_time": "2022-06-22T08:56:00.560Z"
   },
   {
    "duration": 42,
    "start_time": "2022-06-22T08:56:00.944Z"
   },
   {
    "duration": 78,
    "start_time": "2022-06-22T08:56:00.988Z"
   },
   {
    "duration": 79,
    "start_time": "2022-06-22T08:56:01.068Z"
   },
   {
    "duration": 46,
    "start_time": "2022-06-22T08:56:01.148Z"
   },
   {
    "duration": 40,
    "start_time": "2022-06-22T08:56:01.196Z"
   },
   {
    "duration": 8,
    "start_time": "2022-06-22T08:56:01.239Z"
   },
   {
    "duration": 29,
    "start_time": "2022-06-22T08:56:01.248Z"
   },
   {
    "duration": 57,
    "start_time": "2022-06-22T08:56:01.280Z"
   },
   {
    "duration": 102,
    "start_time": "2022-06-22T08:56:01.338Z"
   },
   {
    "duration": 89,
    "start_time": "2022-06-22T08:56:01.441Z"
   },
   {
    "duration": 42,
    "start_time": "2022-06-22T08:56:01.531Z"
   },
   {
    "duration": 4,
    "start_time": "2022-06-22T08:56:01.575Z"
   },
   {
    "duration": 40,
    "start_time": "2022-06-22T08:56:01.580Z"
   },
   {
    "duration": 6,
    "start_time": "2022-06-22T08:56:01.621Z"
   },
   {
    "duration": 21,
    "start_time": "2022-06-22T08:56:01.628Z"
   },
   {
    "duration": 38,
    "start_time": "2022-06-22T08:56:01.651Z"
   },
   {
    "duration": 2,
    "start_time": "2022-06-22T08:56:01.691Z"
   },
   {
    "duration": 40,
    "start_time": "2022-06-22T08:56:01.695Z"
   },
   {
    "duration": 13,
    "start_time": "2022-06-22T08:56:01.736Z"
   },
   {
    "duration": 20,
    "start_time": "2022-06-22T08:56:01.750Z"
   },
   {
    "duration": 14,
    "start_time": "2022-06-22T08:56:01.772Z"
   },
   {
    "duration": 14,
    "start_time": "2022-06-22T08:56:03.697Z"
   },
   {
    "duration": 9,
    "start_time": "2022-06-22T08:56:04.456Z"
   },
   {
    "duration": 17,
    "start_time": "2022-06-22T08:56:10.732Z"
   },
   {
    "duration": 81,
    "start_time": "2022-06-22T08:56:39.528Z"
   },
   {
    "duration": 1031,
    "start_time": "2022-06-22T08:56:54.229Z"
   },
   {
    "duration": 379,
    "start_time": "2022-06-22T08:56:55.262Z"
   },
   {
    "duration": 43,
    "start_time": "2022-06-22T08:56:55.643Z"
   },
   {
    "duration": 80,
    "start_time": "2022-06-22T08:56:55.688Z"
   },
   {
    "duration": 77,
    "start_time": "2022-06-22T08:56:55.770Z"
   },
   {
    "duration": 44,
    "start_time": "2022-06-22T08:56:55.849Z"
   },
   {
    "duration": 20,
    "start_time": "2022-06-22T08:56:55.895Z"
   },
   {
    "duration": 6,
    "start_time": "2022-06-22T08:56:55.929Z"
   },
   {
    "duration": 4,
    "start_time": "2022-06-22T08:56:55.937Z"
   },
   {
    "duration": 48,
    "start_time": "2022-06-22T08:56:55.944Z"
   },
   {
    "duration": 137,
    "start_time": "2022-06-22T08:56:55.993Z"
   },
   {
    "duration": 79,
    "start_time": "2022-06-22T08:56:56.132Z"
   },
   {
    "duration": 57,
    "start_time": "2022-06-22T08:56:56.213Z"
   },
   {
    "duration": 5,
    "start_time": "2022-06-22T08:56:56.272Z"
   },
   {
    "duration": 5,
    "start_time": "2022-06-22T08:56:56.278Z"
   },
   {
    "duration": 4,
    "start_time": "2022-06-22T08:56:56.284Z"
   },
   {
    "duration": 47,
    "start_time": "2022-06-22T08:56:56.289Z"
   },
   {
    "duration": 43,
    "start_time": "2022-06-22T08:56:56.338Z"
   },
   {
    "duration": 3,
    "start_time": "2022-06-22T08:56:56.382Z"
   },
   {
    "duration": 26,
    "start_time": "2022-06-22T08:56:56.387Z"
   },
   {
    "duration": 26,
    "start_time": "2022-06-22T08:56:56.414Z"
   },
   {
    "duration": 16,
    "start_time": "2022-06-22T08:56:56.442Z"
   },
   {
    "duration": 13,
    "start_time": "2022-06-22T08:56:56.459Z"
   },
   {
    "duration": 13,
    "start_time": "2022-06-22T08:56:58.120Z"
   },
   {
    "duration": 16,
    "start_time": "2022-06-22T08:57:01.383Z"
   },
   {
    "duration": 3,
    "start_time": "2022-06-22T08:57:17.319Z"
   },
   {
    "duration": 2,
    "start_time": "2022-06-22T08:57:19.223Z"
   },
   {
    "duration": 14,
    "start_time": "2022-06-22T08:57:30.494Z"
   },
   {
    "duration": 6,
    "start_time": "2022-06-22T08:58:59.283Z"
   },
   {
    "duration": 15,
    "start_time": "2022-06-22T08:59:01.787Z"
   },
   {
    "duration": 3,
    "start_time": "2022-06-22T09:00:15.216Z"
   },
   {
    "duration": 15,
    "start_time": "2022-06-22T09:00:17.647Z"
   },
   {
    "duration": 11,
    "start_time": "2022-06-22T09:00:36.303Z"
   },
   {
    "duration": 4,
    "start_time": "2022-06-22T09:02:56.771Z"
   },
   {
    "duration": 18,
    "start_time": "2022-06-22T09:03:35.524Z"
   },
   {
    "duration": 13,
    "start_time": "2022-06-22T09:04:27.334Z"
   },
   {
    "duration": 123,
    "start_time": "2022-06-22T09:04:39.134Z"
   },
   {
    "duration": 1063,
    "start_time": "2022-06-22T09:04:44.912Z"
   },
   {
    "duration": 456,
    "start_time": "2022-06-22T09:04:45.977Z"
   },
   {
    "duration": 50,
    "start_time": "2022-06-22T09:04:46.435Z"
   },
   {
    "duration": 84,
    "start_time": "2022-06-22T09:04:46.486Z"
   },
   {
    "duration": 80,
    "start_time": "2022-06-22T09:04:46.572Z"
   },
   {
    "duration": 56,
    "start_time": "2022-06-22T09:04:46.655Z"
   },
   {
    "duration": 43,
    "start_time": "2022-06-22T09:04:46.714Z"
   },
   {
    "duration": 10,
    "start_time": "2022-06-22T09:04:46.759Z"
   },
   {
    "duration": 20,
    "start_time": "2022-06-22T09:04:46.772Z"
   },
   {
    "duration": 74,
    "start_time": "2022-06-22T09:04:46.796Z"
   },
   {
    "duration": 115,
    "start_time": "2022-06-22T09:04:46.872Z"
   },
   {
    "duration": 80,
    "start_time": "2022-06-22T09:04:46.988Z"
   },
   {
    "duration": 45,
    "start_time": "2022-06-22T09:04:47.070Z"
   },
   {
    "duration": 15,
    "start_time": "2022-06-22T09:04:47.116Z"
   },
   {
    "duration": 9,
    "start_time": "2022-06-22T09:04:47.133Z"
   },
   {
    "duration": 5,
    "start_time": "2022-06-22T09:04:47.144Z"
   },
   {
    "duration": 24,
    "start_time": "2022-06-22T09:04:47.150Z"
   },
   {
    "duration": 64,
    "start_time": "2022-06-22T09:04:47.175Z"
   },
   {
    "duration": 3,
    "start_time": "2022-06-22T09:04:47.241Z"
   },
   {
    "duration": 24,
    "start_time": "2022-06-22T09:04:47.245Z"
   },
   {
    "duration": 14,
    "start_time": "2022-06-22T09:04:47.270Z"
   },
   {
    "duration": 17,
    "start_time": "2022-06-22T09:04:47.285Z"
   },
   {
    "duration": 35,
    "start_time": "2022-06-22T09:04:47.303Z"
   },
   {
    "duration": 17,
    "start_time": "2022-06-22T09:04:47.340Z"
   },
   {
    "duration": 12,
    "start_time": "2022-06-22T09:04:47.358Z"
   },
   {
    "duration": 2,
    "start_time": "2022-06-22T09:04:47.371Z"
   },
   {
    "duration": 8,
    "start_time": "2022-06-22T09:04:47.374Z"
   },
   {
    "duration": 5,
    "start_time": "2022-06-22T09:04:47.384Z"
   },
   {
    "duration": 5,
    "start_time": "2022-06-22T09:04:47.391Z"
   },
   {
    "duration": 36,
    "start_time": "2022-06-22T09:04:47.398Z"
   },
   {
    "duration": 98,
    "start_time": "2022-06-22T09:04:47.436Z"
   },
   {
    "duration": 11,
    "start_time": "2022-06-22T09:04:53.286Z"
   },
   {
    "duration": 16,
    "start_time": "2022-06-22T09:05:18.004Z"
   },
   {
    "duration": 3,
    "start_time": "2022-06-22T09:05:42.673Z"
   },
   {
    "duration": 364,
    "start_time": "2022-06-22T09:05:42.678Z"
   },
   {
    "duration": 41,
    "start_time": "2022-06-22T09:05:43.043Z"
   },
   {
    "duration": 103,
    "start_time": "2022-06-22T09:05:43.085Z"
   },
   {
    "duration": 82,
    "start_time": "2022-06-22T09:05:43.191Z"
   },
   {
    "duration": 64,
    "start_time": "2022-06-22T09:05:43.275Z"
   },
   {
    "duration": 21,
    "start_time": "2022-06-22T09:05:43.341Z"
   },
   {
    "duration": 6,
    "start_time": "2022-06-22T09:05:43.364Z"
   },
   {
    "duration": 5,
    "start_time": "2022-06-22T09:05:43.372Z"
   },
   {
    "duration": 100,
    "start_time": "2022-06-22T09:05:43.378Z"
   },
   {
    "duration": 110,
    "start_time": "2022-06-22T09:05:43.480Z"
   },
   {
    "duration": 70,
    "start_time": "2022-06-22T09:05:43.592Z"
   },
   {
    "duration": 51,
    "start_time": "2022-06-22T09:05:43.667Z"
   },
   {
    "duration": 12,
    "start_time": "2022-06-22T09:05:43.720Z"
   },
   {
    "duration": 7,
    "start_time": "2022-06-22T09:05:43.734Z"
   },
   {
    "duration": 7,
    "start_time": "2022-06-22T09:05:43.743Z"
   },
   {
    "duration": 20,
    "start_time": "2022-06-22T09:05:43.751Z"
   },
   {
    "duration": 66,
    "start_time": "2022-06-22T09:05:43.773Z"
   },
   {
    "duration": 3,
    "start_time": "2022-06-22T09:05:43.841Z"
   },
   {
    "duration": 21,
    "start_time": "2022-06-22T09:05:43.845Z"
   },
   {
    "duration": 14,
    "start_time": "2022-06-22T09:05:43.868Z"
   },
   {
    "duration": 18,
    "start_time": "2022-06-22T09:05:43.884Z"
   },
   {
    "duration": 39,
    "start_time": "2022-06-22T09:05:43.903Z"
   },
   {
    "duration": 13,
    "start_time": "2022-06-22T09:05:43.944Z"
   },
   {
    "duration": 14,
    "start_time": "2022-06-22T09:05:43.958Z"
   },
   {
    "duration": 2,
    "start_time": "2022-06-22T09:05:43.974Z"
   },
   {
    "duration": 6,
    "start_time": "2022-06-22T09:05:43.978Z"
   },
   {
    "duration": 6,
    "start_time": "2022-06-22T09:05:43.986Z"
   },
   {
    "duration": 6,
    "start_time": "2022-06-22T09:05:43.994Z"
   },
   {
    "duration": 42,
    "start_time": "2022-06-22T09:05:44.001Z"
   },
   {
    "duration": 21,
    "start_time": "2022-06-22T09:05:49.187Z"
   },
   {
    "duration": 12,
    "start_time": "2022-06-22T09:05:52.234Z"
   },
   {
    "duration": 13,
    "start_time": "2022-06-22T09:05:58.730Z"
   },
   {
    "duration": 15,
    "start_time": "2022-06-22T09:06:03.482Z"
   },
   {
    "duration": 90,
    "start_time": "2022-06-22T09:17:27.662Z"
   },
   {
    "duration": 7,
    "start_time": "2022-06-22T09:18:19.965Z"
   },
   {
    "duration": 321,
    "start_time": "2022-06-22T09:21:07.453Z"
   },
   {
    "duration": 5,
    "start_time": "2022-06-22T09:22:05.739Z"
   },
   {
    "duration": 14,
    "start_time": "2022-06-22T09:22:11.354Z"
   },
   {
    "duration": 5,
    "start_time": "2022-06-22T09:24:48.932Z"
   },
   {
    "duration": 991,
    "start_time": "2022-06-22T09:25:19.827Z"
   },
   {
    "duration": 5,
    "start_time": "2022-06-22T09:26:07.209Z"
   },
   {
    "duration": 919,
    "start_time": "2022-06-22T09:26:08.858Z"
   },
   {
    "duration": 7,
    "start_time": "2022-06-22T09:26:28.936Z"
   },
   {
    "duration": 961,
    "start_time": "2022-06-22T09:26:31.096Z"
   },
   {
    "duration": 4,
    "start_time": "2022-06-22T09:27:47.219Z"
   },
   {
    "duration": 8,
    "start_time": "2022-06-22T09:27:53.845Z"
   },
   {
    "duration": 4,
    "start_time": "2022-06-22T09:28:06.565Z"
   },
   {
    "duration": 892,
    "start_time": "2022-06-22T09:28:08.149Z"
   },
   {
    "duration": 4,
    "start_time": "2022-06-22T09:28:25.218Z"
   },
   {
    "duration": 5,
    "start_time": "2022-06-22T09:28:39.227Z"
   },
   {
    "duration": 587,
    "start_time": "2022-06-22T09:29:35.649Z"
   },
   {
    "duration": 5,
    "start_time": "2022-06-22T09:29:41.297Z"
   },
   {
    "duration": 197,
    "start_time": "2022-06-22T09:29:42.408Z"
   },
   {
    "duration": 15,
    "start_time": "2022-06-22T09:29:46.752Z"
   },
   {
    "duration": 991,
    "start_time": "2022-06-22T09:31:49.272Z"
   },
   {
    "duration": 402,
    "start_time": "2022-06-22T09:31:50.265Z"
   },
   {
    "duration": 41,
    "start_time": "2022-06-22T09:31:50.668Z"
   },
   {
    "duration": 66,
    "start_time": "2022-06-22T09:31:50.711Z"
   },
   {
    "duration": 76,
    "start_time": "2022-06-22T09:31:50.778Z"
   },
   {
    "duration": 46,
    "start_time": "2022-06-22T09:31:50.856Z"
   },
   {
    "duration": 33,
    "start_time": "2022-06-22T09:31:50.903Z"
   },
   {
    "duration": 8,
    "start_time": "2022-06-22T09:31:50.937Z"
   },
   {
    "duration": 8,
    "start_time": "2022-06-22T09:31:50.946Z"
   },
   {
    "duration": 51,
    "start_time": "2022-06-22T09:31:50.957Z"
   },
   {
    "duration": 103,
    "start_time": "2022-06-22T09:31:51.028Z"
   },
   {
    "duration": 72,
    "start_time": "2022-06-22T09:31:51.133Z"
   },
   {
    "duration": 59,
    "start_time": "2022-06-22T09:31:51.207Z"
   },
   {
    "duration": 6,
    "start_time": "2022-06-22T09:31:51.268Z"
   },
   {
    "duration": 6,
    "start_time": "2022-06-22T09:31:51.275Z"
   },
   {
    "duration": 5,
    "start_time": "2022-06-22T09:31:51.282Z"
   },
   {
    "duration": 48,
    "start_time": "2022-06-22T09:31:51.289Z"
   },
   {
    "duration": 39,
    "start_time": "2022-06-22T09:31:51.338Z"
   },
   {
    "duration": 3,
    "start_time": "2022-06-22T09:31:51.379Z"
   },
   {
    "duration": 29,
    "start_time": "2022-06-22T09:31:51.383Z"
   },
   {
    "duration": 28,
    "start_time": "2022-06-22T09:31:51.414Z"
   },
   {
    "duration": 16,
    "start_time": "2022-06-22T09:31:51.443Z"
   },
   {
    "duration": 12,
    "start_time": "2022-06-22T09:31:51.460Z"
   },
   {
    "duration": 11,
    "start_time": "2022-06-22T09:31:51.474Z"
   },
   {
    "duration": 3,
    "start_time": "2022-06-22T09:31:51.486Z"
   },
   {
    "duration": 6,
    "start_time": "2022-06-22T09:31:51.490Z"
   },
   {
    "duration": 32,
    "start_time": "2022-06-22T09:31:51.497Z"
   },
   {
    "duration": 5,
    "start_time": "2022-06-22T09:31:51.532Z"
   },
   {
    "duration": 4,
    "start_time": "2022-06-22T09:31:51.539Z"
   },
   {
    "duration": 3,
    "start_time": "2022-06-22T09:31:51.545Z"
   },
   {
    "duration": 11,
    "start_time": "2022-06-22T09:31:51.550Z"
   },
   {
    "duration": 4,
    "start_time": "2022-06-22T09:31:51.563Z"
   },
   {
    "duration": 18,
    "start_time": "2022-06-22T09:31:51.569Z"
   },
   {
    "duration": 8,
    "start_time": "2022-06-22T09:31:51.589Z"
   },
   {
    "duration": 30,
    "start_time": "2022-06-22T09:31:51.599Z"
   },
   {
    "duration": 181,
    "start_time": "2022-06-22T09:31:51.630Z"
   },
   {
    "duration": 16,
    "start_time": "2022-06-22T09:31:55.096Z"
   },
   {
    "duration": 91,
    "start_time": "2022-06-22T09:39:46.220Z"
   },
   {
    "duration": 43,
    "start_time": "2022-06-22T09:40:40.450Z"
   },
   {
    "duration": 45,
    "start_time": "2022-06-22T09:40:50.091Z"
   },
   {
    "duration": 11,
    "start_time": "2022-06-22T09:44:17.465Z"
   },
   {
    "duration": 110,
    "start_time": "2022-06-22T09:48:16.825Z"
   },
   {
    "duration": 47,
    "start_time": "2022-06-22T12:14:16.370Z"
   },
   {
    "duration": 1239,
    "start_time": "2022-06-22T12:14:22.987Z"
   },
   {
    "duration": 935,
    "start_time": "2022-06-22T12:14:24.229Z"
   },
   {
    "duration": 51,
    "start_time": "2022-06-22T12:14:25.166Z"
   },
   {
    "duration": 106,
    "start_time": "2022-06-22T12:14:25.219Z"
   },
   {
    "duration": 94,
    "start_time": "2022-06-22T12:14:25.327Z"
   },
   {
    "duration": 58,
    "start_time": "2022-06-22T12:14:25.423Z"
   },
   {
    "duration": 22,
    "start_time": "2022-06-22T12:14:25.482Z"
   },
   {
    "duration": 10,
    "start_time": "2022-06-22T12:14:25.506Z"
   },
   {
    "duration": 5,
    "start_time": "2022-06-22T12:14:25.517Z"
   },
   {
    "duration": 89,
    "start_time": "2022-06-22T12:14:25.526Z"
   },
   {
    "duration": 114,
    "start_time": "2022-06-22T12:14:25.617Z"
   },
   {
    "duration": 86,
    "start_time": "2022-06-22T12:14:25.733Z"
   },
   {
    "duration": 62,
    "start_time": "2022-06-22T12:14:25.820Z"
   },
   {
    "duration": 5,
    "start_time": "2022-06-22T12:14:25.883Z"
   },
   {
    "duration": 7,
    "start_time": "2022-06-22T12:14:25.890Z"
   },
   {
    "duration": 8,
    "start_time": "2022-06-22T12:14:25.899Z"
   },
   {
    "duration": 30,
    "start_time": "2022-06-22T12:14:25.909Z"
   },
   {
    "duration": 60,
    "start_time": "2022-06-22T12:14:25.941Z"
   },
   {
    "duration": 3,
    "start_time": "2022-06-22T12:14:26.003Z"
   },
   {
    "duration": 28,
    "start_time": "2022-06-22T12:14:26.009Z"
   },
   {
    "duration": 31,
    "start_time": "2022-06-22T12:14:26.039Z"
   },
   {
    "duration": 19,
    "start_time": "2022-06-22T12:14:26.072Z"
   },
   {
    "duration": 13,
    "start_time": "2022-06-22T12:14:26.093Z"
   },
   {
    "duration": 18,
    "start_time": "2022-06-22T12:14:26.108Z"
   },
   {
    "duration": 2,
    "start_time": "2022-06-22T12:14:26.128Z"
   },
   {
    "duration": 8,
    "start_time": "2022-06-22T12:14:26.132Z"
   },
   {
    "duration": 28,
    "start_time": "2022-06-22T12:14:26.142Z"
   },
   {
    "duration": 5,
    "start_time": "2022-06-22T12:14:26.173Z"
   },
   {
    "duration": 5,
    "start_time": "2022-06-22T12:14:26.179Z"
   },
   {
    "duration": 10,
    "start_time": "2022-06-22T12:14:26.185Z"
   },
   {
    "duration": 11,
    "start_time": "2022-06-22T12:14:26.197Z"
   },
   {
    "duration": 9,
    "start_time": "2022-06-22T12:14:26.209Z"
   },
   {
    "duration": 16,
    "start_time": "2022-06-22T12:14:26.220Z"
   },
   {
    "duration": 9,
    "start_time": "2022-06-22T12:14:26.238Z"
   },
   {
    "duration": 215,
    "start_time": "2022-06-22T12:14:26.248Z"
   },
   {
    "duration": 20,
    "start_time": "2022-06-22T12:14:26.467Z"
   },
   {
    "duration": 94,
    "start_time": "2022-06-22T12:14:30.118Z"
   },
   {
    "duration": 7,
    "start_time": "2022-06-22T12:14:35.792Z"
   },
   {
    "duration": 17,
    "start_time": "2022-06-22T12:14:41.590Z"
   },
   {
    "duration": 15,
    "start_time": "2022-06-22T12:14:48.119Z"
   },
   {
    "duration": 76,
    "start_time": "2022-06-22T12:22:32.636Z"
   },
   {
    "duration": 59,
    "start_time": "2022-06-22T12:22:58.300Z"
   },
   {
    "duration": 11,
    "start_time": "2022-06-22T12:23:04.219Z"
   },
   {
    "duration": 25,
    "start_time": "2022-06-22T12:23:21.594Z"
   },
   {
    "duration": 4,
    "start_time": "2022-06-22T12:28:13.949Z"
   },
   {
    "duration": 14,
    "start_time": "2022-06-22T12:31:35.030Z"
   },
   {
    "duration": 666,
    "start_time": "2022-06-22T12:31:56.964Z"
   },
   {
    "duration": 1045,
    "start_time": "2022-06-22T12:32:04.988Z"
   },
   {
    "duration": 18,
    "start_time": "2022-06-22T12:32:24.044Z"
   },
   {
    "duration": 29,
    "start_time": "2022-06-22T12:32:37.563Z"
   },
   {
    "duration": 22,
    "start_time": "2022-06-22T12:33:05.898Z"
   },
   {
    "duration": 19,
    "start_time": "2022-06-22T12:34:54.870Z"
   },
   {
    "duration": 29,
    "start_time": "2022-06-22T12:36:35.618Z"
   },
   {
    "duration": 28,
    "start_time": "2022-06-22T12:36:51.585Z"
   },
   {
    "duration": 27,
    "start_time": "2022-06-22T12:38:19.670Z"
   },
   {
    "duration": 22,
    "start_time": "2022-06-22T12:40:16.659Z"
   },
   {
    "duration": 15,
    "start_time": "2022-06-22T12:41:27.366Z"
   },
   {
    "duration": 20,
    "start_time": "2022-06-22T12:42:50.083Z"
   },
   {
    "duration": 20,
    "start_time": "2022-06-22T12:43:34.184Z"
   },
   {
    "duration": 11,
    "start_time": "2022-06-22T12:43:45.784Z"
   },
   {
    "duration": 13,
    "start_time": "2022-06-22T12:43:58.416Z"
   },
   {
    "duration": 11,
    "start_time": "2022-06-22T12:44:16.926Z"
   },
   {
    "duration": 26,
    "start_time": "2022-06-22T12:44:51.965Z"
   },
   {
    "duration": 19,
    "start_time": "2022-06-22T12:45:10.724Z"
   },
   {
    "duration": 15,
    "start_time": "2022-06-22T12:46:37.098Z"
   },
   {
    "duration": 9,
    "start_time": "2022-06-22T12:46:40.729Z"
   },
   {
    "duration": 7,
    "start_time": "2022-06-22T12:46:49.600Z"
   },
   {
    "duration": 8,
    "start_time": "2022-06-22T12:46:57.344Z"
   },
   {
    "duration": 27,
    "start_time": "2022-06-22T12:51:23.701Z"
   },
   {
    "duration": 165,
    "start_time": "2022-06-22T12:51:36.855Z"
   },
   {
    "duration": 158,
    "start_time": "2022-06-22T12:51:48.149Z"
   },
   {
    "duration": 18,
    "start_time": "2022-06-22T12:52:04.428Z"
   },
   {
    "duration": 151,
    "start_time": "2022-06-22T12:52:06.540Z"
   },
   {
    "duration": 176,
    "start_time": "2022-06-22T12:52:56.130Z"
   },
   {
    "duration": 156,
    "start_time": "2022-06-22T12:53:27.001Z"
   },
   {
    "duration": 174,
    "start_time": "2022-06-22T12:54:11.482Z"
   },
   {
    "duration": 260,
    "start_time": "2022-06-22T12:54:55.197Z"
   },
   {
    "duration": 1318,
    "start_time": "2022-06-22T12:55:05.908Z"
   },
   {
    "duration": 1417,
    "start_time": "2022-06-22T12:55:41.299Z"
   },
   {
    "duration": 1399,
    "start_time": "2022-06-22T12:56:04.402Z"
   },
   {
    "duration": 1470,
    "start_time": "2022-06-22T12:56:10.426Z"
   },
   {
    "duration": 147,
    "start_time": "2022-06-22T12:56:46.240Z"
   },
   {
    "duration": 1423,
    "start_time": "2022-06-22T12:57:25.191Z"
   },
   {
    "duration": 166,
    "start_time": "2022-06-22T13:00:05.185Z"
   },
   {
    "duration": 152,
    "start_time": "2022-06-22T13:00:26.984Z"
   },
   {
    "duration": 1403,
    "start_time": "2022-06-22T13:00:29.986Z"
   },
   {
    "duration": 17,
    "start_time": "2022-06-22T13:09:27.026Z"
   },
   {
    "duration": 6,
    "start_time": "2022-06-22T13:14:14.689Z"
   },
   {
    "duration": 6,
    "start_time": "2022-06-22T13:14:58.221Z"
   },
   {
    "duration": 6,
    "start_time": "2022-06-22T13:55:28.137Z"
   },
   {
    "duration": 5,
    "start_time": "2022-06-22T13:55:44.556Z"
   },
   {
    "duration": 49,
    "start_time": "2022-06-22T13:59:32.211Z"
   },
   {
    "duration": 8,
    "start_time": "2022-06-22T13:59:51.114Z"
   },
   {
    "duration": 62,
    "start_time": "2022-06-22T14:03:06.635Z"
   },
   {
    "duration": 10,
    "start_time": "2022-06-22T14:06:12.774Z"
   },
   {
    "duration": 3,
    "start_time": "2022-06-22T14:06:17.982Z"
   },
   {
    "duration": 5,
    "start_time": "2022-06-22T14:06:22.290Z"
   },
   {
    "duration": 20,
    "start_time": "2022-06-22T14:07:31.872Z"
   },
   {
    "duration": 20,
    "start_time": "2022-06-22T14:08:00.799Z"
   },
   {
    "duration": 8,
    "start_time": "2022-06-22T14:09:26.804Z"
   },
   {
    "duration": 1145,
    "start_time": "2022-06-23T15:44:53.167Z"
   },
   {
    "duration": 559,
    "start_time": "2022-06-23T15:44:54.315Z"
   },
   {
    "duration": 48,
    "start_time": "2022-06-23T15:44:54.876Z"
   },
   {
    "duration": 120,
    "start_time": "2022-06-23T15:44:54.926Z"
   },
   {
    "duration": 98,
    "start_time": "2022-06-23T15:44:55.048Z"
   },
   {
    "duration": 51,
    "start_time": "2022-06-23T15:44:55.148Z"
   },
   {
    "duration": 44,
    "start_time": "2022-06-23T15:44:55.201Z"
   },
   {
    "duration": 7,
    "start_time": "2022-06-23T15:44:55.246Z"
   },
   {
    "duration": 9,
    "start_time": "2022-06-23T15:44:55.255Z"
   },
   {
    "duration": 98,
    "start_time": "2022-06-23T15:44:55.267Z"
   },
   {
    "duration": 117,
    "start_time": "2022-06-23T15:44:55.366Z"
   },
   {
    "duration": 93,
    "start_time": "2022-06-23T15:44:55.485Z"
   },
   {
    "duration": 61,
    "start_time": "2022-06-23T15:44:55.580Z"
   },
   {
    "duration": 5,
    "start_time": "2022-06-23T15:44:55.643Z"
   },
   {
    "duration": 5,
    "start_time": "2022-06-23T15:44:55.650Z"
   },
   {
    "duration": 10,
    "start_time": "2022-06-23T15:44:55.657Z"
   },
   {
    "duration": 24,
    "start_time": "2022-06-23T15:44:55.668Z"
   },
   {
    "duration": 74,
    "start_time": "2022-06-23T15:44:55.694Z"
   },
   {
    "duration": 3,
    "start_time": "2022-06-23T15:44:55.770Z"
   },
   {
    "duration": 29,
    "start_time": "2022-06-23T15:44:55.774Z"
   },
   {
    "duration": 34,
    "start_time": "2022-06-23T15:44:55.805Z"
   },
   {
    "duration": 21,
    "start_time": "2022-06-23T15:44:55.842Z"
   },
   {
    "duration": 15,
    "start_time": "2022-06-23T15:44:55.865Z"
   },
   {
    "duration": 17,
    "start_time": "2022-06-23T15:44:55.881Z"
   },
   {
    "duration": 3,
    "start_time": "2022-06-23T15:44:55.900Z"
   },
   {
    "duration": 23,
    "start_time": "2022-06-23T15:44:55.905Z"
   },
   {
    "duration": 19,
    "start_time": "2022-06-23T15:44:55.931Z"
   },
   {
    "duration": 14,
    "start_time": "2022-06-23T15:44:55.954Z"
   },
   {
    "duration": 7,
    "start_time": "2022-06-23T15:44:55.969Z"
   },
   {
    "duration": 12,
    "start_time": "2022-06-23T15:44:55.978Z"
   },
   {
    "duration": 20,
    "start_time": "2022-06-23T15:44:55.991Z"
   },
   {
    "duration": 9,
    "start_time": "2022-06-23T15:44:56.012Z"
   },
   {
    "duration": 27,
    "start_time": "2022-06-23T15:44:56.023Z"
   },
   {
    "duration": 5,
    "start_time": "2022-06-23T15:44:56.051Z"
   },
   {
    "duration": 226,
    "start_time": "2022-06-23T15:44:56.058Z"
   },
   {
    "duration": 17,
    "start_time": "2022-06-23T15:44:56.285Z"
   },
   {
    "duration": 15,
    "start_time": "2022-06-23T15:44:56.303Z"
   },
   {
    "duration": 172,
    "start_time": "2022-06-23T15:44:56.320Z"
   },
   {
    "duration": 178,
    "start_time": "2022-06-23T15:44:56.494Z"
   },
   {
    "duration": 1312,
    "start_time": "2022-06-23T15:44:56.674Z"
   },
   {
    "duration": 7,
    "start_time": "2022-06-23T15:44:57.988Z"
   },
   {
    "duration": 9,
    "start_time": "2022-06-23T15:44:57.997Z"
   },
   {
    "duration": 41,
    "start_time": "2022-06-23T15:44:58.008Z"
   },
   {
    "duration": 19,
    "start_time": "2022-06-23T15:44:58.050Z"
   },
   {
    "duration": 19,
    "start_time": "2022-06-23T15:44:58.071Z"
   },
   {
    "duration": 12,
    "start_time": "2022-06-23T15:46:43.347Z"
   }
  ],
  "kernelspec": {
   "display_name": "Python 3.10.4 64-bit",
   "language": "python",
   "name": "python3"
  },
  "language_info": {
   "codemirror_mode": {
    "name": "ipython",
    "version": 3
   },
   "file_extension": ".py",
   "mimetype": "text/x-python",
   "name": "python",
   "nbconvert_exporter": "python",
   "pygments_lexer": "ipython3",
   "version": "3.10.4 (tags/v3.10.4:9d38120, Mar 23 2022, 23:13:41) [MSC v.1929 64 bit (AMD64)]"
  },
  "toc": {
   "base_numbering": 1,
   "nav_menu": {},
   "number_sections": true,
   "sideBar": true,
   "skip_h1_title": true,
   "title_cell": "Содержание",
   "title_sidebar": "Contents",
   "toc_cell": true,
   "toc_position": {},
   "toc_section_display": true,
   "toc_window_display": false
  },
  "vscode": {
   "interpreter": {
    "hash": "2469a70536e4d2335a2ea8907942d0699c37342a371ac185bdb5b0aa6f073890"
   }
  }
 },
 "nbformat": 4,
 "nbformat_minor": 2
}
