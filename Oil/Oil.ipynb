{
 "cells": [
  {
   "cell_type": "markdown",
   "metadata": {
    "toc": true
   },
   "source": [
    "<h1>Содержание<span class=\"tocSkip\"></span></h1>\n",
    "<div class=\"toc\"><ul class=\"toc-item\"><li><span><a href=\"#Описание-проекта\" data-toc-modified-id=\"Описание-проекта-1\"><span class=\"toc-item-num\">1&nbsp;&nbsp;</span>Описание проекта</a></span></li><li><span><a href=\"#Загрузка-и-подготовка-данных\" data-toc-modified-id=\"Загрузка-и-подготовка-данных-2\"><span class=\"toc-item-num\">2&nbsp;&nbsp;</span>Загрузка и подготовка данных</a></span><ul class=\"toc-item\"><li><span><a href=\"#Выгрузка\" data-toc-modified-id=\"Выгрузка-2.1\"><span class=\"toc-item-num\">2.1&nbsp;&nbsp;</span>Выгрузка</a></span></li><li><span><a href=\"#Подготовка\" data-toc-modified-id=\"Подготовка-2.2\"><span class=\"toc-item-num\">2.2&nbsp;&nbsp;</span>Подготовка</a></span></li><li><span><a href=\"#Вывод\" data-toc-modified-id=\"Вывод-2.3\"><span class=\"toc-item-num\">2.3&nbsp;&nbsp;</span>Вывод</a></span></li></ul></li><li><span><a href=\"#Обучение-и-проверка-модели\" data-toc-modified-id=\"Обучение-и-проверка-модели-3\"><span class=\"toc-item-num\">3&nbsp;&nbsp;</span>Обучение и проверка модели</a></span><ul class=\"toc-item\"><li><span><a href=\"#Вывод\" data-toc-modified-id=\"Вывод-3.1\"><span class=\"toc-item-num\">3.1&nbsp;&nbsp;</span>Вывод</a></span></li></ul></li><li><span><a href=\"#Подготовка-к-расчёту-прибыли\" data-toc-modified-id=\"Подготовка-к-расчёту-прибыли-4\"><span class=\"toc-item-num\">4&nbsp;&nbsp;</span>Подготовка к расчёту прибыли</a></span><ul class=\"toc-item\"><li><span><a href=\"#Вывод\" data-toc-modified-id=\"Вывод-4.1\"><span class=\"toc-item-num\">4.1&nbsp;&nbsp;</span>Вывод</a></span></li></ul></li><li><span><a href=\"#Расчёт-прибыли-и-рисков\" data-toc-modified-id=\"Расчёт-прибыли-и-рисков-5\"><span class=\"toc-item-num\">5&nbsp;&nbsp;</span>Расчёт прибыли и рисков</a></span><ul class=\"toc-item\"><li><span><a href=\"#Вывод\" data-toc-modified-id=\"Вывод-5.1\"><span class=\"toc-item-num\">5.1&nbsp;&nbsp;</span>Вывод</a></span></li></ul></li><li><span><a href=\"#Чек-лист-готовности-проекта\" data-toc-modified-id=\"Чек-лист-готовности-проекта-6\"><span class=\"toc-item-num\">6&nbsp;&nbsp;</span>Чек-лист готовности проекта</a></span></li></ul></div>"
   ]
  },
  {
   "cell_type": "markdown",
   "metadata": {},
   "source": [
    "## Описание проекта"
   ]
  },
  {
   "cell_type": "markdown",
   "metadata": {},
   "source": [
    "**Выбор локации для скважины**"
   ]
  },
  {
   "cell_type": "markdown",
   "metadata": {},
   "source": [
    "Допустим, вы работаете в добывающей компании «ГлавРосГосНефть». Нужно решить, где бурить новую скважину.\n",
    "\n",
    "Вам предоставлены пробы нефти в трёх регионах: в каждом 10 000 месторождений, где измерили качество нефти и объём её запасов. Постройте модель машинного обучения, которая поможет определить регион, где добыча принесёт наибольшую прибыль. Проанализируйте возможную прибыль и риски техникой *Bootstrap.*\n",
    "\n",
    "Шаги для выбора локации:\n",
    "\n",
    "- В избранном регионе ищут месторождения, для каждого определяют значения признаков;\n",
    "- Строят модель и оценивают объём запасов;\n",
    "- Выбирают месторождения с самым высокими оценками значений. Количество месторождений зависит от бюджета компании и стоимости разработки одной скважины;\n",
    "- Прибыль равна суммарной прибыли отобранных месторождений."
   ]
  },
  {
   "cell_type": "markdown",
   "metadata": {},
   "source": [
    "**Описание данных**  \n",
    " - id — уникальный идентификатор скважины;\n",
    " - f0, f1, f2 — три признака точек (неважно, что они означают, но сами признаки значимы);\n",
    " - product — объём запасов в скважине (тыс. баррелей)."
   ]
  },
  {
   "cell_type": "markdown",
   "metadata": {},
   "source": [
    "<div class=\"alert alert-success\">\n",
    "<h2> Комментарий ревьюера <a class=\"tocSkip\"> </h2>\n",
    "\n",
    "<b>Все отлично!👍:</b> Прекрасное вступление!\n",
    "    \n",
    "В нём есть всё, что необходимо, чтобы понять суть проекта с первых строк отчёта!\n",
    "    \n",
    "Спасибо, что есть оглавление в плагине toc - по проекту удобно перемещаться:)"
   ]
  },
  {
   "cell_type": "markdown",
   "metadata": {},
   "source": [
    "## Загрузка и подготовка данных"
   ]
  },
  {
   "cell_type": "markdown",
   "metadata": {},
   "source": [
    "### Выгрузка "
   ]
  },
  {
   "cell_type": "code",
   "execution_count": 1,
   "metadata": {},
   "outputs": [],
   "source": [
    "import pandas as pd\n",
    "from sklearn.linear_model import LinearRegression\n",
    "from sklearn.model_selection import GridSearchCV\n",
    "from sklearn.model_selection import train_test_split\n",
    "import warnings\n",
    "from sklearn.preprocessing import StandardScaler \n",
    "from sklearn.metrics import mean_squared_error\n",
    "import numpy as np\n",
    "import matplotlib.pyplot as plt"
   ]
  },
  {
   "cell_type": "markdown",
   "metadata": {},
   "source": [
    "Переменные которые пригодятся при расчетах"
   ]
  },
  {
   "cell_type": "code",
   "execution_count": 2,
   "metadata": {},
   "outputs": [],
   "source": [
    "BUDGET = 10000000000\n",
    "COST_PER_WELL = 450000\n",
    "COUNT_WELL = 500\n",
    "BEST_COUNT_WELL = 200\n",
    "SCALE = 1000000\n",
    "STATE = 46812"
   ]
  },
  {
   "cell_type": "markdown",
   "metadata": {},
   "source": [
    "<div class=\"alert alert-success\">\n",
    "<h2> Комментарий ревьюера <a class=\"tocSkip\"> </h2>\n",
    "\n",
    "<b>Все отлично!👍:</b> Библиотеки импортировали - отлично!\n",
    "</div>"
   ]
  },
  {
   "cell_type": "markdown",
   "metadata": {},
   "source": [
    "<div class=\"alert alert-warning\">\n",
    "    <h2> Комментарий ревьюера <a class=\"tocSkip\"> </h2>\n",
    "    \n",
    "<b>Некоторые замечания и рекомендации⚠️:</b> \n",
    "\n",
    "Я вижу, исполнение твоего кода начинается в ячейке с номером, который отличается от единицы. Перед отправкой проекта стоит проверять работоспособность кода — это можно сделать, нажав на панели Jupiter Hub ``Kernel`` и ``Restart & Run All`` (см скриншот ниже).\n",
    "\n",
    "![](https://i.postimg.cc/yd19rYf6/Screenshot-428.png)\n",
    "        \n",
    "Такая проверка поможет тебе убедиться, что твоё решение будет должным образом воспроизведено во время ревью или во время передачи его заказчику - это очень важный этап, пренебрегать которым не стоит:)\n",
    "        \n",
    "В рамках ревью я перезапустил ядро на своей стороне для проверки воспроизводимости решения, но на будущее, пожалуйста, не забывай про это:)\n",
    "        \n",
    "</div>"
   ]
  },
  {
   "cell_type": "markdown",
   "metadata": {},
   "source": [
    "<div class=\"alert alert-success\">\n",
    "<h2> Комментарий ревьюера v.2 <a class=\"tocSkip\"> </h2>\n",
    "\n",
    "<b>Все отлично!👍</b> \n",
    "    \n",
    "Учтено!\n",
    "</div>"
   ]
  },
  {
   "cell_type": "markdown",
   "metadata": {},
   "source": [
    "Загружаем данные и посмотрим на них"
   ]
  },
  {
   "cell_type": "code",
   "execution_count": 3,
   "metadata": {},
   "outputs": [],
   "source": [
    "df_1 = pd.read_csv(\"/datasets/geo_data_0.csv\")\n",
    "df_2 = pd.read_csv(\"/datasets/geo_data_1.csv\")\n",
    "df_3 = pd.read_csv(\"/datasets/geo_data_2.csv\")"
   ]
  },
  {
   "cell_type": "markdown",
   "metadata": {},
   "source": [
    "<div class=\"alert alert-success\">\n",
    "<h2> Комментарий ревьюера <a class=\"tocSkip\"> </h2>\n",
    "\n",
    "<b>Все отлично!👍</b> \n",
    "    \n",
    "Данные подгрузили.\n",
    "    \n",
    "При считывании данных из файла здорово перестраховывать себя от ошибок, связанных, например, с неверным указанием пути к файлу. А иногда бывает, что работаешь с файлом локально, выгружаешь его на сервер, ожидая, что он будет принимать данные, которые лежат на том же сервере, а код падает с ошибкой, потому что путь к файлу не поменялся с локального на серверный.\n",
    "    \n",
    "Для этого, например, можно использовать конструкцию `try-except`: сначала пробуешь локальный путь, при возникновении ошибки используется серверный путь (подробнее можешь почитать тут: https://pythonworld.ru/tipy-dannyx-v-python/isklyucheniya-v-python-konstrukciya-try-except-dlya-obrabotki-isklyuchenij.html).\n",
    "    \n",
    "Но еще лучше использовать библиотеку `os` - её использование позволит тебе отойти от прописывания путей к файлу (а локальные директории могут меняться часто в зависимости от пользователя) и перейти к автоматическому определению пути к файлу с помощью модуля `path`. Как пример:\n",
    "    \n",
    "    import os\n",
    "\n",
    "    pth1 = '/folder_1/data.csv'\n",
    "    pth2 = '/folder_2/data.csv'\n",
    "    \n",
    "    if os.path.exists(pth1):\n",
    "        query_1 = pd.read_csv(pth1)\n",
    "    elif os.path.exists(pth2):\n",
    "        query_1 = pd.read_csv(pth2)\n",
    "    else:\n",
    "        print('Something is wrong')\n",
    "    \n",
    "В нём мы указываем только непосредственно директорию с файлом, а уже путь к ней модуль `path` определит самостоятельно.\n",
    "</div>"
   ]
  },
  {
   "cell_type": "code",
   "execution_count": 4,
   "metadata": {},
   "outputs": [
    {
     "name": "stdout",
     "output_type": "stream",
     "text": [
      "<class 'pandas.core.frame.DataFrame'>\n",
      "RangeIndex: 100000 entries, 0 to 99999\n",
      "Data columns (total 5 columns):\n",
      " #   Column   Non-Null Count   Dtype  \n",
      "---  ------   --------------   -----  \n",
      " 0   id       100000 non-null  object \n",
      " 1   f0       100000 non-null  float64\n",
      " 2   f1       100000 non-null  float64\n",
      " 3   f2       100000 non-null  float64\n",
      " 4   product  100000 non-null  float64\n",
      "dtypes: float64(4), object(1)\n",
      "memory usage: 3.8+ MB\n"
     ]
    },
    {
     "data": {
      "text/plain": [
       "None"
      ]
     },
     "metadata": {},
     "output_type": "display_data"
    },
    {
     "data": {
      "text/html": [
       "<div>\n",
       "<style scoped>\n",
       "    .dataframe tbody tr th:only-of-type {\n",
       "        vertical-align: middle;\n",
       "    }\n",
       "\n",
       "    .dataframe tbody tr th {\n",
       "        vertical-align: top;\n",
       "    }\n",
       "\n",
       "    .dataframe thead th {\n",
       "        text-align: right;\n",
       "    }\n",
       "</style>\n",
       "<table border=\"1\" class=\"dataframe\">\n",
       "  <thead>\n",
       "    <tr style=\"text-align: right;\">\n",
       "      <th></th>\n",
       "      <th>id</th>\n",
       "      <th>f0</th>\n",
       "      <th>f1</th>\n",
       "      <th>f2</th>\n",
       "      <th>product</th>\n",
       "    </tr>\n",
       "  </thead>\n",
       "  <tbody>\n",
       "    <tr>\n",
       "      <th>53865</th>\n",
       "      <td>ow0ht</td>\n",
       "      <td>0.722931</td>\n",
       "      <td>0.597966</td>\n",
       "      <td>-1.866162</td>\n",
       "      <td>81.430994</td>\n",
       "    </tr>\n",
       "    <tr>\n",
       "      <th>42988</th>\n",
       "      <td>QxTYb</td>\n",
       "      <td>1.933473</td>\n",
       "      <td>0.406093</td>\n",
       "      <td>6.268289</td>\n",
       "      <td>142.993312</td>\n",
       "    </tr>\n",
       "    <tr>\n",
       "      <th>52255</th>\n",
       "      <td>aQ8mh</td>\n",
       "      <td>0.518534</td>\n",
       "      <td>0.883576</td>\n",
       "      <td>1.661044</td>\n",
       "      <td>113.642224</td>\n",
       "    </tr>\n",
       "    <tr>\n",
       "      <th>66304</th>\n",
       "      <td>lTQTw</td>\n",
       "      <td>-0.224591</td>\n",
       "      <td>0.926484</td>\n",
       "      <td>3.430363</td>\n",
       "      <td>40.647453</td>\n",
       "    </tr>\n",
       "    <tr>\n",
       "      <th>60149</th>\n",
       "      <td>IpaLd</td>\n",
       "      <td>-0.975329</td>\n",
       "      <td>0.203362</td>\n",
       "      <td>-1.196341</td>\n",
       "      <td>26.770577</td>\n",
       "    </tr>\n",
       "    <tr>\n",
       "      <th>4576</th>\n",
       "      <td>xFDLR</td>\n",
       "      <td>0.275328</td>\n",
       "      <td>-0.223530</td>\n",
       "      <td>6.798409</td>\n",
       "      <td>163.170477</td>\n",
       "    </tr>\n",
       "    <tr>\n",
       "      <th>29265</th>\n",
       "      <td>tCiFT</td>\n",
       "      <td>0.214123</td>\n",
       "      <td>0.075463</td>\n",
       "      <td>3.781904</td>\n",
       "      <td>89.439517</td>\n",
       "    </tr>\n",
       "    <tr>\n",
       "      <th>10111</th>\n",
       "      <td>07MPJ</td>\n",
       "      <td>-0.877888</td>\n",
       "      <td>0.642304</td>\n",
       "      <td>-2.371227</td>\n",
       "      <td>33.229880</td>\n",
       "    </tr>\n",
       "    <tr>\n",
       "      <th>14621</th>\n",
       "      <td>fRb9r</td>\n",
       "      <td>0.532866</td>\n",
       "      <td>-0.555283</td>\n",
       "      <td>-0.772725</td>\n",
       "      <td>134.291717</td>\n",
       "    </tr>\n",
       "    <tr>\n",
       "      <th>83702</th>\n",
       "      <td>uPJAO</td>\n",
       "      <td>0.657665</td>\n",
       "      <td>-0.594009</td>\n",
       "      <td>-2.677424</td>\n",
       "      <td>57.111722</td>\n",
       "    </tr>\n",
       "  </tbody>\n",
       "</table>\n",
       "</div>"
      ],
      "text/plain": [
       "          id        f0        f1        f2     product\n",
       "53865  ow0ht  0.722931  0.597966 -1.866162   81.430994\n",
       "42988  QxTYb  1.933473  0.406093  6.268289  142.993312\n",
       "52255  aQ8mh  0.518534  0.883576  1.661044  113.642224\n",
       "66304  lTQTw -0.224591  0.926484  3.430363   40.647453\n",
       "60149  IpaLd -0.975329  0.203362 -1.196341   26.770577\n",
       "4576   xFDLR  0.275328 -0.223530  6.798409  163.170477\n",
       "29265  tCiFT  0.214123  0.075463  3.781904   89.439517\n",
       "10111  07MPJ -0.877888  0.642304 -2.371227   33.229880\n",
       "14621  fRb9r  0.532866 -0.555283 -0.772725  134.291717\n",
       "83702  uPJAO  0.657665 -0.594009 -2.677424   57.111722"
      ]
     },
     "execution_count": 4,
     "metadata": {},
     "output_type": "execute_result"
    }
   ],
   "source": [
    "display(df_1.info())\n",
    "df_1.sample(10)"
   ]
  },
  {
   "cell_type": "code",
   "execution_count": 5,
   "metadata": {},
   "outputs": [
    {
     "name": "stdout",
     "output_type": "stream",
     "text": [
      "<class 'pandas.core.frame.DataFrame'>\n",
      "RangeIndex: 100000 entries, 0 to 99999\n",
      "Data columns (total 5 columns):\n",
      " #   Column   Non-Null Count   Dtype  \n",
      "---  ------   --------------   -----  \n",
      " 0   id       100000 non-null  object \n",
      " 1   f0       100000 non-null  float64\n",
      " 2   f1       100000 non-null  float64\n",
      " 3   f2       100000 non-null  float64\n",
      " 4   product  100000 non-null  float64\n",
      "dtypes: float64(4), object(1)\n",
      "memory usage: 3.8+ MB\n"
     ]
    },
    {
     "data": {
      "text/plain": [
       "None"
      ]
     },
     "metadata": {},
     "output_type": "display_data"
    },
    {
     "data": {
      "text/html": [
       "<div>\n",
       "<style scoped>\n",
       "    .dataframe tbody tr th:only-of-type {\n",
       "        vertical-align: middle;\n",
       "    }\n",
       "\n",
       "    .dataframe tbody tr th {\n",
       "        vertical-align: top;\n",
       "    }\n",
       "\n",
       "    .dataframe thead th {\n",
       "        text-align: right;\n",
       "    }\n",
       "</style>\n",
       "<table border=\"1\" class=\"dataframe\">\n",
       "  <thead>\n",
       "    <tr style=\"text-align: right;\">\n",
       "      <th></th>\n",
       "      <th>id</th>\n",
       "      <th>f0</th>\n",
       "      <th>f1</th>\n",
       "      <th>f2</th>\n",
       "      <th>product</th>\n",
       "    </tr>\n",
       "  </thead>\n",
       "  <tbody>\n",
       "    <tr>\n",
       "      <th>13941</th>\n",
       "      <td>eW9rS</td>\n",
       "      <td>5.285080</td>\n",
       "      <td>-4.746408</td>\n",
       "      <td>5.009535</td>\n",
       "      <td>134.766305</td>\n",
       "    </tr>\n",
       "    <tr>\n",
       "      <th>42807</th>\n",
       "      <td>RpleZ</td>\n",
       "      <td>10.184731</td>\n",
       "      <td>4.864445</td>\n",
       "      <td>2.002105</td>\n",
       "      <td>53.906522</td>\n",
       "    </tr>\n",
       "    <tr>\n",
       "      <th>94416</th>\n",
       "      <td>kFqeE</td>\n",
       "      <td>-3.766118</td>\n",
       "      <td>-5.876031</td>\n",
       "      <td>2.001118</td>\n",
       "      <td>57.085625</td>\n",
       "    </tr>\n",
       "    <tr>\n",
       "      <th>27563</th>\n",
       "      <td>5MoTz</td>\n",
       "      <td>-10.178553</td>\n",
       "      <td>-8.361312</td>\n",
       "      <td>1.005797</td>\n",
       "      <td>30.132364</td>\n",
       "    </tr>\n",
       "    <tr>\n",
       "      <th>33691</th>\n",
       "      <td>Botli</td>\n",
       "      <td>16.461479</td>\n",
       "      <td>-5.461124</td>\n",
       "      <td>1.007467</td>\n",
       "      <td>26.953261</td>\n",
       "    </tr>\n",
       "    <tr>\n",
       "      <th>61904</th>\n",
       "      <td>9Trv6</td>\n",
       "      <td>4.804530</td>\n",
       "      <td>-0.846866</td>\n",
       "      <td>5.003852</td>\n",
       "      <td>134.766305</td>\n",
       "    </tr>\n",
       "    <tr>\n",
       "      <th>75089</th>\n",
       "      <td>XscRG</td>\n",
       "      <td>-2.526815</td>\n",
       "      <td>-5.384115</td>\n",
       "      <td>2.007274</td>\n",
       "      <td>57.085625</td>\n",
       "    </tr>\n",
       "    <tr>\n",
       "      <th>92092</th>\n",
       "      <td>cZZyf</td>\n",
       "      <td>1.788562</td>\n",
       "      <td>5.160559</td>\n",
       "      <td>3.997880</td>\n",
       "      <td>107.813044</td>\n",
       "    </tr>\n",
       "    <tr>\n",
       "      <th>3985</th>\n",
       "      <td>k4NE5</td>\n",
       "      <td>10.954069</td>\n",
       "      <td>-5.883128</td>\n",
       "      <td>5.005929</td>\n",
       "      <td>134.766305</td>\n",
       "    </tr>\n",
       "    <tr>\n",
       "      <th>94327</th>\n",
       "      <td>UjLWe</td>\n",
       "      <td>16.388319</td>\n",
       "      <td>-11.374945</td>\n",
       "      <td>1.002173</td>\n",
       "      <td>26.953261</td>\n",
       "    </tr>\n",
       "  </tbody>\n",
       "</table>\n",
       "</div>"
      ],
      "text/plain": [
       "          id         f0         f1        f2     product\n",
       "13941  eW9rS   5.285080  -4.746408  5.009535  134.766305\n",
       "42807  RpleZ  10.184731   4.864445  2.002105   53.906522\n",
       "94416  kFqeE  -3.766118  -5.876031  2.001118   57.085625\n",
       "27563  5MoTz -10.178553  -8.361312  1.005797   30.132364\n",
       "33691  Botli  16.461479  -5.461124  1.007467   26.953261\n",
       "61904  9Trv6   4.804530  -0.846866  5.003852  134.766305\n",
       "75089  XscRG  -2.526815  -5.384115  2.007274   57.085625\n",
       "92092  cZZyf   1.788562   5.160559  3.997880  107.813044\n",
       "3985   k4NE5  10.954069  -5.883128  5.005929  134.766305\n",
       "94327  UjLWe  16.388319 -11.374945  1.002173   26.953261"
      ]
     },
     "execution_count": 5,
     "metadata": {},
     "output_type": "execute_result"
    }
   ],
   "source": [
    "display(df_2.info())\n",
    "df_2.sample(10)"
   ]
  },
  {
   "cell_type": "code",
   "execution_count": 6,
   "metadata": {
    "scrolled": false
   },
   "outputs": [
    {
     "name": "stdout",
     "output_type": "stream",
     "text": [
      "<class 'pandas.core.frame.DataFrame'>\n",
      "RangeIndex: 100000 entries, 0 to 99999\n",
      "Data columns (total 5 columns):\n",
      " #   Column   Non-Null Count   Dtype  \n",
      "---  ------   --------------   -----  \n",
      " 0   id       100000 non-null  object \n",
      " 1   f0       100000 non-null  float64\n",
      " 2   f1       100000 non-null  float64\n",
      " 3   f2       100000 non-null  float64\n",
      " 4   product  100000 non-null  float64\n",
      "dtypes: float64(4), object(1)\n",
      "memory usage: 3.8+ MB\n"
     ]
    },
    {
     "data": {
      "text/plain": [
       "None"
      ]
     },
     "metadata": {},
     "output_type": "display_data"
    },
    {
     "data": {
      "text/html": [
       "<div>\n",
       "<style scoped>\n",
       "    .dataframe tbody tr th:only-of-type {\n",
       "        vertical-align: middle;\n",
       "    }\n",
       "\n",
       "    .dataframe tbody tr th {\n",
       "        vertical-align: top;\n",
       "    }\n",
       "\n",
       "    .dataframe thead th {\n",
       "        text-align: right;\n",
       "    }\n",
       "</style>\n",
       "<table border=\"1\" class=\"dataframe\">\n",
       "  <thead>\n",
       "    <tr style=\"text-align: right;\">\n",
       "      <th></th>\n",
       "      <th>id</th>\n",
       "      <th>f0</th>\n",
       "      <th>f1</th>\n",
       "      <th>f2</th>\n",
       "      <th>product</th>\n",
       "    </tr>\n",
       "  </thead>\n",
       "  <tbody>\n",
       "    <tr>\n",
       "      <th>95449</th>\n",
       "      <td>hoEx9</td>\n",
       "      <td>2.403211</td>\n",
       "      <td>-2.028414</td>\n",
       "      <td>5.665747</td>\n",
       "      <td>114.455205</td>\n",
       "    </tr>\n",
       "    <tr>\n",
       "      <th>89334</th>\n",
       "      <td>KXUQ5</td>\n",
       "      <td>-0.271104</td>\n",
       "      <td>-0.491727</td>\n",
       "      <td>4.340372</td>\n",
       "      <td>84.501475</td>\n",
       "    </tr>\n",
       "    <tr>\n",
       "      <th>64965</th>\n",
       "      <td>WSXge</td>\n",
       "      <td>1.159578</td>\n",
       "      <td>2.697677</td>\n",
       "      <td>1.518757</td>\n",
       "      <td>85.640048</td>\n",
       "    </tr>\n",
       "    <tr>\n",
       "      <th>27026</th>\n",
       "      <td>lJkwY</td>\n",
       "      <td>2.524366</td>\n",
       "      <td>5.137356</td>\n",
       "      <td>-1.944222</td>\n",
       "      <td>129.100945</td>\n",
       "    </tr>\n",
       "    <tr>\n",
       "      <th>37541</th>\n",
       "      <td>1jzck</td>\n",
       "      <td>-1.549485</td>\n",
       "      <td>-1.125568</td>\n",
       "      <td>7.925536</td>\n",
       "      <td>105.665699</td>\n",
       "    </tr>\n",
       "    <tr>\n",
       "      <th>23863</th>\n",
       "      <td>0c1fH</td>\n",
       "      <td>0.578429</td>\n",
       "      <td>0.668130</td>\n",
       "      <td>3.336047</td>\n",
       "      <td>159.960634</td>\n",
       "    </tr>\n",
       "    <tr>\n",
       "      <th>69654</th>\n",
       "      <td>zHbof</td>\n",
       "      <td>1.557621</td>\n",
       "      <td>-1.007747</td>\n",
       "      <td>-2.421276</td>\n",
       "      <td>18.259952</td>\n",
       "    </tr>\n",
       "    <tr>\n",
       "      <th>13901</th>\n",
       "      <td>6T81d</td>\n",
       "      <td>1.482910</td>\n",
       "      <td>-1.663030</td>\n",
       "      <td>4.600103</td>\n",
       "      <td>181.932186</td>\n",
       "    </tr>\n",
       "    <tr>\n",
       "      <th>62874</th>\n",
       "      <td>CYDjA</td>\n",
       "      <td>-2.500850</td>\n",
       "      <td>-2.020389</td>\n",
       "      <td>7.727112</td>\n",
       "      <td>133.706492</td>\n",
       "    </tr>\n",
       "    <tr>\n",
       "      <th>20519</th>\n",
       "      <td>4TNJ8</td>\n",
       "      <td>-0.589250</td>\n",
       "      <td>2.453988</td>\n",
       "      <td>4.605091</td>\n",
       "      <td>43.282118</td>\n",
       "    </tr>\n",
       "  </tbody>\n",
       "</table>\n",
       "</div>"
      ],
      "text/plain": [
       "          id        f0        f1        f2     product\n",
       "95449  hoEx9  2.403211 -2.028414  5.665747  114.455205\n",
       "89334  KXUQ5 -0.271104 -0.491727  4.340372   84.501475\n",
       "64965  WSXge  1.159578  2.697677  1.518757   85.640048\n",
       "27026  lJkwY  2.524366  5.137356 -1.944222  129.100945\n",
       "37541  1jzck -1.549485 -1.125568  7.925536  105.665699\n",
       "23863  0c1fH  0.578429  0.668130  3.336047  159.960634\n",
       "69654  zHbof  1.557621 -1.007747 -2.421276   18.259952\n",
       "13901  6T81d  1.482910 -1.663030  4.600103  181.932186\n",
       "62874  CYDjA -2.500850 -2.020389  7.727112  133.706492\n",
       "20519  4TNJ8 -0.589250  2.453988  4.605091   43.282118"
      ]
     },
     "execution_count": 6,
     "metadata": {},
     "output_type": "execute_result"
    }
   ],
   "source": [
    "display(df_3.info())\n",
    "df_3.sample(10)"
   ]
  },
  {
   "cell_type": "markdown",
   "metadata": {},
   "source": [
    "По выведенным даным, видим что все три таблицы одного размера, данные приведены к одному типу, нету пропусков."
   ]
  },
  {
   "cell_type": "markdown",
   "metadata": {},
   "source": [
    "<div class=\"alert alert-success\">\n",
    "<h2> Комментарий ревьюера <a class=\"tocSkip\"> </h2>\n",
    "\n",
    "<b>Все отлично!👍</b> \n",
    "    \n",
    "Осмотрели данные: вывели случайные 10 строк, посмотрели на общую информацию о таблицах - хорошо! \n",
    "</div>"
   ]
  },
  {
   "cell_type": "markdown",
   "metadata": {},
   "source": [
    "<div class=\"alert alert-warning\">\n",
    "    <h2> Комментарий ревьюера <a class=\"tocSkip\"> </h2>\n",
    "    \n",
    "<b>Некоторые замечания и рекомендации⚠️:</b> \n",
    "\n",
    "Давай сделаем небольшой вывод по итогу этой проверки?\n",
    "        \n",
    "</div>"
   ]
  },
  {
   "cell_type": "markdown",
   "metadata": {},
   "source": [
    "<div class=\"alert alert-success\">\n",
    "<h2> Комментарий ревьюера v.2 <a class=\"tocSkip\"> </h2>\n",
    "\n",
    "<b>Все отлично!👍</b> \n",
    "    \n",
    "Учтено!\n",
    "</div>"
   ]
  },
  {
   "cell_type": "code",
   "execution_count": 7,
   "metadata": {},
   "outputs": [
    {
     "data": {
      "text/plain": [
       "0"
      ]
     },
     "execution_count": 7,
     "metadata": {},
     "output_type": "execute_result"
    }
   ],
   "source": [
    "df_1.duplicated().sum()"
   ]
  },
  {
   "cell_type": "code",
   "execution_count": 8,
   "metadata": {},
   "outputs": [
    {
     "data": {
      "text/plain": [
       "0"
      ]
     },
     "execution_count": 8,
     "metadata": {},
     "output_type": "execute_result"
    }
   ],
   "source": [
    "df_2.duplicated().sum()"
   ]
  },
  {
   "cell_type": "code",
   "execution_count": 9,
   "metadata": {},
   "outputs": [
    {
     "data": {
      "text/plain": [
       "0"
      ]
     },
     "execution_count": 9,
     "metadata": {},
     "output_type": "execute_result"
    }
   ],
   "source": [
    "df_3.duplicated().sum()"
   ]
  },
  {
   "cell_type": "code",
   "execution_count": 10,
   "metadata": {
    "scrolled": true
   },
   "outputs": [
    {
     "data": {
      "text/plain": [
       "99990"
      ]
     },
     "metadata": {},
     "output_type": "display_data"
    },
    {
     "data": {
      "text/plain": [
       "99996"
      ]
     },
     "metadata": {},
     "output_type": "display_data"
    },
    {
     "data": {
      "text/plain": [
       "99996"
      ]
     },
     "metadata": {},
     "output_type": "display_data"
    }
   ],
   "source": [
    "for df in [df_1, df_2, df_3]:\n",
    "    display(len(df['id'].unique()))"
   ]
  },
  {
   "cell_type": "markdown",
   "metadata": {},
   "source": [
    "В первой таблице есть 10 повторений, а во второй и третей по 4. Оставим только не повторяющиеся данные."
   ]
  },
  {
   "cell_type": "code",
   "execution_count": 11,
   "metadata": {
    "scrolled": false
   },
   "outputs": [
    {
     "name": "stdout",
     "output_type": "stream",
     "text": [
      "<class 'pandas.core.frame.DataFrame'>\n",
      "Int64Index: 99990 entries, 0 to 99999\n",
      "Data columns (total 5 columns):\n",
      " #   Column   Non-Null Count  Dtype  \n",
      "---  ------   --------------  -----  \n",
      " 0   id       99990 non-null  object \n",
      " 1   f0       99990 non-null  float64\n",
      " 2   f1       99990 non-null  float64\n",
      " 3   f2       99990 non-null  float64\n",
      " 4   product  99990 non-null  float64\n",
      "dtypes: float64(4), object(1)\n",
      "memory usage: 4.6+ MB\n"
     ]
    },
    {
     "data": {
      "text/plain": [
       "None"
      ]
     },
     "metadata": {},
     "output_type": "display_data"
    },
    {
     "name": "stdout",
     "output_type": "stream",
     "text": [
      "<class 'pandas.core.frame.DataFrame'>\n",
      "Int64Index: 99996 entries, 0 to 99999\n",
      "Data columns (total 5 columns):\n",
      " #   Column   Non-Null Count  Dtype  \n",
      "---  ------   --------------  -----  \n",
      " 0   id       99996 non-null  object \n",
      " 1   f0       99996 non-null  float64\n",
      " 2   f1       99996 non-null  float64\n",
      " 3   f2       99996 non-null  float64\n",
      " 4   product  99996 non-null  float64\n",
      "dtypes: float64(4), object(1)\n",
      "memory usage: 4.6+ MB\n"
     ]
    },
    {
     "data": {
      "text/plain": [
       "None"
      ]
     },
     "metadata": {},
     "output_type": "display_data"
    },
    {
     "name": "stdout",
     "output_type": "stream",
     "text": [
      "<class 'pandas.core.frame.DataFrame'>\n",
      "Int64Index: 99996 entries, 0 to 99999\n",
      "Data columns (total 5 columns):\n",
      " #   Column   Non-Null Count  Dtype  \n",
      "---  ------   --------------  -----  \n",
      " 0   id       99996 non-null  object \n",
      " 1   f0       99996 non-null  float64\n",
      " 2   f1       99996 non-null  float64\n",
      " 3   f2       99996 non-null  float64\n",
      " 4   product  99996 non-null  float64\n",
      "dtypes: float64(4), object(1)\n",
      "memory usage: 4.6+ MB\n"
     ]
    },
    {
     "data": {
      "text/plain": [
       "None"
      ]
     },
     "metadata": {},
     "output_type": "display_data"
    }
   ],
   "source": [
    "for df in [df_1, df_2, df_3]:\n",
    "    df = df.drop_duplicates(subset=['id'])\n",
    "    display(df.info())"
   ]
  },
  {
   "cell_type": "code",
   "execution_count": 12,
   "metadata": {},
   "outputs": [
    {
     "data": {
      "text/plain": [
       "id         0\n",
       "f0         0\n",
       "f1         0\n",
       "f2         0\n",
       "product    0\n",
       "dtype: int64"
      ]
     },
     "execution_count": 12,
     "metadata": {},
     "output_type": "execute_result"
    }
   ],
   "source": [
    "df_1.isna().sum()"
   ]
  },
  {
   "cell_type": "code",
   "execution_count": 13,
   "metadata": {},
   "outputs": [
    {
     "data": {
      "text/plain": [
       "id         0\n",
       "f0         0\n",
       "f1         0\n",
       "f2         0\n",
       "product    0\n",
       "dtype: int64"
      ]
     },
     "execution_count": 13,
     "metadata": {},
     "output_type": "execute_result"
    }
   ],
   "source": [
    "df_2.isna().sum()"
   ]
  },
  {
   "cell_type": "code",
   "execution_count": 14,
   "metadata": {},
   "outputs": [
    {
     "data": {
      "text/plain": [
       "id         0\n",
       "f0         0\n",
       "f1         0\n",
       "f2         0\n",
       "product    0\n",
       "dtype: int64"
      ]
     },
     "execution_count": 14,
     "metadata": {},
     "output_type": "execute_result"
    }
   ],
   "source": [
    "df_3.isna().sum()"
   ]
  },
  {
   "cell_type": "markdown",
   "metadata": {},
   "source": [
    "Все лишнее убрано. Пропуски в данных отсутствуют."
   ]
  },
  {
   "cell_type": "code",
   "execution_count": 15,
   "metadata": {},
   "outputs": [
    {
     "data": {
      "image/png": "[encoded data removed]",
      "text/plain": [
       "<Figure size 432x288 with 1 Axes>"
      ]
     },
     "metadata": {
      "needs_background": "light"
     },
     "output_type": "display_data"
    }
   ],
   "source": [
    "plt.xlabel(\"Количество нефти\")\n",
    "plt.ylabel(\"Количество жил\")\n",
    "plt.title(\"Распределение нефти\")\n",
    "df_1[\"product\"].hist(alpha = .5, color='b')\n",
    "plt.show()"
   ]
  },
  {
   "cell_type": "code",
   "execution_count": 16,
   "metadata": {},
   "outputs": [
    {
     "data": {
      "image/png": "[encoded data removed]",
      "text/plain": [
       "<Figure size 432x288 with 1 Axes>"
      ]
     },
     "metadata": {
      "needs_background": "light"
     },
     "output_type": "display_data"
    }
   ],
   "source": [
    "plt.xlabel(\"Количество нефти\")\n",
    "plt.ylabel(\"Количество жил\")\n",
    "plt.title(\"Распределение нефти\")\n",
    "df_2[\"product\"].hist(alpha = .5, color='g')\n",
    "plt.show()"
   ]
  },
  {
   "cell_type": "code",
   "execution_count": 17,
   "metadata": {},
   "outputs": [
    {
     "data": {
      "image/png": "[encoded data removed]",
      "text/plain": [
       "<Figure size 432x288 with 1 Axes>"
      ]
     },
     "metadata": {
      "needs_background": "light"
     },
     "output_type": "display_data"
    }
   ],
   "source": [
    "plt.xlabel(\"Количество нефти\")\n",
    "plt.ylabel(\"Количество жил\")\n",
    "plt.title(\"Распределение нефти\")\n",
    "df_3[\"product\"].hist(alpha = .5, color='y')\n",
    "plt.show()"
   ]
  },
  {
   "cell_type": "code",
   "execution_count": 18,
   "metadata": {},
   "outputs": [
    {
     "data": {
      "text/html": [
       "<style  type=\"text/css\" >\n",
       "#T_5076f_row0_col0,#T_5076f_row1_col1,#T_5076f_row2_col2,#T_5076f_row3_col3{\n",
       "            background-color:  #023858;\n",
       "            color:  #f1f1f1;\n",
       "        }#T_5076f_row0_col1,#T_5076f_row0_col2,#T_5076f_row1_col0,#T_5076f_row1_col3{\n",
       "            background-color:  #fff7fb;\n",
       "            color:  #000000;\n",
       "        }#T_5076f_row0_col3{\n",
       "            background-color:  #c5cce3;\n",
       "            color:  #000000;\n",
       "        }#T_5076f_row1_col2{\n",
       "            background-color:  #fef6fb;\n",
       "            color:  #000000;\n",
       "        }#T_5076f_row2_col0{\n",
       "            background-color:  #bfc9e1;\n",
       "            color:  #000000;\n",
       "        }#T_5076f_row2_col1{\n",
       "            background-color:  #bdc8e1;\n",
       "            color:  #000000;\n",
       "        }#T_5076f_row2_col3{\n",
       "            background-color:  #529bc7;\n",
       "            color:  #000000;\n",
       "        }#T_5076f_row3_col0{\n",
       "            background-color:  #9ab8d8;\n",
       "            color:  #000000;\n",
       "        }#T_5076f_row3_col1{\n",
       "            background-color:  #e1dfed;\n",
       "            color:  #000000;\n",
       "        }#T_5076f_row3_col2{\n",
       "            background-color:  #79abd0;\n",
       "            color:  #000000;\n",
       "        }</style><table id=\"T_5076f_\" ><thead>    <tr>        <th class=\"blank level0\" ></th>        <th class=\"col_heading level0 col0\" >f0</th>        <th class=\"col_heading level0 col1\" >f1</th>        <th class=\"col_heading level0 col2\" >f2</th>        <th class=\"col_heading level0 col3\" >product</th>    </tr></thead><tbody>\n",
       "                <tr>\n",
       "                        <th id=\"T_5076f_level0_row0\" class=\"row_heading level0 row0\" >f0</th>\n",
       "                        <td id=\"T_5076f_row0_col0\" class=\"data row0 col0\" >1.000000</td>\n",
       "                        <td id=\"T_5076f_row0_col1\" class=\"data row0 col1\" >-0.440723</td>\n",
       "                        <td id=\"T_5076f_row0_col2\" class=\"data row0 col2\" >-0.003153</td>\n",
       "                        <td id=\"T_5076f_row0_col3\" class=\"data row0 col3\" >0.143536</td>\n",
       "            </tr>\n",
       "            <tr>\n",
       "                        <th id=\"T_5076f_level0_row1\" class=\"row_heading level0 row1\" >f1</th>\n",
       "                        <td id=\"T_5076f_row1_col0\" class=\"data row1 col0\" >-0.440723</td>\n",
       "                        <td id=\"T_5076f_row1_col1\" class=\"data row1 col1\" >1.000000</td>\n",
       "                        <td id=\"T_5076f_row1_col2\" class=\"data row1 col2\" >0.001724</td>\n",
       "                        <td id=\"T_5076f_row1_col3\" class=\"data row1 col3\" >-0.192356</td>\n",
       "            </tr>\n",
       "            <tr>\n",
       "                        <th id=\"T_5076f_level0_row2\" class=\"row_heading level0 row2\" >f2</th>\n",
       "                        <td id=\"T_5076f_row2_col0\" class=\"data row2 col0\" >-0.003153</td>\n",
       "                        <td id=\"T_5076f_row2_col1\" class=\"data row2 col1\" >0.001724</td>\n",
       "                        <td id=\"T_5076f_row2_col2\" class=\"data row2 col2\" >1.000000</td>\n",
       "                        <td id=\"T_5076f_row2_col3\" class=\"data row2 col3\" >0.483663</td>\n",
       "            </tr>\n",
       "            <tr>\n",
       "                        <th id=\"T_5076f_level0_row3\" class=\"row_heading level0 row3\" >product</th>\n",
       "                        <td id=\"T_5076f_row3_col0\" class=\"data row3 col0\" >0.143536</td>\n",
       "                        <td id=\"T_5076f_row3_col1\" class=\"data row3 col1\" >-0.192356</td>\n",
       "                        <td id=\"T_5076f_row3_col2\" class=\"data row3 col2\" >0.483663</td>\n",
       "                        <td id=\"T_5076f_row3_col3\" class=\"data row3 col3\" >1.000000</td>\n",
       "            </tr>\n",
       "    </tbody></table>"
      ],
      "text/plain": [
       "<pandas.io.formats.style.Styler at 0x7fbdb48ea5b0>"
      ]
     },
     "execution_count": 18,
     "metadata": {},
     "output_type": "execute_result"
    }
   ],
   "source": [
    "df_1.loc[:,\"f0\":\"product\"].corr().style.background_gradient(axis=0)"
   ]
  },
  {
   "cell_type": "code",
   "execution_count": 19,
   "metadata": {},
   "outputs": [
    {
     "data": {
      "text/html": [
       "<style  type=\"text/css\" >\n",
       "#T_f6278_row0_col0,#T_f6278_row1_col1,#T_f6278_row2_col2,#T_f6278_row2_col3,#T_f6278_row3_col2,#T_f6278_row3_col3{\n",
       "            background-color:  #023858;\n",
       "            color:  #f1f1f1;\n",
       "        }#T_f6278_row0_col1{\n",
       "            background-color:  #dedcec;\n",
       "            color:  #000000;\n",
       "        }#T_f6278_row0_col2,#T_f6278_row0_col3,#T_f6278_row1_col2,#T_f6278_row3_col0,#T_f6278_row3_col1{\n",
       "            background-color:  #fff7fb;\n",
       "            color:  #000000;\n",
       "        }#T_f6278_row1_col0{\n",
       "            background-color:  #dad9ea;\n",
       "            color:  #000000;\n",
       "        }#T_f6278_row1_col3{\n",
       "            background-color:  #fcf4fa;\n",
       "            color:  #000000;\n",
       "        }#T_f6278_row2_col0{\n",
       "            background-color:  #fbf3f9;\n",
       "            color:  #000000;\n",
       "        }#T_f6278_row2_col1{\n",
       "            background-color:  #fef6fb;\n",
       "            color:  #000000;\n",
       "        }</style><table id=\"T_f6278_\" ><thead>    <tr>        <th class=\"blank level0\" ></th>        <th class=\"col_heading level0 col0\" >f0</th>        <th class=\"col_heading level0 col1\" >f1</th>        <th class=\"col_heading level0 col2\" >f2</th>        <th class=\"col_heading level0 col3\" >product</th>    </tr></thead><tbody>\n",
       "                <tr>\n",
       "                        <th id=\"T_f6278_level0_row0\" class=\"row_heading level0 row0\" >f0</th>\n",
       "                        <td id=\"T_f6278_row0_col0\" class=\"data row0 col0\" >1.000000</td>\n",
       "                        <td id=\"T_f6278_row0_col1\" class=\"data row0 col1\" >0.182287</td>\n",
       "                        <td id=\"T_f6278_row0_col2\" class=\"data row0 col2\" >-0.001777</td>\n",
       "                        <td id=\"T_f6278_row0_col3\" class=\"data row0 col3\" >-0.030491</td>\n",
       "            </tr>\n",
       "            <tr>\n",
       "                        <th id=\"T_f6278_level0_row1\" class=\"row_heading level0 row1\" >f1</th>\n",
       "                        <td id=\"T_f6278_row1_col0\" class=\"data row1 col0\" >0.182287</td>\n",
       "                        <td id=\"T_f6278_row1_col1\" class=\"data row1 col1\" >1.000000</td>\n",
       "                        <td id=\"T_f6278_row1_col2\" class=\"data row1 col2\" >-0.002595</td>\n",
       "                        <td id=\"T_f6278_row1_col3\" class=\"data row1 col3\" >-0.010155</td>\n",
       "            </tr>\n",
       "            <tr>\n",
       "                        <th id=\"T_f6278_level0_row2\" class=\"row_heading level0 row2\" >f2</th>\n",
       "                        <td id=\"T_f6278_row2_col0\" class=\"data row2 col0\" >-0.001777</td>\n",
       "                        <td id=\"T_f6278_row2_col1\" class=\"data row2 col1\" >-0.002595</td>\n",
       "                        <td id=\"T_f6278_row2_col2\" class=\"data row2 col2\" >1.000000</td>\n",
       "                        <td id=\"T_f6278_row2_col3\" class=\"data row2 col3\" >0.999397</td>\n",
       "            </tr>\n",
       "            <tr>\n",
       "                        <th id=\"T_f6278_level0_row3\" class=\"row_heading level0 row3\" >product</th>\n",
       "                        <td id=\"T_f6278_row3_col0\" class=\"data row3 col0\" >-0.030491</td>\n",
       "                        <td id=\"T_f6278_row3_col1\" class=\"data row3 col1\" >-0.010155</td>\n",
       "                        <td id=\"T_f6278_row3_col2\" class=\"data row3 col2\" >0.999397</td>\n",
       "                        <td id=\"T_f6278_row3_col3\" class=\"data row3 col3\" >1.000000</td>\n",
       "            </tr>\n",
       "    </tbody></table>"
      ],
      "text/plain": [
       "<pandas.io.formats.style.Styler at 0x7fbdb48b96a0>"
      ]
     },
     "execution_count": 19,
     "metadata": {},
     "output_type": "execute_result"
    }
   ],
   "source": [
    "df_2.loc[:,\"f0\":\"product\"].corr().style.background_gradient(axis=0)"
   ]
  },
  {
   "cell_type": "code",
   "execution_count": 20,
   "metadata": {},
   "outputs": [
    {
     "data": {
      "text/html": [
       "<style  type=\"text/css\" >\n",
       "#T_07764_row0_col0,#T_07764_row1_col1,#T_07764_row2_col2,#T_07764_row3_col3{\n",
       "            background-color:  #023858;\n",
       "            color:  #f1f1f1;\n",
       "        }#T_07764_row0_col1,#T_07764_row0_col2,#T_07764_row0_col3,#T_07764_row1_col0,#T_07764_row1_col2,#T_07764_row1_col3,#T_07764_row2_col0,#T_07764_row2_col1,#T_07764_row3_col0,#T_07764_row3_col1{\n",
       "            background-color:  #fff7fb;\n",
       "            color:  #000000;\n",
       "        }#T_07764_row2_col3,#T_07764_row3_col2{\n",
       "            background-color:  #89b1d4;\n",
       "            color:  #000000;\n",
       "        }</style><table id=\"T_07764_\" ><thead>    <tr>        <th class=\"blank level0\" ></th>        <th class=\"col_heading level0 col0\" >f0</th>        <th class=\"col_heading level0 col1\" >f1</th>        <th class=\"col_heading level0 col2\" >f2</th>        <th class=\"col_heading level0 col3\" >product</th>    </tr></thead><tbody>\n",
       "                <tr>\n",
       "                        <th id=\"T_07764_level0_row0\" class=\"row_heading level0 row0\" >f0</th>\n",
       "                        <td id=\"T_07764_row0_col0\" class=\"data row0 col0\" >1.000000</td>\n",
       "                        <td id=\"T_07764_row0_col1\" class=\"data row0 col1\" >0.000528</td>\n",
       "                        <td id=\"T_07764_row0_col2\" class=\"data row0 col2\" >-0.000448</td>\n",
       "                        <td id=\"T_07764_row0_col3\" class=\"data row0 col3\" >-0.001987</td>\n",
       "            </tr>\n",
       "            <tr>\n",
       "                        <th id=\"T_07764_level0_row1\" class=\"row_heading level0 row1\" >f1</th>\n",
       "                        <td id=\"T_07764_row1_col0\" class=\"data row1 col0\" >0.000528</td>\n",
       "                        <td id=\"T_07764_row1_col1\" class=\"data row1 col1\" >1.000000</td>\n",
       "                        <td id=\"T_07764_row1_col2\" class=\"data row1 col2\" >0.000779</td>\n",
       "                        <td id=\"T_07764_row1_col3\" class=\"data row1 col3\" >-0.001012</td>\n",
       "            </tr>\n",
       "            <tr>\n",
       "                        <th id=\"T_07764_level0_row2\" class=\"row_heading level0 row2\" >f2</th>\n",
       "                        <td id=\"T_07764_row2_col0\" class=\"data row2 col0\" >-0.000448</td>\n",
       "                        <td id=\"T_07764_row2_col1\" class=\"data row2 col1\" >0.000779</td>\n",
       "                        <td id=\"T_07764_row2_col2\" class=\"data row2 col2\" >1.000000</td>\n",
       "                        <td id=\"T_07764_row2_col3\" class=\"data row2 col3\" >0.445871</td>\n",
       "            </tr>\n",
       "            <tr>\n",
       "                        <th id=\"T_07764_level0_row3\" class=\"row_heading level0 row3\" >product</th>\n",
       "                        <td id=\"T_07764_row3_col0\" class=\"data row3 col0\" >-0.001987</td>\n",
       "                        <td id=\"T_07764_row3_col1\" class=\"data row3 col1\" >-0.001012</td>\n",
       "                        <td id=\"T_07764_row3_col2\" class=\"data row3 col2\" >0.445871</td>\n",
       "                        <td id=\"T_07764_row3_col3\" class=\"data row3 col3\" >1.000000</td>\n",
       "            </tr>\n",
       "    </tbody></table>"
      ],
      "text/plain": [
       "<pandas.io.formats.style.Styler at 0x7fbdb41b7eb0>"
      ]
     },
     "execution_count": 20,
     "metadata": {},
     "output_type": "execute_result"
    }
   ],
   "source": [
    "df_3.loc[:,\"f0\":\"product\"].corr().style.background_gradient(axis=0)"
   ]
  },
  {
   "cell_type": "markdown",
   "metadata": {},
   "source": [
    "По двум графикам можно понять что:\n",
    "1. Нефть во втором регионе в среднем меньше чем в первом и третьем.\n",
    "2. Нефть во втором регионе распределено линейно, не считая двух больших выбросо в начала и конце. По этому же мы и видим очень сильную корреляцию с признаком f2, кажется что во втором регионе он диминирующий.\n",
    "2. Корреляция количества нефти и признаков сильнее всего с признаком f2, признаки f1 и f0 так же влияют на ее количество, но не так сильно."
   ]
  },
  {
   "cell_type": "markdown",
   "metadata": {},
   "source": [
    "<div class=\"alert alert-success\">\n",
    "<h2> Комментарий ревьюера <a class=\"tocSkip\"> </h2>\n",
    "\n",
    "<b>Все отлично!👍</b> \n",
    "    \n",
    "Явные дубликаты проверили - отлично!\n",
    "</div>"
   ]
  },
  {
   "cell_type": "markdown",
   "metadata": {},
   "source": [
    "<div class=\"alert alert-block alert-danger\">\n",
    "<h2> Комментарий ревьюера <a class=\"tocSkip\"></h2>\n",
    "\n",
    "    \n",
    "<b>На доработку❌:</b>\n",
    "    \n",
    "Блок первичного анализа данных следует дополнить несколькими важными шагами:\n",
    "1. Проверка пропущенных значений с помощью метода `.isna()`, а дополнив его методом `.sum()`, мы посчитаем количество пропусков в разрезе столбцов таблица.\n",
    "2. Проверка неявных дубликатов: в каждой таблице столбец `id` описывает идентификатор скважины. Предполагается, что в каждом регионе должны быть уникальные скважины. Давай проверим, нет ли в регионах скважин с одинаковым идентификатором?\n",
    "3. Важно визуализировать распределение целевого признака в каждом регионе - это поможет нам понять особенности концентрации сырья в каждом регионе. Результаты визуализации стоит сопоставить между регионами - будут ли все три региона схожи между собой по распределению сырья? Или, может, для каких-то регионов будут особенности в распределении?\n",
    "4. Важно провести корреляционный анализ: так как по условию проекта мы ограничены применением только линейной регрессии, важной становится проблема мультиколлинераности - это ситуация, при которой между обучающими признаками есть сильная линейная зависимость, которая к тому же выше, чем линейная зависимость между каждым из этих признаков с целевым признаком по отдельности. В таком случае обычно удаляют какой-то из созависимых обучающих признаков, чаще - тот, связь которого с целевым признаком слабее. Давай попробуем проверить наши данные на мультиколлинеарность? Для подсчёта матрицы корреляций можно использовать метод `.corr()`, а красиво визуализировать матрицу корреляций можно с помощью библиотеки `seaborn` - тут есть пара хороших примеров: https://datastart.ru/blog/read/seaborn-heatmaps-13-sposobov-nastroit-vizualizaciyu-matricy-korrelyacii.\n",
    "    \n",
    "При работе с графиками важно соблюдать следующие правила:\n",
    "1. Стоит подписать названия осей X и Y.\n",
    "2. Также стоит дать название графику.\n",
    "3. Технические комментарии типа `<AxesSubplot:xlabel='datetime'>` стоит убирать: это можно сделать, поставив точку с запятой в последней строке кода в блоке визуализации, либо сделать последней строкой кода этого блока метод `plt.show()`.\n",
    "4. Стоит оптимизировать график по размеру: не стоит делать графики слишком маленькими, но и перебарщивать с размером, чтобы график в ячейке приходилось скроллить, тоже не стоит. Дефолтный размер графика почти всегда не самый оптимальный, поэтому его стоит оптимизировать всегда:)"
   ]
  },
  {
   "cell_type": "markdown",
   "metadata": {},
   "source": [
    "<div class=\"alert alert-info\">\n",
    "<h2> Комментарий студента <a class=\"tocSkip\"> </h2>\n",
    "\n",
    "Считаю `.isna()` лишним, по скольку метод `.info()` нам уже дает значения по пропускам\n",
    "</div>"
   ]
  },
  {
   "cell_type": "markdown",
   "metadata": {},
   "source": [
    "<div class=\"alert alert-success\">\n",
    "<h2> Комментарий ревьюера v.2 <a class=\"tocSkip\"> </h2>\n",
    "\n",
    "<b>Все отлично!👍</b> \n",
    "    \n",
    "Учтено почти всё.\n",
    "</div>"
   ]
  },
  {
   "cell_type": "markdown",
   "metadata": {},
   "source": [
    "<div class=\"alert alert-warning\">\n",
    "    <h2> Комментарий ревьюера v.2 <a class=\"tocSkip\"> </h2>\n",
    "    \n",
    "<b>Некоторые замечания и рекомендации⚠️:</b> \n",
    "\n",
    "Соглашусь с твоей логикой, что пропуски видны из `.info()`, но тут важно не упускать несколько моментов:\n",
    "1. Этот метод приемлем, когда у тебя таблица с небольшим количеством столбцов. Когда их будет несколько десятков, а то и сотен, этим методом пропуски уже не проверишь.\n",
    "2. Пользователем твоего отчёта зачастую будет не только техническая команда, которая умеет читать `.info()`, но и бизнес-заказчики, которым желательно все метрики подписать - и то не факт, что потом увидят и не спросят \"а пропуски-то есть или нет\"? :D\n",
    "    \n",
    "В целом, колбасу и топором можно нарезать, но зачем, если есть специально обученный нож?:) Так же и в анализе данных.\n",
    "        \n",
    "Но окей, это не критикал, поэтому исправление оставлю тебе на откуп:)\n",
    "        \n",
    "</div>"
   ]
  },
  {
   "cell_type": "markdown",
   "metadata": {},
   "source": [
    "<div class=\"alert alert-info\">\n",
    "<h2> Комментарий студента <a class=\"tocSkip\"> </h2>\n",
    "\n",
    "С этой точки зрения я об этом не думал, вынужден с тобой согласиться)\n",
    "</div>"
   ]
  },
  {
   "cell_type": "markdown",
   "metadata": {},
   "source": [
    "<div class=\"alert alert-success\">\n",
    "<h2> Комментарий ревьюера v.3 <a class=\"tocSkip\"> </h2>\n",
    "\n",
    "<b>Все отлично!👍</b> \n",
    "    \n",
    "Окей:)\n",
    "</div>"
   ]
  },
  {
   "cell_type": "markdown",
   "metadata": {},
   "source": [
    "<div class=\"alert alert-block alert-danger\">\n",
    "<h2> Комментарий ревьюера v.2 <a class=\"tocSkip\"></h2>\n",
    "\n",
    "    \n",
    "<b>На доработку❌:</b>\n",
    "    \n",
    "А вот пара вещей требует корректировки:\n",
    "1. Наслоенное друг на друга распределение сырья в регионах мешает улавливать особенности в каждом из них. В частности, довольно необычное распределение во втором регионе потерялось на фоне более нормальных первого и третьего. Лучше делать для каждого региона отдельный график.\n",
    "2. Матрицу корреляций нашёл только для второго региона - стоит сделать также и для первого с третьим."
   ]
  },
  {
   "cell_type": "markdown",
   "metadata": {},
   "source": [
    "<div class=\"alert alert-success\">\n",
    "<h2> Комментарий ревьюера v.3 <a class=\"tocSkip\"> </h2>\n",
    "\n",
    "<b>Все отлично!👍</b> \n",
    "    \n",
    "Учтено!\n",
    "</div>"
   ]
  },
  {
   "cell_type": "markdown",
   "metadata": {},
   "source": [
    "###  Подготовка "
   ]
  },
  {
   "cell_type": "markdown",
   "metadata": {},
   "source": [
    "Создадим необходимые выборки для оьучения модели."
   ]
  },
  {
   "cell_type": "code",
   "execution_count": 21,
   "metadata": {},
   "outputs": [],
   "source": [
    "train_1, test_1 = train_test_split(df_1.loc[:,\"f0\":\"product\"], test_size=.25, random_state=STATE)\n",
    "train_2, test_2 = train_test_split(df_2.loc[:,\"f0\":\"product\"], test_size=.25, random_state=STATE)\n",
    "train_3, test_3 = train_test_split(df_3.loc[:,\"f0\":\"product\"], test_size=.25, random_state=STATE)"
   ]
  },
  {
   "cell_type": "markdown",
   "metadata": {},
   "source": [
    "<div class=\"alert alert-success\">\n",
    "<h2> Комментарий ревьюера <a class=\"tocSkip\"> </h2>\n",
    "\n",
    "<b>Все отлично!👍</b> \n",
    "    \n",
    "Сплитование данных выполнено корректно, размер тестовой выборки соблюдён.\n",
    "</div>"
   ]
  },
  {
   "cell_type": "markdown",
   "metadata": {},
   "source": [
    "<div class=\"alert alert-warning\">\n",
    "    <h2> Комментарий ревьюера <a class=\"tocSkip\"> </h2>\n",
    "    \n",
    "<b>Некоторые замечания и рекомендации⚠️:</b> \n",
    "\n",
    "Параметр `random_state` стоит также оформить как константу.\n",
    "        \n",
    "</div>"
   ]
  },
  {
   "cell_type": "markdown",
   "metadata": {},
   "source": [
    "<div class=\"alert alert-success\">\n",
    "<h2> Комментарий ревьюера v.2 <a class=\"tocSkip\"> </h2>\n",
    "\n",
    "<b>Все отлично!👍</b> \n",
    "    \n",
    "Окей!\n",
    "</div>"
   ]
  },
  {
   "cell_type": "code",
   "execution_count": 22,
   "metadata": {},
   "outputs": [],
   "source": [
    "train_1_features = train_1.drop([\"product\"], axis= 1)\n",
    "train_1_ans = train_1[\"product\"]\n",
    "train_2_features = train_2.drop([\"product\"], axis= 1)\n",
    "train_2_ans = train_2[\"product\"]\n",
    "train_3_features = train_3.drop([\"product\"], axis= 1)\n",
    "train_3_ans = train_3[\"product\"]\n",
    "test_1_featires = test_1.drop([\"product\"], axis= 1)\n",
    "test_1_ans = test_1[\"product\"]\n",
    "test_2_featires = test_2.drop([\"product\"], axis= 1)\n",
    "test_2_ans = test_2[\"product\"]\n",
    "test_3_featires = test_3.drop([\"product\"], axis= 1)\n",
    "test_3_ans = test_3[\"product\"]"
   ]
  },
  {
   "cell_type": "markdown",
   "metadata": {},
   "source": [
    "<div class=\"alert alert-block alert-danger\">\n",
    "<h2> Комментарий ревьюера <a class=\"tocSkip\"></h2>\n",
    "\n",
    "    \n",
    "<b>На доработку❌:</b>\n",
    "    \n",
    "Так делать не стоит: в каждом регионе могут быть свои особенности распределения сырья, поэтому важно обучать индивидуальные модели для каждого региона - в твоём случае мы можем ухудшить качество модели для региона, так как смешаем распределение целевого признака текущего региона с распределением целевого признака в соседних регионах."
   ]
  },
  {
   "cell_type": "markdown",
   "metadata": {},
   "source": [
    "<div class=\"alert alert-success\">\n",
    "<h2> Комментарий ревьюера v.2 <a class=\"tocSkip\"> </h2>\n",
    "\n",
    "<b>Все отлично!👍</b> \n",
    "    \n",
    "Учтено!\n",
    "</div>"
   ]
  },
  {
   "cell_type": "markdown",
   "metadata": {},
   "source": [
    "### Вывод"
   ]
  },
  {
   "cell_type": "markdown",
   "metadata": {},
   "source": [
    " Данные загружены, пропусков нет, как и потворений данных.  \n",
    " Подготовлены выборки для обучения модели.  \n",
    " Можно двигаться дальше."
   ]
  },
  {
   "cell_type": "markdown",
   "metadata": {},
   "source": [
    "<div class=\"alert alert-success\">\n",
    "<h2> Комментарий ревьюера <a class=\"tocSkip\"> </h2>\n",
    "\n",
    "<b>Все отлично!👍</b> \n",
    "    \n",
    "Есть промежуточный вывод - хорошо!\n",
    "</div>"
   ]
  },
  {
   "cell_type": "markdown",
   "metadata": {},
   "source": [
    "## Обучение и проверка модели"
   ]
  },
  {
   "cell_type": "markdown",
   "metadata": {},
   "source": [
    "Приступаем к обучению модели."
   ]
  },
  {
   "cell_type": "code",
   "execution_count": 23,
   "metadata": {
    "scrolled": true
   },
   "outputs": [
    {
     "name": "stdout",
     "output_type": "stream",
     "text": [
      "CPU times: user 478 µs, sys: 12 ms, total: 12.5 ms\n",
      "Wall time: 10.3 ms\n"
     ]
    },
    {
     "data": {
      "text/plain": [
       "LinearRegression()"
      ]
     },
     "execution_count": 23,
     "metadata": {},
     "output_type": "execute_result"
    }
   ],
   "source": [
    "%%time\n",
    "warnings.filterwarnings(\"ignore\")\n",
    "model_LR_1 = LinearRegression()\n",
    "model_LR_1.fit(train_1_features, train_1_ans)"
   ]
  },
  {
   "cell_type": "code",
   "execution_count": 24,
   "metadata": {},
   "outputs": [
    {
     "name": "stdout",
     "output_type": "stream",
     "text": [
      "CPU times: user 8.42 ms, sys: 93 µs, total: 8.51 ms\n",
      "Wall time: 7.03 ms\n"
     ]
    },
    {
     "data": {
      "text/plain": [
       "LinearRegression()"
      ]
     },
     "execution_count": 24,
     "metadata": {},
     "output_type": "execute_result"
    }
   ],
   "source": [
    "%%time\n",
    "warnings.filterwarnings(\"ignore\")\n",
    "model_LR_2 = LinearRegression()\n",
    "model_LR_2.fit(train_2_features, train_2_ans)"
   ]
  },
  {
   "cell_type": "code",
   "execution_count": 25,
   "metadata": {},
   "outputs": [
    {
     "name": "stdout",
     "output_type": "stream",
     "text": [
      "CPU times: user 10.7 ms, sys: 0 ns, total: 10.7 ms\n",
      "Wall time: 9.37 ms\n"
     ]
    },
    {
     "data": {
      "text/plain": [
       "LinearRegression()"
      ]
     },
     "execution_count": 25,
     "metadata": {},
     "output_type": "execute_result"
    }
   ],
   "source": [
    "%%time\n",
    "warnings.filterwarnings(\"ignore\")\n",
    "model_LR_3 = LinearRegression()\n",
    "model_LR_3.fit(train_3_features, train_3_ans)"
   ]
  },
  {
   "cell_type": "markdown",
   "metadata": {},
   "source": [
    "<div class=\"alert alert-success\">\n",
    "<h2> Комментарий ревьюера <a class=\"tocSkip\"> </h2>\n",
    "\n",
    "<b>Все отлично!👍</b> \n",
    "    \n",
    "Обучили модель линейной регрессии - хорошо!\n",
    "</div>"
   ]
  },
  {
   "cell_type": "markdown",
   "metadata": {},
   "source": [
    "<div class=\"alert alert-block alert-danger\">\n",
    "<h2> Комментарий ревьюера <a class=\"tocSkip\"></h2>\n",
    "\n",
    "    \n",
    "<b>На доработку❌:</b>\n",
    "    \n",
    "Корректнее будет обучать модели для каждого региона отдельно, не объелиняя тестовые выборки."
   ]
  },
  {
   "cell_type": "markdown",
   "metadata": {},
   "source": [
    "<div class=\"alert alert-success\">\n",
    "<h2> Комментарий ревьюера v.2 <a class=\"tocSkip\"> </h2>\n",
    "\n",
    "<b>Все отлично!👍</b> \n",
    "    \n",
    "Учтено!\n",
    "</div>"
   ]
  },
  {
   "cell_type": "markdown",
   "metadata": {},
   "source": [
    "Теперь можно предсказать где сколько нефти."
   ]
  },
  {
   "cell_type": "code",
   "execution_count": 26,
   "metadata": {},
   "outputs": [],
   "source": [
    "test_1[\"predict\"] = model_LR_1.predict(test_1_featires)"
   ]
  },
  {
   "cell_type": "code",
   "execution_count": 27,
   "metadata": {},
   "outputs": [],
   "source": [
    "test_2[\"predict\"] = model_LR_2.predict(test_2_featires)"
   ]
  },
  {
   "cell_type": "code",
   "execution_count": 28,
   "metadata": {},
   "outputs": [],
   "source": [
    "test_3[\"predict\"] = model_LR_3.predict(test_3_featires)"
   ]
  },
  {
   "cell_type": "markdown",
   "metadata": {},
   "source": [
    "<div class=\"alert alert-success\">\n",
    "<h2> Комментарий ревьюера <a class=\"tocSkip\"> </h2>\n",
    "\n",
    "<b>Все отлично!👍</b> \n",
    "    \n",
    "Сделали предсказания запасов сырья в каждом регионе - хорошо!\n",
    "</div>"
   ]
  },
  {
   "cell_type": "markdown",
   "metadata": {},
   "source": [
    "Посчитаме среднее фактическое, предсказаное и RMSE."
   ]
  },
  {
   "cell_type": "code",
   "execution_count": 29,
   "metadata": {},
   "outputs": [
    {
     "data": {
      "text/plain": [
       "'Район №1'"
      ]
     },
     "metadata": {},
     "output_type": "display_data"
    },
    {
     "data": {
      "text/plain": [
       "'Фактическое количество нефти: 92.60899133761362'"
      ]
     },
     "metadata": {},
     "output_type": "display_data"
    },
    {
     "data": {
      "text/plain": [
       "'Предсказаное количество нефти: 92.22748940211034'"
      ]
     },
     "metadata": {},
     "output_type": "display_data"
    },
    {
     "data": {
      "text/plain": [
       "'RMSE: 37.73223742654144'"
      ]
     },
     "metadata": {},
     "output_type": "display_data"
    }
   ],
   "source": [
    "display(\"Район №1\")\n",
    "display(f\"Фактическое количество нефти: {test_1['product'].mean()}\")\n",
    "display(f\"Предсказаное количество нефти: {test_1['predict'].mean()}\")\n",
    "display(f\"RMSE: {mean_squared_error(test_1['product'], test_1['predict']) ** 0.5}\")"
   ]
  },
  {
   "cell_type": "code",
   "execution_count": 30,
   "metadata": {},
   "outputs": [
    {
     "data": {
      "text/plain": [
       "'Район №2'"
      ]
     },
     "metadata": {},
     "output_type": "display_data"
    },
    {
     "data": {
      "text/plain": [
       "'Фактическое количество нефти: 68.8694300319281'"
      ]
     },
     "metadata": {},
     "output_type": "display_data"
    },
    {
     "data": {
      "text/plain": [
       "'Предсказаное количество нефти: 68.86192881385603'"
      ]
     },
     "metadata": {},
     "output_type": "display_data"
    },
    {
     "data": {
      "text/plain": [
       "'RMSE: 0.8874738755744914'"
      ]
     },
     "metadata": {},
     "output_type": "display_data"
    }
   ],
   "source": [
    "display(\"Район №2\")\n",
    "display(f\"Фактическое количество нефти: {test_2['product'].mean()}\")\n",
    "display(f\"Предсказаное количество нефти: {test_2['predict'].mean()}\")\n",
    "display(f\"RMSE: {mean_squared_error(test_2['product'], test_2['predict']) ** 0.5}\")"
   ]
  },
  {
   "cell_type": "code",
   "execution_count": 31,
   "metadata": {},
   "outputs": [
    {
     "data": {
      "text/plain": [
       "'Район №3'"
      ]
     },
     "metadata": {},
     "output_type": "display_data"
    },
    {
     "data": {
      "text/plain": [
       "'Фактическое количество нефти: 95.10114297343036'"
      ]
     },
     "metadata": {},
     "output_type": "display_data"
    },
    {
     "data": {
      "text/plain": [
       "'Предсказаное количество нефти: 94.95318209291585'"
      ]
     },
     "metadata": {},
     "output_type": "display_data"
    },
    {
     "data": {
      "text/plain": [
       "'RMSE: 40.405787939219984'"
      ]
     },
     "metadata": {},
     "output_type": "display_data"
    }
   ],
   "source": [
    "display(\"Район №3\")\n",
    "display(f\"Фактическое количество нефти: {test_3['product'].mean()}\")\n",
    "display(f\"Предсказаное количество нефти: {test_3['predict'].mean()}\")\n",
    "display(f\"RMSE: {mean_squared_error(test_3['product'], test_3['predict']) ** 0.5}\")"
   ]
  },
  {
   "cell_type": "markdown",
   "metadata": {},
   "source": [
    "<div class=\"alert alert-warning\">\n",
    "    <h2> Комментарий ревьюера <a class=\"tocSkip\"> </h2>\n",
    "    \n",
    "<b>Некоторые замечания и рекомендации⚠️:</b> \n",
    "\n",
    "Стоит добавить подписи данных для метрик, которые выводятся на печать.\n",
    "        \n",
    "</div>"
   ]
  },
  {
   "cell_type": "markdown",
   "metadata": {},
   "source": [
    "<div class=\"alert alert-success\">\n",
    "<h2> Комментарий ревьюера v.2 <a class=\"tocSkip\"> </h2>\n",
    "\n",
    "<b>Все отлично!👍</b> \n",
    "    \n",
    "Учтено!\n",
    "</div>"
   ]
  },
  {
   "cell_type": "markdown",
   "metadata": {},
   "source": [
    "<div class=\"alert alert-block alert-danger\">\n",
    "<h2> Комментарий ревьюера v.2 <a class=\"tocSkip\"></h2>\n",
    "\n",
    "    \n",
    "<b>На доработку❌:</b>\n",
    "    \n",
    "Для расчёта `RMSE` 2 и 3 регионов использованы таргеты из 1 региона."
   ]
  },
  {
   "cell_type": "markdown",
   "metadata": {},
   "source": [
    "<div class=\"alert alert-success\">\n",
    "<h2> Комментарий ревьюера v.3 <a class=\"tocSkip\"> </h2>\n",
    "\n",
    "<b>Все отлично!👍</b> \n",
    "    \n",
    "Учтено!\n",
    "</div>"
   ]
  },
  {
   "cell_type": "markdown",
   "metadata": {},
   "source": [
    "###  Вывод"
   ]
  },
  {
   "cell_type": "markdown",
   "metadata": {},
   "source": [
    "Из-за особенности распределения нефти во втором регионе, модель почти идеально пресказыват ее, чего не скажешь о первом и третьем там ошибка в среденм на 38 едениц."
   ]
  },
  {
   "cell_type": "markdown",
   "metadata": {},
   "source": [
    "<div class=\"alert alert-success\">\n",
    "<h2> Комментарий ревьюера <a class=\"tocSkip\"> </h2>\n",
    "\n",
    "<b>Все отлично!👍</b> \n",
    "    \n",
    "Сделан промежуточный вывод - отлично!\n",
    "</div>"
   ]
  },
  {
   "cell_type": "markdown",
   "metadata": {},
   "source": [
    "<div class=\"alert alert-block alert-danger\">\n",
    "<h2> Комментарий ревьюера <a class=\"tocSkip\"></h2>\n",
    "\n",
    "    \n",
    "<b>На доработку❌:</b>\n",
    "    \n",
    "Вывод нужно будет скорректировать по итогу исправления ошибки с объединением данных для обучения - он круто изменится:)"
   ]
  },
  {
   "cell_type": "markdown",
   "metadata": {},
   "source": [
    "<div class=\"alert alert-info\">\n",
    "<h2> Комментарий студента <a class=\"tocSkip\"> </h2>\n",
    "\n",
    "Среднее стало ближе, а вот ошибка больше, также не знаю что лучше)\n",
    "</div>"
   ]
  },
  {
   "cell_type": "markdown",
   "metadata": {},
   "source": [
    "<div class=\"alert alert-block alert-danger\">\n",
    "<h2> Комментарий ревьюера v.2 <a class=\"tocSkip\"></h2>\n",
    "\n",
    "    \n",
    "<b>На доработку❌:</b>\n",
    "    \n",
    "Всё ещё есть ошибки, вывод после их исправления покажется ещё более забавным:)"
   ]
  },
  {
   "cell_type": "markdown",
   "metadata": {},
   "source": [
    "<div class=\"alert alert-success\">\n",
    "<h2> Комментарий ревьюера v.3 <a class=\"tocSkip\"> </h2>\n",
    "\n",
    "<b>Все отлично!👍</b> \n",
    "    \n",
    "Учтено!\n",
    "</div>"
   ]
  },
  {
   "cell_type": "markdown",
   "metadata": {},
   "source": [
    "## Подготовка к расчёту прибыли"
   ]
  },
  {
   "cell_type": "code",
   "execution_count": 32,
   "metadata": {},
   "outputs": [],
   "source": [
    "PRODUCT_COUNT = BUDGET/COST_PER_WELL\n",
    "PRODUCT_COUNT_FOR_ONE = PRODUCT_COUNT/BEST_COUNT_WELL"
   ]
  },
  {
   "cell_type": "markdown",
   "metadata": {},
   "source": [
    "<div class=\"alert alert-success\">\n",
    "<h2> Комментарий ревьюера <a class=\"tocSkip\"> </h2>\n",
    "\n",
    "<b>Все отлично!👍</b> \n",
    "    \n",
    "Задали несколько важных констант - отлично!\n",
    "</div>"
   ]
  },
  {
   "cell_type": "markdown",
   "metadata": {},
   "source": [
    "<div class=\"alert alert-warning\">\n",
    "    <h2> Комментарий ревьюера <a class=\"tocSkip\"> </h2>\n",
    "    \n",
    "<b>Некоторые замечания и рекомендации⚠️:</b> \n",
    "\n",
    "Несколько рекомендаций по работе с константами:\n",
    "1. Согласно стандарту написания кода <a href='https://pythonworld.ru/osnovy/pep-8-rukovodstvo-po-napisaniyu-koda-na-python.html'>PEP 8</a> константы следует задавать в верхнем регистре.\n",
    "2. Обычно константы принято объявлять в начале проекта - отлично подойдёт ячейка, следующая за ячейкой импорта библиотек.\n",
    "        \n",
    "</div>"
   ]
  },
  {
   "cell_type": "markdown",
   "metadata": {},
   "source": [
    "<div class=\"alert alert-success\">\n",
    "<h2> Комментарий ревьюера v.2 <a class=\"tocSkip\"> </h2>\n",
    "\n",
    "<b>Все отлично!👍</b> \n",
    "    \n",
    "Учтено!\n",
    "</div>"
   ]
  },
  {
   "cell_type": "markdown",
   "metadata": {},
   "source": [
    "<div class=\"alert alert-block alert-danger\">\n",
    "<h2> Комментарий ревьюера <a class=\"tocSkip\"></h2>\n",
    "\n",
    "    \n",
    "<b>На доработку❌:</b>\n",
    "    \n",
    "Нам пригодятся ещё и другие константы: \n",
    "- бюджет на разработку региона;\n",
    "- количество доступных точек для разработки в регионе;\n",
    "- количество лучших точек в регионе, которые мы выбираем для разработки в регионе;\n",
    "- цена единцы продукции.\n",
    "\n",
    "Давай добавим эти константы?"
   ]
  },
  {
   "cell_type": "markdown",
   "metadata": {},
   "source": [
    "<div class=\"alert alert-success\">\n",
    "<h2> Комментарий ревьюера v.2 <a class=\"tocSkip\"> </h2>\n",
    "\n",
    "<b>Все отлично!👍</b> \n",
    "    \n",
    "Учтено!\n",
    "</div>"
   ]
  },
  {
   "cell_type": "code",
   "execution_count": 33,
   "metadata": {
    "scrolled": true
   },
   "outputs": [
    {
     "data": {
      "text/plain": [
       "'Среднее количество нефти для одной скважини для окупания: 111.11111111111111'"
      ]
     },
     "metadata": {},
     "output_type": "display_data"
    },
    {
     "data": {
      "text/plain": [
       "'Среднее предсказаное количество нефти в регионе 1: 92.22748940211034'"
      ]
     },
     "metadata": {},
     "output_type": "display_data"
    },
    {
     "data": {
      "text/plain": [
       "'Среднее предсказаное количество нефти в регионе 2: 68.86192881385603'"
      ]
     },
     "metadata": {},
     "output_type": "display_data"
    },
    {
     "data": {
      "text/plain": [
       "'Среднее предсказаное количество нефти в регионе 3: 94.95318209291585'"
      ]
     },
     "metadata": {},
     "output_type": "display_data"
    }
   ],
   "source": [
    "display(f'Среднее количество нефти для одной скважини для окупания: {PRODUCT_COUNT_FOR_ONE}')\n",
    "display(f\"Среднее предсказаное количество нефти в регионе 1: {test_1['predict'].mean()}\")\n",
    "display(f\"Среднее предсказаное количество нефти в регионе 2: {test_2['predict'].mean()}\")\n",
    "display(f\"Среднее предсказаное количество нефти в регионе 3: {test_3['predict'].mean()}\")"
   ]
  },
  {
   "cell_type": "markdown",
   "metadata": {},
   "source": [
    "<div class=\"alert alert-success\">\n",
    "<h2> Комментарий ревьюера <a class=\"tocSkip\"> </h2>\n",
    "\n",
    "<b>Все отлично!👍</b> \n",
    "    \n",
    "Оценили запас сырья, необходимый для безубыточной работы в регионе - хорошо!\n",
    "</div>"
   ]
  },
  {
   "cell_type": "markdown",
   "metadata": {},
   "source": [
    "<div class=\"alert alert-warning\">\n",
    "    <h2> Комментарий ревьюера <a class=\"tocSkip\"> </h2>\n",
    "    \n",
    "<b>Некоторые замечания и рекомендации⚠️:</b> \n",
    "\n",
    "Стоит добавить подписи данных для метрик, которые выводятся на печать.\n",
    "        \n",
    "</div>"
   ]
  },
  {
   "cell_type": "markdown",
   "metadata": {},
   "source": [
    "<div class=\"alert alert-success\">\n",
    "<h2> Комментарий ревьюера v.2 <a class=\"tocSkip\"> </h2>\n",
    "\n",
    "<b>Все отлично!👍</b> \n",
    "    \n",
    "Учтено!\n",
    "</div>"
   ]
  },
  {
   "cell_type": "markdown",
   "metadata": {},
   "source": [
    "<div class=\"alert alert-block alert-danger\">\n",
    "<h2> Комментарий ревьюера <a class=\"tocSkip\"></h2>\n",
    "\n",
    "    \n",
    "<b>На доработку❌:</b>\n",
    "    \n",
    "Объём сырья для безубыточной работы нужно сравнивать со средним запасом сырья не на правильных ответах, а на предсказанных значениях - в реальном проекте правильных ответов мы не знаем, поэтому работать можем только с предсказанными, а также именно на предсказанных значениях мы и будем дальне принимать решения."
   ]
  },
  {
   "cell_type": "markdown",
   "metadata": {},
   "source": [
    "<div class=\"alert alert-success\">\n",
    "<h2> Комментарий ревьюера v.2 <a class=\"tocSkip\"> </h2>\n",
    "\n",
    "<b>Все отлично!👍</b> \n",
    "    \n",
    "Учтено!\n",
    "</div>"
   ]
  },
  {
   "cell_type": "code",
   "execution_count": 34,
   "metadata": {},
   "outputs": [],
   "source": [
    "def count_risk(target):\n",
    "    state = np.random.RandomState(STATE)\n",
    "    values = []\n",
    "    for i in range(1000):\n",
    "        target_sam = target.sample(COUNT_WELL, \n",
    "                                   random_state = state, replace=True).sort_values(by = \"predict\", \n",
    "                                                                     ascending = False).head(BEST_COUNT_WELL)\n",
    "        values.append(target_sam['product'].sum() * COST_PER_WELL - BUDGET)\n",
    "    values = pd.Series(values)\n",
    "    display(f\"Риск не окупить бюджет: {round(values.loc[values < 0].count()/values.count()*100,1)}%\")\n",
    "    display(f\"Доверительный интервал (в млн.)\")\n",
    "    display(round(values.quantile(.025) / SCALE,3))\n",
    "    display(round(values.quantile(.975) / SCALE,3))\n",
    "    display(f\"Среднее значение {round(values.mean() / SCALE,3)}млн.\")"
   ]
  },
  {
   "cell_type": "markdown",
   "metadata": {},
   "source": [
    "### Вывод"
   ]
  },
  {
   "cell_type": "markdown",
   "metadata": {},
   "source": [
    "В среденм нужно 111 едениц нефти со скважины что-бы строительство окупилось. Среднее значения по регионам ниже необходимного, но это среднее по 25к скважинам, следовательно должны быть скважины в которых нефти достаточно. По этому дальше используем бутстрап для дальнейшей оценки рисков и прибыли."
   ]
  },
  {
   "cell_type": "markdown",
   "metadata": {},
   "source": [
    "<div class=\"alert alert-success\">\n",
    "<h2> Комментарий ревьюера <a class=\"tocSkip\"> </h2>\n",
    "\n",
    "<b>Все отлично!👍</b> \n",
    "    \n",
    "Среднего запаса сырья в каждом регионе недостаточно для безубыточной работы - окей!\n",
    "</div>"
   ]
  },
  {
   "cell_type": "markdown",
   "metadata": {},
   "source": [
    "<div class=\"alert alert-warning\">\n",
    "    <h2> Комментарий ревьюера <a class=\"tocSkip\"> </h2>\n",
    "    \n",
    "<b>Некоторые замечания и рекомендации⚠️:</b> \n",
    "\n",
    "В целом верно, но я бы чуть изменил формулировку: сважины не должны быть, скорее, в каждом регионе есть скважины как с низким, так и с высоким запасом сырья, и мы равновероятно можем угодить как в ту, как и в другую. Поэтому нам важно оценить прибыль и риски работы в регионах, используя технику бутстрапирования.\n",
    "        \n",
    "</div>"
   ]
  },
  {
   "cell_type": "markdown",
   "metadata": {},
   "source": [
    "<div class=\"alert alert-success\">\n",
    "<h2> Комментарий ревьюера v.2 <a class=\"tocSkip\"> </h2>\n",
    "\n",
    "<b>Все отлично!👍</b> \n",
    "    \n",
    "Учтено!\n",
    "</div>"
   ]
  },
  {
   "cell_type": "markdown",
   "metadata": {},
   "source": [
    "<div class=\"alert alert-block alert-danger\">\n",
    "<h2> Комментарий ревьюера <a class=\"tocSkip\"></h2>\n",
    "\n",
    "    \n",
    "<b>На доработку❌:</b>\n",
    "    \n",
    "Функция для расчёта прибыли не написана."
   ]
  },
  {
   "cell_type": "markdown",
   "metadata": {},
   "source": [
    "<div class=\"alert alert-success\">\n",
    "<h2> Комментарий ревьюера v.2 <a class=\"tocSkip\"> </h2>\n",
    "\n",
    "<b>Все отлично!👍</b> \n",
    "    \n",
    "Учтено!\n",
    "</div>"
   ]
  },
  {
   "cell_type": "markdown",
   "metadata": {},
   "source": [
    "## Расчёт прибыли и рисков "
   ]
  },
  {
   "cell_type": "markdown",
   "metadata": {},
   "source": [
    "Для начала посмотрим на прибыль если брать все скважины и предсказания модели."
   ]
  },
  {
   "cell_type": "code",
   "execution_count": 35,
   "metadata": {},
   "outputs": [],
   "source": [
    "test_1_sort = test_1.sort_values(by = \"predict\", ascending = False)\n",
    "test_2_sort = test_2.sort_values(by = \"predict\", ascending = False)\n",
    "test_3_sort = test_3.sort_values(by = \"predict\", ascending = False)"
   ]
  },
  {
   "cell_type": "code",
   "execution_count": 36,
   "metadata": {},
   "outputs": [],
   "source": [
    "test_1_200 = test_1_sort.head(200)\n",
    "test_2_200 = test_2_sort.head(200)\n",
    "test_3_200 = test_3_sort.head(200)"
   ]
  },
  {
   "cell_type": "code",
   "execution_count": 37,
   "metadata": {},
   "outputs": [
    {
     "data": {
      "text/plain": [
       "'Максимально возможная прибыль по проедсказанию (в млн.)'"
      ]
     },
     "metadata": {},
     "output_type": "display_data"
    },
    {
     "data": {
      "text/plain": [
       "'Регион №1 3132.06'"
      ]
     },
     "metadata": {},
     "output_type": "display_data"
    },
    {
     "data": {
      "text/plain": [
       "'Регион №2 2415.087'"
      ]
     },
     "metadata": {},
     "output_type": "display_data"
    },
    {
     "data": {
      "text/plain": [
       "'Регион №3 2395.894'"
      ]
     },
     "metadata": {},
     "output_type": "display_data"
    }
   ],
   "source": [
    "display(f'Максимально возможная прибыль по проедсказанию (в млн.)')\n",
    "display(f'Регион №1 {round((test_1_200[\"product\"].sum()*450000 - BUDGET) / SCALE,3)}')\n",
    "display(f'Регион №2 {round((test_2_200[\"product\"].sum()*450000 - BUDGET) / SCALE,3)}')\n",
    "display(f'Регион №3 {round((test_3_200[\"product\"].sum()*450000 - BUDGET) / SCALE,3)}')"
   ]
  },
  {
   "cell_type": "markdown",
   "metadata": {},
   "source": [
    "<div class=\"alert alert-warning\">\n",
    "    <h2> Комментарий ревьюера <a class=\"tocSkip\"> </h2>\n",
    "    \n",
    "<b>Некоторые замечания и рекомендации⚠️:</b> \n",
    "\n",
    "Стоит добавить подписи данных для метрик, которые выводятся на печать.\n",
    "        \n",
    "</div>"
   ]
  },
  {
   "cell_type": "markdown",
   "metadata": {},
   "source": [
    "<div class=\"alert alert-success\">\n",
    "<h2> Комментарий ревьюера v.2 <a class=\"tocSkip\"> </h2>\n",
    "\n",
    "<b>Все отлично!👍</b> \n",
    "    \n",
    "Учтено!\n",
    "</div>"
   ]
  },
  {
   "cell_type": "markdown",
   "metadata": {},
   "source": [
    "<div class=\"alert alert-block alert-danger\">\n",
    "<h2> Комментарий ревьюера <a class=\"tocSkip\"></h2>\n",
    "\n",
    "    \n",
    "<b>На доработку❌:</b>\n",
    "    \n",
    "Пара важных моментов:\n",
    "    \n",
    "1. Тут посчитана не прибыль, а доход. Чтобы получить прибыль, от дохода следует отнять затраты - в нашем случае это расходы на разработку региона.\n",
    "    \n",
    "2. Также здесь и далее в функции расчёта прибыли и рисков стоит перейти к более читабельным цифрам - хотя бы к миллионам, можно к миллиардам. Просто рубли в контексте таких больших сумм воспринимать довольно сложно.\n",
    "    \n",
    "3. Оценка прибыли \"в лоб\" здесь не будет очень корректным решением: беря просто 200 лучших точек по предикту, мы рискуем взять 200 худших точек в реальном бизнесе. Именно поэтому при бутстрапировании 200 лучших точек отбираются случайно. Поэтому текущий расчёт прибыли несколько оторван от бизнес-составляющей - его в целом можно удалить."
   ]
  },
  {
   "cell_type": "markdown",
   "metadata": {},
   "source": [
    "<div class=\"alert alert-success\">\n",
    "<h2> Комментарий ревьюера v.2 <a class=\"tocSkip\"> </h2>\n",
    "\n",
    "<b>Все отлично!👍</b> \n",
    "    \n",
    "Учтено!\n",
    "</div>"
   ]
  },
  {
   "cell_type": "markdown",
   "metadata": {},
   "source": [
    "Если из 25к скважин выбрать 200 самых лучших (по предсказанию), то все три региона окупятся."
   ]
  },
  {
   "cell_type": "markdown",
   "metadata": {},
   "source": [
    "<div class=\"alert alert-warning\">\n",
    "    <h2> Комментарий ревьюера <a class=\"tocSkip\"> </h2>\n",
    "    \n",
    "<b>Некоторые замечания и рекомендации⚠️:</b> \n",
    "\n",
    "Пара некритических замечаний:\n",
    "1. Параметры количеста точек для сэмплирования, количества лучших точек и стоимости продута задаются руками - стоит использовать константы.\n",
    "2. Вывод интервала в виде `а-в` не очень читабелен, если оба конца интервала будут отрицательными, к примеру `-10.03213412--5.123135124` - выглядит не очень:) Поэтому значения стоит округлить и визуально разделить. Можно даже отдельно печатать нижнюю и верхнюю границы интервала на разных строках.\n",
    "3. `pass` в конце цикла функции не нужно - этот оператор используется в циклах как команда для продолжения цикла в случае справедливости каких-то условий. Функцию стоит завершать оператором `return`, если она что-то возвращает, а если ничего не возвращает - можно не использовать операторы. `pass` стоит удалить.\n",
    "        \n",
    "</div>"
   ]
  },
  {
   "cell_type": "markdown",
   "metadata": {},
   "source": [
    "<div class=\"alert alert-block alert-danger\">\n",
    "<h2> Комментарий ревьюера <a class=\"tocSkip\"></h2>\n",
    "\n",
    "    \n",
    "<b>На доработку❌:</b>\n",
    "\n",
    "Функция для расчёта прибыли и рисков написана некорректно:\n",
    "1. При сэмплировании не задан параметр `replace`, чтобы происходило сэмплирование с возвращением.\n",
    "2. Предикты сорируются по возрастанию - таким образом отбираем 200 худших точек.\n",
    "3. Считается доход, а не прибыль.\n",
    "4. Нет функции для расчёта прибыли.\n",
    "5. Не посчитан риск работы в регионе: для этого нужно количество отрицательных значений в переменной `values` поделить на общее количество значений в переменной - получим вероятность отрицательного финансового результата.\n",
    "        \n",
    "</div>"
   ]
  },
  {
   "cell_type": "markdown",
   "metadata": {},
   "source": [
    "<div class=\"alert alert-info\">\n",
    "<h2> Комментарий студента <a class=\"tocSkip\"> </h2>\n",
    "\n",
    "Так `replace` дает возможно в одну выборку взять одну скважину дважды, ну а мы не можем же отдно и тоже место дважды использовать. \n",
    "</div>"
   ]
  },
  {
   "cell_type": "markdown",
   "metadata": {},
   "source": [
    "<div class=\"alert alert-success\">\n",
    "<h2> Комментарий ревьюера v.2 <a class=\"tocSkip\"> </h2>\n",
    "\n",
    "<b>Все отлично!👍</b> \n",
    "    \n",
    "Всё учтено!\n",
    "</div>"
   ]
  },
  {
   "cell_type": "markdown",
   "metadata": {},
   "source": [
    "<div class=\"alert alert-warning\">\n",
    "    <h2> Комментарий ревьюера v.2 <a class=\"tocSkip\"> </h2>\n",
    "    \n",
    "<b>Некоторые замечания и рекомендации⚠️:</b> \n",
    "\n",
    "По поводу `replace=True` - спасибо, что описал своё мнение, я с ним могу согласиться:) С другой стороны, сам процесс бутстрапирования имитирует дополнительные разведки региона в 500 точек, которые мы выбираем случайно - это моделирует процесс, в котором мы приходим на кусок земли и начинаем тыкать в него палками, отмечая зоны для разработки. К тому же, случается, что при разработке казалось бы новой скважины мы утыкаемся в старую скважину. Да и в целом скважины могут быть друг на друга похожи - именно это и помогает смоделировать `replace=True`. \n",
    "        \n",
    "Во всяком случае, автор проекта приследовал такую логику:) В целом твоя тоже имеет место быть, поэтому если этот параметр не будет настроен - я всё равно приму проект, но предлагаю сделать по авторскому канону:)\n",
    "        \n",
    "</div>"
   ]
  },
  {
   "cell_type": "markdown",
   "metadata": {},
   "source": [
    "<div class=\"alert alert-success\">\n",
    "<h2> Комментарий ревьюера v.3 <a class=\"tocSkip\"> </h2>\n",
    "\n",
    "<b>Все отлично!👍</b> \n",
    "    \n",
    "Учтено!\n",
    "</div>"
   ]
  },
  {
   "cell_type": "code",
   "execution_count": 38,
   "metadata": {},
   "outputs": [
    {
     "data": {
      "text/plain": [
       "'Регион №1'"
      ]
     },
     "metadata": {},
     "output_type": "display_data"
    },
    {
     "data": {
      "text/plain": [
       "'Риск не окупить бюджет: 3.2%'"
      ]
     },
     "metadata": {},
     "output_type": "display_data"
    },
    {
     "data": {
      "text/plain": [
       "'Доверительный интервал (в млн.)'"
      ]
     },
     "metadata": {},
     "output_type": "display_data"
    },
    {
     "data": {
      "text/plain": [
       "-18.274"
      ]
     },
     "metadata": {},
     "output_type": "display_data"
    },
    {
     "data": {
      "text/plain": [
       "980.716"
      ]
     },
     "metadata": {},
     "output_type": "display_data"
    },
    {
     "data": {
      "text/plain": [
       "'Среднее значение 475.014млн.'"
      ]
     },
     "metadata": {},
     "output_type": "display_data"
    }
   ],
   "source": [
    "display(\"Регион №1\")\n",
    "count_risk(test_1)"
   ]
  },
  {
   "cell_type": "code",
   "execution_count": 39,
   "metadata": {},
   "outputs": [
    {
     "data": {
      "text/plain": [
       "'Регион №2'"
      ]
     },
     "metadata": {},
     "output_type": "display_data"
    },
    {
     "data": {
      "text/plain": [
       "'Риск не окупить бюджет: 1.8%'"
      ]
     },
     "metadata": {},
     "output_type": "display_data"
    },
    {
     "data": {
      "text/plain": [
       "'Доверительный интервал (в млн.)'"
      ]
     },
     "metadata": {},
     "output_type": "display_data"
    },
    {
     "data": {
      "text/plain": [
       "13.934"
      ]
     },
     "metadata": {},
     "output_type": "display_data"
    },
    {
     "data": {
      "text/plain": [
       "871.589"
      ]
     },
     "metadata": {},
     "output_type": "display_data"
    },
    {
     "data": {
      "text/plain": [
       "'Среднее значение 438.083млн.'"
      ]
     },
     "metadata": {},
     "output_type": "display_data"
    }
   ],
   "source": [
    "display(\"Регион №2\")\n",
    "count_risk(test_2)"
   ]
  },
  {
   "cell_type": "code",
   "execution_count": 40,
   "metadata": {},
   "outputs": [
    {
     "data": {
      "text/plain": [
       "'Регион №3'"
      ]
     },
     "metadata": {},
     "output_type": "display_data"
    },
    {
     "data": {
      "text/plain": [
       "'Риск не окупить бюджет: 11.2%'"
      ]
     },
     "metadata": {},
     "output_type": "display_data"
    },
    {
     "data": {
      "text/plain": [
       "'Доверительный интервал (в млн.)'"
      ]
     },
     "metadata": {},
     "output_type": "display_data"
    },
    {
     "data": {
      "text/plain": [
       "-189.4"
      ]
     },
     "metadata": {},
     "output_type": "display_data"
    },
    {
     "data": {
      "text/plain": [
       "819.92"
      ]
     },
     "metadata": {},
     "output_type": "display_data"
    },
    {
     "data": {
      "text/plain": [
       "'Среднее значение 333.212млн.'"
      ]
     },
     "metadata": {},
     "output_type": "display_data"
    }
   ],
   "source": [
    "display(\"Регион №3\")\n",
    "count_risk(test_3)"
   ]
  },
  {
   "cell_type": "markdown",
   "metadata": {},
   "source": [
    "### Вывод"
   ]
  },
  {
   "cell_type": "markdown",
   "metadata": {},
   "source": [
    "Если выбиарть по 500 случайных скважин и из них 200 лучших, то окупиться получится во всех регионах, но лучше всего это сделать в регионе №2 поскольку там достаточно большая прибыли и риск минимален, всего 1.8%. Вторым идет регион №1 там максимальная прибыль, не сильно отличающаеся от второго региона, но риск 3.2%. Регион 3 следует рассматривать последним, по скольку там максимальный риск и минимальная прибыль."
   ]
  },
  {
   "cell_type": "markdown",
   "metadata": {},
   "source": [
    "<div class=\"alert alert-success\">\n",
    "<h2> Комментарий ревьюера <a class=\"tocSkip\"> </h2>\n",
    "\n",
    "<b>Все отлично!👍</b> \n",
    "    \n",
    "Есть итоговый вывод с обоснованием региона для работы - супер!\n",
    "</div>"
   ]
  },
  {
   "cell_type": "markdown",
   "metadata": {},
   "source": [
    "<div class=\"alert alert-block alert-danger\">\n",
    "<h2> Комментарий ревьюера <a class=\"tocSkip\"></h2>\n",
    "\n",
    "    \n",
    "<b>На доработку❌:</b>\n",
    "\n",
    "Вывод стоит переделать после исправления ошибок.\n",
    "        \n",
    "</div>"
   ]
  },
  {
   "cell_type": "markdown",
   "metadata": {},
   "source": [
    "<div class=\"alert alert-success\">\n",
    "<h2> Комментарий ревьюера v.2 <a class=\"tocSkip\"> </h2>\n",
    "\n",
    "<b>Все отлично!👍</b> \n",
    "    \n",
    "Есть итоговый вывод с обоснованием региона для работы - супер!\n",
    "</div>"
   ]
  },
  {
   "cell_type": "markdown",
   "metadata": {},
   "source": [
    "## Чек-лист готовности проекта"
   ]
  },
  {
   "cell_type": "markdown",
   "metadata": {},
   "source": [
    "Поставьте 'x' в выполненных пунктах. Далее нажмите Shift+Enter."
   ]
  },
  {
   "cell_type": "markdown",
   "metadata": {},
   "source": [
    "- [x]  Jupyter Notebook открыт\n",
    "- [ ]  Весь код выполняется без ошибок\n",
    "- [ ]  Ячейки с кодом расположены в порядке исполнения\n",
    "- [ ]  Выполнен шаг 1: данные подготовлены\n",
    "- [ ]  Выполнен шаг 2: модели обучены и проверены\n",
    "    - [ ]  Данные корректно разбиты на обучающую и валидационную выборки\n",
    "    - [ ]  Модели обучены, предсказания сделаны\n",
    "    - [ ]  Предсказания и правильные ответы на валидационной выборке сохранены\n",
    "    - [ ]  На экране напечатаны результаты\n",
    "    - [ ]  Сделаны выводы\n",
    "- [ ]  Выполнен шаг 3: проведена подготовка к расчёту прибыли\n",
    "    - [ ]  Для всех ключевых значений созданы константы Python\n",
    "    - [ ]  Посчитано минимальное среднее количество продукта в месторождениях региона, достаточное для разработки\n",
    "    - [ ]  По предыдущему пункту сделаны выводы\n",
    "    - [ ]  Написана функция расчёта прибыли\n",
    "- [ ]  Выполнен шаг 4: посчитаны риски и прибыль\n",
    "    - [ ]  Проведена процедура *Bootstrap*\n",
    "    - [ ]  Все параметры бутстрепа соответствуют условию\n",
    "    - [ ]  Найдены все нужные величины\n",
    "    - [ ]  Предложен регион для разработки месторождения\n",
    "    - [ ]  Выбор региона обоснован"
   ]
  },
  {
   "cell_type": "markdown",
   "metadata": {},
   "source": [
    "<div style=\"border:solid Chocolate 2px; padding: 40px\">\n",
    "\n",
    "# Комментарий ревьюера: общий вывод по проекту.\n",
    "\n",
    "Иван, ты хорошо потрудился и сделал неплохую основу будущего отличного проекта - молодец, хорошая работа!\n",
    "\n",
    "Далее мы с тобой займёмся причёсыванием результата и доведением его до идеального состояния:)\n",
    "    \n",
    "В проекте есть рекомендации по повышению его обшего качества. Несмотря на то, что они не являются критическими по степени влияния на итоговый результат, они всё же призваны обратить внимание на какие-то ошибки, неточности или узкиие моменты. Такие рекомендации я отметил жёлтыми комментариями. Будет здорово, если ты учтёшь их - так проект станет структурно и содержательно более совершенным.\n",
    "    \n",
    "Также в проекте есть критические замечания. К ним я оставил комментарии красного цвета с пояснением внутри. Важно учесть эти замечания, чтобы проект был принят.\n",
    "    \n",
    "Если по тому, что нужно сделать, будут вопросы - оставь их, пожалуйста, в комментариях, и я отвечу на них во время следующего ревью:)\n",
    "    \n",
    "Также буду рад ответить на любые твои вопросы по проекту или на какие-либо другие, если они у тебя имеются - оставь их в комментариях, и я постараюсь ответить:)\n",
    "    \n",
    "Жду твой проект на повторном ревью. До встречи:)"
   ]
  },
  {
   "cell_type": "markdown",
   "metadata": {},
   "source": [
    "<div style=\"border:solid Chocolate 2px; padding: 40px\">\n",
    "\n",
    "# Комментарий ревьюера: общий вывод по проекту v.2.\n",
    "\n",
    "Иван, спасибо, что прислал проект на повторое ревью: почти все важные моменты были урегулированы, также учтены рекомендации по улучшению проекта - отлично поработал!\n",
    "    \n",
    "Стоит вернуться к аналитике во втором блоке и расчёту ошибок в третьем блоке - там ещё есть что поправить. Также оставил тебе комментарий по поводу сэмплирования с возвращением и его роли в данном проекте.\n",
    "    \n",
    "Жду твою работу на повторном и, кажется, последнем ревью:)\n",
    "    \n",
    "До встречи!"
   ]
  },
  {
   "cell_type": "markdown",
   "metadata": {},
   "source": [
    "<div style=\"border:solid Chocolate 2px; padding: 40px\">\n",
    "\n",
    "# Комментарий ревьюера: общий вывод по проекту v.3.\n",
    "\n",
    "Иван, по проекту больше нет вопросов - твоя работа принята!\n",
    "\n",
    "Спасибо за отличную работу над проектом, желаю успехов в дальнейшем обучении:)"
   ]
  }
 ],
 "metadata": {
  "ExecuteTimeLog": [
   {
    "duration": 347,
    "start_time": "2022-08-21T08:14:00.540Z"
   },
   {
    "duration": 1556,
    "start_time": "2022-08-21T08:14:56.792Z"
   },
   {
    "duration": 64,
    "start_time": "2022-08-21T08:15:29.750Z"
   },
   {
    "duration": 29,
    "start_time": "2022-08-21T08:15:37.846Z"
   },
   {
    "duration": 22,
    "start_time": "2022-08-21T08:15:53.685Z"
   },
   {
    "duration": 23,
    "start_time": "2022-08-21T08:16:04.260Z"
   },
   {
    "duration": 79,
    "start_time": "2022-08-21T08:19:13.917Z"
   },
   {
    "duration": 48,
    "start_time": "2022-08-21T08:19:18.772Z"
   },
   {
    "duration": 40,
    "start_time": "2022-08-21T08:19:27.275Z"
   },
   {
    "duration": 43,
    "start_time": "2022-08-21T08:19:32.755Z"
   },
   {
    "duration": 689,
    "start_time": "2022-08-21T08:23:12.058Z"
   },
   {
    "duration": 54,
    "start_time": "2022-08-21T08:31:09.470Z"
   },
   {
    "duration": 23,
    "start_time": "2022-08-21T08:31:14.156Z"
   },
   {
    "duration": 33,
    "start_time": "2022-08-21T08:31:20.686Z"
   },
   {
    "duration": 8,
    "start_time": "2022-08-21T08:32:04.583Z"
   },
   {
    "duration": 31,
    "start_time": "2022-08-21T08:32:10.852Z"
   },
   {
    "duration": 16,
    "start_time": "2022-08-21T08:33:11.058Z"
   },
   {
    "duration": 39,
    "start_time": "2022-08-21T08:33:17.689Z"
   },
   {
    "duration": 43,
    "start_time": "2022-08-21T08:33:26.881Z"
   },
   {
    "duration": 10,
    "start_time": "2022-08-21T08:36:42.722Z"
   },
   {
    "duration": 50,
    "start_time": "2022-08-21T08:37:10.011Z"
   },
   {
    "duration": 2,
    "start_time": "2022-08-21T08:37:27.873Z"
   },
   {
    "duration": 387,
    "start_time": "2022-08-21T08:37:27.877Z"
   },
   {
    "duration": 23,
    "start_time": "2022-08-21T08:37:28.265Z"
   },
   {
    "duration": 38,
    "start_time": "2022-08-21T08:37:28.290Z"
   },
   {
    "duration": 20,
    "start_time": "2022-08-21T08:37:28.329Z"
   },
   {
    "duration": 57,
    "start_time": "2022-08-21T08:37:28.351Z"
   },
   {
    "duration": 37,
    "start_time": "2022-08-21T08:37:28.410Z"
   },
   {
    "duration": 38,
    "start_time": "2022-08-21T08:37:28.449Z"
   },
   {
    "duration": 54,
    "start_time": "2022-08-21T08:37:28.506Z"
   },
   {
    "duration": 58,
    "start_time": "2022-08-21T08:37:30.991Z"
   },
   {
    "duration": 25,
    "start_time": "2022-08-21T08:39:02.755Z"
   },
   {
    "duration": 8,
    "start_time": "2022-08-21T08:39:15.755Z"
   },
   {
    "duration": 43,
    "start_time": "2022-08-21T08:39:19.554Z"
   },
   {
    "duration": 25,
    "start_time": "2022-08-21T08:39:27.419Z"
   },
   {
    "duration": 3,
    "start_time": "2022-08-21T08:42:31.507Z"
   },
   {
    "duration": 38786,
    "start_time": "2022-08-21T08:43:38.736Z"
   },
   {
    "duration": 44201,
    "start_time": "2022-08-21T08:46:14.073Z"
   },
   {
    "duration": 16119,
    "start_time": "2022-08-21T08:50:57.798Z"
   },
   {
    "duration": 30,
    "start_time": "2022-08-21T08:52:48.118Z"
   },
   {
    "duration": 10,
    "start_time": "2022-08-21T08:52:50.969Z"
   },
   {
    "duration": 8,
    "start_time": "2022-08-21T08:52:52.745Z"
   },
   {
    "duration": 12,
    "start_time": "2022-08-21T08:52:54.961Z"
   },
   {
    "duration": 6049,
    "start_time": "2022-08-21T08:53:04.577Z"
   },
   {
    "duration": 2331,
    "start_time": "2022-08-21T08:53:37.672Z"
   },
   {
    "duration": 2124,
    "start_time": "2022-08-21T08:56:18.624Z"
   },
   {
    "duration": 3,
    "start_time": "2022-08-21T08:57:18.870Z"
   },
   {
    "duration": 13,
    "start_time": "2022-08-21T08:58:59.477Z"
   },
   {
    "duration": 3,
    "start_time": "2022-08-21T08:59:15.400Z"
   },
   {
    "duration": 324,
    "start_time": "2022-08-21T08:59:15.405Z"
   },
   {
    "duration": 21,
    "start_time": "2022-08-21T08:59:15.731Z"
   },
   {
    "duration": 19,
    "start_time": "2022-08-21T08:59:15.753Z"
   },
   {
    "duration": 47,
    "start_time": "2022-08-21T08:59:15.774Z"
   },
   {
    "duration": 39,
    "start_time": "2022-08-21T08:59:15.823Z"
   },
   {
    "duration": 33,
    "start_time": "2022-08-21T08:59:15.864Z"
   },
   {
    "duration": 53,
    "start_time": "2022-08-21T08:59:15.907Z"
   },
   {
    "duration": 46,
    "start_time": "2022-08-21T08:59:15.961Z"
   },
   {
    "duration": 30,
    "start_time": "2022-08-21T08:59:19.201Z"
   },
   {
    "duration": 8,
    "start_time": "2022-08-21T09:00:46.927Z"
   },
   {
    "duration": 12,
    "start_time": "2022-08-21T09:00:53.933Z"
   },
   {
    "duration": 1096,
    "start_time": "2022-08-21T09:01:19.319Z"
   },
   {
    "duration": 341,
    "start_time": "2022-08-21T09:01:20.417Z"
   },
   {
    "duration": 29,
    "start_time": "2022-08-21T09:01:20.760Z"
   },
   {
    "duration": 40,
    "start_time": "2022-08-21T09:01:20.791Z"
   },
   {
    "duration": 22,
    "start_time": "2022-08-21T09:01:20.833Z"
   },
   {
    "duration": 72,
    "start_time": "2022-08-21T09:01:20.856Z"
   },
   {
    "duration": 41,
    "start_time": "2022-08-21T09:01:20.929Z"
   },
   {
    "duration": 72,
    "start_time": "2022-08-21T09:01:20.972Z"
   },
   {
    "duration": 43,
    "start_time": "2022-08-21T09:01:21.046Z"
   },
   {
    "duration": 11,
    "start_time": "2022-08-21T09:01:23.092Z"
   },
   {
    "duration": 33,
    "start_time": "2022-08-21T09:02:33.290Z"
   },
   {
    "duration": 11,
    "start_time": "2022-08-21T09:02:39.697Z"
   },
   {
    "duration": 9,
    "start_time": "2022-08-21T09:02:41.952Z"
   },
   {
    "duration": 10,
    "start_time": "2022-08-21T09:03:48.526Z"
   },
   {
    "duration": 2184,
    "start_time": "2022-08-21T09:03:50.398Z"
   },
   {
    "duration": 5,
    "start_time": "2022-08-21T09:06:27.321Z"
   },
   {
    "duration": 115,
    "start_time": "2022-08-21T09:08:07.204Z"
   },
   {
    "duration": 131,
    "start_time": "2022-08-21T09:08:20.082Z"
   },
   {
    "duration": 111,
    "start_time": "2022-08-21T09:09:35.200Z"
   },
   {
    "duration": 122,
    "start_time": "2022-08-21T09:09:39.419Z"
   },
   {
    "duration": 20,
    "start_time": "2022-08-21T09:09:43.663Z"
   },
   {
    "duration": 7,
    "start_time": "2022-08-21T09:35:38.118Z"
   },
   {
    "duration": 3,
    "start_time": "2022-08-21T09:37:57.420Z"
   },
   {
    "duration": 9,
    "start_time": "2022-08-21T09:42:38.527Z"
   },
   {
    "duration": 3,
    "start_time": "2022-08-21T09:42:47.767Z"
   },
   {
    "duration": 382,
    "start_time": "2022-08-21T09:42:47.771Z"
   },
   {
    "duration": 21,
    "start_time": "2022-08-21T09:42:48.155Z"
   },
   {
    "duration": 39,
    "start_time": "2022-08-21T09:42:48.178Z"
   },
   {
    "duration": 23,
    "start_time": "2022-08-21T09:42:48.220Z"
   },
   {
    "duration": 39,
    "start_time": "2022-08-21T09:42:48.245Z"
   },
   {
    "duration": 67,
    "start_time": "2022-08-21T09:42:48.286Z"
   },
   {
    "duration": 55,
    "start_time": "2022-08-21T09:42:48.355Z"
   },
   {
    "duration": 39,
    "start_time": "2022-08-21T09:42:48.412Z"
   },
   {
    "duration": 9,
    "start_time": "2022-08-21T09:42:48.453Z"
   },
   {
    "duration": 0,
    "start_time": "2022-08-21T09:42:48.464Z"
   },
   {
    "duration": 0,
    "start_time": "2022-08-21T09:42:48.465Z"
   },
   {
    "duration": 0,
    "start_time": "2022-08-21T09:42:48.466Z"
   },
   {
    "duration": 0,
    "start_time": "2022-08-21T09:42:48.467Z"
   },
   {
    "duration": 0,
    "start_time": "2022-08-21T09:42:48.468Z"
   },
   {
    "duration": 11,
    "start_time": "2022-08-21T09:43:00.535Z"
   },
   {
    "duration": 20,
    "start_time": "2022-08-21T09:43:22.669Z"
   },
   {
    "duration": 20,
    "start_time": "2022-08-21T09:43:27.845Z"
   },
   {
    "duration": 11,
    "start_time": "2022-08-21T09:43:29.868Z"
   },
   {
    "duration": 15,
    "start_time": "2022-08-21T09:43:37.517Z"
   },
   {
    "duration": 13,
    "start_time": "2022-08-21T09:43:47.476Z"
   },
   {
    "duration": 13,
    "start_time": "2022-08-21T09:43:54.452Z"
   },
   {
    "duration": 1275,
    "start_time": "2022-08-21T09:46:55.663Z"
   },
   {
    "duration": 343,
    "start_time": "2022-08-21T09:46:56.940Z"
   },
   {
    "duration": 35,
    "start_time": "2022-08-21T09:46:57.284Z"
   },
   {
    "duration": 24,
    "start_time": "2022-08-21T09:46:57.321Z"
   },
   {
    "duration": 23,
    "start_time": "2022-08-21T09:46:57.348Z"
   },
   {
    "duration": 79,
    "start_time": "2022-08-21T09:46:57.372Z"
   },
   {
    "duration": 54,
    "start_time": "2022-08-21T09:46:57.453Z"
   },
   {
    "duration": 56,
    "start_time": "2022-08-21T09:46:57.509Z"
   },
   {
    "duration": 124,
    "start_time": "2022-08-21T09:46:57.567Z"
   },
   {
    "duration": 0,
    "start_time": "2022-08-21T09:46:57.693Z"
   },
   {
    "duration": 0,
    "start_time": "2022-08-21T09:46:57.694Z"
   },
   {
    "duration": 0,
    "start_time": "2022-08-21T09:46:57.695Z"
   },
   {
    "duration": 0,
    "start_time": "2022-08-21T09:46:57.696Z"
   },
   {
    "duration": 0,
    "start_time": "2022-08-21T09:46:57.697Z"
   },
   {
    "duration": 0,
    "start_time": "2022-08-21T09:46:57.698Z"
   },
   {
    "duration": 23,
    "start_time": "2022-08-21T09:47:03.127Z"
   },
   {
    "duration": 25,
    "start_time": "2022-08-21T09:47:05.063Z"
   },
   {
    "duration": 10,
    "start_time": "2022-08-21T09:47:06.710Z"
   },
   {
    "duration": 8,
    "start_time": "2022-08-21T09:47:07.983Z"
   },
   {
    "duration": 8,
    "start_time": "2022-08-21T09:47:09.566Z"
   },
   {
    "duration": 24,
    "start_time": "2022-08-21T09:47:12.316Z"
   },
   {
    "duration": 5,
    "start_time": "2022-08-21T09:47:16.319Z"
   },
   {
    "duration": 84,
    "start_time": "2022-08-21T09:48:02.420Z"
   },
   {
    "duration": 14,
    "start_time": "2022-08-21T09:48:50.619Z"
   },
   {
    "duration": 6,
    "start_time": "2022-08-21T09:51:06.717Z"
   },
   {
    "duration": 6,
    "start_time": "2022-08-21T09:51:37.100Z"
   },
   {
    "duration": 2,
    "start_time": "2022-08-21T11:10:18.774Z"
   },
   {
    "duration": 8,
    "start_time": "2022-08-21T11:11:32.686Z"
   },
   {
    "duration": 10,
    "start_time": "2022-08-21T11:12:07.608Z"
   },
   {
    "duration": 10,
    "start_time": "2022-08-21T11:12:29.136Z"
   },
   {
    "duration": 2,
    "start_time": "2022-08-21T11:13:39.173Z"
   },
   {
    "duration": 8,
    "start_time": "2022-08-21T11:13:43.261Z"
   },
   {
    "duration": 46,
    "start_time": "2022-08-21T12:24:17.528Z"
   },
   {
    "duration": 1006,
    "start_time": "2022-08-21T12:24:43.897Z"
   },
   {
    "duration": 758,
    "start_time": "2022-08-21T12:24:44.905Z"
   },
   {
    "duration": 44,
    "start_time": "2022-08-21T12:24:45.665Z"
   },
   {
    "duration": 22,
    "start_time": "2022-08-21T12:24:45.712Z"
   },
   {
    "duration": 42,
    "start_time": "2022-08-21T12:24:45.736Z"
   },
   {
    "duration": 43,
    "start_time": "2022-08-21T12:24:45.779Z"
   },
   {
    "duration": 59,
    "start_time": "2022-08-21T12:24:45.823Z"
   },
   {
    "duration": 41,
    "start_time": "2022-08-21T12:24:45.884Z"
   },
   {
    "duration": 48,
    "start_time": "2022-08-21T12:24:45.926Z"
   },
   {
    "duration": 21,
    "start_time": "2022-08-21T12:24:45.977Z"
   },
   {
    "duration": 109,
    "start_time": "2022-08-21T12:24:46.000Z"
   },
   {
    "duration": 0,
    "start_time": "2022-08-21T12:24:46.111Z"
   },
   {
    "duration": 0,
    "start_time": "2022-08-21T12:24:46.112Z"
   },
   {
    "duration": 0,
    "start_time": "2022-08-21T12:24:46.113Z"
   },
   {
    "duration": 0,
    "start_time": "2022-08-21T12:24:46.113Z"
   },
   {
    "duration": 0,
    "start_time": "2022-08-21T12:24:46.114Z"
   },
   {
    "duration": 0,
    "start_time": "2022-08-21T12:24:46.116Z"
   },
   {
    "duration": 0,
    "start_time": "2022-08-21T12:24:46.117Z"
   },
   {
    "duration": 13,
    "start_time": "2022-08-21T12:25:00.836Z"
   },
   {
    "duration": 24,
    "start_time": "2022-08-21T12:25:02.804Z"
   },
   {
    "duration": 7,
    "start_time": "2022-08-21T12:25:05.029Z"
   },
   {
    "duration": 19,
    "start_time": "2022-08-21T12:25:52.283Z"
   },
   {
    "duration": 18,
    "start_time": "2022-08-21T12:26:05.067Z"
   },
   {
    "duration": 21,
    "start_time": "2022-08-21T12:26:15.465Z"
   },
   {
    "duration": 23,
    "start_time": "2022-08-21T12:26:25.234Z"
   },
   {
    "duration": 4,
    "start_time": "2022-08-21T12:27:55.409Z"
   },
   {
    "duration": 381,
    "start_time": "2022-08-21T12:27:55.415Z"
   },
   {
    "duration": 23,
    "start_time": "2022-08-21T12:27:55.798Z"
   },
   {
    "duration": 45,
    "start_time": "2022-08-21T12:27:55.822Z"
   },
   {
    "duration": 27,
    "start_time": "2022-08-21T12:27:55.869Z"
   },
   {
    "duration": 62,
    "start_time": "2022-08-21T12:27:55.897Z"
   },
   {
    "duration": 41,
    "start_time": "2022-08-21T12:27:55.969Z"
   },
   {
    "duration": 58,
    "start_time": "2022-08-21T12:27:56.012Z"
   },
   {
    "duration": 47,
    "start_time": "2022-08-21T12:27:56.072Z"
   },
   {
    "duration": 23,
    "start_time": "2022-08-21T12:27:56.121Z"
   },
   {
    "duration": 12,
    "start_time": "2022-08-21T12:28:07.570Z"
   },
   {
    "duration": 21,
    "start_time": "2022-08-21T12:28:10.071Z"
   },
   {
    "duration": 10,
    "start_time": "2022-08-21T12:28:21.573Z"
   },
   {
    "duration": 9,
    "start_time": "2022-08-21T12:28:30.708Z"
   },
   {
    "duration": 6,
    "start_time": "2022-08-21T12:28:37.372Z"
   },
   {
    "duration": 1449,
    "start_time": "2022-08-21T12:29:16.763Z"
   },
   {
    "duration": 8,
    "start_time": "2022-08-21T12:29:38.458Z"
   },
   {
    "duration": 9,
    "start_time": "2022-08-21T12:29:51.017Z"
   },
   {
    "duration": 9,
    "start_time": "2022-08-21T12:30:01.353Z"
   },
   {
    "duration": 2,
    "start_time": "2022-08-21T12:30:54.159Z"
   },
   {
    "duration": 8,
    "start_time": "2022-08-21T12:31:17.950Z"
   },
   {
    "duration": 9,
    "start_time": "2022-08-21T12:43:13.401Z"
   },
   {
    "duration": 11,
    "start_time": "2022-08-21T12:43:44.929Z"
   },
   {
    "duration": 8,
    "start_time": "2022-08-21T12:44:43.710Z"
   },
   {
    "duration": 9,
    "start_time": "2022-08-21T12:44:47.453Z"
   },
   {
    "duration": 16,
    "start_time": "2022-08-21T12:45:04.078Z"
   },
   {
    "duration": 3,
    "start_time": "2022-08-21T12:46:28.385Z"
   },
   {
    "duration": 15,
    "start_time": "2022-08-21T12:47:25.120Z"
   },
   {
    "duration": 3,
    "start_time": "2022-08-21T12:47:27.111Z"
   },
   {
    "duration": 7,
    "start_time": "2022-08-21T12:48:29.309Z"
   },
   {
    "duration": 4,
    "start_time": "2022-08-21T13:00:34.376Z"
   },
   {
    "duration": 53,
    "start_time": "2022-08-21T13:04:57.143Z"
   },
   {
    "duration": 4,
    "start_time": "2022-08-21T13:05:02.190Z"
   },
   {
    "duration": 8,
    "start_time": "2022-08-21T13:05:19.564Z"
   },
   {
    "duration": 18,
    "start_time": "2022-08-21T13:05:33.140Z"
   },
   {
    "duration": 7,
    "start_time": "2022-08-21T13:07:26.533Z"
   },
   {
    "duration": 5,
    "start_time": "2022-08-21T13:07:40.783Z"
   },
   {
    "duration": 14,
    "start_time": "2022-08-21T13:07:42.559Z"
   },
   {
    "duration": 1042,
    "start_time": "2022-08-21T13:08:50.432Z"
   },
   {
    "duration": 348,
    "start_time": "2022-08-21T13:08:51.476Z"
   },
   {
    "duration": 33,
    "start_time": "2022-08-21T13:08:51.826Z"
   },
   {
    "duration": 23,
    "start_time": "2022-08-21T13:08:51.862Z"
   },
   {
    "duration": 22,
    "start_time": "2022-08-21T13:08:51.887Z"
   },
   {
    "duration": 78,
    "start_time": "2022-08-21T13:08:51.911Z"
   },
   {
    "duration": 44,
    "start_time": "2022-08-21T13:08:51.991Z"
   },
   {
    "duration": 64,
    "start_time": "2022-08-21T13:08:52.037Z"
   },
   {
    "duration": 61,
    "start_time": "2022-08-21T13:08:52.102Z"
   },
   {
    "duration": 24,
    "start_time": "2022-08-21T13:08:52.166Z"
   },
   {
    "duration": 11,
    "start_time": "2022-08-21T13:08:52.192Z"
   },
   {
    "duration": 29,
    "start_time": "2022-08-21T13:08:52.205Z"
   },
   {
    "duration": 122,
    "start_time": "2022-08-21T13:08:52.236Z"
   },
   {
    "duration": 6,
    "start_time": "2022-08-21T13:08:52.360Z"
   },
   {
    "duration": 103,
    "start_time": "2022-08-21T13:08:52.458Z"
   },
   {
    "duration": 201,
    "start_time": "2022-08-21T13:08:52.563Z"
   },
   {
    "duration": 14,
    "start_time": "2022-08-21T13:08:52.766Z"
   },
   {
    "duration": 14,
    "start_time": "2022-08-21T13:08:52.782Z"
   },
   {
    "duration": 3,
    "start_time": "2022-08-21T13:08:52.797Z"
   },
   {
    "duration": 10,
    "start_time": "2022-08-21T13:08:52.801Z"
   },
   {
    "duration": 20,
    "start_time": "2022-08-21T13:08:52.812Z"
   },
   {
    "duration": 25,
    "start_time": "2022-08-21T13:08:52.833Z"
   },
   {
    "duration": 11,
    "start_time": "2022-08-21T13:08:52.860Z"
   },
   {
    "duration": 17,
    "start_time": "2022-08-21T13:08:52.872Z"
   },
   {
    "duration": 333,
    "start_time": "2022-08-21T13:08:52.891Z"
   },
   {
    "duration": 14,
    "start_time": "2022-08-21T13:09:41.258Z"
   },
   {
    "duration": 380,
    "start_time": "2022-08-21T13:10:37.449Z"
   },
   {
    "duration": 4,
    "start_time": "2022-08-21T13:11:52.894Z"
   },
   {
    "duration": 261,
    "start_time": "2022-08-21T13:11:54.830Z"
   },
   {
    "duration": 3,
    "start_time": "2022-08-21T13:13:05.028Z"
   },
   {
    "duration": 222,
    "start_time": "2022-08-21T13:13:07.339Z"
   },
   {
    "duration": 3,
    "start_time": "2022-08-21T13:13:31.978Z"
   },
   {
    "duration": 344,
    "start_time": "2022-08-21T13:13:33.593Z"
   },
   {
    "duration": 4,
    "start_time": "2022-08-21T13:14:36.750Z"
   },
   {
    "duration": 246,
    "start_time": "2022-08-21T13:14:38.528Z"
   },
   {
    "duration": 10,
    "start_time": "2022-08-21T13:15:06.917Z"
   },
   {
    "duration": 3,
    "start_time": "2022-08-21T13:15:29.940Z"
   },
   {
    "duration": 363,
    "start_time": "2022-08-21T13:15:29.945Z"
   },
   {
    "duration": 23,
    "start_time": "2022-08-21T13:15:30.310Z"
   },
   {
    "duration": 73,
    "start_time": "2022-08-21T13:15:30.334Z"
   },
   {
    "duration": 42,
    "start_time": "2022-08-21T13:15:30.409Z"
   },
   {
    "duration": 80,
    "start_time": "2022-08-21T13:15:30.453Z"
   },
   {
    "duration": 49,
    "start_time": "2022-08-21T13:15:30.534Z"
   },
   {
    "duration": 43,
    "start_time": "2022-08-21T13:15:30.584Z"
   },
   {
    "duration": 61,
    "start_time": "2022-08-21T13:15:30.629Z"
   },
   {
    "duration": 19,
    "start_time": "2022-08-21T13:15:30.692Z"
   },
   {
    "duration": 42,
    "start_time": "2022-08-21T13:15:30.713Z"
   },
   {
    "duration": 48,
    "start_time": "2022-08-21T13:15:30.757Z"
   },
   {
    "duration": 24,
    "start_time": "2022-08-21T13:15:30.807Z"
   },
   {
    "duration": 28,
    "start_time": "2022-08-21T13:15:30.836Z"
   },
   {
    "duration": 94,
    "start_time": "2022-08-21T13:15:30.867Z"
   },
   {
    "duration": 103,
    "start_time": "2022-08-21T13:15:30.965Z"
   },
   {
    "duration": 113,
    "start_time": "2022-08-21T13:15:31.070Z"
   },
   {
    "duration": 40,
    "start_time": "2022-08-21T13:15:31.184Z"
   },
   {
    "duration": 16,
    "start_time": "2022-08-21T13:15:31.226Z"
   },
   {
    "duration": 37,
    "start_time": "2022-08-21T13:15:31.243Z"
   },
   {
    "duration": 32,
    "start_time": "2022-08-21T13:15:31.281Z"
   },
   {
    "duration": 16,
    "start_time": "2022-08-21T13:15:31.315Z"
   },
   {
    "duration": 38,
    "start_time": "2022-08-21T13:15:31.332Z"
   },
   {
    "duration": 33,
    "start_time": "2022-08-21T13:15:31.372Z"
   },
   {
    "duration": 102,
    "start_time": "2022-08-21T13:15:31.407Z"
   },
   {
    "duration": 15,
    "start_time": "2022-08-21T13:15:42.476Z"
   },
   {
    "duration": 5,
    "start_time": "2022-08-21T13:16:13.139Z"
   },
   {
    "duration": 1545,
    "start_time": "2022-08-21T13:16:14.155Z"
   },
   {
    "duration": 3,
    "start_time": "2022-08-21T13:16:38.378Z"
   },
   {
    "duration": 1464,
    "start_time": "2022-08-21T13:16:39.723Z"
   },
   {
    "duration": 4,
    "start_time": "2022-08-21T13:18:37.333Z"
   },
   {
    "duration": 1387,
    "start_time": "2022-08-21T13:18:39.817Z"
   },
   {
    "duration": 4,
    "start_time": "2022-08-21T13:19:40.563Z"
   },
   {
    "duration": 11,
    "start_time": "2022-08-21T13:19:42.563Z"
   },
   {
    "duration": 3,
    "start_time": "2022-08-21T13:19:53.186Z"
   },
   {
    "duration": 3,
    "start_time": "2022-08-21T13:19:58.354Z"
   },
   {
    "duration": 1321,
    "start_time": "2022-08-21T13:20:00.130Z"
   },
   {
    "duration": 4,
    "start_time": "2022-08-21T13:20:30.986Z"
   },
   {
    "duration": 1419,
    "start_time": "2022-08-21T13:20:32.977Z"
   },
   {
    "duration": 4,
    "start_time": "2022-08-21T13:20:41.792Z"
   },
   {
    "duration": 1361,
    "start_time": "2022-08-21T13:20:44.720Z"
   },
   {
    "duration": 4,
    "start_time": "2022-08-21T13:20:54.257Z"
   },
   {
    "duration": 5,
    "start_time": "2022-08-21T13:21:03.392Z"
   },
   {
    "duration": 5,
    "start_time": "2022-08-21T13:21:08.304Z"
   },
   {
    "duration": 1352,
    "start_time": "2022-08-21T13:21:11.950Z"
   },
   {
    "duration": 4,
    "start_time": "2022-08-21T13:25:39.132Z"
   },
   {
    "duration": 1240,
    "start_time": "2022-08-21T13:25:41.572Z"
   },
   {
    "duration": 52,
    "start_time": "2022-08-21T13:27:07.923Z"
   },
   {
    "duration": 3,
    "start_time": "2022-08-21T13:27:19.649Z"
   },
   {
    "duration": 1272,
    "start_time": "2022-08-21T13:27:21.692Z"
   },
   {
    "duration": 4,
    "start_time": "2022-08-21T13:27:31.352Z"
   },
   {
    "duration": 1333,
    "start_time": "2022-08-21T13:27:33.600Z"
   },
   {
    "duration": 1242,
    "start_time": "2022-08-21T13:27:42.768Z"
   },
   {
    "duration": 1268,
    "start_time": "2022-08-21T13:27:48.792Z"
   },
   {
    "duration": 10,
    "start_time": "2022-08-21T14:42:40.405Z"
   },
   {
    "duration": 10,
    "start_time": "2022-08-21T14:42:42.551Z"
   },
   {
    "duration": 10,
    "start_time": "2022-08-21T14:42:44.742Z"
   },
   {
    "duration": 1129,
    "start_time": "2022-08-21T22:34:40.113Z"
   },
   {
    "duration": 806,
    "start_time": "2022-08-21T22:34:41.245Z"
   },
   {
    "duration": 33,
    "start_time": "2022-08-21T22:34:42.053Z"
   },
   {
    "duration": 23,
    "start_time": "2022-08-21T22:34:42.088Z"
   },
   {
    "duration": 55,
    "start_time": "2022-08-21T22:34:42.113Z"
   },
   {
    "duration": 58,
    "start_time": "2022-08-21T22:34:42.170Z"
   },
   {
    "duration": 72,
    "start_time": "2022-08-21T22:34:42.230Z"
   },
   {
    "duration": 54,
    "start_time": "2022-08-21T22:34:42.304Z"
   },
   {
    "duration": 44,
    "start_time": "2022-08-21T22:34:42.359Z"
   },
   {
    "duration": 98,
    "start_time": "2022-08-21T22:34:42.405Z"
   },
   {
    "duration": 0,
    "start_time": "2022-08-21T22:34:42.505Z"
   },
   {
    "duration": 0,
    "start_time": "2022-08-21T22:34:42.506Z"
   },
   {
    "duration": 0,
    "start_time": "2022-08-21T22:34:42.507Z"
   },
   {
    "duration": 0,
    "start_time": "2022-08-21T22:34:42.508Z"
   },
   {
    "duration": 0,
    "start_time": "2022-08-21T22:34:42.509Z"
   },
   {
    "duration": 0,
    "start_time": "2022-08-21T22:34:42.511Z"
   },
   {
    "duration": 0,
    "start_time": "2022-08-21T22:34:42.512Z"
   },
   {
    "duration": 0,
    "start_time": "2022-08-21T22:34:42.513Z"
   },
   {
    "duration": 0,
    "start_time": "2022-08-21T22:34:42.514Z"
   },
   {
    "duration": 0,
    "start_time": "2022-08-21T22:34:42.516Z"
   },
   {
    "duration": 0,
    "start_time": "2022-08-21T22:34:42.517Z"
   },
   {
    "duration": 0,
    "start_time": "2022-08-21T22:34:42.518Z"
   },
   {
    "duration": 0,
    "start_time": "2022-08-21T22:34:42.519Z"
   },
   {
    "duration": 0,
    "start_time": "2022-08-21T22:34:42.521Z"
   },
   {
    "duration": 0,
    "start_time": "2022-08-21T22:34:42.522Z"
   },
   {
    "duration": 0,
    "start_time": "2022-08-21T22:34:42.557Z"
   },
   {
    "duration": 0,
    "start_time": "2022-08-21T22:34:42.559Z"
   },
   {
    "duration": 0,
    "start_time": "2022-08-21T22:34:42.560Z"
   },
   {
    "duration": 12,
    "start_time": "2022-08-21T22:34:49.816Z"
   },
   {
    "duration": 1126,
    "start_time": "2022-08-21T22:35:04.288Z"
   },
   {
    "duration": 402,
    "start_time": "2022-08-21T22:35:05.417Z"
   },
   {
    "duration": 48,
    "start_time": "2022-08-21T22:35:05.821Z"
   },
   {
    "duration": 25,
    "start_time": "2022-08-21T22:35:05.871Z"
   },
   {
    "duration": 24,
    "start_time": "2022-08-21T22:35:05.898Z"
   },
   {
    "duration": 70,
    "start_time": "2022-08-21T22:35:05.923Z"
   },
   {
    "duration": 42,
    "start_time": "2022-08-21T22:35:05.994Z"
   },
   {
    "duration": 61,
    "start_time": "2022-08-21T22:35:06.038Z"
   },
   {
    "duration": 42,
    "start_time": "2022-08-21T22:35:06.101Z"
   },
   {
    "duration": 23,
    "start_time": "2022-08-21T22:35:06.157Z"
   },
   {
    "duration": 18,
    "start_time": "2022-08-21T22:35:06.182Z"
   },
   {
    "duration": 46,
    "start_time": "2022-08-21T22:35:06.201Z"
   },
   {
    "duration": 16,
    "start_time": "2022-08-21T22:35:06.249Z"
   },
   {
    "duration": 93,
    "start_time": "2022-08-21T22:35:06.266Z"
   },
   {
    "duration": 100,
    "start_time": "2022-08-21T22:35:06.361Z"
   },
   {
    "duration": 95,
    "start_time": "2022-08-21T22:35:06.463Z"
   },
   {
    "duration": 102,
    "start_time": "2022-08-21T22:35:06.561Z"
   },
   {
    "duration": 8,
    "start_time": "2022-08-21T22:35:06.664Z"
   },
   {
    "duration": 25,
    "start_time": "2022-08-21T22:35:06.673Z"
   },
   {
    "duration": 32,
    "start_time": "2022-08-21T22:35:06.699Z"
   },
   {
    "duration": 20,
    "start_time": "2022-08-21T22:35:06.733Z"
   },
   {
    "duration": 3,
    "start_time": "2022-08-21T22:35:06.754Z"
   },
   {
    "duration": 10,
    "start_time": "2022-08-21T22:35:06.758Z"
   },
   {
    "duration": 4,
    "start_time": "2022-08-21T22:35:06.769Z"
   },
   {
    "duration": 1296,
    "start_time": "2022-08-21T22:35:06.774Z"
   },
   {
    "duration": 1216,
    "start_time": "2022-08-21T22:35:08.072Z"
   },
   {
    "duration": 1304,
    "start_time": "2022-08-21T22:35:09.289Z"
   },
   {
    "duration": 12,
    "start_time": "2022-08-21T22:45:33.538Z"
   },
   {
    "duration": 3,
    "start_time": "2022-08-21T22:50:22.498Z"
   },
   {
    "duration": 4,
    "start_time": "2022-08-21T22:50:37.573Z"
   },
   {
    "duration": 1237,
    "start_time": "2022-08-21T22:50:39.465Z"
   },
   {
    "duration": 3,
    "start_time": "2022-08-21T22:51:07.318Z"
   },
   {
    "duration": 1321,
    "start_time": "2022-08-21T22:51:08.764Z"
   },
   {
    "duration": 4,
    "start_time": "2022-08-21T22:51:24.172Z"
   },
   {
    "duration": 1269,
    "start_time": "2022-08-21T22:51:26.697Z"
   },
   {
    "duration": 1299,
    "start_time": "2022-08-21T22:51:54.739Z"
   },
   {
    "duration": 1242,
    "start_time": "2022-08-21T22:51:59.045Z"
   },
   {
    "duration": 3,
    "start_time": "2022-08-21T22:55:25.629Z"
   },
   {
    "duration": 4,
    "start_time": "2022-08-21T22:55:28.125Z"
   },
   {
    "duration": 34,
    "start_time": "2022-08-21T22:55:38.909Z"
   },
   {
    "duration": 4,
    "start_time": "2022-08-21T22:55:45.036Z"
   },
   {
    "duration": 31,
    "start_time": "2022-08-21T22:55:45.985Z"
   },
   {
    "duration": 32,
    "start_time": "2022-08-21T22:55:57.388Z"
   },
   {
    "duration": 26,
    "start_time": "2022-08-21T22:55:57.592Z"
   },
   {
    "duration": 26,
    "start_time": "2022-08-21T22:55:57.926Z"
   },
   {
    "duration": 13,
    "start_time": "2022-08-21T22:56:14.421Z"
   },
   {
    "duration": 5,
    "start_time": "2022-08-21T22:56:34.615Z"
   },
   {
    "duration": 6,
    "start_time": "2022-08-21T22:56:35.048Z"
   },
   {
    "duration": 5,
    "start_time": "2022-08-21T22:56:35.508Z"
   },
   {
    "duration": 1375,
    "start_time": "2022-08-21T22:56:52.074Z"
   },
   {
    "duration": 1267,
    "start_time": "2022-08-21T22:57:00.541Z"
   },
   {
    "duration": 1270,
    "start_time": "2022-08-21T22:57:01.810Z"
   },
   {
    "duration": 12,
    "start_time": "2022-08-21T22:57:51.567Z"
   },
   {
    "duration": 5,
    "start_time": "2022-08-21T22:58:20.524Z"
   },
   {
    "duration": 780,
    "start_time": "2022-08-21T22:58:22.328Z"
   },
   {
    "duration": 7,
    "start_time": "2022-08-21T22:58:41.598Z"
   },
   {
    "duration": 11,
    "start_time": "2022-08-21T22:58:48.614Z"
   },
   {
    "duration": 13,
    "start_time": "2022-08-21T22:58:49.768Z"
   },
   {
    "duration": 4,
    "start_time": "2022-08-21T22:59:02.208Z"
   },
   {
    "duration": 16,
    "start_time": "2022-08-21T22:59:05.246Z"
   },
   {
    "duration": 13,
    "start_time": "2022-08-21T22:59:24.883Z"
   },
   {
    "duration": 17,
    "start_time": "2022-08-21T22:59:31.851Z"
   },
   {
    "duration": 15,
    "start_time": "2022-08-21T22:59:35.264Z"
   },
   {
    "duration": 6,
    "start_time": "2022-08-21T22:59:42.434Z"
   },
   {
    "duration": 6,
    "start_time": "2022-08-21T22:59:51.562Z"
   },
   {
    "duration": 5,
    "start_time": "2022-08-21T22:59:57.527Z"
   },
   {
    "duration": 6,
    "start_time": "2022-08-21T23:00:04.404Z"
   },
   {
    "duration": 4,
    "start_time": "2022-08-21T23:00:31.437Z"
   },
   {
    "duration": 7,
    "start_time": "2022-08-21T23:00:34.664Z"
   },
   {
    "duration": 3,
    "start_time": "2022-08-21T23:00:48.169Z"
   },
   {
    "duration": 4,
    "start_time": "2022-08-21T23:01:05.485Z"
   },
   {
    "duration": 6,
    "start_time": "2022-08-21T23:01:19.781Z"
   },
   {
    "duration": 835,
    "start_time": "2022-08-21T23:01:22.742Z"
   },
   {
    "duration": 824,
    "start_time": "2022-08-21T23:01:29.450Z"
   },
   {
    "duration": 882,
    "start_time": "2022-08-21T23:01:32.005Z"
   },
   {
    "duration": 4,
    "start_time": "2022-08-21T23:02:05.975Z"
   },
   {
    "duration": 799,
    "start_time": "2022-08-21T23:02:07.692Z"
   },
   {
    "duration": 799,
    "start_time": "2022-08-21T23:02:25.942Z"
   },
   {
    "duration": 828,
    "start_time": "2022-08-21T23:02:26.950Z"
   },
   {
    "duration": 4,
    "start_time": "2022-08-21T23:02:49.583Z"
   },
   {
    "duration": 890,
    "start_time": "2022-08-21T23:02:50.985Z"
   },
   {
    "duration": 800,
    "start_time": "2022-08-21T23:02:53.421Z"
   },
   {
    "duration": 862,
    "start_time": "2022-08-21T23:02:59.890Z"
   },
   {
    "duration": 3,
    "start_time": "2022-08-21T23:03:44.806Z"
   },
   {
    "duration": 808,
    "start_time": "2022-08-21T23:03:46.360Z"
   },
   {
    "duration": 810,
    "start_time": "2022-08-21T23:03:49.458Z"
   },
   {
    "duration": 882,
    "start_time": "2022-08-21T23:03:51.149Z"
   },
   {
    "duration": 4,
    "start_time": "2022-08-21T23:05:45.761Z"
   },
   {
    "duration": 24,
    "start_time": "2022-08-21T23:05:46.098Z"
   },
   {
    "duration": 25,
    "start_time": "2022-08-21T23:05:46.481Z"
   },
   {
    "duration": 25,
    "start_time": "2022-08-21T23:05:47.086Z"
   },
   {
    "duration": 13,
    "start_time": "2022-08-21T23:06:07.027Z"
   },
   {
    "duration": 4,
    "start_time": "2022-08-21T23:10:34.312Z"
   },
   {
    "duration": 3,
    "start_time": "2022-08-21T23:10:37.081Z"
   },
   {
    "duration": 4,
    "start_time": "2022-08-21T23:11:02.847Z"
   },
   {
    "duration": 4,
    "start_time": "2022-08-21T23:11:08.670Z"
   },
   {
    "duration": 6,
    "start_time": "2022-08-21T23:11:16.724Z"
   },
   {
    "duration": 5,
    "start_time": "2022-08-21T23:11:19.988Z"
   },
   {
    "duration": 2,
    "start_time": "2022-08-21T23:12:18.549Z"
   },
   {
    "duration": 5,
    "start_time": "2022-08-21T23:12:21.191Z"
   },
   {
    "duration": 5,
    "start_time": "2022-08-21T23:12:26.523Z"
   },
   {
    "duration": 3,
    "start_time": "2022-08-21T23:12:37.598Z"
   },
   {
    "duration": 4,
    "start_time": "2022-08-21T23:12:41.201Z"
   },
   {
    "duration": 6,
    "start_time": "2022-08-21T23:12:56.387Z"
   },
   {
    "duration": 6,
    "start_time": "2022-08-21T23:13:05.988Z"
   },
   {
    "duration": 3,
    "start_time": "2022-08-21T23:13:13.595Z"
   },
   {
    "duration": 2,
    "start_time": "2022-08-21T23:13:22.500Z"
   },
   {
    "duration": 5,
    "start_time": "2022-08-21T23:13:22.756Z"
   },
   {
    "duration": 5,
    "start_time": "2022-08-21T23:13:23.114Z"
   },
   {
    "duration": 3,
    "start_time": "2022-08-21T23:13:23.626Z"
   },
   {
    "duration": 6,
    "start_time": "2022-08-21T23:13:25.456Z"
   },
   {
    "duration": 7,
    "start_time": "2022-08-21T23:13:27.118Z"
   },
   {
    "duration": 6,
    "start_time": "2022-08-21T23:13:41.455Z"
   },
   {
    "duration": 4,
    "start_time": "2022-08-21T23:14:49.423Z"
   },
   {
    "duration": 4,
    "start_time": "2022-08-21T23:14:59.353Z"
   },
   {
    "duration": 5,
    "start_time": "2022-08-21T23:15:05.330Z"
   },
   {
    "duration": 5,
    "start_time": "2022-08-21T23:15:15.713Z"
   },
   {
    "duration": 4,
    "start_time": "2022-08-21T23:15:52.643Z"
   },
   {
    "duration": 5,
    "start_time": "2022-08-21T23:15:52.987Z"
   },
   {
    "duration": 7,
    "start_time": "2022-08-21T23:15:55.295Z"
   },
   {
    "duration": 8,
    "start_time": "2022-08-21T23:15:55.711Z"
   },
   {
    "duration": 4,
    "start_time": "2022-08-21T23:15:56.201Z"
   },
   {
    "duration": 3,
    "start_time": "2022-08-21T23:16:07.094Z"
   },
   {
    "duration": 6,
    "start_time": "2022-08-21T23:16:07.674Z"
   },
   {
    "duration": 6,
    "start_time": "2022-08-21T23:16:08.510Z"
   },
   {
    "duration": 7,
    "start_time": "2022-08-21T23:16:10.569Z"
   },
   {
    "duration": 4,
    "start_time": "2022-08-21T23:16:11.648Z"
   },
   {
    "duration": 2,
    "start_time": "2022-08-21T23:19:21.779Z"
   },
   {
    "duration": 15,
    "start_time": "2022-08-21T23:19:22.540Z"
   },
   {
    "duration": 4,
    "start_time": "2022-08-21T23:19:34.270Z"
   },
   {
    "duration": 1114,
    "start_time": "2022-08-21T23:19:54.583Z"
   },
   {
    "duration": 5,
    "start_time": "2022-08-21T23:19:58.597Z"
   },
   {
    "duration": 6,
    "start_time": "2022-08-21T23:20:09.522Z"
   },
   {
    "duration": 4,
    "start_time": "2022-08-21T23:20:12.791Z"
   },
   {
    "duration": 3,
    "start_time": "2022-08-21T23:20:21.012Z"
   },
   {
    "duration": 1048,
    "start_time": "2022-08-21T23:20:21.946Z"
   },
   {
    "duration": 5,
    "start_time": "2022-08-21T23:20:23.517Z"
   },
   {
    "duration": 2,
    "start_time": "2022-08-21T23:21:39.739Z"
   },
   {
    "duration": 3,
    "start_time": "2022-08-21T23:21:55.791Z"
   },
   {
    "duration": 1314,
    "start_time": "2022-08-21T23:22:02.174Z"
   },
   {
    "duration": 1260,
    "start_time": "2022-08-21T23:22:13.243Z"
   },
   {
    "duration": 2,
    "start_time": "2022-08-21T23:22:22.270Z"
   },
   {
    "duration": 1323,
    "start_time": "2022-08-21T23:22:24.833Z"
   },
   {
    "duration": 1350,
    "start_time": "2022-08-21T23:22:33.451Z"
   },
   {
    "duration": 1327,
    "start_time": "2022-08-21T23:22:46.605Z"
   },
   {
    "duration": 1341,
    "start_time": "2022-08-21T23:22:52.411Z"
   },
   {
    "duration": 1369,
    "start_time": "2022-08-21T23:22:55.348Z"
   },
   {
    "duration": 1126,
    "start_time": "2022-08-21T23:35:07.196Z"
   },
   {
    "duration": 360,
    "start_time": "2022-08-21T23:35:08.324Z"
   },
   {
    "duration": 31,
    "start_time": "2022-08-21T23:35:08.686Z"
   },
   {
    "duration": 44,
    "start_time": "2022-08-21T23:35:08.719Z"
   },
   {
    "duration": 24,
    "start_time": "2022-08-21T23:35:08.765Z"
   },
   {
    "duration": 70,
    "start_time": "2022-08-21T23:35:08.791Z"
   },
   {
    "duration": 46,
    "start_time": "2022-08-21T23:35:08.863Z"
   },
   {
    "duration": 66,
    "start_time": "2022-08-21T23:35:08.910Z"
   },
   {
    "duration": 44,
    "start_time": "2022-08-21T23:35:08.977Z"
   },
   {
    "duration": 36,
    "start_time": "2022-08-21T23:35:09.023Z"
   },
   {
    "duration": 12,
    "start_time": "2022-08-21T23:35:09.061Z"
   },
   {
    "duration": 33,
    "start_time": "2022-08-21T23:35:09.074Z"
   },
   {
    "duration": 8,
    "start_time": "2022-08-21T23:35:09.109Z"
   },
   {
    "duration": 100,
    "start_time": "2022-08-21T23:35:09.161Z"
   },
   {
    "duration": 105,
    "start_time": "2022-08-21T23:35:09.262Z"
   },
   {
    "duration": 97,
    "start_time": "2022-08-21T23:35:09.369Z"
   },
   {
    "duration": 100,
    "start_time": "2022-08-21T23:35:09.467Z"
   },
   {
    "duration": 12,
    "start_time": "2022-08-21T23:35:09.569Z"
   },
   {
    "duration": 11,
    "start_time": "2022-08-21T23:35:09.582Z"
   },
   {
    "duration": 11,
    "start_time": "2022-08-21T23:35:09.594Z"
   },
   {
    "duration": 28,
    "start_time": "2022-08-21T23:35:09.607Z"
   },
   {
    "duration": 22,
    "start_time": "2022-08-21T23:35:09.636Z"
   },
   {
    "duration": 11,
    "start_time": "2022-08-21T23:35:09.660Z"
   },
   {
    "duration": 4,
    "start_time": "2022-08-21T23:35:09.673Z"
   },
   {
    "duration": 1301,
    "start_time": "2022-08-21T23:35:09.679Z"
   },
   {
    "duration": 1252,
    "start_time": "2022-08-21T23:35:10.982Z"
   },
   {
    "duration": 1281,
    "start_time": "2022-08-21T23:35:12.236Z"
   },
   {
    "duration": 47,
    "start_time": "2022-08-22T09:52:26.137Z"
   },
   {
    "duration": 1065,
    "start_time": "2022-08-22T09:52:29.637Z"
   },
   {
    "duration": 858,
    "start_time": "2022-08-22T09:52:30.704Z"
   },
   {
    "duration": 37,
    "start_time": "2022-08-22T09:52:31.564Z"
   },
   {
    "duration": 22,
    "start_time": "2022-08-22T09:52:31.602Z"
   },
   {
    "duration": 22,
    "start_time": "2022-08-22T09:52:31.626Z"
   },
   {
    "duration": 77,
    "start_time": "2022-08-22T09:52:31.650Z"
   },
   {
    "duration": 43,
    "start_time": "2022-08-22T09:52:31.729Z"
   },
   {
    "duration": 51,
    "start_time": "2022-08-22T09:52:31.788Z"
   },
   {
    "duration": 2908,
    "start_time": "2022-08-22T09:52:33.503Z"
   },
   {
    "duration": 483,
    "start_time": "2022-08-22T09:54:10.968Z"
   },
   {
    "duration": 36,
    "start_time": "2022-08-22T09:54:11.453Z"
   },
   {
    "duration": 34,
    "start_time": "2022-08-22T09:54:11.491Z"
   },
   {
    "duration": 23,
    "start_time": "2022-08-22T09:54:11.527Z"
   },
   {
    "duration": 83,
    "start_time": "2022-08-22T09:54:11.551Z"
   },
   {
    "duration": 41,
    "start_time": "2022-08-22T09:54:11.636Z"
   },
   {
    "duration": 62,
    "start_time": "2022-08-22T09:54:11.679Z"
   },
   {
    "duration": 6,
    "start_time": "2022-08-22T09:54:11.743Z"
   },
   {
    "duration": 260,
    "start_time": "2022-08-22T09:54:15.377Z"
   },
   {
    "duration": 359,
    "start_time": "2022-08-22T09:54:34.901Z"
   },
   {
    "duration": 62,
    "start_time": "2022-08-22T09:55:01.064Z"
   },
   {
    "duration": 85,
    "start_time": "2022-08-22T09:57:24.810Z"
   },
   {
    "duration": 75,
    "start_time": "2022-08-22T09:58:07.856Z"
   },
   {
    "duration": 24,
    "start_time": "2022-08-22T10:01:33.839Z"
   },
   {
    "duration": 34,
    "start_time": "2022-08-22T10:03:34.082Z"
   },
   {
    "duration": 65,
    "start_time": "2022-08-22T10:03:47.083Z"
   },
   {
    "duration": 19,
    "start_time": "2022-08-22T10:04:56.503Z"
   },
   {
    "duration": 24,
    "start_time": "2022-08-22T10:07:51.326Z"
   },
   {
    "duration": 17,
    "start_time": "2022-08-22T10:07:58.022Z"
   },
   {
    "duration": 102,
    "start_time": "2022-08-22T10:08:27.143Z"
   },
   {
    "duration": 828,
    "start_time": "2022-08-22T10:11:02.814Z"
   },
   {
    "duration": 1486,
    "start_time": "2022-08-22T10:11:15.071Z"
   },
   {
    "duration": 523,
    "start_time": "2022-08-22T10:11:16.560Z"
   },
   {
    "duration": 43,
    "start_time": "2022-08-22T10:11:17.086Z"
   },
   {
    "duration": 32,
    "start_time": "2022-08-22T10:11:17.132Z"
   },
   {
    "duration": 53,
    "start_time": "2022-08-22T10:11:17.166Z"
   },
   {
    "duration": 84,
    "start_time": "2022-08-22T10:11:17.221Z"
   },
   {
    "duration": 57,
    "start_time": "2022-08-22T10:11:17.307Z"
   },
   {
    "duration": 56,
    "start_time": "2022-08-22T10:11:17.366Z"
   },
   {
    "duration": 83,
    "start_time": "2022-08-22T10:11:17.424Z"
   },
   {
    "duration": 154,
    "start_time": "2022-08-22T10:11:17.510Z"
   },
   {
    "duration": 73,
    "start_time": "2022-08-22T10:13:25.164Z"
   },
   {
    "duration": 31,
    "start_time": "2022-08-22T10:13:35.221Z"
   },
   {
    "duration": 5464,
    "start_time": "2022-08-22T10:16:10.126Z"
   },
   {
    "duration": 1104,
    "start_time": "2022-08-22T10:16:50.276Z"
   },
   {
    "duration": 1120,
    "start_time": "2022-08-22T10:17:02.399Z"
   },
   {
    "duration": 2020,
    "start_time": "2022-08-22T10:17:10.181Z"
   },
   {
    "duration": 1117,
    "start_time": "2022-08-22T10:17:34.170Z"
   },
   {
    "duration": 756,
    "start_time": "2022-08-22T10:17:37.786Z"
   },
   {
    "duration": 405,
    "start_time": "2022-08-22T10:17:41.338Z"
   },
   {
    "duration": 173,
    "start_time": "2022-08-22T10:17:46.002Z"
   },
   {
    "duration": 277,
    "start_time": "2022-08-22T10:20:32.026Z"
   },
   {
    "duration": 218,
    "start_time": "2022-08-22T10:20:36.529Z"
   },
   {
    "duration": 86,
    "start_time": "2022-08-22T10:21:23.902Z"
   },
   {
    "duration": 181,
    "start_time": "2022-08-22T10:21:27.392Z"
   },
   {
    "duration": 206,
    "start_time": "2022-08-22T10:21:33.639Z"
   },
   {
    "duration": 184,
    "start_time": "2022-08-22T10:21:38.774Z"
   },
   {
    "duration": 183,
    "start_time": "2022-08-22T10:21:47.174Z"
   },
   {
    "duration": 215,
    "start_time": "2022-08-22T10:22:42.001Z"
   },
   {
    "duration": 244,
    "start_time": "2022-08-22T10:23:23.872Z"
   },
   {
    "duration": 211,
    "start_time": "2022-08-22T10:25:14.660Z"
   },
   {
    "duration": 249,
    "start_time": "2022-08-22T10:25:19.988Z"
   },
   {
    "duration": 238,
    "start_time": "2022-08-22T10:25:33.650Z"
   },
   {
    "duration": 315,
    "start_time": "2022-08-22T10:29:19.352Z"
   },
   {
    "duration": 215,
    "start_time": "2022-08-22T10:29:30.544Z"
   },
   {
    "duration": 184,
    "start_time": "2022-08-22T10:29:34.216Z"
   },
   {
    "duration": 197,
    "start_time": "2022-08-22T10:30:35.374Z"
   },
   {
    "duration": 203,
    "start_time": "2022-08-22T10:31:47.114Z"
   },
   {
    "duration": 247,
    "start_time": "2022-08-22T10:32:06.136Z"
   },
   {
    "duration": 205,
    "start_time": "2022-08-22T10:32:12.199Z"
   },
   {
    "duration": 207,
    "start_time": "2022-08-22T10:32:20.184Z"
   },
   {
    "duration": 274,
    "start_time": "2022-08-22T10:32:27.601Z"
   },
   {
    "duration": 198,
    "start_time": "2022-08-22T10:32:31.471Z"
   },
   {
    "duration": 207,
    "start_time": "2022-08-22T10:32:43.870Z"
   },
   {
    "duration": 313,
    "start_time": "2022-08-22T10:32:50.463Z"
   },
   {
    "duration": 20,
    "start_time": "2022-08-22T10:33:22.236Z"
   },
   {
    "duration": 4,
    "start_time": "2022-08-22T10:39:24.761Z"
   },
   {
    "duration": 378,
    "start_time": "2022-08-22T10:39:24.766Z"
   },
   {
    "duration": 24,
    "start_time": "2022-08-22T10:39:25.146Z"
   },
   {
    "duration": 39,
    "start_time": "2022-08-22T10:39:25.172Z"
   },
   {
    "duration": 22,
    "start_time": "2022-08-22T10:39:25.213Z"
   },
   {
    "duration": 77,
    "start_time": "2022-08-22T10:39:25.236Z"
   },
   {
    "duration": 37,
    "start_time": "2022-08-22T10:39:25.315Z"
   },
   {
    "duration": 60,
    "start_time": "2022-08-22T10:39:25.353Z"
   },
   {
    "duration": 43,
    "start_time": "2022-08-22T10:39:25.415Z"
   },
   {
    "duration": 129,
    "start_time": "2022-08-22T10:39:25.460Z"
   },
   {
    "duration": 226,
    "start_time": "2022-08-22T10:39:25.591Z"
   },
   {
    "duration": 22,
    "start_time": "2022-08-22T10:39:25.818Z"
   },
   {
    "duration": 22,
    "start_time": "2022-08-22T10:39:25.842Z"
   },
   {
    "duration": 27,
    "start_time": "2022-08-22T10:39:30.165Z"
   },
   {
    "duration": 11,
    "start_time": "2022-08-22T10:39:43.199Z"
   },
   {
    "duration": 72,
    "start_time": "2022-08-22T10:40:25.851Z"
   },
   {
    "duration": 19,
    "start_time": "2022-08-22T10:40:30.484Z"
   },
   {
    "duration": 13,
    "start_time": "2022-08-22T10:40:36.540Z"
   },
   {
    "duration": 11,
    "start_time": "2022-08-22T10:40:41.762Z"
   },
   {
    "duration": 13,
    "start_time": "2022-08-22T10:40:51.178Z"
   },
   {
    "duration": 6,
    "start_time": "2022-08-22T10:40:53.842Z"
   },
   {
    "duration": 5,
    "start_time": "2022-08-22T10:40:56.722Z"
   },
   {
    "duration": 65,
    "start_time": "2022-08-22T10:43:48.546Z"
   },
   {
    "duration": 8,
    "start_time": "2022-08-22T10:44:20.969Z"
   },
   {
    "duration": 95,
    "start_time": "2022-08-22T10:44:35.585Z"
   },
   {
    "duration": 3,
    "start_time": "2022-08-22T10:44:43.535Z"
   },
   {
    "duration": 10,
    "start_time": "2022-08-22T10:44:53.359Z"
   },
   {
    "duration": 16,
    "start_time": "2022-08-22T10:45:06.008Z"
   },
   {
    "duration": 10,
    "start_time": "2022-08-22T10:45:56.621Z"
   },
   {
    "duration": 10,
    "start_time": "2022-08-22T10:45:58.237Z"
   },
   {
    "duration": 1394,
    "start_time": "2022-08-22T10:46:16.708Z"
   },
   {
    "duration": 392,
    "start_time": "2022-08-22T10:46:18.104Z"
   },
   {
    "duration": 29,
    "start_time": "2022-08-22T10:46:18.499Z"
   },
   {
    "duration": 24,
    "start_time": "2022-08-22T10:46:18.530Z"
   },
   {
    "duration": 52,
    "start_time": "2022-08-22T10:46:18.555Z"
   },
   {
    "duration": 55,
    "start_time": "2022-08-22T10:46:18.609Z"
   },
   {
    "duration": 54,
    "start_time": "2022-08-22T10:46:18.688Z"
   },
   {
    "duration": 71,
    "start_time": "2022-08-22T10:46:18.744Z"
   },
   {
    "duration": 47,
    "start_time": "2022-08-22T10:46:18.817Z"
   },
   {
    "duration": 140,
    "start_time": "2022-08-22T10:46:18.867Z"
   },
   {
    "duration": 226,
    "start_time": "2022-08-22T10:46:19.009Z"
   },
   {
    "duration": 69,
    "start_time": "2022-08-22T10:46:19.237Z"
   },
   {
    "duration": 30,
    "start_time": "2022-08-22T10:46:19.307Z"
   },
   {
    "duration": 12,
    "start_time": "2022-08-22T10:46:19.338Z"
   },
   {
    "duration": 37,
    "start_time": "2022-08-22T10:46:19.351Z"
   },
   {
    "duration": 17,
    "start_time": "2022-08-22T10:46:19.391Z"
   },
   {
    "duration": 9,
    "start_time": "2022-08-22T10:46:19.410Z"
   },
   {
    "duration": 74,
    "start_time": "2022-08-22T10:46:19.421Z"
   },
   {
    "duration": 106,
    "start_time": "2022-08-22T10:46:19.501Z"
   },
   {
    "duration": 196,
    "start_time": "2022-08-22T10:46:19.610Z"
   },
   {
    "duration": 96,
    "start_time": "2022-08-22T10:46:19.809Z"
   },
   {
    "duration": 91,
    "start_time": "2022-08-22T10:46:19.908Z"
   },
   {
    "duration": 11,
    "start_time": "2022-08-22T10:46:22.134Z"
   },
   {
    "duration": 12,
    "start_time": "2022-08-22T10:46:48.601Z"
   },
   {
    "duration": 11,
    "start_time": "2022-08-22T10:46:50.275Z"
   },
   {
    "duration": 13,
    "start_time": "2022-08-22T10:46:51.899Z"
   },
   {
    "duration": 6,
    "start_time": "2022-08-22T10:46:54.011Z"
   },
   {
    "duration": 10,
    "start_time": "2022-08-22T10:46:56.011Z"
   },
   {
    "duration": 6,
    "start_time": "2022-08-22T10:46:56.803Z"
   },
   {
    "duration": 10,
    "start_time": "2022-08-22T10:46:58.130Z"
   },
   {
    "duration": 9,
    "start_time": "2022-08-22T10:46:58.954Z"
   },
   {
    "duration": 9,
    "start_time": "2022-08-22T10:46:59.747Z"
   },
   {
    "duration": 2,
    "start_time": "2022-08-22T10:53:42.600Z"
   },
   {
    "duration": 105,
    "start_time": "2022-08-22T10:53:49.728Z"
   },
   {
    "duration": 2,
    "start_time": "2022-08-22T10:54:02.083Z"
   },
   {
    "duration": 2,
    "start_time": "2022-08-22T10:54:34.546Z"
   },
   {
    "duration": 2,
    "start_time": "2022-08-22T10:54:42.921Z"
   },
   {
    "duration": 8,
    "start_time": "2022-08-22T10:55:40.721Z"
   },
   {
    "duration": 9,
    "start_time": "2022-08-22T10:56:20.351Z"
   },
   {
    "duration": 3,
    "start_time": "2022-08-22T11:08:26.718Z"
   },
   {
    "duration": 1479,
    "start_time": "2022-08-22T11:12:09.804Z"
   },
   {
    "duration": 3,
    "start_time": "2022-08-22T11:12:11.286Z"
   },
   {
    "duration": 466,
    "start_time": "2022-08-22T11:12:11.291Z"
   },
   {
    "duration": 44,
    "start_time": "2022-08-22T11:12:11.760Z"
   },
   {
    "duration": 30,
    "start_time": "2022-08-22T11:12:11.807Z"
   },
   {
    "duration": 62,
    "start_time": "2022-08-22T11:12:11.840Z"
   },
   {
    "duration": 54,
    "start_time": "2022-08-22T11:12:11.904Z"
   },
   {
    "duration": 92,
    "start_time": "2022-08-22T11:12:11.959Z"
   },
   {
    "duration": 85,
    "start_time": "2022-08-22T11:12:12.053Z"
   },
   {
    "duration": 72,
    "start_time": "2022-08-22T11:12:12.140Z"
   },
   {
    "duration": 173,
    "start_time": "2022-08-22T11:12:12.214Z"
   },
   {
    "duration": 251,
    "start_time": "2022-08-22T11:12:12.389Z"
   },
   {
    "duration": 82,
    "start_time": "2022-08-22T11:12:12.642Z"
   },
   {
    "duration": 39,
    "start_time": "2022-08-22T11:12:12.728Z"
   },
   {
    "duration": 25,
    "start_time": "2022-08-22T11:12:12.769Z"
   },
   {
    "duration": 35,
    "start_time": "2022-08-22T11:12:12.796Z"
   },
   {
    "duration": 16,
    "start_time": "2022-08-22T11:12:12.834Z"
   },
   {
    "duration": 16,
    "start_time": "2022-08-22T11:12:12.852Z"
   },
   {
    "duration": 35,
    "start_time": "2022-08-22T11:12:12.870Z"
   },
   {
    "duration": 187,
    "start_time": "2022-08-22T11:12:13.000Z"
   },
   {
    "duration": 98,
    "start_time": "2022-08-22T11:12:13.189Z"
   },
   {
    "duration": 131,
    "start_time": "2022-08-22T11:12:13.290Z"
   },
   {
    "duration": 15,
    "start_time": "2022-08-22T11:12:13.423Z"
   },
   {
    "duration": 10,
    "start_time": "2022-08-22T11:12:13.440Z"
   },
   {
    "duration": 13,
    "start_time": "2022-08-22T11:12:13.451Z"
   },
   {
    "duration": 22,
    "start_time": "2022-08-22T11:12:13.466Z"
   },
   {
    "duration": 70,
    "start_time": "2022-08-22T11:12:13.490Z"
   },
   {
    "duration": 0,
    "start_time": "2022-08-22T11:12:13.562Z"
   },
   {
    "duration": 0,
    "start_time": "2022-08-22T11:12:13.563Z"
   },
   {
    "duration": 80,
    "start_time": "2022-08-22T11:12:50.073Z"
   },
   {
    "duration": 5,
    "start_time": "2022-08-22T11:13:12.439Z"
   },
   {
    "duration": 16,
    "start_time": "2022-08-22T11:13:15.105Z"
   },
   {
    "duration": 3,
    "start_time": "2022-08-22T11:13:16.774Z"
   },
   {
    "duration": 50,
    "start_time": "2022-08-22T11:13:18.327Z"
   },
   {
    "duration": 9,
    "start_time": "2022-08-22T11:13:41.263Z"
   },
   {
    "duration": 1241,
    "start_time": "2022-08-22T11:14:02.429Z"
   },
   {
    "duration": 1199,
    "start_time": "2022-08-22T11:14:24.260Z"
   },
   {
    "duration": 1353,
    "start_time": "2022-08-22T11:14:27.614Z"
   },
   {
    "duration": 3,
    "start_time": "2022-08-22T11:18:44.906Z"
   },
   {
    "duration": 1470,
    "start_time": "2022-08-22T11:26:45.049Z"
   },
   {
    "duration": 5,
    "start_time": "2022-08-22T11:26:46.524Z"
   },
   {
    "duration": 485,
    "start_time": "2022-08-22T11:26:46.531Z"
   },
   {
    "duration": 32,
    "start_time": "2022-08-22T11:26:47.019Z"
   },
   {
    "duration": 63,
    "start_time": "2022-08-22T11:26:47.053Z"
   },
   {
    "duration": 24,
    "start_time": "2022-08-22T11:26:47.118Z"
   },
   {
    "duration": 78,
    "start_time": "2022-08-22T11:26:47.144Z"
   },
   {
    "duration": 47,
    "start_time": "2022-08-22T11:26:47.224Z"
   },
   {
    "duration": 77,
    "start_time": "2022-08-22T11:26:47.272Z"
   },
   {
    "duration": 78,
    "start_time": "2022-08-22T11:26:47.352Z"
   },
   {
    "duration": 140,
    "start_time": "2022-08-22T11:26:47.431Z"
   },
   {
    "duration": 288,
    "start_time": "2022-08-22T11:26:47.586Z"
   },
   {
    "duration": 83,
    "start_time": "2022-08-22T11:26:47.877Z"
   },
   {
    "duration": 37,
    "start_time": "2022-08-22T11:26:47.961Z"
   },
   {
    "duration": 29,
    "start_time": "2022-08-22T11:26:48.000Z"
   },
   {
    "duration": 20,
    "start_time": "2022-08-22T11:26:48.031Z"
   },
   {
    "duration": 12,
    "start_time": "2022-08-22T11:26:48.053Z"
   },
   {
    "duration": 43,
    "start_time": "2022-08-22T11:26:48.067Z"
   },
   {
    "duration": 82,
    "start_time": "2022-08-22T11:26:48.112Z"
   },
   {
    "duration": 137,
    "start_time": "2022-08-22T11:26:48.196Z"
   },
   {
    "duration": 202,
    "start_time": "2022-08-22T11:26:48.334Z"
   },
   {
    "duration": 212,
    "start_time": "2022-08-22T11:26:48.538Z"
   },
   {
    "duration": 25,
    "start_time": "2022-08-22T11:26:48.752Z"
   },
   {
    "duration": 15,
    "start_time": "2022-08-22T11:26:48.779Z"
   },
   {
    "duration": 36,
    "start_time": "2022-08-22T11:26:48.805Z"
   },
   {
    "duration": 18,
    "start_time": "2022-08-22T11:26:48.844Z"
   },
   {
    "duration": 6,
    "start_time": "2022-08-22T11:26:48.864Z"
   },
   {
    "duration": 78,
    "start_time": "2022-08-22T11:26:48.873Z"
   },
   {
    "duration": 18,
    "start_time": "2022-08-22T11:26:48.954Z"
   },
   {
    "duration": 24,
    "start_time": "2022-08-22T11:26:48.974Z"
   },
   {
    "duration": 1562,
    "start_time": "2022-08-22T11:26:49.001Z"
   },
   {
    "duration": 1370,
    "start_time": "2022-08-22T11:26:50.565Z"
   },
   {
    "duration": 1438,
    "start_time": "2022-08-22T11:26:51.936Z"
   },
   {
    "duration": 8,
    "start_time": "2022-08-22T11:29:20.907Z"
   },
   {
    "duration": 27,
    "start_time": "2022-08-22T11:29:24.884Z"
   },
   {
    "duration": 3,
    "start_time": "2022-08-22T11:29:25.643Z"
   },
   {
    "duration": 11,
    "start_time": "2022-08-22T11:29:53.083Z"
   },
   {
    "duration": 1414,
    "start_time": "2022-08-22T11:29:58.433Z"
   },
   {
    "duration": 1447,
    "start_time": "2022-08-22T11:30:02.642Z"
   },
   {
    "duration": 1473,
    "start_time": "2022-08-22T11:30:04.666Z"
   },
   {
    "duration": 1576,
    "start_time": "2022-08-22T11:30:28.251Z"
   },
   {
    "duration": 4,
    "start_time": "2022-08-22T11:30:29.829Z"
   },
   {
    "duration": 469,
    "start_time": "2022-08-22T11:30:29.836Z"
   },
   {
    "duration": 39,
    "start_time": "2022-08-22T11:30:30.308Z"
   },
   {
    "duration": 28,
    "start_time": "2022-08-22T11:30:30.348Z"
   },
   {
    "duration": 50,
    "start_time": "2022-08-22T11:30:30.378Z"
   },
   {
    "duration": 58,
    "start_time": "2022-08-22T11:30:30.430Z"
   },
   {
    "duration": 66,
    "start_time": "2022-08-22T11:30:30.490Z"
   },
   {
    "duration": 83,
    "start_time": "2022-08-22T11:30:30.557Z"
   },
   {
    "duration": 72,
    "start_time": "2022-08-22T11:30:30.642Z"
   },
   {
    "duration": 149,
    "start_time": "2022-08-22T11:30:30.716Z"
   },
   {
    "duration": 290,
    "start_time": "2022-08-22T11:30:30.867Z"
   },
   {
    "duration": 85,
    "start_time": "2022-08-22T11:30:31.159Z"
   },
   {
    "duration": 42,
    "start_time": "2022-08-22T11:30:31.246Z"
   },
   {
    "duration": 22,
    "start_time": "2022-08-22T11:30:31.291Z"
   },
   {
    "duration": 74,
    "start_time": "2022-08-22T11:30:31.315Z"
   },
   {
    "duration": 32,
    "start_time": "2022-08-22T11:30:31.405Z"
   },
   {
    "duration": 23,
    "start_time": "2022-08-22T11:30:31.439Z"
   },
   {
    "duration": 134,
    "start_time": "2022-08-22T11:30:31.464Z"
   },
   {
    "duration": 25,
    "start_time": "2022-08-22T11:30:31.610Z"
   },
   {
    "duration": 177,
    "start_time": "2022-08-22T11:30:31.638Z"
   },
   {
    "duration": 179,
    "start_time": "2022-08-22T11:30:31.818Z"
   },
   {
    "duration": 50,
    "start_time": "2022-08-22T11:30:31.999Z"
   },
   {
    "duration": 22,
    "start_time": "2022-08-22T11:30:32.051Z"
   },
   {
    "duration": 55,
    "start_time": "2022-08-22T11:30:32.075Z"
   },
   {
    "duration": 48,
    "start_time": "2022-08-22T11:30:32.132Z"
   },
   {
    "duration": 34,
    "start_time": "2022-08-22T11:30:32.181Z"
   },
   {
    "duration": 52,
    "start_time": "2022-08-22T11:30:32.220Z"
   },
   {
    "duration": 62,
    "start_time": "2022-08-22T11:30:32.274Z"
   },
   {
    "duration": 39,
    "start_time": "2022-08-22T11:30:32.337Z"
   },
   {
    "duration": 1373,
    "start_time": "2022-08-22T11:30:32.378Z"
   },
   {
    "duration": 1589,
    "start_time": "2022-08-22T11:30:33.753Z"
   },
   {
    "duration": 2724,
    "start_time": "2022-08-22T11:30:35.386Z"
   },
   {
    "duration": 9,
    "start_time": "2022-08-22T11:34:15.209Z"
   },
   {
    "duration": 1734,
    "start_time": "2022-08-22T11:35:18.842Z"
   },
   {
    "duration": 3,
    "start_time": "2022-08-22T11:35:20.577Z"
   },
   {
    "duration": 581,
    "start_time": "2022-08-22T11:35:20.582Z"
   },
   {
    "duration": 40,
    "start_time": "2022-08-22T11:35:21.166Z"
   },
   {
    "duration": 38,
    "start_time": "2022-08-22T11:35:21.215Z"
   },
   {
    "duration": 57,
    "start_time": "2022-08-22T11:35:21.255Z"
   },
   {
    "duration": 84,
    "start_time": "2022-08-22T11:35:21.314Z"
   },
   {
    "duration": 71,
    "start_time": "2022-08-22T11:35:21.402Z"
   },
   {
    "duration": 84,
    "start_time": "2022-08-22T11:35:21.475Z"
   },
   {
    "duration": 91,
    "start_time": "2022-08-22T11:35:21.562Z"
   },
   {
    "duration": 168,
    "start_time": "2022-08-22T11:35:21.655Z"
   },
   {
    "duration": 344,
    "start_time": "2022-08-22T11:35:21.826Z"
   },
   {
    "duration": 93,
    "start_time": "2022-08-22T11:35:22.173Z"
   },
   {
    "duration": 43,
    "start_time": "2022-08-22T11:35:22.268Z"
   },
   {
    "duration": 16,
    "start_time": "2022-08-22T11:35:22.313Z"
   },
   {
    "duration": 36,
    "start_time": "2022-08-22T11:35:22.337Z"
   },
   {
    "duration": 18,
    "start_time": "2022-08-22T11:35:22.374Z"
   },
   {
    "duration": 55,
    "start_time": "2022-08-22T11:35:22.394Z"
   },
   {
    "duration": 12,
    "start_time": "2022-08-22T11:35:22.451Z"
   },
   {
    "duration": 30,
    "start_time": "2022-08-22T11:35:22.465Z"
   },
   {
    "duration": 145,
    "start_time": "2022-08-22T11:35:22.497Z"
   },
   {
    "duration": 188,
    "start_time": "2022-08-22T11:35:22.645Z"
   },
   {
    "duration": 22,
    "start_time": "2022-08-22T11:35:22.835Z"
   },
   {
    "duration": 10,
    "start_time": "2022-08-22T11:35:22.859Z"
   },
   {
    "duration": 3,
    "start_time": "2022-08-22T11:35:22.871Z"
   },
   {
    "duration": 13,
    "start_time": "2022-08-22T11:35:22.875Z"
   },
   {
    "duration": 63,
    "start_time": "2022-08-22T11:35:22.890Z"
   },
   {
    "duration": 17,
    "start_time": "2022-08-22T11:35:22.957Z"
   },
   {
    "duration": 3,
    "start_time": "2022-08-22T11:35:22.976Z"
   },
   {
    "duration": 65,
    "start_time": "2022-08-22T11:35:22.981Z"
   },
   {
    "duration": 1720,
    "start_time": "2022-08-22T11:35:23.048Z"
   },
   {
    "duration": 1675,
    "start_time": "2022-08-22T11:35:24.770Z"
   },
   {
    "duration": 1518,
    "start_time": "2022-08-22T11:35:26.448Z"
   },
   {
    "duration": 102,
    "start_time": "2022-08-22T11:36:51.127Z"
   },
   {
    "duration": 7,
    "start_time": "2022-08-22T11:37:16.375Z"
   },
   {
    "duration": 1313,
    "start_time": "2022-08-22T11:37:20.838Z"
   },
   {
    "duration": 6,
    "start_time": "2022-08-22T11:37:36.822Z"
   },
   {
    "duration": 1272,
    "start_time": "2022-08-22T11:37:39.669Z"
   },
   {
    "duration": 6,
    "start_time": "2022-08-22T11:38:05.814Z"
   },
   {
    "duration": 1498,
    "start_time": "2022-08-22T11:38:09.037Z"
   },
   {
    "duration": 6,
    "start_time": "2022-08-22T11:38:23.723Z"
   },
   {
    "duration": 1593,
    "start_time": "2022-08-22T11:38:27.140Z"
   },
   {
    "duration": 1917,
    "start_time": "2022-08-22T11:38:40.004Z"
   },
   {
    "duration": 4,
    "start_time": "2022-08-22T11:38:41.924Z"
   },
   {
    "duration": 544,
    "start_time": "2022-08-22T11:38:41.930Z"
   },
   {
    "duration": 39,
    "start_time": "2022-08-22T11:38:42.476Z"
   },
   {
    "duration": 38,
    "start_time": "2022-08-22T11:38:42.517Z"
   },
   {
    "duration": 62,
    "start_time": "2022-08-22T11:38:42.557Z"
   },
   {
    "duration": 75,
    "start_time": "2022-08-22T11:38:42.621Z"
   },
   {
    "duration": 51,
    "start_time": "2022-08-22T11:38:42.698Z"
   },
   {
    "duration": 95,
    "start_time": "2022-08-22T11:38:42.752Z"
   },
   {
    "duration": 82,
    "start_time": "2022-08-22T11:38:42.850Z"
   },
   {
    "duration": 129,
    "start_time": "2022-08-22T11:38:42.934Z"
   },
   {
    "duration": 264,
    "start_time": "2022-08-22T11:38:43.065Z"
   },
   {
    "duration": 95,
    "start_time": "2022-08-22T11:38:43.331Z"
   },
   {
    "duration": 44,
    "start_time": "2022-08-22T11:38:43.428Z"
   },
   {
    "duration": 25,
    "start_time": "2022-08-22T11:38:43.475Z"
   },
   {
    "duration": 38,
    "start_time": "2022-08-22T11:38:43.502Z"
   },
   {
    "duration": 14,
    "start_time": "2022-08-22T11:38:43.542Z"
   },
   {
    "duration": 32,
    "start_time": "2022-08-22T11:38:43.558Z"
   },
   {
    "duration": 24,
    "start_time": "2022-08-22T11:38:43.591Z"
   },
   {
    "duration": 100,
    "start_time": "2022-08-22T11:38:43.697Z"
   },
   {
    "duration": 198,
    "start_time": "2022-08-22T11:38:43.799Z"
   },
   {
    "duration": 196,
    "start_time": "2022-08-22T11:38:44.003Z"
   },
   {
    "duration": 11,
    "start_time": "2022-08-22T11:38:44.201Z"
   },
   {
    "duration": 12,
    "start_time": "2022-08-22T11:38:44.214Z"
   },
   {
    "duration": 6,
    "start_time": "2022-08-22T11:38:44.229Z"
   },
   {
    "duration": 53,
    "start_time": "2022-08-22T11:38:44.237Z"
   },
   {
    "duration": 7,
    "start_time": "2022-08-22T11:38:44.292Z"
   },
   {
    "duration": 19,
    "start_time": "2022-08-22T11:38:44.302Z"
   },
   {
    "duration": 4,
    "start_time": "2022-08-22T11:38:44.323Z"
   },
   {
    "duration": 24,
    "start_time": "2022-08-22T11:38:44.328Z"
   },
   {
    "duration": 1196,
    "start_time": "2022-08-22T11:38:44.355Z"
   },
   {
    "duration": 1301,
    "start_time": "2022-08-22T11:38:45.552Z"
   },
   {
    "duration": 1202,
    "start_time": "2022-08-22T11:38:46.855Z"
   },
   {
    "duration": 1867,
    "start_time": "2022-08-22T18:00:35.774Z"
   },
   {
    "duration": 3,
    "start_time": "2022-08-22T18:00:37.643Z"
   },
   {
    "duration": 904,
    "start_time": "2022-08-22T18:00:37.648Z"
   },
   {
    "duration": 47,
    "start_time": "2022-08-22T18:00:38.554Z"
   },
   {
    "duration": 39,
    "start_time": "2022-08-22T18:00:38.603Z"
   },
   {
    "duration": 24,
    "start_time": "2022-08-22T18:00:38.645Z"
   },
   {
    "duration": 93,
    "start_time": "2022-08-22T18:00:38.671Z"
   },
   {
    "duration": 66,
    "start_time": "2022-08-22T18:00:38.769Z"
   },
   {
    "duration": 69,
    "start_time": "2022-08-22T18:00:38.837Z"
   },
   {
    "duration": 46,
    "start_time": "2022-08-22T18:00:38.910Z"
   },
   {
    "duration": 164,
    "start_time": "2022-08-22T18:00:38.957Z"
   },
   {
    "duration": 236,
    "start_time": "2022-08-22T18:00:39.123Z"
   },
   {
    "duration": 74,
    "start_time": "2022-08-22T18:00:39.360Z"
   },
   {
    "duration": 31,
    "start_time": "2022-08-22T18:00:39.435Z"
   },
   {
    "duration": 27,
    "start_time": "2022-08-22T18:00:39.468Z"
   },
   {
    "duration": 32,
    "start_time": "2022-08-22T18:00:39.507Z"
   },
   {
    "duration": 160,
    "start_time": "2022-08-22T18:00:39.542Z"
   },
   {
    "duration": 23,
    "start_time": "2022-08-22T18:00:39.707Z"
   },
   {
    "duration": 55,
    "start_time": "2022-08-22T18:00:39.732Z"
   },
   {
    "duration": 126,
    "start_time": "2022-08-22T18:00:39.793Z"
   },
   {
    "duration": 185,
    "start_time": "2022-08-22T18:00:39.926Z"
   },
   {
    "duration": 190,
    "start_time": "2022-08-22T18:00:40.118Z"
   },
   {
    "duration": 16,
    "start_time": "2022-08-22T18:00:40.310Z"
   },
   {
    "duration": 17,
    "start_time": "2022-08-22T18:00:40.328Z"
   },
   {
    "duration": 3,
    "start_time": "2022-08-22T18:00:40.347Z"
   },
   {
    "duration": 48,
    "start_time": "2022-08-22T18:00:40.352Z"
   },
   {
    "duration": 22,
    "start_time": "2022-08-22T18:00:40.406Z"
   },
   {
    "duration": 22,
    "start_time": "2022-08-22T18:00:40.432Z"
   },
   {
    "duration": 4,
    "start_time": "2022-08-22T18:00:40.455Z"
   },
   {
    "duration": 14,
    "start_time": "2022-08-22T18:00:40.461Z"
   },
   {
    "duration": 1259,
    "start_time": "2022-08-22T18:00:40.477Z"
   },
   {
    "duration": 1212,
    "start_time": "2022-08-22T18:00:41.738Z"
   },
   {
    "duration": 1217,
    "start_time": "2022-08-22T18:00:42.952Z"
   },
   {
    "duration": 4,
    "start_time": "2022-08-22T18:00:54.604Z"
   },
   {
    "duration": 872,
    "start_time": "2022-08-22T18:01:42.029Z"
   },
   {
    "duration": 1633,
    "start_time": "2022-08-23T10:25:00.123Z"
   },
   {
    "duration": 3,
    "start_time": "2022-08-23T10:25:01.759Z"
   },
   {
    "duration": 1630,
    "start_time": "2022-08-23T10:25:01.763Z"
   },
   {
    "duration": 35,
    "start_time": "2022-08-23T10:25:03.396Z"
   },
   {
    "duration": 37,
    "start_time": "2022-08-23T10:25:03.433Z"
   },
   {
    "duration": 32,
    "start_time": "2022-08-23T10:25:03.472Z"
   },
   {
    "duration": 85,
    "start_time": "2022-08-23T10:25:03.506Z"
   },
   {
    "duration": 55,
    "start_time": "2022-08-23T10:25:03.593Z"
   },
   {
    "duration": 70,
    "start_time": "2022-08-23T10:25:03.650Z"
   },
   {
    "duration": 79,
    "start_time": "2022-08-23T10:25:03.723Z"
   },
   {
    "duration": 140,
    "start_time": "2022-08-23T10:25:03.804Z"
   },
   {
    "duration": 267,
    "start_time": "2022-08-23T10:25:03.946Z"
   },
   {
    "duration": 75,
    "start_time": "2022-08-23T10:25:04.215Z"
   },
   {
    "duration": 37,
    "start_time": "2022-08-23T10:25:04.291Z"
   },
   {
    "duration": 13,
    "start_time": "2022-08-23T10:25:04.330Z"
   },
   {
    "duration": 26,
    "start_time": "2022-08-23T10:25:04.367Z"
   },
   {
    "duration": 14,
    "start_time": "2022-08-23T10:25:04.395Z"
   },
   {
    "duration": 15,
    "start_time": "2022-08-23T10:25:04.410Z"
   },
   {
    "duration": 49,
    "start_time": "2022-08-23T10:25:04.428Z"
   },
   {
    "duration": 96,
    "start_time": "2022-08-23T10:25:04.478Z"
   },
   {
    "duration": 108,
    "start_time": "2022-08-23T10:25:04.668Z"
   },
   {
    "duration": 189,
    "start_time": "2022-08-23T10:25:04.779Z"
   },
   {
    "duration": 20,
    "start_time": "2022-08-23T10:25:04.971Z"
   },
   {
    "duration": 11,
    "start_time": "2022-08-23T10:25:04.993Z"
   },
   {
    "duration": 3,
    "start_time": "2022-08-23T10:25:05.006Z"
   },
   {
    "duration": 21,
    "start_time": "2022-08-23T10:25:05.011Z"
   },
   {
    "duration": 37,
    "start_time": "2022-08-23T10:25:05.034Z"
   },
   {
    "duration": 29,
    "start_time": "2022-08-23T10:25:05.076Z"
   },
   {
    "duration": 4,
    "start_time": "2022-08-23T10:25:05.107Z"
   },
   {
    "duration": 19,
    "start_time": "2022-08-23T10:25:05.113Z"
   },
   {
    "duration": 1266,
    "start_time": "2022-08-23T10:25:05.134Z"
   },
   {
    "duration": 1334,
    "start_time": "2022-08-23T10:25:06.401Z"
   },
   {
    "duration": 1174,
    "start_time": "2022-08-23T10:25:07.736Z"
   },
   {
    "duration": 1598,
    "start_time": "2022-08-23T10:42:06.965Z"
   },
   {
    "duration": 3,
    "start_time": "2022-08-23T10:42:08.565Z"
   },
   {
    "duration": 1645,
    "start_time": "2022-08-23T10:42:08.569Z"
   },
   {
    "duration": 32,
    "start_time": "2022-08-23T10:42:10.217Z"
   },
   {
    "duration": 26,
    "start_time": "2022-08-23T10:42:10.251Z"
   },
   {
    "duration": 37,
    "start_time": "2022-08-23T10:42:10.279Z"
   },
   {
    "duration": 51,
    "start_time": "2022-08-23T10:42:10.317Z"
   },
   {
    "duration": 65,
    "start_time": "2022-08-23T10:42:10.370Z"
   },
   {
    "duration": 63,
    "start_time": "2022-08-23T10:42:10.437Z"
   },
   {
    "duration": 46,
    "start_time": "2022-08-23T10:42:10.503Z"
   },
   {
    "duration": 122,
    "start_time": "2022-08-23T10:42:10.551Z"
   },
   {
    "duration": 192,
    "start_time": "2022-08-23T10:42:10.674Z"
   },
   {
    "duration": 161,
    "start_time": "2022-08-23T10:42:10.868Z"
   },
   {
    "duration": 158,
    "start_time": "2022-08-23T10:42:21.137Z"
   },
   {
    "duration": 63,
    "start_time": "2022-08-23T10:42:44.256Z"
   },
   {
    "duration": 23,
    "start_time": "2022-08-23T10:42:47.135Z"
   },
   {
    "duration": 4,
    "start_time": "2022-08-23T10:43:11.167Z"
   },
   {
    "duration": 9,
    "start_time": "2022-08-23T10:43:11.173Z"
   },
   {
    "duration": 406,
    "start_time": "2022-08-23T10:43:11.184Z"
   },
   {
    "duration": 35,
    "start_time": "2022-08-23T10:43:11.591Z"
   },
   {
    "duration": 23,
    "start_time": "2022-08-23T10:43:11.628Z"
   },
   {
    "duration": 52,
    "start_time": "2022-08-23T10:43:11.652Z"
   },
   {
    "duration": 53,
    "start_time": "2022-08-23T10:43:11.707Z"
   },
   {
    "duration": 69,
    "start_time": "2022-08-23T10:43:11.762Z"
   },
   {
    "duration": 67,
    "start_time": "2022-08-23T10:43:11.833Z"
   },
   {
    "duration": 47,
    "start_time": "2022-08-23T10:43:11.902Z"
   },
   {
    "duration": 124,
    "start_time": "2022-08-23T10:43:11.951Z"
   },
   {
    "duration": 191,
    "start_time": "2022-08-23T10:43:12.077Z"
   },
   {
    "duration": 194,
    "start_time": "2022-08-23T10:43:12.269Z"
   },
   {
    "duration": 163,
    "start_time": "2022-08-23T10:43:12.465Z"
   },
   {
    "duration": 23,
    "start_time": "2022-08-23T10:43:12.629Z"
   },
   {
    "duration": 39,
    "start_time": "2022-08-23T10:43:12.654Z"
   },
   {
    "duration": 30,
    "start_time": "2022-08-23T10:43:12.694Z"
   },
   {
    "duration": 28,
    "start_time": "2022-08-23T10:43:12.725Z"
   },
   {
    "duration": 13,
    "start_time": "2022-08-23T10:43:12.754Z"
   },
   {
    "duration": 47,
    "start_time": "2022-08-23T10:43:12.768Z"
   },
   {
    "duration": 122,
    "start_time": "2022-08-23T10:43:12.894Z"
   },
   {
    "duration": 11,
    "start_time": "2022-08-23T10:43:13.017Z"
   },
   {
    "duration": 7,
    "start_time": "2022-08-23T10:43:13.030Z"
   },
   {
    "duration": 124,
    "start_time": "2022-08-23T10:43:13.095Z"
   },
   {
    "duration": 78,
    "start_time": "2022-08-23T10:43:13.221Z"
   },
   {
    "duration": 215,
    "start_time": "2022-08-23T10:43:13.305Z"
   },
   {
    "duration": 10,
    "start_time": "2022-08-23T10:43:13.522Z"
   },
   {
    "duration": 9,
    "start_time": "2022-08-23T10:43:16.439Z"
   },
   {
    "duration": 13,
    "start_time": "2022-08-23T10:46:12.719Z"
   },
   {
    "duration": 12,
    "start_time": "2022-08-23T10:46:20.568Z"
   },
   {
    "duration": 9,
    "start_time": "2022-08-23T10:46:23.727Z"
   },
   {
    "duration": 1379,
    "start_time": "2022-08-23T10:50:44.760Z"
   },
   {
    "duration": 3,
    "start_time": "2022-08-23T10:50:46.141Z"
   },
   {
    "duration": 404,
    "start_time": "2022-08-23T10:50:46.145Z"
   },
   {
    "duration": 28,
    "start_time": "2022-08-23T10:50:46.551Z"
   },
   {
    "duration": 42,
    "start_time": "2022-08-23T10:50:46.581Z"
   },
   {
    "duration": 25,
    "start_time": "2022-08-23T10:50:46.624Z"
   },
   {
    "duration": 78,
    "start_time": "2022-08-23T10:50:46.651Z"
   },
   {
    "duration": 45,
    "start_time": "2022-08-23T10:50:46.731Z"
   },
   {
    "duration": 73,
    "start_time": "2022-08-23T10:50:46.778Z"
   },
   {
    "duration": 74,
    "start_time": "2022-08-23T10:50:46.853Z"
   },
   {
    "duration": 129,
    "start_time": "2022-08-23T10:50:46.929Z"
   },
   {
    "duration": 10,
    "start_time": "2022-08-23T10:50:47.060Z"
   },
   {
    "duration": 29,
    "start_time": "2022-08-23T10:50:47.072Z"
   },
   {
    "duration": 13,
    "start_time": "2022-08-23T10:50:47.105Z"
   },
   {
    "duration": 206,
    "start_time": "2022-08-23T10:50:47.119Z"
   },
   {
    "duration": 192,
    "start_time": "2022-08-23T10:50:47.326Z"
   },
   {
    "duration": 163,
    "start_time": "2022-08-23T10:50:47.520Z"
   },
   {
    "duration": 72,
    "start_time": "2022-08-23T10:50:47.685Z"
   },
   {
    "duration": 41,
    "start_time": "2022-08-23T10:50:47.759Z"
   },
   {
    "duration": 28,
    "start_time": "2022-08-23T10:50:47.802Z"
   },
   {
    "duration": 34,
    "start_time": "2022-08-23T10:50:47.831Z"
   },
   {
    "duration": 37,
    "start_time": "2022-08-23T10:50:47.867Z"
   },
   {
    "duration": 16,
    "start_time": "2022-08-23T10:50:47.906Z"
   },
   {
    "duration": 12,
    "start_time": "2022-08-23T10:50:47.923Z"
   },
   {
    "duration": 14,
    "start_time": "2022-08-23T10:50:47.937Z"
   },
   {
    "duration": 54,
    "start_time": "2022-08-23T10:50:47.953Z"
   },
   {
    "duration": 218,
    "start_time": "2022-08-23T10:50:48.010Z"
   },
   {
    "duration": 170,
    "start_time": "2022-08-23T10:50:48.231Z"
   },
   {
    "duration": 216,
    "start_time": "2022-08-23T10:50:48.404Z"
   },
   {
    "duration": 9,
    "start_time": "2022-08-23T10:50:48.622Z"
   },
   {
    "duration": 9,
    "start_time": "2022-08-23T10:50:48.632Z"
   },
   {
    "duration": 8,
    "start_time": "2022-08-23T10:50:48.642Z"
   },
   {
    "duration": 17,
    "start_time": "2022-08-23T10:50:48.652Z"
   },
   {
    "duration": 23,
    "start_time": "2022-08-23T10:50:48.670Z"
   },
   {
    "duration": 29,
    "start_time": "2022-08-23T10:50:48.695Z"
   },
   {
    "duration": 3,
    "start_time": "2022-08-23T10:50:48.726Z"
   },
   {
    "duration": 12,
    "start_time": "2022-08-23T10:50:48.731Z"
   },
   {
    "duration": 795,
    "start_time": "2022-08-23T10:50:48.745Z"
   },
   {
    "duration": 773,
    "start_time": "2022-08-23T10:50:49.542Z"
   },
   {
    "duration": 801,
    "start_time": "2022-08-23T10:50:50.317Z"
   }
  ],
  "kernelspec": {
   "display_name": "Python 3 (ipykernel)",
   "language": "python",
   "name": "python3"
  },
  "language_info": {
   "codemirror_mode": {
    "name": "ipython",
    "version": 3
   },
   "file_extension": ".py",
   "mimetype": "text/x-python",
   "name": "python",
   "nbconvert_exporter": "python",
   "pygments_lexer": "ipython3",
   "version": "3.9.5"
  },
  "toc": {
   "base_numbering": 1,
   "nav_menu": {},
   "number_sections": true,
   "sideBar": true,
   "skip_h1_title": true,
   "title_cell": "Содержание",
   "title_sidebar": "Contents",
   "toc_cell": true,
   "toc_position": {},
   "toc_section_display": true,
   "toc_window_display": true
  }
 },
 "nbformat": 4,
 "nbformat_minor": 2
}
