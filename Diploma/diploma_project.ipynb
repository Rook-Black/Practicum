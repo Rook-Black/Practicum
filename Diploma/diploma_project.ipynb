{
 "cells": [
  {
   "attachments": {},
   "cell_type": "markdown",
   "metadata": {},
   "source": [
    "# Дипомный проект Промышленность"
   ]
  },
  {
   "attachments": {},
   "cell_type": "markdown",
   "metadata": {},
   "source": [
    "## Описание проекта"
   ]
  },
  {
   "attachments": {},
   "cell_type": "markdown",
   "metadata": {},
   "source": [
    "Чтобы оптимизировать производственные расходы, металлургический комбинат «Стальная птица» решил уменьшить потребление электроэнергии на этапе обработки стали. Для этого комбинату нужно контролировать температуру сплава. Ваша задача — построить модель, которая будет её предсказывать. Заказчик хочет использовать разработанную модель для имитации технологического процесса. Изучите его, прежде чем генерировать новые признаки."
   ]
  },
  {
   "attachments": {},
   "cell_type": "markdown",
   "metadata": {},
   "source": [
    "### Описание процесса обработки"
   ]
  },
  {
   "attachments": {},
   "cell_type": "markdown",
   "metadata": {},
   "source": [
    "Сталь обрабатывают в металлическом ковше вместимостью около 100 тонн. Чтобы ковш выдерживал высокие температуры, изнутри его облицовывают огнеупорным кирпичом. Расплавленную сталь заливают в ковш и подогревают до нужной температуры графитовыми электродами. Они установлены на крышке ковша.  \n",
    "\n",
    "Сначала происходит десульфурация — из стали выводят серу и корректируют её химический состав добавлением примесей. Затем сталь легируют — добавляют в неё куски сплава из бункера для сыпучих материалов или порошковую проволоку через специальный трайб-аппарат.  \n",
    "\n",
    "Прежде чем в первый раз ввести легирующие добавки, специалисты производят химический анализ стали и измеряют её температуру. Потом температуру на несколько минут повышают, уже после этого добавляют легирующие материалы и продувают сталь инертным газом, чтобы перемешать, а затем снова проводят измерения. Такой цикл повторяется до тех пор, пока не будут достигнуты нужный химический состав стали и оптимальная температура плавки.  \n",
    "\n",
    "Дальше расплавленная сталь отправляется на доводку металла или поступает в машину непрерывной разливки. Оттуда готовый продукт выходит в виде заготовок-слябов.  "
   ]
  },
  {
   "attachments": {},
   "cell_type": "markdown",
   "metadata": {},
   "source": [
    "### Описание данных"
   ]
  },
  {
   "attachments": {},
   "cell_type": "markdown",
   "metadata": {},
   "source": [
    "Данные хранятся в базе данных PostgreSQL. Она состоит из нескольких таблиц:\n",
    "- steel.data_arc — данные об электродах;\n",
    "- steel.data_bulk — данные об объёме сыпучих материалов;\n",
    "- steel.data_bulk_time — данные о времени подачи сыпучих материалов;\n",
    "- steel.data_gas — данные о продувке сплава газом;\n",
    "- steel.data_temp — данные об измерениях температуры;\n",
    "- steel.data_wire — данные об объёме проволочных материалов;\n",
    "- steel.data_wire_time — данные о времени подачи проволочных материалов.\n",
    "\n",
    "Таблица ***steel.data_arc***\n",
    "\n",
    "- key — номер партии;\n",
    "- BeginHeat — время начала нагрева;\n",
    "- EndHeat — время окончания нагрева;\n",
    "- ActivePower — значение активной мощности;\n",
    "- ReactivePower — значение реактивной мощности.\n",
    "\n",
    "Таблица ***steel.data_bulk***\n",
    "\n",
    "- key — номер партии;\n",
    "- Bulk1 … Bulk15 — объём подаваемого материала.\n",
    "\n",
    "Таблица ***steel.data_bulk_time***\n",
    "\n",
    "- key — номер партии;\n",
    "- Bulk1 … Bulk15 — время подачи материала.\n",
    "\n",
    "Таблица ***steel.data_gas***\n",
    "\n",
    "- key — номер партии;\n",
    "- gas — объём подаваемого газа.\n",
    "\n",
    "Таблица ***steel.data_temp***\n",
    "\n",
    "- key — номер партии;\n",
    "- MesaureTime — время замера;\n",
    "- Temperature — значение температуры.\n",
    "\n",
    "Таблица ***steel.data_wire***\n",
    "\n",
    "- key — номер партии;\n",
    "- Wire1 … Wire15 — объём подаваемых проволочных материалов.\n",
    "\n",
    "Таблица ***steel.data_wire_time***\n",
    "\n",
    "-key — номер партии;\n",
    "- Wire1 … Wire15 — время подачи проволочных материалов.\n",
    "\n",
    "Во всех файлах столбец key содержит номер партии. В таблицах может быть несколько строк с одинаковым значением key: они соответствуют разным итерациям обработки."
   ]
  },
  {
   "attachments": {},
   "cell_type": "markdown",
   "metadata": {},
   "source": [
    "## Подключение библиотек и выгрузка данных"
   ]
  },
  {
   "attachments": {},
   "cell_type": "markdown",
   "metadata": {},
   "source": [
    "Подклбчамем необхожимые бибиотеки и заводим глобальные переменные."
   ]
  },
  {
   "cell_type": "code",
   "execution_count": 135,
   "metadata": {},
   "outputs": [],
   "source": [
    "from sqlalchemy import create_engine, text\n",
    "import pandas as pd\n",
    "import numpy as np\n",
    "\n",
    "import matplotlib.pyplot as plt"
   ]
  },
  {
   "cell_type": "code",
   "execution_count": 136,
   "metadata": {},
   "outputs": [],
   "source": [
    "RANDOM_STATE = 5062023\n",
    "PATH = './data/'"
   ]
  },
  {
   "attachments": {},
   "cell_type": "markdown",
   "metadata": {},
   "source": [
    "Подлкючаемся к базе данных и оцениваем размеры таблиц."
   ]
  },
  {
   "cell_type": "code",
   "execution_count": 137,
   "metadata": {},
   "outputs": [],
   "source": [
    "db_config = {\n",
    "'user': 'praktikum_student',# имя пользователя\n",
    "'pwd': 'Sdf4$2;d-d30pp',# пароль\n",
    "'host': 'rc1b-wcoijxj3yxfsf3fs.mdb.yandexcloud.net',\n",
    "'port': 6432,# порт подключения\n",
    "'db': 'data-science-final'# название базы данных,\n",
    "}\n",
    "connection_string = 'postgresql://{}:{}@{}:{}/{}'.format(\n",
    "    db_config['user'],\n",
    "    db_config['pwd'],\n",
    "    db_config['host'],\n",
    "    db_config['port'],\n",
    "    db_config['db'],\n",
    ")\n",
    "engine = create_engine(connection_string)"
   ]
  },
  {
   "cell_type": "code",
   "execution_count": 138,
   "metadata": {},
   "outputs": [
    {
     "name": "stdout",
     "output_type": "stream",
     "text": [
      "-------------------------------------------------------------\n",
      "<class 'pandas.core.frame.DataFrame'>\n",
      "RangeIndex: 14876 entries, 0 to 14875\n",
      "Data columns (total 5 columns):\n",
      " #   Column         Non-Null Count  Dtype  \n",
      "---  ------         --------------  -----  \n",
      " 0   key            14876 non-null  int64  \n",
      " 1   BeginHeat      14876 non-null  object \n",
      " 2   EndHeat        14876 non-null  object \n",
      " 3   ActivePower    14876 non-null  float64\n",
      " 4   ReactivePower  14876 non-null  float64\n",
      "dtypes: float64(2), int64(1), object(2)\n",
      "memory usage: 581.2+ KB\n",
      "None\n",
      "-------------------------------------------------------------\n",
      "<class 'pandas.core.frame.DataFrame'>\n",
      "RangeIndex: 3129 entries, 0 to 3128\n",
      "Data columns (total 16 columns):\n",
      " #   Column   Non-Null Count  Dtype  \n",
      "---  ------   --------------  -----  \n",
      " 0   key      3129 non-null   int64  \n",
      " 1   Bulk 1   252 non-null    float64\n",
      " 2   Bulk 2   22 non-null     float64\n",
      " 3   Bulk 3   1298 non-null   float64\n",
      " 4   Bulk 4   1014 non-null   float64\n",
      " 5   Bulk 5   77 non-null     float64\n",
      " 6   Bulk 6   576 non-null    float64\n",
      " 7   Bulk 7   25 non-null     float64\n",
      " 8   Bulk 8   1 non-null      float64\n",
      " 9   Bulk 9   19 non-null     float64\n",
      " 10  Bulk 10  176 non-null    float64\n",
      " 11  Bulk 11  177 non-null    float64\n",
      " 12  Bulk 12  2450 non-null   float64\n",
      " 13  Bulk 13  18 non-null     float64\n",
      " 14  Bulk 14  2806 non-null   float64\n",
      " 15  Bulk 15  2248 non-null   float64\n",
      "dtypes: float64(15), int64(1)\n",
      "memory usage: 391.2 KB\n",
      "None\n",
      "-------------------------------------------------------------\n",
      "<class 'pandas.core.frame.DataFrame'>\n",
      "RangeIndex: 3129 entries, 0 to 3128\n",
      "Data columns (total 16 columns):\n",
      " #   Column   Non-Null Count  Dtype \n",
      "---  ------   --------------  ----- \n",
      " 0   key      3129 non-null   int64 \n",
      " 1   Bulk 1   252 non-null    object\n",
      " 2   Bulk 2   22 non-null     object\n",
      " 3   Bulk 3   1298 non-null   object\n",
      " 4   Bulk 4   1014 non-null   object\n",
      " 5   Bulk 5   77 non-null     object\n",
      " 6   Bulk 6   576 non-null    object\n",
      " 7   Bulk 7   25 non-null     object\n",
      " 8   Bulk 8   1 non-null      object\n",
      " 9   Bulk 9   19 non-null     object\n",
      " 10  Bulk 10  176 non-null    object\n",
      " 11  Bulk 11  177 non-null    object\n",
      " 12  Bulk 12  2450 non-null   object\n",
      " 13  Bulk 13  18 non-null     object\n",
      " 14  Bulk 14  2806 non-null   object\n",
      " 15  Bulk 15  2248 non-null   object\n",
      "dtypes: int64(1), object(15)\n",
      "memory usage: 391.2+ KB\n",
      "None\n",
      "-------------------------------------------------------------\n",
      "<class 'pandas.core.frame.DataFrame'>\n",
      "RangeIndex: 3239 entries, 0 to 3238\n",
      "Data columns (total 2 columns):\n",
      " #   Column  Non-Null Count  Dtype  \n",
      "---  ------  --------------  -----  \n",
      " 0   key     3239 non-null   int64  \n",
      " 1   gas     3239 non-null   float64\n",
      "dtypes: float64(1), int64(1)\n",
      "memory usage: 50.7 KB\n",
      "None\n",
      "-------------------------------------------------------------\n",
      "<class 'pandas.core.frame.DataFrame'>\n",
      "RangeIndex: 15907 entries, 0 to 15906\n",
      "Data columns (total 3 columns):\n",
      " #   Column       Non-Null Count  Dtype  \n",
      "---  ------       --------------  -----  \n",
      " 0   key          15907 non-null  int64  \n",
      " 1   MesaureTime  15907 non-null  object \n",
      " 2   Temperature  13006 non-null  float64\n",
      "dtypes: float64(1), int64(1), object(1)\n",
      "memory usage: 372.9+ KB\n",
      "None\n",
      "-------------------------------------------------------------\n",
      "<class 'pandas.core.frame.DataFrame'>\n",
      "RangeIndex: 3081 entries, 0 to 3080\n",
      "Data columns (total 10 columns):\n",
      " #   Column  Non-Null Count  Dtype  \n",
      "---  ------  --------------  -----  \n",
      " 0   key     3081 non-null   int64  \n",
      " 1   Wire 1  3055 non-null   float64\n",
      " 2   Wire 2  1079 non-null   float64\n",
      " 3   Wire 3  63 non-null     float64\n",
      " 4   Wire 4  14 non-null     float64\n",
      " 5   Wire 5  1 non-null      float64\n",
      " 6   Wire 6  73 non-null     float64\n",
      " 7   Wire 7  11 non-null     float64\n",
      " 8   Wire 8  19 non-null     float64\n",
      " 9   Wire 9  29 non-null     float64\n",
      "dtypes: float64(9), int64(1)\n",
      "memory usage: 240.8 KB\n",
      "None\n",
      "-------------------------------------------------------------\n",
      "<class 'pandas.core.frame.DataFrame'>\n",
      "RangeIndex: 3081 entries, 0 to 3080\n",
      "Data columns (total 10 columns):\n",
      " #   Column  Non-Null Count  Dtype \n",
      "---  ------  --------------  ----- \n",
      " 0   key     3081 non-null   int64 \n",
      " 1   Wire 1  3055 non-null   object\n",
      " 2   Wire 2  1079 non-null   object\n",
      " 3   Wire 3  63 non-null     object\n",
      " 4   Wire 4  14 non-null     object\n",
      " 5   Wire 5  1 non-null      object\n",
      " 6   Wire 6  73 non-null     object\n",
      " 7   Wire 7  11 non-null     object\n",
      " 8   Wire 8  19 non-null     object\n",
      " 9   Wire 9  29 non-null     object\n",
      "dtypes: int64(1), object(9)\n",
      "memory usage: 240.8+ KB\n",
      "None\n"
     ]
    }
   ],
   "source": [
    "for i in ['steel.data_arc','steel.data_bulk','steel.data_bulk_time','steel.data_gas','steel.data_temp','steel.data_wire','steel.data_wire_time']:\n",
    "    query = f'''\n",
    "    SELECT *\n",
    "    FROM {i}\n",
    "    '''\n",
    "    print('-------------------------------------------------------------')\n",
    "    print(pd.read_sql_query(sql=text(query), con = engine.connect()).info())"
   ]
  },
  {
   "attachments": {},
   "cell_type": "markdown",
   "metadata": {},
   "source": [
    "Как видим все таблици на месте и они имеют разное количесвто данных и прежде чем их обединять в одну большую, нужно порабоать с каждой по отдельности. "
   ]
  },
  {
   "attachments": {},
   "cell_type": "markdown",
   "metadata": {},
   "source": [
    "## Первичный анализ"
   ]
  },
  {
   "attachments": {},
   "cell_type": "markdown",
   "metadata": {},
   "source": [
    "## data_arc"
   ]
  },
  {
   "attachments": {},
   "cell_type": "markdown",
   "metadata": {},
   "source": [
    "Начнем с таблицы `data_arc`, выгрузим ее и поработам с каждыйм столбцом."
   ]
  },
  {
   "cell_type": "code",
   "execution_count": 139,
   "metadata": {},
   "outputs": [],
   "source": [
    "def get_info(df):\n",
    "    display(df.info())\n",
    "    display(df.sample(5))"
   ]
  },
  {
   "cell_type": "code",
   "execution_count": 140,
   "metadata": {},
   "outputs": [],
   "source": [
    "query = f'''\n",
    "SELECT *\n",
    "FROM steel.data_arc\n",
    "'''\n",
    "data_arc = pd.read_sql_query(sql=text(query), con = engine.connect())\n"
   ]
  },
  {
   "cell_type": "code",
   "execution_count": 141,
   "metadata": {},
   "outputs": [
    {
     "name": "stdout",
     "output_type": "stream",
     "text": [
      "<class 'pandas.core.frame.DataFrame'>\n",
      "RangeIndex: 14876 entries, 0 to 14875\n",
      "Data columns (total 5 columns):\n",
      " #   Column         Non-Null Count  Dtype  \n",
      "---  ------         --------------  -----  \n",
      " 0   key            14876 non-null  int64  \n",
      " 1   BeginHeat      14876 non-null  object \n",
      " 2   EndHeat        14876 non-null  object \n",
      " 3   ActivePower    14876 non-null  float64\n",
      " 4   ReactivePower  14876 non-null  float64\n",
      "dtypes: float64(2), int64(1), object(2)\n",
      "memory usage: 581.2+ KB\n"
     ]
    },
    {
     "data": {
      "text/plain": [
       "None"
      ]
     },
     "metadata": {},
     "output_type": "display_data"
    },
    {
     "data": {
      "text/html": [
       "<div>\n",
       "<style scoped>\n",
       "    .dataframe tbody tr th:only-of-type {\n",
       "        vertical-align: middle;\n",
       "    }\n",
       "\n",
       "    .dataframe tbody tr th {\n",
       "        vertical-align: top;\n",
       "    }\n",
       "\n",
       "    .dataframe thead th {\n",
       "        text-align: right;\n",
       "    }\n",
       "</style>\n",
       "<table border=\"1\" class=\"dataframe\">\n",
       "  <thead>\n",
       "    <tr style=\"text-align: right;\">\n",
       "      <th></th>\n",
       "      <th>key</th>\n",
       "      <th>BeginHeat</th>\n",
       "      <th>EndHeat</th>\n",
       "      <th>ActivePower</th>\n",
       "      <th>ReactivePower</th>\n",
       "    </tr>\n",
       "  </thead>\n",
       "  <tbody>\n",
       "    <tr>\n",
       "      <th>9871</th>\n",
       "      <td>2139</td>\n",
       "      <td>17:01:13</td>\n",
       "      <td>17:12:06</td>\n",
       "      <td>3.107820</td>\n",
       "      <td>1.946782</td>\n",
       "    </tr>\n",
       "    <tr>\n",
       "      <th>10777</th>\n",
       "      <td>2343</td>\n",
       "      <td>10:28:04</td>\n",
       "      <td>10:30:40</td>\n",
       "      <td>0.518021</td>\n",
       "      <td>0.490093</td>\n",
       "    </tr>\n",
       "    <tr>\n",
       "      <th>14271</th>\n",
       "      <td>3102</td>\n",
       "      <td>16:48:24</td>\n",
       "      <td>16:50:38</td>\n",
       "      <td>0.601635</td>\n",
       "      <td>0.413090</td>\n",
       "    </tr>\n",
       "    <tr>\n",
       "      <th>2022</th>\n",
       "      <td>435</td>\n",
       "      <td>11:37:49</td>\n",
       "      <td>11:40:54</td>\n",
       "      <td>0.765409</td>\n",
       "      <td>0.495266</td>\n",
       "    </tr>\n",
       "    <tr>\n",
       "      <th>10831</th>\n",
       "      <td>2355</td>\n",
       "      <td>20:36:32</td>\n",
       "      <td>20:40:16</td>\n",
       "      <td>1.005125</td>\n",
       "      <td>0.682680</td>\n",
       "    </tr>\n",
       "  </tbody>\n",
       "</table>\n",
       "</div>"
      ],
      "text/plain": [
       "        key BeginHeat   EndHeat  ActivePower  ReactivePower\n",
       "9871   2139  17:01:13  17:12:06     3.107820       1.946782\n",
       "10777  2343  10:28:04  10:30:40     0.518021       0.490093\n",
       "14271  3102  16:48:24  16:50:38     0.601635       0.413090\n",
       "2022    435  11:37:49  11:40:54     0.765409       0.495266\n",
       "10831  2355  20:36:32  20:40:16     1.005125       0.682680"
      ]
     },
     "metadata": {},
     "output_type": "display_data"
    }
   ],
   "source": [
    "get_info(data_arc)"
   ]
  },
  {
   "attachments": {},
   "cell_type": "markdown",
   "metadata": {},
   "source": [
    "На первый взгляд проблем больших нету, нету пропусков, но лучше перевести столбцы `BeginHeat` и `EndHeat` в формат времени и в итоге получить от них продолжительность нагрева, эта информация важнее.\n",
    "\n",
    "Что касается мощности то тдумаю нам важнее получить полную мощность потребления, для жтого есть формула  \n",
    "\n",
    "    sqr(`ActivePower`^2 + `ReactivePower`^2)\n",
    "\n",
    "воспользуемся ей."
   ]
  },
  {
   "attachments": {},
   "cell_type": "markdown",
   "metadata": {},
   "source": [
    "### Столбцы времени."
   ]
  },
  {
   "attachments": {},
   "cell_type": "markdown",
   "metadata": {},
   "source": [
    "По скольку столбцы имеют отдин формат, hh:mm:ss проще будем воспользоваться этим и просто написать функцию для пересчета времени, чем по нескольку раз менять формат."
   ]
  },
  {
   "cell_type": "code",
   "execution_count": 142,
   "metadata": {},
   "outputs": [
    {
     "data": {
      "text/plain": [
       "datetime.time(11, 6, 2)"
      ]
     },
     "execution_count": 142,
     "metadata": {},
     "output_type": "execute_result"
    }
   ],
   "source": [
    "data_arc.loc[0,'EndHeat']"
   ]
  },
  {
   "attachments": {},
   "cell_type": "markdown",
   "metadata": {},
   "source": [
    "Новая водная, как видно эти столбцы имеют формат `datetime`, по жтому можно просто вычесть один из другого. Так же поскольку это формат `datetime` то и аномалий со временем быть не должно."
   ]
  },
  {
   "cell_type": "code",
   "execution_count": 143,
   "metadata": {},
   "outputs": [],
   "source": [
    "def get_seconds(df):\n",
    "    return ((df['EndHeat'].hour - df['BeginHeat'].hour)*60*60 +\n",
    "            (df['EndHeat'].minute - df['BeginHeat'].minute)*60 +\n",
    "            (df['EndHeat'].second - df['BeginHeat'].second))"
   ]
  },
  {
   "cell_type": "code",
   "execution_count": 144,
   "metadata": {},
   "outputs": [],
   "source": [
    "data_arc['TimeHeat'] = data_arc.apply(get_seconds,axis=1)"
   ]
  },
  {
   "cell_type": "code",
   "execution_count": 145,
   "metadata": {},
   "outputs": [
    {
     "name": "stdout",
     "output_type": "stream",
     "text": [
      "<class 'pandas.core.frame.DataFrame'>\n",
      "RangeIndex: 14876 entries, 0 to 14875\n",
      "Data columns (total 6 columns):\n",
      " #   Column         Non-Null Count  Dtype  \n",
      "---  ------         --------------  -----  \n",
      " 0   key            14876 non-null  int64  \n",
      " 1   BeginHeat      14876 non-null  object \n",
      " 2   EndHeat        14876 non-null  object \n",
      " 3   ActivePower    14876 non-null  float64\n",
      " 4   ReactivePower  14876 non-null  float64\n",
      " 5   TimeHeat       14876 non-null  int64  \n",
      "dtypes: float64(2), int64(2), object(2)\n",
      "memory usage: 697.4+ KB\n"
     ]
    },
    {
     "data": {
      "text/plain": [
       "None"
      ]
     },
     "metadata": {},
     "output_type": "display_data"
    },
    {
     "data": {
      "text/html": [
       "<div>\n",
       "<style scoped>\n",
       "    .dataframe tbody tr th:only-of-type {\n",
       "        vertical-align: middle;\n",
       "    }\n",
       "\n",
       "    .dataframe tbody tr th {\n",
       "        vertical-align: top;\n",
       "    }\n",
       "\n",
       "    .dataframe thead th {\n",
       "        text-align: right;\n",
       "    }\n",
       "</style>\n",
       "<table border=\"1\" class=\"dataframe\">\n",
       "  <thead>\n",
       "    <tr style=\"text-align: right;\">\n",
       "      <th></th>\n",
       "      <th>key</th>\n",
       "      <th>BeginHeat</th>\n",
       "      <th>EndHeat</th>\n",
       "      <th>ActivePower</th>\n",
       "      <th>ReactivePower</th>\n",
       "      <th>TimeHeat</th>\n",
       "    </tr>\n",
       "  </thead>\n",
       "  <tbody>\n",
       "    <tr>\n",
       "      <th>6318</th>\n",
       "      <td>1374</td>\n",
       "      <td>00:01:25</td>\n",
       "      <td>00:03:34</td>\n",
       "      <td>0.477216</td>\n",
       "      <td>0.400832</td>\n",
       "      <td>129</td>\n",
       "    </tr>\n",
       "    <tr>\n",
       "      <th>11722</th>\n",
       "      <td>2556</td>\n",
       "      <td>02:14:50</td>\n",
       "      <td>02:20:51</td>\n",
       "      <td>1.266593</td>\n",
       "      <td>0.960484</td>\n",
       "      <td>361</td>\n",
       "    </tr>\n",
       "    <tr>\n",
       "      <th>461</th>\n",
       "      <td>99</td>\n",
       "      <td>19:49:19</td>\n",
       "      <td>19:53:24</td>\n",
       "      <td>1.158783</td>\n",
       "      <td>0.735780</td>\n",
       "      <td>245</td>\n",
       "    </tr>\n",
       "    <tr>\n",
       "      <th>5124</th>\n",
       "      <td>1112</td>\n",
       "      <td>21:34:52</td>\n",
       "      <td>21:38:13</td>\n",
       "      <td>0.693779</td>\n",
       "      <td>0.516580</td>\n",
       "      <td>201</td>\n",
       "    </tr>\n",
       "    <tr>\n",
       "      <th>14735</th>\n",
       "      <td>3208</td>\n",
       "      <td>02:02:24</td>\n",
       "      <td>02:08:38</td>\n",
       "      <td>1.700265</td>\n",
       "      <td>1.179449</td>\n",
       "      <td>374</td>\n",
       "    </tr>\n",
       "  </tbody>\n",
       "</table>\n",
       "</div>"
      ],
      "text/plain": [
       "        key BeginHeat   EndHeat  ActivePower  ReactivePower  TimeHeat\n",
       "6318   1374  00:01:25  00:03:34     0.477216       0.400832       129\n",
       "11722  2556  02:14:50  02:20:51     1.266593       0.960484       361\n",
       "461      99  19:49:19  19:53:24     1.158783       0.735780       245\n",
       "5124   1112  21:34:52  21:38:13     0.693779       0.516580       201\n",
       "14735  3208  02:02:24  02:08:38     1.700265       1.179449       374"
      ]
     },
     "metadata": {},
     "output_type": "display_data"
    }
   ],
   "source": [
    "get_info(data_arc)"
   ]
  },
  {
   "attachments": {},
   "cell_type": "markdown",
   "metadata": {},
   "source": [
    "Осталось убедиться что `TimeHeat` не имеет отрицательных значений. Поскольку вогут быть моменты когда, нагрев наичналя в конце дня и заканчивался уже посе полуночи."
   ]
  },
  {
   "cell_type": "code",
   "execution_count": 146,
   "metadata": {},
   "outputs": [
    {
     "data": {
      "text/html": [
       "<div>\n",
       "<style scoped>\n",
       "    .dataframe tbody tr th:only-of-type {\n",
       "        vertical-align: middle;\n",
       "    }\n",
       "\n",
       "    .dataframe tbody tr th {\n",
       "        vertical-align: top;\n",
       "    }\n",
       "\n",
       "    .dataframe thead th {\n",
       "        text-align: right;\n",
       "    }\n",
       "</style>\n",
       "<table border=\"1\" class=\"dataframe\">\n",
       "  <thead>\n",
       "    <tr style=\"text-align: right;\">\n",
       "      <th></th>\n",
       "      <th>BeginHeat</th>\n",
       "      <th>EndHeat</th>\n",
       "      <th>TimeHeat</th>\n",
       "    </tr>\n",
       "  </thead>\n",
       "  <tbody>\n",
       "    <tr>\n",
       "      <th>580</th>\n",
       "      <td>23:59:35</td>\n",
       "      <td>00:01:55</td>\n",
       "      <td>-86260</td>\n",
       "    </tr>\n",
       "    <tr>\n",
       "      <th>1170</th>\n",
       "      <td>23:58:57</td>\n",
       "      <td>00:00:07</td>\n",
       "      <td>-86330</td>\n",
       "    </tr>\n",
       "    <tr>\n",
       "      <th>1280</th>\n",
       "      <td>23:56:57</td>\n",
       "      <td>00:01:43</td>\n",
       "      <td>-86114</td>\n",
       "    </tr>\n",
       "    <tr>\n",
       "      <th>1953</th>\n",
       "      <td>23:58:33</td>\n",
       "      <td>00:01:57</td>\n",
       "      <td>-86196</td>\n",
       "    </tr>\n",
       "    <tr>\n",
       "      <th>2952</th>\n",
       "      <td>23:52:55</td>\n",
       "      <td>00:03:13</td>\n",
       "      <td>-85782</td>\n",
       "    </tr>\n",
       "    <tr>\n",
       "      <th>3438</th>\n",
       "      <td>23:58:27</td>\n",
       "      <td>00:00:14</td>\n",
       "      <td>-86293</td>\n",
       "    </tr>\n",
       "    <tr>\n",
       "      <th>4250</th>\n",
       "      <td>23:58:22</td>\n",
       "      <td>00:01:34</td>\n",
       "      <td>-86208</td>\n",
       "    </tr>\n",
       "    <tr>\n",
       "      <th>4752</th>\n",
       "      <td>23:59:04</td>\n",
       "      <td>00:07:07</td>\n",
       "      <td>-85917</td>\n",
       "    </tr>\n",
       "    <tr>\n",
       "      <th>5400</th>\n",
       "      <td>23:59:25</td>\n",
       "      <td>00:05:07</td>\n",
       "      <td>-86058</td>\n",
       "    </tr>\n",
       "    <tr>\n",
       "      <th>6456</th>\n",
       "      <td>23:56:33</td>\n",
       "      <td>00:01:05</td>\n",
       "      <td>-86128</td>\n",
       "    </tr>\n",
       "    <tr>\n",
       "      <th>6840</th>\n",
       "      <td>23:56:24</td>\n",
       "      <td>00:01:21</td>\n",
       "      <td>-86103</td>\n",
       "    </tr>\n",
       "    <tr>\n",
       "      <th>6986</th>\n",
       "      <td>23:58:56</td>\n",
       "      <td>00:02:11</td>\n",
       "      <td>-86205</td>\n",
       "    </tr>\n",
       "    <tr>\n",
       "      <th>7233</th>\n",
       "      <td>23:57:55</td>\n",
       "      <td>00:00:13</td>\n",
       "      <td>-86262</td>\n",
       "    </tr>\n",
       "    <tr>\n",
       "      <th>7864</th>\n",
       "      <td>23:58:32</td>\n",
       "      <td>00:00:14</td>\n",
       "      <td>-86298</td>\n",
       "    </tr>\n",
       "    <tr>\n",
       "      <th>9513</th>\n",
       "      <td>23:58:36</td>\n",
       "      <td>00:00:41</td>\n",
       "      <td>-86275</td>\n",
       "    </tr>\n",
       "    <tr>\n",
       "      <th>9911</th>\n",
       "      <td>23:56:54</td>\n",
       "      <td>00:02:00</td>\n",
       "      <td>-86094</td>\n",
       "    </tr>\n",
       "    <tr>\n",
       "      <th>10199</th>\n",
       "      <td>23:58:35</td>\n",
       "      <td>00:02:11</td>\n",
       "      <td>-86184</td>\n",
       "    </tr>\n",
       "    <tr>\n",
       "      <th>11328</th>\n",
       "      <td>23:58:41</td>\n",
       "      <td>00:01:14</td>\n",
       "      <td>-86247</td>\n",
       "    </tr>\n",
       "    <tr>\n",
       "      <th>12136</th>\n",
       "      <td>23:58:18</td>\n",
       "      <td>00:00:51</td>\n",
       "      <td>-86247</td>\n",
       "    </tr>\n",
       "    <tr>\n",
       "      <th>12545</th>\n",
       "      <td>23:58:08</td>\n",
       "      <td>00:03:15</td>\n",
       "      <td>-86093</td>\n",
       "    </tr>\n",
       "    <tr>\n",
       "      <th>12750</th>\n",
       "      <td>23:59:08</td>\n",
       "      <td>00:02:10</td>\n",
       "      <td>-86218</td>\n",
       "    </tr>\n",
       "    <tr>\n",
       "      <th>12867</th>\n",
       "      <td>23:57:30</td>\n",
       "      <td>00:00:32</td>\n",
       "      <td>-86218</td>\n",
       "    </tr>\n",
       "  </tbody>\n",
       "</table>\n",
       "</div>"
      ],
      "text/plain": [
       "      BeginHeat   EndHeat  TimeHeat\n",
       "580    23:59:35  00:01:55    -86260\n",
       "1170   23:58:57  00:00:07    -86330\n",
       "1280   23:56:57  00:01:43    -86114\n",
       "1953   23:58:33  00:01:57    -86196\n",
       "2952   23:52:55  00:03:13    -85782\n",
       "3438   23:58:27  00:00:14    -86293\n",
       "4250   23:58:22  00:01:34    -86208\n",
       "4752   23:59:04  00:07:07    -85917\n",
       "5400   23:59:25  00:05:07    -86058\n",
       "6456   23:56:33  00:01:05    -86128\n",
       "6840   23:56:24  00:01:21    -86103\n",
       "6986   23:58:56  00:02:11    -86205\n",
       "7233   23:57:55  00:00:13    -86262\n",
       "7864   23:58:32  00:00:14    -86298\n",
       "9513   23:58:36  00:00:41    -86275\n",
       "9911   23:56:54  00:02:00    -86094\n",
       "10199  23:58:35  00:02:11    -86184\n",
       "11328  23:58:41  00:01:14    -86247\n",
       "12136  23:58:18  00:00:51    -86247\n",
       "12545  23:58:08  00:03:15    -86093\n",
       "12750  23:59:08  00:02:10    -86218\n",
       "12867  23:57:30  00:00:32    -86218"
      ]
     },
     "execution_count": 146,
     "metadata": {},
     "output_type": "execute_result"
    }
   ],
   "source": [
    "data_arc.loc[data_arc['TimeHeat'] <= 0, ['BeginHeat','EndHeat','TimeHeat']]"
   ]
  },
  {
   "attachments": {},
   "cell_type": "markdown",
   "metadata": {},
   "source": [
    "Как я и предполагал, есть отрицательные значения, из-за оцончания нагрева уже в новом дне. Для решения данной проблемы, нужно просто к этим значениям прибавить полный день в секундах."
   ]
  },
  {
   "cell_type": "code",
   "execution_count": 147,
   "metadata": {},
   "outputs": [],
   "source": [
    "data_arc.loc[data_arc['TimeHeat'] <= 0, 'TimeHeat'] = data_arc.loc[data_arc['TimeHeat'] <= 0, 'TimeHeat'] + (24*60*60)"
   ]
  },
  {
   "cell_type": "code",
   "execution_count": 148,
   "metadata": {},
   "outputs": [
    {
     "data": {
      "text/plain": [
       "Series([], Name: TimeHeat, dtype: int64)"
      ]
     },
     "execution_count": 148,
     "metadata": {},
     "output_type": "execute_result"
    }
   ],
   "source": [
    "data_arc.loc[data_arc['TimeHeat'] <= 0, 'TimeHeat']"
   ]
  },
  {
   "attachments": {},
   "cell_type": "markdown",
   "metadata": {},
   "source": [
    "Теперь все отлично, можно переходить к мощности."
   ]
  },
  {
   "attachments": {},
   "cell_type": "markdown",
   "metadata": {},
   "source": [
    "### Мощность."
   ]
  },
  {
   "attachments": {},
   "cell_type": "markdown",
   "metadata": {},
   "source": [
    "Как я уже говорил ранее, первое что можно сделать это расчитать полную мощность. Так же можнот добавить отношение активной мощности к реактивной. Кажется этих параметров нам хватит."
   ]
  },
  {
   "attachments": {},
   "cell_type": "markdown",
   "metadata": {},
   "source": [
    "Но пержде посмотрим на столбцы, есть ли в них аномалии."
   ]
  },
  {
   "cell_type": "code",
   "execution_count": 149,
   "metadata": {},
   "outputs": [
    {
     "data": {
      "text/plain": [
       "count    14876.000000\n",
       "mean         0.670441\n",
       "std          0.408159\n",
       "min          0.030002\n",
       "25%          0.395297\n",
       "50%          0.555517\n",
       "75%          0.857034\n",
       "max          3.731596\n",
       "Name: ActivePower, dtype: float64"
      ]
     },
     "execution_count": 149,
     "metadata": {},
     "output_type": "execute_result"
    }
   ],
   "source": [
    "data_arc['ActivePower'].describe()"
   ]
  },
  {
   "cell_type": "code",
   "execution_count": 150,
   "metadata": {},
   "outputs": [
    {
     "data": {
      "image/png": "[encoded data removed]",
      "text/plain": [
       "<Figure size 1080x576 with 1 Axes>"
      ]
     },
     "metadata": {
      "needs_background": "light"
     },
     "output_type": "display_data"
    }
   ],
   "source": [
    "plt.figure(figsize=(15,8))\n",
    "plt.title('ActivePower')\n",
    "plt.ylabel(\"Power\")\n",
    "plt.boxplot(data_arc['ActivePower'])\n",
    "plt.show()"
   ]
  },
  {
   "attachments": {},
   "cell_type": "markdown",
   "metadata": {},
   "source": [
    "Как видно 75% значений меньше 0.9, все что выше нельзя считать выбросами, так как мощность нагрева на прямую зависит от состава сплава и его объема, по этому все значения можно остваить."
   ]
  },
  {
   "cell_type": "code",
   "execution_count": 151,
   "metadata": {},
   "outputs": [
    {
     "data": {
      "text/plain": [
       "count    14876.000000\n",
       "mean         0.452592\n",
       "std          5.878702\n",
       "min       -715.504924\n",
       "25%          0.290991\n",
       "50%          0.415962\n",
       "75%          0.637371\n",
       "max          2.676388\n",
       "Name: ReactivePower, dtype: float64"
      ]
     },
     "execution_count": 151,
     "metadata": {},
     "output_type": "execute_result"
    }
   ],
   "source": [
    "data_arc['ReactivePower'].describe()"
   ]
  },
  {
   "cell_type": "code",
   "execution_count": 152,
   "metadata": {},
   "outputs": [
    {
     "data": {
      "image/png": "[encoded data removed]",
      "text/plain": [
       "<Figure size 1080x576 with 1 Axes>"
      ]
     },
     "metadata": {
      "needs_background": "light"
     },
     "output_type": "display_data"
    }
   ],
   "source": [
    "plt.figure(figsize=(15,8))\n",
    "plt.title('ReactivePower')\n",
    "plt.ylabel(\"Power\")\n",
    "plt.boxplot(data_arc['ReactivePower'])\n",
    "plt.show()"
   ]
  },
  {
   "cell_type": "code",
   "execution_count": 153,
   "metadata": {},
   "outputs": [
    {
     "data": {
      "text/html": [
       "<div>\n",
       "<style scoped>\n",
       "    .dataframe tbody tr th:only-of-type {\n",
       "        vertical-align: middle;\n",
       "    }\n",
       "\n",
       "    .dataframe tbody tr th {\n",
       "        vertical-align: top;\n",
       "    }\n",
       "\n",
       "    .dataframe thead th {\n",
       "        text-align: right;\n",
       "    }\n",
       "</style>\n",
       "<table border=\"1\" class=\"dataframe\">\n",
       "  <thead>\n",
       "    <tr style=\"text-align: right;\">\n",
       "      <th></th>\n",
       "      <th>key</th>\n",
       "      <th>BeginHeat</th>\n",
       "      <th>EndHeat</th>\n",
       "      <th>ActivePower</th>\n",
       "      <th>ReactivePower</th>\n",
       "      <th>TimeHeat</th>\n",
       "    </tr>\n",
       "  </thead>\n",
       "  <tbody>\n",
       "    <tr>\n",
       "      <th>9781</th>\n",
       "      <td>2116</td>\n",
       "      <td>00:44:48</td>\n",
       "      <td>00:46:37</td>\n",
       "      <td>0.495782</td>\n",
       "      <td>-715.504924</td>\n",
       "      <td>109</td>\n",
       "    </tr>\n",
       "  </tbody>\n",
       "</table>\n",
       "</div>"
      ],
      "text/plain": [
       "       key BeginHeat   EndHeat  ActivePower  ReactivePower  TimeHeat\n",
       "9781  2116  00:44:48  00:46:37     0.495782    -715.504924       109"
      ]
     },
     "execution_count": 153,
     "metadata": {},
     "output_type": "execute_result"
    }
   ],
   "source": [
    "data_arc.loc[data_arc['ReactivePower'] < -700]"
   ]
  },
  {
   "cell_type": "code",
   "execution_count": 154,
   "metadata": {},
   "outputs": [
    {
     "data": {
      "text/html": [
       "<div>\n",
       "<style scoped>\n",
       "    .dataframe tbody tr th:only-of-type {\n",
       "        vertical-align: middle;\n",
       "    }\n",
       "\n",
       "    .dataframe tbody tr th {\n",
       "        vertical-align: top;\n",
       "    }\n",
       "\n",
       "    .dataframe thead th {\n",
       "        text-align: right;\n",
       "    }\n",
       "</style>\n",
       "<table border=\"1\" class=\"dataframe\">\n",
       "  <thead>\n",
       "    <tr style=\"text-align: right;\">\n",
       "      <th></th>\n",
       "      <th>key</th>\n",
       "      <th>BeginHeat</th>\n",
       "      <th>EndHeat</th>\n",
       "      <th>ActivePower</th>\n",
       "      <th>ReactivePower</th>\n",
       "      <th>TimeHeat</th>\n",
       "    </tr>\n",
       "  </thead>\n",
       "  <tbody>\n",
       "    <tr>\n",
       "      <th>9779</th>\n",
       "      <td>2116</td>\n",
       "      <td>00:29:52</td>\n",
       "      <td>00:31:54</td>\n",
       "      <td>0.433266</td>\n",
       "      <td>0.306141</td>\n",
       "      <td>122</td>\n",
       "    </tr>\n",
       "    <tr>\n",
       "      <th>9780</th>\n",
       "      <td>2116</td>\n",
       "      <td>00:35:50</td>\n",
       "      <td>00:38:05</td>\n",
       "      <td>0.620265</td>\n",
       "      <td>0.408352</td>\n",
       "      <td>135</td>\n",
       "    </tr>\n",
       "    <tr>\n",
       "      <th>9781</th>\n",
       "      <td>2116</td>\n",
       "      <td>00:44:48</td>\n",
       "      <td>00:46:37</td>\n",
       "      <td>0.495782</td>\n",
       "      <td>-715.504924</td>\n",
       "      <td>109</td>\n",
       "    </tr>\n",
       "    <tr>\n",
       "      <th>9782</th>\n",
       "      <td>2116</td>\n",
       "      <td>00:51:51</td>\n",
       "      <td>00:52:58</td>\n",
       "      <td>0.299368</td>\n",
       "      <td>0.198796</td>\n",
       "      <td>67</td>\n",
       "    </tr>\n",
       "  </tbody>\n",
       "</table>\n",
       "</div>"
      ],
      "text/plain": [
       "       key BeginHeat   EndHeat  ActivePower  ReactivePower  TimeHeat\n",
       "9779  2116  00:29:52  00:31:54     0.433266       0.306141       122\n",
       "9780  2116  00:35:50  00:38:05     0.620265       0.408352       135\n",
       "9781  2116  00:44:48  00:46:37     0.495782    -715.504924       109\n",
       "9782  2116  00:51:51  00:52:58     0.299368       0.198796        67"
      ]
     },
     "execution_count": 154,
     "metadata": {},
     "output_type": "execute_result"
    }
   ],
   "source": [
    "data_arc.loc[data_arc['key'] == 2116]"
   ]
  },
  {
   "attachments": {},
   "cell_type": "markdown",
   "metadata": {},
   "source": [
    "У нас есть всего один выброс, его конечно можно заменить, но лучше просто убрать эту партию, потерять 4 значения на 14000, не страшно."
   ]
  },
  {
   "cell_type": "code",
   "execution_count": 155,
   "metadata": {},
   "outputs": [],
   "source": [
    "data_arc = data_arc.loc[data_arc['key'] != 2116].reset_index(drop=True)"
   ]
  },
  {
   "cell_type": "code",
   "execution_count": 156,
   "metadata": {},
   "outputs": [
    {
     "data": {
      "image/png": "[encoded data removed]",
      "text/plain": [
       "<Figure size 1080x576 with 1 Axes>"
      ]
     },
     "metadata": {
      "needs_background": "light"
     },
     "output_type": "display_data"
    }
   ],
   "source": [
    "plt.figure(figsize=(15,8))\n",
    "plt.title('ReactivePower')\n",
    "plt.ylabel(\"Power\")\n",
    "plt.boxplot(data_arc['ReactivePower'])\n",
    "plt.show()"
   ]
  },
  {
   "attachments": {},
   "cell_type": "markdown",
   "metadata": {},
   "source": [
    "Теперь тут картина как на активной мощности. Теперь можно создавать новые признаки."
   ]
  },
  {
   "cell_type": "code",
   "execution_count": 157,
   "metadata": {},
   "outputs": [],
   "source": [
    "data_arc['Power'] = np.sqrt(data_arc['ActivePower']*data_arc['ActivePower'] + \n",
    "                              data_arc['ReactivePower']*data_arc['ReactivePower'])"
   ]
  },
  {
   "cell_type": "code",
   "execution_count": 159,
   "metadata": {},
   "outputs": [],
   "source": [
    "data_arc['RatioPower'] = data_arc['ReactivePower']/data_arc['ActivePower']"
   ]
  },
  {
   "cell_type": "code",
   "execution_count": 160,
   "metadata": {},
   "outputs": [
    {
     "name": "stdout",
     "output_type": "stream",
     "text": [
      "<class 'pandas.core.frame.DataFrame'>\n",
      "RangeIndex: 14872 entries, 0 to 14871\n",
      "Data columns (total 8 columns):\n",
      " #   Column         Non-Null Count  Dtype  \n",
      "---  ------         --------------  -----  \n",
      " 0   key            14872 non-null  int64  \n",
      " 1   BeginHeat      14872 non-null  object \n",
      " 2   EndHeat        14872 non-null  object \n",
      " 3   ActivePower    14872 non-null  float64\n",
      " 4   ReactivePower  14872 non-null  float64\n",
      " 5   TimeHeat       14872 non-null  int64  \n",
      " 6   Power          14872 non-null  float64\n",
      " 7   RatioPower     14872 non-null  float64\n",
      "dtypes: float64(4), int64(2), object(2)\n",
      "memory usage: 929.6+ KB\n"
     ]
    },
    {
     "data": {
      "text/plain": [
       "None"
      ]
     },
     "metadata": {},
     "output_type": "display_data"
    },
    {
     "data": {
      "text/html": [
       "<div>\n",
       "<style scoped>\n",
       "    .dataframe tbody tr th:only-of-type {\n",
       "        vertical-align: middle;\n",
       "    }\n",
       "\n",
       "    .dataframe tbody tr th {\n",
       "        vertical-align: top;\n",
       "    }\n",
       "\n",
       "    .dataframe thead th {\n",
       "        text-align: right;\n",
       "    }\n",
       "</style>\n",
       "<table border=\"1\" class=\"dataframe\">\n",
       "  <thead>\n",
       "    <tr style=\"text-align: right;\">\n",
       "      <th></th>\n",
       "      <th>key</th>\n",
       "      <th>BeginHeat</th>\n",
       "      <th>EndHeat</th>\n",
       "      <th>ActivePower</th>\n",
       "      <th>ReactivePower</th>\n",
       "      <th>TimeHeat</th>\n",
       "      <th>Power</th>\n",
       "      <th>RatioPower</th>\n",
       "    </tr>\n",
       "  </thead>\n",
       "  <tbody>\n",
       "    <tr>\n",
       "      <th>8753</th>\n",
       "      <td>1903</td>\n",
       "      <td>05:05:11</td>\n",
       "      <td>05:08:24</td>\n",
       "      <td>0.712060</td>\n",
       "      <td>0.492813</td>\n",
       "      <td>193</td>\n",
       "      <td>0.865964</td>\n",
       "      <td>0.692095</td>\n",
       "    </tr>\n",
       "    <tr>\n",
       "      <th>6477</th>\n",
       "      <td>1409</td>\n",
       "      <td>03:48:25</td>\n",
       "      <td>03:50:50</td>\n",
       "      <td>0.545774</td>\n",
       "      <td>0.494317</td>\n",
       "      <td>145</td>\n",
       "      <td>0.736355</td>\n",
       "      <td>0.905717</td>\n",
       "    </tr>\n",
       "    <tr>\n",
       "      <th>1649</th>\n",
       "      <td>354</td>\n",
       "      <td>17:29:22</td>\n",
       "      <td>17:37:45</td>\n",
       "      <td>2.138216</td>\n",
       "      <td>1.677173</td>\n",
       "      <td>503</td>\n",
       "      <td>2.717512</td>\n",
       "      <td>0.784380</td>\n",
       "    </tr>\n",
       "    <tr>\n",
       "      <th>10993</th>\n",
       "      <td>2392</td>\n",
       "      <td>09:15:30</td>\n",
       "      <td>09:17:28</td>\n",
       "      <td>0.417592</td>\n",
       "      <td>0.309103</td>\n",
       "      <td>118</td>\n",
       "      <td>0.519546</td>\n",
       "      <td>0.740204</td>\n",
       "    </tr>\n",
       "    <tr>\n",
       "      <th>12322</th>\n",
       "      <td>2676</td>\n",
       "      <td>11:11:44</td>\n",
       "      <td>11:15:06</td>\n",
       "      <td>0.973690</td>\n",
       "      <td>0.575383</td>\n",
       "      <td>202</td>\n",
       "      <td>1.130990</td>\n",
       "      <td>0.590931</td>\n",
       "    </tr>\n",
       "  </tbody>\n",
       "</table>\n",
       "</div>"
      ],
      "text/plain": [
       "        key BeginHeat   EndHeat  ActivePower  ReactivePower  TimeHeat  \\\n",
       "8753   1903  05:05:11  05:08:24     0.712060       0.492813       193   \n",
       "6477   1409  03:48:25  03:50:50     0.545774       0.494317       145   \n",
       "1649    354  17:29:22  17:37:45     2.138216       1.677173       503   \n",
       "10993  2392  09:15:30  09:17:28     0.417592       0.309103       118   \n",
       "12322  2676  11:11:44  11:15:06     0.973690       0.575383       202   \n",
       "\n",
       "          Power  RatioPower  \n",
       "8753   0.865964    0.692095  \n",
       "6477   0.736355    0.905717  \n",
       "1649   2.717512    0.784380  \n",
       "10993  0.519546    0.740204  \n",
       "12322  1.130990    0.590931  "
      ]
     },
     "metadata": {},
     "output_type": "display_data"
    }
   ],
   "source": [
    "get_info(data_arc)"
   ]
  },
  {
   "attachments": {},
   "cell_type": "markdown",
   "metadata": {},
   "source": [
    "Посмотрим, бывают ли моменты когда реактивная мощность больше активной."
   ]
  },
  {
   "cell_type": "code",
   "execution_count": 161,
   "metadata": {},
   "outputs": [
    {
     "data": {
      "text/html": [
       "<div>\n",
       "<style scoped>\n",
       "    .dataframe tbody tr th:only-of-type {\n",
       "        vertical-align: middle;\n",
       "    }\n",
       "\n",
       "    .dataframe tbody tr th {\n",
       "        vertical-align: top;\n",
       "    }\n",
       "\n",
       "    .dataframe thead th {\n",
       "        text-align: right;\n",
       "    }\n",
       "</style>\n",
       "<table border=\"1\" class=\"dataframe\">\n",
       "  <thead>\n",
       "    <tr style=\"text-align: right;\">\n",
       "      <th></th>\n",
       "      <th>key</th>\n",
       "      <th>BeginHeat</th>\n",
       "      <th>EndHeat</th>\n",
       "      <th>ActivePower</th>\n",
       "      <th>ReactivePower</th>\n",
       "      <th>TimeHeat</th>\n",
       "      <th>Power</th>\n",
       "      <th>RatioPower</th>\n",
       "    </tr>\n",
       "  </thead>\n",
       "  <tbody>\n",
       "    <tr>\n",
       "      <th>40</th>\n",
       "      <td>10</td>\n",
       "      <td>16:14:58</td>\n",
       "      <td>16:19:15</td>\n",
       "      <td>0.844976</td>\n",
       "      <td>0.853738</td>\n",
       "      <td>257</td>\n",
       "      <td>1.201188</td>\n",
       "      <td>1.010370</td>\n",
       "    </tr>\n",
       "    <tr>\n",
       "      <th>144</th>\n",
       "      <td>32</td>\n",
       "      <td>11:40:45</td>\n",
       "      <td>11:43:53</td>\n",
       "      <td>0.560580</td>\n",
       "      <td>0.582463</td>\n",
       "      <td>188</td>\n",
       "      <td>0.808402</td>\n",
       "      <td>1.039035</td>\n",
       "    </tr>\n",
       "    <tr>\n",
       "      <th>439</th>\n",
       "      <td>95</td>\n",
       "      <td>16:41:07</td>\n",
       "      <td>16:45:01</td>\n",
       "      <td>0.718904</td>\n",
       "      <td>0.719138</td>\n",
       "      <td>234</td>\n",
       "      <td>1.016849</td>\n",
       "      <td>1.000325</td>\n",
       "    </tr>\n",
       "    <tr>\n",
       "      <th>440</th>\n",
       "      <td>95</td>\n",
       "      <td>16:51:58</td>\n",
       "      <td>16:54:16</td>\n",
       "      <td>0.386017</td>\n",
       "      <td>0.457089</td>\n",
       "      <td>138</td>\n",
       "      <td>0.598281</td>\n",
       "      <td>1.184116</td>\n",
       "    </tr>\n",
       "    <tr>\n",
       "      <th>524</th>\n",
       "      <td>115</td>\n",
       "      <td>12:26:12</td>\n",
       "      <td>12:27:20</td>\n",
       "      <td>0.158896</td>\n",
       "      <td>0.172457</td>\n",
       "      <td>68</td>\n",
       "      <td>0.234498</td>\n",
       "      <td>1.085339</td>\n",
       "    </tr>\n",
       "    <tr>\n",
       "      <th>...</th>\n",
       "      <td>...</td>\n",
       "      <td>...</td>\n",
       "      <td>...</td>\n",
       "      <td>...</td>\n",
       "      <td>...</td>\n",
       "      <td>...</td>\n",
       "      <td>...</td>\n",
       "      <td>...</td>\n",
       "    </tr>\n",
       "    <tr>\n",
       "      <th>14759</th>\n",
       "      <td>3216</td>\n",
       "      <td>06:34:08</td>\n",
       "      <td>06:35:21</td>\n",
       "      <td>0.213120</td>\n",
       "      <td>0.239532</td>\n",
       "      <td>73</td>\n",
       "      <td>0.320617</td>\n",
       "      <td>1.123931</td>\n",
       "    </tr>\n",
       "    <tr>\n",
       "      <th>14760</th>\n",
       "      <td>3216</td>\n",
       "      <td>06:37:56</td>\n",
       "      <td>06:39:22</td>\n",
       "      <td>0.251099</td>\n",
       "      <td>0.322714</td>\n",
       "      <td>86</td>\n",
       "      <td>0.408895</td>\n",
       "      <td>1.285208</td>\n",
       "    </tr>\n",
       "    <tr>\n",
       "      <th>14761</th>\n",
       "      <td>3216</td>\n",
       "      <td>06:42:07</td>\n",
       "      <td>06:43:46</td>\n",
       "      <td>0.328448</td>\n",
       "      <td>0.376886</td>\n",
       "      <td>99</td>\n",
       "      <td>0.499921</td>\n",
       "      <td>1.147477</td>\n",
       "    </tr>\n",
       "    <tr>\n",
       "      <th>14762</th>\n",
       "      <td>3216</td>\n",
       "      <td>06:45:12</td>\n",
       "      <td>06:46:38</td>\n",
       "      <td>0.297922</td>\n",
       "      <td>0.345520</td>\n",
       "      <td>86</td>\n",
       "      <td>0.456226</td>\n",
       "      <td>1.159769</td>\n",
       "    </tr>\n",
       "    <tr>\n",
       "      <th>14864</th>\n",
       "      <td>3240</td>\n",
       "      <td>03:08:38</td>\n",
       "      <td>03:11:08</td>\n",
       "      <td>0.518065</td>\n",
       "      <td>0.528780</td>\n",
       "      <td>150</td>\n",
       "      <td>0.740270</td>\n",
       "      <td>1.020683</td>\n",
       "    </tr>\n",
       "  </tbody>\n",
       "</table>\n",
       "<p>416 rows × 8 columns</p>\n",
       "</div>"
      ],
      "text/plain": [
       "        key BeginHeat   EndHeat  ActivePower  ReactivePower  TimeHeat  \\\n",
       "40       10  16:14:58  16:19:15     0.844976       0.853738       257   \n",
       "144      32  11:40:45  11:43:53     0.560580       0.582463       188   \n",
       "439      95  16:41:07  16:45:01     0.718904       0.719138       234   \n",
       "440      95  16:51:58  16:54:16     0.386017       0.457089       138   \n",
       "524     115  12:26:12  12:27:20     0.158896       0.172457        68   \n",
       "...     ...       ...       ...          ...            ...       ...   \n",
       "14759  3216  06:34:08  06:35:21     0.213120       0.239532        73   \n",
       "14760  3216  06:37:56  06:39:22     0.251099       0.322714        86   \n",
       "14761  3216  06:42:07  06:43:46     0.328448       0.376886        99   \n",
       "14762  3216  06:45:12  06:46:38     0.297922       0.345520        86   \n",
       "14864  3240  03:08:38  03:11:08     0.518065       0.528780       150   \n",
       "\n",
       "          Power  RatioPower  \n",
       "40     1.201188    1.010370  \n",
       "144    0.808402    1.039035  \n",
       "439    1.016849    1.000325  \n",
       "440    0.598281    1.184116  \n",
       "524    0.234498    1.085339  \n",
       "...         ...         ...  \n",
       "14759  0.320617    1.123931  \n",
       "14760  0.408895    1.285208  \n",
       "14761  0.499921    1.147477  \n",
       "14762  0.456226    1.159769  \n",
       "14864  0.740270    1.020683  \n",
       "\n",
       "[416 rows x 8 columns]"
      ]
     },
     "execution_count": 161,
     "metadata": {},
     "output_type": "execute_result"
    }
   ],
   "source": [
    "data_arc.loc[data_arc['RatioPower'] > 1]"
   ]
  },
  {
   "attachments": {},
   "cell_type": "markdown",
   "metadata": {},
   "source": [
    "У не бльшого количества операций, реактивная мощность больше активной, видимо это зависит от сплава."
   ]
  },
  {
   "cell_type": "code",
   "execution_count": 169,
   "metadata": {},
   "outputs": [
    {
     "data": {
      "image/png": "[encoded data removed]",
      "text/plain": [
       "<Figure size 1800x576 with 3 Axes>"
      ]
     },
     "metadata": {
      "needs_background": "light"
     },
     "output_type": "display_data"
    }
   ],
   "source": [
    "i = 1\n",
    "fig = plt.figure(figsize=(25, 8))\n",
    "for column in ['ActivePower','ReactivePower','Power']:\n",
    "    fig.add_subplot(1,3,i).boxplot(data_arc[column])\n",
    "    plt.ylim(0,5)\n",
    "    plt.ylabel(\"Power\")\n",
    "    plt.title(f\"{column}\")\n",
    "    i += 1"
   ]
  },
  {
   "attachments": {},
   "cell_type": "markdown",
   "metadata": {},
   "source": [
    "Как видно из \"коробок с усами\" распределение мощности очень похожи, значит и \"выбросы\" болше 75% не являются выбросами, а просто особенности спалва."
   ]
  },
  {
   "attachments": {},
   "cell_type": "markdown",
   "metadata": {},
   "source": [
    "### Удаление столбцов"
   ]
  },
  {
   "attachments": {},
   "cell_type": "markdown",
   "metadata": {},
   "source": [
    "По скольку время начала и окончания нагревания уже не имеют смысла, можно их спокойно удалить, так как температура нагрева не зависит от времени суток."
   ]
  },
  {
   "cell_type": "code",
   "execution_count": 170,
   "metadata": {},
   "outputs": [],
   "source": [
    "data_arc = data_arc.drop(columns=['BeginHeat','EndHeat'], axis=1)"
   ]
  },
  {
   "cell_type": "code",
   "execution_count": 171,
   "metadata": {},
   "outputs": [
    {
     "name": "stdout",
     "output_type": "stream",
     "text": [
      "<class 'pandas.core.frame.DataFrame'>\n",
      "RangeIndex: 14872 entries, 0 to 14871\n",
      "Data columns (total 6 columns):\n",
      " #   Column         Non-Null Count  Dtype  \n",
      "---  ------         --------------  -----  \n",
      " 0   key            14872 non-null  int64  \n",
      " 1   ActivePower    14872 non-null  float64\n",
      " 2   ReactivePower  14872 non-null  float64\n",
      " 3   TimeHeat       14872 non-null  int64  \n",
      " 4   Power          14872 non-null  float64\n",
      " 5   RatioPower     14872 non-null  float64\n",
      "dtypes: float64(4), int64(2)\n",
      "memory usage: 697.2 KB\n"
     ]
    },
    {
     "data": {
      "text/plain": [
       "None"
      ]
     },
     "metadata": {},
     "output_type": "display_data"
    },
    {
     "data": {
      "text/html": [
       "<div>\n",
       "<style scoped>\n",
       "    .dataframe tbody tr th:only-of-type {\n",
       "        vertical-align: middle;\n",
       "    }\n",
       "\n",
       "    .dataframe tbody tr th {\n",
       "        vertical-align: top;\n",
       "    }\n",
       "\n",
       "    .dataframe thead th {\n",
       "        text-align: right;\n",
       "    }\n",
       "</style>\n",
       "<table border=\"1\" class=\"dataframe\">\n",
       "  <thead>\n",
       "    <tr style=\"text-align: right;\">\n",
       "      <th></th>\n",
       "      <th>key</th>\n",
       "      <th>ActivePower</th>\n",
       "      <th>ReactivePower</th>\n",
       "      <th>TimeHeat</th>\n",
       "      <th>Power</th>\n",
       "      <th>RatioPower</th>\n",
       "    </tr>\n",
       "  </thead>\n",
       "  <tbody>\n",
       "    <tr>\n",
       "      <th>13698</th>\n",
       "      <td>2972</td>\n",
       "      <td>0.883809</td>\n",
       "      <td>0.563528</td>\n",
       "      <td>201</td>\n",
       "      <td>1.048181</td>\n",
       "      <td>0.637612</td>\n",
       "    </tr>\n",
       "    <tr>\n",
       "      <th>7324</th>\n",
       "      <td>1589</td>\n",
       "      <td>0.192371</td>\n",
       "      <td>0.128701</td>\n",
       "      <td>45</td>\n",
       "      <td>0.231454</td>\n",
       "      <td>0.669026</td>\n",
       "    </tr>\n",
       "    <tr>\n",
       "      <th>8200</th>\n",
       "      <td>1781</td>\n",
       "      <td>0.373842</td>\n",
       "      <td>0.276378</td>\n",
       "      <td>87</td>\n",
       "      <td>0.464911</td>\n",
       "      <td>0.739290</td>\n",
       "    </tr>\n",
       "    <tr>\n",
       "      <th>10562</th>\n",
       "      <td>2296</td>\n",
       "      <td>0.508371</td>\n",
       "      <td>0.359910</td>\n",
       "      <td>136</td>\n",
       "      <td>0.622878</td>\n",
       "      <td>0.707968</td>\n",
       "    </tr>\n",
       "    <tr>\n",
       "      <th>7684</th>\n",
       "      <td>1667</td>\n",
       "      <td>0.332133</td>\n",
       "      <td>0.224418</td>\n",
       "      <td>77</td>\n",
       "      <td>0.400844</td>\n",
       "      <td>0.675686</td>\n",
       "    </tr>\n",
       "  </tbody>\n",
       "</table>\n",
       "</div>"
      ],
      "text/plain": [
       "        key  ActivePower  ReactivePower  TimeHeat     Power  RatioPower\n",
       "13698  2972     0.883809       0.563528       201  1.048181    0.637612\n",
       "7324   1589     0.192371       0.128701        45  0.231454    0.669026\n",
       "8200   1781     0.373842       0.276378        87  0.464911    0.739290\n",
       "10562  2296     0.508371       0.359910       136  0.622878    0.707968\n",
       "7684   1667     0.332133       0.224418        77  0.400844    0.675686"
      ]
     },
     "metadata": {},
     "output_type": "display_data"
    }
   ],
   "source": [
    "get_info(data_arc)"
   ]
  },
  {
   "attachments": {},
   "cell_type": "markdown",
   "metadata": {},
   "source": [
    "Дуамаю на этом все, идем к слудующей таблице."
   ]
  },
  {
   "attachments": {},
   "cell_type": "markdown",
   "metadata": {},
   "source": [
    "## data_bulk"
   ]
  },
  {
   "cell_type": "code",
   "execution_count": 172,
   "metadata": {},
   "outputs": [],
   "source": [
    "query = f'''\n",
    "SELECT *\n",
    "FROM steel.data_bulk\n",
    "'''\n",
    "data_bulk = pd.read_sql_query(sql=text(query), con = engine.connect())"
   ]
  },
  {
   "cell_type": "code",
   "execution_count": 173,
   "metadata": {},
   "outputs": [
    {
     "name": "stdout",
     "output_type": "stream",
     "text": [
      "<class 'pandas.core.frame.DataFrame'>\n",
      "RangeIndex: 3129 entries, 0 to 3128\n",
      "Data columns (total 16 columns):\n",
      " #   Column   Non-Null Count  Dtype  \n",
      "---  ------   --------------  -----  \n",
      " 0   key      3129 non-null   int64  \n",
      " 1   Bulk 1   252 non-null    float64\n",
      " 2   Bulk 2   22 non-null     float64\n",
      " 3   Bulk 3   1298 non-null   float64\n",
      " 4   Bulk 4   1014 non-null   float64\n",
      " 5   Bulk 5   77 non-null     float64\n",
      " 6   Bulk 6   576 non-null    float64\n",
      " 7   Bulk 7   25 non-null     float64\n",
      " 8   Bulk 8   1 non-null      float64\n",
      " 9   Bulk 9   19 non-null     float64\n",
      " 10  Bulk 10  176 non-null    float64\n",
      " 11  Bulk 11  177 non-null    float64\n",
      " 12  Bulk 12  2450 non-null   float64\n",
      " 13  Bulk 13  18 non-null     float64\n",
      " 14  Bulk 14  2806 non-null   float64\n",
      " 15  Bulk 15  2248 non-null   float64\n",
      "dtypes: float64(15), int64(1)\n",
      "memory usage: 391.2 KB\n"
     ]
    },
    {
     "data": {
      "text/plain": [
       "None"
      ]
     },
     "metadata": {},
     "output_type": "display_data"
    },
    {
     "data": {
      "text/html": [
       "<div>\n",
       "<style scoped>\n",
       "    .dataframe tbody tr th:only-of-type {\n",
       "        vertical-align: middle;\n",
       "    }\n",
       "\n",
       "    .dataframe tbody tr th {\n",
       "        vertical-align: top;\n",
       "    }\n",
       "\n",
       "    .dataframe thead th {\n",
       "        text-align: right;\n",
       "    }\n",
       "</style>\n",
       "<table border=\"1\" class=\"dataframe\">\n",
       "  <thead>\n",
       "    <tr style=\"text-align: right;\">\n",
       "      <th></th>\n",
       "      <th>key</th>\n",
       "      <th>Bulk 1</th>\n",
       "      <th>Bulk 2</th>\n",
       "      <th>Bulk 3</th>\n",
       "      <th>Bulk 4</th>\n",
       "      <th>Bulk 5</th>\n",
       "      <th>Bulk 6</th>\n",
       "      <th>Bulk 7</th>\n",
       "      <th>Bulk 8</th>\n",
       "      <th>Bulk 9</th>\n",
       "      <th>Bulk 10</th>\n",
       "      <th>Bulk 11</th>\n",
       "      <th>Bulk 12</th>\n",
       "      <th>Bulk 13</th>\n",
       "      <th>Bulk 14</th>\n",
       "      <th>Bulk 15</th>\n",
       "    </tr>\n",
       "  </thead>\n",
       "  <tbody>\n",
       "    <tr>\n",
       "      <th>2707</th>\n",
       "      <td>2808</td>\n",
       "      <td>NaN</td>\n",
       "      <td>NaN</td>\n",
       "      <td>NaN</td>\n",
       "      <td>112.0</td>\n",
       "      <td>NaN</td>\n",
       "      <td>NaN</td>\n",
       "      <td>NaN</td>\n",
       "      <td>NaN</td>\n",
       "      <td>NaN</td>\n",
       "      <td>NaN</td>\n",
       "      <td>NaN</td>\n",
       "      <td>158.0</td>\n",
       "      <td>NaN</td>\n",
       "      <td>102.0</td>\n",
       "      <td>108.0</td>\n",
       "    </tr>\n",
       "    <tr>\n",
       "      <th>572</th>\n",
       "      <td>601</td>\n",
       "      <td>NaN</td>\n",
       "      <td>NaN</td>\n",
       "      <td>131.0</td>\n",
       "      <td>NaN</td>\n",
       "      <td>NaN</td>\n",
       "      <td>NaN</td>\n",
       "      <td>NaN</td>\n",
       "      <td>NaN</td>\n",
       "      <td>NaN</td>\n",
       "      <td>NaN</td>\n",
       "      <td>NaN</td>\n",
       "      <td>334.0</td>\n",
       "      <td>NaN</td>\n",
       "      <td>229.0</td>\n",
       "      <td>185.0</td>\n",
       "    </tr>\n",
       "    <tr>\n",
       "      <th>2090</th>\n",
       "      <td>2162</td>\n",
       "      <td>46.0</td>\n",
       "      <td>NaN</td>\n",
       "      <td>NaN</td>\n",
       "      <td>186.0</td>\n",
       "      <td>NaN</td>\n",
       "      <td>NaN</td>\n",
       "      <td>NaN</td>\n",
       "      <td>NaN</td>\n",
       "      <td>NaN</td>\n",
       "      <td>NaN</td>\n",
       "      <td>NaN</td>\n",
       "      <td>416.0</td>\n",
       "      <td>NaN</td>\n",
       "      <td>246.0</td>\n",
       "      <td>227.0</td>\n",
       "    </tr>\n",
       "    <tr>\n",
       "      <th>2431</th>\n",
       "      <td>2523</td>\n",
       "      <td>NaN</td>\n",
       "      <td>NaN</td>\n",
       "      <td>124.0</td>\n",
       "      <td>NaN</td>\n",
       "      <td>NaN</td>\n",
       "      <td>NaN</td>\n",
       "      <td>NaN</td>\n",
       "      <td>NaN</td>\n",
       "      <td>NaN</td>\n",
       "      <td>NaN</td>\n",
       "      <td>NaN</td>\n",
       "      <td>NaN</td>\n",
       "      <td>NaN</td>\n",
       "      <td>148.0</td>\n",
       "      <td>NaN</td>\n",
       "    </tr>\n",
       "    <tr>\n",
       "      <th>336</th>\n",
       "      <td>361</td>\n",
       "      <td>10.0</td>\n",
       "      <td>NaN</td>\n",
       "      <td>NaN</td>\n",
       "      <td>105.0</td>\n",
       "      <td>NaN</td>\n",
       "      <td>NaN</td>\n",
       "      <td>NaN</td>\n",
       "      <td>NaN</td>\n",
       "      <td>NaN</td>\n",
       "      <td>NaN</td>\n",
       "      <td>NaN</td>\n",
       "      <td>177.0</td>\n",
       "      <td>NaN</td>\n",
       "      <td>165.0</td>\n",
       "      <td>204.0</td>\n",
       "    </tr>\n",
       "  </tbody>\n",
       "</table>\n",
       "</div>"
      ],
      "text/plain": [
       "       key  Bulk 1  Bulk 2  Bulk 3  Bulk 4  Bulk 5  Bulk 6  Bulk 7  Bulk 8  \\\n",
       "2707  2808     NaN     NaN     NaN   112.0     NaN     NaN     NaN     NaN   \n",
       "572    601     NaN     NaN   131.0     NaN     NaN     NaN     NaN     NaN   \n",
       "2090  2162    46.0     NaN     NaN   186.0     NaN     NaN     NaN     NaN   \n",
       "2431  2523     NaN     NaN   124.0     NaN     NaN     NaN     NaN     NaN   \n",
       "336    361    10.0     NaN     NaN   105.0     NaN     NaN     NaN     NaN   \n",
       "\n",
       "      Bulk 9  Bulk 10  Bulk 11  Bulk 12  Bulk 13  Bulk 14  Bulk 15  \n",
       "2707     NaN      NaN      NaN    158.0      NaN    102.0    108.0  \n",
       "572      NaN      NaN      NaN    334.0      NaN    229.0    185.0  \n",
       "2090     NaN      NaN      NaN    416.0      NaN    246.0    227.0  \n",
       "2431     NaN      NaN      NaN      NaN      NaN    148.0      NaN  \n",
       "336      NaN      NaN      NaN    177.0      NaN    165.0    204.0  "
      ]
     },
     "metadata": {},
     "output_type": "display_data"
    }
   ],
   "source": [
    "get_info(data_bulk)"
   ]
  },
  {
   "attachments": {},
   "cell_type": "markdown",
   "metadata": {},
   "source": [
    "Как видно тут есть очень много пропусков, эти пропуски скорее всего означают что данный тип материала не подавался. Нужно это проверить."
   ]
  },
  {
   "cell_type": "code",
   "execution_count": 197,
   "metadata": {},
   "outputs": [
    {
     "data": {
      "text/html": [
       "<div>\n",
       "<style scoped>\n",
       "    .dataframe tbody tr th:only-of-type {\n",
       "        vertical-align: middle;\n",
       "    }\n",
       "\n",
       "    .dataframe tbody tr th {\n",
       "        vertical-align: top;\n",
       "    }\n",
       "\n",
       "    .dataframe thead th {\n",
       "        text-align: right;\n",
       "    }\n",
       "</style>\n",
       "<table border=\"1\" class=\"dataframe\">\n",
       "  <thead>\n",
       "    <tr style=\"text-align: right;\">\n",
       "      <th></th>\n",
       "      <th>key</th>\n",
       "      <th>ActivePower</th>\n",
       "      <th>ReactivePower</th>\n",
       "      <th>TimeHeat</th>\n",
       "      <th>Power</th>\n",
       "      <th>RatioPower</th>\n",
       "    </tr>\n",
       "  </thead>\n",
       "  <tbody>\n",
       "    <tr>\n",
       "      <th>0</th>\n",
       "      <td>1</td>\n",
       "      <td>0.976059</td>\n",
       "      <td>0.687084</td>\n",
       "      <td>228</td>\n",
       "      <td>1.193639</td>\n",
       "      <td>0.703937</td>\n",
       "    </tr>\n",
       "    <tr>\n",
       "      <th>1</th>\n",
       "      <td>1</td>\n",
       "      <td>0.805607</td>\n",
       "      <td>0.520285</td>\n",
       "      <td>185</td>\n",
       "      <td>0.959010</td>\n",
       "      <td>0.645830</td>\n",
       "    </tr>\n",
       "    <tr>\n",
       "      <th>2</th>\n",
       "      <td>1</td>\n",
       "      <td>0.744363</td>\n",
       "      <td>0.498805</td>\n",
       "      <td>172</td>\n",
       "      <td>0.896038</td>\n",
       "      <td>0.670110</td>\n",
       "    </tr>\n",
       "    <tr>\n",
       "      <th>3</th>\n",
       "      <td>1</td>\n",
       "      <td>1.659363</td>\n",
       "      <td>1.062669</td>\n",
       "      <td>365</td>\n",
       "      <td>1.970470</td>\n",
       "      <td>0.640408</td>\n",
       "    </tr>\n",
       "    <tr>\n",
       "      <th>4</th>\n",
       "      <td>1</td>\n",
       "      <td>0.692755</td>\n",
       "      <td>0.414397</td>\n",
       "      <td>148</td>\n",
       "      <td>0.807239</td>\n",
       "      <td>0.598188</td>\n",
       "    </tr>\n",
       "  </tbody>\n",
       "</table>\n",
       "</div>"
      ],
      "text/plain": [
       "   key  ActivePower  ReactivePower  TimeHeat     Power  RatioPower\n",
       "0    1     0.976059       0.687084       228  1.193639    0.703937\n",
       "1    1     0.805607       0.520285       185  0.959010    0.645830\n",
       "2    1     0.744363       0.498805       172  0.896038    0.670110\n",
       "3    1     1.659363       1.062669       365  1.970470    0.640408\n",
       "4    1     0.692755       0.414397       148  0.807239    0.598188"
      ]
     },
     "execution_count": 197,
     "metadata": {},
     "output_type": "execute_result"
    }
   ],
   "source": [
    "data_arc.head()"
   ]
  },
  {
   "cell_type": "code",
   "execution_count": 188,
   "metadata": {},
   "outputs": [
    {
     "data": {
      "text/html": [
       "<div>\n",
       "<style scoped>\n",
       "    .dataframe tbody tr th:only-of-type {\n",
       "        vertical-align: middle;\n",
       "    }\n",
       "\n",
       "    .dataframe tbody tr th {\n",
       "        vertical-align: top;\n",
       "    }\n",
       "\n",
       "    .dataframe thead th {\n",
       "        text-align: right;\n",
       "    }\n",
       "</style>\n",
       "<table border=\"1\" class=\"dataframe\">\n",
       "  <thead>\n",
       "    <tr style=\"text-align: right;\">\n",
       "      <th></th>\n",
       "      <th>Power</th>\n",
       "    </tr>\n",
       "    <tr>\n",
       "      <th>key</th>\n",
       "      <th></th>\n",
       "    </tr>\n",
       "  </thead>\n",
       "  <tbody>\n",
       "    <tr>\n",
       "      <th>1</th>\n",
       "      <td>5</td>\n",
       "    </tr>\n",
       "    <tr>\n",
       "      <th>2</th>\n",
       "      <td>4</td>\n",
       "    </tr>\n",
       "    <tr>\n",
       "      <th>3</th>\n",
       "      <td>5</td>\n",
       "    </tr>\n",
       "    <tr>\n",
       "      <th>4</th>\n",
       "      <td>4</td>\n",
       "    </tr>\n",
       "    <tr>\n",
       "      <th>5</th>\n",
       "      <td>4</td>\n",
       "    </tr>\n",
       "    <tr>\n",
       "      <th>...</th>\n",
       "      <td>...</td>\n",
       "    </tr>\n",
       "    <tr>\n",
       "      <th>3237</th>\n",
       "      <td>5</td>\n",
       "    </tr>\n",
       "    <tr>\n",
       "      <th>3238</th>\n",
       "      <td>3</td>\n",
       "    </tr>\n",
       "    <tr>\n",
       "      <th>3239</th>\n",
       "      <td>8</td>\n",
       "    </tr>\n",
       "    <tr>\n",
       "      <th>3240</th>\n",
       "      <td>5</td>\n",
       "    </tr>\n",
       "    <tr>\n",
       "      <th>3241</th>\n",
       "      <td>5</td>\n",
       "    </tr>\n",
       "  </tbody>\n",
       "</table>\n",
       "<p>3213 rows × 1 columns</p>\n",
       "</div>"
      ],
      "text/plain": [
       "      Power\n",
       "key        \n",
       "1         5\n",
       "2         4\n",
       "3         5\n",
       "4         4\n",
       "5         4\n",
       "...     ...\n",
       "3237      5\n",
       "3238      3\n",
       "3239      8\n",
       "3240      5\n",
       "3241      5\n",
       "\n",
       "[3213 rows x 1 columns]"
      ]
     },
     "execution_count": 188,
     "metadata": {},
     "output_type": "execute_result"
    }
   ],
   "source": [
    "data_arc.pivot_table(index='key',\n",
    "                     values='Power',\n",
    "                     aggfunc='count')"
   ]
  },
  {
   "cell_type": "code",
   "execution_count": 196,
   "metadata": {},
   "outputs": [
    {
     "data": {
      "text/html": [
       "<div>\n",
       "<style scoped>\n",
       "    .dataframe tbody tr th:only-of-type {\n",
       "        vertical-align: middle;\n",
       "    }\n",
       "\n",
       "    .dataframe tbody tr th {\n",
       "        vertical-align: top;\n",
       "    }\n",
       "\n",
       "    .dataframe thead th {\n",
       "        text-align: right;\n",
       "    }\n",
       "</style>\n",
       "<table border=\"1\" class=\"dataframe\">\n",
       "  <thead>\n",
       "    <tr style=\"text-align: right;\">\n",
       "      <th></th>\n",
       "      <th>key</th>\n",
       "      <th>Bulk 1</th>\n",
       "      <th>Bulk 2</th>\n",
       "      <th>Bulk 3</th>\n",
       "      <th>Bulk 4</th>\n",
       "      <th>Bulk 5</th>\n",
       "      <th>Bulk 6</th>\n",
       "      <th>Bulk 7</th>\n",
       "      <th>Bulk 8</th>\n",
       "      <th>Bulk 9</th>\n",
       "      <th>Bulk 10</th>\n",
       "      <th>Bulk 11</th>\n",
       "      <th>Bulk 12</th>\n",
       "      <th>Bulk 13</th>\n",
       "      <th>Bulk 14</th>\n",
       "      <th>Bulk 15</th>\n",
       "    </tr>\n",
       "  </thead>\n",
       "  <tbody>\n",
       "    <tr>\n",
       "      <th>0</th>\n",
       "      <td>1</td>\n",
       "      <td>NaN</td>\n",
       "      <td>NaN</td>\n",
       "      <td>NaN</td>\n",
       "      <td>43.0</td>\n",
       "      <td>NaN</td>\n",
       "      <td>NaN</td>\n",
       "      <td>NaN</td>\n",
       "      <td>NaN</td>\n",
       "      <td>NaN</td>\n",
       "      <td>NaN</td>\n",
       "      <td>NaN</td>\n",
       "      <td>206.0</td>\n",
       "      <td>NaN</td>\n",
       "      <td>150.0</td>\n",
       "      <td>154.0</td>\n",
       "    </tr>\n",
       "    <tr>\n",
       "      <th>1</th>\n",
       "      <td>2</td>\n",
       "      <td>NaN</td>\n",
       "      <td>NaN</td>\n",
       "      <td>NaN</td>\n",
       "      <td>73.0</td>\n",
       "      <td>NaN</td>\n",
       "      <td>NaN</td>\n",
       "      <td>NaN</td>\n",
       "      <td>NaN</td>\n",
       "      <td>NaN</td>\n",
       "      <td>NaN</td>\n",
       "      <td>NaN</td>\n",
       "      <td>206.0</td>\n",
       "      <td>NaN</td>\n",
       "      <td>149.0</td>\n",
       "      <td>154.0</td>\n",
       "    </tr>\n",
       "    <tr>\n",
       "      <th>2</th>\n",
       "      <td>3</td>\n",
       "      <td>NaN</td>\n",
       "      <td>NaN</td>\n",
       "      <td>NaN</td>\n",
       "      <td>34.0</td>\n",
       "      <td>NaN</td>\n",
       "      <td>NaN</td>\n",
       "      <td>NaN</td>\n",
       "      <td>NaN</td>\n",
       "      <td>NaN</td>\n",
       "      <td>NaN</td>\n",
       "      <td>NaN</td>\n",
       "      <td>205.0</td>\n",
       "      <td>NaN</td>\n",
       "      <td>152.0</td>\n",
       "      <td>153.0</td>\n",
       "    </tr>\n",
       "    <tr>\n",
       "      <th>3</th>\n",
       "      <td>4</td>\n",
       "      <td>NaN</td>\n",
       "      <td>NaN</td>\n",
       "      <td>NaN</td>\n",
       "      <td>81.0</td>\n",
       "      <td>NaN</td>\n",
       "      <td>NaN</td>\n",
       "      <td>NaN</td>\n",
       "      <td>NaN</td>\n",
       "      <td>NaN</td>\n",
       "      <td>NaN</td>\n",
       "      <td>NaN</td>\n",
       "      <td>207.0</td>\n",
       "      <td>NaN</td>\n",
       "      <td>153.0</td>\n",
       "      <td>154.0</td>\n",
       "    </tr>\n",
       "    <tr>\n",
       "      <th>4</th>\n",
       "      <td>5</td>\n",
       "      <td>NaN</td>\n",
       "      <td>NaN</td>\n",
       "      <td>NaN</td>\n",
       "      <td>78.0</td>\n",
       "      <td>NaN</td>\n",
       "      <td>NaN</td>\n",
       "      <td>NaN</td>\n",
       "      <td>NaN</td>\n",
       "      <td>NaN</td>\n",
       "      <td>NaN</td>\n",
       "      <td>NaN</td>\n",
       "      <td>203.0</td>\n",
       "      <td>NaN</td>\n",
       "      <td>151.0</td>\n",
       "      <td>152.0</td>\n",
       "    </tr>\n",
       "  </tbody>\n",
       "</table>\n",
       "</div>"
      ],
      "text/plain": [
       "   key  Bulk 1  Bulk 2  Bulk 3  Bulk 4  Bulk 5  Bulk 6  Bulk 7  Bulk 8  \\\n",
       "0    1     NaN     NaN     NaN    43.0     NaN     NaN     NaN     NaN   \n",
       "1    2     NaN     NaN     NaN    73.0     NaN     NaN     NaN     NaN   \n",
       "2    3     NaN     NaN     NaN    34.0     NaN     NaN     NaN     NaN   \n",
       "3    4     NaN     NaN     NaN    81.0     NaN     NaN     NaN     NaN   \n",
       "4    5     NaN     NaN     NaN    78.0     NaN     NaN     NaN     NaN   \n",
       "\n",
       "   Bulk 9  Bulk 10  Bulk 11  Bulk 12  Bulk 13  Bulk 14  Bulk 15  \n",
       "0     NaN      NaN      NaN    206.0      NaN    150.0    154.0  \n",
       "1     NaN      NaN      NaN    206.0      NaN    149.0    154.0  \n",
       "2     NaN      NaN      NaN    205.0      NaN    152.0    153.0  \n",
       "3     NaN      NaN      NaN    207.0      NaN    153.0    154.0  \n",
       "4     NaN      NaN      NaN    203.0      NaN    151.0    152.0  "
      ]
     },
     "execution_count": 196,
     "metadata": {},
     "output_type": "execute_result"
    }
   ],
   "source": [
    "data_bulk.head()"
   ]
  },
  {
   "cell_type": "code",
   "execution_count": 200,
   "metadata": {},
   "outputs": [],
   "source": [
    "data_bulk['Count'] = data_bulk.notna().sum(axis=1)"
   ]
  },
  {
   "cell_type": "code",
   "execution_count": 202,
   "metadata": {},
   "outputs": [
    {
     "ename": "ValueError",
     "evalue": "Can only compare identically-labeled Series objects",
     "output_type": "error",
     "traceback": [
      "\u001b[1;31m---------------------------------------------------------------------------\u001b[0m",
      "\u001b[1;31mValueError\u001b[0m                                Traceback (most recent call last)",
      "\u001b[1;32ma:\\Practicum\\Diploma\\diploma_project.ipynb Cell 71\u001b[0m in \u001b[0;36m<cell line: 1>\u001b[1;34m()\u001b[0m\n\u001b[1;32m----> <a href='vscode-notebook-cell:/a%3A/Practicum/Diploma/diploma_project.ipynb#Y235sZmlsZQ%3D%3D?line=0'>1</a>\u001b[0m data_bulk[\u001b[39m'\u001b[39;49m\u001b[39mCount\u001b[39;49m\u001b[39m'\u001b[39;49m] \u001b[39m==\u001b[39;49m data_arc\u001b[39m.\u001b[39;49mpivot_table(index\u001b[39m=\u001b[39;49m\u001b[39m'\u001b[39;49m\u001b[39mkey\u001b[39;49m\u001b[39m'\u001b[39;49m,\n\u001b[0;32m      <a href='vscode-notebook-cell:/a%3A/Practicum/Diploma/diploma_project.ipynb#Y235sZmlsZQ%3D%3D?line=1'>2</a>\u001b[0m                      values\u001b[39m=\u001b[39;49m\u001b[39m'\u001b[39;49m\u001b[39mPower\u001b[39;49m\u001b[39m'\u001b[39;49m,\n\u001b[0;32m      <a href='vscode-notebook-cell:/a%3A/Practicum/Diploma/diploma_project.ipynb#Y235sZmlsZQ%3D%3D?line=2'>3</a>\u001b[0m                      aggfunc\u001b[39m=\u001b[39;49m\u001b[39m'\u001b[39;49m\u001b[39mcount\u001b[39;49m\u001b[39m'\u001b[39;49m)[\u001b[39m'\u001b[39;49m\u001b[39mPower\u001b[39;49m\u001b[39m'\u001b[39;49m]\n",
      "File \u001b[1;32md:\\Python\\lib\\site-packages\\pandas\\core\\ops\\common.py:70\u001b[0m, in \u001b[0;36m_unpack_zerodim_and_defer.<locals>.new_method\u001b[1;34m(self, other)\u001b[0m\n\u001b[0;32m     66\u001b[0m             \u001b[39mreturn\u001b[39;00m \u001b[39mNotImplemented\u001b[39m\n\u001b[0;32m     68\u001b[0m other \u001b[39m=\u001b[39m item_from_zerodim(other)\n\u001b[1;32m---> 70\u001b[0m \u001b[39mreturn\u001b[39;00m method(\u001b[39mself\u001b[39;49m, other)\n",
      "File \u001b[1;32md:\\Python\\lib\\site-packages\\pandas\\core\\arraylike.py:40\u001b[0m, in \u001b[0;36mOpsMixin.__eq__\u001b[1;34m(self, other)\u001b[0m\n\u001b[0;32m     38\u001b[0m \u001b[39m@unpack_zerodim_and_defer\u001b[39m(\u001b[39m\"\u001b[39m\u001b[39m__eq__\u001b[39m\u001b[39m\"\u001b[39m)\n\u001b[0;32m     39\u001b[0m \u001b[39mdef\u001b[39;00m \u001b[39m__eq__\u001b[39m(\u001b[39mself\u001b[39m, other):\n\u001b[1;32m---> 40\u001b[0m     \u001b[39mreturn\u001b[39;00m \u001b[39mself\u001b[39;49m\u001b[39m.\u001b[39;49m_cmp_method(other, operator\u001b[39m.\u001b[39;49meq)\n",
      "File \u001b[1;32md:\\Python\\lib\\site-packages\\pandas\\core\\series.py:5617\u001b[0m, in \u001b[0;36mSeries._cmp_method\u001b[1;34m(self, other, op)\u001b[0m\n\u001b[0;32m   5614\u001b[0m res_name \u001b[39m=\u001b[39m ops\u001b[39m.\u001b[39mget_op_result_name(\u001b[39mself\u001b[39m, other)\n\u001b[0;32m   5616\u001b[0m \u001b[39mif\u001b[39;00m \u001b[39misinstance\u001b[39m(other, Series) \u001b[39mand\u001b[39;00m \u001b[39mnot\u001b[39;00m \u001b[39mself\u001b[39m\u001b[39m.\u001b[39m_indexed_same(other):\n\u001b[1;32m-> 5617\u001b[0m     \u001b[39mraise\u001b[39;00m \u001b[39mValueError\u001b[39;00m(\u001b[39m\"\u001b[39m\u001b[39mCan only compare identically-labeled Series objects\u001b[39m\u001b[39m\"\u001b[39m)\n\u001b[0;32m   5619\u001b[0m lvalues \u001b[39m=\u001b[39m \u001b[39mself\u001b[39m\u001b[39m.\u001b[39m_values\n\u001b[0;32m   5620\u001b[0m rvalues \u001b[39m=\u001b[39m extract_array(other, extract_numpy\u001b[39m=\u001b[39m\u001b[39mTrue\u001b[39;00m, extract_range\u001b[39m=\u001b[39m\u001b[39mTrue\u001b[39;00m)\n",
      "\u001b[1;31mValueError\u001b[0m: Can only compare identically-labeled Series objects"
     ]
    }
   ],
   "source": [
    "data_bulk['Count'] == data_arc.pivot_table(index='key',\n",
    "                     values='Power',\n",
    "                     aggfunc='count')['Power']"
   ]
  }
 ],
 "metadata": {
  "kernelspec": {
   "display_name": "Python 3",
   "language": "python",
   "name": "python3"
  },
  "language_info": {
   "codemirror_mode": {
    "name": "ipython",
    "version": 3
   },
   "file_extension": ".py",
   "mimetype": "text/x-python",
   "name": "python",
   "nbconvert_exporter": "python",
   "pygments_lexer": "ipython3",
   "version": "3.10.4"
  },
  "orig_nbformat": 4
 },
 "nbformat": 4,
 "nbformat_minor": 2
}
