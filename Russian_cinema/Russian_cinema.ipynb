{
 "cells": [
  {
   "cell_type": "markdown",
   "metadata": {
    "toc": true
   },
   "source": [
    "<h1>Contents<span class=\"tocSkip\"></span></h1>\n",
    "<div class=\"toc\"><ul class=\"toc-item\"><li><span><a href=\"#Шаг-1.-Откройте-файлы-с-данными-и-объедините-их-в-один-датафрейм.\" data-toc-modified-id=\"Шаг-1.-Откройте-файлы-с-данными-и-объедините-их-в-один-датафрейм.-1\"><span class=\"toc-item-num\">1&nbsp;&nbsp;</span>Шаг 1. Откройте файлы с данными и объедините их в один датафрейм.</a></span><ul class=\"toc-item\"><li><span><a href=\"#Вывод\" data-toc-modified-id=\"Вывод-1.1\"><span class=\"toc-item-num\">1.1&nbsp;&nbsp;</span>Вывод</a></span></li></ul></li><li><span><a href=\"#Шаг-2.-Предобработка-данных\" data-toc-modified-id=\"Шаг-2.-Предобработка-данных-2\"><span class=\"toc-item-num\">2&nbsp;&nbsp;</span>Шаг 2. Предобработка данных</a></span><ul class=\"toc-item\"><li><span><a href=\"#Шаг-2.1.-Проверьте-типы-данных\" data-toc-modified-id=\"Шаг-2.1.-Проверьте-типы-данных-2.1\"><span class=\"toc-item-num\">2.1&nbsp;&nbsp;</span>Шаг 2.1. Проверьте типы данных</a></span><ul class=\"toc-item\"><li><span><a href=\"#Вывод\" data-toc-modified-id=\"Вывод-2.1.1\"><span class=\"toc-item-num\">2.1.1&nbsp;&nbsp;</span>Вывод</a></span></li></ul></li><li><span><a href=\"#Шаг-2.2.-Изучите-дубликаты-в-датафрейме\" data-toc-modified-id=\"Шаг-2.2.-Изучите-дубликаты-в-датафрейме-2.2\"><span class=\"toc-item-num\">2.2&nbsp;&nbsp;</span>Шаг 2.2. Изучите дубликаты в датафрейме</a></span><ul class=\"toc-item\"><li><span><a href=\"#Вывод\" data-toc-modified-id=\"Вывод-2.2.1\"><span class=\"toc-item-num\">2.2.1&nbsp;&nbsp;</span>Вывод</a></span></li></ul></li><li><span><a href=\"#Шаг-2.3.-Изучите-категориальные-значения\" data-toc-modified-id=\"Шаг-2.3.-Изучите-категориальные-значения-2.3\"><span class=\"toc-item-num\">2.3&nbsp;&nbsp;</span>Шаг 2.3. Изучите категориальные значения</a></span><ul class=\"toc-item\"><li><span><a href=\"#Вывод\" data-toc-modified-id=\"Вывод-2.3.1\"><span class=\"toc-item-num\">2.3.1&nbsp;&nbsp;</span>Вывод</a></span></li></ul></li><li><span><a href=\"#Шаг-2.4.-Проверьте-количественные-значения\" data-toc-modified-id=\"Шаг-2.4.-Проверьте-количественные-значения-2.4\"><span class=\"toc-item-num\">2.4&nbsp;&nbsp;</span>Шаг 2.4. Проверьте количественные значения</a></span><ul class=\"toc-item\"><li><span><a href=\"#Вывод\" data-toc-modified-id=\"Вывод-2.4.1\"><span class=\"toc-item-num\">2.4.1&nbsp;&nbsp;</span>Вывод</a></span></li></ul></li><li><span><a href=\"#Шаг-2.5.-Добавьте-новые-столбцы\" data-toc-modified-id=\"Шаг-2.5.-Добавьте-новые-столбцы-2.5\"><span class=\"toc-item-num\">2.5&nbsp;&nbsp;</span>Шаг 2.5. Добавьте новые столбцы</a></span><ul class=\"toc-item\"><li><span><a href=\"#Вывод\" data-toc-modified-id=\"Вывод-2.5.1\"><span class=\"toc-item-num\">2.5.1&nbsp;&nbsp;</span>Вывод</a></span></li></ul></li><li><span><a href=\"#Вывод\" data-toc-modified-id=\"Вывод-2.6\"><span class=\"toc-item-num\">2.6&nbsp;&nbsp;</span>Вывод</a></span></li></ul></li><li><span><a href=\"#Шаг-3.-Проведите-исследовательский-анализ-данных\" data-toc-modified-id=\"Шаг-3.-Проведите-исследовательский-анализ-данных-3\"><span class=\"toc-item-num\">3&nbsp;&nbsp;</span>Шаг 3. Проведите исследовательский анализ данных</a></span><ul class=\"toc-item\"><li><span><a href=\"#Вывод\" data-toc-modified-id=\"Вывод-3.1\"><span class=\"toc-item-num\">3.1&nbsp;&nbsp;</span>Вывод</a></span></li></ul></li><li><span><a href=\"#Шаг-4.-Исследуйте-фильмы,-которые-получили-государственную-поддержку\" data-toc-modified-id=\"Шаг-4.-Исследуйте-фильмы,-которые-получили-государственную-поддержку-4\"><span class=\"toc-item-num\">4&nbsp;&nbsp;</span>Шаг 4. Исследуйте фильмы, которые получили государственную поддержку</a></span><ul class=\"toc-item\"><li><span><a href=\"#Вывод\" data-toc-modified-id=\"Вывод-4.1\"><span class=\"toc-item-num\">4.1&nbsp;&nbsp;</span>Вывод</a></span></li></ul></li><li><span><a href=\"#Шаг-5.-Напишите-общий-вывод\" data-toc-modified-id=\"Шаг-5.-Напишите-общий-вывод-5\"><span class=\"toc-item-num\">5&nbsp;&nbsp;</span>Шаг 5. Напишите общий вывод</a></span></li></ul></div>"
   ]
  },
  {
   "cell_type": "markdown",
   "metadata": {
    "id": "sIfNaMOxgFyK"
   },
   "source": [
    "# Исследование данных о российском кинопрокате\n",
    "\n"
   ]
  },
  {
   "cell_type": "markdown",
   "metadata": {},
   "source": [
    "Вам нужно изучить рынок российского кинопроката и выявить текущие тренды. Уделите внимание фильмам, которые получили государственную поддержку. Попробуйте ответить на вопрос, насколько такие фильмы интересны зрителю."
   ]
  },
  {
   "cell_type": "markdown",
   "metadata": {},
   "source": [
    "Таблица mkrf_movies содержит информацию из реестра прокатных удостоверений. У одного фильма может быть несколько прокатных удостоверений:\n",
    "- title — название фильма;\n",
    "- puNumber — номер прокатного удостоверения;\n",
    "- show_start_date — дата премьеры фильма;\n",
    "- type — тип фильма;\n",
    "- film_studio — студия-производитель;\n",
    "- production_country — страна-производитель;\n",
    "- director — режиссёр;\n",
    "- producer — продюсер;\n",
    "- age_restriction — возрастная категория;\n",
    "- refundable_support — объём возвратных средств государственной поддержки;\n",
    "- nonrefundable_support — объём невозвратных средств государственной поддержки;\n",
    "- financing_source — источник государственного финансирования;\n",
    "- budget — общий бюджет фильма;\n",
    "- ratings — рейтинг фильма на КиноПоиске;\n",
    "- genres — жанр фильма.\n",
    "\n",
    "*Обратите внимание, что столбец budget уже включает в себя полный объём государственной поддержки. Данные в этом столбце указаны только для тех фильмов, которые получили государственную поддержку.*\n",
    "\n",
    "Таблица mkrf_shows содержит сведения о показах фильмов в российских кинотеатрах:\n",
    "- puNumber — номер прокатного удостоверения;\n",
    "- box_office — сборы в рублях."
   ]
  },
  {
   "cell_type": "markdown",
   "metadata": {
    "id": "3bSlkCsbgFyL"
   },
   "source": [
    "### Шаг 1. Откройте файлы с данными и объедините их в один датафрейм. \n",
    "\n",
    "Объедините данные таким образом, чтобы все объекты из датасета `mkrf_movies` обязательно вошли в получившийся датафрейм. "
   ]
  },
  {
   "cell_type": "markdown",
   "metadata": {},
   "source": [
    "Вытаскиваем необходимые библиотеки и извлекаем csv таблицы. Смотрим что с ними не так и объединяем в один DF."
   ]
  },
  {
   "cell_type": "code",
   "execution_count": 3,
   "metadata": {
    "id": "dw87FlzMgFyM"
   },
   "outputs": [],
   "source": [
    "import pandas as pd\n",
    "import matplotlib.pyplot as plt"
   ]
  },
  {
   "cell_type": "code",
   "execution_count": 4,
   "metadata": {},
   "outputs": [],
   "source": [
    "df_movies = pd.read_csv(\"./mkrf_movies.csv\")\n",
    "df_shows = pd.read_csv(\"./mkrf_shows.csv\")"
   ]
  },
  {
   "cell_type": "code",
   "execution_count": 5,
   "metadata": {},
   "outputs": [],
   "source": [
    "df_movies.to_csv(\"mkrf_movies.csv\", index = False)\n",
    "df_shows.to_csv(\"mkrf_shows.csv\", index = False)"
   ]
  },
  {
   "cell_type": "code",
   "execution_count": 6,
   "metadata": {},
   "outputs": [
    {
     "data": {
      "text/html": [
       "<div>\n",
       "<style scoped>\n",
       "    .dataframe tbody tr th:only-of-type {\n",
       "        vertical-align: middle;\n",
       "    }\n",
       "\n",
       "    .dataframe tbody tr th {\n",
       "        vertical-align: top;\n",
       "    }\n",
       "\n",
       "    .dataframe thead th {\n",
       "        text-align: right;\n",
       "    }\n",
       "</style>\n",
       "<table border=\"1\" class=\"dataframe\">\n",
       "  <thead>\n",
       "    <tr style=\"text-align: right;\">\n",
       "      <th></th>\n",
       "      <th>title</th>\n",
       "      <th>puNumber</th>\n",
       "      <th>show_start_date</th>\n",
       "      <th>type</th>\n",
       "      <th>film_studio</th>\n",
       "      <th>production_country</th>\n",
       "      <th>director</th>\n",
       "      <th>producer</th>\n",
       "      <th>age_restriction</th>\n",
       "      <th>refundable_support</th>\n",
       "      <th>nonrefundable_support</th>\n",
       "      <th>budget</th>\n",
       "      <th>financing_source</th>\n",
       "      <th>ratings</th>\n",
       "      <th>genres</th>\n",
       "    </tr>\n",
       "  </thead>\n",
       "  <tbody>\n",
       "    <tr>\n",
       "      <th>6749</th>\n",
       "      <td>Любовницы</td>\n",
       "      <td>111003519</td>\n",
       "      <td>2019-02-28T12:00:00.000Z</td>\n",
       "      <td>Художественный</td>\n",
       "      <td>ООО \"Революция Фильм\", ООО \"Кинокомпания \"КВФи...</td>\n",
       "      <td>Россия</td>\n",
       "      <td>Е.Хазанова</td>\n",
       "      <td>А.Виткин, Г.Грановский, М.Дворкович, Г.Подземе...</td>\n",
       "      <td>«16+» - для детей старше 16 лет</td>\n",
       "      <td>NaN</td>\n",
       "      <td>NaN</td>\n",
       "      <td>NaN</td>\n",
       "      <td>NaN</td>\n",
       "      <td>7.3</td>\n",
       "      <td>триллер,драма,мелодрама</td>\n",
       "    </tr>\n",
       "    <tr>\n",
       "      <th>2217</th>\n",
       "      <td>Люси</td>\n",
       "      <td>221070314</td>\n",
       "      <td>2014-12-19T12:00:00.000Z</td>\n",
       "      <td>Художественный</td>\n",
       "      <td>Европа Корп., ТФ1 Фильм Продюксьон</td>\n",
       "      <td>Франция</td>\n",
       "      <td>Люк Бессон</td>\n",
       "      <td>Виржини Силла, Марк Шмугер</td>\n",
       "      <td>«18+» - запрещено для детей</td>\n",
       "      <td>NaN</td>\n",
       "      <td>NaN</td>\n",
       "      <td>NaN</td>\n",
       "      <td>NaN</td>\n",
       "      <td>6.7</td>\n",
       "      <td>боевик,фантастика</td>\n",
       "    </tr>\n",
       "    <tr>\n",
       "      <th>899</th>\n",
       "      <td>Фэтбой Слим Лайв</td>\n",
       "      <td>126002312</td>\n",
       "      <td>2012-08-29T12:00:00.000Z</td>\n",
       "      <td>Прочие</td>\n",
       "      <td>Полиграм Мьюзик Пабл, Соутерн Френд Рекордс, Э...</td>\n",
       "      <td>Австралия</td>\n",
       "      <td>Мэт Аскем</td>\n",
       "      <td>Гэрри Блэкберн, Норман Кук, Селия Мор, Джастин...</td>\n",
       "      <td>«0+» - для любой зрительской аудитории</td>\n",
       "      <td>NaN</td>\n",
       "      <td>NaN</td>\n",
       "      <td>NaN</td>\n",
       "      <td>NaN</td>\n",
       "      <td>NaN</td>\n",
       "      <td>NaN</td>\n",
       "    </tr>\n",
       "    <tr>\n",
       "      <th>1377</th>\n",
       "      <td>Сезон убийц</td>\n",
       "      <td>121031013</td>\n",
       "      <td>2013-11-29T12:00:00.000Z</td>\n",
       "      <td>Художественный</td>\n",
       "      <td>Миллениум Филмз, Корсан, Промисед Лэнд Продакш...</td>\n",
       "      <td>Бельгия</td>\n",
       "      <td>Марк Стивен Джонсон</td>\n",
       "      <td>Пол Брюлс, Эд Кэйтелл III, Энтони Рулен</td>\n",
       "      <td>«16+» - для детей старше 16 лет</td>\n",
       "      <td>NaN</td>\n",
       "      <td>NaN</td>\n",
       "      <td>NaN</td>\n",
       "      <td>NaN</td>\n",
       "      <td>5.9</td>\n",
       "      <td>триллер,драма,боевик</td>\n",
       "    </tr>\n",
       "    <tr>\n",
       "      <th>2124</th>\n",
       "      <td>Умберто Джордано. Андре Шенье. Постановка Roya...</td>\n",
       "      <td>126000615</td>\n",
       "      <td>2015-02-25T12:00:00.000Z</td>\n",
       "      <td>Прочие</td>\n",
       "      <td>Артс Альянс Дистрибьюшн</td>\n",
       "      <td>Великобритания</td>\n",
       "      <td>Дэвид Маквикар</td>\n",
       "      <td>NaN</td>\n",
       "      <td>«12+» - для детей старше 12 лет</td>\n",
       "      <td>NaN</td>\n",
       "      <td>NaN</td>\n",
       "      <td>NaN</td>\n",
       "      <td>NaN</td>\n",
       "      <td>NaN</td>\n",
       "      <td>NaN</td>\n",
       "    </tr>\n",
       "  </tbody>\n",
       "</table>\n",
       "</div>"
      ],
      "text/plain": [
       "                                                  title   puNumber  \\\n",
       "6749                                          Любовницы  111003519   \n",
       "2217                                               Люси  221070314   \n",
       "899                                    Фэтбой Слим Лайв  126002312   \n",
       "1377                                        Сезон убийц  121031013   \n",
       "2124  Умберто Джордано. Андре Шенье. Постановка Roya...  126000615   \n",
       "\n",
       "               show_start_date             type  \\\n",
       "6749  2019-02-28T12:00:00.000Z   Художественный   \n",
       "2217  2014-12-19T12:00:00.000Z   Художественный   \n",
       "899   2012-08-29T12:00:00.000Z           Прочие   \n",
       "1377  2013-11-29T12:00:00.000Z   Художественный   \n",
       "2124  2015-02-25T12:00:00.000Z           Прочие   \n",
       "\n",
       "                                            film_studio production_country  \\\n",
       "6749  ООО \"Революция Фильм\", ООО \"Кинокомпания \"КВФи...             Россия   \n",
       "2217                 Европа Корп., ТФ1 Фильм Продюксьон            Франция   \n",
       "899   Полиграм Мьюзик Пабл, Соутерн Френд Рекордс, Э...          Австралия   \n",
       "1377  Миллениум Филмз, Корсан, Промисед Лэнд Продакш...            Бельгия   \n",
       "2124                            Артс Альянс Дистрибьюшн     Великобритания   \n",
       "\n",
       "                 director                                           producer  \\\n",
       "6749           Е.Хазанова  А.Виткин, Г.Грановский, М.Дворкович, Г.Подземе...   \n",
       "2217           Люк Бессон                         Виржини Силла, Марк Шмугер   \n",
       "899             Мэт Аскем  Гэрри Блэкберн, Норман Кук, Селия Мор, Джастин...   \n",
       "1377  Марк Стивен Джонсон            Пол Брюлс, Эд Кэйтелл III, Энтони Рулен   \n",
       "2124       Дэвид Маквикар                                                NaN   \n",
       "\n",
       "                             age_restriction  refundable_support  \\\n",
       "6749         «16+» - для детей старше 16 лет                 NaN   \n",
       "2217             «18+» - запрещено для детей                 NaN   \n",
       "899   «0+» - для любой зрительской аудитории                 NaN   \n",
       "1377         «16+» - для детей старше 16 лет                 NaN   \n",
       "2124         «12+» - для детей старше 12 лет                 NaN   \n",
       "\n",
       "      nonrefundable_support  budget financing_source ratings  \\\n",
       "6749                    NaN     NaN              NaN     7.3   \n",
       "2217                    NaN     NaN              NaN     6.7   \n",
       "899                     NaN     NaN              NaN     NaN   \n",
       "1377                    NaN     NaN              NaN     5.9   \n",
       "2124                    NaN     NaN              NaN     NaN   \n",
       "\n",
       "                       genres  \n",
       "6749  триллер,драма,мелодрама  \n",
       "2217        боевик,фантастика  \n",
       "899                       NaN  \n",
       "1377     триллер,драма,боевик  \n",
       "2124                      NaN  "
      ]
     },
     "metadata": {},
     "output_type": "display_data"
    },
    {
     "name": "stdout",
     "output_type": "stream",
     "text": [
      "<class 'pandas.core.frame.DataFrame'>\n",
      "RangeIndex: 7486 entries, 0 to 7485\n",
      "Data columns (total 15 columns):\n",
      " #   Column                 Non-Null Count  Dtype  \n",
      "---  ------                 --------------  -----  \n",
      " 0   title                  7486 non-null   object \n",
      " 1   puNumber               7486 non-null   object \n",
      " 2   show_start_date        7486 non-null   object \n",
      " 3   type                   7486 non-null   object \n",
      " 4   film_studio            7468 non-null   object \n",
      " 5   production_country     7484 non-null   object \n",
      " 6   director               7477 non-null   object \n",
      " 7   producer               6918 non-null   object \n",
      " 8   age_restriction        7486 non-null   object \n",
      " 9   refundable_support     332 non-null    float64\n",
      " 10  nonrefundable_support  332 non-null    float64\n",
      " 11  budget                 332 non-null    float64\n",
      " 12  financing_source       332 non-null    object \n",
      " 13  ratings                6519 non-null   object \n",
      " 14  genres                 6510 non-null   object \n",
      "dtypes: float64(3), object(12)\n",
      "memory usage: 877.4+ KB\n"
     ]
    }
   ],
   "source": [
    "display(df_movies.sample(5))\n",
    "df_movies.info()"
   ]
  },
  {
   "cell_type": "code",
   "execution_count": 7,
   "metadata": {},
   "outputs": [
    {
     "data": {
      "text/html": [
       "<div>\n",
       "<style scoped>\n",
       "    .dataframe tbody tr th:only-of-type {\n",
       "        vertical-align: middle;\n",
       "    }\n",
       "\n",
       "    .dataframe tbody tr th {\n",
       "        vertical-align: top;\n",
       "    }\n",
       "\n",
       "    .dataframe thead th {\n",
       "        text-align: right;\n",
       "    }\n",
       "</style>\n",
       "<table border=\"1\" class=\"dataframe\">\n",
       "  <thead>\n",
       "    <tr style=\"text-align: right;\">\n",
       "      <th></th>\n",
       "      <th>puNumber</th>\n",
       "      <th>box_office</th>\n",
       "    </tr>\n",
       "  </thead>\n",
       "  <tbody>\n",
       "    <tr>\n",
       "      <th>1743</th>\n",
       "      <td>121016619</td>\n",
       "      <td>56652916.63</td>\n",
       "    </tr>\n",
       "    <tr>\n",
       "      <th>1220</th>\n",
       "      <td>121006018</td>\n",
       "      <td>1529807.50</td>\n",
       "    </tr>\n",
       "    <tr>\n",
       "      <th>1243</th>\n",
       "      <td>121006511</td>\n",
       "      <td>465.00</td>\n",
       "    </tr>\n",
       "    <tr>\n",
       "      <th>1337</th>\n",
       "      <td>121008319</td>\n",
       "      <td>2405108.51</td>\n",
       "    </tr>\n",
       "    <tr>\n",
       "      <th>1737</th>\n",
       "      <td>121016419</td>\n",
       "      <td>911340.00</td>\n",
       "    </tr>\n",
       "  </tbody>\n",
       "</table>\n",
       "</div>"
      ],
      "text/plain": [
       "       puNumber   box_office\n",
       "1743  121016619  56652916.63\n",
       "1220  121006018   1529807.50\n",
       "1243  121006511       465.00\n",
       "1337  121008319   2405108.51\n",
       "1737  121016419    911340.00"
      ]
     },
     "metadata": {},
     "output_type": "display_data"
    },
    {
     "name": "stdout",
     "output_type": "stream",
     "text": [
      "<class 'pandas.core.frame.DataFrame'>\n",
      "RangeIndex: 3158 entries, 0 to 3157\n",
      "Data columns (total 2 columns):\n",
      " #   Column      Non-Null Count  Dtype  \n",
      "---  ------      --------------  -----  \n",
      " 0   puNumber    3158 non-null   int64  \n",
      " 1   box_office  3158 non-null   float64\n",
      "dtypes: float64(1), int64(1)\n",
      "memory usage: 49.5 KB\n"
     ]
    }
   ],
   "source": [
    "display(df_shows.sample(5))\n",
    "df_shows.info()"
   ]
  },
  {
   "cell_type": "markdown",
   "metadata": {},
   "source": [
    "Для объединения DFом нужно привести столбец \"puNumber\" к одному типу int.\n",
    "\n",
    "Сначало проверим столбец на готовность к перобразованию."
   ]
  },
  {
   "cell_type": "code",
   "execution_count": 8,
   "metadata": {},
   "outputs": [
    {
     "data": {
      "text/plain": [
       "804      111004112\n",
       "3962     111000110\n",
       "4768     111000111\n",
       "729      111000112\n",
       "1128     111000113\n",
       "           ...    \n",
       "4355     226017410\n",
       "3992     226019110\n",
       "1011     231001012\n",
       "5249     231001111\n",
       "1797           нет\n",
       "Name: puNumber, Length: 7486, dtype: object"
      ]
     },
     "execution_count": 8,
     "metadata": {},
     "output_type": "execute_result"
    }
   ],
   "source": [
    "df_movies[\"puNumber\"].sort_values()"
   ]
  },
  {
   "cell_type": "markdown",
   "metadata": {},
   "source": [
    "В строке 1797 вместо числа стоит слово \"нет\", заменим его на 0, это ни на что не повлияет."
   ]
  },
  {
   "cell_type": "code",
   "execution_count": 9,
   "metadata": {},
   "outputs": [],
   "source": [
    "df_movies.loc[1797, \"puNumber\"] = \"0\""
   ]
  },
  {
   "cell_type": "markdown",
   "metadata": {},
   "source": [
    "Теперь стобец готов к переводу в целый тип."
   ]
  },
  {
   "cell_type": "code",
   "execution_count": 10,
   "metadata": {},
   "outputs": [],
   "source": [
    "df_movies[\"puNumber\"] = df_movies[\"puNumber\"].astype(int)"
   ]
  },
  {
   "cell_type": "code",
   "execution_count": 11,
   "metadata": {},
   "outputs": [],
   "source": [
    "df = pd.merge(left=df_movies,\n",
    "         right=df_shows,\n",
    "         on=\"puNumber\",\n",
    "         how = \"outer\")"
   ]
  },
  {
   "cell_type": "code",
   "execution_count": 12,
   "metadata": {},
   "outputs": [
    {
     "data": {
      "text/html": [
       "<div>\n",
       "<style scoped>\n",
       "    .dataframe tbody tr th:only-of-type {\n",
       "        vertical-align: middle;\n",
       "    }\n",
       "\n",
       "    .dataframe tbody tr th {\n",
       "        vertical-align: top;\n",
       "    }\n",
       "\n",
       "    .dataframe thead th {\n",
       "        text-align: right;\n",
       "    }\n",
       "</style>\n",
       "<table border=\"1\" class=\"dataframe\">\n",
       "  <thead>\n",
       "    <tr style=\"text-align: right;\">\n",
       "      <th></th>\n",
       "      <th>title</th>\n",
       "      <th>puNumber</th>\n",
       "      <th>show_start_date</th>\n",
       "      <th>type</th>\n",
       "      <th>film_studio</th>\n",
       "      <th>production_country</th>\n",
       "      <th>director</th>\n",
       "      <th>producer</th>\n",
       "      <th>age_restriction</th>\n",
       "      <th>refundable_support</th>\n",
       "      <th>nonrefundable_support</th>\n",
       "      <th>budget</th>\n",
       "      <th>financing_source</th>\n",
       "      <th>ratings</th>\n",
       "      <th>genres</th>\n",
       "      <th>box_office</th>\n",
       "    </tr>\n",
       "  </thead>\n",
       "  <tbody>\n",
       "    <tr>\n",
       "      <th>2028</th>\n",
       "      <td>Исполнение желаний.</td>\n",
       "      <td>111028614</td>\n",
       "      <td>2014-12-24T12:00:00.000Z</td>\n",
       "      <td>Художественный</td>\n",
       "      <td>Киностудия \"Мосфильм\"</td>\n",
       "      <td>СССР</td>\n",
       "      <td>С.Дружинина</td>\n",
       "      <td>NaN</td>\n",
       "      <td>«12+» - для детей старше 12 лет</td>\n",
       "      <td>NaN</td>\n",
       "      <td>NaN</td>\n",
       "      <td>NaN</td>\n",
       "      <td>NaN</td>\n",
       "      <td>7.6</td>\n",
       "      <td>мультфильм,короткометражка,детский</td>\n",
       "      <td>NaN</td>\n",
       "    </tr>\n",
       "    <tr>\n",
       "      <th>97</th>\n",
       "      <td>Возвращение Василия Бортникова</td>\n",
       "      <td>111007315</td>\n",
       "      <td>2015-04-23T12:00:00.000Z</td>\n",
       "      <td>Художественный</td>\n",
       "      <td>Киностудия \"Мосфильм\"</td>\n",
       "      <td>СССР</td>\n",
       "      <td>В.Пудовкин</td>\n",
       "      <td>NaN</td>\n",
       "      <td>«12+» - для детей старше 12 лет</td>\n",
       "      <td>NaN</td>\n",
       "      <td>NaN</td>\n",
       "      <td>NaN</td>\n",
       "      <td>NaN</td>\n",
       "      <td>5.8</td>\n",
       "      <td>драма</td>\n",
       "      <td>NaN</td>\n",
       "    </tr>\n",
       "    <tr>\n",
       "      <th>90</th>\n",
       "      <td>Возмездие_</td>\n",
       "      <td>111013213</td>\n",
       "      <td>2013-12-19T12:00:00.000Z</td>\n",
       "      <td>Художественный</td>\n",
       "      <td>Киностудия \"Мосфильм\"</td>\n",
       "      <td>СССР</td>\n",
       "      <td>А.Столпер</td>\n",
       "      <td>NaN</td>\n",
       "      <td>«6+» - для детей старше 6 лет</td>\n",
       "      <td>NaN</td>\n",
       "      <td>NaN</td>\n",
       "      <td>NaN</td>\n",
       "      <td>NaN</td>\n",
       "      <td>6.7</td>\n",
       "      <td>драма,боевик</td>\n",
       "      <td>NaN</td>\n",
       "    </tr>\n",
       "    <tr>\n",
       "      <th>4723</th>\n",
       "      <td>SLOVE. Прямо в сердце</td>\n",
       "      <td>111011810</td>\n",
       "      <td>2010-12-23T12:00:00.000Z</td>\n",
       "      <td>Художественный</td>\n",
       "      <td>ООО \"Торговый дом \"СПАРТАК\"</td>\n",
       "      <td>Россия</td>\n",
       "      <td>Ю.Королев (псевдоним Ю.Стааль)</td>\n",
       "      <td>А.Подсохин</td>\n",
       "      <td>«16+» - для детей старше 16 лет</td>\n",
       "      <td>NaN</td>\n",
       "      <td>NaN</td>\n",
       "      <td>NaN</td>\n",
       "      <td>NaN</td>\n",
       "      <td>3.8</td>\n",
       "      <td>боевик,триллер,мелодрама</td>\n",
       "      <td>1820.00</td>\n",
       "    </tr>\n",
       "    <tr>\n",
       "      <th>7146</th>\n",
       "      <td>Команда мечты</td>\n",
       "      <td>111013219</td>\n",
       "      <td>2019-08-20T12:00:00.000Z</td>\n",
       "      <td>Художественный</td>\n",
       "      <td>ООО \"Продюсерский центр \"Молодежные инициативы\"</td>\n",
       "      <td>Россия</td>\n",
       "      <td>М.Зыков, Ф.Абрютин</td>\n",
       "      <td>Ф.Абрютин, Д.Якунин, О.Лахно</td>\n",
       "      <td>«6+» - для детей старше 6 лет</td>\n",
       "      <td>0.0</td>\n",
       "      <td>40000000.0</td>\n",
       "      <td>62415749.0</td>\n",
       "      <td>Министерство культуры</td>\n",
       "      <td>6.6</td>\n",
       "      <td>комедия,спорт</td>\n",
       "      <td>18878460.81</td>\n",
       "    </tr>\n",
       "  </tbody>\n",
       "</table>\n",
       "</div>"
      ],
      "text/plain": [
       "                               title   puNumber           show_start_date  \\\n",
       "2028             Исполнение желаний.  111028614  2014-12-24T12:00:00.000Z   \n",
       "97    Возвращение Василия Бортникова  111007315  2015-04-23T12:00:00.000Z   \n",
       "90                        Возмездие_  111013213  2013-12-19T12:00:00.000Z   \n",
       "4723           SLOVE. Прямо в сердце  111011810  2010-12-23T12:00:00.000Z   \n",
       "7146                   Команда мечты  111013219  2019-08-20T12:00:00.000Z   \n",
       "\n",
       "                 type                                      film_studio  \\\n",
       "2028   Художественный                            Киностудия \"Мосфильм\"   \n",
       "97     Художественный                            Киностудия \"Мосфильм\"   \n",
       "90     Художественный                            Киностудия \"Мосфильм\"   \n",
       "4723   Художественный                      ООО \"Торговый дом \"СПАРТАК\"   \n",
       "7146   Художественный  ООО \"Продюсерский центр \"Молодежные инициативы\"   \n",
       "\n",
       "     production_country                        director  \\\n",
       "2028               СССР                     С.Дружинина   \n",
       "97                 СССР                      В.Пудовкин   \n",
       "90                 СССР                       А.Столпер   \n",
       "4723             Россия  Ю.Королев (псевдоним Ю.Стааль)   \n",
       "7146             Россия              М.Зыков, Ф.Абрютин   \n",
       "\n",
       "                          producer                  age_restriction  \\\n",
       "2028                           NaN  «12+» - для детей старше 12 лет   \n",
       "97                             NaN  «12+» - для детей старше 12 лет   \n",
       "90                             NaN    «6+» - для детей старше 6 лет   \n",
       "4723                    А.Подсохин  «16+» - для детей старше 16 лет   \n",
       "7146  Ф.Абрютин, Д.Якунин, О.Лахно    «6+» - для детей старше 6 лет   \n",
       "\n",
       "      refundable_support  nonrefundable_support      budget  \\\n",
       "2028                 NaN                    NaN         NaN   \n",
       "97                   NaN                    NaN         NaN   \n",
       "90                   NaN                    NaN         NaN   \n",
       "4723                 NaN                    NaN         NaN   \n",
       "7146                 0.0             40000000.0  62415749.0   \n",
       "\n",
       "           financing_source ratings                              genres  \\\n",
       "2028                    NaN     7.6  мультфильм,короткометражка,детский   \n",
       "97                      NaN     5.8                               драма   \n",
       "90                      NaN     6.7                        драма,боевик   \n",
       "4723                    NaN     3.8            боевик,триллер,мелодрама   \n",
       "7146  Министерство культуры     6.6                       комедия,спорт   \n",
       "\n",
       "       box_office  \n",
       "2028          NaN  \n",
       "97            NaN  \n",
       "90            NaN  \n",
       "4723      1820.00  \n",
       "7146  18878460.81  "
      ]
     },
     "metadata": {},
     "output_type": "display_data"
    },
    {
     "name": "stdout",
     "output_type": "stream",
     "text": [
      "<class 'pandas.core.frame.DataFrame'>\n",
      "Int64Index: 7486 entries, 0 to 7485\n",
      "Data columns (total 16 columns):\n",
      " #   Column                 Non-Null Count  Dtype  \n",
      "---  ------                 --------------  -----  \n",
      " 0   title                  7486 non-null   object \n",
      " 1   puNumber               7486 non-null   int32  \n",
      " 2   show_start_date        7486 non-null   object \n",
      " 3   type                   7486 non-null   object \n",
      " 4   film_studio            7468 non-null   object \n",
      " 5   production_country     7484 non-null   object \n",
      " 6   director               7477 non-null   object \n",
      " 7   producer               6918 non-null   object \n",
      " 8   age_restriction        7486 non-null   object \n",
      " 9   refundable_support     332 non-null    float64\n",
      " 10  nonrefundable_support  332 non-null    float64\n",
      " 11  budget                 332 non-null    float64\n",
      " 12  financing_source       332 non-null    object \n",
      " 13  ratings                6519 non-null   object \n",
      " 14  genres                 6510 non-null   object \n",
      " 15  box_office             3158 non-null   float64\n",
      "dtypes: float64(4), int32(1), object(11)\n",
      "memory usage: 965.0+ KB\n"
     ]
    }
   ],
   "source": [
    "display(df.sample(5))\n",
    "df.info()"
   ]
  },
  {
   "cell_type": "markdown",
   "metadata": {},
   "source": [
    "#### Вывод"
   ]
  },
  {
   "cell_type": "markdown",
   "metadata": {},
   "source": [
    "DFмы объеденины в один удачно.в Итоговом DF присутствуют все столбцы из двух DF и количество строк осталось прежним.DF готов к дальнейшей предобработке."
   ]
  },
  {
   "cell_type": "markdown",
   "metadata": {
    "id": "KLDGpPG0gFyM"
   },
   "source": [
    "### Шаг 2. Предобработка данных"
   ]
  },
  {
   "cell_type": "markdown",
   "metadata": {
    "id": "ssWwKXsxgFyO"
   },
   "source": [
    "#### Шаг 2.1. Проверьте типы данных\n",
    "\n",
    "- Проверьте типы данных в датафрейме и преобразуйте их там, где это необходимо."
   ]
  },
  {
   "cell_type": "markdown",
   "metadata": {
    "id": "kVGSplJOgFyO"
   },
   "source": [
    "Изучим все столбцы и оценим где можно использовать другой тип данных."
   ]
  },
  {
   "cell_type": "code",
   "execution_count": 13,
   "metadata": {},
   "outputs": [
    {
     "data": {
      "text/plain": [
       "Index(['title', 'puNumber', 'show_start_date', 'type', 'film_studio',\n",
       "       'production_country', 'director', 'producer', 'age_restriction',\n",
       "       'refundable_support', 'nonrefundable_support', 'budget',\n",
       "       'financing_source', 'ratings', 'genres', 'box_office'],\n",
       "      dtype='object')"
      ]
     },
     "metadata": {},
     "output_type": "display_data"
    },
    {
     "name": "stdout",
     "output_type": "stream",
     "text": [
      "<class 'pandas.core.frame.DataFrame'>\n",
      "Int64Index: 7486 entries, 0 to 7485\n",
      "Data columns (total 16 columns):\n",
      " #   Column                 Non-Null Count  Dtype  \n",
      "---  ------                 --------------  -----  \n",
      " 0   title                  7486 non-null   object \n",
      " 1   puNumber               7486 non-null   int32  \n",
      " 2   show_start_date        7486 non-null   object \n",
      " 3   type                   7486 non-null   object \n",
      " 4   film_studio            7468 non-null   object \n",
      " 5   production_country     7484 non-null   object \n",
      " 6   director               7477 non-null   object \n",
      " 7   producer               6918 non-null   object \n",
      " 8   age_restriction        7486 non-null   object \n",
      " 9   refundable_support     332 non-null    float64\n",
      " 10  nonrefundable_support  332 non-null    float64\n",
      " 11  budget                 332 non-null    float64\n",
      " 12  financing_source       332 non-null    object \n",
      " 13  ratings                6519 non-null   object \n",
      " 14  genres                 6510 non-null   object \n",
      " 15  box_office             3158 non-null   float64\n",
      "dtypes: float64(4), int32(1), object(11)\n",
      "memory usage: 965.0+ KB\n"
     ]
    }
   ],
   "source": [
    "display(df.columns)\n",
    "df.info()"
   ]
  },
  {
   "cell_type": "markdown",
   "metadata": {},
   "source": [
    "Для правильности нужно изменить название стоблца \"puNumber\" на \"pu_number\". \n",
    "- Столбец \"show_start_date\" привести к нормальному виду.\n",
    "- \"age_restriction\" можно оставить только возраст, то есть использовать int\n",
    "- \"refundable_support\", \"nonrefundable_support\", \"budget\", \"box_office\" не нуждаются в такой точности (по скольку измерения ведутся в миллионах, копейки тут не сыграют роли) так что тоже int\n",
    "- \"ratings\" это не целые числа от 0 до 10 и процентные значения, можно изменить копцепцию, домножить не целые значения на 10 и иметь шкалу от 0 до 100 в целых значениях.\n"
   ]
  },
  {
   "cell_type": "code",
   "execution_count": 14,
   "metadata": {},
   "outputs": [],
   "source": [
    "df = df.rename(columns={'puNumber': 'pu_number'})"
   ]
  },
  {
   "cell_type": "code",
   "execution_count": 15,
   "metadata": {},
   "outputs": [
    {
     "data": {
      "text/html": [
       "<div>\n",
       "<style scoped>\n",
       "    .dataframe tbody tr th:only-of-type {\n",
       "        vertical-align: middle;\n",
       "    }\n",
       "\n",
       "    .dataframe tbody tr th {\n",
       "        vertical-align: top;\n",
       "    }\n",
       "\n",
       "    .dataframe thead th {\n",
       "        text-align: right;\n",
       "    }\n",
       "</style>\n",
       "<table border=\"1\" class=\"dataframe\">\n",
       "  <thead>\n",
       "    <tr style=\"text-align: right;\">\n",
       "      <th></th>\n",
       "      <th>title</th>\n",
       "      <th>pu_number</th>\n",
       "      <th>show_start_date</th>\n",
       "      <th>type</th>\n",
       "      <th>film_studio</th>\n",
       "      <th>production_country</th>\n",
       "      <th>director</th>\n",
       "      <th>producer</th>\n",
       "      <th>age_restriction</th>\n",
       "      <th>refundable_support</th>\n",
       "      <th>nonrefundable_support</th>\n",
       "      <th>budget</th>\n",
       "      <th>financing_source</th>\n",
       "      <th>ratings</th>\n",
       "      <th>genres</th>\n",
       "      <th>box_office</th>\n",
       "    </tr>\n",
       "  </thead>\n",
       "  <tbody>\n",
       "    <tr>\n",
       "      <th>2219</th>\n",
       "      <td>Прогулка по солнечному свету</td>\n",
       "      <td>121011614</td>\n",
       "      <td>2014-06-11 12:00:00+00:00</td>\n",
       "      <td>Художественный</td>\n",
       "      <td>Вертиго Филмз, АйЭм Глобал</td>\n",
       "      <td>Великобритания</td>\n",
       "      <td>Макс Джива, Дания Пасквини</td>\n",
       "      <td>Кэролайн Леви, Эллан Нибло, Джеймс Ричардсон</td>\n",
       "      <td>«12+» - для детей старше 12 лет</td>\n",
       "      <td>NaN</td>\n",
       "      <td>NaN</td>\n",
       "      <td>NaN</td>\n",
       "      <td>NaN</td>\n",
       "      <td>6.1</td>\n",
       "      <td>мюзикл,драма,мелодрама</td>\n",
       "      <td>0.0</td>\n",
       "    </tr>\n",
       "  </tbody>\n",
       "</table>\n",
       "</div>"
      ],
      "text/plain": [
       "                             title  pu_number           show_start_date  \\\n",
       "2219  Прогулка по солнечному свету  121011614 2014-06-11 12:00:00+00:00   \n",
       "\n",
       "                type                 film_studio production_country  \\\n",
       "2219  Художественный  Вертиго Филмз, АйЭм Глобал     Великобритания   \n",
       "\n",
       "                        director  \\\n",
       "2219  Макс Джива, Дания Пасквини   \n",
       "\n",
       "                                          producer  \\\n",
       "2219  Кэролайн Леви, Эллан Нибло, Джеймс Ричардсон   \n",
       "\n",
       "                      age_restriction  refundable_support  \\\n",
       "2219  «12+» - для детей старше 12 лет                 NaN   \n",
       "\n",
       "      nonrefundable_support  budget financing_source ratings  \\\n",
       "2219                    NaN     NaN              NaN     6.1   \n",
       "\n",
       "                      genres  box_office  \n",
       "2219  мюзикл,драма,мелодрама         0.0  "
      ]
     },
     "execution_count": 15,
     "metadata": {},
     "output_type": "execute_result"
    }
   ],
   "source": [
    "df[\"show_start_date\"] = pd.to_datetime(df[\"show_start_date\"], format = \"%Y-%m-%dT%H:%M:%S\")\n",
    "df.sample(1)"
   ]
  },
  {
   "cell_type": "markdown",
   "metadata": {},
   "source": [
    "Для понимаения как преобразовать столбец \"age_restriction\" нужно посмотреть какие значения встречаются в этом столбце."
   ]
  },
  {
   "cell_type": "code",
   "execution_count": 16,
   "metadata": {},
   "outputs": [
    {
     "data": {
      "text/plain": [
       "«16+» - для детей старше 16 лет           2851\n",
       "«18+» - запрещено для детей               1605\n",
       "«12+» - для детей старше 12 лет           1593\n",
       "«0+» - для любой зрительской аудитории     811\n",
       "«6+» - для детей старше 6 лет              626\n",
       "Name: age_restriction, dtype: int64"
      ]
     },
     "execution_count": 16,
     "metadata": {},
     "output_type": "execute_result"
    }
   ],
   "source": [
    "df['age_restriction'].value_counts()"
   ]
  },
  {
   "cell_type": "markdown",
   "metadata": {},
   "source": [
    "Отлично можно просто создать вспомогательную таблицу с возрастами, а в DF оставить только значение возраста."
   ]
  },
  {
   "cell_type": "code",
   "execution_count": 17,
   "metadata": {},
   "outputs": [],
   "source": [
    "def age_category (age):\n",
    "    if \"18\" in age:\n",
    "        return (18)\n",
    "    if \"16\" in age:\n",
    "        return (16)\n",
    "    if \"12\" in age:\n",
    "        return (12)\n",
    "    if \"6\" in age:\n",
    "        return (6)\n",
    "    if \"0\" in age:\n",
    "        return (0)"
   ]
  },
  {
   "cell_type": "code",
   "execution_count": 18,
   "metadata": {},
   "outputs": [
    {
     "data": {
      "text/html": [
       "<div>\n",
       "<style scoped>\n",
       "    .dataframe tbody tr th:only-of-type {\n",
       "        vertical-align: middle;\n",
       "    }\n",
       "\n",
       "    .dataframe tbody tr th {\n",
       "        vertical-align: top;\n",
       "    }\n",
       "\n",
       "    .dataframe thead th {\n",
       "        text-align: right;\n",
       "    }\n",
       "</style>\n",
       "<table border=\"1\" class=\"dataframe\">\n",
       "  <thead>\n",
       "    <tr style=\"text-align: right;\">\n",
       "      <th></th>\n",
       "      <th>age_restriction</th>\n",
       "      <th>age_category</th>\n",
       "    </tr>\n",
       "  </thead>\n",
       "  <tbody>\n",
       "    <tr>\n",
       "      <th>4</th>\n",
       "      <td>«0+» - для любой зрительской аудитории</td>\n",
       "      <td>0</td>\n",
       "    </tr>\n",
       "    <tr>\n",
       "      <th>1</th>\n",
       "      <td>«6+» - для детей старше 6 лет</td>\n",
       "      <td>6</td>\n",
       "    </tr>\n",
       "    <tr>\n",
       "      <th>2</th>\n",
       "      <td>«12+» - для детей старше 12 лет</td>\n",
       "      <td>12</td>\n",
       "    </tr>\n",
       "    <tr>\n",
       "      <th>3</th>\n",
       "      <td>«16+» - для детей старше 16 лет</td>\n",
       "      <td>16</td>\n",
       "    </tr>\n",
       "    <tr>\n",
       "      <th>0</th>\n",
       "      <td>«18+» - запрещено для детей</td>\n",
       "      <td>18</td>\n",
       "    </tr>\n",
       "  </tbody>\n",
       "</table>\n",
       "</div>"
      ],
      "text/plain": [
       "                          age_restriction  age_category\n",
       "4  «0+» - для любой зрительской аудитории             0\n",
       "1           «6+» - для детей старше 6 лет             6\n",
       "2         «12+» - для детей старше 12 лет            12\n",
       "3         «16+» - для детей старше 16 лет            16\n",
       "0             «18+» - запрещено для детей            18"
      ]
     },
     "metadata": {},
     "output_type": "display_data"
    },
    {
     "data": {
      "text/html": [
       "<div>\n",
       "<style scoped>\n",
       "    .dataframe tbody tr th:only-of-type {\n",
       "        vertical-align: middle;\n",
       "    }\n",
       "\n",
       "    .dataframe tbody tr th {\n",
       "        vertical-align: top;\n",
       "    }\n",
       "\n",
       "    .dataframe thead th {\n",
       "        text-align: right;\n",
       "    }\n",
       "</style>\n",
       "<table border=\"1\" class=\"dataframe\">\n",
       "  <thead>\n",
       "    <tr style=\"text-align: right;\">\n",
       "      <th></th>\n",
       "      <th>title</th>\n",
       "      <th>pu_number</th>\n",
       "      <th>show_start_date</th>\n",
       "      <th>type</th>\n",
       "      <th>film_studio</th>\n",
       "      <th>production_country</th>\n",
       "      <th>director</th>\n",
       "      <th>producer</th>\n",
       "      <th>refundable_support</th>\n",
       "      <th>nonrefundable_support</th>\n",
       "      <th>budget</th>\n",
       "      <th>financing_source</th>\n",
       "      <th>ratings</th>\n",
       "      <th>genres</th>\n",
       "      <th>box_office</th>\n",
       "      <th>age_category</th>\n",
       "    </tr>\n",
       "  </thead>\n",
       "  <tbody>\n",
       "    <tr>\n",
       "      <th>3030</th>\n",
       "      <td>Коммуна</td>\n",
       "      <td>121009216</td>\n",
       "      <td>2016-04-19 12:00:00+00:00</td>\n",
       "      <td>Художественный</td>\n",
       "      <td>Центропа Интертейнментс, Дэнмаркс Радио, Дет Д...</td>\n",
       "      <td>Дания</td>\n",
       "      <td>Томас Винтерберг</td>\n",
       "      <td>Джессика Аск, Мортен Кауфман, Сиссе Граум Олсен</td>\n",
       "      <td>NaN</td>\n",
       "      <td>NaN</td>\n",
       "      <td>NaN</td>\n",
       "      <td>NaN</td>\n",
       "      <td>6.3</td>\n",
       "      <td>драма</td>\n",
       "      <td>885429.5</td>\n",
       "      <td>18</td>\n",
       "    </tr>\n",
       "    <tr>\n",
       "      <th>2408</th>\n",
       "      <td>Соседи. На тропе войны</td>\n",
       "      <td>221026514</td>\n",
       "      <td>2014-07-29 12:00:00+00:00</td>\n",
       "      <td>Художественный</td>\n",
       "      <td>Гуд Юнивёр, Поинт Грей Пикчерз</td>\n",
       "      <td>США</td>\n",
       "      <td>Николас Столлер</td>\n",
       "      <td>Эван Голдберг, Сет Роген, Джеймс Уивер</td>\n",
       "      <td>NaN</td>\n",
       "      <td>NaN</td>\n",
       "      <td>NaN</td>\n",
       "      <td>NaN</td>\n",
       "      <td>5.9</td>\n",
       "      <td>комедия</td>\n",
       "      <td>NaN</td>\n",
       "      <td>18</td>\n",
       "    </tr>\n",
       "    <tr>\n",
       "      <th>3289</th>\n",
       "      <td>Месть от кутюр</td>\n",
       "      <td>121020116</td>\n",
       "      <td>2016-07-01 12:00:00+00:00</td>\n",
       "      <td>Художественный</td>\n",
       "      <td>Скрин Аустралиа, Ингениос Сениор Филм Фонд, Фи...</td>\n",
       "      <td>Австралия</td>\n",
       "      <td>Джослин Мурхаус</td>\n",
       "      <td>Дарил Деллора, Сью Мэслин, Карл Энже</td>\n",
       "      <td>NaN</td>\n",
       "      <td>NaN</td>\n",
       "      <td>NaN</td>\n",
       "      <td>NaN</td>\n",
       "      <td>7.3</td>\n",
       "      <td>драма,комедия</td>\n",
       "      <td>6746190.9</td>\n",
       "      <td>16</td>\n",
       "    </tr>\n",
       "    <tr>\n",
       "      <th>265</th>\n",
       "      <td>Раба любви</td>\n",
       "      <td>111007713</td>\n",
       "      <td>2013-10-18 12:00:00+00:00</td>\n",
       "      <td>Художественный</td>\n",
       "      <td>Киностудия \"Мосфильм\"</td>\n",
       "      <td>СССР</td>\n",
       "      <td>Н.Михалков</td>\n",
       "      <td>NaN</td>\n",
       "      <td>NaN</td>\n",
       "      <td>NaN</td>\n",
       "      <td>NaN</td>\n",
       "      <td>NaN</td>\n",
       "      <td>7.7</td>\n",
       "      <td>драма,мелодрама,комедия</td>\n",
       "      <td>1020.0</td>\n",
       "      <td>12</td>\n",
       "    </tr>\n",
       "    <tr>\n",
       "      <th>674</th>\n",
       "      <td>Игры киллеров</td>\n",
       "      <td>121000212</td>\n",
       "      <td>2012-01-11 12:00:00+00:00</td>\n",
       "      <td>Художественный</td>\n",
       "      <td>Медиапро Студиос, Моушн Пикчер Корпорейшн оф А...</td>\n",
       "      <td>Швейцария</td>\n",
       "      <td>Эрни Барабараш</td>\n",
       "      <td>Джастин Берш, Брэд Кревой, Патрик Ньюэлл</td>\n",
       "      <td>NaN</td>\n",
       "      <td>NaN</td>\n",
       "      <td>NaN</td>\n",
       "      <td>NaN</td>\n",
       "      <td>6.1</td>\n",
       "      <td>боевик,триллер,драма</td>\n",
       "      <td>NaN</td>\n",
       "      <td>18</td>\n",
       "    </tr>\n",
       "  </tbody>\n",
       "</table>\n",
       "</div>"
      ],
      "text/plain": [
       "                       title  pu_number           show_start_date  \\\n",
       "3030                 Коммуна  121009216 2016-04-19 12:00:00+00:00   \n",
       "2408  Соседи. На тропе войны  221026514 2014-07-29 12:00:00+00:00   \n",
       "3289          Месть от кутюр  121020116 2016-07-01 12:00:00+00:00   \n",
       "265               Раба любви  111007713 2013-10-18 12:00:00+00:00   \n",
       "674            Игры киллеров  121000212 2012-01-11 12:00:00+00:00   \n",
       "\n",
       "                type                                        film_studio  \\\n",
       "3030  Художественный  Центропа Интертейнментс, Дэнмаркс Радио, Дет Д...   \n",
       "2408  Художественный                     Гуд Юнивёр, Поинт Грей Пикчерз   \n",
       "3289  Художественный  Скрин Аустралиа, Ингениос Сениор Филм Фонд, Фи...   \n",
       "265   Художественный                              Киностудия \"Мосфильм\"   \n",
       "674   Художественный  Медиапро Студиос, Моушн Пикчер Корпорейшн оф А...   \n",
       "\n",
       "     production_country          director  \\\n",
       "3030              Дания  Томас Винтерберг   \n",
       "2408                США   Николас Столлер   \n",
       "3289          Австралия   Джослин Мурхаус   \n",
       "265                СССР        Н.Михалков   \n",
       "674           Швейцария    Эрни Барабараш   \n",
       "\n",
       "                                             producer  refundable_support  \\\n",
       "3030  Джессика Аск, Мортен Кауфман, Сиссе Граум Олсен                 NaN   \n",
       "2408           Эван Голдберг, Сет Роген, Джеймс Уивер                 NaN   \n",
       "3289             Дарил Деллора, Сью Мэслин, Карл Энже                 NaN   \n",
       "265                                               NaN                 NaN   \n",
       "674          Джастин Берш, Брэд Кревой, Патрик Ньюэлл                 NaN   \n",
       "\n",
       "      nonrefundable_support  budget financing_source ratings  \\\n",
       "3030                    NaN     NaN              NaN     6.3   \n",
       "2408                    NaN     NaN              NaN     5.9   \n",
       "3289                    NaN     NaN              NaN     7.3   \n",
       "265                     NaN     NaN              NaN     7.7   \n",
       "674                     NaN     NaN              NaN     6.1   \n",
       "\n",
       "                       genres  box_office  age_category  \n",
       "3030                    драма    885429.5            18  \n",
       "2408                  комедия         NaN            18  \n",
       "3289            драма,комедия   6746190.9            16  \n",
       "265   драма,мелодрама,комедия      1020.0            12  \n",
       "674      боевик,триллер,драма         NaN            18  "
      ]
     },
     "execution_count": 18,
     "metadata": {},
     "output_type": "execute_result"
    }
   ],
   "source": [
    "df[\"age_category\"] = df[\"age_restriction\"].apply(age_category)\n",
    "age_restriction = df[[\"age_restriction\", \"age_category\"]]\n",
    "age_restriction = age_restriction.drop_duplicates().reset_index(drop=True).sort_values('age_category')\n",
    "df = df.drop(columns = [\"age_restriction\"])\n",
    "display(age_restriction)\n",
    "df.sample(5)"
   ]
  },
  {
   "cell_type": "markdown",
   "metadata": {},
   "source": [
    "Столбцы \"refundable_support\", \"nonrefundable_support\", \"budget\" имеют пропуски и это связано с отсутствием финансирования от государства для данных фильмов. Так что пропуски просто заменяем -1, так будет легче фильтроать.  \"box_office\" так же имеет пропуски просто потому что второй DF был меньше."
   ]
  },
  {
   "cell_type": "code",
   "execution_count": 19,
   "metadata": {},
   "outputs": [],
   "source": [
    "for column in [\"refundable_support\", \"nonrefundable_support\", \"budget\",\"box_office\"]:\n",
    "    df[column] = df[column].fillna(-1).astype(int)"
   ]
  },
  {
   "cell_type": "markdown",
   "metadata": {},
   "source": [
    "Теперь займемся рейтингом. Также в столбце с рейтингом присутствуют пропуски, их небольшое количество, поэтому заменим значения на 0"
   ]
  },
  {
   "cell_type": "code",
   "execution_count": 20,
   "metadata": {},
   "outputs": [],
   "source": [
    "def rating (mean):\n",
    "    try:\n",
    "        if \"%\" in mean:\n",
    "            return (mean[0:len(mean)-1])\n",
    "        if \".\" in mean:\n",
    "            return (mean[0:len(mean)-2]+mean[-1])\n",
    "    except:\n",
    "        return mean\n",
    "df[\"ratings_new\"] = df[\"ratings\"].apply(rating)\n",
    "df = df.drop(columns = [\"ratings\"])"
   ]
  },
  {
   "cell_type": "code",
   "execution_count": 21,
   "metadata": {},
   "outputs": [
    {
     "name": "stdout",
     "output_type": "stream",
     "text": [
      "<class 'pandas.core.frame.DataFrame'>\n",
      "Int64Index: 7486 entries, 0 to 7485\n",
      "Data columns (total 16 columns):\n",
      " #   Column                 Non-Null Count  Dtype              \n",
      "---  ------                 --------------  -----              \n",
      " 0   title                  7486 non-null   object             \n",
      " 1   pu_number              7486 non-null   int32              \n",
      " 2   show_start_date        7486 non-null   datetime64[ns, UTC]\n",
      " 3   type                   7486 non-null   object             \n",
      " 4   film_studio            7468 non-null   object             \n",
      " 5   production_country     7484 non-null   object             \n",
      " 6   director               7477 non-null   object             \n",
      " 7   producer               6918 non-null   object             \n",
      " 8   refundable_support     7486 non-null   int32              \n",
      " 9   nonrefundable_support  7486 non-null   int32              \n",
      " 10  budget                 7486 non-null   int32              \n",
      " 11  financing_source       332 non-null    object             \n",
      " 12  genres                 6510 non-null   object             \n",
      " 13  box_office             7486 non-null   int32              \n",
      " 14  age_category           7486 non-null   int64              \n",
      " 15  ratings_new            7486 non-null   int32              \n",
      "dtypes: datetime64[ns, UTC](1), int32(6), int64(1), object(8)\n",
      "memory usage: 818.8+ KB\n"
     ]
    }
   ],
   "source": [
    "df[\"ratings_new\"] = df[\"ratings_new\"].fillna(0).astype(int)\n",
    "df.info()"
   ]
  },
  {
   "cell_type": "markdown",
   "metadata": {
    "id": "8MJD_lkngFyP"
   },
   "source": [
    "Типы столбцов исправлены, теперь можно заняться пропусками.\n",
    "Часть пропусков исправили еще на этапе изменения типов.\n",
    "\n",
    "По большому счету пропуски у нас остались только в категориальных значениях. \n",
    "\"film_studio\", \"production_country\", \"director\",\"producer\",\"genres\" тут уже пропуски из-за отсутствия информации, либо отсутствия режиссера, студии и тд. поэтому заменим значения просто на unknown. \n",
    "\n",
    "\"financing_source\" тут пропуски из-за отсутствия финансирования, поэтому пропуски заменим на nonsupport\n"
   ]
  },
  {
   "cell_type": "code",
   "execution_count": 22,
   "metadata": {},
   "outputs": [
    {
     "data": {
      "text/plain": [
       "title                    0.0\n",
       "pu_number                0.0\n",
       "show_start_date          0.0\n",
       "type                     0.0\n",
       "film_studio              0.0\n",
       "production_country       0.0\n",
       "director                 0.0\n",
       "producer                 0.0\n",
       "refundable_support       0.0\n",
       "nonrefundable_support    0.0\n",
       "budget                   0.0\n",
       "financing_source         0.0\n",
       "genres                   0.0\n",
       "box_office               0.0\n",
       "age_category             0.0\n",
       "ratings_new              0.0\n",
       "dtype: float64"
      ]
     },
     "metadata": {},
     "output_type": "display_data"
    },
    {
     "name": "stdout",
     "output_type": "stream",
     "text": [
      "<class 'pandas.core.frame.DataFrame'>\n",
      "Int64Index: 7486 entries, 0 to 7485\n",
      "Data columns (total 16 columns):\n",
      " #   Column                 Non-Null Count  Dtype              \n",
      "---  ------                 --------------  -----              \n",
      " 0   title                  7486 non-null   object             \n",
      " 1   pu_number              7486 non-null   int32              \n",
      " 2   show_start_date        7486 non-null   datetime64[ns, UTC]\n",
      " 3   type                   7486 non-null   object             \n",
      " 4   film_studio            7486 non-null   object             \n",
      " 5   production_country     7486 non-null   object             \n",
      " 6   director               7486 non-null   object             \n",
      " 7   producer               7486 non-null   object             \n",
      " 8   refundable_support     7486 non-null   int32              \n",
      " 9   nonrefundable_support  7486 non-null   int32              \n",
      " 10  budget                 7486 non-null   int32              \n",
      " 11  financing_source       7486 non-null   object             \n",
      " 12  genres                 7486 non-null   object             \n",
      " 13  box_office             7486 non-null   int32              \n",
      " 14  age_category           7486 non-null   int64              \n",
      " 15  ratings_new            7486 non-null   int32              \n",
      "dtypes: datetime64[ns, UTC](1), int32(6), int64(1), object(8)\n",
      "memory usage: 818.8+ KB\n"
     ]
    }
   ],
   "source": [
    "for column in [\"producer\",\"genres\",\"film_studio\",\"director\", \"production_country\"]:\n",
    "    df[column] = df[column].fillna(\"unknown\")\n",
    "df[\"financing_source\"] = df[\"financing_source\"].fillna(\"nonsupport\")\n",
    "display(df.isna().mean())\n",
    "df.info()"
   ]
  },
  {
   "cell_type": "markdown",
   "metadata": {},
   "source": [
    "##### Вывод"
   ]
  },
  {
   "cell_type": "markdown",
   "metadata": {},
   "source": [
    "Таблица полностью подготовленна к дальнейшей предобрботке. Были изменены типы столбцов и убраны все пропуски."
   ]
  },
  {
   "cell_type": "markdown",
   "metadata": {
    "id": "4c6k1t9ygFyQ"
   },
   "source": [
    "#### Шаг 2.2. Изучите дубликаты в датафрейме\n",
    "- Проверьте, есть ли в данных дубликаты. Опишите причины, которые могли повлиять на появление дублей."
   ]
  },
  {
   "cell_type": "code",
   "execution_count": 23,
   "metadata": {
    "id": "aKck8RIdgFyQ"
   },
   "outputs": [
    {
     "data": {
      "text/plain": [
       "0"
      ]
     },
     "execution_count": 23,
     "metadata": {},
     "output_type": "execute_result"
    }
   ],
   "source": [
    "df.duplicated().sum()"
   ]
  },
  {
   "cell_type": "markdown",
   "metadata": {},
   "source": [
    "Явных дубликатов нет, нужно теперь смотреть на не явные.\n",
    "\n",
    "Не явные дубликаты могут быть в следущий столбцах:\n",
    "- title\n",
    "- type\n",
    "- film_studio\n",
    "- production_country\n",
    "- director\n",
    "- producer\n",
    "- financing_source\n",
    "- genres"
   ]
  },
  {
   "cell_type": "code",
   "execution_count": 24,
   "metadata": {},
   "outputs": [
    {
     "data": {
      "text/plain": [
       "'title'"
      ]
     },
     "metadata": {},
     "output_type": "display_data"
    },
    {
     "data": {
      "text/plain": [
       "array([' Я ПРЕПОД', '\"SOS\" над тайгой', '\"V\" значит вендетта', ...,\n",
       "       'Ярость / Fury',\n",
       "       'альманах документальных фильмов \"Вокзалы России: История, Любовь и Великие тайны…\" Фильм первый \"ВОКЗАЛЫ РОССИИ СВЯЗЬ ВРЕМЕН\"',\n",
       "       'сНежное шоу'], dtype=object)"
      ]
     },
     "metadata": {},
     "output_type": "display_data"
    },
    {
     "data": {
      "text/plain": [
       "'type'"
      ]
     },
     "metadata": {},
     "output_type": "display_data"
    },
    {
     "data": {
      "text/plain": [
       "array([' Анимационный', ' Художественный', 'Анимационный',\n",
       "       'Документальный', 'Музыкально-развлекательный',\n",
       "       'Научно-популярный', 'Прочие', 'Художественный'], dtype=object)"
      ]
     },
     "metadata": {},
     "output_type": "display_data"
    },
    {
     "data": {
      "text/plain": [
       "'film_studio'"
      ]
     },
     "metadata": {},
     "output_type": "display_data"
    },
    {
     "data": {
      "text/plain": [
       "array([' АНО \"Кинофорум\"',\n",
       "       ' Ауматик Интертейнмент, Блюмхаус Продакшнз и др.',\n",
       "       ' ЗАО \"Кинокомпания ФаворитФильм\" по заказу ООО \"ФАВОРИТ МЕДИА\"',\n",
       "       ...,\n",
       "       'ристалл Сити Интертейнмент, Эксклюзив Медиа Групп, Хоуп Таун Интертейнмент, Каппа Андерковар Пикчерз, Скарлет Файр Интертейнмент',\n",
       "       'совместное производство Киностудия \"Мосфильм\", \"Космос-филм\" (Франция), \"Посейдон Продакшинз Лимитед\" (Англия), \"ИКАИК\" (Куба), ДЕФА (ГДР)',\n",
       "       'юФилм, Твинпикс'], dtype=object)"
      ]
     },
     "metadata": {},
     "output_type": "display_data"
    },
    {
     "data": {
      "text/plain": [
       "'production_country'"
      ]
     },
     "metadata": {},
     "output_type": "display_data"
    },
    {
     "data": {
      "text/plain": [
       "array([' СССР', ' СССР ', ' СССР   ', '2019', 'CША', 'unknown',\n",
       "       'Австралия', 'Австралия - Великобритания - Бельгия - Индия',\n",
       "       'Австралия - Германия', 'Австралия - Ирландия',\n",
       "       'Австралия - Колумбия', 'Австралия - США', 'Австралия, Канада',\n",
       "       'Австралия, США', 'Австралия-Великобритания', 'Австралия-Ирландия',\n",
       "       'Австралия-США', 'Австралия-Турция-США', 'Австрия',\n",
       "       'Австрия - Германия', 'Австрия - Германия - Франция',\n",
       "       'Австрия - Люксембург', 'Австрия, Великобритания, Германия',\n",
       "       'Австрия-Германия-Франция', 'Австрия-Франция-Германия',\n",
       "       'Азербайджан-Россия', 'Аргентина', 'Аргентина - Бразилия',\n",
       "       'Аргентина - Испания', 'Аргентина - Испания - Уругвай',\n",
       "       'Аргентина - Мексика - Бразилия - Франция - США',\n",
       "       'Аргентина - Уругвай - Россия - Германия - Франция - Нидерланды',\n",
       "       'Аргентина - Франция - Испания', 'Аргентина, Испания',\n",
       "       'Аргентина-Испания', 'Армения', 'Армения - Германия',\n",
       "       'Армения - Казахстан', 'Армения-Россия', 'Бельгия',\n",
       "       'Бельгия - Германия - Люксембург',\n",
       "       'Бельгия - Германия - Люксембург - Франция',\n",
       "       'Бельгия - Испания - Канада - Нидерланды',\n",
       "       'Бельгия - Италия - Франция ', 'Бельгия - Люксембург',\n",
       "       'Бельгия - Люксембург - Франция - Швейцария',\n",
       "       'Бельгия - Нидерланды - Франция', 'Бельгия - США',\n",
       "       'Бельгия - Франция', 'Бельгия - Франция - Люксембург',\n",
       "       'Бельгия, Великобритания, США', 'Бельгия, Канада',\n",
       "       'Бельгия-Германия-Канада-Франция-США-Великобритания',\n",
       "       'Бельгия-Нидерланды', 'Бельгия-Франция', 'Бельгия-Франция-Италия',\n",
       "       'Болгария', 'Болгария - США', 'Болгария - Франция - Изриль',\n",
       "       'Босния и Герцеговина - Франция - Великобритания - Германия - Словения - Бельгия - Сербия',\n",
       "       'Бразилия', 'Бразилия - Германия - Порртугалия - Франция ',\n",
       "       'Бразилия - Испания', 'Бразилия - К;анада',\n",
       "       'Бразилия - Канада - США', 'Бразилия - Португалия - Франция',\n",
       "       'Бразилия - США', 'Бразилия - США - КНР ',\n",
       "       'Бразилия, Уругвай, Дания, Норвегия, Чили, Швеция',\n",
       "       'Великобритания', 'Великобритания ',\n",
       "       'Великобритания - Австралия - США',\n",
       "       'Великобритания - Австрия - Германия',\n",
       "       'Великобритания - Австрия - Франция - США',\n",
       "       'Великобритания - Аргентина - США - Франция - Россия - Испания',\n",
       "       'Великобритания - Германия',\n",
       "       'Великобритания - Германия - Нидерланды - Дания',\n",
       "       'Великобритания - Германия - США',\n",
       "       'Великобритания - Германия - Франция - Кипр - США',\n",
       "       'Великобритания - Гонконг - Венгрия - США - Ирландия',\n",
       "       'Великобритания - Дания', 'Великобритания - Израиль',\n",
       "       'Великобритания - Израиль - Франция - Япония - США',\n",
       "       'Великобритания - Ирландия', 'Великобритания - Ирландия - США',\n",
       "       'Великобритания - Ирландия - США ',\n",
       "       'Великобритания - Исландия - Испания - Швейцария - США',\n",
       "       'Великобритания - Испания', 'Великобритания - Испания - Германия',\n",
       "       'Великобритания - Испания - Италия - Латвия - Франция - Эстония',\n",
       "       'Великобритания - Испания - Непал - Индия - Венгрия - Гонконг - Германия - Дания - Бахрейн',\n",
       "       'Великобритания - Италия', 'Великобритания - Италия - Испания',\n",
       "       'Великобритания - Италия - Швейцария', 'Великобритания - КНР',\n",
       "       'Великобритания - Канада', 'Великобритания - Канада - США',\n",
       "       'Великобритания - Люксембург', 'Великобритания - Мексика - США',\n",
       "       'Великобритания - Нидерланды - Германия - Франция - Бельгия - Австрия ',\n",
       "       'Великобритания - Нидерланды - Франция - США',\n",
       "       'Великобритания - Нидерланды - Франция - Хорватия',\n",
       "       'Великобритания - Новая Зеландия',\n",
       "       'Великобритания - Норвегия - Дания - Германия',\n",
       "       'Великобритания - Норвегия - Кения - Хорватия',\n",
       "       'Великобритания - Польша',\n",
       "       'Великобритания - Польша - КНР - Индия - Норвегия',\n",
       "       'Великобритания - Пуэрто-Рико', 'Великобритания - Россия - КНР',\n",
       "       'Великобритания - Россия - Украина - США',\n",
       "       'Великобритания - Румыния', 'Великобритания - США',\n",
       "       'Великобритания - США - Австралия - Ирландия - Германия - Куба - Канада',\n",
       "       'Великобритания - США - Германия',\n",
       "       'Великобритания - США - Германия - Бельгия',\n",
       "       'Великобритания - США - Германия - Канада - Австралия',\n",
       "       'Великобритания - США - Индия', 'Великобритания - США - Канада',\n",
       "       'Великобритания - США - Канада - Бельгия - Нидерланды - Австрия - Германия',\n",
       "       'Великобритания - США - Канада - Нидерланды - Франция',\n",
       "       'Великобритания - США - Россия', 'Великобритания - США - Франция',\n",
       "       'Великобритания - США - Швейцария', 'Великобритания - Франция',\n",
       "       'Великобритания - Франция - Австрия - Швеция',\n",
       "       'Великобритания - Франция - Бельгия',\n",
       "       'Великобритания - Франция - Бельгия - Италия',\n",
       "       'Великобритания - Франция - Бельгия - США',\n",
       "       'Великобритания - Франция - Венгрия',\n",
       "       'Великобритания - Франция - Германия',\n",
       "       'Великобритания - Франция - Германия - США',\n",
       "       'Великобритания - Франция - Италия',\n",
       "       'Великобритания - Франция - Италия - Индия - Дания - КНР - Бангладеш - Камбоджа - Гаити - Уганда',\n",
       "       'Великобритания - Франция - Италия - США',\n",
       "       'Великобритания - Франция - Республика Кипр - Швейцария - США - Сербия',\n",
       "       'Великобритания - Франция - США',\n",
       "       'Великобритания - Франция - Швеция - Бельгия',\n",
       "       'Великобритания - Чехия - Франция',\n",
       "       'Великобритания - Чехия - Франция - Италия',\n",
       "       'Великобритания - ЮАР', 'Великобритания - Япония - США',\n",
       "       'Великобритания, Австралия',\n",
       "       'Великобритания, Германия, Дания, США', 'Великобритания, Канада',\n",
       "       'Великобритания, Канада, США',\n",
       "       'Великобритания, Нидерланды, Польша, Швейцария, Франция',\n",
       "       'Великобритания, Новая Зеландия', 'Великобритания, США',\n",
       "       'Великобритания, США, Испания', 'Великобритания, Франция',\n",
       "       'Великобритания, Франция, Бельгия', 'Великобритания, Швеция, США',\n",
       "       'Великобритания, Южная Корея, Канада, США, Индия, Китай, Япония',\n",
       "       'Великобритания, Япония, США', 'Великобритания-Австралия - США',\n",
       "       'Великобритания-Венгрия', 'Великобритания-Германия-Канада-ЮАР',\n",
       "       'Великобритания-США', 'Великобритания-США-Германия-КНР',\n",
       "       'Великобритания-США-Франция', 'Великобритания-Франция',\n",
       "       'Великобритания-Франция-Германия', 'Великобритания-Франция-Италия',\n",
       "       'Венгрия', 'Венгрия - Германия - Швеция', 'Венесуэла', 'Германия',\n",
       "       'Германия - Австралия', 'Германия - Австрия',\n",
       "       'Германия - Австрия - Ирландия', 'Германия - Австрия - Франция',\n",
       "       'Германия - Аргентина - Нидерланды - Чили', 'Германия - Бельгия',\n",
       "       'Германия - Бельгия - Великобритания',\n",
       "       'Германия - Бельгия - Люксембург - Ирландия',\n",
       "       'Германия - Бельгия - Люксембург - Норвегия',\n",
       "       'Германия - Бельгия - США -Франция', 'Германия - Великобритания',\n",
       "       'Германия - Великобритания - Австрия',\n",
       "       'Германия - Великобритания - Италия - Испания',\n",
       "       'Германия - Великобритания - США',\n",
       "       'Германия - Дания - Испания - Швеция - Канада - Эстония - Франция',\n",
       "       'Германия - Дания - Норвегия', 'Германия - Исландия',\n",
       "       'Германия - Италия', 'Германия - Италия - США',\n",
       "       'Германия - Италия - Франция', 'Германия - Канада',\n",
       "       'Германия - Китай', 'Германия - Люксембург - Бельгия',\n",
       "       'Германия - Люксембург - Дания', 'Германия - Люксембург - Франция',\n",
       "       'Германия - Нидерланды - Беларусь - Россия - Латвия',\n",
       "       'Германия - Нидерланды - ЮАР', 'Германия - Россия',\n",
       "       'Германия - США', 'Германия - США - Великобритания - Израиль',\n",
       "       'Германия - США - Великобритания - Ирландия',\n",
       "       'Германия - США - Франция - Испания',\n",
       "       'Германия - США - Швеция - Франция',\n",
       "       'Германия - Финляндия - Австралия', 'Германия - Франция',\n",
       "       'Германия - Франция -  Польша - Турция - Канада - Италия - Россия ',\n",
       "       'Германия - Франция - Австрия', 'Германия - Франция - Бельгия',\n",
       "       'Германия - Франция - Великобритания - Польша - США',\n",
       "       'Германия - Франция - Канада', 'Германия - Франция - Люксембург',\n",
       "       'Германия - Франция - Польша', 'Германия - Швейцария',\n",
       "       'Германия - Швейцария - Франция - Южная Корея - США',\n",
       "       'Германия, Австралия', 'Германия, Бельгия', 'Германия, Россия',\n",
       "       'Германия, США', 'Германия, Франция',\n",
       "       'Германия, Франция, Великобритания', 'Германия, Франция, США',\n",
       "       'Германия-Австрия', 'Германия-Австрия-Франция-Италия',\n",
       "       'Германия-Великобритания', 'Германия-Израиль',\n",
       "       'Германия-Италия- Шри-Ланка', 'Германия-Италия-Швейцария',\n",
       "       'Германия-Канада-Великобритания-Швейцария-Франция',\n",
       "       'Германия-Канада-Франция-Бельгия', 'Германия-Кения',\n",
       "       'Германия-США', 'Германия-Украина-Нидерланды',\n",
       "       'Германия-Франция-Великобритания',\n",
       "       'Германия-Франция-Великобритания-США', 'Германия-Франция-Польша',\n",
       "       'Германия-Швеция', 'Голландия', 'Гонконг', 'Гонконг - КНР',\n",
       "       'Гонконг - Сингапур - Таиланд - Великобритания', 'Гонконг, КНР',\n",
       "       'Греция', 'Греция - Германия - Франция', 'Греция - Россия',\n",
       "       'Грузия', 'Грузия - Россия - Украина - Хорватия - Германия',\n",
       "       'Грузия - Украина', 'Грузия - Франция - Люксембург',\n",
       "       'Грузия-Россия', 'Грузия-Франция', 'Дания',\n",
       "       'Дания - Австрия - Ирландия - Финляндия - Норвегия - Швеция - Нидерланды',\n",
       "       'Дания - Великобритания - ЮАР', 'Дания - Германия',\n",
       "       'Дания - Германия - Швеция', 'Дания - Исландия',\n",
       "       'Дания - Канада - Швеция - Франция - Германия - Великобритания - США',\n",
       "       'Дания - Латвия - Россия - США',\n",
       "       'Дания - Норвегия - Великобритания', 'Дания - США',\n",
       "       'Дания - Франция - Германия - Швеция',\n",
       "       'Дания - Франция - Италия - Бельгия - Нидерланды',\n",
       "       'Дания - Швейцария - Бельгия - Франция', 'Дания - Швеция',\n",
       "       'Дания - Швеция - Великобритания - Франция - Германия - Нидерланды - Норвегия - Финляндия',\n",
       "       'Дания - Швеция - Италия - Франция - Германия',\n",
       "       'Дания, Канада, Норвегия, Австралия, США',\n",
       "       'Дания, Норвегия, Венгрия, Чехия',\n",
       "       'Дания, Норвегия, Швеция, Исландия',\n",
       "       'Дания, Швеция, Великобритания, Франция, Германия, Норвегия, Финляндия, Нидерланды, Италия',\n",
       "       'Дания-Франция-Бельгия-Германия-Великобритания',\n",
       "       'Дания-Швеция-Франция-Германия', 'Израиль',\n",
       "       'Израиль - Германия - Польша - Бельгия - Франция - Люксембург',\n",
       "       'Израиль - Германия - Франция - Швейцария', 'Израиль - Франция',\n",
       "       'Израиль - Франция - Великобритания - Германия',\n",
       "       'Израиль - Франция - Германия - Палестина - США - Австрия - Великобритания',\n",
       "       'Израиль, Украина', 'Израиль-США-Франция', 'Индия',\n",
       "       'Индия - Великобритания', 'Индия - КНР', 'Индия - Мексика',\n",
       "       'Индия - США', 'Индонезия', 'Иран', 'Иран ', 'Иран, Франция',\n",
       "       'Ирландия', 'Ирландия - Великобритания - Канада',\n",
       "       'Ирландия - Великобритания - США',\n",
       "       'Ирландия - Великобритания - Франция - США',\n",
       "       'Ирландия - Великобритания - Франция - США - Германия - Нидерланды',\n",
       "       'Ирландия - Дания - Бельгия - Люксембург - Франция',\n",
       "       'Ирландия - США',\n",
       "       'Ирландия - Финляндия - Бельгия - Великобритания - США - Швейцария',\n",
       "       'Ирландия, Великобритания', 'Ирландия, Канада',\n",
       "       'Ирландия-Великобритания', 'Ирландия-Великобритания-Германия',\n",
       "       'Ирландия-Нидерланды-Франция-США-Великобритания', 'Исландия',\n",
       "       'Исландия - Финляндия', 'Исландия, Бельгия',\n",
       "       'Исландия-Ирландия-Германия', 'Испания', 'Испания - Аргентина',\n",
       "       'Испания - Аргентина - Индия - США',\n",
       "       'Испания - Бельгия - Франция - Португалия - Великобритания',\n",
       "       'Испания - Болгария - США', 'Испания - Великобритания - Франция',\n",
       "       'Испания - Германия - Нидерланды', 'Испания - Италия - Франция',\n",
       "       'Испания - Канада', 'Испания - Канада - Япония', 'Испания - Куба',\n",
       "       'Испания - Мальта', 'Испания - Мексика', 'Испания - США',\n",
       "       'Испания - США - Великобритания - Канада',\n",
       "       'Испания - США - Колумбия', 'Испания - Уругвай - Аргентина',\n",
       "       'Испания - Франция',\n",
       "       'Испания - Франция - Нидерланды - Германия - Бельгия - Великобритания - Канада',\n",
       "       'Испания - Франция - США - Великобритания - Бельгия',\n",
       "       'Испания - Швейцария - Великобритания - Германия - Новая Зеландия - Нидерланды - Канада',\n",
       "       'Испания, Ирландия, Бельгия, Франция',\n",
       "       'Испания, Франция, Великобритания, Дания, Бельгия, Германия',\n",
       "       'Испания, Франция, Италия', 'Испания-Аргентина', 'Испания-Канада',\n",
       "       'Испания-Колумбия', 'Испания-Мексика',\n",
       "       'Испания-Франция-Греция-Индия-США-Россия-Великобритания', 'Италия',\n",
       "       'Италия ', 'Италия - Аргентина - Словения ',\n",
       "       'Италия - Бельгия - Франция', 'Италия - Канада', 'Италия - Россия',\n",
       "       'Италия - США', 'Италия - Франция', 'Италия - Франция - Германия',\n",
       "       'Италия - Франция - Швейцария',\n",
       "       'Италия - Франция - Швейцария - Великобритания',\n",
       "       'Италия - Фрация - Бразилия - Германия',\n",
       "       'Италия - Швейцария - Германия', 'Италия, Германия',\n",
       "       'Италия, Испания', 'Италия, Франция', 'Италия, Франция, Германия',\n",
       "       'Италия-Великобритания', 'Италия-США', 'Италия-Франция',\n",
       "       'Италия-Франция-Великобритания', 'Италия-Швейцария',\n",
       "       'Италия-Швейцария-Франция-Германия ', 'КНР', 'КНР - Гонконг',\n",
       "       'КНР - Гонконг - США', 'КНР - Канада - США', 'КНР - США',\n",
       "       'КНР - США ', 'КНР - Сингапур', 'КНР - Франция',\n",
       "       'КНР, Индия, Гонконг, США', 'КНР, США', 'КНР-США', 'Казахстан',\n",
       "       'Канада', 'Канада - Германия', 'Канада - Испания',\n",
       "       'Канада - Италия', 'Канада - КНР', 'Канада - Мексика',\n",
       "       'Канада - Норвегия', 'Канада - США',\n",
       "       'Канада - США - Германия - Франция',\n",
       "       'Канада - США - Нидерланды - Великобритания - Аргентина',\n",
       "       'Канада - Франция', 'Канада - Франция - Великобритания',\n",
       "       'Канада - Франция - Испания',\n",
       "       'Канада - Франция - США - ОАЭ - Великобритания',\n",
       "       'Канада - Южная Корея', 'Канада, Великобритания', 'Канада, США',\n",
       "       'Канада, США, Каймановы острова', 'Канада, США, Норвегия',\n",
       "       'Канада, Франция, Италия, Швейцария, США', 'Канада- Испания',\n",
       "       'Канада-Бразилия-Япония', 'Канада-Великобритания',\n",
       "       'Канада-Германия', 'Канада-США', 'Канада-Франция', 'Канада-ЮАР',\n",
       "       'Канада-Южная Корея-США', 'Кения, Германия', 'Киргизия',\n",
       "       'Киргизия-Россия', 'Китай', 'Китай - Гонконг',\n",
       "       'Китай, Канада, США', 'Китай, США', 'Китай-Гонконг',\n",
       "       'Китай-Гонконг-США', 'Княжество Андорра - Украина', 'Колумбия',\n",
       "       'Колумбия - США', 'Корея', 'Латвия - Россия', 'Латвия - Франция',\n",
       "       'Ливан-США', 'Литва - Венгрия', 'Литва-Россия-Украина',\n",
       "       'Люксембург - Бельгия - Франция',\n",
       "       'Люксембург - Нидерланды - Испания - Великобритания - США - Италия',\n",
       "       'Македония - Франция - Великобритания', 'Малайзия',\n",
       "       'Малайзия - США', 'Мексика',\n",
       "       'Мексика - Аргентина - Великобритания', 'Мексика - Испания',\n",
       "       'Мексика - Испания - Дания - США',\n",
       "       'Мексика - Нидерланды - Германия - Франция', 'Мексика - США',\n",
       "       'Мексика - Тайвань - США', 'Мексика - Франция',\n",
       "       'Мексика - Франция - Нидерланды - Германия', 'Мексика - Чили',\n",
       "       'Мексика - Эквадор - Канада - США - Франция - Малайзия - Италия - Аргентина - Германия - Индия  ',\n",
       "       'Мексика, Франция, Германия, Дания, Швеция', 'Мексика-Аргентина',\n",
       "       'Монголия', 'Нидерланды', 'Нидерланды - Бельгия - Болгария',\n",
       "       'Нидерланды - Бельгия - Германия - Ирландия',\n",
       "       'Нидерланды - Бельгия - Люксембург',\n",
       "       'Нидерланды - Великобритания - Бельгия', 'Нидерланды - Россия',\n",
       "       'Нидерланды - Россия - Германия',\n",
       "       'Нидерланды - США - Германия - Канада - Франция - Ирландия - Великобритания',\n",
       "       'Нидерланды - Франция - Германия - Бельгия - Швеция - Великобритания',\n",
       "       'Нидерланды, Бельгия', 'Нидерланды, Бельгия, Люксембург',\n",
       "       'Нидерланды-Великобритания-Франция-Италия-Япония',\n",
       "       'Новая Зеландия', 'Новая Зеландия - КНР', 'Новая Зеландия - США',\n",
       "       'Норвегия',\n",
       "       'Норвегия - Азербайджан - Россия - Колумбия - Великобритания - Венгрия - Румыния - Франция - Грузия',\n",
       "       'Норвегия - Дания - Швеция',\n",
       "       'Норвегия - Исландия - США - Великобритания ',\n",
       "       'Норвегия - Нидерланды', 'Норвегия - США', 'Норвегия - Швеция',\n",
       "       'Норвегия - Швеция - Дания - Германия',\n",
       "       'Норвегия - Швеция - Россия', 'Норвегия, Швеция, Дания',\n",
       "       'Норвения', 'ОАЭ - США', 'Пакистан', 'Парагвай', 'Перу', 'Польша',\n",
       "       'Польша - Ирландия', 'Польша - Италия - Россия',\n",
       "       'Польша - Португалия - Франция - Великобритания',\n",
       "       'Польша - Франция', 'Польша - Франция - Великобритания',\n",
       "       'Польша - Франция - Испания - Бразилия - Швеция', 'Португалия',\n",
       "       'Португалия - Франция', 'Португалия, Франция, Польша, США',\n",
       "       'Пуэрто-Рико, Великобритания, США', 'Республика Армения',\n",
       "       'Республика Беларусь',\n",
       "       'Республика Беларусь, Германия, США, Россия',\n",
       "       'Республика Казахстан', 'Республика Кипр',\n",
       "       'Республика Кипр - Россия', 'Республика Кипр, Россия',\n",
       "       'Республика Кипр, США, Россия', 'Республика Кипр-Россия',\n",
       "       'Республика Корея', 'Республика Узбекистан', 'Россия',\n",
       "       'Россия - Азербайджан', 'Россия - Болгария', 'Россия - Германия',\n",
       "       'Россия - Германия - Украина', 'Россия - Германия - Швейцария',\n",
       "       'Россия - Грузия', 'Россия - Италия', 'Россия - Казахстан',\n",
       "       'Россия - Польша', 'Россия - Республика Кипр', 'Россия - США',\n",
       "       'Россия - Франция - Великобритания - Латвия',\n",
       "       'Россия - Эстония - Финляндия - Беларусь', 'Россия,  Испания',\n",
       "       'Россия, Австрия', 'Россия, Армения', 'Россия, Бельгия, Финляндия',\n",
       "       'Россия, Германия', 'Россия, Германия, Великобритания',\n",
       "       'Россия, Германия, Казахстан, Польша, Китай',\n",
       "       'Россия, Германия, Франция, Бельгия', 'Россия, Грузия, Испания',\n",
       "       'Россия, Грузия, Хорватия, Испания', 'Россия, Испания',\n",
       "       'Россия, Италия', 'Россия, Казахстан, США',\n",
       "       'Россия, Латвия, Чешская Республика',\n",
       "       'Россия, Нидерланды, Финляндия', 'Россия, Польша, Финляндия',\n",
       "       'Россия, Республика Беларусь', 'Россия, Республика Кипр',\n",
       "       'Россия, Румыния', 'Россия, Сербия', 'Россия, Таджикистан',\n",
       "       'Россия, Украина', 'Россия, Украина, Польша',\n",
       "       'Россия, Украина, Республика Беларусь, Литва',\n",
       "       'Россия, Франция, Германия, Бельгия', 'Россия, Франция, Латвия',\n",
       "       'Россия-Азербайджан', 'Россия-Беларусь', 'Россия-Белоруссия',\n",
       "       'Россия-Германия', 'Россия-Ирландия', 'Россия-Италия',\n",
       "       'Россия-Казахстан', 'Россия-Кипр', 'Россия-Китай', 'Россия-Польша',\n",
       "       'Россия-Польша-Голландия-Словакия', 'Россия-США',\n",
       "       'Россия-США-Канада-Люксембург', 'Россия-Словакия-Чехия',\n",
       "       'Россия-Украина', 'Россия-Украина-Германия', 'Россия-Франция',\n",
       "       'Румыния', 'Румыния - Франция - Бельгия',\n",
       "       'Румыния, ЮАР, Иран, Франция, Канада, Великобритания',\n",
       "       'Румыния-США', 'СССР', 'СССР ', 'СССР  ', 'СССР   ', 'СССР    ',\n",
       "       'СССР     ', 'СССР - ГДР - Польша - Италия', 'СССР - Италия',\n",
       "       'СССР - Швейцария - Франция', 'СССР, Албания', 'СССР, Афганистан',\n",
       "       'СССР, ВНР', 'СССР, Венгрия', 'СССР, Венгрия, ЧССР, ГДР',\n",
       "       'СССР, ГДР', 'СССР, Италия', 'СССР, Монголия', 'СССР, Польша',\n",
       "       'СССР, Россия', 'СССР, Румыния, Франция', 'СССР, ФРГ',\n",
       "       'СССР, ФРГ, Западный Берлин', 'СССР, Финляндия',\n",
       "       'СССР, Франция, Англия, Куба, ГДР',\n",
       "       'СССР, ЧССР, Западный Берлин, ПНР', 'СССР, Швеция', 'США', 'США ',\n",
       "       'США - Австралия', 'США - Австралия - Дания',\n",
       "       'США - Австралия - Индия', 'США - Австралия - Мексика',\n",
       "       'США - Австралия - Новая Зеландия - Великобритания',\n",
       "       'США - Австралия - Франция', 'США - Бельгия',\n",
       "       'США - Бельгия - Великобритания', 'США - Болгария - Мексика',\n",
       "       'США - Бразилия - Великобритания - Канада',\n",
       "       'США - Бразилия - Франция - Австралия - Великобритания - Германия',\n",
       "       'США - Великобритания', 'США - Великобритания ',\n",
       "       'США - Великобритания - Австралия',\n",
       "       'США - Великобритания - Болгария',\n",
       "       'США - Великобритания - Германия',\n",
       "       'США - Великобритания - Германия - - Швеция - Канада',\n",
       "       'США - Великобритания - Германия - Бельгия - Дания',\n",
       "       'США - Великобритания - Германия - Новая Зеландия - Бельгия - Франция',\n",
       "       'США - Великобритания - Ирландия',\n",
       "       'США - Великобритания - Исландия',\n",
       "       'США - Великобритания - Испания',\n",
       "       'США - Великобритания - Италия - Израиль - Сербия - Индия',\n",
       "       'США - Великобритания - КНР', 'США - Великобритания - Канада',\n",
       "       'США - Великобритания - Канада - КНР',\n",
       "       'США - Великобритания - Канада - Швеция',\n",
       "       'США - Великобритания - Новая Зеландия',\n",
       "       'США - Великобритания - Франция',\n",
       "       'США - Великобритания - Франция - Гонконг',\n",
       "       'США - Великобритания - Чехия',\n",
       "       'США - Великобритания - Швейцария - Франция',\n",
       "       'США - Великобритания - Швеция', 'США - Великобритания - Япония',\n",
       "       'США - Великобритания- Франция - Швеция',\n",
       "       'США - Венгрия - Великобритания', 'США - Вьетнам',\n",
       "       'США - Германия', 'США - Германия - Великобритания',\n",
       "       'США - Германия - Гонконг - Сингапур', 'США - Германия - КНР',\n",
       "       'США - Германия - Канада', 'США - Германия - Нидерланды',\n",
       "       'США - Германия - Франция',\n",
       "       'США - Германия - Франция - Великобритания - Канада ',\n",
       "       'США - Германия - Япония', 'США - Гонконг', 'США - Гонконг - КНР ',\n",
       "       'США - Дания', 'США - Индия', 'США - Индия - ОАЭ',\n",
       "       'США - Ирландия - Великобритания',\n",
       "       'США - Ирландия - Великобритания - Франция', 'США - Испания',\n",
       "       'США - Испания - Болгария', 'США - Испания - Франция',\n",
       "       'США - Испания - Франция - Великобритания', 'США - Италия',\n",
       "       'США - КНР', 'США - КНР - Индия - Ю.Корея', 'США - Канада',\n",
       "       'США - Канада - Аргентина',\n",
       "       'США - Канада - Афганистан - Бельгия - Франция',\n",
       "       'США - Канада - Великобритания', 'США - Канада - Германия',\n",
       "       'США - Канада - Германия - Франция', 'США - Канада - Индонезия',\n",
       "       'США - Канада - КНР',\n",
       "       'США - Канада - Россия - Франция - Чили - Ирландия',\n",
       "       'США - Канада - Франция - Индия', 'США - Канада - Япония - КНР',\n",
       "       'США - Китай', 'США - Колумбия', 'США - Колумбия - Испания',\n",
       "       'США - Мальта', 'США - Мексика',\n",
       "       'США - Нидерланды - Бельгия - Венгрия - Греция - Канада',\n",
       "       'США - Нидерланды - Финляндия - Великобритания - Италия',\n",
       "       'США - Новая Зеландия', 'США - Новая Зеландия - Япония',\n",
       "       'США - Норвегия', 'США - ОАЭ',\n",
       "       'США - Объединенные Арабские Эмираты', 'США - Пуэрто Рико',\n",
       "       'США - Пуэрто-Рико - Франция ', 'США - Россия',\n",
       "       'США - Россия - Польша - Германия - Пуэрто Рико',\n",
       "       'США - Россия - Франция', 'США - Румыния - Великобритания',\n",
       "       'США - Сингапур - Малайзия - Индонезия', 'США - Украина',\n",
       "       'США - Финляндия',\n",
       "       'США - Финляндия - Испания - Великобритания - Франция',\n",
       "       'США - Франция', 'США - Франция - Бельгия - Италия',\n",
       "       'США - Франция - Великобритания',\n",
       "       'США - Франция - Великобритания - Бразилия ',\n",
       "       'США - Франция - Германия',\n",
       "       'США - Франция - Германия - Канада - Австралия ',\n",
       "       'США - Франция - Испания - Великобритания',\n",
       "       'США - Франция - Канада - Великобритания',\n",
       "       'США - Франция - Канада - Германия - Австралия - Индия',\n",
       "       'США - Франция - Турция', 'США - Франция - ЮАР',\n",
       "       'США - Хорватия - Босния-Герцеговина', 'США - Чехия - Франция',\n",
       "       'США - Чили', 'США - Швейцария - Франция', 'США - Швеция',\n",
       "       'США - ЮАР', 'США - ЮАР - Гонконг', 'США - Южная Корея',\n",
       "       'США - Япония', 'США - Япония - Германия',\n",
       "       'США - Япония - Канада - Великобритания - Германия - Франция',\n",
       "       'США - Япония - Франция - Великобритания',\n",
       "       'США -Великобритания - Австралия', 'США -Германия',\n",
       "       'США, Великобритания', 'США, Великобритания, Ирландия, Люксембург',\n",
       "       'США, Великобритания, Люксембург', 'США, Великобритания, Франция',\n",
       "       'США, Германия', 'США, Гонконг ', 'США, Индия', 'США, Канада',\n",
       "       'США, Россия', 'США, Украина', 'США, Франция',\n",
       "       'США, Франция, Япония', 'США, Япония', 'США- Ю.Корея',\n",
       "       'США-Австралия', 'США-Аргентина', 'США-Бельгия',\n",
       "       'США-Великобритания', 'США-Великобритания-Австралия',\n",
       "       'США-Великобритания-Индия', 'США-Великобритания-Ирландия',\n",
       "       'США-Великобритания-Новая Зеландия', 'США-Великобритания-Франция',\n",
       "       'США-Великобритания-Чехия-Румыния', 'США-Венгрия', 'США-Германия',\n",
       "       'США-Германия-Австралия', 'США-Германия-Великобритания',\n",
       "       'США-Германия-Канада', 'США-Гонконг-Китай', 'США-Индия',\n",
       "       'США-Индонезия', 'США-Ирландия', 'США-Испания',\n",
       "       'США-Италия-Греция', 'США-Италия-Испания',\n",
       "       'США-Италия-Испания-Аргентина', 'США-КНР', 'США-Канада',\n",
       "       'США-Канада-Австралия', 'США-Канада-Бельгия', 'США-Канада-Италия',\n",
       "       'США-Канада-Франция', 'США-Китай', 'США-Колумбия', 'США-Мальта',\n",
       "       'США-Мексика', 'США-Нидерланды', 'США-ОАЭ', 'США-Россия',\n",
       "       'США-ФРГ-Россия', 'США-Франция',\n",
       "       'США-Франция-Великобритания-Австрия', 'США-Франция-Ирландия',\n",
       "       'США-Франция-Испания', 'США-Франция-Канада', 'США-ЮАР',\n",
       "       'США-Южная Корея-Новая Зеландия', 'США-Япония',\n",
       "       'США-Япония-Германия-Великобритания',\n",
       "       'США-Япония-Германия-Великобритания-Нидерланды', 'СЩА',\n",
       "       'Сербия - Великобритания - США', 'Сербия - Германия - Венгрия',\n",
       "       'Сербия - Словения - Хорватия - Черногория - Македония',\n",
       "       'Сингапур - Великобритания - Индонезия - Канада - США',\n",
       "       'Сша, Канада', 'Таиланд', 'Таиланд - КНР - США', 'Таиланд - США',\n",
       "       'Таиланд-Великобритания-Франция-Германия-Испания-Нидерланды',\n",
       "       'Турция', 'Турция - Германя - Франция', 'Турция - США', 'Украина',\n",
       "       'Украина - Германия - Латвия - Эстония', 'Украина - Нидерланды',\n",
       "       'Уругвай - Аргентина - Испания', 'Уругвай - Колумбия',\n",
       "       'Уругвай-Мексика-Германия ', 'Финляндия',\n",
       "       'Финляндия - Австрия - Россия',\n",
       "       'Финляндия - Великобритания - Германия', 'Финляндия - Германия',\n",
       "       'Финляндия - Дания - Германия - Ирландия',\n",
       "       'Финляндия - Исландия - Швеция', 'Финляндия - Канада',\n",
       "       'Финляндия - Польша', 'Финляндия - Франция - Германия',\n",
       "       'Финляндия - Швеция - Германия', 'Финляндия - Швеция - Норвегия',\n",
       "       'Финляндия, Латвия', 'Финляндия-Дания-Германия-Ирландия',\n",
       "       'Франция', 'Франция ', 'Франция -  Бельгия', 'Франция - Австрия',\n",
       "       'Франция - Австрия - Германия - Италия - США', 'Франция - Бельгия',\n",
       "       'Франция - Бельгия - Великобритания - Испания - Германия - США',\n",
       "       'Франция - Бельгия - Великобритания - США - Нидерланды - Канада',\n",
       "       'Франция - Бельгия - Испания', 'Франция - Бельгия - Канада',\n",
       "       'Франция - Бельгия - Люксембург', 'Франция - Бельгия - Чехия',\n",
       "       'Франция - Бельгия - Япония', 'Франция - Бенльгия',\n",
       "       'Франция - Бразилия', 'Франция - Бразилия - Италия',\n",
       "       'Франция - Великобритания',\n",
       "       'Франция - Великобритания - Багамские острова - США',\n",
       "       'Франция - Великобритания - Камбоджа - США - КНР',\n",
       "       'Франция - Великобритания - Нидерланды - Люксембург',\n",
       "       'Франция - Германия', 'Франция - Германия - Австрия',\n",
       "       'Франция - Германия - Бельгия', 'Франция - Германия - Италия',\n",
       "       'Франция - Германия - Литва - Нидерланды - Россия',\n",
       "       'Франция - Германия - Нидерланды', 'Франция - Германия - США',\n",
       "       'Франция - Германия - Турция - Катар',\n",
       "       'Франция - Германия - Швеция - США - Чехия - Словакия - Великобритания - Нидерланды',\n",
       "       'Франция - Греция', 'Франция - Дания', 'Франция - Дания - США',\n",
       "       'Франция - Дания - Швеция - КНР', 'Франция - Израиль - Германия',\n",
       "       'Франция - Ирландия - Швеция', 'Франция - Испания',\n",
       "       'Франция - Испания - Дания - Венгрия - Швейцария',\n",
       "       'Франция - Испания - Румыния - США - Бельгия',\n",
       "       'Франция - Испания - Тайвань', 'Франция - Италия',\n",
       "       'Франция - Италия - Бельгия - КНР',\n",
       "       'Франция - Италия - Бельгия - Люксембург',\n",
       "       'Франция - Италия - Великобритания - США',\n",
       "       'Франция - Италия - Иран', 'Франция - Италия - Швейцария',\n",
       "       'Франция - КНР', 'Франция - Канада', 'Франция - Канада - Бельгия',\n",
       "       'Франция - Канада - Н.Зеландия - США - Нидерланды - Германия - Швеция - Россия',\n",
       "       'Франция - Люксембург', 'Франция - Люксембург - Бельгия',\n",
       "       'Франция - Люксембург - Германия - Бельгия - Швейцария - Великобритания ',\n",
       "       'Франция - Македония', 'Франция - Мексика - США',\n",
       "       'Франция - Монако', 'Франция - Нидерланды',\n",
       "       'Франция - Польша - Бельгия', 'Франция - Португалия',\n",
       "       'Франция - Россия',\n",
       "       'Франция - Россия - Швейцария - Румыния - Венгрия',\n",
       "       'Франция - США', 'Франция - США - Бельгия',\n",
       "       'Франция - США - Великобритания - Колумбия - Бельгия - Россия',\n",
       "       'Франция - США - Норвегия - Дания', 'Франция - Сенегал - Бельгия',\n",
       "       'Франция - Украина - Грузия - Армения', 'Франция - Финляндия',\n",
       "       'Франция - Чехия - Бельгия', 'Франция - Чехия - Великобритания',\n",
       "       'Франция - Чили', 'Франция - Швейцария',\n",
       "       'Франция - Швейцария - Германия',\n",
       "       'Франция - Швеция - Дания - Норвегия', 'Франция -Бельгия',\n",
       "       'Франция, Бельгия', 'Франция, Бельгия, Люксембург',\n",
       "       'Франция, Германия', 'Франция, Канада',\n",
       "       'Франция, Люксембург, Бельгия', 'Франция, Новая Зеландия',\n",
       "       'Франция, Норвегия', 'Франция-Австралия', 'Франция-Аргентина',\n",
       "       'Франция-Бельгия', 'Франция-Бельгия-Канада',\n",
       "       'Франция-Великобритания', 'Франция-Великобритания - Германия',\n",
       "       'Франция-Великобритания-Чехия', 'Франция-Германия',\n",
       "       'Франция-Германия-Австрия', 'Франция-Германия-Великобритания',\n",
       "       'Франция-Германия-Италия', 'Франция-Гонконг-Ирландия',\n",
       "       'Франция-Грузия-Германия-Россия-Украина-Бельгия', 'Франция-Индия',\n",
       "       'Франция-Испания', 'Франция-Испания-Бельгия-Панама',\n",
       "       'Франция-Испания-Германия', 'Франция-Испания-Швейцария',\n",
       "       'Франция-Италия', 'Франция-Италия-Испания-Венгрия', 'Франция-КНР',\n",
       "       'Франция-Канада', 'Франция-Китай', 'Франция-Перу',\n",
       "       'Франция-Польша', 'Франция-Россия',\n",
       "       'Франция-Россия-Румыния-Италия-Бельгия', 'Франция-США',\n",
       "       'Франция-Украина', 'Хорватия', 'Чехия', 'Чехия - Германия',\n",
       "       'Чехия - Испания - США', 'Чехия - Словакия - Хорватия',\n",
       "       'Чехия-Великобритания-США', 'Чехословакия', 'Чили',\n",
       "       'Чили - Испания', 'Чили - Франция - США', 'Швейцария',\n",
       "       'Швейцария - Австрия', 'Швейцария - Великобритания',\n",
       "       'Швейцария - Израиль - Франция - Великобритания',\n",
       "       'Швейцария - КНР - США - Россия - Республика Корея - Великобритания',\n",
       "       'Швейцария - Люксембург', 'Швейцария - Франция',\n",
       "       'Швейцария, Великобритания, Франция, США, Ирландия',\n",
       "       'Швейцария-Австрия', 'Швейцария-Германия-ЮАР', 'Швейцария-Франция',\n",
       "       'Швеция', 'Швеция - Германия',\n",
       "       'Швеция - Германия - Дания - Норвегия',\n",
       "       'Швеция - Германия - Франция - Дания',\n",
       "       'Швеция - Германия - Франция - Норвегия', 'Швеция - Дания',\n",
       "       'Швеция - Дания - Финляндия', 'Швеция - Норвегия', 'Швеция - США',\n",
       "       'Швеция - Франция - Норвегия - Дания',\n",
       "       'Швеция, Норвегия, Финляндия, Франция',\n",
       "       'Швеция, Франция, Великобритания', 'Швеция-Куба',\n",
       "       'Швеция-Финляндия-Франция-Норвегия', 'Швеция-Франция',\n",
       "       'Швеция-Франция-Дания', 'Эстония', 'Эстония - Россия', 'ЮАР',\n",
       "       'ЮАР - США', 'Южная Корея', 'Южная Корея - КНР',\n",
       "       'Южная Корея - США', 'Южная Корея - США - Канада', 'Япония',\n",
       "       'Япония - Великобритания - Франция',\n",
       "       'Япония - Великобритания - Швейцария - Ирландия - Дания - Франция - Польша - Австралия - Канада  ',\n",
       "       'Япония - КНР - Южная Корея', 'Япония - Канада', 'Япония - США',\n",
       "       'Япония - Франция - США - Южная Корея - Турция',\n",
       "       'Япония, Великобритания',\n",
       "       'Япония, Великобритания, Австрия, Германия, Ю.Корея',\n",
       "       'Япония, США', 'Япония-Великобритания', 'Япония-США-Франция'],\n",
       "      dtype=object)"
      ]
     },
     "metadata": {},
     "output_type": "display_data"
    },
    {
     "data": {
      "text/plain": [
       "'director'"
      ]
     },
     "metadata": {},
     "output_type": "display_data"
    },
    {
     "data": {
      "text/plain": [
       "array([' Йохан Нийенхейс', ' Н.Орлов, Р.Быков', ' Р.Асхаев', ...,\n",
       "       'хореография Пьера Лакотта по Филиппу Тальони',\n",
       "       'хореография Фредерика Аштона', 'хореография Фредерика Эштона'],\n",
       "      dtype=object)"
      ]
     },
     "metadata": {},
     "output_type": "display_data"
    },
    {
     "data": {
      "text/plain": [
       "'producer'"
      ]
     },
     "metadata": {},
     "output_type": "display_data"
    },
    {
     "data": {
      "text/plain": [
       "array([' А.Шальопа', ' Г.Шпригов',\n",
       "       ' Дитмар Ганше, Филипп Фогес,  Бенджамин Херрман, Миша Хоффманн, Эберхард Юнексдорф, Энн Мередит',\n",
       "       ...,\n",
       "       'Яэль Абекассис, Мат Кирби, Мишель Киркман, Пабло Мелер, Брайан Дж. Фалконер, Стефан Эйхенбергер',\n",
       "       'Яэль Бергман, Лаура Уотерс, Питер Хеллайар',\n",
       "       'Яэль Фогель, Летиция Гонзалез'], dtype=object)"
      ]
     },
     "metadata": {},
     "output_type": "display_data"
    },
    {
     "data": {
      "text/plain": [
       "'financing_source'"
      ]
     },
     "metadata": {},
     "output_type": "display_data"
    },
    {
     "data": {
      "text/plain": [
       "array(['nonsupport', 'Министерство культуры',\n",
       "       'Министерство культуры, Фонд кино', 'Фонд кино'], dtype=object)"
      ]
     },
     "metadata": {},
     "output_type": "display_data"
    },
    {
     "data": {
      "text/plain": [
       "'genres'"
      ]
     },
     "metadata": {},
     "output_type": "display_data"
    },
    {
     "data": {
      "text/plain": [
       "array(['unknown', 'аниме,мультфильм', 'аниме,мультфильм,боевик',\n",
       "       'аниме,мультфильм,детектив', 'аниме,мультфильм,драма',\n",
       "       'аниме,мультфильм,комедия', 'аниме,мультфильм,короткометражка',\n",
       "       'аниме,мультфильм,мелодрама', 'аниме,мультфильм,приключения',\n",
       "       'аниме,мультфильм,ужасы', 'аниме,мультфильм,фантастика',\n",
       "       'аниме,мультфильм,фэнтези', 'биография', 'биография,военный,драма',\n",
       "       'биография,документальный', 'биография,драма',\n",
       "       'биография,драма,военный', 'биография,драма,история',\n",
       "       'биография,драма,криминал', 'биография,история',\n",
       "       'биография,история,драма', 'биография,криминал,драма',\n",
       "       'биография,криминал,триллер', 'биография,мелодрама,драма',\n",
       "       'биография,музыка,драма', 'биография,музыка,мюзикл',\n",
       "       'биография,спорт,драма', 'биография,спорт,история',\n",
       "       'биография,спорт,комедия', 'боевик', 'боевик,вестерн,приключения',\n",
       "       'боевик,военный', 'боевик,военный,драма', 'боевик,военный,история',\n",
       "       'боевик,детектив', 'боевик,драма', 'боевик,драма,биография',\n",
       "       'боевик,драма,вестерн', 'боевик,драма,военный',\n",
       "       'боевик,драма,история', 'боевик,драма,комедия',\n",
       "       'боевик,драма,криминал', 'боевик,драма,мелодрама',\n",
       "       'боевик,драма,приключения', 'боевик,драма,триллер',\n",
       "       'боевик,история', 'боевик,история,драма', 'боевик,комедия',\n",
       "       'боевик,комедия,криминал', 'боевик,комедия,приключения',\n",
       "       'боевик,комедия,семейный', 'боевик,криминал',\n",
       "       'боевик,криминал,детектив', 'боевик,криминал,драма',\n",
       "       'боевик,криминал,триллер', 'боевик,мелодрама',\n",
       "       'боевик,мелодрама,комедия', 'боевик,приключения',\n",
       "       'боевик,приключения,детектив', 'боевик,приключения,история',\n",
       "       'боевик,приключения,семейный', 'боевик,приключения,триллер',\n",
       "       'боевик,спорт,драма', 'боевик,триллер', 'боевик,триллер,детектив',\n",
       "       'боевик,триллер,драма', 'боевик,триллер,комедия',\n",
       "       'боевик,триллер,криминал', 'боевик,триллер,мелодрама',\n",
       "       'боевик,триллер,приключения', 'боевик,триллер,фэнтези',\n",
       "       'боевик,фантастика', 'боевик,фантастика,приключения',\n",
       "       'боевик,фантастика,триллер', 'боевик,фэнтези',\n",
       "       'боевик,фэнтези,драма', 'вестерн,биография,драма',\n",
       "       'вестерн,боевик,драма', 'вестерн,драма,триллер',\n",
       "       'вестерн,криминал,триллер', 'вестерн,приключения,боевик',\n",
       "       'военный', 'военный,биография,драма', 'военный,боевик,драма',\n",
       "       'военный,боевик,история', 'военный,детектив', 'военный,драма',\n",
       "       'военный,драма,боевик', 'военный,драма,история',\n",
       "       'военный,драма,комедия', 'военный,история',\n",
       "       'военный,история,драма', 'военный,приключения,драма', 'детектив',\n",
       "       'детектив,боевик,история', 'детектив,драма,криминал',\n",
       "       'детектив,драма,триллер', 'детектив,история,драма',\n",
       "       'детектив,комедия', 'детектив,комедия,драма', 'детектив,криминал',\n",
       "       'детектив,криминал,боевик', 'детектив,криминал,драма',\n",
       "       'детектив,криминал,триллер', 'детектив,мелодрама',\n",
       "       'детектив,мелодрама,фэнтези', 'детектив,приключения,драма',\n",
       "       'детектив,приключения,триллер', 'детектив,триллер',\n",
       "       'детектив,триллер,боевик', 'детектив,триллер,драма',\n",
       "       'детектив,триллер,криминал', 'детектив,триллер,ужасы',\n",
       "       'детектив,ужасы,криминал', 'детектив,фантастика,криминал',\n",
       "       'детектив,фантастика,триллер', 'детектив,фильм-нуар,комедия',\n",
       "       'детектив,фэнтези,триллер', 'детский', 'детский,комедия',\n",
       "       'детский,мелодрама,семейный', 'детский,мультфильм,приключения',\n",
       "       'детский,приключения,комедия', 'детский,приключения,семейный',\n",
       "       'детский,приключения,фантастика', 'детский,семейный',\n",
       "       'детский,фэнтези', 'детский,фэнтези,приключения',\n",
       "       'для взрослых,драма,комедия', 'для взрослых,драма,мелодрама',\n",
       "       'документальный', 'документальный,биография',\n",
       "       'документальный,биография,история',\n",
       "       'документальный,биография,музыка',\n",
       "       'документальный,биография,спорт',\n",
       "       'документальный,боевик,приключения',\n",
       "       'документальный,военный,драма', 'документальный,военный,история',\n",
       "       'документальный,драма', 'документальный,драма,биография',\n",
       "       'документальный,драма,история', 'документальный,драма,комедия',\n",
       "       'документальный,драма,музыка', 'документальный,драма,семейный',\n",
       "       'документальный,история', 'документальный,комедия',\n",
       "       'документальный,комедия,история',\n",
       "       'документальный,комедия,криминал',\n",
       "       'документальный,короткометражка',\n",
       "       'документальный,короткометражка,семейный',\n",
       "       'документальный,криминал,военный', 'документальный,музыка',\n",
       "       'документальный,музыка,биография', 'документальный,музыка,концерт',\n",
       "       'документальный,мюзикл', 'документальный,новости,драма',\n",
       "       'документальный,приключения',\n",
       "       'документальный,приключения,семейный', 'документальный,семейный',\n",
       "       'документальный,семейный,музыка', 'документальный,спорт',\n",
       "       'документальный,спорт,биография',\n",
       "       'документальный,триллер,биография', 'документальный,ужасы',\n",
       "       'документальный,ужасы,боевик', 'документальный,фантастика',\n",
       "       'документальный,фэнтези', 'документальный,фэнтези,драма',\n",
       "       'документальный,фэнтези,семейный', 'драма', 'драма,биография',\n",
       "       'драма,биография,история', 'драма,биография,комедия',\n",
       "       'драма,биография,музыка', 'драма,биография,мюзикл',\n",
       "       'драма,биография,спорт', 'драма,боевик', 'драма,боевик,история',\n",
       "       'драма,боевик,криминал', 'драма,боевик,приключения',\n",
       "       'драма,вестерн', 'драма,вестерн,боевик',\n",
       "       'драма,вестерн,приключения', 'драма,военный',\n",
       "       'драма,военный,биография', 'драма,военный,боевик',\n",
       "       'драма,военный,история', 'драма,военный,приключения',\n",
       "       'драма,военный,триллер', 'драма,детектив',\n",
       "       'драма,детектив,история', 'драма,детектив,криминал',\n",
       "       'драма,детектив,приключения', 'драма,история',\n",
       "       'драма,история,биография', 'драма,история,военный',\n",
       "       'драма,история,детектив', 'драма,история,музыка',\n",
       "       'драма,история,триллер', 'драма,комедия',\n",
       "       'драма,комедия,биография', 'драма,комедия,вестерн',\n",
       "       'драма,комедия,военный', 'драма,комедия,детектив',\n",
       "       'драма,комедия,история', 'драма,комедия,криминал',\n",
       "       'драма,комедия,мелодрама', 'драма,комедия,музыка',\n",
       "       'драма,комедия,мультфильм', 'драма,комедия,приключения',\n",
       "       'драма,комедия,семейный', 'драма,комедия,спорт',\n",
       "       'драма,комедия,триллер', 'драма,комедия,ужасы',\n",
       "       'драма,комедия,фантастика', 'драма,криминал',\n",
       "       'драма,криминал,биография', 'драма,криминал,боевик',\n",
       "       'драма,криминал,вестерн', 'драма,криминал,детектив',\n",
       "       'драма,криминал,история', 'драма,криминал,приключения',\n",
       "       'драма,криминал,семейный', 'драма,криминал,спорт',\n",
       "       'драма,криминал,фантастика', 'драма,криминал,фильм-нуар',\n",
       "       'драма,мелодрама', 'драма,мелодрама,биография',\n",
       "       'драма,мелодрама,военный', 'драма,мелодрама,детектив',\n",
       "       'драма,мелодрама,история', 'драма,мелодрама,комедия',\n",
       "       'драма,мелодрама,криминал', 'драма,мелодрама,музыка',\n",
       "       'драма,мелодрама,приключения', 'драма,мелодрама,семейный',\n",
       "       'драма,мелодрама,триллер', 'драма,мелодрама,фэнтези',\n",
       "       'драма,музыка', 'драма,мультфильм', 'драма,приключения',\n",
       "       'драма,приключения,биография', 'драма,приключения,военный',\n",
       "       'драма,приключения,история', 'драма,приключения,мелодрама',\n",
       "       'драма,приключения,семейный', 'драма,приключения,триллер',\n",
       "       'драма,приключения,фэнтези', 'драма,семейный',\n",
       "       'драма,семейный,биография', 'драма,семейный,комедия',\n",
       "       'драма,спорт', 'драма,спорт,биография', 'драма,спорт,боевик',\n",
       "       'драма,спорт,история', 'драма,спорт,комедия',\n",
       "       'драма,спорт,семейный', 'драма,триллер', 'драма,триллер,биография',\n",
       "       'драма,триллер,детектив', 'драма,триллер,криминал',\n",
       "       'драма,триллер,приключения', 'драма,ужасы', 'драма,фантастика',\n",
       "       'драма,фантастика,триллер', 'драма,фантастика,ужасы',\n",
       "       'драма,фэнтези', 'драма,фэнтези,история', 'история',\n",
       "       'история,биография,военный', 'история,биография,драма',\n",
       "       'история,боевик,фэнтези', 'история,детектив', 'история,драма',\n",
       "       'история,драма,боевик', 'история,драма,мелодрама',\n",
       "       'история,криминал', 'история,мелодрама', 'история,приключения',\n",
       "       'история,спорт,драма', 'комедия', 'комедия,биография',\n",
       "       'комедия,биография,история', 'комедия,боевик,криминал',\n",
       "       'комедия,боевик,приключения', 'комедия,боевик,фантастика',\n",
       "       'комедия,вестерн', 'комедия,военный', 'комедия,военный,музыка',\n",
       "       'комедия,детектив', 'комедия,детектив,приключения',\n",
       "       'комедия,драма', 'комедия,драма,биография',\n",
       "       'комедия,драма,военный', 'комедия,драма,короткометражка',\n",
       "       'комедия,драма,криминал', 'комедия,драма,мелодрама',\n",
       "       'комедия,драма,семейный', 'комедия,история',\n",
       "       'комедия,история,драма', 'комедия,криминал',\n",
       "       'комедия,криминал,биография', 'комедия,криминал,боевик',\n",
       "       'комедия,криминал,детектив', 'комедия,криминал,драма',\n",
       "       'комедия,криминал,история', 'комедия,криминал,приключения',\n",
       "       'комедия,криминал,семейный', 'комедия,криминал,спорт',\n",
       "       'комедия,криминал,триллер', 'комедия,мелодрама',\n",
       "       'комедия,мелодрама,драма', 'комедия,мелодрама,криминал',\n",
       "       'комедия,мелодрама,фантастика', 'комедия,мелодрама,фэнтези',\n",
       "       'комедия,музыка', 'комедия,музыка,драма',\n",
       "       'комедия,мультфильм,фантастика', 'комедия,приключения',\n",
       "       'комедия,приключения,вестерн', 'комедия,приключения,детектив',\n",
       "       'комедия,приключения,история', 'комедия,приключения,криминал',\n",
       "       'комедия,приключения,мелодрама', 'комедия,приключения,музыка',\n",
       "       'комедия,приключения,семейный', 'комедия,приключения,спорт',\n",
       "       'комедия,приключения,фэнтези', 'комедия,семейный',\n",
       "       'комедия,семейный,музыка', 'комедия,семейный,приключения',\n",
       "       'комедия,семейный,фантастика', 'комедия,семейный,фэнтези',\n",
       "       'комедия,спорт', 'комедия,триллер', 'комедия,триллер,драма',\n",
       "       'комедия,ужасы', 'комедия,фантастика', 'комедия,фантастика,боевик',\n",
       "       'комедия,фантастика,мелодрама', 'комедия,фэнтези',\n",
       "       'комедия,фэнтези,криминал', 'комедия,фэнтези,мелодрама',\n",
       "       'комедия,фэнтези,приключения', 'комедия,фэнтези,ужасы',\n",
       "       'концерт,музыка', 'концерт,музыка,документальный',\n",
       "       'короткометражка', 'короткометражка,биография',\n",
       "       'короткометражка,боевик,драма', 'короткометражка,драма',\n",
       "       'короткометражка,драма,военный', 'короткометражка,драма,триллер',\n",
       "       'короткометражка,комедия,криминал', 'короткометражка,мелодрама',\n",
       "       'короткометражка,музыка', 'короткометражка,мультфильм',\n",
       "       'короткометражка,фантастика', 'криминал',\n",
       "       'криминал,биография,комедия', 'криминал,боевик',\n",
       "       'криминал,боевик,комедия', 'криминал,боевик,триллер',\n",
       "       'криминал,детектив', 'криминал,детектив,приключения',\n",
       "       'криминал,драма', 'криминал,драма,комедия',\n",
       "       'криминал,драма,триллер', 'криминал,комедия',\n",
       "       'криминал,комедия,боевик', 'криминал,комедия,драма',\n",
       "       'криминал,комедия,триллер', 'криминал,мелодрама',\n",
       "       'криминал,триллер,драма', 'мелодрама', 'мелодрама,биография',\n",
       "       'мелодрама,военный,драма', 'мелодрама,детектив',\n",
       "       'мелодрама,детектив,комедия', 'мелодрама,драма',\n",
       "       'мелодрама,драма,боевик', 'мелодрама,драма,комедия',\n",
       "       'мелодрама,драма,музыка', 'мелодрама,драма,фэнтези',\n",
       "       'мелодрама,история', 'мелодрама,история,драма',\n",
       "       'мелодрама,история,триллер', 'мелодрама,комедия',\n",
       "       'мелодрама,комедия,драма', 'мелодрама,комедия,криминал',\n",
       "       'мелодрама,комедия,музыка', 'мелодрама,комедия,приключения',\n",
       "       'мелодрама,комедия,семейный', 'мелодрама,комедия,спорт',\n",
       "       'мелодрама,комедия,триллер', 'мелодрама,комедия,ужасы',\n",
       "       'мелодрама,криминал', 'мелодрама,музыка', 'мелодрама,музыка,драма',\n",
       "       'мелодрама,приключения', 'мелодрама,приключения,боевик',\n",
       "       'мелодрама,семейный', 'мелодрама,семейный,приключения',\n",
       "       'мелодрама,триллер,история', 'мелодрама,фантастика,драма',\n",
       "       'мелодрама,фэнтези,триллер', 'музыка,концерт',\n",
       "       'музыка,концерт,документальный', 'музыка,мелодрама,фэнтези',\n",
       "       'музыка,приключения,концерт', 'мультфильм',\n",
       "       'мультфильм,биография,драма', 'мультфильм,боевик,детектив',\n",
       "       'мультфильм,боевик,комедия', 'мультфильм,боевик,приключения',\n",
       "       'мультфильм,боевик,триллер', 'мультфильм,детский',\n",
       "       'мультфильм,детский,комедия', 'мультфильм,детский,приключения',\n",
       "       'мультфильм,детский,семейный', 'мультфильм,драма',\n",
       "       'мультфильм,драма,комедия', 'мультфильм,драма,приключения',\n",
       "       'мультфильм,история', 'мультфильм,комедия',\n",
       "       'мультфильм,комедия,детский', 'мультфильм,комедия,криминал',\n",
       "       'мультфильм,комедия,приключения', 'мультфильм,комедия,семейный',\n",
       "       'мультфильм,комедия,фантастика', 'мультфильм,короткометражка',\n",
       "       'мультфильм,короткометражка,детский',\n",
       "       'мультфильм,короткометражка,комедия',\n",
       "       'мультфильм,короткометражка,мелодрама',\n",
       "       'мультфильм,короткометражка,мюзикл',\n",
       "       'мультфильм,короткометражка,ужасы',\n",
       "       'мультфильм,короткометражка,фэнтези', 'мультфильм,мелодрама,драма',\n",
       "       'мультфильм,мелодрама,комедия', 'мультфильм,мелодрама,приключения',\n",
       "       'мультфильм,мюзикл,детский', 'мультфильм,мюзикл,драма',\n",
       "       'мультфильм,мюзикл,комедия', 'мультфильм,мюзикл,мелодрама',\n",
       "       'мультфильм,мюзикл,фэнтези', 'мультфильм,приключения',\n",
       "       'мультфильм,приключения,военный',\n",
       "       'мультфильм,приключения,детектив',\n",
       "       'мультфильм,приключения,детский', 'мультфильм,приключения,драма',\n",
       "       'мультфильм,приключения,комедия',\n",
       "       'мультфильм,приключения,семейный',\n",
       "       'мультфильм,приключения,фантастика',\n",
       "       'мультфильм,приключения,фэнтези', 'мультфильм,семейный',\n",
       "       'мультфильм,семейный,детский', 'мультфильм,семейный,драма',\n",
       "       'мультфильм,семейный,комедия', 'мультфильм,семейный,спорт',\n",
       "       'мультфильм,семейный,фэнтези', 'мультфильм,ужасы,комедия',\n",
       "       'мультфильм,ужасы,фантастика', 'мультфильм,ужасы,фэнтези',\n",
       "       'мультфильм,фантастика,боевик', 'мультфильм,фантастика,комедия',\n",
       "       'мультфильм,фантастика,приключения',\n",
       "       'мультфильм,фантастика,фэнтези', 'мультфильм,фэнтези',\n",
       "       'мультфильм,фэнтези,боевик', 'мультфильм,фэнтези,детский',\n",
       "       'мультфильм,фэнтези,драма', 'мультфильм,фэнтези,история',\n",
       "       'мультфильм,фэнтези,комедия', 'мультфильм,фэнтези,мелодрама',\n",
       "       'мультфильм,фэнтези,приключения', 'мультфильм,фэнтези,семейный',\n",
       "       'мультфильм,фэнтези,триллер', 'мюзикл', 'мюзикл,боевик,драма',\n",
       "       'мюзикл,драма', 'мюзикл,драма,мелодрама', 'мюзикл,комедия',\n",
       "       'мюзикл,комедия,детский', 'мюзикл,комедия,мелодрама',\n",
       "       'мюзикл,комедия,музыка', 'мюзикл,комедия,приключения',\n",
       "       'мюзикл,мелодрама', 'мюзикл,мелодрама,комедия',\n",
       "       'мюзикл,мелодрама,фэнтези', 'мюзикл,семейный',\n",
       "       'мюзикл,семейный,драма', 'мюзикл,ужасы,триллер',\n",
       "       'мюзикл,фэнтези,драма', 'мюзикл,фэнтези,комедия',\n",
       "       'мюзикл,фэнтези,мелодрама', 'мюзикл,фэнтези,семейный',\n",
       "       'приключения', 'приключения,биография,драма',\n",
       "       'приключения,биография,история', 'приключения,боевик',\n",
       "       'приключения,боевик,триллер', 'приключения,вестерн,боевик',\n",
       "       'приключения,военный', 'приключения,детектив,мелодрама',\n",
       "       'приключения,детектив,семейный', 'приключения,детский',\n",
       "       'приключения,детский,комедия', 'приключения,драма',\n",
       "       'приключения,драма,фантастика', 'приключения,история',\n",
       "       'приключения,история,военный', 'приключения,история,драма',\n",
       "       'приключения,комедия,фэнтези', 'приключения,мелодрама,детектив',\n",
       "       'приключения,семейный', 'приключения,семейный,драма',\n",
       "       'приключения,триллер', 'приключения,триллер,биография',\n",
       "       'приключения,фантастика', 'приключения,фантастика,драма',\n",
       "       'приключения,фантастика,семейный', 'приключения,фэнтези',\n",
       "       'приключения,фэнтези,семейный', 'реальное ТВ', 'семейный',\n",
       "       'семейный,детектив,детский', 'семейный,документальный',\n",
       "       'семейный,комедия', 'семейный,комедия,драма',\n",
       "       'семейный,комедия,музыка', 'семейный,мелодрама',\n",
       "       'семейный,мультфильм,комедия', 'семейный,приключения',\n",
       "       'семейный,приключения,военный',\n",
       "       'семейный,приключения,документальный',\n",
       "       'семейный,приключения,комедия', 'семейный,спорт,боевик',\n",
       "       'семейный,фэнтези', 'семейный,фэнтези,комедия', 'спорт,драма',\n",
       "       'спорт,драма,биография', 'спорт,драма,комедия',\n",
       "       'спорт,мелодрама,криминал', 'триллер', 'триллер,биография,драма',\n",
       "       'триллер,боевик', 'триллер,боевик,криминал',\n",
       "       'триллер,боевик,приключения', 'триллер,военный',\n",
       "       'триллер,детектив', 'триллер,детектив,драма',\n",
       "       'триллер,детектив,криминал', 'триллер,детектив,ужасы',\n",
       "       'триллер,драма', 'триллер,драма,биография', 'триллер,драма,боевик',\n",
       "       'триллер,драма,военный', 'триллер,драма,детектив',\n",
       "       'триллер,драма,история', 'триллер,драма,комедия',\n",
       "       'триллер,драма,криминал', 'триллер,драма,мелодрама',\n",
       "       'триллер,драма,приключения', 'триллер,драма,ужасы',\n",
       "       'триллер,драма,фантастика', 'триллер,комедия',\n",
       "       'триллер,комедия,криминал', 'триллер,комедия,ужасы',\n",
       "       'триллер,криминал', 'триллер,криминал,боевик',\n",
       "       'триллер,криминал,детектив', 'триллер,криминал,драма',\n",
       "       'триллер,криминал,комедия', 'триллер,криминал,приключения',\n",
       "       'триллер,мелодрама', 'триллер,мелодрама,детектив',\n",
       "       'триллер,мелодрама,драма', 'триллер,мелодрама,комедия',\n",
       "       'триллер,мелодрама,криминал', 'триллер,приключения',\n",
       "       'триллер,приключения,драма', 'триллер,ужасы',\n",
       "       'триллер,ужасы,детектив', 'триллер,ужасы,драма',\n",
       "       'триллер,ужасы,криминал', 'триллер,ужасы,мелодрама',\n",
       "       'триллер,фантастика,боевик', 'триллер,фантастика,драма',\n",
       "       'триллер,фэнтези', 'триллер,фэнтези,драма', 'ужасы',\n",
       "       'ужасы,боевик', 'ужасы,боевик,комедия', 'ужасы,боевик,криминал',\n",
       "       'ужасы,боевик,триллер', 'ужасы,боевик,фантастика',\n",
       "       'ужасы,боевик,фэнтези', 'ужасы,детектив', 'ужасы,драма',\n",
       "       'ужасы,драма,вестерн', 'ужасы,драма,военный',\n",
       "       'ужасы,драма,детектив', 'ужасы,драма,комедия',\n",
       "       'ужасы,драма,мелодрама', 'ужасы,драма,триллер', 'ужасы,комедия',\n",
       "       'ужасы,комедия,боевик', 'ужасы,комедия,детектив',\n",
       "       'ужасы,комедия,драма', 'ужасы,комедия,криминал',\n",
       "       'ужасы,комедия,музыка', 'ужасы,комедия,приключения',\n",
       "       'ужасы,комедия,семейный', 'ужасы,комедия,фантастика',\n",
       "       'ужасы,комедия,фэнтези', 'ужасы,мелодрама,детектив',\n",
       "       'ужасы,мелодрама,комедия', 'ужасы,приключения', 'ужасы,триллер',\n",
       "       'ужасы,триллер,детектив', 'ужасы,триллер,драма',\n",
       "       'ужасы,триллер,комедия', 'ужасы,триллер,криминал',\n",
       "       'ужасы,триллер,мелодрама', 'ужасы,триллер,приключения',\n",
       "       'ужасы,триллер,фантастика', 'ужасы,фантастика',\n",
       "       'ужасы,фантастика,боевик', 'ужасы,фантастика,детектив',\n",
       "       'ужасы,фантастика,драма', 'ужасы,фантастика,комедия',\n",
       "       'ужасы,фантастика,мелодрама', 'ужасы,фантастика,триллер',\n",
       "       'ужасы,фантастика,фэнтези', 'ужасы,фэнтези',\n",
       "       'ужасы,фэнтези,боевик', 'ужасы,фэнтези,детектив',\n",
       "       'ужасы,фэнтези,драма', 'ужасы,фэнтези,комедия',\n",
       "       'ужасы,фэнтези,мелодрама', 'ужасы,фэнтези,приключения',\n",
       "       'ужасы,фэнтези,триллер', 'фантастика', 'фантастика,боевик',\n",
       "       'фантастика,боевик,военный', 'фантастика,боевик,детектив',\n",
       "       'фантастика,боевик,драма', 'фантастика,боевик,комедия',\n",
       "       'фантастика,боевик,криминал', 'фантастика,боевик,мелодрама',\n",
       "       'фантастика,боевик,приключения', 'фантастика,боевик,семейный',\n",
       "       'фантастика,боевик,триллер', 'фантастика,боевик,ужасы',\n",
       "       'фантастика,боевик,фэнтези', 'фантастика,детектив,боевик',\n",
       "       'фантастика,детектив,фэнтези', 'фантастика,драма',\n",
       "       'фантастика,драма,боевик', 'фантастика,драма,детектив',\n",
       "       'фантастика,драма,комедия', 'фантастика,драма,криминал',\n",
       "       'фантастика,драма,мелодрама', 'фантастика,драма,приключения',\n",
       "       'фантастика,драма,триллер', 'фантастика,драма,ужасы',\n",
       "       'фантастика,комедия', 'фантастика,комедия,боевик',\n",
       "       'фантастика,комедия,детектив', 'фантастика,комедия,приключения',\n",
       "       'фантастика,комедия,семейный', 'фантастика,мелодрама',\n",
       "       'фантастика,мелодрама,боевик', 'фантастика,мелодрама,комедия',\n",
       "       'фантастика,мелодрама,фэнтези', 'фантастика,мультфильм,драма',\n",
       "       'фантастика,приключения', 'фантастика,приключения,боевик',\n",
       "       'фантастика,приключения,военный',\n",
       "       'фантастика,приключения,детектив', 'фантастика,приключения,драма',\n",
       "       'фантастика,приключения,семейный', 'фантастика,триллер',\n",
       "       'фантастика,триллер,боевик', 'фантастика,триллер,детектив',\n",
       "       'фантастика,триллер,драма', 'фантастика,триллер,комедия',\n",
       "       'фантастика,триллер,криминал', 'фантастика,триллер,мелодрама',\n",
       "       'фантастика,триллер,приключения', 'фантастика,фэнтези,боевик',\n",
       "       'фантастика,фэнтези,детектив', 'фантастика,фэнтези,драма',\n",
       "       'фантастика,фэнтези,комедия', 'фантастика,фэнтези,приключения',\n",
       "       'фантастика,фэнтези,триллер', 'фильм-нуар,триллер,детектив',\n",
       "       'фэнтези', 'фэнтези,боевик', 'фэнтези,боевик,вестерн',\n",
       "       'фэнтези,боевик,военный', 'фэнтези,боевик,детектив',\n",
       "       'фэнтези,боевик,драма', 'фэнтези,боевик,комедия',\n",
       "       'фэнтези,боевик,криминал', 'фэнтези,боевик,мелодрама',\n",
       "       'фэнтези,боевик,приключения', 'фэнтези,боевик,семейный',\n",
       "       'фэнтези,боевик,триллер', 'фэнтези,боевик,ужасы', 'фэнтези,драма',\n",
       "       'фэнтези,драма,биография', 'фэнтези,драма,детектив',\n",
       "       'фэнтези,драма,комедия', 'фэнтези,драма,мелодрама',\n",
       "       'фэнтези,драма,приключения', 'фэнтези,драма,семейный',\n",
       "       'фэнтези,драма,ужасы', 'фэнтези,драма,фильм-нуар',\n",
       "       'фэнтези,комедия', 'фэнтези,комедия,детектив',\n",
       "       'фэнтези,комедия,драма', 'фэнтези,комедия,криминал',\n",
       "       'фэнтези,комедия,приключения', 'фэнтези,комедия,семейный',\n",
       "       'фэнтези,мелодрама', 'фэнтези,мелодрама,драма',\n",
       "       'фэнтези,мелодрама,комедия', 'фэнтези,мелодрама,приключения',\n",
       "       'фэнтези,приключения', 'фэнтези,приключения,боевик',\n",
       "       'фэнтези,приключения,драма', 'фэнтези,приключения,комедия',\n",
       "       'фэнтези,приключения,семейный', 'фэнтези,семейный',\n",
       "       'фэнтези,семейный,мелодрама', 'фэнтези,семейный,приключения',\n",
       "       'фэнтези,триллер,детектив', 'фэнтези,триллер,драма',\n",
       "       'фэнтези,триллер,мелодрама', 'фэнтези,триллер,приключения',\n",
       "       'фэнтези,ужасы', 'фэнтези,ужасы,триллер'], dtype=object)"
      ]
     },
     "metadata": {},
     "output_type": "display_data"
    }
   ],
   "source": [
    "for column in [\"title\", \n",
    "               \"type\", \n",
    "               \"film_studio\", \n",
    "               \"production_country\", \n",
    "               \"director\", \n",
    "               \"producer\", \n",
    "               \"financing_source\", \n",
    "               \"genres\"]:\n",
    "    display (column)\n",
    "    display(df[column].sort_values().unique())"
   ]
  },
  {
   "cell_type": "markdown",
   "metadata": {},
   "source": [
    "Как видим проблемы с дубликатами есть в столбцах \"type\" и \"production_country\"."
   ]
  },
  {
   "cell_type": "code",
   "execution_count": 25,
   "metadata": {},
   "outputs": [],
   "source": [
    "df[\"type\"] = df[\"type\"].replace(\" Анимационный\",\"Анимационный\")\n",
    "df[\"type\"] = df[\"type\"].replace(\" Художественный\", \"Художественный\")"
   ]
  },
  {
   "cell_type": "code",
   "execution_count": 26,
   "metadata": {},
   "outputs": [
    {
     "data": {
      "text/plain": [
       "array(['Анимационный', 'Документальный', 'Музыкально-развлекательный',\n",
       "       'Научно-популярный', 'Прочие', 'Художественный'], dtype=object)"
      ]
     },
     "execution_count": 26,
     "metadata": {},
     "output_type": "execute_result"
    }
   ],
   "source": [
    "df[\"type\"].sort_values().unique()"
   ]
  },
  {
   "cell_type": "markdown",
   "metadata": {},
   "source": [
    "В данных столбцах сыграл просто человеческий фактор."
   ]
  },
  {
   "cell_type": "markdown",
   "metadata": {},
   "source": [
    "Для столбца \"production_country\" сделаем цикл который заменит все разделители на \"-\". Плюс есть опечатка \"Бразилия-К;анада\" ее тоже надо исправить."
   ]
  },
  {
   "cell_type": "code",
   "execution_count": 27,
   "metadata": {},
   "outputs": [],
   "source": [
    "df[\"production_country\"] = df[\"production_country\"].replace(\"Бразилия-К;анада\", \"Бразилия-Канада\")\n",
    "for i in range(len(df[\"production_country\"])):\n",
    "    for wrong in [\", \", \" - \"]:\n",
    "        df.loc[i, \"production_country\"] = df.loc[i, \"production_country\"].replace(wrong,\"-\")\n",
    "\n"
   ]
  },
  {
   "cell_type": "code",
   "execution_count": 28,
   "metadata": {},
   "outputs": [
    {
     "data": {
      "text/plain": [
       "array([' СССР', ' СССР ', ' СССР   ', '2019', 'CША', 'unknown',\n",
       "       'Австралия', 'Австралия-Великобритания',\n",
       "       'Австралия-Великобритания-Бельгия-Индия', 'Австралия-Германия',\n",
       "       'Австралия-Ирландия', 'Австралия-Канада', 'Австралия-Колумбия',\n",
       "       'Австралия-США', 'Австралия-Турция-США', 'Австрия',\n",
       "       'Австрия-Великобритания-Германия', 'Австрия-Германия',\n",
       "       'Австрия-Германия-Франция', 'Австрия-Люксембург',\n",
       "       'Австрия-Франция-Германия', 'Азербайджан-Россия', 'Аргентина',\n",
       "       'Аргентина-Бразилия', 'Аргентина-Испания',\n",
       "       'Аргентина-Испания-Уругвай',\n",
       "       'Аргентина-Мексика-Бразилия-Франция-США',\n",
       "       'Аргентина-Уругвай-Россия-Германия-Франция-Нидерланды',\n",
       "       'Аргентина-Франция-Испания', 'Армения', 'Армения-Германия',\n",
       "       'Армения-Казахстан', 'Армения-Россия', 'Бельгия',\n",
       "       'Бельгия-Великобритания-США',\n",
       "       'Бельгия-Германия-Канада-Франция-США-Великобритания',\n",
       "       'Бельгия-Германия-Люксембург',\n",
       "       'Бельгия-Германия-Люксембург-Франция',\n",
       "       'Бельгия-Испания-Канада-Нидерланды', 'Бельгия-Италия-Франция ',\n",
       "       'Бельгия-Канада', 'Бельгия-Люксембург',\n",
       "       'Бельгия-Люксембург-Франция-Швейцария', 'Бельгия-Нидерланды',\n",
       "       'Бельгия-Нидерланды-Франция', 'Бельгия-США', 'Бельгия-Франция',\n",
       "       'Бельгия-Франция-Италия', 'Бельгия-Франция-Люксембург', 'Болгария',\n",
       "       'Болгария-США', 'Болгария-Франция-Изриль',\n",
       "       'Босния и Герцеговина-Франция-Великобритания-Германия-Словения-Бельгия-Сербия',\n",
       "       'Бразилия', 'Бразилия-Германия-Порртугалия-Франция ',\n",
       "       'Бразилия-Испания', 'Бразилия-К;анада', 'Бразилия-Канада-США',\n",
       "       'Бразилия-Португалия-Франция', 'Бразилия-США', 'Бразилия-США-КНР ',\n",
       "       'Бразилия-Уругвай-Дания-Норвегия-Чили-Швеция', 'Великобритания',\n",
       "       'Великобритания ', 'Великобритания-Австралия',\n",
       "       'Великобритания-Австралия-США', 'Великобритания-Австрия-Германия',\n",
       "       'Великобритания-Австрия-Франция-США',\n",
       "       'Великобритания-Аргентина-США-Франция-Россия-Испания',\n",
       "       'Великобритания-Венгрия', 'Великобритания-Германия',\n",
       "       'Великобритания-Германия-Дания-США',\n",
       "       'Великобритания-Германия-Канада-ЮАР',\n",
       "       'Великобритания-Германия-Нидерланды-Дания',\n",
       "       'Великобритания-Германия-США',\n",
       "       'Великобритания-Германия-Франция-Кипр-США',\n",
       "       'Великобритания-Гонконг-Венгрия-США-Ирландия',\n",
       "       'Великобритания-Дания', 'Великобритания-Израиль',\n",
       "       'Великобритания-Израиль-Франция-Япония-США',\n",
       "       'Великобритания-Ирландия', 'Великобритания-Ирландия-США',\n",
       "       'Великобритания-Ирландия-США ',\n",
       "       'Великобритания-Исландия-Испания-Швейцария-США',\n",
       "       'Великобритания-Испания', 'Великобритания-Испания-Германия',\n",
       "       'Великобритания-Испания-Италия-Латвия-Франция-Эстония',\n",
       "       'Великобритания-Испания-Непал-Индия-Венгрия-Гонконг-Германия-Дания-Бахрейн',\n",
       "       'Великобритания-Италия', 'Великобритания-Италия-Испания',\n",
       "       'Великобритания-Италия-Швейцария', 'Великобритания-КНР',\n",
       "       'Великобритания-Канада', 'Великобритания-Канада-США',\n",
       "       'Великобритания-Люксембург', 'Великобритания-Мексика-США',\n",
       "       'Великобритания-Нидерланды-Германия-Франция-Бельгия-Австрия ',\n",
       "       'Великобритания-Нидерланды-Польша-Швейцария-Франция',\n",
       "       'Великобритания-Нидерланды-Франция-США',\n",
       "       'Великобритания-Нидерланды-Франция-Хорватия',\n",
       "       'Великобритания-Новая Зеландия',\n",
       "       'Великобритания-Норвегия-Дания-Германия',\n",
       "       'Великобритания-Норвегия-Кения-Хорватия', 'Великобритания-Польша',\n",
       "       'Великобритания-Польша-КНР-Индия-Норвегия',\n",
       "       'Великобритания-Пуэрто-Рико', 'Великобритания-Россия-КНР',\n",
       "       'Великобритания-Россия-Украина-США', 'Великобритания-Румыния',\n",
       "       'Великобритания-США',\n",
       "       'Великобритания-США-Австралия-Ирландия-Германия-Куба-Канада',\n",
       "       'Великобритания-США-Германия',\n",
       "       'Великобритания-США-Германия-Бельгия',\n",
       "       'Великобритания-США-Германия-КНР',\n",
       "       'Великобритания-США-Германия-Канада-Австралия',\n",
       "       'Великобритания-США-Индия', 'Великобритания-США-Испания',\n",
       "       'Великобритания-США-Канада',\n",
       "       'Великобритания-США-Канада-Бельгия-Нидерланды-Австрия-Германия',\n",
       "       'Великобритания-США-Канада-Нидерланды-Франция',\n",
       "       'Великобритания-США-Россия', 'Великобритания-США-Франция',\n",
       "       'Великобритания-США-Швейцария', 'Великобритания-Франция',\n",
       "       'Великобритания-Франция-Австрия-Швеция',\n",
       "       'Великобритания-Франция-Бельгия',\n",
       "       'Великобритания-Франция-Бельгия-Италия',\n",
       "       'Великобритания-Франция-Бельгия-США',\n",
       "       'Великобритания-Франция-Венгрия',\n",
       "       'Великобритания-Франция-Германия',\n",
       "       'Великобритания-Франция-Германия-США',\n",
       "       'Великобритания-Франция-Италия',\n",
       "       'Великобритания-Франция-Италия-Индия-Дания-КНР-Бангладеш-Камбоджа-Гаити-Уганда',\n",
       "       'Великобритания-Франция-Италия-США',\n",
       "       'Великобритания-Франция-Республика Кипр-Швейцария-США-Сербия',\n",
       "       'Великобритания-Франция-США',\n",
       "       'Великобритания-Франция-Швеция-Бельгия',\n",
       "       'Великобритания-Чехия-Франция',\n",
       "       'Великобритания-Чехия-Франция-Италия', 'Великобритания-Швеция-США',\n",
       "       'Великобритания-ЮАР',\n",
       "       'Великобритания-Южная Корея-Канада-США-Индия-Китай-Япония',\n",
       "       'Великобритания-Япония-США', 'Венгрия', 'Венгрия-Германия-Швеция',\n",
       "       'Венесуэла', 'Германия', 'Германия-Австралия', 'Германия-Австрия',\n",
       "       'Германия-Австрия-Ирландия', 'Германия-Австрия-Франция',\n",
       "       'Германия-Австрия-Франция-Италия',\n",
       "       'Германия-Аргентина-Нидерланды-Чили', 'Германия-Бельгия',\n",
       "       'Германия-Бельгия-Великобритания',\n",
       "       'Германия-Бельгия-Люксембург-Ирландия',\n",
       "       'Германия-Бельгия-Люксембург-Норвегия',\n",
       "       'Германия-Бельгия-США -Франция', 'Германия-Великобритания',\n",
       "       'Германия-Великобритания-Австрия',\n",
       "       'Германия-Великобритания-Италия-Испания',\n",
       "       'Германия-Великобритания-США',\n",
       "       'Германия-Дания-Испания-Швеция-Канада-Эстония-Франция',\n",
       "       'Германия-Дания-Норвегия', 'Германия-Израиль', 'Германия-Исландия',\n",
       "       'Германия-Италия', 'Германия-Италия- Шри-Ланка',\n",
       "       'Германия-Италия-США', 'Германия-Италия-Франция',\n",
       "       'Германия-Италия-Швейцария', 'Германия-Канада',\n",
       "       'Германия-Канада-Великобритания-Швейцария-Франция',\n",
       "       'Германия-Канада-Франция-Бельгия', 'Германия-Кения',\n",
       "       'Германия-Китай', 'Германия-Люксембург-Бельгия',\n",
       "       'Германия-Люксембург-Дания', 'Германия-Люксембург-Франция',\n",
       "       'Германия-Нидерланды-Беларусь-Россия-Латвия',\n",
       "       'Германия-Нидерланды-ЮАР', 'Германия-Россия', 'Германия-США',\n",
       "       'Германия-США-Великобритания-Израиль',\n",
       "       'Германия-США-Великобритания-Ирландия',\n",
       "       'Германия-США-Франция-Испания', 'Германия-США-Швеция-Франция',\n",
       "       'Германия-Украина-Нидерланды', 'Германия-Финляндия-Австралия',\n",
       "       'Германия-Франция',\n",
       "       'Германия-Франция- Польша-Турция-Канада-Италия-Россия ',\n",
       "       'Германия-Франция-Австрия', 'Германия-Франция-Бельгия',\n",
       "       'Германия-Франция-Великобритания',\n",
       "       'Германия-Франция-Великобритания-Польша-США',\n",
       "       'Германия-Франция-Великобритания-США', 'Германия-Франция-Канада',\n",
       "       'Германия-Франция-Люксембург', 'Германия-Франция-Польша',\n",
       "       'Германия-Франция-США', 'Германия-Швейцария',\n",
       "       'Германия-Швейцария-Франция-Южная Корея-США', 'Германия-Швеция',\n",
       "       'Голландия', 'Гонконг', 'Гонконг-КНР',\n",
       "       'Гонконг-Сингапур-Таиланд-Великобритания', 'Греция',\n",
       "       'Греция-Германия-Франция', 'Греция-Россия', 'Грузия',\n",
       "       'Грузия-Россия', 'Грузия-Россия-Украина-Хорватия-Германия',\n",
       "       'Грузия-Украина', 'Грузия-Франция', 'Грузия-Франция-Люксембург',\n",
       "       'Дания',\n",
       "       'Дания-Австрия-Ирландия-Финляндия-Норвегия-Швеция-Нидерланды',\n",
       "       'Дания-Великобритания-ЮАР', 'Дания-Германия',\n",
       "       'Дания-Германия-Швеция', 'Дания-Исландия',\n",
       "       'Дания-Канада-Норвегия-Австралия-США',\n",
       "       'Дания-Канада-Швеция-Франция-Германия-Великобритания-США',\n",
       "       'Дания-Латвия-Россия-США', 'Дания-Норвегия-Великобритания',\n",
       "       'Дания-Норвегия-Венгрия-Чехия', 'Дания-Норвегия-Швеция-Исландия',\n",
       "       'Дания-США', 'Дания-Франция-Бельгия-Германия-Великобритания',\n",
       "       'Дания-Франция-Германия-Швеция',\n",
       "       'Дания-Франция-Италия-Бельгия-Нидерланды',\n",
       "       'Дания-Швейцария-Бельгия-Франция', 'Дания-Швеция',\n",
       "       'Дания-Швеция-Великобритания-Франция-Германия-Нидерланды-Норвегия-Финляндия',\n",
       "       'Дания-Швеция-Великобритания-Франция-Германия-Норвегия-Финляндия-Нидерланды-Италия',\n",
       "       'Дания-Швеция-Италия-Франция-Германия',\n",
       "       'Дания-Швеция-Франция-Германия', 'Израиль',\n",
       "       'Израиль-Германия-Польша-Бельгия-Франция-Люксембург',\n",
       "       'Израиль-Германия-Франция-Швейцария', 'Израиль-США-Франция',\n",
       "       'Израиль-Украина', 'Израиль-Франция',\n",
       "       'Израиль-Франция-Великобритания-Германия',\n",
       "       'Израиль-Франция-Германия-Палестина-США-Австрия-Великобритания',\n",
       "       'Индия', 'Индия-Великобритания', 'Индия-КНР', 'Индия-Мексика',\n",
       "       'Индия-США', 'Индонезия', 'Иран', 'Иран ', 'Иран-Франция',\n",
       "       'Ирландия', 'Ирландия-Великобритания',\n",
       "       'Ирландия-Великобритания-Германия',\n",
       "       'Ирландия-Великобритания-Канада', 'Ирландия-Великобритания-США',\n",
       "       'Ирландия-Великобритания-Франция-США',\n",
       "       'Ирландия-Великобритания-Франция-США-Германия-Нидерланды',\n",
       "       'Ирландия-Дания-Бельгия-Люксембург-Франция', 'Ирландия-Канада',\n",
       "       'Ирландия-Нидерланды-Франция-США-Великобритания', 'Ирландия-США',\n",
       "       'Ирландия-Финляндия-Бельгия-Великобритания-США-Швейцария',\n",
       "       'Исландия', 'Исландия-Бельгия', 'Исландия-Ирландия-Германия',\n",
       "       'Исландия-Финляндия', 'Испания', 'Испания-Аргентина',\n",
       "       'Испания-Аргентина-Индия-США',\n",
       "       'Испания-Бельгия-Франция-Португалия-Великобритания',\n",
       "       'Испания-Болгария-США', 'Испания-Великобритания-Франция',\n",
       "       'Испания-Германия-Нидерланды', 'Испания-Ирландия-Бельгия-Франция',\n",
       "       'Испания-Италия-Франция', 'Испания-Канада',\n",
       "       'Испания-Канада-Япония', 'Испания-Колумбия', 'Испания-Куба',\n",
       "       'Испания-Мальта', 'Испания-Мексика', 'Испания-США',\n",
       "       'Испания-США-Великобритания-Канада', 'Испания-США-Колумбия',\n",
       "       'Испания-Уругвай-Аргентина', 'Испания-Франция',\n",
       "       'Испания-Франция-Великобритания-Дания-Бельгия-Германия',\n",
       "       'Испания-Франция-Греция-Индия-США-Россия-Великобритания',\n",
       "       'Испания-Франция-Италия',\n",
       "       'Испания-Франция-Нидерланды-Германия-Бельгия-Великобритания-Канада',\n",
       "       'Испания-Франция-США-Великобритания-Бельгия',\n",
       "       'Испания-Швейцария-Великобритания-Германия-Новая Зеландия-Нидерланды-Канада',\n",
       "       'Италия', 'Италия ', 'Италия-Аргентина-Словения ',\n",
       "       'Италия-Бельгия-Франция', 'Италия-Великобритания',\n",
       "       'Италия-Германия', 'Италия-Испания', 'Италия-Канада',\n",
       "       'Италия-Россия', 'Италия-США', 'Италия-Франция',\n",
       "       'Италия-Франция-Великобритания', 'Италия-Франция-Германия',\n",
       "       'Италия-Франция-Швейцария',\n",
       "       'Италия-Франция-Швейцария-Великобритания',\n",
       "       'Италия-Фрация-Бразилия-Германия', 'Италия-Швейцария',\n",
       "       'Италия-Швейцария-Германия', 'Италия-Швейцария-Франция-Германия ',\n",
       "       'КНР', 'КНР-Гонконг', 'КНР-Гонконг-США', 'КНР-Индия-Гонконг-США',\n",
       "       'КНР-Канада-США', 'КНР-США', 'КНР-США ', 'КНР-Сингапур',\n",
       "       'КНР-Франция', 'Казахстан', 'Канада', 'Канада- Испания',\n",
       "       'Канада-Бразилия-Япония', 'Канада-Великобритания',\n",
       "       'Канада-Германия', 'Канада-Испания', 'Канада-Италия', 'Канада-КНР',\n",
       "       'Канада-Мексика', 'Канада-Норвегия', 'Канада-США',\n",
       "       'Канада-США-Германия-Франция', 'Канада-США-Каймановы острова',\n",
       "       'Канада-США-Нидерланды-Великобритания-Аргентина',\n",
       "       'Канада-США-Норвегия', 'Канада-Франция',\n",
       "       'Канада-Франция-Великобритания', 'Канада-Франция-Испания',\n",
       "       'Канада-Франция-Италия-Швейцария-США',\n",
       "       'Канада-Франция-США-ОАЭ-Великобритания', 'Канада-ЮАР',\n",
       "       'Канада-Южная Корея', 'Канада-Южная Корея-США', 'Кения-Германия',\n",
       "       'Киргизия', 'Киргизия-Россия', 'Китай', 'Китай-Гонконг',\n",
       "       'Китай-Гонконг-США', 'Китай-Канада-США', 'Китай-США',\n",
       "       'Княжество Андорра-Украина', 'Колумбия', 'Колумбия-США', 'Корея',\n",
       "       'Латвия-Россия', 'Латвия-Франция', 'Ливан-США', 'Литва-Венгрия',\n",
       "       'Литва-Россия-Украина', 'Люксембург-Бельгия-Франция',\n",
       "       'Люксембург-Нидерланды-Испания-Великобритания-США-Италия',\n",
       "       'Македония-Франция-Великобритания', 'Малайзия', 'Малайзия-США',\n",
       "       'Мексика', 'Мексика-Аргентина', 'Мексика-Аргентина-Великобритания',\n",
       "       'Мексика-Испания', 'Мексика-Испания-Дания-США',\n",
       "       'Мексика-Нидерланды-Германия-Франция', 'Мексика-США',\n",
       "       'Мексика-Тайвань-США', 'Мексика-Франция',\n",
       "       'Мексика-Франция-Германия-Дания-Швеция',\n",
       "       'Мексика-Франция-Нидерланды-Германия', 'Мексика-Чили',\n",
       "       'Мексика-Эквадор-Канада-США-Франция-Малайзия-Италия-Аргентина-Германия-Индия  ',\n",
       "       'Монголия', 'Нидерланды', 'Нидерланды-Бельгия',\n",
       "       'Нидерланды-Бельгия-Болгария',\n",
       "       'Нидерланды-Бельгия-Германия-Ирландия',\n",
       "       'Нидерланды-Бельгия-Люксембург',\n",
       "       'Нидерланды-Великобритания-Бельгия',\n",
       "       'Нидерланды-Великобритания-Франция-Италия-Япония',\n",
       "       'Нидерланды-Россия', 'Нидерланды-Россия-Германия',\n",
       "       'Нидерланды-США-Германия-Канада-Франция-Ирландия-Великобритания',\n",
       "       'Нидерланды-Франция-Германия-Бельгия-Швеция-Великобритания',\n",
       "       'Новая Зеландия', 'Новая Зеландия-КНР', 'Новая Зеландия-США',\n",
       "       'Норвегия',\n",
       "       'Норвегия-Азербайджан-Россия-Колумбия-Великобритания-Венгрия-Румыния-Франция-Грузия',\n",
       "       'Норвегия-Дания-Швеция', 'Норвегия-Исландия-США-Великобритания ',\n",
       "       'Норвегия-Нидерланды', 'Норвегия-США', 'Норвегия-Швеция',\n",
       "       'Норвегия-Швеция-Дания', 'Норвегия-Швеция-Дания-Германия',\n",
       "       'Норвегия-Швеция-Россия', 'Норвения', 'ОАЭ-США', 'Пакистан',\n",
       "       'Парагвай', 'Перу', 'Польша', 'Польша-Ирландия',\n",
       "       'Польша-Италия-Россия', 'Польша-Португалия-Франция-Великобритания',\n",
       "       'Польша-Франция', 'Польша-Франция-Великобритания',\n",
       "       'Польша-Франция-Испания-Бразилия-Швеция', 'Португалия',\n",
       "       'Португалия-Франция', 'Португалия-Франция-Польша-США',\n",
       "       'Пуэрто-Рико-Великобритания-США', 'Республика Армения',\n",
       "       'Республика Беларусь', 'Республика Беларусь-Германия-США-Россия',\n",
       "       'Республика Казахстан', 'Республика Кипр',\n",
       "       'Республика Кипр-Россия', 'Республика Кипр-США-Россия',\n",
       "       'Республика Корея', 'Республика Узбекистан', 'Россия',\n",
       "       'Россия- Испания', 'Россия-Австрия', 'Россия-Азербайджан',\n",
       "       'Россия-Армения', 'Россия-Беларусь', 'Россия-Белоруссия',\n",
       "       'Россия-Бельгия-Финляндия', 'Россия-Болгария', 'Россия-Германия',\n",
       "       'Россия-Германия-Великобритания',\n",
       "       'Россия-Германия-Казахстан-Польша-Китай',\n",
       "       'Россия-Германия-Украина', 'Россия-Германия-Франция-Бельгия',\n",
       "       'Россия-Германия-Швейцария', 'Россия-Грузия',\n",
       "       'Россия-Грузия-Испания', 'Россия-Грузия-Хорватия-Испания',\n",
       "       'Россия-Ирландия', 'Россия-Испания', 'Россия-Италия',\n",
       "       'Россия-Казахстан', 'Россия-Казахстан-США', 'Россия-Кипр',\n",
       "       'Россия-Китай', 'Россия-Латвия-Чешская Республика',\n",
       "       'Россия-Нидерланды-Финляндия', 'Россия-Польша',\n",
       "       'Россия-Польша-Голландия-Словакия', 'Россия-Польша-Финляндия',\n",
       "       'Россия-Республика Беларусь', 'Россия-Республика Кипр',\n",
       "       'Россия-Румыния', 'Россия-США', 'Россия-США-Канада-Люксембург',\n",
       "       'Россия-Сербия', 'Россия-Словакия-Чехия', 'Россия-Таджикистан',\n",
       "       'Россия-Украина', 'Россия-Украина-Германия',\n",
       "       'Россия-Украина-Польша',\n",
       "       'Россия-Украина-Республика Беларусь-Литва', 'Россия-Франция',\n",
       "       'Россия-Франция-Великобритания-Латвия',\n",
       "       'Россия-Франция-Германия-Бельгия', 'Россия-Франция-Латвия',\n",
       "       'Россия-Эстония-Финляндия-Беларусь', 'Румыния', 'Румыния-США',\n",
       "       'Румыния-Франция-Бельгия',\n",
       "       'Румыния-ЮАР-Иран-Франция-Канада-Великобритания', 'СССР', 'СССР ',\n",
       "       'СССР  ', 'СССР   ', 'СССР    ', 'СССР     ', 'СССР-Албания',\n",
       "       'СССР-Афганистан', 'СССР-ВНР', 'СССР-Венгрия',\n",
       "       'СССР-Венгрия-ЧССР-ГДР', 'СССР-ГДР', 'СССР-ГДР-Польша-Италия',\n",
       "       'СССР-Италия', 'СССР-Монголия', 'СССР-Польша', 'СССР-Россия',\n",
       "       'СССР-Румыния-Франция', 'СССР-ФРГ', 'СССР-ФРГ-Западный Берлин',\n",
       "       'СССР-Финляндия', 'СССР-Франция-Англия-Куба-ГДР',\n",
       "       'СССР-ЧССР-Западный Берлин-ПНР', 'СССР-Швейцария-Франция',\n",
       "       'СССР-Швеция', 'США', 'США ', 'США -Великобритания-Австралия',\n",
       "       'США -Германия', 'США- Ю.Корея', 'США-Австралия',\n",
       "       'США-Австралия-Дания', 'США-Австралия-Индия',\n",
       "       'США-Австралия-Мексика',\n",
       "       'США-Австралия-Новая Зеландия-Великобритания',\n",
       "       'США-Австралия-Франция', 'США-Аргентина', 'США-Бельгия',\n",
       "       'США-Бельгия-Великобритания', 'США-Болгария-Мексика',\n",
       "       'США-Бразилия-Великобритания-Канада',\n",
       "       'США-Бразилия-Франция-Австралия-Великобритания-Германия',\n",
       "       'США-Великобритания', 'США-Великобритания ',\n",
       "       'США-Великобритания- Франция-Швеция',\n",
       "       'США-Великобритания-Австралия', 'США-Великобритания-Болгария',\n",
       "       'США-Великобритания-Германия',\n",
       "       'США-Великобритания-Германия-- Швеция-Канада',\n",
       "       'США-Великобритания-Германия-Бельгия-Дания',\n",
       "       'США-Великобритания-Германия-Новая Зеландия-Бельгия-Франция',\n",
       "       'США-Великобритания-Индия', 'США-Великобритания-Ирландия',\n",
       "       'США-Великобритания-Ирландия-Люксембург',\n",
       "       'США-Великобритания-Исландия', 'США-Великобритания-Испания',\n",
       "       'США-Великобритания-Италия-Израиль-Сербия-Индия',\n",
       "       'США-Великобритания-КНР', 'США-Великобритания-Канада',\n",
       "       'США-Великобритания-Канада-КНР',\n",
       "       'США-Великобритания-Канада-Швеция',\n",
       "       'США-Великобритания-Люксембург',\n",
       "       'США-Великобритания-Новая Зеландия', 'США-Великобритания-Франция',\n",
       "       'США-Великобритания-Франция-Гонконг', 'США-Великобритания-Чехия',\n",
       "       'США-Великобритания-Чехия-Румыния',\n",
       "       'США-Великобритания-Швейцария-Франция',\n",
       "       'США-Великобритания-Швеция', 'США-Великобритания-Япония',\n",
       "       'США-Венгрия', 'США-Венгрия-Великобритания', 'США-Вьетнам',\n",
       "       'США-Германия', 'США-Германия-Австралия',\n",
       "       'США-Германия-Великобритания', 'США-Германия-Гонконг-Сингапур',\n",
       "       'США-Германия-КНР', 'США-Германия-Канада',\n",
       "       'США-Германия-Нидерланды', 'США-Германия-Франция',\n",
       "       'США-Германия-Франция-Великобритания-Канада ',\n",
       "       'США-Германия-Япония', 'США-Гонконг', 'США-Гонконг ',\n",
       "       'США-Гонконг-КНР ', 'США-Гонконг-Китай', 'США-Дания', 'США-Индия',\n",
       "       'США-Индия-ОАЭ', 'США-Индонезия', 'США-Ирландия',\n",
       "       'США-Ирландия-Великобритания',\n",
       "       'США-Ирландия-Великобритания-Франция', 'США-Испания',\n",
       "       'США-Испания-Болгария', 'США-Испания-Франция',\n",
       "       'США-Испания-Франция-Великобритания', 'США-Италия',\n",
       "       'США-Италия-Греция', 'США-Италия-Испания',\n",
       "       'США-Италия-Испания-Аргентина', 'США-КНР', 'США-КНР-Индия-Ю.Корея',\n",
       "       'США-Канада', 'США-Канада-Австралия', 'США-Канада-Аргентина',\n",
       "       'США-Канада-Афганистан-Бельгия-Франция', 'США-Канада-Бельгия',\n",
       "       'США-Канада-Великобритания', 'США-Канада-Германия',\n",
       "       'США-Канада-Германия-Франция', 'США-Канада-Индонезия',\n",
       "       'США-Канада-Италия', 'США-Канада-КНР',\n",
       "       'США-Канада-Россия-Франция-Чили-Ирландия', 'США-Канада-Франция',\n",
       "       'США-Канада-Франция-Индия', 'США-Канада-Япония-КНР', 'США-Китай',\n",
       "       'США-Колумбия', 'США-Колумбия-Испания', 'США-Мальта',\n",
       "       'США-Мексика', 'США-Нидерланды',\n",
       "       'США-Нидерланды-Бельгия-Венгрия-Греция-Канада',\n",
       "       'США-Нидерланды-Финляндия-Великобритания-Италия',\n",
       "       'США-Новая Зеландия', 'США-Новая Зеландия-Япония', 'США-Норвегия',\n",
       "       'США-ОАЭ', 'США-Объединенные Арабские Эмираты', 'США-Пуэрто Рико',\n",
       "       'США-Пуэрто-Рико-Франция ', 'США-Россия',\n",
       "       'США-Россия-Польша-Германия-Пуэрто Рико', 'США-Россия-Франция',\n",
       "       'США-Румыния-Великобритания', 'США-Сингапур-Малайзия-Индонезия',\n",
       "       'США-Украина', 'США-ФРГ-Россия', 'США-Финляндия',\n",
       "       'США-Финляндия-Испания-Великобритания-Франция', 'США-Франция',\n",
       "       'США-Франция-Бельгия-Италия', 'США-Франция-Великобритания',\n",
       "       'США-Франция-Великобритания-Австрия',\n",
       "       'США-Франция-Великобритания-Бразилия ', 'США-Франция-Германия',\n",
       "       'США-Франция-Германия-Канада-Австралия ', 'США-Франция-Ирландия',\n",
       "       'США-Франция-Испания', 'США-Франция-Испания-Великобритания',\n",
       "       'США-Франция-Канада', 'США-Франция-Канада-Великобритания',\n",
       "       'США-Франция-Канада-Германия-Австралия-Индия',\n",
       "       'США-Франция-Турция', 'США-Франция-ЮАР', 'США-Франция-Япония',\n",
       "       'США-Хорватия-Босния-Герцеговина', 'США-Чехия-Франция', 'США-Чили',\n",
       "       'США-Швейцария-Франция', 'США-Швеция', 'США-ЮАР',\n",
       "       'США-ЮАР-Гонконг', 'США-Южная Корея',\n",
       "       'США-Южная Корея-Новая Зеландия', 'США-Япония',\n",
       "       'США-Япония-Германия', 'США-Япония-Германия-Великобритания',\n",
       "       'США-Япония-Германия-Великобритания-Нидерланды',\n",
       "       'США-Япония-Канада-Великобритания-Германия-Франция',\n",
       "       'США-Япония-Франция-Великобритания', 'СЩА',\n",
       "       'Сербия-Великобритания-США', 'Сербия-Германия-Венгрия',\n",
       "       'Сербия-Словения-Хорватия-Черногория-Македония',\n",
       "       'Сингапур-Великобритания-Индонезия-Канада-США', 'Сша-Канада',\n",
       "       'Таиланд',\n",
       "       'Таиланд-Великобритания-Франция-Германия-Испания-Нидерланды',\n",
       "       'Таиланд-КНР-США', 'Таиланд-США', 'Турция',\n",
       "       'Турция-Германя-Франция', 'Турция-США', 'Украина',\n",
       "       'Украина-Германия-Латвия-Эстония', 'Украина-Нидерланды',\n",
       "       'Уругвай-Аргентина-Испания', 'Уругвай-Колумбия',\n",
       "       'Уругвай-Мексика-Германия ', 'Финляндия',\n",
       "       'Финляндия-Австрия-Россия', 'Финляндия-Великобритания-Германия',\n",
       "       'Финляндия-Германия', 'Финляндия-Дания-Германия-Ирландия',\n",
       "       'Финляндия-Исландия-Швеция', 'Финляндия-Канада',\n",
       "       'Финляндия-Латвия', 'Финляндия-Польша',\n",
       "       'Финляндия-Франция-Германия', 'Финляндия-Швеция-Германия',\n",
       "       'Финляндия-Швеция-Норвегия', 'Франция', 'Франция ',\n",
       "       'Франция -Бельгия', 'Франция- Бельгия', 'Франция-Австралия',\n",
       "       'Франция-Австрия', 'Франция-Австрия-Германия-Италия-США',\n",
       "       'Франция-Аргентина', 'Франция-Бельгия',\n",
       "       'Франция-Бельгия-Великобритания-Испания-Германия-США',\n",
       "       'Франция-Бельгия-Великобритания-США-Нидерланды-Канада',\n",
       "       'Франция-Бельгия-Испания', 'Франция-Бельгия-Канада',\n",
       "       'Франция-Бельгия-Люксембург', 'Франция-Бельгия-Чехия',\n",
       "       'Франция-Бельгия-Япония', 'Франция-Бенльгия', 'Франция-Бразилия',\n",
       "       'Франция-Бразилия-Италия', 'Франция-Великобритания',\n",
       "       'Франция-Великобритания-Багамские острова-США',\n",
       "       'Франция-Великобритания-Германия',\n",
       "       'Франция-Великобритания-Камбоджа-США-КНР',\n",
       "       'Франция-Великобритания-Нидерланды-Люксембург',\n",
       "       'Франция-Великобритания-Чехия', 'Франция-Германия',\n",
       "       'Франция-Германия-Австрия', 'Франция-Германия-Бельгия',\n",
       "       'Франция-Германия-Великобритания', 'Франция-Германия-Италия',\n",
       "       'Франция-Германия-Литва-Нидерланды-Россия',\n",
       "       'Франция-Германия-Нидерланды', 'Франция-Германия-США',\n",
       "       'Франция-Германия-Турция-Катар',\n",
       "       'Франция-Германия-Швеция-США-Чехия-Словакия-Великобритания-Нидерланды',\n",
       "       'Франция-Гонконг-Ирландия', 'Франция-Греция',\n",
       "       'Франция-Грузия-Германия-Россия-Украина-Бельгия', 'Франция-Дания',\n",
       "       'Франция-Дания-США', 'Франция-Дания-Швеция-КНР',\n",
       "       'Франция-Израиль-Германия', 'Франция-Индия',\n",
       "       'Франция-Ирландия-Швеция', 'Франция-Испания',\n",
       "       'Франция-Испания-Бельгия-Панама', 'Франция-Испания-Германия',\n",
       "       'Франция-Испания-Дания-Венгрия-Швейцария',\n",
       "       'Франция-Испания-Румыния-США-Бельгия', 'Франция-Испания-Тайвань',\n",
       "       'Франция-Испания-Швейцария', 'Франция-Италия',\n",
       "       'Франция-Италия-Бельгия-КНР', 'Франция-Италия-Бельгия-Люксембург',\n",
       "       'Франция-Италия-Великобритания-США', 'Франция-Италия-Иран',\n",
       "       'Франция-Италия-Испания-Венгрия', 'Франция-Италия-Швейцария',\n",
       "       'Франция-КНР', 'Франция-Канада', 'Франция-Канада-Бельгия',\n",
       "       'Франция-Канада-Н.Зеландия-США-Нидерланды-Германия-Швеция-Россия',\n",
       "       'Франция-Китай', 'Франция-Люксембург',\n",
       "       'Франция-Люксембург-Бельгия',\n",
       "       'Франция-Люксембург-Германия-Бельгия-Швейцария-Великобритания ',\n",
       "       'Франция-Македония', 'Франция-Мексика-США', 'Франция-Монако',\n",
       "       'Франция-Нидерланды', 'Франция-Новая Зеландия', 'Франция-Норвегия',\n",
       "       'Франция-Перу', 'Франция-Польша', 'Франция-Польша-Бельгия',\n",
       "       'Франция-Португалия', 'Франция-Россия',\n",
       "       'Франция-Россия-Румыния-Италия-Бельгия',\n",
       "       'Франция-Россия-Швейцария-Румыния-Венгрия', 'Франция-США',\n",
       "       'Франция-США-Бельгия',\n",
       "       'Франция-США-Великобритания-Колумбия-Бельгия-Россия',\n",
       "       'Франция-США-Норвегия-Дания', 'Франция-Сенегал-Бельгия',\n",
       "       'Франция-Украина', 'Франция-Украина-Грузия-Армения',\n",
       "       'Франция-Финляндия', 'Франция-Чехия-Бельгия',\n",
       "       'Франция-Чехия-Великобритания', 'Франция-Чили',\n",
       "       'Франция-Швейцария', 'Франция-Швейцария-Германия',\n",
       "       'Франция-Швеция-Дания-Норвегия', 'Хорватия', 'Чехия',\n",
       "       'Чехия-Великобритания-США', 'Чехия-Германия', 'Чехия-Испания-США',\n",
       "       'Чехия-Словакия-Хорватия', 'Чехословакия', 'Чили', 'Чили-Испания',\n",
       "       'Чили-Франция-США', 'Швейцария', 'Швейцария-Австрия',\n",
       "       'Швейцария-Великобритания',\n",
       "       'Швейцария-Великобритания-Франция-США-Ирландия',\n",
       "       'Швейцария-Германия-ЮАР',\n",
       "       'Швейцария-Израиль-Франция-Великобритания',\n",
       "       'Швейцария-КНР-США-Россия-Республика Корея-Великобритания',\n",
       "       'Швейцария-Люксембург', 'Швейцария-Франция', 'Швеция',\n",
       "       'Швеция-Германия', 'Швеция-Германия-Дания-Норвегия',\n",
       "       'Швеция-Германия-Франция-Дания',\n",
       "       'Швеция-Германия-Франция-Норвегия', 'Швеция-Дания',\n",
       "       'Швеция-Дания-Финляндия', 'Швеция-Куба', 'Швеция-Норвегия',\n",
       "       'Швеция-Норвегия-Финляндия-Франция', 'Швеция-США',\n",
       "       'Швеция-Финляндия-Франция-Норвегия', 'Швеция-Франция',\n",
       "       'Швеция-Франция-Великобритания', 'Швеция-Франция-Дания',\n",
       "       'Швеция-Франция-Норвегия-Дания', 'Эстония', 'Эстония-Россия',\n",
       "       'ЮАР', 'ЮАР-США', 'Южная Корея', 'Южная Корея-КНР',\n",
       "       'Южная Корея-США', 'Южная Корея-США-Канада', 'Япония',\n",
       "       'Япония-Великобритания',\n",
       "       'Япония-Великобритания-Австрия-Германия-Ю.Корея',\n",
       "       'Япония-Великобритания-Франция',\n",
       "       'Япония-Великобритания-Швейцария-Ирландия-Дания-Франция-Польша-Австралия-Канада  ',\n",
       "       'Япония-КНР-Южная Корея', 'Япония-Канада', 'Япония-США',\n",
       "       'Япония-США-Франция', 'Япония-Франция-США-Южная Корея-Турция'],\n",
       "      dtype=object)"
      ]
     },
     "execution_count": 28,
     "metadata": {},
     "output_type": "execute_result"
    }
   ],
   "source": [
    "df[\"production_country\"].sort_values().unique()"
   ]
  },
  {
   "cell_type": "markdown",
   "metadata": {},
   "source": [
    "Возможно после удаления не явных дубликатов могли появиться одинаковые строки. Проверим еще раз df на наличие явных дубликатов."
   ]
  },
  {
   "cell_type": "code",
   "execution_count": 29,
   "metadata": {},
   "outputs": [
    {
     "data": {
      "text/plain": [
       "0"
      ]
     },
     "execution_count": 29,
     "metadata": {},
     "output_type": "execute_result"
    }
   ],
   "source": [
    "df.duplicated().sum()"
   ]
  },
  {
   "cell_type": "code",
   "execution_count": 30,
   "metadata": {},
   "outputs": [
    {
     "data": {
      "text/plain": [
       "714"
      ]
     },
     "metadata": {},
     "output_type": "display_data"
    },
    {
     "data": {
      "text/plain": [
       "2"
      ]
     },
     "metadata": {},
     "output_type": "display_data"
    }
   ],
   "source": [
    "for column in [\"title\", \"pu_number\"]:\n",
    "    display(df[column].duplicated().sum())"
   ]
  },
  {
   "cell_type": "code",
   "execution_count": 31,
   "metadata": {},
   "outputs": [
    {
     "data": {
      "text/html": [
       "<div>\n",
       "<style scoped>\n",
       "    .dataframe tbody tr th:only-of-type {\n",
       "        vertical-align: middle;\n",
       "    }\n",
       "\n",
       "    .dataframe tbody tr th {\n",
       "        vertical-align: top;\n",
       "    }\n",
       "\n",
       "    .dataframe thead th {\n",
       "        text-align: right;\n",
       "    }\n",
       "</style>\n",
       "<table border=\"1\" class=\"dataframe\">\n",
       "  <thead>\n",
       "    <tr style=\"text-align: right;\">\n",
       "      <th></th>\n",
       "      <th>title</th>\n",
       "      <th>pu_number</th>\n",
       "      <th>show_start_date</th>\n",
       "      <th>type</th>\n",
       "      <th>film_studio</th>\n",
       "      <th>production_country</th>\n",
       "      <th>director</th>\n",
       "      <th>producer</th>\n",
       "      <th>refundable_support</th>\n",
       "      <th>nonrefundable_support</th>\n",
       "      <th>budget</th>\n",
       "      <th>financing_source</th>\n",
       "      <th>genres</th>\n",
       "      <th>box_office</th>\n",
       "      <th>age_category</th>\n",
       "      <th>ratings_new</th>\n",
       "    </tr>\n",
       "  </thead>\n",
       "  <tbody>\n",
       "    <tr>\n",
       "      <th>3</th>\n",
       "      <td>Особо опасен</td>\n",
       "      <td>221026916</td>\n",
       "      <td>2016-06-10 12:00:00+00:00</td>\n",
       "      <td>Художественный</td>\n",
       "      <td>Юниверсал Пикчерз, Кикстарт Продакшнз, Марк Пл...</td>\n",
       "      <td>США</td>\n",
       "      <td>Тимур Бекмамбетов</td>\n",
       "      <td>Джим Лемли, Джейсон Нетер, Марк Е.Платт, Яйн Смит</td>\n",
       "      <td>-1</td>\n",
       "      <td>-1</td>\n",
       "      <td>-1</td>\n",
       "      <td>nonsupport</td>\n",
       "      <td>фантастика,боевик,триллер</td>\n",
       "      <td>-1</td>\n",
       "      <td>18</td>\n",
       "      <td>68</td>\n",
       "    </tr>\n",
       "    <tr>\n",
       "      <th>4</th>\n",
       "      <td>Особо опасен</td>\n",
       "      <td>221030815</td>\n",
       "      <td>2015-07-29 12:00:00+00:00</td>\n",
       "      <td>Художественный</td>\n",
       "      <td>Юниверсал Пикчерз, Кикстарт Продакшнз, Марк Пл...</td>\n",
       "      <td>США</td>\n",
       "      <td>Тимур Бекмамбетов</td>\n",
       "      <td>Джим Лемли, Джейсон Нетер, Марк Е.Платт, Яйн Смит</td>\n",
       "      <td>-1</td>\n",
       "      <td>-1</td>\n",
       "      <td>-1</td>\n",
       "      <td>nonsupport</td>\n",
       "      <td>фантастика,боевик,триллер</td>\n",
       "      <td>-1</td>\n",
       "      <td>18</td>\n",
       "      <td>68</td>\n",
       "    </tr>\n",
       "    <tr>\n",
       "      <th>41</th>\n",
       "      <td>Алекс и Эмма</td>\n",
       "      <td>221004616</td>\n",
       "      <td>2016-02-09 12:00:00+00:00</td>\n",
       "      <td>Художественный</td>\n",
       "      <td>Эскейп Артистс, Франчайз Пикчерз, Рейнер-Грэйс...</td>\n",
       "      <td>США</td>\n",
       "      <td>Роб Райнер</td>\n",
       "      <td>Тодд Блэк, Элан Грейсман, Джереми Левен, Роб Р...</td>\n",
       "      <td>-1</td>\n",
       "      <td>-1</td>\n",
       "      <td>-1</td>\n",
       "      <td>nonsupport</td>\n",
       "      <td>мелодрама,комедия</td>\n",
       "      <td>-1</td>\n",
       "      <td>16</td>\n",
       "      <td>64</td>\n",
       "    </tr>\n",
       "    <tr>\n",
       "      <th>110</th>\n",
       "      <td>Гарри Поттер и орден Феникса /По роману Дж.К.Р...</td>\n",
       "      <td>121026316</td>\n",
       "      <td>2016-09-23 12:00:00+00:00</td>\n",
       "      <td>Художественный</td>\n",
       "      <td>Уорнер Бразерс, Хэйдей Филмз</td>\n",
       "      <td>США-Великобритания</td>\n",
       "      <td>Дэвид Йетс</td>\n",
       "      <td>Дэйвид Баррон, Дэйвид Хейман</td>\n",
       "      <td>-1</td>\n",
       "      <td>-1</td>\n",
       "      <td>-1</td>\n",
       "      <td>nonsupport</td>\n",
       "      <td>фэнтези,приключения,семейный</td>\n",
       "      <td>759526</td>\n",
       "      <td>16</td>\n",
       "      <td>77</td>\n",
       "    </tr>\n",
       "    <tr>\n",
       "      <th>113</th>\n",
       "      <td>Гарри Поттер и узник Азкабана /По роману Дж.К....</td>\n",
       "      <td>121026116</td>\n",
       "      <td>2016-09-23 12:00:00+00:00</td>\n",
       "      <td>Художественный</td>\n",
       "      <td>Хэйдей Филмз, 1492 Пикчерз, Уорнер Бразерс</td>\n",
       "      <td>США</td>\n",
       "      <td>Альфонсо Куарон</td>\n",
       "      <td>Майкл Барната</td>\n",
       "      <td>-1</td>\n",
       "      <td>-1</td>\n",
       "      <td>-1</td>\n",
       "      <td>nonsupport</td>\n",
       "      <td>фэнтези,приключения,семейный</td>\n",
       "      <td>1125302</td>\n",
       "      <td>12</td>\n",
       "      <td>82</td>\n",
       "    </tr>\n",
       "    <tr>\n",
       "      <th>...</th>\n",
       "      <td>...</td>\n",
       "      <td>...</td>\n",
       "      <td>...</td>\n",
       "      <td>...</td>\n",
       "      <td>...</td>\n",
       "      <td>...</td>\n",
       "      <td>...</td>\n",
       "      <td>...</td>\n",
       "      <td>...</td>\n",
       "      <td>...</td>\n",
       "      <td>...</td>\n",
       "      <td>...</td>\n",
       "      <td>...</td>\n",
       "      <td>...</td>\n",
       "      <td>...</td>\n",
       "      <td>...</td>\n",
       "    </tr>\n",
       "    <tr>\n",
       "      <th>7369</th>\n",
       "      <td>Невиновен</td>\n",
       "      <td>111019319</td>\n",
       "      <td>2019-11-07 12:00:00+00:00</td>\n",
       "      <td>Художественный</td>\n",
       "      <td>ООО \"Кавказфильм\"</td>\n",
       "      <td>Россия</td>\n",
       "      <td>А.Емкужев</td>\n",
       "      <td>А.Емкужев, А.Хуажева, ООО \"Корпорация Русская ...</td>\n",
       "      <td>-1</td>\n",
       "      <td>-1</td>\n",
       "      <td>-1</td>\n",
       "      <td>nonsupport</td>\n",
       "      <td>триллер,детектив,криминал</td>\n",
       "      <td>-1</td>\n",
       "      <td>16</td>\n",
       "      <td>75</td>\n",
       "    </tr>\n",
       "    <tr>\n",
       "      <th>7416</th>\n",
       "      <td>Отель \"Гранд Будапешт\"</td>\n",
       "      <td>121035119</td>\n",
       "      <td>2019-12-13 12:00:00+00:00</td>\n",
       "      <td>Художественный</td>\n",
       "      <td>Американ Эмпирикал, Индиан Пэинтбраш, Скотт Ру...</td>\n",
       "      <td>Германия-США</td>\n",
       "      <td>Уэс Андерсен</td>\n",
       "      <td>Уэс Андерсон, Джереми Доусон, Стивен Рейлс</td>\n",
       "      <td>-1</td>\n",
       "      <td>-1</td>\n",
       "      <td>-1</td>\n",
       "      <td>nonsupport</td>\n",
       "      <td>комедия,приключения,детектив</td>\n",
       "      <td>-1</td>\n",
       "      <td>16</td>\n",
       "      <td>79</td>\n",
       "    </tr>\n",
       "    <tr>\n",
       "      <th>7438</th>\n",
       "      <td>Зверь</td>\n",
       "      <td>121035919</td>\n",
       "      <td>2019-12-05 12:00:00+00:00</td>\n",
       "      <td>Художественный</td>\n",
       "      <td>Студио энд Нью</td>\n",
       "      <td>Южная Корея</td>\n",
       "      <td>Ли Джон-хо</td>\n",
       "      <td>Чан Гён-ик, Чон Джи-хун, Пэк Кён сук</td>\n",
       "      <td>-1</td>\n",
       "      <td>-1</td>\n",
       "      <td>-1</td>\n",
       "      <td>nonsupport</td>\n",
       "      <td>триллер,драма</td>\n",
       "      <td>175003</td>\n",
       "      <td>18</td>\n",
       "      <td>65</td>\n",
       "    </tr>\n",
       "    <tr>\n",
       "      <th>7450</th>\n",
       "      <td>В тихом омуте</td>\n",
       "      <td>121036919</td>\n",
       "      <td>2019-12-09 12:00:00+00:00</td>\n",
       "      <td>Художественный</td>\n",
       "      <td>Хэд Гир Филмз, Крео Филмз, Локал Хироу, Метрол...</td>\n",
       "      <td>США</td>\n",
       "      <td>Адам Рэндолл</td>\n",
       "      <td>Мэтт Уолдек</td>\n",
       "      <td>-1</td>\n",
       "      <td>-1</td>\n",
       "      <td>-1</td>\n",
       "      <td>nonsupport</td>\n",
       "      <td>триллер,криминал,детектив</td>\n",
       "      <td>-1</td>\n",
       "      <td>18</td>\n",
       "      <td>68</td>\n",
       "    </tr>\n",
       "    <tr>\n",
       "      <th>7474</th>\n",
       "      <td>Вторжение</td>\n",
       "      <td>111022519</td>\n",
       "      <td>2019-12-23 12:00:00+00:00</td>\n",
       "      <td>Художественный</td>\n",
       "      <td>ООО \"Арт Пикчерс Студия\", ООО \"Водород 2011\"</td>\n",
       "      <td>Россия</td>\n",
       "      <td>Ф.Бондарчук</td>\n",
       "      <td>Ф.Бондарчук, М.Врубель, А.Андрющенко, Д.Рудовский</td>\n",
       "      <td>100000000</td>\n",
       "      <td>400000000</td>\n",
       "      <td>944000000</td>\n",
       "      <td>Фонд кино</td>\n",
       "      <td>фантастика,боевик</td>\n",
       "      <td>-1</td>\n",
       "      <td>12</td>\n",
       "      <td>57</td>\n",
       "    </tr>\n",
       "  </tbody>\n",
       "</table>\n",
       "<p>714 rows × 16 columns</p>\n",
       "</div>"
      ],
      "text/plain": [
       "                                                  title  pu_number  \\\n",
       "3                                          Особо опасен  221026916   \n",
       "4                                          Особо опасен  221030815   \n",
       "41                                         Алекс и Эмма  221004616   \n",
       "110   Гарри Поттер и орден Феникса /По роману Дж.К.Р...  121026316   \n",
       "113   Гарри Поттер и узник Азкабана /По роману Дж.К....  121026116   \n",
       "...                                                 ...        ...   \n",
       "7369                                          Невиновен  111019319   \n",
       "7416                             Отель \"Гранд Будапешт\"  121035119   \n",
       "7438                                              Зверь  121035919   \n",
       "7450                                      В тихом омуте  121036919   \n",
       "7474                                          Вторжение  111022519   \n",
       "\n",
       "               show_start_date            type  \\\n",
       "3    2016-06-10 12:00:00+00:00  Художественный   \n",
       "4    2015-07-29 12:00:00+00:00  Художественный   \n",
       "41   2016-02-09 12:00:00+00:00  Художественный   \n",
       "110  2016-09-23 12:00:00+00:00  Художественный   \n",
       "113  2016-09-23 12:00:00+00:00  Художественный   \n",
       "...                        ...             ...   \n",
       "7369 2019-11-07 12:00:00+00:00  Художественный   \n",
       "7416 2019-12-13 12:00:00+00:00  Художественный   \n",
       "7438 2019-12-05 12:00:00+00:00  Художественный   \n",
       "7450 2019-12-09 12:00:00+00:00  Художественный   \n",
       "7474 2019-12-23 12:00:00+00:00  Художественный   \n",
       "\n",
       "                                            film_studio  production_country  \\\n",
       "3     Юниверсал Пикчерз, Кикстарт Продакшнз, Марк Пл...                 США   \n",
       "4     Юниверсал Пикчерз, Кикстарт Продакшнз, Марк Пл...                 США   \n",
       "41    Эскейп Артистс, Франчайз Пикчерз, Рейнер-Грэйс...                 США   \n",
       "110                        Уорнер Бразерс, Хэйдей Филмз  США-Великобритания   \n",
       "113          Хэйдей Филмз, 1492 Пикчерз, Уорнер Бразерс                 США   \n",
       "...                                                 ...                 ...   \n",
       "7369                                  ООО \"Кавказфильм\"              Россия   \n",
       "7416  Американ Эмпирикал, Индиан Пэинтбраш, Скотт Ру...        Германия-США   \n",
       "7438                                     Студио энд Нью         Южная Корея   \n",
       "7450  Хэд Гир Филмз, Крео Филмз, Локал Хироу, Метрол...                 США   \n",
       "7474       ООО \"Арт Пикчерс Студия\", ООО \"Водород 2011\"              Россия   \n",
       "\n",
       "               director                                           producer  \\\n",
       "3     Тимур Бекмамбетов  Джим Лемли, Джейсон Нетер, Марк Е.Платт, Яйн Смит   \n",
       "4     Тимур Бекмамбетов  Джим Лемли, Джейсон Нетер, Марк Е.Платт, Яйн Смит   \n",
       "41           Роб Райнер  Тодд Блэк, Элан Грейсман, Джереми Левен, Роб Р...   \n",
       "110          Дэвид Йетс                       Дэйвид Баррон, Дэйвид Хейман   \n",
       "113     Альфонсо Куарон                                      Майкл Барната   \n",
       "...                 ...                                                ...   \n",
       "7369          А.Емкужев  А.Емкужев, А.Хуажева, ООО \"Корпорация Русская ...   \n",
       "7416       Уэс Андерсен         Уэс Андерсон, Джереми Доусон, Стивен Рейлс   \n",
       "7438         Ли Джон-хо               Чан Гён-ик, Чон Джи-хун, Пэк Кён сук   \n",
       "7450       Адам Рэндолл                                        Мэтт Уолдек   \n",
       "7474        Ф.Бондарчук  Ф.Бондарчук, М.Врубель, А.Андрющенко, Д.Рудовский   \n",
       "\n",
       "      refundable_support  nonrefundable_support     budget financing_source  \\\n",
       "3                     -1                     -1         -1       nonsupport   \n",
       "4                     -1                     -1         -1       nonsupport   \n",
       "41                    -1                     -1         -1       nonsupport   \n",
       "110                   -1                     -1         -1       nonsupport   \n",
       "113                   -1                     -1         -1       nonsupport   \n",
       "...                  ...                    ...        ...              ...   \n",
       "7369                  -1                     -1         -1       nonsupport   \n",
       "7416                  -1                     -1         -1       nonsupport   \n",
       "7438                  -1                     -1         -1       nonsupport   \n",
       "7450                  -1                     -1         -1       nonsupport   \n",
       "7474           100000000              400000000  944000000        Фонд кино   \n",
       "\n",
       "                            genres  box_office  age_category  ratings_new  \n",
       "3        фантастика,боевик,триллер          -1            18           68  \n",
       "4        фантастика,боевик,триллер          -1            18           68  \n",
       "41               мелодрама,комедия          -1            16           64  \n",
       "110   фэнтези,приключения,семейный      759526            16           77  \n",
       "113   фэнтези,приключения,семейный     1125302            12           82  \n",
       "...                            ...         ...           ...          ...  \n",
       "7369     триллер,детектив,криминал          -1            16           75  \n",
       "7416  комедия,приключения,детектив          -1            16           79  \n",
       "7438                 триллер,драма      175003            18           65  \n",
       "7450     триллер,криминал,детектив          -1            18           68  \n",
       "7474             фантастика,боевик          -1            12           57  \n",
       "\n",
       "[714 rows x 16 columns]"
      ]
     },
     "execution_count": 31,
     "metadata": {},
     "output_type": "execute_result"
    }
   ],
   "source": [
    "df.loc[df[\"title\"].duplicated()]"
   ]
  },
  {
   "cell_type": "code",
   "execution_count": 32,
   "metadata": {},
   "outputs": [
    {
     "data": {
      "text/html": [
       "<div>\n",
       "<style scoped>\n",
       "    .dataframe tbody tr th:only-of-type {\n",
       "        vertical-align: middle;\n",
       "    }\n",
       "\n",
       "    .dataframe tbody tr th {\n",
       "        vertical-align: top;\n",
       "    }\n",
       "\n",
       "    .dataframe thead th {\n",
       "        text-align: right;\n",
       "    }\n",
       "</style>\n",
       "<table border=\"1\" class=\"dataframe\">\n",
       "  <thead>\n",
       "    <tr style=\"text-align: right;\">\n",
       "      <th></th>\n",
       "      <th>title</th>\n",
       "      <th>pu_number</th>\n",
       "      <th>show_start_date</th>\n",
       "      <th>type</th>\n",
       "      <th>film_studio</th>\n",
       "      <th>production_country</th>\n",
       "      <th>director</th>\n",
       "      <th>producer</th>\n",
       "      <th>refundable_support</th>\n",
       "      <th>nonrefundable_support</th>\n",
       "      <th>budget</th>\n",
       "      <th>financing_source</th>\n",
       "      <th>genres</th>\n",
       "      <th>box_office</th>\n",
       "      <th>age_category</th>\n",
       "      <th>ratings_new</th>\n",
       "    </tr>\n",
       "  </thead>\n",
       "  <tbody>\n",
       "    <tr>\n",
       "      <th>4639</th>\n",
       "      <td>Иоанна - женщина на папском престоле /По роман...</td>\n",
       "      <td>221154310</td>\n",
       "      <td>2010-12-17 12:00:00+00:00</td>\n",
       "      <td>Художественный</td>\n",
       "      <td>Константин Фильм, А Эр Ди Дегето Фильм, Дюне ...</td>\n",
       "      <td>Германия-Великобритания-Италия-Испания</td>\n",
       "      <td>Зенке Вортманн</td>\n",
       "      <td>Оливер Бербен, Дорис Д.Хайнце, Фарук Элтан</td>\n",
       "      <td>-1</td>\n",
       "      <td>-1</td>\n",
       "      <td>-1</td>\n",
       "      <td>nonsupport</td>\n",
       "      <td>драма,мелодрама,история</td>\n",
       "      <td>-1</td>\n",
       "      <td>16</td>\n",
       "      <td>76</td>\n",
       "    </tr>\n",
       "    <tr>\n",
       "      <th>5068</th>\n",
       "      <td>Анализируй то!</td>\n",
       "      <td>221054410</td>\n",
       "      <td>2010-05-25 12:00:00+00:00</td>\n",
       "      <td>Художественный</td>\n",
       "      <td>Уорнер Бразерс, Виллидж Роадшоу Пикчерз, Эн-Пи...</td>\n",
       "      <td>США</td>\n",
       "      <td>Гарольд Реймис</td>\n",
       "      <td>Джейн Розенталь, Паул Уэйнстейн</td>\n",
       "      <td>-1</td>\n",
       "      <td>-1</td>\n",
       "      <td>-1</td>\n",
       "      <td>nonsupport</td>\n",
       "      <td>комедия,криминал</td>\n",
       "      <td>-1</td>\n",
       "      <td>12</td>\n",
       "      <td>68</td>\n",
       "    </tr>\n",
       "  </tbody>\n",
       "</table>\n",
       "</div>"
      ],
      "text/plain": [
       "                                                  title  pu_number  \\\n",
       "4639  Иоанна - женщина на папском престоле /По роман...  221154310   \n",
       "5068                                     Анализируй то!  221054410   \n",
       "\n",
       "               show_start_date            type  \\\n",
       "4639 2010-12-17 12:00:00+00:00  Художественный   \n",
       "5068 2010-05-25 12:00:00+00:00  Художественный   \n",
       "\n",
       "                                            film_studio  \\\n",
       "4639   Константин Фильм, А Эр Ди Дегето Фильм, Дюне ...   \n",
       "5068  Уорнер Бразерс, Виллидж Роадшоу Пикчерз, Эн-Пи...   \n",
       "\n",
       "                          production_country        director  \\\n",
       "4639  Германия-Великобритания-Италия-Испания  Зенке Вортманн   \n",
       "5068                                     США  Гарольд Реймис   \n",
       "\n",
       "                                        producer  refundable_support  \\\n",
       "4639  Оливер Бербен, Дорис Д.Хайнце, Фарук Элтан                  -1   \n",
       "5068             Джейн Розенталь, Паул Уэйнстейн                  -1   \n",
       "\n",
       "      nonrefundable_support  budget financing_source                   genres  \\\n",
       "4639                     -1      -1       nonsupport  драма,мелодрама,история   \n",
       "5068                     -1      -1       nonsupport         комедия,криминал   \n",
       "\n",
       "      box_office  age_category  ratings_new  \n",
       "4639          -1            16           76  \n",
       "5068          -1            12           68  "
      ]
     },
     "execution_count": 32,
     "metadata": {},
     "output_type": "execute_result"
    }
   ],
   "source": [
    "df.loc[df[\"pu_number\"].duplicated()]"
   ]
  },
  {
   "cell_type": "code",
   "execution_count": 33,
   "metadata": {},
   "outputs": [
    {
     "data": {
      "text/html": [
       "<div>\n",
       "<style scoped>\n",
       "    .dataframe tbody tr th:only-of-type {\n",
       "        vertical-align: middle;\n",
       "    }\n",
       "\n",
       "    .dataframe tbody tr th {\n",
       "        vertical-align: top;\n",
       "    }\n",
       "\n",
       "    .dataframe thead th {\n",
       "        text-align: right;\n",
       "    }\n",
       "</style>\n",
       "<table border=\"1\" class=\"dataframe\">\n",
       "  <thead>\n",
       "    <tr style=\"text-align: right;\">\n",
       "      <th></th>\n",
       "      <th>title</th>\n",
       "      <th>pu_number</th>\n",
       "      <th>show_start_date</th>\n",
       "      <th>type</th>\n",
       "      <th>film_studio</th>\n",
       "      <th>production_country</th>\n",
       "      <th>director</th>\n",
       "      <th>producer</th>\n",
       "      <th>refundable_support</th>\n",
       "      <th>nonrefundable_support</th>\n",
       "      <th>budget</th>\n",
       "      <th>financing_source</th>\n",
       "      <th>genres</th>\n",
       "      <th>box_office</th>\n",
       "      <th>age_category</th>\n",
       "      <th>ratings_new</th>\n",
       "    </tr>\n",
       "  </thead>\n",
       "  <tbody>\n",
       "    <tr>\n",
       "      <th>4638</th>\n",
       "      <td>Как жениться и остаться холостым</td>\n",
       "      <td>221154310</td>\n",
       "      <td>2010-12-17 12:00:00+00:00</td>\n",
       "      <td>Художественный</td>\n",
       "      <td>Ше Вам, Скрипт Ассосье, Тэ Фэ 1 Фильм Продюксь...</td>\n",
       "      <td>Франция</td>\n",
       "      <td>Эрик Лартиго</td>\n",
       "      <td>Амандин Било, Алан Шаба</td>\n",
       "      <td>-1</td>\n",
       "      <td>-1</td>\n",
       "      <td>-1</td>\n",
       "      <td>nonsupport</td>\n",
       "      <td>мелодрама,комедия</td>\n",
       "      <td>-1</td>\n",
       "      <td>16</td>\n",
       "      <td>70</td>\n",
       "    </tr>\n",
       "    <tr>\n",
       "      <th>4639</th>\n",
       "      <td>Иоанна - женщина на папском престоле /По роман...</td>\n",
       "      <td>221154310</td>\n",
       "      <td>2010-12-17 12:00:00+00:00</td>\n",
       "      <td>Художественный</td>\n",
       "      <td>Константин Фильм, А Эр Ди Дегето Фильм, Дюне ...</td>\n",
       "      <td>Германия-Великобритания-Италия-Испания</td>\n",
       "      <td>Зенке Вортманн</td>\n",
       "      <td>Оливер Бербен, Дорис Д.Хайнце, Фарук Элтан</td>\n",
       "      <td>-1</td>\n",
       "      <td>-1</td>\n",
       "      <td>-1</td>\n",
       "      <td>nonsupport</td>\n",
       "      <td>драма,мелодрама,история</td>\n",
       "      <td>-1</td>\n",
       "      <td>16</td>\n",
       "      <td>76</td>\n",
       "    </tr>\n",
       "  </tbody>\n",
       "</table>\n",
       "</div>"
      ],
      "text/plain": [
       "                                                  title  pu_number  \\\n",
       "4638                   Как жениться и остаться холостым  221154310   \n",
       "4639  Иоанна - женщина на папском престоле /По роман...  221154310   \n",
       "\n",
       "               show_start_date            type  \\\n",
       "4638 2010-12-17 12:00:00+00:00  Художественный   \n",
       "4639 2010-12-17 12:00:00+00:00  Художественный   \n",
       "\n",
       "                                            film_studio  \\\n",
       "4638  Ше Вам, Скрипт Ассосье, Тэ Фэ 1 Фильм Продюксь...   \n",
       "4639   Константин Фильм, А Эр Ди Дегето Фильм, Дюне ...   \n",
       "\n",
       "                          production_country        director  \\\n",
       "4638                                 Франция    Эрик Лартиго   \n",
       "4639  Германия-Великобритания-Италия-Испания  Зенке Вортманн   \n",
       "\n",
       "                                        producer  refundable_support  \\\n",
       "4638                     Амандин Било, Алан Шаба                  -1   \n",
       "4639  Оливер Бербен, Дорис Д.Хайнце, Фарук Элтан                  -1   \n",
       "\n",
       "      nonrefundable_support  budget financing_source                   genres  \\\n",
       "4638                     -1      -1       nonsupport        мелодрама,комедия   \n",
       "4639                     -1      -1       nonsupport  драма,мелодрама,история   \n",
       "\n",
       "      box_office  age_category  ratings_new  \n",
       "4638          -1            16           70  \n",
       "4639          -1            16           76  "
      ]
     },
     "execution_count": 33,
     "metadata": {},
     "output_type": "execute_result"
    }
   ],
   "source": [
    "df.loc[df[\"pu_number\"] == 221154310]"
   ]
  },
  {
   "cell_type": "code",
   "execution_count": 34,
   "metadata": {
    "scrolled": true
   },
   "outputs": [
    {
     "data": {
      "text/html": [
       "<div>\n",
       "<style scoped>\n",
       "    .dataframe tbody tr th:only-of-type {\n",
       "        vertical-align: middle;\n",
       "    }\n",
       "\n",
       "    .dataframe tbody tr th {\n",
       "        vertical-align: top;\n",
       "    }\n",
       "\n",
       "    .dataframe thead th {\n",
       "        text-align: right;\n",
       "    }\n",
       "</style>\n",
       "<table border=\"1\" class=\"dataframe\">\n",
       "  <thead>\n",
       "    <tr style=\"text-align: right;\">\n",
       "      <th></th>\n",
       "      <th>title</th>\n",
       "      <th>pu_number</th>\n",
       "      <th>show_start_date</th>\n",
       "      <th>type</th>\n",
       "      <th>film_studio</th>\n",
       "      <th>production_country</th>\n",
       "      <th>director</th>\n",
       "      <th>producer</th>\n",
       "      <th>refundable_support</th>\n",
       "      <th>nonrefundable_support</th>\n",
       "      <th>budget</th>\n",
       "      <th>financing_source</th>\n",
       "      <th>genres</th>\n",
       "      <th>box_office</th>\n",
       "      <th>age_category</th>\n",
       "      <th>ratings_new</th>\n",
       "    </tr>\n",
       "  </thead>\n",
       "  <tbody>\n",
       "    <tr>\n",
       "      <th>5067</th>\n",
       "      <td>Анализируй это!</td>\n",
       "      <td>221054410</td>\n",
       "      <td>2010-05-25 12:00:00+00:00</td>\n",
       "      <td>Художественный</td>\n",
       "      <td>Уорнер Бразерс, Вилладж Роудшоу Филмз ЛТД</td>\n",
       "      <td>США-Австралия</td>\n",
       "      <td>ХЭрольд Рэмис</td>\n",
       "      <td>Джейн Розенталь, Пола Уейнстейн</td>\n",
       "      <td>-1</td>\n",
       "      <td>-1</td>\n",
       "      <td>-1</td>\n",
       "      <td>nonsupport</td>\n",
       "      <td>комедия,криминал</td>\n",
       "      <td>-1</td>\n",
       "      <td>16</td>\n",
       "      <td>74</td>\n",
       "    </tr>\n",
       "    <tr>\n",
       "      <th>5068</th>\n",
       "      <td>Анализируй то!</td>\n",
       "      <td>221054410</td>\n",
       "      <td>2010-05-25 12:00:00+00:00</td>\n",
       "      <td>Художественный</td>\n",
       "      <td>Уорнер Бразерс, Виллидж Роадшоу Пикчерз, Эн-Пи...</td>\n",
       "      <td>США</td>\n",
       "      <td>Гарольд Реймис</td>\n",
       "      <td>Джейн Розенталь, Паул Уэйнстейн</td>\n",
       "      <td>-1</td>\n",
       "      <td>-1</td>\n",
       "      <td>-1</td>\n",
       "      <td>nonsupport</td>\n",
       "      <td>комедия,криминал</td>\n",
       "      <td>-1</td>\n",
       "      <td>12</td>\n",
       "      <td>68</td>\n",
       "    </tr>\n",
       "  </tbody>\n",
       "</table>\n",
       "</div>"
      ],
      "text/plain": [
       "                title  pu_number           show_start_date            type  \\\n",
       "5067  Анализируй это!  221054410 2010-05-25 12:00:00+00:00  Художественный   \n",
       "5068   Анализируй то!  221054410 2010-05-25 12:00:00+00:00  Художественный   \n",
       "\n",
       "                                            film_studio production_country  \\\n",
       "5067          Уорнер Бразерс, Вилладж Роудшоу Филмз ЛТД      США-Австралия   \n",
       "5068  Уорнер Бразерс, Виллидж Роадшоу Пикчерз, Эн-Пи...                США   \n",
       "\n",
       "            director                         producer  refundable_support  \\\n",
       "5067   ХЭрольд Рэмис  Джейн Розенталь, Пола Уейнстейн                  -1   \n",
       "5068  Гарольд Реймис  Джейн Розенталь, Паул Уэйнстейн                  -1   \n",
       "\n",
       "      nonrefundable_support  budget financing_source            genres  \\\n",
       "5067                     -1      -1       nonsupport  комедия,криминал   \n",
       "5068                     -1      -1       nonsupport  комедия,криминал   \n",
       "\n",
       "      box_office  age_category  ratings_new  \n",
       "5067          -1            16           74  \n",
       "5068          -1            12           68  "
      ]
     },
     "execution_count": 34,
     "metadata": {},
     "output_type": "execute_result"
    }
   ],
   "source": [
    "df.loc[df[\"pu_number\"] == 221054410]"
   ]
  },
  {
   "cell_type": "markdown",
   "metadata": {},
   "source": [
    "С дубликатами в столбце \"puNumber\" можно ничего не делать, по скольку они относятся к разным фильмам. А вот строки с одинаковыми названиями придется попрощаться."
   ]
  },
  {
   "cell_type": "code",
   "execution_count": 35,
   "metadata": {},
   "outputs": [
    {
     "name": "stdout",
     "output_type": "stream",
     "text": [
      "<class 'pandas.core.frame.DataFrame'>\n",
      "Int64Index: 6772 entries, 3488 to 6820\n",
      "Data columns (total 16 columns):\n",
      " #   Column                 Non-Null Count  Dtype              \n",
      "---  ------                 --------------  -----              \n",
      " 0   title                  6772 non-null   object             \n",
      " 1   pu_number              6772 non-null   int32              \n",
      " 2   show_start_date        6772 non-null   datetime64[ns, UTC]\n",
      " 3   type                   6772 non-null   object             \n",
      " 4   film_studio            6772 non-null   object             \n",
      " 5   production_country     6772 non-null   object             \n",
      " 6   director               6772 non-null   object             \n",
      " 7   producer               6772 non-null   object             \n",
      " 8   refundable_support     6772 non-null   int32              \n",
      " 9   nonrefundable_support  6772 non-null   int32              \n",
      " 10  budget                 6772 non-null   int32              \n",
      " 11  financing_source       6772 non-null   object             \n",
      " 12  genres                 6772 non-null   object             \n",
      " 13  box_office             6772 non-null   int32              \n",
      " 14  age_category           6772 non-null   int64              \n",
      " 15  ratings_new            6772 non-null   int32              \n",
      "dtypes: datetime64[ns, UTC](1), int32(6), int64(1), object(8)\n",
      "memory usage: 740.7+ KB\n"
     ]
    }
   ],
   "source": [
    "df =df.sort_values(\n",
    "    by = 'box_office',\n",
    "    ascending = False\n",
    "    ).drop_duplicates(\n",
    "    subset=['title'])\n",
    "df.info()"
   ]
  },
  {
   "cell_type": "markdown",
   "metadata": {},
   "source": [
    "##### Вывод"
   ]
  },
  {
   "cell_type": "markdown",
   "metadata": {},
   "source": [
    "Дубликаты удалены, DF готов к дальнейшей работе."
   ]
  },
  {
   "cell_type": "markdown",
   "metadata": {
    "id": "52fOPrEBgFyQ"
   },
   "source": [
    "#### Шаг 2.3. Изучите категориальные значения\n",
    "\n",
    "- Посмотрите, какая общая проблема встречается почти во всех категориальных столбцах;\n",
    "- Исправьте проблемные значения в поле `type`."
   ]
  },
  {
   "cell_type": "markdown",
   "metadata": {
    "id": "PnXKIVdFgFyR"
   },
   "source": [
    "Во всех категориальных столбцах встречаются пробелы в начале и конце, нужно их убрать. Так же лучше привести все названия к одному регистру."
   ]
  },
  {
   "cell_type": "code",
   "execution_count": 36,
   "metadata": {},
   "outputs": [
    {
     "data": {
      "text/plain": [
       "array(['\"sos\" над тайгой', '\"v\" значит вендетта',\n",
       "       '\"артишок\" анимационный альманах авторских фильмов', ..., 'ёлки 5',\n",
       "       'ёлки новые', 'ёлки последние'], dtype=object)"
      ]
     },
     "metadata": {},
     "output_type": "display_data"
    },
    {
     "data": {
      "text/plain": [
       "array(['анимационный', 'документальный', 'музыкально-развлекательный',\n",
       "       'научно-популярный', 'прочие', 'художественный'], dtype=object)"
      ]
     },
     "metadata": {},
     "output_type": "display_data"
    },
    {
     "data": {
      "text/plain": [
       "array(['\"дино де лаурентиис\" (италия) при участии киностудии \"мосфильм\"',\n",
       "       '\"союздетфильм\", \"мосфильм\", \"москинокомбинат\"',\n",
       "       '\"студия \"птица феникс\" татьяны новиковой', ..., 'яш радж фильмс',\n",
       "       'яш раи фильм', 'яш рай фильм'], dtype=object)"
      ]
     },
     "metadata": {},
     "output_type": "display_data"
    },
    {
     "data": {
      "text/plain": [
       "array(['2019', 'cша', 'unknown', 'австралия', 'австралия-великобритания',\n",
       "       'австралия-великобритания-бельгия-индия', 'австралия-германия',\n",
       "       'австралия-ирландия', 'австралия-канада', 'австралия-колумбия',\n",
       "       'австралия-сша', 'австралия-турция-сша', 'австрия',\n",
       "       'австрия-великобритания-германия', 'австрия-германия',\n",
       "       'австрия-германия-франция', 'австрия-люксембург',\n",
       "       'австрия-франция-германия', 'азербайджан-россия', 'аргентина',\n",
       "       'аргентина-бразилия', 'аргентина-испания',\n",
       "       'аргентина-испания-уругвай',\n",
       "       'аргентина-мексика-бразилия-франция-сша',\n",
       "       'аргентина-уругвай-россия-германия-франция-нидерланды',\n",
       "       'аргентина-франция-испания', 'армения', 'армения-германия',\n",
       "       'армения-казахстан', 'армения-россия', 'бельгия',\n",
       "       'бельгия-великобритания-сша',\n",
       "       'бельгия-германия-канада-франция-сша-великобритания',\n",
       "       'бельгия-германия-люксембург',\n",
       "       'бельгия-германия-люксембург-франция',\n",
       "       'бельгия-испания-канада-нидерланды', 'бельгия-италия-франция',\n",
       "       'бельгия-канада', 'бельгия-люксембург',\n",
       "       'бельгия-люксембург-франция-швейцария', 'бельгия-нидерланды',\n",
       "       'бельгия-нидерланды-франция', 'бельгия-сша', 'бельгия-франция',\n",
       "       'бельгия-франция-италия', 'бельгия-франция-люксембург', 'болгария',\n",
       "       'болгария-сша', 'болгария-франция-изриль',\n",
       "       'босния и герцеговина-франция-великобритания-германия-словения-бельгия-сербия',\n",
       "       'бразилия', 'бразилия-германия-порртугалия-франция',\n",
       "       'бразилия-испания', 'бразилия-к;анада', 'бразилия-канада-сша',\n",
       "       'бразилия-португалия-франция', 'бразилия-сша', 'бразилия-сша-кнр',\n",
       "       'бразилия-уругвай-дания-норвегия-чили-швеция', 'великобритания',\n",
       "       'великобритания-австралия', 'великобритания-австралия-сша',\n",
       "       'великобритания-австрия-германия',\n",
       "       'великобритания-австрия-франция-сша',\n",
       "       'великобритания-аргентина-сша-франция-россия-испания',\n",
       "       'великобритания-венгрия', 'великобритания-германия',\n",
       "       'великобритания-германия-дания-сша',\n",
       "       'великобритания-германия-канада-юар',\n",
       "       'великобритания-германия-нидерланды-дания',\n",
       "       'великобритания-германия-сша',\n",
       "       'великобритания-германия-франция-кипр-сша',\n",
       "       'великобритания-гонконг-венгрия-сша-ирландия',\n",
       "       'великобритания-дания', 'великобритания-израиль',\n",
       "       'великобритания-израиль-франция-япония-сша',\n",
       "       'великобритания-ирландия', 'великобритания-ирландия-сша',\n",
       "       'великобритания-исландия-испания-швейцария-сша',\n",
       "       'великобритания-испания', 'великобритания-испания-германия',\n",
       "       'великобритания-испания-италия-латвия-франция-эстония',\n",
       "       'великобритания-испания-непал-индия-венгрия-гонконг-германия-дания-бахрейн',\n",
       "       'великобритания-италия', 'великобритания-италия-испания',\n",
       "       'великобритания-италия-швейцария', 'великобритания-канада',\n",
       "       'великобритания-канада-сша', 'великобритания-кнр',\n",
       "       'великобритания-люксембург', 'великобритания-мексика-сша',\n",
       "       'великобритания-нидерланды-германия-франция-бельгия-австрия',\n",
       "       'великобритания-нидерланды-польша-швейцария-франция',\n",
       "       'великобритания-нидерланды-франция-сша',\n",
       "       'великобритания-нидерланды-франция-хорватия',\n",
       "       'великобритания-новая зеландия',\n",
       "       'великобритания-норвегия-дания-германия',\n",
       "       'великобритания-норвегия-кения-хорватия', 'великобритания-польша',\n",
       "       'великобритания-польша-кнр-индия-норвегия',\n",
       "       'великобритания-пуэрто-рико', 'великобритания-россия-кнр',\n",
       "       'великобритания-россия-украина-сша', 'великобритания-румыния',\n",
       "       'великобритания-сша',\n",
       "       'великобритания-сша-австралия-ирландия-германия-куба-канада',\n",
       "       'великобритания-сша-германия',\n",
       "       'великобритания-сша-германия-бельгия',\n",
       "       'великобритания-сша-германия-канада-австралия',\n",
       "       'великобритания-сша-германия-кнр', 'великобритания-сша-индия',\n",
       "       'великобритания-сша-испания', 'великобритания-сша-канада',\n",
       "       'великобритания-сша-канада-бельгия-нидерланды-австрия-германия',\n",
       "       'великобритания-сша-канада-нидерланды-франция',\n",
       "       'великобритания-сша-россия', 'великобритания-сша-франция',\n",
       "       'великобритания-сша-швейцария', 'великобритания-франция',\n",
       "       'великобритания-франция-австрия-швеция',\n",
       "       'великобритания-франция-бельгия',\n",
       "       'великобритания-франция-бельгия-италия',\n",
       "       'великобритания-франция-бельгия-сша',\n",
       "       'великобритания-франция-венгрия',\n",
       "       'великобритания-франция-германия',\n",
       "       'великобритания-франция-германия-сша',\n",
       "       'великобритания-франция-италия',\n",
       "       'великобритания-франция-италия-индия-дания-кнр-бангладеш-камбоджа-гаити-уганда',\n",
       "       'великобритания-франция-италия-сша',\n",
       "       'великобритания-франция-республика кипр-швейцария-сша-сербия',\n",
       "       'великобритания-франция-сша',\n",
       "       'великобритания-франция-швеция-бельгия',\n",
       "       'великобритания-чехия-франция',\n",
       "       'великобритания-чехия-франция-италия', 'великобритания-швеция-сша',\n",
       "       'великобритания-юар',\n",
       "       'великобритания-южная корея-канада-сша-индия-китай-япония',\n",
       "       'великобритания-япония-сша', 'венгрия', 'венгрия-германия-швеция',\n",
       "       'венесуэла', 'германия', 'германия-австралия', 'германия-австрия',\n",
       "       'германия-австрия-ирландия', 'германия-австрия-франция',\n",
       "       'германия-австрия-франция-италия',\n",
       "       'германия-аргентина-нидерланды-чили', 'германия-бельгия',\n",
       "       'германия-бельгия-великобритания',\n",
       "       'германия-бельгия-люксембург-ирландия',\n",
       "       'германия-бельгия-люксембург-норвегия',\n",
       "       'германия-бельгия-сша -франция', 'германия-великобритания',\n",
       "       'германия-великобритания-австрия',\n",
       "       'германия-великобритания-италия-испания',\n",
       "       'германия-великобритания-сша',\n",
       "       'германия-дания-испания-швеция-канада-эстония-франция',\n",
       "       'германия-дания-норвегия', 'германия-израиль', 'германия-исландия',\n",
       "       'германия-италия', 'германия-италия- шри-ланка',\n",
       "       'германия-италия-сша', 'германия-италия-франция',\n",
       "       'германия-италия-швейцария', 'германия-канада',\n",
       "       'германия-канада-великобритания-швейцария-франция',\n",
       "       'германия-кения', 'германия-китай', 'германия-люксембург-бельгия',\n",
       "       'германия-люксембург-дания', 'германия-люксембург-франция',\n",
       "       'германия-нидерланды-беларусь-россия-латвия',\n",
       "       'германия-нидерланды-юар', 'германия-россия', 'германия-сша',\n",
       "       'германия-сша-великобритания-израиль',\n",
       "       'германия-сша-великобритания-ирландия',\n",
       "       'германия-сша-франция-испания', 'германия-сша-швеция-франция',\n",
       "       'германия-украина-нидерланды', 'германия-финляндия-австралия',\n",
       "       'германия-франция',\n",
       "       'германия-франция- польша-турция-канада-италия-россия',\n",
       "       'германия-франция-австрия', 'германия-франция-бельгия',\n",
       "       'германия-франция-великобритания',\n",
       "       'германия-франция-великобритания-польша-сша',\n",
       "       'германия-франция-великобритания-сша', 'германия-франция-канада',\n",
       "       'германия-франция-люксембург', 'германия-франция-польша',\n",
       "       'германия-франция-сша', 'германия-швейцария',\n",
       "       'германия-швейцария-франция-южная корея-сша', 'германия-швеция',\n",
       "       'голландия', 'гонконг', 'гонконг-кнр',\n",
       "       'гонконг-сингапур-таиланд-великобритания', 'греция',\n",
       "       'греция-германия-франция', 'греция-россия', 'грузия',\n",
       "       'грузия-россия', 'грузия-россия-украина-хорватия-германия',\n",
       "       'грузия-украина', 'грузия-франция', 'грузия-франция-люксембург',\n",
       "       'дания',\n",
       "       'дания-австрия-ирландия-финляндия-норвегия-швеция-нидерланды',\n",
       "       'дания-великобритания-юар', 'дания-германия',\n",
       "       'дания-германия-швеция', 'дания-исландия',\n",
       "       'дания-канада-норвегия-австралия-сша',\n",
       "       'дания-канада-швеция-франция-германия-великобритания-сша',\n",
       "       'дания-латвия-россия-сша', 'дания-норвегия-великобритания',\n",
       "       'дания-норвегия-венгрия-чехия', 'дания-норвегия-швеция-исландия',\n",
       "       'дания-сша', 'дания-франция-бельгия-германия-великобритания',\n",
       "       'дания-франция-германия-швеция',\n",
       "       'дания-франция-италия-бельгия-нидерланды',\n",
       "       'дания-швейцария-бельгия-франция', 'дания-швеция',\n",
       "       'дания-швеция-великобритания-франция-германия-нидерланды-норвегия-финляндия',\n",
       "       'дания-швеция-италия-франция-германия',\n",
       "       'дания-швеция-франция-германия', 'израиль',\n",
       "       'израиль-германия-польша-бельгия-франция-люксембург',\n",
       "       'израиль-германия-франция-швейцария', 'израиль-сша-франция',\n",
       "       'израиль-украина', 'израиль-франция',\n",
       "       'израиль-франция-великобритания-германия',\n",
       "       'израиль-франция-германия-палестина-сша-австрия-великобритания',\n",
       "       'индия', 'индия-великобритания', 'индия-кнр', 'индия-мексика',\n",
       "       'индия-сша', 'индонезия', 'иран', 'иран-франция', 'ирландия',\n",
       "       'ирландия-великобритания', 'ирландия-великобритания-германия',\n",
       "       'ирландия-великобритания-канада', 'ирландия-великобритания-сша',\n",
       "       'ирландия-великобритания-франция-сша',\n",
       "       'ирландия-великобритания-франция-сша-германия-нидерланды',\n",
       "       'ирландия-дания-бельгия-люксембург-франция', 'ирландия-канада',\n",
       "       'ирландия-нидерланды-франция-сша-великобритания', 'ирландия-сша',\n",
       "       'ирландия-финляндия-бельгия-великобритания-сша-швейцария',\n",
       "       'исландия', 'исландия-бельгия', 'исландия-ирландия-германия',\n",
       "       'исландия-финляндия', 'испания', 'испания-аргентина',\n",
       "       'испания-аргентина-индия-сша',\n",
       "       'испания-бельгия-франция-португалия-великобритания',\n",
       "       'испания-болгария-сша', 'испания-великобритания-франция',\n",
       "       'испания-германия-нидерланды', 'испания-ирландия-бельгия-франция',\n",
       "       'испания-италия-франция', 'испания-канада',\n",
       "       'испания-канада-япония', 'испания-колумбия', 'испания-куба',\n",
       "       'испания-мальта', 'испания-мексика', 'испания-сша',\n",
       "       'испания-сша-великобритания-канада', 'испания-сша-колумбия',\n",
       "       'испания-уругвай-аргентина', 'испания-франция',\n",
       "       'испания-франция-великобритания-дания-бельгия-германия',\n",
       "       'испания-франция-греция-индия-сша-россия-великобритания',\n",
       "       'испания-франция-италия',\n",
       "       'испания-франция-нидерланды-германия-бельгия-великобритания-канада',\n",
       "       'испания-франция-сша-великобритания-бельгия',\n",
       "       'испания-швейцария-великобритания-германия-новая зеландия-нидерланды-канада',\n",
       "       'италия', 'италия-аргентина-словения', 'италия-бельгия-франция',\n",
       "       'италия-великобритания', 'италия-германия', 'италия-испания',\n",
       "       'италия-канада', 'италия-россия', 'италия-сша', 'италия-франция',\n",
       "       'италия-франция-великобритания', 'италия-франция-германия',\n",
       "       'италия-франция-швейцария',\n",
       "       'италия-франция-швейцария-великобритания',\n",
       "       'италия-фрация-бразилия-германия', 'италия-швейцария',\n",
       "       'италия-швейцария-германия', 'италия-швейцария-франция-германия',\n",
       "       'казахстан', 'канада', 'канада- испания', 'канада-бразилия-япония',\n",
       "       'канада-великобритания', 'канада-германия', 'канада-испания',\n",
       "       'канада-италия', 'канада-кнр', 'канада-мексика', 'канада-норвегия',\n",
       "       'канада-сша', 'канада-сша-германия-франция',\n",
       "       'канада-сша-каймановы острова',\n",
       "       'канада-сша-нидерланды-великобритания-аргентина',\n",
       "       'канада-сша-норвегия', 'канада-франция',\n",
       "       'канада-франция-великобритания', 'канада-франция-испания',\n",
       "       'канада-франция-италия-швейцария-сша',\n",
       "       'канада-франция-сша-оаэ-великобритания', 'канада-юар',\n",
       "       'канада-южная корея', 'канада-южная корея-сша', 'кения-германия',\n",
       "       'киргизия', 'киргизия-россия', 'китай', 'китай-гонконг',\n",
       "       'китай-гонконг-сша', 'китай-канада-сша', 'китай-сша', 'кнр',\n",
       "       'кнр-гонконг', 'кнр-гонконг-сша', 'кнр-индия-гонконг-сша',\n",
       "       'кнр-канада-сша', 'кнр-сингапур', 'кнр-сша', 'кнр-франция',\n",
       "       'княжество андорра-украина', 'колумбия', 'колумбия-сша', 'корея',\n",
       "       'латвия-россия', 'латвия-франция', 'ливан-сша', 'литва-венгрия',\n",
       "       'литва-россия-украина', 'люксембург-бельгия-франция',\n",
       "       'люксембург-нидерланды-испания-великобритания-сша-италия',\n",
       "       'македония-франция-великобритания', 'малайзия', 'малайзия-сша',\n",
       "       'мексика', 'мексика-аргентина', 'мексика-аргентина-великобритания',\n",
       "       'мексика-испания', 'мексика-испания-дания-сша',\n",
       "       'мексика-нидерланды-германия-франция', 'мексика-сша',\n",
       "       'мексика-тайвань-сша', 'мексика-франция',\n",
       "       'мексика-франция-германия-дания-швеция',\n",
       "       'мексика-франция-нидерланды-германия', 'мексика-чили',\n",
       "       'мексика-эквадор-канада-сша-франция-малайзия-италия-аргентина-германия-индия',\n",
       "       'монголия', 'нидерланды', 'нидерланды-бельгия',\n",
       "       'нидерланды-бельгия-болгария',\n",
       "       'нидерланды-бельгия-германия-ирландия',\n",
       "       'нидерланды-бельгия-люксембург',\n",
       "       'нидерланды-великобритания-бельгия',\n",
       "       'нидерланды-великобритания-франция-италия-япония',\n",
       "       'нидерланды-россия', 'нидерланды-россия-германия',\n",
       "       'нидерланды-сша-германия-канада-франция-ирландия-великобритания',\n",
       "       'нидерланды-франция-германия-бельгия-швеция-великобритания',\n",
       "       'новая зеландия', 'новая зеландия-кнр', 'новая зеландия-сша',\n",
       "       'норвегия',\n",
       "       'норвегия-азербайджан-россия-колумбия-великобритания-венгрия-румыния-франция-грузия',\n",
       "       'норвегия-дания-швеция', 'норвегия-исландия-сша-великобритания',\n",
       "       'норвегия-нидерланды', 'норвегия-сша', 'норвегия-швеция',\n",
       "       'норвегия-швеция-дания', 'норвегия-швеция-дания-германия',\n",
       "       'норвегия-швеция-россия', 'норвения', 'оаэ-сша', 'пакистан',\n",
       "       'парагвай', 'перу', 'польша', 'польша-ирландия',\n",
       "       'польша-италия-россия', 'польша-португалия-франция-великобритания',\n",
       "       'польша-франция', 'польша-франция-великобритания',\n",
       "       'польша-франция-испания-бразилия-швеция', 'португалия',\n",
       "       'португалия-франция', 'португалия-франция-польша-сша',\n",
       "       'пуэрто-рико-великобритания-сша', 'республика армения',\n",
       "       'республика беларусь', 'республика беларусь-германия-сша-россия',\n",
       "       'республика казахстан', 'республика кипр',\n",
       "       'республика кипр-россия', 'республика кипр-сша-россия',\n",
       "       'республика корея', 'республика узбекистан', 'россия',\n",
       "       'россия- испания', 'россия-австрия', 'россия-азербайджан',\n",
       "       'россия-армения', 'россия-беларусь', 'россия-белоруссия',\n",
       "       'россия-бельгия-финляндия', 'россия-болгария', 'россия-германия',\n",
       "       'россия-германия-великобритания',\n",
       "       'россия-германия-казахстан-польша-китай',\n",
       "       'россия-германия-украина', 'россия-германия-франция-бельгия',\n",
       "       'россия-германия-швейцария', 'россия-грузия',\n",
       "       'россия-грузия-испания', 'россия-грузия-хорватия-испания',\n",
       "       'россия-ирландия', 'россия-испания', 'россия-италия',\n",
       "       'россия-казахстан', 'россия-казахстан-сша', 'россия-кипр',\n",
       "       'россия-китай', 'россия-латвия-чешская республика',\n",
       "       'россия-нидерланды-финляндия', 'россия-польша',\n",
       "       'россия-польша-голландия-словакия', 'россия-польша-финляндия',\n",
       "       'россия-республика беларусь', 'россия-республика кипр',\n",
       "       'россия-румыния', 'россия-сербия', 'россия-словакия-чехия',\n",
       "       'россия-сша', 'россия-сша-канада-люксембург', 'россия-таджикистан',\n",
       "       'россия-украина', 'россия-украина-германия',\n",
       "       'россия-украина-польша',\n",
       "       'россия-украина-республика беларусь-литва', 'россия-франция',\n",
       "       'россия-франция-великобритания-латвия',\n",
       "       'россия-франция-германия-бельгия', 'россия-франция-латвия',\n",
       "       'россия-эстония-финляндия-беларусь', 'румыния', 'румыния-сша',\n",
       "       'румыния-франция-бельгия',\n",
       "       'румыния-юар-иран-франция-канада-великобритания',\n",
       "       'сербия-великобритания-сша', 'сербия-германия-венгрия',\n",
       "       'сербия-словения-хорватия-черногория-македония',\n",
       "       'сингапур-великобритания-индонезия-канада-сша', 'ссср',\n",
       "       'ссср-албания', 'ссср-афганистан', 'ссср-венгрия',\n",
       "       'ссср-венгрия-чсср-гдр', 'ссср-внр', 'ссср-гдр',\n",
       "       'ссср-гдр-польша-италия', 'ссср-италия', 'ссср-монголия',\n",
       "       'ссср-польша', 'ссср-россия', 'ссср-румыния-франция',\n",
       "       'ссср-финляндия', 'ссср-франция-англия-куба-гдр', 'ссср-фрг',\n",
       "       'ссср-фрг-западный берлин', 'ссср-чсср-западный берлин-пнр',\n",
       "       'ссср-швейцария-франция', 'ссср-швеция', 'сша',\n",
       "       'сша -великобритания-австралия', 'сша -германия', 'сша- ю.корея',\n",
       "       'сша-австралия', 'сша-австралия-дания', 'сша-австралия-индия',\n",
       "       'сша-австралия-мексика',\n",
       "       'сша-австралия-новая зеландия-великобритания',\n",
       "       'сша-австралия-франция', 'сша-аргентина', 'сша-бельгия',\n",
       "       'сша-бельгия-великобритания', 'сша-болгария-мексика',\n",
       "       'сша-бразилия-великобритания-канада',\n",
       "       'сша-бразилия-франция-австралия-великобритания-германия',\n",
       "       'сша-великобритания', 'сша-великобритания- франция-швеция',\n",
       "       'сша-великобритания-австралия', 'сша-великобритания-болгария',\n",
       "       'сша-великобритания-германия',\n",
       "       'сша-великобритания-германия-- швеция-канада',\n",
       "       'сша-великобритания-германия-бельгия-дания',\n",
       "       'сша-великобритания-германия-новая зеландия-бельгия-франция',\n",
       "       'сша-великобритания-индия', 'сша-великобритания-ирландия',\n",
       "       'сша-великобритания-ирландия-люксембург',\n",
       "       'сша-великобритания-исландия', 'сша-великобритания-испания',\n",
       "       'сша-великобритания-италия-израиль-сербия-индия',\n",
       "       'сша-великобритания-канада', 'сша-великобритания-канада-кнр',\n",
       "       'сша-великобритания-канада-швеция', 'сша-великобритания-кнр',\n",
       "       'сша-великобритания-люксембург',\n",
       "       'сша-великобритания-новая зеландия', 'сша-великобритания-франция',\n",
       "       'сша-великобритания-франция-гонконг', 'сша-великобритания-чехия',\n",
       "       'сша-великобритания-чехия-румыния',\n",
       "       'сша-великобритания-швейцария-франция',\n",
       "       'сша-великобритания-швеция', 'сша-великобритания-япония',\n",
       "       'сша-венгрия', 'сша-венгрия-великобритания', 'сша-вьетнам',\n",
       "       'сша-германия', 'сша-германия-австралия',\n",
       "       'сша-германия-великобритания', 'сша-германия-гонконг-сингапур',\n",
       "       'сша-германия-канада', 'сша-германия-кнр',\n",
       "       'сша-германия-нидерланды', 'сша-германия-франция',\n",
       "       'сша-германия-франция-великобритания-канада',\n",
       "       'сша-германия-япония', 'сша-гонконг', 'сша-гонконг-китай',\n",
       "       'сша-гонконг-кнр', 'сша-дания', 'сша-индия', 'сша-индия-оаэ',\n",
       "       'сша-индонезия', 'сша-ирландия', 'сша-ирландия-великобритания',\n",
       "       'сша-ирландия-великобритания-франция', 'сша-испания',\n",
       "       'сша-испания-болгария', 'сша-испания-франция',\n",
       "       'сша-испания-франция-великобритания', 'сша-италия',\n",
       "       'сша-италия-греция', 'сша-италия-испания',\n",
       "       'сша-италия-испания-аргентина', 'сша-канада',\n",
       "       'сша-канада-австралия', 'сша-канада-аргентина',\n",
       "       'сша-канада-афганистан-бельгия-франция', 'сша-канада-бельгия',\n",
       "       'сша-канада-великобритания', 'сша-канада-германия',\n",
       "       'сша-канада-индонезия', 'сша-канада-италия', 'сша-канада-кнр',\n",
       "       'сша-канада-россия-франция-чили-ирландия', 'сша-канада-франция',\n",
       "       'сша-канада-франция-индия', 'сша-канада-япония-кнр', 'сша-китай',\n",
       "       'сша-кнр', 'сша-кнр-индия-ю.корея', 'сша-колумбия',\n",
       "       'сша-колумбия-испания', 'сша-мальта', 'сша-мексика',\n",
       "       'сша-нидерланды', 'сша-нидерланды-бельгия-венгрия-греция-канада',\n",
       "       'сша-нидерланды-финляндия-великобритания-италия',\n",
       "       'сша-новая зеландия', 'сша-новая зеландия-япония', 'сша-норвегия',\n",
       "       'сша-оаэ', 'сша-объединенные арабские эмираты', 'сша-пуэрто рико',\n",
       "       'сша-пуэрто-рико-франция', 'сша-россия',\n",
       "       'сша-россия-польша-германия-пуэрто рико', 'сша-россия-франция',\n",
       "       'сша-румыния-великобритания', 'сша-сингапур-малайзия-индонезия',\n",
       "       'сша-украина', 'сша-финляндия',\n",
       "       'сша-финляндия-испания-великобритания-франция', 'сша-франция',\n",
       "       'сша-франция-бельгия-италия', 'сша-франция-великобритания',\n",
       "       'сша-франция-великобритания-австрия',\n",
       "       'сша-франция-великобритания-бразилия', 'сша-франция-германия',\n",
       "       'сша-франция-германия-канада-австралия', 'сша-франция-ирландия',\n",
       "       'сша-франция-испания', 'сша-франция-испания-великобритания',\n",
       "       'сша-франция-канада', 'сша-франция-канада-великобритания',\n",
       "       'сша-франция-канада-германия-австралия-индия',\n",
       "       'сша-франция-турция', 'сша-франция-юар', 'сша-франция-япония',\n",
       "       'сша-фрг-россия', 'сша-хорватия-босния-герцеговина',\n",
       "       'сша-чехия-франция', 'сша-чили', 'сша-швейцария-франция',\n",
       "       'сша-швеция', 'сша-юар', 'сша-юар-гонконг', 'сша-южная корея',\n",
       "       'сша-южная корея-новая зеландия', 'сша-япония',\n",
       "       'сша-япония-германия', 'сша-япония-германия-великобритания',\n",
       "       'сша-япония-германия-великобритания-нидерланды',\n",
       "       'сша-япония-канада-великобритания-германия-франция',\n",
       "       'сша-япония-франция-великобритания', 'сща', 'таиланд',\n",
       "       'таиланд-великобритания-франция-германия-испания-нидерланды',\n",
       "       'таиланд-кнр-сша', 'таиланд-сша', 'турция',\n",
       "       'турция-германя-франция', 'турция-сша', 'украина',\n",
       "       'украина-германия-латвия-эстония', 'украина-нидерланды',\n",
       "       'уругвай-аргентина-испания', 'уругвай-колумбия',\n",
       "       'уругвай-мексика-германия', 'финляндия',\n",
       "       'финляндия-австрия-россия', 'финляндия-великобритания-германия',\n",
       "       'финляндия-германия', 'финляндия-дания-германия-ирландия',\n",
       "       'финляндия-исландия-швеция', 'финляндия-канада',\n",
       "       'финляндия-латвия', 'финляндия-польша',\n",
       "       'финляндия-франция-германия', 'финляндия-швеция-германия',\n",
       "       'финляндия-швеция-норвегия', 'франция', 'франция -бельгия',\n",
       "       'франция- бельгия', 'франция-австралия', 'франция-австрия',\n",
       "       'франция-австрия-германия-италия-сша', 'франция-аргентина',\n",
       "       'франция-бельгия',\n",
       "       'франция-бельгия-великобритания-испания-германия-сша',\n",
       "       'франция-бельгия-великобритания-сша-нидерланды-канада',\n",
       "       'франция-бельгия-испания', 'франция-бельгия-канада',\n",
       "       'франция-бельгия-люксембург', 'франция-бельгия-чехия',\n",
       "       'франция-бельгия-япония', 'франция-бенльгия', 'франция-бразилия',\n",
       "       'франция-бразилия-италия', 'франция-великобритания',\n",
       "       'франция-великобритания-багамские острова-сша',\n",
       "       'франция-великобритания-германия',\n",
       "       'франция-великобритания-камбоджа-сша-кнр',\n",
       "       'франция-великобритания-нидерланды-люксембург',\n",
       "       'франция-великобритания-чехия', 'франция-германия',\n",
       "       'франция-германия-австрия', 'франция-германия-бельгия',\n",
       "       'франция-германия-великобритания', 'франция-германия-италия',\n",
       "       'франция-германия-литва-нидерланды-россия',\n",
       "       'франция-германия-нидерланды', 'франция-германия-сша',\n",
       "       'франция-германия-турция-катар',\n",
       "       'франция-германия-швеция-сша-чехия-словакия-великобритания-нидерланды',\n",
       "       'франция-гонконг-ирландия', 'франция-греция',\n",
       "       'франция-грузия-германия-россия-украина-бельгия', 'франция-дания',\n",
       "       'франция-дания-сша', 'франция-дания-швеция-кнр',\n",
       "       'франция-израиль-германия', 'франция-индия',\n",
       "       'франция-ирландия-швеция', 'франция-испания',\n",
       "       'франция-испания-бельгия-панама', 'франция-испания-германия',\n",
       "       'франция-испания-дания-венгрия-швейцария',\n",
       "       'франция-испания-румыния-сша-бельгия', 'франция-испания-тайвань',\n",
       "       'франция-испания-швейцария', 'франция-италия',\n",
       "       'франция-италия-бельгия-кнр', 'франция-италия-бельгия-люксембург',\n",
       "       'франция-италия-великобритания-сша', 'франция-италия-иран',\n",
       "       'франция-италия-испания-венгрия', 'франция-италия-швейцария',\n",
       "       'франция-канада', 'франция-канада-бельгия',\n",
       "       'франция-канада-н.зеландия-сша-нидерланды-германия-швеция-россия',\n",
       "       'франция-китай', 'франция-кнр', 'франция-люксембург',\n",
       "       'франция-люксембург-бельгия',\n",
       "       'франция-люксембург-германия-бельгия-швейцария-великобритания',\n",
       "       'франция-македония', 'франция-мексика-сша', 'франция-монако',\n",
       "       'франция-нидерланды', 'франция-новая зеландия', 'франция-норвегия',\n",
       "       'франция-перу', 'франция-польша', 'франция-польша-бельгия',\n",
       "       'франция-португалия', 'франция-россия',\n",
       "       'франция-россия-румыния-италия-бельгия', 'франция-сенегал-бельгия',\n",
       "       'франция-сша', 'франция-сша-бельгия',\n",
       "       'франция-сша-великобритания-колумбия-бельгия-россия',\n",
       "       'франция-сша-норвегия-дания', 'франция-украина',\n",
       "       'франция-украина-грузия-армения', 'франция-финляндия',\n",
       "       'франция-чехия-бельгия', 'франция-чехия-великобритания',\n",
       "       'франция-чили', 'франция-швейцария', 'франция-швейцария-германия',\n",
       "       'франция-швеция-дания-норвегия', 'хорватия', 'чехия',\n",
       "       'чехия-великобритания-сша', 'чехия-германия', 'чехия-испания-сша',\n",
       "       'чехия-словакия-хорватия', 'чехословакия', 'чили', 'чили-испания',\n",
       "       'чили-франция-сша', 'швейцария', 'швейцария-австрия',\n",
       "       'швейцария-великобритания',\n",
       "       'швейцария-великобритания-франция-сша-ирландия',\n",
       "       'швейцария-германия-юар',\n",
       "       'швейцария-израиль-франция-великобритания',\n",
       "       'швейцария-кнр-сша-россия-республика корея-великобритания',\n",
       "       'швейцария-люксембург', 'швейцария-франция', 'швеция',\n",
       "       'швеция-германия', 'швеция-германия-дания-норвегия',\n",
       "       'швеция-германия-франция-дания',\n",
       "       'швеция-германия-франция-норвегия', 'швеция-дания',\n",
       "       'швеция-дания-финляндия', 'швеция-куба', 'швеция-норвегия',\n",
       "       'швеция-норвегия-финляндия-франция', 'швеция-сша',\n",
       "       'швеция-финляндия-франция-норвегия', 'швеция-франция',\n",
       "       'швеция-франция-великобритания', 'швеция-франция-дания',\n",
       "       'швеция-франция-норвегия-дания', 'эстония', 'эстония-россия',\n",
       "       'юар', 'юар-сша', 'южная корея', 'южная корея-кнр',\n",
       "       'южная корея-сша', 'южная корея-сша-канада', 'япония',\n",
       "       'япония-великобритания',\n",
       "       'япония-великобритания-австрия-германия-ю.корея',\n",
       "       'япония-великобритания-франция',\n",
       "       'япония-великобритания-швейцария-ирландия-дания-франция-польша-австралия-канада',\n",
       "       'япония-канада', 'япония-кнр-южная корея', 'япония-сша',\n",
       "       'япония-сша-франция', 'япония-франция-сша-южная корея-турция'],\n",
       "      dtype=object)"
      ]
     },
     "metadata": {},
     "output_type": "display_data"
    },
    {
     "data": {
      "text/plain": [
       "array(['unknown', 'а андрющенко', 'а. калюжный', ..., 'яш чопра',\n",
       "       'ёлкин туйчиев', 'ён сан-хо'], dtype=object)"
      ]
     },
     "metadata": {},
     "output_type": "display_data"
    },
    {
     "data": {
      "text/plain": [
       "array(['\"фонд михаила калатозова\"', 'unknown', 'а. калюжный', ...,\n",
       "       'яэль бергман, лаура уотерс, питер хеллайар',\n",
       "       'яэль фогель, летиция гонзалез',\n",
       "       'ёсиаки нисимура, джеффри уэкслер'], dtype=object)"
      ]
     },
     "metadata": {},
     "output_type": "display_data"
    },
    {
     "data": {
      "text/plain": [
       "array(['nonsupport', 'министерство культуры',\n",
       "       'министерство культуры, фонд кино', 'фонд кино'], dtype=object)"
      ]
     },
     "metadata": {},
     "output_type": "display_data"
    },
    {
     "data": {
      "text/plain": [
       "array(['unknown', 'аниме,мультфильм', 'аниме,мультфильм,боевик',\n",
       "       'аниме,мультфильм,детектив', 'аниме,мультфильм,драма',\n",
       "       'аниме,мультфильм,комедия', 'аниме,мультфильм,короткометражка',\n",
       "       'аниме,мультфильм,мелодрама', 'аниме,мультфильм,приключения',\n",
       "       'аниме,мультфильм,ужасы', 'аниме,мультфильм,фантастика',\n",
       "       'аниме,мультфильм,фэнтези', 'биография', 'биография,военный,драма',\n",
       "       'биография,документальный', 'биография,драма',\n",
       "       'биография,драма,военный', 'биография,драма,история',\n",
       "       'биография,драма,криминал', 'биография,история',\n",
       "       'биография,история,драма', 'биография,криминал,драма',\n",
       "       'биография,криминал,триллер', 'биография,мелодрама,драма',\n",
       "       'биография,музыка,драма', 'биография,музыка,мюзикл',\n",
       "       'биография,спорт,драма', 'биография,спорт,история',\n",
       "       'биография,спорт,комедия', 'боевик', 'боевик,вестерн,приключения',\n",
       "       'боевик,военный', 'боевик,военный,драма', 'боевик,военный,история',\n",
       "       'боевик,детектив', 'боевик,драма', 'боевик,драма,биография',\n",
       "       'боевик,драма,вестерн', 'боевик,драма,военный',\n",
       "       'боевик,драма,история', 'боевик,драма,комедия',\n",
       "       'боевик,драма,криминал', 'боевик,драма,мелодрама',\n",
       "       'боевик,драма,приключения', 'боевик,драма,триллер',\n",
       "       'боевик,история', 'боевик,история,драма', 'боевик,комедия',\n",
       "       'боевик,комедия,криминал', 'боевик,комедия,приключения',\n",
       "       'боевик,комедия,семейный', 'боевик,криминал',\n",
       "       'боевик,криминал,детектив', 'боевик,криминал,драма',\n",
       "       'боевик,криминал,триллер', 'боевик,мелодрама',\n",
       "       'боевик,мелодрама,комедия', 'боевик,приключения',\n",
       "       'боевик,приключения,детектив', 'боевик,приключения,история',\n",
       "       'боевик,приключения,семейный', 'боевик,приключения,триллер',\n",
       "       'боевик,спорт,драма', 'боевик,триллер', 'боевик,триллер,детектив',\n",
       "       'боевик,триллер,драма', 'боевик,триллер,комедия',\n",
       "       'боевик,триллер,криминал', 'боевик,триллер,мелодрама',\n",
       "       'боевик,триллер,приключения', 'боевик,триллер,фэнтези',\n",
       "       'боевик,фантастика', 'боевик,фантастика,приключения',\n",
       "       'боевик,фантастика,триллер', 'боевик,фэнтези',\n",
       "       'боевик,фэнтези,драма', 'вестерн,биография,драма',\n",
       "       'вестерн,боевик,драма', 'вестерн,драма,триллер',\n",
       "       'вестерн,криминал,триллер', 'вестерн,приключения,боевик',\n",
       "       'военный', 'военный,биография,драма', 'военный,боевик,драма',\n",
       "       'военный,боевик,история', 'военный,детектив', 'военный,драма',\n",
       "       'военный,драма,боевик', 'военный,драма,история',\n",
       "       'военный,драма,комедия', 'военный,история',\n",
       "       'военный,история,драма', 'военный,приключения,драма', 'детектив',\n",
       "       'детектив,боевик,история', 'детектив,драма,криминал',\n",
       "       'детектив,драма,триллер', 'детектив,история,драма',\n",
       "       'детектив,комедия', 'детектив,комедия,драма', 'детектив,криминал',\n",
       "       'детектив,криминал,боевик', 'детектив,криминал,драма',\n",
       "       'детектив,криминал,триллер', 'детектив,мелодрама',\n",
       "       'детектив,мелодрама,фэнтези', 'детектив,приключения,драма',\n",
       "       'детектив,приключения,триллер', 'детектив,триллер',\n",
       "       'детектив,триллер,боевик', 'детектив,триллер,драма',\n",
       "       'детектив,триллер,криминал', 'детектив,триллер,ужасы',\n",
       "       'детектив,ужасы,криминал', 'детектив,фантастика,криминал',\n",
       "       'детектив,фантастика,триллер', 'детектив,фильм-нуар,комедия',\n",
       "       'детектив,фэнтези,триллер', 'детский', 'детский,комедия',\n",
       "       'детский,мелодрама,семейный', 'детский,мультфильм,приключения',\n",
       "       'детский,приключения,комедия', 'детский,приключения,семейный',\n",
       "       'детский,приключения,фантастика', 'детский,семейный',\n",
       "       'детский,фэнтези', 'детский,фэнтези,приключения',\n",
       "       'для взрослых,драма,комедия', 'для взрослых,драма,мелодрама',\n",
       "       'документальный', 'документальный,биография',\n",
       "       'документальный,биография,история',\n",
       "       'документальный,биография,музыка',\n",
       "       'документальный,биография,спорт',\n",
       "       'документальный,боевик,приключения',\n",
       "       'документальный,военный,драма', 'документальный,военный,история',\n",
       "       'документальный,драма', 'документальный,драма,биография',\n",
       "       'документальный,драма,история', 'документальный,драма,комедия',\n",
       "       'документальный,драма,музыка', 'документальный,драма,семейный',\n",
       "       'документальный,история', 'документальный,комедия',\n",
       "       'документальный,комедия,история',\n",
       "       'документальный,комедия,криминал',\n",
       "       'документальный,короткометражка',\n",
       "       'документальный,короткометражка,семейный',\n",
       "       'документальный,криминал,военный', 'документальный,музыка',\n",
       "       'документальный,музыка,биография', 'документальный,музыка,концерт',\n",
       "       'документальный,мюзикл', 'документальный,новости,драма',\n",
       "       'документальный,приключения',\n",
       "       'документальный,приключения,семейный', 'документальный,семейный',\n",
       "       'документальный,семейный,музыка', 'документальный,спорт',\n",
       "       'документальный,спорт,биография',\n",
       "       'документальный,триллер,биография', 'документальный,ужасы',\n",
       "       'документальный,ужасы,боевик', 'документальный,фантастика',\n",
       "       'документальный,фэнтези', 'документальный,фэнтези,драма',\n",
       "       'документальный,фэнтези,семейный', 'драма', 'драма,биография',\n",
       "       'драма,биография,история', 'драма,биография,комедия',\n",
       "       'драма,биография,музыка', 'драма,биография,мюзикл',\n",
       "       'драма,биография,спорт', 'драма,боевик', 'драма,боевик,история',\n",
       "       'драма,боевик,криминал', 'драма,боевик,приключения',\n",
       "       'драма,вестерн', 'драма,вестерн,боевик',\n",
       "       'драма,вестерн,приключения', 'драма,военный',\n",
       "       'драма,военный,биография', 'драма,военный,боевик',\n",
       "       'драма,военный,история', 'драма,военный,приключения',\n",
       "       'драма,военный,триллер', 'драма,детектив',\n",
       "       'драма,детектив,история', 'драма,детектив,криминал',\n",
       "       'драма,детектив,приключения', 'драма,история',\n",
       "       'драма,история,биография', 'драма,история,военный',\n",
       "       'драма,история,детектив', 'драма,история,музыка',\n",
       "       'драма,история,триллер', 'драма,комедия',\n",
       "       'драма,комедия,биография', 'драма,комедия,вестерн',\n",
       "       'драма,комедия,военный', 'драма,комедия,детектив',\n",
       "       'драма,комедия,история', 'драма,комедия,криминал',\n",
       "       'драма,комедия,мелодрама', 'драма,комедия,музыка',\n",
       "       'драма,комедия,мультфильм', 'драма,комедия,приключения',\n",
       "       'драма,комедия,семейный', 'драма,комедия,спорт',\n",
       "       'драма,комедия,триллер', 'драма,комедия,ужасы',\n",
       "       'драма,комедия,фантастика', 'драма,криминал',\n",
       "       'драма,криминал,биография', 'драма,криминал,боевик',\n",
       "       'драма,криминал,вестерн', 'драма,криминал,детектив',\n",
       "       'драма,криминал,история', 'драма,криминал,приключения',\n",
       "       'драма,криминал,семейный', 'драма,криминал,спорт',\n",
       "       'драма,криминал,фантастика', 'драма,криминал,фильм-нуар',\n",
       "       'драма,мелодрама', 'драма,мелодрама,биография',\n",
       "       'драма,мелодрама,военный', 'драма,мелодрама,детектив',\n",
       "       'драма,мелодрама,история', 'драма,мелодрама,комедия',\n",
       "       'драма,мелодрама,криминал', 'драма,мелодрама,музыка',\n",
       "       'драма,мелодрама,приключения', 'драма,мелодрама,семейный',\n",
       "       'драма,мелодрама,триллер', 'драма,мелодрама,фэнтези',\n",
       "       'драма,музыка', 'драма,мультфильм', 'драма,приключения',\n",
       "       'драма,приключения,биография', 'драма,приключения,военный',\n",
       "       'драма,приключения,история', 'драма,приключения,мелодрама',\n",
       "       'драма,приключения,семейный', 'драма,приключения,триллер',\n",
       "       'драма,приключения,фэнтези', 'драма,семейный',\n",
       "       'драма,семейный,биография', 'драма,семейный,комедия',\n",
       "       'драма,спорт', 'драма,спорт,биография', 'драма,спорт,боевик',\n",
       "       'драма,спорт,история', 'драма,спорт,комедия',\n",
       "       'драма,спорт,семейный', 'драма,триллер', 'драма,триллер,биография',\n",
       "       'драма,триллер,детектив', 'драма,триллер,криминал',\n",
       "       'драма,триллер,приключения', 'драма,ужасы', 'драма,фантастика',\n",
       "       'драма,фантастика,триллер', 'драма,фантастика,ужасы',\n",
       "       'драма,фэнтези', 'драма,фэнтези,история', 'история',\n",
       "       'история,биография,военный', 'история,биография,драма',\n",
       "       'история,боевик,фэнтези', 'история,детектив', 'история,драма',\n",
       "       'история,драма,боевик', 'история,драма,мелодрама',\n",
       "       'история,криминал', 'история,мелодрама', 'история,приключения',\n",
       "       'история,спорт,драма', 'комедия', 'комедия,биография',\n",
       "       'комедия,биография,история', 'комедия,боевик,криминал',\n",
       "       'комедия,боевик,приключения', 'комедия,боевик,фантастика',\n",
       "       'комедия,вестерн', 'комедия,военный', 'комедия,военный,музыка',\n",
       "       'комедия,детектив', 'комедия,детектив,приключения',\n",
       "       'комедия,драма', 'комедия,драма,биография',\n",
       "       'комедия,драма,военный', 'комедия,драма,короткометражка',\n",
       "       'комедия,драма,криминал', 'комедия,драма,мелодрама',\n",
       "       'комедия,драма,семейный', 'комедия,история',\n",
       "       'комедия,история,драма', 'комедия,криминал',\n",
       "       'комедия,криминал,биография', 'комедия,криминал,боевик',\n",
       "       'комедия,криминал,детектив', 'комедия,криминал,драма',\n",
       "       'комедия,криминал,история', 'комедия,криминал,приключения',\n",
       "       'комедия,криминал,семейный', 'комедия,криминал,спорт',\n",
       "       'комедия,криминал,триллер', 'комедия,мелодрама',\n",
       "       'комедия,мелодрама,драма', 'комедия,мелодрама,криминал',\n",
       "       'комедия,мелодрама,фантастика', 'комедия,мелодрама,фэнтези',\n",
       "       'комедия,музыка', 'комедия,музыка,драма',\n",
       "       'комедия,мультфильм,фантастика', 'комедия,приключения',\n",
       "       'комедия,приключения,вестерн', 'комедия,приключения,детектив',\n",
       "       'комедия,приключения,история', 'комедия,приключения,криминал',\n",
       "       'комедия,приключения,мелодрама', 'комедия,приключения,музыка',\n",
       "       'комедия,приключения,семейный', 'комедия,приключения,спорт',\n",
       "       'комедия,приключения,фэнтези', 'комедия,семейный',\n",
       "       'комедия,семейный,музыка', 'комедия,семейный,приключения',\n",
       "       'комедия,семейный,фантастика', 'комедия,семейный,фэнтези',\n",
       "       'комедия,спорт', 'комедия,триллер', 'комедия,триллер,драма',\n",
       "       'комедия,ужасы', 'комедия,фантастика', 'комедия,фантастика,боевик',\n",
       "       'комедия,фантастика,мелодрама', 'комедия,фэнтези',\n",
       "       'комедия,фэнтези,криминал', 'комедия,фэнтези,мелодрама',\n",
       "       'комедия,фэнтези,приключения', 'комедия,фэнтези,ужасы',\n",
       "       'концерт,музыка', 'концерт,музыка,документальный',\n",
       "       'короткометражка', 'короткометражка,биография',\n",
       "       'короткометражка,боевик,драма', 'короткометражка,драма',\n",
       "       'короткометражка,драма,военный', 'короткометражка,драма,триллер',\n",
       "       'короткометражка,комедия,криминал', 'короткометражка,мелодрама',\n",
       "       'короткометражка,музыка', 'короткометражка,мультфильм',\n",
       "       'короткометражка,фантастика', 'криминал',\n",
       "       'криминал,биография,комедия', 'криминал,боевик',\n",
       "       'криминал,боевик,комедия', 'криминал,боевик,триллер',\n",
       "       'криминал,детектив', 'криминал,детектив,приключения',\n",
       "       'криминал,драма', 'криминал,драма,комедия',\n",
       "       'криминал,драма,триллер', 'криминал,комедия',\n",
       "       'криминал,комедия,боевик', 'криминал,комедия,драма',\n",
       "       'криминал,комедия,триллер', 'криминал,мелодрама',\n",
       "       'криминал,триллер,драма', 'мелодрама', 'мелодрама,биография',\n",
       "       'мелодрама,военный,драма', 'мелодрама,детектив',\n",
       "       'мелодрама,детектив,комедия', 'мелодрама,драма',\n",
       "       'мелодрама,драма,боевик', 'мелодрама,драма,комедия',\n",
       "       'мелодрама,драма,музыка', 'мелодрама,драма,фэнтези',\n",
       "       'мелодрама,история', 'мелодрама,история,драма',\n",
       "       'мелодрама,история,триллер', 'мелодрама,комедия',\n",
       "       'мелодрама,комедия,драма', 'мелодрама,комедия,криминал',\n",
       "       'мелодрама,комедия,музыка', 'мелодрама,комедия,приключения',\n",
       "       'мелодрама,комедия,семейный', 'мелодрама,комедия,спорт',\n",
       "       'мелодрама,комедия,триллер', 'мелодрама,комедия,ужасы',\n",
       "       'мелодрама,криминал', 'мелодрама,музыка', 'мелодрама,музыка,драма',\n",
       "       'мелодрама,приключения', 'мелодрама,приключения,боевик',\n",
       "       'мелодрама,семейный', 'мелодрама,семейный,приключения',\n",
       "       'мелодрама,триллер,история', 'мелодрама,фантастика,драма',\n",
       "       'мелодрама,фэнтези,триллер', 'музыка,концерт',\n",
       "       'музыка,концерт,документальный', 'музыка,мелодрама,фэнтези',\n",
       "       'музыка,приключения,концерт', 'мультфильм',\n",
       "       'мультфильм,биография,драма', 'мультфильм,боевик,детектив',\n",
       "       'мультфильм,боевик,комедия', 'мультфильм,боевик,приключения',\n",
       "       'мультфильм,боевик,триллер', 'мультфильм,детский',\n",
       "       'мультфильм,детский,комедия', 'мультфильм,детский,приключения',\n",
       "       'мультфильм,детский,семейный', 'мультфильм,драма',\n",
       "       'мультфильм,драма,комедия', 'мультфильм,драма,приключения',\n",
       "       'мультфильм,история', 'мультфильм,комедия',\n",
       "       'мультфильм,комедия,детский', 'мультфильм,комедия,криминал',\n",
       "       'мультфильм,комедия,приключения', 'мультфильм,комедия,семейный',\n",
       "       'мультфильм,комедия,фантастика', 'мультфильм,короткометражка',\n",
       "       'мультфильм,короткометражка,детский',\n",
       "       'мультфильм,короткометражка,комедия',\n",
       "       'мультфильм,короткометражка,мелодрама',\n",
       "       'мультфильм,короткометражка,мюзикл',\n",
       "       'мультфильм,короткометражка,ужасы',\n",
       "       'мультфильм,короткометражка,фэнтези', 'мультфильм,мелодрама,драма',\n",
       "       'мультфильм,мелодрама,комедия', 'мультфильм,мелодрама,приключения',\n",
       "       'мультфильм,мюзикл,детский', 'мультфильм,мюзикл,драма',\n",
       "       'мультфильм,мюзикл,комедия', 'мультфильм,мюзикл,мелодрама',\n",
       "       'мультфильм,мюзикл,фэнтези', 'мультфильм,приключения',\n",
       "       'мультфильм,приключения,военный',\n",
       "       'мультфильм,приключения,детектив',\n",
       "       'мультфильм,приключения,детский', 'мультфильм,приключения,драма',\n",
       "       'мультфильм,приключения,комедия',\n",
       "       'мультфильм,приключения,семейный',\n",
       "       'мультфильм,приключения,фантастика',\n",
       "       'мультфильм,приключения,фэнтези', 'мультфильм,семейный',\n",
       "       'мультфильм,семейный,детский', 'мультфильм,семейный,драма',\n",
       "       'мультфильм,семейный,комедия', 'мультфильм,семейный,спорт',\n",
       "       'мультфильм,семейный,фэнтези', 'мультфильм,ужасы,комедия',\n",
       "       'мультфильм,ужасы,фантастика', 'мультфильм,ужасы,фэнтези',\n",
       "       'мультфильм,фантастика,боевик', 'мультфильм,фантастика,комедия',\n",
       "       'мультфильм,фантастика,приключения',\n",
       "       'мультфильм,фантастика,фэнтези', 'мультфильм,фэнтези',\n",
       "       'мультфильм,фэнтези,боевик', 'мультфильм,фэнтези,детский',\n",
       "       'мультфильм,фэнтези,драма', 'мультфильм,фэнтези,история',\n",
       "       'мультфильм,фэнтези,комедия', 'мультфильм,фэнтези,мелодрама',\n",
       "       'мультфильм,фэнтези,приключения', 'мультфильм,фэнтези,семейный',\n",
       "       'мультфильм,фэнтези,триллер', 'мюзикл', 'мюзикл,боевик,драма',\n",
       "       'мюзикл,драма', 'мюзикл,драма,мелодрама', 'мюзикл,комедия',\n",
       "       'мюзикл,комедия,детский', 'мюзикл,комедия,мелодрама',\n",
       "       'мюзикл,комедия,музыка', 'мюзикл,комедия,приключения',\n",
       "       'мюзикл,мелодрама', 'мюзикл,мелодрама,комедия',\n",
       "       'мюзикл,мелодрама,фэнтези', 'мюзикл,семейный',\n",
       "       'мюзикл,семейный,драма', 'мюзикл,ужасы,триллер',\n",
       "       'мюзикл,фэнтези,драма', 'мюзикл,фэнтези,комедия',\n",
       "       'мюзикл,фэнтези,мелодрама', 'мюзикл,фэнтези,семейный',\n",
       "       'приключения', 'приключения,биография,драма',\n",
       "       'приключения,биография,история', 'приключения,боевик',\n",
       "       'приключения,боевик,триллер', 'приключения,вестерн,боевик',\n",
       "       'приключения,военный', 'приключения,детектив,мелодрама',\n",
       "       'приключения,детектив,семейный', 'приключения,детский',\n",
       "       'приключения,детский,комедия', 'приключения,драма',\n",
       "       'приключения,драма,фантастика', 'приключения,история',\n",
       "       'приключения,история,военный', 'приключения,история,драма',\n",
       "       'приключения,комедия,фэнтези', 'приключения,мелодрама,детектив',\n",
       "       'приключения,семейный', 'приключения,семейный,драма',\n",
       "       'приключения,триллер', 'приключения,триллер,биография',\n",
       "       'приключения,фантастика', 'приключения,фантастика,драма',\n",
       "       'приключения,фантастика,семейный', 'приключения,фэнтези',\n",
       "       'приключения,фэнтези,семейный', 'реальное тв', 'семейный',\n",
       "       'семейный,детектив,детский', 'семейный,документальный',\n",
       "       'семейный,комедия', 'семейный,комедия,драма',\n",
       "       'семейный,комедия,музыка', 'семейный,мелодрама',\n",
       "       'семейный,мультфильм,комедия', 'семейный,приключения',\n",
       "       'семейный,приключения,военный',\n",
       "       'семейный,приключения,документальный',\n",
       "       'семейный,приключения,комедия', 'семейный,спорт,боевик',\n",
       "       'семейный,фэнтези', 'семейный,фэнтези,комедия', 'спорт,драма',\n",
       "       'спорт,драма,биография', 'спорт,драма,комедия',\n",
       "       'спорт,мелодрама,криминал', 'триллер', 'триллер,биография,драма',\n",
       "       'триллер,боевик', 'триллер,боевик,криминал',\n",
       "       'триллер,боевик,приключения', 'триллер,военный',\n",
       "       'триллер,детектив', 'триллер,детектив,драма',\n",
       "       'триллер,детектив,криминал', 'триллер,детектив,ужасы',\n",
       "       'триллер,драма', 'триллер,драма,биография', 'триллер,драма,боевик',\n",
       "       'триллер,драма,военный', 'триллер,драма,детектив',\n",
       "       'триллер,драма,история', 'триллер,драма,комедия',\n",
       "       'триллер,драма,криминал', 'триллер,драма,мелодрама',\n",
       "       'триллер,драма,приключения', 'триллер,драма,ужасы',\n",
       "       'триллер,драма,фантастика', 'триллер,комедия',\n",
       "       'триллер,комедия,криминал', 'триллер,комедия,ужасы',\n",
       "       'триллер,криминал', 'триллер,криминал,боевик',\n",
       "       'триллер,криминал,детектив', 'триллер,криминал,драма',\n",
       "       'триллер,криминал,комедия', 'триллер,криминал,приключения',\n",
       "       'триллер,мелодрама', 'триллер,мелодрама,детектив',\n",
       "       'триллер,мелодрама,драма', 'триллер,мелодрама,комедия',\n",
       "       'триллер,мелодрама,криминал', 'триллер,приключения',\n",
       "       'триллер,приключения,драма', 'триллер,ужасы',\n",
       "       'триллер,ужасы,детектив', 'триллер,ужасы,драма',\n",
       "       'триллер,ужасы,криминал', 'триллер,ужасы,мелодрама',\n",
       "       'триллер,фантастика,боевик', 'триллер,фантастика,драма',\n",
       "       'триллер,фэнтези', 'триллер,фэнтези,драма', 'ужасы',\n",
       "       'ужасы,боевик', 'ужасы,боевик,комедия', 'ужасы,боевик,криминал',\n",
       "       'ужасы,боевик,триллер', 'ужасы,боевик,фантастика',\n",
       "       'ужасы,боевик,фэнтези', 'ужасы,детектив', 'ужасы,драма',\n",
       "       'ужасы,драма,вестерн', 'ужасы,драма,военный',\n",
       "       'ужасы,драма,детектив', 'ужасы,драма,комедия',\n",
       "       'ужасы,драма,мелодрама', 'ужасы,драма,триллер', 'ужасы,комедия',\n",
       "       'ужасы,комедия,боевик', 'ужасы,комедия,детектив',\n",
       "       'ужасы,комедия,драма', 'ужасы,комедия,криминал',\n",
       "       'ужасы,комедия,музыка', 'ужасы,комедия,приключения',\n",
       "       'ужасы,комедия,семейный', 'ужасы,комедия,фантастика',\n",
       "       'ужасы,комедия,фэнтези', 'ужасы,мелодрама,детектив',\n",
       "       'ужасы,мелодрама,комедия', 'ужасы,приключения', 'ужасы,триллер',\n",
       "       'ужасы,триллер,детектив', 'ужасы,триллер,драма',\n",
       "       'ужасы,триллер,комедия', 'ужасы,триллер,криминал',\n",
       "       'ужасы,триллер,мелодрама', 'ужасы,триллер,приключения',\n",
       "       'ужасы,триллер,фантастика', 'ужасы,фантастика',\n",
       "       'ужасы,фантастика,боевик', 'ужасы,фантастика,детектив',\n",
       "       'ужасы,фантастика,драма', 'ужасы,фантастика,комедия',\n",
       "       'ужасы,фантастика,мелодрама', 'ужасы,фантастика,триллер',\n",
       "       'ужасы,фантастика,фэнтези', 'ужасы,фэнтези',\n",
       "       'ужасы,фэнтези,боевик', 'ужасы,фэнтези,детектив',\n",
       "       'ужасы,фэнтези,драма', 'ужасы,фэнтези,комедия',\n",
       "       'ужасы,фэнтези,мелодрама', 'ужасы,фэнтези,приключения',\n",
       "       'ужасы,фэнтези,триллер', 'фантастика', 'фантастика,боевик',\n",
       "       'фантастика,боевик,военный', 'фантастика,боевик,детектив',\n",
       "       'фантастика,боевик,драма', 'фантастика,боевик,комедия',\n",
       "       'фантастика,боевик,криминал', 'фантастика,боевик,мелодрама',\n",
       "       'фантастика,боевик,приключения', 'фантастика,боевик,семейный',\n",
       "       'фантастика,боевик,триллер', 'фантастика,боевик,ужасы',\n",
       "       'фантастика,боевик,фэнтези', 'фантастика,детектив,боевик',\n",
       "       'фантастика,детектив,фэнтези', 'фантастика,драма',\n",
       "       'фантастика,драма,боевик', 'фантастика,драма,детектив',\n",
       "       'фантастика,драма,комедия', 'фантастика,драма,криминал',\n",
       "       'фантастика,драма,мелодрама', 'фантастика,драма,приключения',\n",
       "       'фантастика,драма,триллер', 'фантастика,драма,ужасы',\n",
       "       'фантастика,комедия', 'фантастика,комедия,боевик',\n",
       "       'фантастика,комедия,детектив', 'фантастика,комедия,приключения',\n",
       "       'фантастика,комедия,семейный', 'фантастика,мелодрама',\n",
       "       'фантастика,мелодрама,боевик', 'фантастика,мелодрама,комедия',\n",
       "       'фантастика,мелодрама,фэнтези', 'фантастика,мультфильм,драма',\n",
       "       'фантастика,приключения', 'фантастика,приключения,боевик',\n",
       "       'фантастика,приключения,военный',\n",
       "       'фантастика,приключения,детектив', 'фантастика,приключения,драма',\n",
       "       'фантастика,приключения,семейный', 'фантастика,триллер',\n",
       "       'фантастика,триллер,боевик', 'фантастика,триллер,детектив',\n",
       "       'фантастика,триллер,драма', 'фантастика,триллер,комедия',\n",
       "       'фантастика,триллер,криминал', 'фантастика,триллер,мелодрама',\n",
       "       'фантастика,триллер,приключения', 'фантастика,фэнтези,боевик',\n",
       "       'фантастика,фэнтези,детектив', 'фантастика,фэнтези,драма',\n",
       "       'фантастика,фэнтези,комедия', 'фантастика,фэнтези,приключения',\n",
       "       'фантастика,фэнтези,триллер', 'фильм-нуар,триллер,детектив',\n",
       "       'фэнтези', 'фэнтези,боевик', 'фэнтези,боевик,вестерн',\n",
       "       'фэнтези,боевик,военный', 'фэнтези,боевик,детектив',\n",
       "       'фэнтези,боевик,драма', 'фэнтези,боевик,комедия',\n",
       "       'фэнтези,боевик,криминал', 'фэнтези,боевик,мелодрама',\n",
       "       'фэнтези,боевик,приключения', 'фэнтези,боевик,семейный',\n",
       "       'фэнтези,боевик,триллер', 'фэнтези,боевик,ужасы', 'фэнтези,драма',\n",
       "       'фэнтези,драма,биография', 'фэнтези,драма,детектив',\n",
       "       'фэнтези,драма,комедия', 'фэнтези,драма,мелодрама',\n",
       "       'фэнтези,драма,приключения', 'фэнтези,драма,семейный',\n",
       "       'фэнтези,драма,ужасы', 'фэнтези,драма,фильм-нуар',\n",
       "       'фэнтези,комедия', 'фэнтези,комедия,детектив',\n",
       "       'фэнтези,комедия,драма', 'фэнтези,комедия,криминал',\n",
       "       'фэнтези,комедия,приключения', 'фэнтези,комедия,семейный',\n",
       "       'фэнтези,мелодрама', 'фэнтези,мелодрама,драма',\n",
       "       'фэнтези,мелодрама,комедия', 'фэнтези,мелодрама,приключения',\n",
       "       'фэнтези,приключения', 'фэнтези,приключения,боевик',\n",
       "       'фэнтези,приключения,драма', 'фэнтези,приключения,комедия',\n",
       "       'фэнтези,приключения,семейный', 'фэнтези,семейный',\n",
       "       'фэнтези,семейный,мелодрама', 'фэнтези,семейный,приключения',\n",
       "       'фэнтези,триллер,детектив', 'фэнтези,триллер,драма',\n",
       "       'фэнтези,триллер,мелодрама', 'фэнтези,триллер,приключения',\n",
       "       'фэнтези,ужасы', 'фэнтези,ужасы,триллер'], dtype=object)"
      ]
     },
     "metadata": {},
     "output_type": "display_data"
    }
   ],
   "source": [
    "for column in [\"title\", \n",
    "               \"type\", \n",
    "               \"film_studio\", \n",
    "               \"production_country\", \n",
    "               \"director\", \n",
    "               \"producer\", \n",
    "               \"financing_source\", \n",
    "               \"genres\"]:\n",
    "    df[column] = df[column].str.strip()\n",
    "    df[column] = df[column].str.lower()\n",
    "    display(df[column].sort_values().unique())"
   ]
  },
  {
   "cell_type": "markdown",
   "metadata": {},
   "source": [
    "##### Вывод"
   ]
  },
  {
   "cell_type": "markdown",
   "metadata": {},
   "source": [
    "Человеческий фактор всегда есть в таблице, пробелы удалены, регистр всезде один."
   ]
  },
  {
   "cell_type": "markdown",
   "metadata": {
    "id": "XFSN5lrEgFyR"
   },
   "source": [
    "#### Шаг 2.4. Проверьте количественные значения\n",
    "\n",
    "- Проверьте, обнаружились ли в таких столбцах подозрительные данные. Как с такими данными лучше поступить?\n"
   ]
  },
  {
   "cell_type": "markdown",
   "metadata": {
    "id": "YbzClBxagFyS"
   },
   "source": [
    "Оценим количественные столбцы"
   ]
  },
  {
   "cell_type": "code",
   "execution_count": 37,
   "metadata": {},
   "outputs": [
    {
     "data": {
      "text/plain": [
       "Text(0, 0.5, 'Количество фильмов')"
      ]
     },
     "execution_count": 37,
     "metadata": {},
     "output_type": "execute_result"
    },
    {
     "data": {
      "image/png": "[encoded data removed]",
      "text/plain": [
       "<Figure size 432x288 with 1 Axes>"
      ]
     },
     "metadata": {
      "needs_background": "light"
     },
     "output_type": "display_data"
    }
   ],
   "source": [
    "df[\"budget\"].hist(range=(0,200000000))\n",
    "plt.title('Распредление бюджета по фильмам')\n",
    "\n",
    "plt.xlabel('Бюджет')\n",
    "\n",
    "plt.ylabel('Количество фильмов')"
   ]
  },
  {
   "cell_type": "code",
   "execution_count": 38,
   "metadata": {},
   "outputs": [
    {
     "data": {
      "text/html": [
       "<div>\n",
       "<style scoped>\n",
       "    .dataframe tbody tr th:only-of-type {\n",
       "        vertical-align: middle;\n",
       "    }\n",
       "\n",
       "    .dataframe tbody tr th {\n",
       "        vertical-align: top;\n",
       "    }\n",
       "\n",
       "    .dataframe thead th {\n",
       "        text-align: right;\n",
       "    }\n",
       "</style>\n",
       "<table border=\"1\" class=\"dataframe\">\n",
       "  <thead>\n",
       "    <tr style=\"text-align: right;\">\n",
       "      <th></th>\n",
       "      <th>title</th>\n",
       "      <th>pu_number</th>\n",
       "      <th>show_start_date</th>\n",
       "      <th>type</th>\n",
       "      <th>film_studio</th>\n",
       "      <th>production_country</th>\n",
       "      <th>director</th>\n",
       "      <th>producer</th>\n",
       "      <th>refundable_support</th>\n",
       "      <th>nonrefundable_support</th>\n",
       "      <th>budget</th>\n",
       "      <th>financing_source</th>\n",
       "      <th>genres</th>\n",
       "      <th>box_office</th>\n",
       "      <th>age_category</th>\n",
       "      <th>ratings_new</th>\n",
       "    </tr>\n",
       "  </thead>\n",
       "  <tbody>\n",
       "    <tr>\n",
       "      <th>3565</th>\n",
       "      <td>притяжение (2016)</td>\n",
       "      <td>111018116</td>\n",
       "      <td>2016-12-16 12:00:00+00:00</td>\n",
       "      <td>художественный</td>\n",
       "      <td>ооо \"водород 2011\",  ооо \"арт пикчерс студия\"</td>\n",
       "      <td>россия</td>\n",
       "      <td>ф.бондарчук</td>\n",
       "      <td>ооо \"арт пикчерс студия\"</td>\n",
       "      <td>0</td>\n",
       "      <td>250000000</td>\n",
       "      <td>0</td>\n",
       "      <td>фонд кино</td>\n",
       "      <td>фантастика</td>\n",
       "      <td>1038321489</td>\n",
       "      <td>12</td>\n",
       "      <td>56</td>\n",
       "    </tr>\n",
       "    <tr>\n",
       "      <th>2058</th>\n",
       "      <td>дуxless 2</td>\n",
       "      <td>111000415</td>\n",
       "      <td>2015-01-26 12:00:00+00:00</td>\n",
       "      <td>художественный</td>\n",
       "      <td>ооо \"киностудия \"слово\", ооо \"арт пикчерс студия\"</td>\n",
       "      <td>россия</td>\n",
       "      <td>р.прыгунов</td>\n",
       "      <td>п.ануров, ф.бондарчук, д.рудовский</td>\n",
       "      <td>0</td>\n",
       "      <td>75000000</td>\n",
       "      <td>0</td>\n",
       "      <td>фонд кино</td>\n",
       "      <td>драма</td>\n",
       "      <td>446163511</td>\n",
       "      <td>16</td>\n",
       "      <td>66</td>\n",
       "    </tr>\n",
       "    <tr>\n",
       "      <th>5673</th>\n",
       "      <td>селфи</td>\n",
       "      <td>111012117</td>\n",
       "      <td>2018-02-01 12:00:00+00:00</td>\n",
       "      <td>художественный</td>\n",
       "      <td>ооо \"киностудия \"слово\", ооо \"арт пикчерс студия\"</td>\n",
       "      <td>россия</td>\n",
       "      <td>н.хомерики</td>\n",
       "      <td>п.ануров, ф.бондарчук, д.рудовский</td>\n",
       "      <td>20000000</td>\n",
       "      <td>40000000</td>\n",
       "      <td>0</td>\n",
       "      <td>фонд кино</td>\n",
       "      <td>триллер,драма</td>\n",
       "      <td>225196400</td>\n",
       "      <td>16</td>\n",
       "      <td>58</td>\n",
       "    </tr>\n",
       "    <tr>\n",
       "      <th>2472</th>\n",
       "      <td>воин (2015)</td>\n",
       "      <td>111017315</td>\n",
       "      <td>2015-09-28 12:00:00+00:00</td>\n",
       "      <td>художественный</td>\n",
       "      <td>ооо \"форпост продакшн\", ооо \"арт пикчерс студия\"</td>\n",
       "      <td>россия</td>\n",
       "      <td>а.андрианов</td>\n",
       "      <td>ооо \"арт пикчерс студия\"</td>\n",
       "      <td>10000000</td>\n",
       "      <td>70000000</td>\n",
       "      <td>0</td>\n",
       "      <td>фонд кино</td>\n",
       "      <td>боевик,драма,криминал</td>\n",
       "      <td>196572438</td>\n",
       "      <td>12</td>\n",
       "      <td>78</td>\n",
       "    </tr>\n",
       "    <tr>\n",
       "      <th>2615</th>\n",
       "      <td>савва. сердце воина</td>\n",
       "      <td>114001715</td>\n",
       "      <td>2015-07-21 12:00:00+00:00</td>\n",
       "      <td>анимационный</td>\n",
       "      <td>ооо \"глюкоза продакшн\", ооо \"арт пикчерс студия\"</td>\n",
       "      <td>россия</td>\n",
       "      <td>м.фадеев</td>\n",
       "      <td>а.чистяков</td>\n",
       "      <td>60000000</td>\n",
       "      <td>100000000</td>\n",
       "      <td>0</td>\n",
       "      <td>фонд кино</td>\n",
       "      <td>мультфильм,приключения,фэнтези</td>\n",
       "      <td>184487551</td>\n",
       "      <td>6</td>\n",
       "      <td>46</td>\n",
       "    </tr>\n",
       "    <tr>\n",
       "      <th>6823</th>\n",
       "      <td>большое путешествие</td>\n",
       "      <td>114002419</td>\n",
       "      <td>2019-04-20 12:00:00+00:00</td>\n",
       "      <td>анимационный</td>\n",
       "      <td>ооо \"лицензионные бренды\"</td>\n",
       "      <td>россия</td>\n",
       "      <td>н.лопато, в.ровенский</td>\n",
       "      <td>ооо \"лицензионные бренды\"</td>\n",
       "      <td>60000000</td>\n",
       "      <td>120000000</td>\n",
       "      <td>0</td>\n",
       "      <td>фонд кино</td>\n",
       "      <td>мультфильм,комедия,приключения</td>\n",
       "      <td>147606826</td>\n",
       "      <td>6</td>\n",
       "      <td>62</td>\n",
       "    </tr>\n",
       "    <tr>\n",
       "      <th>5806</th>\n",
       "      <td>два хвоста</td>\n",
       "      <td>114001018</td>\n",
       "      <td>2018-05-31 12:00:00+00:00</td>\n",
       "      <td>анимационный</td>\n",
       "      <td>ооо \"лицензионные бренды\"</td>\n",
       "      <td>россия</td>\n",
       "      <td>в.ровенский, н.лопато, в.азеев</td>\n",
       "      <td>ооо \"лицензионные бренды\"</td>\n",
       "      <td>10000000</td>\n",
       "      <td>60000000</td>\n",
       "      <td>0</td>\n",
       "      <td>фонд кино</td>\n",
       "      <td>мультфильм,детский</td>\n",
       "      <td>106514301</td>\n",
       "      <td>6</td>\n",
       "      <td>50</td>\n",
       "    </tr>\n",
       "    <tr>\n",
       "      <th>6008</th>\n",
       "      <td>принцесса и дракон</td>\n",
       "      <td>114003018</td>\n",
       "      <td>2018-08-23 12:00:00+00:00</td>\n",
       "      <td>анимационный</td>\n",
       "      <td>ооо \"лицензионные бренды\"</td>\n",
       "      <td>россия</td>\n",
       "      <td>м.нефедова</td>\n",
       "      <td>ооо \"лицензионные бренды\"</td>\n",
       "      <td>40000000</td>\n",
       "      <td>40000000</td>\n",
       "      <td>0</td>\n",
       "      <td>фонд кино</td>\n",
       "      <td>мультфильм,фэнтези,детский</td>\n",
       "      <td>83366328</td>\n",
       "      <td>6</td>\n",
       "      <td>52</td>\n",
       "    </tr>\n",
       "    <tr>\n",
       "      <th>2788</th>\n",
       "      <td>срочно выйду замуж</td>\n",
       "      <td>111017115</td>\n",
       "      <td>2015-09-30 12:00:00+00:00</td>\n",
       "      <td>художественный</td>\n",
       "      <td>ао \"вайт медиа\", ооо \"арт пикчерс студия\"</td>\n",
       "      <td>россия</td>\n",
       "      <td>с чекалов</td>\n",
       "      <td>ф.бондарчук, т.вайнштейн, д.рудовский</td>\n",
       "      <td>0</td>\n",
       "      <td>35000000</td>\n",
       "      <td>0</td>\n",
       "      <td>фонд кино</td>\n",
       "      <td>комедия,мелодрама</td>\n",
       "      <td>72937783</td>\n",
       "      <td>16</td>\n",
       "      <td>51</td>\n",
       "    </tr>\n",
       "    <tr>\n",
       "      <th>3047</th>\n",
       "      <td>любовь с ограничениями</td>\n",
       "      <td>111008216</td>\n",
       "      <td>2016-04-29 12:00:00+00:00</td>\n",
       "      <td>художественный</td>\n",
       "      <td>ао \"вайт медиа\", ооо \"арт пикчерс студия\"</td>\n",
       "      <td>россия</td>\n",
       "      <td>д.тюрин</td>\n",
       "      <td>ф.бондарчук, т.вайнштейн, д.рудовский</td>\n",
       "      <td>19000000</td>\n",
       "      <td>51000000</td>\n",
       "      <td>0</td>\n",
       "      <td>фонд кино</td>\n",
       "      <td>комедия,мелодрама</td>\n",
       "      <td>70299052</td>\n",
       "      <td>16</td>\n",
       "      <td>63</td>\n",
       "    </tr>\n",
       "    <tr>\n",
       "      <th>2532</th>\n",
       "      <td>бармен.</td>\n",
       "      <td>111009615</td>\n",
       "      <td>2015-05-26 12:00:00+00:00</td>\n",
       "      <td>художественный</td>\n",
       "      <td>ао \"вайт медиа\", ооо \"арт пикчерс студия\"</td>\n",
       "      <td>россия</td>\n",
       "      <td>д.штурманова</td>\n",
       "      <td>т.вайнштейн</td>\n",
       "      <td>20000000</td>\n",
       "      <td>0</td>\n",
       "      <td>0</td>\n",
       "      <td>фонд кино</td>\n",
       "      <td>комедия,фэнтези</td>\n",
       "      <td>67418974</td>\n",
       "      <td>16</td>\n",
       "      <td>62</td>\n",
       "    </tr>\n",
       "    <tr>\n",
       "      <th>3675</th>\n",
       "      <td>чудо-юдо</td>\n",
       "      <td>114001817</td>\n",
       "      <td>2017-06-27 12:00:00+00:00</td>\n",
       "      <td>анимационный</td>\n",
       "      <td>ооо \"кинофирма\"</td>\n",
       "      <td>россия</td>\n",
       "      <td>а.лукичев</td>\n",
       "      <td>ооо \"кинофирма\"</td>\n",
       "      <td>20000000</td>\n",
       "      <td>20000000</td>\n",
       "      <td>0</td>\n",
       "      <td>фонд кино</td>\n",
       "      <td>мультфильм,фэнтези,семейный</td>\n",
       "      <td>55108014</td>\n",
       "      <td>6</td>\n",
       "      <td>52</td>\n",
       "    </tr>\n",
       "    <tr>\n",
       "      <th>3739</th>\n",
       "      <td>мифы</td>\n",
       "      <td>111004317</td>\n",
       "      <td>2017-06-07 12:00:00+00:00</td>\n",
       "      <td>художественный</td>\n",
       "      <td>ооо \"хайпфилм\", ооо \"арт пикчерс студия\"</td>\n",
       "      <td>россия</td>\n",
       "      <td>а.молочников</td>\n",
       "      <td>ф.бондарчук, д.рудовский, и.стюарт, м.османн, ...</td>\n",
       "      <td>25000000</td>\n",
       "      <td>20000000</td>\n",
       "      <td>0</td>\n",
       "      <td>фонд кино</td>\n",
       "      <td>комедия</td>\n",
       "      <td>50451949</td>\n",
       "      <td>16</td>\n",
       "      <td>48</td>\n",
       "    </tr>\n",
       "    <tr>\n",
       "      <th>2874</th>\n",
       "      <td>помню - не помню!</td>\n",
       "      <td>111004916</td>\n",
       "      <td>2016-03-01 12:00:00+00:00</td>\n",
       "      <td>художественный</td>\n",
       "      <td>ооо \"кинофирма\"</td>\n",
       "      <td>россия</td>\n",
       "      <td>в.ровенский</td>\n",
       "      <td>ооо \"кинофирма\"</td>\n",
       "      <td>0</td>\n",
       "      <td>6000000</td>\n",
       "      <td>0</td>\n",
       "      <td>министерство культуры</td>\n",
       "      <td>комедия</td>\n",
       "      <td>15362931</td>\n",
       "      <td>12</td>\n",
       "      <td>43</td>\n",
       "    </tr>\n",
       "    <tr>\n",
       "      <th>2053</th>\n",
       "      <td>14+</td>\n",
       "      <td>111023614</td>\n",
       "      <td>2014-12-19 12:00:00+00:00</td>\n",
       "      <td>художественный</td>\n",
       "      <td>ооо киностудия  \"сентябрь\"</td>\n",
       "      <td>россия</td>\n",
       "      <td>а.зайцев</td>\n",
       "      <td>о.гранина, а.зайцев</td>\n",
       "      <td>0</td>\n",
       "      <td>23000000</td>\n",
       "      <td>0</td>\n",
       "      <td>министерство культуры, фонд кино</td>\n",
       "      <td>мелодрама</td>\n",
       "      <td>10234016</td>\n",
       "      <td>16</td>\n",
       "      <td>66</td>\n",
       "    </tr>\n",
       "    <tr>\n",
       "      <th>2684</th>\n",
       "      <td>тряпичный союз</td>\n",
       "      <td>111010215</td>\n",
       "      <td>2015-06-08 12:00:00+00:00</td>\n",
       "      <td>художественный</td>\n",
       "      <td>ооо \"кинокомпания \"коктебель\"</td>\n",
       "      <td>россия</td>\n",
       "      <td>м.местецкий</td>\n",
       "      <td>р.борисевич, а.кушаев</td>\n",
       "      <td>0</td>\n",
       "      <td>59000000</td>\n",
       "      <td>0</td>\n",
       "      <td>фонд кино</td>\n",
       "      <td>комедия,драма</td>\n",
       "      <td>1957738</td>\n",
       "      <td>18</td>\n",
       "      <td>63</td>\n",
       "    </tr>\n",
       "    <tr>\n",
       "      <th>6323</th>\n",
       "      <td>баба яга</td>\n",
       "      <td>114006518</td>\n",
       "      <td>2018-11-08 12:00:00+00:00</td>\n",
       "      <td>анимационный</td>\n",
       "      <td>ооо \"арт пикчерс студия\"</td>\n",
       "      <td>россия</td>\n",
       "      <td>в.саков</td>\n",
       "      <td>ооо \"арт пикчерс студия\", ооо \"криэйтив анимэй...</td>\n",
       "      <td>0</td>\n",
       "      <td>138969465</td>\n",
       "      <td>0</td>\n",
       "      <td>фонд кино</td>\n",
       "      <td>unknown</td>\n",
       "      <td>1334699</td>\n",
       "      <td>6</td>\n",
       "      <td>0</td>\n",
       "    </tr>\n",
       "  </tbody>\n",
       "</table>\n",
       "</div>"
      ],
      "text/plain": [
       "                       title  pu_number           show_start_date  \\\n",
       "3565       притяжение (2016)  111018116 2016-12-16 12:00:00+00:00   \n",
       "2058               дуxless 2  111000415 2015-01-26 12:00:00+00:00   \n",
       "5673                   селфи  111012117 2018-02-01 12:00:00+00:00   \n",
       "2472             воин (2015)  111017315 2015-09-28 12:00:00+00:00   \n",
       "2615     савва. сердце воина  114001715 2015-07-21 12:00:00+00:00   \n",
       "6823     большое путешествие  114002419 2019-04-20 12:00:00+00:00   \n",
       "5806              два хвоста  114001018 2018-05-31 12:00:00+00:00   \n",
       "6008      принцесса и дракон  114003018 2018-08-23 12:00:00+00:00   \n",
       "2788      срочно выйду замуж  111017115 2015-09-30 12:00:00+00:00   \n",
       "3047  любовь с ограничениями  111008216 2016-04-29 12:00:00+00:00   \n",
       "2532                 бармен.  111009615 2015-05-26 12:00:00+00:00   \n",
       "3675                чудо-юдо  114001817 2017-06-27 12:00:00+00:00   \n",
       "3739                    мифы  111004317 2017-06-07 12:00:00+00:00   \n",
       "2874       помню - не помню!  111004916 2016-03-01 12:00:00+00:00   \n",
       "2053                     14+  111023614 2014-12-19 12:00:00+00:00   \n",
       "2684          тряпичный союз  111010215 2015-06-08 12:00:00+00:00   \n",
       "6323                баба яга  114006518 2018-11-08 12:00:00+00:00   \n",
       "\n",
       "                type                                        film_studio  \\\n",
       "3565  художественный      ооо \"водород 2011\",  ооо \"арт пикчерс студия\"   \n",
       "2058  художественный  ооо \"киностудия \"слово\", ооо \"арт пикчерс студия\"   \n",
       "5673  художественный  ооо \"киностудия \"слово\", ооо \"арт пикчерс студия\"   \n",
       "2472  художественный   ооо \"форпост продакшн\", ооо \"арт пикчерс студия\"   \n",
       "2615    анимационный   ооо \"глюкоза продакшн\", ооо \"арт пикчерс студия\"   \n",
       "6823    анимационный                          ооо \"лицензионные бренды\"   \n",
       "5806    анимационный                          ооо \"лицензионные бренды\"   \n",
       "6008    анимационный                          ооо \"лицензионные бренды\"   \n",
       "2788  художественный          ао \"вайт медиа\", ооо \"арт пикчерс студия\"   \n",
       "3047  художественный          ао \"вайт медиа\", ооо \"арт пикчерс студия\"   \n",
       "2532  художественный          ао \"вайт медиа\", ооо \"арт пикчерс студия\"   \n",
       "3675    анимационный                                    ооо \"кинофирма\"   \n",
       "3739  художественный           ооо \"хайпфилм\", ооо \"арт пикчерс студия\"   \n",
       "2874  художественный                                    ооо \"кинофирма\"   \n",
       "2053  художественный                         ооо киностудия  \"сентябрь\"   \n",
       "2684  художественный                      ооо \"кинокомпания \"коктебель\"   \n",
       "6323    анимационный                           ооо \"арт пикчерс студия\"   \n",
       "\n",
       "     production_country                        director  \\\n",
       "3565             россия                     ф.бондарчук   \n",
       "2058             россия                      р.прыгунов   \n",
       "5673             россия                      н.хомерики   \n",
       "2472             россия                     а.андрианов   \n",
       "2615             россия                        м.фадеев   \n",
       "6823             россия           н.лопато, в.ровенский   \n",
       "5806             россия  в.ровенский, н.лопато, в.азеев   \n",
       "6008             россия                      м.нефедова   \n",
       "2788             россия                       с чекалов   \n",
       "3047             россия                         д.тюрин   \n",
       "2532             россия                    д.штурманова   \n",
       "3675             россия                       а.лукичев   \n",
       "3739             россия                    а.молочников   \n",
       "2874             россия                     в.ровенский   \n",
       "2053             россия                        а.зайцев   \n",
       "2684             россия                     м.местецкий   \n",
       "6323             россия                         в.саков   \n",
       "\n",
       "                                               producer  refundable_support  \\\n",
       "3565                           ооо \"арт пикчерс студия\"                   0   \n",
       "2058                 п.ануров, ф.бондарчук, д.рудовский                   0   \n",
       "5673                 п.ануров, ф.бондарчук, д.рудовский            20000000   \n",
       "2472                           ооо \"арт пикчерс студия\"            10000000   \n",
       "2615                                         а.чистяков            60000000   \n",
       "6823                          ооо \"лицензионные бренды\"            60000000   \n",
       "5806                          ооо \"лицензионные бренды\"            10000000   \n",
       "6008                          ооо \"лицензионные бренды\"            40000000   \n",
       "2788              ф.бондарчук, т.вайнштейн, д.рудовский                   0   \n",
       "3047              ф.бондарчук, т.вайнштейн, д.рудовский            19000000   \n",
       "2532                                        т.вайнштейн            20000000   \n",
       "3675                                    ооо \"кинофирма\"            20000000   \n",
       "3739  ф.бондарчук, д.рудовский, и.стюарт, м.османн, ...            25000000   \n",
       "2874                                    ооо \"кинофирма\"                   0   \n",
       "2053                                о.гранина, а.зайцев                   0   \n",
       "2684                              р.борисевич, а.кушаев                   0   \n",
       "6323  ооо \"арт пикчерс студия\", ооо \"криэйтив анимэй...                   0   \n",
       "\n",
       "      nonrefundable_support  budget                  financing_source  \\\n",
       "3565              250000000       0                         фонд кино   \n",
       "2058               75000000       0                         фонд кино   \n",
       "5673               40000000       0                         фонд кино   \n",
       "2472               70000000       0                         фонд кино   \n",
       "2615              100000000       0                         фонд кино   \n",
       "6823              120000000       0                         фонд кино   \n",
       "5806               60000000       0                         фонд кино   \n",
       "6008               40000000       0                         фонд кино   \n",
       "2788               35000000       0                         фонд кино   \n",
       "3047               51000000       0                         фонд кино   \n",
       "2532                      0       0                         фонд кино   \n",
       "3675               20000000       0                         фонд кино   \n",
       "3739               20000000       0                         фонд кино   \n",
       "2874                6000000       0             министерство культуры   \n",
       "2053               23000000       0  министерство культуры, фонд кино   \n",
       "2684               59000000       0                         фонд кино   \n",
       "6323              138969465       0                         фонд кино   \n",
       "\n",
       "                              genres  box_office  age_category  ratings_new  \n",
       "3565                      фантастика  1038321489            12           56  \n",
       "2058                           драма   446163511            16           66  \n",
       "5673                   триллер,драма   225196400            16           58  \n",
       "2472           боевик,драма,криминал   196572438            12           78  \n",
       "2615  мультфильм,приключения,фэнтези   184487551             6           46  \n",
       "6823  мультфильм,комедия,приключения   147606826             6           62  \n",
       "5806              мультфильм,детский   106514301             6           50  \n",
       "6008      мультфильм,фэнтези,детский    83366328             6           52  \n",
       "2788               комедия,мелодрама    72937783            16           51  \n",
       "3047               комедия,мелодрама    70299052            16           63  \n",
       "2532                 комедия,фэнтези    67418974            16           62  \n",
       "3675     мультфильм,фэнтези,семейный    55108014             6           52  \n",
       "3739                         комедия    50451949            16           48  \n",
       "2874                         комедия    15362931            12           43  \n",
       "2053                       мелодрама    10234016            16           66  \n",
       "2684                   комедия,драма     1957738            18           63  \n",
       "6323                         unknown     1334699             6            0  "
      ]
     },
     "execution_count": 38,
     "metadata": {},
     "output_type": "execute_result"
    }
   ],
   "source": [
    "df.loc[df[\"budget\"] == 0]"
   ]
  },
  {
   "cell_type": "markdown",
   "metadata": {},
   "source": [
    "В столбце Бюджет есть 0 значения, то есть фильм получил поддержку, но только моральную. Надо это исправить."
   ]
  },
  {
   "cell_type": "code",
   "execution_count": 39,
   "metadata": {},
   "outputs": [],
   "source": [
    "support = df.loc[df[\"budget\"] >= 0].pivot_table(index = \"pu_number\",\n",
    "                                               values = [\"refundable_support\",\n",
    "                                                         \"nonrefundable_support\",\n",
    "                                                         \"budget\",\n",
    "                                                         \"box_office\"])"
   ]
  },
  {
   "cell_type": "code",
   "execution_count": 40,
   "metadata": {},
   "outputs": [
    {
     "data": {
      "text/html": [
       "<style type=\"text/css\">\n",
       "#T_1466a_row0_col0, #T_1466a_row1_col1, #T_1466a_row2_col2, #T_1466a_row3_col3 {\n",
       "  background-color: #023858;\n",
       "  color: #f1f1f1;\n",
       "}\n",
       "#T_1466a_row0_col1, #T_1466a_row0_col2, #T_1466a_row0_col3, #T_1466a_row2_col0 {\n",
       "  background-color: #fff7fb;\n",
       "  color: #000000;\n",
       "}\n",
       "#T_1466a_row1_col0 {\n",
       "  background-color: #fcf4fa;\n",
       "  color: #000000;\n",
       "}\n",
       "#T_1466a_row1_col2 {\n",
       "  background-color: #197db7;\n",
       "  color: #f1f1f1;\n",
       "}\n",
       "#T_1466a_row1_col3 {\n",
       "  background-color: #91b5d6;\n",
       "  color: #000000;\n",
       "}\n",
       "#T_1466a_row2_col1 {\n",
       "  background-color: #1b7eb7;\n",
       "  color: #f1f1f1;\n",
       "}\n",
       "#T_1466a_row2_col3 {\n",
       "  background-color: #e1dfed;\n",
       "  color: #000000;\n",
       "}\n",
       "#T_1466a_row3_col0 {\n",
       "  background-color: #ede7f2;\n",
       "  color: #000000;\n",
       "}\n",
       "#T_1466a_row3_col1 {\n",
       "  background-color: #79abd0;\n",
       "  color: #f1f1f1;\n",
       "}\n",
       "#T_1466a_row3_col2 {\n",
       "  background-color: #c8cde4;\n",
       "  color: #000000;\n",
       "}\n",
       "</style>\n",
       "<table id=\"T_1466a\">\n",
       "  <thead>\n",
       "    <tr>\n",
       "      <th class=\"blank level0\" >&nbsp;</th>\n",
       "      <th id=\"T_1466a_level0_col0\" class=\"col_heading level0 col0\" >box_office</th>\n",
       "      <th id=\"T_1466a_level0_col1\" class=\"col_heading level0 col1\" >budget</th>\n",
       "      <th id=\"T_1466a_level0_col2\" class=\"col_heading level0 col2\" >nonrefundable_support</th>\n",
       "      <th id=\"T_1466a_level0_col3\" class=\"col_heading level0 col3\" >refundable_support</th>\n",
       "    </tr>\n",
       "  </thead>\n",
       "  <tbody>\n",
       "    <tr>\n",
       "      <th id=\"T_1466a_level0_row0\" class=\"row_heading level0 row0\" >box_office</th>\n",
       "      <td id=\"T_1466a_row0_col0\" class=\"data row0 col0\" >1.000000</td>\n",
       "      <td id=\"T_1466a_row0_col1\" class=\"data row0 col1\" >0.153738</td>\n",
       "      <td id=\"T_1466a_row0_col2\" class=\"data row0 col2\" >0.134415</td>\n",
       "      <td id=\"T_1466a_row0_col3\" class=\"data row0 col3\" >0.242089</td>\n",
       "    </tr>\n",
       "    <tr>\n",
       "      <th id=\"T_1466a_level0_row1\" class=\"row_heading level0 row1\" >budget</th>\n",
       "      <td id=\"T_1466a_row1_col0\" class=\"data row1 col0\" >0.153738</td>\n",
       "      <td id=\"T_1466a_row1_col1\" class=\"data row1 col1\" >1.000000</td>\n",
       "      <td id=\"T_1466a_row1_col2\" class=\"data row1 col2\" >0.739236</td>\n",
       "      <td id=\"T_1466a_row1_col3\" class=\"data row1 col3\" >0.565208</td>\n",
       "    </tr>\n",
       "    <tr>\n",
       "      <th id=\"T_1466a_level0_row2\" class=\"row_heading level0 row2\" >nonrefundable_support</th>\n",
       "      <td id=\"T_1466a_row2_col0\" class=\"data row2 col0\" >0.134415</td>\n",
       "      <td id=\"T_1466a_row2_col1\" class=\"data row2 col1\" >0.739236</td>\n",
       "      <td id=\"T_1466a_row2_col2\" class=\"data row2 col2\" >1.000000</td>\n",
       "      <td id=\"T_1466a_row2_col3\" class=\"data row2 col3\" >0.372538</td>\n",
       "    </tr>\n",
       "    <tr>\n",
       "      <th id=\"T_1466a_level0_row3\" class=\"row_heading level0 row3\" >refundable_support</th>\n",
       "      <td id=\"T_1466a_row3_col0\" class=\"data row3 col0\" >0.242089</td>\n",
       "      <td id=\"T_1466a_row3_col1\" class=\"data row3 col1\" >0.565208</td>\n",
       "      <td id=\"T_1466a_row3_col2\" class=\"data row3 col2\" >0.372538</td>\n",
       "      <td id=\"T_1466a_row3_col3\" class=\"data row3 col3\" >1.000000</td>\n",
       "    </tr>\n",
       "  </tbody>\n",
       "</table>\n"
      ],
      "text/plain": [
       "<pandas.io.formats.style.Styler at 0x1490eeb9c00>"
      ]
     },
     "execution_count": 40,
     "metadata": {},
     "output_type": "execute_result"
    }
   ],
   "source": [
    "support.corr().style.background_gradient(axis=0)"
   ]
  },
  {
   "cell_type": "code",
   "execution_count": 41,
   "metadata": {},
   "outputs": [
    {
     "data": {
      "text/html": [
       "<div>\n",
       "<style scoped>\n",
       "    .dataframe tbody tr th:only-of-type {\n",
       "        vertical-align: middle;\n",
       "    }\n",
       "\n",
       "    .dataframe tbody tr th {\n",
       "        vertical-align: top;\n",
       "    }\n",
       "\n",
       "    .dataframe thead th {\n",
       "        text-align: right;\n",
       "    }\n",
       "</style>\n",
       "<table border=\"1\" class=\"dataframe\">\n",
       "  <thead>\n",
       "    <tr style=\"text-align: right;\">\n",
       "      <th></th>\n",
       "      <th>box_office</th>\n",
       "      <th>budget</th>\n",
       "      <th>nonrefundable_support</th>\n",
       "      <th>refundable_support</th>\n",
       "    </tr>\n",
       "    <tr>\n",
       "      <th>pu_number</th>\n",
       "      <th></th>\n",
       "      <th></th>\n",
       "      <th></th>\n",
       "      <th></th>\n",
       "    </tr>\n",
       "  </thead>\n",
       "  <tbody>\n",
       "    <tr>\n",
       "      <th>111000115</th>\n",
       "      <td>61040</td>\n",
       "      <td>49280496</td>\n",
       "      <td>34000000</td>\n",
       "      <td>0</td>\n",
       "    </tr>\n",
       "    <tr>\n",
       "      <th>111000116</th>\n",
       "      <td>153030013</td>\n",
       "      <td>78686500</td>\n",
       "      <td>20000000</td>\n",
       "      <td>20000000</td>\n",
       "    </tr>\n",
       "    <tr>\n",
       "      <th>111000117</th>\n",
       "      <td>12260956</td>\n",
       "      <td>45483233</td>\n",
       "      <td>20000000</td>\n",
       "      <td>7000000</td>\n",
       "    </tr>\n",
       "    <tr>\n",
       "      <th>111000119</th>\n",
       "      <td>4293649</td>\n",
       "      <td>115000000</td>\n",
       "      <td>35000000</td>\n",
       "      <td>0</td>\n",
       "    </tr>\n",
       "    <tr>\n",
       "      <th>111000216</th>\n",
       "      <td>355567</td>\n",
       "      <td>38461538</td>\n",
       "      <td>25000000</td>\n",
       "      <td>0</td>\n",
       "    </tr>\n",
       "    <tr>\n",
       "      <th>...</th>\n",
       "      <td>...</td>\n",
       "      <td>...</td>\n",
       "      <td>...</td>\n",
       "      <td>...</td>\n",
       "    </tr>\n",
       "    <tr>\n",
       "      <th>114006218</th>\n",
       "      <td>2633655</td>\n",
       "      <td>48238075</td>\n",
       "      <td>15000000</td>\n",
       "      <td>0</td>\n",
       "    </tr>\n",
       "    <tr>\n",
       "      <th>114006518</th>\n",
       "      <td>1334699</td>\n",
       "      <td>0</td>\n",
       "      <td>138969465</td>\n",
       "      <td>0</td>\n",
       "    </tr>\n",
       "    <tr>\n",
       "      <th>114008818</th>\n",
       "      <td>577368853</td>\n",
       "      <td>185500705</td>\n",
       "      <td>0</td>\n",
       "      <td>115000000</td>\n",
       "    </tr>\n",
       "    <tr>\n",
       "      <th>114010018</th>\n",
       "      <td>185318326</td>\n",
       "      <td>356550000</td>\n",
       "      <td>60000000</td>\n",
       "      <td>60000000</td>\n",
       "    </tr>\n",
       "    <tr>\n",
       "      <th>214010116</th>\n",
       "      <td>-1</td>\n",
       "      <td>18706080</td>\n",
       "      <td>11520000</td>\n",
       "      <td>0</td>\n",
       "    </tr>\n",
       "  </tbody>\n",
       "</table>\n",
       "<p>331 rows × 4 columns</p>\n",
       "</div>"
      ],
      "text/plain": [
       "           box_office     budget  nonrefundable_support  refundable_support\n",
       "pu_number                                                                  \n",
       "111000115       61040   49280496               34000000                   0\n",
       "111000116   153030013   78686500               20000000            20000000\n",
       "111000117    12260956   45483233               20000000             7000000\n",
       "111000119     4293649  115000000               35000000                   0\n",
       "111000216      355567   38461538               25000000                   0\n",
       "...               ...        ...                    ...                 ...\n",
       "114006218     2633655   48238075               15000000                   0\n",
       "114006518     1334699          0              138969465                   0\n",
       "114008818   577368853  185500705                      0           115000000\n",
       "114010018   185318326  356550000               60000000            60000000\n",
       "214010116          -1   18706080               11520000                   0\n",
       "\n",
       "[331 rows x 4 columns]"
      ]
     },
     "execution_count": 41,
     "metadata": {},
     "output_type": "execute_result"
    }
   ],
   "source": [
    "support"
   ]
  },
  {
   "cell_type": "markdown",
   "metadata": {},
   "source": [
    "По логике бюджет должен строиться из суммы \"refundable_support\" и \"nonrefundable_support\". В корреляции видна эта зависимость, но на деле она сложнее."
   ]
  },
  {
   "cell_type": "code",
   "execution_count": 42,
   "metadata": {},
   "outputs": [
    {
     "data": {
      "image/png": "[encoded data removed]",
      "text/plain": [
       "<Figure size 432x288 with 1 Axes>"
      ]
     },
     "metadata": {
      "needs_background": "light"
     },
     "output_type": "display_data"
    },
    {
     "data": {
      "image/png": "[encoded data removed]",
      "text/plain": [
       "<Figure size 432x288 with 1 Axes>"
      ]
     },
     "metadata": {
      "needs_background": "light"
     },
     "output_type": "display_data"
    }
   ],
   "source": [
    "df[\"refundable_support\"].hist(range=(0,200000000))\n",
    "plt.title('Фильмы с возвратным бюджетом')\n",
    "plt.xlabel('Количество финансов')\n",
    "plt.ylabel('Количество фильмов')\n",
    "plt.show()\n",
    "plt.ylim(-50,200000000)\n",
    "df.loc[df[\"refundable_support\"] >= 0].boxplot(column = \"refundable_support\")\n",
    "plt.show()"
   ]
  },
  {
   "cell_type": "code",
   "execution_count": 43,
   "metadata": {
    "scrolled": true
   },
   "outputs": [
    {
     "data": {
      "image/png": "[encoded data removed]",
      "text/plain": [
       "<Figure size 432x288 with 1 Axes>"
      ]
     },
     "metadata": {
      "needs_background": "light"
     },
     "output_type": "display_data"
    },
    {
     "data": {
      "image/png": "[encoded data removed]",
      "text/plain": [
       "<Figure size 432x288 with 1 Axes>"
      ]
     },
     "metadata": {
      "needs_background": "light"
     },
     "output_type": "display_data"
    }
   ],
   "source": [
    "df[\"nonrefundable_support\"].hist(range=(0,200000000))\n",
    "plt.title('Фильмы с не возвратным бюджетом')\n",
    "plt.xlabel('Количество финансов')\n",
    "plt.ylabel('Количество фильмов')\n",
    "plt.show()\n",
    "plt.ylim(-50,200000000)\n",
    "df.loc[df[\"nonrefundable_support\"] >= 0].boxplot(column = \"nonrefundable_support\")\n",
    "plt.show()"
   ]
  },
  {
   "cell_type": "code",
   "execution_count": 44,
   "metadata": {},
   "outputs": [
    {
     "data": {
      "image/png": "[encoded data removed]",
      "text/plain": [
       "<Figure size 432x288 with 1 Axes>"
      ]
     },
     "metadata": {
      "needs_background": "light"
     },
     "output_type": "display_data"
    },
    {
     "data": {
      "image/png": "[encoded data removed]",
      "text/plain": [
       "<Figure size 432x288 with 1 Axes>"
      ]
     },
     "metadata": {
      "needs_background": "light"
     },
     "output_type": "display_data"
    }
   ],
   "source": [
    "df[\"box_office\"].hist(range=(0,20000000))\n",
    "plt.title('Распределение сборов по фильмам')\n",
    "plt.xlabel('Сумма сборов')\n",
    "plt.ylabel('Количество фильмов')\n",
    "plt.show()\n",
    "plt.ylim(-50,20000000)\n",
    "df.boxplot(column = \"box_office\")\n",
    "plt.show()"
   ]
  },
  {
   "cell_type": "code",
   "execution_count": 45,
   "metadata": {},
   "outputs": [
    {
     "data": {
      "image/png": "[encoded data removed]",
      "text/plain": [
       "<Figure size 432x288 with 1 Axes>"
      ]
     },
     "metadata": {
      "needs_background": "light"
     },
     "output_type": "display_data"
    },
    {
     "data": {
      "image/png": "[encoded data removed]",
      "text/plain": [
       "<Figure size 432x288 with 1 Axes>"
      ]
     },
     "metadata": {
      "needs_background": "light"
     },
     "output_type": "display_data"
    }
   ],
   "source": [
    "df.loc[df[\"ratings_new\"] > 0, \"ratings_new\"].hist()\n",
    "plt.title('Распределение рейтинга по фильмам')\n",
    "plt.xlabel('Рейтинг')\n",
    "plt.ylabel('Количество фильмов')\n",
    "plt.show()\n",
    "df.boxplot(column = \"ratings_new\")\n",
    "plt.show()"
   ]
  },
  {
   "cell_type": "markdown",
   "metadata": {},
   "source": [
    "##### Вывод"
   ]
  },
  {
   "cell_type": "markdown",
   "metadata": {},
   "source": [
    "В количественных столбцах есть некоторые ньюнсы, исправить их так просто не получилось, при анализе нужно будет просто это учитывать.\n",
    "\n",
    "По графику рейтинга видно что в среднем фильмы получают отценку в районе 70%. Так же график стремится к нормальнлбномк распредлению, что говорит он достоверности данных.\n",
    "\n",
    "Графики с бюджетом больше стремятся к распределению Пуасона. \n",
    "\n",
    "В столбце \"box_office\" есть  очень много аномально больших значений, будем это учитывать.\n",
    "\n",
    "А со столбцами с возвратными и не возвратными финансами все лучше, там выбросов не так много."
   ]
  },
  {
   "cell_type": "markdown",
   "metadata": {
    "id": "Eu6oWp2CgFyS"
   },
   "source": [
    "#### Шаг 2.5. Добавьте новые столбцы\n",
    "\n",
    "\n",
    "\n"
   ]
  },
  {
   "cell_type": "markdown",
   "metadata": {
    "id": "7GgW-UpAgFyS"
   },
   "source": [
    "- Создайте столбец с информацией о годе проката. Выделите год из даты премьеры фильма."
   ]
  },
  {
   "cell_type": "code",
   "execution_count": 46,
   "metadata": {
    "id": "I-yd1DkWgFyT"
   },
   "outputs": [],
   "source": [
    "df[\"year\"] = df[\"show_start_date\"].dt.year"
   ]
  },
  {
   "cell_type": "markdown",
   "metadata": {
    "id": "nFTDLDYOgFyT"
   },
   "source": [
    "- Создайте два столбца: с именем и фамилией главного режиссёра и основным жанром фильма. В столбцы войдут первые значения из списка режиссёров и жанров соответственно."
   ]
  },
  {
   "cell_type": "code",
   "execution_count": 47,
   "metadata": {
    "id": "LSbRZKbMgFyU"
   },
   "outputs": [],
   "source": [
    "def separation (cell):\n",
    "    return cell.split(\",\")[0]"
   ]
  },
  {
   "cell_type": "code",
   "execution_count": 48,
   "metadata": {},
   "outputs": [],
   "source": [
    "df[\"main_director\"] = df[\"director\"].apply(separation)\n",
    "df[\"main_genres\"] = df[\"genres\"].apply(separation)"
   ]
  },
  {
   "cell_type": "markdown",
   "metadata": {
    "id": "1FsCXHwdgFyU"
   },
   "source": [
    "- Посчитайте, какую долю от общего бюджета фильма составляет государственная поддержка."
   ]
  },
  {
   "cell_type": "code",
   "execution_count": 49,
   "metadata": {
    "id": "LV6qFuZLgFyV"
   },
   "outputs": [],
   "source": [
    "df.loc[df[\"budget\"] > 0, \"support_proportion\"] = (df[\"refundable_support\"]+df[\"nonrefundable_support\"])/df[\"budget\"]"
   ]
  },
  {
   "cell_type": "code",
   "execution_count": 50,
   "metadata": {},
   "outputs": [
    {
     "data": {
      "text/plain": [
       "5600    0.044043\n",
       "3732    0.066461\n",
       "7171    0.076929\n",
       "7180    0.090909\n",
       "3042    0.100232\n",
       "          ...   \n",
       "3094         NaN\n",
       "3093         NaN\n",
       "3058         NaN\n",
       "7485         NaN\n",
       "6820         NaN\n",
       "Name: support_proportion, Length: 6772, dtype: float64"
      ]
     },
     "execution_count": 50,
     "metadata": {},
     "output_type": "execute_result"
    }
   ],
   "source": [
    "df[\"support_proportion\"].sort_values()"
   ]
  },
  {
   "cell_type": "markdown",
   "metadata": {},
   "source": [
    "##### Вывод"
   ]
  },
  {
   "cell_type": "markdown",
   "metadata": {},
   "source": [
    "Дабавленые необхожимые столбцы для исследования."
   ]
  },
  {
   "cell_type": "markdown",
   "metadata": {},
   "source": [
    "#### Вывод"
   ]
  },
  {
   "cell_type": "markdown",
   "metadata": {},
   "source": [
    "DF полностью готов к дальнейшему исследованию. Все пропуски исправлены, дубликаты исправлены и необходимая информация добавленна."
   ]
  },
  {
   "cell_type": "markdown",
   "metadata": {
    "id": "6t4EukPLgFyV"
   },
   "source": [
    "### Шаг 3. Проведите исследовательский анализ данных\n"
   ]
  },
  {
   "cell_type": "markdown",
   "metadata": {
    "id": "vAH8WCzugFyV"
   },
   "source": [
    "- Посмотрите, сколько фильмов выходило в прокат каждый год. Обратите внимание, что данные о прокате в кинотеатрах известны не для всех фильмов. Посчитайте, какую долю составляют фильмы с указанной информацией о прокате в кинотеатрах."
   ]
  },
  {
   "cell_type": "code",
   "execution_count": 51,
   "metadata": {},
   "outputs": [
    {
     "data": {
      "text/html": [
       "<div>\n",
       "<style scoped>\n",
       "    .dataframe tbody tr th:only-of-type {\n",
       "        vertical-align: middle;\n",
       "    }\n",
       "\n",
       "    .dataframe tbody tr th {\n",
       "        vertical-align: top;\n",
       "    }\n",
       "\n",
       "    .dataframe thead th {\n",
       "        text-align: right;\n",
       "    }\n",
       "</style>\n",
       "<table border=\"1\" class=\"dataframe\">\n",
       "  <thead>\n",
       "    <tr style=\"text-align: right;\">\n",
       "      <th></th>\n",
       "      <th>box_office_x</th>\n",
       "      <th>box_office_y</th>\n",
       "      <th>proportion</th>\n",
       "    </tr>\n",
       "    <tr>\n",
       "      <th>year</th>\n",
       "      <th></th>\n",
       "      <th></th>\n",
       "      <th></th>\n",
       "    </tr>\n",
       "  </thead>\n",
       "  <tbody>\n",
       "    <tr>\n",
       "      <th>2010</th>\n",
       "      <td>750</td>\n",
       "      <td>97</td>\n",
       "      <td>0.129333</td>\n",
       "    </tr>\n",
       "    <tr>\n",
       "      <th>2011</th>\n",
       "      <td>543</td>\n",
       "      <td>106</td>\n",
       "      <td>0.195212</td>\n",
       "    </tr>\n",
       "    <tr>\n",
       "      <th>2012</th>\n",
       "      <td>526</td>\n",
       "      <td>123</td>\n",
       "      <td>0.233840</td>\n",
       "    </tr>\n",
       "    <tr>\n",
       "      <th>2013</th>\n",
       "      <td>588</td>\n",
       "      <td>178</td>\n",
       "      <td>0.302721</td>\n",
       "    </tr>\n",
       "    <tr>\n",
       "      <th>2014</th>\n",
       "      <td>745</td>\n",
       "      <td>269</td>\n",
       "      <td>0.361074</td>\n",
       "    </tr>\n",
       "    <tr>\n",
       "      <th>2015</th>\n",
       "      <td>663</td>\n",
       "      <td>459</td>\n",
       "      <td>0.692308</td>\n",
       "    </tr>\n",
       "    <tr>\n",
       "      <th>2016</th>\n",
       "      <td>679</td>\n",
       "      <td>512</td>\n",
       "      <td>0.754050</td>\n",
       "    </tr>\n",
       "    <tr>\n",
       "      <th>2017</th>\n",
       "      <td>496</td>\n",
       "      <td>356</td>\n",
       "      <td>0.717742</td>\n",
       "    </tr>\n",
       "    <tr>\n",
       "      <th>2018</th>\n",
       "      <td>879</td>\n",
       "      <td>474</td>\n",
       "      <td>0.539249</td>\n",
       "    </tr>\n",
       "    <tr>\n",
       "      <th>2019</th>\n",
       "      <td>903</td>\n",
       "      <td>526</td>\n",
       "      <td>0.582503</td>\n",
       "    </tr>\n",
       "  </tbody>\n",
       "</table>\n",
       "</div>"
      ],
      "text/plain": [
       "      box_office_x  box_office_y  proportion\n",
       "year                                        \n",
       "2010           750            97    0.129333\n",
       "2011           543           106    0.195212\n",
       "2012           526           123    0.233840\n",
       "2013           588           178    0.302721\n",
       "2014           745           269    0.361074\n",
       "2015           663           459    0.692308\n",
       "2016           679           512    0.754050\n",
       "2017           496           356    0.717742\n",
       "2018           879           474    0.539249\n",
       "2019           903           526    0.582503"
      ]
     },
     "metadata": {},
     "output_type": "display_data"
    },
    {
     "data": {
      "image/png": "[encoded data removed]",
      "text/plain": [
       "<Figure size 432x288 with 1 Axes>"
      ]
     },
     "metadata": {
      "needs_background": "light"
     },
     "output_type": "display_data"
    }
   ],
   "source": [
    "movie_by_year = pd.merge(left=df.pivot_table(index = \"year\",\n",
    "              values = \"box_office\",\n",
    "              aggfunc = \"count\"),\n",
    "         right=df.loc[df[\"box_office\"] > 0].pivot_table(index = \"year\",\n",
    "                                                          values = \"box_office\",\n",
    "                                                          aggfunc = \"count\"),\n",
    "         on=\"year\",\n",
    "         how = \"outer\")\n",
    "movie_by_year[\"proportion\"] = movie_by_year[\"box_office_y\"]/movie_by_year[\"box_office_x\"]\n",
    "movie_by_year.plot(y = \"proportion\", kind = \"bar\")\n",
    "plt.xticks(rotation = 'horizontal')\n",
    "display(movie_by_year)\n",
    "plt.show()"
   ]
  },
  {
   "cell_type": "markdown",
   "metadata": {},
   "source": [
    "Как видно в 2010 году в прокат вышло всего 10% фильмов, а в 2017 почти 71%"
   ]
  },
  {
   "cell_type": "markdown",
   "metadata": {
    "id": "BEOdcIrIgFyW"
   },
   "source": [
    "- Изучите, как менялась динамика проката по годам. В каком году сумма сборов была минимальной? А максимальной?"
   ]
  },
  {
   "cell_type": "markdown",
   "metadata": {},
   "source": [
    "- С помощью сводной таблицы посчитайте среднюю и медианную сумму сборов для каждого года."
   ]
  },
  {
   "cell_type": "code",
   "execution_count": 52,
   "metadata": {
    "id": "tfEhofYvgFyX"
   },
   "outputs": [
    {
     "data": {
      "text/html": [
       "<div>\n",
       "<style scoped>\n",
       "    .dataframe tbody tr th:only-of-type {\n",
       "        vertical-align: middle;\n",
       "    }\n",
       "\n",
       "    .dataframe tbody tr th {\n",
       "        vertical-align: top;\n",
       "    }\n",
       "\n",
       "    .dataframe thead tr th {\n",
       "        text-align: left;\n",
       "    }\n",
       "\n",
       "    .dataframe thead tr:last-of-type th {\n",
       "        text-align: right;\n",
       "    }\n",
       "</style>\n",
       "<table border=\"1\" class=\"dataframe\">\n",
       "  <thead>\n",
       "    <tr>\n",
       "      <th></th>\n",
       "      <th>sum</th>\n",
       "      <th>mean</th>\n",
       "      <th>median</th>\n",
       "      <th>count</th>\n",
       "    </tr>\n",
       "    <tr>\n",
       "      <th></th>\n",
       "      <th>box_office</th>\n",
       "      <th>box_office</th>\n",
       "      <th>box_office</th>\n",
       "      <th>box_office</th>\n",
       "    </tr>\n",
       "    <tr>\n",
       "      <th>year</th>\n",
       "      <th></th>\n",
       "      <th></th>\n",
       "      <th></th>\n",
       "      <th></th>\n",
       "    </tr>\n",
       "  </thead>\n",
       "  <tbody>\n",
       "    <tr>\n",
       "      <th>2010</th>\n",
       "      <td>2.426054e+06</td>\n",
       "      <td>2.402034e+04</td>\n",
       "      <td>1710.0</td>\n",
       "      <td>101</td>\n",
       "    </tr>\n",
       "    <tr>\n",
       "      <th>2011</th>\n",
       "      <td>1.404129e+07</td>\n",
       "      <td>1.324650e+05</td>\n",
       "      <td>2952.5</td>\n",
       "      <td>106</td>\n",
       "    </tr>\n",
       "    <tr>\n",
       "      <th>2012</th>\n",
       "      <td>6.955423e+06</td>\n",
       "      <td>5.433924e+04</td>\n",
       "      <td>5660.0</td>\n",
       "      <td>128</td>\n",
       "    </tr>\n",
       "    <tr>\n",
       "      <th>2013</th>\n",
       "      <td>2.979688e+07</td>\n",
       "      <td>1.628245e+05</td>\n",
       "      <td>3545.0</td>\n",
       "      <td>183</td>\n",
       "    </tr>\n",
       "    <tr>\n",
       "      <th>2014</th>\n",
       "      <td>7.444935e+09</td>\n",
       "      <td>2.707249e+07</td>\n",
       "      <td>20220.0</td>\n",
       "      <td>275</td>\n",
       "    </tr>\n",
       "    <tr>\n",
       "      <th>2015</th>\n",
       "      <td>3.949736e+10</td>\n",
       "      <td>8.549212e+07</td>\n",
       "      <td>5003449.5</td>\n",
       "      <td>462</td>\n",
       "    </tr>\n",
       "    <tr>\n",
       "      <th>2016</th>\n",
       "      <td>4.786605e+10</td>\n",
       "      <td>9.330614e+07</td>\n",
       "      <td>4475530.0</td>\n",
       "      <td>513</td>\n",
       "    </tr>\n",
       "    <tr>\n",
       "      <th>2017</th>\n",
       "      <td>4.578402e+10</td>\n",
       "      <td>1.286068e+08</td>\n",
       "      <td>9943877.5</td>\n",
       "      <td>356</td>\n",
       "    </tr>\n",
       "    <tr>\n",
       "      <th>2018</th>\n",
       "      <td>4.739665e+10</td>\n",
       "      <td>9.999293e+07</td>\n",
       "      <td>8821498.5</td>\n",
       "      <td>474</td>\n",
       "    </tr>\n",
       "    <tr>\n",
       "      <th>2019</th>\n",
       "      <td>4.277489e+10</td>\n",
       "      <td>8.132108e+07</td>\n",
       "      <td>4627798.0</td>\n",
       "      <td>526</td>\n",
       "    </tr>\n",
       "  </tbody>\n",
       "</table>\n",
       "</div>"
      ],
      "text/plain": [
       "               sum          mean     median      count\n",
       "        box_office    box_office box_office box_office\n",
       "year                                                  \n",
       "2010  2.426054e+06  2.402034e+04     1710.0        101\n",
       "2011  1.404129e+07  1.324650e+05     2952.5        106\n",
       "2012  6.955423e+06  5.433924e+04     5660.0        128\n",
       "2013  2.979688e+07  1.628245e+05     3545.0        183\n",
       "2014  7.444935e+09  2.707249e+07    20220.0        275\n",
       "2015  3.949736e+10  8.549212e+07  5003449.5        462\n",
       "2016  4.786605e+10  9.330614e+07  4475530.0        513\n",
       "2017  4.578402e+10  1.286068e+08  9943877.5        356\n",
       "2018  4.739665e+10  9.999293e+07  8821498.5        474\n",
       "2019  4.277489e+10  8.132108e+07  4627798.0        526"
      ]
     },
     "execution_count": 52,
     "metadata": {},
     "output_type": "execute_result"
    }
   ],
   "source": [
    "year_table = df.loc[df[\"box_office\"] >= 0].pivot_table(index = \"year\",\n",
    "              values = \"box_office\",\n",
    "              aggfunc = [\"sum\",\"mean\",\"median\",\"count\"])\n",
    "year_table"
   ]
  },
  {
   "cell_type": "code",
   "execution_count": 53,
   "metadata": {},
   "outputs": [
    {
     "name": "stdout",
     "output_type": "stream",
     "text": [
      "2010\n"
     ]
    },
    {
     "data": {
      "text/plain": [
       "count    1.010000e+02\n",
       "mean     2.402034e+04\n",
       "std      1.461429e+05\n",
       "min      0.000000e+00\n",
       "25%      4.000000e+02\n",
       "50%      1.710000e+03\n",
       "75%      5.830000e+03\n",
       "max      1.446400e+06\n",
       "Name: box_office, dtype: float64"
      ]
     },
     "metadata": {},
     "output_type": "display_data"
    },
    {
     "name": "stdout",
     "output_type": "stream",
     "text": [
      "2011\n"
     ]
    },
    {
     "data": {
      "text/plain": [
       "count    1.060000e+02\n",
       "mean     1.324650e+05\n",
       "std      1.130095e+06\n",
       "min      1.250000e+02\n",
       "25%      7.737500e+02\n",
       "50%      2.952500e+03\n",
       "75%      9.577500e+03\n",
       "max      1.161808e+07\n",
       "Name: box_office, dtype: float64"
      ]
     },
     "metadata": {},
     "output_type": "display_data"
    },
    {
     "name": "stdout",
     "output_type": "stream",
     "text": [
      "2012\n"
     ]
    },
    {
     "data": {
      "text/plain": [
       "count    1.280000e+02\n",
       "mean     5.433924e+04\n",
       "std      2.292848e+05\n",
       "min      0.000000e+00\n",
       "25%      7.712500e+02\n",
       "50%      5.660000e+03\n",
       "75%      2.065250e+04\n",
       "max      2.311220e+06\n",
       "Name: box_office, dtype: float64"
      ]
     },
     "metadata": {},
     "output_type": "display_data"
    },
    {
     "name": "stdout",
     "output_type": "stream",
     "text": [
      "2013\n"
     ]
    },
    {
     "data": {
      "text/plain": [
       "count    1.830000e+02\n",
       "mean     1.628245e+05\n",
       "std      1.508931e+06\n",
       "min      0.000000e+00\n",
       "25%      8.450000e+02\n",
       "50%      3.545000e+03\n",
       "75%      1.425500e+04\n",
       "max      1.995703e+07\n",
       "Name: box_office, dtype: float64"
      ]
     },
     "metadata": {},
     "output_type": "display_data"
    },
    {
     "name": "stdout",
     "output_type": "stream",
     "text": [
      "2014\n"
     ]
    },
    {
     "data": {
      "text/plain": [
       "count    2.750000e+02\n",
       "mean     2.707249e+07\n",
       "std      1.218996e+08\n",
       "min      0.000000e+00\n",
       "25%      1.757500e+03\n",
       "50%      2.022000e+04\n",
       "75%      6.196230e+05\n",
       "max      1.016411e+09\n",
       "Name: box_office, dtype: float64"
      ]
     },
     "metadata": {},
     "output_type": "display_data"
    },
    {
     "name": "stdout",
     "output_type": "stream",
     "text": [
      "2015\n"
     ]
    },
    {
     "data": {
      "text/plain": [
       "count    4.620000e+02\n",
       "mean     8.549212e+07\n",
       "std      2.207714e+08\n",
       "min      0.000000e+00\n",
       "25%      7.841458e+05\n",
       "50%      5.003450e+06\n",
       "75%      4.350035e+07\n",
       "max      1.658861e+09\n",
       "Name: box_office, dtype: float64"
      ]
     },
     "metadata": {},
     "output_type": "display_data"
    },
    {
     "name": "stdout",
     "output_type": "stream",
     "text": [
      "2016\n"
     ]
    },
    {
     "data": {
      "text/plain": [
       "count    5.130000e+02\n",
       "mean     9.330614e+07\n",
       "std      2.537872e+08\n",
       "min      0.000000e+00\n",
       "25%      7.106270e+05\n",
       "50%      4.475530e+06\n",
       "75%      4.138007e+07\n",
       "max      2.048126e+09\n",
       "Name: box_office, dtype: float64"
      ]
     },
     "metadata": {},
     "output_type": "display_data"
    },
    {
     "name": "stdout",
     "output_type": "stream",
     "text": [
      "2017\n"
     ]
    },
    {
     "data": {
      "text/plain": [
       "count    3.560000e+02\n",
       "mean     1.286068e+08\n",
       "std      2.916222e+08\n",
       "min      7.900000e+03\n",
       "25%      1.944812e+06\n",
       "50%      9.943878e+06\n",
       "75%      6.958456e+07\n",
       "max      2.118396e+09\n",
       "Name: box_office, dtype: float64"
      ]
     },
     "metadata": {},
     "output_type": "display_data"
    },
    {
     "name": "stdout",
     "output_type": "stream",
     "text": [
      "2018\n"
     ]
    },
    {
     "data": {
      "text/plain": [
       "count    4.740000e+02\n",
       "mean     9.999293e+07\n",
       "std      2.534422e+08\n",
       "min      4.122500e+04\n",
       "25%      2.367868e+06\n",
       "50%      8.821498e+06\n",
       "75%      5.938394e+07\n",
       "max      1.913258e+09\n",
       "Name: box_office, dtype: float64"
      ]
     },
     "metadata": {},
     "output_type": "display_data"
    },
    {
     "name": "stdout",
     "output_type": "stream",
     "text": [
      "2019\n"
     ]
    },
    {
     "data": {
      "text/plain": [
       "count    5.260000e+02\n",
       "mean     8.132108e+07\n",
       "std      2.375887e+08\n",
       "min      4.398000e+03\n",
       "25%      1.393775e+06\n",
       "50%      4.627798e+06\n",
       "75%      3.806189e+07\n",
       "max      1.911945e+09\n",
       "Name: box_office, dtype: float64"
      ]
     },
     "metadata": {},
     "output_type": "display_data"
    }
   ],
   "source": [
    "for year in range(2010,2020):\n",
    "    print (year)\n",
    "    display(df.loc[(df[\"box_office\"] >= 0) & (df[\"year\"] == year),  \"box_office\"].describe())"
   ]
  },
  {
   "cell_type": "code",
   "execution_count": 54,
   "metadata": {
    "id": "jmp-rgg9gFyY"
   },
   "outputs": [
    {
     "data": {
      "image/png": "[encoded data removed]",
      "text/plain": [
       "<Figure size 432x288 with 1 Axes>"
      ]
     },
     "metadata": {
      "needs_background": "light"
     },
     "output_type": "display_data"
    },
    {
     "data": {
      "image/png": "[encoded data removed]",
      "text/plain": [
       "<Figure size 432x288 with 1 Axes>"
      ]
     },
     "metadata": {
      "needs_background": "light"
     },
     "output_type": "display_data"
    },
    {
     "data": {
      "image/png": "[encoded data removed]",
      "text/plain": [
       "<Figure size 432x288 with 1 Axes>"
      ]
     },
     "metadata": {
      "needs_background": "light"
     },
     "output_type": "display_data"
    }
   ],
   "source": [
    "for column in [\"sum\",\"mean\",\"median\"]:\n",
    "    year_table[column].plot()\n",
    "    plt.show()"
   ]
  },
  {
   "cell_type": "markdown",
   "metadata": {},
   "source": [
    "По данным графикам видно, что в 2010 окупаемость была минимальной, в 2018 максимальной. Хотя в 2017 среднее и медианное значение выше, чем в 2018. Большая разница между медианым и средним значением объяснятеся наличем фильмов с \"анамально\" большими сборами. Если посмотреть на каждый год по отдельность то фильмы находяшьхся во 2 и 3 квартилях имеют одинаковый  порядок максимум отличаются  10 раз, в то время как максимальное может оличатся на неколько порядков, яркий пример 2014 год, там медианное значение отличатеся от максимального на 5 порядков."
   ]
  },
  {
   "cell_type": "markdown",
   "metadata": {
    "id": "Ok89WFwJgFyZ"
   },
   "source": [
    "- Определите, влияет ли возрастное ограничение аудитории («6+», «12+», «16+», «18+» и т. д.) на сборы фильма в прокате в период с 2015 по 2019 год? Фильмы с каким возрастным ограничением собрали больше всего денег в прокате? Меняется ли картина в зависимости от года? Если да, предположите, с чем это может быть связано."
   ]
  },
  {
   "cell_type": "code",
   "execution_count": 55,
   "metadata": {
    "id": "jsSbEqfjgFya"
   },
   "outputs": [
    {
     "data": {
      "text/html": [
       "<div>\n",
       "<style scoped>\n",
       "    .dataframe tbody tr th:only-of-type {\n",
       "        vertical-align: middle;\n",
       "    }\n",
       "\n",
       "    .dataframe tbody tr th {\n",
       "        vertical-align: top;\n",
       "    }\n",
       "\n",
       "    .dataframe thead tr th {\n",
       "        text-align: left;\n",
       "    }\n",
       "</style>\n",
       "<table border=\"1\" class=\"dataframe\">\n",
       "  <thead>\n",
       "    <tr>\n",
       "      <th></th>\n",
       "      <th>year</th>\n",
       "      <th>age_category</th>\n",
       "      <th>sum</th>\n",
       "      <th>count</th>\n",
       "    </tr>\n",
       "    <tr>\n",
       "      <th></th>\n",
       "      <th></th>\n",
       "      <th></th>\n",
       "      <th>box_office</th>\n",
       "      <th>box_office</th>\n",
       "    </tr>\n",
       "  </thead>\n",
       "  <tbody>\n",
       "    <tr>\n",
       "      <th>0</th>\n",
       "      <td>2015</td>\n",
       "      <td>0</td>\n",
       "      <td>3.790531e+08</td>\n",
       "      <td>37</td>\n",
       "    </tr>\n",
       "    <tr>\n",
       "      <th>1</th>\n",
       "      <td>2015</td>\n",
       "      <td>6</td>\n",
       "      <td>8.701799e+09</td>\n",
       "      <td>53</td>\n",
       "    </tr>\n",
       "    <tr>\n",
       "      <th>2</th>\n",
       "      <td>2015</td>\n",
       "      <td>12</td>\n",
       "      <td>1.361608e+10</td>\n",
       "      <td>73</td>\n",
       "    </tr>\n",
       "    <tr>\n",
       "      <th>3</th>\n",
       "      <td>2015</td>\n",
       "      <td>16</td>\n",
       "      <td>1.136812e+10</td>\n",
       "      <td>167</td>\n",
       "    </tr>\n",
       "    <tr>\n",
       "      <th>4</th>\n",
       "      <td>2015</td>\n",
       "      <td>18</td>\n",
       "      <td>5.432308e+09</td>\n",
       "      <td>132</td>\n",
       "    </tr>\n",
       "    <tr>\n",
       "      <th>5</th>\n",
       "      <td>2016</td>\n",
       "      <td>0</td>\n",
       "      <td>1.501833e+08</td>\n",
       "      <td>39</td>\n",
       "    </tr>\n",
       "    <tr>\n",
       "      <th>6</th>\n",
       "      <td>2016</td>\n",
       "      <td>6</td>\n",
       "      <td>1.205314e+10</td>\n",
       "      <td>66</td>\n",
       "    </tr>\n",
       "    <tr>\n",
       "      <th>7</th>\n",
       "      <td>2016</td>\n",
       "      <td>12</td>\n",
       "      <td>1.220442e+10</td>\n",
       "      <td>81</td>\n",
       "    </tr>\n",
       "    <tr>\n",
       "      <th>8</th>\n",
       "      <td>2016</td>\n",
       "      <td>16</td>\n",
       "      <td>1.666438e+10</td>\n",
       "      <td>178</td>\n",
       "    </tr>\n",
       "    <tr>\n",
       "      <th>9</th>\n",
       "      <td>2016</td>\n",
       "      <td>18</td>\n",
       "      <td>6.793925e+09</td>\n",
       "      <td>149</td>\n",
       "    </tr>\n",
       "    <tr>\n",
       "      <th>10</th>\n",
       "      <td>2017</td>\n",
       "      <td>0</td>\n",
       "      <td>2.295989e+08</td>\n",
       "      <td>3</td>\n",
       "    </tr>\n",
       "    <tr>\n",
       "      <th>11</th>\n",
       "      <td>2017</td>\n",
       "      <td>6</td>\n",
       "      <td>9.306456e+09</td>\n",
       "      <td>44</td>\n",
       "    </tr>\n",
       "    <tr>\n",
       "      <th>12</th>\n",
       "      <td>2017</td>\n",
       "      <td>12</td>\n",
       "      <td>7.851428e+09</td>\n",
       "      <td>41</td>\n",
       "    </tr>\n",
       "    <tr>\n",
       "      <th>13</th>\n",
       "      <td>2017</td>\n",
       "      <td>16</td>\n",
       "      <td>1.874504e+10</td>\n",
       "      <td>121</td>\n",
       "    </tr>\n",
       "    <tr>\n",
       "      <th>14</th>\n",
       "      <td>2017</td>\n",
       "      <td>18</td>\n",
       "      <td>9.651496e+09</td>\n",
       "      <td>147</td>\n",
       "    </tr>\n",
       "    <tr>\n",
       "      <th>15</th>\n",
       "      <td>2018</td>\n",
       "      <td>0</td>\n",
       "      <td>3.244900e+07</td>\n",
       "      <td>5</td>\n",
       "    </tr>\n",
       "    <tr>\n",
       "      <th>16</th>\n",
       "      <td>2018</td>\n",
       "      <td>6</td>\n",
       "      <td>1.010497e+10</td>\n",
       "      <td>68</td>\n",
       "    </tr>\n",
       "    <tr>\n",
       "      <th>17</th>\n",
       "      <td>2018</td>\n",
       "      <td>12</td>\n",
       "      <td>1.199554e+10</td>\n",
       "      <td>66</td>\n",
       "    </tr>\n",
       "    <tr>\n",
       "      <th>18</th>\n",
       "      <td>2018</td>\n",
       "      <td>16</td>\n",
       "      <td>1.650360e+10</td>\n",
       "      <td>156</td>\n",
       "    </tr>\n",
       "    <tr>\n",
       "      <th>19</th>\n",
       "      <td>2018</td>\n",
       "      <td>18</td>\n",
       "      <td>8.760085e+09</td>\n",
       "      <td>179</td>\n",
       "    </tr>\n",
       "    <tr>\n",
       "      <th>20</th>\n",
       "      <td>2019</td>\n",
       "      <td>0</td>\n",
       "      <td>1.774607e+07</td>\n",
       "      <td>3</td>\n",
       "    </tr>\n",
       "    <tr>\n",
       "      <th>21</th>\n",
       "      <td>2019</td>\n",
       "      <td>6</td>\n",
       "      <td>1.285255e+10</td>\n",
       "      <td>81</td>\n",
       "    </tr>\n",
       "    <tr>\n",
       "      <th>22</th>\n",
       "      <td>2019</td>\n",
       "      <td>12</td>\n",
       "      <td>9.606166e+09</td>\n",
       "      <td>83</td>\n",
       "    </tr>\n",
       "    <tr>\n",
       "      <th>23</th>\n",
       "      <td>2019</td>\n",
       "      <td>16</td>\n",
       "      <td>1.017681e+10</td>\n",
       "      <td>177</td>\n",
       "    </tr>\n",
       "    <tr>\n",
       "      <th>24</th>\n",
       "      <td>2019</td>\n",
       "      <td>18</td>\n",
       "      <td>1.012162e+10</td>\n",
       "      <td>182</td>\n",
       "    </tr>\n",
       "  </tbody>\n",
       "</table>\n",
       "</div>"
      ],
      "text/plain": [
       "    year age_category           sum      count\n",
       "                         box_office box_office\n",
       "0   2015            0  3.790531e+08         37\n",
       "1   2015            6  8.701799e+09         53\n",
       "2   2015           12  1.361608e+10         73\n",
       "3   2015           16  1.136812e+10        167\n",
       "4   2015           18  5.432308e+09        132\n",
       "5   2016            0  1.501833e+08         39\n",
       "6   2016            6  1.205314e+10         66\n",
       "7   2016           12  1.220442e+10         81\n",
       "8   2016           16  1.666438e+10        178\n",
       "9   2016           18  6.793925e+09        149\n",
       "10  2017            0  2.295989e+08          3\n",
       "11  2017            6  9.306456e+09         44\n",
       "12  2017           12  7.851428e+09         41\n",
       "13  2017           16  1.874504e+10        121\n",
       "14  2017           18  9.651496e+09        147\n",
       "15  2018            0  3.244900e+07          5\n",
       "16  2018            6  1.010497e+10         68\n",
       "17  2018           12  1.199554e+10         66\n",
       "18  2018           16  1.650360e+10        156\n",
       "19  2018           18  8.760085e+09        179\n",
       "20  2019            0  1.774607e+07          3\n",
       "21  2019            6  1.285255e+10         81\n",
       "22  2019           12  9.606166e+09         83\n",
       "23  2019           16  1.017681e+10        177\n",
       "24  2019           18  1.012162e+10        182"
      ]
     },
     "execution_count": 55,
     "metadata": {},
     "output_type": "execute_result"
    }
   ],
   "source": [
    "age_table = df.loc[(df[\"year\"]>2014) & (df[\"box_office\"] >= 0)].pivot_table(index = [\"year\",\n",
    "                                                                                     \"age_category\"],\n",
    "                                                                            values = \"box_office\",\n",
    "                                                                            aggfunc = [\"sum\",\n",
    "                                                                                       \"count\"])\n",
    "age_table = age_table.reset_index()\n",
    "age_table"
   ]
  },
  {
   "cell_type": "code",
   "execution_count": 56,
   "metadata": {},
   "outputs": [
    {
     "data": {
      "image/png": "[encoded data removed]",
      "text/plain": [
       "<Figure size 432x288 with 1 Axes>"
      ]
     },
     "metadata": {
      "needs_background": "light"
     },
     "output_type": "display_data"
    },
    {
     "data": {
      "image/png": "[encoded data removed]",
      "text/plain": [
       "<Figure size 432x288 with 1 Axes>"
      ]
     },
     "metadata": {
      "needs_background": "light"
     },
     "output_type": "display_data"
    },
    {
     "data": {
      "image/png": "[encoded data removed]",
      "text/plain": [
       "<Figure size 432x288 with 1 Axes>"
      ]
     },
     "metadata": {
      "needs_background": "light"
     },
     "output_type": "display_data"
    },
    {
     "data": {
      "image/png": "[encoded data removed]",
      "text/plain": [
       "<Figure size 432x288 with 1 Axes>"
      ]
     },
     "metadata": {
      "needs_background": "light"
     },
     "output_type": "display_data"
    },
    {
     "data": {
      "image/png": "[encoded data removed]",
      "text/plain": [
       "<Figure size 432x288 with 1 Axes>"
      ]
     },
     "metadata": {
      "needs_background": "light"
     },
     "output_type": "display_data"
    },
    {
     "data": {
      "image/png": "[encoded data removed]",
      "text/plain": [
       "<Figure size 432x288 with 1 Axes>"
      ]
     },
     "metadata": {
      "needs_background": "light"
     },
     "output_type": "display_data"
    },
    {
     "data": {
      "image/png": "[encoded data removed]",
      "text/plain": [
       "<Figure size 432x288 with 1 Axes>"
      ]
     },
     "metadata": {
      "needs_background": "light"
     },
     "output_type": "display_data"
    },
    {
     "data": {
      "image/png": "[encoded data removed]",
      "text/plain": [
       "<Figure size 432x288 with 1 Axes>"
      ]
     },
     "metadata": {
      "needs_background": "light"
     },
     "output_type": "display_data"
    },
    {
     "data": {
      "image/png": "[encoded data removed]",
      "text/plain": [
       "<Figure size 432x288 with 1 Axes>"
      ]
     },
     "metadata": {
      "needs_background": "light"
     },
     "output_type": "display_data"
    },
    {
     "data": {
      "image/png": "[encoded data removed]",
      "text/plain": [
       "<Figure size 432x288 with 1 Axes>"
      ]
     },
     "metadata": {
      "needs_background": "light"
     },
     "output_type": "display_data"
    }
   ],
   "source": [
    "for year in range(2015,2020):\n",
    "    age_table.loc[age_table[\"year\"] == year].plot(x = \"age_category\", y = \"sum\",title = f'{year} Доход', kind = \"bar\")\n",
    "    plt.show()\n",
    "    age_table.loc[age_table[\"year\"] == year].plot(x = \"age_category\", y = \"count\",title = f'{year} Количество', kind = \"bar\")"
   ]
  },
  {
   "cell_type": "markdown",
   "metadata": {},
   "source": [
    "Как видно из графиков больше всего приносят денег фильмы 16+, исключение только 2015 год там \"победили\" фильмы 12+ и 2019 там наравне были 6+, 12+ и 16+.\n",
    "Также видно, что количество фильмов в разных категориях имеют +- одинаковую структуру. Поэтому можно счиать, что данные достоверные."
   ]
  },
  {
   "cell_type": "markdown",
   "metadata": {},
   "source": [
    "#### Вывод"
   ]
  },
  {
   "cell_type": "markdown",
   "metadata": {},
   "source": [
    "Самым доходным годом для кино был 2018, а 2010 провальным. Так же самой окупаемой возрастной категорией является 16+."
   ]
  },
  {
   "cell_type": "markdown",
   "metadata": {
    "id": "l_Kg6Ku4gFya"
   },
   "source": [
    "### Шаг 4. Исследуйте фильмы, которые получили государственную поддержку\n",
    "\n",
    "На этом этапе нет конкретных инструкций и заданий — поищите интересные закономерности в данных. Посмотрите, сколько выделяют средств на поддержку кино. Проверьте, хорошо ли окупаются такие фильмы, какой у них рейтинг."
   ]
  },
  {
   "cell_type": "markdown",
   "metadata": {
    "id": "W9QKpjUdgFyb"
   },
   "source": [
    "Для простоты работы создадим DF с фильмами которым была оказана поддержка."
   ]
  },
  {
   "cell_type": "code",
   "execution_count": 57,
   "metadata": {
    "scrolled": true
   },
   "outputs": [
    {
     "data": {
      "text/html": [
       "<div>\n",
       "<style scoped>\n",
       "    .dataframe tbody tr th:only-of-type {\n",
       "        vertical-align: middle;\n",
       "    }\n",
       "\n",
       "    .dataframe tbody tr th {\n",
       "        vertical-align: top;\n",
       "    }\n",
       "\n",
       "    .dataframe thead th {\n",
       "        text-align: right;\n",
       "    }\n",
       "</style>\n",
       "<table border=\"1\" class=\"dataframe\">\n",
       "  <thead>\n",
       "    <tr style=\"text-align: right;\">\n",
       "      <th></th>\n",
       "      <th>index</th>\n",
       "      <th>title</th>\n",
       "      <th>pu_number</th>\n",
       "      <th>show_start_date</th>\n",
       "      <th>type</th>\n",
       "      <th>film_studio</th>\n",
       "      <th>production_country</th>\n",
       "      <th>director</th>\n",
       "      <th>producer</th>\n",
       "      <th>refundable_support</th>\n",
       "      <th>...</th>\n",
       "      <th>budget</th>\n",
       "      <th>financing_source</th>\n",
       "      <th>genres</th>\n",
       "      <th>box_office</th>\n",
       "      <th>age_category</th>\n",
       "      <th>ratings_new</th>\n",
       "      <th>year</th>\n",
       "      <th>main_director</th>\n",
       "      <th>main_genres</th>\n",
       "      <th>support_proportion</th>\n",
       "    </tr>\n",
       "  </thead>\n",
       "  <tbody>\n",
       "    <tr>\n",
       "      <th>0</th>\n",
       "      <td>5505</td>\n",
       "      <td>последний богатырь</td>\n",
       "      <td>111007017</td>\n",
       "      <td>2017-10-19 12:00:00+00:00</td>\n",
       "      <td>художественный</td>\n",
       "      <td>ооо \"киностудия \"слово\" по заказу ооо \"уолт ди...</td>\n",
       "      <td>россия</td>\n",
       "      <td>д.дьяченко</td>\n",
       "      <td>э.илоян, д.жалинский, м.озкан, а.троцюк, в.шляппо</td>\n",
       "      <td>50000000</td>\n",
       "      <td>...</td>\n",
       "      <td>352477575</td>\n",
       "      <td>фонд кино</td>\n",
       "      <td>комедия,фэнтези,приключения</td>\n",
       "      <td>1655037688</td>\n",
       "      <td>12</td>\n",
       "      <td>68</td>\n",
       "      <td>2017</td>\n",
       "      <td>д.дьяченко</td>\n",
       "      <td>комедия</td>\n",
       "      <td>0.283706</td>\n",
       "    </tr>\n",
       "    <tr>\n",
       "      <th>1</th>\n",
       "      <td>5708</td>\n",
       "      <td>лёд</td>\n",
       "      <td>111000518</td>\n",
       "      <td>2018-02-01 12:00:00+00:00</td>\n",
       "      <td>художественный</td>\n",
       "      <td>ооо \"водород 2011\", ооо \"арт пикчерс студия\", ...</td>\n",
       "      <td>россия</td>\n",
       "      <td>о.трофим</td>\n",
       "      <td>м.врубель, а.андрющенко, ф.бондарчук, д.рудовс...</td>\n",
       "      <td>25000000</td>\n",
       "      <td>...</td>\n",
       "      <td>148585222</td>\n",
       "      <td>фонд кино</td>\n",
       "      <td>unknown</td>\n",
       "      <td>1445731797</td>\n",
       "      <td>12</td>\n",
       "      <td>0</td>\n",
       "      <td>2018</td>\n",
       "      <td>о.трофим</td>\n",
       "      <td>unknown</td>\n",
       "      <td>0.572062</td>\n",
       "    </tr>\n",
       "    <tr>\n",
       "      <th>2</th>\n",
       "      <td>2920</td>\n",
       "      <td>экипаж .</td>\n",
       "      <td>111005416</td>\n",
       "      <td>2016-03-21 12:00:00+00:00</td>\n",
       "      <td>художественный</td>\n",
       "      <td>ооо \"студия \"тритэ\" никиты михалкова\"</td>\n",
       "      <td>россия</td>\n",
       "      <td>н.лебедев</td>\n",
       "      <td>л.верещагин, а.златопольский, н.михалков, ооо ...</td>\n",
       "      <td>50000000</td>\n",
       "      <td>...</td>\n",
       "      <td>635283867</td>\n",
       "      <td>фонд кино</td>\n",
       "      <td>драма,триллер,приключения</td>\n",
       "      <td>1402255390</td>\n",
       "      <td>6</td>\n",
       "      <td>76</td>\n",
       "      <td>2016</td>\n",
       "      <td>н.лебедев</td>\n",
       "      <td>драма</td>\n",
       "      <td>0.695916</td>\n",
       "    </tr>\n",
       "    <tr>\n",
       "      <th>3</th>\n",
       "      <td>3565</td>\n",
       "      <td>притяжение (2016)</td>\n",
       "      <td>111018116</td>\n",
       "      <td>2016-12-16 12:00:00+00:00</td>\n",
       "      <td>художественный</td>\n",
       "      <td>ооо \"водород 2011\",  ооо \"арт пикчерс студия\"</td>\n",
       "      <td>россия</td>\n",
       "      <td>ф.бондарчук</td>\n",
       "      <td>ооо \"арт пикчерс студия\"</td>\n",
       "      <td>0</td>\n",
       "      <td>...</td>\n",
       "      <td>0</td>\n",
       "      <td>фонд кино</td>\n",
       "      <td>фантастика</td>\n",
       "      <td>1038321489</td>\n",
       "      <td>12</td>\n",
       "      <td>56</td>\n",
       "      <td>2016</td>\n",
       "      <td>ф.бондарчук</td>\n",
       "      <td>фантастика</td>\n",
       "      <td>NaN</td>\n",
       "    </tr>\n",
       "    <tr>\n",
       "      <th>4</th>\n",
       "      <td>5641</td>\n",
       "      <td>ёлки новые</td>\n",
       "      <td>111011617</td>\n",
       "      <td>2017-12-21 12:00:00+00:00</td>\n",
       "      <td>художественный</td>\n",
       "      <td>ооо \"таббак\"</td>\n",
       "      <td>россия</td>\n",
       "      <td>д.киселев, а.першин (ж.крыжовников), а.карпило...</td>\n",
       "      <td>т.бекмамбетов, г.стрижевская</td>\n",
       "      <td>50000000</td>\n",
       "      <td>...</td>\n",
       "      <td>174381922</td>\n",
       "      <td>фонд кино</td>\n",
       "      <td>комедия,мелодрама</td>\n",
       "      <td>855451052</td>\n",
       "      <td>6</td>\n",
       "      <td>58</td>\n",
       "      <td>2017</td>\n",
       "      <td>д.киселев</td>\n",
       "      <td>комедия</td>\n",
       "      <td>0.573454</td>\n",
       "    </tr>\n",
       "    <tr>\n",
       "      <th>...</th>\n",
       "      <td>...</td>\n",
       "      <td>...</td>\n",
       "      <td>...</td>\n",
       "      <td>...</td>\n",
       "      <td>...</td>\n",
       "      <td>...</td>\n",
       "      <td>...</td>\n",
       "      <td>...</td>\n",
       "      <td>...</td>\n",
       "      <td>...</td>\n",
       "      <td>...</td>\n",
       "      <td>...</td>\n",
       "      <td>...</td>\n",
       "      <td>...</td>\n",
       "      <td>...</td>\n",
       "      <td>...</td>\n",
       "      <td>...</td>\n",
       "      <td>...</td>\n",
       "      <td>...</td>\n",
       "      <td>...</td>\n",
       "      <td>...</td>\n",
       "    </tr>\n",
       "    <tr>\n",
       "      <th>309</th>\n",
       "      <td>2150</td>\n",
       "      <td>реверберация</td>\n",
       "      <td>111003515</td>\n",
       "      <td>2015-03-30 12:00:00+00:00</td>\n",
       "      <td>художественный</td>\n",
       "      <td>ооо \"артлайт\"</td>\n",
       "      <td>россия</td>\n",
       "      <td>к.сухарьков</td>\n",
       "      <td>а.новиков</td>\n",
       "      <td>0</td>\n",
       "      <td>...</td>\n",
       "      <td>37371262</td>\n",
       "      <td>министерство культуры</td>\n",
       "      <td>unknown</td>\n",
       "      <td>19820</td>\n",
       "      <td>18</td>\n",
       "      <td>0</td>\n",
       "      <td>2015</td>\n",
       "      <td>к.сухарьков</td>\n",
       "      <td>unknown</td>\n",
       "      <td>0.668963</td>\n",
       "    </tr>\n",
       "    <tr>\n",
       "      <th>310</th>\n",
       "      <td>3504</td>\n",
       "      <td>день до</td>\n",
       "      <td>111010916</td>\n",
       "      <td>2016-07-06 12:00:00+00:00</td>\n",
       "      <td>художественный</td>\n",
       "      <td>ооо \"кинобюро\" по заказу ооо \"среда и ко\"</td>\n",
       "      <td>россия</td>\n",
       "      <td>а.котт, в.котт, а.карпиловский, б.хлебников</td>\n",
       "      <td>а.цекало, а.котт</td>\n",
       "      <td>25000000</td>\n",
       "      <td>...</td>\n",
       "      <td>90822766</td>\n",
       "      <td>фонд кино</td>\n",
       "      <td>драма,фантастика</td>\n",
       "      <td>9000</td>\n",
       "      <td>18</td>\n",
       "      <td>48</td>\n",
       "      <td>2016</td>\n",
       "      <td>а.котт</td>\n",
       "      <td>драма</td>\n",
       "      <td>0.550523</td>\n",
       "    </tr>\n",
       "    <tr>\n",
       "      <th>311</th>\n",
       "      <td>2803</td>\n",
       "      <td>битва с экстрасенсами</td>\n",
       "      <td>111011315</td>\n",
       "      <td>2015-07-20 12:00:00+00:00</td>\n",
       "      <td>художественный</td>\n",
       "      <td>ооо \"киноданц\", ооо \"кинобайт\"</td>\n",
       "      <td>россия</td>\n",
       "      <td>и.кордзаия</td>\n",
       "      <td>е.мелентьев</td>\n",
       "      <td>0</td>\n",
       "      <td>...</td>\n",
       "      <td>59560746</td>\n",
       "      <td>министерство культуры, фонд кино</td>\n",
       "      <td>фэнтези,приключения</td>\n",
       "      <td>6000</td>\n",
       "      <td>12</td>\n",
       "      <td>54</td>\n",
       "      <td>2015</td>\n",
       "      <td>и.кордзаия</td>\n",
       "      <td>фэнтези</td>\n",
       "      <td>0.434850</td>\n",
       "    </tr>\n",
       "    <tr>\n",
       "      <th>312</th>\n",
       "      <td>2527</td>\n",
       "      <td>вдвоем на льдине.</td>\n",
       "      <td>111011015</td>\n",
       "      <td>2015-06-25 12:00:00+00:00</td>\n",
       "      <td>художественный</td>\n",
       "      <td>ооо \"первое творческое объединение\"</td>\n",
       "      <td>россия</td>\n",
       "      <td>н.джорджадзе, в.игнатьев</td>\n",
       "      <td>п.поляков, и.букреев</td>\n",
       "      <td>0</td>\n",
       "      <td>...</td>\n",
       "      <td>37943652</td>\n",
       "      <td>министерство культуры</td>\n",
       "      <td>мелодрама</td>\n",
       "      <td>4450</td>\n",
       "      <td>12</td>\n",
       "      <td>66</td>\n",
       "      <td>2015</td>\n",
       "      <td>н.джорджадзе</td>\n",
       "      <td>мелодрама</td>\n",
       "      <td>0.698404</td>\n",
       "    </tr>\n",
       "    <tr>\n",
       "      <th>313</th>\n",
       "      <td>3149</td>\n",
       "      <td>я-учитель</td>\n",
       "      <td>111019715</td>\n",
       "      <td>2015-12-02 12:00:00+00:00</td>\n",
       "      <td>художественный</td>\n",
       "      <td>нп киностудия детских и юношеских фильмов \"иль...</td>\n",
       "      <td>россия</td>\n",
       "      <td>с.мокрицкий</td>\n",
       "      <td>а.ковтунец</td>\n",
       "      <td>0</td>\n",
       "      <td>...</td>\n",
       "      <td>91000000</td>\n",
       "      <td>министерство культуры</td>\n",
       "      <td>мелодрама,комедия</td>\n",
       "      <td>1550</td>\n",
       "      <td>12</td>\n",
       "      <td>74</td>\n",
       "      <td>2015</td>\n",
       "      <td>с.мокрицкий</td>\n",
       "      <td>мелодрама</td>\n",
       "      <td>0.384615</td>\n",
       "    </tr>\n",
       "  </tbody>\n",
       "</table>\n",
       "<p>314 rows × 21 columns</p>\n",
       "</div>"
      ],
      "text/plain": [
       "     index                  title  pu_number           show_start_date  \\\n",
       "0     5505     последний богатырь  111007017 2017-10-19 12:00:00+00:00   \n",
       "1     5708                    лёд  111000518 2018-02-01 12:00:00+00:00   \n",
       "2     2920               экипаж .  111005416 2016-03-21 12:00:00+00:00   \n",
       "3     3565      притяжение (2016)  111018116 2016-12-16 12:00:00+00:00   \n",
       "4     5641             ёлки новые  111011617 2017-12-21 12:00:00+00:00   \n",
       "..     ...                    ...        ...                       ...   \n",
       "309   2150           реверберация  111003515 2015-03-30 12:00:00+00:00   \n",
       "310   3504                день до  111010916 2016-07-06 12:00:00+00:00   \n",
       "311   2803  битва с экстрасенсами  111011315 2015-07-20 12:00:00+00:00   \n",
       "312   2527      вдвоем на льдине.  111011015 2015-06-25 12:00:00+00:00   \n",
       "313   3149              я-учитель  111019715 2015-12-02 12:00:00+00:00   \n",
       "\n",
       "               type                                        film_studio  \\\n",
       "0    художественный  ооо \"киностудия \"слово\" по заказу ооо \"уолт ди...   \n",
       "1    художественный  ооо \"водород 2011\", ооо \"арт пикчерс студия\", ...   \n",
       "2    художественный              ооо \"студия \"тритэ\" никиты михалкова\"   \n",
       "3    художественный      ооо \"водород 2011\",  ооо \"арт пикчерс студия\"   \n",
       "4    художественный                                       ооо \"таббак\"   \n",
       "..              ...                                                ...   \n",
       "309  художественный                                      ооо \"артлайт\"   \n",
       "310  художественный          ооо \"кинобюро\" по заказу ооо \"среда и ко\"   \n",
       "311  художественный                     ооо \"киноданц\", ооо \"кинобайт\"   \n",
       "312  художественный                ооо \"первое творческое объединение\"   \n",
       "313  художественный  нп киностудия детских и юношеских фильмов \"иль...   \n",
       "\n",
       "    production_country                                           director  \\\n",
       "0               россия                                         д.дьяченко   \n",
       "1               россия                                           о.трофим   \n",
       "2               россия                                          н.лебедев   \n",
       "3               россия                                        ф.бондарчук   \n",
       "4               россия  д.киселев, а.першин (ж.крыжовников), а.карпило...   \n",
       "..                 ...                                                ...   \n",
       "309             россия                                        к.сухарьков   \n",
       "310             россия        а.котт, в.котт, а.карпиловский, б.хлебников   \n",
       "311             россия                                         и.кордзаия   \n",
       "312             россия                           н.джорджадзе, в.игнатьев   \n",
       "313             россия                                        с.мокрицкий   \n",
       "\n",
       "                                              producer  refundable_support  \\\n",
       "0    э.илоян, д.жалинский, м.озкан, а.троцюк, в.шляппо            50000000   \n",
       "1    м.врубель, а.андрющенко, ф.бондарчук, д.рудовс...            25000000   \n",
       "2    л.верещагин, а.златопольский, н.михалков, ооо ...            50000000   \n",
       "3                             ооо \"арт пикчерс студия\"                   0   \n",
       "4                         т.бекмамбетов, г.стрижевская            50000000   \n",
       "..                                                 ...                 ...   \n",
       "309                                          а.новиков                   0   \n",
       "310                                   а.цекало, а.котт            25000000   \n",
       "311                                        е.мелентьев                   0   \n",
       "312                               п.поляков, и.букреев                   0   \n",
       "313                                         а.ковтунец                   0   \n",
       "\n",
       "     ...     budget                  financing_source  \\\n",
       "0    ...  352477575                         фонд кино   \n",
       "1    ...  148585222                         фонд кино   \n",
       "2    ...  635283867                         фонд кино   \n",
       "3    ...          0                         фонд кино   \n",
       "4    ...  174381922                         фонд кино   \n",
       "..   ...        ...                               ...   \n",
       "309  ...   37371262             министерство культуры   \n",
       "310  ...   90822766                         фонд кино   \n",
       "311  ...   59560746  министерство культуры, фонд кино   \n",
       "312  ...   37943652             министерство культуры   \n",
       "313  ...   91000000             министерство культуры   \n",
       "\n",
       "                          genres  box_office  age_category  ratings_new  year  \\\n",
       "0    комедия,фэнтези,приключения  1655037688            12           68  2017   \n",
       "1                        unknown  1445731797            12            0  2018   \n",
       "2      драма,триллер,приключения  1402255390             6           76  2016   \n",
       "3                     фантастика  1038321489            12           56  2016   \n",
       "4              комедия,мелодрама   855451052             6           58  2017   \n",
       "..                           ...         ...           ...          ...   ...   \n",
       "309                      unknown       19820            18            0  2015   \n",
       "310             драма,фантастика        9000            18           48  2016   \n",
       "311          фэнтези,приключения        6000            12           54  2015   \n",
       "312                    мелодрама        4450            12           66  2015   \n",
       "313            мелодрама,комедия        1550            12           74  2015   \n",
       "\n",
       "     main_director main_genres support_proportion  \n",
       "0       д.дьяченко     комедия           0.283706  \n",
       "1         о.трофим     unknown           0.572062  \n",
       "2        н.лебедев       драма           0.695916  \n",
       "3      ф.бондарчук  фантастика                NaN  \n",
       "4        д.киселев     комедия           0.573454  \n",
       "..             ...         ...                ...  \n",
       "309    к.сухарьков     unknown           0.668963  \n",
       "310         а.котт       драма           0.550523  \n",
       "311     и.кордзаия     фэнтези           0.434850  \n",
       "312   н.джорджадзе   мелодрама           0.698404  \n",
       "313    с.мокрицкий   мелодрама           0.384615  \n",
       "\n",
       "[314 rows x 21 columns]"
      ]
     },
     "execution_count": 57,
     "metadata": {},
     "output_type": "execute_result"
    }
   ],
   "source": [
    "df_support = df.loc[(df[\"financing_source\"] != \"nonsupport\") & (df[\"budget\"] >= 0) & (df[\"box_office\"] >= 0)].reset_index()\n",
    "df_support"
   ]
  },
  {
   "cell_type": "markdown",
   "metadata": {},
   "source": [
    "Посмотрим какой процент фильмов окупился."
   ]
  },
  {
   "cell_type": "code",
   "execution_count": 58,
   "metadata": {},
   "outputs": [],
   "source": [
    "df_support[\"paid_off\"] = (df_support[\"box_office\"] - \n",
    "                         df_support[\"budget\"]) >= 0"
   ]
  },
  {
   "cell_type": "code",
   "execution_count": 59,
   "metadata": {},
   "outputs": [
    {
     "data": {
      "text/plain": [
       "0.25477707006369427"
      ]
     },
     "execution_count": 59,
     "metadata": {},
     "output_type": "execute_result"
    }
   ],
   "source": [
    "df_support[\"paid_off\"].mean()"
   ]
  },
  {
   "cell_type": "markdown",
   "metadata": {},
   "source": [
    "Только 26% фильмов окупились."
   ]
  },
  {
   "cell_type": "markdown",
   "metadata": {},
   "source": [
    "Посмотрим как зависит окупаемость от возрастного ограничения, жанра и года."
   ]
  },
  {
   "cell_type": "code",
   "execution_count": 60,
   "metadata": {},
   "outputs": [
    {
     "data": {
      "text/plain": [
       "<AxesSubplot:xlabel='age_category'>"
      ]
     },
     "execution_count": 60,
     "metadata": {},
     "output_type": "execute_result"
    },
    {
     "data": {
      "image/png": "[encoded data removed]",
      "text/plain": [
       "<Figure size 576x576 with 1 Axes>"
      ]
     },
     "metadata": {
      "needs_background": "light"
     },
     "output_type": "display_data"
    }
   ],
   "source": [
    "df_support.pivot_table(index = \"age_category\",\n",
    "                       values = \"paid_off\",\n",
    "                       aggfunc = \"mean\").plot(y = \"paid_off\", \n",
    "                                              kind = \"bar\", \n",
    "                                              legend = False,\n",
    "                                              figsize = (8,8),\n",
    "                                              ylabel = \"\")"
   ]
  },
  {
   "cell_type": "code",
   "execution_count": 61,
   "metadata": {},
   "outputs": [
    {
     "data": {
      "text/plain": [
       "<AxesSubplot:ylabel='main_genres'>"
      ]
     },
     "execution_count": 61,
     "metadata": {},
     "output_type": "execute_result"
    },
    {
     "data": {
      "image/png": "[encoded data removed]",
      "text/plain": [
       "<Figure size 576x576 with 1 Axes>"
      ]
     },
     "metadata": {
      "needs_background": "light"
     },
     "output_type": "display_data"
    }
   ],
   "source": [
    "df_support.pivot_table(index = \"main_genres\",\n",
    "                       values = \"paid_off\",\n",
    "                       aggfunc = \"mean\").plot(y = \"paid_off\", \n",
    "                                              kind = \"barh\", \n",
    "                                              legend = False,\n",
    "                                              figsize = (8,8),\n",
    "                                              ylabel = \"\")"
   ]
  },
  {
   "cell_type": "code",
   "execution_count": 62,
   "metadata": {},
   "outputs": [
    {
     "data": {
      "text/plain": [
       "<AxesSubplot:xlabel='year'>"
      ]
     },
     "execution_count": 62,
     "metadata": {},
     "output_type": "execute_result"
    },
    {
     "data": {
      "image/png": "[encoded data removed]",
      "text/plain": [
       "<Figure size 576x576 with 1 Axes>"
      ]
     },
     "metadata": {
      "needs_background": "light"
     },
     "output_type": "display_data"
    }
   ],
   "source": [
    "df_support.pivot_table(index = \"year\",\n",
    "                       values = \"paid_off\",\n",
    "                       aggfunc = \"mean\").plot(y = \"paid_off\", \n",
    "                                              kind = \"bar\", \n",
    "                                              legend = False,\n",
    "                                              figsize = (8,8),\n",
    "                                              ylabel = \"\")"
   ]
  },
  {
   "cell_type": "code",
   "execution_count": 63,
   "metadata": {},
   "outputs": [
    {
     "data": {
      "text/html": [
       "<div>\n",
       "<style scoped>\n",
       "    .dataframe tbody tr th:only-of-type {\n",
       "        vertical-align: middle;\n",
       "    }\n",
       "\n",
       "    .dataframe tbody tr th {\n",
       "        vertical-align: top;\n",
       "    }\n",
       "\n",
       "    .dataframe thead th {\n",
       "        text-align: right;\n",
       "    }\n",
       "</style>\n",
       "<table border=\"1\" class=\"dataframe\">\n",
       "  <thead>\n",
       "    <tr style=\"text-align: right;\">\n",
       "      <th></th>\n",
       "      <th>ratings_new</th>\n",
       "      <th>paid_off</th>\n",
       "      <th>box_office_x</th>\n",
       "      <th>box_office_y</th>\n",
       "    </tr>\n",
       "    <tr>\n",
       "      <th>main_genres</th>\n",
       "      <th></th>\n",
       "      <th></th>\n",
       "      <th></th>\n",
       "      <th></th>\n",
       "    </tr>\n",
       "  </thead>\n",
       "  <tbody>\n",
       "    <tr>\n",
       "      <th>криминал</th>\n",
       "      <td>75.000000</td>\n",
       "      <td>0.000000</td>\n",
       "      <td>2.397939e+08</td>\n",
       "      <td>3.0</td>\n",
       "    </tr>\n",
       "    <tr>\n",
       "      <th>детский</th>\n",
       "      <td>71.000000</td>\n",
       "      <td>0.000000</td>\n",
       "      <td>3.013652e+06</td>\n",
       "      <td>3.0</td>\n",
       "    </tr>\n",
       "    <tr>\n",
       "      <th>биография</th>\n",
       "      <td>69.000000</td>\n",
       "      <td>0.333333</td>\n",
       "      <td>5.168830e+08</td>\n",
       "      <td>3.0</td>\n",
       "    </tr>\n",
       "    <tr>\n",
       "      <th>детектив</th>\n",
       "      <td>67.600000</td>\n",
       "      <td>0.000000</td>\n",
       "      <td>1.385475e+08</td>\n",
       "      <td>5.0</td>\n",
       "    </tr>\n",
       "    <tr>\n",
       "      <th>спорт</th>\n",
       "      <td>66.500000</td>\n",
       "      <td>0.500000</td>\n",
       "      <td>1.880822e+08</td>\n",
       "      <td>2.0</td>\n",
       "    </tr>\n",
       "    <tr>\n",
       "      <th>боевик</th>\n",
       "      <td>65.833333</td>\n",
       "      <td>0.333333</td>\n",
       "      <td>5.959289e+08</td>\n",
       "      <td>6.0</td>\n",
       "    </tr>\n",
       "    <tr>\n",
       "      <th>мюзикл</th>\n",
       "      <td>65.500000</td>\n",
       "      <td>0.000000</td>\n",
       "      <td>1.017050e+08</td>\n",
       "      <td>4.0</td>\n",
       "    </tr>\n",
       "    <tr>\n",
       "      <th>драма</th>\n",
       "      <td>64.686047</td>\n",
       "      <td>0.151163</td>\n",
       "      <td>7.219090e+09</td>\n",
       "      <td>86.0</td>\n",
       "    </tr>\n",
       "    <tr>\n",
       "      <th>военный</th>\n",
       "      <td>64.666667</td>\n",
       "      <td>0.333333</td>\n",
       "      <td>1.017670e+09</td>\n",
       "      <td>9.0</td>\n",
       "    </tr>\n",
       "    <tr>\n",
       "      <th>фантастика</th>\n",
       "      <td>61.900000</td>\n",
       "      <td>0.200000</td>\n",
       "      <td>1.718204e+09</td>\n",
       "      <td>10.0</td>\n",
       "    </tr>\n",
       "    <tr>\n",
       "      <th>фэнтези</th>\n",
       "      <td>60.909091</td>\n",
       "      <td>0.090909</td>\n",
       "      <td>9.958366e+08</td>\n",
       "      <td>11.0</td>\n",
       "    </tr>\n",
       "    <tr>\n",
       "      <th>мелодрама</th>\n",
       "      <td>60.071429</td>\n",
       "      <td>0.071429</td>\n",
       "      <td>5.478896e+07</td>\n",
       "      <td>14.0</td>\n",
       "    </tr>\n",
       "    <tr>\n",
       "      <th>мультфильм</th>\n",
       "      <td>57.600000</td>\n",
       "      <td>0.433333</td>\n",
       "      <td>5.622014e+09</td>\n",
       "      <td>30.0</td>\n",
       "    </tr>\n",
       "    <tr>\n",
       "      <th>приключения</th>\n",
       "      <td>57.400000</td>\n",
       "      <td>0.200000</td>\n",
       "      <td>8.719999e+08</td>\n",
       "      <td>5.0</td>\n",
       "    </tr>\n",
       "    <tr>\n",
       "      <th>триллер</th>\n",
       "      <td>57.066667</td>\n",
       "      <td>0.133333</td>\n",
       "      <td>7.004502e+08</td>\n",
       "      <td>15.0</td>\n",
       "    </tr>\n",
       "    <tr>\n",
       "      <th>реальное тв</th>\n",
       "      <td>56.000000</td>\n",
       "      <td>0.000000</td>\n",
       "      <td>3.272110e+07</td>\n",
       "      <td>1.0</td>\n",
       "    </tr>\n",
       "    <tr>\n",
       "      <th>комедия</th>\n",
       "      <td>55.111111</td>\n",
       "      <td>0.430556</td>\n",
       "      <td>9.406409e+09</td>\n",
       "      <td>72.0</td>\n",
       "    </tr>\n",
       "    <tr>\n",
       "      <th>история</th>\n",
       "      <td>53.500000</td>\n",
       "      <td>0.250000</td>\n",
       "      <td>1.455468e+09</td>\n",
       "      <td>4.0</td>\n",
       "    </tr>\n",
       "    <tr>\n",
       "      <th>ужасы</th>\n",
       "      <td>52.000000</td>\n",
       "      <td>0.300000</td>\n",
       "      <td>7.101232e+08</td>\n",
       "      <td>10.0</td>\n",
       "    </tr>\n",
       "    <tr>\n",
       "      <th>семейный</th>\n",
       "      <td>49.833333</td>\n",
       "      <td>0.500000</td>\n",
       "      <td>5.844247e+08</td>\n",
       "      <td>6.0</td>\n",
       "    </tr>\n",
       "    <tr>\n",
       "      <th>unknown</th>\n",
       "      <td>NaN</td>\n",
       "      <td>0.133333</td>\n",
       "      <td>NaN</td>\n",
       "      <td>NaN</td>\n",
       "    </tr>\n",
       "  </tbody>\n",
       "</table>\n",
       "</div>"
      ],
      "text/plain": [
       "             ratings_new  paid_off  box_office_x  box_office_y\n",
       "main_genres                                                   \n",
       "криминал       75.000000  0.000000  2.397939e+08           3.0\n",
       "детский        71.000000  0.000000  3.013652e+06           3.0\n",
       "биография      69.000000  0.333333  5.168830e+08           3.0\n",
       "детектив       67.600000  0.000000  1.385475e+08           5.0\n",
       "спорт          66.500000  0.500000  1.880822e+08           2.0\n",
       "боевик         65.833333  0.333333  5.959289e+08           6.0\n",
       "мюзикл         65.500000  0.000000  1.017050e+08           4.0\n",
       "драма          64.686047  0.151163  7.219090e+09          86.0\n",
       "военный        64.666667  0.333333  1.017670e+09           9.0\n",
       "фантастика     61.900000  0.200000  1.718204e+09          10.0\n",
       "фэнтези        60.909091  0.090909  9.958366e+08          11.0\n",
       "мелодрама      60.071429  0.071429  5.478896e+07          14.0\n",
       "мультфильм     57.600000  0.433333  5.622014e+09          30.0\n",
       "приключения    57.400000  0.200000  8.719999e+08           5.0\n",
       "триллер        57.066667  0.133333  7.004502e+08          15.0\n",
       "реальное тв    56.000000  0.000000  3.272110e+07           1.0\n",
       "комедия        55.111111  0.430556  9.406409e+09          72.0\n",
       "история        53.500000  0.250000  1.455468e+09           4.0\n",
       "ужасы          52.000000  0.300000  7.101232e+08          10.0\n",
       "семейный       49.833333  0.500000  5.844247e+08           6.0\n",
       "unknown              NaN  0.133333           NaN           NaN"
      ]
     },
     "metadata": {},
     "output_type": "display_data"
    },
    {
     "data": {
      "image/png": "[encoded data removed]",
      "text/plain": [
       "<Figure size 432x288 with 1 Axes>"
      ]
     },
     "metadata": {
      "needs_background": "light"
     },
     "output_type": "display_data"
    },
    {
     "data": {
      "image/png": "[encoded data removed]",
      "text/plain": [
       "<Figure size 432x288 with 1 Axes>"
      ]
     },
     "metadata": {
      "needs_background": "light"
     },
     "output_type": "display_data"
    },
    {
     "data": {
      "image/png": "[encoded data removed]",
      "text/plain": [
       "<Figure size 432x288 with 1 Axes>"
      ]
     },
     "metadata": {
      "needs_background": "light"
     },
     "output_type": "display_data"
    }
   ],
   "source": [
    "rating_of_genres = pd.merge(left=df_support.loc[df_support[\"ratings_new\"] > 0].pivot_table(index = \"main_genres\",\n",
    "                                                                            values = \"ratings_new\",\n",
    "                                                                            aggfunc = \"mean\").sort_values(by = \"ratings_new\",ascending=False),\n",
    "                            right=df_support.pivot_table(index = \"main_genres\",\n",
    "                                                         values = \"paid_off\",\n",
    "                                                         aggfunc = \"mean\"),\n",
    "                            on=\"main_genres\",\n",
    "                            how = \"outer\")\n",
    "rating_of_genres = pd.merge(left = rating_of_genres,\n",
    "                           right = df_support.loc[df_support[\"ratings_new\"] > 0].pivot_table(index = \"main_genres\",\n",
    "                                                                                            values = \"box_office\",\n",
    "                                                                                            aggfunc = \"sum\"),\n",
    "                           on = \"main_genres\",\n",
    "                           how = \"outer\")\n",
    "rating_of_genres = pd.merge(left = rating_of_genres,\n",
    "                           right = df_support.loc[df_support[\"ratings_new\"] > 0].pivot_table(index = \"main_genres\",\n",
    "                                                                                            values = \"box_office\",\n",
    "                                                                                            aggfunc = \"count\"),\n",
    "                           on = \"main_genres\",\n",
    "                           how = \"outer\")\n",
    "display(rating_of_genres)\n",
    "rating_of_genres.plot(y = \"box_office_x\", kind = \"barh\")\n",
    "plt.title('Сборы')\n",
    "plt.ylabel('Жанры')\n",
    "plt.show()\n",
    "\n",
    "rating_of_genres.plot(y = \"box_office_y\", kind = \"barh\")\n",
    "plt.title('Количество')\n",
    "plt.ylabel('Жанры')\n",
    "plt.show()\n",
    "\n",
    "rating_of_genres.plot(y = \"ratings_new\", kind = \"barh\")\n",
    "plt.title('Рейтинг')\n",
    "plt.ylabel('Жанры')\n",
    "plt.show()"
   ]
  },
  {
   "cell_type": "markdown",
   "metadata": {},
   "source": [
    "#### Вывод"
   ]
  },
  {
   "cell_type": "markdown",
   "metadata": {},
   "source": [
    "Почти 3/4 спонсируемых фильмов государством не окупаются. Самый окупаемый жанр это \"Спорт\", возростное ограничение \"6+\" и год 2017. Так же жанры \"Криминал\",  \"Детский\" и \"Детиктив\" с хорошими рейтингами, но количестов фильмов очень мало. Сборы примерно соотносятся с количеством фильмов, чем больше фильмов тем больше сборов."
   ]
  },
  {
   "cell_type": "markdown",
   "metadata": {
    "id": "V2gYwMcPgFyd"
   },
   "source": [
    "### Шаг 5. Напишите общий вывод"
   ]
  },
  {
   "cell_type": "markdown",
   "metadata": {
    "id": "AYRg3dzXgFye"
   },
   "source": [
    "Самым успешным возрастным ограничением можно считать 16+ поскольку данные фильмы приносят больше всего дохода. 2010 год был провальным для кинематографа, в нем было зафиксировано меньше всего прибыли. Российское кино в своем большинстве не окупается, только 26% приносят доход. Самым окупаемым жанром для нашей страны стал жанр \"Спорт\". \n",
    "\n",
    "Рекомендации: \n",
    "- Чательнее выбирать студии для вложения средств.\n",
    "- По мимо жанра Спорт не плохо окупаются жанры Комедии и Мультфильмов\n",
    "- Лучше вложить деньги в оборудование, создание уловий для развития киниматографа, а не просто спонсирования конкретных фильмов."
   ]
  }
 ],
 "metadata": {
  "ExecuteTimeLog": [
   {
    "duration": 537,
    "start_time": "2021-07-07T10:12:08.634Z"
   },
   {
    "duration": 206,
    "start_time": "2021-07-07T10:12:30.191Z"
   },
   {
    "duration": 227,
    "start_time": "2021-07-07T10:12:33.078Z"
   },
   {
    "duration": 153,
    "start_time": "2021-07-07T10:13:42.146Z"
   },
   {
    "duration": 233,
    "start_time": "2021-07-07T10:30:09.252Z"
   },
   {
    "duration": 19,
    "start_time": "2021-07-07T10:30:15.577Z"
   },
   {
    "duration": 18,
    "start_time": "2021-07-07T10:30:57.348Z"
   },
   {
    "duration": 19,
    "start_time": "2021-07-07T10:31:17.452Z"
   },
   {
    "duration": 21,
    "start_time": "2021-07-07T10:31:32.227Z"
   },
   {
    "duration": 27,
    "start_time": "2021-07-07T10:32:06.588Z"
   },
   {
    "duration": 23,
    "start_time": "2021-07-07T10:32:43.645Z"
   },
   {
    "duration": 24,
    "start_time": "2021-07-07T10:33:06.948Z"
   },
   {
    "duration": 7,
    "start_time": "2021-07-07T10:33:28.558Z"
   },
   {
    "duration": 23,
    "start_time": "2021-07-07T10:33:43.761Z"
   },
   {
    "duration": 28,
    "start_time": "2021-07-07T10:34:13.466Z"
   },
   {
    "duration": 23,
    "start_time": "2021-07-07T10:35:56.187Z"
   },
   {
    "duration": 6,
    "start_time": "2021-07-07T10:36:48.182Z"
   },
   {
    "duration": 14,
    "start_time": "2021-07-07T10:37:49.641Z"
   },
   {
    "duration": 6,
    "start_time": "2021-07-07T10:38:06.694Z"
   },
   {
    "duration": 6,
    "start_time": "2021-07-07T10:38:13.493Z"
   },
   {
    "duration": 19,
    "start_time": "2021-07-07T10:38:44.056Z"
   },
   {
    "duration": 186,
    "start_time": "2021-07-07T10:48:35.618Z"
   },
   {
    "duration": 24,
    "start_time": "2021-07-07T10:48:51.498Z"
   },
   {
    "duration": 20,
    "start_time": "2021-07-07T10:48:59.415Z"
   },
   {
    "duration": 20,
    "start_time": "2021-07-07T10:53:02.195Z"
   },
   {
    "duration": 188,
    "start_time": "2021-07-07T10:54:40.486Z"
   },
   {
    "duration": 115,
    "start_time": "2021-07-07T10:54:52.552Z"
   },
   {
    "duration": 214,
    "start_time": "2021-07-07T10:54:56.354Z"
   },
   {
    "duration": 47,
    "start_time": "2021-07-07T10:54:58.282Z"
   },
   {
    "duration": 217,
    "start_time": "2021-07-07T10:59:16.075Z"
   },
   {
    "duration": 51,
    "start_time": "2021-07-07T10:59:16.243Z"
   },
   {
    "duration": 578,
    "start_time": "2021-07-07T10:59:18.774Z"
   },
   {
    "duration": 161,
    "start_time": "2021-07-07T10:59:21.238Z"
   },
   {
    "duration": 59,
    "start_time": "2021-07-07T10:59:21.453Z"
   },
   {
    "duration": 3,
    "start_time": "2021-07-07T11:02:10.786Z"
   },
   {
    "duration": 13,
    "start_time": "2021-07-07T11:07:07.722Z"
   },
   {
    "duration": 26,
    "start_time": "2021-07-07T11:07:17.958Z"
   },
   {
    "duration": 22,
    "start_time": "2021-07-07T11:08:17.939Z"
   },
   {
    "duration": 212,
    "start_time": "2021-07-07T11:08:19.665Z"
   },
   {
    "duration": 21,
    "start_time": "2021-07-07T11:08:29.945Z"
   },
   {
    "duration": 31,
    "start_time": "2021-07-07T11:08:38.899Z"
   },
   {
    "duration": 23,
    "start_time": "2021-07-07T11:08:54.527Z"
   },
   {
    "duration": 8,
    "start_time": "2021-07-07T11:18:55.974Z"
   },
   {
    "duration": 7,
    "start_time": "2021-07-07T11:19:03.639Z"
   },
   {
    "duration": 7,
    "start_time": "2021-07-07T11:19:06.444Z"
   },
   {
    "duration": 578,
    "start_time": "2021-07-07T12:09:59.576Z"
   },
   {
    "duration": 195,
    "start_time": "2021-07-07T12:10:00.156Z"
   },
   {
    "duration": 115,
    "start_time": "2021-07-07T12:10:00.353Z"
   },
   {
    "duration": 3,
    "start_time": "2021-07-07T12:10:00.470Z"
   },
   {
    "duration": 32,
    "start_time": "2021-07-07T12:10:00.474Z"
   },
   {
    "duration": 23,
    "start_time": "2021-07-07T12:10:00.508Z"
   },
   {
    "duration": 19,
    "start_time": "2021-07-07T12:10:00.533Z"
   },
   {
    "duration": 44,
    "start_time": "2021-07-07T12:10:00.553Z"
   },
   {
    "duration": 7,
    "start_time": "2021-07-07T12:10:00.600Z"
   },
   {
    "duration": 7,
    "start_time": "2021-07-07T12:19:45.761Z"
   },
   {
    "duration": 21,
    "start_time": "2021-07-07T12:21:35.482Z"
   },
   {
    "duration": 21,
    "start_time": "2021-07-07T12:29:23.569Z"
   },
   {
    "duration": 525,
    "start_time": "2021-07-07T12:29:44.542Z"
   },
   {
    "duration": 214,
    "start_time": "2021-07-07T12:29:45.069Z"
   },
   {
    "duration": 92,
    "start_time": "2021-07-07T12:29:45.285Z"
   },
   {
    "duration": 3,
    "start_time": "2021-07-07T12:29:45.379Z"
   },
   {
    "duration": 28,
    "start_time": "2021-07-07T12:29:45.384Z"
   },
   {
    "duration": 23,
    "start_time": "2021-07-07T12:29:45.413Z"
   },
   {
    "duration": 21,
    "start_time": "2021-07-07T12:29:45.437Z"
   },
   {
    "duration": 41,
    "start_time": "2021-07-07T12:29:45.460Z"
   },
   {
    "duration": 7,
    "start_time": "2021-07-07T12:29:45.502Z"
   },
   {
    "duration": 20,
    "start_time": "2021-07-07T12:29:45.511Z"
   },
   {
    "duration": 12,
    "start_time": "2021-07-07T12:34:02.800Z"
   },
   {
    "duration": 7,
    "start_time": "2021-07-07T12:35:10.479Z"
   },
   {
    "duration": 8,
    "start_time": "2021-07-07T12:35:22.440Z"
   },
   {
    "duration": 6,
    "start_time": "2021-07-07T12:35:35.649Z"
   },
   {
    "duration": 6,
    "start_time": "2021-07-07T12:35:43.107Z"
   },
   {
    "duration": 22,
    "start_time": "2021-07-07T12:38:03.029Z"
   },
   {
    "duration": 10,
    "start_time": "2021-07-07T12:38:06.592Z"
   },
   {
    "duration": 563,
    "start_time": "2021-07-07T12:38:46.493Z"
   },
   {
    "duration": 265,
    "start_time": "2021-07-07T12:38:47.058Z"
   },
   {
    "duration": 94,
    "start_time": "2021-07-07T12:38:47.325Z"
   },
   {
    "duration": 3,
    "start_time": "2021-07-07T12:38:47.422Z"
   },
   {
    "duration": 30,
    "start_time": "2021-07-07T12:38:47.427Z"
   },
   {
    "duration": 16,
    "start_time": "2021-07-07T12:38:53.305Z"
   },
   {
    "duration": 10,
    "start_time": "2021-07-07T12:38:53.499Z"
   },
   {
    "duration": 8,
    "start_time": "2021-07-07T12:39:48.161Z"
   },
   {
    "duration": 27,
    "start_time": "2021-07-07T12:41:17.629Z"
   },
   {
    "duration": 17,
    "start_time": "2021-07-07T12:41:17.867Z"
   },
   {
    "duration": 21,
    "start_time": "2021-07-07T12:41:19.310Z"
   },
   {
    "duration": 7,
    "start_time": "2021-07-07T12:41:19.544Z"
   },
   {
    "duration": 20,
    "start_time": "2021-07-07T12:41:20.504Z"
   },
   {
    "duration": 554,
    "start_time": "2021-07-07T12:56:23.696Z"
   },
   {
    "duration": 200,
    "start_time": "2021-07-07T12:56:25.234Z"
   },
   {
    "duration": 119,
    "start_time": "2021-07-07T12:56:25.480Z"
   },
   {
    "duration": 4,
    "start_time": "2021-07-07T12:56:25.762Z"
   },
   {
    "duration": 26,
    "start_time": "2021-07-07T12:56:27.172Z"
   },
   {
    "duration": 12,
    "start_time": "2021-07-07T12:56:29.051Z"
   },
   {
    "duration": 10,
    "start_time": "2021-07-07T12:56:29.291Z"
   },
   {
    "duration": 8,
    "start_time": "2021-07-07T12:56:29.623Z"
   },
   {
    "duration": 28,
    "start_time": "2021-07-07T12:56:32.137Z"
   },
   {
    "duration": 19,
    "start_time": "2021-07-07T12:56:39.785Z"
   },
   {
    "duration": 20,
    "start_time": "2021-07-07T12:56:44.297Z"
   },
   {
    "duration": 7,
    "start_time": "2021-07-07T12:56:45.392Z"
   },
   {
    "duration": 23,
    "start_time": "2021-07-07T12:56:46.615Z"
   },
   {
    "duration": 4,
    "start_time": "2021-07-07T12:57:06.625Z"
   },
   {
    "duration": 32,
    "start_time": "2021-07-07T12:57:36.690Z"
   },
   {
    "duration": 18,
    "start_time": "2021-07-07T12:58:00.149Z"
   },
   {
    "duration": 15,
    "start_time": "2021-07-07T12:59:16.793Z"
   },
   {
    "duration": 7,
    "start_time": "2021-07-07T13:19:22.624Z"
   },
   {
    "duration": 6,
    "start_time": "2021-07-07T14:17:33.527Z"
   },
   {
    "duration": 9,
    "start_time": "2021-07-07T14:17:48.409Z"
   },
   {
    "duration": 8,
    "start_time": "2021-07-07T14:20:13.060Z"
   },
   {
    "duration": 8,
    "start_time": "2021-07-07T14:20:37.957Z"
   },
   {
    "duration": 8,
    "start_time": "2021-07-07T14:20:47.470Z"
   },
   {
    "duration": 9,
    "start_time": "2021-07-07T14:20:54.503Z"
   },
   {
    "duration": 10,
    "start_time": "2021-07-07T14:28:57.763Z"
   },
   {
    "duration": 3,
    "start_time": "2021-07-07T14:30:23.377Z"
   },
   {
    "duration": 3,
    "start_time": "2021-07-07T14:30:36.489Z"
   },
   {
    "duration": 103,
    "start_time": "2021-07-07T14:30:52.351Z"
   },
   {
    "duration": 8,
    "start_time": "2021-07-07T14:30:54.763Z"
   },
   {
    "duration": 8,
    "start_time": "2021-07-07T14:31:29.301Z"
   },
   {
    "duration": 13,
    "start_time": "2021-07-07T14:31:44.516Z"
   },
   {
    "duration": 7,
    "start_time": "2021-07-07T14:33:10.972Z"
   },
   {
    "duration": 11,
    "start_time": "2021-07-07T14:33:27.780Z"
   },
   {
    "duration": 8,
    "start_time": "2021-07-07T14:34:44.588Z"
   },
   {
    "duration": 57,
    "start_time": "2021-07-07T14:35:59.042Z"
   },
   {
    "duration": 3,
    "start_time": "2021-07-07T14:36:28.168Z"
   },
   {
    "duration": 5,
    "start_time": "2021-07-07T14:36:46.254Z"
   },
   {
    "duration": 4,
    "start_time": "2021-07-07T14:36:52.714Z"
   },
   {
    "duration": 3,
    "start_time": "2021-07-07T14:36:56.612Z"
   },
   {
    "duration": 4,
    "start_time": "2021-07-07T14:36:57.049Z"
   },
   {
    "duration": 3,
    "start_time": "2021-07-07T14:39:21.214Z"
   },
   {
    "duration": 7,
    "start_time": "2021-07-07T14:39:52.406Z"
   },
   {
    "duration": 11,
    "start_time": "2021-07-07T14:39:58.576Z"
   },
   {
    "duration": 9,
    "start_time": "2021-07-07T14:40:26.301Z"
   },
   {
    "duration": 10,
    "start_time": "2021-07-07T14:40:31.704Z"
   },
   {
    "duration": 11,
    "start_time": "2021-07-07T14:40:36.249Z"
   },
   {
    "duration": 10,
    "start_time": "2021-07-07T14:40:39.783Z"
   },
   {
    "duration": 9,
    "start_time": "2021-07-07T14:40:48.558Z"
   },
   {
    "duration": 10,
    "start_time": "2021-07-07T14:40:57.143Z"
   },
   {
    "duration": 9,
    "start_time": "2021-07-07T14:41:06.074Z"
   },
   {
    "duration": 4324,
    "start_time": "2021-07-07T14:41:22.004Z"
   },
   {
    "duration": 11,
    "start_time": "2021-07-07T14:41:33.392Z"
   },
   {
    "duration": 9,
    "start_time": "2021-07-07T14:41:39.288Z"
   },
   {
    "duration": 569,
    "start_time": "2021-07-07T14:42:14.387Z"
   },
   {
    "duration": 197,
    "start_time": "2021-07-07T14:42:14.959Z"
   },
   {
    "duration": 84,
    "start_time": "2021-07-07T14:42:16.052Z"
   },
   {
    "duration": 4,
    "start_time": "2021-07-07T14:42:16.900Z"
   },
   {
    "duration": 27,
    "start_time": "2021-07-07T14:42:19.898Z"
   },
   {
    "duration": 12,
    "start_time": "2021-07-07T14:42:21.577Z"
   },
   {
    "duration": 9,
    "start_time": "2021-07-07T14:42:21.813Z"
   },
   {
    "duration": 9,
    "start_time": "2021-07-07T14:42:22.569Z"
   },
   {
    "duration": 29,
    "start_time": "2021-07-07T14:42:25.837Z"
   },
   {
    "duration": 20,
    "start_time": "2021-07-07T14:42:27.003Z"
   },
   {
    "duration": 21,
    "start_time": "2021-07-07T14:42:28.767Z"
   },
   {
    "duration": 7,
    "start_time": "2021-07-07T14:42:29.838Z"
   },
   {
    "duration": 4,
    "start_time": "2021-07-07T14:43:25.493Z"
   },
   {
    "duration": 7,
    "start_time": "2021-07-07T14:43:26.573Z"
   },
   {
    "duration": 10,
    "start_time": "2021-07-07T14:43:31.639Z"
   },
   {
    "duration": 9,
    "start_time": "2021-07-07T14:43:32.046Z"
   },
   {
    "duration": 10,
    "start_time": "2021-07-07T14:43:33.301Z"
   },
   {
    "duration": 12,
    "start_time": "2021-07-07T14:43:33.658Z"
   },
   {
    "duration": 8,
    "start_time": "2021-07-07T14:43:34.552Z"
   },
   {
    "duration": 9,
    "start_time": "2021-07-07T14:43:35.058Z"
   },
   {
    "duration": 12,
    "start_time": "2021-07-07T14:43:35.914Z"
   },
   {
    "duration": 17,
    "start_time": "2021-07-07T14:45:34.368Z"
   },
   {
    "duration": 512,
    "start_time": "2021-07-07T14:51:58.236Z"
   },
   {
    "duration": 223,
    "start_time": "2021-07-07T14:51:58.750Z"
   },
   {
    "duration": 93,
    "start_time": "2021-07-07T14:51:58.977Z"
   },
   {
    "duration": 4,
    "start_time": "2021-07-07T14:51:59.071Z"
   },
   {
    "duration": 37,
    "start_time": "2021-07-07T14:51:59.077Z"
   },
   {
    "duration": 18,
    "start_time": "2021-07-07T14:51:59.116Z"
   },
   {
    "duration": 10,
    "start_time": "2021-07-07T14:51:59.137Z"
   },
   {
    "duration": 8,
    "start_time": "2021-07-07T14:51:59.149Z"
   },
   {
    "duration": 54,
    "start_time": "2021-07-07T14:51:59.158Z"
   },
   {
    "duration": 18,
    "start_time": "2021-07-07T14:51:59.213Z"
   },
   {
    "duration": 22,
    "start_time": "2021-07-07T14:51:59.232Z"
   },
   {
    "duration": 36,
    "start_time": "2021-07-07T14:51:59.255Z"
   },
   {
    "duration": 7,
    "start_time": "2021-07-07T14:51:59.293Z"
   },
   {
    "duration": 10,
    "start_time": "2021-07-07T14:51:59.302Z"
   },
   {
    "duration": 9,
    "start_time": "2021-07-07T14:51:59.313Z"
   },
   {
    "duration": 11,
    "start_time": "2021-07-07T14:51:59.324Z"
   },
   {
    "duration": 8,
    "start_time": "2021-07-07T14:51:59.337Z"
   },
   {
    "duration": 46,
    "start_time": "2021-07-07T14:51:59.347Z"
   },
   {
    "duration": 22,
    "start_time": "2021-07-07T14:51:59.395Z"
   },
   {
    "duration": 24,
    "start_time": "2021-07-07T14:57:32.911Z"
   },
   {
    "duration": 7,
    "start_time": "2021-07-07T14:58:22.070Z"
   },
   {
    "duration": 4,
    "start_time": "2021-07-07T14:59:11.239Z"
   },
   {
    "duration": 25,
    "start_time": "2021-07-07T15:07:22.208Z"
   },
   {
    "duration": 16,
    "start_time": "2021-07-07T15:08:25.560Z"
   },
   {
    "duration": 15,
    "start_time": "2021-07-07T15:08:40.647Z"
   },
   {
    "duration": 14,
    "start_time": "2021-07-07T15:08:46.669Z"
   },
   {
    "duration": 533,
    "start_time": "2021-07-07T15:18:07.440Z"
   },
   {
    "duration": 173,
    "start_time": "2021-07-07T15:18:07.974Z"
   },
   {
    "duration": 84,
    "start_time": "2021-07-07T15:18:08.149Z"
   },
   {
    "duration": 3,
    "start_time": "2021-07-07T15:18:08.235Z"
   },
   {
    "duration": 30,
    "start_time": "2021-07-07T15:18:08.240Z"
   },
   {
    "duration": 22,
    "start_time": "2021-07-07T15:18:08.272Z"
   },
   {
    "duration": 11,
    "start_time": "2021-07-07T15:18:08.295Z"
   },
   {
    "duration": 11,
    "start_time": "2021-07-07T15:18:08.309Z"
   },
   {
    "duration": 40,
    "start_time": "2021-07-07T15:18:08.322Z"
   },
   {
    "duration": 42,
    "start_time": "2021-07-07T15:18:08.364Z"
   },
   {
    "duration": 22,
    "start_time": "2021-07-07T15:18:08.408Z"
   },
   {
    "duration": 5,
    "start_time": "2021-07-07T15:18:08.432Z"
   },
   {
    "duration": 13,
    "start_time": "2021-07-07T15:18:08.439Z"
   },
   {
    "duration": 9,
    "start_time": "2021-07-07T15:18:08.454Z"
   },
   {
    "duration": 32,
    "start_time": "2021-07-07T15:18:08.465Z"
   },
   {
    "duration": 10,
    "start_time": "2021-07-07T15:18:08.501Z"
   },
   {
    "duration": 7,
    "start_time": "2021-07-07T15:18:08.513Z"
   },
   {
    "duration": 11,
    "start_time": "2021-07-07T15:18:08.521Z"
   },
   {
    "duration": 17,
    "start_time": "2021-07-07T15:18:08.534Z"
   },
   {
    "duration": 44,
    "start_time": "2021-07-07T15:18:08.553Z"
   },
   {
    "duration": 22,
    "start_time": "2021-07-07T15:18:08.599Z"
   },
   {
    "duration": 61,
    "start_time": "2021-07-07T15:18:08.622Z"
   },
   {
    "duration": 7,
    "start_time": "2021-07-07T15:18:39.457Z"
   },
   {
    "duration": 5,
    "start_time": "2021-07-07T16:05:17.020Z"
   },
   {
    "duration": 5,
    "start_time": "2021-07-07T16:51:28.794Z"
   },
   {
    "duration": 546,
    "start_time": "2021-07-07T16:52:26.306Z"
   },
   {
    "duration": 203,
    "start_time": "2021-07-07T16:52:27.523Z"
   },
   {
    "duration": 85,
    "start_time": "2021-07-07T16:52:27.736Z"
   },
   {
    "duration": 4,
    "start_time": "2021-07-07T16:52:27.899Z"
   },
   {
    "duration": 25,
    "start_time": "2021-07-07T16:52:28.674Z"
   },
   {
    "duration": 8,
    "start_time": "2021-07-07T16:52:32.956Z"
   },
   {
    "duration": 18,
    "start_time": "2021-07-07T16:52:35.616Z"
   },
   {
    "duration": 6,
    "start_time": "2021-07-07T16:52:36.913Z"
   },
   {
    "duration": 11,
    "start_time": "2021-07-07T16:52:40.258Z"
   },
   {
    "duration": 10,
    "start_time": "2021-07-07T16:52:46.251Z"
   },
   {
    "duration": 8,
    "start_time": "2021-07-07T16:52:47.182Z"
   },
   {
    "duration": 27,
    "start_time": "2021-07-07T16:53:20.391Z"
   },
   {
    "duration": 20,
    "start_time": "2021-07-07T16:53:22.022Z"
   },
   {
    "duration": 23,
    "start_time": "2021-07-07T16:53:23.690Z"
   },
   {
    "duration": 8,
    "start_time": "2021-07-07T16:53:24.261Z"
   },
   {
    "duration": 4,
    "start_time": "2021-07-07T16:53:38.733Z"
   },
   {
    "duration": 7,
    "start_time": "2021-07-07T16:53:40.445Z"
   },
   {
    "duration": 11,
    "start_time": "2021-07-07T16:53:41.348Z"
   },
   {
    "duration": 13,
    "start_time": "2021-07-07T16:53:45.250Z"
   },
   {
    "duration": 12,
    "start_time": "2021-07-07T16:53:45.467Z"
   },
   {
    "duration": 4,
    "start_time": "2021-07-07T16:55:32.704Z"
   },
   {
    "duration": 12,
    "start_time": "2021-07-07T16:55:49.012Z"
   },
   {
    "duration": 18,
    "start_time": "2021-07-07T16:55:49.547Z"
   },
   {
    "duration": 611,
    "start_time": "2021-07-07T16:58:35.156Z"
   },
   {
    "duration": 200,
    "start_time": "2021-07-07T16:58:35.770Z"
   },
   {
    "duration": 86,
    "start_time": "2021-07-07T16:58:35.972Z"
   },
   {
    "duration": 3,
    "start_time": "2021-07-07T16:58:36.060Z"
   },
   {
    "duration": 27,
    "start_time": "2021-07-07T16:58:36.065Z"
   },
   {
    "duration": 8,
    "start_time": "2021-07-07T16:58:36.094Z"
   },
   {
    "duration": 17,
    "start_time": "2021-07-07T16:58:36.103Z"
   },
   {
    "duration": 5,
    "start_time": "2021-07-07T16:58:36.123Z"
   },
   {
    "duration": 11,
    "start_time": "2021-07-07T16:58:36.130Z"
   },
   {
    "duration": 7,
    "start_time": "2021-07-07T16:58:36.143Z"
   },
   {
    "duration": 37,
    "start_time": "2021-07-07T16:58:36.152Z"
   },
   {
    "duration": 27,
    "start_time": "2021-07-07T16:58:36.191Z"
   },
   {
    "duration": 19,
    "start_time": "2021-07-07T16:58:36.219Z"
   },
   {
    "duration": 49,
    "start_time": "2021-07-07T16:58:36.240Z"
   },
   {
    "duration": 6,
    "start_time": "2021-07-07T16:58:36.291Z"
   },
   {
    "duration": 3,
    "start_time": "2021-07-07T16:58:36.299Z"
   },
   {
    "duration": 13,
    "start_time": "2021-07-07T16:58:36.304Z"
   },
   {
    "duration": 10,
    "start_time": "2021-07-07T16:58:36.319Z"
   },
   {
    "duration": 10,
    "start_time": "2021-07-07T16:58:36.331Z"
   },
   {
    "duration": 44,
    "start_time": "2021-07-07T16:58:36.343Z"
   },
   {
    "duration": 4,
    "start_time": "2021-07-07T16:58:36.388Z"
   },
   {
    "duration": 13,
    "start_time": "2021-07-07T16:58:36.394Z"
   },
   {
    "duration": 16,
    "start_time": "2021-07-07T16:58:36.410Z"
   },
   {
    "duration": 8,
    "start_time": "2021-07-07T17:02:31.629Z"
   },
   {
    "duration": 8,
    "start_time": "2021-07-07T17:02:34.308Z"
   },
   {
    "duration": 6,
    "start_time": "2021-07-07T17:05:13.483Z"
   },
   {
    "duration": 17,
    "start_time": "2021-07-07T17:05:20.606Z"
   },
   {
    "duration": 7,
    "start_time": "2021-07-07T17:05:34.638Z"
   },
   {
    "duration": 3,
    "start_time": "2021-07-07T17:06:31.883Z"
   },
   {
    "duration": 570,
    "start_time": "2021-07-07T17:06:37.165Z"
   },
   {
    "duration": 174,
    "start_time": "2021-07-07T17:06:37.737Z"
   },
   {
    "duration": 47,
    "start_time": "2021-07-07T17:06:37.913Z"
   },
   {
    "duration": 3,
    "start_time": "2021-07-07T17:06:37.962Z"
   },
   {
    "duration": 27,
    "start_time": "2021-07-07T17:06:37.967Z"
   },
   {
    "duration": 7,
    "start_time": "2021-07-07T17:06:37.996Z"
   },
   {
    "duration": 16,
    "start_time": "2021-07-07T17:06:38.005Z"
   },
   {
    "duration": 6,
    "start_time": "2021-07-07T17:06:38.024Z"
   },
   {
    "duration": 12,
    "start_time": "2021-07-07T17:06:38.031Z"
   },
   {
    "duration": 41,
    "start_time": "2021-07-07T17:06:38.045Z"
   },
   {
    "duration": 8,
    "start_time": "2021-07-07T17:06:38.088Z"
   },
   {
    "duration": 26,
    "start_time": "2021-07-07T17:06:38.098Z"
   },
   {
    "duration": 17,
    "start_time": "2021-07-07T17:06:38.126Z"
   },
   {
    "duration": 43,
    "start_time": "2021-07-07T17:06:38.144Z"
   },
   {
    "duration": 6,
    "start_time": "2021-07-07T17:06:38.188Z"
   },
   {
    "duration": 5,
    "start_time": "2021-07-07T17:06:38.195Z"
   },
   {
    "duration": 9,
    "start_time": "2021-07-07T17:06:38.201Z"
   },
   {
    "duration": 12,
    "start_time": "2021-07-07T17:06:38.212Z"
   },
   {
    "duration": 11,
    "start_time": "2021-07-07T17:06:38.226Z"
   },
   {
    "duration": 47,
    "start_time": "2021-07-07T17:06:38.239Z"
   },
   {
    "duration": 4,
    "start_time": "2021-07-07T17:06:38.288Z"
   },
   {
    "duration": 13,
    "start_time": "2021-07-07T17:06:38.293Z"
   },
   {
    "duration": 5,
    "start_time": "2021-07-07T17:06:38.309Z"
   },
   {
    "duration": 18,
    "start_time": "2021-07-07T17:06:38.325Z"
   },
   {
    "duration": 20,
    "start_time": "2021-07-07T17:07:02.805Z"
   },
   {
    "duration": 19,
    "start_time": "2021-07-07T17:07:08.527Z"
   },
   {
    "duration": 19,
    "start_time": "2021-07-07T17:07:12.758Z"
   },
   {
    "duration": 22,
    "start_time": "2021-07-07T17:07:17.497Z"
   },
   {
    "duration": 19,
    "start_time": "2021-07-07T17:07:19.645Z"
   },
   {
    "duration": 10,
    "start_time": "2021-07-07T17:07:34.239Z"
   },
   {
    "duration": 17,
    "start_time": "2021-07-07T17:07:54.144Z"
   },
   {
    "duration": 14,
    "start_time": "2021-07-07T17:08:14.357Z"
   },
   {
    "duration": 616,
    "start_time": "2021-07-07T17:08:45.254Z"
   },
   {
    "duration": 178,
    "start_time": "2021-07-07T17:08:45.872Z"
   },
   {
    "duration": 60,
    "start_time": "2021-07-07T17:08:46.054Z"
   },
   {
    "duration": 3,
    "start_time": "2021-07-07T17:08:46.116Z"
   },
   {
    "duration": 26,
    "start_time": "2021-07-07T17:08:46.121Z"
   },
   {
    "duration": 7,
    "start_time": "2021-07-07T17:08:46.149Z"
   },
   {
    "duration": 17,
    "start_time": "2021-07-07T17:08:46.158Z"
   },
   {
    "duration": 14,
    "start_time": "2021-07-07T17:08:46.176Z"
   },
   {
    "duration": 17,
    "start_time": "2021-07-07T17:08:46.193Z"
   },
   {
    "duration": 9,
    "start_time": "2021-07-07T17:08:46.211Z"
   },
   {
    "duration": 21,
    "start_time": "2021-07-07T17:08:46.221Z"
   },
   {
    "duration": 49,
    "start_time": "2021-07-07T17:08:46.244Z"
   },
   {
    "duration": 24,
    "start_time": "2021-07-07T17:08:46.295Z"
   },
   {
    "duration": 22,
    "start_time": "2021-07-07T17:08:46.321Z"
   },
   {
    "duration": 6,
    "start_time": "2021-07-07T17:08:46.345Z"
   },
   {
    "duration": 5,
    "start_time": "2021-07-07T17:08:46.353Z"
   },
   {
    "duration": 13,
    "start_time": "2021-07-07T17:08:46.386Z"
   },
   {
    "duration": 12,
    "start_time": "2021-07-07T17:08:46.402Z"
   },
   {
    "duration": 10,
    "start_time": "2021-07-07T17:08:46.415Z"
   },
   {
    "duration": 7,
    "start_time": "2021-07-07T17:08:46.427Z"
   },
   {
    "duration": 8,
    "start_time": "2021-07-07T17:08:46.435Z"
   },
   {
    "duration": 68,
    "start_time": "2021-07-07T17:08:46.446Z"
   },
   {
    "duration": 13,
    "start_time": "2021-07-07T17:08:46.516Z"
   },
   {
    "duration": 78,
    "start_time": "2021-07-07T17:08:46.530Z"
   },
   {
    "duration": 40,
    "start_time": "2021-07-07T17:09:08.185Z"
   },
   {
    "duration": 16,
    "start_time": "2021-07-07T17:09:19.324Z"
   },
   {
    "duration": 21,
    "start_time": "2021-07-07T17:09:23.290Z"
   },
   {
    "duration": 13,
    "start_time": "2021-07-07T17:09:54.812Z"
   },
   {
    "duration": 13,
    "start_time": "2021-07-07T17:10:02.039Z"
   },
   {
    "duration": 10,
    "start_time": "2021-07-07T17:10:29.632Z"
   },
   {
    "duration": 13,
    "start_time": "2021-07-07T17:10:52.372Z"
   },
   {
    "duration": 13,
    "start_time": "2021-07-07T17:11:17.270Z"
   },
   {
    "duration": 13,
    "start_time": "2021-07-07T17:14:59.284Z"
   },
   {
    "duration": 547,
    "start_time": "2021-07-07T17:18:52.403Z"
   },
   {
    "duration": 163,
    "start_time": "2021-07-07T17:18:52.952Z"
   },
   {
    "duration": 44,
    "start_time": "2021-07-07T17:18:53.117Z"
   },
   {
    "duration": 3,
    "start_time": "2021-07-07T17:18:53.162Z"
   },
   {
    "duration": 26,
    "start_time": "2021-07-07T17:18:53.167Z"
   },
   {
    "duration": 6,
    "start_time": "2021-07-07T17:18:53.195Z"
   },
   {
    "duration": 15,
    "start_time": "2021-07-07T17:18:53.203Z"
   },
   {
    "duration": 5,
    "start_time": "2021-07-07T17:18:53.220Z"
   },
   {
    "duration": 11,
    "start_time": "2021-07-07T17:18:53.228Z"
   },
   {
    "duration": 9,
    "start_time": "2021-07-07T17:18:53.241Z"
   },
   {
    "duration": 41,
    "start_time": "2021-07-07T17:18:53.252Z"
   },
   {
    "duration": 33,
    "start_time": "2021-07-07T17:18:53.295Z"
   },
   {
    "duration": 19,
    "start_time": "2021-07-07T17:18:53.330Z"
   },
   {
    "duration": 49,
    "start_time": "2021-07-07T17:18:53.350Z"
   },
   {
    "duration": 5,
    "start_time": "2021-07-07T17:18:53.401Z"
   },
   {
    "duration": 5,
    "start_time": "2021-07-07T17:18:53.408Z"
   },
   {
    "duration": 11,
    "start_time": "2021-07-07T17:18:53.414Z"
   },
   {
    "duration": 9,
    "start_time": "2021-07-07T17:18:53.427Z"
   },
   {
    "duration": 10,
    "start_time": "2021-07-07T17:18:53.437Z"
   },
   {
    "duration": 39,
    "start_time": "2021-07-07T17:18:53.448Z"
   },
   {
    "duration": 26,
    "start_time": "2021-07-07T17:18:55.799Z"
   },
   {
    "duration": 598,
    "start_time": "2021-07-07T17:20:17.862Z"
   },
   {
    "duration": 161,
    "start_time": "2021-07-07T17:20:18.462Z"
   },
   {
    "duration": 45,
    "start_time": "2021-07-07T17:20:18.626Z"
   },
   {
    "duration": 4,
    "start_time": "2021-07-07T17:20:18.673Z"
   },
   {
    "duration": 38,
    "start_time": "2021-07-07T17:20:26.877Z"
   },
   {
    "duration": 7,
    "start_time": "2021-07-07T17:20:37.405Z"
   },
   {
    "duration": 19,
    "start_time": "2021-07-07T17:20:51.534Z"
   },
   {
    "duration": 5,
    "start_time": "2021-07-07T17:20:57.228Z"
   },
   {
    "duration": 7,
    "start_time": "2021-07-07T17:21:08.235Z"
   },
   {
    "duration": 19,
    "start_time": "2021-07-07T17:21:42.158Z"
   },
   {
    "duration": 14,
    "start_time": "2021-07-07T17:21:50.225Z"
   },
   {
    "duration": 22,
    "start_time": "2021-07-07T17:22:54.104Z"
   },
   {
    "duration": 5,
    "start_time": "2021-07-07T17:22:56.371Z"
   },
   {
    "duration": 14,
    "start_time": "2021-07-07T17:22:58.316Z"
   },
   {
    "duration": 5,
    "start_time": "2021-07-07T17:22:58.493Z"
   },
   {
    "duration": 35,
    "start_time": "2021-07-07T17:22:59.666Z"
   },
   {
    "duration": 6,
    "start_time": "2021-07-07T17:23:02.410Z"
   },
   {
    "duration": 611,
    "start_time": "2021-07-07T17:24:59.664Z"
   },
   {
    "duration": 178,
    "start_time": "2021-07-07T17:25:01.945Z"
   },
   {
    "duration": 47,
    "start_time": "2021-07-07T17:25:02.125Z"
   },
   {
    "duration": 2,
    "start_time": "2021-07-07T17:25:07.903Z"
   },
   {
    "duration": 254,
    "start_time": "2021-07-07T17:25:08.232Z"
   },
   {
    "duration": 182,
    "start_time": "2021-07-07T17:25:08.671Z"
   },
   {
    "duration": 6,
    "start_time": "2021-07-07T17:25:13.104Z"
   },
   {
    "duration": 36,
    "start_time": "2021-07-07T17:25:13.662Z"
   },
   {
    "duration": 7,
    "start_time": "2021-07-07T17:25:14.528Z"
   },
   {
    "duration": 24,
    "start_time": "2021-07-07T17:25:27.982Z"
   },
   {
    "duration": 3,
    "start_time": "2021-07-07T17:25:48.982Z"
   },
   {
    "duration": 165,
    "start_time": "2021-07-07T17:25:48.987Z"
   },
   {
    "duration": 50,
    "start_time": "2021-07-07T17:25:49.154Z"
   },
   {
    "duration": 4,
    "start_time": "2021-07-07T17:25:49.206Z"
   },
   {
    "duration": 26,
    "start_time": "2021-07-07T17:25:49.212Z"
   },
   {
    "duration": 7,
    "start_time": "2021-07-07T17:25:49.240Z"
   },
   {
    "duration": 16,
    "start_time": "2021-07-07T17:25:49.249Z"
   },
   {
    "duration": 22,
    "start_time": "2021-07-07T17:25:49.266Z"
   },
   {
    "duration": 16,
    "start_time": "2021-07-07T17:25:49.291Z"
   },
   {
    "duration": 9,
    "start_time": "2021-07-07T17:25:49.309Z"
   },
   {
    "duration": 7,
    "start_time": "2021-07-07T17:25:49.319Z"
   },
   {
    "duration": 28,
    "start_time": "2021-07-07T17:25:49.328Z"
   },
   {
    "duration": 44,
    "start_time": "2021-07-07T17:25:49.357Z"
   },
   {
    "duration": 22,
    "start_time": "2021-07-07T17:25:49.403Z"
   },
   {
    "duration": 7,
    "start_time": "2021-07-07T17:25:49.427Z"
   },
   {
    "duration": 3,
    "start_time": "2021-07-07T17:25:49.436Z"
   },
   {
    "duration": 44,
    "start_time": "2021-07-07T17:25:49.441Z"
   },
   {
    "duration": 12,
    "start_time": "2021-07-07T17:25:49.488Z"
   },
   {
    "duration": 13,
    "start_time": "2021-07-07T17:25:49.502Z"
   },
   {
    "duration": 10,
    "start_time": "2021-07-07T17:25:49.516Z"
   },
   {
    "duration": 62,
    "start_time": "2021-07-07T17:25:49.527Z"
   },
   {
    "duration": 26,
    "start_time": "2021-07-07T17:26:51.809Z"
   },
   {
    "duration": 26,
    "start_time": "2021-07-07T17:26:55.759Z"
   },
   {
    "duration": 26,
    "start_time": "2021-07-07T17:27:04.501Z"
   },
   {
    "duration": 25,
    "start_time": "2021-07-07T17:28:24.859Z"
   },
   {
    "duration": 21,
    "start_time": "2021-07-07T17:28:55.250Z"
   },
   {
    "duration": 21,
    "start_time": "2021-07-07T17:28:58.885Z"
   },
   {
    "duration": 7,
    "start_time": "2021-07-07T17:45:40.972Z"
   },
   {
    "duration": 13,
    "start_time": "2021-07-07T17:45:42.529Z"
   },
   {
    "duration": 27,
    "start_time": "2021-07-07T17:45:51.026Z"
   },
   {
    "duration": 518,
    "start_time": "2021-07-07T17:46:15.532Z"
   },
   {
    "duration": 235,
    "start_time": "2021-07-07T17:46:16.053Z"
   },
   {
    "duration": 80,
    "start_time": "2021-07-07T17:46:16.292Z"
   },
   {
    "duration": 5,
    "start_time": "2021-07-07T17:46:16.373Z"
   },
   {
    "duration": 26,
    "start_time": "2021-07-07T17:46:16.380Z"
   },
   {
    "duration": 7,
    "start_time": "2021-07-07T17:46:16.408Z"
   },
   {
    "duration": 16,
    "start_time": "2021-07-07T17:46:16.418Z"
   },
   {
    "duration": 5,
    "start_time": "2021-07-07T17:46:16.436Z"
   },
   {
    "duration": 13,
    "start_time": "2021-07-07T17:46:16.442Z"
   },
   {
    "duration": 35,
    "start_time": "2021-07-07T17:46:16.456Z"
   },
   {
    "duration": 8,
    "start_time": "2021-07-07T17:46:16.493Z"
   },
   {
    "duration": 28,
    "start_time": "2021-07-07T17:46:16.502Z"
   },
   {
    "duration": 17,
    "start_time": "2021-07-07T17:46:16.532Z"
   },
   {
    "duration": 44,
    "start_time": "2021-07-07T17:46:16.551Z"
   },
   {
    "duration": 6,
    "start_time": "2021-07-07T17:46:16.597Z"
   },
   {
    "duration": 4,
    "start_time": "2021-07-07T17:46:16.605Z"
   },
   {
    "duration": 9,
    "start_time": "2021-07-07T17:46:16.610Z"
   },
   {
    "duration": 9,
    "start_time": "2021-07-07T17:46:16.621Z"
   },
   {
    "duration": 10,
    "start_time": "2021-07-07T17:46:16.632Z"
   },
   {
    "duration": 43,
    "start_time": "2021-07-07T17:46:16.644Z"
   },
   {
    "duration": 26,
    "start_time": "2021-07-07T17:46:16.689Z"
   },
   {
    "duration": 19,
    "start_time": "2021-07-07T17:46:16.718Z"
   },
   {
    "duration": 8,
    "start_time": "2021-07-07T17:46:16.738Z"
   },
   {
    "duration": 43,
    "start_time": "2021-07-07T17:46:16.747Z"
   },
   {
    "duration": 19,
    "start_time": "2021-07-07T17:46:16.791Z"
   },
   {
    "duration": 9,
    "start_time": "2021-07-07T17:46:16.812Z"
   },
   {
    "duration": 60,
    "start_time": "2021-07-07T17:46:16.822Z"
   },
   {
    "duration": -8,
    "start_time": "2021-07-07T17:46:16.892Z"
   },
   {
    "duration": 12,
    "start_time": "2021-07-07T17:48:47.707Z"
   },
   {
    "duration": 553,
    "start_time": "2021-07-07T18:10:09.350Z"
   },
   {
    "duration": 230,
    "start_time": "2021-07-07T18:10:09.905Z"
   },
   {
    "duration": 97,
    "start_time": "2021-07-07T18:10:10.137Z"
   },
   {
    "duration": 5,
    "start_time": "2021-07-07T18:10:10.236Z"
   },
   {
    "duration": 29,
    "start_time": "2021-07-07T18:10:10.242Z"
   },
   {
    "duration": 7,
    "start_time": "2021-07-07T18:10:10.272Z"
   },
   {
    "duration": 15,
    "start_time": "2021-07-07T18:10:10.281Z"
   },
   {
    "duration": 4,
    "start_time": "2021-07-07T18:10:10.299Z"
   },
   {
    "duration": 14,
    "start_time": "2021-07-07T18:10:10.305Z"
   },
   {
    "duration": 8,
    "start_time": "2021-07-07T18:10:10.321Z"
   },
   {
    "duration": 8,
    "start_time": "2021-07-07T18:10:10.331Z"
   },
   {
    "duration": 56,
    "start_time": "2021-07-07T18:10:10.341Z"
   },
   {
    "duration": 19,
    "start_time": "2021-07-07T18:10:10.399Z"
   },
   {
    "duration": 23,
    "start_time": "2021-07-07T18:10:10.419Z"
   },
   {
    "duration": 6,
    "start_time": "2021-07-07T18:10:10.444Z"
   },
   {
    "duration": 9,
    "start_time": "2021-07-07T18:10:10.451Z"
   },
   {
    "duration": 30,
    "start_time": "2021-07-07T18:10:10.462Z"
   },
   {
    "duration": 9,
    "start_time": "2021-07-07T18:10:10.494Z"
   },
   {
    "duration": 14,
    "start_time": "2021-07-07T18:10:10.505Z"
   },
   {
    "duration": 7,
    "start_time": "2021-07-07T18:10:10.521Z"
   },
   {
    "duration": 26,
    "start_time": "2021-07-07T18:10:10.530Z"
   },
   {
    "duration": 44,
    "start_time": "2021-07-07T18:10:10.558Z"
   },
   {
    "duration": 7,
    "start_time": "2021-07-07T18:10:10.605Z"
   },
   {
    "duration": 11,
    "start_time": "2021-07-07T18:10:10.614Z"
   },
   {
    "duration": 19,
    "start_time": "2021-07-07T18:10:10.626Z"
   },
   {
    "duration": 44,
    "start_time": "2021-07-07T18:10:10.646Z"
   },
   {
    "duration": 516,
    "start_time": "2021-07-07T18:14:00.826Z"
   },
   {
    "duration": 230,
    "start_time": "2021-07-07T18:14:01.344Z"
   },
   {
    "duration": 105,
    "start_time": "2021-07-07T18:14:01.576Z"
   },
   {
    "duration": 5,
    "start_time": "2021-07-07T18:14:01.683Z"
   },
   {
    "duration": 46,
    "start_time": "2021-07-07T18:14:01.690Z"
   },
   {
    "duration": 7,
    "start_time": "2021-07-07T18:14:01.738Z"
   },
   {
    "duration": 20,
    "start_time": "2021-07-07T18:14:01.747Z"
   },
   {
    "duration": 16,
    "start_time": "2021-07-07T18:14:01.769Z"
   },
   {
    "duration": 14,
    "start_time": "2021-07-07T18:14:01.787Z"
   },
   {
    "duration": 15,
    "start_time": "2021-07-07T18:14:01.803Z"
   },
   {
    "duration": 12,
    "start_time": "2021-07-07T18:14:01.820Z"
   },
   {
    "duration": 35,
    "start_time": "2021-07-07T18:14:01.833Z"
   },
   {
    "duration": 31,
    "start_time": "2021-07-07T18:14:01.869Z"
   },
   {
    "duration": 37,
    "start_time": "2021-07-07T18:14:01.902Z"
   },
   {
    "duration": 8,
    "start_time": "2021-07-07T18:14:01.942Z"
   },
   {
    "duration": 16,
    "start_time": "2021-07-07T18:14:01.952Z"
   },
   {
    "duration": 13,
    "start_time": "2021-07-07T18:14:01.970Z"
   },
   {
    "duration": 32,
    "start_time": "2021-07-07T18:14:01.985Z"
   },
   {
    "duration": 11,
    "start_time": "2021-07-07T18:14:02.019Z"
   },
   {
    "duration": 22,
    "start_time": "2021-07-07T18:14:02.031Z"
   },
   {
    "duration": 27,
    "start_time": "2021-07-07T18:14:02.055Z"
   },
   {
    "duration": 18,
    "start_time": "2021-07-07T18:14:02.084Z"
   },
   {
    "duration": 18,
    "start_time": "2021-07-07T18:14:02.106Z"
   },
   {
    "duration": 11,
    "start_time": "2021-07-07T18:14:02.126Z"
   },
   {
    "duration": 21,
    "start_time": "2021-07-07T18:14:02.138Z"
   },
   {
    "duration": 32,
    "start_time": "2021-07-07T18:14:02.161Z"
   },
   {
    "duration": 28,
    "start_time": "2021-07-07T18:14:44.295Z"
   },
   {
    "duration": 6,
    "start_time": "2021-07-07T18:15:05.834Z"
   },
   {
    "duration": 511,
    "start_time": "2021-07-07T18:15:41.541Z"
   },
   {
    "duration": 183,
    "start_time": "2021-07-07T18:15:42.054Z"
   },
   {
    "duration": 50,
    "start_time": "2021-07-07T18:15:42.239Z"
   },
   {
    "duration": 5,
    "start_time": "2021-07-07T18:15:42.291Z"
   },
   {
    "duration": 48,
    "start_time": "2021-07-07T18:15:42.297Z"
   },
   {
    "duration": 8,
    "start_time": "2021-07-07T18:15:42.346Z"
   },
   {
    "duration": 17,
    "start_time": "2021-07-07T18:15:42.356Z"
   },
   {
    "duration": 15,
    "start_time": "2021-07-07T18:15:42.375Z"
   },
   {
    "duration": 12,
    "start_time": "2021-07-07T18:15:42.392Z"
   },
   {
    "duration": 7,
    "start_time": "2021-07-07T18:15:42.406Z"
   },
   {
    "duration": 7,
    "start_time": "2021-07-07T18:15:42.415Z"
   },
   {
    "duration": 29,
    "start_time": "2021-07-07T18:15:42.423Z"
   },
   {
    "duration": 43,
    "start_time": "2021-07-07T18:15:42.453Z"
   },
   {
    "duration": 18,
    "start_time": "2021-07-07T18:15:42.497Z"
   },
   {
    "duration": 6,
    "start_time": "2021-07-07T18:15:42.516Z"
   },
   {
    "duration": 3,
    "start_time": "2021-07-07T18:15:42.523Z"
   },
   {
    "duration": 18,
    "start_time": "2021-07-07T18:15:42.528Z"
   },
   {
    "duration": 10,
    "start_time": "2021-07-07T18:15:42.547Z"
   },
   {
    "duration": 36,
    "start_time": "2021-07-07T18:15:42.559Z"
   },
   {
    "duration": 8,
    "start_time": "2021-07-07T18:15:42.597Z"
   },
   {
    "duration": 28,
    "start_time": "2021-07-07T18:15:42.606Z"
   },
   {
    "duration": 52,
    "start_time": "2021-07-07T18:15:42.635Z"
   },
   {
    "duration": 7,
    "start_time": "2021-07-07T18:15:42.690Z"
   },
   {
    "duration": 10,
    "start_time": "2021-07-07T18:15:42.699Z"
   },
   {
    "duration": 19,
    "start_time": "2021-07-07T18:15:42.711Z"
   },
   {
    "duration": 9,
    "start_time": "2021-07-07T18:15:42.732Z"
   },
   {
    "duration": 5,
    "start_time": "2021-07-07T18:15:42.743Z"
   },
   {
    "duration": 1450,
    "start_time": "2021-07-07T18:15:51.984Z"
   },
   {
    "duration": 161,
    "start_time": "2021-07-07T18:15:53.435Z"
   },
   {
    "duration": 124,
    "start_time": "2021-07-07T18:15:53.598Z"
   },
   {
    "duration": 5,
    "start_time": "2021-07-07T18:15:53.724Z"
   },
   {
    "duration": 34,
    "start_time": "2021-07-07T18:15:53.730Z"
   },
   {
    "duration": 7,
    "start_time": "2021-07-07T18:15:53.765Z"
   },
   {
    "duration": 15,
    "start_time": "2021-07-07T18:15:53.773Z"
   },
   {
    "duration": 5,
    "start_time": "2021-07-07T18:15:53.791Z"
   },
   {
    "duration": 19,
    "start_time": "2021-07-07T18:15:53.798Z"
   },
   {
    "duration": 9,
    "start_time": "2021-07-07T18:15:53.818Z"
   },
   {
    "duration": 19,
    "start_time": "2021-07-07T18:15:53.828Z"
   },
   {
    "duration": 27,
    "start_time": "2021-07-07T18:15:53.848Z"
   },
   {
    "duration": 16,
    "start_time": "2021-07-07T18:15:53.884Z"
   },
   {
    "duration": 29,
    "start_time": "2021-07-07T18:15:53.901Z"
   },
   {
    "duration": 5,
    "start_time": "2021-07-07T18:15:53.932Z"
   },
   {
    "duration": 15,
    "start_time": "2021-07-07T18:15:53.939Z"
   },
   {
    "duration": 13,
    "start_time": "2021-07-07T18:15:53.956Z"
   },
   {
    "duration": 20,
    "start_time": "2021-07-07T18:15:53.971Z"
   },
   {
    "duration": 14,
    "start_time": "2021-07-07T18:15:53.992Z"
   },
   {
    "duration": 9,
    "start_time": "2021-07-07T18:15:54.009Z"
   },
   {
    "duration": 28,
    "start_time": "2021-07-07T18:15:54.020Z"
   },
   {
    "duration": 50,
    "start_time": "2021-07-07T18:15:54.051Z"
   },
   {
    "duration": 8,
    "start_time": "2021-07-07T18:15:54.105Z"
   },
   {
    "duration": 11,
    "start_time": "2021-07-07T18:15:54.115Z"
   },
   {
    "duration": 20,
    "start_time": "2021-07-07T18:15:54.128Z"
   },
   {
    "duration": 13,
    "start_time": "2021-07-07T18:15:54.184Z"
   },
   {
    "duration": 7,
    "start_time": "2021-07-07T18:15:54.199Z"
   },
   {
    "duration": 7,
    "start_time": "2021-07-07T18:17:08.042Z"
   },
   {
    "duration": 8,
    "start_time": "2021-07-07T18:17:21.008Z"
   },
   {
    "duration": 7,
    "start_time": "2021-07-07T18:17:29.003Z"
   },
   {
    "duration": 8,
    "start_time": "2021-07-07T18:17:32.492Z"
   },
   {
    "duration": 9,
    "start_time": "2021-07-07T18:17:41.758Z"
   },
   {
    "duration": 255,
    "start_time": "2021-07-07T18:20:20.897Z"
   },
   {
    "duration": 173,
    "start_time": "2021-07-07T18:20:26.636Z"
   },
   {
    "duration": 7,
    "start_time": "2021-07-07T18:21:47.164Z"
   },
   {
    "duration": 254,
    "start_time": "2021-07-07T18:23:08.703Z"
   },
   {
    "duration": 21,
    "start_time": "2021-07-07T18:23:22.506Z"
   },
   {
    "duration": 315,
    "start_time": "2021-07-07T18:25:54.801Z"
   },
   {
    "duration": 34,
    "start_time": "2021-07-07T18:26:51.817Z"
   },
   {
    "duration": 327,
    "start_time": "2021-07-07T18:26:56.147Z"
   },
   {
    "duration": 342,
    "start_time": "2021-07-07T18:27:15.887Z"
   },
   {
    "duration": 302,
    "start_time": "2021-07-07T18:28:18.569Z"
   },
   {
    "duration": 226,
    "start_time": "2021-07-07T18:29:20.879Z"
   },
   {
    "duration": 207,
    "start_time": "2021-07-07T18:29:58.114Z"
   },
   {
    "duration": 140,
    "start_time": "2021-07-07T18:32:04.372Z"
   },
   {
    "duration": 158,
    "start_time": "2021-07-07T18:32:32.508Z"
   },
   {
    "duration": 145,
    "start_time": "2021-07-07T18:32:41.365Z"
   },
   {
    "duration": 132,
    "start_time": "2021-07-07T18:32:45.199Z"
   },
   {
    "duration": 11,
    "start_time": "2021-07-07T18:35:24.679Z"
   },
   {
    "duration": 268,
    "start_time": "2021-07-07T18:36:16.145Z"
   },
   {
    "duration": 227,
    "start_time": "2021-07-07T18:37:04.918Z"
   },
   {
    "duration": 3,
    "start_time": "2021-07-07T18:37:33.012Z"
   },
   {
    "duration": 671,
    "start_time": "2021-07-07T18:37:38.295Z"
   },
   {
    "duration": 54,
    "start_time": "2021-07-07T18:37:53.406Z"
   },
   {
    "duration": 631,
    "start_time": "2021-07-07T18:37:56.463Z"
   },
   {
    "duration": 19,
    "start_time": "2021-07-07T18:39:40.535Z"
   },
   {
    "duration": 20,
    "start_time": "2021-07-07T18:40:12.236Z"
   },
   {
    "duration": 633,
    "start_time": "2021-07-07T18:42:00.398Z"
   },
   {
    "duration": 218,
    "start_time": "2021-07-07T18:42:01.033Z"
   },
   {
    "duration": 49,
    "start_time": "2021-07-07T18:42:01.253Z"
   },
   {
    "duration": 5,
    "start_time": "2021-07-07T18:42:01.303Z"
   },
   {
    "duration": 27,
    "start_time": "2021-07-07T18:42:01.310Z"
   },
   {
    "duration": 8,
    "start_time": "2021-07-07T18:42:01.339Z"
   },
   {
    "duration": 20,
    "start_time": "2021-07-07T18:42:01.348Z"
   },
   {
    "duration": 6,
    "start_time": "2021-07-07T18:42:01.386Z"
   },
   {
    "duration": 16,
    "start_time": "2021-07-07T18:42:01.394Z"
   },
   {
    "duration": 9,
    "start_time": "2021-07-07T18:42:01.411Z"
   },
   {
    "duration": 11,
    "start_time": "2021-07-07T18:42:01.421Z"
   },
   {
    "duration": 31,
    "start_time": "2021-07-07T18:42:01.434Z"
   },
   {
    "duration": 18,
    "start_time": "2021-07-07T18:42:01.485Z"
   },
   {
    "duration": 23,
    "start_time": "2021-07-07T18:42:01.505Z"
   },
   {
    "duration": 6,
    "start_time": "2021-07-07T18:42:01.530Z"
   },
   {
    "duration": 10,
    "start_time": "2021-07-07T18:42:01.538Z"
   },
   {
    "duration": 13,
    "start_time": "2021-07-07T18:42:01.550Z"
   },
   {
    "duration": 24,
    "start_time": "2021-07-07T18:42:01.564Z"
   },
   {
    "duration": 20,
    "start_time": "2021-07-07T18:42:01.590Z"
   },
   {
    "duration": 8,
    "start_time": "2021-07-07T18:42:01.611Z"
   },
   {
    "duration": 31,
    "start_time": "2021-07-07T18:42:01.620Z"
   },
   {
    "duration": 39,
    "start_time": "2021-07-07T18:42:01.653Z"
   },
   {
    "duration": 8,
    "start_time": "2021-07-07T18:42:01.696Z"
   },
   {
    "duration": 13,
    "start_time": "2021-07-07T18:42:01.705Z"
   },
   {
    "duration": 20,
    "start_time": "2021-07-07T18:42:01.720Z"
   },
   {
    "duration": 12,
    "start_time": "2021-07-07T18:42:01.741Z"
   },
   {
    "duration": 35,
    "start_time": "2021-07-07T18:42:01.755Z"
   },
   {
    "duration": 14,
    "start_time": "2021-07-07T18:42:01.792Z"
   },
   {
    "duration": 188,
    "start_time": "2021-07-07T18:42:01.808Z"
   },
   {
    "duration": 19,
    "start_time": "2021-07-07T18:42:01.998Z"
   },
   {
    "duration": 175,
    "start_time": "2021-07-07T18:42:02.019Z"
   },
   {
    "duration": 134,
    "start_time": "2021-07-07T18:42:02.196Z"
   },
   {
    "duration": 10,
    "start_time": "2021-07-07T18:42:02.331Z"
   },
   {
    "duration": 19,
    "start_time": "2021-07-07T18:42:02.343Z"
   },
   {
    "duration": 628,
    "start_time": "2021-07-07T18:46:30.701Z"
   },
   {
    "duration": 183,
    "start_time": "2021-07-07T18:46:31.331Z"
   },
   {
    "duration": 48,
    "start_time": "2021-07-07T18:46:31.516Z"
   },
   {
    "duration": 5,
    "start_time": "2021-07-07T18:46:31.566Z"
   },
   {
    "duration": 28,
    "start_time": "2021-07-07T18:46:31.572Z"
   },
   {
    "duration": 8,
    "start_time": "2021-07-07T18:46:31.602Z"
   },
   {
    "duration": 19,
    "start_time": "2021-07-07T18:46:31.611Z"
   },
   {
    "duration": 6,
    "start_time": "2021-07-07T18:46:31.633Z"
   },
   {
    "duration": 17,
    "start_time": "2021-07-07T18:46:31.642Z"
   },
   {
    "duration": 10,
    "start_time": "2021-07-07T18:46:31.684Z"
   },
   {
    "duration": 9,
    "start_time": "2021-07-07T18:46:31.695Z"
   },
   {
    "duration": 28,
    "start_time": "2021-07-07T18:46:31.705Z"
   },
   {
    "duration": 18,
    "start_time": "2021-07-07T18:46:31.735Z"
   },
   {
    "duration": 48,
    "start_time": "2021-07-07T18:46:31.755Z"
   },
   {
    "duration": 6,
    "start_time": "2021-07-07T18:46:31.804Z"
   },
   {
    "duration": 4,
    "start_time": "2021-07-07T18:46:31.812Z"
   },
   {
    "duration": 9,
    "start_time": "2021-07-07T18:46:31.817Z"
   },
   {
    "duration": 10,
    "start_time": "2021-07-07T18:46:31.827Z"
   },
   {
    "duration": 12,
    "start_time": "2021-07-07T18:46:31.838Z"
   },
   {
    "duration": 39,
    "start_time": "2021-07-07T18:46:31.851Z"
   },
   {
    "duration": 24,
    "start_time": "2021-07-07T18:46:31.892Z"
   },
   {
    "duration": 15,
    "start_time": "2021-07-07T18:46:31.918Z"
   },
   {
    "duration": 7,
    "start_time": "2021-07-07T18:46:31.936Z"
   },
   {
    "duration": 8,
    "start_time": "2021-07-07T18:46:31.944Z"
   },
   {
    "duration": 19,
    "start_time": "2021-07-07T18:46:31.984Z"
   },
   {
    "duration": 10,
    "start_time": "2021-07-07T18:46:32.004Z"
   },
   {
    "duration": 5,
    "start_time": "2021-07-07T18:46:32.016Z"
   },
   {
    "duration": 9,
    "start_time": "2021-07-07T18:46:32.023Z"
   },
   {
    "duration": 199,
    "start_time": "2021-07-07T18:46:32.033Z"
   },
   {
    "duration": 19,
    "start_time": "2021-07-07T18:46:32.234Z"
   },
   {
    "duration": 159,
    "start_time": "2021-07-07T18:46:32.255Z"
   },
   {
    "duration": 134,
    "start_time": "2021-07-07T18:46:32.416Z"
   },
   {
    "duration": 10,
    "start_time": "2021-07-07T18:46:32.552Z"
   },
   {
    "duration": 34,
    "start_time": "2021-07-07T18:46:32.563Z"
   },
   {
    "duration": 1039,
    "start_time": "2021-07-08T08:41:09.419Z"
   },
   {
    "duration": 333,
    "start_time": "2021-07-08T08:41:10.459Z"
   },
   {
    "duration": 173,
    "start_time": "2021-07-08T08:41:10.794Z"
   },
   {
    "duration": 5,
    "start_time": "2021-07-08T08:41:10.968Z"
   },
   {
    "duration": 25,
    "start_time": "2021-07-08T08:41:10.975Z"
   },
   {
    "duration": 9,
    "start_time": "2021-07-08T08:41:11.002Z"
   },
   {
    "duration": 18,
    "start_time": "2021-07-08T08:41:11.013Z"
   },
   {
    "duration": 6,
    "start_time": "2021-07-08T08:41:11.033Z"
   },
   {
    "duration": 44,
    "start_time": "2021-07-08T08:41:11.042Z"
   },
   {
    "duration": 10,
    "start_time": "2021-07-08T08:41:11.088Z"
   },
   {
    "duration": 9,
    "start_time": "2021-07-08T08:41:11.100Z"
   },
   {
    "duration": 27,
    "start_time": "2021-07-08T08:41:11.111Z"
   },
   {
    "duration": 46,
    "start_time": "2021-07-08T08:41:11.140Z"
   },
   {
    "duration": 17,
    "start_time": "2021-07-08T08:41:11.187Z"
   },
   {
    "duration": 6,
    "start_time": "2021-07-08T08:41:11.206Z"
   },
   {
    "duration": 5,
    "start_time": "2021-07-08T08:41:11.213Z"
   },
   {
    "duration": 10,
    "start_time": "2021-07-08T08:41:11.219Z"
   },
   {
    "duration": 9,
    "start_time": "2021-07-08T08:41:11.230Z"
   },
   {
    "duration": 45,
    "start_time": "2021-07-08T08:41:11.241Z"
   },
   {
    "duration": 7,
    "start_time": "2021-07-08T08:41:11.287Z"
   },
   {
    "duration": 24,
    "start_time": "2021-07-08T08:41:11.296Z"
   },
   {
    "duration": 16,
    "start_time": "2021-07-08T08:41:11.322Z"
   },
   {
    "duration": 7,
    "start_time": "2021-07-08T08:41:11.341Z"
   },
   {
    "duration": 41,
    "start_time": "2021-07-08T08:41:11.349Z"
   },
   {
    "duration": 17,
    "start_time": "2021-07-08T08:41:11.391Z"
   },
   {
    "duration": 9,
    "start_time": "2021-07-08T08:41:11.410Z"
   },
   {
    "duration": 5,
    "start_time": "2021-07-08T08:41:11.421Z"
   },
   {
    "duration": 6,
    "start_time": "2021-07-08T08:41:11.428Z"
   },
   {
    "duration": 198,
    "start_time": "2021-07-08T08:41:11.435Z"
   },
   {
    "duration": 18,
    "start_time": "2021-07-08T08:41:11.635Z"
   },
   {
    "duration": 155,
    "start_time": "2021-07-08T08:41:11.655Z"
   },
   {
    "duration": 138,
    "start_time": "2021-07-08T08:41:11.811Z"
   },
   {
    "duration": 10,
    "start_time": "2021-07-08T08:41:11.950Z"
   },
   {
    "duration": 29,
    "start_time": "2021-07-08T08:41:11.961Z"
   },
   {
    "duration": 171,
    "start_time": "2021-07-08T08:47:44.522Z"
   },
   {
    "duration": 124,
    "start_time": "2021-07-08T08:47:46.872Z"
   },
   {
    "duration": 191,
    "start_time": "2021-07-08T08:47:58.148Z"
   },
   {
    "duration": 191,
    "start_time": "2021-07-08T08:48:07.412Z"
   },
   {
    "duration": 261,
    "start_time": "2021-07-08T08:48:10.385Z"
   },
   {
    "duration": 255,
    "start_time": "2021-07-08T08:48:14.494Z"
   },
   {
    "duration": 219,
    "start_time": "2021-07-08T08:48:22.752Z"
   },
   {
    "duration": 173,
    "start_time": "2021-07-08T08:49:06.395Z"
   },
   {
    "duration": 180,
    "start_time": "2021-07-08T08:49:21.011Z"
   },
   {
    "duration": 6,
    "start_time": "2021-07-08T08:50:31.697Z"
   },
   {
    "duration": 10,
    "start_time": "2021-07-08T08:50:47.394Z"
   },
   {
    "duration": 11,
    "start_time": "2021-07-08T08:53:49.332Z"
   },
   {
    "duration": 171,
    "start_time": "2021-07-08T08:54:28.408Z"
   },
   {
    "duration": 636,
    "start_time": "2021-07-08T09:02:48.385Z"
   },
   {
    "duration": 227,
    "start_time": "2021-07-08T09:02:49.023Z"
   },
   {
    "duration": 104,
    "start_time": "2021-07-08T09:02:49.252Z"
   },
   {
    "duration": 5,
    "start_time": "2021-07-08T09:02:49.358Z"
   },
   {
    "duration": 27,
    "start_time": "2021-07-08T09:02:49.365Z"
   },
   {
    "duration": 8,
    "start_time": "2021-07-08T09:02:49.394Z"
   },
   {
    "duration": 18,
    "start_time": "2021-07-08T09:02:49.404Z"
   },
   {
    "duration": 6,
    "start_time": "2021-07-08T09:02:49.424Z"
   },
   {
    "duration": 11,
    "start_time": "2021-07-08T09:02:49.433Z"
   },
   {
    "duration": 13,
    "start_time": "2021-07-08T09:02:49.485Z"
   },
   {
    "duration": 9,
    "start_time": "2021-07-08T09:02:49.500Z"
   },
   {
    "duration": 38,
    "start_time": "2021-07-08T09:02:49.511Z"
   },
   {
    "duration": 42,
    "start_time": "2021-07-08T09:02:49.551Z"
   },
   {
    "duration": 21,
    "start_time": "2021-07-08T09:02:49.594Z"
   },
   {
    "duration": 6,
    "start_time": "2021-07-08T09:02:49.616Z"
   },
   {
    "duration": 3,
    "start_time": "2021-07-08T09:02:49.623Z"
   },
   {
    "duration": 9,
    "start_time": "2021-07-08T09:02:49.628Z"
   },
   {
    "duration": 52,
    "start_time": "2021-07-08T09:02:49.638Z"
   },
   {
    "duration": 11,
    "start_time": "2021-07-08T09:02:49.692Z"
   },
   {
    "duration": 8,
    "start_time": "2021-07-08T09:02:49.704Z"
   },
   {
    "duration": 27,
    "start_time": "2021-07-08T09:02:49.713Z"
   },
   {
    "duration": 59,
    "start_time": "2021-07-08T09:02:49.741Z"
   },
   {
    "duration": 8,
    "start_time": "2021-07-08T09:02:49.803Z"
   },
   {
    "duration": 14,
    "start_time": "2021-07-08T09:02:49.813Z"
   },
   {
    "duration": 20,
    "start_time": "2021-07-08T09:02:49.829Z"
   },
   {
    "duration": 44,
    "start_time": "2021-07-08T09:02:49.851Z"
   },
   {
    "duration": 14,
    "start_time": "2021-07-08T09:02:49.896Z"
   },
   {
    "duration": 221,
    "start_time": "2021-07-08T09:02:49.912Z"
   },
   {
    "duration": 6,
    "start_time": "2021-07-08T09:02:50.134Z"
   },
   {
    "duration": 206,
    "start_time": "2021-07-08T09:02:50.142Z"
   },
   {
    "duration": 19,
    "start_time": "2021-07-08T09:02:50.350Z"
   },
   {
    "duration": 21,
    "start_time": "2021-07-08T09:02:50.370Z"
   },
   {
    "duration": 20,
    "start_time": "2021-07-08T09:02:50.393Z"
   },
   {
    "duration": 5,
    "start_time": "2021-07-08T09:02:50.414Z"
   },
   {
    "duration": 5,
    "start_time": "2021-07-08T09:03:34.173Z"
   },
   {
    "duration": 6,
    "start_time": "2021-07-08T09:04:49.062Z"
   },
   {
    "duration": 9,
    "start_time": "2021-07-08T09:04:50.118Z"
   },
   {
    "duration": 14,
    "start_time": "2021-07-08T09:04:58.512Z"
   },
   {
    "duration": 9,
    "start_time": "2021-07-08T09:05:10.988Z"
   },
   {
    "duration": 11,
    "start_time": "2021-07-08T09:05:11.743Z"
   },
   {
    "duration": 7,
    "start_time": "2021-07-08T09:05:25.677Z"
   },
   {
    "duration": 13,
    "start_time": "2021-07-08T09:05:47.189Z"
   },
   {
    "duration": 13,
    "start_time": "2021-07-08T09:05:54.755Z"
   },
   {
    "duration": 4,
    "start_time": "2021-07-08T09:06:29.189Z"
   },
   {
    "duration": 244,
    "start_time": "2021-07-08T09:06:29.195Z"
   },
   {
    "duration": 91,
    "start_time": "2021-07-08T09:06:29.441Z"
   },
   {
    "duration": 4,
    "start_time": "2021-07-08T09:06:29.534Z"
   },
   {
    "duration": 28,
    "start_time": "2021-07-08T09:06:29.540Z"
   },
   {
    "duration": 6,
    "start_time": "2021-07-08T09:06:29.570Z"
   },
   {
    "duration": 18,
    "start_time": "2021-07-08T09:06:29.578Z"
   },
   {
    "duration": 5,
    "start_time": "2021-07-08T09:06:29.597Z"
   },
   {
    "duration": 13,
    "start_time": "2021-07-08T09:06:29.605Z"
   },
   {
    "duration": 8,
    "start_time": "2021-07-08T09:06:29.620Z"
   },
   {
    "duration": 7,
    "start_time": "2021-07-08T09:06:29.630Z"
   },
   {
    "duration": 63,
    "start_time": "2021-07-08T09:06:29.639Z"
   },
   {
    "duration": 17,
    "start_time": "2021-07-08T09:06:29.704Z"
   },
   {
    "duration": 20,
    "start_time": "2021-07-08T09:06:29.723Z"
   },
   {
    "duration": 6,
    "start_time": "2021-07-08T09:06:29.745Z"
   },
   {
    "duration": 3,
    "start_time": "2021-07-08T09:06:29.752Z"
   },
   {
    "duration": 7,
    "start_time": "2021-07-08T09:06:29.785Z"
   },
   {
    "duration": 11,
    "start_time": "2021-07-08T09:06:29.794Z"
   },
   {
    "duration": 15,
    "start_time": "2021-07-08T09:06:29.807Z"
   },
   {
    "duration": 8,
    "start_time": "2021-07-08T09:06:29.823Z"
   },
   {
    "duration": 70,
    "start_time": "2021-07-08T09:06:29.832Z"
   },
   {
    "duration": 17,
    "start_time": "2021-07-08T09:06:29.903Z"
   },
   {
    "duration": 9,
    "start_time": "2021-07-08T09:06:29.921Z"
   },
   {
    "duration": 9,
    "start_time": "2021-07-08T09:06:29.932Z"
   },
   {
    "duration": 57,
    "start_time": "2021-07-08T09:06:29.942Z"
   },
   {
    "duration": 11,
    "start_time": "2021-07-08T09:06:30.001Z"
   },
   {
    "duration": 19,
    "start_time": "2021-07-08T09:06:30.016Z"
   },
   {
    "duration": 217,
    "start_time": "2021-07-08T09:06:30.037Z"
   },
   {
    "duration": 6,
    "start_time": "2021-07-08T09:06:30.255Z"
   },
   {
    "duration": 205,
    "start_time": "2021-07-08T09:06:30.263Z"
   },
   {
    "duration": 27,
    "start_time": "2021-07-08T09:06:30.470Z"
   },
   {
    "duration": 11,
    "start_time": "2021-07-08T09:06:30.500Z"
   },
   {
    "duration": 31,
    "start_time": "2021-07-08T09:06:30.513Z"
   },
   {
    "duration": 18,
    "start_time": "2021-07-08T09:06:30.546Z"
   },
   {
    "duration": 11,
    "start_time": "2021-07-08T09:06:30.566Z"
   },
   {
    "duration": 19,
    "start_time": "2021-07-08T09:06:30.579Z"
   },
   {
    "duration": 20,
    "start_time": "2021-07-08T09:06:49.466Z"
   },
   {
    "duration": 9,
    "start_time": "2021-07-08T09:06:51.994Z"
   },
   {
    "duration": 20,
    "start_time": "2021-07-08T09:06:52.273Z"
   },
   {
    "duration": 246,
    "start_time": "2021-07-08T09:10:21.272Z"
   },
   {
    "duration": 84,
    "start_time": "2021-07-08T09:10:21.436Z"
   },
   {
    "duration": 7,
    "start_time": "2021-07-08T09:10:37.608Z"
   },
   {
    "duration": 189,
    "start_time": "2021-07-08T09:10:38.573Z"
   },
   {
    "duration": 185,
    "start_time": "2021-07-08T09:10:53.181Z"
   },
   {
    "duration": 11,
    "start_time": "2021-07-08T09:10:59.549Z"
   },
   {
    "duration": 42,
    "start_time": "2021-07-08T09:10:59.709Z"
   },
   {
    "duration": 12,
    "start_time": "2021-07-08T09:11:02.857Z"
   },
   {
    "duration": 28,
    "start_time": "2021-07-08T09:11:10.062Z"
   },
   {
    "duration": 249,
    "start_time": "2021-07-08T09:11:37.388Z"
   },
   {
    "duration": 232,
    "start_time": "2021-07-08T09:11:49.485Z"
   },
   {
    "duration": 453,
    "start_time": "2021-07-08T09:12:01.546Z"
   },
   {
    "duration": 440,
    "start_time": "2021-07-08T09:12:12.347Z"
   },
   {
    "duration": 213,
    "start_time": "2021-07-08T09:13:32.196Z"
   },
   {
    "duration": 172,
    "start_time": "2021-07-08T09:14:07.400Z"
   },
   {
    "duration": 185,
    "start_time": "2021-07-08T09:14:14.905Z"
   },
   {
    "duration": 209,
    "start_time": "2021-07-08T09:14:40.109Z"
   },
   {
    "duration": 201,
    "start_time": "2021-07-08T09:14:54.506Z"
   },
   {
    "duration": 622,
    "start_time": "2021-07-08T09:18:14.497Z"
   },
   {
    "duration": 220,
    "start_time": "2021-07-08T09:18:15.121Z"
   },
   {
    "duration": 79,
    "start_time": "2021-07-08T09:18:15.343Z"
   },
   {
    "duration": 4,
    "start_time": "2021-07-08T09:18:15.425Z"
   },
   {
    "duration": 24,
    "start_time": "2021-07-08T09:18:15.431Z"
   },
   {
    "duration": 8,
    "start_time": "2021-07-08T09:18:15.457Z"
   },
   {
    "duration": 16,
    "start_time": "2021-07-08T09:18:15.466Z"
   },
   {
    "duration": 5,
    "start_time": "2021-07-08T09:18:15.484Z"
   },
   {
    "duration": 10,
    "start_time": "2021-07-08T09:18:15.493Z"
   },
   {
    "duration": 8,
    "start_time": "2021-07-08T09:18:15.504Z"
   },
   {
    "duration": 7,
    "start_time": "2021-07-08T09:18:15.513Z"
   },
   {
    "duration": 26,
    "start_time": "2021-07-08T09:18:15.522Z"
   },
   {
    "duration": 49,
    "start_time": "2021-07-08T09:18:15.550Z"
   },
   {
    "duration": 21,
    "start_time": "2021-07-08T09:18:15.601Z"
   },
   {
    "duration": 8,
    "start_time": "2021-07-08T09:18:15.624Z"
   },
   {
    "duration": 3,
    "start_time": "2021-07-08T09:18:15.634Z"
   },
   {
    "duration": 8,
    "start_time": "2021-07-08T09:18:15.639Z"
   },
   {
    "duration": 45,
    "start_time": "2021-07-08T09:18:15.649Z"
   },
   {
    "duration": 13,
    "start_time": "2021-07-08T09:18:15.696Z"
   },
   {
    "duration": 10,
    "start_time": "2021-07-08T09:18:15.711Z"
   },
   {
    "duration": 64,
    "start_time": "2021-07-08T09:18:15.722Z"
   },
   {
    "duration": 19,
    "start_time": "2021-07-08T09:18:15.788Z"
   },
   {
    "duration": 9,
    "start_time": "2021-07-08T09:18:15.809Z"
   },
   {
    "duration": 9,
    "start_time": "2021-07-08T09:18:15.820Z"
   },
   {
    "duration": 18,
    "start_time": "2021-07-08T09:18:15.831Z"
   },
   {
    "duration": 43,
    "start_time": "2021-07-08T09:18:15.851Z"
   },
   {
    "duration": 12,
    "start_time": "2021-07-08T09:18:15.897Z"
   },
   {
    "duration": 219,
    "start_time": "2021-07-08T09:18:15.911Z"
   },
   {
    "duration": 8,
    "start_time": "2021-07-08T09:18:16.132Z"
   },
   {
    "duration": 199,
    "start_time": "2021-07-08T09:18:16.141Z"
   },
   {
    "duration": 18,
    "start_time": "2021-07-08T09:18:16.341Z"
   },
   {
    "duration": 24,
    "start_time": "2021-07-08T09:18:16.361Z"
   },
   {
    "duration": 24,
    "start_time": "2021-07-08T09:18:16.387Z"
   },
   {
    "duration": 211,
    "start_time": "2021-07-08T09:18:16.413Z"
   },
   {
    "duration": 18,
    "start_time": "2021-07-08T09:18:16.626Z"
   },
   {
    "duration": 596,
    "start_time": "2021-07-08T10:06:33.623Z"
   },
   {
    "duration": 181,
    "start_time": "2021-07-08T10:06:34.221Z"
   },
   {
    "duration": 176,
    "start_time": "2021-07-08T10:06:34.635Z"
   },
   {
    "duration": 239,
    "start_time": "2021-07-08T10:06:55.572Z"
   },
   {
    "duration": 6,
    "start_time": "2021-07-08T10:06:57.687Z"
   },
   {
    "duration": 4,
    "start_time": "2021-07-08T10:07:03.956Z"
   },
   {
    "duration": 4,
    "start_time": "2021-07-08T10:07:10.376Z"
   },
   {
    "duration": 4,
    "start_time": "2021-07-08T10:17:19.889Z"
   },
   {
    "duration": 3,
    "start_time": "2021-07-08T10:19:19.407Z"
   },
   {
    "duration": 197,
    "start_time": "2021-07-08T10:19:19.412Z"
   },
   {
    "duration": 127,
    "start_time": "2021-07-08T10:19:19.611Z"
   },
   {
    "duration": 4,
    "start_time": "2021-07-08T10:19:19.740Z"
   },
   {
    "duration": 27,
    "start_time": "2021-07-08T10:19:19.746Z"
   },
   {
    "duration": 7,
    "start_time": "2021-07-08T10:19:19.775Z"
   },
   {
    "duration": 30,
    "start_time": "2021-07-08T10:19:19.784Z"
   },
   {
    "duration": 7,
    "start_time": "2021-07-08T10:19:19.817Z"
   },
   {
    "duration": 26,
    "start_time": "2021-07-08T10:19:19.826Z"
   },
   {
    "duration": 18,
    "start_time": "2021-07-08T10:19:19.854Z"
   },
   {
    "duration": 14,
    "start_time": "2021-07-08T10:19:19.874Z"
   },
   {
    "duration": 48,
    "start_time": "2021-07-08T10:19:19.890Z"
   },
   {
    "duration": 17,
    "start_time": "2021-07-08T10:19:19.940Z"
   },
   {
    "duration": 38,
    "start_time": "2021-07-08T10:19:19.959Z"
   },
   {
    "duration": 8,
    "start_time": "2021-07-08T10:19:19.999Z"
   },
   {
    "duration": 15,
    "start_time": "2021-07-08T10:19:20.009Z"
   },
   {
    "duration": 22,
    "start_time": "2021-07-08T10:19:20.026Z"
   },
   {
    "duration": 10,
    "start_time": "2021-07-08T10:19:20.050Z"
   },
   {
    "duration": 10,
    "start_time": "2021-07-08T10:19:20.062Z"
   },
   {
    "duration": 20,
    "start_time": "2021-07-08T10:19:20.073Z"
   },
   {
    "duration": 29,
    "start_time": "2021-07-08T10:19:20.095Z"
   },
   {
    "duration": 17,
    "start_time": "2021-07-08T10:19:20.126Z"
   },
   {
    "duration": 40,
    "start_time": "2021-07-08T10:19:20.146Z"
   },
   {
    "duration": 15,
    "start_time": "2021-07-08T10:19:20.189Z"
   },
   {
    "duration": 19,
    "start_time": "2021-07-08T10:19:20.206Z"
   },
   {
    "duration": 10,
    "start_time": "2021-07-08T10:19:20.226Z"
   },
   {
    "duration": 11,
    "start_time": "2021-07-08T10:19:20.238Z"
   },
   {
    "duration": 297,
    "start_time": "2021-07-08T10:19:20.250Z"
   },
   {
    "duration": 6,
    "start_time": "2021-07-08T10:19:20.549Z"
   },
   {
    "duration": 191,
    "start_time": "2021-07-08T10:19:20.557Z"
   },
   {
    "duration": 19,
    "start_time": "2021-07-08T10:19:20.750Z"
   },
   {
    "duration": 20,
    "start_time": "2021-07-08T10:19:20.771Z"
   },
   {
    "duration": 15,
    "start_time": "2021-07-08T10:19:20.793Z"
   },
   {
    "duration": 222,
    "start_time": "2021-07-08T10:19:20.809Z"
   },
   {
    "duration": 20,
    "start_time": "2021-07-08T10:19:21.033Z"
   },
   {
    "duration": 27,
    "start_time": "2021-07-08T10:45:04.055Z"
   },
   {
    "duration": 8,
    "start_time": "2021-07-08T10:45:08.478Z"
   },
   {
    "duration": 8,
    "start_time": "2021-07-08T10:45:31.982Z"
   },
   {
    "duration": 10,
    "start_time": "2021-07-08T10:46:01.221Z"
   },
   {
    "duration": 17,
    "start_time": "2021-07-08T10:46:40.011Z"
   },
   {
    "duration": 193,
    "start_time": "2021-07-08T10:48:19.471Z"
   },
   {
    "duration": 225,
    "start_time": "2021-07-08T10:49:26.480Z"
   },
   {
    "duration": 204,
    "start_time": "2021-07-08T10:49:59.992Z"
   },
   {
    "duration": 435,
    "start_time": "2021-07-08T10:50:06.779Z"
   },
   {
    "duration": 199,
    "start_time": "2021-07-08T10:50:14.891Z"
   },
   {
    "duration": 204,
    "start_time": "2021-07-08T10:50:18.501Z"
   },
   {
    "duration": 244,
    "start_time": "2021-07-08T10:50:23.359Z"
   },
   {
    "duration": 192,
    "start_time": "2021-07-08T10:50:29.135Z"
   },
   {
    "duration": 218,
    "start_time": "2021-07-08T10:50:33.092Z"
   },
   {
    "duration": 207,
    "start_time": "2021-07-08T10:52:45.381Z"
   },
   {
    "duration": 5,
    "start_time": "2021-07-08T10:53:34.641Z"
   },
   {
    "duration": 196,
    "start_time": "2021-07-08T10:53:41.478Z"
   },
   {
    "duration": 43,
    "start_time": "2021-07-08T10:53:50.335Z"
   },
   {
    "duration": 32,
    "start_time": "2021-07-08T10:53:55.294Z"
   },
   {
    "duration": 55,
    "start_time": "2021-07-08T10:54:09.675Z"
   },
   {
    "duration": 16,
    "start_time": "2021-07-08T10:54:12.260Z"
   },
   {
    "duration": 15,
    "start_time": "2021-07-08T10:54:49.150Z"
   },
   {
    "duration": 20,
    "start_time": "2021-07-08T10:56:07.596Z"
   },
   {
    "duration": 16,
    "start_time": "2021-07-08T10:58:26.276Z"
   },
   {
    "duration": 22,
    "start_time": "2021-07-08T10:59:00.486Z"
   },
   {
    "duration": 18,
    "start_time": "2021-07-08T11:02:09.653Z"
   },
   {
    "duration": 10,
    "start_time": "2021-07-08T11:03:44.331Z"
   },
   {
    "duration": 10,
    "start_time": "2021-07-08T11:03:54.055Z"
   },
   {
    "duration": 12,
    "start_time": "2021-07-08T11:04:41.967Z"
   },
   {
    "duration": 24,
    "start_time": "2021-07-08T11:07:30.732Z"
   },
   {
    "duration": 6,
    "start_time": "2021-07-08T11:07:37.364Z"
   },
   {
    "duration": 16,
    "start_time": "2021-07-08T11:08:01.819Z"
   },
   {
    "duration": 17,
    "start_time": "2021-07-08T11:09:47.488Z"
   },
   {
    "duration": 246,
    "start_time": "2021-07-08T11:10:00.830Z"
   },
   {
    "duration": 18,
    "start_time": "2021-07-08T11:13:55.195Z"
   },
   {
    "duration": 204,
    "start_time": "2021-07-08T11:14:04.951Z"
   },
   {
    "duration": 19,
    "start_time": "2021-07-08T11:15:10.613Z"
   },
   {
    "duration": 680,
    "start_time": "2021-07-08T11:16:25.793Z"
   },
   {
    "duration": 451,
    "start_time": "2021-07-08T11:16:40.313Z"
   },
   {
    "duration": 469,
    "start_time": "2021-07-08T11:17:21.286Z"
   },
   {
    "duration": 20,
    "start_time": "2021-07-08T11:19:12.554Z"
   },
   {
    "duration": 35,
    "start_time": "2021-07-08T11:20:05.484Z"
   },
   {
    "duration": 53,
    "start_time": "2021-07-08T11:21:40.050Z"
   },
   {
    "duration": 13,
    "start_time": "2021-07-08T11:22:26.059Z"
   },
   {
    "duration": 19,
    "start_time": "2021-07-08T11:22:47.419Z"
   },
   {
    "duration": 25,
    "start_time": "2021-07-08T11:23:19.958Z"
   },
   {
    "duration": 29,
    "start_time": "2021-07-08T11:23:25.415Z"
   },
   {
    "duration": 10,
    "start_time": "2021-07-08T11:24:45.138Z"
   },
   {
    "duration": 19,
    "start_time": "2021-07-08T11:24:54.498Z"
   },
   {
    "duration": 12,
    "start_time": "2021-07-08T11:25:32.225Z"
   },
   {
    "duration": 19,
    "start_time": "2021-07-08T11:25:37.092Z"
   },
   {
    "duration": 17,
    "start_time": "2021-07-08T11:25:58.116Z"
   },
   {
    "duration": 15,
    "start_time": "2021-07-08T11:26:02.258Z"
   },
   {
    "duration": 8,
    "start_time": "2021-07-08T11:26:59.682Z"
   },
   {
    "duration": 184,
    "start_time": "2021-07-08T11:27:21.894Z"
   },
   {
    "duration": 8,
    "start_time": "2021-07-08T11:27:23.824Z"
   },
   {
    "duration": 202,
    "start_time": "2021-07-08T11:27:23.962Z"
   },
   {
    "duration": 360,
    "start_time": "2021-07-08T11:28:33.215Z"
   },
   {
    "duration": 231,
    "start_time": "2021-07-08T11:32:05.542Z"
   },
   {
    "duration": 607,
    "start_time": "2021-07-08T11:36:27.854Z"
   },
   {
    "duration": 241,
    "start_time": "2021-07-08T11:36:28.463Z"
   },
   {
    "duration": 67,
    "start_time": "2021-07-08T11:36:28.709Z"
   },
   {
    "duration": 5,
    "start_time": "2021-07-08T11:36:28.778Z"
   },
   {
    "duration": 32,
    "start_time": "2021-07-08T11:36:28.784Z"
   },
   {
    "duration": 11,
    "start_time": "2021-07-08T11:36:28.819Z"
   },
   {
    "duration": 20,
    "start_time": "2021-07-08T11:36:28.834Z"
   },
   {
    "duration": 36,
    "start_time": "2021-07-08T11:36:28.857Z"
   },
   {
    "duration": 16,
    "start_time": "2021-07-08T11:36:28.895Z"
   },
   {
    "duration": 14,
    "start_time": "2021-07-08T11:36:28.913Z"
   },
   {
    "duration": 9,
    "start_time": "2021-07-08T11:36:28.930Z"
   },
   {
    "duration": 55,
    "start_time": "2021-07-08T11:36:28.941Z"
   },
   {
    "duration": 27,
    "start_time": "2021-07-08T11:36:28.999Z"
   },
   {
    "duration": 30,
    "start_time": "2021-07-08T11:36:29.028Z"
   },
   {
    "duration": 31,
    "start_time": "2021-07-08T11:36:29.060Z"
   },
   {
    "duration": 3,
    "start_time": "2021-07-08T11:36:29.093Z"
   },
   {
    "duration": 12,
    "start_time": "2021-07-08T11:36:29.099Z"
   },
   {
    "duration": 11,
    "start_time": "2021-07-08T11:36:29.112Z"
   },
   {
    "duration": 12,
    "start_time": "2021-07-08T11:36:29.125Z"
   },
   {
    "duration": 9,
    "start_time": "2021-07-08T11:36:29.139Z"
   },
   {
    "duration": 31,
    "start_time": "2021-07-08T11:36:29.191Z"
   },
   {
    "duration": 17,
    "start_time": "2021-07-08T11:36:29.226Z"
   },
   {
    "duration": 7,
    "start_time": "2021-07-08T11:36:29.245Z"
   },
   {
    "duration": 10,
    "start_time": "2021-07-08T11:36:29.254Z"
   },
   {
    "duration": 30,
    "start_time": "2021-07-08T11:36:29.292Z"
   },
   {
    "duration": 11,
    "start_time": "2021-07-08T11:36:29.324Z"
   },
   {
    "duration": 11,
    "start_time": "2021-07-08T11:36:29.337Z"
   },
   {
    "duration": 230,
    "start_time": "2021-07-08T11:36:29.349Z"
   },
   {
    "duration": 13,
    "start_time": "2021-07-08T11:36:29.588Z"
   },
   {
    "duration": 205,
    "start_time": "2021-07-08T11:36:29.603Z"
   },
   {
    "duration": 20,
    "start_time": "2021-07-08T11:36:29.810Z"
   },
   {
    "duration": 9,
    "start_time": "2021-07-08T11:36:29.832Z"
   },
   {
    "duration": 16,
    "start_time": "2021-07-08T11:36:29.843Z"
   },
   {
    "duration": 283,
    "start_time": "2021-07-08T11:36:29.861Z"
   },
   {
    "duration": 50,
    "start_time": "2021-07-08T11:36:30.146Z"
   },
   {
    "duration": 14,
    "start_time": "2021-07-08T11:36:30.198Z"
   },
   {
    "duration": 11,
    "start_time": "2021-07-08T11:36:30.214Z"
   },
   {
    "duration": 245,
    "start_time": "2021-07-08T11:36:30.227Z"
   },
   {
    "duration": 439,
    "start_time": "2021-07-08T11:36:30.474Z"
   },
   {
    "duration": 210,
    "start_time": "2021-07-08T11:36:30.915Z"
   },
   {
    "duration": 15,
    "start_time": "2021-07-08T11:36:31.127Z"
   },
   {
    "duration": 17,
    "start_time": "2021-07-08T11:38:20.451Z"
   },
   {
    "duration": 642,
    "start_time": "2021-07-08T11:46:17.881Z"
   },
   {
    "duration": 210,
    "start_time": "2021-07-08T11:46:18.525Z"
   },
   {
    "duration": 104,
    "start_time": "2021-07-08T11:46:18.741Z"
   },
   {
    "duration": 8,
    "start_time": "2021-07-08T11:46:18.847Z"
   },
   {
    "duration": 25,
    "start_time": "2021-07-08T11:46:18.857Z"
   },
   {
    "duration": 14,
    "start_time": "2021-07-08T11:46:18.884Z"
   },
   {
    "duration": 22,
    "start_time": "2021-07-08T11:46:18.900Z"
   },
   {
    "duration": 5,
    "start_time": "2021-07-08T11:46:18.924Z"
   },
   {
    "duration": 13,
    "start_time": "2021-07-08T11:46:18.931Z"
   },
   {
    "duration": 45,
    "start_time": "2021-07-08T11:46:18.946Z"
   },
   {
    "duration": 12,
    "start_time": "2021-07-08T11:46:18.993Z"
   },
   {
    "duration": 38,
    "start_time": "2021-07-08T11:46:19.006Z"
   },
   {
    "duration": 50,
    "start_time": "2021-07-08T11:46:19.046Z"
   },
   {
    "duration": 29,
    "start_time": "2021-07-08T11:46:19.099Z"
   },
   {
    "duration": 7,
    "start_time": "2021-07-08T11:46:19.130Z"
   },
   {
    "duration": 3,
    "start_time": "2021-07-08T11:46:19.139Z"
   },
   {
    "duration": 11,
    "start_time": "2021-07-08T11:46:19.144Z"
   },
   {
    "duration": 40,
    "start_time": "2021-07-08T11:46:19.157Z"
   },
   {
    "duration": 15,
    "start_time": "2021-07-08T11:46:19.199Z"
   },
   {
    "duration": 10,
    "start_time": "2021-07-08T11:46:19.217Z"
   },
   {
    "duration": 68,
    "start_time": "2021-07-08T11:46:19.230Z"
   },
   {
    "duration": 17,
    "start_time": "2021-07-08T11:46:19.301Z"
   },
   {
    "duration": 7,
    "start_time": "2021-07-08T11:46:19.321Z"
   },
   {
    "duration": 11,
    "start_time": "2021-07-08T11:46:19.330Z"
   },
   {
    "duration": 59,
    "start_time": "2021-07-08T11:46:19.343Z"
   },
   {
    "duration": 17,
    "start_time": "2021-07-08T11:46:19.405Z"
   },
   {
    "duration": 16,
    "start_time": "2021-07-08T11:46:19.424Z"
   },
   {
    "duration": 252,
    "start_time": "2021-07-08T11:46:19.443Z"
   },
   {
    "duration": 9,
    "start_time": "2021-07-08T11:46:19.697Z"
   },
   {
    "duration": 224,
    "start_time": "2021-07-08T11:46:19.708Z"
   },
   {
    "duration": 21,
    "start_time": "2021-07-08T11:46:19.934Z"
   },
   {
    "duration": 9,
    "start_time": "2021-07-08T11:46:19.956Z"
   },
   {
    "duration": 32,
    "start_time": "2021-07-08T11:46:19.967Z"
   },
   {
    "duration": 288,
    "start_time": "2021-07-08T11:46:20.004Z"
   },
   {
    "duration": 23,
    "start_time": "2021-07-08T11:46:20.300Z"
   },
   {
    "duration": 11,
    "start_time": "2021-07-08T11:46:20.325Z"
   },
   {
    "duration": 11,
    "start_time": "2021-07-08T11:46:20.339Z"
   },
   {
    "duration": 259,
    "start_time": "2021-07-08T11:46:20.352Z"
   },
   {
    "duration": 438,
    "start_time": "2021-07-08T11:46:20.613Z"
   },
   {
    "duration": 207,
    "start_time": "2021-07-08T11:46:21.054Z"
   },
   {
    "duration": 27,
    "start_time": "2021-07-08T11:46:21.262Z"
   },
   {
    "duration": 19,
    "start_time": "2021-07-08T11:46:21.291Z"
   },
   {
    "duration": 820,
    "start_time": "2021-07-08T11:49:01.655Z"
   },
   {
    "duration": 372,
    "start_time": "2021-07-08T11:49:02.478Z"
   },
   {
    "duration": 98,
    "start_time": "2021-07-08T11:49:02.853Z"
   },
   {
    "duration": 6,
    "start_time": "2021-07-08T11:49:02.953Z"
   },
   {
    "duration": 39,
    "start_time": "2021-07-08T11:49:02.960Z"
   },
   {
    "duration": 9,
    "start_time": "2021-07-08T11:49:03.003Z"
   },
   {
    "duration": 23,
    "start_time": "2021-07-08T11:49:03.014Z"
   },
   {
    "duration": 6,
    "start_time": "2021-07-08T11:49:03.041Z"
   },
   {
    "duration": 20,
    "start_time": "2021-07-08T11:49:03.049Z"
   },
   {
    "duration": 18,
    "start_time": "2021-07-08T11:49:03.084Z"
   },
   {
    "duration": 14,
    "start_time": "2021-07-08T11:49:03.104Z"
   },
   {
    "duration": 39,
    "start_time": "2021-07-08T11:49:03.119Z"
   },
   {
    "duration": 38,
    "start_time": "2021-07-08T11:49:03.160Z"
   },
   {
    "duration": 26,
    "start_time": "2021-07-08T11:49:03.200Z"
   },
   {
    "duration": 7,
    "start_time": "2021-07-08T11:49:03.227Z"
   },
   {
    "duration": 4,
    "start_time": "2021-07-08T11:49:03.236Z"
   },
   {
    "duration": 15,
    "start_time": "2021-07-08T11:49:03.243Z"
   },
   {
    "duration": 21,
    "start_time": "2021-07-08T11:49:03.285Z"
   },
   {
    "duration": 17,
    "start_time": "2021-07-08T11:49:03.309Z"
   },
   {
    "duration": 10,
    "start_time": "2021-07-08T11:49:03.328Z"
   },
   {
    "duration": 65,
    "start_time": "2021-07-08T11:49:03.340Z"
   },
   {
    "duration": 18,
    "start_time": "2021-07-08T11:49:03.407Z"
   },
   {
    "duration": 8,
    "start_time": "2021-07-08T11:49:03.428Z"
   },
   {
    "duration": 15,
    "start_time": "2021-07-08T11:49:03.438Z"
   },
   {
    "duration": 40,
    "start_time": "2021-07-08T11:49:03.455Z"
   },
   {
    "duration": 12,
    "start_time": "2021-07-08T11:49:03.497Z"
   },
   {
    "duration": 29,
    "start_time": "2021-07-08T11:49:03.511Z"
   },
   {
    "duration": 285,
    "start_time": "2021-07-08T11:49:03.542Z"
   },
   {
    "duration": 8,
    "start_time": "2021-07-08T11:49:03.829Z"
   },
   {
    "duration": 227,
    "start_time": "2021-07-08T11:49:03.838Z"
   },
   {
    "duration": 40,
    "start_time": "2021-07-08T11:49:04.066Z"
   },
   {
    "duration": 10,
    "start_time": "2021-07-08T11:49:04.108Z"
   },
   {
    "duration": 26,
    "start_time": "2021-07-08T11:49:04.121Z"
   },
   {
    "duration": 290,
    "start_time": "2021-07-08T11:49:04.149Z"
   },
   {
    "duration": 26,
    "start_time": "2021-07-08T11:49:04.441Z"
   },
   {
    "duration": 31,
    "start_time": "2021-07-08T11:49:04.470Z"
   },
   {
    "duration": 14,
    "start_time": "2021-07-08T11:49:04.503Z"
   },
   {
    "duration": 259,
    "start_time": "2021-07-08T11:49:04.521Z"
   },
   {
    "duration": 480,
    "start_time": "2021-07-08T11:49:04.782Z"
   },
   {
    "duration": 225,
    "start_time": "2021-07-08T11:49:05.264Z"
   },
   {
    "duration": 22,
    "start_time": "2021-07-08T11:49:05.491Z"
   },
   {
    "duration": 24,
    "start_time": "2021-07-08T11:49:05.515Z"
   },
   {
    "duration": 634,
    "start_time": "2021-07-08T11:52:24.960Z"
   },
   {
    "duration": 199,
    "start_time": "2021-07-08T11:52:25.599Z"
   },
   {
    "duration": 106,
    "start_time": "2021-07-08T11:52:25.803Z"
   },
   {
    "duration": 7,
    "start_time": "2021-07-08T11:52:25.911Z"
   },
   {
    "duration": 29,
    "start_time": "2021-07-08T11:52:25.920Z"
   },
   {
    "duration": 7,
    "start_time": "2021-07-08T11:52:25.951Z"
   },
   {
    "duration": 26,
    "start_time": "2021-07-08T11:52:25.961Z"
   },
   {
    "duration": 11,
    "start_time": "2021-07-08T11:52:25.990Z"
   },
   {
    "duration": 29,
    "start_time": "2021-07-08T11:52:26.005Z"
   },
   {
    "duration": 9,
    "start_time": "2021-07-08T11:52:26.036Z"
   },
   {
    "duration": 8,
    "start_time": "2021-07-08T11:52:26.047Z"
   },
   {
    "duration": 63,
    "start_time": "2021-07-08T11:52:26.057Z"
   },
   {
    "duration": 17,
    "start_time": "2021-07-08T11:52:26.122Z"
   },
   {
    "duration": 43,
    "start_time": "2021-07-08T11:52:26.142Z"
   },
   {
    "duration": 17,
    "start_time": "2021-07-08T11:52:26.187Z"
   },
   {
    "duration": 5,
    "start_time": "2021-07-08T11:52:26.206Z"
   },
   {
    "duration": 12,
    "start_time": "2021-07-08T11:52:26.212Z"
   },
   {
    "duration": 11,
    "start_time": "2021-07-08T11:52:26.226Z"
   },
   {
    "duration": 12,
    "start_time": "2021-07-08T11:52:26.238Z"
   },
   {
    "duration": 38,
    "start_time": "2021-07-08T11:52:26.252Z"
   },
   {
    "duration": 40,
    "start_time": "2021-07-08T11:52:26.292Z"
   },
   {
    "duration": 17,
    "start_time": "2021-07-08T11:52:26.336Z"
   },
   {
    "duration": 39,
    "start_time": "2021-07-08T11:52:26.355Z"
   },
   {
    "duration": 11,
    "start_time": "2021-07-08T11:52:26.395Z"
   },
   {
    "duration": 23,
    "start_time": "2021-07-08T11:52:26.408Z"
   },
   {
    "duration": 12,
    "start_time": "2021-07-08T11:52:26.432Z"
   },
   {
    "duration": 41,
    "start_time": "2021-07-08T11:52:26.446Z"
   },
   {
    "duration": 215,
    "start_time": "2021-07-08T11:52:26.493Z"
   },
   {
    "duration": 8,
    "start_time": "2021-07-08T11:52:26.710Z"
   },
   {
    "duration": 228,
    "start_time": "2021-07-08T11:52:26.720Z"
   },
   {
    "duration": 18,
    "start_time": "2021-07-08T11:52:26.950Z"
   },
   {
    "duration": 35,
    "start_time": "2021-07-08T11:52:26.969Z"
   },
   {
    "duration": 23,
    "start_time": "2021-07-08T11:52:27.006Z"
   },
   {
    "duration": 258,
    "start_time": "2021-07-08T11:52:27.030Z"
   },
   {
    "duration": 24,
    "start_time": "2021-07-08T11:52:27.290Z"
   },
   {
    "duration": 12,
    "start_time": "2021-07-08T11:52:27.316Z"
   },
   {
    "duration": 10,
    "start_time": "2021-07-08T11:52:27.329Z"
   },
   {
    "duration": 298,
    "start_time": "2021-07-08T11:52:27.341Z"
   },
   {
    "duration": 436,
    "start_time": "2021-07-08T11:52:27.641Z"
   },
   {
    "duration": 216,
    "start_time": "2021-07-08T11:52:28.079Z"
   },
   {
    "duration": 20,
    "start_time": "2021-07-08T11:52:28.297Z"
   },
   {
    "duration": 17,
    "start_time": "2021-07-08T11:52:28.319Z"
   },
   {
    "duration": 729,
    "start_time": "2022-05-18T10:15:04.611Z"
   },
   {
    "duration": 129,
    "start_time": "2022-05-18T10:15:05.342Z"
   },
   {
    "duration": 201,
    "start_time": "2022-05-18T10:15:05.472Z"
   },
   {
    "duration": 40,
    "start_time": "2022-05-18T10:15:05.675Z"
   },
   {
    "duration": 24,
    "start_time": "2022-05-18T10:15:05.717Z"
   },
   {
    "duration": 108,
    "start_time": "2022-05-18T10:15:05.742Z"
   },
   {
    "duration": 4,
    "start_time": "2022-05-18T10:15:05.851Z"
   },
   {
    "duration": 18,
    "start_time": "2022-05-18T10:15:05.857Z"
   },
   {
    "duration": 18,
    "start_time": "2022-05-18T10:15:05.876Z"
   },
   {
    "duration": 47,
    "start_time": "2022-05-18T10:15:05.896Z"
   },
   {
    "duration": 23,
    "start_time": "2022-05-18T10:15:05.945Z"
   },
   {
    "duration": 4,
    "start_time": "2022-05-18T10:15:05.970Z"
   },
   {
    "duration": 37,
    "start_time": "2022-05-18T10:15:05.975Z"
   },
   {
    "duration": 24,
    "start_time": "2022-05-18T10:15:06.016Z"
   },
   {
    "duration": 22,
    "start_time": "2022-05-18T10:15:06.041Z"
   },
   {
    "duration": 41,
    "start_time": "2022-05-18T10:15:06.065Z"
   },
   {
    "duration": 6,
    "start_time": "2022-05-18T10:15:06.108Z"
   },
   {
    "duration": 45,
    "start_time": "2022-05-18T10:15:06.115Z"
   },
   {
    "duration": 14,
    "start_time": "2022-05-18T10:15:06.161Z"
   },
   {
    "duration": 34,
    "start_time": "2022-05-18T10:15:06.177Z"
   },
   {
    "duration": 37,
    "start_time": "2022-05-18T10:15:06.212Z"
   },
   {
    "duration": 110,
    "start_time": "2022-05-18T10:15:06.251Z"
   },
   {
    "duration": 4,
    "start_time": "2022-05-18T10:15:06.363Z"
   },
   {
    "duration": 20,
    "start_time": "2022-05-18T10:15:06.369Z"
   },
   {
    "duration": 4346,
    "start_time": "2022-05-18T10:15:06.391Z"
   },
   {
    "duration": 12,
    "start_time": "2022-05-18T10:15:10.739Z"
   },
   {
    "duration": 44,
    "start_time": "2022-05-18T10:15:10.753Z"
   },
   {
    "duration": 89,
    "start_time": "2022-05-18T10:15:10.799Z"
   },
   {
    "duration": 185,
    "start_time": "2022-05-18T10:15:10.889Z"
   },
   {
    "duration": 18,
    "start_time": "2022-05-18T10:15:11.076Z"
   },
   {
    "duration": 16,
    "start_time": "2022-05-18T10:15:11.095Z"
   },
   {
    "duration": 76,
    "start_time": "2022-05-18T10:15:11.112Z"
   },
   {
    "duration": 28,
    "start_time": "2022-05-18T10:15:11.189Z"
   },
   {
    "duration": 187,
    "start_time": "2022-05-18T10:15:11.219Z"
   },
   {
    "duration": 185,
    "start_time": "2022-05-18T10:15:11.409Z"
   },
   {
    "duration": 166,
    "start_time": "2022-05-18T10:15:11.596Z"
   },
   {
    "duration": 5,
    "start_time": "2022-05-18T10:15:11.763Z"
   },
   {
    "duration": 4,
    "start_time": "2022-05-18T10:15:11.770Z"
   },
   {
    "duration": 12,
    "start_time": "2022-05-18T10:15:11.776Z"
   },
   {
    "duration": 4,
    "start_time": "2022-05-18T10:15:11.790Z"
   },
   {
    "duration": 8,
    "start_time": "2022-05-18T10:15:11.797Z"
   },
   {
    "duration": 8,
    "start_time": "2022-05-18T10:15:11.833Z"
   },
   {
    "duration": 36,
    "start_time": "2022-05-18T10:15:11.843Z"
   },
   {
    "duration": 440,
    "start_time": "2022-05-18T10:15:11.881Z"
   },
   {
    "duration": 29,
    "start_time": "2022-05-18T10:15:12.330Z"
   },
   {
    "duration": 1695,
    "start_time": "2022-05-18T10:15:12.361Z"
   },
   {
    "duration": 140,
    "start_time": "2022-05-18T10:15:14.058Z"
   },
   {
    "duration": 4,
    "start_time": "2022-05-18T10:15:14.200Z"
   },
   {
    "duration": 25,
    "start_time": "2022-05-18T10:15:14.206Z"
   },
   {
    "duration": 129,
    "start_time": "2022-05-18T10:15:14.233Z"
   },
   {
    "duration": 210,
    "start_time": "2022-05-18T10:15:14.364Z"
   },
   {
    "duration": 123,
    "start_time": "2022-05-18T10:15:14.575Z"
   },
   {
    "duration": 8,
    "start_time": "2022-05-18T10:31:08.166Z"
   },
   {
    "duration": 9,
    "start_time": "2022-05-18T10:54:45.177Z"
   },
   {
    "duration": 241,
    "start_time": "2022-05-18T10:55:23.880Z"
   },
   {
    "duration": 16,
    "start_time": "2022-05-18T10:55:39.918Z"
   },
   {
    "duration": 14,
    "start_time": "2022-05-18T12:07:41.787Z"
   },
   {
    "duration": 11,
    "start_time": "2022-05-18T12:08:28.649Z"
   },
   {
    "duration": 13,
    "start_time": "2022-05-18T12:08:41.799Z"
   },
   {
    "duration": 13,
    "start_time": "2022-05-18T12:08:50.185Z"
   },
   {
    "duration": 20,
    "start_time": "2022-05-18T12:20:47.105Z"
   },
   {
    "duration": 19,
    "start_time": "2022-05-18T12:22:00.569Z"
   },
   {
    "duration": 741,
    "start_time": "2022-05-18T12:27:09.214Z"
   },
   {
    "duration": 336,
    "start_time": "2022-05-18T12:27:09.957Z"
   },
   {
    "duration": 207,
    "start_time": "2022-05-18T12:27:10.295Z"
   },
   {
    "duration": 49,
    "start_time": "2022-05-18T12:27:10.505Z"
   },
   {
    "duration": 14,
    "start_time": "2022-05-18T12:27:10.556Z"
   },
   {
    "duration": 89,
    "start_time": "2022-05-18T12:27:10.572Z"
   },
   {
    "duration": 4,
    "start_time": "2022-05-18T12:27:10.663Z"
   },
   {
    "duration": 26,
    "start_time": "2022-05-18T12:27:10.669Z"
   },
   {
    "duration": 23,
    "start_time": "2022-05-18T12:27:10.697Z"
   },
   {
    "duration": 51,
    "start_time": "2022-05-18T12:27:10.723Z"
   },
   {
    "duration": 17,
    "start_time": "2022-05-18T12:27:10.776Z"
   },
   {
    "duration": 7,
    "start_time": "2022-05-18T12:27:10.794Z"
   },
   {
    "duration": 42,
    "start_time": "2022-05-18T12:27:10.802Z"
   },
   {
    "duration": 6,
    "start_time": "2022-05-18T12:27:10.846Z"
   },
   {
    "duration": 21,
    "start_time": "2022-05-18T12:27:10.854Z"
   },
   {
    "duration": 42,
    "start_time": "2022-05-18T12:27:10.876Z"
   },
   {
    "duration": 17,
    "start_time": "2022-05-18T12:27:10.920Z"
   },
   {
    "duration": 18,
    "start_time": "2022-05-18T12:27:10.938Z"
   },
   {
    "duration": 23,
    "start_time": "2022-05-18T12:27:10.958Z"
   },
   {
    "duration": 18,
    "start_time": "2022-05-18T12:27:10.983Z"
   },
   {
    "duration": 28,
    "start_time": "2022-05-18T12:27:11.003Z"
   },
   {
    "duration": 115,
    "start_time": "2022-05-18T12:27:11.033Z"
   },
   {
    "duration": 5,
    "start_time": "2022-05-18T12:27:11.150Z"
   },
   {
    "duration": 16,
    "start_time": "2022-05-18T12:27:11.157Z"
   },
   {
    "duration": 4197,
    "start_time": "2022-05-18T12:27:11.174Z"
   },
   {
    "duration": 13,
    "start_time": "2022-05-18T12:27:15.373Z"
   },
   {
    "duration": 22,
    "start_time": "2022-05-18T12:27:15.388Z"
   },
   {
    "duration": 115,
    "start_time": "2022-05-18T12:27:15.428Z"
   },
   {
    "duration": 199,
    "start_time": "2022-05-18T12:27:15.544Z"
   },
   {
    "duration": 20,
    "start_time": "2022-05-18T12:27:15.744Z"
   },
   {
    "duration": 10,
    "start_time": "2022-05-18T12:27:15.765Z"
   },
   {
    "duration": 65,
    "start_time": "2022-05-18T12:27:15.777Z"
   },
   {
    "duration": 28,
    "start_time": "2022-05-18T12:27:15.843Z"
   },
   {
    "duration": 171,
    "start_time": "2022-05-18T12:27:15.872Z"
   },
   {
    "duration": 174,
    "start_time": "2022-05-18T12:27:16.045Z"
   },
   {
    "duration": 148,
    "start_time": "2022-05-18T12:27:16.226Z"
   },
   {
    "duration": 5,
    "start_time": "2022-05-18T12:27:16.376Z"
   },
   {
    "duration": 7,
    "start_time": "2022-05-18T12:27:16.382Z"
   },
   {
    "duration": 23,
    "start_time": "2022-05-18T12:27:16.390Z"
   },
   {
    "duration": 5,
    "start_time": "2022-05-18T12:27:16.415Z"
   },
   {
    "duration": 10,
    "start_time": "2022-05-18T12:27:16.433Z"
   },
   {
    "duration": 6,
    "start_time": "2022-05-18T12:27:16.445Z"
   },
   {
    "duration": 34,
    "start_time": "2022-05-18T12:27:16.453Z"
   },
   {
    "duration": 428,
    "start_time": "2022-05-18T12:27:16.489Z"
   },
   {
    "duration": 39,
    "start_time": "2022-05-18T12:27:16.919Z"
   },
   {
    "duration": 1685,
    "start_time": "2022-05-18T12:27:16.960Z"
   },
   {
    "duration": 152,
    "start_time": "2022-05-18T12:27:18.646Z"
   },
   {
    "duration": 4,
    "start_time": "2022-05-18T12:27:18.800Z"
   },
   {
    "duration": 25,
    "start_time": "2022-05-18T12:27:18.805Z"
   },
   {
    "duration": 125,
    "start_time": "2022-05-18T12:27:18.833Z"
   },
   {
    "duration": 204,
    "start_time": "2022-05-18T12:27:18.960Z"
   },
   {
    "duration": 19,
    "start_time": "2022-05-18T12:27:19.165Z"
   },
   {
    "duration": 114,
    "start_time": "2022-05-18T12:28:09.447Z"
   },
   {
    "duration": 692,
    "start_time": "2022-05-18T12:28:47.184Z"
   },
   {
    "duration": 146,
    "start_time": "2022-05-18T12:28:47.878Z"
   },
   {
    "duration": 281,
    "start_time": "2022-05-18T12:28:48.025Z"
   },
   {
    "duration": 52,
    "start_time": "2022-05-18T12:28:48.310Z"
   },
   {
    "duration": 14,
    "start_time": "2022-05-18T12:28:48.364Z"
   },
   {
    "duration": 90,
    "start_time": "2022-05-18T12:28:48.380Z"
   },
   {
    "duration": 4,
    "start_time": "2022-05-18T12:28:48.472Z"
   },
   {
    "duration": 10,
    "start_time": "2022-05-18T12:28:48.477Z"
   },
   {
    "duration": 14,
    "start_time": "2022-05-18T12:28:48.488Z"
   },
   {
    "duration": 59,
    "start_time": "2022-05-18T12:28:48.504Z"
   },
   {
    "duration": 16,
    "start_time": "2022-05-18T12:28:48.564Z"
   },
   {
    "duration": 4,
    "start_time": "2022-05-18T12:28:48.581Z"
   },
   {
    "duration": 43,
    "start_time": "2022-05-18T12:28:48.587Z"
   },
   {
    "duration": 11,
    "start_time": "2022-05-18T12:28:48.637Z"
   },
   {
    "duration": 12,
    "start_time": "2022-05-18T12:28:48.652Z"
   },
   {
    "duration": 37,
    "start_time": "2022-05-18T12:28:48.666Z"
   },
   {
    "duration": 7,
    "start_time": "2022-05-18T12:28:48.704Z"
   },
   {
    "duration": 34,
    "start_time": "2022-05-18T12:28:48.713Z"
   },
   {
    "duration": 20,
    "start_time": "2022-05-18T12:28:48.753Z"
   },
   {
    "duration": 19,
    "start_time": "2022-05-18T12:28:48.775Z"
   },
   {
    "duration": 44,
    "start_time": "2022-05-18T12:28:48.796Z"
   },
   {
    "duration": 128,
    "start_time": "2022-05-18T12:28:48.842Z"
   },
   {
    "duration": 16,
    "start_time": "2022-05-18T12:28:48.972Z"
   },
   {
    "duration": 16,
    "start_time": "2022-05-18T12:28:48.992Z"
   },
   {
    "duration": 4291,
    "start_time": "2022-05-18T12:28:49.010Z"
   },
   {
    "duration": 14,
    "start_time": "2022-05-18T12:28:53.302Z"
   },
   {
    "duration": 30,
    "start_time": "2022-05-18T12:28:53.329Z"
   },
   {
    "duration": 114,
    "start_time": "2022-05-18T12:28:53.362Z"
   },
   {
    "duration": 182,
    "start_time": "2022-05-18T12:28:53.477Z"
   },
   {
    "duration": 19,
    "start_time": "2022-05-18T12:28:53.661Z"
   },
   {
    "duration": 10,
    "start_time": "2022-05-18T12:28:53.681Z"
   },
   {
    "duration": 83,
    "start_time": "2022-05-18T12:28:53.693Z"
   },
   {
    "duration": 24,
    "start_time": "2022-05-18T12:28:53.778Z"
   },
   {
    "duration": 169,
    "start_time": "2022-05-18T12:28:53.804Z"
   },
   {
    "duration": 182,
    "start_time": "2022-05-18T12:28:53.975Z"
   },
   {
    "duration": 161,
    "start_time": "2022-05-18T12:28:54.159Z"
   },
   {
    "duration": 18,
    "start_time": "2022-05-18T12:28:54.321Z"
   },
   {
    "duration": 14,
    "start_time": "2022-05-18T12:28:54.346Z"
   },
   {
    "duration": 12,
    "start_time": "2022-05-18T12:28:54.362Z"
   },
   {
    "duration": 8,
    "start_time": "2022-05-18T12:28:54.375Z"
   },
   {
    "duration": 5,
    "start_time": "2022-05-18T12:28:54.385Z"
   },
   {
    "duration": 5,
    "start_time": "2022-05-18T12:28:54.392Z"
   },
   {
    "duration": 40,
    "start_time": "2022-05-18T12:28:54.398Z"
   },
   {
    "duration": 432,
    "start_time": "2022-05-18T12:28:54.440Z"
   },
   {
    "duration": 26,
    "start_time": "2022-05-18T12:28:54.873Z"
   },
   {
    "duration": 1773,
    "start_time": "2022-05-18T12:28:54.900Z"
   },
   {
    "duration": 144,
    "start_time": "2022-05-18T12:28:56.675Z"
   },
   {
    "duration": 15,
    "start_time": "2022-05-18T12:28:56.821Z"
   },
   {
    "duration": 14,
    "start_time": "2022-05-18T12:28:56.838Z"
   },
   {
    "duration": 131,
    "start_time": "2022-05-18T12:28:56.855Z"
   },
   {
    "duration": 209,
    "start_time": "2022-05-18T12:28:56.988Z"
   },
   {
    "duration": 120,
    "start_time": "2022-05-18T12:28:57.198Z"
   },
   {
    "duration": 897,
    "start_time": "2022-05-18T12:45:21.490Z"
   },
   {
    "duration": 377,
    "start_time": "2022-05-18T12:45:22.388Z"
   },
   {
    "duration": 166,
    "start_time": "2022-05-18T12:45:22.766Z"
   },
   {
    "duration": 28,
    "start_time": "2022-05-18T12:45:22.935Z"
   },
   {
    "duration": 11,
    "start_time": "2022-05-18T12:45:22.965Z"
   },
   {
    "duration": 115,
    "start_time": "2022-05-18T12:45:22.977Z"
   },
   {
    "duration": 3,
    "start_time": "2022-05-18T12:45:23.094Z"
   },
   {
    "duration": 9,
    "start_time": "2022-05-18T12:45:23.099Z"
   },
   {
    "duration": 21,
    "start_time": "2022-05-18T12:45:23.111Z"
   },
   {
    "duration": 24,
    "start_time": "2022-05-18T12:45:23.134Z"
   },
   {
    "duration": 12,
    "start_time": "2022-05-18T12:45:23.159Z"
   },
   {
    "duration": 7,
    "start_time": "2022-05-18T12:45:23.172Z"
   },
   {
    "duration": 49,
    "start_time": "2022-05-18T12:45:23.180Z"
   },
   {
    "duration": 5,
    "start_time": "2022-05-18T12:45:23.230Z"
   },
   {
    "duration": 6,
    "start_time": "2022-05-18T12:45:23.236Z"
   },
   {
    "duration": 31,
    "start_time": "2022-05-18T12:45:23.243Z"
   },
   {
    "duration": 4,
    "start_time": "2022-05-18T12:45:23.276Z"
   },
   {
    "duration": 36,
    "start_time": "2022-05-18T12:45:23.282Z"
   },
   {
    "duration": 18,
    "start_time": "2022-05-18T12:45:23.320Z"
   },
   {
    "duration": 17,
    "start_time": "2022-05-18T12:45:23.340Z"
   },
   {
    "duration": 51,
    "start_time": "2022-05-18T12:45:23.359Z"
   },
   {
    "duration": 104,
    "start_time": "2022-05-18T12:45:23.412Z"
   },
   {
    "duration": 5,
    "start_time": "2022-05-18T12:45:23.517Z"
   },
   {
    "duration": 16,
    "start_time": "2022-05-18T12:45:23.525Z"
   },
   {
    "duration": 5281,
    "start_time": "2022-05-18T12:45:23.542Z"
   },
   {
    "duration": 12,
    "start_time": "2022-05-18T12:45:28.825Z"
   },
   {
    "duration": 19,
    "start_time": "2022-05-18T12:45:28.838Z"
   },
   {
    "duration": 113,
    "start_time": "2022-05-18T12:45:28.861Z"
   },
   {
    "duration": 195,
    "start_time": "2022-05-18T12:45:28.975Z"
   },
   {
    "duration": 20,
    "start_time": "2022-05-18T12:45:29.172Z"
   },
   {
    "duration": 18,
    "start_time": "2022-05-18T12:45:29.193Z"
   },
   {
    "duration": 55,
    "start_time": "2022-05-18T12:45:29.213Z"
   },
   {
    "duration": 46,
    "start_time": "2022-05-18T12:45:29.269Z"
   },
   {
    "duration": 162,
    "start_time": "2022-05-18T12:45:29.317Z"
   },
   {
    "duration": 169,
    "start_time": "2022-05-18T12:45:29.481Z"
   },
   {
    "duration": 153,
    "start_time": "2022-05-18T12:45:29.652Z"
   },
   {
    "duration": 6,
    "start_time": "2022-05-18T12:45:29.807Z"
   },
   {
    "duration": 13,
    "start_time": "2022-05-18T12:45:29.815Z"
   },
   {
    "duration": 13,
    "start_time": "2022-05-18T12:45:29.830Z"
   },
   {
    "duration": 4,
    "start_time": "2022-05-18T12:45:29.845Z"
   },
   {
    "duration": 7,
    "start_time": "2022-05-18T12:45:29.850Z"
   },
   {
    "duration": 6,
    "start_time": "2022-05-18T12:45:29.859Z"
   },
   {
    "duration": 58,
    "start_time": "2022-05-18T12:45:29.866Z"
   },
   {
    "duration": 458,
    "start_time": "2022-05-18T12:45:29.925Z"
   },
   {
    "duration": 43,
    "start_time": "2022-05-18T12:45:30.385Z"
   },
   {
    "duration": 1700,
    "start_time": "2022-05-18T12:45:30.429Z"
   },
   {
    "duration": 165,
    "start_time": "2022-05-18T12:45:32.130Z"
   },
   {
    "duration": 6,
    "start_time": "2022-05-18T12:45:32.302Z"
   },
   {
    "duration": 24,
    "start_time": "2022-05-18T12:45:32.310Z"
   },
   {
    "duration": 146,
    "start_time": "2022-05-18T12:45:32.336Z"
   },
   {
    "duration": 271,
    "start_time": "2022-05-18T12:45:32.484Z"
   },
   {
    "duration": 127,
    "start_time": "2022-05-18T12:45:32.757Z"
   },
   {
    "duration": 82,
    "start_time": "2022-05-18T12:54:52.389Z"
   },
   {
    "duration": 785,
    "start_time": "2022-05-18T12:54:56.980Z"
   },
   {
    "duration": 5,
    "start_time": "2022-05-18T12:55:03.173Z"
   },
   {
    "duration": 8,
    "start_time": "2022-05-18T12:55:12.597Z"
   },
   {
    "duration": 81,
    "start_time": "2022-05-18T12:55:47.043Z"
   },
   {
    "duration": 255,
    "start_time": "2022-05-18T12:56:00.804Z"
   },
   {
    "duration": 16,
    "start_time": "2022-05-18T12:56:36.234Z"
   },
   {
    "duration": 733,
    "start_time": "2022-05-18T12:58:01.431Z"
   },
   {
    "duration": 817,
    "start_time": "2022-05-18T12:58:04.597Z"
   },
   {
    "duration": 15,
    "start_time": "2022-05-18T12:58:10.982Z"
   },
   {
    "duration": 16,
    "start_time": "2022-05-18T12:58:46.132Z"
   },
   {
    "duration": 720,
    "start_time": "2022-05-18T13:01:04.849Z"
   },
   {
    "duration": 125,
    "start_time": "2022-05-18T13:01:27.863Z"
   },
   {
    "duration": 667,
    "start_time": "2022-05-18T13:04:50.972Z"
   },
   {
    "duration": 117,
    "start_time": "2022-05-18T13:04:51.641Z"
   },
   {
    "duration": 150,
    "start_time": "2022-05-18T13:04:51.759Z"
   },
   {
    "duration": 34,
    "start_time": "2022-05-18T13:04:51.911Z"
   },
   {
    "duration": 15,
    "start_time": "2022-05-18T13:04:51.946Z"
   },
   {
    "duration": 126,
    "start_time": "2022-05-18T13:04:51.962Z"
   },
   {
    "duration": 4,
    "start_time": "2022-05-18T13:04:52.090Z"
   },
   {
    "duration": 8,
    "start_time": "2022-05-18T13:04:52.095Z"
   },
   {
    "duration": 12,
    "start_time": "2022-05-18T13:04:52.104Z"
   },
   {
    "duration": 30,
    "start_time": "2022-05-18T13:04:52.119Z"
   },
   {
    "duration": 15,
    "start_time": "2022-05-18T13:04:52.150Z"
   },
   {
    "duration": 4,
    "start_time": "2022-05-18T13:04:52.166Z"
   },
   {
    "duration": 49,
    "start_time": "2022-05-18T13:04:52.171Z"
   },
   {
    "duration": 5,
    "start_time": "2022-05-18T13:04:52.221Z"
   },
   {
    "duration": 3,
    "start_time": "2022-05-18T13:04:52.228Z"
   },
   {
    "duration": 28,
    "start_time": "2022-05-18T13:04:52.233Z"
   },
   {
    "duration": 5,
    "start_time": "2022-05-18T13:04:52.263Z"
   },
   {
    "duration": 40,
    "start_time": "2022-05-18T13:04:52.270Z"
   },
   {
    "duration": 17,
    "start_time": "2022-05-18T13:04:52.312Z"
   },
   {
    "duration": 18,
    "start_time": "2022-05-18T13:04:52.331Z"
   },
   {
    "duration": 21,
    "start_time": "2022-05-18T13:04:52.351Z"
   },
   {
    "duration": 92,
    "start_time": "2022-05-18T13:04:52.374Z"
   },
   {
    "duration": 5,
    "start_time": "2022-05-18T13:04:52.468Z"
   },
   {
    "duration": 35,
    "start_time": "2022-05-18T13:04:52.474Z"
   },
   {
    "duration": 3646,
    "start_time": "2022-05-18T13:04:52.510Z"
   },
   {
    "duration": 15,
    "start_time": "2022-05-18T13:04:56.157Z"
   },
   {
    "duration": 16,
    "start_time": "2022-05-18T13:04:56.173Z"
   },
   {
    "duration": 6,
    "start_time": "2022-05-18T13:04:56.201Z"
   },
   {
    "duration": 205,
    "start_time": "2022-05-18T13:04:56.208Z"
   },
   {
    "duration": 12,
    "start_time": "2022-05-18T13:04:56.414Z"
   },
   {
    "duration": 12,
    "start_time": "2022-05-18T13:04:56.428Z"
   },
   {
    "duration": 11,
    "start_time": "2022-05-18T13:04:56.441Z"
   },
   {
    "duration": 120,
    "start_time": "2022-05-18T13:04:56.454Z"
   },
   {
    "duration": 191,
    "start_time": "2022-05-18T13:04:56.575Z"
   },
   {
    "duration": 16,
    "start_time": "2022-05-18T13:04:56.768Z"
   },
   {
    "duration": 21,
    "start_time": "2022-05-18T13:04:56.785Z"
   },
   {
    "duration": 48,
    "start_time": "2022-05-18T13:04:56.808Z"
   },
   {
    "duration": 25,
    "start_time": "2022-05-18T13:04:56.857Z"
   },
   {
    "duration": 135,
    "start_time": "2022-05-18T13:04:56.901Z"
   },
   {
    "duration": 149,
    "start_time": "2022-05-18T13:04:57.038Z"
   },
   {
    "duration": 121,
    "start_time": "2022-05-18T13:04:57.188Z"
   },
   {
    "duration": 113,
    "start_time": "2022-05-18T13:04:57.310Z"
   },
   {
    "duration": 3,
    "start_time": "2022-05-18T13:04:57.425Z"
   },
   {
    "duration": 3,
    "start_time": "2022-05-18T13:04:57.430Z"
   },
   {
    "duration": 10,
    "start_time": "2022-05-18T13:04:57.435Z"
   },
   {
    "duration": 5,
    "start_time": "2022-05-18T13:05:02.936Z"
   },
   {
    "duration": 8,
    "start_time": "2022-05-18T13:05:37.727Z"
   },
   {
    "duration": 5,
    "start_time": "2022-05-18T13:06:07.333Z"
   },
   {
    "duration": 9,
    "start_time": "2022-05-18T13:06:13.844Z"
   },
   {
    "duration": 55,
    "start_time": "2022-05-18T13:06:27.036Z"
   },
   {
    "duration": 13,
    "start_time": "2022-05-18T13:11:32.689Z"
   },
   {
    "duration": 4,
    "start_time": "2022-05-18T13:14:09.962Z"
   },
   {
    "duration": 4,
    "start_time": "2022-05-18T13:14:13.914Z"
   },
   {
    "duration": 77,
    "start_time": "2022-05-18T13:18:40.249Z"
   },
   {
    "duration": 20,
    "start_time": "2022-05-18T13:18:51.846Z"
   },
   {
    "duration": 16,
    "start_time": "2022-05-18T13:18:56.910Z"
   },
   {
    "duration": 364,
    "start_time": "2022-05-18T13:20:23.307Z"
   },
   {
    "duration": 7,
    "start_time": "2022-05-18T13:20:27.547Z"
   },
   {
    "duration": 13,
    "start_time": "2022-05-18T13:20:33.682Z"
   },
   {
    "duration": 10,
    "start_time": "2022-05-18T13:20:47.938Z"
   },
   {
    "duration": 14,
    "start_time": "2022-05-18T13:23:43.634Z"
   },
   {
    "duration": 23,
    "start_time": "2022-05-18T13:24:36.383Z"
   },
   {
    "duration": 16,
    "start_time": "2022-05-18T13:25:28.893Z"
   },
   {
    "duration": 19,
    "start_time": "2022-05-18T13:25:32.062Z"
   },
   {
    "duration": 21,
    "start_time": "2022-05-18T13:26:43.980Z"
   },
   {
    "duration": 725,
    "start_time": "2022-05-18T13:27:20.858Z"
   },
   {
    "duration": 616,
    "start_time": "2022-05-18T13:27:32.825Z"
   },
   {
    "duration": 22,
    "start_time": "2022-05-18T13:27:39.040Z"
   },
   {
    "duration": 149,
    "start_time": "2022-05-18T13:27:43.976Z"
   },
   {
    "duration": 191,
    "start_time": "2022-05-18T13:28:01.592Z"
   },
   {
    "duration": 135,
    "start_time": "2022-05-18T13:28:55.382Z"
   },
   {
    "duration": 135,
    "start_time": "2022-05-18T13:29:01.365Z"
   },
   {
    "duration": 25,
    "start_time": "2022-05-18T13:34:31.513Z"
   },
   {
    "duration": 351,
    "start_time": "2022-05-18T13:34:35.273Z"
   },
   {
    "duration": 26,
    "start_time": "2022-05-18T13:34:44.854Z"
   },
   {
    "duration": 352,
    "start_time": "2022-05-18T13:34:53.391Z"
   },
   {
    "duration": 8,
    "start_time": "2022-05-18T13:36:04.253Z"
   },
   {
    "duration": 25,
    "start_time": "2022-05-18T13:36:10.892Z"
   },
   {
    "duration": 1328,
    "start_time": "2022-05-18T13:36:13.395Z"
   },
   {
    "duration": 8,
    "start_time": "2022-05-18T13:36:42.891Z"
   },
   {
    "duration": 113,
    "start_time": "2022-05-18T13:36:47.492Z"
   },
   {
    "duration": 4,
    "start_time": "2022-05-18T13:36:50.073Z"
   },
   {
    "duration": 5,
    "start_time": "2022-05-18T13:36:52.001Z"
   },
   {
    "duration": 121,
    "start_time": "2022-05-18T13:36:53.521Z"
   },
   {
    "duration": 227,
    "start_time": "2022-05-18T13:36:58.898Z"
   },
   {
    "duration": 134,
    "start_time": "2022-05-18T13:37:05.914Z"
   },
   {
    "duration": 16,
    "start_time": "2022-05-18T13:42:41.949Z"
   },
   {
    "duration": 10,
    "start_time": "2022-05-18T13:42:45.868Z"
   },
   {
    "duration": 13,
    "start_time": "2022-05-18T13:42:51.627Z"
   },
   {
    "duration": 13,
    "start_time": "2022-05-18T13:43:37.354Z"
   },
   {
    "duration": 14,
    "start_time": "2022-05-18T13:43:48.073Z"
   },
   {
    "duration": 26,
    "start_time": "2022-05-18T13:44:17.489Z"
   },
   {
    "duration": 25,
    "start_time": "2022-05-18T13:46:01.253Z"
   },
   {
    "duration": 26,
    "start_time": "2022-05-18T13:46:44.563Z"
   },
   {
    "duration": 102,
    "start_time": "2022-05-18T13:50:05.354Z"
   },
   {
    "duration": 18,
    "start_time": "2022-05-18T13:52:02.270Z"
   },
   {
    "duration": 12,
    "start_time": "2022-05-18T13:54:33.287Z"
   },
   {
    "duration": 60,
    "start_time": "2022-05-18T13:54:55.470Z"
   },
   {
    "duration": 137,
    "start_time": "2022-05-18T13:54:59.125Z"
   },
   {
    "duration": 12,
    "start_time": "2022-05-18T14:00:13.849Z"
   },
   {
    "duration": 10,
    "start_time": "2022-05-18T14:00:29.959Z"
   },
   {
    "duration": 12,
    "start_time": "2022-05-18T14:00:41.169Z"
   },
   {
    "duration": 10,
    "start_time": "2022-05-18T14:01:09.847Z"
   },
   {
    "duration": 24,
    "start_time": "2022-05-18T14:04:04.991Z"
   },
   {
    "duration": 8,
    "start_time": "2022-05-18T14:17:20.023Z"
   },
   {
    "duration": 13,
    "start_time": "2022-05-18T14:17:29.679Z"
   },
   {
    "duration": 18,
    "start_time": "2022-05-18T14:19:20.551Z"
   },
   {
    "duration": 53,
    "start_time": "2022-05-18T14:22:28.284Z"
   },
   {
    "duration": 6,
    "start_time": "2022-05-18T14:23:26.527Z"
   },
   {
    "duration": 8,
    "start_time": "2022-05-18T14:23:30.925Z"
   },
   {
    "duration": 18,
    "start_time": "2022-05-18T14:23:47.782Z"
   },
   {
    "duration": 681,
    "start_time": "2022-05-18T14:24:13.588Z"
   },
   {
    "duration": 122,
    "start_time": "2022-05-18T14:24:14.271Z"
   },
   {
    "duration": 169,
    "start_time": "2022-05-18T14:24:14.394Z"
   },
   {
    "duration": 30,
    "start_time": "2022-05-18T14:24:14.566Z"
   },
   {
    "duration": 22,
    "start_time": "2022-05-18T14:24:14.598Z"
   },
   {
    "duration": 99,
    "start_time": "2022-05-18T14:24:14.621Z"
   },
   {
    "duration": 3,
    "start_time": "2022-05-18T14:24:14.722Z"
   },
   {
    "duration": 9,
    "start_time": "2022-05-18T14:24:14.727Z"
   },
   {
    "duration": 21,
    "start_time": "2022-05-18T14:24:14.738Z"
   },
   {
    "duration": 29,
    "start_time": "2022-05-18T14:24:14.761Z"
   },
   {
    "duration": 22,
    "start_time": "2022-05-18T14:24:14.792Z"
   },
   {
    "duration": 4,
    "start_time": "2022-05-18T14:24:14.817Z"
   },
   {
    "duration": 19,
    "start_time": "2022-05-18T14:24:14.823Z"
   },
   {
    "duration": 5,
    "start_time": "2022-05-18T14:24:14.844Z"
   },
   {
    "duration": 5,
    "start_time": "2022-05-18T14:24:14.850Z"
   },
   {
    "duration": 49,
    "start_time": "2022-05-18T14:24:14.856Z"
   },
   {
    "duration": 11,
    "start_time": "2022-05-18T14:24:14.908Z"
   },
   {
    "duration": 11,
    "start_time": "2022-05-18T14:24:14.920Z"
   },
   {
    "duration": 15,
    "start_time": "2022-05-18T14:24:14.932Z"
   },
   {
    "duration": 18,
    "start_time": "2022-05-18T14:24:14.949Z"
   },
   {
    "duration": 48,
    "start_time": "2022-05-18T14:24:14.968Z"
   },
   {
    "duration": 94,
    "start_time": "2022-05-18T14:24:15.017Z"
   },
   {
    "duration": 5,
    "start_time": "2022-05-18T14:24:15.116Z"
   },
   {
    "duration": 12,
    "start_time": "2022-05-18T14:24:15.122Z"
   },
   {
    "duration": 4845,
    "start_time": "2022-05-18T14:24:15.136Z"
   },
   {
    "duration": 23,
    "start_time": "2022-05-18T14:24:19.983Z"
   },
   {
    "duration": 20,
    "start_time": "2022-05-18T14:24:20.007Z"
   },
   {
    "duration": 6,
    "start_time": "2022-05-18T14:24:20.030Z"
   },
   {
    "duration": 227,
    "start_time": "2022-05-18T14:24:20.037Z"
   },
   {
    "duration": 12,
    "start_time": "2022-05-18T14:24:20.265Z"
   },
   {
    "duration": 39,
    "start_time": "2022-05-18T14:24:20.278Z"
   },
   {
    "duration": 12,
    "start_time": "2022-05-18T14:24:20.318Z"
   },
   {
    "duration": 17,
    "start_time": "2022-05-18T14:24:20.332Z"
   },
   {
    "duration": 171,
    "start_time": "2022-05-18T14:24:20.350Z"
   },
   {
    "duration": 164,
    "start_time": "2022-05-18T14:24:20.523Z"
   },
   {
    "duration": 30,
    "start_time": "2022-05-18T14:24:20.689Z"
   },
   {
    "duration": 13,
    "start_time": "2022-05-18T14:24:20.721Z"
   },
   {
    "duration": 50,
    "start_time": "2022-05-18T14:24:20.736Z"
   },
   {
    "duration": 34,
    "start_time": "2022-05-18T14:24:20.788Z"
   },
   {
    "duration": 149,
    "start_time": "2022-05-18T14:24:20.823Z"
   },
   {
    "duration": 177,
    "start_time": "2022-05-18T14:24:20.974Z"
   },
   {
    "duration": 190,
    "start_time": "2022-05-18T14:24:21.153Z"
   },
   {
    "duration": 137,
    "start_time": "2022-05-18T14:24:21.345Z"
   },
   {
    "duration": 4,
    "start_time": "2022-05-18T14:24:21.483Z"
   },
   {
    "duration": 5,
    "start_time": "2022-05-18T14:24:21.488Z"
   },
   {
    "duration": 29,
    "start_time": "2022-05-18T14:24:21.494Z"
   },
   {
    "duration": 6,
    "start_time": "2022-05-18T14:24:21.524Z"
   },
   {
    "duration": 51,
    "start_time": "2022-05-18T14:24:21.532Z"
   },
   {
    "duration": 150,
    "start_time": "2022-05-18T14:24:21.585Z"
   },
   {
    "duration": 26,
    "start_time": "2022-05-18T14:24:21.736Z"
   },
   {
    "duration": 432,
    "start_time": "2022-05-18T14:24:21.764Z"
   },
   {
    "duration": 28,
    "start_time": "2022-05-18T14:24:22.202Z"
   },
   {
    "duration": 1287,
    "start_time": "2022-05-18T14:24:22.232Z"
   },
   {
    "duration": 137,
    "start_time": "2022-05-18T14:24:23.520Z"
   },
   {
    "duration": 4,
    "start_time": "2022-05-18T14:24:23.658Z"
   },
   {
    "duration": 11,
    "start_time": "2022-05-18T14:24:23.663Z"
   },
   {
    "duration": 155,
    "start_time": "2022-05-18T14:24:23.676Z"
   },
   {
    "duration": 230,
    "start_time": "2022-05-18T14:24:23.832Z"
   },
   {
    "duration": 154,
    "start_time": "2022-05-18T14:24:24.063Z"
   },
   {
    "duration": 23,
    "start_time": "2022-05-18T14:24:24.218Z"
   },
   {
    "duration": 3,
    "start_time": "2022-05-18T14:27:06.965Z"
   },
   {
    "duration": 292,
    "start_time": "2022-05-18T14:27:50.346Z"
   },
   {
    "duration": 201,
    "start_time": "2022-05-18T14:27:58.043Z"
   },
   {
    "duration": 179,
    "start_time": "2022-05-18T14:29:02.512Z"
   },
   {
    "duration": 203,
    "start_time": "2022-05-18T14:29:17.968Z"
   },
   {
    "duration": 204,
    "start_time": "2022-05-18T14:29:51.024Z"
   },
   {
    "duration": 164,
    "start_time": "2022-05-18T14:30:20.980Z"
   },
   {
    "duration": 175,
    "start_time": "2022-05-18T14:31:39.626Z"
   },
   {
    "duration": 47,
    "start_time": "2022-05-18T14:44:36.387Z"
   },
   {
    "duration": 38,
    "start_time": "2022-05-18T14:44:46.274Z"
   },
   {
    "duration": 288,
    "start_time": "2022-05-18T14:45:45.168Z"
   },
   {
    "duration": 794,
    "start_time": "2022-05-18T14:46:39.480Z"
   },
   {
    "duration": 61,
    "start_time": "2022-05-18T14:46:48.886Z"
   },
   {
    "duration": 1137,
    "start_time": "2022-05-18T14:47:14.957Z"
   },
   {
    "duration": 909,
    "start_time": "2022-05-18T14:47:22.788Z"
   },
   {
    "duration": 716,
    "start_time": "2022-05-18T14:47:45.284Z"
   },
   {
    "duration": 320,
    "start_time": "2022-05-18T14:47:58.315Z"
   },
   {
    "duration": 752,
    "start_time": "2022-05-18T14:54:59.348Z"
   },
   {
    "duration": 136,
    "start_time": "2022-05-18T14:55:00.106Z"
   },
   {
    "duration": 223,
    "start_time": "2022-05-18T14:55:00.243Z"
   },
   {
    "duration": 31,
    "start_time": "2022-05-18T14:55:00.468Z"
   },
   {
    "duration": 24,
    "start_time": "2022-05-18T14:55:00.500Z"
   },
   {
    "duration": 94,
    "start_time": "2022-05-18T14:55:00.526Z"
   },
   {
    "duration": 4,
    "start_time": "2022-05-18T14:55:00.622Z"
   },
   {
    "duration": 9,
    "start_time": "2022-05-18T14:55:00.628Z"
   },
   {
    "duration": 14,
    "start_time": "2022-05-18T14:55:00.639Z"
   },
   {
    "duration": 28,
    "start_time": "2022-05-18T14:55:00.655Z"
   },
   {
    "duration": 32,
    "start_time": "2022-05-18T14:55:00.685Z"
   },
   {
    "duration": 5,
    "start_time": "2022-05-18T14:55:00.718Z"
   },
   {
    "duration": 20,
    "start_time": "2022-05-18T14:55:00.725Z"
   },
   {
    "duration": 5,
    "start_time": "2022-05-18T14:55:00.749Z"
   },
   {
    "duration": 8,
    "start_time": "2022-05-18T14:55:00.757Z"
   },
   {
    "duration": 69,
    "start_time": "2022-05-18T14:55:00.767Z"
   },
   {
    "duration": 6,
    "start_time": "2022-05-18T14:55:00.837Z"
   },
   {
    "duration": 15,
    "start_time": "2022-05-18T14:55:00.844Z"
   },
   {
    "duration": 15,
    "start_time": "2022-05-18T14:55:00.860Z"
   },
   {
    "duration": 41,
    "start_time": "2022-05-18T14:55:00.877Z"
   },
   {
    "duration": 25,
    "start_time": "2022-05-18T14:55:00.919Z"
   },
   {
    "duration": 104,
    "start_time": "2022-05-18T14:55:00.946Z"
   },
   {
    "duration": 6,
    "start_time": "2022-05-18T14:55:01.052Z"
   },
   {
    "duration": 45,
    "start_time": "2022-05-18T14:55:01.060Z"
   },
   {
    "duration": 4523,
    "start_time": "2022-05-18T14:55:01.109Z"
   },
   {
    "duration": 12,
    "start_time": "2022-05-18T14:55:05.634Z"
   },
   {
    "duration": 21,
    "start_time": "2022-05-18T14:55:05.648Z"
   },
   {
    "duration": 7,
    "start_time": "2022-05-18T14:55:05.671Z"
   },
   {
    "duration": 265,
    "start_time": "2022-05-18T14:55:05.680Z"
   },
   {
    "duration": 17,
    "start_time": "2022-05-18T14:55:05.947Z"
   },
   {
    "duration": 62,
    "start_time": "2022-05-18T14:55:05.966Z"
   },
   {
    "duration": 14,
    "start_time": "2022-05-18T14:55:06.030Z"
   },
   {
    "duration": 29,
    "start_time": "2022-05-18T14:55:06.046Z"
   },
   {
    "duration": 169,
    "start_time": "2022-05-18T14:55:06.076Z"
   },
   {
    "duration": 199,
    "start_time": "2022-05-18T14:55:06.247Z"
   },
   {
    "duration": 17,
    "start_time": "2022-05-18T14:55:06.448Z"
   },
   {
    "duration": 16,
    "start_time": "2022-05-18T14:55:06.467Z"
   },
   {
    "duration": 70,
    "start_time": "2022-05-18T14:55:06.485Z"
   },
   {
    "duration": 28,
    "start_time": "2022-05-18T14:55:06.556Z"
   },
   {
    "duration": 177,
    "start_time": "2022-05-18T14:55:06.585Z"
   },
   {
    "duration": 188,
    "start_time": "2022-05-18T14:55:06.765Z"
   },
   {
    "duration": 167,
    "start_time": "2022-05-18T14:55:06.955Z"
   },
   {
    "duration": 161,
    "start_time": "2022-05-18T14:55:07.124Z"
   },
   {
    "duration": 4,
    "start_time": "2022-05-18T14:55:07.287Z"
   },
   {
    "duration": 10,
    "start_time": "2022-05-18T14:55:07.293Z"
   },
   {
    "duration": 23,
    "start_time": "2022-05-18T14:55:07.306Z"
   },
   {
    "duration": 8,
    "start_time": "2022-05-18T14:55:07.331Z"
   },
   {
    "duration": 55,
    "start_time": "2022-05-18T14:55:07.341Z"
   },
   {
    "duration": 190,
    "start_time": "2022-05-18T14:55:07.398Z"
   },
   {
    "duration": 36,
    "start_time": "2022-05-18T14:55:07.589Z"
   },
   {
    "duration": 457,
    "start_time": "2022-05-18T14:55:07.627Z"
   },
   {
    "duration": 39,
    "start_time": "2022-05-18T14:55:08.086Z"
   },
   {
    "duration": 1446,
    "start_time": "2022-05-18T14:55:08.127Z"
   },
   {
    "duration": 157,
    "start_time": "2022-05-18T14:55:09.575Z"
   },
   {
    "duration": 3,
    "start_time": "2022-05-18T14:55:09.734Z"
   },
   {
    "duration": 7,
    "start_time": "2022-05-18T14:55:09.739Z"
   },
   {
    "duration": 181,
    "start_time": "2022-05-18T14:55:09.747Z"
   },
   {
    "duration": 237,
    "start_time": "2022-05-18T14:55:09.930Z"
   },
   {
    "duration": 166,
    "start_time": "2022-05-18T14:55:10.169Z"
   },
   {
    "duration": 406,
    "start_time": "2022-05-18T14:55:10.336Z"
   },
   {
    "duration": 935,
    "start_time": "2022-05-19T06:55:50.480Z"
   },
   {
    "duration": 368,
    "start_time": "2022-05-19T06:55:51.417Z"
   },
   {
    "duration": 194,
    "start_time": "2022-05-19T06:55:51.788Z"
   },
   {
    "duration": 35,
    "start_time": "2022-05-19T06:55:51.998Z"
   },
   {
    "duration": 15,
    "start_time": "2022-05-19T06:55:52.035Z"
   },
   {
    "duration": 129,
    "start_time": "2022-05-19T06:55:52.052Z"
   },
   {
    "duration": 6,
    "start_time": "2022-05-19T06:55:52.183Z"
   },
   {
    "duration": 21,
    "start_time": "2022-05-19T06:55:52.191Z"
   },
   {
    "duration": 19,
    "start_time": "2022-05-19T06:55:52.213Z"
   },
   {
    "duration": 36,
    "start_time": "2022-05-19T06:55:52.234Z"
   },
   {
    "duration": 22,
    "start_time": "2022-05-19T06:55:52.272Z"
   },
   {
    "duration": 5,
    "start_time": "2022-05-19T06:55:52.296Z"
   },
   {
    "duration": 32,
    "start_time": "2022-05-19T06:55:52.303Z"
   },
   {
    "duration": 7,
    "start_time": "2022-05-19T06:55:52.337Z"
   },
   {
    "duration": 25,
    "start_time": "2022-05-19T06:55:52.346Z"
   },
   {
    "duration": 43,
    "start_time": "2022-05-19T06:55:52.372Z"
   },
   {
    "duration": 9,
    "start_time": "2022-05-19T06:55:52.416Z"
   },
   {
    "duration": 11,
    "start_time": "2022-05-19T06:55:52.427Z"
   },
   {
    "duration": 39,
    "start_time": "2022-05-19T06:55:52.440Z"
   },
   {
    "duration": 37,
    "start_time": "2022-05-19T06:55:52.480Z"
   },
   {
    "duration": 26,
    "start_time": "2022-05-19T06:55:52.519Z"
   },
   {
    "duration": 103,
    "start_time": "2022-05-19T06:55:52.547Z"
   },
   {
    "duration": 33,
    "start_time": "2022-05-19T06:55:52.651Z"
   },
   {
    "duration": 14,
    "start_time": "2022-05-19T06:55:52.686Z"
   },
   {
    "duration": 4210,
    "start_time": "2022-05-19T06:55:52.702Z"
   },
   {
    "duration": 14,
    "start_time": "2022-05-19T06:55:56.914Z"
   },
   {
    "duration": 25,
    "start_time": "2022-05-19T06:55:56.930Z"
   },
   {
    "duration": 33,
    "start_time": "2022-05-19T06:55:56.958Z"
   },
   {
    "duration": 255,
    "start_time": "2022-05-19T06:55:56.994Z"
   },
   {
    "duration": 34,
    "start_time": "2022-05-19T06:55:57.251Z"
   },
   {
    "duration": 21,
    "start_time": "2022-05-19T06:55:57.287Z"
   },
   {
    "duration": 15,
    "start_time": "2022-05-19T06:55:57.310Z"
   },
   {
    "duration": 77,
    "start_time": "2022-05-19T06:55:57.327Z"
   },
   {
    "duration": 155,
    "start_time": "2022-05-19T06:55:57.406Z"
   },
   {
    "duration": 235,
    "start_time": "2022-05-19T06:55:57.563Z"
   },
   {
    "duration": 19,
    "start_time": "2022-05-19T06:55:57.801Z"
   },
   {
    "duration": 50,
    "start_time": "2022-05-19T06:55:57.822Z"
   },
   {
    "duration": 81,
    "start_time": "2022-05-19T06:55:57.874Z"
   },
   {
    "duration": 40,
    "start_time": "2022-05-19T06:55:57.957Z"
   },
   {
    "duration": 234,
    "start_time": "2022-05-19T06:55:58.000Z"
   },
   {
    "duration": 202,
    "start_time": "2022-05-19T06:55:58.237Z"
   },
   {
    "duration": 181,
    "start_time": "2022-05-19T06:55:58.441Z"
   },
   {
    "duration": 175,
    "start_time": "2022-05-19T06:55:58.623Z"
   },
   {
    "duration": 5,
    "start_time": "2022-05-19T06:55:58.799Z"
   },
   {
    "duration": 30,
    "start_time": "2022-05-19T06:55:58.806Z"
   },
   {
    "duration": 28,
    "start_time": "2022-05-19T06:55:58.838Z"
   },
   {
    "duration": 57,
    "start_time": "2022-05-19T06:55:58.868Z"
   },
   {
    "duration": 102,
    "start_time": "2022-05-19T06:55:58.927Z"
   },
   {
    "duration": 209,
    "start_time": "2022-05-19T06:55:59.031Z"
   },
   {
    "duration": 47,
    "start_time": "2022-05-19T06:55:59.241Z"
   },
   {
    "duration": 499,
    "start_time": "2022-05-19T06:55:59.291Z"
   },
   {
    "duration": 31,
    "start_time": "2022-05-19T06:55:59.792Z"
   },
   {
    "duration": 1589,
    "start_time": "2022-05-19T06:55:59.825Z"
   },
   {
    "duration": 154,
    "start_time": "2022-05-19T06:56:01.415Z"
   },
   {
    "duration": 5,
    "start_time": "2022-05-19T06:56:01.571Z"
   },
   {
    "duration": 13,
    "start_time": "2022-05-19T06:56:01.588Z"
   },
   {
    "duration": 196,
    "start_time": "2022-05-19T06:56:01.603Z"
   },
   {
    "duration": 343,
    "start_time": "2022-05-19T06:56:01.801Z"
   },
   {
    "duration": 180,
    "start_time": "2022-05-19T06:56:02.146Z"
   },
   {
    "duration": 417,
    "start_time": "2022-05-19T06:56:02.328Z"
   },
   {
    "duration": 20,
    "start_time": "2022-05-19T07:01:56.674Z"
   },
   {
    "duration": 11,
    "start_time": "2022-05-19T07:11:43.613Z"
   },
   {
    "duration": 741,
    "start_time": "2022-05-19T07:45:36.690Z"
   },
   {
    "duration": 123,
    "start_time": "2022-05-19T07:45:37.432Z"
   },
   {
    "duration": 222,
    "start_time": "2022-05-19T07:45:37.556Z"
   },
   {
    "duration": 50,
    "start_time": "2022-05-19T07:45:37.780Z"
   },
   {
    "duration": 17,
    "start_time": "2022-05-19T07:45:37.833Z"
   },
   {
    "duration": 148,
    "start_time": "2022-05-19T07:45:37.852Z"
   },
   {
    "duration": 8,
    "start_time": "2022-05-19T07:45:38.002Z"
   },
   {
    "duration": 11,
    "start_time": "2022-05-19T07:45:38.011Z"
   },
   {
    "duration": 17,
    "start_time": "2022-05-19T07:45:38.024Z"
   },
   {
    "duration": 44,
    "start_time": "2022-05-19T07:45:38.043Z"
   },
   {
    "duration": 35,
    "start_time": "2022-05-19T07:45:38.088Z"
   },
   {
    "duration": 4,
    "start_time": "2022-05-19T07:45:38.126Z"
   },
   {
    "duration": 23,
    "start_time": "2022-05-19T07:45:38.133Z"
   },
   {
    "duration": 25,
    "start_time": "2022-05-19T07:45:38.161Z"
   },
   {
    "duration": 5,
    "start_time": "2022-05-19T07:45:38.188Z"
   },
   {
    "duration": 47,
    "start_time": "2022-05-19T07:45:38.195Z"
   },
   {
    "duration": 8,
    "start_time": "2022-05-19T07:45:38.244Z"
   },
   {
    "duration": 38,
    "start_time": "2022-05-19T07:45:38.254Z"
   },
   {
    "duration": 29,
    "start_time": "2022-05-19T07:45:38.297Z"
   },
   {
    "duration": 26,
    "start_time": "2022-05-19T07:45:38.328Z"
   },
   {
    "duration": 45,
    "start_time": "2022-05-19T07:45:38.356Z"
   },
   {
    "duration": 106,
    "start_time": "2022-05-19T07:45:38.402Z"
   },
   {
    "duration": 7,
    "start_time": "2022-05-19T07:45:38.509Z"
   },
   {
    "duration": 12,
    "start_time": "2022-05-19T07:45:38.517Z"
   },
   {
    "duration": 4230,
    "start_time": "2022-05-19T07:45:38.531Z"
   },
   {
    "duration": 11,
    "start_time": "2022-05-19T07:45:42.763Z"
   },
   {
    "duration": 30,
    "start_time": "2022-05-19T07:45:42.776Z"
   },
   {
    "duration": 7,
    "start_time": "2022-05-19T07:45:42.807Z"
   },
   {
    "duration": 248,
    "start_time": "2022-05-19T07:45:42.815Z"
   },
   {
    "duration": 32,
    "start_time": "2022-05-19T07:45:43.065Z"
   },
   {
    "duration": 17,
    "start_time": "2022-05-19T07:45:43.099Z"
   },
   {
    "duration": 14,
    "start_time": "2022-05-19T07:45:43.118Z"
   },
   {
    "duration": 26,
    "start_time": "2022-05-19T07:45:43.184Z"
   },
   {
    "duration": 144,
    "start_time": "2022-05-19T07:45:43.212Z"
   },
   {
    "duration": 202,
    "start_time": "2022-05-19T07:45:43.358Z"
   },
   {
    "duration": 35,
    "start_time": "2022-05-19T07:45:43.562Z"
   },
   {
    "duration": 16,
    "start_time": "2022-05-19T07:45:43.607Z"
   },
   {
    "duration": 51,
    "start_time": "2022-05-19T07:45:43.624Z"
   },
   {
    "duration": 49,
    "start_time": "2022-05-19T07:45:43.676Z"
   },
   {
    "duration": 185,
    "start_time": "2022-05-19T07:45:43.727Z"
   },
   {
    "duration": 197,
    "start_time": "2022-05-19T07:45:43.917Z"
   },
   {
    "duration": 181,
    "start_time": "2022-05-19T07:45:44.117Z"
   },
   {
    "duration": 162,
    "start_time": "2022-05-19T07:45:44.300Z"
   },
   {
    "duration": 5,
    "start_time": "2022-05-19T07:45:44.463Z"
   },
   {
    "duration": 8,
    "start_time": "2022-05-19T07:45:44.469Z"
   },
   {
    "duration": 18,
    "start_time": "2022-05-19T07:45:44.483Z"
   },
   {
    "duration": 7,
    "start_time": "2022-05-19T07:45:44.508Z"
   },
   {
    "duration": 57,
    "start_time": "2022-05-19T07:45:44.516Z"
   },
   {
    "duration": 223,
    "start_time": "2022-05-19T07:45:44.575Z"
   },
   {
    "duration": 34,
    "start_time": "2022-05-19T07:45:44.804Z"
   },
   {
    "duration": 487,
    "start_time": "2022-05-19T07:45:44.839Z"
   },
   {
    "duration": 28,
    "start_time": "2022-05-19T07:45:45.327Z"
   },
   {
    "duration": 1480,
    "start_time": "2022-05-19T07:45:45.357Z"
   },
   {
    "duration": 181,
    "start_time": "2022-05-19T07:45:46.839Z"
   },
   {
    "duration": 5,
    "start_time": "2022-05-19T07:45:47.021Z"
   },
   {
    "duration": 7,
    "start_time": "2022-05-19T07:45:47.028Z"
   },
   {
    "duration": 178,
    "start_time": "2022-05-19T07:45:47.036Z"
   },
   {
    "duration": 257,
    "start_time": "2022-05-19T07:45:47.216Z"
   },
   {
    "duration": 165,
    "start_time": "2022-05-19T07:45:47.475Z"
   },
   {
    "duration": 459,
    "start_time": "2022-05-19T07:45:47.642Z"
   },
   {
    "duration": 908,
    "start_time": "2022-05-19T08:35:23.432Z"
   },
   {
    "duration": 628,
    "start_time": "2022-05-19T08:35:24.342Z"
   },
   {
    "duration": 248,
    "start_time": "2022-05-19T08:35:24.972Z"
   },
   {
    "duration": 36,
    "start_time": "2022-05-19T08:35:25.222Z"
   },
   {
    "duration": 33,
    "start_time": "2022-05-19T08:35:25.261Z"
   },
   {
    "duration": 138,
    "start_time": "2022-05-19T08:35:25.295Z"
   },
   {
    "duration": 4,
    "start_time": "2022-05-19T08:35:25.435Z"
   },
   {
    "duration": 8,
    "start_time": "2022-05-19T08:35:25.442Z"
   },
   {
    "duration": 15,
    "start_time": "2022-05-19T08:35:25.452Z"
   },
   {
    "duration": 38,
    "start_time": "2022-05-19T08:35:25.470Z"
   },
   {
    "duration": 22,
    "start_time": "2022-05-19T08:35:25.510Z"
   },
   {
    "duration": 5,
    "start_time": "2022-05-19T08:35:25.534Z"
   },
   {
    "duration": 58,
    "start_time": "2022-05-19T08:35:25.541Z"
   },
   {
    "duration": 7,
    "start_time": "2022-05-19T08:35:25.601Z"
   },
   {
    "duration": 6,
    "start_time": "2022-05-19T08:35:25.610Z"
   },
   {
    "duration": 46,
    "start_time": "2022-05-19T08:35:25.618Z"
   },
   {
    "duration": 19,
    "start_time": "2022-05-19T08:35:25.665Z"
   },
   {
    "duration": 25,
    "start_time": "2022-05-19T08:35:25.685Z"
   },
   {
    "duration": 19,
    "start_time": "2022-05-19T08:35:25.712Z"
   },
   {
    "duration": 19,
    "start_time": "2022-05-19T08:35:25.733Z"
   },
   {
    "duration": 42,
    "start_time": "2022-05-19T08:35:25.753Z"
   },
   {
    "duration": 116,
    "start_time": "2022-05-19T08:35:25.798Z"
   },
   {
    "duration": 6,
    "start_time": "2022-05-19T08:35:25.916Z"
   },
   {
    "duration": 15,
    "start_time": "2022-05-19T08:35:25.923Z"
   },
   {
    "duration": 4728,
    "start_time": "2022-05-19T08:35:25.939Z"
   },
   {
    "duration": 23,
    "start_time": "2022-05-19T08:35:30.669Z"
   },
   {
    "duration": 42,
    "start_time": "2022-05-19T08:35:30.695Z"
   },
   {
    "duration": 8,
    "start_time": "2022-05-19T08:35:30.740Z"
   },
   {
    "duration": 255,
    "start_time": "2022-05-19T08:35:30.750Z"
   },
   {
    "duration": 14,
    "start_time": "2022-05-19T08:35:31.007Z"
   },
   {
    "duration": 80,
    "start_time": "2022-05-19T08:35:31.023Z"
   },
   {
    "duration": 16,
    "start_time": "2022-05-19T08:35:31.105Z"
   },
   {
    "duration": 30,
    "start_time": "2022-05-19T08:35:31.122Z"
   },
   {
    "duration": 181,
    "start_time": "2022-05-19T08:35:31.154Z"
   },
   {
    "duration": 195,
    "start_time": "2022-05-19T08:35:31.337Z"
   },
   {
    "duration": 18,
    "start_time": "2022-05-19T08:35:31.533Z"
   },
   {
    "duration": 22,
    "start_time": "2022-05-19T08:35:31.553Z"
   },
   {
    "duration": 68,
    "start_time": "2022-05-19T08:35:31.576Z"
   },
   {
    "duration": 25,
    "start_time": "2022-05-19T08:35:31.645Z"
   },
   {
    "duration": 188,
    "start_time": "2022-05-19T08:35:31.671Z"
   },
   {
    "duration": 201,
    "start_time": "2022-05-19T08:35:31.861Z"
   },
   {
    "duration": 175,
    "start_time": "2022-05-19T08:35:32.064Z"
   },
   {
    "duration": 181,
    "start_time": "2022-05-19T08:35:32.240Z"
   },
   {
    "duration": 5,
    "start_time": "2022-05-19T08:35:32.423Z"
   },
   {
    "duration": 17,
    "start_time": "2022-05-19T08:35:32.430Z"
   },
   {
    "duration": 17,
    "start_time": "2022-05-19T08:35:32.449Z"
   },
   {
    "duration": 20,
    "start_time": "2022-05-19T08:35:32.468Z"
   },
   {
    "duration": 74,
    "start_time": "2022-05-19T08:35:32.492Z"
   },
   {
    "duration": 231,
    "start_time": "2022-05-19T08:35:32.568Z"
   },
   {
    "duration": 34,
    "start_time": "2022-05-19T08:35:32.801Z"
   },
   {
    "duration": 514,
    "start_time": "2022-05-19T08:35:32.840Z"
   },
   {
    "duration": 43,
    "start_time": "2022-05-19T08:35:33.356Z"
   },
   {
    "duration": 1620,
    "start_time": "2022-05-19T08:35:33.401Z"
   },
   {
    "duration": 152,
    "start_time": "2022-05-19T08:35:35.023Z"
   },
   {
    "duration": 6,
    "start_time": "2022-05-19T08:35:35.181Z"
   },
   {
    "duration": 34,
    "start_time": "2022-05-19T08:35:35.189Z"
   },
   {
    "duration": 238,
    "start_time": "2022-05-19T08:35:35.225Z"
   },
   {
    "duration": 374,
    "start_time": "2022-05-19T08:35:35.466Z"
   },
   {
    "duration": 275,
    "start_time": "2022-05-19T08:35:35.843Z"
   },
   {
    "duration": 498,
    "start_time": "2022-05-19T08:35:36.120Z"
   },
   {
    "duration": 1182,
    "start_time": "2022-05-19T09:16:03.118Z"
   },
   {
    "duration": 334,
    "start_time": "2022-05-19T09:16:04.302Z"
   },
   {
    "duration": 228,
    "start_time": "2022-05-19T09:16:04.638Z"
   },
   {
    "duration": 36,
    "start_time": "2022-05-19T09:16:04.869Z"
   },
   {
    "duration": 17,
    "start_time": "2022-05-19T09:16:04.908Z"
   },
   {
    "duration": 139,
    "start_time": "2022-05-19T09:16:04.927Z"
   },
   {
    "duration": 6,
    "start_time": "2022-05-19T09:16:05.068Z"
   },
   {
    "duration": 45,
    "start_time": "2022-05-19T09:16:05.076Z"
   },
   {
    "duration": 35,
    "start_time": "2022-05-19T09:16:05.123Z"
   },
   {
    "duration": 37,
    "start_time": "2022-05-19T09:16:05.160Z"
   },
   {
    "duration": 17,
    "start_time": "2022-05-19T09:16:05.199Z"
   },
   {
    "duration": 8,
    "start_time": "2022-05-19T09:16:05.218Z"
   },
   {
    "duration": 45,
    "start_time": "2022-05-19T09:16:05.228Z"
   },
   {
    "duration": 8,
    "start_time": "2022-05-19T09:16:05.276Z"
   },
   {
    "duration": 54,
    "start_time": "2022-05-19T09:16:05.286Z"
   },
   {
    "duration": 64,
    "start_time": "2022-05-19T09:16:05.342Z"
   },
   {
    "duration": 7,
    "start_time": "2022-05-19T09:16:05.408Z"
   },
   {
    "duration": 47,
    "start_time": "2022-05-19T09:16:05.416Z"
   },
   {
    "duration": 39,
    "start_time": "2022-05-19T09:16:05.464Z"
   },
   {
    "duration": 32,
    "start_time": "2022-05-19T09:16:05.506Z"
   },
   {
    "duration": 33,
    "start_time": "2022-05-19T09:16:05.540Z"
   },
   {
    "duration": 146,
    "start_time": "2022-05-19T09:16:05.576Z"
   },
   {
    "duration": 7,
    "start_time": "2022-05-19T09:16:05.724Z"
   },
   {
    "duration": 31,
    "start_time": "2022-05-19T09:16:05.733Z"
   },
   {
    "duration": 4473,
    "start_time": "2022-05-19T09:16:05.767Z"
   },
   {
    "duration": 12,
    "start_time": "2022-05-19T09:16:10.242Z"
   },
   {
    "duration": 26,
    "start_time": "2022-05-19T09:16:10.256Z"
   },
   {
    "duration": 33,
    "start_time": "2022-05-19T09:16:10.284Z"
   },
   {
    "duration": 222,
    "start_time": "2022-05-19T09:16:10.319Z"
   },
   {
    "duration": 20,
    "start_time": "2022-05-19T09:16:10.543Z"
   },
   {
    "duration": 62,
    "start_time": "2022-05-19T09:16:10.565Z"
   },
   {
    "duration": 18,
    "start_time": "2022-05-19T09:16:10.629Z"
   },
   {
    "duration": 30,
    "start_time": "2022-05-19T09:16:10.649Z"
   },
   {
    "duration": 205,
    "start_time": "2022-05-19T09:16:10.682Z"
   },
   {
    "duration": 235,
    "start_time": "2022-05-19T09:16:10.889Z"
   },
   {
    "duration": 27,
    "start_time": "2022-05-19T09:16:11.127Z"
   },
   {
    "duration": 38,
    "start_time": "2022-05-19T09:16:11.156Z"
   },
   {
    "duration": 67,
    "start_time": "2022-05-19T09:16:11.196Z"
   },
   {
    "duration": 46,
    "start_time": "2022-05-19T09:16:11.266Z"
   },
   {
    "duration": 269,
    "start_time": "2022-05-19T09:16:11.314Z"
   },
   {
    "duration": 240,
    "start_time": "2022-05-19T09:16:11.588Z"
   },
   {
    "duration": 219,
    "start_time": "2022-05-19T09:16:11.832Z"
   },
   {
    "duration": 241,
    "start_time": "2022-05-19T09:16:12.052Z"
   },
   {
    "duration": 17,
    "start_time": "2022-05-19T09:16:12.296Z"
   },
   {
    "duration": 6,
    "start_time": "2022-05-19T09:16:12.315Z"
   },
   {
    "duration": 38,
    "start_time": "2022-05-19T09:16:12.324Z"
   },
   {
    "duration": 23,
    "start_time": "2022-05-19T09:16:12.365Z"
   },
   {
    "duration": 79,
    "start_time": "2022-05-19T09:16:12.390Z"
   },
   {
    "duration": 260,
    "start_time": "2022-05-19T09:16:12.471Z"
   },
   {
    "duration": 32,
    "start_time": "2022-05-19T09:16:12.733Z"
   },
   {
    "duration": 39769,
    "start_time": "2022-05-19T09:16:21.627Z"
   },
   {
    "duration": 113,
    "start_time": "2022-05-19T09:18:41.443Z"
   },
   {
    "duration": 34,
    "start_time": "2022-05-19T09:20:07.729Z"
   },
   {
    "duration": 61,
    "start_time": "2022-05-19T09:20:17.535Z"
   },
   {
    "duration": 71,
    "start_time": "2022-05-19T09:20:30.042Z"
   },
   {
    "duration": 30,
    "start_time": "2022-05-19T09:21:31.773Z"
   },
   {
    "duration": 5,
    "start_time": "2022-05-19T09:34:11.225Z"
   },
   {
    "duration": 6,
    "start_time": "2022-05-19T09:34:17.983Z"
   },
   {
    "duration": 563,
    "start_time": "2022-05-19T09:34:27.581Z"
   },
   {
    "duration": 9,
    "start_time": "2022-05-19T09:34:36.181Z"
   },
   {
    "duration": 12,
    "start_time": "2022-05-19T09:35:50.546Z"
   },
   {
    "duration": 17,
    "start_time": "2022-05-19T09:36:02.722Z"
   },
   {
    "duration": 14,
    "start_time": "2022-05-19T09:36:10.489Z"
   },
   {
    "duration": 704,
    "start_time": "2022-05-19T09:36:29.381Z"
   },
   {
    "duration": 117,
    "start_time": "2022-05-19T09:36:30.087Z"
   },
   {
    "duration": 171,
    "start_time": "2022-05-19T09:36:30.206Z"
   },
   {
    "duration": 34,
    "start_time": "2022-05-19T09:36:30.380Z"
   },
   {
    "duration": 28,
    "start_time": "2022-05-19T09:36:30.415Z"
   },
   {
    "duration": 110,
    "start_time": "2022-05-19T09:36:30.444Z"
   },
   {
    "duration": 4,
    "start_time": "2022-05-19T09:36:30.556Z"
   },
   {
    "duration": 78,
    "start_time": "2022-05-19T09:36:30.561Z"
   },
   {
    "duration": 78,
    "start_time": "2022-05-19T09:36:30.640Z"
   },
   {
    "duration": 50,
    "start_time": "2022-05-19T09:36:30.721Z"
   },
   {
    "duration": 31,
    "start_time": "2022-05-19T09:36:30.773Z"
   },
   {
    "duration": 24,
    "start_time": "2022-05-19T09:36:30.806Z"
   },
   {
    "duration": 49,
    "start_time": "2022-05-19T09:36:30.832Z"
   },
   {
    "duration": 51,
    "start_time": "2022-05-19T09:36:30.883Z"
   },
   {
    "duration": 50,
    "start_time": "2022-05-19T09:36:30.936Z"
   },
   {
    "duration": 64,
    "start_time": "2022-05-19T09:36:30.987Z"
   },
   {
    "duration": 7,
    "start_time": "2022-05-19T09:36:31.052Z"
   },
   {
    "duration": 46,
    "start_time": "2022-05-19T09:36:31.061Z"
   },
   {
    "duration": 78,
    "start_time": "2022-05-19T09:36:31.108Z"
   },
   {
    "duration": 64,
    "start_time": "2022-05-19T09:36:31.191Z"
   },
   {
    "duration": 96,
    "start_time": "2022-05-19T09:36:31.257Z"
   },
   {
    "duration": 118,
    "start_time": "2022-05-19T09:36:31.355Z"
   },
   {
    "duration": 20,
    "start_time": "2022-05-19T09:36:31.477Z"
   },
   {
    "duration": 38,
    "start_time": "2022-05-19T09:36:31.498Z"
   },
   {
    "duration": 105,
    "start_time": "2022-05-19T09:36:31.540Z"
   },
   {
    "duration": 0,
    "start_time": "2022-05-19T09:36:31.649Z"
   },
   {
    "duration": 0,
    "start_time": "2022-05-19T09:36:31.653Z"
   },
   {
    "duration": 0,
    "start_time": "2022-05-19T09:36:31.655Z"
   },
   {
    "duration": 0,
    "start_time": "2022-05-19T09:36:31.656Z"
   },
   {
    "duration": 0,
    "start_time": "2022-05-19T09:36:31.657Z"
   },
   {
    "duration": 1,
    "start_time": "2022-05-19T09:36:31.658Z"
   },
   {
    "duration": 0,
    "start_time": "2022-05-19T09:36:31.660Z"
   },
   {
    "duration": 0,
    "start_time": "2022-05-19T09:36:31.661Z"
   },
   {
    "duration": 0,
    "start_time": "2022-05-19T09:36:31.662Z"
   },
   {
    "duration": 0,
    "start_time": "2022-05-19T09:36:31.664Z"
   },
   {
    "duration": 0,
    "start_time": "2022-05-19T09:36:31.665Z"
   },
   {
    "duration": 0,
    "start_time": "2022-05-19T09:36:31.667Z"
   },
   {
    "duration": 0,
    "start_time": "2022-05-19T09:36:31.668Z"
   },
   {
    "duration": 0,
    "start_time": "2022-05-19T09:36:31.670Z"
   },
   {
    "duration": 0,
    "start_time": "2022-05-19T09:36:31.674Z"
   },
   {
    "duration": 0,
    "start_time": "2022-05-19T09:36:31.675Z"
   },
   {
    "duration": 0,
    "start_time": "2022-05-19T09:36:31.711Z"
   },
   {
    "duration": 0,
    "start_time": "2022-05-19T09:36:31.714Z"
   },
   {
    "duration": 0,
    "start_time": "2022-05-19T09:36:31.715Z"
   },
   {
    "duration": 0,
    "start_time": "2022-05-19T09:36:31.718Z"
   },
   {
    "duration": 0,
    "start_time": "2022-05-19T09:36:31.719Z"
   },
   {
    "duration": 0,
    "start_time": "2022-05-19T09:36:31.721Z"
   },
   {
    "duration": 0,
    "start_time": "2022-05-19T09:36:31.721Z"
   },
   {
    "duration": 0,
    "start_time": "2022-05-19T09:36:31.722Z"
   },
   {
    "duration": 0,
    "start_time": "2022-05-19T09:36:31.723Z"
   },
   {
    "duration": 0,
    "start_time": "2022-05-19T09:36:31.725Z"
   },
   {
    "duration": 0,
    "start_time": "2022-05-19T09:36:31.729Z"
   },
   {
    "duration": 0,
    "start_time": "2022-05-19T09:36:31.730Z"
   },
   {
    "duration": 0,
    "start_time": "2022-05-19T09:36:31.731Z"
   },
   {
    "duration": 0,
    "start_time": "2022-05-19T09:36:31.732Z"
   },
   {
    "duration": 0,
    "start_time": "2022-05-19T09:36:31.733Z"
   },
   {
    "duration": 0,
    "start_time": "2022-05-19T09:36:31.736Z"
   },
   {
    "duration": 0,
    "start_time": "2022-05-19T09:36:31.737Z"
   },
   {
    "duration": 0,
    "start_time": "2022-05-19T09:36:31.738Z"
   },
   {
    "duration": 0,
    "start_time": "2022-05-19T09:36:31.739Z"
   },
   {
    "duration": 0,
    "start_time": "2022-05-19T09:36:31.741Z"
   },
   {
    "duration": 40,
    "start_time": "2022-05-19T09:37:25.151Z"
   },
   {
    "duration": 3897,
    "start_time": "2022-05-19T09:37:53.951Z"
   },
   {
    "duration": 16,
    "start_time": "2022-05-19T09:38:14.403Z"
   },
   {
    "duration": 15,
    "start_time": "2022-05-19T09:38:43.187Z"
   },
   {
    "duration": 5,
    "start_time": "2022-05-19T09:39:38.122Z"
   },
   {
    "duration": 10,
    "start_time": "2022-05-19T09:39:56.209Z"
   },
   {
    "duration": 12,
    "start_time": "2022-05-19T09:40:39.773Z"
   },
   {
    "duration": 680,
    "start_time": "2022-05-19T09:41:30.225Z"
   },
   {
    "duration": 114,
    "start_time": "2022-05-19T09:41:30.907Z"
   },
   {
    "duration": 158,
    "start_time": "2022-05-19T09:41:31.025Z"
   },
   {
    "duration": 32,
    "start_time": "2022-05-19T09:41:31.185Z"
   },
   {
    "duration": 14,
    "start_time": "2022-05-19T09:41:31.219Z"
   },
   {
    "duration": 103,
    "start_time": "2022-05-19T09:41:31.234Z"
   },
   {
    "duration": 4,
    "start_time": "2022-05-19T09:41:31.339Z"
   },
   {
    "duration": 9,
    "start_time": "2022-05-19T09:41:31.345Z"
   },
   {
    "duration": 12,
    "start_time": "2022-05-19T09:41:31.356Z"
   },
   {
    "duration": 31,
    "start_time": "2022-05-19T09:41:31.370Z"
   },
   {
    "duration": 23,
    "start_time": "2022-05-19T09:41:31.403Z"
   },
   {
    "duration": 4,
    "start_time": "2022-05-19T09:41:31.429Z"
   },
   {
    "duration": 28,
    "start_time": "2022-05-19T09:41:31.435Z"
   },
   {
    "duration": 7,
    "start_time": "2022-05-19T09:41:31.465Z"
   },
   {
    "duration": 16,
    "start_time": "2022-05-19T09:41:31.474Z"
   },
   {
    "duration": 57,
    "start_time": "2022-05-19T09:41:31.492Z"
   },
   {
    "duration": 17,
    "start_time": "2022-05-19T09:41:31.551Z"
   },
   {
    "duration": 25,
    "start_time": "2022-05-19T09:41:31.570Z"
   },
   {
    "duration": 26,
    "start_time": "2022-05-19T09:41:31.597Z"
   },
   {
    "duration": 21,
    "start_time": "2022-05-19T09:41:31.626Z"
   },
   {
    "duration": 24,
    "start_time": "2022-05-19T09:41:31.649Z"
   },
   {
    "duration": 101,
    "start_time": "2022-05-19T09:41:31.675Z"
   },
   {
    "duration": 4,
    "start_time": "2022-05-19T09:41:31.778Z"
   },
   {
    "duration": 35,
    "start_time": "2022-05-19T09:41:31.784Z"
   },
   {
    "duration": 4116,
    "start_time": "2022-05-19T09:41:31.821Z"
   },
   {
    "duration": 11,
    "start_time": "2022-05-19T09:41:35.939Z"
   },
   {
    "duration": 18,
    "start_time": "2022-05-19T09:41:35.954Z"
   },
   {
    "duration": 7,
    "start_time": "2022-05-19T09:41:35.973Z"
   },
   {
    "duration": 238,
    "start_time": "2022-05-19T09:41:35.981Z"
   },
   {
    "duration": 13,
    "start_time": "2022-05-19T09:41:36.221Z"
   },
   {
    "duration": 13,
    "start_time": "2022-05-19T09:41:36.236Z"
   },
   {
    "duration": 63,
    "start_time": "2022-05-19T09:41:36.250Z"
   },
   {
    "duration": 16,
    "start_time": "2022-05-19T09:41:36.315Z"
   },
   {
    "duration": 124,
    "start_time": "2022-05-19T09:41:36.332Z"
   },
   {
    "duration": 181,
    "start_time": "2022-05-19T09:41:36.457Z"
   },
   {
    "duration": 18,
    "start_time": "2022-05-19T09:41:36.640Z"
   },
   {
    "duration": 11,
    "start_time": "2022-05-19T09:41:36.660Z"
   },
   {
    "duration": 65,
    "start_time": "2022-05-19T09:41:36.672Z"
   },
   {
    "duration": 24,
    "start_time": "2022-05-19T09:41:36.739Z"
   },
   {
    "duration": 169,
    "start_time": "2022-05-19T09:41:36.765Z"
   },
   {
    "duration": 178,
    "start_time": "2022-05-19T09:41:36.935Z"
   },
   {
    "duration": 168,
    "start_time": "2022-05-19T09:41:37.115Z"
   },
   {
    "duration": 151,
    "start_time": "2022-05-19T09:41:37.286Z"
   },
   {
    "duration": 5,
    "start_time": "2022-05-19T09:41:37.439Z"
   },
   {
    "duration": 17,
    "start_time": "2022-05-19T09:41:37.445Z"
   },
   {
    "duration": 15,
    "start_time": "2022-05-19T09:41:37.464Z"
   },
   {
    "duration": 21,
    "start_time": "2022-05-19T09:41:37.481Z"
   },
   {
    "duration": 58,
    "start_time": "2022-05-19T09:41:37.503Z"
   },
   {
    "duration": 164,
    "start_time": "2022-05-19T09:41:37.563Z"
   },
   {
    "duration": 40,
    "start_time": "2022-05-19T09:41:37.728Z"
   },
   {
    "duration": 171,
    "start_time": "2022-05-19T09:41:37.769Z"
   },
   {
    "duration": 417,
    "start_time": "2022-05-19T09:41:37.942Z"
   },
   {
    "duration": 29,
    "start_time": "2022-05-19T09:41:38.361Z"
   },
   {
    "duration": 1292,
    "start_time": "2022-05-19T09:41:38.392Z"
   },
   {
    "duration": 133,
    "start_time": "2022-05-19T09:41:39.686Z"
   },
   {
    "duration": 4,
    "start_time": "2022-05-19T09:41:39.821Z"
   },
   {
    "duration": 10,
    "start_time": "2022-05-19T09:41:39.826Z"
   },
   {
    "duration": 156,
    "start_time": "2022-05-19T09:41:39.837Z"
   },
   {
    "duration": 232,
    "start_time": "2022-05-19T09:41:39.995Z"
   },
   {
    "duration": 154,
    "start_time": "2022-05-19T09:41:40.228Z"
   },
   {
    "duration": 344,
    "start_time": "2022-05-19T09:41:40.384Z"
   },
   {
    "duration": 24,
    "start_time": "2022-05-19T09:42:40.722Z"
   },
   {
    "duration": 165,
    "start_time": "2022-05-19T09:44:40.779Z"
   },
   {
    "duration": 237,
    "start_time": "2022-05-19T09:47:22.501Z"
   },
   {
    "duration": 224,
    "start_time": "2022-05-19T09:48:32.275Z"
   },
   {
    "duration": 140,
    "start_time": "2022-05-19T09:48:56.047Z"
   },
   {
    "duration": 154,
    "start_time": "2022-05-19T09:49:10.728Z"
   },
   {
    "duration": 151,
    "start_time": "2022-05-19T09:49:15.353Z"
   },
   {
    "duration": 139,
    "start_time": "2022-05-19T09:58:49.093Z"
   },
   {
    "duration": 133,
    "start_time": "2022-05-19T09:59:02.655Z"
   },
   {
    "duration": 291,
    "start_time": "2022-05-19T09:59:11.384Z"
   },
   {
    "duration": 312,
    "start_time": "2022-05-19T09:59:33.304Z"
   },
   {
    "duration": 237,
    "start_time": "2022-05-19T09:59:39.590Z"
   },
   {
    "duration": 305,
    "start_time": "2022-05-19T10:00:01.318Z"
   },
   {
    "duration": 255,
    "start_time": "2022-05-19T10:00:34.249Z"
   },
   {
    "duration": 262,
    "start_time": "2022-05-19T10:00:41.657Z"
   },
   {
    "duration": 259,
    "start_time": "2022-05-19T10:00:55.059Z"
   },
   {
    "duration": 380,
    "start_time": "2022-05-19T10:01:31.386Z"
   },
   {
    "duration": 403,
    "start_time": "2022-05-19T10:01:36.395Z"
   },
   {
    "duration": 285,
    "start_time": "2022-05-19T10:01:44.856Z"
   },
   {
    "duration": 277,
    "start_time": "2022-05-19T10:01:54.162Z"
   },
   {
    "duration": 276,
    "start_time": "2022-05-19T10:02:00.792Z"
   },
   {
    "duration": 246,
    "start_time": "2022-05-19T10:02:05.488Z"
   },
   {
    "duration": 256,
    "start_time": "2022-05-19T10:02:09.552Z"
   },
   {
    "duration": 394,
    "start_time": "2022-05-19T10:02:33.192Z"
   },
   {
    "duration": 258,
    "start_time": "2022-05-19T10:02:50.409Z"
   },
   {
    "duration": 679,
    "start_time": "2022-05-19T10:02:57.980Z"
   },
   {
    "duration": 116,
    "start_time": "2022-05-19T10:02:58.661Z"
   },
   {
    "duration": 159,
    "start_time": "2022-05-19T10:02:58.779Z"
   },
   {
    "duration": 31,
    "start_time": "2022-05-19T10:02:58.941Z"
   },
   {
    "duration": 14,
    "start_time": "2022-05-19T10:02:58.973Z"
   },
   {
    "duration": 102,
    "start_time": "2022-05-19T10:02:58.988Z"
   },
   {
    "duration": 5,
    "start_time": "2022-05-19T10:02:59.092Z"
   },
   {
    "duration": 22,
    "start_time": "2022-05-19T10:02:59.099Z"
   },
   {
    "duration": 25,
    "start_time": "2022-05-19T10:02:59.123Z"
   },
   {
    "duration": 29,
    "start_time": "2022-05-19T10:02:59.150Z"
   },
   {
    "duration": 13,
    "start_time": "2022-05-19T10:02:59.181Z"
   },
   {
    "duration": 4,
    "start_time": "2022-05-19T10:02:59.196Z"
   },
   {
    "duration": 26,
    "start_time": "2022-05-19T10:02:59.202Z"
   },
   {
    "duration": 5,
    "start_time": "2022-05-19T10:02:59.230Z"
   },
   {
    "duration": 5,
    "start_time": "2022-05-19T10:02:59.236Z"
   },
   {
    "duration": 30,
    "start_time": "2022-05-19T10:02:59.242Z"
   },
   {
    "duration": 5,
    "start_time": "2022-05-19T10:02:59.274Z"
   },
   {
    "duration": 38,
    "start_time": "2022-05-19T10:02:59.281Z"
   },
   {
    "duration": 15,
    "start_time": "2022-05-19T10:02:59.321Z"
   },
   {
    "duration": 23,
    "start_time": "2022-05-19T10:02:59.338Z"
   },
   {
    "duration": 22,
    "start_time": "2022-05-19T10:02:59.362Z"
   },
   {
    "duration": 132,
    "start_time": "2022-05-19T10:02:59.385Z"
   },
   {
    "duration": 5,
    "start_time": "2022-05-19T10:02:59.518Z"
   },
   {
    "duration": 11,
    "start_time": "2022-05-19T10:02:59.524Z"
   },
   {
    "duration": 4028,
    "start_time": "2022-05-19T10:02:59.536Z"
   },
   {
    "duration": 12,
    "start_time": "2022-05-19T10:03:03.566Z"
   },
   {
    "duration": 34,
    "start_time": "2022-05-19T10:03:03.580Z"
   },
   {
    "duration": 7,
    "start_time": "2022-05-19T10:03:03.617Z"
   },
   {
    "duration": 239,
    "start_time": "2022-05-19T10:03:03.626Z"
   },
   {
    "duration": 14,
    "start_time": "2022-05-19T10:03:03.867Z"
   },
   {
    "duration": 41,
    "start_time": "2022-05-19T10:03:03.882Z"
   },
   {
    "duration": 12,
    "start_time": "2022-05-19T10:03:03.925Z"
   },
   {
    "duration": 16,
    "start_time": "2022-05-19T10:03:03.939Z"
   },
   {
    "duration": 172,
    "start_time": "2022-05-19T10:03:03.957Z"
   },
   {
    "duration": 191,
    "start_time": "2022-05-19T10:03:04.131Z"
   },
   {
    "duration": 18,
    "start_time": "2022-05-19T10:03:04.323Z"
   },
   {
    "duration": 13,
    "start_time": "2022-05-19T10:03:04.342Z"
   },
   {
    "duration": 62,
    "start_time": "2022-05-19T10:03:04.357Z"
   },
   {
    "duration": 25,
    "start_time": "2022-05-19T10:03:04.421Z"
   },
   {
    "duration": 250,
    "start_time": "2022-05-19T10:03:07.774Z"
   },
   {
    "duration": 251,
    "start_time": "2022-05-19T10:03:11.827Z"
   },
   {
    "duration": 332,
    "start_time": "2022-05-19T10:03:16.526Z"
   },
   {
    "duration": 222,
    "start_time": "2022-05-19T10:03:19.892Z"
   },
   {
    "duration": 253,
    "start_time": "2022-05-19T10:05:26.231Z"
   },
   {
    "duration": 260,
    "start_time": "2022-05-19T10:05:29.592Z"
   },
   {
    "duration": 259,
    "start_time": "2022-05-19T10:05:38.576Z"
   },
   {
    "duration": 244,
    "start_time": "2022-05-19T10:05:45.550Z"
   },
   {
    "duration": 425,
    "start_time": "2022-05-19T10:06:51.672Z"
   },
   {
    "duration": 255,
    "start_time": "2022-05-19T10:07:20.379Z"
   },
   {
    "duration": 274,
    "start_time": "2022-05-19T10:08:44.968Z"
   },
   {
    "duration": 264,
    "start_time": "2022-05-19T10:09:03.712Z"
   },
   {
    "duration": 258,
    "start_time": "2022-05-19T10:09:19.383Z"
   },
   {
    "duration": 733,
    "start_time": "2022-05-19T10:12:21.445Z"
   },
   {
    "duration": 124,
    "start_time": "2022-05-19T10:12:22.181Z"
   },
   {
    "duration": 181,
    "start_time": "2022-05-19T10:12:22.307Z"
   },
   {
    "duration": 31,
    "start_time": "2022-05-19T10:12:22.491Z"
   },
   {
    "duration": 15,
    "start_time": "2022-05-19T10:12:22.524Z"
   },
   {
    "duration": 109,
    "start_time": "2022-05-19T10:12:22.540Z"
   },
   {
    "duration": 4,
    "start_time": "2022-05-19T10:12:22.651Z"
   },
   {
    "duration": 34,
    "start_time": "2022-05-19T10:12:22.656Z"
   },
   {
    "duration": 16,
    "start_time": "2022-05-19T10:12:22.692Z"
   },
   {
    "duration": 30,
    "start_time": "2022-05-19T10:12:22.710Z"
   },
   {
    "duration": 15,
    "start_time": "2022-05-19T10:12:22.741Z"
   },
   {
    "duration": 4,
    "start_time": "2022-05-19T10:12:22.758Z"
   },
   {
    "duration": 21,
    "start_time": "2022-05-19T10:12:22.764Z"
   },
   {
    "duration": 30,
    "start_time": "2022-05-19T10:12:22.787Z"
   },
   {
    "duration": 11,
    "start_time": "2022-05-19T10:12:22.819Z"
   },
   {
    "duration": 55,
    "start_time": "2022-05-19T10:12:22.832Z"
   },
   {
    "duration": 7,
    "start_time": "2022-05-19T10:12:22.889Z"
   },
   {
    "duration": 24,
    "start_time": "2022-05-19T10:12:22.898Z"
   },
   {
    "duration": 25,
    "start_time": "2022-05-19T10:12:22.923Z"
   },
   {
    "duration": 38,
    "start_time": "2022-05-19T10:12:22.949Z"
   },
   {
    "duration": 22,
    "start_time": "2022-05-19T10:12:22.989Z"
   },
   {
    "duration": 100,
    "start_time": "2022-05-19T10:12:23.013Z"
   },
   {
    "duration": 5,
    "start_time": "2022-05-19T10:12:23.116Z"
   },
   {
    "duration": 31,
    "start_time": "2022-05-19T10:12:23.123Z"
   },
   {
    "duration": 3897,
    "start_time": "2022-05-19T10:12:23.156Z"
   },
   {
    "duration": 11,
    "start_time": "2022-05-19T10:12:27.055Z"
   },
   {
    "duration": 18,
    "start_time": "2022-05-19T10:12:27.068Z"
   },
   {
    "duration": 26,
    "start_time": "2022-05-19T10:12:27.089Z"
   },
   {
    "duration": 245,
    "start_time": "2022-05-19T10:12:27.116Z"
   },
   {
    "duration": 15,
    "start_time": "2022-05-19T10:12:27.362Z"
   },
   {
    "duration": 43,
    "start_time": "2022-05-19T10:12:27.378Z"
   },
   {
    "duration": 17,
    "start_time": "2022-05-19T10:12:27.422Z"
   },
   {
    "duration": 23,
    "start_time": "2022-05-19T10:12:32.386Z"
   },
   {
    "duration": 26,
    "start_time": "2022-05-19T10:13:15.471Z"
   },
   {
    "duration": 21,
    "start_time": "2022-05-19T10:13:22.685Z"
   },
   {
    "duration": 153,
    "start_time": "2022-05-19T10:13:22.709Z"
   },
   {
    "duration": 321,
    "start_time": "2022-05-19T10:13:22.864Z"
   },
   {
    "duration": 18,
    "start_time": "2022-05-19T10:13:23.187Z"
   },
   {
    "duration": 12,
    "start_time": "2022-05-19T10:13:23.206Z"
   },
   {
    "duration": 48,
    "start_time": "2022-05-19T10:13:23.219Z"
   },
   {
    "duration": 30,
    "start_time": "2022-05-19T10:13:23.269Z"
   },
   {
    "duration": 269,
    "start_time": "2022-05-19T10:13:23.312Z"
   },
   {
    "duration": 279,
    "start_time": "2022-05-19T10:13:23.583Z"
   },
   {
    "duration": 342,
    "start_time": "2022-05-19T10:13:23.865Z"
   },
   {
    "duration": 247,
    "start_time": "2022-05-19T10:13:24.208Z"
   },
   {
    "duration": 4,
    "start_time": "2022-05-19T10:13:24.456Z"
   },
   {
    "duration": 4,
    "start_time": "2022-05-19T10:13:24.462Z"
   },
   {
    "duration": 13,
    "start_time": "2022-05-19T10:13:24.467Z"
   },
   {
    "duration": 7,
    "start_time": "2022-05-19T10:13:24.481Z"
   },
   {
    "duration": 71,
    "start_time": "2022-05-19T10:13:24.490Z"
   },
   {
    "duration": 185,
    "start_time": "2022-05-19T10:13:24.563Z"
   },
   {
    "duration": 34,
    "start_time": "2022-05-19T10:13:24.750Z"
   },
   {
    "duration": 72,
    "start_time": "2022-05-19T10:13:24.786Z"
   },
   {
    "duration": 419,
    "start_time": "2022-05-19T10:13:24.860Z"
   },
   {
    "duration": 32,
    "start_time": "2022-05-19T10:13:25.281Z"
   },
   {
    "duration": 1451,
    "start_time": "2022-05-19T10:13:25.315Z"
   },
   {
    "duration": 138,
    "start_time": "2022-05-19T10:13:26.767Z"
   },
   {
    "duration": 5,
    "start_time": "2022-05-19T10:13:26.912Z"
   },
   {
    "duration": 7,
    "start_time": "2022-05-19T10:13:26.919Z"
   },
   {
    "duration": 184,
    "start_time": "2022-05-19T10:13:26.928Z"
   },
   {
    "duration": 310,
    "start_time": "2022-05-19T10:13:27.114Z"
   },
   {
    "duration": 167,
    "start_time": "2022-05-19T10:13:27.427Z"
   },
   {
    "duration": 284,
    "start_time": "2022-05-19T10:13:27.596Z"
   },
   {
    "duration": 705,
    "start_time": "2022-05-19T10:14:48.477Z"
   },
   {
    "duration": 266,
    "start_time": "2022-05-19T10:15:49.262Z"
   },
   {
    "duration": 267,
    "start_time": "2022-05-19T10:15:56.490Z"
   },
   {
    "duration": 490,
    "start_time": "2022-05-19T10:17:03.756Z"
   },
   {
    "duration": 416,
    "start_time": "2022-05-19T10:19:00.571Z"
   },
   {
    "duration": 386,
    "start_time": "2022-05-19T10:19:27.528Z"
   },
   {
    "duration": 594,
    "start_time": "2022-05-19T10:19:34.482Z"
   },
   {
    "duration": 426,
    "start_time": "2022-05-19T10:19:37.776Z"
   },
   {
    "duration": 553,
    "start_time": "2022-05-19T10:19:44.170Z"
   },
   {
    "duration": 591,
    "start_time": "2022-05-19T10:20:55.998Z"
   },
   {
    "duration": 766,
    "start_time": "2022-05-19T10:21:35.158Z"
   },
   {
    "duration": 725,
    "start_time": "2022-05-19T10:21:41.429Z"
   },
   {
    "duration": 804,
    "start_time": "2022-05-19T10:24:29.554Z"
   },
   {
    "duration": 672,
    "start_time": "2022-05-19T10:25:49.474Z"
   },
   {
    "duration": 670,
    "start_time": "2022-05-19T10:25:56.073Z"
   },
   {
    "duration": 523,
    "start_time": "2022-05-19T10:26:28.906Z"
   },
   {
    "duration": 775,
    "start_time": "2022-05-19T10:26:37.400Z"
   },
   {
    "duration": 67,
    "start_time": "2022-05-19T10:26:44.727Z"
   },
   {
    "duration": 553,
    "start_time": "2022-05-19T10:26:49.424Z"
   },
   {
    "duration": 511,
    "start_time": "2022-05-19T10:26:56.855Z"
   },
   {
    "duration": 534,
    "start_time": "2022-05-19T10:28:33.791Z"
   },
   {
    "duration": 911,
    "start_time": "2022-05-19T10:31:01.391Z"
   },
   {
    "duration": 667,
    "start_time": "2022-05-19T11:26:10.238Z"
   },
   {
    "duration": 130,
    "start_time": "2022-05-19T11:26:10.906Z"
   },
   {
    "duration": 200,
    "start_time": "2022-05-19T11:26:11.038Z"
   },
   {
    "duration": 45,
    "start_time": "2022-05-19T11:26:11.241Z"
   },
   {
    "duration": 15,
    "start_time": "2022-05-19T11:26:11.288Z"
   },
   {
    "duration": 116,
    "start_time": "2022-05-19T11:26:11.305Z"
   },
   {
    "duration": 3,
    "start_time": "2022-05-19T11:26:11.423Z"
   },
   {
    "duration": 8,
    "start_time": "2022-05-19T11:26:11.428Z"
   },
   {
    "duration": 11,
    "start_time": "2022-05-19T11:26:11.438Z"
   },
   {
    "duration": 69,
    "start_time": "2022-05-19T11:26:11.452Z"
   },
   {
    "duration": 15,
    "start_time": "2022-05-19T11:26:11.523Z"
   },
   {
    "duration": 4,
    "start_time": "2022-05-19T11:26:11.539Z"
   },
   {
    "duration": 23,
    "start_time": "2022-05-19T11:26:11.544Z"
   },
   {
    "duration": 11,
    "start_time": "2022-05-19T11:26:11.568Z"
   },
   {
    "duration": 13,
    "start_time": "2022-05-19T11:26:11.581Z"
   },
   {
    "duration": 31,
    "start_time": "2022-05-19T11:26:11.596Z"
   },
   {
    "duration": 6,
    "start_time": "2022-05-19T11:26:11.629Z"
   },
   {
    "duration": 11,
    "start_time": "2022-05-19T11:26:11.636Z"
   },
   {
    "duration": 41,
    "start_time": "2022-05-19T11:26:11.648Z"
   },
   {
    "duration": 24,
    "start_time": "2022-05-19T11:26:11.691Z"
   },
   {
    "duration": 21,
    "start_time": "2022-05-19T11:26:11.717Z"
   },
   {
    "duration": 97,
    "start_time": "2022-05-19T11:26:11.741Z"
   },
   {
    "duration": 5,
    "start_time": "2022-05-19T11:26:11.839Z"
   },
   {
    "duration": 40,
    "start_time": "2022-05-19T11:26:11.846Z"
   },
   {
    "duration": 4245,
    "start_time": "2022-05-19T11:26:11.888Z"
   },
   {
    "duration": 11,
    "start_time": "2022-05-19T11:26:16.134Z"
   },
   {
    "duration": 42,
    "start_time": "2022-05-19T11:26:16.146Z"
   },
   {
    "duration": 8,
    "start_time": "2022-05-19T11:26:16.192Z"
   },
   {
    "duration": 228,
    "start_time": "2022-05-19T11:26:16.202Z"
   },
   {
    "duration": 13,
    "start_time": "2022-05-19T11:26:16.431Z"
   },
   {
    "duration": 45,
    "start_time": "2022-05-19T11:26:16.445Z"
   },
   {
    "duration": 13,
    "start_time": "2022-05-19T11:26:16.492Z"
   },
   {
    "duration": 20,
    "start_time": "2022-05-19T11:26:16.507Z"
   },
   {
    "duration": 188,
    "start_time": "2022-05-19T11:26:16.529Z"
   },
   {
    "duration": 184,
    "start_time": "2022-05-19T11:26:16.718Z"
   },
   {
    "duration": 17,
    "start_time": "2022-05-19T11:26:16.903Z"
   },
   {
    "duration": 11,
    "start_time": "2022-05-19T11:26:16.921Z"
   },
   {
    "duration": 63,
    "start_time": "2022-05-19T11:26:16.934Z"
   },
   {
    "duration": 23,
    "start_time": "2022-05-19T11:26:16.999Z"
   },
   {
    "duration": 265,
    "start_time": "2022-05-19T11:26:17.023Z"
   },
   {
    "duration": 267,
    "start_time": "2022-05-19T11:26:17.290Z"
   },
   {
    "duration": 331,
    "start_time": "2022-05-19T11:26:17.559Z"
   },
   {
    "duration": 218,
    "start_time": "2022-05-19T11:26:17.891Z"
   },
   {
    "duration": 4,
    "start_time": "2022-05-19T11:26:18.111Z"
   },
   {
    "duration": 5,
    "start_time": "2022-05-19T11:26:18.116Z"
   },
   {
    "duration": 11,
    "start_time": "2022-05-19T11:26:18.122Z"
   },
   {
    "duration": 6,
    "start_time": "2022-05-19T11:26:18.135Z"
   },
   {
    "duration": 80,
    "start_time": "2022-05-19T11:26:18.142Z"
   },
   {
    "duration": 188,
    "start_time": "2022-05-19T11:26:18.224Z"
   },
   {
    "duration": 30,
    "start_time": "2022-05-19T11:26:18.414Z"
   },
   {
    "duration": 76,
    "start_time": "2022-05-19T11:26:18.445Z"
   },
   {
    "duration": 390,
    "start_time": "2022-05-19T11:26:18.523Z"
   },
   {
    "duration": 22,
    "start_time": "2022-05-19T11:26:18.915Z"
   },
   {
    "duration": 1380,
    "start_time": "2022-05-19T11:26:18.939Z"
   },
   {
    "duration": 128,
    "start_time": "2022-05-19T11:26:20.321Z"
   },
   {
    "duration": 4,
    "start_time": "2022-05-19T11:26:20.451Z"
   },
   {
    "duration": 29,
    "start_time": "2022-05-19T11:26:20.456Z"
   },
   {
    "duration": 141,
    "start_time": "2022-05-19T11:26:20.487Z"
   },
   {
    "duration": 228,
    "start_time": "2022-05-19T11:26:20.629Z"
   },
   {
    "duration": 152,
    "start_time": "2022-05-19T11:26:20.859Z"
   },
   {
    "duration": 680,
    "start_time": "2022-05-19T11:26:21.013Z"
   }
  ],
  "colab": {
   "name": "DA+. Сборный проект 1. Шаблон (1).ipynb",
   "provenance": []
  },
  "kernelspec": {
   "display_name": "Python 3.10.4 64-bit",
   "language": "python",
   "name": "python3"
  },
  "language_info": {
   "codemirror_mode": {
    "name": "ipython",
    "version": 3
   },
   "file_extension": ".py",
   "mimetype": "text/x-python",
   "name": "python",
   "nbconvert_exporter": "python",
   "pygments_lexer": "ipython3",
   "version": "3.10.4 (tags/v3.10.4:9d38120, Mar 23 2022, 23:13:41) [MSC v.1929 64 bit (AMD64)]"
  },
  "toc": {
   "base_numbering": 1,
   "nav_menu": {},
   "number_sections": true,
   "sideBar": true,
   "skip_h1_title": true,
   "title_cell": "Содержание",
   "title_sidebar": "Contents",
   "toc_cell": true,
   "toc_position": {
    "height": "calc(100% - 180px)",
    "left": "10px",
    "top": "150px",
    "width": "375.391px"
   },
   "toc_section_display": true,
   "toc_window_display": false
  },
  "vscode": {
   "interpreter": {
    "hash": "2469a70536e4d2335a2ea8907942d0699c37342a371ac185bdb5b0aa6f073890"
   }
  }
 },
 "nbformat": 4,
 "nbformat_minor": 1
}
