{
 "cells": [
  {
   "cell_type": "markdown",
   "metadata": {},
   "source": [
    "## Описание проекта"
   ]
  },
  {
   "cell_type": "markdown",
   "metadata": {},
   "source": [
    "Сервис по продаже автомобилей с пробегом «Не бит, не крашен» разрабатывает приложение для привлечения новых клиентов. В нём можно быстро узнать рыночную стоимость своего автомобиля. В вашем распоряжении исторические данные: технические характеристики, комплектации и цены автомобилей. Вам нужно построить модель для определения стоимости. \n",
    "\n",
    "Заказчику важны:\n",
    "\n",
    "- качество предсказания;\n",
    "- скорость предсказания;\n",
    "- время обучения."
   ]
  },
  {
   "cell_type": "markdown",
   "metadata": {},
   "source": [
    "Постройте модель, которая умеет её определять. В вашем распоряжении данные о технических характеристиках, комплектации и ценах других автомобилей."
   ]
  },
  {
   "cell_type": "markdown",
   "metadata": {},
   "source": [
    "**Признаки**\n",
    "- DateCrawled — дата скачивания анкеты из базы\n",
    "- VehicleType — тип автомобильного кузова\n",
    "- RegistrationYear — год регистрации автомобиля\n",
    "- Gearbox — тип коробки передач\n",
    "- Power — мощность (л. с.)\n",
    "- Model — модель автомобиля\n",
    "- Kilometer — пробег (км)\n",
    "- RegistrationMonth — месяц регистрации автомобиля\n",
    "- FuelType — тип топлива\n",
    "- Brand — марка автомобиля\n",
    "- Repaired — была машина в ремонте или нет\n",
    "- DateCreated — дата создания анкеты\n",
    "- NumberOfPictures — количество фотографий автомобиля\n",
    "- PostalCode — почтовый индекс владельца анкеты (пользователя)\n",
    "- LastSeen — дата последней активности пользователя  \n",
    "\n",
    "**Целевой признак**\n",
    "- Price — цена (евро)"
   ]
  },
  {
   "cell_type": "markdown",
   "metadata": {},
   "source": [
    "## Необходимые библиотеки и паеременные "
   ]
  },
  {
   "cell_type": "code",
   "execution_count": 1,
   "metadata": {},
   "outputs": [],
   "source": [
    "import pandas as pd\n",
    "from sklearn.model_selection import train_test_split, GridSearchCV\n",
    "from sklearn.preprocessing import StandardScaler \n",
    "from catboost import CatBoostClassifier\n",
    "from notifiers import get_notifier\n",
    "from sklearn.ensemble import RandomForestRegressor as RFR\n",
    "from sklearn.metrics import mean_squared_error as MSE\n",
    "from time import time\n",
    "from sklearn.linear_model import LinearRegression as LR\n",
    "from catboost import CatBoostRegressor as CBR"
   ]
  },
  {
   "cell_type": "code",
   "execution_count": 2,
   "metadata": {},
   "outputs": [],
   "source": [
    "def make_notifier(\n",
    "    token='5658096333:AAHiwKbKFkFDhJH-0eSKwDeXmJnYsqXc88A',\n",
    "    chat_id=-831532630):\n",
    "    def f(text):\n",
    "        notifier = get_notifier('telegram')\n",
    "        notifier.notify(\n",
    "            message=text,\n",
    "            token=token,\n",
    "            chat_id=chat_id)\n",
    "    return f"
   ]
  },
  {
   "cell_type": "code",
   "execution_count": 3,
   "metadata": {},
   "outputs": [],
   "source": [
    "bot_send = make_notifier()"
   ]
  },
  {
   "cell_type": "code",
   "execution_count": 4,
   "metadata": {},
   "outputs": [],
   "source": [
    "RANDOM_STATE = 846513"
   ]
  },
  {
   "cell_type": "markdown",
   "metadata": {},
   "source": [
    "## Выгрузка данных"
   ]
  },
  {
   "cell_type": "code",
   "execution_count": 5,
   "metadata": {},
   "outputs": [],
   "source": [
    "df = pd.read_csv('./autos.csv')"
   ]
  },
  {
   "cell_type": "code",
   "execution_count": 6,
   "metadata": {},
   "outputs": [
    {
     "name": "stdout",
     "output_type": "stream",
     "text": [
      "<class 'pandas.core.frame.DataFrame'>\n",
      "RangeIndex: 354369 entries, 0 to 354368\n",
      "Data columns (total 16 columns):\n",
      " #   Column             Non-Null Count   Dtype \n",
      "---  ------             --------------   ----- \n",
      " 0   DateCrawled        354369 non-null  object\n",
      " 1   Price              354369 non-null  int64 \n",
      " 2   VehicleType        316879 non-null  object\n",
      " 3   RegistrationYear   354369 non-null  int64 \n",
      " 4   Gearbox            334536 non-null  object\n",
      " 5   Power              354369 non-null  int64 \n",
      " 6   Model              334664 non-null  object\n",
      " 7   Kilometer          354369 non-null  int64 \n",
      " 8   RegistrationMonth  354369 non-null  int64 \n",
      " 9   FuelType           321474 non-null  object\n",
      " 10  Brand              354369 non-null  object\n",
      " 11  Repaired           283215 non-null  object\n",
      " 12  DateCreated        354369 non-null  object\n",
      " 13  NumberOfPictures   354369 non-null  int64 \n",
      " 14  PostalCode         354369 non-null  int64 \n",
      " 15  LastSeen           354369 non-null  object\n",
      "dtypes: int64(7), object(9)\n",
      "memory usage: 43.3+ MB\n"
     ]
    }
   ],
   "source": [
    "df.info()"
   ]
  },
  {
   "cell_type": "code",
   "execution_count": 7,
   "metadata": {},
   "outputs": [
    {
     "data": {
      "text/html": [
       "<div>\n",
       "<style scoped>\n",
       "    .dataframe tbody tr th:only-of-type {\n",
       "        vertical-align: middle;\n",
       "    }\n",
       "\n",
       "    .dataframe tbody tr th {\n",
       "        vertical-align: top;\n",
       "    }\n",
       "\n",
       "    .dataframe thead th {\n",
       "        text-align: right;\n",
       "    }\n",
       "</style>\n",
       "<table border=\"1\" class=\"dataframe\">\n",
       "  <thead>\n",
       "    <tr style=\"text-align: right;\">\n",
       "      <th></th>\n",
       "      <th>DateCrawled</th>\n",
       "      <th>Price</th>\n",
       "      <th>VehicleType</th>\n",
       "      <th>RegistrationYear</th>\n",
       "      <th>Gearbox</th>\n",
       "      <th>Power</th>\n",
       "      <th>Model</th>\n",
       "      <th>Kilometer</th>\n",
       "      <th>RegistrationMonth</th>\n",
       "      <th>FuelType</th>\n",
       "      <th>Brand</th>\n",
       "      <th>Repaired</th>\n",
       "      <th>DateCreated</th>\n",
       "      <th>NumberOfPictures</th>\n",
       "      <th>PostalCode</th>\n",
       "      <th>LastSeen</th>\n",
       "    </tr>\n",
       "  </thead>\n",
       "  <tbody>\n",
       "    <tr>\n",
       "      <th>104963</th>\n",
       "      <td>2016-03-31 10:06:37</td>\n",
       "      <td>2000</td>\n",
       "      <td>suv</td>\n",
       "      <td>2006</td>\n",
       "      <td>auto</td>\n",
       "      <td>140</td>\n",
       "      <td>sorento</td>\n",
       "      <td>150000</td>\n",
       "      <td>1</td>\n",
       "      <td>gasoline</td>\n",
       "      <td>kia</td>\n",
       "      <td>no</td>\n",
       "      <td>2016-03-31 00:00:00</td>\n",
       "      <td>0</td>\n",
       "      <td>57234</td>\n",
       "      <td>2016-04-05 19:15:42</td>\n",
       "    </tr>\n",
       "    <tr>\n",
       "      <th>210388</th>\n",
       "      <td>2016-03-17 13:53:07</td>\n",
       "      <td>995</td>\n",
       "      <td>NaN</td>\n",
       "      <td>2017</td>\n",
       "      <td>manual</td>\n",
       "      <td>75</td>\n",
       "      <td>clio</td>\n",
       "      <td>100000</td>\n",
       "      <td>4</td>\n",
       "      <td>NaN</td>\n",
       "      <td>renault</td>\n",
       "      <td>no</td>\n",
       "      <td>2016-03-17 00:00:00</td>\n",
       "      <td>0</td>\n",
       "      <td>94151</td>\n",
       "      <td>2016-03-21 17:49:20</td>\n",
       "    </tr>\n",
       "    <tr>\n",
       "      <th>47608</th>\n",
       "      <td>2016-03-09 18:46:51</td>\n",
       "      <td>750</td>\n",
       "      <td>small</td>\n",
       "      <td>2004</td>\n",
       "      <td>manual</td>\n",
       "      <td>69</td>\n",
       "      <td>corsa</td>\n",
       "      <td>150000</td>\n",
       "      <td>7</td>\n",
       "      <td>gasoline</td>\n",
       "      <td>opel</td>\n",
       "      <td>yes</td>\n",
       "      <td>2016-03-09 00:00:00</td>\n",
       "      <td>0</td>\n",
       "      <td>73037</td>\n",
       "      <td>2016-03-09 18:46:51</td>\n",
       "    </tr>\n",
       "    <tr>\n",
       "      <th>134122</th>\n",
       "      <td>2016-03-27 18:25:18</td>\n",
       "      <td>15</td>\n",
       "      <td>NaN</td>\n",
       "      <td>2005</td>\n",
       "      <td>NaN</td>\n",
       "      <td>0</td>\n",
       "      <td>a4</td>\n",
       "      <td>125000</td>\n",
       "      <td>0</td>\n",
       "      <td>NaN</td>\n",
       "      <td>audi</td>\n",
       "      <td>NaN</td>\n",
       "      <td>2016-03-27 00:00:00</td>\n",
       "      <td>0</td>\n",
       "      <td>56332</td>\n",
       "      <td>2016-04-05 23:17:51</td>\n",
       "    </tr>\n",
       "    <tr>\n",
       "      <th>290723</th>\n",
       "      <td>2016-03-31 21:36:35</td>\n",
       "      <td>2950</td>\n",
       "      <td>sedan</td>\n",
       "      <td>2003</td>\n",
       "      <td>manual</td>\n",
       "      <td>147</td>\n",
       "      <td>vectra</td>\n",
       "      <td>150000</td>\n",
       "      <td>3</td>\n",
       "      <td>petrol</td>\n",
       "      <td>opel</td>\n",
       "      <td>no</td>\n",
       "      <td>2016-03-31 00:00:00</td>\n",
       "      <td>0</td>\n",
       "      <td>24943</td>\n",
       "      <td>2016-04-06 16:45:23</td>\n",
       "    </tr>\n",
       "  </tbody>\n",
       "</table>\n",
       "</div>"
      ],
      "text/plain": [
       "                DateCrawled  Price VehicleType  RegistrationYear Gearbox  \\\n",
       "104963  2016-03-31 10:06:37   2000         suv              2006    auto   \n",
       "210388  2016-03-17 13:53:07    995         NaN              2017  manual   \n",
       "47608   2016-03-09 18:46:51    750       small              2004  manual   \n",
       "134122  2016-03-27 18:25:18     15         NaN              2005     NaN   \n",
       "290723  2016-03-31 21:36:35   2950       sedan              2003  manual   \n",
       "\n",
       "        Power    Model  Kilometer  RegistrationMonth  FuelType    Brand  \\\n",
       "104963    140  sorento     150000                  1  gasoline      kia   \n",
       "210388     75     clio     100000                  4       NaN  renault   \n",
       "47608      69    corsa     150000                  7  gasoline     opel   \n",
       "134122      0       a4     125000                  0       NaN     audi   \n",
       "290723    147   vectra     150000                  3    petrol     opel   \n",
       "\n",
       "       Repaired          DateCreated  NumberOfPictures  PostalCode  \\\n",
       "104963       no  2016-03-31 00:00:00                 0       57234   \n",
       "210388       no  2016-03-17 00:00:00                 0       94151   \n",
       "47608       yes  2016-03-09 00:00:00                 0       73037   \n",
       "134122      NaN  2016-03-27 00:00:00                 0       56332   \n",
       "290723       no  2016-03-31 00:00:00                 0       24943   \n",
       "\n",
       "                   LastSeen  \n",
       "104963  2016-04-05 19:15:42  \n",
       "210388  2016-03-21 17:49:20  \n",
       "47608   2016-03-09 18:46:51  \n",
       "134122  2016-04-05 23:17:51  \n",
       "290723  2016-04-06 16:45:23  "
      ]
     },
     "execution_count": 7,
     "metadata": {},
     "output_type": "execute_result"
    }
   ],
   "source": [
    "df.sample(5, random_state = RANDOM_STATE)"
   ]
  },
  {
   "cell_type": "markdown",
   "metadata": {},
   "source": [
    "По таблицам видно, что в данных присутствуют проблемы:\n",
    "1. Есть пропуски\n",
    "2. Не все столбцы имеют оптимальный формат\n",
    "3. Как видно строка №134122 содержит автомобиль в которм практически нет информации, такие строки тоже нужно обработать."
   ]
  },
  {
   "cell_type": "markdown",
   "metadata": {},
   "source": [
    "## Подготовка данных"
   ]
  },
  {
   "cell_type": "markdown",
   "metadata": {},
   "source": [
    "### Проверка связей"
   ]
  },
  {
   "cell_type": "markdown",
   "metadata": {},
   "source": [
    "Прежде чем заниматься столбцами нужно посмотреть как они связаны. Построим таблицу корреляций."
   ]
  },
  {
   "cell_type": "code",
   "execution_count": 8,
   "metadata": {},
   "outputs": [],
   "source": [
    "df_corr = df.corr()"
   ]
  },
  {
   "cell_type": "code",
   "execution_count": 9,
   "metadata": {
    "scrolled": true
   },
   "outputs": [
    {
     "data": {
      "text/html": [
       "<style type=\"text/css\">\n",
       "#T_8c089_row0_col0, #T_8c089_row1_col1, #T_8c089_row2_col2, #T_8c089_row3_col3, #T_8c089_row4_col4, #T_8c089_row6_col6 {\n",
       "  background-color: #023858;\n",
       "  color: #000000;\n",
       "}\n",
       "#T_8c089_row0_col1, #T_8c089_row1_col0 {\n",
       "  background-color: #c9cee4;\n",
       "  color: #000000;\n",
       "}\n",
       "#T_8c089_row0_col2, #T_8c089_row2_col0 {\n",
       "  background-color: #a8bedc;\n",
       "  color: #000000;\n",
       "}\n",
       "#T_8c089_row0_col3, #T_8c089_row3_col0 {\n",
       "  background-color: #fff7fb;\n",
       "  color: #000000;\n",
       "}\n",
       "#T_8c089_row0_col4, #T_8c089_row4_col0 {\n",
       "  background-color: #b4c4df;\n",
       "  color: #000000;\n",
       "}\n",
       "#T_8c089_row0_col5, #T_8c089_row1_col5, #T_8c089_row2_col5, #T_8c089_row3_col5, #T_8c089_row4_col5, #T_8c089_row5_col0, #T_8c089_row5_col1, #T_8c089_row5_col2, #T_8c089_row5_col3, #T_8c089_row5_col4, #T_8c089_row5_col5, #T_8c089_row5_col6, #T_8c089_row6_col5 {\n",
       "  background-color: #000000;\n",
       "  color: #000000;\n",
       "}\n",
       "#T_8c089_row0_col6, #T_8c089_row6_col0 {\n",
       "  background-color: #bdc8e1;\n",
       "  color: #000000;\n",
       "}\n",
       "#T_8c089_row1_col2, #T_8c089_row1_col6, #T_8c089_row2_col1, #T_8c089_row6_col1 {\n",
       "  background-color: #d1d2e6;\n",
       "  color: #000000;\n",
       "}\n",
       "#T_8c089_row1_col3, #T_8c089_row3_col1 {\n",
       "  background-color: #d9d8ea;\n",
       "  color: #000000;\n",
       "}\n",
       "#T_8c089_row1_col4, #T_8c089_row4_col1 {\n",
       "  background-color: #d2d3e7;\n",
       "  color: #000000;\n",
       "}\n",
       "#T_8c089_row2_col3, #T_8c089_row2_col6, #T_8c089_row3_col2, #T_8c089_row6_col2 {\n",
       "  background-color: #cacee5;\n",
       "  color: #000000;\n",
       "}\n",
       "#T_8c089_row2_col4, #T_8c089_row4_col2 {\n",
       "  background-color: #c5cce3;\n",
       "  color: #000000;\n",
       "}\n",
       "#T_8c089_row3_col4, #T_8c089_row4_col3 {\n",
       "  background-color: #ced0e6;\n",
       "  color: #000000;\n",
       "}\n",
       "#T_8c089_row3_col6, #T_8c089_row6_col3 {\n",
       "  background-color: #d2d2e7;\n",
       "  color: #000000;\n",
       "}\n",
       "#T_8c089_row4_col6, #T_8c089_row6_col4 {\n",
       "  background-color: #cdd0e5;\n",
       "  color: #000000;\n",
       "}\n",
       "</style>\n",
       "<table id=\"T_8c089\">\n",
       "  <thead>\n",
       "    <tr>\n",
       "      <th class=\"blank level0\" >&nbsp;</th>\n",
       "      <th id=\"T_8c089_level0_col0\" class=\"col_heading level0 col0\" >Price</th>\n",
       "      <th id=\"T_8c089_level0_col1\" class=\"col_heading level0 col1\" >RegistrationYear</th>\n",
       "      <th id=\"T_8c089_level0_col2\" class=\"col_heading level0 col2\" >Power</th>\n",
       "      <th id=\"T_8c089_level0_col3\" class=\"col_heading level0 col3\" >Kilometer</th>\n",
       "      <th id=\"T_8c089_level0_col4\" class=\"col_heading level0 col4\" >RegistrationMonth</th>\n",
       "      <th id=\"T_8c089_level0_col5\" class=\"col_heading level0 col5\" >NumberOfPictures</th>\n",
       "      <th id=\"T_8c089_level0_col6\" class=\"col_heading level0 col6\" >PostalCode</th>\n",
       "    </tr>\n",
       "  </thead>\n",
       "  <tbody>\n",
       "    <tr>\n",
       "      <th id=\"T_8c089_level0_row0\" class=\"row_heading level0 row0\" >Price</th>\n",
       "      <td id=\"T_8c089_row0_col0\" class=\"data row0 col0\" >1.000000</td>\n",
       "      <td id=\"T_8c089_row0_col1\" class=\"data row0 col1\" >0.026916</td>\n",
       "      <td id=\"T_8c089_row0_col2\" class=\"data row0 col2\" >0.158872</td>\n",
       "      <td id=\"T_8c089_row0_col3\" class=\"data row0 col3\" >-0.333199</td>\n",
       "      <td id=\"T_8c089_row0_col4\" class=\"data row0 col4\" >0.110581</td>\n",
       "      <td id=\"T_8c089_row0_col5\" class=\"data row0 col5\" >nan</td>\n",
       "      <td id=\"T_8c089_row0_col6\" class=\"data row0 col6\" >0.076055</td>\n",
       "    </tr>\n",
       "    <tr>\n",
       "      <th id=\"T_8c089_level0_row1\" class=\"row_heading level0 row1\" >RegistrationYear</th>\n",
       "      <td id=\"T_8c089_row1_col0\" class=\"data row1 col0\" >0.026916</td>\n",
       "      <td id=\"T_8c089_row1_col1\" class=\"data row1 col1\" >1.000000</td>\n",
       "      <td id=\"T_8c089_row1_col2\" class=\"data row1 col2\" >-0.000828</td>\n",
       "      <td id=\"T_8c089_row1_col3\" class=\"data row1 col3\" >-0.053447</td>\n",
       "      <td id=\"T_8c089_row1_col4\" class=\"data row1 col4\" >-0.011619</td>\n",
       "      <td id=\"T_8c089_row1_col5\" class=\"data row1 col5\" >nan</td>\n",
       "      <td id=\"T_8c089_row1_col6\" class=\"data row1 col6\" >-0.003459</td>\n",
       "    </tr>\n",
       "    <tr>\n",
       "      <th id=\"T_8c089_level0_row2\" class=\"row_heading level0 row2\" >Power</th>\n",
       "      <td id=\"T_8c089_row2_col0\" class=\"data row2 col0\" >0.158872</td>\n",
       "      <td id=\"T_8c089_row2_col1\" class=\"data row2 col1\" >-0.000828</td>\n",
       "      <td id=\"T_8c089_row2_col2\" class=\"data row2 col2\" >1.000000</td>\n",
       "      <td id=\"T_8c089_row2_col3\" class=\"data row2 col3\" >0.024002</td>\n",
       "      <td id=\"T_8c089_row2_col4\" class=\"data row2 col4\" >0.043380</td>\n",
       "      <td id=\"T_8c089_row2_col5\" class=\"data row2 col5\" >nan</td>\n",
       "      <td id=\"T_8c089_row2_col6\" class=\"data row2 col6\" >0.021665</td>\n",
       "    </tr>\n",
       "    <tr>\n",
       "      <th id=\"T_8c089_level0_row3\" class=\"row_heading level0 row3\" >Kilometer</th>\n",
       "      <td id=\"T_8c089_row3_col0\" class=\"data row3 col0\" >-0.333199</td>\n",
       "      <td id=\"T_8c089_row3_col1\" class=\"data row3 col1\" >-0.053447</td>\n",
       "      <td id=\"T_8c089_row3_col2\" class=\"data row3 col2\" >0.024002</td>\n",
       "      <td id=\"T_8c089_row3_col3\" class=\"data row3 col3\" >1.000000</td>\n",
       "      <td id=\"T_8c089_row3_col4\" class=\"data row3 col4\" >0.009571</td>\n",
       "      <td id=\"T_8c089_row3_col5\" class=\"data row3 col5\" >nan</td>\n",
       "      <td id=\"T_8c089_row3_col6\" class=\"data row3 col6\" >-0.007698</td>\n",
       "    </tr>\n",
       "    <tr>\n",
       "      <th id=\"T_8c089_level0_row4\" class=\"row_heading level0 row4\" >RegistrationMonth</th>\n",
       "      <td id=\"T_8c089_row4_col0\" class=\"data row4 col0\" >0.110581</td>\n",
       "      <td id=\"T_8c089_row4_col1\" class=\"data row4 col1\" >-0.011619</td>\n",
       "      <td id=\"T_8c089_row4_col2\" class=\"data row4 col2\" >0.043380</td>\n",
       "      <td id=\"T_8c089_row4_col3\" class=\"data row4 col3\" >0.009571</td>\n",
       "      <td id=\"T_8c089_row4_col4\" class=\"data row4 col4\" >1.000000</td>\n",
       "      <td id=\"T_8c089_row4_col5\" class=\"data row4 col5\" >nan</td>\n",
       "      <td id=\"T_8c089_row4_col6\" class=\"data row4 col6\" >0.013995</td>\n",
       "    </tr>\n",
       "    <tr>\n",
       "      <th id=\"T_8c089_level0_row5\" class=\"row_heading level0 row5\" >NumberOfPictures</th>\n",
       "      <td id=\"T_8c089_row5_col0\" class=\"data row5 col0\" >nan</td>\n",
       "      <td id=\"T_8c089_row5_col1\" class=\"data row5 col1\" >nan</td>\n",
       "      <td id=\"T_8c089_row5_col2\" class=\"data row5 col2\" >nan</td>\n",
       "      <td id=\"T_8c089_row5_col3\" class=\"data row5 col3\" >nan</td>\n",
       "      <td id=\"T_8c089_row5_col4\" class=\"data row5 col4\" >nan</td>\n",
       "      <td id=\"T_8c089_row5_col5\" class=\"data row5 col5\" >nan</td>\n",
       "      <td id=\"T_8c089_row5_col6\" class=\"data row5 col6\" >nan</td>\n",
       "    </tr>\n",
       "    <tr>\n",
       "      <th id=\"T_8c089_level0_row6\" class=\"row_heading level0 row6\" >PostalCode</th>\n",
       "      <td id=\"T_8c089_row6_col0\" class=\"data row6 col0\" >0.076055</td>\n",
       "      <td id=\"T_8c089_row6_col1\" class=\"data row6 col1\" >-0.003459</td>\n",
       "      <td id=\"T_8c089_row6_col2\" class=\"data row6 col2\" >0.021665</td>\n",
       "      <td id=\"T_8c089_row6_col3\" class=\"data row6 col3\" >-0.007698</td>\n",
       "      <td id=\"T_8c089_row6_col4\" class=\"data row6 col4\" >0.013995</td>\n",
       "      <td id=\"T_8c089_row6_col5\" class=\"data row6 col5\" >nan</td>\n",
       "      <td id=\"T_8c089_row6_col6\" class=\"data row6 col6\" >1.000000</td>\n",
       "    </tr>\n",
       "  </tbody>\n",
       "</table>\n"
      ],
      "text/plain": [
       "<pandas.io.formats.style.Styler at 0x21389a5ca90>"
      ]
     },
     "execution_count": 9,
     "metadata": {},
     "output_type": "execute_result"
    }
   ],
   "source": [
    "df_corr.style.background_gradient(axis=0,\n",
    "                                  vmin=df_corr.min().min(),\n",
    "                                  vmax=df_corr.max().max(),\n",
    "                                  text_color_threshold=0)"
   ]
  },
  {
   "cell_type": "markdown",
   "metadata": {},
   "source": [
    "Как видно из таблицы, цена немного зависти от всего, но больше всего от пробега и мощности машины, все как в жизни. НА счет категориальных признаков покачто ничего сказать нельзя, позже посмотрим и на них."
   ]
  },
  {
   "cell_type": "markdown",
   "metadata": {},
   "source": [
    "### Проверка на дубликаты."
   ]
  },
  {
   "cell_type": "markdown",
   "metadata": {},
   "source": [
    "Посмотрим на прнисутствие явных дубликатов."
   ]
  },
  {
   "cell_type": "code",
   "execution_count": 10,
   "metadata": {},
   "outputs": [
    {
     "data": {
      "text/plain": [
       "4"
      ]
     },
     "execution_count": 10,
     "metadata": {},
     "output_type": "execute_result"
    }
   ],
   "source": [
    "df.duplicated().sum()"
   ]
  },
  {
   "cell_type": "markdown",
   "metadata": {},
   "source": [
    "Есть 4 штуки, возможно есть еще, попробуем убрать цену и дату последней активности, тк человек мог ошибиться с ценой и пересозадть объявление."
   ]
  },
  {
   "cell_type": "code",
   "execution_count": 11,
   "metadata": {},
   "outputs": [
    {
     "data": {
      "text/plain": [
       "21"
      ]
     },
     "execution_count": 11,
     "metadata": {},
     "output_type": "execute_result"
    }
   ],
   "source": [
    "df.drop(['Price', 'LastSeen'],axis=1).duplicated().sum()"
   ]
  },
  {
   "cell_type": "markdown",
   "metadata": {},
   "source": [
    "21 объявление, уже лучше"
   ]
  },
  {
   "cell_type": "markdown",
   "metadata": {},
   "source": [
    "Уберем их"
   ]
  },
  {
   "cell_type": "code",
   "execution_count": 12,
   "metadata": {},
   "outputs": [
    {
     "data": {
      "text/plain": [
       "['DateCrawled',\n",
       " 'VehicleType',\n",
       " 'RegistrationYear',\n",
       " 'Gearbox',\n",
       " 'Power',\n",
       " 'Model',\n",
       " 'Kilometer',\n",
       " 'RegistrationMonth',\n",
       " 'FuelType',\n",
       " 'Brand',\n",
       " 'Repaired',\n",
       " 'DateCreated',\n",
       " 'NumberOfPictures',\n",
       " 'PostalCode']"
      ]
     },
     "execution_count": 12,
     "metadata": {},
     "output_type": "execute_result"
    }
   ],
   "source": [
    "col = list(df.columns)\n",
    "col.remove('Price')\n",
    "col.remove('LastSeen')\n",
    "col"
   ]
  },
  {
   "cell_type": "code",
   "execution_count": 13,
   "metadata": {},
   "outputs": [],
   "source": [
    "df = df.drop_duplicates(subset = col).reset_index(drop=True)"
   ]
  },
  {
   "cell_type": "code",
   "execution_count": 14,
   "metadata": {},
   "outputs": [
    {
     "data": {
      "text/plain": [
       "0"
      ]
     },
     "execution_count": 14,
     "metadata": {},
     "output_type": "execute_result"
    }
   ],
   "source": [
    "df.drop(['Price', 'LastSeen'],axis=1).duplicated().sum()"
   ]
  },
  {
   "cell_type": "markdown",
   "metadata": {},
   "source": [
    "Стало немного лучше."
   ]
  },
  {
   "cell_type": "markdown",
   "metadata": {},
   "source": [
    "### Столбцы"
   ]
  },
  {
   "cell_type": "markdown",
   "metadata": {},
   "source": [
    "Для начала посмотрим на каждый столбец по отдлеьности и выявим их проблемы."
   ]
  },
  {
   "cell_type": "markdown",
   "metadata": {},
   "source": [
    "#### DateCrawled"
   ]
  },
  {
   "cell_type": "markdown",
   "metadata": {},
   "source": [
    "По скольку в данном столбце нет пропусков. Первое что хочется сделать с данным столбцом, это перевсти его в формат даты."
   ]
  },
  {
   "cell_type": "code",
   "execution_count": 15,
   "metadata": {},
   "outputs": [],
   "source": [
    "df['DateCrawled'] = pd.to_datetime(df['DateCrawled'], format = '%Y-%m-%d %H:%M:%S')"
   ]
  },
  {
   "cell_type": "code",
   "execution_count": 16,
   "metadata": {},
   "outputs": [
    {
     "data": {
      "text/plain": [
       "29885    2016-03-12 21:52:45\n",
       "348659   2016-03-29 20:54:58\n",
       "112371   2016-03-11 18:48:27\n",
       "160327   2016-03-12 12:49:17\n",
       "80059    2016-03-29 21:50:41\n",
       "Name: DateCrawled, dtype: datetime64[ns]"
      ]
     },
     "execution_count": 16,
     "metadata": {},
     "output_type": "execute_result"
    }
   ],
   "source": [
    "df['DateCrawled'].sample(5)"
   ]
  },
  {
   "cell_type": "markdown",
   "metadata": {},
   "source": [
    "Отлично, думаю с данным столбцом закончели, скорее всего от него будут созданы дополнительные столбцы, но это чуть позже."
   ]
  },
  {
   "cell_type": "markdown",
   "metadata": {},
   "source": [
    "#### Price"
   ]
  },
  {
   "cell_type": "markdown",
   "metadata": {},
   "source": [
    "Это стобце с целевым признаком, в нем нет пропусков уже хорошо. Можно просто посмотреть как распределены в нем цены."
   ]
  },
  {
   "cell_type": "code",
   "execution_count": 17,
   "metadata": {
    "scrolled": true
   },
   "outputs": [
    {
     "data": {
      "text/plain": [
       "<AxesSubplot:>"
      ]
     },
     "execution_count": 17,
     "metadata": {},
     "output_type": "execute_result"
    },
    {
     "data": {
      "image/png": "[encoded data removed]",
      "text/plain": [
       "<Figure size 432x288 with 1 Axes>"
      ]
     },
     "metadata": {
      "needs_background": "light"
     },
     "output_type": "display_data"
    }
   ],
   "source": [
    "df['Price'].hist()"
   ]
  },
  {
   "cell_type": "markdown",
   "metadata": {},
   "source": [
    "По скольку цены ограничены 0 то мы видем чать нормального распредшления. По этому можно сдлеать вывод, что данных достатчоно и они имеют хорошие значнения для обучения."
   ]
  },
  {
   "cell_type": "markdown",
   "metadata": {},
   "source": [
    "Неплохо бы еще посмотреть объявления с 0 цеником."
   ]
  },
  {
   "cell_type": "code",
   "execution_count": 18,
   "metadata": {},
   "outputs": [
    {
     "data": {
      "text/plain": [
       "10772"
      ]
     },
     "execution_count": 18,
     "metadata": {},
     "output_type": "execute_result"
    }
   ],
   "source": [
    "len(df.loc[df['Price'] == 0])"
   ]
  },
  {
   "cell_type": "code",
   "execution_count": 19,
   "metadata": {
    "scrolled": true
   },
   "outputs": [
    {
     "data": {
      "text/html": [
       "<div>\n",
       "<style scoped>\n",
       "    .dataframe tbody tr th:only-of-type {\n",
       "        vertical-align: middle;\n",
       "    }\n",
       "\n",
       "    .dataframe tbody tr th {\n",
       "        vertical-align: top;\n",
       "    }\n",
       "\n",
       "    .dataframe thead th {\n",
       "        text-align: right;\n",
       "    }\n",
       "</style>\n",
       "<table border=\"1\" class=\"dataframe\">\n",
       "  <thead>\n",
       "    <tr style=\"text-align: right;\">\n",
       "      <th></th>\n",
       "      <th>DateCrawled</th>\n",
       "      <th>Price</th>\n",
       "      <th>VehicleType</th>\n",
       "      <th>RegistrationYear</th>\n",
       "      <th>Gearbox</th>\n",
       "      <th>Power</th>\n",
       "      <th>Model</th>\n",
       "      <th>Kilometer</th>\n",
       "      <th>RegistrationMonth</th>\n",
       "      <th>FuelType</th>\n",
       "      <th>Brand</th>\n",
       "      <th>Repaired</th>\n",
       "      <th>DateCreated</th>\n",
       "      <th>NumberOfPictures</th>\n",
       "      <th>PostalCode</th>\n",
       "      <th>LastSeen</th>\n",
       "    </tr>\n",
       "  </thead>\n",
       "  <tbody>\n",
       "    <tr>\n",
       "      <th>327795</th>\n",
       "      <td>2016-03-26 15:52:30</td>\n",
       "      <td>0</td>\n",
       "      <td>sedan</td>\n",
       "      <td>2003</td>\n",
       "      <td>auto</td>\n",
       "      <td>177</td>\n",
       "      <td>e_klasse</td>\n",
       "      <td>150000</td>\n",
       "      <td>10</td>\n",
       "      <td>petrol</td>\n",
       "      <td>mercedes_benz</td>\n",
       "      <td>no</td>\n",
       "      <td>2016-03-26 00:00:00</td>\n",
       "      <td>0</td>\n",
       "      <td>95100</td>\n",
       "      <td>2016-04-06 04:15:46</td>\n",
       "    </tr>\n",
       "    <tr>\n",
       "      <th>266479</th>\n",
       "      <td>2016-03-05 22:45:26</td>\n",
       "      <td>0</td>\n",
       "      <td>other</td>\n",
       "      <td>1997</td>\n",
       "      <td>manual</td>\n",
       "      <td>131</td>\n",
       "      <td>other</td>\n",
       "      <td>50000</td>\n",
       "      <td>9</td>\n",
       "      <td>petrol</td>\n",
       "      <td>fiat</td>\n",
       "      <td>yes</td>\n",
       "      <td>2016-03-05 00:00:00</td>\n",
       "      <td>0</td>\n",
       "      <td>50733</td>\n",
       "      <td>2016-03-08 12:17:09</td>\n",
       "    </tr>\n",
       "    <tr>\n",
       "      <th>106022</th>\n",
       "      <td>2016-04-02 14:50:26</td>\n",
       "      <td>0</td>\n",
       "      <td>coupe</td>\n",
       "      <td>2000</td>\n",
       "      <td>manual</td>\n",
       "      <td>133</td>\n",
       "      <td>other</td>\n",
       "      <td>150000</td>\n",
       "      <td>4</td>\n",
       "      <td>petrol</td>\n",
       "      <td>chrysler</td>\n",
       "      <td>no</td>\n",
       "      <td>2016-04-02 00:00:00</td>\n",
       "      <td>0</td>\n",
       "      <td>68309</td>\n",
       "      <td>2016-04-06 13:17:41</td>\n",
       "    </tr>\n",
       "    <tr>\n",
       "      <th>32515</th>\n",
       "      <td>2016-03-20 22:47:53</td>\n",
       "      <td>0</td>\n",
       "      <td>bus</td>\n",
       "      <td>2004</td>\n",
       "      <td>manual</td>\n",
       "      <td>0</td>\n",
       "      <td>zafira</td>\n",
       "      <td>150000</td>\n",
       "      <td>0</td>\n",
       "      <td>cng</td>\n",
       "      <td>opel</td>\n",
       "      <td>NaN</td>\n",
       "      <td>2016-03-20 00:00:00</td>\n",
       "      <td>0</td>\n",
       "      <td>33615</td>\n",
       "      <td>2016-04-07 09:17:40</td>\n",
       "    </tr>\n",
       "    <tr>\n",
       "      <th>331230</th>\n",
       "      <td>2016-03-21 20:46:44</td>\n",
       "      <td>0</td>\n",
       "      <td>NaN</td>\n",
       "      <td>2005</td>\n",
       "      <td>manual</td>\n",
       "      <td>0</td>\n",
       "      <td>NaN</td>\n",
       "      <td>5000</td>\n",
       "      <td>0</td>\n",
       "      <td>NaN</td>\n",
       "      <td>sonstige_autos</td>\n",
       "      <td>no</td>\n",
       "      <td>2016-03-21 00:00:00</td>\n",
       "      <td>0</td>\n",
       "      <td>15827</td>\n",
       "      <td>2016-04-02 23:16:03</td>\n",
       "    </tr>\n",
       "  </tbody>\n",
       "</table>\n",
       "</div>"
      ],
      "text/plain": [
       "               DateCrawled  Price VehicleType  RegistrationYear Gearbox  \\\n",
       "327795 2016-03-26 15:52:30      0       sedan              2003    auto   \n",
       "266479 2016-03-05 22:45:26      0       other              1997  manual   \n",
       "106022 2016-04-02 14:50:26      0       coupe              2000  manual   \n",
       "32515  2016-03-20 22:47:53      0         bus              2004  manual   \n",
       "331230 2016-03-21 20:46:44      0         NaN              2005  manual   \n",
       "\n",
       "        Power     Model  Kilometer  RegistrationMonth FuelType  \\\n",
       "327795    177  e_klasse     150000                 10   petrol   \n",
       "266479    131     other      50000                  9   petrol   \n",
       "106022    133     other     150000                  4   petrol   \n",
       "32515       0    zafira     150000                  0      cng   \n",
       "331230      0       NaN       5000                  0      NaN   \n",
       "\n",
       "                 Brand Repaired          DateCreated  NumberOfPictures  \\\n",
       "327795   mercedes_benz       no  2016-03-26 00:00:00                 0   \n",
       "266479            fiat      yes  2016-03-05 00:00:00                 0   \n",
       "106022        chrysler       no  2016-04-02 00:00:00                 0   \n",
       "32515             opel      NaN  2016-03-20 00:00:00                 0   \n",
       "331230  sonstige_autos       no  2016-03-21 00:00:00                 0   \n",
       "\n",
       "        PostalCode             LastSeen  \n",
       "327795       95100  2016-04-06 04:15:46  \n",
       "266479       50733  2016-03-08 12:17:09  \n",
       "106022       68309  2016-04-06 13:17:41  \n",
       "32515        33615  2016-04-07 09:17:40  \n",
       "331230       15827  2016-04-02 23:16:03  "
      ]
     },
     "execution_count": 19,
     "metadata": {},
     "output_type": "execute_result"
    }
   ],
   "source": [
    "df.loc[df['Price'] == 0].sample(5, random_state = RANDOM_STATE)"
   ]
  },
  {
   "cell_type": "markdown",
   "metadata": {},
   "source": [
    "Очень странные объявления с 0 ценой. Нужно думать что с нимим делать. После всех корректировок, создадим второй дата сет без нулевых цен и посмотрим на чем модель обучится лучше."
   ]
  },
  {
   "cell_type": "markdown",
   "metadata": {},
   "source": [
    "#### VehicleType"
   ]
  },
  {
   "cell_type": "markdown",
   "metadata": {},
   "source": [
    "По скольку это тип кузова автомобиля, можно посмотреть на количество типов и их распредление. Так же в этом столбце есть пропуски, нужно их оценить."
   ]
  },
  {
   "cell_type": "code",
   "execution_count": 20,
   "metadata": {},
   "outputs": [
    {
     "data": {
      "text/plain": [
       "array([nan, 'coupe', 'suv', 'small', 'sedan', 'convertible', 'bus',\n",
       "       'wagon', 'other'], dtype=object)"
      ]
     },
     "execution_count": 20,
     "metadata": {},
     "output_type": "execute_result"
    }
   ],
   "source": [
    "df['VehicleType'].unique()"
   ]
  },
  {
   "cell_type": "code",
   "execution_count": 21,
   "metadata": {},
   "outputs": [
    {
     "data": {
      "text/plain": [
       "37490"
      ]
     },
     "execution_count": 21,
     "metadata": {},
     "output_type": "execute_result"
    }
   ],
   "source": [
    "df['VehicleType'].isna().sum()"
   ]
  },
  {
   "cell_type": "code",
   "execution_count": 22,
   "metadata": {},
   "outputs": [
    {
     "data": {
      "text/plain": [
       "'сколько стостваляют пропуски: 10.58%'"
      ]
     },
     "execution_count": 22,
     "metadata": {},
     "output_type": "execute_result"
    }
   ],
   "source": [
    "f'сколько стостваляют пропуски: {(df[\"VehicleType\"].isna().sum()/len(df)*100).round(2)}%'"
   ]
  },
  {
   "cell_type": "code",
   "execution_count": 23,
   "metadata": {},
   "outputs": [
    {
     "data": {
      "text/plain": [
       "<AxesSubplot:ylabel='VehicleType'>"
      ]
     },
     "execution_count": 23,
     "metadata": {},
     "output_type": "execute_result"
    },
    {
     "data": {
      "image/png": "[encoded data removed]",
      "text/plain": [
       "<Figure size 576x576 with 1 Axes>"
      ]
     },
     "metadata": {
      "needs_background": "light"
     },
     "output_type": "display_data"
    }
   ],
   "source": [
    "df.pivot_table(index = \"VehicleType\",\n",
    "               values = \"Price\",\n",
    "               aggfunc = \"count\").plot(y = \"Price\", \n",
    "                                      kind = \"barh\", \n",
    "                                      legend = False,\n",
    "                                      figsize = (8,8),\n",
    "                                      ylabel = \"\")"
   ]
  },
  {
   "cell_type": "markdown",
   "metadata": {},
   "source": [
    "По скольку удаление столбцов с пропусками это достаточно большая потеря данных, почти 11%, по этому заменим все наны на категорию \"unknow\"."
   ]
  },
  {
   "cell_type": "code",
   "execution_count": 24,
   "metadata": {},
   "outputs": [],
   "source": [
    "df['VehicleType'] = df['VehicleType'].fillna('unknow')"
   ]
  },
  {
   "cell_type": "code",
   "execution_count": 25,
   "metadata": {},
   "outputs": [
    {
     "data": {
      "text/plain": [
       "<AxesSubplot:ylabel='VehicleType'>"
      ]
     },
     "execution_count": 25,
     "metadata": {},
     "output_type": "execute_result"
    },
    {
     "data": {
      "image/png": "[encoded data removed]",
      "text/plain": [
       "<Figure size 576x576 with 1 Axes>"
      ]
     },
     "metadata": {
      "needs_background": "light"
     },
     "output_type": "display_data"
    }
   ],
   "source": [
    "df.pivot_table(index = \"VehicleType\",\n",
    "               values = \"Price\",\n",
    "               aggfunc = \"count\").plot(y = \"Price\", \n",
    "                                      kind = \"barh\", \n",
    "                                      legend = False,\n",
    "                                      figsize = (8,8),\n",
    "                                      ylabel = \"\")"
   ]
  },
  {
   "cell_type": "markdown",
   "metadata": {},
   "source": [
    "Отлично, можно двигаться к другому столбцу."
   ]
  },
  {
   "cell_type": "markdown",
   "metadata": {},
   "source": [
    "#### RegistrationYear"
   ]
  },
  {
   "cell_type": "markdown",
   "metadata": {},
   "source": [
    "Тут пропусков нет, по этому просто посмотрим на рапределение по годам."
   ]
  },
  {
   "cell_type": "code",
   "execution_count": 26,
   "metadata": {},
   "outputs": [
    {
     "data": {
      "text/plain": [
       "<AxesSubplot:>"
      ]
     },
     "execution_count": 26,
     "metadata": {},
     "output_type": "execute_result"
    },
    {
     "data": {
      "image/png": "[encoded data removed]",
      "text/plain": [
       "<Figure size 432x288 with 1 Axes>"
      ]
     },
     "metadata": {
      "needs_background": "light"
     },
     "output_type": "display_data"
    }
   ],
   "source": [
    "df['RegistrationYear'].hist()"
   ]
  },
  {
   "cell_type": "markdown",
   "metadata": {},
   "source": [
    "по диаграмме видно, что есть какие-то значения выходящие за 3000 год, очевидно это выбросы. Посмторим сколько их и какие вообще етсь значения."
   ]
  },
  {
   "cell_type": "code",
   "execution_count": 27,
   "metadata": {},
   "outputs": [
    {
     "data": {
      "text/plain": [
       "array([1000, 1001, 1039, 1111, 1200, 1234, 1253, 1255, 1300, 1400, 1500,\n",
       "       1600, 1602, 1688, 1800, 1910, 1915, 1919, 1920, 1923, 1925, 1927,\n",
       "       1928, 1929, 1930, 1931, 1932, 1933, 1934, 1935, 1936, 1937, 1938,\n",
       "       1940, 1941, 1942, 1943, 1944, 1945, 1946, 1947, 1948, 1949, 1950,\n",
       "       1951, 1952, 1953, 1954, 1955, 1956, 1957, 1958, 1959, 1960, 1961,\n",
       "       1962, 1963, 1964, 1965, 1966, 1967, 1968, 1969, 1970, 1971, 1972,\n",
       "       1973, 1974, 1975, 1976, 1977, 1978, 1979, 1980, 1981, 1982, 1983,\n",
       "       1984, 1985, 1986, 1987, 1988, 1989, 1990, 1991, 1992, 1993, 1994,\n",
       "       1995, 1996, 1997, 1998, 1999, 2000, 2001, 2002, 2003, 2004, 2005,\n",
       "       2006, 2007, 2008, 2009, 2010, 2011, 2012, 2013, 2014, 2015, 2016,\n",
       "       2017, 2018, 2019, 2066, 2200, 2222, 2290, 2500, 2800, 2900, 3000,\n",
       "       3200, 3500, 3700, 3800, 4000, 4100, 4500, 4800, 5000, 5300, 5555,\n",
       "       5600, 5900, 5911, 6000, 6500, 7000, 7100, 7500, 7800, 8000, 8200,\n",
       "       8455, 8500, 8888, 9000, 9229, 9450, 9996, 9999], dtype=int64)"
      ]
     },
     "execution_count": 27,
     "metadata": {},
     "output_type": "execute_result"
    }
   ],
   "source": [
    "df['RegistrationYear'].sort_values().unique()"
   ]
  },
  {
   "cell_type": "markdown",
   "metadata": {},
   "source": [
    "Разброс очень большой от 1000 года, до 9999. Вызвано скорее всего человеческим фатором. Для начла посмотри на строки раньше 1910 года."
   ]
  },
  {
   "cell_type": "code",
   "execution_count": 28,
   "metadata": {},
   "outputs": [
    {
     "data": {
      "text/html": [
       "<div>\n",
       "<style scoped>\n",
       "    .dataframe tbody tr th:only-of-type {\n",
       "        vertical-align: middle;\n",
       "    }\n",
       "\n",
       "    .dataframe tbody tr th {\n",
       "        vertical-align: top;\n",
       "    }\n",
       "\n",
       "    .dataframe thead th {\n",
       "        text-align: right;\n",
       "    }\n",
       "</style>\n",
       "<table border=\"1\" class=\"dataframe\">\n",
       "  <thead>\n",
       "    <tr style=\"text-align: right;\">\n",
       "      <th></th>\n",
       "      <th>DateCrawled</th>\n",
       "      <th>Price</th>\n",
       "      <th>VehicleType</th>\n",
       "      <th>RegistrationYear</th>\n",
       "      <th>Gearbox</th>\n",
       "      <th>Power</th>\n",
       "      <th>Model</th>\n",
       "      <th>Kilometer</th>\n",
       "      <th>RegistrationMonth</th>\n",
       "      <th>FuelType</th>\n",
       "      <th>Brand</th>\n",
       "      <th>Repaired</th>\n",
       "      <th>DateCreated</th>\n",
       "      <th>NumberOfPictures</th>\n",
       "      <th>PostalCode</th>\n",
       "      <th>LastSeen</th>\n",
       "    </tr>\n",
       "  </thead>\n",
       "  <tbody>\n",
       "    <tr>\n",
       "      <th>622</th>\n",
       "      <td>2016-03-16 16:55:09</td>\n",
       "      <td>0</td>\n",
       "      <td>unknow</td>\n",
       "      <td>1111</td>\n",
       "      <td>NaN</td>\n",
       "      <td>0</td>\n",
       "      <td>NaN</td>\n",
       "      <td>5000</td>\n",
       "      <td>0</td>\n",
       "      <td>NaN</td>\n",
       "      <td>opel</td>\n",
       "      <td>NaN</td>\n",
       "      <td>2016-03-16 00:00:00</td>\n",
       "      <td>0</td>\n",
       "      <td>44628</td>\n",
       "      <td>2016-03-20 16:44:37</td>\n",
       "    </tr>\n",
       "    <tr>\n",
       "      <th>16062</th>\n",
       "      <td>2016-03-29 23:42:16</td>\n",
       "      <td>190</td>\n",
       "      <td>unknow</td>\n",
       "      <td>1000</td>\n",
       "      <td>NaN</td>\n",
       "      <td>0</td>\n",
       "      <td>mondeo</td>\n",
       "      <td>5000</td>\n",
       "      <td>0</td>\n",
       "      <td>NaN</td>\n",
       "      <td>ford</td>\n",
       "      <td>NaN</td>\n",
       "      <td>2016-03-29 00:00:00</td>\n",
       "      <td>0</td>\n",
       "      <td>47166</td>\n",
       "      <td>2016-04-06 10:44:58</td>\n",
       "    </tr>\n",
       "    <tr>\n",
       "      <th>18224</th>\n",
       "      <td>2016-03-09 17:49:44</td>\n",
       "      <td>7999</td>\n",
       "      <td>unknow</td>\n",
       "      <td>1500</td>\n",
       "      <td>manual</td>\n",
       "      <td>224</td>\n",
       "      <td>impreza</td>\n",
       "      <td>5000</td>\n",
       "      <td>3</td>\n",
       "      <td>NaN</td>\n",
       "      <td>subaru</td>\n",
       "      <td>NaN</td>\n",
       "      <td>2016-03-09 00:00:00</td>\n",
       "      <td>0</td>\n",
       "      <td>53577</td>\n",
       "      <td>2016-03-15 05:15:17</td>\n",
       "    </tr>\n",
       "    <tr>\n",
       "      <th>34332</th>\n",
       "      <td>2016-04-01 06:02:10</td>\n",
       "      <td>450</td>\n",
       "      <td>unknow</td>\n",
       "      <td>1800</td>\n",
       "      <td>NaN</td>\n",
       "      <td>1800</td>\n",
       "      <td>NaN</td>\n",
       "      <td>5000</td>\n",
       "      <td>2</td>\n",
       "      <td>NaN</td>\n",
       "      <td>mitsubishi</td>\n",
       "      <td>no</td>\n",
       "      <td>2016-04-01 00:00:00</td>\n",
       "      <td>0</td>\n",
       "      <td>63322</td>\n",
       "      <td>2016-04-01 09:42:30</td>\n",
       "    </tr>\n",
       "    <tr>\n",
       "      <th>38875</th>\n",
       "      <td>2016-03-19 23:54:40</td>\n",
       "      <td>1234</td>\n",
       "      <td>unknow</td>\n",
       "      <td>1234</td>\n",
       "      <td>NaN</td>\n",
       "      <td>26</td>\n",
       "      <td>NaN</td>\n",
       "      <td>5000</td>\n",
       "      <td>1</td>\n",
       "      <td>NaN</td>\n",
       "      <td>trabant</td>\n",
       "      <td>NaN</td>\n",
       "      <td>2016-03-19 00:00:00</td>\n",
       "      <td>0</td>\n",
       "      <td>38518</td>\n",
       "      <td>2016-04-06 03:15:22</td>\n",
       "    </tr>\n",
       "    <tr>\n",
       "      <th>...</th>\n",
       "      <td>...</td>\n",
       "      <td>...</td>\n",
       "      <td>...</td>\n",
       "      <td>...</td>\n",
       "      <td>...</td>\n",
       "      <td>...</td>\n",
       "      <td>...</td>\n",
       "      <td>...</td>\n",
       "      <td>...</td>\n",
       "      <td>...</td>\n",
       "      <td>...</td>\n",
       "      <td>...</td>\n",
       "      <td>...</td>\n",
       "      <td>...</td>\n",
       "      <td>...</td>\n",
       "      <td>...</td>\n",
       "    </tr>\n",
       "    <tr>\n",
       "      <th>323424</th>\n",
       "      <td>2016-03-26 20:58:27</td>\n",
       "      <td>30</td>\n",
       "      <td>unknow</td>\n",
       "      <td>1000</td>\n",
       "      <td>NaN</td>\n",
       "      <td>0</td>\n",
       "      <td>NaN</td>\n",
       "      <td>5000</td>\n",
       "      <td>0</td>\n",
       "      <td>NaN</td>\n",
       "      <td>audi</td>\n",
       "      <td>NaN</td>\n",
       "      <td>2016-03-26 00:00:00</td>\n",
       "      <td>0</td>\n",
       "      <td>37574</td>\n",
       "      <td>2016-04-06 12:17:27</td>\n",
       "    </tr>\n",
       "    <tr>\n",
       "      <th>325719</th>\n",
       "      <td>2016-03-30 11:36:35</td>\n",
       "      <td>400</td>\n",
       "      <td>unknow</td>\n",
       "      <td>1000</td>\n",
       "      <td>NaN</td>\n",
       "      <td>0</td>\n",
       "      <td>NaN</td>\n",
       "      <td>5000</td>\n",
       "      <td>0</td>\n",
       "      <td>NaN</td>\n",
       "      <td>mercedes_benz</td>\n",
       "      <td>NaN</td>\n",
       "      <td>2016-03-30 00:00:00</td>\n",
       "      <td>0</td>\n",
       "      <td>8060</td>\n",
       "      <td>2016-04-01 06:16:46</td>\n",
       "    </tr>\n",
       "    <tr>\n",
       "      <th>340739</th>\n",
       "      <td>2016-04-04 23:55:47</td>\n",
       "      <td>700</td>\n",
       "      <td>unknow</td>\n",
       "      <td>1600</td>\n",
       "      <td>manual</td>\n",
       "      <td>1600</td>\n",
       "      <td>a3</td>\n",
       "      <td>150000</td>\n",
       "      <td>4</td>\n",
       "      <td>petrol</td>\n",
       "      <td>audi</td>\n",
       "      <td>no</td>\n",
       "      <td>2016-04-04 00:00:00</td>\n",
       "      <td>0</td>\n",
       "      <td>86343</td>\n",
       "      <td>2016-04-05 06:44:07</td>\n",
       "    </tr>\n",
       "    <tr>\n",
       "      <th>348810</th>\n",
       "      <td>2016-03-22 00:38:15</td>\n",
       "      <td>1</td>\n",
       "      <td>unknow</td>\n",
       "      <td>1000</td>\n",
       "      <td>NaN</td>\n",
       "      <td>1000</td>\n",
       "      <td>NaN</td>\n",
       "      <td>150000</td>\n",
       "      <td>0</td>\n",
       "      <td>NaN</td>\n",
       "      <td>sonstige_autos</td>\n",
       "      <td>NaN</td>\n",
       "      <td>2016-03-21 00:00:00</td>\n",
       "      <td>0</td>\n",
       "      <td>41472</td>\n",
       "      <td>2016-04-05 14:18:01</td>\n",
       "    </tr>\n",
       "    <tr>\n",
       "      <th>351662</th>\n",
       "      <td>2016-03-12 00:57:39</td>\n",
       "      <td>11500</td>\n",
       "      <td>unknow</td>\n",
       "      <td>1800</td>\n",
       "      <td>NaN</td>\n",
       "      <td>16</td>\n",
       "      <td>other</td>\n",
       "      <td>5000</td>\n",
       "      <td>6</td>\n",
       "      <td>petrol</td>\n",
       "      <td>fiat</td>\n",
       "      <td>NaN</td>\n",
       "      <td>2016-03-11 00:00:00</td>\n",
       "      <td>0</td>\n",
       "      <td>16515</td>\n",
       "      <td>2016-04-05 19:47:27</td>\n",
       "    </tr>\n",
       "  </tbody>\n",
       "</table>\n",
       "<p>66 rows × 16 columns</p>\n",
       "</div>"
      ],
      "text/plain": [
       "               DateCrawled  Price VehicleType  RegistrationYear Gearbox  \\\n",
       "622    2016-03-16 16:55:09      0      unknow              1111     NaN   \n",
       "16062  2016-03-29 23:42:16    190      unknow              1000     NaN   \n",
       "18224  2016-03-09 17:49:44   7999      unknow              1500  manual   \n",
       "34332  2016-04-01 06:02:10    450      unknow              1800     NaN   \n",
       "38875  2016-03-19 23:54:40   1234      unknow              1234     NaN   \n",
       "...                    ...    ...         ...               ...     ...   \n",
       "323424 2016-03-26 20:58:27     30      unknow              1000     NaN   \n",
       "325719 2016-03-30 11:36:35    400      unknow              1000     NaN   \n",
       "340739 2016-04-04 23:55:47    700      unknow              1600  manual   \n",
       "348810 2016-03-22 00:38:15      1      unknow              1000     NaN   \n",
       "351662 2016-03-12 00:57:39  11500      unknow              1800     NaN   \n",
       "\n",
       "        Power    Model  Kilometer  RegistrationMonth FuelType           Brand  \\\n",
       "622         0      NaN       5000                  0      NaN            opel   \n",
       "16062       0   mondeo       5000                  0      NaN            ford   \n",
       "18224     224  impreza       5000                  3      NaN          subaru   \n",
       "34332    1800      NaN       5000                  2      NaN      mitsubishi   \n",
       "38875      26      NaN       5000                  1      NaN         trabant   \n",
       "...       ...      ...        ...                ...      ...             ...   \n",
       "323424      0      NaN       5000                  0      NaN            audi   \n",
       "325719      0      NaN       5000                  0      NaN   mercedes_benz   \n",
       "340739   1600       a3     150000                  4   petrol            audi   \n",
       "348810   1000      NaN     150000                  0      NaN  sonstige_autos   \n",
       "351662     16    other       5000                  6   petrol            fiat   \n",
       "\n",
       "       Repaired          DateCreated  NumberOfPictures  PostalCode  \\\n",
       "622         NaN  2016-03-16 00:00:00                 0       44628   \n",
       "16062       NaN  2016-03-29 00:00:00                 0       47166   \n",
       "18224       NaN  2016-03-09 00:00:00                 0       53577   \n",
       "34332        no  2016-04-01 00:00:00                 0       63322   \n",
       "38875       NaN  2016-03-19 00:00:00                 0       38518   \n",
       "...         ...                  ...               ...         ...   \n",
       "323424      NaN  2016-03-26 00:00:00                 0       37574   \n",
       "325719      NaN  2016-03-30 00:00:00                 0        8060   \n",
       "340739       no  2016-04-04 00:00:00                 0       86343   \n",
       "348810      NaN  2016-03-21 00:00:00                 0       41472   \n",
       "351662      NaN  2016-03-11 00:00:00                 0       16515   \n",
       "\n",
       "                   LastSeen  \n",
       "622     2016-03-20 16:44:37  \n",
       "16062   2016-04-06 10:44:58  \n",
       "18224   2016-03-15 05:15:17  \n",
       "34332   2016-04-01 09:42:30  \n",
       "38875   2016-04-06 03:15:22  \n",
       "...                     ...  \n",
       "323424  2016-04-06 12:17:27  \n",
       "325719  2016-04-01 06:16:46  \n",
       "340739  2016-04-05 06:44:07  \n",
       "348810  2016-04-05 14:18:01  \n",
       "351662  2016-04-05 19:47:27  \n",
       "\n",
       "[66 rows x 16 columns]"
      ]
     },
     "execution_count": 28,
     "metadata": {},
     "output_type": "execute_result"
    }
   ],
   "source": [
    "df.loc[df['RegistrationYear'] < 1910]"
   ]
  },
  {
   "cell_type": "markdown",
   "metadata": {},
   "source": [
    "Объявления достаточно \"живые\" можно предположить, что люди просто опечаталась или вводили две цифры при подаче объявления, а алгоритм дописал 00."
   ]
  },
  {
   "cell_type": "markdown",
   "metadata": {},
   "source": [
    "Тогда если объявление заканчиватеся на 00 то можно первые две цифры перенести в конец, остается определить к какому столетию будет относиться автомобиль, к 20 веку или 21. Можно это оценить по дате создания объявления."
   ]
  },
  {
   "cell_type": "code",
   "execution_count": 29,
   "metadata": {},
   "outputs": [],
   "source": [
    "def year_cor (df):\n",
    "    if df['RegistrationYear']%100 == 0:\n",
    "        if int(df['DateCreated'][2:4]) > df['RegistrationYear']//100:\n",
    "            return 2000+df['RegistrationYear']//100\n",
    "        else:\n",
    "            return 1900+df['RegistrationYear']//100\n",
    "    else:\n",
    "        if int(df['DateCreated'][2:4]) > df['RegistrationYear']%100:\n",
    "            return 2000+df['RegistrationYear']%100\n",
    "        else:\n",
    "            return 1900+df['RegistrationYear']%100"
   ]
  },
  {
   "cell_type": "code",
   "execution_count": 30,
   "metadata": {},
   "outputs": [
    {
     "data": {
      "text/html": [
       "<div>\n",
       "<style scoped>\n",
       "    .dataframe tbody tr th:only-of-type {\n",
       "        vertical-align: middle;\n",
       "    }\n",
       "\n",
       "    .dataframe tbody tr th {\n",
       "        vertical-align: top;\n",
       "    }\n",
       "\n",
       "    .dataframe thead th {\n",
       "        text-align: right;\n",
       "    }\n",
       "</style>\n",
       "<table border=\"1\" class=\"dataframe\">\n",
       "  <thead>\n",
       "    <tr style=\"text-align: right;\">\n",
       "      <th></th>\n",
       "      <th>DateCrawled</th>\n",
       "      <th>Price</th>\n",
       "      <th>VehicleType</th>\n",
       "      <th>RegistrationYear</th>\n",
       "      <th>Gearbox</th>\n",
       "      <th>Power</th>\n",
       "      <th>Model</th>\n",
       "      <th>Kilometer</th>\n",
       "      <th>RegistrationMonth</th>\n",
       "      <th>FuelType</th>\n",
       "      <th>Brand</th>\n",
       "      <th>Repaired</th>\n",
       "      <th>DateCreated</th>\n",
       "      <th>NumberOfPictures</th>\n",
       "      <th>PostalCode</th>\n",
       "      <th>LastSeen</th>\n",
       "    </tr>\n",
       "  </thead>\n",
       "  <tbody>\n",
       "    <tr>\n",
       "      <th>622</th>\n",
       "      <td>2016-03-16 16:55:09</td>\n",
       "      <td>0</td>\n",
       "      <td>unknow</td>\n",
       "      <td>1111</td>\n",
       "      <td>NaN</td>\n",
       "      <td>0</td>\n",
       "      <td>NaN</td>\n",
       "      <td>5000</td>\n",
       "      <td>0</td>\n",
       "      <td>NaN</td>\n",
       "      <td>opel</td>\n",
       "      <td>NaN</td>\n",
       "      <td>2016-03-16 00:00:00</td>\n",
       "      <td>0</td>\n",
       "      <td>44628</td>\n",
       "      <td>2016-03-20 16:44:37</td>\n",
       "    </tr>\n",
       "    <tr>\n",
       "      <th>16062</th>\n",
       "      <td>2016-03-29 23:42:16</td>\n",
       "      <td>190</td>\n",
       "      <td>unknow</td>\n",
       "      <td>1000</td>\n",
       "      <td>NaN</td>\n",
       "      <td>0</td>\n",
       "      <td>mondeo</td>\n",
       "      <td>5000</td>\n",
       "      <td>0</td>\n",
       "      <td>NaN</td>\n",
       "      <td>ford</td>\n",
       "      <td>NaN</td>\n",
       "      <td>2016-03-29 00:00:00</td>\n",
       "      <td>0</td>\n",
       "      <td>47166</td>\n",
       "      <td>2016-04-06 10:44:58</td>\n",
       "    </tr>\n",
       "    <tr>\n",
       "      <th>18224</th>\n",
       "      <td>2016-03-09 17:49:44</td>\n",
       "      <td>7999</td>\n",
       "      <td>unknow</td>\n",
       "      <td>1500</td>\n",
       "      <td>manual</td>\n",
       "      <td>224</td>\n",
       "      <td>impreza</td>\n",
       "      <td>5000</td>\n",
       "      <td>3</td>\n",
       "      <td>NaN</td>\n",
       "      <td>subaru</td>\n",
       "      <td>NaN</td>\n",
       "      <td>2016-03-09 00:00:00</td>\n",
       "      <td>0</td>\n",
       "      <td>53577</td>\n",
       "      <td>2016-03-15 05:15:17</td>\n",
       "    </tr>\n",
       "    <tr>\n",
       "      <th>34332</th>\n",
       "      <td>2016-04-01 06:02:10</td>\n",
       "      <td>450</td>\n",
       "      <td>unknow</td>\n",
       "      <td>1800</td>\n",
       "      <td>NaN</td>\n",
       "      <td>1800</td>\n",
       "      <td>NaN</td>\n",
       "      <td>5000</td>\n",
       "      <td>2</td>\n",
       "      <td>NaN</td>\n",
       "      <td>mitsubishi</td>\n",
       "      <td>no</td>\n",
       "      <td>2016-04-01 00:00:00</td>\n",
       "      <td>0</td>\n",
       "      <td>63322</td>\n",
       "      <td>2016-04-01 09:42:30</td>\n",
       "    </tr>\n",
       "    <tr>\n",
       "      <th>38875</th>\n",
       "      <td>2016-03-19 23:54:40</td>\n",
       "      <td>1234</td>\n",
       "      <td>unknow</td>\n",
       "      <td>1234</td>\n",
       "      <td>NaN</td>\n",
       "      <td>26</td>\n",
       "      <td>NaN</td>\n",
       "      <td>5000</td>\n",
       "      <td>1</td>\n",
       "      <td>NaN</td>\n",
       "      <td>trabant</td>\n",
       "      <td>NaN</td>\n",
       "      <td>2016-03-19 00:00:00</td>\n",
       "      <td>0</td>\n",
       "      <td>38518</td>\n",
       "      <td>2016-04-06 03:15:22</td>\n",
       "    </tr>\n",
       "    <tr>\n",
       "      <th>...</th>\n",
       "      <td>...</td>\n",
       "      <td>...</td>\n",
       "      <td>...</td>\n",
       "      <td>...</td>\n",
       "      <td>...</td>\n",
       "      <td>...</td>\n",
       "      <td>...</td>\n",
       "      <td>...</td>\n",
       "      <td>...</td>\n",
       "      <td>...</td>\n",
       "      <td>...</td>\n",
       "      <td>...</td>\n",
       "      <td>...</td>\n",
       "      <td>...</td>\n",
       "      <td>...</td>\n",
       "      <td>...</td>\n",
       "    </tr>\n",
       "    <tr>\n",
       "      <th>323424</th>\n",
       "      <td>2016-03-26 20:58:27</td>\n",
       "      <td>30</td>\n",
       "      <td>unknow</td>\n",
       "      <td>1000</td>\n",
       "      <td>NaN</td>\n",
       "      <td>0</td>\n",
       "      <td>NaN</td>\n",
       "      <td>5000</td>\n",
       "      <td>0</td>\n",
       "      <td>NaN</td>\n",
       "      <td>audi</td>\n",
       "      <td>NaN</td>\n",
       "      <td>2016-03-26 00:00:00</td>\n",
       "      <td>0</td>\n",
       "      <td>37574</td>\n",
       "      <td>2016-04-06 12:17:27</td>\n",
       "    </tr>\n",
       "    <tr>\n",
       "      <th>325719</th>\n",
       "      <td>2016-03-30 11:36:35</td>\n",
       "      <td>400</td>\n",
       "      <td>unknow</td>\n",
       "      <td>1000</td>\n",
       "      <td>NaN</td>\n",
       "      <td>0</td>\n",
       "      <td>NaN</td>\n",
       "      <td>5000</td>\n",
       "      <td>0</td>\n",
       "      <td>NaN</td>\n",
       "      <td>mercedes_benz</td>\n",
       "      <td>NaN</td>\n",
       "      <td>2016-03-30 00:00:00</td>\n",
       "      <td>0</td>\n",
       "      <td>8060</td>\n",
       "      <td>2016-04-01 06:16:46</td>\n",
       "    </tr>\n",
       "    <tr>\n",
       "      <th>340739</th>\n",
       "      <td>2016-04-04 23:55:47</td>\n",
       "      <td>700</td>\n",
       "      <td>unknow</td>\n",
       "      <td>1600</td>\n",
       "      <td>manual</td>\n",
       "      <td>1600</td>\n",
       "      <td>a3</td>\n",
       "      <td>150000</td>\n",
       "      <td>4</td>\n",
       "      <td>petrol</td>\n",
       "      <td>audi</td>\n",
       "      <td>no</td>\n",
       "      <td>2016-04-04 00:00:00</td>\n",
       "      <td>0</td>\n",
       "      <td>86343</td>\n",
       "      <td>2016-04-05 06:44:07</td>\n",
       "    </tr>\n",
       "    <tr>\n",
       "      <th>348810</th>\n",
       "      <td>2016-03-22 00:38:15</td>\n",
       "      <td>1</td>\n",
       "      <td>unknow</td>\n",
       "      <td>1000</td>\n",
       "      <td>NaN</td>\n",
       "      <td>1000</td>\n",
       "      <td>NaN</td>\n",
       "      <td>150000</td>\n",
       "      <td>0</td>\n",
       "      <td>NaN</td>\n",
       "      <td>sonstige_autos</td>\n",
       "      <td>NaN</td>\n",
       "      <td>2016-03-21 00:00:00</td>\n",
       "      <td>0</td>\n",
       "      <td>41472</td>\n",
       "      <td>2016-04-05 14:18:01</td>\n",
       "    </tr>\n",
       "    <tr>\n",
       "      <th>351662</th>\n",
       "      <td>2016-03-12 00:57:39</td>\n",
       "      <td>11500</td>\n",
       "      <td>unknow</td>\n",
       "      <td>1800</td>\n",
       "      <td>NaN</td>\n",
       "      <td>16</td>\n",
       "      <td>other</td>\n",
       "      <td>5000</td>\n",
       "      <td>6</td>\n",
       "      <td>petrol</td>\n",
       "      <td>fiat</td>\n",
       "      <td>NaN</td>\n",
       "      <td>2016-03-11 00:00:00</td>\n",
       "      <td>0</td>\n",
       "      <td>16515</td>\n",
       "      <td>2016-04-05 19:47:27</td>\n",
       "    </tr>\n",
       "  </tbody>\n",
       "</table>\n",
       "<p>66 rows × 16 columns</p>\n",
       "</div>"
      ],
      "text/plain": [
       "               DateCrawled  Price VehicleType  RegistrationYear Gearbox  \\\n",
       "622    2016-03-16 16:55:09      0      unknow              1111     NaN   \n",
       "16062  2016-03-29 23:42:16    190      unknow              1000     NaN   \n",
       "18224  2016-03-09 17:49:44   7999      unknow              1500  manual   \n",
       "34332  2016-04-01 06:02:10    450      unknow              1800     NaN   \n",
       "38875  2016-03-19 23:54:40   1234      unknow              1234     NaN   \n",
       "...                    ...    ...         ...               ...     ...   \n",
       "323424 2016-03-26 20:58:27     30      unknow              1000     NaN   \n",
       "325719 2016-03-30 11:36:35    400      unknow              1000     NaN   \n",
       "340739 2016-04-04 23:55:47    700      unknow              1600  manual   \n",
       "348810 2016-03-22 00:38:15      1      unknow              1000     NaN   \n",
       "351662 2016-03-12 00:57:39  11500      unknow              1800     NaN   \n",
       "\n",
       "        Power    Model  Kilometer  RegistrationMonth FuelType           Brand  \\\n",
       "622         0      NaN       5000                  0      NaN            opel   \n",
       "16062       0   mondeo       5000                  0      NaN            ford   \n",
       "18224     224  impreza       5000                  3      NaN          subaru   \n",
       "34332    1800      NaN       5000                  2      NaN      mitsubishi   \n",
       "38875      26      NaN       5000                  1      NaN         trabant   \n",
       "...       ...      ...        ...                ...      ...             ...   \n",
       "323424      0      NaN       5000                  0      NaN            audi   \n",
       "325719      0      NaN       5000                  0      NaN   mercedes_benz   \n",
       "340739   1600       a3     150000                  4   petrol            audi   \n",
       "348810   1000      NaN     150000                  0      NaN  sonstige_autos   \n",
       "351662     16    other       5000                  6   petrol            fiat   \n",
       "\n",
       "       Repaired          DateCreated  NumberOfPictures  PostalCode  \\\n",
       "622         NaN  2016-03-16 00:00:00                 0       44628   \n",
       "16062       NaN  2016-03-29 00:00:00                 0       47166   \n",
       "18224       NaN  2016-03-09 00:00:00                 0       53577   \n",
       "34332        no  2016-04-01 00:00:00                 0       63322   \n",
       "38875       NaN  2016-03-19 00:00:00                 0       38518   \n",
       "...         ...                  ...               ...         ...   \n",
       "323424      NaN  2016-03-26 00:00:00                 0       37574   \n",
       "325719      NaN  2016-03-30 00:00:00                 0        8060   \n",
       "340739       no  2016-04-04 00:00:00                 0       86343   \n",
       "348810      NaN  2016-03-21 00:00:00                 0       41472   \n",
       "351662      NaN  2016-03-11 00:00:00                 0       16515   \n",
       "\n",
       "                   LastSeen  \n",
       "622     2016-03-20 16:44:37  \n",
       "16062   2016-04-06 10:44:58  \n",
       "18224   2016-03-15 05:15:17  \n",
       "34332   2016-04-01 09:42:30  \n",
       "38875   2016-04-06 03:15:22  \n",
       "...                     ...  \n",
       "323424  2016-04-06 12:17:27  \n",
       "325719  2016-04-01 06:16:46  \n",
       "340739  2016-04-05 06:44:07  \n",
       "348810  2016-04-05 14:18:01  \n",
       "351662  2016-04-05 19:47:27  \n",
       "\n",
       "[66 rows x 16 columns]"
      ]
     },
     "execution_count": 30,
     "metadata": {},
     "output_type": "execute_result"
    }
   ],
   "source": [
    "df.loc[df['RegistrationYear'] < 1910]"
   ]
  },
  {
   "cell_type": "code",
   "execution_count": 31,
   "metadata": {},
   "outputs": [],
   "source": [
    "df.loc[df['RegistrationYear'] < 1910, 'RegistrationYear'] = df.loc[df['RegistrationYear'] < 1910].apply(year_cor, axis =1 )"
   ]
  },
  {
   "cell_type": "code",
   "execution_count": 32,
   "metadata": {},
   "outputs": [
    {
     "data": {
      "text/plain": [
       "array([1910, 1915, 1916, 1918, 1919, 1920, 1923, 1925, 1927, 1928, 1929,\n",
       "       1930, 1931, 1932, 1933, 1934, 1935, 1936, 1937, 1938, 1939, 1940,\n",
       "       1941, 1942, 1943, 1944, 1945, 1946, 1947, 1948, 1949, 1950, 1951,\n",
       "       1952, 1953, 1954, 1955, 1956, 1957, 1958, 1959, 1960, 1961, 1962,\n",
       "       1963, 1964, 1965, 1966, 1967, 1968, 1969, 1970, 1971, 1972, 1973,\n",
       "       1974, 1975, 1976, 1977, 1978, 1979, 1980, 1981, 1982, 1983, 1984,\n",
       "       1985, 1986, 1987, 1988, 1989, 1990, 1991, 1992, 1993, 1994, 1995,\n",
       "       1996, 1997, 1998, 1999, 2000, 2001, 2002, 2003, 2004, 2005, 2006,\n",
       "       2007, 2008, 2009, 2010, 2011, 2012, 2013, 2014, 2015, 2016, 2017,\n",
       "       2018, 2019, 2066, 2200, 2222, 2290, 2500, 2800, 2900, 3000, 3200,\n",
       "       3500, 3700, 3800, 4000, 4100, 4500, 4800, 5000, 5300, 5555, 5600,\n",
       "       5900, 5911, 6000, 6500, 7000, 7100, 7500, 7800, 8000, 8200, 8455,\n",
       "       8500, 8888, 9000, 9229, 9450, 9996, 9999], dtype=int64)"
      ]
     },
     "execution_count": 32,
     "metadata": {},
     "output_type": "execute_result"
    }
   ],
   "source": [
    "df['RegistrationYear'].sort_values().unique()"
   ]
  },
  {
   "cell_type": "markdown",
   "metadata": {},
   "source": [
    "По такойже системе можно и откорректировать года больше 2019"
   ]
  },
  {
   "cell_type": "code",
   "execution_count": 33,
   "metadata": {},
   "outputs": [],
   "source": [
    "df.loc[df['RegistrationYear'] > 2019, 'RegistrationYear'] = df.loc[df['RegistrationYear'] > 2019].apply(year_cor, axis =1 )"
   ]
  },
  {
   "cell_type": "code",
   "execution_count": 34,
   "metadata": {},
   "outputs": [
    {
     "data": {
      "text/plain": [
       "array([1910, 1915, 1916, 1918, 1919, 1920, 1922, 1923, 1925, 1927, 1928,\n",
       "       1929, 1930, 1931, 1932, 1933, 1934, 1935, 1936, 1937, 1938, 1939,\n",
       "       1940, 1941, 1942, 1943, 1944, 1945, 1946, 1947, 1948, 1949, 1950,\n",
       "       1951, 1952, 1953, 1954, 1955, 1956, 1957, 1958, 1959, 1960, 1961,\n",
       "       1962, 1963, 1964, 1965, 1966, 1967, 1968, 1969, 1970, 1971, 1972,\n",
       "       1973, 1974, 1975, 1976, 1977, 1978, 1979, 1980, 1981, 1982, 1983,\n",
       "       1984, 1985, 1986, 1987, 1988, 1989, 1990, 1991, 1992, 1993, 1994,\n",
       "       1995, 1996, 1997, 1998, 1999, 2000, 2001, 2002, 2003, 2004, 2005,\n",
       "       2006, 2007, 2008, 2009, 2010, 2011, 2012, 2013, 2014, 2015, 2016,\n",
       "       2017, 2018, 2019], dtype=int64)"
      ]
     },
     "execution_count": 34,
     "metadata": {},
     "output_type": "execute_result"
    }
   ],
   "source": [
    "df['RegistrationYear'].sort_values().unique()"
   ]
  },
  {
   "cell_type": "markdown",
   "metadata": {},
   "source": [
    "Вроде бы получилось, посмотрим теперь на распределение по годам."
   ]
  },
  {
   "cell_type": "code",
   "execution_count": 35,
   "metadata": {
    "scrolled": true
   },
   "outputs": [
    {
     "data": {
      "text/plain": [
       "<AxesSubplot:>"
      ]
     },
     "execution_count": 35,
     "metadata": {},
     "output_type": "execute_result"
    },
    {
     "data": {
      "image/png": "[encoded data removed]",
      "text/plain": [
       "<Figure size 432x288 with 1 Axes>"
      ]
     },
     "metadata": {
      "needs_background": "light"
     },
     "output_type": "display_data"
    }
   ],
   "source": [
    "df['RegistrationYear'].hist()"
   ]
  },
  {
   "cell_type": "markdown",
   "metadata": {},
   "source": [
    "Уже выглядит на много лучше, основные обявления распологаются в промежутке от 1980 до 2019 года, похоже на правду."
   ]
  },
  {
   "cell_type": "markdown",
   "metadata": {},
   "source": [
    "#### Gearbox"
   ]
  },
  {
   "cell_type": "markdown",
   "metadata": {},
   "source": [
    "Тут все должно быть просто, всего 4 значения, автомат, механика, вариатор и пропуск, посмотрим."
   ]
  },
  {
   "cell_type": "code",
   "execution_count": 36,
   "metadata": {},
   "outputs": [
    {
     "data": {
      "text/plain": [
       "array(['manual', 'auto', nan], dtype=object)"
      ]
     },
     "execution_count": 36,
     "metadata": {},
     "output_type": "execute_result"
    }
   ],
   "source": [
    "df['Gearbox'].unique()"
   ]
  },
  {
   "cell_type": "markdown",
   "metadata": {},
   "source": [
    "Даже вариатора нету, ну ладно, посмотрим сколько пропусков."
   ]
  },
  {
   "cell_type": "code",
   "execution_count": 37,
   "metadata": {},
   "outputs": [
    {
     "data": {
      "text/plain": [
       "19833"
      ]
     },
     "execution_count": 37,
     "metadata": {},
     "output_type": "execute_result"
    }
   ],
   "source": [
    "df['Gearbox'].isna().sum()"
   ]
  },
  {
   "cell_type": "markdown",
   "metadata": {},
   "source": [
    "Почти 20к, много, думаем что можно сдлеать."
   ]
  },
  {
   "cell_type": "markdown",
   "metadata": {},
   "source": [
    "Посмотри сколько пропусков до 1950 года."
   ]
  },
  {
   "cell_type": "code",
   "execution_count": 38,
   "metadata": {},
   "outputs": [
    {
     "data": {
      "text/plain": [
       "129"
      ]
     },
     "execution_count": 38,
     "metadata": {},
     "output_type": "execute_result"
    }
   ],
   "source": [
    "df.loc[df['RegistrationYear'] < 1950, 'Gearbox'].isna().sum()"
   ]
  },
  {
   "cell_type": "markdown",
   "metadata": {},
   "source": [
    "Всего 129, мало, но лучше чем ничего. Эти пропуски точно можно заменить на механику, тк примерно с 50 года начали устанавливать АККП на автомобили."
   ]
  },
  {
   "cell_type": "code",
   "execution_count": 39,
   "metadata": {},
   "outputs": [],
   "source": [
    "df.loc[df['RegistrationYear'] < 1950, 'Gearbox'] = df.loc[df['RegistrationYear'] < 1950, 'Gearbox'].fillna('manual')"
   ]
  },
  {
   "cell_type": "markdown",
   "metadata": {},
   "source": [
    "Удалять данные строки не хочется, большая потеря будет, можно тогда просто заменить на 'unknow'."
   ]
  },
  {
   "cell_type": "code",
   "execution_count": 40,
   "metadata": {},
   "outputs": [],
   "source": [
    "df['Gearbox'] = df['Gearbox'].fillna('unknown')"
   ]
  },
  {
   "cell_type": "code",
   "execution_count": 41,
   "metadata": {},
   "outputs": [
    {
     "data": {
      "text/plain": [
       "0"
      ]
     },
     "execution_count": 41,
     "metadata": {},
     "output_type": "execute_result"
    }
   ],
   "source": [
    "df['Gearbox'].isna().sum()"
   ]
  },
  {
   "cell_type": "markdown",
   "metadata": {},
   "source": [
    "Ну и для успокоение, посмотрим рапределение."
   ]
  },
  {
   "cell_type": "code",
   "execution_count": 42,
   "metadata": {},
   "outputs": [
    {
     "data": {
      "text/plain": [
       "<AxesSubplot:>"
      ]
     },
     "execution_count": 42,
     "metadata": {},
     "output_type": "execute_result"
    },
    {
     "data": {
      "image/png": "[encoded data removed]",
      "text/plain": [
       "<Figure size 432x288 with 1 Axes>"
      ]
     },
     "metadata": {
      "needs_background": "light"
     },
     "output_type": "display_data"
    }
   ],
   "source": [
    "df['Gearbox'].hist()"
   ]
  },
  {
   "cell_type": "markdown",
   "metadata": {},
   "source": [
    "Как и следовало ожидать, механики на рынке больше, чем автоматов, все как в жизни."
   ]
  },
  {
   "cell_type": "markdown",
   "metadata": {},
   "source": [
    "#### Power"
   ]
  },
  {
   "cell_type": "markdown",
   "metadata": {},
   "source": [
    "Тут пропусков нет, но навернека есть аномалии, посмотрим."
   ]
  },
  {
   "cell_type": "code",
   "execution_count": 43,
   "metadata": {},
   "outputs": [
    {
     "data": {
      "text/plain": [
       "<AxesSubplot:>"
      ]
     },
     "execution_count": 43,
     "metadata": {},
     "output_type": "execute_result"
    },
    {
     "data": {
      "image/png": "[encoded data removed]",
      "text/plain": [
       "<Figure size 432x288 with 1 Axes>"
      ]
     },
     "metadata": {
      "needs_background": "light"
     },
     "output_type": "display_data"
    }
   ],
   "source": [
    "df['Power'].hist()"
   ]
  },
  {
   "cell_type": "markdown",
   "metadata": {},
   "source": [
    "Не понятно. Сузим разброс. До 500 л.с. будет не плохо."
   ]
  },
  {
   "cell_type": "code",
   "execution_count": 44,
   "metadata": {},
   "outputs": [
    {
     "data": {
      "text/plain": [
       "<AxesSubplot:>"
      ]
     },
     "execution_count": 44,
     "metadata": {},
     "output_type": "execute_result"
    },
    {
     "data": {
      "image/png": "[encoded data removed]",
      "text/plain": [
       "<Figure size 432x288 with 1 Axes>"
      ]
     },
     "metadata": {
      "needs_background": "light"
     },
     "output_type": "display_data"
    }
   ],
   "source": [
    "df.loc[df['Power'] < 500, 'Power'].hist()"
   ]
  },
  {
   "cell_type": "markdown",
   "metadata": {},
   "source": [
    "На этом диапозоне все хорошо, посмотрим что творится за его приделами."
   ]
  },
  {
   "cell_type": "code",
   "execution_count": 45,
   "metadata": {},
   "outputs": [
    {
     "data": {
      "text/plain": [
       "459"
      ]
     },
     "execution_count": 45,
     "metadata": {},
     "output_type": "execute_result"
    }
   ],
   "source": [
    "df.loc[df['Power'] > 500, 'Power'].count()"
   ]
  },
  {
   "cell_type": "markdown",
   "metadata": {},
   "source": [
    "тут всего 459 объявлений, посмотрим какие есть значения."
   ]
  },
  {
   "cell_type": "code",
   "execution_count": 46,
   "metadata": {},
   "outputs": [
    {
     "data": {
      "text/plain": [
       "array([  504,   505,   507,   508,   510,   514,   515,   517,   519,\n",
       "         520,   521,   525,   530,   540,   541,   544,   550,   551,\n",
       "         553,   560,   572,   574,   579,   580,   584,   585,   599,\n",
       "         600,   601,   602,   603,   604,   606,   607,   610,   612,\n",
       "         620,   640,   645,   650,   651,   671,   678,   682,   685,\n",
       "         696,   700,   702,   703,   732,   743,   750,   751,   754,\n",
       "         771,   776,   800,   805,   808,   850,   851,   871,   900,\n",
       "         901,   902,   903,   907,   909,   923,   950,   952,   953,\n",
       "         960,   998,   999,  1000,  1001,  1002,  1003,  1004,  1005,\n",
       "        1011,  1012,  1016,  1017,  1021,  1024,  1054,  1055,  1056,\n",
       "        1062,  1079,  1082,  1090,  1100,  1102,  1103,  1105,  1111,\n",
       "        1115,  1120,  1149,  1151,  1158,  1160,  1162,  1164,  1199,\n",
       "        1200,  1202,  1221,  1223,  1230,  1239,  1240,  1241,  1250,\n",
       "        1252,  1256,  1275,  1288,  1299,  1300,  1312,  1317,  1324,\n",
       "        1339,  1351,  1360,  1362,  1363,  1367,  1390,  1394,  1398,\n",
       "        1399,  1400,  1401,  1403,  1405,  1416,  1432,  1433,  1436,\n",
       "        1500,  1501,  1502,  1503,  1506,  1521,  1548,  1595,  1596,\n",
       "        1597,  1598,  1600,  1625,  1631,  1653,  1659,  1689,  1700,\n",
       "        1701,  1703,  1704,  1707,  1753,  1771,  1779,  1780,  1781,\n",
       "        1783,  1793,  1796,  1799,  1800,  1801,  1870,  1895,  1896,\n",
       "        1900,  1910,  1920,  1922,  1933,  1937,  1968,  1986,  1988,\n",
       "        1992,  1993,  1995,  1998,  1999,  2000,  2004,  2005,  2007,\n",
       "        2009,  2016,  2017,  2018,  2172,  2200,  2201,  2331,  2340,\n",
       "        2389,  2402,  2461,  2598,  2729,  2789,  2792,  2799,  3000,\n",
       "        3199,  3454,  3500,  3750,  4400,  4507,  4700,  5000,  5411,\n",
       "        5420,  5575,  5809,  5815,  5867,  6006,  6010,  6011,  6012,\n",
       "        6018,  6045,  6062,  6226,  6512,  6920,  7508,  7511,  7512,\n",
       "        7515,  7518,  7529,  7544,  8011,  8259,  8404,  8500,  9000,\n",
       "        9007,  9010,  9011,  9012,  9013,  9710, 10000, 10110, 10218,\n",
       "       10311, 10317, 10520, 10522, 10710, 10910, 10912, 11011, 11025,\n",
       "       11111, 11509, 11530, 11635, 12012, 12510, 12512, 12684, 13616,\n",
       "       13636, 14009, 15001, 15016, 15017, 15020, 15033, 16011, 16051,\n",
       "       16311, 16312, 17011, 17019, 17410, 17700, 17932, 19208, 19211,\n",
       "       19312, 20000], dtype=int64)"
      ]
     },
     "execution_count": 46,
     "metadata": {},
     "output_type": "execute_result"
    }
   ],
   "source": [
    "df.loc[df['Power'] > 500, 'Power'].sort_values().unique()"
   ]
  },
  {
   "cell_type": "markdown",
   "metadata": {},
   "source": [
    "По скольку даже формула 1 имеет на своем борту двигатель 600 л.с., а гипер кары имеют двигатели в районе 1000 л.с., думаю эти объявления явно имеют ошибки. По этому не видя здесь каких-то закономерностей просто удалим эти значения."
   ]
  },
  {
   "cell_type": "code",
   "execution_count": 47,
   "metadata": {},
   "outputs": [],
   "source": [
    "df = df.drop(index = df.loc[df['Power'] > 500].index).reset_index(drop=True)"
   ]
  },
  {
   "cell_type": "code",
   "execution_count": 48,
   "metadata": {},
   "outputs": [
    {
     "data": {
      "text/plain": [
       "<AxesSubplot:>"
      ]
     },
     "execution_count": 48,
     "metadata": {},
     "output_type": "execute_result"
    },
    {
     "data": {
      "image/png": "[encoded data removed]",
      "text/plain": [
       "<Figure size 432x288 with 1 Axes>"
      ]
     },
     "metadata": {
      "needs_background": "light"
     },
     "output_type": "display_data"
    }
   ],
   "source": [
    "df['Power'].hist()"
   ]
  },
  {
   "cell_type": "markdown",
   "metadata": {},
   "source": [
    "Еще вопрос к 0 значениям."
   ]
  },
  {
   "cell_type": "code",
   "execution_count": 49,
   "metadata": {},
   "outputs": [
    {
     "data": {
      "text/plain": [
       "40225"
      ]
     },
     "execution_count": 49,
     "metadata": {},
     "output_type": "execute_result"
    }
   ],
   "source": [
    "df.loc[df['Power'] == 0, 'Power'].count()"
   ]
  },
  {
   "cell_type": "markdown",
   "metadata": {},
   "source": [
    "Их так же достаточно много, постутпим как и с колонкой 'Price'."
   ]
  },
  {
   "cell_type": "markdown",
   "metadata": {},
   "source": [
    "#### Model"
   ]
  },
  {
   "cell_type": "markdown",
   "metadata": {},
   "source": [
    "Тут очень много пропусков. Будем разбираться."
   ]
  },
  {
   "cell_type": "code",
   "execution_count": 50,
   "metadata": {},
   "outputs": [
    {
     "data": {
      "text/plain": [
       "251"
      ]
     },
     "execution_count": 50,
     "metadata": {},
     "output_type": "execute_result"
    }
   ],
   "source": [
    "len(df['Model'].unique())"
   ]
  },
  {
   "cell_type": "code",
   "execution_count": 51,
   "metadata": {},
   "outputs": [
    {
     "data": {
      "text/plain": [
       "19647"
      ]
     },
     "execution_count": 51,
     "metadata": {},
     "output_type": "execute_result"
    }
   ],
   "source": [
    "df['Model'].isna().sum()"
   ]
  },
  {
   "cell_type": "markdown",
   "metadata": {},
   "source": [
    "251 модель, думаю смотреть на их распределение нет смысла, будет не информативно. По сольку пропусков много, просто заменим их на \"unknow\", как и в других категориях."
   ]
  },
  {
   "cell_type": "code",
   "execution_count": 52,
   "metadata": {},
   "outputs": [],
   "source": [
    "df['Model'] = df['Model'].fillna('unknown')"
   ]
  },
  {
   "cell_type": "code",
   "execution_count": 53,
   "metadata": {},
   "outputs": [
    {
     "data": {
      "text/plain": [
       "0"
      ]
     },
     "execution_count": 53,
     "metadata": {},
     "output_type": "execute_result"
    }
   ],
   "source": [
    "df['Model'].isna().sum()"
   ]
  },
  {
   "cell_type": "markdown",
   "metadata": {},
   "source": [
    "Еще можно посмотреть на 10 самых популярных моделей."
   ]
  },
  {
   "cell_type": "code",
   "execution_count": 54,
   "metadata": {},
   "outputs": [
    {
     "data": {
      "text/plain": [
       "golf        29204\n",
       "other       24379\n",
       "3er         19743\n",
       "unknown     19647\n",
       "polo        13049\n",
       "corsa       12555\n",
       "astra       10794\n",
       "passat      10133\n",
       "a4           9893\n",
       "c_klasse     8304\n",
       "Name: Model, dtype: int64"
      ]
     },
     "execution_count": 54,
     "metadata": {},
     "output_type": "execute_result"
    }
   ],
   "source": [
    "df['Model'].value_counts().head(10)"
   ]
  },
  {
   "cell_type": "markdown",
   "metadata": {},
   "source": [
    "Другие почти на ровне с лидеров \"golf\", возможно организаторам стоит расширить базу по моделям."
   ]
  },
  {
   "cell_type": "markdown",
   "metadata": {},
   "source": [
    "#### Kilometer"
   ]
  },
  {
   "cell_type": "markdown",
   "metadata": {},
   "source": [
    "Тут также нет пропуском, но наврняка есть не логичные значения, посмотрим на распределение."
   ]
  },
  {
   "cell_type": "code",
   "execution_count": 55,
   "metadata": {
    "scrolled": true
   },
   "outputs": [
    {
     "data": {
      "text/plain": [
       "<AxesSubplot:>"
      ]
     },
     "execution_count": 55,
     "metadata": {},
     "output_type": "execute_result"
    },
    {
     "data": {
      "image/png": "[encoded data removed]",
      "text/plain": [
       "<Figure size 432x288 with 1 Axes>"
      ]
     },
     "metadata": {
      "needs_background": "light"
     },
     "output_type": "display_data"
    }
   ],
   "source": [
    "df['Kilometer'].hist()"
   ]
  },
  {
   "cell_type": "markdown",
   "metadata": {},
   "source": [
    "Интересно, большое количство объявлений с пробугом больше 125к КМ, интересно почему."
   ]
  },
  {
   "cell_type": "code",
   "execution_count": 56,
   "metadata": {},
   "outputs": [
    {
     "data": {
      "text/plain": [
       "150000    237892\n",
       "125000     36408\n",
       "100000     14869\n",
       "90000      11556\n",
       "80000      10037\n",
       "70000       8585\n",
       "60000       7436\n",
       "5000        6361\n",
       "50000       6227\n",
       "40000       4904\n",
       "30000       4428\n",
       "20000       3967\n",
       "10000       1219\n",
       "Name: Kilometer, dtype: int64"
      ]
     },
     "execution_count": 56,
     "metadata": {},
     "output_type": "execute_result"
    }
   ],
   "source": [
    "df['Kilometer'].value_counts()"
   ]
  },
  {
   "cell_type": "markdown",
   "metadata": {},
   "source": [
    "картина проясняется, видимо в форме объявления нельяз написать точный пробег, а можно только выбрать приблизительный. Так же видно что после 100к шаг увеличиватется, а поле 150к, возмоно, нельзя выбрать большее значение."
   ]
  },
  {
   "cell_type": "markdown",
   "metadata": {},
   "source": [
    "В любом случае сильно тут ничего не сделаешь."
   ]
  },
  {
   "cell_type": "markdown",
   "metadata": {},
   "source": [
    "#### RegistrationMonth"
   ]
  },
  {
   "cell_type": "markdown",
   "metadata": {},
   "source": [
    "Пропусков нет, все здорово, можно только посмотеть в какой месяц чаще регестрировали машины. Логи подсказывает, что должно быть +- равномерно, но кто нает."
   ]
  },
  {
   "cell_type": "code",
   "execution_count": 57,
   "metadata": {},
   "outputs": [
    {
     "data": {
      "text/plain": [
       "<AxesSubplot:ylabel='RegistrationMonth'>"
      ]
     },
     "execution_count": 57,
     "metadata": {},
     "output_type": "execute_result"
    },
    {
     "data": {
      "image/png": "[encoded data removed]",
      "text/plain": [
       "<Figure size 576x576 with 1 Axes>"
      ]
     },
     "metadata": {
      "needs_background": "light"
     },
     "output_type": "display_data"
    }
   ],
   "source": [
    "df.pivot_table(index = \"RegistrationMonth\",\n",
    "               values = \"Price\",\n",
    "               aggfunc = \"count\").plot(y = \"Price\", \n",
    "                                      kind = \"barh\", \n",
    "                                      legend = False,\n",
    "                                      figsize = (8,8),\n",
    "                                      ylabel = \"\")"
   ]
  },
  {
   "cell_type": "code",
   "execution_count": 58,
   "metadata": {},
   "outputs": [
    {
     "data": {
      "text/plain": [
       "0     37285\n",
       "3     34338\n",
       "6     31458\n",
       "4     29236\n",
       "5     29120\n",
       "7     27182\n",
       "10    26070\n",
       "12    24241\n",
       "11    24154\n",
       "9     23782\n",
       "1     23185\n",
       "8     22601\n",
       "2     21237\n",
       "Name: RegistrationMonth, dtype: int64"
      ]
     },
     "execution_count": 58,
     "metadata": {},
     "output_type": "execute_result"
    }
   ],
   "source": [
    "df['RegistrationMonth'].value_counts()"
   ]
  },
  {
   "cell_type": "markdown",
   "metadata": {},
   "source": [
    "Почти угадал, видим большой скачек после нового года, оно и очивидно, большенсвто салонов делают в этот период большую скидку. Дальше есть Март и Июнь, наверняка есть и тут свои закономерности, но они нм сильно не помогут. "
   ]
  },
  {
   "cell_type": "markdown",
   "metadata": {},
   "source": [
    "#### FuelType"
   ]
  },
  {
   "cell_type": "markdown",
   "metadata": {},
   "source": [
    "Этот столбец имеет внушительное клоичество попусков."
   ]
  },
  {
   "cell_type": "code",
   "execution_count": 59,
   "metadata": {
    "scrolled": true
   },
   "outputs": [
    {
     "data": {
      "text/plain": [
       "32797"
      ]
     },
     "execution_count": 59,
     "metadata": {},
     "output_type": "execute_result"
    }
   ],
   "source": [
    "df['FuelType'].isna().sum()"
   ]
  },
  {
   "cell_type": "code",
   "execution_count": 60,
   "metadata": {},
   "outputs": [
    {
     "data": {
      "text/plain": [
       "petrol      216060\n",
       "gasoline     98639\n",
       "lpg           5305\n",
       "cng            563\n",
       "hybrid         233\n",
       "other          203\n",
       "electric        89\n",
       "Name: FuelType, dtype: int64"
      ]
     },
     "execution_count": 60,
     "metadata": {},
     "output_type": "execute_result"
    }
   ],
   "source": [
    "df['FuelType'].value_counts()"
   ]
  },
  {
   "cell_type": "markdown",
   "metadata": {},
   "source": [
    "Пропусков много, категорий тоже хватате. Поступим как и в других категориальных столбцах, \"unknown\" наш выбор."
   ]
  },
  {
   "cell_type": "code",
   "execution_count": 61,
   "metadata": {},
   "outputs": [],
   "source": [
    "df['FuelType'] = df['FuelType'].fillna('unknown')"
   ]
  },
  {
   "cell_type": "markdown",
   "metadata": {},
   "source": [
    "Теперь есть еще один подготовленный столбец."
   ]
  },
  {
   "cell_type": "markdown",
   "metadata": {},
   "source": [
    "#### Brand "
   ]
  },
  {
   "cell_type": "markdown",
   "metadata": {},
   "source": [
    "Пропусков нет, можно просто оценить количество брендов и их распределение."
   ]
  },
  {
   "cell_type": "code",
   "execution_count": 62,
   "metadata": {
    "scrolled": true
   },
   "outputs": [
    {
     "data": {
      "text/plain": [
       "volkswagen        76923\n",
       "opel              39872\n",
       "bmw               36865\n",
       "mercedes_benz     31995\n",
       "audi              29415\n",
       "ford              25148\n",
       "renault           17901\n",
       "peugeot           10991\n",
       "fiat               9627\n",
       "seat               6896\n",
       "mazda              5614\n",
       "skoda              5496\n",
       "smart              5239\n",
       "citroen            5134\n",
       "nissan             4933\n",
       "toyota             4601\n",
       "hyundai            3585\n",
       "sonstige_autos     3364\n",
       "volvo              3207\n",
       "mini               3199\n",
       "mitsubishi         3016\n",
       "honda              2814\n",
       "kia                2463\n",
       "suzuki             2320\n",
       "alfa_romeo         2312\n",
       "chevrolet          1747\n",
       "chrysler           1435\n",
       "dacia               899\n",
       "daihatsu            806\n",
       "subaru              762\n",
       "porsche             752\n",
       "jeep                677\n",
       "trabant             589\n",
       "land_rover          545\n",
       "daewoo              541\n",
       "saab                526\n",
       "jaguar              502\n",
       "rover               486\n",
       "lancia              467\n",
       "lada                225\n",
       "Name: Brand, dtype: int64"
      ]
     },
     "execution_count": 62,
     "metadata": {},
     "output_type": "execute_result"
    }
   ],
   "source": [
    "df['Brand'].value_counts()"
   ]
  },
  {
   "cell_type": "markdown",
   "metadata": {},
   "source": [
    "Брендов много, на удивление очень мало отечественных. Возможно заказчик инастраная платформа."
   ]
  },
  {
   "cell_type": "markdown",
   "metadata": {},
   "source": [
    "#### Repaired"
   ]
  },
  {
   "cell_type": "markdown",
   "metadata": {},
   "source": [
    "Это самый бедный на информацию столбец."
   ]
  },
  {
   "cell_type": "code",
   "execution_count": 63,
   "metadata": {},
   "outputs": [
    {
     "data": {
      "text/plain": [
       "70993"
      ]
     },
     "execution_count": 63,
     "metadata": {},
     "output_type": "execute_result"
    }
   ],
   "source": [
    "df[\"Repaired\"].isna().sum()"
   ]
  },
  {
   "cell_type": "code",
   "execution_count": 64,
   "metadata": {},
   "outputs": [
    {
     "data": {
      "text/plain": [
       "'Пропусков аж 20.06 %'"
      ]
     },
     "execution_count": 64,
     "metadata": {},
     "output_type": "execute_result"
    }
   ],
   "source": [
    "f'Пропусков аж {((df[\"Repaired\"].isna().sum()/len(df))*100).round(2)} %'"
   ]
  },
  {
   "cell_type": "code",
   "execution_count": 65,
   "metadata": {},
   "outputs": [
    {
     "data": {
      "text/plain": [
       "<AxesSubplot:>"
      ]
     },
     "execution_count": 65,
     "metadata": {},
     "output_type": "execute_result"
    },
    {
     "data": {
      "image/png": "[encoded data removed]",
      "text/plain": [
       "<Figure size 432x288 with 1 Axes>"
      ]
     },
     "metadata": {
      "needs_background": "light"
     },
     "output_type": "display_data"
    }
   ],
   "source": [
    "df['Repaired'].hist()"
   ]
  },
  {
   "cell_type": "markdown",
   "metadata": {},
   "source": [
    "Как видно у нас прпусков бальше чем машин с ремонтом, терять 20% информации совсем не хочется, по этому выход есть \"unknow\"."
   ]
  },
  {
   "cell_type": "code",
   "execution_count": 66,
   "metadata": {},
   "outputs": [],
   "source": [
    "df['Repaired'] = df['Repaired'].fillna('unknow')"
   ]
  },
  {
   "cell_type": "markdown",
   "metadata": {},
   "source": [
    "Столбце готов к дальнейшей работе."
   ]
  },
  {
   "cell_type": "markdown",
   "metadata": {},
   "source": [
    "#### DateCreated"
   ]
  },
  {
   "cell_type": "markdown",
   "metadata": {},
   "source": [
    "Тут все хорошо, как и с другим столбцом даты, просто переведем его в нужный формат."
   ]
  },
  {
   "cell_type": "code",
   "execution_count": 67,
   "metadata": {},
   "outputs": [],
   "source": [
    "df['DateCreated'] = pd.to_datetime(df['DateCreated'], format = '%Y-%m-%d %H:%M:%S')"
   ]
  },
  {
   "cell_type": "code",
   "execution_count": 68,
   "metadata": {},
   "outputs": [
    {
     "name": "stdout",
     "output_type": "stream",
     "text": [
      "<class 'pandas.core.frame.DataFrame'>\n",
      "RangeIndex: 353889 entries, 0 to 353888\n",
      "Data columns (total 16 columns):\n",
      " #   Column             Non-Null Count   Dtype         \n",
      "---  ------             --------------   -----         \n",
      " 0   DateCrawled        353889 non-null  datetime64[ns]\n",
      " 1   Price              353889 non-null  int64         \n",
      " 2   VehicleType        353889 non-null  object        \n",
      " 3   RegistrationYear   353889 non-null  int64         \n",
      " 4   Gearbox            353889 non-null  object        \n",
      " 5   Power              353889 non-null  int64         \n",
      " 6   Model              353889 non-null  object        \n",
      " 7   Kilometer          353889 non-null  int64         \n",
      " 8   RegistrationMonth  353889 non-null  int64         \n",
      " 9   FuelType           353889 non-null  object        \n",
      " 10  Brand              353889 non-null  object        \n",
      " 11  Repaired           353889 non-null  object        \n",
      " 12  DateCreated        353889 non-null  datetime64[ns]\n",
      " 13  NumberOfPictures   353889 non-null  int64         \n",
      " 14  PostalCode         353889 non-null  int64         \n",
      " 15  LastSeen           353889 non-null  object        \n",
      "dtypes: datetime64[ns](2), int64(7), object(7)\n",
      "memory usage: 43.2+ MB\n"
     ]
    }
   ],
   "source": [
    "df.info()"
   ]
  },
  {
   "cell_type": "markdown",
   "metadata": {},
   "source": [
    "Здорово, идем дальше."
   ]
  },
  {
   "cell_type": "markdown",
   "metadata": {},
   "source": [
    "#### NumberOfPictures"
   ]
  },
  {
   "cell_type": "markdown",
   "metadata": {},
   "source": [
    "Полный столбце, посмотрим как много фотографий пользователи добавляют"
   ]
  },
  {
   "cell_type": "code",
   "execution_count": 69,
   "metadata": {},
   "outputs": [
    {
     "data": {
      "text/plain": [
       "<AxesSubplot:>"
      ]
     },
     "execution_count": 69,
     "metadata": {},
     "output_type": "execute_result"
    },
    {
     "data": {
      "image/png": "[encoded data removed]",
      "text/plain": [
       "<Figure size 432x288 with 1 Axes>"
      ]
     },
     "metadata": {
      "needs_background": "light"
     },
     "output_type": "display_data"
    }
   ],
   "source": [
    "df['NumberOfPictures'].hist()"
   ]
  },
  {
   "cell_type": "markdown",
   "metadata": {},
   "source": [
    "По графику в основном 0. "
   ]
  },
  {
   "cell_type": "code",
   "execution_count": 70,
   "metadata": {},
   "outputs": [
    {
     "data": {
      "text/plain": [
       "count    353889.0\n",
       "mean          0.0\n",
       "std           0.0\n",
       "min           0.0\n",
       "25%           0.0\n",
       "50%           0.0\n",
       "75%           0.0\n",
       "max           0.0\n",
       "Name: NumberOfPictures, dtype: float64"
      ]
     },
     "execution_count": 70,
     "metadata": {},
     "output_type": "execute_result"
    }
   ],
   "source": [
    "df['NumberOfPictures'].describe()"
   ]
  },
  {
   "cell_type": "markdown",
   "metadata": {},
   "source": [
    "Очень интересно, у всех объявлений нет фотографий. Тут нужно задать вопрос людям которые скачивали данные, столбце важный, а даных нет. Ну по скольку до этих людей нам не обраться, просто уберем этот не информативный столбец."
   ]
  },
  {
   "cell_type": "code",
   "execution_count": 71,
   "metadata": {},
   "outputs": [],
   "source": [
    "df = df.drop(['NumberOfPictures'], axis=1).reset_index(drop=True)"
   ]
  },
  {
   "cell_type": "markdown",
   "metadata": {},
   "source": [
    "Вот и все с этим столбцом."
   ]
  },
  {
   "cell_type": "markdown",
   "metadata": {},
   "source": [
    "#### PostalCode"
   ]
  },
  {
   "cell_type": "markdown",
   "metadata": {},
   "source": [
    "Тут столбец без пропуско и полный. Единственное что можно сделать откуда люди, чаще всего пубикуют объявления."
   ]
  },
  {
   "cell_type": "code",
   "execution_count": 72,
   "metadata": {},
   "outputs": [
    {
     "data": {
      "text/plain": [
       "10115    819\n",
       "65428    613\n",
       "66333    343\n",
       "32257    317\n",
       "44145    315\n",
       "        ... \n",
       "26906      1\n",
       "25868      1\n",
       "6638       1\n",
       "29487      1\n",
       "31096      1\n",
       "Name: PostalCode, Length: 8143, dtype: int64"
      ]
     },
     "execution_count": 72,
     "metadata": {},
     "output_type": "execute_result"
    }
   ],
   "source": [
    "df['PostalCode'].value_counts()"
   ]
  },
  {
   "cell_type": "markdown",
   "metadata": {},
   "source": [
    "Как подсказывает интерент 5и значные индексы использует Америка и Германия и еслипредположение верное, то больше всего обявлений из Нью-Йорка или Берлина. Учитывая подовляющее большинство немецких машин в объявлении, можно смело заявить что это Немецкая платформа."
   ]
  },
  {
   "cell_type": "markdown",
   "metadata": {},
   "source": [
    "#### LastSeen"
   ]
  },
  {
   "cell_type": "markdown",
   "metadata": {},
   "source": [
    "Ничего нового, столбец с датой в нужный формат."
   ]
  },
  {
   "cell_type": "code",
   "execution_count": 73,
   "metadata": {},
   "outputs": [],
   "source": [
    "df['LastSeen'] = pd.to_datetime(df['LastSeen'], format = '%Y-%m-%d %H:%M:%S')"
   ]
  },
  {
   "cell_type": "code",
   "execution_count": 74,
   "metadata": {
    "scrolled": true
   },
   "outputs": [
    {
     "name": "stdout",
     "output_type": "stream",
     "text": [
      "<class 'pandas.core.frame.DataFrame'>\n",
      "RangeIndex: 353889 entries, 0 to 353888\n",
      "Data columns (total 15 columns):\n",
      " #   Column             Non-Null Count   Dtype         \n",
      "---  ------             --------------   -----         \n",
      " 0   DateCrawled        353889 non-null  datetime64[ns]\n",
      " 1   Price              353889 non-null  int64         \n",
      " 2   VehicleType        353889 non-null  object        \n",
      " 3   RegistrationYear   353889 non-null  int64         \n",
      " 4   Gearbox            353889 non-null  object        \n",
      " 5   Power              353889 non-null  int64         \n",
      " 6   Model              353889 non-null  object        \n",
      " 7   Kilometer          353889 non-null  int64         \n",
      " 8   RegistrationMonth  353889 non-null  int64         \n",
      " 9   FuelType           353889 non-null  object        \n",
      " 10  Brand              353889 non-null  object        \n",
      " 11  Repaired           353889 non-null  object        \n",
      " 12  DateCreated        353889 non-null  datetime64[ns]\n",
      " 13  PostalCode         353889 non-null  int64         \n",
      " 14  LastSeen           353889 non-null  datetime64[ns]\n",
      "dtypes: datetime64[ns](3), int64(6), object(6)\n",
      "memory usage: 40.5+ MB\n"
     ]
    }
   ],
   "source": [
    "df.info()"
   ]
  },
  {
   "cell_type": "markdown",
   "metadata": {},
   "source": [
    "Отлично, на этапе создания новых столбцов, возможно это пригодится."
   ]
  },
  {
   "cell_type": "markdown",
   "metadata": {},
   "source": [
    "### Новые столбцы"
   ]
  },
  {
   "cell_type": "markdown",
   "metadata": {},
   "source": [
    "Еще раз посмотрим на то что у нас есть."
   ]
  },
  {
   "cell_type": "code",
   "execution_count": 75,
   "metadata": {},
   "outputs": [
    {
     "name": "stdout",
     "output_type": "stream",
     "text": [
      "<class 'pandas.core.frame.DataFrame'>\n",
      "RangeIndex: 353889 entries, 0 to 353888\n",
      "Data columns (total 15 columns):\n",
      " #   Column             Non-Null Count   Dtype         \n",
      "---  ------             --------------   -----         \n",
      " 0   DateCrawled        353889 non-null  datetime64[ns]\n",
      " 1   Price              353889 non-null  int64         \n",
      " 2   VehicleType        353889 non-null  object        \n",
      " 3   RegistrationYear   353889 non-null  int64         \n",
      " 4   Gearbox            353889 non-null  object        \n",
      " 5   Power              353889 non-null  int64         \n",
      " 6   Model              353889 non-null  object        \n",
      " 7   Kilometer          353889 non-null  int64         \n",
      " 8   RegistrationMonth  353889 non-null  int64         \n",
      " 9   FuelType           353889 non-null  object        \n",
      " 10  Brand              353889 non-null  object        \n",
      " 11  Repaired           353889 non-null  object        \n",
      " 12  DateCreated        353889 non-null  datetime64[ns]\n",
      " 13  PostalCode         353889 non-null  int64         \n",
      " 14  LastSeen           353889 non-null  datetime64[ns]\n",
      "dtypes: datetime64[ns](3), int64(6), object(6)\n",
      "memory usage: 40.5+ MB\n"
     ]
    }
   ],
   "source": [
    "df.info()"
   ]
  },
  {
   "cell_type": "code",
   "execution_count": 76,
   "metadata": {},
   "outputs": [
    {
     "data": {
      "text/html": [
       "<div>\n",
       "<style scoped>\n",
       "    .dataframe tbody tr th:only-of-type {\n",
       "        vertical-align: middle;\n",
       "    }\n",
       "\n",
       "    .dataframe tbody tr th {\n",
       "        vertical-align: top;\n",
       "    }\n",
       "\n",
       "    .dataframe thead th {\n",
       "        text-align: right;\n",
       "    }\n",
       "</style>\n",
       "<table border=\"1\" class=\"dataframe\">\n",
       "  <thead>\n",
       "    <tr style=\"text-align: right;\">\n",
       "      <th></th>\n",
       "      <th>DateCrawled</th>\n",
       "      <th>Price</th>\n",
       "      <th>VehicleType</th>\n",
       "      <th>RegistrationYear</th>\n",
       "      <th>Gearbox</th>\n",
       "      <th>Power</th>\n",
       "      <th>Model</th>\n",
       "      <th>Kilometer</th>\n",
       "      <th>RegistrationMonth</th>\n",
       "      <th>FuelType</th>\n",
       "      <th>Brand</th>\n",
       "      <th>Repaired</th>\n",
       "      <th>DateCreated</th>\n",
       "      <th>PostalCode</th>\n",
       "      <th>LastSeen</th>\n",
       "    </tr>\n",
       "  </thead>\n",
       "  <tbody>\n",
       "    <tr>\n",
       "      <th>224563</th>\n",
       "      <td>2016-03-14 22:49:59</td>\n",
       "      <td>1450</td>\n",
       "      <td>convertible</td>\n",
       "      <td>2000</td>\n",
       "      <td>manual</td>\n",
       "      <td>95</td>\n",
       "      <td>megane</td>\n",
       "      <td>150000</td>\n",
       "      <td>3</td>\n",
       "      <td>petrol</td>\n",
       "      <td>renault</td>\n",
       "      <td>no</td>\n",
       "      <td>2016-03-14</td>\n",
       "      <td>24357</td>\n",
       "      <td>2016-03-21 18:46:50</td>\n",
       "    </tr>\n",
       "    <tr>\n",
       "      <th>321819</th>\n",
       "      <td>2016-04-07 02:36:21</td>\n",
       "      <td>5999</td>\n",
       "      <td>small</td>\n",
       "      <td>2008</td>\n",
       "      <td>unknown</td>\n",
       "      <td>61</td>\n",
       "      <td>fortwo</td>\n",
       "      <td>60000</td>\n",
       "      <td>12</td>\n",
       "      <td>petrol</td>\n",
       "      <td>smart</td>\n",
       "      <td>no</td>\n",
       "      <td>2016-04-07</td>\n",
       "      <td>12105</td>\n",
       "      <td>2016-04-07 02:36:21</td>\n",
       "    </tr>\n",
       "    <tr>\n",
       "      <th>315056</th>\n",
       "      <td>2016-03-23 20:56:18</td>\n",
       "      <td>999</td>\n",
       "      <td>convertible</td>\n",
       "      <td>1995</td>\n",
       "      <td>manual</td>\n",
       "      <td>90</td>\n",
       "      <td>unknown</td>\n",
       "      <td>150000</td>\n",
       "      <td>12</td>\n",
       "      <td>unknown</td>\n",
       "      <td>volkswagen</td>\n",
       "      <td>no</td>\n",
       "      <td>2016-03-23</td>\n",
       "      <td>44143</td>\n",
       "      <td>2016-04-06 02:46:12</td>\n",
       "    </tr>\n",
       "    <tr>\n",
       "      <th>342098</th>\n",
       "      <td>2016-04-07 09:06:34</td>\n",
       "      <td>7500</td>\n",
       "      <td>convertible</td>\n",
       "      <td>2000</td>\n",
       "      <td>auto</td>\n",
       "      <td>250</td>\n",
       "      <td>clk</td>\n",
       "      <td>150000</td>\n",
       "      <td>1</td>\n",
       "      <td>petrol</td>\n",
       "      <td>mercedes_benz</td>\n",
       "      <td>no</td>\n",
       "      <td>2016-04-07</td>\n",
       "      <td>57518</td>\n",
       "      <td>2016-04-07 09:25:24</td>\n",
       "    </tr>\n",
       "    <tr>\n",
       "      <th>209102</th>\n",
       "      <td>2016-03-09 12:48:15</td>\n",
       "      <td>0</td>\n",
       "      <td>unknow</td>\n",
       "      <td>2000</td>\n",
       "      <td>unknown</td>\n",
       "      <td>0</td>\n",
       "      <td>e_klasse</td>\n",
       "      <td>150000</td>\n",
       "      <td>0</td>\n",
       "      <td>unknown</td>\n",
       "      <td>mercedes_benz</td>\n",
       "      <td>unknow</td>\n",
       "      <td>2016-03-09</td>\n",
       "      <td>98693</td>\n",
       "      <td>2016-04-05 21:18:16</td>\n",
       "    </tr>\n",
       "  </tbody>\n",
       "</table>\n",
       "</div>"
      ],
      "text/plain": [
       "               DateCrawled  Price  VehicleType  RegistrationYear  Gearbox  \\\n",
       "224563 2016-03-14 22:49:59   1450  convertible              2000   manual   \n",
       "321819 2016-04-07 02:36:21   5999        small              2008  unknown   \n",
       "315056 2016-03-23 20:56:18    999  convertible              1995   manual   \n",
       "342098 2016-04-07 09:06:34   7500  convertible              2000     auto   \n",
       "209102 2016-03-09 12:48:15      0       unknow              2000  unknown   \n",
       "\n",
       "        Power     Model  Kilometer  RegistrationMonth FuelType          Brand  \\\n",
       "224563     95    megane     150000                  3   petrol        renault   \n",
       "321819     61    fortwo      60000                 12   petrol          smart   \n",
       "315056     90   unknown     150000                 12  unknown     volkswagen   \n",
       "342098    250       clk     150000                  1   petrol  mercedes_benz   \n",
       "209102      0  e_klasse     150000                  0  unknown  mercedes_benz   \n",
       "\n",
       "       Repaired DateCreated  PostalCode            LastSeen  \n",
       "224563       no  2016-03-14       24357 2016-03-21 18:46:50  \n",
       "321819       no  2016-04-07       12105 2016-04-07 02:36:21  \n",
       "315056       no  2016-03-23       44143 2016-04-06 02:46:12  \n",
       "342098       no  2016-04-07       57518 2016-04-07 09:25:24  \n",
       "209102   unknow  2016-03-09       98693 2016-04-05 21:18:16  "
      ]
     },
     "execution_count": 76,
     "metadata": {},
     "output_type": "execute_result"
    }
   ],
   "source": [
    "df.sample(5, random_state=RANDOM_STATE)"
   ]
  },
  {
   "cell_type": "markdown",
   "metadata": {},
   "source": [
    "Кажется, что такие точные даты нам не нужны, по этому можно оставить по столбцу месяца и года для каждой даты."
   ]
  },
  {
   "cell_type": "code",
   "execution_count": 77,
   "metadata": {},
   "outputs": [],
   "source": [
    "for col in ['DateCrawled', 'DateCreated', 'LastSeen']:\n",
    "    df[f'{col}Year']=pd.DatetimeIndex(df[col]).year\n",
    "    df[f'{col}Month']=pd.DatetimeIndex(df[col]).month\n",
    "        "
   ]
  },
  {
   "cell_type": "code",
   "execution_count": 78,
   "metadata": {
    "scrolled": false
   },
   "outputs": [
    {
     "data": {
      "text/html": [
       "<div>\n",
       "<style scoped>\n",
       "    .dataframe tbody tr th:only-of-type {\n",
       "        vertical-align: middle;\n",
       "    }\n",
       "\n",
       "    .dataframe tbody tr th {\n",
       "        vertical-align: top;\n",
       "    }\n",
       "\n",
       "    .dataframe thead th {\n",
       "        text-align: right;\n",
       "    }\n",
       "</style>\n",
       "<table border=\"1\" class=\"dataframe\">\n",
       "  <thead>\n",
       "    <tr style=\"text-align: right;\">\n",
       "      <th></th>\n",
       "      <th>DateCrawled</th>\n",
       "      <th>Price</th>\n",
       "      <th>VehicleType</th>\n",
       "      <th>RegistrationYear</th>\n",
       "      <th>Gearbox</th>\n",
       "      <th>Power</th>\n",
       "      <th>Model</th>\n",
       "      <th>Kilometer</th>\n",
       "      <th>RegistrationMonth</th>\n",
       "      <th>FuelType</th>\n",
       "      <th>...</th>\n",
       "      <th>Repaired</th>\n",
       "      <th>DateCreated</th>\n",
       "      <th>PostalCode</th>\n",
       "      <th>LastSeen</th>\n",
       "      <th>DateCrawledYear</th>\n",
       "      <th>DateCrawledMonth</th>\n",
       "      <th>DateCreatedYear</th>\n",
       "      <th>DateCreatedMonth</th>\n",
       "      <th>LastSeenYear</th>\n",
       "      <th>LastSeenMonth</th>\n",
       "    </tr>\n",
       "  </thead>\n",
       "  <tbody>\n",
       "    <tr>\n",
       "      <th>224563</th>\n",
       "      <td>2016-03-14 22:49:59</td>\n",
       "      <td>1450</td>\n",
       "      <td>convertible</td>\n",
       "      <td>2000</td>\n",
       "      <td>manual</td>\n",
       "      <td>95</td>\n",
       "      <td>megane</td>\n",
       "      <td>150000</td>\n",
       "      <td>3</td>\n",
       "      <td>petrol</td>\n",
       "      <td>...</td>\n",
       "      <td>no</td>\n",
       "      <td>2016-03-14</td>\n",
       "      <td>24357</td>\n",
       "      <td>2016-03-21 18:46:50</td>\n",
       "      <td>2016</td>\n",
       "      <td>3</td>\n",
       "      <td>2016</td>\n",
       "      <td>3</td>\n",
       "      <td>2016</td>\n",
       "      <td>3</td>\n",
       "    </tr>\n",
       "    <tr>\n",
       "      <th>321819</th>\n",
       "      <td>2016-04-07 02:36:21</td>\n",
       "      <td>5999</td>\n",
       "      <td>small</td>\n",
       "      <td>2008</td>\n",
       "      <td>unknown</td>\n",
       "      <td>61</td>\n",
       "      <td>fortwo</td>\n",
       "      <td>60000</td>\n",
       "      <td>12</td>\n",
       "      <td>petrol</td>\n",
       "      <td>...</td>\n",
       "      <td>no</td>\n",
       "      <td>2016-04-07</td>\n",
       "      <td>12105</td>\n",
       "      <td>2016-04-07 02:36:21</td>\n",
       "      <td>2016</td>\n",
       "      <td>4</td>\n",
       "      <td>2016</td>\n",
       "      <td>4</td>\n",
       "      <td>2016</td>\n",
       "      <td>4</td>\n",
       "    </tr>\n",
       "    <tr>\n",
       "      <th>315056</th>\n",
       "      <td>2016-03-23 20:56:18</td>\n",
       "      <td>999</td>\n",
       "      <td>convertible</td>\n",
       "      <td>1995</td>\n",
       "      <td>manual</td>\n",
       "      <td>90</td>\n",
       "      <td>unknown</td>\n",
       "      <td>150000</td>\n",
       "      <td>12</td>\n",
       "      <td>unknown</td>\n",
       "      <td>...</td>\n",
       "      <td>no</td>\n",
       "      <td>2016-03-23</td>\n",
       "      <td>44143</td>\n",
       "      <td>2016-04-06 02:46:12</td>\n",
       "      <td>2016</td>\n",
       "      <td>3</td>\n",
       "      <td>2016</td>\n",
       "      <td>3</td>\n",
       "      <td>2016</td>\n",
       "      <td>4</td>\n",
       "    </tr>\n",
       "    <tr>\n",
       "      <th>342098</th>\n",
       "      <td>2016-04-07 09:06:34</td>\n",
       "      <td>7500</td>\n",
       "      <td>convertible</td>\n",
       "      <td>2000</td>\n",
       "      <td>auto</td>\n",
       "      <td>250</td>\n",
       "      <td>clk</td>\n",
       "      <td>150000</td>\n",
       "      <td>1</td>\n",
       "      <td>petrol</td>\n",
       "      <td>...</td>\n",
       "      <td>no</td>\n",
       "      <td>2016-04-07</td>\n",
       "      <td>57518</td>\n",
       "      <td>2016-04-07 09:25:24</td>\n",
       "      <td>2016</td>\n",
       "      <td>4</td>\n",
       "      <td>2016</td>\n",
       "      <td>4</td>\n",
       "      <td>2016</td>\n",
       "      <td>4</td>\n",
       "    </tr>\n",
       "    <tr>\n",
       "      <th>209102</th>\n",
       "      <td>2016-03-09 12:48:15</td>\n",
       "      <td>0</td>\n",
       "      <td>unknow</td>\n",
       "      <td>2000</td>\n",
       "      <td>unknown</td>\n",
       "      <td>0</td>\n",
       "      <td>e_klasse</td>\n",
       "      <td>150000</td>\n",
       "      <td>0</td>\n",
       "      <td>unknown</td>\n",
       "      <td>...</td>\n",
       "      <td>unknow</td>\n",
       "      <td>2016-03-09</td>\n",
       "      <td>98693</td>\n",
       "      <td>2016-04-05 21:18:16</td>\n",
       "      <td>2016</td>\n",
       "      <td>3</td>\n",
       "      <td>2016</td>\n",
       "      <td>3</td>\n",
       "      <td>2016</td>\n",
       "      <td>4</td>\n",
       "    </tr>\n",
       "  </tbody>\n",
       "</table>\n",
       "<p>5 rows × 21 columns</p>\n",
       "</div>"
      ],
      "text/plain": [
       "               DateCrawled  Price  VehicleType  RegistrationYear  Gearbox  \\\n",
       "224563 2016-03-14 22:49:59   1450  convertible              2000   manual   \n",
       "321819 2016-04-07 02:36:21   5999        small              2008  unknown   \n",
       "315056 2016-03-23 20:56:18    999  convertible              1995   manual   \n",
       "342098 2016-04-07 09:06:34   7500  convertible              2000     auto   \n",
       "209102 2016-03-09 12:48:15      0       unknow              2000  unknown   \n",
       "\n",
       "        Power     Model  Kilometer  RegistrationMonth FuelType  ... Repaired  \\\n",
       "224563     95    megane     150000                  3   petrol  ...       no   \n",
       "321819     61    fortwo      60000                 12   petrol  ...       no   \n",
       "315056     90   unknown     150000                 12  unknown  ...       no   \n",
       "342098    250       clk     150000                  1   petrol  ...       no   \n",
       "209102      0  e_klasse     150000                  0  unknown  ...   unknow   \n",
       "\n",
       "       DateCreated PostalCode            LastSeen DateCrawledYear  \\\n",
       "224563  2016-03-14      24357 2016-03-21 18:46:50            2016   \n",
       "321819  2016-04-07      12105 2016-04-07 02:36:21            2016   \n",
       "315056  2016-03-23      44143 2016-04-06 02:46:12            2016   \n",
       "342098  2016-04-07      57518 2016-04-07 09:25:24            2016   \n",
       "209102  2016-03-09      98693 2016-04-05 21:18:16            2016   \n",
       "\n",
       "        DateCrawledMonth  DateCreatedYear  DateCreatedMonth  LastSeenYear  \\\n",
       "224563                 3             2016                 3          2016   \n",
       "321819                 4             2016                 4          2016   \n",
       "315056                 3             2016                 3          2016   \n",
       "342098                 4             2016                 4          2016   \n",
       "209102                 3             2016                 3          2016   \n",
       "\n",
       "        LastSeenMonth  \n",
       "224563              3  \n",
       "321819              4  \n",
       "315056              4  \n",
       "342098              4  \n",
       "209102              4  \n",
       "\n",
       "[5 rows x 21 columns]"
      ]
     },
     "execution_count": 78,
     "metadata": {},
     "output_type": "execute_result"
    }
   ],
   "source": [
    "df.sample(5, random_state=RANDOM_STATE)"
   ]
  },
  {
   "cell_type": "markdown",
   "metadata": {},
   "source": [
    "Отлично, необходимую информацию из этих столбцов мы получили, теперь их можно убрать."
   ]
  },
  {
   "cell_type": "code",
   "execution_count": 79,
   "metadata": {},
   "outputs": [],
   "source": [
    "df = df.drop(['DateCrawled', 'DateCreated', 'LastSeen'],axis=1).reset_index(drop=True)"
   ]
  },
  {
   "cell_type": "code",
   "execution_count": 80,
   "metadata": {},
   "outputs": [
    {
     "name": "stdout",
     "output_type": "stream",
     "text": [
      "<class 'pandas.core.frame.DataFrame'>\n",
      "RangeIndex: 353889 entries, 0 to 353888\n",
      "Data columns (total 18 columns):\n",
      " #   Column             Non-Null Count   Dtype \n",
      "---  ------             --------------   ----- \n",
      " 0   Price              353889 non-null  int64 \n",
      " 1   VehicleType        353889 non-null  object\n",
      " 2   RegistrationYear   353889 non-null  int64 \n",
      " 3   Gearbox            353889 non-null  object\n",
      " 4   Power              353889 non-null  int64 \n",
      " 5   Model              353889 non-null  object\n",
      " 6   Kilometer          353889 non-null  int64 \n",
      " 7   RegistrationMonth  353889 non-null  int64 \n",
      " 8   FuelType           353889 non-null  object\n",
      " 9   Brand              353889 non-null  object\n",
      " 10  Repaired           353889 non-null  object\n",
      " 11  PostalCode         353889 non-null  int64 \n",
      " 12  DateCrawledYear    353889 non-null  int64 \n",
      " 13  DateCrawledMonth   353889 non-null  int64 \n",
      " 14  DateCreatedYear    353889 non-null  int64 \n",
      " 15  DateCreatedMonth   353889 non-null  int64 \n",
      " 16  LastSeenYear       353889 non-null  int64 \n",
      " 17  LastSeenMonth      353889 non-null  int64 \n",
      "dtypes: int64(12), object(6)\n",
      "memory usage: 48.6+ MB\n"
     ]
    }
   ],
   "source": [
    "df.info()"
   ]
  },
  {
   "cell_type": "markdown",
   "metadata": {},
   "source": [
    "Больше вроде ничего создать не хочется, идем дальше."
   ]
  },
  {
   "cell_type": "markdown",
   "metadata": {},
   "source": [
    "### Unknow"
   ]
  },
  {
   "cell_type": "markdown",
   "metadata": {},
   "source": [
    "Прежде чем переходить к обучению, можно еще подчистить нашу таблицу. Есть строки где 3 и больше категориальных признака отсутствуют. Думаю можно посотреть на их количество и оценить на сколько они нужны."
   ]
  },
  {
   "cell_type": "code",
   "execution_count": 81,
   "metadata": {},
   "outputs": [],
   "source": [
    "def unknow_count (df):\n",
    "    count = 0\n",
    "    if df['VehicleType'] == 'unknown': count += 1\n",
    "    if df['Gearbox'] == 'unknown': count += 1\n",
    "    if df['Model'] == 'unknown': count += 1\n",
    "    if df['FuelType'] == 'unknown': count += 1\n",
    "    if df['Brand'] == 'unknown': count += 1 \n",
    "    if df['Repaired'] == 'unknown': count += 1\n",
    "    if count >= 3: \n",
    "        return True\n",
    "    else: return False"
   ]
  },
  {
   "cell_type": "code",
   "execution_count": 82,
   "metadata": {},
   "outputs": [],
   "source": [
    "con_unk = df.apply(unknow_count, axis = 1)"
   ]
  },
  {
   "cell_type": "code",
   "execution_count": 83,
   "metadata": {},
   "outputs": [
    {
     "data": {
      "text/plain": [
       "2853"
      ]
     },
     "execution_count": 83,
     "metadata": {},
     "output_type": "execute_result"
    }
   ],
   "source": [
    "con_unk.sum()"
   ]
  },
  {
   "cell_type": "markdown",
   "metadata": {},
   "source": [
    "Почти 3 тысячи строк с пропусками в категориальных переменных. Если в этих строрках еще и цена равна 0 тогда они точно не нужны."
   ]
  },
  {
   "cell_type": "code",
   "execution_count": 84,
   "metadata": {},
   "outputs": [
    {
     "data": {
      "text/plain": [
       "843"
      ]
     },
     "execution_count": 84,
     "metadata": {},
     "output_type": "execute_result"
    }
   ],
   "source": [
    "len(df.loc[con_unk & (df['Price'] == 0)])"
   ]
  },
  {
   "cell_type": "markdown",
   "metadata": {},
   "source": [
    "843 строки можно спокойно удалить."
   ]
  },
  {
   "cell_type": "code",
   "execution_count": 85,
   "metadata": {},
   "outputs": [],
   "source": [
    "df = df.drop(index = df.loc[con_unk & (df['Price'] == 0)].index, axis = 1).reset_index(drop=True)"
   ]
  },
  {
   "cell_type": "markdown",
   "metadata": {},
   "source": [
    "В принципе тут все"
   ]
  },
  {
   "cell_type": "markdown",
   "metadata": {},
   "source": [
    "### ОНЕ"
   ]
  },
  {
   "cell_type": "markdown",
   "metadata": {},
   "source": [
    "По скольку будем использовать не только градиентный бустинг, но и линейную регресию, неоюходимо подготовить категориальные переменные, будем исползовать OHE."
   ]
  },
  {
   "cell_type": "markdown",
   "metadata": {},
   "source": [
    "Если использовать просто OHE, то получим таблицу с количеством столбцов за 300 шт, кажется это личшнее. Основную массу дополнительных столбцов добавляют колонки с моделью и маркой автомобиля, еще раз посмотрим на них."
   ]
  },
  {
   "cell_type": "code",
   "execution_count": 86,
   "metadata": {},
   "outputs": [
    {
     "data": {
      "text/plain": [
       "golf                  29204\n",
       "other                 24379\n",
       "3er                   19743\n",
       "unknown               18804\n",
       "polo                  13049\n",
       "                      ...  \n",
       "i3                        8\n",
       "serie_3                   4\n",
       "rangerover                4\n",
       "range_rover_evoque        2\n",
       "serie_1                   2\n",
       "Name: Model, Length: 251, dtype: int64"
      ]
     },
     "execution_count": 86,
     "metadata": {},
     "output_type": "execute_result"
    }
   ],
   "source": [
    "df['Model'].value_counts()"
   ]
  },
  {
   "cell_type": "markdown",
   "metadata": {},
   "source": [
    "Думаю если мы оставим 70% всех модель, а остальные отнесем к категории \"other\" сильно ничего не потеряем."
   ]
  },
  {
   "cell_type": "code",
   "execution_count": 87,
   "metadata": {},
   "outputs": [],
   "source": [
    "df_ohe = df"
   ]
  },
  {
   "cell_type": "code",
   "execution_count": 88,
   "metadata": {},
   "outputs": [
    {
     "data": {
      "text/plain": [
       "29"
      ]
     },
     "execution_count": 88,
     "metadata": {},
     "output_type": "execute_result"
    }
   ],
   "source": [
    "models_count = df_ohe['Model'].value_counts()\n",
    "leght = len(models_count)\n",
    "models_sum = models_count.sum()\n",
    "for i in range(leght):\n",
    "    if models_count[:i+1].sum()/models_sum > .7: \n",
    "        break\n",
    "i"
   ]
  },
  {
   "cell_type": "markdown",
   "metadata": {},
   "source": [
    "Получается, 29 моделей составляют 70% от всех объявлений, для красивого чилса оставим 30 самых полпулярных."
   ]
  },
  {
   "cell_type": "code",
   "execution_count": 89,
   "metadata": {},
   "outputs": [
    {
     "data": {
      "text/plain": [
       "Index(['golf', 'other', '3er', 'unknown', 'polo', 'corsa', 'astra', 'passat',\n",
       "       'a4', 'c_klasse', '5er', 'e_klasse', 'a3', 'focus', 'fiesta', 'a6',\n",
       "       'twingo', '2_reihe', 'transporter', 'fortwo', 'vectra', 'a_klasse',\n",
       "       'mondeo', 'clio', '1er', '3_reihe', 'touran', 'punto', 'zafira',\n",
       "       'megane'],\n",
       "      dtype='object')"
      ]
     },
     "execution_count": 89,
     "metadata": {},
     "output_type": "execute_result"
    }
   ],
   "source": [
    "model_70 = df['Model'].value_counts().head(30).index\n",
    "model_70"
   ]
  },
  {
   "cell_type": "code",
   "execution_count": 90,
   "metadata": {},
   "outputs": [],
   "source": [
    "def distribution_of_models (df):\n",
    "    if df[\"Model\"] not in model_70:\n",
    "        df[\"Model\"] = \"other\"\n",
    "    return df"
   ]
  },
  {
   "cell_type": "code",
   "execution_count": 91,
   "metadata": {},
   "outputs": [],
   "source": [
    "df_ohe = df_ohe.apply(distribution_of_models, axis = 1)"
   ]
  },
  {
   "cell_type": "code",
   "execution_count": 92,
   "metadata": {},
   "outputs": [
    {
     "data": {
      "text/plain": [
       "other          128420\n",
       "golf            29204\n",
       "3er             19743\n",
       "unknown         18804\n",
       "polo            13049\n",
       "corsa           12555\n",
       "astra           10794\n",
       "passat          10133\n",
       "a4               9893\n",
       "c_klasse         8304\n",
       "5er              7856\n",
       "e_klasse         6769\n",
       "a3               6118\n",
       "focus            5867\n",
       "fiesta           5769\n",
       "a6               5535\n",
       "twingo           4945\n",
       "2_reihe          4815\n",
       "transporter      4813\n",
       "fortwo           4334\n",
       "vectra           4241\n",
       "a_klasse         4188\n",
       "mondeo           3597\n",
       "clio             3543\n",
       "1er              3512\n",
       "3_reihe          3490\n",
       "touran           3466\n",
       "punto            3342\n",
       "zafira           3038\n",
       "megane           2909\n",
       "Name: Model, dtype: int64"
      ]
     },
     "execution_count": 92,
     "metadata": {},
     "output_type": "execute_result"
    }
   ],
   "source": [
    "df_ohe['Model'].value_counts()"
   ]
  },
  {
   "cell_type": "markdown",
   "metadata": {},
   "source": [
    "Теперь конечно категория другие встала на первое место, посмотрим как это скажтесяс на моделе."
   ]
  },
  {
   "cell_type": "markdown",
   "metadata": {},
   "source": [
    "Столбце марок."
   ]
  },
  {
   "cell_type": "code",
   "execution_count": 93,
   "metadata": {},
   "outputs": [
    {
     "data": {
      "text/plain": [
       "40"
      ]
     },
     "execution_count": 93,
     "metadata": {},
     "output_type": "execute_result"
    }
   ],
   "source": [
    "len(df_ohe['Brand'].value_counts())"
   ]
  },
  {
   "cell_type": "markdown",
   "metadata": {},
   "source": [
    "В принципе их получилось чуть больше чем моделей, остваим как есть."
   ]
  },
  {
   "cell_type": "code",
   "execution_count": 94,
   "metadata": {},
   "outputs": [],
   "source": [
    "df_ohe = pd.get_dummies(df_ohe, drop_first= True)"
   ]
  },
  {
   "cell_type": "code",
   "execution_count": 95,
   "metadata": {},
   "outputs": [
    {
     "name": "stdout",
     "output_type": "stream",
     "text": [
      "<class 'pandas.core.frame.DataFrame'>\n",
      "RangeIndex: 353046 entries, 0 to 353045\n",
      "Data columns (total 99 columns):\n",
      " #   Column                   Non-Null Count   Dtype\n",
      "---  ------                   --------------   -----\n",
      " 0   Price                    353046 non-null  int64\n",
      " 1   RegistrationYear         353046 non-null  int64\n",
      " 2   Power                    353046 non-null  int64\n",
      " 3   Kilometer                353046 non-null  int64\n",
      " 4   RegistrationMonth        353046 non-null  int64\n",
      " 5   PostalCode               353046 non-null  int64\n",
      " 6   DateCrawledYear          353046 non-null  int64\n",
      " 7   DateCrawledMonth         353046 non-null  int64\n",
      " 8   DateCreatedYear          353046 non-null  int64\n",
      " 9   DateCreatedMonth         353046 non-null  int64\n",
      " 10  LastSeenYear             353046 non-null  int64\n",
      " 11  LastSeenMonth            353046 non-null  int64\n",
      " 12  VehicleType_convertible  353046 non-null  uint8\n",
      " 13  VehicleType_coupe        353046 non-null  uint8\n",
      " 14  VehicleType_other        353046 non-null  uint8\n",
      " 15  VehicleType_sedan        353046 non-null  uint8\n",
      " 16  VehicleType_small        353046 non-null  uint8\n",
      " 17  VehicleType_suv          353046 non-null  uint8\n",
      " 18  VehicleType_unknow       353046 non-null  uint8\n",
      " 19  VehicleType_wagon        353046 non-null  uint8\n",
      " 20  Gearbox_manual           353046 non-null  uint8\n",
      " 21  Gearbox_unknown          353046 non-null  uint8\n",
      " 22  Model_2_reihe            353046 non-null  uint8\n",
      " 23  Model_3_reihe            353046 non-null  uint8\n",
      " 24  Model_3er                353046 non-null  uint8\n",
      " 25  Model_5er                353046 non-null  uint8\n",
      " 26  Model_a3                 353046 non-null  uint8\n",
      " 27  Model_a4                 353046 non-null  uint8\n",
      " 28  Model_a6                 353046 non-null  uint8\n",
      " 29  Model_a_klasse           353046 non-null  uint8\n",
      " 30  Model_astra              353046 non-null  uint8\n",
      " 31  Model_c_klasse           353046 non-null  uint8\n",
      " 32  Model_clio               353046 non-null  uint8\n",
      " 33  Model_corsa              353046 non-null  uint8\n",
      " 34  Model_e_klasse           353046 non-null  uint8\n",
      " 35  Model_fiesta             353046 non-null  uint8\n",
      " 36  Model_focus              353046 non-null  uint8\n",
      " 37  Model_fortwo             353046 non-null  uint8\n",
      " 38  Model_golf               353046 non-null  uint8\n",
      " 39  Model_megane             353046 non-null  uint8\n",
      " 40  Model_mondeo             353046 non-null  uint8\n",
      " 41  Model_other              353046 non-null  uint8\n",
      " 42  Model_passat             353046 non-null  uint8\n",
      " 43  Model_polo               353046 non-null  uint8\n",
      " 44  Model_punto              353046 non-null  uint8\n",
      " 45  Model_touran             353046 non-null  uint8\n",
      " 46  Model_transporter        353046 non-null  uint8\n",
      " 47  Model_twingo             353046 non-null  uint8\n",
      " 48  Model_unknown            353046 non-null  uint8\n",
      " 49  Model_vectra             353046 non-null  uint8\n",
      " 50  Model_zafira             353046 non-null  uint8\n",
      " 51  FuelType_electric        353046 non-null  uint8\n",
      " 52  FuelType_gasoline        353046 non-null  uint8\n",
      " 53  FuelType_hybrid          353046 non-null  uint8\n",
      " 54  FuelType_lpg             353046 non-null  uint8\n",
      " 55  FuelType_other           353046 non-null  uint8\n",
      " 56  FuelType_petrol          353046 non-null  uint8\n",
      " 57  FuelType_unknown         353046 non-null  uint8\n",
      " 58  Brand_audi               353046 non-null  uint8\n",
      " 59  Brand_bmw                353046 non-null  uint8\n",
      " 60  Brand_chevrolet          353046 non-null  uint8\n",
      " 61  Brand_chrysler           353046 non-null  uint8\n",
      " 62  Brand_citroen            353046 non-null  uint8\n",
      " 63  Brand_dacia              353046 non-null  uint8\n",
      " 64  Brand_daewoo             353046 non-null  uint8\n",
      " 65  Brand_daihatsu           353046 non-null  uint8\n",
      " 66  Brand_fiat               353046 non-null  uint8\n",
      " 67  Brand_ford               353046 non-null  uint8\n",
      " 68  Brand_honda              353046 non-null  uint8\n",
      " 69  Brand_hyundai            353046 non-null  uint8\n",
      " 70  Brand_jaguar             353046 non-null  uint8\n",
      " 71  Brand_jeep               353046 non-null  uint8\n",
      " 72  Brand_kia                353046 non-null  uint8\n",
      " 73  Brand_lada               353046 non-null  uint8\n",
      " 74  Brand_lancia             353046 non-null  uint8\n",
      " 75  Brand_land_rover         353046 non-null  uint8\n",
      " 76  Brand_mazda              353046 non-null  uint8\n",
      " 77  Brand_mercedes_benz      353046 non-null  uint8\n",
      " 78  Brand_mini               353046 non-null  uint8\n",
      " 79  Brand_mitsubishi         353046 non-null  uint8\n",
      " 80  Brand_nissan             353046 non-null  uint8\n",
      " 81  Brand_opel               353046 non-null  uint8\n",
      " 82  Brand_peugeot            353046 non-null  uint8\n",
      " 83  Brand_porsche            353046 non-null  uint8\n",
      " 84  Brand_renault            353046 non-null  uint8\n",
      " 85  Brand_rover              353046 non-null  uint8\n",
      " 86  Brand_saab               353046 non-null  uint8\n",
      " 87  Brand_seat               353046 non-null  uint8\n",
      " 88  Brand_skoda              353046 non-null  uint8\n",
      " 89  Brand_smart              353046 non-null  uint8\n",
      " 90  Brand_sonstige_autos     353046 non-null  uint8\n",
      " 91  Brand_subaru             353046 non-null  uint8\n",
      " 92  Brand_suzuki             353046 non-null  uint8\n",
      " 93  Brand_toyota             353046 non-null  uint8\n",
      " 94  Brand_trabant            353046 non-null  uint8\n",
      " 95  Brand_volkswagen         353046 non-null  uint8\n",
      " 96  Brand_volvo              353046 non-null  uint8\n",
      " 97  Repaired_unknow          353046 non-null  uint8\n",
      " 98  Repaired_yes             353046 non-null  uint8\n",
      "dtypes: int64(12), uint8(87)\n",
      "memory usage: 61.6 MB\n"
     ]
    }
   ],
   "source": [
    "df_ohe.info()"
   ]
  },
  {
   "cell_type": "markdown",
   "metadata": {},
   "source": [
    "100 столбцов, думаю не плохо."
   ]
  },
  {
   "cell_type": "markdown",
   "metadata": {},
   "source": [
    "### 0 значения"
   ]
  },
  {
   "cell_type": "markdown",
   "metadata": {},
   "source": [
    "По скольку некоторые важные значения имеют 0, можно создать отдельные таблице без этих строк."
   ]
  },
  {
   "cell_type": "code",
   "execution_count": 96,
   "metadata": {},
   "outputs": [],
   "source": [
    "df_zeroless = df.loc[\n",
    "    (df['Price'] != 0) &\n",
    "    (df['Power'] != 0)\n",
    "]"
   ]
  },
  {
   "cell_type": "code",
   "execution_count": 97,
   "metadata": {},
   "outputs": [
    {
     "data": {
      "text/plain": [
       "46259"
      ]
     },
     "execution_count": 97,
     "metadata": {},
     "output_type": "execute_result"
    }
   ],
   "source": [
    "len(df) - len(df_zeroless)"
   ]
  },
  {
   "cell_type": "markdown",
   "metadata": {},
   "source": [
    "Ушло 46к строк, весомое значение, интересно как скажется на результате."
   ]
  },
  {
   "cell_type": "code",
   "execution_count": 98,
   "metadata": {},
   "outputs": [],
   "source": [
    "df_ohe_zeroless = df_ohe.loc[\n",
    "    (df_ohe['Price'] != 0) &\n",
    "    (df_ohe['Power'] != 0)\n",
    "]"
   ]
  },
  {
   "cell_type": "markdown",
   "metadata": {},
   "source": [
    "Теперь вроде бы все готово для подготовки к обучению"
   ]
  },
  {
   "cell_type": "markdown",
   "metadata": {},
   "source": [
    "### Фичи и ответы"
   ]
  },
  {
   "cell_type": "markdown",
   "metadata": {},
   "source": [
    "Теперь нуобходимо разделить фичи и ответы, а так же выборки на тестовую и тренировочную."
   ]
  },
  {
   "cell_type": "code",
   "execution_count": 99,
   "metadata": {},
   "outputs": [],
   "source": [
    "train_df, test_df = train_test_split(df, test_size=.25, random_state=RANDOM_STATE)\n",
    "train_df_zeroless, test_df_zeroless = train_test_split(df_zeroless, test_size=.25, random_state=RANDOM_STATE)\n",
    "train_df_ohe, test_df_ohe = train_test_split(df_ohe, test_size=.25, random_state=RANDOM_STATE)\n",
    "train_df_ohe_zeroless, test_df_ohe_zeroless = train_test_split(df_ohe_zeroless, test_size=.25, random_state=RANDOM_STATE)"
   ]
  },
  {
   "cell_type": "code",
   "execution_count": 100,
   "metadata": {},
   "outputs": [],
   "source": [
    "train_df_features = train_df.drop([\"Price\"], axis= 1)\n",
    "train_df_ans = train_df[\"Price\"]\n",
    "test_df_features = test_df.drop([\"Price\"], axis= 1)\n",
    "test_df_ans = test_df[\"Price\"]\n",
    "\n",
    "train_df_zeroless_features = train_df_zeroless.drop([\"Price\"], axis= 1)\n",
    "train_df_zeroless_ans = train_df_zeroless[\"Price\"]\n",
    "test_df_zeroless_features = test_df_zeroless.drop([\"Price\"], axis= 1)\n",
    "test_df_zeroless_ans = test_df_zeroless[\"Price\"]\n",
    "\n",
    "train_df_ohe_features = train_df_ohe.drop([\"Price\"], axis= 1)\n",
    "train_df_ohe_ans = train_df_ohe[\"Price\"]\n",
    "test_df_ohe_features = test_df_ohe.drop([\"Price\"], axis= 1)\n",
    "test_df_ohe_ans = test_df_ohe[\"Price\"]\n",
    "\n",
    "train_df_ohe_zeroless_features = train_df_ohe_zeroless.drop([\"Price\"], axis= 1)\n",
    "train_df_ohe_zerolesss_ans = train_df_ohe_zeroless[\"Price\"]\n",
    "test_df_ohe_zeroless_features = test_df_ohe_zeroless.drop([\"Price\"], axis= 1)\n",
    "test_df_ohe_zeroless_ans = test_df_ohe_zeroless[\"Price\"]"
   ]
  },
  {
   "cell_type": "markdown",
   "metadata": {},
   "source": [
    "## Обучение моделей"
   ]
  },
  {
   "cell_type": "markdown",
   "metadata": {},
   "source": [
    "Возьмем три модели для обучения, это \"лес\", регресию, CatBoost и LightGBM"
   ]
  },
  {
   "cell_type": "markdown",
   "metadata": {},
   "source": [
    "### Лес"
   ]
  },
  {
   "cell_type": "markdown",
   "metadata": {},
   "source": [
    "Поскольку у нас есть `GridSearchCV` то нам понаобятся только тестовая и тернировочная выборки."
   ]
  },
  {
   "cell_type": "markdown",
   "metadata": {},
   "source": [
    "Для леса важен масштаб, по этому применяем `StandardScaler`. Для леса будем использовать выборки с ОНЕ."
   ]
  },
  {
   "cell_type": "code",
   "execution_count": 101,
   "metadata": {},
   "outputs": [],
   "source": [
    "column = train_df_ohe_features.columns\n",
    "scaler = StandardScaler()\n",
    "scaler.fit(train_df_ohe_features[column])\n",
    "pd.options.mode.chained_assignment = None"
   ]
  },
  {
   "cell_type": "code",
   "execution_count": 102,
   "metadata": {},
   "outputs": [],
   "source": [
    "train_df_ohe_features[column] = scaler.transform(train_df_ohe_features[column])\n",
    "test_df_ohe_features[column] = scaler.transform(test_df_ohe_features[column])"
   ]
  },
  {
   "cell_type": "code",
   "execution_count": 103,
   "metadata": {},
   "outputs": [],
   "source": [
    "column = train_df_ohe_zeroless_features.columns\n",
    "scaler = StandardScaler()\n",
    "scaler.fit(train_df_ohe_zeroless_features[column])\n",
    "pd.options.mode.chained_assignment = None"
   ]
  },
  {
   "cell_type": "code",
   "execution_count": 104,
   "metadata": {},
   "outputs": [],
   "source": [
    "train_df_ohe_zeroless_features[column] = scaler.transform(train_df_ohe_zeroless_features[column])\n",
    "test_df_ohe_zeroless_features[column] = scaler.transform(test_df_ohe_zeroless_features[column])"
   ]
  },
  {
   "cell_type": "code",
   "execution_count": 181,
   "metadata": {
    "scrolled": true
   },
   "outputs": [
    {
     "name": "stdout",
     "output_type": "stream",
     "text": [
      "Fitting 2 folds for each of 8 candidates, totalling 16 fits\n",
      "[CV 1/2] END max_depth=8, min_samples_leaf=6, min_samples_split=2, n_estimators=250; total time= 2.7min\n",
      "[CV 2/2] END max_depth=8, min_samples_leaf=6, min_samples_split=2, n_estimators=250; total time= 2.7min\n",
      "[CV 1/2] END max_depth=8, min_samples_leaf=6, min_samples_split=2, n_estimators=450; total time= 4.8min\n",
      "[CV 2/2] END max_depth=8, min_samples_leaf=6, min_samples_split=2, n_estimators=450; total time= 5.0min\n",
      "[CV 1/2] END max_depth=8, min_samples_leaf=6, min_samples_split=2, n_estimators=650; total time= 7.2min\n",
      "[CV 2/2] END max_depth=8, min_samples_leaf=6, min_samples_split=2, n_estimators=650; total time= 7.3min\n",
      "[CV 1/2] END max_depth=8, min_samples_leaf=6, min_samples_split=2, n_estimators=850; total time= 9.4min\n",
      "[CV 2/2] END max_depth=8, min_samples_leaf=6, min_samples_split=2, n_estimators=850; total time= 9.3min\n",
      "[CV 1/2] END max_depth=9, min_samples_leaf=6, min_samples_split=2, n_estimators=250; total time= 2.9min\n",
      "[CV 2/2] END max_depth=9, min_samples_leaf=6, min_samples_split=2, n_estimators=250; total time= 3.0min\n",
      "[CV 1/2] END max_depth=9, min_samples_leaf=6, min_samples_split=2, n_estimators=450; total time= 5.3min\n",
      "[CV 2/2] END max_depth=9, min_samples_leaf=6, min_samples_split=2, n_estimators=450; total time= 5.3min\n",
      "[CV 1/2] END max_depth=9, min_samples_leaf=6, min_samples_split=2, n_estimators=650; total time= 7.7min\n",
      "[CV 2/2] END max_depth=9, min_samples_leaf=6, min_samples_split=2, n_estimators=650; total time= 7.8min\n",
      "[CV 1/2] END max_depth=9, min_samples_leaf=6, min_samples_split=2, n_estimators=850; total time=10.0min\n",
      "[CV 2/2] END max_depth=9, min_samples_leaf=6, min_samples_split=2, n_estimators=850; total time=10.1min\n",
      "{'max_depth': 9, 'min_samples_leaf': 6, 'min_samples_split': 2, 'n_estimators': 850}\n",
      "-2085.3571485287384\n",
      "CPU times: user 2h 3min 5s, sys: 10.4 s, total: 2h 3min 15s\n",
      "Wall time: 2h 3min 24s\n"
     ]
    }
   ],
   "source": [
    "%%time\n",
    "parametrs = {'n_estimators' : range(250,851,200),\n",
    "            'max_depth' :[8,9],\n",
    "            'min_samples_leaf' : [6],\n",
    "            'min_samples_split': [2]}\n",
    "rfr = GridSearchCV(RFR(random_state= RANDOM_STATE), \n",
    "                   parametrs, \n",
    "                   scoring = 'neg_root_mean_squared_error', \n",
    "                   verbose = 3,\n",
    "                   cv=2)\n",
    "rfr.fit(train_df_ohe_features, train_df_ohe_ans)\n",
    "print (rfr.best_params_)\n",
    "print (rfr.best_score_)\n",
    "bot_send(f'{rfr.best_score_}')\n",
    "for s in rfr.best_params_:\n",
    "    bot_send (f'{s}: {rfr.best_params_[s]}')"
   ]
  },
  {
   "cell_type": "code",
   "execution_count": 184,
   "metadata": {},
   "outputs": [
    {
     "data": {
      "text/plain": [
       "2102.3263639487545"
      ]
     },
     "execution_count": 184,
     "metadata": {},
     "output_type": "execute_result"
    }
   ],
   "source": [
    "MSE(test_df_ohe_ans, rfr.predict(test_df_ohe_features),squared=False)"
   ]
  },
  {
   "cell_type": "code",
   "execution_count": 182,
   "metadata": {
    "scrolled": true
   },
   "outputs": [
    {
     "name": "stdout",
     "output_type": "stream",
     "text": [
      "Fitting 2 folds for each of 8 candidates, totalling 16 fits\n",
      "[CV 1/2] END max_depth=8, min_samples_leaf=2, min_samples_split=2, n_estimators=250; total time= 2.3min\n",
      "[CV 2/2] END max_depth=8, min_samples_leaf=2, min_samples_split=2, n_estimators=250; total time= 2.2min\n",
      "[CV 1/2] END max_depth=8, min_samples_leaf=2, min_samples_split=2, n_estimators=450; total time= 3.9min\n",
      "[CV 2/2] END max_depth=8, min_samples_leaf=2, min_samples_split=2, n_estimators=450; total time= 4.0min\n",
      "[CV 1/2] END max_depth=8, min_samples_leaf=2, min_samples_split=2, n_estimators=650; total time= 5.7min\n",
      "[CV 2/2] END max_depth=8, min_samples_leaf=2, min_samples_split=2, n_estimators=650; total time= 5.7min\n",
      "[CV 1/2] END max_depth=8, min_samples_leaf=2, min_samples_split=2, n_estimators=850; total time= 7.4min\n",
      "[CV 2/2] END max_depth=8, min_samples_leaf=2, min_samples_split=2, n_estimators=850; total time= 7.6min\n",
      "[CV 1/2] END max_depth=9, min_samples_leaf=2, min_samples_split=2, n_estimators=250; total time= 2.5min\n",
      "[CV 2/2] END max_depth=9, min_samples_leaf=2, min_samples_split=2, n_estimators=250; total time= 2.4min\n",
      "[CV 1/2] END max_depth=9, min_samples_leaf=2, min_samples_split=2, n_estimators=450; total time= 4.4min\n",
      "[CV 2/2] END max_depth=9, min_samples_leaf=2, min_samples_split=2, n_estimators=450; total time= 4.4min\n",
      "[CV 1/2] END max_depth=9, min_samples_leaf=2, min_samples_split=2, n_estimators=650; total time= 6.3min\n",
      "[CV 2/2] END max_depth=9, min_samples_leaf=2, min_samples_split=2, n_estimators=650; total time= 6.3min\n",
      "[CV 1/2] END max_depth=9, min_samples_leaf=2, min_samples_split=2, n_estimators=850; total time= 8.1min\n",
      "[CV 2/2] END max_depth=9, min_samples_leaf=2, min_samples_split=2, n_estimators=850; total time= 8.4min\n",
      "{'max_depth': 9, 'min_samples_leaf': 2, 'min_samples_split': 2, 'n_estimators': 850}\n",
      "-1972.5981326447863\n",
      "CPU times: user 1h 40min 22s, sys: 8.99 s, total: 1h 40min 31s\n",
      "Wall time: 1h 40min 38s\n"
     ]
    }
   ],
   "source": [
    "%%time\n",
    "parametrs = {'n_estimators' : range(250,851,200),\n",
    "            'max_depth' : [8,9],\n",
    "            'min_samples_leaf' : [2],\n",
    "            'min_samples_split': [2]}\n",
    "rfr_zr = GridSearchCV(RFR(random_state= RANDOM_STATE), \n",
    "                   parametrs, \n",
    "                   scoring = 'neg_root_mean_squared_error', \n",
    "                   verbose = 3,\n",
    "                   cv=2)\n",
    "rfr_zr.fit(train_df_ohe_zeroless_features, train_df_ohe_zerolesss_ans)\n",
    "print (rfr_zr.best_params_)\n",
    "print (rfr_zr.best_score_)\n",
    "bot_send(f'{rfr_zr.best_score_}')\n",
    "for s in rfr_zr.best_params_:\n",
    "    bot_send (f'{s}: {rfr_zr.best_params_[s]}')"
   ]
  },
  {
   "cell_type": "code",
   "execution_count": 183,
   "metadata": {},
   "outputs": [
    {
     "data": {
      "text/plain": [
       "1973.7453518512411"
      ]
     },
     "execution_count": 183,
     "metadata": {},
     "output_type": "execute_result"
    }
   ],
   "source": [
    "MSE(test_df_ohe_zeroless_ans, rfr_zr.predict(test_df_ohe_zeroless_features),squared=False)"
   ]
  },
  {
   "cell_type": "markdown",
   "metadata": {},
   "source": [
    "После парочки прогонов гиперпараметров для леса, видно что лес с набором даных без нулей показывает лучшую метрику, по этому дальше будем подбирать параметры только для него."
   ]
  },
  {
   "cell_type": "code",
   "execution_count": 198,
   "metadata": {
    "scrolled": true
   },
   "outputs": [
    {
     "name": "stdout",
     "output_type": "stream",
     "text": [
      "Fitting 2 folds for each of 3 candidates, totalling 6 fits\n",
      "[CV 1/2] END max_depth=9, min_samples_leaf=2, min_samples_split=2, n_estimators=650; total time= 6.5min\n",
      "[CV 2/2] END max_depth=9, min_samples_leaf=2, min_samples_split=2, n_estimators=650; total time= 6.6min\n",
      "[CV 1/2] END max_depth=9, min_samples_leaf=2, min_samples_split=2, n_estimators=750; total time= 7.5min\n",
      "[CV 2/2] END max_depth=9, min_samples_leaf=2, min_samples_split=2, n_estimators=750; total time= 7.6min\n",
      "[CV 1/2] END max_depth=9, min_samples_leaf=2, min_samples_split=2, n_estimators=850; total time= 8.6min\n",
      "[CV 2/2] END max_depth=9, min_samples_leaf=2, min_samples_split=2, n_estimators=850; total time= 8.6min\n",
      "{'max_depth': 9, 'min_samples_leaf': 2, 'min_samples_split': 2, 'n_estimators': 850}\n",
      "-1972.5981326447863\n",
      "3862.7343225479126\n",
      "CPU times: user 1h 4min 12s, sys: 5.65 s, total: 1h 4min 18s\n",
      "Wall time: 1h 4min 22s\n"
     ]
    }
   ],
   "source": [
    "%%time \n",
    "parametrs = {'n_estimators' : range(650, 851, 100),\n",
    "            'max_depth' : [9],\n",
    "            'min_samples_leaf' : [2],\n",
    "            'min_samples_split': [2]}\n",
    "rfr_zr = GridSearchCV(RFR(random_state= RANDOM_STATE), \n",
    "                   parametrs, \n",
    "                   scoring = 'neg_root_mean_squared_error', \n",
    "                   verbose = 3,\n",
    "                   cv=2)\n",
    "rfr_zr.fit(train_df_ohe_zeroless_features, train_df_ohe_zerolesss_ans)\n",
    "print (rfr_zr.best_params_)\n",
    "print (rfr_zr.best_score_)\n",
    "bot_send(f'{rfr_zr.best_score_}')\n",
    "for s in rfr_zr.best_params_:\n",
    "    bot_send (f'{s}: {rfr_zr.best_params_[s]}')"
   ]
  },
  {
   "cell_type": "code",
   "execution_count": 194,
   "metadata": {
    "scrolled": true
   },
   "outputs": [
    {
     "data": {
      "text/plain": [
       "1973.7453518512411"
      ]
     },
     "execution_count": 194,
     "metadata": {},
     "output_type": "execute_result"
    }
   ],
   "source": [
    "MSE(test_df_ohe_zeroless_ans, rfr_zr.predict(test_df_ohe_zeroless_features),squared=False)"
   ]
  },
  {
   "cell_type": "markdown",
   "metadata": {},
   "source": [
    "Перебрав гиперпараметры получили RMSE на тестовой выборке 1973,8. Не плохой результат, теперь посмотрим на вермя обучения для этих параметров и времени предсказания."
   ]
  },
  {
   "cell_type": "code",
   "execution_count": 105,
   "metadata": {},
   "outputs": [],
   "source": [
    "start = time()\n",
    "rfr_zr = RFR(random_state= RANDOM_STATE,\n",
    "             max_depth=9,\n",
    "             min_samples_leaf=2,\n",
    "             min_samples_split=2,\n",
    "             n_estimators=850)\n",
    "rfr_zr.fit(train_df_ohe_zeroless_features, train_df_ohe_zerolesss_ans)\n",
    "time_rfr_fit = time()-start"
   ]
  },
  {
   "cell_type": "code",
   "execution_count": null,
   "metadata": {},
   "outputs": [],
   "source": [
    "start = time()\n",
    "rfr_zr_predict = rfr_zr.predict(test_df_ohe_zeroless_features)\n",
    "time_rfr_pre = time()-start"
   ]
  },
  {
   "cell_type": "code",
   "execution_count": null,
   "metadata": {},
   "outputs": [
    {
     "ename": "NameError",
     "evalue": "name 'rfr_zr_predict' is not defined",
     "output_type": "error",
     "traceback": [
      "\u001b[0;31m---------------------------------------------------------------------------\u001b[0m",
      "\u001b[0;31mNameError\u001b[0m                                 Traceback (most recent call last)",
      "\u001b[0;32m/tmp/ipykernel_189/2968431770.py\u001b[0m in \u001b[0;36m<module>\u001b[0;34m\u001b[0m\n\u001b[0;32m----> 1\u001b[0;31m \u001b[0mmse_rfr\u001b[0m \u001b[0;34m=\u001b[0m \u001b[0mMSE\u001b[0m\u001b[0;34m(\u001b[0m\u001b[0mtest_df_ohe_zeroless_ans\u001b[0m\u001b[0;34m,\u001b[0m \u001b[0mrfr_zr_predict\u001b[0m\u001b[0;34m,\u001b[0m\u001b[0msquared\u001b[0m\u001b[0;34m=\u001b[0m\u001b[0;32mFalse\u001b[0m\u001b[0;34m)\u001b[0m\u001b[0;34m\u001b[0m\u001b[0;34m\u001b[0m\u001b[0m\n\u001b[0m",
      "\u001b[0;31mNameError\u001b[0m: name 'rfr_zr_predict' is not defined"
     ]
    }
   ],
   "source": [
    "rmse_rfr = MSE(test_df_ohe_zeroless_ans, rfr_zr_predict,squared=False)"
   ]
  },
  {
   "cell_type": "code",
   "execution_count": null,
   "metadata": {},
   "outputs": [
    {
     "data": {
      "text/plain": [
       "'время обучения 1121.989134311676'"
      ]
     },
     "metadata": {},
     "output_type": "display_data"
    },
    {
     "data": {
      "text/plain": [
       "'время предсказания 5.382678985595703'"
      ]
     },
     "metadata": {},
     "output_type": "display_data"
    }
   ],
   "source": [
    "display(f'время обучения {time_rfr_fit}')\n",
    "display(f'время предсказания {time_rfr_pre}')\n",
    "display(f'RMSE {rmse_rfr}')"
   ]
  },
  {
   "cell_type": "markdown",
   "metadata": {},
   "source": [
    "Получили необхлжимые данные, потом собирем все в единую таблицу и будем принимать решение."
   ]
  },
  {
   "cell_type": "markdown",
   "metadata": {},
   "source": [
    "### LinearRegression"
   ]
  },
  {
   "cell_type": "markdown",
   "metadata": {},
   "source": [
    "Тут все просто, пармаетров нету, просто обучаем и радуемся быстрым результатам."
   ]
  },
  {
   "cell_type": "code",
   "execution_count": null,
   "metadata": {},
   "outputs": [],
   "source": [
    "start = time()\n",
    "lr = LR()\n",
    "lr.fit(train_df_ohe_features, train_df_ohe_ans)\n",
    "time_lr_fit = time()-start\n",
    "strat= time()\n",
    "lr_predict = lr.predict(test_df_ohe_features)\n",
    "time_lr_pre = time() - start\n",
    "rmse_lr = MSE(test_df_ohe_ans, lr_predict,squared=False)"
   ]
  },
  {
   "cell_type": "code",
   "execution_count": null,
   "metadata": {},
   "outputs": [],
   "source": [
    "start = time()\n",
    "lr_zr = LR()\n",
    "lr_zr.fit(train_df_ohe_zeroless_features, train_df_ohe_zerolesss_ans)\n",
    "time_lr_zr_fit = time()-start\n",
    "strat= time()\n",
    "lr_zr_predict = lr_zr.predict(test_df_ohe_zeroless_features)\n",
    "time_lr_zr_pre = time() - start\n",
    "rmse_lr_zr = MSE(test_df_ohe_zeroless_ans, lr_zr_predict,squared=False)"
   ]
  },
  {
   "cell_type": "code",
   "execution_count": null,
   "metadata": {},
   "outputs": [
    {
     "data": {
      "text/plain": [
       "'данные с нулями'"
      ]
     },
     "metadata": {},
     "output_type": "display_data"
    },
    {
     "data": {
      "text/plain": [
       "'время обучения 6.89294958114624'"
      ]
     },
     "metadata": {},
     "output_type": "display_data"
    },
    {
     "data": {
      "text/plain": [
       "'время предсказания 7.085282325744629'"
      ]
     },
     "metadata": {},
     "output_type": "display_data"
    },
    {
     "data": {
      "text/plain": [
       "'RMSE 2896.840666791341'"
      ]
     },
     "metadata": {},
     "output_type": "display_data"
    },
    {
     "data": {
      "text/plain": [
       "'данные без нулей'"
      ]
     },
     "metadata": {},
     "output_type": "display_data"
    },
    {
     "data": {
      "text/plain": [
       "'время обучения 5.55510139465332'"
      ]
     },
     "metadata": {},
     "output_type": "display_data"
    },
    {
     "data": {
      "text/plain": [
       "'время предсказания 5.774473667144775'"
      ]
     },
     "metadata": {},
     "output_type": "display_data"
    },
    {
     "data": {
      "text/plain": [
       "'RMSE 2685.6759921596727'"
      ]
     },
     "metadata": {},
     "output_type": "display_data"
    }
   ],
   "source": [
    "display('данные с нулями')\n",
    "display(f'время обучения {time_lr_fit}')\n",
    "display(f'время предсказания {time_lr_pre}')\n",
    "display(f'RMSE {rmse_lr}')\n",
    "display()\n",
    "display('данные без нулей')\n",
    "display(f'время обучения {time_lr_zr_fit}')\n",
    "display(f'время предсказания {time_lr_zr_pre}')\n",
    "display(f'RMSE {rmse_lr_zr}')"
   ]
  },
  {
   "cell_type": "markdown",
   "metadata": {},
   "source": [
    "Как видно во втором случае модель показала лучше результаты, и по вермени и по ошибке, но все-равно не прошла порога в 2500."
   ]
  },
  {
   "cell_type": "markdown",
   "metadata": {},
   "source": [
    "### CatBoost"
   ]
  },
  {
   "cell_type": "markdown",
   "metadata": {},
   "source": [
    "По скольку CatBoost умеет радотать с категориальными величинами будем использовать для него df без OHE."
   ]
  },
  {
   "cell_type": "code",
   "execution_count": 119,
   "metadata": {
    "scrolled": true
   },
   "outputs": [
    {
     "name": "stdout",
     "output_type": "stream",
     "text": [
      "Fitting 2 folds for each of 225 candidates, totalling 450 fits\n",
      "[CV 1/2] END depth=10, iterations=800, l2_leaf_reg=2, learning_rate=0.8; total time= 5.1min\n",
      "[CV 2/2] END depth=10, iterations=800, l2_leaf_reg=2, learning_rate=0.8; total time= 5.0min\n",
      "[CV 1/2] END depth=10, iterations=800, l2_leaf_reg=2, learning_rate=0.9; total time= 4.9min\n",
      "[CV 2/2] END depth=10, iterations=800, l2_leaf_reg=2, learning_rate=0.9; total time= 4.9min\n",
      "[CV 1/2] END depth=10, iterations=800, l2_leaf_reg=2, learning_rate=1; total time= 4.9min\n",
      "[CV 2/2] END depth=10, iterations=800, l2_leaf_reg=2, learning_rate=1; total time= 4.8min\n",
      "[CV 1/2] END depth=10, iterations=800, l2_leaf_reg=3, learning_rate=0.8; total time= 4.8min\n",
      "[CV 2/2] END depth=10, iterations=800, l2_leaf_reg=3, learning_rate=0.8; total time= 4.9min\n",
      "[CV 1/2] END depth=10, iterations=800, l2_leaf_reg=3, learning_rate=0.9; total time= 4.8min\n",
      "[CV 2/2] END depth=10, iterations=800, l2_leaf_reg=3, learning_rate=0.9; total time= 4.8min\n",
      "[CV 1/2] END depth=10, iterations=800, l2_leaf_reg=3, learning_rate=1; total time= 4.9min\n",
      "[CV 2/2] END depth=10, iterations=800, l2_leaf_reg=3, learning_rate=1; total time= 4.8min\n",
      "[CV 1/2] END depth=10, iterations=800, l2_leaf_reg=4, learning_rate=0.8; total time= 4.8min\n",
      "[CV 2/2] END depth=10, iterations=800, l2_leaf_reg=4, learning_rate=0.8; total time= 4.9min\n",
      "[CV 1/2] END depth=10, iterations=800, l2_leaf_reg=4, learning_rate=0.9; total time= 4.9min\n",
      "[CV 2/2] END depth=10, iterations=800, l2_leaf_reg=4, learning_rate=0.9; total time= 4.9min\n",
      "[CV 1/2] END depth=10, iterations=800, l2_leaf_reg=4, learning_rate=1; total time= 4.8min\n",
      "[CV 2/2] END depth=10, iterations=800, l2_leaf_reg=4, learning_rate=1; total time= 4.8min\n",
      "[CV 1/2] END depth=10, iterations=900, l2_leaf_reg=2, learning_rate=0.8; total time= 5.4min\n",
      "[CV 2/2] END depth=10, iterations=900, l2_leaf_reg=2, learning_rate=0.8; total time= 5.4min\n",
      "[CV 1/2] END depth=10, iterations=900, l2_leaf_reg=2, learning_rate=0.9; total time= 5.3min\n",
      "[CV 2/2] END depth=10, iterations=900, l2_leaf_reg=2, learning_rate=0.9; total time= 5.2min\n",
      "[CV 1/2] END depth=10, iterations=900, l2_leaf_reg=2, learning_rate=1; total time= 5.3min\n",
      "[CV 2/2] END depth=10, iterations=900, l2_leaf_reg=2, learning_rate=1; total time= 5.3min\n",
      "[CV 1/2] END depth=10, iterations=900, l2_leaf_reg=3, learning_rate=0.8; total time= 5.3min\n",
      "[CV 2/2] END depth=10, iterations=900, l2_leaf_reg=3, learning_rate=0.8; total time= 5.3min\n",
      "[CV 1/2] END depth=10, iterations=900, l2_leaf_reg=3, learning_rate=0.9; total time= 5.3min\n",
      "[CV 2/2] END depth=10, iterations=900, l2_leaf_reg=3, learning_rate=0.9; total time= 5.5min\n",
      "[CV 1/2] END depth=10, iterations=900, l2_leaf_reg=3, learning_rate=1; total time= 5.6min\n",
      "[CV 2/2] END depth=10, iterations=900, l2_leaf_reg=3, learning_rate=1; total time= 5.5min\n",
      "[CV 1/2] END depth=10, iterations=900, l2_leaf_reg=4, learning_rate=0.8; total time= 5.2min\n",
      "[CV 2/2] END depth=10, iterations=900, l2_leaf_reg=4, learning_rate=0.8; total time= 5.1min\n",
      "[CV 1/2] END depth=10, iterations=900, l2_leaf_reg=4, learning_rate=0.9; total time= 5.2min\n",
      "[CV 2/2] END depth=10, iterations=900, l2_leaf_reg=4, learning_rate=0.9; total time= 5.1min\n",
      "[CV 1/2] END depth=10, iterations=900, l2_leaf_reg=4, learning_rate=1; total time= 5.0min\n",
      "[CV 2/2] END depth=10, iterations=900, l2_leaf_reg=4, learning_rate=1; total time= 5.1min\n",
      "[CV 1/2] END depth=10, iterations=1000, l2_leaf_reg=2, learning_rate=0.8; total time= 5.7min\n",
      "[CV 2/2] END depth=10, iterations=1000, l2_leaf_reg=2, learning_rate=0.8; total time= 5.7min\n",
      "[CV 1/2] END depth=10, iterations=1000, l2_leaf_reg=2, learning_rate=0.9; total time= 5.6min\n",
      "[CV 2/2] END depth=10, iterations=1000, l2_leaf_reg=2, learning_rate=0.9; total time= 5.6min\n",
      "[CV 1/2] END depth=10, iterations=1000, l2_leaf_reg=2, learning_rate=1; total time= 5.6min\n",
      "[CV 2/2] END depth=10, iterations=1000, l2_leaf_reg=2, learning_rate=1; total time= 5.6min\n",
      "[CV 1/2] END depth=10, iterations=1000, l2_leaf_reg=3, learning_rate=0.8; total time= 5.6min\n",
      "[CV 2/2] END depth=10, iterations=1000, l2_leaf_reg=3, learning_rate=0.8; total time= 5.7min\n",
      "[CV 1/2] END depth=10, iterations=1000, l2_leaf_reg=3, learning_rate=0.9; total time= 5.7min\n",
      "[CV 2/2] END depth=10, iterations=1000, l2_leaf_reg=3, learning_rate=0.9; total time= 5.7min\n",
      "[CV 1/2] END depth=10, iterations=1000, l2_leaf_reg=3, learning_rate=1; total time= 5.7min\n",
      "[CV 2/2] END depth=10, iterations=1000, l2_leaf_reg=3, learning_rate=1; total time= 5.6min\n",
      "[CV 1/2] END depth=10, iterations=1000, l2_leaf_reg=4, learning_rate=0.8; total time= 5.6min\n",
      "[CV 2/2] END depth=10, iterations=1000, l2_leaf_reg=4, learning_rate=0.8; total time= 5.6min\n",
      "[CV 1/2] END depth=10, iterations=1000, l2_leaf_reg=4, learning_rate=0.9; total time= 5.6min\n",
      "[CV 2/2] END depth=10, iterations=1000, l2_leaf_reg=4, learning_rate=0.9; total time= 5.6min\n",
      "[CV 1/2] END depth=10, iterations=1000, l2_leaf_reg=4, learning_rate=1; total time= 5.6min\n",
      "[CV 2/2] END depth=10, iterations=1000, l2_leaf_reg=4, learning_rate=1; total time= 5.6min\n",
      "[CV 1/2] END depth=10, iterations=1100, l2_leaf_reg=2, learning_rate=0.8; total time= 6.2min\n",
      "[CV 2/2] END depth=10, iterations=1100, l2_leaf_reg=2, learning_rate=0.8; total time= 6.2min\n",
      "[CV 1/2] END depth=10, iterations=1100, l2_leaf_reg=2, learning_rate=0.9; total time= 6.2min\n",
      "[CV 2/2] END depth=10, iterations=1100, l2_leaf_reg=2, learning_rate=0.9; total time= 6.2min\n",
      "[CV 1/2] END depth=10, iterations=1100, l2_leaf_reg=2, learning_rate=1; total time= 6.2min\n",
      "[CV 2/2] END depth=10, iterations=1100, l2_leaf_reg=2, learning_rate=1; total time= 6.2min\n",
      "[CV 1/2] END depth=10, iterations=1100, l2_leaf_reg=3, learning_rate=0.8; total time= 6.2min\n",
      "[CV 2/2] END depth=10, iterations=1100, l2_leaf_reg=3, learning_rate=0.8; total time= 6.2min\n",
      "[CV 1/2] END depth=10, iterations=1100, l2_leaf_reg=3, learning_rate=0.9; total time= 6.2min\n",
      "[CV 2/2] END depth=10, iterations=1100, l2_leaf_reg=3, learning_rate=0.9; total time= 6.2min\n",
      "[CV 1/2] END depth=10, iterations=1100, l2_leaf_reg=3, learning_rate=1; total time= 6.3min\n",
      "[CV 2/2] END depth=10, iterations=1100, l2_leaf_reg=3, learning_rate=1; total time= 6.1min\n",
      "[CV 1/2] END depth=10, iterations=1100, l2_leaf_reg=4, learning_rate=0.8; total time= 6.2min\n",
      "[CV 2/2] END depth=10, iterations=1100, l2_leaf_reg=4, learning_rate=0.8; total time= 6.3min\n",
      "[CV 1/2] END depth=10, iterations=1100, l2_leaf_reg=4, learning_rate=0.9; total time= 6.3min\n",
      "[CV 2/2] END depth=10, iterations=1100, l2_leaf_reg=4, learning_rate=0.9; total time= 6.2min\n",
      "[CV 1/2] END depth=10, iterations=1100, l2_leaf_reg=4, learning_rate=1; total time= 6.2min\n",
      "[CV 2/2] END depth=10, iterations=1100, l2_leaf_reg=4, learning_rate=1; total time= 6.2min\n",
      "[CV 1/2] END depth=10, iterations=1200, l2_leaf_reg=2, learning_rate=0.8; total time= 6.8min\n",
      "[CV 2/2] END depth=10, iterations=1200, l2_leaf_reg=2, learning_rate=0.8; total time= 6.8min\n",
      "[CV 1/2] END depth=10, iterations=1200, l2_leaf_reg=2, learning_rate=0.9; total time= 6.8min\n",
      "[CV 2/2] END depth=10, iterations=1200, l2_leaf_reg=2, learning_rate=0.9; total time= 6.8min\n",
      "[CV 1/2] END depth=10, iterations=1200, l2_leaf_reg=2, learning_rate=1; total time= 6.8min\n",
      "[CV 2/2] END depth=10, iterations=1200, l2_leaf_reg=2, learning_rate=1; total time= 6.8min\n",
      "[CV 1/2] END depth=10, iterations=1200, l2_leaf_reg=3, learning_rate=0.8; total time= 6.8min\n",
      "[CV 2/2] END depth=10, iterations=1200, l2_leaf_reg=3, learning_rate=0.8; total time= 6.8min\n",
      "[CV 1/2] END depth=10, iterations=1200, l2_leaf_reg=3, learning_rate=0.9; total time= 6.8min\n",
      "[CV 2/2] END depth=10, iterations=1200, l2_leaf_reg=3, learning_rate=0.9; total time= 6.8min\n",
      "[CV 1/2] END depth=10, iterations=1200, l2_leaf_reg=3, learning_rate=1; total time= 6.9min\n",
      "[CV 2/2] END depth=10, iterations=1200, l2_leaf_reg=3, learning_rate=1; total time= 6.9min\n",
      "[CV 1/2] END depth=10, iterations=1200, l2_leaf_reg=4, learning_rate=0.8; total time= 6.8min\n",
      "[CV 2/2] END depth=10, iterations=1200, l2_leaf_reg=4, learning_rate=0.8; total time= 6.9min\n",
      "[CV 1/2] END depth=10, iterations=1200, l2_leaf_reg=4, learning_rate=0.9; total time= 6.9min\n",
      "[CV 2/2] END depth=10, iterations=1200, l2_leaf_reg=4, learning_rate=0.9; total time= 6.8min\n",
      "[CV 1/2] END depth=10, iterations=1200, l2_leaf_reg=4, learning_rate=1; total time= 6.8min\n",
      "[CV 2/2] END depth=10, iterations=1200, l2_leaf_reg=4, learning_rate=1; total time= 6.9min\n",
      "[CV 1/2] END depth=11, iterations=800, l2_leaf_reg=2, learning_rate=0.8; total time= 5.6min\n",
      "[CV 2/2] END depth=11, iterations=800, l2_leaf_reg=2, learning_rate=0.8; total time= 5.7min\n",
      "[CV 1/2] END depth=11, iterations=800, l2_leaf_reg=2, learning_rate=0.9; total time= 5.6min\n",
      "[CV 2/2] END depth=11, iterations=800, l2_leaf_reg=2, learning_rate=0.9; total time= 5.7min\n",
      "[CV 1/2] END depth=11, iterations=800, l2_leaf_reg=2, learning_rate=1; total time= 5.6min\n",
      "[CV 2/2] END depth=11, iterations=800, l2_leaf_reg=2, learning_rate=1; total time= 5.7min\n",
      "[CV 1/2] END depth=11, iterations=800, l2_leaf_reg=3, learning_rate=0.8; total time= 5.6min\n",
      "[CV 2/2] END depth=11, iterations=800, l2_leaf_reg=3, learning_rate=0.8; total time= 5.7min\n",
      "[CV 1/2] END depth=11, iterations=800, l2_leaf_reg=3, learning_rate=0.9; total time= 5.6min\n",
      "[CV 2/2] END depth=11, iterations=800, l2_leaf_reg=3, learning_rate=0.9; total time= 5.6min\n"
     ]
    },
    {
     "ename": "KeyboardInterrupt",
     "evalue": "",
     "output_type": "error",
     "traceback": [
      "\u001b[0;31m---------------------------------------------------------------------------\u001b[0m",
      "\u001b[0;31mKeyboardInterrupt\u001b[0m                         Traceback (most recent call last)",
      "\u001b[0;32m<timed exec>\u001b[0m in \u001b[0;36m<module>\u001b[0;34m\u001b[0m\n",
      "\u001b[0;32m/opt/conda/lib/python3.9/site-packages/sklearn/utils/validation.py\u001b[0m in \u001b[0;36minner_f\u001b[0;34m(*args, **kwargs)\u001b[0m\n\u001b[1;32m     61\u001b[0m             \u001b[0mextra_args\u001b[0m \u001b[0;34m=\u001b[0m \u001b[0mlen\u001b[0m\u001b[0;34m(\u001b[0m\u001b[0margs\u001b[0m\u001b[0;34m)\u001b[0m \u001b[0;34m-\u001b[0m \u001b[0mlen\u001b[0m\u001b[0;34m(\u001b[0m\u001b[0mall_args\u001b[0m\u001b[0;34m)\u001b[0m\u001b[0;34m\u001b[0m\u001b[0;34m\u001b[0m\u001b[0m\n\u001b[1;32m     62\u001b[0m             \u001b[0;32mif\u001b[0m \u001b[0mextra_args\u001b[0m \u001b[0;34m<=\u001b[0m \u001b[0;36m0\u001b[0m\u001b[0;34m:\u001b[0m\u001b[0;34m\u001b[0m\u001b[0;34m\u001b[0m\u001b[0m\n\u001b[0;32m---> 63\u001b[0;31m                 \u001b[0;32mreturn\u001b[0m \u001b[0mf\u001b[0m\u001b[0;34m(\u001b[0m\u001b[0;34m*\u001b[0m\u001b[0margs\u001b[0m\u001b[0;34m,\u001b[0m \u001b[0;34m**\u001b[0m\u001b[0mkwargs\u001b[0m\u001b[0;34m)\u001b[0m\u001b[0;34m\u001b[0m\u001b[0;34m\u001b[0m\u001b[0m\n\u001b[0m\u001b[1;32m     64\u001b[0m \u001b[0;34m\u001b[0m\u001b[0m\n\u001b[1;32m     65\u001b[0m             \u001b[0;31m# extra_args > 0\u001b[0m\u001b[0;34m\u001b[0m\u001b[0;34m\u001b[0m\u001b[0;34m\u001b[0m\u001b[0m\n",
      "\u001b[0;32m/opt/conda/lib/python3.9/site-packages/sklearn/model_selection/_search.py\u001b[0m in \u001b[0;36mfit\u001b[0;34m(self, X, y, groups, **fit_params)\u001b[0m\n\u001b[1;32m    839\u001b[0m                 \u001b[0;32mreturn\u001b[0m \u001b[0mresults\u001b[0m\u001b[0;34m\u001b[0m\u001b[0;34m\u001b[0m\u001b[0m\n\u001b[1;32m    840\u001b[0m \u001b[0;34m\u001b[0m\u001b[0m\n\u001b[0;32m--> 841\u001b[0;31m             \u001b[0mself\u001b[0m\u001b[0;34m.\u001b[0m\u001b[0m_run_search\u001b[0m\u001b[0;34m(\u001b[0m\u001b[0mevaluate_candidates\u001b[0m\u001b[0;34m)\u001b[0m\u001b[0;34m\u001b[0m\u001b[0;34m\u001b[0m\u001b[0m\n\u001b[0m\u001b[1;32m    842\u001b[0m \u001b[0;34m\u001b[0m\u001b[0m\n\u001b[1;32m    843\u001b[0m             \u001b[0;31m# multimetric is determined here because in the case of a callable\u001b[0m\u001b[0;34m\u001b[0m\u001b[0;34m\u001b[0m\u001b[0;34m\u001b[0m\u001b[0m\n",
      "\u001b[0;32m/opt/conda/lib/python3.9/site-packages/sklearn/model_selection/_search.py\u001b[0m in \u001b[0;36m_run_search\u001b[0;34m(self, evaluate_candidates)\u001b[0m\n\u001b[1;32m   1286\u001b[0m     \u001b[0;32mdef\u001b[0m \u001b[0m_run_search\u001b[0m\u001b[0;34m(\u001b[0m\u001b[0mself\u001b[0m\u001b[0;34m,\u001b[0m \u001b[0mevaluate_candidates\u001b[0m\u001b[0;34m)\u001b[0m\u001b[0;34m:\u001b[0m\u001b[0;34m\u001b[0m\u001b[0;34m\u001b[0m\u001b[0m\n\u001b[1;32m   1287\u001b[0m         \u001b[0;34m\"\"\"Search all candidates in param_grid\"\"\"\u001b[0m\u001b[0;34m\u001b[0m\u001b[0;34m\u001b[0m\u001b[0m\n\u001b[0;32m-> 1288\u001b[0;31m         \u001b[0mevaluate_candidates\u001b[0m\u001b[0;34m(\u001b[0m\u001b[0mParameterGrid\u001b[0m\u001b[0;34m(\u001b[0m\u001b[0mself\u001b[0m\u001b[0;34m.\u001b[0m\u001b[0mparam_grid\u001b[0m\u001b[0;34m)\u001b[0m\u001b[0;34m)\u001b[0m\u001b[0;34m\u001b[0m\u001b[0;34m\u001b[0m\u001b[0m\n\u001b[0m\u001b[1;32m   1289\u001b[0m \u001b[0;34m\u001b[0m\u001b[0m\n\u001b[1;32m   1290\u001b[0m \u001b[0;34m\u001b[0m\u001b[0m\n",
      "\u001b[0;32m/opt/conda/lib/python3.9/site-packages/sklearn/model_selection/_search.py\u001b[0m in \u001b[0;36mevaluate_candidates\u001b[0;34m(candidate_params, cv, more_results)\u001b[0m\n\u001b[1;32m    793\u001b[0m                               n_splits, n_candidates, n_candidates * n_splits))\n\u001b[1;32m    794\u001b[0m \u001b[0;34m\u001b[0m\u001b[0m\n\u001b[0;32m--> 795\u001b[0;31m                 out = parallel(delayed(_fit_and_score)(clone(base_estimator),\n\u001b[0m\u001b[1;32m    796\u001b[0m                                                        \u001b[0mX\u001b[0m\u001b[0;34m,\u001b[0m \u001b[0my\u001b[0m\u001b[0;34m,\u001b[0m\u001b[0;34m\u001b[0m\u001b[0;34m\u001b[0m\u001b[0m\n\u001b[1;32m    797\u001b[0m                                                        \u001b[0mtrain\u001b[0m\u001b[0;34m=\u001b[0m\u001b[0mtrain\u001b[0m\u001b[0;34m,\u001b[0m \u001b[0mtest\u001b[0m\u001b[0;34m=\u001b[0m\u001b[0mtest\u001b[0m\u001b[0;34m,\u001b[0m\u001b[0;34m\u001b[0m\u001b[0;34m\u001b[0m\u001b[0m\n",
      "\u001b[0;32m/opt/conda/lib/python3.9/site-packages/joblib/parallel.py\u001b[0m in \u001b[0;36m__call__\u001b[0;34m(self, iterable)\u001b[0m\n\u001b[1;32m   1044\u001b[0m                 \u001b[0mself\u001b[0m\u001b[0;34m.\u001b[0m\u001b[0m_iterating\u001b[0m \u001b[0;34m=\u001b[0m \u001b[0mself\u001b[0m\u001b[0;34m.\u001b[0m\u001b[0m_original_iterator\u001b[0m \u001b[0;32mis\u001b[0m \u001b[0;32mnot\u001b[0m \u001b[0;32mNone\u001b[0m\u001b[0;34m\u001b[0m\u001b[0;34m\u001b[0m\u001b[0m\n\u001b[1;32m   1045\u001b[0m \u001b[0;34m\u001b[0m\u001b[0m\n\u001b[0;32m-> 1046\u001b[0;31m             \u001b[0;32mwhile\u001b[0m \u001b[0mself\u001b[0m\u001b[0;34m.\u001b[0m\u001b[0mdispatch_one_batch\u001b[0m\u001b[0;34m(\u001b[0m\u001b[0miterator\u001b[0m\u001b[0;34m)\u001b[0m\u001b[0;34m:\u001b[0m\u001b[0;34m\u001b[0m\u001b[0;34m\u001b[0m\u001b[0m\n\u001b[0m\u001b[1;32m   1047\u001b[0m                 \u001b[0;32mpass\u001b[0m\u001b[0;34m\u001b[0m\u001b[0;34m\u001b[0m\u001b[0m\n\u001b[1;32m   1048\u001b[0m \u001b[0;34m\u001b[0m\u001b[0m\n",
      "\u001b[0;32m/opt/conda/lib/python3.9/site-packages/joblib/parallel.py\u001b[0m in \u001b[0;36mdispatch_one_batch\u001b[0;34m(self, iterator)\u001b[0m\n\u001b[1;32m    859\u001b[0m                 \u001b[0;32mreturn\u001b[0m \u001b[0;32mFalse\u001b[0m\u001b[0;34m\u001b[0m\u001b[0;34m\u001b[0m\u001b[0m\n\u001b[1;32m    860\u001b[0m             \u001b[0;32melse\u001b[0m\u001b[0;34m:\u001b[0m\u001b[0;34m\u001b[0m\u001b[0;34m\u001b[0m\u001b[0m\n\u001b[0;32m--> 861\u001b[0;31m                 \u001b[0mself\u001b[0m\u001b[0;34m.\u001b[0m\u001b[0m_dispatch\u001b[0m\u001b[0;34m(\u001b[0m\u001b[0mtasks\u001b[0m\u001b[0;34m)\u001b[0m\u001b[0;34m\u001b[0m\u001b[0;34m\u001b[0m\u001b[0m\n\u001b[0m\u001b[1;32m    862\u001b[0m                 \u001b[0;32mreturn\u001b[0m \u001b[0;32mTrue\u001b[0m\u001b[0;34m\u001b[0m\u001b[0;34m\u001b[0m\u001b[0m\n\u001b[1;32m    863\u001b[0m \u001b[0;34m\u001b[0m\u001b[0m\n",
      "\u001b[0;32m/opt/conda/lib/python3.9/site-packages/joblib/parallel.py\u001b[0m in \u001b[0;36m_dispatch\u001b[0;34m(self, batch)\u001b[0m\n\u001b[1;32m    777\u001b[0m         \u001b[0;32mwith\u001b[0m \u001b[0mself\u001b[0m\u001b[0;34m.\u001b[0m\u001b[0m_lock\u001b[0m\u001b[0;34m:\u001b[0m\u001b[0;34m\u001b[0m\u001b[0;34m\u001b[0m\u001b[0m\n\u001b[1;32m    778\u001b[0m             \u001b[0mjob_idx\u001b[0m \u001b[0;34m=\u001b[0m \u001b[0mlen\u001b[0m\u001b[0;34m(\u001b[0m\u001b[0mself\u001b[0m\u001b[0;34m.\u001b[0m\u001b[0m_jobs\u001b[0m\u001b[0;34m)\u001b[0m\u001b[0;34m\u001b[0m\u001b[0;34m\u001b[0m\u001b[0m\n\u001b[0;32m--> 779\u001b[0;31m             \u001b[0mjob\u001b[0m \u001b[0;34m=\u001b[0m \u001b[0mself\u001b[0m\u001b[0;34m.\u001b[0m\u001b[0m_backend\u001b[0m\u001b[0;34m.\u001b[0m\u001b[0mapply_async\u001b[0m\u001b[0;34m(\u001b[0m\u001b[0mbatch\u001b[0m\u001b[0;34m,\u001b[0m \u001b[0mcallback\u001b[0m\u001b[0;34m=\u001b[0m\u001b[0mcb\u001b[0m\u001b[0;34m)\u001b[0m\u001b[0;34m\u001b[0m\u001b[0;34m\u001b[0m\u001b[0m\n\u001b[0m\u001b[1;32m    780\u001b[0m             \u001b[0;31m# A job can complete so quickly than its callback is\u001b[0m\u001b[0;34m\u001b[0m\u001b[0;34m\u001b[0m\u001b[0;34m\u001b[0m\u001b[0m\n\u001b[1;32m    781\u001b[0m             \u001b[0;31m# called before we get here, causing self._jobs to\u001b[0m\u001b[0;34m\u001b[0m\u001b[0;34m\u001b[0m\u001b[0;34m\u001b[0m\u001b[0m\n",
      "\u001b[0;32m/opt/conda/lib/python3.9/site-packages/joblib/_parallel_backends.py\u001b[0m in \u001b[0;36mapply_async\u001b[0;34m(self, func, callback)\u001b[0m\n\u001b[1;32m    206\u001b[0m     \u001b[0;32mdef\u001b[0m \u001b[0mapply_async\u001b[0m\u001b[0;34m(\u001b[0m\u001b[0mself\u001b[0m\u001b[0;34m,\u001b[0m \u001b[0mfunc\u001b[0m\u001b[0;34m,\u001b[0m \u001b[0mcallback\u001b[0m\u001b[0;34m=\u001b[0m\u001b[0;32mNone\u001b[0m\u001b[0;34m)\u001b[0m\u001b[0;34m:\u001b[0m\u001b[0;34m\u001b[0m\u001b[0;34m\u001b[0m\u001b[0m\n\u001b[1;32m    207\u001b[0m         \u001b[0;34m\"\"\"Schedule a func to be run\"\"\"\u001b[0m\u001b[0;34m\u001b[0m\u001b[0;34m\u001b[0m\u001b[0m\n\u001b[0;32m--> 208\u001b[0;31m         \u001b[0mresult\u001b[0m \u001b[0;34m=\u001b[0m \u001b[0mImmediateResult\u001b[0m\u001b[0;34m(\u001b[0m\u001b[0mfunc\u001b[0m\u001b[0;34m)\u001b[0m\u001b[0;34m\u001b[0m\u001b[0;34m\u001b[0m\u001b[0m\n\u001b[0m\u001b[1;32m    209\u001b[0m         \u001b[0;32mif\u001b[0m \u001b[0mcallback\u001b[0m\u001b[0;34m:\u001b[0m\u001b[0;34m\u001b[0m\u001b[0;34m\u001b[0m\u001b[0m\n\u001b[1;32m    210\u001b[0m             \u001b[0mcallback\u001b[0m\u001b[0;34m(\u001b[0m\u001b[0mresult\u001b[0m\u001b[0;34m)\u001b[0m\u001b[0;34m\u001b[0m\u001b[0;34m\u001b[0m\u001b[0m\n",
      "\u001b[0;32m/opt/conda/lib/python3.9/site-packages/joblib/_parallel_backends.py\u001b[0m in \u001b[0;36m__init__\u001b[0;34m(self, batch)\u001b[0m\n\u001b[1;32m    570\u001b[0m         \u001b[0;31m# Don't delay the application, to avoid keeping the input\u001b[0m\u001b[0;34m\u001b[0m\u001b[0;34m\u001b[0m\u001b[0;34m\u001b[0m\u001b[0m\n\u001b[1;32m    571\u001b[0m         \u001b[0;31m# arguments in memory\u001b[0m\u001b[0;34m\u001b[0m\u001b[0;34m\u001b[0m\u001b[0;34m\u001b[0m\u001b[0m\n\u001b[0;32m--> 572\u001b[0;31m         \u001b[0mself\u001b[0m\u001b[0;34m.\u001b[0m\u001b[0mresults\u001b[0m \u001b[0;34m=\u001b[0m \u001b[0mbatch\u001b[0m\u001b[0;34m(\u001b[0m\u001b[0;34m)\u001b[0m\u001b[0;34m\u001b[0m\u001b[0;34m\u001b[0m\u001b[0m\n\u001b[0m\u001b[1;32m    573\u001b[0m \u001b[0;34m\u001b[0m\u001b[0m\n\u001b[1;32m    574\u001b[0m     \u001b[0;32mdef\u001b[0m \u001b[0mget\u001b[0m\u001b[0;34m(\u001b[0m\u001b[0mself\u001b[0m\u001b[0;34m)\u001b[0m\u001b[0;34m:\u001b[0m\u001b[0;34m\u001b[0m\u001b[0;34m\u001b[0m\u001b[0m\n",
      "\u001b[0;32m/opt/conda/lib/python3.9/site-packages/joblib/parallel.py\u001b[0m in \u001b[0;36m__call__\u001b[0;34m(self)\u001b[0m\n\u001b[1;32m    260\u001b[0m         \u001b[0;31m# change the default number of processes to -1\u001b[0m\u001b[0;34m\u001b[0m\u001b[0;34m\u001b[0m\u001b[0;34m\u001b[0m\u001b[0m\n\u001b[1;32m    261\u001b[0m         \u001b[0;32mwith\u001b[0m \u001b[0mparallel_backend\u001b[0m\u001b[0;34m(\u001b[0m\u001b[0mself\u001b[0m\u001b[0;34m.\u001b[0m\u001b[0m_backend\u001b[0m\u001b[0;34m,\u001b[0m \u001b[0mn_jobs\u001b[0m\u001b[0;34m=\u001b[0m\u001b[0mself\u001b[0m\u001b[0;34m.\u001b[0m\u001b[0m_n_jobs\u001b[0m\u001b[0;34m)\u001b[0m\u001b[0;34m:\u001b[0m\u001b[0;34m\u001b[0m\u001b[0;34m\u001b[0m\u001b[0m\n\u001b[0;32m--> 262\u001b[0;31m             return [func(*args, **kwargs)\n\u001b[0m\u001b[1;32m    263\u001b[0m                     for func, args, kwargs in self.items]\n\u001b[1;32m    264\u001b[0m \u001b[0;34m\u001b[0m\u001b[0m\n",
      "\u001b[0;32m/opt/conda/lib/python3.9/site-packages/joblib/parallel.py\u001b[0m in \u001b[0;36m<listcomp>\u001b[0;34m(.0)\u001b[0m\n\u001b[1;32m    260\u001b[0m         \u001b[0;31m# change the default number of processes to -1\u001b[0m\u001b[0;34m\u001b[0m\u001b[0;34m\u001b[0m\u001b[0;34m\u001b[0m\u001b[0m\n\u001b[1;32m    261\u001b[0m         \u001b[0;32mwith\u001b[0m \u001b[0mparallel_backend\u001b[0m\u001b[0;34m(\u001b[0m\u001b[0mself\u001b[0m\u001b[0;34m.\u001b[0m\u001b[0m_backend\u001b[0m\u001b[0;34m,\u001b[0m \u001b[0mn_jobs\u001b[0m\u001b[0;34m=\u001b[0m\u001b[0mself\u001b[0m\u001b[0;34m.\u001b[0m\u001b[0m_n_jobs\u001b[0m\u001b[0;34m)\u001b[0m\u001b[0;34m:\u001b[0m\u001b[0;34m\u001b[0m\u001b[0;34m\u001b[0m\u001b[0m\n\u001b[0;32m--> 262\u001b[0;31m             return [func(*args, **kwargs)\n\u001b[0m\u001b[1;32m    263\u001b[0m                     for func, args, kwargs in self.items]\n\u001b[1;32m    264\u001b[0m \u001b[0;34m\u001b[0m\u001b[0m\n",
      "\u001b[0;32m/opt/conda/lib/python3.9/site-packages/sklearn/utils/fixes.py\u001b[0m in \u001b[0;36m__call__\u001b[0;34m(self, *args, **kwargs)\u001b[0m\n\u001b[1;32m    220\u001b[0m     \u001b[0;32mdef\u001b[0m \u001b[0m__call__\u001b[0m\u001b[0;34m(\u001b[0m\u001b[0mself\u001b[0m\u001b[0;34m,\u001b[0m \u001b[0;34m*\u001b[0m\u001b[0margs\u001b[0m\u001b[0;34m,\u001b[0m \u001b[0;34m**\u001b[0m\u001b[0mkwargs\u001b[0m\u001b[0;34m)\u001b[0m\u001b[0;34m:\u001b[0m\u001b[0;34m\u001b[0m\u001b[0;34m\u001b[0m\u001b[0m\n\u001b[1;32m    221\u001b[0m         \u001b[0;32mwith\u001b[0m \u001b[0mconfig_context\u001b[0m\u001b[0;34m(\u001b[0m\u001b[0;34m**\u001b[0m\u001b[0mself\u001b[0m\u001b[0;34m.\u001b[0m\u001b[0mconfig\u001b[0m\u001b[0;34m)\u001b[0m\u001b[0;34m:\u001b[0m\u001b[0;34m\u001b[0m\u001b[0;34m\u001b[0m\u001b[0m\n\u001b[0;32m--> 222\u001b[0;31m             \u001b[0;32mreturn\u001b[0m \u001b[0mself\u001b[0m\u001b[0;34m.\u001b[0m\u001b[0mfunction\u001b[0m\u001b[0;34m(\u001b[0m\u001b[0;34m*\u001b[0m\u001b[0margs\u001b[0m\u001b[0;34m,\u001b[0m \u001b[0;34m**\u001b[0m\u001b[0mkwargs\u001b[0m\u001b[0;34m)\u001b[0m\u001b[0;34m\u001b[0m\u001b[0;34m\u001b[0m\u001b[0m\n\u001b[0m",
      "\u001b[0;32m/opt/conda/lib/python3.9/site-packages/sklearn/model_selection/_validation.py\u001b[0m in \u001b[0;36m_fit_and_score\u001b[0;34m(estimator, X, y, scorer, train, test, verbose, parameters, fit_params, return_train_score, return_parameters, return_n_test_samples, return_times, return_estimator, split_progress, candidate_progress, error_score)\u001b[0m\n\u001b[1;32m    591\u001b[0m             \u001b[0mestimator\u001b[0m\u001b[0;34m.\u001b[0m\u001b[0mfit\u001b[0m\u001b[0;34m(\u001b[0m\u001b[0mX_train\u001b[0m\u001b[0;34m,\u001b[0m \u001b[0;34m**\u001b[0m\u001b[0mfit_params\u001b[0m\u001b[0;34m)\u001b[0m\u001b[0;34m\u001b[0m\u001b[0;34m\u001b[0m\u001b[0m\n\u001b[1;32m    592\u001b[0m         \u001b[0;32melse\u001b[0m\u001b[0;34m:\u001b[0m\u001b[0;34m\u001b[0m\u001b[0;34m\u001b[0m\u001b[0m\n\u001b[0;32m--> 593\u001b[0;31m             \u001b[0mestimator\u001b[0m\u001b[0;34m.\u001b[0m\u001b[0mfit\u001b[0m\u001b[0;34m(\u001b[0m\u001b[0mX_train\u001b[0m\u001b[0;34m,\u001b[0m \u001b[0my_train\u001b[0m\u001b[0;34m,\u001b[0m \u001b[0;34m**\u001b[0m\u001b[0mfit_params\u001b[0m\u001b[0;34m)\u001b[0m\u001b[0;34m\u001b[0m\u001b[0;34m\u001b[0m\u001b[0m\n\u001b[0m\u001b[1;32m    594\u001b[0m \u001b[0;34m\u001b[0m\u001b[0m\n\u001b[1;32m    595\u001b[0m     \u001b[0;32mexcept\u001b[0m \u001b[0mException\u001b[0m \u001b[0;32mas\u001b[0m \u001b[0me\u001b[0m\u001b[0;34m:\u001b[0m\u001b[0;34m\u001b[0m\u001b[0;34m\u001b[0m\u001b[0m\n",
      "\u001b[0;32m/opt/conda/lib/python3.9/site-packages/catboost/core.py\u001b[0m in \u001b[0;36mfit\u001b[0;34m(self, X, y, cat_features, sample_weight, baseline, use_best_model, eval_set, verbose, logging_level, plot, column_description, verbose_eval, metric_period, silent, early_stopping_rounds, save_snapshot, snapshot_file, snapshot_interval, init_model, callbacks, log_cout, log_cerr)\u001b[0m\n\u001b[1;32m   5297\u001b[0m             \u001b[0mCatBoostRegressor\u001b[0m\u001b[0;34m.\u001b[0m\u001b[0m_check_is_compatible_loss\u001b[0m\u001b[0;34m(\u001b[0m\u001b[0mparams\u001b[0m\u001b[0;34m[\u001b[0m\u001b[0;34m'loss_function'\u001b[0m\u001b[0;34m]\u001b[0m\u001b[0;34m)\u001b[0m\u001b[0;34m\u001b[0m\u001b[0;34m\u001b[0m\u001b[0m\n\u001b[1;32m   5298\u001b[0m \u001b[0;34m\u001b[0m\u001b[0m\n\u001b[0;32m-> 5299\u001b[0;31m         return self._fit(X, y, cat_features, None, None, None, sample_weight, None, None, None, None, baseline,\n\u001b[0m\u001b[1;32m   5300\u001b[0m                          \u001b[0muse_best_model\u001b[0m\u001b[0;34m,\u001b[0m \u001b[0meval_set\u001b[0m\u001b[0;34m,\u001b[0m \u001b[0mverbose\u001b[0m\u001b[0;34m,\u001b[0m \u001b[0mlogging_level\u001b[0m\u001b[0;34m,\u001b[0m \u001b[0mplot\u001b[0m\u001b[0;34m,\u001b[0m \u001b[0mcolumn_description\u001b[0m\u001b[0;34m,\u001b[0m\u001b[0;34m\u001b[0m\u001b[0;34m\u001b[0m\u001b[0m\n\u001b[1;32m   5301\u001b[0m                          \u001b[0mverbose_eval\u001b[0m\u001b[0;34m,\u001b[0m \u001b[0mmetric_period\u001b[0m\u001b[0;34m,\u001b[0m \u001b[0msilent\u001b[0m\u001b[0;34m,\u001b[0m \u001b[0mearly_stopping_rounds\u001b[0m\u001b[0;34m,\u001b[0m\u001b[0;34m\u001b[0m\u001b[0;34m\u001b[0m\u001b[0m\n",
      "\u001b[0;32m/opt/conda/lib/python3.9/site-packages/catboost/core.py\u001b[0m in \u001b[0;36m_fit\u001b[0;34m(self, X, y, cat_features, text_features, embedding_features, pairs, sample_weight, group_id, group_weight, subgroup_id, pairs_weight, baseline, use_best_model, eval_set, verbose, logging_level, plot, column_description, verbose_eval, metric_period, silent, early_stopping_rounds, save_snapshot, snapshot_file, snapshot_interval, init_model, callbacks, log_cout, log_cerr)\u001b[0m\n\u001b[1;32m   2035\u001b[0m         \u001b[0;32mwith\u001b[0m \u001b[0mlog_fixup\u001b[0m\u001b[0;34m(\u001b[0m\u001b[0mlog_cout\u001b[0m\u001b[0;34m,\u001b[0m \u001b[0mlog_cerr\u001b[0m\u001b[0;34m)\u001b[0m\u001b[0;34m,\u001b[0m\u001b[0;31m \u001b[0m\u001b[0;31m\\\u001b[0m\u001b[0;34m\u001b[0m\u001b[0;34m\u001b[0m\u001b[0m\n\u001b[1;32m   2036\u001b[0m             \u001b[0mplot_wrapper\u001b[0m\u001b[0;34m(\u001b[0m\u001b[0mplot\u001b[0m\u001b[0;34m,\u001b[0m \u001b[0;34m[\u001b[0m\u001b[0m_get_train_dir\u001b[0m\u001b[0;34m(\u001b[0m\u001b[0mself\u001b[0m\u001b[0;34m.\u001b[0m\u001b[0mget_params\u001b[0m\u001b[0;34m(\u001b[0m\u001b[0;34m)\u001b[0m\u001b[0;34m)\u001b[0m\u001b[0;34m]\u001b[0m\u001b[0;34m)\u001b[0m\u001b[0;34m:\u001b[0m\u001b[0;34m\u001b[0m\u001b[0;34m\u001b[0m\u001b[0m\n\u001b[0;32m-> 2037\u001b[0;31m             self._train(\n\u001b[0m\u001b[1;32m   2038\u001b[0m                 \u001b[0mtrain_pool\u001b[0m\u001b[0;34m,\u001b[0m\u001b[0;34m\u001b[0m\u001b[0;34m\u001b[0m\u001b[0m\n\u001b[1;32m   2039\u001b[0m                 \u001b[0mtrain_params\u001b[0m\u001b[0;34m[\u001b[0m\u001b[0;34m\"eval_sets\"\u001b[0m\u001b[0;34m]\u001b[0m\u001b[0;34m,\u001b[0m\u001b[0;34m\u001b[0m\u001b[0;34m\u001b[0m\u001b[0m\n",
      "\u001b[0;32m/opt/conda/lib/python3.9/site-packages/catboost/core.py\u001b[0m in \u001b[0;36m_train\u001b[0;34m(self, train_pool, test_pool, params, allow_clear_pool, init_model)\u001b[0m\n\u001b[1;32m   1462\u001b[0m \u001b[0;34m\u001b[0m\u001b[0m\n\u001b[1;32m   1463\u001b[0m     \u001b[0;32mdef\u001b[0m \u001b[0m_train\u001b[0m\u001b[0;34m(\u001b[0m\u001b[0mself\u001b[0m\u001b[0;34m,\u001b[0m \u001b[0mtrain_pool\u001b[0m\u001b[0;34m,\u001b[0m \u001b[0mtest_pool\u001b[0m\u001b[0;34m,\u001b[0m \u001b[0mparams\u001b[0m\u001b[0;34m,\u001b[0m \u001b[0mallow_clear_pool\u001b[0m\u001b[0;34m,\u001b[0m \u001b[0minit_model\u001b[0m\u001b[0;34m)\u001b[0m\u001b[0;34m:\u001b[0m\u001b[0;34m\u001b[0m\u001b[0;34m\u001b[0m\u001b[0m\n\u001b[0;32m-> 1464\u001b[0;31m         \u001b[0mself\u001b[0m\u001b[0;34m.\u001b[0m\u001b[0m_object\u001b[0m\u001b[0;34m.\u001b[0m\u001b[0m_train\u001b[0m\u001b[0;34m(\u001b[0m\u001b[0mtrain_pool\u001b[0m\u001b[0;34m,\u001b[0m \u001b[0mtest_pool\u001b[0m\u001b[0;34m,\u001b[0m \u001b[0mparams\u001b[0m\u001b[0;34m,\u001b[0m \u001b[0mallow_clear_pool\u001b[0m\u001b[0;34m,\u001b[0m \u001b[0minit_model\u001b[0m\u001b[0;34m.\u001b[0m\u001b[0m_object\u001b[0m \u001b[0;32mif\u001b[0m \u001b[0minit_model\u001b[0m \u001b[0;32melse\u001b[0m \u001b[0;32mNone\u001b[0m\u001b[0;34m)\u001b[0m\u001b[0;34m\u001b[0m\u001b[0;34m\u001b[0m\u001b[0m\n\u001b[0m\u001b[1;32m   1465\u001b[0m         \u001b[0mself\u001b[0m\u001b[0;34m.\u001b[0m\u001b[0m_set_trained_model_attributes\u001b[0m\u001b[0;34m(\u001b[0m\u001b[0;34m)\u001b[0m\u001b[0;34m\u001b[0m\u001b[0;34m\u001b[0m\u001b[0m\n\u001b[1;32m   1466\u001b[0m \u001b[0;34m\u001b[0m\u001b[0m\n",
      "\u001b[0;32m_catboost.pyx\u001b[0m in \u001b[0;36m_catboost._CatBoost._train\u001b[0;34m()\u001b[0m\n",
      "\u001b[0;32m_catboost.pyx\u001b[0m in \u001b[0;36m_catboost._CatBoost._train\u001b[0;34m()\u001b[0m\n",
      "\u001b[0;31mKeyboardInterrupt\u001b[0m: "
     ]
    }
   ],
   "source": [
    "%%time\n",
    "parametrs = {'depth' : range(10,15,1),\n",
    "            'iterations' : range(800,1201,100),\n",
    "            'learning_rate' : [0.8,.9,1],\n",
    "            'l2_leaf_reg': range(2,5)}\n",
    "cbr = GridSearchCV(CBR(random_seed= RANDOM_STATE,\n",
    "                       logging_level='Silent',\n",
    "                       cat_features = (['VehicleType',\n",
    "                                        'Gearbox',\n",
    "                                        'Model',\n",
    "                                        'FuelType',\n",
    "                                        'Brand',\n",
    "                                        'Repaired'])), \n",
    "                   parametrs, \n",
    "                   scoring = 'neg_root_mean_squared_error',\n",
    "                   verbose = 3,\n",
    "                   cv=2)\n",
    "cbr.fit(train_df_features, train_df_ans)\n",
    "print (cbr.best_params_)\n",
    "print (cbr.best_score_)\n",
    "bot_send(f'{cbr.best_score_}')\n",
    "for s in cbr.best_params_:\n",
    "    bot_send (f'{s}: {cbr.best_params_[s]}')"
   ]
  },
  {
   "cell_type": "code",
   "execution_count": 118,
   "metadata": {},
   "outputs": [
    {
     "data": {
      "text/plain": [
       "1661.0111043637169"
      ]
     },
     "execution_count": 118,
     "metadata": {},
     "output_type": "execute_result"
    }
   ],
   "source": [
    "MSE(test_df_ans, cbr.predict(test_df_features),squared=False)"
   ]
  },
  {
   "cell_type": "markdown",
   "metadata": {},
   "source": [
    "## Анализ моделей"
   ]
  },
  {
   "cell_type": "code",
   "execution_count": null,
   "metadata": {},
   "outputs": [],
   "source": []
  },
  {
   "cell_type": "markdown",
   "metadata": {},
   "source": [
    "## Чек-лист проверки"
   ]
  },
  {
   "cell_type": "markdown",
   "metadata": {},
   "source": [
    "Поставьте 'x' в выполненных пунктах. Далее нажмите Shift+Enter."
   ]
  },
  {
   "cell_type": "markdown",
   "metadata": {},
   "source": [
    "- [x]  Jupyter Notebook открыт\n",
    "- [ ]  Весь код выполняется без ошибок\n",
    "- [ ]  Ячейки с кодом расположены в порядке исполнения\n",
    "- [ ]  Выполнена загрузка и подготовка данных\n",
    "- [ ]  Выполнено обучение моделей\n",
    "- [ ]  Есть анализ скорости работы и качества моделей"
   ]
  },
  {
   "cell_type": "code",
   "execution_count": null,
   "metadata": {},
   "outputs": [],
   "source": []
  },
  {
   "cell_type": "code",
   "execution_count": null,
   "metadata": {},
   "outputs": [],
   "source": []
  }
 ],
 "metadata": {
  "ExecuteTimeLog": [
   {
    "duration": 359,
    "start_time": "2022-12-14T11:38:40.045Z"
   },
   {
    "duration": 3,
    "start_time": "2022-12-14T11:38:52.156Z"
   },
   {
    "duration": 2851,
    "start_time": "2022-12-14T11:39:32.319Z"
   },
   {
    "duration": 145,
    "start_time": "2022-12-14T11:39:42.285Z"
   },
   {
    "duration": 31,
    "start_time": "2022-12-14T11:39:52.185Z"
   },
   {
    "duration": 23,
    "start_time": "2022-12-14T11:43:13.027Z"
   },
   {
    "duration": 22,
    "start_time": "2022-12-14T11:43:20.346Z"
   },
   {
    "duration": 21,
    "start_time": "2022-12-14T11:43:21.060Z"
   },
   {
    "duration": 20,
    "start_time": "2022-12-14T11:43:21.482Z"
   },
   {
    "duration": 17,
    "start_time": "2022-12-14T13:12:18.974Z"
   },
   {
    "duration": 894,
    "start_time": "2022-12-14T13:12:39.036Z"
   },
   {
    "duration": 870,
    "start_time": "2022-12-14T13:12:51.798Z"
   },
   {
    "duration": 94,
    "start_time": "2022-12-14T13:13:07.892Z"
   },
   {
    "duration": 13,
    "start_time": "2022-12-14T13:13:28.755Z"
   },
   {
    "duration": 9,
    "start_time": "2022-12-14T13:13:38.927Z"
   },
   {
    "duration": 123,
    "start_time": "2022-12-14T13:13:42.691Z"
   },
   {
    "duration": 13,
    "start_time": "2022-12-14T13:13:54.787Z"
   },
   {
    "duration": 7,
    "start_time": "2022-12-14T13:16:21.423Z"
   },
   {
    "duration": 43,
    "start_time": "2022-12-15T10:02:44.358Z"
   },
   {
    "duration": 431,
    "start_time": "2022-12-15T10:02:51.404Z"
   },
   {
    "duration": 3,
    "start_time": "2022-12-15T10:02:51.837Z"
   },
   {
    "duration": 2867,
    "start_time": "2022-12-15T10:02:51.842Z"
   },
   {
    "duration": 103,
    "start_time": "2022-12-15T10:02:54.711Z"
   },
   {
    "duration": 32,
    "start_time": "2022-12-15T10:02:54.815Z"
   },
   {
    "duration": 119,
    "start_time": "2022-12-15T10:02:54.848Z"
   },
   {
    "duration": 16,
    "start_time": "2022-12-15T10:02:54.969Z"
   },
   {
    "duration": 584,
    "start_time": "2022-12-15T10:02:54.987Z"
   },
   {
    "duration": 20,
    "start_time": "2022-12-15T10:18:10.251Z"
   },
   {
    "duration": 68,
    "start_time": "2022-12-15T10:18:42.574Z"
   },
   {
    "duration": 15,
    "start_time": "2022-12-15T10:18:48.341Z"
   },
   {
    "duration": 14,
    "start_time": "2022-12-15T10:18:56.514Z"
   },
   {
    "duration": 283,
    "start_time": "2022-12-15T10:19:47.223Z"
   },
   {
    "duration": 193,
    "start_time": "2022-12-15T10:20:02.741Z"
   },
   {
    "duration": 195,
    "start_time": "2022-12-15T10:20:15.335Z"
   },
   {
    "duration": 209,
    "start_time": "2022-12-15T10:22:43.056Z"
   },
   {
    "duration": 37,
    "start_time": "2022-12-15T10:22:49.401Z"
   },
   {
    "duration": 148,
    "start_time": "2022-12-15T10:22:53.408Z"
   },
   {
    "duration": 10,
    "start_time": "2022-12-15T10:23:30.921Z"
   },
   {
    "duration": 188,
    "start_time": "2022-12-15T10:23:33.380Z"
   },
   {
    "duration": 137,
    "start_time": "2022-12-15T10:25:25.561Z"
   },
   {
    "duration": 71,
    "start_time": "2022-12-15T10:26:26.773Z"
   },
   {
    "duration": 71,
    "start_time": "2022-12-15T10:26:36.712Z"
   },
   {
    "duration": 74,
    "start_time": "2022-12-15T10:28:35.983Z"
   },
   {
    "duration": 72,
    "start_time": "2022-12-15T10:28:50.614Z"
   },
   {
    "duration": 89,
    "start_time": "2022-12-15T10:29:06.760Z"
   },
   {
    "duration": 62,
    "start_time": "2022-12-15T10:30:44.959Z"
   },
   {
    "duration": 70,
    "start_time": "2022-12-15T10:31:08.979Z"
   },
   {
    "duration": 10,
    "start_time": "2022-12-15T10:31:14.534Z"
   },
   {
    "duration": 6,
    "start_time": "2022-12-15T10:31:39.004Z"
   },
   {
    "duration": 8,
    "start_time": "2022-12-15T10:32:20.180Z"
   },
   {
    "duration": 20,
    "start_time": "2022-12-15T10:32:26.434Z"
   },
   {
    "duration": 33,
    "start_time": "2022-12-15T10:32:35.521Z"
   },
   {
    "duration": 18,
    "start_time": "2022-12-15T10:33:10.394Z"
   },
   {
    "duration": 20,
    "start_time": "2022-12-15T10:33:48.439Z"
   },
   {
    "duration": 7,
    "start_time": "2022-12-15T10:34:17.524Z"
   },
   {
    "duration": 19,
    "start_time": "2022-12-15T10:34:45.509Z"
   },
   {
    "duration": 30,
    "start_time": "2022-12-15T10:34:56.633Z"
   },
   {
    "duration": 279,
    "start_time": "2022-12-15T10:35:11.410Z"
   },
   {
    "duration": 26,
    "start_time": "2022-12-15T10:35:16.037Z"
   },
   {
    "duration": 6,
    "start_time": "2022-12-15T10:35:30.196Z"
   },
   {
    "duration": 6,
    "start_time": "2022-12-15T10:35:39.120Z"
   },
   {
    "duration": 5,
    "start_time": "2022-12-15T10:35:53.980Z"
   },
   {
    "duration": 22,
    "start_time": "2022-12-15T10:36:00.645Z"
   },
   {
    "duration": 22,
    "start_time": "2022-12-15T10:36:11.920Z"
   },
   {
    "duration": 19,
    "start_time": "2022-12-15T10:36:42.564Z"
   },
   {
    "duration": 15,
    "start_time": "2022-12-15T10:42:12.991Z"
   },
   {
    "duration": 78,
    "start_time": "2022-12-15T10:43:16.148Z"
   },
   {
    "duration": 14,
    "start_time": "2022-12-15T10:43:28.356Z"
   },
   {
    "duration": 15,
    "start_time": "2022-12-15T10:43:34.440Z"
   },
   {
    "duration": 27,
    "start_time": "2022-12-15T10:44:54.091Z"
   },
   {
    "duration": 19,
    "start_time": "2022-12-15T10:45:07.777Z"
   },
   {
    "duration": 160,
    "start_time": "2022-12-15T10:45:14.190Z"
   },
   {
    "duration": 141,
    "start_time": "2022-12-15T10:47:58.521Z"
   },
   {
    "duration": 8,
    "start_time": "2022-12-15T10:48:20.622Z"
   },
   {
    "duration": 124,
    "start_time": "2022-12-15T10:49:14.706Z"
   },
   {
    "duration": 7,
    "start_time": "2022-12-15T10:50:24.940Z"
   },
   {
    "duration": 6,
    "start_time": "2022-12-15T10:50:30.641Z"
   },
   {
    "duration": 5,
    "start_time": "2022-12-15T10:50:42.234Z"
   },
   {
    "duration": 11,
    "start_time": "2022-12-15T10:51:23.157Z"
   },
   {
    "duration": 8,
    "start_time": "2022-12-15T10:51:59.137Z"
   },
   {
    "duration": 5,
    "start_time": "2022-12-15T10:52:21.170Z"
   },
   {
    "duration": 5,
    "start_time": "2022-12-15T10:52:42.969Z"
   },
   {
    "duration": 5,
    "start_time": "2022-12-15T10:52:49.397Z"
   },
   {
    "duration": 7,
    "start_time": "2022-12-15T10:53:01.719Z"
   },
   {
    "duration": 4,
    "start_time": "2022-12-15T11:17:43.847Z"
   },
   {
    "duration": 2,
    "start_time": "2022-12-15T11:17:59.023Z"
   },
   {
    "duration": 8,
    "start_time": "2022-12-15T11:18:07.724Z"
   },
   {
    "duration": 4,
    "start_time": "2022-12-15T11:18:15.736Z"
   },
   {
    "duration": 3,
    "start_time": "2022-12-15T11:18:17.993Z"
   },
   {
    "duration": 6,
    "start_time": "2022-12-15T11:18:55.448Z"
   },
   {
    "duration": 8,
    "start_time": "2022-12-15T11:21:13.274Z"
   },
   {
    "duration": 30,
    "start_time": "2022-12-15T11:21:37.837Z"
   },
   {
    "duration": 25,
    "start_time": "2022-12-15T11:26:56.716Z"
   },
   {
    "duration": 29,
    "start_time": "2022-12-15T11:30:56.118Z"
   },
   {
    "duration": 17,
    "start_time": "2022-12-15T11:31:13.514Z"
   },
   {
    "duration": 14,
    "start_time": "2022-12-15T11:31:24.515Z"
   },
   {
    "duration": 20,
    "start_time": "2022-12-15T11:31:54.053Z"
   },
   {
    "duration": 392,
    "start_time": "2022-12-15T11:33:10.947Z"
   },
   {
    "duration": 7,
    "start_time": "2022-12-15T11:33:33.867Z"
   },
   {
    "duration": 325,
    "start_time": "2022-12-15T11:33:37.184Z"
   },
   {
    "duration": 365,
    "start_time": "2022-12-15T11:33:47.207Z"
   },
   {
    "duration": 717,
    "start_time": "2022-12-15T11:36:09.200Z"
   },
   {
    "duration": 357,
    "start_time": "2022-12-15T11:36:12.495Z"
   },
   {
    "duration": 33,
    "start_time": "2022-12-15T11:36:38.127Z"
   },
   {
    "duration": 37,
    "start_time": "2022-12-15T11:36:52.138Z"
   },
   {
    "duration": 329,
    "start_time": "2022-12-15T11:36:59.630Z"
   },
   {
    "duration": 429,
    "start_time": "2022-12-15T11:37:07.659Z"
   },
   {
    "duration": 318,
    "start_time": "2022-12-15T11:37:36.210Z"
   },
   {
    "duration": 84,
    "start_time": "2022-12-15T11:37:44.346Z"
   },
   {
    "duration": 189,
    "start_time": "2022-12-15T11:37:48.388Z"
   },
   {
    "duration": 24,
    "start_time": "2022-12-15T11:38:15.342Z"
   },
   {
    "duration": 191,
    "start_time": "2022-12-15T11:38:23.416Z"
   },
   {
    "duration": 334,
    "start_time": "2022-12-15T11:44:57.744Z"
   },
   {
    "duration": 314,
    "start_time": "2022-12-15T11:45:13.083Z"
   },
   {
    "duration": 361,
    "start_time": "2022-12-15T11:45:19.765Z"
   },
   {
    "duration": 303,
    "start_time": "2022-12-15T11:46:26.695Z"
   },
   {
    "duration": 330,
    "start_time": "2022-12-15T11:46:40.185Z"
   },
   {
    "duration": 80,
    "start_time": "2022-12-15T11:46:55.709Z"
   },
   {
    "duration": 251,
    "start_time": "2022-12-15T11:46:59.095Z"
   },
   {
    "duration": 392,
    "start_time": "2022-12-15T11:47:21.021Z"
   },
   {
    "duration": 409,
    "start_time": "2022-12-15T11:47:35.395Z"
   },
   {
    "duration": 311,
    "start_time": "2022-12-15T11:47:45.950Z"
   },
   {
    "duration": 6,
    "start_time": "2022-12-15T11:53:26.572Z"
   },
   {
    "duration": 8,
    "start_time": "2022-12-15T11:53:36.525Z"
   },
   {
    "duration": 8,
    "start_time": "2022-12-15T11:53:41.061Z"
   },
   {
    "duration": 8,
    "start_time": "2022-12-15T11:53:46.331Z"
   },
   {
    "duration": 8,
    "start_time": "2022-12-15T11:53:53.675Z"
   },
   {
    "duration": 4,
    "start_time": "2022-12-15T11:54:00.581Z"
   },
   {
    "duration": 4,
    "start_time": "2022-12-15T11:54:12.972Z"
   },
   {
    "duration": 3,
    "start_time": "2022-12-15T11:54:20.002Z"
   },
   {
    "duration": 7,
    "start_time": "2022-12-15T11:55:49.377Z"
   },
   {
    "duration": 7,
    "start_time": "2022-12-15T11:56:15.931Z"
   },
   {
    "duration": 5,
    "start_time": "2022-12-15T11:56:21.145Z"
   },
   {
    "duration": 3,
    "start_time": "2022-12-15T11:56:39.397Z"
   },
   {
    "duration": 4,
    "start_time": "2022-12-15T11:56:51.644Z"
   },
   {
    "duration": 353,
    "start_time": "2022-12-15T11:57:00.412Z"
   },
   {
    "duration": 317,
    "start_time": "2022-12-15T11:57:06.665Z"
   },
   {
    "duration": 10,
    "start_time": "2022-12-15T12:45:37.598Z"
   },
   {
    "duration": 4,
    "start_time": "2022-12-15T12:45:43.073Z"
   },
   {
    "duration": 4,
    "start_time": "2022-12-15T12:45:45.861Z"
   },
   {
    "duration": 3,
    "start_time": "2022-12-15T12:49:37.703Z"
   },
   {
    "duration": 14,
    "start_time": "2022-12-15T12:50:18.146Z"
   },
   {
    "duration": 3,
    "start_time": "2022-12-15T12:50:35.169Z"
   },
   {
    "duration": 15,
    "start_time": "2022-12-15T12:50:37.029Z"
   },
   {
    "duration": 842,
    "start_time": "2022-12-15T12:53:17.229Z"
   },
   {
    "duration": 4,
    "start_time": "2022-12-15T12:53:56.745Z"
   },
   {
    "duration": 878,
    "start_time": "2022-12-15T12:53:59.876Z"
   },
   {
    "duration": 21,
    "start_time": "2022-12-15T12:54:23.505Z"
   },
   {
    "duration": 51,
    "start_time": "2022-12-15T12:55:06.613Z"
   },
   {
    "duration": 45,
    "start_time": "2022-12-15T12:55:43.276Z"
   },
   {
    "duration": 4,
    "start_time": "2022-12-15T12:55:50.797Z"
   },
   {
    "duration": 9,
    "start_time": "2022-12-15T12:55:53.605Z"
   },
   {
    "duration": 10,
    "start_time": "2022-12-15T12:56:34.265Z"
   },
   {
    "duration": 8,
    "start_time": "2022-12-15T12:56:38.716Z"
   },
   {
    "duration": 6,
    "start_time": "2022-12-15T12:56:48.862Z"
   },
   {
    "duration": 5,
    "start_time": "2022-12-15T12:56:52.464Z"
   },
   {
    "duration": 20,
    "start_time": "2022-12-15T12:57:10.070Z"
   },
   {
    "duration": 10,
    "start_time": "2022-12-15T12:57:16.845Z"
   },
   {
    "duration": 9,
    "start_time": "2022-12-15T12:57:45.422Z"
   },
   {
    "duration": 27,
    "start_time": "2022-12-15T12:57:54.822Z"
   },
   {
    "duration": 9,
    "start_time": "2022-12-15T12:59:02.635Z"
   },
   {
    "duration": 28,
    "start_time": "2022-12-15T12:59:07.638Z"
   },
   {
    "duration": 127,
    "start_time": "2022-12-15T12:59:47.619Z"
   },
   {
    "duration": 1141,
    "start_time": "2022-12-15T13:00:13.105Z"
   },
   {
    "duration": 1126,
    "start_time": "2022-12-15T13:00:38.218Z"
   },
   {
    "duration": 1130,
    "start_time": "2022-12-15T13:00:48.850Z"
   },
   {
    "duration": 23,
    "start_time": "2022-12-15T13:01:04.341Z"
   },
   {
    "duration": 100,
    "start_time": "2022-12-15T13:01:29.904Z"
   },
   {
    "duration": 17,
    "start_time": "2022-12-15T13:04:06.571Z"
   },
   {
    "duration": 14,
    "start_time": "2022-12-15T13:04:46.445Z"
   },
   {
    "duration": 1071,
    "start_time": "2022-12-15T13:08:38.076Z"
   },
   {
    "duration": 6,
    "start_time": "2022-12-15T13:08:46.287Z"
   },
   {
    "duration": 9,
    "start_time": "2022-12-15T13:10:43.939Z"
   },
   {
    "duration": 36,
    "start_time": "2022-12-15T13:11:01.405Z"
   },
   {
    "duration": 16,
    "start_time": "2022-12-15T13:12:29.545Z"
   },
   {
    "duration": 13,
    "start_time": "2022-12-15T13:12:34.088Z"
   },
   {
    "duration": 186,
    "start_time": "2022-12-15T13:13:10.812Z"
   },
   {
    "duration": 145,
    "start_time": "2022-12-15T13:14:36.745Z"
   },
   {
    "duration": 197,
    "start_time": "2022-12-15T13:15:33.177Z"
   },
   {
    "duration": 122,
    "start_time": "2022-12-15T13:15:41.381Z"
   },
   {
    "duration": 6,
    "start_time": "2022-12-15T13:16:54.193Z"
   },
   {
    "duration": 5,
    "start_time": "2022-12-15T13:17:32.720Z"
   },
   {
    "duration": 7,
    "start_time": "2022-12-15T13:17:47.825Z"
   },
   {
    "duration": 39,
    "start_time": "2022-12-15T13:24:09.116Z"
   },
   {
    "duration": 132,
    "start_time": "2022-12-15T13:24:19.214Z"
   },
   {
    "duration": 6,
    "start_time": "2022-12-15T13:24:44.348Z"
   },
   {
    "duration": 373,
    "start_time": "2022-12-16T09:55:26.875Z"
   },
   {
    "duration": 3,
    "start_time": "2022-12-16T09:55:27.250Z"
   },
   {
    "duration": 3032,
    "start_time": "2022-12-16T09:55:27.254Z"
   },
   {
    "duration": 178,
    "start_time": "2022-12-16T09:55:30.289Z"
   },
   {
    "duration": 53,
    "start_time": "2022-12-16T09:55:30.470Z"
   },
   {
    "duration": 113,
    "start_time": "2022-12-16T09:55:30.526Z"
   },
   {
    "duration": 550,
    "start_time": "2022-12-16T09:55:30.641Z"
   },
   {
    "duration": 527,
    "start_time": "2022-12-16T09:55:31.192Z"
   },
   {
    "duration": 419,
    "start_time": "2022-12-16T09:55:31.721Z"
   },
   {
    "duration": 5,
    "start_time": "2022-12-16T09:55:32.142Z"
   },
   {
    "duration": 507,
    "start_time": "2022-12-16T09:55:32.148Z"
   },
   {
    "duration": 389,
    "start_time": "2022-12-16T09:55:32.656Z"
   },
   {
    "duration": 95,
    "start_time": "2022-12-16T09:55:33.047Z"
   },
   {
    "duration": 15,
    "start_time": "2022-12-16T09:55:33.145Z"
   },
   {
    "duration": 215,
    "start_time": "2022-12-16T09:55:33.162Z"
   },
   {
    "duration": 13,
    "start_time": "2022-12-16T09:55:33.379Z"
   },
   {
    "duration": 46,
    "start_time": "2022-12-16T09:55:33.394Z"
   },
   {
    "duration": 31,
    "start_time": "2022-12-16T09:55:33.442Z"
   },
   {
    "duration": 17,
    "start_time": "2022-12-16T09:55:33.475Z"
   },
   {
    "duration": 32,
    "start_time": "2022-12-16T09:55:33.494Z"
   },
   {
    "duration": 185,
    "start_time": "2022-12-16T09:55:33.528Z"
   },
   {
    "duration": 19,
    "start_time": "2022-12-16T09:55:33.722Z"
   },
   {
    "duration": 196,
    "start_time": "2022-12-16T09:55:33.743Z"
   },
   {
    "duration": 251,
    "start_time": "2022-12-16T09:55:33.941Z"
   },
   {
    "duration": 48,
    "start_time": "2022-12-16T09:55:34.195Z"
   },
   {
    "duration": 33,
    "start_time": "2022-12-16T09:55:34.245Z"
   },
   {
    "duration": 6,
    "start_time": "2022-12-16T09:55:34.280Z"
   },
   {
    "duration": 58,
    "start_time": "2022-12-16T09:55:34.287Z"
   },
   {
    "duration": 17,
    "start_time": "2022-12-16T09:55:34.347Z"
   },
   {
    "duration": 43,
    "start_time": "2022-12-16T09:55:34.366Z"
   },
   {
    "duration": 16,
    "start_time": "2022-12-16T09:55:34.414Z"
   },
   {
    "duration": 30,
    "start_time": "2022-12-16T09:55:34.432Z"
   },
   {
    "duration": 162,
    "start_time": "2022-12-16T09:55:34.464Z"
   },
   {
    "duration": 19,
    "start_time": "2022-12-16T09:55:34.628Z"
   },
   {
    "duration": 20,
    "start_time": "2022-12-16T09:55:34.649Z"
   },
   {
    "duration": 9,
    "start_time": "2022-12-16T09:55:34.671Z"
   },
   {
    "duration": 40,
    "start_time": "2022-12-16T09:55:34.682Z"
   },
   {
    "duration": 30,
    "start_time": "2022-12-16T09:55:34.724Z"
   },
   {
    "duration": 27,
    "start_time": "2022-12-16T09:55:34.756Z"
   },
   {
    "duration": 286,
    "start_time": "2022-12-16T09:55:34.785Z"
   },
   {
    "duration": 179,
    "start_time": "2022-12-16T09:55:35.076Z"
   },
   {
    "duration": 149,
    "start_time": "2022-12-16T09:55:35.257Z"
   },
   {
    "duration": 6,
    "start_time": "2022-12-16T09:55:35.407Z"
   },
   {
    "duration": 7,
    "start_time": "2022-12-16T09:55:35.422Z"
   },
   {
    "duration": 56,
    "start_time": "2022-12-16T09:55:35.431Z"
   },
   {
    "duration": 174,
    "start_time": "2022-12-16T09:55:35.489Z"
   },
   {
    "duration": 8,
    "start_time": "2022-12-16T09:55:35.665Z"
   },
   {
    "duration": 3399,
    "start_time": "2022-12-16T09:56:06.298Z"
   },
   {
    "duration": 33,
    "start_time": "2022-12-16T09:56:27.851Z"
   },
   {
    "duration": 107,
    "start_time": "2022-12-16T09:57:02.390Z"
   },
   {
    "duration": 20,
    "start_time": "2022-12-16T09:57:13.225Z"
   },
   {
    "duration": 16,
    "start_time": "2022-12-16T09:59:04.378Z"
   },
   {
    "duration": 19,
    "start_time": "2022-12-16T09:59:58.086Z"
   },
   {
    "duration": 14,
    "start_time": "2022-12-16T10:00:02.329Z"
   },
   {
    "duration": 11,
    "start_time": "2022-12-16T10:00:58.169Z"
   },
   {
    "duration": 36,
    "start_time": "2022-12-16T10:01:04.520Z"
   },
   {
    "duration": 46,
    "start_time": "2022-12-16T10:01:14.229Z"
   },
   {
    "duration": 146,
    "start_time": "2022-12-16T10:03:35.502Z"
   },
   {
    "duration": 168,
    "start_time": "2022-12-16T10:03:54.621Z"
   },
   {
    "duration": 172,
    "start_time": "2022-12-16T10:04:11.879Z"
   },
   {
    "duration": 147,
    "start_time": "2022-12-16T10:04:17.039Z"
   },
   {
    "duration": 11,
    "start_time": "2022-12-16T10:04:32.433Z"
   },
   {
    "duration": 11,
    "start_time": "2022-12-16T10:04:37.509Z"
   },
   {
    "duration": 178,
    "start_time": "2022-12-16T10:09:27.079Z"
   },
   {
    "duration": 11,
    "start_time": "2022-12-16T10:10:06.969Z"
   },
   {
    "duration": 146,
    "start_time": "2022-12-16T10:10:24.709Z"
   },
   {
    "duration": 187,
    "start_time": "2022-12-16T10:12:10.790Z"
   },
   {
    "duration": 3,
    "start_time": "2022-12-16T10:22:15.908Z"
   },
   {
    "duration": 9,
    "start_time": "2022-12-16T10:22:15.913Z"
   },
   {
    "duration": 791,
    "start_time": "2022-12-16T10:22:15.924Z"
   },
   {
    "duration": 116,
    "start_time": "2022-12-16T10:22:16.717Z"
   },
   {
    "duration": 23,
    "start_time": "2022-12-16T10:22:16.835Z"
   },
   {
    "duration": 76,
    "start_time": "2022-12-16T10:22:16.859Z"
   },
   {
    "duration": 24,
    "start_time": "2022-12-16T10:22:16.937Z"
   },
   {
    "duration": 421,
    "start_time": "2022-12-16T10:22:16.962Z"
   },
   {
    "duration": 339,
    "start_time": "2022-12-16T10:22:17.385Z"
   },
   {
    "duration": 5,
    "start_time": "2022-12-16T10:22:17.726Z"
   },
   {
    "duration": 375,
    "start_time": "2022-12-16T10:22:17.733Z"
   },
   {
    "duration": 331,
    "start_time": "2022-12-16T10:22:18.110Z"
   },
   {
    "duration": 93,
    "start_time": "2022-12-16T10:22:18.444Z"
   },
   {
    "duration": 13,
    "start_time": "2022-12-16T10:22:18.539Z"
   },
   {
    "duration": 173,
    "start_time": "2022-12-16T10:22:18.554Z"
   },
   {
    "duration": 12,
    "start_time": "2022-12-16T10:22:18.728Z"
   },
   {
    "duration": 20,
    "start_time": "2022-12-16T10:22:18.742Z"
   },
   {
    "duration": 19,
    "start_time": "2022-12-16T10:22:18.763Z"
   },
   {
    "duration": 41,
    "start_time": "2022-12-16T10:22:18.784Z"
   },
   {
    "duration": 16,
    "start_time": "2022-12-16T10:22:18.827Z"
   },
   {
    "duration": 199,
    "start_time": "2022-12-16T10:22:18.845Z"
   },
   {
    "duration": 21,
    "start_time": "2022-12-16T10:22:19.046Z"
   },
   {
    "duration": 298,
    "start_time": "2022-12-16T10:22:19.069Z"
   },
   {
    "duration": 156,
    "start_time": "2022-12-16T10:22:19.369Z"
   },
   {
    "duration": 31,
    "start_time": "2022-12-16T10:22:19.528Z"
   },
   {
    "duration": 23,
    "start_time": "2022-12-16T10:22:19.561Z"
   },
   {
    "duration": 4,
    "start_time": "2022-12-16T10:22:19.586Z"
   },
   {
    "duration": 52,
    "start_time": "2022-12-16T10:22:19.592Z"
   },
   {
    "duration": 19,
    "start_time": "2022-12-16T10:22:19.646Z"
   },
   {
    "duration": 30,
    "start_time": "2022-12-16T10:22:19.667Z"
   },
   {
    "duration": 26,
    "start_time": "2022-12-16T10:22:19.699Z"
   },
   {
    "duration": 29,
    "start_time": "2022-12-16T10:22:19.727Z"
   },
   {
    "duration": 201,
    "start_time": "2022-12-16T10:22:19.758Z"
   },
   {
    "duration": 23,
    "start_time": "2022-12-16T10:22:19.961Z"
   },
   {
    "duration": 18,
    "start_time": "2022-12-16T10:22:19.985Z"
   },
   {
    "duration": 23,
    "start_time": "2022-12-16T10:22:20.005Z"
   },
   {
    "duration": 15,
    "start_time": "2022-12-16T10:22:20.033Z"
   },
   {
    "duration": 19,
    "start_time": "2022-12-16T10:22:20.050Z"
   },
   {
    "duration": 27,
    "start_time": "2022-12-16T10:22:20.071Z"
   },
   {
    "duration": 215,
    "start_time": "2022-12-16T10:22:20.100Z"
   },
   {
    "duration": 165,
    "start_time": "2022-12-16T10:22:20.322Z"
   },
   {
    "duration": 150,
    "start_time": "2022-12-16T10:22:20.488Z"
   },
   {
    "duration": 6,
    "start_time": "2022-12-16T10:22:20.640Z"
   },
   {
    "duration": 12,
    "start_time": "2022-12-16T10:22:20.647Z"
   },
   {
    "duration": 67,
    "start_time": "2022-12-16T10:22:20.661Z"
   },
   {
    "duration": 148,
    "start_time": "2022-12-16T10:22:20.730Z"
   },
   {
    "duration": 7,
    "start_time": "2022-12-16T10:22:20.880Z"
   },
   {
    "duration": 35,
    "start_time": "2022-12-16T10:22:20.889Z"
   },
   {
    "duration": 16,
    "start_time": "2022-12-16T10:22:20.925Z"
   },
   {
    "duration": 19,
    "start_time": "2022-12-16T10:22:20.943Z"
   },
   {
    "duration": 15,
    "start_time": "2022-12-16T10:22:20.963Z"
   },
   {
    "duration": 53,
    "start_time": "2022-12-16T10:22:20.979Z"
   },
   {
    "duration": 154,
    "start_time": "2022-12-16T10:22:21.033Z"
   },
   {
    "duration": 8,
    "start_time": "2022-12-16T10:22:21.189Z"
   },
   {
    "duration": 209,
    "start_time": "2022-12-16T10:22:21.199Z"
   },
   {
    "duration": 14,
    "start_time": "2022-12-16T10:22:21.409Z"
   },
   {
    "duration": 15,
    "start_time": "2022-12-16T10:22:21.425Z"
   },
   {
    "duration": 36,
    "start_time": "2022-12-16T10:23:19.140Z"
   },
   {
    "duration": 18,
    "start_time": "2022-12-16T10:25:45.980Z"
   },
   {
    "duration": 32,
    "start_time": "2022-12-16T10:28:11.948Z"
   },
   {
    "duration": 24,
    "start_time": "2022-12-16T10:31:03.041Z"
   },
   {
    "duration": 29,
    "start_time": "2022-12-16T10:32:34.059Z"
   },
   {
    "duration": 16,
    "start_time": "2022-12-16T10:32:39.767Z"
   },
   {
    "duration": 16,
    "start_time": "2022-12-16T10:32:46.491Z"
   },
   {
    "duration": 170,
    "start_time": "2022-12-16T10:33:40.177Z"
   },
   {
    "duration": 16,
    "start_time": "2022-12-16T10:35:09.278Z"
   },
   {
    "duration": 19,
    "start_time": "2022-12-16T10:36:38.747Z"
   },
   {
    "duration": 63,
    "start_time": "2022-12-16T10:38:55.071Z"
   },
   {
    "duration": 9,
    "start_time": "2022-12-16T10:39:17.884Z"
   },
   {
    "duration": 14,
    "start_time": "2022-12-16T10:39:33.130Z"
   },
   {
    "duration": 101,
    "start_time": "2022-12-16T10:39:51.201Z"
   },
   {
    "duration": 150,
    "start_time": "2022-12-16T10:43:43.804Z"
   },
   {
    "duration": 12,
    "start_time": "2022-12-16T10:44:29.973Z"
   },
   {
    "duration": 14,
    "start_time": "2022-12-16T10:44:42.772Z"
   },
   {
    "duration": 5,
    "start_time": "2022-12-16T10:45:23.620Z"
   },
   {
    "duration": 9,
    "start_time": "2022-12-16T10:48:06.271Z"
   },
   {
    "duration": 31,
    "start_time": "2022-12-16T10:48:11.395Z"
   },
   {
    "duration": 18,
    "start_time": "2022-12-16T10:49:54.557Z"
   },
   {
    "duration": 110,
    "start_time": "2022-12-16T10:56:02.240Z"
   },
   {
    "duration": 391,
    "start_time": "2022-12-17T18:11:24.643Z"
   },
   {
    "duration": 3,
    "start_time": "2022-12-17T18:11:25.036Z"
   },
   {
    "duration": 1053,
    "start_time": "2022-12-17T18:11:25.040Z"
   },
   {
    "duration": 128,
    "start_time": "2022-12-17T18:11:26.096Z"
   },
   {
    "duration": 28,
    "start_time": "2022-12-17T18:11:26.225Z"
   },
   {
    "duration": 90,
    "start_time": "2022-12-17T18:11:26.255Z"
   },
   {
    "duration": 432,
    "start_time": "2022-12-17T18:11:26.348Z"
   },
   {
    "duration": 423,
    "start_time": "2022-12-17T18:11:26.782Z"
   },
   {
    "duration": 349,
    "start_time": "2022-12-17T18:11:27.207Z"
   },
   {
    "duration": 4,
    "start_time": "2022-12-17T18:11:27.558Z"
   },
   {
    "duration": 414,
    "start_time": "2022-12-17T18:11:27.563Z"
   },
   {
    "duration": 337,
    "start_time": "2022-12-17T18:11:27.979Z"
   },
   {
    "duration": 87,
    "start_time": "2022-12-17T18:11:28.318Z"
   },
   {
    "duration": 14,
    "start_time": "2022-12-17T18:11:28.407Z"
   },
   {
    "duration": 170,
    "start_time": "2022-12-17T18:11:28.423Z"
   },
   {
    "duration": 13,
    "start_time": "2022-12-17T18:11:28.596Z"
   },
   {
    "duration": 21,
    "start_time": "2022-12-17T18:11:28.610Z"
   },
   {
    "duration": 19,
    "start_time": "2022-12-17T18:11:28.632Z"
   },
   {
    "duration": 17,
    "start_time": "2022-12-17T18:11:28.652Z"
   },
   {
    "duration": 38,
    "start_time": "2022-12-17T18:11:28.671Z"
   },
   {
    "duration": 172,
    "start_time": "2022-12-17T18:11:28.711Z"
   },
   {
    "duration": 21,
    "start_time": "2022-12-17T18:11:28.885Z"
   },
   {
    "duration": 216,
    "start_time": "2022-12-17T18:11:28.908Z"
   },
   {
    "duration": 150,
    "start_time": "2022-12-17T18:11:29.126Z"
   },
   {
    "duration": 33,
    "start_time": "2022-12-17T18:11:29.277Z"
   },
   {
    "duration": 24,
    "start_time": "2022-12-17T18:11:29.311Z"
   },
   {
    "duration": 3,
    "start_time": "2022-12-17T18:11:29.337Z"
   },
   {
    "duration": 28,
    "start_time": "2022-12-17T18:11:29.344Z"
   },
   {
    "duration": 30,
    "start_time": "2022-12-17T18:11:29.373Z"
   },
   {
    "duration": 30,
    "start_time": "2022-12-17T18:11:29.405Z"
   },
   {
    "duration": 10,
    "start_time": "2022-12-17T18:11:29.437Z"
   },
   {
    "duration": 48,
    "start_time": "2022-12-17T18:11:29.449Z"
   },
   {
    "duration": 145,
    "start_time": "2022-12-17T18:11:29.499Z"
   },
   {
    "duration": 20,
    "start_time": "2022-12-17T18:11:29.649Z"
   },
   {
    "duration": 26,
    "start_time": "2022-12-17T18:11:29.671Z"
   },
   {
    "duration": 6,
    "start_time": "2022-12-17T18:11:29.699Z"
   },
   {
    "duration": 12,
    "start_time": "2022-12-17T18:11:29.707Z"
   },
   {
    "duration": 18,
    "start_time": "2022-12-17T18:11:29.720Z"
   },
   {
    "duration": 17,
    "start_time": "2022-12-17T18:11:29.740Z"
   },
   {
    "duration": 211,
    "start_time": "2022-12-17T18:11:29.759Z"
   },
   {
    "duration": 161,
    "start_time": "2022-12-17T18:11:29.972Z"
   },
   {
    "duration": 140,
    "start_time": "2022-12-17T18:11:30.135Z"
   },
   {
    "duration": 6,
    "start_time": "2022-12-17T18:11:30.276Z"
   },
   {
    "duration": 58,
    "start_time": "2022-12-17T18:11:30.283Z"
   },
   {
    "duration": 84,
    "start_time": "2022-12-17T18:11:30.343Z"
   },
   {
    "duration": 142,
    "start_time": "2022-12-17T18:11:30.429Z"
   },
   {
    "duration": 6,
    "start_time": "2022-12-17T18:11:30.573Z"
   },
   {
    "duration": 52,
    "start_time": "2022-12-17T18:11:30.580Z"
   },
   {
    "duration": 49,
    "start_time": "2022-12-17T18:11:30.634Z"
   },
   {
    "duration": 50,
    "start_time": "2022-12-17T18:11:30.685Z"
   },
   {
    "duration": 50,
    "start_time": "2022-12-17T18:11:30.736Z"
   },
   {
    "duration": 56,
    "start_time": "2022-12-17T18:11:30.788Z"
   },
   {
    "duration": 152,
    "start_time": "2022-12-17T18:11:30.846Z"
   },
   {
    "duration": 8,
    "start_time": "2022-12-17T18:11:31.000Z"
   },
   {
    "duration": 207,
    "start_time": "2022-12-17T18:11:31.010Z"
   },
   {
    "duration": 7,
    "start_time": "2022-12-17T18:11:31.219Z"
   },
   {
    "duration": 42,
    "start_time": "2022-12-17T18:11:31.228Z"
   },
   {
    "duration": 58,
    "start_time": "2022-12-17T18:11:31.271Z"
   },
   {
    "duration": 26,
    "start_time": "2022-12-17T18:11:31.331Z"
   },
   {
    "duration": 63,
    "start_time": "2022-12-17T18:11:31.359Z"
   },
   {
    "duration": 30,
    "start_time": "2022-12-17T18:11:31.424Z"
   },
   {
    "duration": 29,
    "start_time": "2022-12-17T18:11:31.455Z"
   },
   {
    "duration": 201,
    "start_time": "2022-12-17T18:11:31.486Z"
   },
   {
    "duration": 25,
    "start_time": "2022-12-17T18:11:31.688Z"
   },
   {
    "duration": 66,
    "start_time": "2022-12-17T18:11:31.714Z"
   },
   {
    "duration": 88,
    "start_time": "2022-12-17T18:11:31.796Z"
   },
   {
    "duration": 161,
    "start_time": "2022-12-17T18:11:31.885Z"
   },
   {
    "duration": 15,
    "start_time": "2022-12-17T18:11:32.048Z"
   },
   {
    "duration": 50,
    "start_time": "2022-12-17T18:11:32.065Z"
   },
   {
    "duration": 12,
    "start_time": "2022-12-17T18:11:32.117Z"
   },
   {
    "duration": 93,
    "start_time": "2022-12-17T18:11:32.132Z"
   },
   {
    "duration": 87,
    "start_time": "2022-12-17T18:11:32.230Z"
   },
   {
    "duration": 385,
    "start_time": "2022-12-17T19:25:24.061Z"
   },
   {
    "duration": 2,
    "start_time": "2022-12-17T19:25:24.448Z"
   },
   {
    "duration": 992,
    "start_time": "2022-12-17T19:25:24.452Z"
   },
   {
    "duration": 106,
    "start_time": "2022-12-17T19:25:25.446Z"
   },
   {
    "duration": 28,
    "start_time": "2022-12-17T19:25:25.553Z"
   },
   {
    "duration": 73,
    "start_time": "2022-12-17T19:25:25.582Z"
   },
   {
    "duration": 456,
    "start_time": "2022-12-17T19:25:25.657Z"
   },
   {
    "duration": 446,
    "start_time": "2022-12-17T19:25:26.115Z"
   },
   {
    "duration": 336,
    "start_time": "2022-12-17T19:25:26.562Z"
   },
   {
    "duration": 3,
    "start_time": "2022-12-17T19:25:26.902Z"
   },
   {
    "duration": 410,
    "start_time": "2022-12-17T19:25:26.907Z"
   },
   {
    "duration": 333,
    "start_time": "2022-12-17T19:25:27.318Z"
   },
   {
    "duration": 76,
    "start_time": "2022-12-17T19:25:27.652Z"
   },
   {
    "duration": 13,
    "start_time": "2022-12-17T19:25:27.729Z"
   },
   {
    "duration": 166,
    "start_time": "2022-12-17T19:25:27.743Z"
   },
   {
    "duration": 13,
    "start_time": "2022-12-17T19:25:27.910Z"
   },
   {
    "duration": 22,
    "start_time": "2022-12-17T19:25:27.924Z"
   },
   {
    "duration": 18,
    "start_time": "2022-12-17T19:25:27.948Z"
   },
   {
    "duration": 35,
    "start_time": "2022-12-17T19:25:27.967Z"
   },
   {
    "duration": 23,
    "start_time": "2022-12-17T19:25:28.004Z"
   },
   {
    "duration": 167,
    "start_time": "2022-12-17T19:25:28.029Z"
   },
   {
    "duration": 17,
    "start_time": "2022-12-17T19:25:28.198Z"
   },
   {
    "duration": 165,
    "start_time": "2022-12-17T19:25:28.217Z"
   },
   {
    "duration": 188,
    "start_time": "2022-12-17T19:25:28.384Z"
   },
   {
    "duration": 36,
    "start_time": "2022-12-17T19:25:28.573Z"
   },
   {
    "duration": 20,
    "start_time": "2022-12-17T19:25:28.611Z"
   },
   {
    "duration": 4,
    "start_time": "2022-12-17T19:25:28.633Z"
   },
   {
    "duration": 20,
    "start_time": "2022-12-17T19:25:28.642Z"
   },
   {
    "duration": 37,
    "start_time": "2022-12-17T19:25:28.663Z"
   },
   {
    "duration": 26,
    "start_time": "2022-12-17T19:25:28.702Z"
   },
   {
    "duration": 9,
    "start_time": "2022-12-17T19:25:28.729Z"
   },
   {
    "duration": 27,
    "start_time": "2022-12-17T19:25:28.740Z"
   },
   {
    "duration": 155,
    "start_time": "2022-12-17T19:25:28.768Z"
   },
   {
    "duration": 18,
    "start_time": "2022-12-17T19:25:28.924Z"
   },
   {
    "duration": 15,
    "start_time": "2022-12-17T19:25:28.944Z"
   },
   {
    "duration": 8,
    "start_time": "2022-12-17T19:25:28.960Z"
   },
   {
    "duration": 27,
    "start_time": "2022-12-17T19:25:28.969Z"
   },
   {
    "duration": 17,
    "start_time": "2022-12-17T19:25:28.998Z"
   },
   {
    "duration": 14,
    "start_time": "2022-12-17T19:25:29.016Z"
   },
   {
    "duration": 192,
    "start_time": "2022-12-17T19:25:29.031Z"
   },
   {
    "duration": 165,
    "start_time": "2022-12-17T19:25:29.225Z"
   },
   {
    "duration": 133,
    "start_time": "2022-12-17T19:25:29.392Z"
   },
   {
    "duration": 5,
    "start_time": "2022-12-17T19:25:29.526Z"
   },
   {
    "duration": 9,
    "start_time": "2022-12-17T19:25:29.533Z"
   },
   {
    "duration": 64,
    "start_time": "2022-12-17T19:25:29.543Z"
   },
   {
    "duration": 128,
    "start_time": "2022-12-17T19:25:29.609Z"
   },
   {
    "duration": 6,
    "start_time": "2022-12-17T19:25:29.738Z"
   },
   {
    "duration": 21,
    "start_time": "2022-12-17T19:25:29.745Z"
   },
   {
    "duration": 32,
    "start_time": "2022-12-17T19:25:29.767Z"
   },
   {
    "duration": 17,
    "start_time": "2022-12-17T19:25:29.800Z"
   },
   {
    "duration": 13,
    "start_time": "2022-12-17T19:25:29.819Z"
   },
   {
    "duration": 30,
    "start_time": "2022-12-17T19:25:29.833Z"
   },
   {
    "duration": 165,
    "start_time": "2022-12-17T19:25:29.864Z"
   },
   {
    "duration": 7,
    "start_time": "2022-12-17T19:25:30.030Z"
   },
   {
    "duration": 180,
    "start_time": "2022-12-17T19:25:30.039Z"
   },
   {
    "duration": 6,
    "start_time": "2022-12-17T19:25:30.221Z"
   },
   {
    "duration": 37,
    "start_time": "2022-12-17T19:25:30.229Z"
   },
   {
    "duration": 75,
    "start_time": "2022-12-17T19:25:30.268Z"
   },
   {
    "duration": 47,
    "start_time": "2022-12-17T19:25:30.345Z"
   },
   {
    "duration": 48,
    "start_time": "2022-12-17T19:25:30.393Z"
   },
   {
    "duration": 39,
    "start_time": "2022-12-17T19:25:30.443Z"
   },
   {
    "duration": 39,
    "start_time": "2022-12-17T19:25:30.483Z"
   },
   {
    "duration": 173,
    "start_time": "2022-12-17T19:25:30.524Z"
   },
   {
    "duration": 18,
    "start_time": "2022-12-17T19:25:30.699Z"
   },
   {
    "duration": 73,
    "start_time": "2022-12-17T19:25:30.718Z"
   },
   {
    "duration": 86,
    "start_time": "2022-12-17T19:25:30.792Z"
   },
   {
    "duration": 177,
    "start_time": "2022-12-17T19:25:30.879Z"
   },
   {
    "duration": 15,
    "start_time": "2022-12-17T19:25:31.058Z"
   },
   {
    "duration": 48,
    "start_time": "2022-12-17T19:25:31.074Z"
   },
   {
    "duration": 11,
    "start_time": "2022-12-17T19:25:31.125Z"
   },
   {
    "duration": 78,
    "start_time": "2022-12-17T19:25:31.138Z"
   },
   {
    "duration": 87,
    "start_time": "2022-12-17T19:25:31.218Z"
   },
   {
    "duration": 68,
    "start_time": "2022-12-17T19:26:11.338Z"
   },
   {
    "duration": 67,
    "start_time": "2022-12-17T19:26:29.618Z"
   },
   {
    "duration": 7,
    "start_time": "2022-12-17T19:26:47.016Z"
   },
   {
    "duration": 25,
    "start_time": "2022-12-17T19:27:01.874Z"
   },
   {
    "duration": 4,
    "start_time": "2022-12-17T19:30:17.291Z"
   },
   {
    "duration": 9,
    "start_time": "2022-12-17T19:37:39.715Z"
   },
   {
    "duration": 31,
    "start_time": "2022-12-17T19:38:17.610Z"
   },
   {
    "duration": 32,
    "start_time": "2022-12-17T19:38:46.658Z"
   },
   {
    "duration": 30,
    "start_time": "2022-12-17T19:38:51.468Z"
   },
   {
    "duration": 31,
    "start_time": "2022-12-17T19:39:02.192Z"
   },
   {
    "duration": 7,
    "start_time": "2022-12-17T19:39:46.515Z"
   },
   {
    "duration": 137,
    "start_time": "2022-12-17T19:39:53.154Z"
   },
   {
    "duration": 133,
    "start_time": "2022-12-17T19:40:02.875Z"
   },
   {
    "duration": 164,
    "start_time": "2022-12-17T19:41:48.093Z"
   },
   {
    "duration": 62,
    "start_time": "2022-12-17T19:41:56.268Z"
   },
   {
    "duration": 73,
    "start_time": "2022-12-17T19:42:19.126Z"
   },
   {
    "duration": 23,
    "start_time": "2022-12-17T19:43:30.865Z"
   },
   {
    "duration": 71,
    "start_time": "2022-12-17T19:43:37.095Z"
   },
   {
    "duration": 754,
    "start_time": "2022-12-17T20:07:57.374Z"
   },
   {
    "duration": 8,
    "start_time": "2022-12-17T20:08:25.574Z"
   },
   {
    "duration": 111,
    "start_time": "2022-12-17T20:08:30.950Z"
   },
   {
    "duration": 22,
    "start_time": "2022-12-17T20:14:04.170Z"
   },
   {
    "duration": 240,
    "start_time": "2022-12-17T20:14:40.541Z"
   },
   {
    "duration": 29,
    "start_time": "2022-12-17T20:15:10.482Z"
   },
   {
    "duration": 3,
    "start_time": "2022-12-17T20:18:03.981Z"
   },
   {
    "duration": 32,
    "start_time": "2022-12-17T20:18:19.300Z"
   },
   {
    "duration": 44,
    "start_time": "2022-12-17T20:21:18.833Z"
   },
   {
    "duration": 48,
    "start_time": "2022-12-17T20:21:27.967Z"
   },
   {
    "duration": 36,
    "start_time": "2022-12-17T20:21:42.285Z"
   },
   {
    "duration": 32,
    "start_time": "2022-12-17T20:22:15.963Z"
   },
   {
    "duration": 33,
    "start_time": "2022-12-17T20:22:26.363Z"
   },
   {
    "duration": 51,
    "start_time": "2022-12-17T20:22:40.440Z"
   },
   {
    "duration": 31,
    "start_time": "2022-12-17T20:26:09.557Z"
   },
   {
    "duration": 36,
    "start_time": "2022-12-17T20:26:19.088Z"
   },
   {
    "duration": 3,
    "start_time": "2022-12-17T20:27:23.512Z"
   },
   {
    "duration": 20673,
    "start_time": "2022-12-17T20:27:45.050Z"
   },
   {
    "duration": 37,
    "start_time": "2022-12-17T20:28:26.044Z"
   },
   {
    "duration": 29,
    "start_time": "2022-12-17T20:30:20.630Z"
   },
   {
    "duration": 29,
    "start_time": "2022-12-17T20:30:26.523Z"
   },
   {
    "duration": 298,
    "start_time": "2022-12-17T20:31:27.359Z"
   },
   {
    "duration": 4,
    "start_time": "2022-12-17T20:38:26.464Z"
   },
   {
    "duration": 188,
    "start_time": "2022-12-17T20:39:14.709Z"
   },
   {
    "duration": 185,
    "start_time": "2022-12-17T20:39:23.437Z"
   },
   {
    "duration": 166,
    "start_time": "2022-12-17T20:39:34.556Z"
   },
   {
    "duration": 5,
    "start_time": "2022-12-17T20:40:07.784Z"
   },
   {
    "duration": 186,
    "start_time": "2022-12-17T20:40:19.917Z"
   },
   {
    "duration": 796,
    "start_time": "2022-12-17T20:40:39.918Z"
   },
   {
    "duration": 6,
    "start_time": "2022-12-17T20:40:52.971Z"
   },
   {
    "duration": 4,
    "start_time": "2022-12-17T20:41:41.770Z"
   },
   {
    "duration": 6,
    "start_time": "2022-12-17T20:41:44.553Z"
   },
   {
    "duration": 4,
    "start_time": "2022-12-17T20:42:06.706Z"
   },
   {
    "duration": 7,
    "start_time": "2022-12-17T20:42:08.945Z"
   },
   {
    "duration": 4,
    "start_time": "2022-12-17T20:42:26.043Z"
   },
   {
    "duration": 8,
    "start_time": "2022-12-17T20:42:27.829Z"
   },
   {
    "duration": 6,
    "start_time": "2022-12-17T20:42:46.486Z"
   },
   {
    "duration": 11,
    "start_time": "2022-12-17T20:42:49.658Z"
   },
   {
    "duration": 6,
    "start_time": "2022-12-17T20:42:52.858Z"
   },
   {
    "duration": 8,
    "start_time": "2022-12-17T20:43:00.635Z"
   },
   {
    "duration": 5,
    "start_time": "2022-12-17T20:43:05.567Z"
   },
   {
    "duration": 6,
    "start_time": "2022-12-17T20:43:14.956Z"
   },
   {
    "duration": 5,
    "start_time": "2022-12-17T20:43:17.331Z"
   },
   {
    "duration": 3,
    "start_time": "2022-12-17T20:43:25.458Z"
   },
   {
    "duration": 5,
    "start_time": "2022-12-17T20:43:27.811Z"
   },
   {
    "duration": 11,
    "start_time": "2022-12-17T20:43:41.115Z"
   },
   {
    "duration": 4,
    "start_time": "2022-12-17T20:43:58.987Z"
   },
   {
    "duration": 6,
    "start_time": "2022-12-17T20:44:01.085Z"
   },
   {
    "duration": 4,
    "start_time": "2022-12-17T20:44:05.813Z"
   },
   {
    "duration": 6,
    "start_time": "2022-12-17T20:44:07.691Z"
   },
   {
    "duration": 4,
    "start_time": "2022-12-17T20:44:17.411Z"
   },
   {
    "duration": 6,
    "start_time": "2022-12-17T20:44:20.836Z"
   },
   {
    "duration": 3,
    "start_time": "2022-12-17T20:44:59.084Z"
   },
   {
    "duration": 6,
    "start_time": "2022-12-17T20:45:03.076Z"
   },
   {
    "duration": 4,
    "start_time": "2022-12-17T20:45:11.572Z"
   },
   {
    "duration": 6,
    "start_time": "2022-12-17T20:45:13.539Z"
   },
   {
    "duration": 7245,
    "start_time": "2022-12-17T20:45:52.077Z"
   },
   {
    "duration": 5,
    "start_time": "2022-12-17T20:46:10.357Z"
   },
   {
    "duration": 4,
    "start_time": "2022-12-17T20:46:36.495Z"
   },
   {
    "duration": 6470,
    "start_time": "2022-12-17T20:46:39.597Z"
   },
   {
    "duration": 14,
    "start_time": "2022-12-17T20:46:46.070Z"
   },
   {
    "duration": 874,
    "start_time": "2022-12-17T20:48:48.162Z"
   },
   {
    "duration": 6,
    "start_time": "2022-12-17T20:48:53.478Z"
   },
   {
    "duration": 8,
    "start_time": "2022-12-17T20:51:07.830Z"
   },
   {
    "duration": 10,
    "start_time": "2022-12-17T20:52:02.001Z"
   },
   {
    "duration": 60,
    "start_time": "2022-12-17T20:52:08.987Z"
   },
   {
    "duration": 87,
    "start_time": "2022-12-17T20:52:17.952Z"
   },
   {
    "duration": 355,
    "start_time": "2022-12-17T20:54:06.229Z"
   },
   {
    "duration": 2,
    "start_time": "2022-12-17T20:54:06.586Z"
   },
   {
    "duration": 720,
    "start_time": "2022-12-17T20:54:06.589Z"
   },
   {
    "duration": 111,
    "start_time": "2022-12-17T20:54:07.311Z"
   },
   {
    "duration": 25,
    "start_time": "2022-12-17T20:54:07.424Z"
   },
   {
    "duration": 76,
    "start_time": "2022-12-17T20:54:07.450Z"
   },
   {
    "duration": 281,
    "start_time": "2022-12-17T20:54:07.528Z"
   },
   {
    "duration": 418,
    "start_time": "2022-12-17T20:54:07.811Z"
   },
   {
    "duration": 351,
    "start_time": "2022-12-17T20:54:08.231Z"
   },
   {
    "duration": 4,
    "start_time": "2022-12-17T20:54:08.584Z"
   },
   {
    "duration": 414,
    "start_time": "2022-12-17T20:54:08.602Z"
   },
   {
    "duration": 382,
    "start_time": "2022-12-17T20:54:09.018Z"
   },
   {
    "duration": 99,
    "start_time": "2022-12-17T20:54:09.402Z"
   },
   {
    "duration": 12,
    "start_time": "2022-12-17T20:54:09.504Z"
   },
   {
    "duration": 161,
    "start_time": "2022-12-17T20:54:09.518Z"
   },
   {
    "duration": 23,
    "start_time": "2022-12-17T20:54:09.681Z"
   },
   {
    "duration": 20,
    "start_time": "2022-12-17T20:54:09.705Z"
   },
   {
    "duration": 17,
    "start_time": "2022-12-17T20:54:09.726Z"
   },
   {
    "duration": 16,
    "start_time": "2022-12-17T20:54:09.745Z"
   },
   {
    "duration": 36,
    "start_time": "2022-12-17T20:54:09.762Z"
   },
   {
    "duration": 163,
    "start_time": "2022-12-17T20:54:09.799Z"
   },
   {
    "duration": 17,
    "start_time": "2022-12-17T20:54:09.964Z"
   },
   {
    "duration": 177,
    "start_time": "2022-12-17T20:54:09.983Z"
   },
   {
    "duration": 195,
    "start_time": "2022-12-17T20:54:10.161Z"
   },
   {
    "duration": 27,
    "start_time": "2022-12-17T20:54:10.358Z"
   },
   {
    "duration": 21,
    "start_time": "2022-12-17T20:54:10.396Z"
   },
   {
    "duration": 3,
    "start_time": "2022-12-17T20:54:10.419Z"
   },
   {
    "duration": 24,
    "start_time": "2022-12-17T20:54:10.423Z"
   },
   {
    "duration": 11,
    "start_time": "2022-12-17T20:54:10.448Z"
   },
   {
    "duration": 53,
    "start_time": "2022-12-17T20:54:10.460Z"
   },
   {
    "duration": 9,
    "start_time": "2022-12-17T20:54:10.515Z"
   },
   {
    "duration": 26,
    "start_time": "2022-12-17T20:54:10.525Z"
   },
   {
    "duration": 132,
    "start_time": "2022-12-17T20:54:10.553Z"
   },
   {
    "duration": 25,
    "start_time": "2022-12-17T20:54:10.687Z"
   },
   {
    "duration": 17,
    "start_time": "2022-12-17T20:54:10.714Z"
   },
   {
    "duration": 11,
    "start_time": "2022-12-17T20:54:10.733Z"
   },
   {
    "duration": 8,
    "start_time": "2022-12-17T20:54:10.746Z"
   },
   {
    "duration": 16,
    "start_time": "2022-12-17T20:54:10.756Z"
   },
   {
    "duration": 30,
    "start_time": "2022-12-17T20:54:10.773Z"
   },
   {
    "duration": 191,
    "start_time": "2022-12-17T20:54:10.805Z"
   },
   {
    "duration": 154,
    "start_time": "2022-12-17T20:54:11.000Z"
   },
   {
    "duration": 131,
    "start_time": "2022-12-17T20:54:11.156Z"
   },
   {
    "duration": 5,
    "start_time": "2022-12-17T20:54:11.296Z"
   },
   {
    "duration": 6,
    "start_time": "2022-12-17T20:54:11.304Z"
   },
   {
    "duration": 117,
    "start_time": "2022-12-17T20:54:11.311Z"
   },
   {
    "duration": 154,
    "start_time": "2022-12-17T20:54:11.430Z"
   },
   {
    "duration": 11,
    "start_time": "2022-12-17T20:54:11.586Z"
   },
   {
    "duration": 19,
    "start_time": "2022-12-17T20:54:11.599Z"
   },
   {
    "duration": 18,
    "start_time": "2022-12-17T20:54:11.620Z"
   },
   {
    "duration": 17,
    "start_time": "2022-12-17T20:54:11.640Z"
   },
   {
    "duration": 39,
    "start_time": "2022-12-17T20:54:11.658Z"
   },
   {
    "duration": 51,
    "start_time": "2022-12-17T20:54:11.699Z"
   },
   {
    "duration": 128,
    "start_time": "2022-12-17T20:54:11.752Z"
   },
   {
    "duration": 15,
    "start_time": "2022-12-17T20:54:11.882Z"
   },
   {
    "duration": 173,
    "start_time": "2022-12-17T20:54:11.898Z"
   },
   {
    "duration": 6,
    "start_time": "2022-12-17T20:54:12.073Z"
   },
   {
    "duration": 23,
    "start_time": "2022-12-17T20:54:12.081Z"
   },
   {
    "duration": 35,
    "start_time": "2022-12-17T20:54:12.106Z"
   },
   {
    "duration": 44,
    "start_time": "2022-12-17T20:54:12.142Z"
   },
   {
    "duration": 39,
    "start_time": "2022-12-17T20:54:12.187Z"
   },
   {
    "duration": 20,
    "start_time": "2022-12-17T20:54:12.228Z"
   },
   {
    "duration": 21,
    "start_time": "2022-12-17T20:54:12.250Z"
   },
   {
    "duration": 166,
    "start_time": "2022-12-17T20:54:12.272Z"
   },
   {
    "duration": 17,
    "start_time": "2022-12-17T20:54:12.440Z"
   },
   {
    "duration": 68,
    "start_time": "2022-12-17T20:54:12.458Z"
   },
   {
    "duration": 87,
    "start_time": "2022-12-17T20:54:12.527Z"
   },
   {
    "duration": 133,
    "start_time": "2022-12-17T20:54:12.615Z"
   },
   {
    "duration": 12,
    "start_time": "2022-12-17T20:54:12.750Z"
   },
   {
    "duration": 73,
    "start_time": "2022-12-17T20:54:12.764Z"
   },
   {
    "duration": 10,
    "start_time": "2022-12-17T20:54:12.839Z"
   },
   {
    "duration": 78,
    "start_time": "2022-12-17T20:54:12.850Z"
   },
   {
    "duration": 82,
    "start_time": "2022-12-17T20:54:12.929Z"
   },
   {
    "duration": 66,
    "start_time": "2022-12-17T20:54:13.012Z"
   },
   {
    "duration": 37,
    "start_time": "2022-12-17T20:54:13.080Z"
   },
   {
    "duration": 175,
    "start_time": "2022-12-17T20:54:13.118Z"
   },
   {
    "duration": 46,
    "start_time": "2022-12-17T20:54:13.296Z"
   },
   {
    "duration": 65,
    "start_time": "2022-12-17T20:54:13.343Z"
   },
   {
    "duration": 68,
    "start_time": "2022-12-17T20:54:13.410Z"
   },
   {
    "duration": 3,
    "start_time": "2022-12-17T20:54:13.479Z"
   },
   {
    "duration": 6339,
    "start_time": "2022-12-17T20:54:13.484Z"
   },
   {
    "duration": 4,
    "start_time": "2022-12-17T20:54:19.825Z"
   },
   {
    "duration": 14,
    "start_time": "2022-12-17T20:54:19.830Z"
   },
   {
    "duration": 63,
    "start_time": "2022-12-17T20:54:19.846Z"
   },
   {
    "duration": 92,
    "start_time": "2022-12-17T20:54:23.090Z"
   },
   {
    "duration": 6321,
    "start_time": "2022-12-17T20:55:00.547Z"
   },
   {
    "duration": 6156,
    "start_time": "2022-12-17T20:55:11.274Z"
   },
   {
    "duration": 30,
    "start_time": "2022-12-17T20:56:29.379Z"
   },
   {
    "duration": 2,
    "start_time": "2022-12-17T20:56:31.811Z"
   },
   {
    "duration": 30,
    "start_time": "2022-12-17T20:56:33.833Z"
   },
   {
    "duration": 43,
    "start_time": "2022-12-17T20:56:35.938Z"
   },
   {
    "duration": 3,
    "start_time": "2022-12-17T20:56:38.059Z"
   },
   {
    "duration": 19951,
    "start_time": "2022-12-17T20:56:40.275Z"
   },
   {
    "duration": 27,
    "start_time": "2022-12-17T20:57:00.228Z"
   },
   {
    "duration": 65,
    "start_time": "2022-12-17T20:57:00.257Z"
   },
   {
    "duration": 261,
    "start_time": "2022-12-17T20:57:14.635Z"
   },
   {
    "duration": 53,
    "start_time": "2022-12-17T20:57:24.707Z"
   },
   {
    "duration": 52,
    "start_time": "2022-12-17T21:03:08.560Z"
   },
   {
    "duration": 22,
    "start_time": "2022-12-17T21:03:14.472Z"
   },
   {
    "duration": 62,
    "start_time": "2022-12-17T21:03:25.568Z"
   },
   {
    "duration": 77,
    "start_time": "2022-12-17T21:03:36.711Z"
   },
   {
    "duration": 4,
    "start_time": "2022-12-17T21:03:52.576Z"
   },
   {
    "duration": 101,
    "start_time": "2022-12-17T21:04:55.897Z"
   },
   {
    "duration": 3,
    "start_time": "2022-12-17T21:05:07.390Z"
   },
   {
    "duration": 414,
    "start_time": "2022-12-21T10:55:02.720Z"
   },
   {
    "duration": 2,
    "start_time": "2022-12-21T10:55:03.136Z"
   },
   {
    "duration": 1093,
    "start_time": "2022-12-21T10:55:03.139Z"
   },
   {
    "duration": 120,
    "start_time": "2022-12-21T10:55:04.234Z"
   },
   {
    "duration": 30,
    "start_time": "2022-12-21T10:55:04.357Z"
   },
   {
    "duration": 73,
    "start_time": "2022-12-21T10:55:04.397Z"
   },
   {
    "duration": 469,
    "start_time": "2022-12-21T10:55:04.472Z"
   },
   {
    "duration": 498,
    "start_time": "2022-12-21T10:55:04.943Z"
   },
   {
    "duration": 406,
    "start_time": "2022-12-21T10:55:05.443Z"
   },
   {
    "duration": 5,
    "start_time": "2022-12-21T10:55:05.851Z"
   },
   {
    "duration": 524,
    "start_time": "2022-12-21T10:55:05.857Z"
   },
   {
    "duration": 387,
    "start_time": "2022-12-21T10:55:06.383Z"
   },
   {
    "duration": 89,
    "start_time": "2022-12-21T10:55:06.772Z"
   },
   {
    "duration": 15,
    "start_time": "2022-12-21T10:55:06.863Z"
   },
   {
    "duration": 178,
    "start_time": "2022-12-21T10:55:06.896Z"
   },
   {
    "duration": 21,
    "start_time": "2022-12-21T10:55:07.076Z"
   },
   {
    "duration": 23,
    "start_time": "2022-12-21T10:55:07.099Z"
   },
   {
    "duration": 20,
    "start_time": "2022-12-21T10:55:07.124Z"
   },
   {
    "duration": 21,
    "start_time": "2022-12-21T10:55:07.146Z"
   },
   {
    "duration": 38,
    "start_time": "2022-12-21T10:55:07.168Z"
   },
   {
    "duration": 179,
    "start_time": "2022-12-21T10:55:07.208Z"
   },
   {
    "duration": 22,
    "start_time": "2022-12-21T10:55:07.389Z"
   },
   {
    "duration": 189,
    "start_time": "2022-12-21T10:55:07.412Z"
   },
   {
    "duration": 213,
    "start_time": "2022-12-21T10:55:07.603Z"
   },
   {
    "duration": 31,
    "start_time": "2022-12-21T10:55:07.817Z"
   },
   {
    "duration": 24,
    "start_time": "2022-12-21T10:55:07.849Z"
   },
   {
    "duration": 21,
    "start_time": "2022-12-21T10:55:07.876Z"
   },
   {
    "duration": 33,
    "start_time": "2022-12-21T10:55:07.903Z"
   },
   {
    "duration": 11,
    "start_time": "2022-12-21T10:55:07.938Z"
   },
   {
    "duration": 48,
    "start_time": "2022-12-21T10:55:07.951Z"
   },
   {
    "duration": 10,
    "start_time": "2022-12-21T10:55:08.000Z"
   },
   {
    "duration": 30,
    "start_time": "2022-12-21T10:55:08.012Z"
   },
   {
    "duration": 158,
    "start_time": "2022-12-21T10:55:08.044Z"
   },
   {
    "duration": 19,
    "start_time": "2022-12-21T10:55:08.203Z"
   },
   {
    "duration": 22,
    "start_time": "2022-12-21T10:55:08.224Z"
   },
   {
    "duration": 7,
    "start_time": "2022-12-21T10:55:08.247Z"
   },
   {
    "duration": 10,
    "start_time": "2022-12-21T10:55:08.256Z"
   },
   {
    "duration": 38,
    "start_time": "2022-12-21T10:55:08.268Z"
   },
   {
    "duration": 17,
    "start_time": "2022-12-21T10:55:08.308Z"
   },
   {
    "duration": 209,
    "start_time": "2022-12-21T10:55:08.326Z"
   },
   {
    "duration": 165,
    "start_time": "2022-12-21T10:55:08.537Z"
   },
   {
    "duration": 157,
    "start_time": "2022-12-21T10:55:08.704Z"
   },
   {
    "duration": 7,
    "start_time": "2022-12-21T10:55:08.863Z"
   },
   {
    "duration": 14,
    "start_time": "2022-12-21T10:55:08.871Z"
   },
   {
    "duration": 117,
    "start_time": "2022-12-21T10:55:08.895Z"
   },
   {
    "duration": 152,
    "start_time": "2022-12-21T10:55:09.014Z"
   },
   {
    "duration": 8,
    "start_time": "2022-12-21T10:55:09.168Z"
   },
   {
    "duration": 48,
    "start_time": "2022-12-21T10:55:09.179Z"
   },
   {
    "duration": 17,
    "start_time": "2022-12-21T10:55:09.229Z"
   },
   {
    "duration": 19,
    "start_time": "2022-12-21T10:55:09.248Z"
   },
   {
    "duration": 35,
    "start_time": "2022-12-21T10:55:09.269Z"
   },
   {
    "duration": 41,
    "start_time": "2022-12-21T10:55:09.306Z"
   },
   {
    "duration": 155,
    "start_time": "2022-12-21T10:55:09.349Z"
   },
   {
    "duration": 7,
    "start_time": "2022-12-21T10:55:09.506Z"
   },
   {
    "duration": 198,
    "start_time": "2022-12-21T10:55:09.515Z"
   },
   {
    "duration": 7,
    "start_time": "2022-12-21T10:55:09.715Z"
   },
   {
    "duration": 16,
    "start_time": "2022-12-21T10:55:09.723Z"
   },
   {
    "duration": 32,
    "start_time": "2022-12-21T10:55:09.741Z"
   },
   {
    "duration": 19,
    "start_time": "2022-12-21T10:55:09.797Z"
   },
   {
    "duration": 31,
    "start_time": "2022-12-21T10:55:09.818Z"
   },
   {
    "duration": 18,
    "start_time": "2022-12-21T10:55:09.851Z"
   },
   {
    "duration": 37,
    "start_time": "2022-12-21T10:55:09.871Z"
   },
   {
    "duration": 195,
    "start_time": "2022-12-21T10:55:09.909Z"
   },
   {
    "duration": 19,
    "start_time": "2022-12-21T10:55:10.105Z"
   },
   {
    "duration": 98,
    "start_time": "2022-12-21T10:55:10.126Z"
   },
   {
    "duration": 101,
    "start_time": "2022-12-21T10:55:10.226Z"
   },
   {
    "duration": 155,
    "start_time": "2022-12-21T10:55:10.329Z"
   },
   {
    "duration": 22,
    "start_time": "2022-12-21T10:55:10.485Z"
   },
   {
    "duration": 67,
    "start_time": "2022-12-21T10:55:10.508Z"
   },
   {
    "duration": 23,
    "start_time": "2022-12-21T10:55:10.577Z"
   },
   {
    "duration": 76,
    "start_time": "2022-12-21T10:55:10.601Z"
   },
   {
    "duration": 86,
    "start_time": "2022-12-21T10:55:10.679Z"
   },
   {
    "duration": 84,
    "start_time": "2022-12-21T10:55:10.767Z"
   },
   {
    "duration": 26,
    "start_time": "2022-12-21T10:55:10.854Z"
   },
   {
    "duration": 209,
    "start_time": "2022-12-21T10:55:10.882Z"
   },
   {
    "duration": 56,
    "start_time": "2022-12-21T10:55:11.093Z"
   },
   {
    "duration": 83,
    "start_time": "2022-12-21T10:55:11.150Z"
   },
   {
    "duration": 84,
    "start_time": "2022-12-21T10:55:11.235Z"
   },
   {
    "duration": 8,
    "start_time": "2022-12-21T10:55:11.321Z"
   },
   {
    "duration": 6941,
    "start_time": "2022-12-21T10:55:11.331Z"
   },
   {
    "duration": 4,
    "start_time": "2022-12-21T10:55:18.273Z"
   },
   {
    "duration": 14,
    "start_time": "2022-12-21T10:55:18.283Z"
   },
   {
    "duration": 67,
    "start_time": "2022-12-21T10:55:18.299Z"
   },
   {
    "duration": 44,
    "start_time": "2022-12-21T10:55:18.368Z"
   },
   {
    "duration": 13,
    "start_time": "2022-12-21T10:55:18.414Z"
   },
   {
    "duration": 40,
    "start_time": "2022-12-21T10:55:18.429Z"
   },
   {
    "duration": 39,
    "start_time": "2022-12-21T10:55:18.471Z"
   },
   {
    "duration": 3,
    "start_time": "2022-12-21T10:55:18.512Z"
   },
   {
    "duration": 21326,
    "start_time": "2022-12-21T10:55:18.517Z"
   },
   {
    "duration": 33,
    "start_time": "2022-12-21T10:55:39.844Z"
   },
   {
    "duration": 48,
    "start_time": "2022-12-21T10:55:39.878Z"
   },
   {
    "duration": 332,
    "start_time": "2022-12-21T10:55:39.928Z"
   },
   {
    "duration": 72,
    "start_time": "2022-12-21T10:55:40.262Z"
   },
   {
    "duration": 30,
    "start_time": "2022-12-21T10:55:40.336Z"
   },
   {
    "duration": 4,
    "start_time": "2022-12-21T10:55:40.368Z"
   },
   {
    "duration": 113,
    "start_time": "2022-12-21T10:55:40.374Z"
   },
   {
    "duration": 617,
    "start_time": "2022-12-21T10:59:29.606Z"
   },
   {
    "duration": 450,
    "start_time": "2022-12-21T11:05:16.979Z"
   },
   {
    "duration": 175,
    "start_time": "2022-12-21T11:12:05.907Z"
   },
   {
    "duration": 158,
    "start_time": "2022-12-21T11:14:12.298Z"
   },
   {
    "duration": 4027,
    "start_time": "2022-12-21T11:14:29.027Z"
   },
   {
    "duration": 113,
    "start_time": "2022-12-21T11:14:37.174Z"
   },
   {
    "duration": 4,
    "start_time": "2022-12-21T11:14:50.264Z"
   },
   {
    "duration": 2,
    "start_time": "2022-12-21T11:14:57.724Z"
   },
   {
    "duration": 3,
    "start_time": "2022-12-21T11:22:41.898Z"
   },
   {
    "duration": 617,
    "start_time": "2022-12-21T11:25:20.539Z"
   },
   {
    "duration": 5331,
    "start_time": "2022-12-21T11:26:14.867Z"
   },
   {
    "duration": 543,
    "start_time": "2022-12-21T11:26:48.485Z"
   },
   {
    "duration": 4808,
    "start_time": "2022-12-21T11:27:07.508Z"
   },
   {
    "duration": 45,
    "start_time": "2022-12-21T11:28:24.159Z"
   },
   {
    "duration": 4,
    "start_time": "2022-12-21T11:34:07.665Z"
   },
   {
    "duration": 4,
    "start_time": "2022-12-21T11:35:11.698Z"
   },
   {
    "duration": 97,
    "start_time": "2022-12-21T11:36:00.123Z"
   },
   {
    "duration": 49,
    "start_time": "2022-12-21T11:36:53.414Z"
   },
   {
    "duration": 43434,
    "start_time": "2022-12-21T11:37:30.924Z"
   },
   {
    "duration": 65132,
    "start_time": "2022-12-21T11:38:33.486Z"
   },
   {
    "duration": 11487687,
    "start_time": "2022-12-21T11:39:42.494Z"
   },
   {
    "duration": 22689,
    "start_time": "2022-12-21T14:52:13.368Z"
   },
   {
    "duration": 13165,
    "start_time": "2022-12-21T14:52:39.782Z"
   },
   {
    "duration": 93055,
    "start_time": "2022-12-21T14:53:37.479Z"
   },
   {
    "duration": 14530,
    "start_time": "2022-12-21T14:55:18.401Z"
   },
   {
    "duration": 195223,
    "start_time": "2022-12-21T14:55:43.584Z"
   },
   {
    "duration": 158,
    "start_time": "2022-12-21T15:05:35.790Z"
   },
   {
    "duration": 98,
    "start_time": "2022-12-21T15:05:54.299Z"
   },
   {
    "duration": 4,
    "start_time": "2022-12-21T15:07:16.517Z"
   },
   {
    "duration": 3,
    "start_time": "2022-12-21T15:09:25.519Z"
   },
   {
    "duration": 106,
    "start_time": "2022-12-21T15:09:41.112Z"
   },
   {
    "duration": 75,
    "start_time": "2022-12-21T15:09:49.032Z"
   },
   {
    "duration": 11211,
    "start_time": "2022-12-21T15:10:23.713Z"
   },
   {
    "duration": 22367,
    "start_time": "2022-12-21T15:12:04.827Z"
   },
   {
    "duration": 3,
    "start_time": "2022-12-21T15:13:22.579Z"
   },
   {
    "duration": 22542,
    "start_time": "2022-12-21T15:13:30.387Z"
   },
   {
    "duration": 4,
    "start_time": "2022-12-21T15:14:51.638Z"
   },
   {
    "duration": 3,
    "start_time": "2022-12-21T15:15:29.529Z"
   },
   {
    "duration": 12860,
    "start_time": "2022-12-21T15:15:34.381Z"
   },
   {
    "duration": 4,
    "start_time": "2022-12-21T15:15:55.525Z"
   },
   {
    "duration": 23407,
    "start_time": "2022-12-21T15:16:00.238Z"
   },
   {
    "duration": 4,
    "start_time": "2022-12-21T15:17:06.629Z"
   },
   {
    "duration": 7,
    "start_time": "2022-12-21T15:17:47.782Z"
   },
   {
    "duration": 82,
    "start_time": "2022-12-21T15:17:51.470Z"
   },
   {
    "duration": 5,
    "start_time": "2022-12-21T15:18:16.320Z"
   },
   {
    "duration": 111,
    "start_time": "2022-12-21T15:18:20.135Z"
   },
   {
    "duration": 14734,
    "start_time": "2022-12-21T15:18:28.174Z"
   },
   {
    "duration": 3,
    "start_time": "2022-12-21T15:25:19.752Z"
   },
   {
    "duration": 14836,
    "start_time": "2022-12-21T15:25:23.220Z"
   },
   {
    "duration": 3,
    "start_time": "2022-12-21T15:26:05.559Z"
   },
   {
    "duration": 16430,
    "start_time": "2022-12-21T15:26:20.540Z"
   },
   {
    "duration": 2004579,
    "start_time": "2022-12-21T15:26:45.014Z"
   },
   {
    "duration": 42,
    "start_time": "2022-12-21T16:00:09.596Z"
   },
   {
    "duration": 15961239,
    "start_time": "2022-12-21T16:00:22.113Z"
   },
   {
    "duration": 35,
    "start_time": "2022-12-21T20:26:23.355Z"
   },
   {
    "duration": 4,
    "start_time": "2022-12-21T20:31:21.609Z"
   },
   {
    "duration": 25,
    "start_time": "2022-12-21T20:32:28.701Z"
   },
   {
    "duration": 158186,
    "start_time": "2022-12-21T20:32:39.576Z"
   },
   {
    "duration": 187044,
    "start_time": "2022-12-21T20:35:26.555Z"
   },
   {
    "duration": 29,
    "start_time": "2022-12-21T20:38:41.494Z"
   },
   {
    "duration": 3,
    "start_time": "2022-12-21T20:41:29.342Z"
   },
   {
    "duration": 2,
    "start_time": "2022-12-21T20:41:34.574Z"
   },
   {
    "duration": 14,
    "start_time": "2022-12-21T20:43:12.119Z"
   },
   {
    "duration": 10,
    "start_time": "2022-12-21T20:43:43.982Z"
   },
   {
    "duration": 2,
    "start_time": "2022-12-21T20:46:11.080Z"
   },
   {
    "duration": 87554,
    "start_time": "2022-12-21T20:46:19.231Z"
   },
   {
    "duration": 37849,
    "start_time": "2022-12-21T20:48:19.902Z"
   },
   {
    "duration": 389738,
    "start_time": "2022-12-21T20:48:59.001Z"
   },
   {
    "duration": 201,
    "start_time": "2022-12-21T20:55:28.741Z"
   },
   {
    "duration": 4,
    "start_time": "2022-12-21T20:55:28.943Z"
   },
   {
    "duration": 209,
    "start_time": "2022-12-21T20:55:30.694Z"
   },
   {
    "duration": 201,
    "start_time": "2022-12-21T20:56:27.388Z"
   },
   {
    "duration": 2,
    "start_time": "2022-12-21T20:56:58.049Z"
   },
   {
    "duration": 210,
    "start_time": "2022-12-21T20:57:04.118Z"
   },
   {
    "duration": 216,
    "start_time": "2022-12-21T20:57:43.741Z"
   },
   {
    "duration": 3,
    "start_time": "2022-12-21T20:58:21.174Z"
   },
   {
    "duration": 7930001,
    "start_time": "2022-12-21T20:59:03.615Z"
   },
   {
    "duration": 1289,
    "start_time": "2022-12-21T23:11:13.619Z"
   },
   {
    "duration": 6422460,
    "start_time": "2022-12-21T23:11:14.909Z"
   },
   {
    "duration": 1183,
    "start_time": "2022-12-22T00:58:17.371Z"
   },
   {
    "duration": 1388871,
    "start_time": "2022-12-22T07:03:34.375Z"
   },
   {
    "duration": 1753,
    "start_time": "2022-12-22T07:26:43.248Z"
   },
   {
    "duration": 1220901,
    "start_time": "2022-12-22T07:26:45.003Z"
   },
   {
    "duration": 1595,
    "start_time": "2022-12-22T07:47:05.907Z"
   },
   {
    "duration": 7404105,
    "start_time": "2022-12-22T07:49:45.201Z"
   },
   {
    "duration": 6038178,
    "start_time": "2022-12-22T09:53:09.309Z"
   },
   {
    "duration": 5531,
    "start_time": "2022-12-22T11:34:12.492Z"
   },
   {
    "duration": 6005,
    "start_time": "2022-12-22T11:34:25.766Z"
   },
   {
    "duration": 108,
    "start_time": "2022-12-22T11:38:43.000Z"
   },
   {
    "duration": 23,
    "start_time": "2022-12-22T11:40:36.119Z"
   },
   {
    "duration": 4,
    "start_time": "2022-12-22T11:40:42.252Z"
   },
   {
    "duration": 5592,
    "start_time": "2022-12-22T11:40:46.226Z"
   },
   {
    "duration": 23896,
    "start_time": "2022-12-22T11:40:56.641Z"
   },
   {
    "duration": 3427744,
    "start_time": "2022-12-22T11:42:24.937Z"
   },
   {
    "duration": 5686,
    "start_time": "2022-12-22T12:40:59.147Z"
   },
   {
    "duration": 4719,
    "start_time": "2022-12-22T12:41:41.942Z"
   },
   {
    "duration": 3306673,
    "start_time": "2022-12-22T12:41:52.424Z"
   },
   {
    "duration": 5416,
    "start_time": "2022-12-22T13:36:59.099Z"
   },
   {
    "duration": 9703,
    "start_time": "2022-12-22T13:44:23.436Z"
   },
   {
    "duration": 363714,
    "start_time": "2022-12-22T13:45:22.203Z"
   },
   {
    "duration": 3210106,
    "start_time": "2022-12-22T13:51:32.107Z"
   },
   {
    "duration": 3862740,
    "start_time": "2022-12-22T14:46:49.354Z"
   },
   {
    "duration": 1121992,
    "start_time": "2022-12-22T15:55:03.777Z"
   },
   {
    "duration": 5385,
    "start_time": "2022-12-22T16:13:45.772Z"
   },
   {
    "duration": 5,
    "start_time": "2022-12-22T16:13:51.159Z"
   },
   {
    "duration": 297,
    "start_time": "2022-12-22T16:13:51.166Z"
   },
   {
    "duration": 5,
    "start_time": "2022-12-22T16:16:18.357Z"
   },
   {
    "duration": 4,
    "start_time": "2022-12-22T16:19:28.025Z"
   },
   {
    "duration": 4,
    "start_time": "2022-12-22T16:21:57.661Z"
   },
   {
    "duration": 8367,
    "start_time": "2022-12-22T16:23:01.531Z"
   },
   {
    "duration": 15,
    "start_time": "2022-12-22T16:24:12.731Z"
   },
   {
    "duration": 13,
    "start_time": "2022-12-22T16:24:26.557Z"
   },
   {
    "duration": 5,
    "start_time": "2022-12-22T16:24:37.292Z"
   },
   {
    "duration": 6963,
    "start_time": "2022-12-22T16:25:30.541Z"
   },
   {
    "duration": 184,
    "start_time": "2022-12-22T16:26:17.734Z"
   },
   {
    "duration": 7478,
    "start_time": "2022-12-22T16:26:50.727Z"
   },
   {
    "duration": 7582,
    "start_time": "2022-12-22T16:27:44.823Z"
   },
   {
    "duration": 5,
    "start_time": "2022-12-22T16:28:24.953Z"
   },
   {
    "duration": 91,
    "start_time": "2022-12-22T16:29:17.903Z"
   },
   {
    "duration": 1559,
    "start_time": "2022-12-22T16:29:58.285Z"
   },
   {
    "duration": 15,
    "start_time": "2022-12-22T16:29:59.846Z"
   },
   {
    "duration": 16,
    "start_time": "2022-12-22T16:29:59.863Z"
   },
   {
    "duration": 4,
    "start_time": "2022-12-22T16:29:59.881Z"
   },
   {
    "duration": 1153,
    "start_time": "2022-12-22T16:29:59.887Z"
   },
   {
    "duration": 132,
    "start_time": "2022-12-22T16:30:01.042Z"
   },
   {
    "duration": 45,
    "start_time": "2022-12-22T16:30:01.176Z"
   },
   {
    "duration": 89,
    "start_time": "2022-12-22T16:30:01.222Z"
   },
   {
    "duration": 260,
    "start_time": "2022-12-22T16:30:01.313Z"
   },
   {
    "duration": 501,
    "start_time": "2022-12-22T16:30:01.577Z"
   },
   {
    "duration": 422,
    "start_time": "2022-12-22T16:30:02.080Z"
   },
   {
    "duration": 4,
    "start_time": "2022-12-22T16:30:02.504Z"
   },
   {
    "duration": 461,
    "start_time": "2022-12-22T16:30:02.510Z"
   },
   {
    "duration": 373,
    "start_time": "2022-12-22T16:30:02.973Z"
   },
   {
    "duration": 89,
    "start_time": "2022-12-22T16:30:03.348Z"
   },
   {
    "duration": 14,
    "start_time": "2022-12-22T16:30:03.439Z"
   },
   {
    "duration": 259,
    "start_time": "2022-12-22T16:30:03.454Z"
   },
   {
    "duration": 13,
    "start_time": "2022-12-22T16:30:03.715Z"
   },
   {
    "duration": 24,
    "start_time": "2022-12-22T16:30:03.729Z"
   },
   {
    "duration": 20,
    "start_time": "2022-12-22T16:30:03.755Z"
   },
   {
    "duration": 24,
    "start_time": "2022-12-22T16:30:03.797Z"
   },
   {
    "duration": 22,
    "start_time": "2022-12-22T16:30:03.823Z"
   },
   {
    "duration": 186,
    "start_time": "2022-12-22T16:30:03.847Z"
   },
   {
    "duration": 18,
    "start_time": "2022-12-22T16:30:04.034Z"
   },
   {
    "duration": 188,
    "start_time": "2022-12-22T16:30:04.054Z"
   },
   {
    "duration": 166,
    "start_time": "2022-12-22T16:30:04.244Z"
   },
   {
    "duration": 29,
    "start_time": "2022-12-22T16:30:04.412Z"
   },
   {
    "duration": 24,
    "start_time": "2022-12-22T16:30:04.445Z"
   },
   {
    "duration": 27,
    "start_time": "2022-12-22T16:30:04.470Z"
   },
   {
    "duration": 28,
    "start_time": "2022-12-22T16:30:04.498Z"
   },
   {
    "duration": 9,
    "start_time": "2022-12-22T16:30:04.528Z"
   },
   {
    "duration": 31,
    "start_time": "2022-12-22T16:30:04.539Z"
   },
   {
    "duration": 30,
    "start_time": "2022-12-22T16:30:04.572Z"
   },
   {
    "duration": 29,
    "start_time": "2022-12-22T16:30:04.604Z"
   },
   {
    "duration": 150,
    "start_time": "2022-12-22T16:30:04.635Z"
   },
   {
    "duration": 28,
    "start_time": "2022-12-22T16:30:04.787Z"
   },
   {
    "duration": 45,
    "start_time": "2022-12-22T16:30:04.817Z"
   },
   {
    "duration": 17,
    "start_time": "2022-12-22T16:30:04.864Z"
   },
   {
    "duration": 12,
    "start_time": "2022-12-22T16:30:04.883Z"
   },
   {
    "duration": 23,
    "start_time": "2022-12-22T16:30:04.898Z"
   },
   {
    "duration": 23,
    "start_time": "2022-12-22T16:30:04.923Z"
   },
   {
    "duration": 223,
    "start_time": "2022-12-22T16:30:04.948Z"
   },
   {
    "duration": 176,
    "start_time": "2022-12-22T16:30:05.173Z"
   },
   {
    "duration": 152,
    "start_time": "2022-12-22T16:30:05.350Z"
   },
   {
    "duration": 5,
    "start_time": "2022-12-22T16:30:05.504Z"
   },
   {
    "duration": 7,
    "start_time": "2022-12-22T16:30:05.511Z"
   },
   {
    "duration": 127,
    "start_time": "2022-12-22T16:30:05.520Z"
   },
   {
    "duration": 164,
    "start_time": "2022-12-22T16:30:05.649Z"
   },
   {
    "duration": 7,
    "start_time": "2022-12-22T16:30:05.815Z"
   },
   {
    "duration": 39,
    "start_time": "2022-12-22T16:30:05.823Z"
   },
   {
    "duration": 27,
    "start_time": "2022-12-22T16:30:05.864Z"
   },
   {
    "duration": 45,
    "start_time": "2022-12-22T16:30:05.893Z"
   },
   {
    "duration": 25,
    "start_time": "2022-12-22T16:30:05.939Z"
   },
   {
    "duration": 36,
    "start_time": "2022-12-22T16:30:05.966Z"
   },
   {
    "duration": 161,
    "start_time": "2022-12-22T16:30:06.004Z"
   },
   {
    "duration": 11,
    "start_time": "2022-12-22T16:30:06.170Z"
   },
   {
    "duration": 269,
    "start_time": "2022-12-22T16:30:06.183Z"
   },
   {
    "duration": 9,
    "start_time": "2022-12-22T16:30:06.454Z"
   },
   {
    "duration": 34,
    "start_time": "2022-12-22T16:30:06.467Z"
   },
   {
    "duration": 36,
    "start_time": "2022-12-22T16:30:06.503Z"
   },
   {
    "duration": 27,
    "start_time": "2022-12-22T16:30:06.540Z"
   },
   {
    "duration": 34,
    "start_time": "2022-12-22T16:30:06.568Z"
   },
   {
    "duration": 17,
    "start_time": "2022-12-22T16:30:06.604Z"
   },
   {
    "duration": 23,
    "start_time": "2022-12-22T16:30:06.623Z"
   },
   {
    "duration": 198,
    "start_time": "2022-12-22T16:30:06.648Z"
   },
   {
    "duration": 20,
    "start_time": "2022-12-22T16:30:06.848Z"
   },
   {
    "duration": 79,
    "start_time": "2022-12-22T16:30:06.870Z"
   },
   {
    "duration": 95,
    "start_time": "2022-12-22T16:30:06.950Z"
   },
   {
    "duration": 263,
    "start_time": "2022-12-22T16:30:07.047Z"
   },
   {
    "duration": 14,
    "start_time": "2022-12-22T16:30:07.312Z"
   },
   {
    "duration": 78,
    "start_time": "2022-12-22T16:30:07.328Z"
   },
   {
    "duration": 12,
    "start_time": "2022-12-22T16:30:07.408Z"
   },
   {
    "duration": 90,
    "start_time": "2022-12-22T16:30:07.422Z"
   },
   {
    "duration": 88,
    "start_time": "2022-12-22T16:30:07.514Z"
   },
   {
    "duration": 75,
    "start_time": "2022-12-22T16:30:07.604Z"
   },
   {
    "duration": 41,
    "start_time": "2022-12-22T16:30:07.680Z"
   },
   {
    "duration": 201,
    "start_time": "2022-12-22T16:30:07.723Z"
   },
   {
    "duration": 57,
    "start_time": "2022-12-22T16:30:07.926Z"
   },
   {
    "duration": 74,
    "start_time": "2022-12-22T16:30:07.996Z"
   },
   {
    "duration": 92,
    "start_time": "2022-12-22T16:30:08.071Z"
   },
   {
    "duration": 4,
    "start_time": "2022-12-22T16:30:08.165Z"
   },
   {
    "duration": 7007,
    "start_time": "2022-12-22T16:30:08.176Z"
   },
   {
    "duration": 12,
    "start_time": "2022-12-22T16:30:15.184Z"
   },
   {
    "duration": 9,
    "start_time": "2022-12-22T16:30:15.198Z"
   },
   {
    "duration": 69,
    "start_time": "2022-12-22T16:30:15.209Z"
   },
   {
    "duration": 44,
    "start_time": "2022-12-22T16:30:15.279Z"
   },
   {
    "duration": 11,
    "start_time": "2022-12-22T16:30:15.324Z"
   },
   {
    "duration": 56,
    "start_time": "2022-12-22T16:30:15.337Z"
   },
   {
    "duration": 39,
    "start_time": "2022-12-22T16:30:15.395Z"
   },
   {
    "duration": 24,
    "start_time": "2022-12-22T16:30:15.435Z"
   },
   {
    "duration": 22692,
    "start_time": "2022-12-22T16:30:15.461Z"
   },
   {
    "duration": 30,
    "start_time": "2022-12-22T16:30:38.155Z"
   },
   {
    "duration": 28,
    "start_time": "2022-12-22T16:30:38.197Z"
   },
   {
    "duration": 329,
    "start_time": "2022-12-22T16:30:38.227Z"
   },
   {
    "duration": 67,
    "start_time": "2022-12-22T16:30:38.558Z"
   },
   {
    "duration": 24,
    "start_time": "2022-12-22T16:30:38.627Z"
   },
   {
    "duration": 4,
    "start_time": "2022-12-22T16:30:38.653Z"
   },
   {
    "duration": 110,
    "start_time": "2022-12-22T16:30:38.658Z"
   },
   {
    "duration": 463,
    "start_time": "2022-12-22T16:30:38.770Z"
   },
   {
    "duration": 153,
    "start_time": "2022-12-22T16:30:39.234Z"
   },
   {
    "duration": 636,
    "start_time": "2022-12-22T16:30:39.388Z"
   },
   {
    "duration": 5162,
    "start_time": "2022-12-22T16:30:40.026Z"
   },
   {
    "duration": 557,
    "start_time": "2022-12-22T16:30:45.190Z"
   },
   {
    "duration": 4495,
    "start_time": "2022-12-22T16:30:45.749Z"
   },
   {
    "duration": 1713,
    "start_time": "2022-12-22T16:31:41.854Z"
   },
   {
    "duration": 4,
    "start_time": "2022-12-22T16:32:33.054Z"
   },
   {
    "duration": 6,
    "start_time": "2022-12-22T16:32:33.060Z"
   },
   {
    "duration": 4,
    "start_time": "2022-12-22T16:32:33.068Z"
   },
   {
    "duration": 4,
    "start_time": "2022-12-22T16:32:33.074Z"
   },
   {
    "duration": 1024,
    "start_time": "2022-12-22T16:32:33.080Z"
   },
   {
    "duration": 113,
    "start_time": "2022-12-22T16:32:34.106Z"
   },
   {
    "duration": 26,
    "start_time": "2022-12-22T16:32:34.221Z"
   },
   {
    "duration": 86,
    "start_time": "2022-12-22T16:32:34.249Z"
   },
   {
    "duration": 243,
    "start_time": "2022-12-22T16:32:34.337Z"
   },
   {
    "duration": 411,
    "start_time": "2022-12-22T16:32:34.582Z"
   },
   {
    "duration": 385,
    "start_time": "2022-12-22T16:32:34.996Z"
   },
   {
    "duration": 4,
    "start_time": "2022-12-22T16:32:35.382Z"
   },
   {
    "duration": 418,
    "start_time": "2022-12-22T16:32:35.387Z"
   },
   {
    "duration": 389,
    "start_time": "2022-12-22T16:32:35.807Z"
   },
   {
    "duration": 110,
    "start_time": "2022-12-22T16:32:36.198Z"
   },
   {
    "duration": 18,
    "start_time": "2022-12-22T16:32:36.311Z"
   },
   {
    "duration": 262,
    "start_time": "2022-12-22T16:32:36.331Z"
   },
   {
    "duration": 14,
    "start_time": "2022-12-22T16:32:36.594Z"
   },
   {
    "duration": 22,
    "start_time": "2022-12-22T16:32:36.612Z"
   },
   {
    "duration": 22,
    "start_time": "2022-12-22T16:32:36.636Z"
   },
   {
    "duration": 47,
    "start_time": "2022-12-22T16:32:36.660Z"
   },
   {
    "duration": 27,
    "start_time": "2022-12-22T16:32:36.709Z"
   },
   {
    "duration": 176,
    "start_time": "2022-12-22T16:32:36.738Z"
   },
   {
    "duration": 17,
    "start_time": "2022-12-22T16:32:36.916Z"
   },
   {
    "duration": 189,
    "start_time": "2022-12-22T16:32:36.935Z"
   },
   {
    "duration": 146,
    "start_time": "2022-12-22T16:32:37.126Z"
   },
   {
    "duration": 36,
    "start_time": "2022-12-22T16:32:37.274Z"
   },
   {
    "duration": 22,
    "start_time": "2022-12-22T16:32:37.311Z"
   },
   {
    "duration": 4,
    "start_time": "2022-12-22T16:32:37.334Z"
   },
   {
    "duration": 26,
    "start_time": "2022-12-22T16:32:37.340Z"
   },
   {
    "duration": 34,
    "start_time": "2022-12-22T16:32:37.368Z"
   },
   {
    "duration": 28,
    "start_time": "2022-12-22T16:32:37.404Z"
   },
   {
    "duration": 10,
    "start_time": "2022-12-22T16:32:37.434Z"
   },
   {
    "duration": 52,
    "start_time": "2022-12-22T16:32:37.445Z"
   },
   {
    "duration": 145,
    "start_time": "2022-12-22T16:32:37.499Z"
   },
   {
    "duration": 20,
    "start_time": "2022-12-22T16:32:37.646Z"
   },
   {
    "duration": 30,
    "start_time": "2022-12-22T16:32:37.669Z"
   },
   {
    "duration": 6,
    "start_time": "2022-12-22T16:32:37.701Z"
   },
   {
    "duration": 9,
    "start_time": "2022-12-22T16:32:37.709Z"
   },
   {
    "duration": 16,
    "start_time": "2022-12-22T16:32:37.719Z"
   },
   {
    "duration": 15,
    "start_time": "2022-12-22T16:32:37.737Z"
   },
   {
    "duration": 233,
    "start_time": "2022-12-22T16:32:37.754Z"
   },
   {
    "duration": 183,
    "start_time": "2022-12-22T16:32:37.989Z"
   },
   {
    "duration": 147,
    "start_time": "2022-12-22T16:32:38.174Z"
   },
   {
    "duration": 5,
    "start_time": "2022-12-22T16:32:38.322Z"
   },
   {
    "duration": 8,
    "start_time": "2022-12-22T16:32:38.329Z"
   },
   {
    "duration": 121,
    "start_time": "2022-12-22T16:32:38.338Z"
   },
   {
    "duration": 148,
    "start_time": "2022-12-22T16:32:38.461Z"
   },
   {
    "duration": 6,
    "start_time": "2022-12-22T16:32:38.611Z"
   },
   {
    "duration": 23,
    "start_time": "2022-12-22T16:32:38.619Z"
   },
   {
    "duration": 21,
    "start_time": "2022-12-22T16:32:38.644Z"
   },
   {
    "duration": 32,
    "start_time": "2022-12-22T16:32:38.669Z"
   },
   {
    "duration": 19,
    "start_time": "2022-12-22T16:32:38.703Z"
   },
   {
    "duration": 32,
    "start_time": "2022-12-22T16:32:38.723Z"
   },
   {
    "duration": 158,
    "start_time": "2022-12-22T16:32:38.757Z"
   },
   {
    "duration": 8,
    "start_time": "2022-12-22T16:32:38.917Z"
   },
   {
    "duration": 204,
    "start_time": "2022-12-22T16:32:38.927Z"
   },
   {
    "duration": 8,
    "start_time": "2022-12-22T16:32:39.134Z"
   },
   {
    "duration": 16,
    "start_time": "2022-12-22T16:32:39.144Z"
   },
   {
    "duration": 53,
    "start_time": "2022-12-22T16:32:39.162Z"
   },
   {
    "duration": 24,
    "start_time": "2022-12-22T16:32:39.217Z"
   },
   {
    "duration": 30,
    "start_time": "2022-12-22T16:32:39.243Z"
   },
   {
    "duration": 29,
    "start_time": "2022-12-22T16:32:39.275Z"
   },
   {
    "duration": 20,
    "start_time": "2022-12-22T16:32:39.306Z"
   },
   {
    "duration": 192,
    "start_time": "2022-12-22T16:32:39.328Z"
   },
   {
    "duration": 20,
    "start_time": "2022-12-22T16:32:39.522Z"
   },
   {
    "duration": 75,
    "start_time": "2022-12-22T16:32:39.543Z"
   },
   {
    "duration": 91,
    "start_time": "2022-12-22T16:32:39.620Z"
   },
   {
    "duration": 253,
    "start_time": "2022-12-22T16:32:39.713Z"
   },
   {
    "duration": 29,
    "start_time": "2022-12-22T16:32:39.968Z"
   },
   {
    "duration": 68,
    "start_time": "2022-12-22T16:32:39.999Z"
   },
   {
    "duration": 31,
    "start_time": "2022-12-22T16:32:40.069Z"
   },
   {
    "duration": 98,
    "start_time": "2022-12-22T16:32:40.102Z"
   },
   {
    "duration": 102,
    "start_time": "2022-12-22T16:32:40.202Z"
   },
   {
    "duration": 97,
    "start_time": "2022-12-22T16:32:40.306Z"
   },
   {
    "duration": 29,
    "start_time": "2022-12-22T16:32:40.405Z"
   },
   {
    "duration": 194,
    "start_time": "2022-12-22T16:32:40.436Z"
   },
   {
    "duration": 47,
    "start_time": "2022-12-22T16:32:40.631Z"
   },
   {
    "duration": 56,
    "start_time": "2022-12-22T16:32:40.680Z"
   },
   {
    "duration": 82,
    "start_time": "2022-12-22T16:32:40.738Z"
   },
   {
    "duration": 3,
    "start_time": "2022-12-22T16:32:40.822Z"
   },
   {
    "duration": 6965,
    "start_time": "2022-12-22T16:32:40.827Z"
   },
   {
    "duration": 4,
    "start_time": "2022-12-22T16:32:47.796Z"
   },
   {
    "duration": 29,
    "start_time": "2022-12-22T16:32:47.801Z"
   },
   {
    "duration": 58,
    "start_time": "2022-12-22T16:32:47.831Z"
   },
   {
    "duration": 34,
    "start_time": "2022-12-22T16:32:47.891Z"
   },
   {
    "duration": 12,
    "start_time": "2022-12-22T16:32:47.927Z"
   },
   {
    "duration": 47,
    "start_time": "2022-12-22T16:32:47.941Z"
   },
   {
    "duration": 54,
    "start_time": "2022-12-22T16:32:47.990Z"
   },
   {
    "duration": 10,
    "start_time": "2022-12-22T16:32:48.045Z"
   },
   {
    "duration": 22003,
    "start_time": "2022-12-22T16:32:48.056Z"
   },
   {
    "duration": 38,
    "start_time": "2022-12-22T16:33:10.060Z"
   },
   {
    "duration": 32,
    "start_time": "2022-12-22T16:33:10.100Z"
   },
   {
    "duration": 327,
    "start_time": "2022-12-22T16:33:10.134Z"
   },
   {
    "duration": 62,
    "start_time": "2022-12-22T16:33:10.463Z"
   },
   {
    "duration": 56,
    "start_time": "2022-12-22T16:33:10.527Z"
   },
   {
    "duration": 4,
    "start_time": "2022-12-22T16:33:10.585Z"
   },
   {
    "duration": 101,
    "start_time": "2022-12-22T16:33:10.591Z"
   },
   {
    "duration": 429,
    "start_time": "2022-12-22T16:33:10.694Z"
   },
   {
    "duration": 157,
    "start_time": "2022-12-22T16:33:11.125Z"
   },
   {
    "duration": 631,
    "start_time": "2022-12-22T16:33:11.283Z"
   },
   {
    "duration": 5231,
    "start_time": "2022-12-22T16:33:11.915Z"
   },
   {
    "duration": 560,
    "start_time": "2022-12-22T16:33:17.148Z"
   },
   {
    "duration": 4548,
    "start_time": "2022-12-22T16:33:17.710Z"
   },
   {
    "duration": 1513,
    "start_time": "2022-12-22T16:34:22.726Z"
   },
   {
    "duration": 3,
    "start_time": "2022-12-22T16:34:24.242Z"
   },
   {
    "duration": 19,
    "start_time": "2022-12-22T16:34:24.247Z"
   },
   {
    "duration": 8,
    "start_time": "2022-12-22T16:34:24.269Z"
   },
   {
    "duration": 1290,
    "start_time": "2022-12-22T16:34:24.278Z"
   },
   {
    "duration": 117,
    "start_time": "2022-12-22T16:34:25.570Z"
   },
   {
    "duration": 33,
    "start_time": "2022-12-22T16:34:25.690Z"
   },
   {
    "duration": 84,
    "start_time": "2022-12-22T16:34:25.725Z"
   },
   {
    "duration": 259,
    "start_time": "2022-12-22T16:34:25.811Z"
   },
   {
    "duration": 615,
    "start_time": "2022-12-22T16:34:26.074Z"
   },
   {
    "duration": 413,
    "start_time": "2022-12-22T16:34:26.691Z"
   },
   {
    "duration": 5,
    "start_time": "2022-12-22T16:34:27.106Z"
   },
   {
    "duration": 513,
    "start_time": "2022-12-22T16:34:27.113Z"
   },
   {
    "duration": 433,
    "start_time": "2022-12-22T16:34:27.628Z"
   },
   {
    "duration": 115,
    "start_time": "2022-12-22T16:34:28.063Z"
   },
   {
    "duration": 27,
    "start_time": "2022-12-22T16:34:28.180Z"
   },
   {
    "duration": 295,
    "start_time": "2022-12-22T16:34:28.209Z"
   },
   {
    "duration": 14,
    "start_time": "2022-12-22T16:34:28.506Z"
   },
   {
    "duration": 24,
    "start_time": "2022-12-22T16:34:28.522Z"
   },
   {
    "duration": 20,
    "start_time": "2022-12-22T16:34:28.548Z"
   },
   {
    "duration": 17,
    "start_time": "2022-12-22T16:34:28.597Z"
   },
   {
    "duration": 17,
    "start_time": "2022-12-22T16:34:28.616Z"
   },
   {
    "duration": 210,
    "start_time": "2022-12-22T16:34:28.635Z"
   },
   {
    "duration": 19,
    "start_time": "2022-12-22T16:34:28.846Z"
   },
   {
    "duration": 178,
    "start_time": "2022-12-22T16:34:28.867Z"
   },
   {
    "duration": 159,
    "start_time": "2022-12-22T16:34:29.047Z"
   },
   {
    "duration": 33,
    "start_time": "2022-12-22T16:34:29.208Z"
   },
   {
    "duration": 28,
    "start_time": "2022-12-22T16:34:29.245Z"
   },
   {
    "duration": 4,
    "start_time": "2022-12-22T16:34:29.296Z"
   },
   {
    "duration": 32,
    "start_time": "2022-12-22T16:34:29.302Z"
   },
   {
    "duration": 13,
    "start_time": "2022-12-22T16:34:29.335Z"
   },
   {
    "duration": 37,
    "start_time": "2022-12-22T16:34:29.350Z"
   },
   {
    "duration": 10,
    "start_time": "2022-12-22T16:34:29.397Z"
   },
   {
    "duration": 40,
    "start_time": "2022-12-22T16:34:29.409Z"
   },
   {
    "duration": 169,
    "start_time": "2022-12-22T16:34:29.451Z"
   },
   {
    "duration": 20,
    "start_time": "2022-12-22T16:34:29.622Z"
   },
   {
    "duration": 30,
    "start_time": "2022-12-22T16:34:29.644Z"
   },
   {
    "duration": 21,
    "start_time": "2022-12-22T16:34:29.676Z"
   },
   {
    "duration": 12,
    "start_time": "2022-12-22T16:34:29.699Z"
   },
   {
    "duration": 26,
    "start_time": "2022-12-22T16:34:29.713Z"
   },
   {
    "duration": 17,
    "start_time": "2022-12-22T16:34:29.741Z"
   },
   {
    "duration": 231,
    "start_time": "2022-12-22T16:34:29.759Z"
   },
   {
    "duration": 189,
    "start_time": "2022-12-22T16:34:29.996Z"
   },
   {
    "duration": 193,
    "start_time": "2022-12-22T16:34:30.187Z"
   },
   {
    "duration": 5,
    "start_time": "2022-12-22T16:34:30.382Z"
   },
   {
    "duration": 24,
    "start_time": "2022-12-22T16:34:30.389Z"
   },
   {
    "duration": 138,
    "start_time": "2022-12-22T16:34:30.415Z"
   },
   {
    "duration": 164,
    "start_time": "2022-12-22T16:34:30.556Z"
   },
   {
    "duration": 8,
    "start_time": "2022-12-22T16:34:30.721Z"
   },
   {
    "duration": 88,
    "start_time": "2022-12-22T16:34:30.730Z"
   },
   {
    "duration": 56,
    "start_time": "2022-12-22T16:34:30.819Z"
   },
   {
    "duration": 33,
    "start_time": "2022-12-22T16:34:30.877Z"
   },
   {
    "duration": 34,
    "start_time": "2022-12-22T16:34:30.912Z"
   },
   {
    "duration": 78,
    "start_time": "2022-12-22T16:34:30.948Z"
   },
   {
    "duration": 200,
    "start_time": "2022-12-22T16:34:31.027Z"
   },
   {
    "duration": 8,
    "start_time": "2022-12-22T16:34:31.228Z"
   },
   {
    "duration": 252,
    "start_time": "2022-12-22T16:34:31.237Z"
   },
   {
    "duration": 9,
    "start_time": "2022-12-22T16:34:31.496Z"
   },
   {
    "duration": 34,
    "start_time": "2022-12-22T16:34:31.506Z"
   },
   {
    "duration": 50,
    "start_time": "2022-12-22T16:34:31.541Z"
   },
   {
    "duration": 56,
    "start_time": "2022-12-22T16:34:31.593Z"
   },
   {
    "duration": 37,
    "start_time": "2022-12-22T16:34:31.651Z"
   },
   {
    "duration": 30,
    "start_time": "2022-12-22T16:34:31.689Z"
   },
   {
    "duration": 20,
    "start_time": "2022-12-22T16:34:31.721Z"
   },
   {
    "duration": 192,
    "start_time": "2022-12-22T16:34:31.743Z"
   },
   {
    "duration": 23,
    "start_time": "2022-12-22T16:34:31.938Z"
   },
   {
    "duration": 96,
    "start_time": "2022-12-22T16:34:31.963Z"
   },
   {
    "duration": 100,
    "start_time": "2022-12-22T16:34:32.061Z"
   },
   {
    "duration": 256,
    "start_time": "2022-12-22T16:34:32.163Z"
   },
   {
    "duration": 13,
    "start_time": "2022-12-22T16:34:32.421Z"
   },
   {
    "duration": 81,
    "start_time": "2022-12-22T16:34:32.436Z"
   },
   {
    "duration": 12,
    "start_time": "2022-12-22T16:34:32.519Z"
   },
   {
    "duration": 89,
    "start_time": "2022-12-22T16:34:32.534Z"
   },
   {
    "duration": 80,
    "start_time": "2022-12-22T16:34:32.625Z"
   },
   {
    "duration": 73,
    "start_time": "2022-12-22T16:34:32.707Z"
   },
   {
    "duration": 34,
    "start_time": "2022-12-22T16:34:32.782Z"
   },
   {
    "duration": 192,
    "start_time": "2022-12-22T16:34:32.818Z"
   },
   {
    "duration": 55,
    "start_time": "2022-12-22T16:34:33.012Z"
   },
   {
    "duration": 80,
    "start_time": "2022-12-22T16:34:33.069Z"
   },
   {
    "duration": 88,
    "start_time": "2022-12-22T16:34:33.151Z"
   },
   {
    "duration": 3,
    "start_time": "2022-12-22T16:34:33.241Z"
   },
   {
    "duration": 6808,
    "start_time": "2022-12-22T16:34:33.249Z"
   },
   {
    "duration": 6,
    "start_time": "2022-12-22T16:34:40.059Z"
   },
   {
    "duration": 13,
    "start_time": "2022-12-22T16:34:40.067Z"
   },
   {
    "duration": 86,
    "start_time": "2022-12-22T16:34:40.083Z"
   },
   {
    "duration": 42,
    "start_time": "2022-12-22T16:34:40.171Z"
   },
   {
    "duration": 2,
    "start_time": "2022-12-22T16:34:40.215Z"
   },
   {
    "duration": 38,
    "start_time": "2022-12-22T16:34:40.219Z"
   },
   {
    "duration": 54,
    "start_time": "2022-12-22T16:34:40.259Z"
   },
   {
    "duration": 6,
    "start_time": "2022-12-22T16:34:40.315Z"
   },
   {
    "duration": 22502,
    "start_time": "2022-12-22T16:34:40.322Z"
   },
   {
    "duration": 32,
    "start_time": "2022-12-22T16:35:02.826Z"
   },
   {
    "duration": 46,
    "start_time": "2022-12-22T16:35:02.859Z"
   },
   {
    "duration": 344,
    "start_time": "2022-12-22T16:35:02.906Z"
   },
   {
    "duration": 67,
    "start_time": "2022-12-22T16:35:03.252Z"
   },
   {
    "duration": 25,
    "start_time": "2022-12-22T16:35:03.321Z"
   },
   {
    "duration": 4,
    "start_time": "2022-12-22T16:35:03.348Z"
   },
   {
    "duration": 116,
    "start_time": "2022-12-22T16:35:03.354Z"
   },
   {
    "duration": 445,
    "start_time": "2022-12-22T16:35:03.472Z"
   },
   {
    "duration": 158,
    "start_time": "2022-12-22T16:35:03.919Z"
   },
   {
    "duration": 646,
    "start_time": "2022-12-22T16:35:04.079Z"
   },
   {
    "duration": 5474,
    "start_time": "2022-12-22T16:35:04.727Z"
   },
   {
    "duration": 578,
    "start_time": "2022-12-22T16:35:10.202Z"
   },
   {
    "duration": 4727,
    "start_time": "2022-12-22T16:35:10.782Z"
   },
   {
    "duration": 8095,
    "start_time": "2022-12-22T16:36:26.609Z"
   },
   {
    "duration": 123,
    "start_time": "2022-12-22T16:37:19.275Z"
   },
   {
    "duration": 7090,
    "start_time": "2022-12-22T16:38:10.310Z"
   },
   {
    "duration": 5781,
    "start_time": "2022-12-22T16:38:28.149Z"
   },
   {
    "duration": 14,
    "start_time": "2022-12-22T16:39:59.636Z"
   },
   {
    "duration": 13,
    "start_time": "2022-12-22T16:40:13.224Z"
   },
   {
    "duration": 12,
    "start_time": "2022-12-22T16:40:17.773Z"
   },
   {
    "duration": 13,
    "start_time": "2022-12-22T16:40:28.632Z"
   },
   {
    "duration": 4,
    "start_time": "2022-12-22T16:43:22.888Z"
   },
   {
    "duration": 14096,
    "start_time": "2022-12-22T16:46:53.576Z"
   },
   {
    "duration": 47824,
    "start_time": "2022-12-22T16:50:41.769Z"
   },
   {
    "duration": 9635,
    "start_time": "2022-12-22T16:51:41.415Z"
   },
   {
    "duration": 15340914,
    "start_time": "2022-12-22T16:51:54.410Z"
   },
   {
    "duration": 1912,
    "start_time": "2022-12-22T21:12:23.506Z"
   },
   {
    "duration": 34770189,
    "start_time": "2022-12-22T21:14:14.715Z"
   },
   {
    "duration": 1148,
    "start_time": "2022-12-23T11:25:55.755Z"
   },
   {
    "duration": 0,
    "start_time": "2022-12-23T11:25:56.909Z"
   },
   {
    "duration": 0,
    "start_time": "2022-12-23T11:25:56.910Z"
   },
   {
    "duration": 0,
    "start_time": "2022-12-23T11:25:56.911Z"
   },
   {
    "duration": 0,
    "start_time": "2022-12-23T11:25:56.912Z"
   },
   {
    "duration": 0,
    "start_time": "2022-12-23T11:25:56.913Z"
   },
   {
    "duration": 0,
    "start_time": "2022-12-23T11:25:56.915Z"
   },
   {
    "duration": 0,
    "start_time": "2022-12-23T11:25:56.926Z"
   },
   {
    "duration": 0,
    "start_time": "2022-12-23T11:25:56.927Z"
   },
   {
    "duration": 0,
    "start_time": "2022-12-23T11:25:56.928Z"
   },
   {
    "duration": 0,
    "start_time": "2022-12-23T11:25:56.929Z"
   },
   {
    "duration": 0,
    "start_time": "2022-12-23T11:25:56.930Z"
   },
   {
    "duration": 0,
    "start_time": "2022-12-23T11:25:56.931Z"
   },
   {
    "duration": 0,
    "start_time": "2022-12-23T11:25:56.932Z"
   },
   {
    "duration": 0,
    "start_time": "2022-12-23T11:25:56.933Z"
   },
   {
    "duration": 0,
    "start_time": "2022-12-23T11:25:56.933Z"
   },
   {
    "duration": 0,
    "start_time": "2022-12-23T11:25:56.934Z"
   },
   {
    "duration": 0,
    "start_time": "2022-12-23T11:25:56.935Z"
   },
   {
    "duration": 0,
    "start_time": "2022-12-23T11:25:56.936Z"
   },
   {
    "duration": 0,
    "start_time": "2022-12-23T11:25:56.937Z"
   },
   {
    "duration": 0,
    "start_time": "2022-12-23T11:25:56.938Z"
   },
   {
    "duration": 0,
    "start_time": "2022-12-23T11:25:56.939Z"
   },
   {
    "duration": 0,
    "start_time": "2022-12-23T11:25:56.940Z"
   },
   {
    "duration": 0,
    "start_time": "2022-12-23T11:25:56.941Z"
   },
   {
    "duration": 0,
    "start_time": "2022-12-23T11:25:56.942Z"
   },
   {
    "duration": 0,
    "start_time": "2022-12-23T11:25:56.942Z"
   },
   {
    "duration": 0,
    "start_time": "2022-12-23T11:25:56.944Z"
   },
   {
    "duration": 0,
    "start_time": "2022-12-23T11:25:56.945Z"
   },
   {
    "duration": 0,
    "start_time": "2022-12-23T11:25:56.946Z"
   },
   {
    "duration": 0,
    "start_time": "2022-12-23T11:25:56.947Z"
   },
   {
    "duration": 0,
    "start_time": "2022-12-23T11:25:56.947Z"
   },
   {
    "duration": 0,
    "start_time": "2022-12-23T11:25:56.948Z"
   },
   {
    "duration": 0,
    "start_time": "2022-12-23T11:25:56.950Z"
   },
   {
    "duration": 0,
    "start_time": "2022-12-23T11:25:56.951Z"
   },
   {
    "duration": 0,
    "start_time": "2022-12-23T11:25:56.951Z"
   },
   {
    "duration": 0,
    "start_time": "2022-12-23T11:25:56.952Z"
   },
   {
    "duration": 0,
    "start_time": "2022-12-23T11:25:56.953Z"
   },
   {
    "duration": 0,
    "start_time": "2022-12-23T11:25:56.954Z"
   },
   {
    "duration": 0,
    "start_time": "2022-12-23T11:25:56.955Z"
   },
   {
    "duration": 0,
    "start_time": "2022-12-23T11:25:56.956Z"
   },
   {
    "duration": 0,
    "start_time": "2022-12-23T11:25:56.956Z"
   },
   {
    "duration": 0,
    "start_time": "2022-12-23T11:25:56.957Z"
   },
   {
    "duration": 1,
    "start_time": "2022-12-23T11:25:56.958Z"
   },
   {
    "duration": 0,
    "start_time": "2022-12-23T11:25:56.959Z"
   },
   {
    "duration": 0,
    "start_time": "2022-12-23T11:25:56.960Z"
   },
   {
    "duration": 0,
    "start_time": "2022-12-23T11:25:56.961Z"
   },
   {
    "duration": 0,
    "start_time": "2022-12-23T11:25:56.962Z"
   },
   {
    "duration": 0,
    "start_time": "2022-12-23T11:25:57.026Z"
   },
   {
    "duration": 0,
    "start_time": "2022-12-23T11:25:57.027Z"
   },
   {
    "duration": 0,
    "start_time": "2022-12-23T11:25:57.028Z"
   },
   {
    "duration": 0,
    "start_time": "2022-12-23T11:25:57.029Z"
   },
   {
    "duration": 0,
    "start_time": "2022-12-23T11:25:57.030Z"
   },
   {
    "duration": 0,
    "start_time": "2022-12-23T11:25:57.030Z"
   },
   {
    "duration": 0,
    "start_time": "2022-12-23T11:25:57.031Z"
   },
   {
    "duration": 0,
    "start_time": "2022-12-23T11:25:57.032Z"
   },
   {
    "duration": 0,
    "start_time": "2022-12-23T11:25:57.033Z"
   },
   {
    "duration": 0,
    "start_time": "2022-12-23T11:25:57.034Z"
   },
   {
    "duration": 0,
    "start_time": "2022-12-23T11:25:57.036Z"
   },
   {
    "duration": 0,
    "start_time": "2022-12-23T11:25:57.037Z"
   },
   {
    "duration": 0,
    "start_time": "2022-12-23T11:25:57.038Z"
   },
   {
    "duration": 0,
    "start_time": "2022-12-23T11:25:57.038Z"
   },
   {
    "duration": 0,
    "start_time": "2022-12-23T11:25:57.040Z"
   },
   {
    "duration": 0,
    "start_time": "2022-12-23T11:25:57.040Z"
   },
   {
    "duration": 0,
    "start_time": "2022-12-23T11:25:57.041Z"
   },
   {
    "duration": 0,
    "start_time": "2022-12-23T11:25:57.042Z"
   },
   {
    "duration": 0,
    "start_time": "2022-12-23T11:25:57.043Z"
   },
   {
    "duration": 0,
    "start_time": "2022-12-23T11:25:57.044Z"
   },
   {
    "duration": 0,
    "start_time": "2022-12-23T11:25:57.044Z"
   },
   {
    "duration": 0,
    "start_time": "2022-12-23T11:25:57.045Z"
   },
   {
    "duration": 0,
    "start_time": "2022-12-23T11:25:57.046Z"
   },
   {
    "duration": 0,
    "start_time": "2022-12-23T11:25:57.047Z"
   },
   {
    "duration": 0,
    "start_time": "2022-12-23T11:25:57.049Z"
   },
   {
    "duration": 0,
    "start_time": "2022-12-23T11:25:57.050Z"
   },
   {
    "duration": 0,
    "start_time": "2022-12-23T11:25:57.051Z"
   },
   {
    "duration": 0,
    "start_time": "2022-12-23T11:25:57.052Z"
   },
   {
    "duration": 0,
    "start_time": "2022-12-23T11:25:57.052Z"
   },
   {
    "duration": 0,
    "start_time": "2022-12-23T11:25:57.053Z"
   },
   {
    "duration": 0,
    "start_time": "2022-12-23T11:25:57.054Z"
   },
   {
    "duration": 0,
    "start_time": "2022-12-23T11:25:57.055Z"
   },
   {
    "duration": 0,
    "start_time": "2022-12-23T11:25:57.057Z"
   },
   {
    "duration": 0,
    "start_time": "2022-12-23T11:25:57.057Z"
   },
   {
    "duration": 0,
    "start_time": "2022-12-23T11:25:57.058Z"
   },
   {
    "duration": 0,
    "start_time": "2022-12-23T11:25:57.059Z"
   },
   {
    "duration": 0,
    "start_time": "2022-12-23T11:25:57.060Z"
   },
   {
    "duration": 0,
    "start_time": "2022-12-23T11:25:57.061Z"
   },
   {
    "duration": 0,
    "start_time": "2022-12-23T11:25:57.061Z"
   },
   {
    "duration": 0,
    "start_time": "2022-12-23T11:25:57.062Z"
   },
   {
    "duration": 0,
    "start_time": "2022-12-23T11:25:57.063Z"
   },
   {
    "duration": 0,
    "start_time": "2022-12-23T11:25:57.127Z"
   },
   {
    "duration": 0,
    "start_time": "2022-12-23T11:25:57.127Z"
   },
   {
    "duration": 0,
    "start_time": "2022-12-23T11:25:57.128Z"
   },
   {
    "duration": 0,
    "start_time": "2022-12-23T11:25:57.129Z"
   },
   {
    "duration": 0,
    "start_time": "2022-12-23T11:25:57.131Z"
   },
   {
    "duration": 0,
    "start_time": "2022-12-23T11:25:57.131Z"
   },
   {
    "duration": 0,
    "start_time": "2022-12-23T11:25:57.132Z"
   },
   {
    "duration": 0,
    "start_time": "2022-12-23T11:25:57.133Z"
   },
   {
    "duration": 0,
    "start_time": "2022-12-23T11:25:57.134Z"
   },
   {
    "duration": 0,
    "start_time": "2022-12-23T11:25:57.135Z"
   },
   {
    "duration": 0,
    "start_time": "2022-12-23T11:25:57.136Z"
   },
   {
    "duration": 0,
    "start_time": "2022-12-23T11:25:57.137Z"
   },
   {
    "duration": 0,
    "start_time": "2022-12-23T11:25:57.138Z"
   },
   {
    "duration": 0,
    "start_time": "2022-12-23T11:25:57.139Z"
   },
   {
    "duration": 0,
    "start_time": "2022-12-23T11:25:57.140Z"
   },
   {
    "duration": 0,
    "start_time": "2022-12-23T11:25:57.141Z"
   },
   {
    "duration": 3832,
    "start_time": "2022-12-23T11:26:24.432Z"
   },
   {
    "duration": 208,
    "start_time": "2022-12-23T11:26:40.691Z"
   },
   {
    "duration": 3,
    "start_time": "2022-12-23T11:26:40.901Z"
   },
   {
    "duration": 10,
    "start_time": "2022-12-23T11:26:40.905Z"
   },
   {
    "duration": 10,
    "start_time": "2022-12-23T11:26:40.917Z"
   },
   {
    "duration": 2859,
    "start_time": "2022-12-23T11:26:40.928Z"
   },
   {
    "duration": 116,
    "start_time": "2022-12-23T11:26:43.789Z"
   },
   {
    "duration": 34,
    "start_time": "2022-12-23T11:26:43.906Z"
   },
   {
    "duration": 65,
    "start_time": "2022-12-23T11:26:43.942Z"
   },
   {
    "duration": 449,
    "start_time": "2022-12-23T11:26:44.008Z"
   },
   {
    "duration": 399,
    "start_time": "2022-12-23T11:26:44.459Z"
   },
   {
    "duration": 366,
    "start_time": "2022-12-23T11:26:44.860Z"
   },
   {
    "duration": 4,
    "start_time": "2022-12-23T11:26:45.229Z"
   },
   {
    "duration": 445,
    "start_time": "2022-12-23T11:26:45.234Z"
   },
   {
    "duration": 330,
    "start_time": "2022-12-23T11:26:45.681Z"
   },
   {
    "duration": 80,
    "start_time": "2022-12-23T11:26:46.013Z"
   },
   {
    "duration": 13,
    "start_time": "2022-12-23T11:26:46.094Z"
   },
   {
    "duration": 171,
    "start_time": "2022-12-23T11:26:46.109Z"
   },
   {
    "duration": 12,
    "start_time": "2022-12-23T11:26:46.281Z"
   },
   {
    "duration": 18,
    "start_time": "2022-12-23T11:26:46.294Z"
   },
   {
    "duration": 16,
    "start_time": "2022-12-23T11:26:46.327Z"
   },
   {
    "duration": 21,
    "start_time": "2022-12-23T11:26:46.345Z"
   },
   {
    "duration": 21,
    "start_time": "2022-12-23T11:26:46.368Z"
   },
   {
    "duration": 161,
    "start_time": "2022-12-23T11:26:46.392Z"
   },
   {
    "duration": 16,
    "start_time": "2022-12-23T11:26:46.555Z"
   },
   {
    "duration": 159,
    "start_time": "2022-12-23T11:26:46.572Z"
   },
   {
    "duration": 132,
    "start_time": "2022-12-23T11:26:46.733Z"
   },
   {
    "duration": 27,
    "start_time": "2022-12-23T11:26:46.867Z"
   },
   {
    "duration": 39,
    "start_time": "2022-12-23T11:26:46.898Z"
   },
   {
    "duration": 4,
    "start_time": "2022-12-23T11:26:46.938Z"
   },
   {
    "duration": 27,
    "start_time": "2022-12-23T11:26:46.943Z"
   },
   {
    "duration": 8,
    "start_time": "2022-12-23T11:26:46.971Z"
   },
   {
    "duration": 29,
    "start_time": "2022-12-23T11:26:46.981Z"
   },
   {
    "duration": 10,
    "start_time": "2022-12-23T11:26:47.027Z"
   },
   {
    "duration": 28,
    "start_time": "2022-12-23T11:26:47.038Z"
   },
   {
    "duration": 133,
    "start_time": "2022-12-23T11:26:47.068Z"
   },
   {
    "duration": 16,
    "start_time": "2022-12-23T11:26:47.203Z"
   },
   {
    "duration": 21,
    "start_time": "2022-12-23T11:26:47.227Z"
   },
   {
    "duration": 17,
    "start_time": "2022-12-23T11:26:47.249Z"
   },
   {
    "duration": 14,
    "start_time": "2022-12-23T11:26:47.268Z"
   },
   {
    "duration": 26,
    "start_time": "2022-12-23T11:26:47.284Z"
   },
   {
    "duration": 20,
    "start_time": "2022-12-23T11:26:47.311Z"
   },
   {
    "duration": 188,
    "start_time": "2022-12-23T11:26:47.333Z"
   },
   {
    "duration": 157,
    "start_time": "2022-12-23T11:26:47.523Z"
   },
   {
    "duration": 131,
    "start_time": "2022-12-23T11:26:47.682Z"
   },
   {
    "duration": 15,
    "start_time": "2022-12-23T11:26:47.815Z"
   },
   {
    "duration": 11,
    "start_time": "2022-12-23T11:26:47.831Z"
   },
   {
    "duration": 114,
    "start_time": "2022-12-23T11:26:47.844Z"
   },
   {
    "duration": 163,
    "start_time": "2022-12-23T11:26:47.959Z"
   },
   {
    "duration": 6,
    "start_time": "2022-12-23T11:26:48.124Z"
   },
   {
    "duration": 24,
    "start_time": "2022-12-23T11:26:48.131Z"
   },
   {
    "duration": 31,
    "start_time": "2022-12-23T11:26:48.157Z"
   },
   {
    "duration": 37,
    "start_time": "2022-12-23T11:26:48.190Z"
   },
   {
    "duration": 17,
    "start_time": "2022-12-23T11:26:48.229Z"
   },
   {
    "duration": 40,
    "start_time": "2022-12-23T11:26:48.247Z"
   },
   {
    "duration": 152,
    "start_time": "2022-12-23T11:26:48.288Z"
   },
   {
    "duration": 8,
    "start_time": "2022-12-23T11:26:48.442Z"
   },
   {
    "duration": 258,
    "start_time": "2022-12-23T11:26:48.452Z"
   },
   {
    "duration": 15,
    "start_time": "2022-12-23T11:26:48.712Z"
   },
   {
    "duration": 13,
    "start_time": "2022-12-23T11:26:48.728Z"
   },
   {
    "duration": 28,
    "start_time": "2022-12-23T11:26:48.743Z"
   },
   {
    "duration": 22,
    "start_time": "2022-12-23T11:26:48.772Z"
   },
   {
    "duration": 46,
    "start_time": "2022-12-23T11:26:48.796Z"
   },
   {
    "duration": 19,
    "start_time": "2022-12-23T11:26:48.843Z"
   },
   {
    "duration": 22,
    "start_time": "2022-12-23T11:26:48.863Z"
   },
   {
    "duration": 171,
    "start_time": "2022-12-23T11:26:48.886Z"
   },
   {
    "duration": 18,
    "start_time": "2022-12-23T11:26:49.059Z"
   },
   {
    "duration": 70,
    "start_time": "2022-12-23T11:26:49.079Z"
   },
   {
    "duration": 91,
    "start_time": "2022-12-23T11:26:49.151Z"
   },
   {
    "duration": 137,
    "start_time": "2022-12-23T11:26:49.244Z"
   },
   {
    "duration": 12,
    "start_time": "2022-12-23T11:26:49.382Z"
   },
   {
    "duration": 73,
    "start_time": "2022-12-23T11:26:49.396Z"
   },
   {
    "duration": 12,
    "start_time": "2022-12-23T11:26:49.470Z"
   },
   {
    "duration": 83,
    "start_time": "2022-12-23T11:26:49.484Z"
   },
   {
    "duration": 74,
    "start_time": "2022-12-23T11:26:49.568Z"
   },
   {
    "duration": 67,
    "start_time": "2022-12-23T11:26:49.644Z"
   },
   {
    "duration": 36,
    "start_time": "2022-12-23T11:26:49.712Z"
   },
   {
    "duration": 175,
    "start_time": "2022-12-23T11:26:49.749Z"
   },
   {
    "duration": 49,
    "start_time": "2022-12-23T11:26:49.926Z"
   },
   {
    "duration": 78,
    "start_time": "2022-12-23T11:26:49.976Z"
   },
   {
    "duration": 79,
    "start_time": "2022-12-23T11:26:50.056Z"
   },
   {
    "duration": 3,
    "start_time": "2022-12-23T11:26:50.137Z"
   },
   {
    "duration": 6346,
    "start_time": "2022-12-23T11:26:50.145Z"
   },
   {
    "duration": 4,
    "start_time": "2022-12-23T11:26:56.493Z"
   },
   {
    "duration": 39,
    "start_time": "2022-12-23T11:26:56.498Z"
   },
   {
    "duration": 85,
    "start_time": "2022-12-23T11:26:56.538Z"
   },
   {
    "duration": 29,
    "start_time": "2022-12-23T11:26:56.625Z"
   },
   {
    "duration": 20,
    "start_time": "2022-12-23T11:26:56.655Z"
   },
   {
    "duration": 48,
    "start_time": "2022-12-23T11:26:56.676Z"
   },
   {
    "duration": 63,
    "start_time": "2022-12-23T11:26:56.726Z"
   },
   {
    "duration": 22,
    "start_time": "2022-12-23T11:26:56.790Z"
   },
   {
    "duration": 20110,
    "start_time": "2022-12-23T11:26:56.813Z"
   },
   {
    "duration": 28,
    "start_time": "2022-12-23T11:27:16.925Z"
   },
   {
    "duration": 54,
    "start_time": "2022-12-23T11:27:16.955Z"
   },
   {
    "duration": 339,
    "start_time": "2022-12-23T11:27:17.011Z"
   },
   {
    "duration": 56,
    "start_time": "2022-12-23T11:27:17.352Z"
   },
   {
    "duration": 33,
    "start_time": "2022-12-23T11:27:17.410Z"
   },
   {
    "duration": 5,
    "start_time": "2022-12-23T11:27:17.445Z"
   },
   {
    "duration": 108,
    "start_time": "2022-12-23T11:27:17.451Z"
   },
   {
    "duration": 423,
    "start_time": "2022-12-23T11:27:17.561Z"
   },
   {
    "duration": 141,
    "start_time": "2022-12-23T11:27:17.986Z"
   },
   {
    "duration": 617,
    "start_time": "2022-12-23T11:27:18.128Z"
   },
   {
    "duration": 4887,
    "start_time": "2022-12-23T11:27:18.746Z"
   },
   {
    "duration": 535,
    "start_time": "2022-12-23T11:27:23.634Z"
   },
   {
    "duration": 4083,
    "start_time": "2022-12-23T11:27:24.171Z"
   }
  ],
  "kernelspec": {
   "display_name": "Python 3",
   "language": "python",
   "name": "python3"
  },
  "language_info": {
   "codemirror_mode": {
    "name": "ipython",
    "version": 3
   },
   "file_extension": ".py",
   "mimetype": "text/x-python",
   "name": "python",
   "nbconvert_exporter": "python",
   "pygments_lexer": "ipython3",
   "version": "3.10.4"
  },
  "toc": {
   "base_numbering": 1,
   "nav_menu": {},
   "number_sections": true,
   "sideBar": true,
   "skip_h1_title": true,
   "title_cell": "Table of Contents",
   "title_sidebar": "Contents",
   "toc_cell": false,
   "toc_position": {
    "height": "calc(100% - 180px)",
    "left": "10px",
    "top": "150px",
    "width": "366.188px"
   },
   "toc_section_display": true,
   "toc_window_display": true
  },
  "vscode": {
   "interpreter": {
    "hash": "2469a70536e4d2335a2ea8907942d0699c37342a371ac185bdb5b0aa6f073890"
   }
  }
 },
 "nbformat": 4,
 "nbformat_minor": 2
}
