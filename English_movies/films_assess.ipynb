{
 "cells": [
  {
   "attachments": {},
   "cell_type": "markdown",
   "metadata": {},
   "source": [
    "## Оценка сложности фильмомв"
   ]
  },
  {
   "attachments": {},
   "cell_type": "markdown",
   "metadata": {},
   "source": [
    "Основная цель: обучить модель, которая сможет определять сложность фильма для понимания на английском языке. В качестве градации будет использована стандартная система оценки уровня по CEFR (А1, А2, В1, В2, С1, С2)."
   ]
  },
  {
   "attachments": {},
   "cell_type": "markdown",
   "metadata": {},
   "source": [
    "В данной работе необходимо:\n",
    "- обрработать субтитры к фильмам и подготовить их для обучения модели.\n",
    "- обучить модель и получить приемлимую метрику accuracy.\n",
    "- упаковать модель в необходимом виде и предоставить заказчику."
   ]
  },
  {
   "attachments": {},
   "cell_type": "markdown",
   "metadata": {},
   "source": [
    "## Выгрузка и подготовка данных"
   ]
  },
  {
   "attachments": {},
   "cell_type": "markdown",
   "metadata": {},
   "source": [
    "Подгружаем необходимые библиотеки и создаем переменные"
   ]
  },
  {
   "cell_type": "code",
   "execution_count": 2,
   "metadata": {},
   "outputs": [],
   "source": [
    "import pysrt\n",
    "import pandas as pd\n",
    "import os\n",
    "import re\n",
    "from bs4 import BeautifulSoup\n",
    "from datetime import datetime\n",
    "import unicodedata\n",
    "import spacy\n",
    "from pypdf import PdfReader\n",
    "from sklearn.ensemble import RandomForestClassifier as RFC\n",
    "from catboost import CatBoostClassifier as CBC\n",
    "from sklearn.model_selection import train_test_split, GridSearchCV\n",
    "from sklearn.preprocessing import StandardScaler\n",
    "from sklearn.metrics import accuracy_score\n",
    "from notifiers import get_notifier\n",
    "import copy\n",
    "import pickle\n",
    "import converter"
   ]
  },
  {
   "cell_type": "code",
   "execution_count": 351,
   "metadata": {},
   "outputs": [],
   "source": [
    "OPTION_CONVERT = 1\n",
    "OPTION_RENAME = 0\n",
    "RANDOM_STATE = 8974651"
   ]
  },
  {
   "cell_type": "code",
   "execution_count": 352,
   "metadata": {},
   "outputs": [],
   "source": [
    "def make_notifier(\n",
    "    token='5658096333:AAHiwKbKFkFDhJH-0eSKwDeXmJnYsqXc88A',\n",
    "    chat_id=-831532630):\n",
    "    def f(text):\n",
    "        notifier = get_notifier('telegram')\n",
    "        notifier.notify(\n",
    "            message=text,\n",
    "            token=token,\n",
    "            chat_id=chat_id)\n",
    "    return f"
   ]
  },
  {
   "cell_type": "code",
   "execution_count": 353,
   "metadata": {},
   "outputs": [],
   "source": [
    "bot_send = make_notifier()"
   ]
  },
  {
   "cell_type": "code",
   "execution_count": 354,
   "metadata": {},
   "outputs": [],
   "source": [
    "pd.set_option('display.max_rows', None)"
   ]
  },
  {
   "cell_type": "code",
   "execution_count": 355,
   "metadata": {},
   "outputs": [],
   "source": [
    "if OPTION_CONVERT:\n",
    "    labels = pd.read_csv('./films_table.csv')\n",
    "else:\n",
    "    labels = pd.read_csv('./prepared_df.csv')"
   ]
  },
  {
   "cell_type": "code",
   "execution_count": 356,
   "metadata": {},
   "outputs": [],
   "source": [
    "def get_info(df):\n",
    "    display(df.sample(5))\n",
    "    display(df.info())"
   ]
  },
  {
   "cell_type": "code",
   "execution_count": 357,
   "metadata": {},
   "outputs": [
    {
     "data": {
      "text/html": [
       "<div>\n",
       "<style scoped>\n",
       "    .dataframe tbody tr th:only-of-type {\n",
       "        vertical-align: middle;\n",
       "    }\n",
       "\n",
       "    .dataframe tbody tr th {\n",
       "        vertical-align: top;\n",
       "    }\n",
       "\n",
       "    .dataframe thead th {\n",
       "        text-align: right;\n",
       "    }\n",
       "</style>\n",
       "<table border=\"1\" class=\"dataframe\">\n",
       "  <thead>\n",
       "    <tr style=\"text-align: right;\">\n",
       "      <th></th>\n",
       "      <th>name</th>\n",
       "      <th>level</th>\n",
       "      <th>subtitles</th>\n",
       "      <th>type</th>\n",
       "      <th>source</th>\n",
       "      <th>file</th>\n",
       "      <th>Unnamed: 6</th>\n",
       "    </tr>\n",
       "  </thead>\n",
       "  <tbody>\n",
       "    <tr>\n",
       "      <th>198</th>\n",
       "      <td>The Green Knight (2021)</td>\n",
       "      <td>C2</td>\n",
       "      <td>Yes</td>\n",
       "      <td>movie</td>\n",
       "      <td>https://magazine.skyeng.ru/6-novyh-filmov-dlja...</td>\n",
       "      <td>The.Green.Knight.2021.varivoda_sp.srt</td>\n",
       "      <td>NaN</td>\n",
       "    </tr>\n",
       "    <tr>\n",
       "      <th>99</th>\n",
       "      <td>Entrapment</td>\n",
       "      <td>B2</td>\n",
       "      <td>Yes</td>\n",
       "      <td>movie</td>\n",
       "      <td>unknow</td>\n",
       "      <td>Entrapment.srt</td>\n",
       "      <td>NaN</td>\n",
       "    </tr>\n",
       "    <tr>\n",
       "      <th>6</th>\n",
       "      <td>Toy story</td>\n",
       "      <td>A2/A2+</td>\n",
       "      <td>Yes</td>\n",
       "      <td>movie</td>\n",
       "      <td>unknow</td>\n",
       "      <td>Toy_story(1995).srt</td>\n",
       "      <td>NaN</td>\n",
       "    </tr>\n",
       "    <tr>\n",
       "      <th>78</th>\n",
       "      <td>The Greatest Showman ️</td>\n",
       "      <td>A2/A2+</td>\n",
       "      <td>Yes</td>\n",
       "      <td>movie</td>\n",
       "      <td>unknow</td>\n",
       "      <td>The_greatest_showman(2017).srt</td>\n",
       "      <td>NaN</td>\n",
       "    </tr>\n",
       "    <tr>\n",
       "      <th>163</th>\n",
       "      <td>The School of Rock</td>\n",
       "      <td>B2</td>\n",
       "      <td>Yes</td>\n",
       "      <td>movie</td>\n",
       "      <td>https://easyspeak.ru/blog/sovety-i-sekrety/luc...</td>\n",
       "      <td>The_school_of_rock.srt</td>\n",
       "      <td>NaN</td>\n",
       "    </tr>\n",
       "  </tbody>\n",
       "</table>\n",
       "</div>"
      ],
      "text/plain": [
       "                        name   level subtitles   type  \\\n",
       "198  The Green Knight (2021)      C2       Yes  movie   \n",
       "99                Entrapment      B2       Yes  movie   \n",
       "6                  Toy story  A2/A2+       Yes  movie   \n",
       "78    The Greatest Showman ️  A2/A2+       Yes  movie   \n",
       "163       The School of Rock      B2       Yes  movie   \n",
       "\n",
       "                                                source  \\\n",
       "198  https://magazine.skyeng.ru/6-novyh-filmov-dlja...   \n",
       "99                                              unknow   \n",
       "6                                               unknow   \n",
       "78                                              unknow   \n",
       "163  https://easyspeak.ru/blog/sovety-i-sekrety/luc...   \n",
       "\n",
       "                                      file Unnamed: 6  \n",
       "198  The.Green.Knight.2021.varivoda_sp.srt        NaN  \n",
       "99                          Entrapment.srt        NaN  \n",
       "6                      Toy_story(1995).srt        NaN  \n",
       "78          The_greatest_showman(2017).srt        NaN  \n",
       "163                 The_school_of_rock.srt        NaN  "
      ]
     },
     "metadata": {},
     "output_type": "display_data"
    },
    {
     "name": "stdout",
     "output_type": "stream",
     "text": [
      "<class 'pandas.core.frame.DataFrame'>\n",
      "RangeIndex: 204 entries, 0 to 203\n",
      "Data columns (total 7 columns):\n",
      " #   Column      Non-Null Count  Dtype \n",
      "---  ------      --------------  ----- \n",
      " 0   name        204 non-null    object\n",
      " 1   level       204 non-null    object\n",
      " 2   subtitles   204 non-null    object\n",
      " 3   type        204 non-null    object\n",
      " 4   source      204 non-null    object\n",
      " 5   file        204 non-null    object\n",
      " 6   Unnamed: 6  1 non-null      object\n",
      "dtypes: object(7)\n",
      "memory usage: 11.3+ KB\n"
     ]
    },
    {
     "data": {
      "text/plain": [
       "None"
      ]
     },
     "metadata": {},
     "output_type": "display_data"
    }
   ],
   "source": [
    "get_info(labels)"
   ]
  },
  {
   "cell_type": "code",
   "execution_count": 358,
   "metadata": {},
   "outputs": [],
   "source": [
    "labels = labels.rename(columns={'name':'Movie','level':'Level'})"
   ]
  },
  {
   "cell_type": "code",
   "execution_count": 359,
   "metadata": {},
   "outputs": [
    {
     "data": {
      "text/html": [
       "<div>\n",
       "<style scoped>\n",
       "    .dataframe tbody tr th:only-of-type {\n",
       "        vertical-align: middle;\n",
       "    }\n",
       "\n",
       "    .dataframe tbody tr th {\n",
       "        vertical-align: top;\n",
       "    }\n",
       "\n",
       "    .dataframe thead th {\n",
       "        text-align: right;\n",
       "    }\n",
       "</style>\n",
       "<table border=\"1\" class=\"dataframe\">\n",
       "  <thead>\n",
       "    <tr style=\"text-align: right;\">\n",
       "      <th></th>\n",
       "      <th>Movie</th>\n",
       "      <th>Level</th>\n",
       "      <th>subtitles</th>\n",
       "      <th>type</th>\n",
       "      <th>source</th>\n",
       "      <th>file</th>\n",
       "      <th>Unnamed: 6</th>\n",
       "    </tr>\n",
       "  </thead>\n",
       "  <tbody>\n",
       "    <tr>\n",
       "      <th>91</th>\n",
       "      <td>Milada</td>\n",
       "      <td>B1</td>\n",
       "      <td>Yes</td>\n",
       "      <td>movie</td>\n",
       "      <td>unknow</td>\n",
       "      <td>Milada(2017).srt</td>\n",
       "      <td>NaN</td>\n",
       "    </tr>\n",
       "    <tr>\n",
       "      <th>147</th>\n",
       "      <td>Junior</td>\n",
       "      <td>B1</td>\n",
       "      <td>Yes</td>\n",
       "      <td>movie</td>\n",
       "      <td>https://easyspeak.ru/blog/sovety-i-sekrety/luc...</td>\n",
       "      <td>Junior.srt</td>\n",
       "      <td>NaN</td>\n",
       "    </tr>\n",
       "    <tr>\n",
       "      <th>13</th>\n",
       "      <td>The man called Flinstone</td>\n",
       "      <td>A2/A2+</td>\n",
       "      <td>Yes</td>\n",
       "      <td>movie</td>\n",
       "      <td>unknow</td>\n",
       "      <td>The_man_called_Flintstone(1966).srt</td>\n",
       "      <td>NaN</td>\n",
       "    </tr>\n",
       "    <tr>\n",
       "      <th>188</th>\n",
       "      <td>Tesla (2016)</td>\n",
       "      <td>B2</td>\n",
       "      <td>Yes</td>\n",
       "      <td>movie</td>\n",
       "      <td>https://moviesbylevels.wordpress.com</td>\n",
       "      <td>Tesla.2020.varivoda_sp.srt</td>\n",
       "      <td>NaN</td>\n",
       "    </tr>\n",
       "    <tr>\n",
       "      <th>168</th>\n",
       "      <td>Captain Corelli's Mandolin</td>\n",
       "      <td>B2</td>\n",
       "      <td>Yes</td>\n",
       "      <td>movie</td>\n",
       "      <td>https://easyspeak.ru/blog/sovety-i-sekrety/luc...</td>\n",
       "      <td>Captain_corellis_mandolin.srt</td>\n",
       "      <td>NaN</td>\n",
       "    </tr>\n",
       "  </tbody>\n",
       "</table>\n",
       "</div>"
      ],
      "text/plain": [
       "                          Movie   Level subtitles   type  \\\n",
       "91                       Milada      B1       Yes  movie   \n",
       "147                      Junior      B1       Yes  movie   \n",
       "13     The man called Flinstone  A2/A2+       Yes  movie   \n",
       "188                Tesla (2016)      B2       Yes  movie   \n",
       "168  Captain Corelli's Mandolin      B2       Yes  movie   \n",
       "\n",
       "                                                source  \\\n",
       "91                                              unknow   \n",
       "147  https://easyspeak.ru/blog/sovety-i-sekrety/luc...   \n",
       "13                                              unknow   \n",
       "188               https://moviesbylevels.wordpress.com   \n",
       "168  https://easyspeak.ru/blog/sovety-i-sekrety/luc...   \n",
       "\n",
       "                                    file Unnamed: 6  \n",
       "91                      Milada(2017).srt        NaN  \n",
       "147                           Junior.srt        NaN  \n",
       "13   The_man_called_Flintstone(1966).srt        NaN  \n",
       "188           Tesla.2020.varivoda_sp.srt        NaN  \n",
       "168        Captain_corellis_mandolin.srt        NaN  "
      ]
     },
     "metadata": {},
     "output_type": "display_data"
    },
    {
     "name": "stdout",
     "output_type": "stream",
     "text": [
      "<class 'pandas.core.frame.DataFrame'>\n",
      "RangeIndex: 204 entries, 0 to 203\n",
      "Data columns (total 7 columns):\n",
      " #   Column      Non-Null Count  Dtype \n",
      "---  ------      --------------  ----- \n",
      " 0   Movie       204 non-null    object\n",
      " 1   Level       204 non-null    object\n",
      " 2   subtitles   204 non-null    object\n",
      " 3   type        204 non-null    object\n",
      " 4   source      204 non-null    object\n",
      " 5   file        204 non-null    object\n",
      " 6   Unnamed: 6  1 non-null      object\n",
      "dtypes: object(7)\n",
      "memory usage: 11.3+ KB\n"
     ]
    },
    {
     "data": {
      "text/plain": [
       "None"
      ]
     },
     "metadata": {},
     "output_type": "display_data"
    }
   ],
   "source": [
    "get_info(labels)"
   ]
  },
  {
   "cell_type": "code",
   "execution_count": 360,
   "metadata": {},
   "outputs": [],
   "source": [
    "labels = labels.loc[:,['Movie','Level']]"
   ]
  },
  {
   "attachments": {},
   "cell_type": "markdown",
   "metadata": {},
   "source": [
    "В данных есть пропуски, но в важных столбцах с названиями и оценками все хорошо."
   ]
  },
  {
   "attachments": {},
   "cell_type": "markdown",
   "metadata": {},
   "source": [
    "Для будущей работы с названиями приведем их к одному формату"
   ]
  },
  {
   "cell_type": "code",
   "execution_count": 361,
   "metadata": {},
   "outputs": [],
   "source": [
    "for i in range(len(labels)):\n",
    "    labels.loc[i,'Movie'] = labels.loc[i,'Movie'].lower()\n",
    "    labels.loc[i,'Movie'] = labels.loc[i,'Movie'].replace(' ','_')\n",
    "    if labels.loc[i,'Movie'][-1:] == \"\\n\": labels.loc[i,'Movie'] = labels.loc[i,'Movie'][:-1]\n",
    "    labels.loc[i,'Movie'] = labels.loc[i,'Movie'].replace(\"’\",'')\n",
    "    if labels.loc[i,'Movie'][-1] == \"_\": labels.loc[i,'Movie'] = labels.loc[i,'Movie'][:-1]\n",
    "    j = -2\n",
    "    while labels.loc[i,'Movie'][-1] == \")\":\n",
    "        if labels.loc[i,'Movie'][j] == \"(\":\n",
    "            labels.loc[i,'Movie'] = labels.loc[i,'Movie'][:j-1]\n",
    "        else:\n",
    "            j -= 1\n",
    "    labels.loc[i,'Movie'] = labels.loc[i,'Movie'].replace('-','_')\n",
    "    labels.loc[i,'Movie'] = labels.loc[i,'Movie'].replace(':','_')\n",
    "    labels.loc[i,'Movie'] = labels.loc[i,'Movie'].replace('__','_')\n",
    "    labels.loc[i,'Movie'] = labels.loc[i,'Movie'].replace(',','')\n",
    "    labels.loc[i,'Movie'] = labels.loc[i,'Movie'].replace('.','')\n",
    "    labels.loc[i,'Movie'] = labels.loc[i,'Movie'].replace('&','and')\n",
    "    labels.loc[i,'Movie'] = labels.loc[i,'Movie'].replace('(','')\n",
    "    labels.loc[i,'Movie'] = labels.loc[i,'Movie'].replace(')','')\n",
    "    labels.loc[i,'Movie'] = labels.loc[i,'Movie'].replace(\"'\",'')"
   ]
  },
  {
   "attachments": {},
   "cell_type": "markdown",
   "metadata": {},
   "source": [
    "Так же поступим с названиями фильмов"
   ]
  },
  {
   "cell_type": "code",
   "execution_count": 362,
   "metadata": {},
   "outputs": [],
   "source": [
    "if OPTION_RENAME:\n",
    "    names = os.listdir('./subtitles/')\n",
    "    j = 0\n",
    "    for name in names:\n",
    "        n = copy.copy(name)\n",
    "        name = name.lower()\n",
    "        name = re.sub(r\"\\.varivoda_sp|\\(\\d{4}\\)|\\d{4}|'\",'', name)\n",
    "        name = re.sub(r' ','_', name)\n",
    "        i = -4\n",
    "        if name[-5] == '.': i = -5\n",
    "        name = re.sub(r'[\\.-]','_', name[:i]) + \".srt\"\n",
    "        name = re.sub(r'_+','_',name)\n",
    "        try:\n",
    "            os.rename(f'./subtitles/{n}',f'./subtitles/{name}')\n",
    "        except:\n",
    "            print(n)"
   ]
  },
  {
   "attachments": {},
   "cell_type": "markdown",
   "metadata": {},
   "source": [
    "Вроде бы все сделано, нужно только проверить."
   ]
  },
  {
   "cell_type": "code",
   "execution_count": 363,
   "metadata": {},
   "outputs": [],
   "source": [
    "content = os.listdir('./subtitles/')\n",
    "names = list(labels['Movie'])\n",
    "not_in_name = []\n",
    "not_in_content = []\n",
    "for i in names:\n",
    "    if f'{i}.srt' not in content: not_in_content.append(i)\n",
    "for i in content:\n",
    "    if i[:-4] not in names: not_in_name.append(i)"
   ]
  },
  {
   "cell_type": "code",
   "execution_count": 364,
   "metadata": {},
   "outputs": [
    {
     "data": {
      "text/plain": [
       "['brenв_brown_the_call_to_courage.srt',\n",
       " 'eurovision_song_contest.srt',\n",
       " 'moulin_rouge.srt',\n",
       " 'peppa_pig_my_first_cinema_experience.srt',\n",
       " 'the_card_counter.srt',\n",
       " 'the_extra_terrestrial.srt',\n",
       " 'the_greatest_showman.srt',\n",
       " 'the_man_called_flintstone.srt',\n",
       " 'wallace_grommit.srt',\n",
       " 'we_are_the_millers.srt']"
      ]
     },
     "execution_count": 364,
     "metadata": {},
     "output_type": "execute_result"
    }
   ],
   "source": [
    "not_in_name"
   ]
  },
  {
   "cell_type": "code",
   "execution_count": 365,
   "metadata": {},
   "outputs": [
    {
     "data": {
      "text/plain": [
       "['\\r\\npeppa_pig_my_first_cinema_experience',\n",
       " 'addams_family_values',\n",
       " 'brené_brown_the_call_to_courage',\n",
       " 'card_counter',\n",
       " 'et_the_extra_terrestrial',\n",
       " 'eurovision_song_contest_the_story_of_fire_saga',\n",
       " 'moulin_rouge_️',\n",
       " 'the_greatest_showman_️',\n",
       " 'the_man_called_flinstone',\n",
       " 'wallace_and_grommit_the_curse_of_the_were_rabbit',\n",
       " 'were_the_millers']"
      ]
     },
     "execution_count": 365,
     "metadata": {},
     "output_type": "execute_result"
    }
   ],
   "source": [
    "not_in_content.sort()\n",
    "not_in_content"
   ]
  },
  {
   "attachments": {},
   "cell_type": "markdown",
   "metadata": {},
   "source": [
    "Некоторые названия не попадают под шаблоны, по этому приводим их к нужным именам ручками."
   ]
  },
  {
   "cell_type": "code",
   "execution_count": 366,
   "metadata": {},
   "outputs": [],
   "source": [
    "labels.loc[labels['Movie'] == 'the_man_called_flinstone','Movie'] = 'the_man_called_flintstone'\n",
    "labels.loc[labels['Movie'] == 'eurovision_song_contest_the_story_of_fire_saga','Movie'] = 'eurovision_song_contest'\n",
    "labels.loc[labels['Movie'] == 'were_the_millers','Movie'] = 'we_are_the_millers'\n",
    "labels.loc[labels['Movie'] == '\\r\\npeppa_pig_my_first_cinema_experience','Movie'] = 'peppa_pig_my_first_cinema_experience'\n",
    "labels.loc[labels['Movie'] == 'brené_brown_the_call_to_courage','Movie'] = 'brenв_brown_the_call_to_courage'\n",
    "labels.loc[labels['Movie'] == 'wallace_and_grommit_the_curse_of_the_were_rabbit','Movie'] = 'wallace_grommit'\n",
    "labels.loc[labels['Movie'] == 'mechanic:_resurrection','Movie'] = 'mechanic_resurrection'\n",
    "labels.loc[labels['Movie'] == 'moulin_rouge_️','Movie'] = 'moulin_rouge'\n",
    "labels.loc[labels['Movie'] == 'et_the_extra_terrestrial','Movie'] = 'the_extra_terrestrial'\n",
    "labels.loc[labels['Movie'] == 'the_greatest_showman_️','Movie'] = 'the_greatest_showman'\n",
    "labels.loc[labels['Movie'] == 'card_counter','Movie'] = 'the_card_counter'"
   ]
  },
  {
   "attachments": {},
   "cell_type": "markdown",
   "metadata": {},
   "source": [
    "Есть пара сериалов к каторым нет субтитров, просто удалим их, так как оценить сложность сериалов проблемотично, она меняется от серии к серии."
   ]
  },
  {
   "cell_type": "code",
   "execution_count": 367,
   "metadata": {},
   "outputs": [],
   "source": [
    "labels = labels.drop(index = labels.loc[labels['Movie'] == 'addams_family_values'].index).reset_index(drop=True)"
   ]
  },
  {
   "cell_type": "code",
   "execution_count": 368,
   "metadata": {},
   "outputs": [
    {
     "data": {
      "text/plain": [
       "[]"
      ]
     },
     "execution_count": 368,
     "metadata": {},
     "output_type": "execute_result"
    }
   ],
   "source": [
    "content = os.listdir('./subtitles/')\n",
    "names = list(labels['Movie'])\n",
    "not_in_name = []\n",
    "not_in_content = []\n",
    "for i in names:\n",
    "    if f'{i}.srt' not in content: not_in_content.append(i)\n",
    "for i in content:\n",
    "    if i[:-4] not in names: not_in_name.append(i)\n",
    "not_in_content\n"
   ]
  },
  {
   "cell_type": "code",
   "execution_count": 369,
   "metadata": {},
   "outputs": [
    {
     "data": {
      "text/plain": [
       "[]"
      ]
     },
     "execution_count": 369,
     "metadata": {},
     "output_type": "execute_result"
    }
   ],
   "source": [
    "not_in_name"
   ]
  },
  {
   "attachments": {},
   "cell_type": "markdown",
   "metadata": {},
   "source": [
    "Теперь не плохо."
   ]
  },
  {
   "attachments": {},
   "cell_type": "markdown",
   "metadata": {},
   "source": [
    "Теперь когда все имеет единый вид, нужно проверить на дубликаты."
   ]
  },
  {
   "cell_type": "code",
   "execution_count": 370,
   "metadata": {},
   "outputs": [
    {
     "data": {
      "text/plain": [
       "6"
      ]
     },
     "execution_count": 370,
     "metadata": {},
     "output_type": "execute_result"
    }
   ],
   "source": [
    "labels['Movie'].duplicated().sum()"
   ]
  },
  {
   "cell_type": "code",
   "execution_count": 371,
   "metadata": {},
   "outputs": [
    {
     "data": {
      "text/html": [
       "<div>\n",
       "<style scoped>\n",
       "    .dataframe tbody tr th:only-of-type {\n",
       "        vertical-align: middle;\n",
       "    }\n",
       "\n",
       "    .dataframe tbody tr th {\n",
       "        vertical-align: top;\n",
       "    }\n",
       "\n",
       "    .dataframe thead th {\n",
       "        text-align: right;\n",
       "    }\n",
       "</style>\n",
       "<table border=\"1\" class=\"dataframe\">\n",
       "  <thead>\n",
       "    <tr style=\"text-align: right;\">\n",
       "      <th></th>\n",
       "      <th>Movie</th>\n",
       "      <th>Level</th>\n",
       "    </tr>\n",
       "  </thead>\n",
       "  <tbody>\n",
       "    <tr>\n",
       "      <th>86</th>\n",
       "      <td>kubo_and_the_two_strings</td>\n",
       "      <td>B1</td>\n",
       "    </tr>\n",
       "    <tr>\n",
       "      <th>90</th>\n",
       "      <td>inside_out</td>\n",
       "      <td>B1</td>\n",
       "    </tr>\n",
       "    <tr>\n",
       "      <th>92</th>\n",
       "      <td>sleepless_in_seattle</td>\n",
       "      <td>B1</td>\n",
       "    </tr>\n",
       "    <tr>\n",
       "      <th>93</th>\n",
       "      <td>the_terminal</td>\n",
       "      <td>B1</td>\n",
       "    </tr>\n",
       "    <tr>\n",
       "      <th>102</th>\n",
       "      <td>the_blind_side</td>\n",
       "      <td>B2</td>\n",
       "    </tr>\n",
       "    <tr>\n",
       "      <th>195</th>\n",
       "      <td>banking_on_bitcoin</td>\n",
       "      <td>C1</td>\n",
       "    </tr>\n",
       "  </tbody>\n",
       "</table>\n",
       "</div>"
      ],
      "text/plain": [
       "                        Movie Level\n",
       "86   kubo_and_the_two_strings    B1\n",
       "90                 inside_out    B1\n",
       "92       sleepless_in_seattle    B1\n",
       "93               the_terminal    B1\n",
       "102            the_blind_side    B2\n",
       "195        banking_on_bitcoin    C1"
      ]
     },
     "execution_count": 371,
     "metadata": {},
     "output_type": "execute_result"
    }
   ],
   "source": [
    "labels.loc[labels['Movie'].duplicated()]"
   ]
  },
  {
   "attachments": {},
   "cell_type": "markdown",
   "metadata": {},
   "source": [
    "5 штук не плохо, просто дропним."
   ]
  },
  {
   "cell_type": "code",
   "execution_count": 372,
   "metadata": {},
   "outputs": [],
   "source": [
    "labels = labels.drop_duplicates(subset = \"Movie\").reset_index(drop=True)"
   ]
  },
  {
   "cell_type": "code",
   "execution_count": 373,
   "metadata": {},
   "outputs": [
    {
     "data": {
      "text/plain": [
       "0"
      ]
     },
     "execution_count": 373,
     "metadata": {},
     "output_type": "execute_result"
    }
   ],
   "source": [
    "labels['Movie'].duplicated().sum()"
   ]
  },
  {
   "attachments": {},
   "cell_type": "markdown",
   "metadata": {},
   "source": [
    "Прекрасно"
   ]
  },
  {
   "cell_type": "code",
   "execution_count": 374,
   "metadata": {},
   "outputs": [
    {
     "data": {
      "text/plain": [
       "B2            70\n",
       "B1            68\n",
       "A2/A2+        26\n",
       "C1            13\n",
       "B1, B2         8\n",
       "A2/A2+, B1     5\n",
       "A2             3\n",
       "A1             2\n",
       "               1\n",
       "C2             1\n",
       "Name: Level, dtype: int64"
      ]
     },
     "execution_count": 374,
     "metadata": {},
     "output_type": "execute_result"
    }
   ],
   "source": [
    "labels['Level'].value_counts()"
   ]
  },
  {
   "attachments": {},
   "cell_type": "markdown",
   "metadata": {},
   "source": [
    "Корректировать быдем селдующим образом:\n",
    "- A2/A2+ - А2\n",
    "- B1, B2 - В2\n",
    "- 2/A2+, B1 - В1"
   ]
  },
  {
   "cell_type": "code",
   "execution_count": 375,
   "metadata": {},
   "outputs": [],
   "source": [
    "labels.loc[labels['Level'] == 'A2/A2+', 'Level'] = 'A2'\n",
    "labels.loc[labels['Level'] == 'B1, B2', 'Level'] = 'B2'\n",
    "labels.loc[labels['Level'] == 'A2/A2+, B1', 'Level'] = 'B1'"
   ]
  },
  {
   "cell_type": "code",
   "execution_count": 376,
   "metadata": {},
   "outputs": [
    {
     "data": {
      "text/plain": [
       "B2    78\n",
       "B1    73\n",
       "A2    29\n",
       "C1    13\n",
       "A1     2\n",
       "       1\n",
       "C2     1\n",
       "Name: Level, dtype: int64"
      ]
     },
     "execution_count": 376,
     "metadata": {},
     "output_type": "execute_result"
    }
   ],
   "source": [
    "labels['Level'].value_counts()"
   ]
  },
  {
   "attachments": {},
   "cell_type": "markdown",
   "metadata": {},
   "source": [
    "Пропуск просто удалим. По скольку фильм С2 всего один его тоже придется убрать как и А2."
   ]
  },
  {
   "cell_type": "code",
   "execution_count": 377,
   "metadata": {},
   "outputs": [
    {
     "data": {
      "text/plain": [
       "B2    78\n",
       "B1    73\n",
       "A2    29\n",
       "C1    13\n",
       "Name: Level, dtype: int64"
      ]
     },
     "execution_count": 377,
     "metadata": {},
     "output_type": "execute_result"
    }
   ],
   "source": [
    "labels = labels.loc[(labels['Level'] != \" \") & (labels['Level'] != \"C2\") & (labels['Level'] != \"A1\")]\n",
    "labels['Level'].value_counts()"
   ]
  },
  {
   "attachments": {},
   "cell_type": "markdown",
   "metadata": {},
   "source": [
    "### Переводим субтитры в txt"
   ]
  },
  {
   "attachments": {},
   "cell_type": "markdown",
   "metadata": {},
   "source": [
    "Создадим функцию которая будет убирать весь html, не нужные команды в скобках и не обчные буквы."
   ]
  },
  {
   "cell_type": "code",
   "execution_count": 378,
   "metadata": {},
   "outputs": [],
   "source": [
    "def convert_srt_to_txt(film):\n",
    "    movie = pysrt.open(f'./subtitles/{film}.srt',encoding='iso-8859-1')\n",
    "    for j in range(10):    \n",
    "        # создаем файл txt с названием фильма и открываем субтитры\n",
    "        file = open(f'./Subtitles_txt/{film}_{j}.txt', 'w+')\n",
    "        labels.loc[len(labels.index),'Movie'] = f'{film}_{j}'\n",
    "        labels.loc[labels['Movie'] == f'{film}_{j}', 'Level'] = labels.loc[labels['Movie'] == f'{film}', \"Level\"].values\n",
    "        total_time = 0\n",
    "        total_words = 0\n",
    "        string = ''\n",
    "        # проходимся по каждой строке субтитров и обрабатываем ее\n",
    "        for i in range(j,len(movie),10):\n",
    "            \n",
    "            # приводим все в нормальную кодировку\n",
    "            movie_str = unicodedata.normalize('NFKD', movie[i].text).encode('ASCII', 'ignore').decode('utf-8', 'ignore')\n",
    "            \n",
    "            # в некоторых субтитрах есть имена авторов и сайты источники, нам они не нужны\n",
    "            try:\n",
    "                re.search(r\"\\w{3}\\..*\\.\\w{3}\", movie_str)[0]\n",
    "                continue\n",
    "            except:\n",
    "                next\n",
    "            \n",
    "            # убираем не обычные символы\n",
    "            movie_str = re.sub(r'[♪]','', movie_str)\n",
    "            \n",
    "            # убироаем html \n",
    "            movie_str = BeautifulSoup(movie_str, \"html.parser\").text\n",
    "\n",
    "            # лишние пробелы и преносы строк\n",
    "            movie_str = re.sub(r'\\s',' ',movie_str)\n",
    "            movie_str = re.sub(r'{.*?}|\\(.*?\\)|[,.!?\"]|- ',' ', movie_str)\n",
    "            movie_str = re.sub(r'-',' ',movie_str)\n",
    "            if movie_str == \"\": continue\n",
    "            if movie_str[0] == \" \": movie_str = movie_str[1:]\n",
    "            movie_str = movie_str.lower()\n",
    "\n",
    "            # подсчет слов и затраченого времени на один субтитр\n",
    "            count_words = len(movie_str.split())\n",
    "            duration = movie[i].duration.to_time()\n",
    "            duration = duration.isoformat(timespec='milliseconds')\n",
    "            duration = duration.split(':')\n",
    "            duration = (int(duration[0])*60+int(duration[1]))*60 + float(duration[2]) + 0.001\n",
    "        \n",
    "            # записываем итоговую строку и информацию по ней\n",
    "            string += f'{movie_str} '\n",
    "            total_time += duration\n",
    "            total_words += count_words\n",
    "        \n",
    "        # записываем итоговые цифры и закрываем файл\n",
    "        labels.loc[labels['Movie'] == f'{film}_{j}', 'total_time'] = total_time\n",
    "        labels.loc[labels['Movie'] == f'{film}_{j}', 'total_words'] = total_words\n",
    "        labels.loc[labels['Movie'] == f'{film}_{j}', 'raito'] = total_words/total_time\n",
    "        string = re.sub(r'\\s+',' ',string)\n",
    "        file.write(string)\n",
    "        file.close()"
   ]
  },
  {
   "attachments": {},
   "cell_type": "markdown",
   "metadata": {},
   "source": [
    "Запускаем обработку субтитров"
   ]
  },
  {
   "cell_type": "code",
   "execution_count": 379,
   "metadata": {},
   "outputs": [],
   "source": [
    "labels = labels.loc[(labels['Movie'] != 'banking_on_bitcoin')&(labels['Movie'] != 'sweet_home_alabama')&(labels['Movie'] != 'daddy_day_care')&(labels['Movie'] != 'frozen')]"
   ]
  },
  {
   "cell_type": "code",
   "execution_count": 380,
   "metadata": {},
   "outputs": [],
   "source": [
    "l = len(labels.index)\n",
    "labels = labels.reset_index(drop=True)"
   ]
  },
  {
   "cell_type": "code",
   "execution_count": 381,
   "metadata": {},
   "outputs": [
    {
     "name": "stderr",
     "output_type": "stream",
     "text": [
      "d:\\Python\\lib\\site-packages\\bs4\\__init__.py:435: MarkupResemblesLocatorWarning: The input looks more like a filename than markup. You may want to open this file and pass the filehandle into Beautiful Soup.\n",
      "  warnings.warn(\n"
     ]
    }
   ],
   "source": [
    "if OPTION_CONVERT:\n",
    "    for name in labels.loc[:l,'Movie']:\n",
    "        convert_srt_to_txt(name)"
   ]
  },
  {
   "cell_type": "code",
   "execution_count": 382,
   "metadata": {},
   "outputs": [],
   "source": [
    "labels = labels.loc[l:]"
   ]
  },
  {
   "cell_type": "code",
   "execution_count": 383,
   "metadata": {},
   "outputs": [
    {
     "data": {
      "text/html": [
       "<div>\n",
       "<style scoped>\n",
       "    .dataframe tbody tr th:only-of-type {\n",
       "        vertical-align: middle;\n",
       "    }\n",
       "\n",
       "    .dataframe tbody tr th {\n",
       "        vertical-align: top;\n",
       "    }\n",
       "\n",
       "    .dataframe thead th {\n",
       "        text-align: right;\n",
       "    }\n",
       "</style>\n",
       "<table border=\"1\" class=\"dataframe\">\n",
       "  <thead>\n",
       "    <tr style=\"text-align: right;\">\n",
       "      <th></th>\n",
       "      <th>Movie</th>\n",
       "      <th>Level</th>\n",
       "      <th>total_time</th>\n",
       "      <th>total_words</th>\n",
       "      <th>raito</th>\n",
       "    </tr>\n",
       "  </thead>\n",
       "  <tbody>\n",
       "    <tr>\n",
       "      <th>1450</th>\n",
       "      <td>youve_got_mail_1</td>\n",
       "      <td>B1</td>\n",
       "      <td>395.622</td>\n",
       "      <td>1049.0</td>\n",
       "      <td>2.651521</td>\n",
       "    </tr>\n",
       "    <tr>\n",
       "      <th>1785</th>\n",
       "      <td>citizen_kane_6</td>\n",
       "      <td>B2</td>\n",
       "      <td>422.318</td>\n",
       "      <td>1278.0</td>\n",
       "      <td>3.026156</td>\n",
       "    </tr>\n",
       "    <tr>\n",
       "      <th>1126</th>\n",
       "      <td>despicable_me_7</td>\n",
       "      <td>B2</td>\n",
       "      <td>224.022</td>\n",
       "      <td>520.0</td>\n",
       "      <td>2.321201</td>\n",
       "    </tr>\n",
       "    <tr>\n",
       "      <th>1285</th>\n",
       "      <td>the_hunger_games_6</td>\n",
       "      <td>B2</td>\n",
       "      <td>249.120</td>\n",
       "      <td>585.0</td>\n",
       "      <td>2.348266</td>\n",
       "    </tr>\n",
       "    <tr>\n",
       "      <th>1719</th>\n",
       "      <td>as_good_as_it_gets_0</td>\n",
       "      <td>B2</td>\n",
       "      <td>554.312</td>\n",
       "      <td>1280.0</td>\n",
       "      <td>2.309169</td>\n",
       "    </tr>\n",
       "  </tbody>\n",
       "</table>\n",
       "</div>"
      ],
      "text/plain": [
       "                     Movie Level  total_time  total_words     raito\n",
       "1450      youve_got_mail_1    B1     395.622       1049.0  2.651521\n",
       "1785        citizen_kane_6    B2     422.318       1278.0  3.026156\n",
       "1126       despicable_me_7    B2     224.022        520.0  2.321201\n",
       "1285    the_hunger_games_6    B2     249.120        585.0  2.348266\n",
       "1719  as_good_as_it_gets_0    B2     554.312       1280.0  2.309169"
      ]
     },
     "metadata": {},
     "output_type": "display_data"
    },
    {
     "name": "stdout",
     "output_type": "stream",
     "text": [
      "<class 'pandas.core.frame.DataFrame'>\n",
      "RangeIndex: 1890 entries, 189 to 2078\n",
      "Data columns (total 5 columns):\n",
      " #   Column       Non-Null Count  Dtype  \n",
      "---  ------       --------------  -----  \n",
      " 0   Movie        1890 non-null   object \n",
      " 1   Level        1890 non-null   object \n",
      " 2   total_time   1890 non-null   float64\n",
      " 3   total_words  1890 non-null   float64\n",
      " 4   raito        1890 non-null   float64\n",
      "dtypes: float64(3), object(2)\n",
      "memory usage: 74.0+ KB\n"
     ]
    },
    {
     "data": {
      "text/plain": [
       "None"
      ]
     },
     "metadata": {},
     "output_type": "display_data"
    }
   ],
   "source": [
    "get_info(labels)"
   ]
  },
  {
   "cell_type": "code",
   "execution_count": 384,
   "metadata": {},
   "outputs": [],
   "source": [
    "def convert_to_lemm (name):\n",
    "    nlp = spacy.load(\"en_core_web_sm\")\n",
    "    file = open(f'./Subtitles_txt/{name}.txt')\n",
    "    text = file.read()\n",
    "    file_lemm = open(f'./sub_lemm/{name}.txt', 'w+')\n",
    "    doc = nlp(text)\n",
    "    for token in doc:\n",
    "        if token.is_stop: continue\n",
    "        file_lemm.write(f'{token.lemma_} ')\n",
    "    file.close()\n",
    "    file_lemm.close()"
   ]
  },
  {
   "cell_type": "code",
   "execution_count": 385,
   "metadata": {},
   "outputs": [],
   "source": [
    "if OPTION_CONVERT:\n",
    "    for name in labels['Movie']:\n",
    "        convert_to_lemm(name)"
   ]
  },
  {
   "cell_type": "code",
   "execution_count": 386,
   "metadata": {},
   "outputs": [],
   "source": [
    "if OPTION_CONVERT:\n",
    "    pdf_dic = os.listdir('./dic')  \n",
    "    for dic in pdf_dic:\n",
    "        reader = PdfReader(f\"./dic/{dic[:-4]}.pdf\")\n",
    "        file = open(f'./Dic_txt/{dic[:-4]}.txt','+w',encoding=\"utf-8\")\n",
    "        number_of_pages = len(reader.pages)\n",
    "        for i in range(number_of_pages):\n",
    "            page = reader.pages[i].extract_text()\n",
    "            page = re.sub(r'©.*13| .+?\\n',' ',page)\n",
    "            page = re.sub(r'\\s+',' ',page)\n",
    "            file.write(page)\n",
    "        file.close()"
   ]
  },
  {
   "cell_type": "code",
   "execution_count": 387,
   "metadata": {},
   "outputs": [],
   "source": [
    "if OPTION_CONVERT:\n",
    "    txt_dic = os.listdir('./Dic_txt/')\n",
    "    levels = [\n",
    "            'A1',\n",
    "            'A2',\n",
    "            'B1',\n",
    "            'B2',\n",
    "            'C1',\n",
    "            'C2',\n",
    "            ]\n",
    "    lev = {\"A1\":1,\n",
    "        \"A2\":1,\n",
    "        \"B1\":1,\n",
    "        \"B2\":1,\n",
    "        \"C1\":1,\n",
    "        \"C2\":1}\n",
    "    for dic in txt_dic:\n",
    "        for i in range(len(levels)):\n",
    "            if lev[levels[i]]:\n",
    "                level = open(f'./levels/{levels[i]}.txt','+w')\n",
    "                lev[levels[i]] = 0\n",
    "            else:\n",
    "                level = open(f'./levels/{levels[i]}.txt','a')\n",
    "            file_dic = open(f'./Dic_txt/{dic}')\n",
    "            text = file_dic.read()\n",
    "            start = text.find(levels[i])\n",
    "            try:\n",
    "                end = text.find(levels[i+1])\n",
    "            except:\n",
    "                end = len(text)\n",
    "            if start == -1: continue\n",
    "            level.write(text[start+3:end])\n",
    "        level.close()\n",
    "        file_dic.close()"
   ]
  },
  {
   "cell_type": "code",
   "execution_count": 388,
   "metadata": {},
   "outputs": [],
   "source": [
    "A1 = open('./levels/A1.txt').read()\n",
    "A2 = open('./levels/A2.txt').read()\n",
    "B1 = open('./levels/B1.txt').read()\n",
    "B2 = open('./levels/B2.txt').read()\n",
    "C1 = open('./levels/C1.txt').read()\n",
    "C2 = open('./levels/C2.txt').read()\n",
    "levels_txt = {'a1':A1,\n",
    "            'a2':A2,\n",
    "            'b1':B1,\n",
    "            'b2':B2,\n",
    "            'c1':C1,\n",
    "            'c2':C2}"
   ]
  },
  {
   "cell_type": "code",
   "execution_count": 389,
   "metadata": {},
   "outputs": [],
   "source": [
    "lemm_sub = os.listdir('./sub_lemm/')\n",
    "for lemm in lemm_sub:\n",
    "    sub = open(f'./sub_lemm/{lemm}').read().split()\n",
    "    labels.loc[labels['Movie'] == lemm[:-4],'uniq'] = len(set(sub))\n",
    "    lev_count = {'a1':0,\n",
    "                 'a2':0,\n",
    "                 'b1':0,\n",
    "                 'b2':0,\n",
    "                 'c1':0,\n",
    "                 'c2':0}\n",
    "    for word in sub:\n",
    "        for i in lev_count.keys():\n",
    "            if word in levels_txt[i]: \n",
    "                lev_count[i] += 1\n",
    "                break\n",
    "    for k in lev_count.keys():\n",
    "        labels.loc[labels['Movie'] == lemm[:-4], k] = lev_count[k]\n",
    "    lev_count = {'a1':0,\n",
    "                 'a2':0,\n",
    "                 'b1':0,\n",
    "                 'b2':0,\n",
    "                 'c1':0,\n",
    "                 'c2':0}\n",
    "    for word in set(sub):\n",
    "        for i in lev_count.keys():\n",
    "            if word in levels_txt[i]: \n",
    "                lev_count[i] += 1\n",
    "                break\n",
    "    for k in lev_count.keys():\n",
    "        labels.loc[labels['Movie'] == lemm[:-4], f'{k}_uniq'] = lev_count[k]"
   ]
  },
  {
   "cell_type": "code",
   "execution_count": 390,
   "metadata": {},
   "outputs": [],
   "source": [
    "labels.loc[labels['Level'] == 'A1', 'Level'] = 0\n",
    "labels.loc[labels['Level'] == 'A2', 'Level'] = 1\n",
    "labels.loc[labels['Level'] == 'B1', 'Level'] = 2\n",
    "labels.loc[labels['Level'] == 'B2', 'Level'] = 3\n",
    "labels.loc[labels['Level'] == 'C1', 'Level'] = 4\n",
    "labels.loc[labels['Level'] == 'C2', 'Level'] = 5\n",
    "labels['Level'] = labels['Level'].astype('int')"
   ]
  },
  {
   "cell_type": "code",
   "execution_count": 391,
   "metadata": {},
   "outputs": [
    {
     "data": {
      "text/html": [
       "<div>\n",
       "<style scoped>\n",
       "    .dataframe tbody tr th:only-of-type {\n",
       "        vertical-align: middle;\n",
       "    }\n",
       "\n",
       "    .dataframe tbody tr th {\n",
       "        vertical-align: top;\n",
       "    }\n",
       "\n",
       "    .dataframe thead th {\n",
       "        text-align: right;\n",
       "    }\n",
       "</style>\n",
       "<table border=\"1\" class=\"dataframe\">\n",
       "  <thead>\n",
       "    <tr style=\"text-align: right;\">\n",
       "      <th></th>\n",
       "      <th>Movie</th>\n",
       "      <th>Level</th>\n",
       "      <th>total_time</th>\n",
       "      <th>total_words</th>\n",
       "      <th>raito</th>\n",
       "      <th>uniq</th>\n",
       "      <th>a1</th>\n",
       "      <th>a2</th>\n",
       "      <th>b1</th>\n",
       "      <th>b2</th>\n",
       "      <th>c1</th>\n",
       "      <th>c2</th>\n",
       "      <th>a1_uniq</th>\n",
       "      <th>a2_uniq</th>\n",
       "      <th>b1_uniq</th>\n",
       "      <th>b2_uniq</th>\n",
       "      <th>c1_uniq</th>\n",
       "      <th>c2_uniq</th>\n",
       "    </tr>\n",
       "  </thead>\n",
       "  <tbody>\n",
       "    <tr>\n",
       "      <th>1980</th>\n",
       "      <td>the_prince_of_egypt_1</td>\n",
       "      <td>3</td>\n",
       "      <td>292.092</td>\n",
       "      <td>639.0</td>\n",
       "      <td>2.187667</td>\n",
       "      <td>159.0</td>\n",
       "      <td>117.0</td>\n",
       "      <td>26.0</td>\n",
       "      <td>10.0</td>\n",
       "      <td>9.0</td>\n",
       "      <td>5.0</td>\n",
       "      <td>0.0</td>\n",
       "      <td>82.0</td>\n",
       "      <td>23.0</td>\n",
       "      <td>8.0</td>\n",
       "      <td>7.0</td>\n",
       "      <td>5.0</td>\n",
       "      <td>0.0</td>\n",
       "    </tr>\n",
       "    <tr>\n",
       "      <th>738</th>\n",
       "      <td>titanic_9</td>\n",
       "      <td>3</td>\n",
       "      <td>447.917</td>\n",
       "      <td>1230.0</td>\n",
       "      <td>2.746044</td>\n",
       "      <td>318.0</td>\n",
       "      <td>284.0</td>\n",
       "      <td>74.0</td>\n",
       "      <td>20.0</td>\n",
       "      <td>29.0</td>\n",
       "      <td>4.0</td>\n",
       "      <td>0.0</td>\n",
       "      <td>159.0</td>\n",
       "      <td>49.0</td>\n",
       "      <td>16.0</td>\n",
       "      <td>25.0</td>\n",
       "      <td>4.0</td>\n",
       "      <td>0.0</td>\n",
       "    </tr>\n",
       "    <tr>\n",
       "      <th>1617</th>\n",
       "      <td>just_married_8</td>\n",
       "      <td>2</td>\n",
       "      <td>371.968</td>\n",
       "      <td>848.0</td>\n",
       "      <td>2.279766</td>\n",
       "      <td>228.0</td>\n",
       "      <td>203.0</td>\n",
       "      <td>28.0</td>\n",
       "      <td>14.0</td>\n",
       "      <td>10.0</td>\n",
       "      <td>5.0</td>\n",
       "      <td>0.0</td>\n",
       "      <td>120.0</td>\n",
       "      <td>21.0</td>\n",
       "      <td>13.0</td>\n",
       "      <td>9.0</td>\n",
       "      <td>3.0</td>\n",
       "      <td>0.0</td>\n",
       "    </tr>\n",
       "    <tr>\n",
       "      <th>517</th>\n",
       "      <td>love_actually_8</td>\n",
       "      <td>2</td>\n",
       "      <td>535.216</td>\n",
       "      <td>1118.0</td>\n",
       "      <td>2.088876</td>\n",
       "      <td>307.0</td>\n",
       "      <td>273.0</td>\n",
       "      <td>58.0</td>\n",
       "      <td>21.0</td>\n",
       "      <td>22.0</td>\n",
       "      <td>3.0</td>\n",
       "      <td>0.0</td>\n",
       "      <td>142.0</td>\n",
       "      <td>45.0</td>\n",
       "      <td>17.0</td>\n",
       "      <td>20.0</td>\n",
       "      <td>3.0</td>\n",
       "      <td>0.0</td>\n",
       "    </tr>\n",
       "    <tr>\n",
       "      <th>2023</th>\n",
       "      <td>wallace_grommit_4</td>\n",
       "      <td>3</td>\n",
       "      <td>194.733</td>\n",
       "      <td>430.0</td>\n",
       "      <td>2.208152</td>\n",
       "      <td>137.0</td>\n",
       "      <td>82.0</td>\n",
       "      <td>17.0</td>\n",
       "      <td>10.0</td>\n",
       "      <td>16.0</td>\n",
       "      <td>7.0</td>\n",
       "      <td>0.0</td>\n",
       "      <td>55.0</td>\n",
       "      <td>17.0</td>\n",
       "      <td>9.0</td>\n",
       "      <td>11.0</td>\n",
       "      <td>5.0</td>\n",
       "      <td>0.0</td>\n",
       "    </tr>\n",
       "  </tbody>\n",
       "</table>\n",
       "</div>"
      ],
      "text/plain": [
       "                      Movie  Level  total_time  total_words     raito   uniq  \\\n",
       "1980  the_prince_of_egypt_1      3     292.092        639.0  2.187667  159.0   \n",
       "738               titanic_9      3     447.917       1230.0  2.746044  318.0   \n",
       "1617         just_married_8      2     371.968        848.0  2.279766  228.0   \n",
       "517         love_actually_8      2     535.216       1118.0  2.088876  307.0   \n",
       "2023      wallace_grommit_4      3     194.733        430.0  2.208152  137.0   \n",
       "\n",
       "         a1    a2    b1    b2   c1   c2  a1_uniq  a2_uniq  b1_uniq  b2_uniq  \\\n",
       "1980  117.0  26.0  10.0   9.0  5.0  0.0     82.0     23.0      8.0      7.0   \n",
       "738   284.0  74.0  20.0  29.0  4.0  0.0    159.0     49.0     16.0     25.0   \n",
       "1617  203.0  28.0  14.0  10.0  5.0  0.0    120.0     21.0     13.0      9.0   \n",
       "517   273.0  58.0  21.0  22.0  3.0  0.0    142.0     45.0     17.0     20.0   \n",
       "2023   82.0  17.0  10.0  16.0  7.0  0.0     55.0     17.0      9.0     11.0   \n",
       "\n",
       "      c1_uniq  c2_uniq  \n",
       "1980      5.0      0.0  \n",
       "738       4.0      0.0  \n",
       "1617      3.0      0.0  \n",
       "517       3.0      0.0  \n",
       "2023      5.0      0.0  "
      ]
     },
     "metadata": {},
     "output_type": "display_data"
    },
    {
     "name": "stdout",
     "output_type": "stream",
     "text": [
      "<class 'pandas.core.frame.DataFrame'>\n",
      "RangeIndex: 1890 entries, 189 to 2078\n",
      "Data columns (total 18 columns):\n",
      " #   Column       Non-Null Count  Dtype  \n",
      "---  ------       --------------  -----  \n",
      " 0   Movie        1890 non-null   object \n",
      " 1   Level        1890 non-null   int32  \n",
      " 2   total_time   1890 non-null   float64\n",
      " 3   total_words  1890 non-null   float64\n",
      " 4   raito        1890 non-null   float64\n",
      " 5   uniq         1890 non-null   float64\n",
      " 6   a1           1890 non-null   float64\n",
      " 7   a2           1890 non-null   float64\n",
      " 8   b1           1890 non-null   float64\n",
      " 9   b2           1890 non-null   float64\n",
      " 10  c1           1890 non-null   float64\n",
      " 11  c2           1890 non-null   float64\n",
      " 12  a1_uniq      1890 non-null   float64\n",
      " 13  a2_uniq      1890 non-null   float64\n",
      " 14  b1_uniq      1890 non-null   float64\n",
      " 15  b2_uniq      1890 non-null   float64\n",
      " 16  c1_uniq      1890 non-null   float64\n",
      " 17  c2_uniq      1890 non-null   float64\n",
      "dtypes: float64(16), int32(1), object(1)\n",
      "memory usage: 258.5+ KB\n"
     ]
    },
    {
     "data": {
      "text/plain": [
       "None"
      ]
     },
     "metadata": {},
     "output_type": "display_data"
    }
   ],
   "source": [
    "get_info(labels)"
   ]
  },
  {
   "cell_type": "code",
   "execution_count": 392,
   "metadata": {},
   "outputs": [],
   "source": [
    "df = labels.loc[:,['Level','total_time','raito','uniq','a1','a2','b1','b2','c1','c2','a1_uniq','a2_uniq','b1_uniq','b2_uniq','c1_uniq']]"
   ]
  },
  {
   "cell_type": "code",
   "execution_count": 399,
   "metadata": {},
   "outputs": [],
   "source": [
    "df = labels.loc[:,'Level':'c2_uniq']"
   ]
  },
  {
   "cell_type": "code",
   "execution_count": 43,
   "metadata": {},
   "outputs": [],
   "source": [
    "tabl = df.pivot_table(index='Level',\n",
    "                      values=['a1','a2','b1','b2','c1','c2'],\n",
    "                      aggfunc='mean')"
   ]
  },
  {
   "cell_type": "code",
   "execution_count": 44,
   "metadata": {},
   "outputs": [
    {
     "data": {
      "text/html": [
       "<div>\n",
       "<style scoped>\n",
       "    .dataframe tbody tr th:only-of-type {\n",
       "        vertical-align: middle;\n",
       "    }\n",
       "\n",
       "    .dataframe tbody tr th {\n",
       "        vertical-align: top;\n",
       "    }\n",
       "\n",
       "    .dataframe thead th {\n",
       "        text-align: right;\n",
       "    }\n",
       "</style>\n",
       "<table border=\"1\" class=\"dataframe\">\n",
       "  <thead>\n",
       "    <tr style=\"text-align: right;\">\n",
       "      <th></th>\n",
       "      <th>a1</th>\n",
       "      <th>a2</th>\n",
       "      <th>b1</th>\n",
       "      <th>b2</th>\n",
       "      <th>c1</th>\n",
       "      <th>c2</th>\n",
       "    </tr>\n",
       "    <tr>\n",
       "      <th>Level</th>\n",
       "      <th></th>\n",
       "      <th></th>\n",
       "      <th></th>\n",
       "      <th></th>\n",
       "      <th></th>\n",
       "      <th></th>\n",
       "    </tr>\n",
       "  </thead>\n",
       "  <tbody>\n",
       "    <tr>\n",
       "      <th>1</th>\n",
       "      <td>1944.172414</td>\n",
       "      <td>371.862069</td>\n",
       "      <td>140.034483</td>\n",
       "      <td>148.517241</td>\n",
       "      <td>59.206897</td>\n",
       "      <td>0.0</td>\n",
       "    </tr>\n",
       "    <tr>\n",
       "      <th>2</th>\n",
       "      <td>2192.112676</td>\n",
       "      <td>415.732394</td>\n",
       "      <td>160.253521</td>\n",
       "      <td>159.169014</td>\n",
       "      <td>68.478873</td>\n",
       "      <td>0.0</td>\n",
       "    </tr>\n",
       "    <tr>\n",
       "      <th>3</th>\n",
       "      <td>2207.272727</td>\n",
       "      <td>456.740260</td>\n",
       "      <td>192.623377</td>\n",
       "      <td>178.454545</td>\n",
       "      <td>80.389610</td>\n",
       "      <td>0.0</td>\n",
       "    </tr>\n",
       "    <tr>\n",
       "      <th>4</th>\n",
       "      <td>2041.833333</td>\n",
       "      <td>433.916667</td>\n",
       "      <td>169.000000</td>\n",
       "      <td>167.833333</td>\n",
       "      <td>79.416667</td>\n",
       "      <td>0.0</td>\n",
       "    </tr>\n",
       "  </tbody>\n",
       "</table>\n",
       "</div>"
      ],
      "text/plain": [
       "                a1          a2          b1          b2         c1   c2\n",
       "Level                                                                 \n",
       "1      1944.172414  371.862069  140.034483  148.517241  59.206897  0.0\n",
       "2      2192.112676  415.732394  160.253521  159.169014  68.478873  0.0\n",
       "3      2207.272727  456.740260  192.623377  178.454545  80.389610  0.0\n",
       "4      2041.833333  433.916667  169.000000  167.833333  79.416667  0.0"
      ]
     },
     "execution_count": 44,
     "metadata": {},
     "output_type": "execute_result"
    }
   ],
   "source": [
    "tabl"
   ]
  },
  {
   "cell_type": "code",
   "execution_count": 308,
   "metadata": {},
   "outputs": [
    {
     "data": {
      "text/html": [
       "<div>\n",
       "<style scoped>\n",
       "    .dataframe tbody tr th:only-of-type {\n",
       "        vertical-align: middle;\n",
       "    }\n",
       "\n",
       "    .dataframe tbody tr th {\n",
       "        vertical-align: top;\n",
       "    }\n",
       "\n",
       "    .dataframe thead th {\n",
       "        text-align: right;\n",
       "    }\n",
       "</style>\n",
       "<table border=\"1\" class=\"dataframe\">\n",
       "  <thead>\n",
       "    <tr style=\"text-align: right;\">\n",
       "      <th></th>\n",
       "      <th>Level</th>\n",
       "      <th>total_time</th>\n",
       "      <th>raito</th>\n",
       "      <th>uniq</th>\n",
       "      <th>a1</th>\n",
       "      <th>a2</th>\n",
       "      <th>b1</th>\n",
       "      <th>b2</th>\n",
       "      <th>c1</th>\n",
       "      <th>c2</th>\n",
       "      <th>a1_uniq</th>\n",
       "      <th>a2_uniq</th>\n",
       "      <th>b1_uniq</th>\n",
       "      <th>b2_uniq</th>\n",
       "      <th>c1_uniq</th>\n",
       "    </tr>\n",
       "  </thead>\n",
       "  <tbody>\n",
       "    <tr>\n",
       "      <th>1726</th>\n",
       "      <td>3</td>\n",
       "      <td>488.327</td>\n",
       "      <td>2.633481</td>\n",
       "      <td>397.0</td>\n",
       "      <td>0.202177</td>\n",
       "      <td>0.064541</td>\n",
       "      <td>0.026439</td>\n",
       "      <td>0.027216</td>\n",
       "      <td>0.013997</td>\n",
       "      <td>0.0</td>\n",
       "      <td>0.413098</td>\n",
       "      <td>0.176322</td>\n",
       "      <td>0.080605</td>\n",
       "      <td>0.078086</td>\n",
       "      <td>0.042821</td>\n",
       "    </tr>\n",
       "    <tr>\n",
       "      <th>681</th>\n",
       "      <td>2</td>\n",
       "      <td>538.063</td>\n",
       "      <td>2.217212</td>\n",
       "      <td>316.0</td>\n",
       "      <td>0.264040</td>\n",
       "      <td>0.046940</td>\n",
       "      <td>0.014250</td>\n",
       "      <td>0.012573</td>\n",
       "      <td>0.005868</td>\n",
       "      <td>0.0</td>\n",
       "      <td>0.506329</td>\n",
       "      <td>0.148734</td>\n",
       "      <td>0.053797</td>\n",
       "      <td>0.041139</td>\n",
       "      <td>0.022152</td>\n",
       "    </tr>\n",
       "    <tr>\n",
       "      <th>1447</th>\n",
       "      <td>3</td>\n",
       "      <td>356.936</td>\n",
       "      <td>3.098595</td>\n",
       "      <td>339.0</td>\n",
       "      <td>0.245931</td>\n",
       "      <td>0.047920</td>\n",
       "      <td>0.026221</td>\n",
       "      <td>0.018083</td>\n",
       "      <td>0.010850</td>\n",
       "      <td>0.0</td>\n",
       "      <td>0.483776</td>\n",
       "      <td>0.135693</td>\n",
       "      <td>0.053097</td>\n",
       "      <td>0.058997</td>\n",
       "      <td>0.035398</td>\n",
       "    </tr>\n",
       "    <tr>\n",
       "      <th>859</th>\n",
       "      <td>3</td>\n",
       "      <td>457.795</td>\n",
       "      <td>2.376610</td>\n",
       "      <td>323.0</td>\n",
       "      <td>0.228860</td>\n",
       "      <td>0.040441</td>\n",
       "      <td>0.022978</td>\n",
       "      <td>0.016544</td>\n",
       "      <td>0.009191</td>\n",
       "      <td>0.0</td>\n",
       "      <td>0.470588</td>\n",
       "      <td>0.130031</td>\n",
       "      <td>0.065015</td>\n",
       "      <td>0.046440</td>\n",
       "      <td>0.027864</td>\n",
       "    </tr>\n",
       "    <tr>\n",
       "      <th>1055</th>\n",
       "      <td>4</td>\n",
       "      <td>385.782</td>\n",
       "      <td>2.975774</td>\n",
       "      <td>319.0</td>\n",
       "      <td>0.222125</td>\n",
       "      <td>0.048780</td>\n",
       "      <td>0.030488</td>\n",
       "      <td>0.024390</td>\n",
       "      <td>0.011324</td>\n",
       "      <td>0.0</td>\n",
       "      <td>0.426332</td>\n",
       "      <td>0.150470</td>\n",
       "      <td>0.100313</td>\n",
       "      <td>0.084639</td>\n",
       "      <td>0.037618</td>\n",
       "    </tr>\n",
       "  </tbody>\n",
       "</table>\n",
       "</div>"
      ],
      "text/plain": [
       "      Level  total_time     raito   uniq        a1        a2        b1  \\\n",
       "1726      3     488.327  2.633481  397.0  0.202177  0.064541  0.026439   \n",
       "681       2     538.063  2.217212  316.0  0.264040  0.046940  0.014250   \n",
       "1447      3     356.936  3.098595  339.0  0.245931  0.047920  0.026221   \n",
       "859       3     457.795  2.376610  323.0  0.228860  0.040441  0.022978   \n",
       "1055      4     385.782  2.975774  319.0  0.222125  0.048780  0.030488   \n",
       "\n",
       "            b2        c1   c2   a1_uniq   a2_uniq   b1_uniq   b2_uniq  \\\n",
       "1726  0.027216  0.013997  0.0  0.413098  0.176322  0.080605  0.078086   \n",
       "681   0.012573  0.005868  0.0  0.506329  0.148734  0.053797  0.041139   \n",
       "1447  0.018083  0.010850  0.0  0.483776  0.135693  0.053097  0.058997   \n",
       "859   0.016544  0.009191  0.0  0.470588  0.130031  0.065015  0.046440   \n",
       "1055  0.024390  0.011324  0.0  0.426332  0.150470  0.100313  0.084639   \n",
       "\n",
       "       c1_uniq  \n",
       "1726  0.042821  \n",
       "681   0.022152  \n",
       "1447  0.035398  \n",
       "859   0.027864  \n",
       "1055  0.037618  "
      ]
     },
     "metadata": {},
     "output_type": "display_data"
    },
    {
     "name": "stdout",
     "output_type": "stream",
     "text": [
      "<class 'pandas.core.frame.DataFrame'>\n",
      "Int64Index: 1890 entries, 0 to 1889\n",
      "Data columns (total 15 columns):\n",
      " #   Column      Non-Null Count  Dtype  \n",
      "---  ------      --------------  -----  \n",
      " 0   Level       1890 non-null   int32  \n",
      " 1   total_time  1890 non-null   float64\n",
      " 2   raito       1890 non-null   float64\n",
      " 3   uniq        1890 non-null   float64\n",
      " 4   a1          1890 non-null   float64\n",
      " 5   a2          1890 non-null   float64\n",
      " 6   b1          1890 non-null   float64\n",
      " 7   b2          1890 non-null   float64\n",
      " 8   c1          1890 non-null   float64\n",
      " 9   c2          1890 non-null   float64\n",
      " 10  a1_uniq     1890 non-null   float64\n",
      " 11  a2_uniq     1890 non-null   float64\n",
      " 12  b1_uniq     1890 non-null   float64\n",
      " 13  b2_uniq     1890 non-null   float64\n",
      " 14  c1_uniq     1890 non-null   float64\n",
      "dtypes: float64(14), int32(1)\n",
      "memory usage: 293.4 KB\n"
     ]
    },
    {
     "data": {
      "text/plain": [
       "None"
      ]
     },
     "metadata": {},
     "output_type": "display_data"
    }
   ],
   "source": [
    "get_info(df)"
   ]
  },
  {
   "cell_type": "code",
   "execution_count": 400,
   "metadata": {},
   "outputs": [],
   "source": [
    "train_df, test_df = train_test_split(df, test_size=.25, random_state=RANDOM_STATE)"
   ]
  },
  {
   "cell_type": "code",
   "execution_count": 310,
   "metadata": {},
   "outputs": [
    {
     "data": {
      "text/plain": [
       "3    571\n",
       "2    526\n",
       "1    224\n",
       "4     96\n",
       "Name: Level, dtype: int64"
      ]
     },
     "execution_count": 310,
     "metadata": {},
     "output_type": "execute_result"
    }
   ],
   "source": [
    "train_df['Level'].value_counts()"
   ]
  },
  {
   "cell_type": "code",
   "execution_count": 311,
   "metadata": {},
   "outputs": [
    {
     "data": {
      "text/plain": [
       "3    199\n",
       "2    184\n",
       "1     66\n",
       "4     24\n",
       "Name: Level, dtype: int64"
      ]
     },
     "execution_count": 311,
     "metadata": {},
     "output_type": "execute_result"
    }
   ],
   "source": [
    "test_df['Level'].value_counts()"
   ]
  },
  {
   "cell_type": "code",
   "execution_count": 401,
   "metadata": {},
   "outputs": [],
   "source": [
    "train_df_features = train_df.drop([\"Level\"], axis= 1)\n",
    "train_df_ans = train_df[\"Level\"]\n",
    "test_df_features = test_df.drop([\"Level\"], axis= 1)\n",
    "test_df_ans = test_df[\"Level\"]"
   ]
  },
  {
   "cell_type": "code",
   "execution_count": 402,
   "metadata": {},
   "outputs": [],
   "source": [
    "column = train_df_features.columns\n",
    "scaler = StandardScaler()\n",
    "scaler.fit(train_df_features[column])\n",
    "pd.options.mode.chained_assignment = None\n",
    "train_df_features[column] = scaler.transform(train_df_features[column])\n",
    "test_df_features[column] = scaler.transform(test_df_features[column])"
   ]
  },
  {
   "cell_type": "code",
   "execution_count": 404,
   "metadata": {},
   "outputs": [],
   "source": [
    "with open('./models/scaller.pickle', 'wb') as scal:\n",
    "    pickle.dump(scaler, scal)"
   ]
  },
  {
   "cell_type": "code",
   "execution_count": 403,
   "metadata": {},
   "outputs": [
    {
     "name": "stdout",
     "output_type": "stream",
     "text": [
      "Fitting 3 folds for each of 1 candidates, totalling 3 fits\n",
      "[CV 1/3] END depth=6, iterations=2550, l2_leaf_reg=3, learning_rate=0.05;, score=0.677 total time=  10.8s\n",
      "[CV 2/3] END depth=6, iterations=2550, l2_leaf_reg=3, learning_rate=0.05;, score=0.667 total time=  10.3s\n",
      "[CV 3/3] END depth=6, iterations=2550, l2_leaf_reg=3, learning_rate=0.05;, score=0.674 total time=  10.2s\n",
      "{'depth': 6, 'iterations': 2550, 'l2_leaf_reg': 3, 'learning_rate': 0.05}\n",
      "0.6725448214904265\n",
      "0.7420718816067653\n"
     ]
    }
   ],
   "source": [
    "parametrs = {'depth' :[6],\n",
    "            'iterations' : [2550],\n",
    "            'learning_rate' : [.05],\n",
    "            'l2_leaf_reg': [3]}\n",
    "cbc = GridSearchCV(CBC(random_seed= RANDOM_STATE,\n",
    "                        logging_level='Silent',\n",
    "                        auto_class_weights='Balanced'), \n",
    "                    parametrs, \n",
    "                    scoring = 'accuracy',\n",
    "                    verbose = 3,\n",
    "                    cv=3)\n",
    "cbc.fit(train_df_features, train_df_ans)\n",
    "print (cbc.best_params_)\n",
    "print (cbc.best_score_)\n",
    "bot_send(f'{cbc.best_score_}')\n",
    "for s in cbc.best_params_:\n",
    "    bot_send (f'{s}: {cbc.best_params_[s]}')\n",
    "score = accuracy_score(test_df_ans,cbc.predict(test_df_features))\n",
    "print(score)\n",
    "bot_send(f'{score}')"
   ]
  },
  {
   "cell_type": "code",
   "execution_count": 405,
   "metadata": {},
   "outputs": [],
   "source": [
    "with open('./models/model.pickle', 'wb') as model:\n",
    "    pickle.dump(cbc,model)"
   ]
  },
  {
   "cell_type": "code",
   "execution_count": 3,
   "metadata": {},
   "outputs": [],
   "source": [
    "with open('./models/model.pickle', 'rb') as m:\n",
    "    cbc = pickle.load(m)"
   ]
  },
  {
   "cell_type": "code",
   "execution_count": 4,
   "metadata": {},
   "outputs": [],
   "source": [
    "best = cbc.best_estimator_"
   ]
  },
  {
   "cell_type": "code",
   "execution_count": 5,
   "metadata": {},
   "outputs": [
    {
     "data": {
      "text/plain": [
       "array([13.78589158,  8.22839241, 14.64950686, 11.02868594, 10.36857249,\n",
       "        4.99371282,  5.08134256,  5.80630085,  5.0785227 ,  0.        ,\n",
       "        5.84152358,  4.31965299,  3.79869197,  3.88507827,  3.13412498,\n",
       "        0.        ])"
      ]
     },
     "execution_count": 5,
     "metadata": {},
     "output_type": "execute_result"
    }
   ],
   "source": [
    "best.feature_importances_"
   ]
  },
  {
   "cell_type": "code",
   "execution_count": 6,
   "metadata": {},
   "outputs": [
    {
     "data": {
      "text/plain": [
       "['total_time',\n",
       " 'total_words',\n",
       " 'raito',\n",
       " 'uniq',\n",
       " 'a1',\n",
       " 'a2',\n",
       " 'b1',\n",
       " 'b2',\n",
       " 'c1',\n",
       " 'c2',\n",
       " 'a1_uniq',\n",
       " 'a2_uniq',\n",
       " 'b1_uniq',\n",
       " 'b2_uniq',\n",
       " 'c1_uniq',\n",
       " 'c2_uniq']"
      ]
     },
     "execution_count": 6,
     "metadata": {},
     "output_type": "execute_result"
    }
   ],
   "source": [
    "best.feature_names_"
   ]
  },
  {
   "cell_type": "code",
   "execution_count": 315,
   "metadata": {},
   "outputs": [
    {
     "name": "stdout",
     "output_type": "stream",
     "text": [
      "Fitting 2 folds for each of 20 candidates, totalling 40 fits\n",
      "[CV 1/2] END max_depth=3, min_samples_leaf=2, min_samples_split=2, n_estimators=328;, score=0.422 total time=   0.5s\n",
      "[CV 2/2] END max_depth=3, min_samples_leaf=2, min_samples_split=2, n_estimators=328;, score=0.448 total time=   0.5s\n",
      "[CV 1/2] END max_depth=3, min_samples_leaf=2, min_samples_split=4, n_estimators=328;, score=0.422 total time=   0.5s\n",
      "[CV 2/2] END max_depth=3, min_samples_leaf=2, min_samples_split=4, n_estimators=328;, score=0.448 total time=   0.5s\n",
      "[CV 1/2] END max_depth=3, min_samples_leaf=2, min_samples_split=6, n_estimators=328;, score=0.426 total time=   0.5s\n",
      "[CV 2/2] END max_depth=3, min_samples_leaf=2, min_samples_split=6, n_estimators=328;, score=0.444 total time=   0.5s\n",
      "[CV 1/2] END max_depth=3, min_samples_leaf=2, min_samples_split=8, n_estimators=328;, score=0.427 total time=   0.5s\n",
      "[CV 2/2] END max_depth=3, min_samples_leaf=2, min_samples_split=8, n_estimators=328;, score=0.442 total time=   0.5s\n",
      "[CV 1/2] END max_depth=3, min_samples_leaf=2, min_samples_split=10, n_estimators=328;, score=0.427 total time=   0.5s\n",
      "[CV 2/2] END max_depth=3, min_samples_leaf=2, min_samples_split=10, n_estimators=328;, score=0.444 total time=   0.6s\n",
      "[CV 1/2] END max_depth=3, min_samples_leaf=3, min_samples_split=2, n_estimators=328;, score=0.425 total time=   0.6s\n",
      "[CV 2/2] END max_depth=3, min_samples_leaf=3, min_samples_split=2, n_estimators=328;, score=0.442 total time=   0.6s\n",
      "[CV 1/2] END max_depth=3, min_samples_leaf=3, min_samples_split=4, n_estimators=328;, score=0.425 total time=   0.6s\n",
      "[CV 2/2] END max_depth=3, min_samples_leaf=3, min_samples_split=4, n_estimators=328;, score=0.442 total time=   0.6s\n",
      "[CV 1/2] END max_depth=3, min_samples_leaf=3, min_samples_split=6, n_estimators=328;, score=0.425 total time=   0.5s\n",
      "[CV 2/2] END max_depth=3, min_samples_leaf=3, min_samples_split=6, n_estimators=328;, score=0.442 total time=   0.6s\n",
      "[CV 1/2] END max_depth=3, min_samples_leaf=3, min_samples_split=8, n_estimators=328;, score=0.430 total time=   0.6s\n",
      "[CV 2/2] END max_depth=3, min_samples_leaf=3, min_samples_split=8, n_estimators=328;, score=0.438 total time=   0.6s\n",
      "[CV 1/2] END max_depth=3, min_samples_leaf=3, min_samples_split=10, n_estimators=328;, score=0.429 total time=   0.6s\n",
      "[CV 2/2] END max_depth=3, min_samples_leaf=3, min_samples_split=10, n_estimators=328;, score=0.441 total time=   0.5s\n",
      "[CV 1/2] END max_depth=3, min_samples_leaf=4, min_samples_split=2, n_estimators=328;, score=0.430 total time=   0.6s\n",
      "[CV 2/2] END max_depth=3, min_samples_leaf=4, min_samples_split=2, n_estimators=328;, score=0.439 total time=   0.6s\n",
      "[CV 1/2] END max_depth=3, min_samples_leaf=4, min_samples_split=4, n_estimators=328;, score=0.430 total time=   0.5s\n",
      "[CV 2/2] END max_depth=3, min_samples_leaf=4, min_samples_split=4, n_estimators=328;, score=0.439 total time=   0.6s\n",
      "[CV 1/2] END max_depth=3, min_samples_leaf=4, min_samples_split=6, n_estimators=328;, score=0.430 total time=   0.5s\n",
      "[CV 2/2] END max_depth=3, min_samples_leaf=4, min_samples_split=6, n_estimators=328;, score=0.439 total time=   0.5s\n",
      "[CV 1/2] END max_depth=3, min_samples_leaf=4, min_samples_split=8, n_estimators=328;, score=0.430 total time=   0.5s\n",
      "[CV 2/2] END max_depth=3, min_samples_leaf=4, min_samples_split=8, n_estimators=328;, score=0.439 total time=   0.5s\n",
      "[CV 1/2] END max_depth=3, min_samples_leaf=4, min_samples_split=10, n_estimators=328;, score=0.429 total time=   0.5s\n",
      "[CV 2/2] END max_depth=3, min_samples_leaf=4, min_samples_split=10, n_estimators=328;, score=0.445 total time=   0.5s\n",
      "[CV 1/2] END max_depth=3, min_samples_leaf=5, min_samples_split=2, n_estimators=328;, score=0.427 total time=   0.5s\n",
      "[CV 2/2] END max_depth=3, min_samples_leaf=5, min_samples_split=2, n_estimators=328;, score=0.436 total time=   0.5s\n",
      "[CV 1/2] END max_depth=3, min_samples_leaf=5, min_samples_split=4, n_estimators=328;, score=0.427 total time=   0.6s\n",
      "[CV 2/2] END max_depth=3, min_samples_leaf=5, min_samples_split=4, n_estimators=328;, score=0.436 total time=   0.6s\n",
      "[CV 1/2] END max_depth=3, min_samples_leaf=5, min_samples_split=6, n_estimators=328;, score=0.427 total time=   0.6s\n",
      "[CV 2/2] END max_depth=3, min_samples_leaf=5, min_samples_split=6, n_estimators=328;, score=0.436 total time=   0.6s\n",
      "[CV 1/2] END max_depth=3, min_samples_leaf=5, min_samples_split=8, n_estimators=328;, score=0.427 total time=   0.6s\n",
      "[CV 2/2] END max_depth=3, min_samples_leaf=5, min_samples_split=8, n_estimators=328;, score=0.436 total time=   0.6s\n",
      "[CV 1/2] END max_depth=3, min_samples_leaf=5, min_samples_split=10, n_estimators=328;, score=0.427 total time=   0.6s\n",
      "[CV 2/2] END max_depth=3, min_samples_leaf=5, min_samples_split=10, n_estimators=328;, score=0.436 total time=   0.5s\n",
      "{'max_depth': 3, 'min_samples_leaf': 4, 'min_samples_split': 10, 'n_estimators': 328}\n",
      "0.4368440869211828\n",
      "0.4714587737843552\n"
     ]
    }
   ],
   "source": [
    "parametrs = {'n_estimators' : [328],\n",
    "            'max_depth' :[3],\n",
    "            'min_samples_leaf' : range(2,6),\n",
    "            'min_samples_split': range(2,11,2)}\n",
    "rfc = GridSearchCV(RFC(random_state= RANDOM_STATE, class_weight = 'balanced'), \n",
    "                    parametrs, \n",
    "                    scoring = 'accuracy', \n",
    "                    verbose = 3,\n",
    "                    cv=2)\n",
    "rfc.fit(train_df_features, train_df_ans)\n",
    "print (rfc.best_params_)\n",
    "print (rfc.best_score_)\n",
    "bot_send(f'{rfc.best_score_}')\n",
    "for s in rfc.best_params_:\n",
    "    bot_send (f'{s}: {rfc.best_params_[s]}')\n",
    "score = accuracy_score(test_df_ans,rfc.predict(test_df_features))\n",
    "print(score)\n",
    "bot_send(f'{score}')"
   ]
  }
 ],
 "metadata": {
  "kernelspec": {
   "display_name": "Python 3",
   "language": "python",
   "name": "python3"
  },
  "language_info": {
   "codemirror_mode": {
    "name": "ipython",
    "version": 3
   },
   "file_extension": ".py",
   "mimetype": "text/x-python",
   "name": "python",
   "nbconvert_exporter": "python",
   "pygments_lexer": "ipython3",
   "version": "3.10.4"
  },
  "orig_nbformat": 4,
  "vscode": {
   "interpreter": {
    "hash": "2469a70536e4d2335a2ea8907942d0699c37342a371ac185bdb5b0aa6f073890"
   }
  }
 },
 "nbformat": 4,
 "nbformat_minor": 2
}
