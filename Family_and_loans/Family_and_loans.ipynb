{
 "cells": [
  {
   "cell_type": "markdown",
   "id": "02661b18",
   "metadata": {},
   "source": [
    "# Исследование надежности заемщиков."
   ]
  },
  {
   "cell_type": "markdown",
   "id": "df43e03e",
   "metadata": {},
   "source": [
    "**Описание проекта**\n",
    "\n",
    "Нужно разобраться, влияет ли образование, уровень заработка, семейное положение или количество детей клиента на факт погашения кредита в срок."
   ]
  },
  {
   "cell_type": "markdown",
   "id": "98c33a87",
   "metadata": {},
   "source": [
    "### Шаг 1. Обзор данных"
   ]
  },
  {
   "cell_type": "markdown",
   "id": "ac4631d6",
   "metadata": {},
   "source": [
    "Первым делом извлечем данные в переменную df и получем первичную информацию по данной таблице."
   ]
  },
  {
   "cell_type": "code",
   "execution_count": 1,
   "id": "5af5368f",
   "metadata": {},
   "outputs": [],
   "source": [
    "import pandas as pd"
   ]
  },
  {
   "cell_type": "code",
   "execution_count": 2,
   "id": "092dd40d",
   "metadata": {},
   "outputs": [
    {
     "name": "stdout",
     "output_type": "stream",
     "text": [
      "<class 'pandas.core.frame.DataFrame'>\n",
      "RangeIndex: 21525 entries, 0 to 21524\n",
      "Data columns (total 12 columns):\n",
      " #   Column            Non-Null Count  Dtype  \n",
      "---  ------            --------------  -----  \n",
      " 0   children          21525 non-null  int64  \n",
      " 1   days_employed     19351 non-null  float64\n",
      " 2   dob_years         21525 non-null  int64  \n",
      " 3   education         21525 non-null  object \n",
      " 4   education_id      21525 non-null  int64  \n",
      " 5   family_status     21525 non-null  object \n",
      " 6   family_status_id  21525 non-null  int64  \n",
      " 7   gender            21525 non-null  object \n",
      " 8   income_type       21525 non-null  object \n",
      " 9   debt              21525 non-null  int64  \n",
      " 10  total_income      19351 non-null  float64\n",
      " 11  purpose           21525 non-null  object \n",
      "dtypes: float64(2), int64(5), object(5)\n",
      "memory usage: 2.0+ MB\n"
     ]
    }
   ],
   "source": [
    "df = pd.read_csv(\"A:\\Practicum\\Project_2\\data.csv\")\n",
    "df.info()"
   ]
  },
  {
   "cell_type": "code",
   "execution_count": 3,
   "id": "e484be56",
   "metadata": {},
   "outputs": [
    {
     "data": {
      "text/html": [
       "<div>\n",
       "<style scoped>\n",
       "    .dataframe tbody tr th:only-of-type {\n",
       "        vertical-align: middle;\n",
       "    }\n",
       "\n",
       "    .dataframe tbody tr th {\n",
       "        vertical-align: top;\n",
       "    }\n",
       "\n",
       "    .dataframe thead th {\n",
       "        text-align: right;\n",
       "    }\n",
       "</style>\n",
       "<table border=\"1\" class=\"dataframe\">\n",
       "  <thead>\n",
       "    <tr style=\"text-align: right;\">\n",
       "      <th></th>\n",
       "      <th>children</th>\n",
       "      <th>days_employed</th>\n",
       "      <th>dob_years</th>\n",
       "      <th>education</th>\n",
       "      <th>education_id</th>\n",
       "      <th>family_status</th>\n",
       "      <th>family_status_id</th>\n",
       "      <th>gender</th>\n",
       "      <th>income_type</th>\n",
       "      <th>debt</th>\n",
       "      <th>total_income</th>\n",
       "      <th>purpose</th>\n",
       "    </tr>\n",
       "  </thead>\n",
       "  <tbody>\n",
       "    <tr>\n",
       "      <th>0</th>\n",
       "      <td>1</td>\n",
       "      <td>-8437.673028</td>\n",
       "      <td>42</td>\n",
       "      <td>высшее</td>\n",
       "      <td>0</td>\n",
       "      <td>женат / замужем</td>\n",
       "      <td>0</td>\n",
       "      <td>F</td>\n",
       "      <td>сотрудник</td>\n",
       "      <td>0</td>\n",
       "      <td>253875.639453</td>\n",
       "      <td>покупка жилья</td>\n",
       "    </tr>\n",
       "    <tr>\n",
       "      <th>1</th>\n",
       "      <td>1</td>\n",
       "      <td>-4024.803754</td>\n",
       "      <td>36</td>\n",
       "      <td>среднее</td>\n",
       "      <td>1</td>\n",
       "      <td>женат / замужем</td>\n",
       "      <td>0</td>\n",
       "      <td>F</td>\n",
       "      <td>сотрудник</td>\n",
       "      <td>0</td>\n",
       "      <td>112080.014102</td>\n",
       "      <td>приобретение автомобиля</td>\n",
       "    </tr>\n",
       "    <tr>\n",
       "      <th>2</th>\n",
       "      <td>0</td>\n",
       "      <td>-5623.422610</td>\n",
       "      <td>33</td>\n",
       "      <td>Среднее</td>\n",
       "      <td>1</td>\n",
       "      <td>женат / замужем</td>\n",
       "      <td>0</td>\n",
       "      <td>M</td>\n",
       "      <td>сотрудник</td>\n",
       "      <td>0</td>\n",
       "      <td>145885.952297</td>\n",
       "      <td>покупка жилья</td>\n",
       "    </tr>\n",
       "    <tr>\n",
       "      <th>3</th>\n",
       "      <td>3</td>\n",
       "      <td>-4124.747207</td>\n",
       "      <td>32</td>\n",
       "      <td>среднее</td>\n",
       "      <td>1</td>\n",
       "      <td>женат / замужем</td>\n",
       "      <td>0</td>\n",
       "      <td>M</td>\n",
       "      <td>сотрудник</td>\n",
       "      <td>0</td>\n",
       "      <td>267628.550329</td>\n",
       "      <td>дополнительное образование</td>\n",
       "    </tr>\n",
       "    <tr>\n",
       "      <th>4</th>\n",
       "      <td>0</td>\n",
       "      <td>340266.072047</td>\n",
       "      <td>53</td>\n",
       "      <td>среднее</td>\n",
       "      <td>1</td>\n",
       "      <td>гражданский брак</td>\n",
       "      <td>1</td>\n",
       "      <td>F</td>\n",
       "      <td>пенсионер</td>\n",
       "      <td>0</td>\n",
       "      <td>158616.077870</td>\n",
       "      <td>сыграть свадьбу</td>\n",
       "    </tr>\n",
       "    <tr>\n",
       "      <th>5</th>\n",
       "      <td>0</td>\n",
       "      <td>-926.185831</td>\n",
       "      <td>27</td>\n",
       "      <td>высшее</td>\n",
       "      <td>0</td>\n",
       "      <td>гражданский брак</td>\n",
       "      <td>1</td>\n",
       "      <td>M</td>\n",
       "      <td>компаньон</td>\n",
       "      <td>0</td>\n",
       "      <td>255763.565419</td>\n",
       "      <td>покупка жилья</td>\n",
       "    </tr>\n",
       "    <tr>\n",
       "      <th>6</th>\n",
       "      <td>0</td>\n",
       "      <td>-2879.202052</td>\n",
       "      <td>43</td>\n",
       "      <td>высшее</td>\n",
       "      <td>0</td>\n",
       "      <td>женат / замужем</td>\n",
       "      <td>0</td>\n",
       "      <td>F</td>\n",
       "      <td>компаньон</td>\n",
       "      <td>0</td>\n",
       "      <td>240525.971920</td>\n",
       "      <td>операции с жильем</td>\n",
       "    </tr>\n",
       "    <tr>\n",
       "      <th>7</th>\n",
       "      <td>0</td>\n",
       "      <td>-152.779569</td>\n",
       "      <td>50</td>\n",
       "      <td>СРЕДНЕЕ</td>\n",
       "      <td>1</td>\n",
       "      <td>женат / замужем</td>\n",
       "      <td>0</td>\n",
       "      <td>M</td>\n",
       "      <td>сотрудник</td>\n",
       "      <td>0</td>\n",
       "      <td>135823.934197</td>\n",
       "      <td>образование</td>\n",
       "    </tr>\n",
       "    <tr>\n",
       "      <th>8</th>\n",
       "      <td>2</td>\n",
       "      <td>-6929.865299</td>\n",
       "      <td>35</td>\n",
       "      <td>ВЫСШЕЕ</td>\n",
       "      <td>0</td>\n",
       "      <td>гражданский брак</td>\n",
       "      <td>1</td>\n",
       "      <td>F</td>\n",
       "      <td>сотрудник</td>\n",
       "      <td>0</td>\n",
       "      <td>95856.832424</td>\n",
       "      <td>на проведение свадьбы</td>\n",
       "    </tr>\n",
       "    <tr>\n",
       "      <th>9</th>\n",
       "      <td>0</td>\n",
       "      <td>-2188.756445</td>\n",
       "      <td>41</td>\n",
       "      <td>среднее</td>\n",
       "      <td>1</td>\n",
       "      <td>женат / замужем</td>\n",
       "      <td>0</td>\n",
       "      <td>M</td>\n",
       "      <td>сотрудник</td>\n",
       "      <td>0</td>\n",
       "      <td>144425.938277</td>\n",
       "      <td>покупка жилья для семьи</td>\n",
       "    </tr>\n",
       "  </tbody>\n",
       "</table>\n",
       "</div>"
      ],
      "text/plain": [
       "   children  days_employed  dob_years education  education_id  \\\n",
       "0         1   -8437.673028         42    высшее             0   \n",
       "1         1   -4024.803754         36   среднее             1   \n",
       "2         0   -5623.422610         33   Среднее             1   \n",
       "3         3   -4124.747207         32   среднее             1   \n",
       "4         0  340266.072047         53   среднее             1   \n",
       "5         0    -926.185831         27    высшее             0   \n",
       "6         0   -2879.202052         43    высшее             0   \n",
       "7         0    -152.779569         50   СРЕДНЕЕ             1   \n",
       "8         2   -6929.865299         35    ВЫСШЕЕ             0   \n",
       "9         0   -2188.756445         41   среднее             1   \n",
       "\n",
       "      family_status  family_status_id gender income_type  debt   total_income  \\\n",
       "0   женат / замужем                 0      F   сотрудник     0  253875.639453   \n",
       "1   женат / замужем                 0      F   сотрудник     0  112080.014102   \n",
       "2   женат / замужем                 0      M   сотрудник     0  145885.952297   \n",
       "3   женат / замужем                 0      M   сотрудник     0  267628.550329   \n",
       "4  гражданский брак                 1      F   пенсионер     0  158616.077870   \n",
       "5  гражданский брак                 1      M   компаньон     0  255763.565419   \n",
       "6   женат / замужем                 0      F   компаньон     0  240525.971920   \n",
       "7   женат / замужем                 0      M   сотрудник     0  135823.934197   \n",
       "8  гражданский брак                 1      F   сотрудник     0   95856.832424   \n",
       "9   женат / замужем                 0      M   сотрудник     0  144425.938277   \n",
       "\n",
       "                      purpose  \n",
       "0               покупка жилья  \n",
       "1     приобретение автомобиля  \n",
       "2               покупка жилья  \n",
       "3  дополнительное образование  \n",
       "4             сыграть свадьбу  \n",
       "5               покупка жилья  \n",
       "6           операции с жильем  \n",
       "7                 образование  \n",
       "8       на проведение свадьбы  \n",
       "9     покупка жилья для семьи  "
      ]
     },
     "execution_count": 3,
     "metadata": {},
     "output_type": "execute_result"
    }
   ],
   "source": [
    "df.head(10)"
   ]
  },
  {
   "cell_type": "markdown",
   "id": "3e93eb51",
   "metadata": {},
   "source": [
    "**По полученной иформации можно сделать следующие выводы.**\n",
    "1. В колонках days_employed и total_income есть пропуски которые необходимо заполнить.\n",
    "2. В колонне days_employed сумма заработка записана отрицательным числом\n",
    "3. В колонне education параметры не приведены к общему слтилю."
   ]
  },
  {
   "cell_type": "markdown",
   "id": "d0b88538",
   "metadata": {},
   "source": [
    "### Шаг 2.1 Заполнение пропусков"
   ]
  },
  {
   "cell_type": "markdown",
   "id": "39fa9de1",
   "metadata": {},
   "source": [
    "Подсчитаем количетсво пропуском по кождой комонке"
   ]
  },
  {
   "cell_type": "code",
   "execution_count": 4,
   "id": "cb64df1e",
   "metadata": {},
   "outputs": [
    {
     "data": {
      "text/plain": [
       "children               0\n",
       "days_employed       2174\n",
       "dob_years              0\n",
       "education              0\n",
       "education_id           0\n",
       "family_status          0\n",
       "family_status_id       0\n",
       "gender                 0\n",
       "income_type            0\n",
       "debt                   0\n",
       "total_income        2174\n",
       "purpose                0\n",
       "dtype: int64"
      ]
     },
     "execution_count": 4,
     "metadata": {},
     "output_type": "execute_result"
    }
   ],
   "source": [
    "df.isna().sum()"
   ]
  },
  {
   "cell_type": "markdown",
   "id": "4b0d35de",
   "metadata": {},
   "source": [
    "Предположение подтвердилось две колонки имеют пропуски в данных."
   ]
  },
  {
   "cell_type": "code",
   "execution_count": 5,
   "id": "397b0f4b",
   "metadata": {},
   "outputs": [
    {
     "data": {
      "text/html": [
       "<div>\n",
       "<style scoped>\n",
       "    .dataframe tbody tr th:only-of-type {\n",
       "        vertical-align: middle;\n",
       "    }\n",
       "\n",
       "    .dataframe tbody tr th {\n",
       "        vertical-align: top;\n",
       "    }\n",
       "\n",
       "    .dataframe thead th {\n",
       "        text-align: right;\n",
       "    }\n",
       "</style>\n",
       "<table border=\"1\" class=\"dataframe\">\n",
       "  <thead>\n",
       "    <tr style=\"text-align: right;\">\n",
       "      <th></th>\n",
       "      <th>children</th>\n",
       "      <th>days_employed</th>\n",
       "      <th>dob_years</th>\n",
       "      <th>education</th>\n",
       "      <th>education_id</th>\n",
       "      <th>family_status</th>\n",
       "      <th>family_status_id</th>\n",
       "      <th>gender</th>\n",
       "      <th>income_type</th>\n",
       "      <th>debt</th>\n",
       "      <th>total_income</th>\n",
       "      <th>purpose</th>\n",
       "    </tr>\n",
       "  </thead>\n",
       "  <tbody>\n",
       "    <tr>\n",
       "      <th>12</th>\n",
       "      <td>0</td>\n",
       "      <td>NaN</td>\n",
       "      <td>65</td>\n",
       "      <td>среднее</td>\n",
       "      <td>1</td>\n",
       "      <td>гражданский брак</td>\n",
       "      <td>1</td>\n",
       "      <td>M</td>\n",
       "      <td>пенсионер</td>\n",
       "      <td>0</td>\n",
       "      <td>NaN</td>\n",
       "      <td>сыграть свадьбу</td>\n",
       "    </tr>\n",
       "    <tr>\n",
       "      <th>26</th>\n",
       "      <td>0</td>\n",
       "      <td>NaN</td>\n",
       "      <td>41</td>\n",
       "      <td>среднее</td>\n",
       "      <td>1</td>\n",
       "      <td>женат / замужем</td>\n",
       "      <td>0</td>\n",
       "      <td>M</td>\n",
       "      <td>госслужащий</td>\n",
       "      <td>0</td>\n",
       "      <td>NaN</td>\n",
       "      <td>образование</td>\n",
       "    </tr>\n",
       "    <tr>\n",
       "      <th>29</th>\n",
       "      <td>0</td>\n",
       "      <td>NaN</td>\n",
       "      <td>63</td>\n",
       "      <td>среднее</td>\n",
       "      <td>1</td>\n",
       "      <td>Не женат / не замужем</td>\n",
       "      <td>4</td>\n",
       "      <td>F</td>\n",
       "      <td>пенсионер</td>\n",
       "      <td>0</td>\n",
       "      <td>NaN</td>\n",
       "      <td>строительство жилой недвижимости</td>\n",
       "    </tr>\n",
       "    <tr>\n",
       "      <th>41</th>\n",
       "      <td>0</td>\n",
       "      <td>NaN</td>\n",
       "      <td>50</td>\n",
       "      <td>среднее</td>\n",
       "      <td>1</td>\n",
       "      <td>женат / замужем</td>\n",
       "      <td>0</td>\n",
       "      <td>F</td>\n",
       "      <td>госслужащий</td>\n",
       "      <td>0</td>\n",
       "      <td>NaN</td>\n",
       "      <td>сделка с подержанным автомобилем</td>\n",
       "    </tr>\n",
       "    <tr>\n",
       "      <th>55</th>\n",
       "      <td>0</td>\n",
       "      <td>NaN</td>\n",
       "      <td>54</td>\n",
       "      <td>среднее</td>\n",
       "      <td>1</td>\n",
       "      <td>гражданский брак</td>\n",
       "      <td>1</td>\n",
       "      <td>F</td>\n",
       "      <td>пенсионер</td>\n",
       "      <td>1</td>\n",
       "      <td>NaN</td>\n",
       "      <td>сыграть свадьбу</td>\n",
       "    </tr>\n",
       "    <tr>\n",
       "      <th>...</th>\n",
       "      <td>...</td>\n",
       "      <td>...</td>\n",
       "      <td>...</td>\n",
       "      <td>...</td>\n",
       "      <td>...</td>\n",
       "      <td>...</td>\n",
       "      <td>...</td>\n",
       "      <td>...</td>\n",
       "      <td>...</td>\n",
       "      <td>...</td>\n",
       "      <td>...</td>\n",
       "      <td>...</td>\n",
       "    </tr>\n",
       "    <tr>\n",
       "      <th>21489</th>\n",
       "      <td>2</td>\n",
       "      <td>NaN</td>\n",
       "      <td>47</td>\n",
       "      <td>Среднее</td>\n",
       "      <td>1</td>\n",
       "      <td>женат / замужем</td>\n",
       "      <td>0</td>\n",
       "      <td>M</td>\n",
       "      <td>компаньон</td>\n",
       "      <td>0</td>\n",
       "      <td>NaN</td>\n",
       "      <td>сделка с автомобилем</td>\n",
       "    </tr>\n",
       "    <tr>\n",
       "      <th>21495</th>\n",
       "      <td>1</td>\n",
       "      <td>NaN</td>\n",
       "      <td>50</td>\n",
       "      <td>среднее</td>\n",
       "      <td>1</td>\n",
       "      <td>гражданский брак</td>\n",
       "      <td>1</td>\n",
       "      <td>F</td>\n",
       "      <td>сотрудник</td>\n",
       "      <td>0</td>\n",
       "      <td>NaN</td>\n",
       "      <td>свадьба</td>\n",
       "    </tr>\n",
       "    <tr>\n",
       "      <th>21497</th>\n",
       "      <td>0</td>\n",
       "      <td>NaN</td>\n",
       "      <td>48</td>\n",
       "      <td>ВЫСШЕЕ</td>\n",
       "      <td>0</td>\n",
       "      <td>женат / замужем</td>\n",
       "      <td>0</td>\n",
       "      <td>F</td>\n",
       "      <td>компаньон</td>\n",
       "      <td>0</td>\n",
       "      <td>NaN</td>\n",
       "      <td>строительство недвижимости</td>\n",
       "    </tr>\n",
       "    <tr>\n",
       "      <th>21502</th>\n",
       "      <td>1</td>\n",
       "      <td>NaN</td>\n",
       "      <td>42</td>\n",
       "      <td>среднее</td>\n",
       "      <td>1</td>\n",
       "      <td>женат / замужем</td>\n",
       "      <td>0</td>\n",
       "      <td>F</td>\n",
       "      <td>сотрудник</td>\n",
       "      <td>0</td>\n",
       "      <td>NaN</td>\n",
       "      <td>строительство жилой недвижимости</td>\n",
       "    </tr>\n",
       "    <tr>\n",
       "      <th>21510</th>\n",
       "      <td>2</td>\n",
       "      <td>NaN</td>\n",
       "      <td>28</td>\n",
       "      <td>среднее</td>\n",
       "      <td>1</td>\n",
       "      <td>женат / замужем</td>\n",
       "      <td>0</td>\n",
       "      <td>F</td>\n",
       "      <td>сотрудник</td>\n",
       "      <td>0</td>\n",
       "      <td>NaN</td>\n",
       "      <td>приобретение автомобиля</td>\n",
       "    </tr>\n",
       "  </tbody>\n",
       "</table>\n",
       "<p>2174 rows × 12 columns</p>\n",
       "</div>"
      ],
      "text/plain": [
       "       children  days_employed  dob_years education  education_id  \\\n",
       "12            0            NaN         65   среднее             1   \n",
       "26            0            NaN         41   среднее             1   \n",
       "29            0            NaN         63   среднее             1   \n",
       "41            0            NaN         50   среднее             1   \n",
       "55            0            NaN         54   среднее             1   \n",
       "...         ...            ...        ...       ...           ...   \n",
       "21489         2            NaN         47   Среднее             1   \n",
       "21495         1            NaN         50   среднее             1   \n",
       "21497         0            NaN         48    ВЫСШЕЕ             0   \n",
       "21502         1            NaN         42   среднее             1   \n",
       "21510         2            NaN         28   среднее             1   \n",
       "\n",
       "               family_status  family_status_id gender  income_type  debt  \\\n",
       "12          гражданский брак                 1      M    пенсионер     0   \n",
       "26           женат / замужем                 0      M  госслужащий     0   \n",
       "29     Не женат / не замужем                 4      F    пенсионер     0   \n",
       "41           женат / замужем                 0      F  госслужащий     0   \n",
       "55          гражданский брак                 1      F    пенсионер     1   \n",
       "...                      ...               ...    ...          ...   ...   \n",
       "21489        женат / замужем                 0      M    компаньон     0   \n",
       "21495       гражданский брак                 1      F    сотрудник     0   \n",
       "21497        женат / замужем                 0      F    компаньон     0   \n",
       "21502        женат / замужем                 0      F    сотрудник     0   \n",
       "21510        женат / замужем                 0      F    сотрудник     0   \n",
       "\n",
       "       total_income                           purpose  \n",
       "12              NaN                   сыграть свадьбу  \n",
       "26              NaN                       образование  \n",
       "29              NaN  строительство жилой недвижимости  \n",
       "41              NaN  сделка с подержанным автомобилем  \n",
       "55              NaN                   сыграть свадьбу  \n",
       "...             ...                               ...  \n",
       "21489           NaN              сделка с автомобилем  \n",
       "21495           NaN                           свадьба  \n",
       "21497           NaN        строительство недвижимости  \n",
       "21502           NaN  строительство жилой недвижимости  \n",
       "21510           NaN           приобретение автомобиля  \n",
       "\n",
       "[2174 rows x 12 columns]"
      ]
     },
     "execution_count": 5,
     "metadata": {},
     "output_type": "execute_result"
    }
   ],
   "source": [
    "df[df[\"total_income\"].isna()]"
   ]
  },
  {
   "cell_type": "markdown",
   "id": "f9b72832",
   "metadata": {},
   "source": [
    "Посмотрим какой процент занимают пропуски"
   ]
  },
  {
   "cell_type": "code",
   "execution_count": 6,
   "id": "ef6699b3",
   "metadata": {},
   "outputs": [
    {
     "data": {
      "text/plain": [
       "10.099883855981417"
      ]
     },
     "execution_count": 6,
     "metadata": {},
     "output_type": "execute_result"
    }
   ],
   "source": [
    "df[\"total_income\"].isna().sum() / (df[\"total_income\"].count() + df[\"total_income\"].isna().sum()) * 100"
   ]
  },
  {
   "cell_type": "markdown",
   "id": "6b01c195",
   "metadata": {},
   "source": [
    "10% данных потеряна, необходимо их восполнить для работы с данными.\n",
    "\n",
    "Так же надо проверить связаны ли пропуски в колннах days_employed и total_income"
   ]
  },
  {
   "cell_type": "code",
   "execution_count": 7,
   "id": "441c47a1",
   "metadata": {},
   "outputs": [
    {
     "data": {
      "text/plain": [
       "NaN    2174\n",
       "Name: total_income, dtype: int64"
      ]
     },
     "metadata": {},
     "output_type": "display_data"
    },
    {
     "data": {
      "text/plain": [
       "NaN    2174\n",
       "Name: days_employed, dtype: int64"
      ]
     },
     "execution_count": 7,
     "metadata": {},
     "output_type": "execute_result"
    }
   ],
   "source": [
    "display (df[df[\"total_income\"].isna()][\"total_income\"].value_counts(dropna = False))\n",
    "df[df[\"total_income\"].isna()][\"days_employed\"].value_counts(dropna = False)"
   ]
  },
  {
   "cell_type": "markdown",
   "id": "0152526c",
   "metadata": {},
   "source": [
    "Количество пропукво в отсортированом df по колоннам равно следовательно все пропуски в данных колоннах находятся в одинаковых строках.\n",
    "\n",
    "Вероятнее всего посчет в колонне total_income производится по формуле и одно из значений приходит из days_employed.\n",
    "\n",
    "Следующий щаг заполнение пропусков. Поскольку значения имеют большой разброс лучше всего использовать медианное значение по колонне и им заполнить все пропуски. "
   ]
  },
  {
   "cell_type": "code",
   "execution_count": 8,
   "id": "5483234a",
   "metadata": {},
   "outputs": [
    {
     "data": {
      "text/plain": [
       "children               0\n",
       "days_employed       2174\n",
       "dob_years              0\n",
       "education              0\n",
       "education_id           0\n",
       "family_status          0\n",
       "family_status_id       0\n",
       "gender                 0\n",
       "income_type            0\n",
       "debt                   0\n",
       "total_income           0\n",
       "purpose                0\n",
       "dtype: int64"
      ]
     },
     "metadata": {},
     "output_type": "display_data"
    },
    {
     "name": "stdout",
     "output_type": "stream",
     "text": [
      "<class 'pandas.core.frame.DataFrame'>\n",
      "RangeIndex: 21525 entries, 0 to 21524\n",
      "Data columns (total 12 columns):\n",
      " #   Column            Non-Null Count  Dtype  \n",
      "---  ------            --------------  -----  \n",
      " 0   children          21525 non-null  int64  \n",
      " 1   days_employed     19351 non-null  float64\n",
      " 2   dob_years         21525 non-null  int64  \n",
      " 3   education         21525 non-null  object \n",
      " 4   education_id      21525 non-null  int64  \n",
      " 5   family_status     21525 non-null  object \n",
      " 6   family_status_id  21525 non-null  int64  \n",
      " 7   gender            21525 non-null  object \n",
      " 8   income_type       21525 non-null  object \n",
      " 9   debt              21525 non-null  int64  \n",
      " 10  total_income      21525 non-null  float64\n",
      " 11  purpose           21525 non-null  object \n",
      "dtypes: float64(2), int64(5), object(5)\n",
      "memory usage: 2.0+ MB\n"
     ]
    }
   ],
   "source": [
    "df[\"total_income\"] = df[\"total_income\"].fillna(df[\"total_income\"].median())\n",
    "display (df.isna().sum())\n",
    "df.info()"
   ]
  },
  {
   "cell_type": "markdown",
   "id": "f473dc76",
   "metadata": {},
   "source": [
    "Как видим колонну total_income получилось исправить.\n",
    "\n",
    "Прежде чем исправлять колонну days_employed ее необходимо подготоваить."
   ]
  },
  {
   "cell_type": "markdown",
   "id": "7ab966e1",
   "metadata": {},
   "source": [
    "### Шаг 2.2 Проверка данных на аномалии и исправления."
   ]
  },
  {
   "cell_type": "markdown",
   "id": "210f20c3",
   "metadata": {},
   "source": [
    "Что бы оценить наличие аномалий нужно посмотреть какие значени есть в колоннах children, days_employed"
   ]
  },
  {
   "cell_type": "code",
   "execution_count": 9,
   "id": "d27a7e53",
   "metadata": {},
   "outputs": [
    {
     "data": {
      "text/plain": [
       " 0     14149\n",
       " 1      4818\n",
       " 2      2055\n",
       " 3       330\n",
       " 20       76\n",
       "-1        47\n",
       " 4        41\n",
       " 5         9\n",
       "Name: children, dtype: int64"
      ]
     },
     "execution_count": 9,
     "metadata": {},
     "output_type": "execute_result"
    }
   ],
   "source": [
    "df[\"children\"].value_counts()"
   ]
  },
  {
   "cell_type": "markdown",
   "id": "ca734f26",
   "metadata": {},
   "source": [
    "Данная колонна имеет два странных значения, -1 и 20. Скорее вего это опечатка и будем заменять значения -1 на 1 и 20 на 2."
   ]
  },
  {
   "cell_type": "code",
   "execution_count": 10,
   "id": "d6ea781b",
   "metadata": {},
   "outputs": [
    {
     "data": {
      "text/plain": [
       "0    14149\n",
       "1     4865\n",
       "2     2131\n",
       "3      330\n",
       "4       41\n",
       "5        9\n",
       "Name: children, dtype: int64"
      ]
     },
     "execution_count": 10,
     "metadata": {},
     "output_type": "execute_result"
    }
   ],
   "source": [
    "df.loc[df[\"children\"] == -1, [\"children\"]] = 1\n",
    "df.loc[df[\"children\"] == 20, [\"children\"]] = 2\n",
    "df[\"children\"].value_counts()"
   ]
  },
  {
   "cell_type": "markdown",
   "id": "05f5ea17",
   "metadata": {},
   "source": [
    "Данные исправлены, теперь можно с ними работать"
   ]
  },
  {
   "cell_type": "code",
   "execution_count": 11,
   "id": "35373ea5",
   "metadata": {},
   "outputs": [
    {
     "data": {
      "text/plain": [
       "0         -8437.673028\n",
       "1         -4024.803754\n",
       "2         -5623.422610\n",
       "3         -4124.747207\n",
       "4        340266.072047\n",
       "             ...      \n",
       "21520     -4529.316663\n",
       "21521    343937.404131\n",
       "21522     -2113.346888\n",
       "21523     -3112.481705\n",
       "21524     -1984.507589\n",
       "Name: days_employed, Length: 21525, dtype: float64"
      ]
     },
     "execution_count": 11,
     "metadata": {},
     "output_type": "execute_result"
    }
   ],
   "source": [
    "df[\"days_employed\"]"
   ]
  },
  {
   "cell_type": "markdown",
   "id": "709cdffb",
   "metadata": {},
   "source": [
    "Колонна days_employed имеет отрицательные значения нужно это исправить."
   ]
  },
  {
   "cell_type": "code",
   "execution_count": 12,
   "id": "364e52d2",
   "metadata": {},
   "outputs": [
    {
     "data": {
      "text/plain": [
       "days_employed    0\n",
       "dtype: int64"
      ]
     },
     "execution_count": 12,
     "metadata": {},
     "output_type": "execute_result"
    }
   ],
   "source": [
    "df.loc[df[\"days_employed\"] < 0, [\"days_employed\"]] *= (-1)\n",
    "df.loc[df[\"days_employed\"] < 0, [\"days_employed\"]].count()"
   ]
  },
  {
   "cell_type": "markdown",
   "id": "bf8493f1",
   "metadata": {},
   "source": [
    "Как видим теперь все значения в колонке days_employed положительные. Теперь можно заполнить пропуски медианым значением."
   ]
  },
  {
   "cell_type": "code",
   "execution_count": 13,
   "id": "54273c54",
   "metadata": {},
   "outputs": [
    {
     "data": {
      "text/html": [
       "<div>\n",
       "<style scoped>\n",
       "    .dataframe tbody tr th:only-of-type {\n",
       "        vertical-align: middle;\n",
       "    }\n",
       "\n",
       "    .dataframe tbody tr th {\n",
       "        vertical-align: top;\n",
       "    }\n",
       "\n",
       "    .dataframe thead th {\n",
       "        text-align: right;\n",
       "    }\n",
       "</style>\n",
       "<table border=\"1\" class=\"dataframe\">\n",
       "  <thead>\n",
       "    <tr style=\"text-align: right;\">\n",
       "      <th></th>\n",
       "      <th>children</th>\n",
       "      <th>days_employed</th>\n",
       "      <th>dob_years</th>\n",
       "      <th>education</th>\n",
       "      <th>education_id</th>\n",
       "      <th>family_status</th>\n",
       "      <th>family_status_id</th>\n",
       "      <th>gender</th>\n",
       "      <th>income_type</th>\n",
       "      <th>debt</th>\n",
       "      <th>total_income</th>\n",
       "      <th>purpose</th>\n",
       "    </tr>\n",
       "  </thead>\n",
       "  <tbody>\n",
       "    <tr>\n",
       "      <th>0</th>\n",
       "      <td>1</td>\n",
       "      <td>8437.673028</td>\n",
       "      <td>42</td>\n",
       "      <td>высшее</td>\n",
       "      <td>0</td>\n",
       "      <td>женат / замужем</td>\n",
       "      <td>0</td>\n",
       "      <td>F</td>\n",
       "      <td>сотрудник</td>\n",
       "      <td>0</td>\n",
       "      <td>253875.639453</td>\n",
       "      <td>покупка жилья</td>\n",
       "    </tr>\n",
       "    <tr>\n",
       "      <th>1</th>\n",
       "      <td>1</td>\n",
       "      <td>4024.803754</td>\n",
       "      <td>36</td>\n",
       "      <td>среднее</td>\n",
       "      <td>1</td>\n",
       "      <td>женат / замужем</td>\n",
       "      <td>0</td>\n",
       "      <td>F</td>\n",
       "      <td>сотрудник</td>\n",
       "      <td>0</td>\n",
       "      <td>112080.014102</td>\n",
       "      <td>приобретение автомобиля</td>\n",
       "    </tr>\n",
       "    <tr>\n",
       "      <th>2</th>\n",
       "      <td>0</td>\n",
       "      <td>5623.422610</td>\n",
       "      <td>33</td>\n",
       "      <td>Среднее</td>\n",
       "      <td>1</td>\n",
       "      <td>женат / замужем</td>\n",
       "      <td>0</td>\n",
       "      <td>M</td>\n",
       "      <td>сотрудник</td>\n",
       "      <td>0</td>\n",
       "      <td>145885.952297</td>\n",
       "      <td>покупка жилья</td>\n",
       "    </tr>\n",
       "    <tr>\n",
       "      <th>3</th>\n",
       "      <td>3</td>\n",
       "      <td>4124.747207</td>\n",
       "      <td>32</td>\n",
       "      <td>среднее</td>\n",
       "      <td>1</td>\n",
       "      <td>женат / замужем</td>\n",
       "      <td>0</td>\n",
       "      <td>M</td>\n",
       "      <td>сотрудник</td>\n",
       "      <td>0</td>\n",
       "      <td>267628.550329</td>\n",
       "      <td>дополнительное образование</td>\n",
       "    </tr>\n",
       "    <tr>\n",
       "      <th>4</th>\n",
       "      <td>0</td>\n",
       "      <td>340266.072047</td>\n",
       "      <td>53</td>\n",
       "      <td>среднее</td>\n",
       "      <td>1</td>\n",
       "      <td>гражданский брак</td>\n",
       "      <td>1</td>\n",
       "      <td>F</td>\n",
       "      <td>пенсионер</td>\n",
       "      <td>0</td>\n",
       "      <td>158616.077870</td>\n",
       "      <td>сыграть свадьбу</td>\n",
       "    </tr>\n",
       "    <tr>\n",
       "      <th>5</th>\n",
       "      <td>0</td>\n",
       "      <td>926.185831</td>\n",
       "      <td>27</td>\n",
       "      <td>высшее</td>\n",
       "      <td>0</td>\n",
       "      <td>гражданский брак</td>\n",
       "      <td>1</td>\n",
       "      <td>M</td>\n",
       "      <td>компаньон</td>\n",
       "      <td>0</td>\n",
       "      <td>255763.565419</td>\n",
       "      <td>покупка жилья</td>\n",
       "    </tr>\n",
       "    <tr>\n",
       "      <th>6</th>\n",
       "      <td>0</td>\n",
       "      <td>2879.202052</td>\n",
       "      <td>43</td>\n",
       "      <td>высшее</td>\n",
       "      <td>0</td>\n",
       "      <td>женат / замужем</td>\n",
       "      <td>0</td>\n",
       "      <td>F</td>\n",
       "      <td>компаньон</td>\n",
       "      <td>0</td>\n",
       "      <td>240525.971920</td>\n",
       "      <td>операции с жильем</td>\n",
       "    </tr>\n",
       "    <tr>\n",
       "      <th>7</th>\n",
       "      <td>0</td>\n",
       "      <td>152.779569</td>\n",
       "      <td>50</td>\n",
       "      <td>СРЕДНЕЕ</td>\n",
       "      <td>1</td>\n",
       "      <td>женат / замужем</td>\n",
       "      <td>0</td>\n",
       "      <td>M</td>\n",
       "      <td>сотрудник</td>\n",
       "      <td>0</td>\n",
       "      <td>135823.934197</td>\n",
       "      <td>образование</td>\n",
       "    </tr>\n",
       "    <tr>\n",
       "      <th>8</th>\n",
       "      <td>2</td>\n",
       "      <td>6929.865299</td>\n",
       "      <td>35</td>\n",
       "      <td>ВЫСШЕЕ</td>\n",
       "      <td>0</td>\n",
       "      <td>гражданский брак</td>\n",
       "      <td>1</td>\n",
       "      <td>F</td>\n",
       "      <td>сотрудник</td>\n",
       "      <td>0</td>\n",
       "      <td>95856.832424</td>\n",
       "      <td>на проведение свадьбы</td>\n",
       "    </tr>\n",
       "    <tr>\n",
       "      <th>9</th>\n",
       "      <td>0</td>\n",
       "      <td>2188.756445</td>\n",
       "      <td>41</td>\n",
       "      <td>среднее</td>\n",
       "      <td>1</td>\n",
       "      <td>женат / замужем</td>\n",
       "      <td>0</td>\n",
       "      <td>M</td>\n",
       "      <td>сотрудник</td>\n",
       "      <td>0</td>\n",
       "      <td>144425.938277</td>\n",
       "      <td>покупка жилья для семьи</td>\n",
       "    </tr>\n",
       "    <tr>\n",
       "      <th>10</th>\n",
       "      <td>2</td>\n",
       "      <td>4171.483647</td>\n",
       "      <td>36</td>\n",
       "      <td>высшее</td>\n",
       "      <td>0</td>\n",
       "      <td>женат / замужем</td>\n",
       "      <td>0</td>\n",
       "      <td>M</td>\n",
       "      <td>компаньон</td>\n",
       "      <td>0</td>\n",
       "      <td>113943.491460</td>\n",
       "      <td>покупка недвижимости</td>\n",
       "    </tr>\n",
       "    <tr>\n",
       "      <th>11</th>\n",
       "      <td>0</td>\n",
       "      <td>792.701887</td>\n",
       "      <td>40</td>\n",
       "      <td>среднее</td>\n",
       "      <td>1</td>\n",
       "      <td>женат / замужем</td>\n",
       "      <td>0</td>\n",
       "      <td>F</td>\n",
       "      <td>сотрудник</td>\n",
       "      <td>0</td>\n",
       "      <td>77069.234271</td>\n",
       "      <td>покупка коммерческой недвижимости</td>\n",
       "    </tr>\n",
       "    <tr>\n",
       "      <th>12</th>\n",
       "      <td>0</td>\n",
       "      <td>2194.220567</td>\n",
       "      <td>65</td>\n",
       "      <td>среднее</td>\n",
       "      <td>1</td>\n",
       "      <td>гражданский брак</td>\n",
       "      <td>1</td>\n",
       "      <td>M</td>\n",
       "      <td>пенсионер</td>\n",
       "      <td>0</td>\n",
       "      <td>145017.937533</td>\n",
       "      <td>сыграть свадьбу</td>\n",
       "    </tr>\n",
       "    <tr>\n",
       "      <th>13</th>\n",
       "      <td>0</td>\n",
       "      <td>1846.641941</td>\n",
       "      <td>54</td>\n",
       "      <td>неоконченное высшее</td>\n",
       "      <td>2</td>\n",
       "      <td>женат / замужем</td>\n",
       "      <td>0</td>\n",
       "      <td>F</td>\n",
       "      <td>сотрудник</td>\n",
       "      <td>0</td>\n",
       "      <td>130458.228857</td>\n",
       "      <td>приобретение автомобиля</td>\n",
       "    </tr>\n",
       "    <tr>\n",
       "      <th>14</th>\n",
       "      <td>0</td>\n",
       "      <td>1844.956182</td>\n",
       "      <td>56</td>\n",
       "      <td>высшее</td>\n",
       "      <td>0</td>\n",
       "      <td>гражданский брак</td>\n",
       "      <td>1</td>\n",
       "      <td>F</td>\n",
       "      <td>компаньон</td>\n",
       "      <td>1</td>\n",
       "      <td>165127.911772</td>\n",
       "      <td>покупка жилой недвижимости</td>\n",
       "    </tr>\n",
       "  </tbody>\n",
       "</table>\n",
       "</div>"
      ],
      "text/plain": [
       "    children  days_employed  dob_years            education  education_id  \\\n",
       "0          1    8437.673028         42               высшее             0   \n",
       "1          1    4024.803754         36              среднее             1   \n",
       "2          0    5623.422610         33              Среднее             1   \n",
       "3          3    4124.747207         32              среднее             1   \n",
       "4          0  340266.072047         53              среднее             1   \n",
       "5          0     926.185831         27               высшее             0   \n",
       "6          0    2879.202052         43               высшее             0   \n",
       "7          0     152.779569         50              СРЕДНЕЕ             1   \n",
       "8          2    6929.865299         35               ВЫСШЕЕ             0   \n",
       "9          0    2188.756445         41              среднее             1   \n",
       "10         2    4171.483647         36               высшее             0   \n",
       "11         0     792.701887         40              среднее             1   \n",
       "12         0    2194.220567         65              среднее             1   \n",
       "13         0    1846.641941         54  неоконченное высшее             2   \n",
       "14         0    1844.956182         56               высшее             0   \n",
       "\n",
       "       family_status  family_status_id gender income_type  debt  \\\n",
       "0    женат / замужем                 0      F   сотрудник     0   \n",
       "1    женат / замужем                 0      F   сотрудник     0   \n",
       "2    женат / замужем                 0      M   сотрудник     0   \n",
       "3    женат / замужем                 0      M   сотрудник     0   \n",
       "4   гражданский брак                 1      F   пенсионер     0   \n",
       "5   гражданский брак                 1      M   компаньон     0   \n",
       "6    женат / замужем                 0      F   компаньон     0   \n",
       "7    женат / замужем                 0      M   сотрудник     0   \n",
       "8   гражданский брак                 1      F   сотрудник     0   \n",
       "9    женат / замужем                 0      M   сотрудник     0   \n",
       "10   женат / замужем                 0      M   компаньон     0   \n",
       "11   женат / замужем                 0      F   сотрудник     0   \n",
       "12  гражданский брак                 1      M   пенсионер     0   \n",
       "13   женат / замужем                 0      F   сотрудник     0   \n",
       "14  гражданский брак                 1      F   компаньон     1   \n",
       "\n",
       "     total_income                            purpose  \n",
       "0   253875.639453                      покупка жилья  \n",
       "1   112080.014102            приобретение автомобиля  \n",
       "2   145885.952297                      покупка жилья  \n",
       "3   267628.550329         дополнительное образование  \n",
       "4   158616.077870                    сыграть свадьбу  \n",
       "5   255763.565419                      покупка жилья  \n",
       "6   240525.971920                  операции с жильем  \n",
       "7   135823.934197                        образование  \n",
       "8    95856.832424              на проведение свадьбы  \n",
       "9   144425.938277            покупка жилья для семьи  \n",
       "10  113943.491460               покупка недвижимости  \n",
       "11   77069.234271  покупка коммерческой недвижимости  \n",
       "12  145017.937533                    сыграть свадьбу  \n",
       "13  130458.228857            приобретение автомобиля  \n",
       "14  165127.911772         покупка жилой недвижимости  "
      ]
     },
     "execution_count": 13,
     "metadata": {},
     "output_type": "execute_result"
    }
   ],
   "source": [
    "df[\"days_employed\"] = df[\"days_employed\"].fillna(df[\"days_employed\"].median())\n",
    "df.head(15)"
   ]
  },
  {
   "cell_type": "code",
   "execution_count": 14,
   "id": "40d736b7",
   "metadata": {},
   "outputs": [
    {
     "data": {
      "text/plain": [
       "children            0\n",
       "days_employed       0\n",
       "dob_years           0\n",
       "education           0\n",
       "education_id        0\n",
       "family_status       0\n",
       "family_status_id    0\n",
       "gender              0\n",
       "income_type         0\n",
       "debt                0\n",
       "total_income        0\n",
       "purpose             0\n",
       "dtype: int64"
      ]
     },
     "metadata": {},
     "output_type": "display_data"
    },
    {
     "name": "stdout",
     "output_type": "stream",
     "text": [
      "<class 'pandas.core.frame.DataFrame'>\n",
      "RangeIndex: 21525 entries, 0 to 21524\n",
      "Data columns (total 12 columns):\n",
      " #   Column            Non-Null Count  Dtype  \n",
      "---  ------            --------------  -----  \n",
      " 0   children          21525 non-null  int64  \n",
      " 1   days_employed     21525 non-null  float64\n",
      " 2   dob_years         21525 non-null  int64  \n",
      " 3   education         21525 non-null  object \n",
      " 4   education_id      21525 non-null  int64  \n",
      " 5   family_status     21525 non-null  object \n",
      " 6   family_status_id  21525 non-null  int64  \n",
      " 7   gender            21525 non-null  object \n",
      " 8   income_type       21525 non-null  object \n",
      " 9   debt              21525 non-null  int64  \n",
      " 10  total_income      21525 non-null  float64\n",
      " 11  purpose           21525 non-null  object \n",
      "dtypes: float64(2), int64(5), object(5)\n",
      "memory usage: 2.0+ MB\n"
     ]
    }
   ],
   "source": [
    "display (df.isna().sum())\n",
    "df.info()"
   ]
  },
  {
   "cell_type": "markdown",
   "id": "53b58cc7",
   "metadata": {},
   "source": [
    "Как можно видеть пропусков и аномалий в колоннах days_employed и total_income больше нет, можно двигаться дальше."
   ]
  },
  {
   "cell_type": "markdown",
   "id": "aeff94d1",
   "metadata": {},
   "source": [
    "### Шаг 2.3. Изменение типов данных."
   ]
  },
  {
   "cell_type": "markdown",
   "id": "7fbb2000",
   "metadata": {},
   "source": [
    "Для удобства с поледущей обработкой данны не плохо перевести колону total_income в целочисленный тип"
   ]
  },
  {
   "cell_type": "code",
   "execution_count": 15,
   "id": "864e6687",
   "metadata": {},
   "outputs": [
    {
     "name": "stdout",
     "output_type": "stream",
     "text": [
      "<class 'pandas.core.frame.DataFrame'>\n",
      "RangeIndex: 21525 entries, 0 to 21524\n",
      "Data columns (total 12 columns):\n",
      " #   Column            Non-Null Count  Dtype  \n",
      "---  ------            --------------  -----  \n",
      " 0   children          21525 non-null  int64  \n",
      " 1   days_employed     21525 non-null  float64\n",
      " 2   dob_years         21525 non-null  int64  \n",
      " 3   education         21525 non-null  object \n",
      " 4   education_id      21525 non-null  int64  \n",
      " 5   family_status     21525 non-null  object \n",
      " 6   family_status_id  21525 non-null  int64  \n",
      " 7   gender            21525 non-null  object \n",
      " 8   income_type       21525 non-null  object \n",
      " 9   debt              21525 non-null  int64  \n",
      " 10  total_income      21525 non-null  int32  \n",
      " 11  purpose           21525 non-null  object \n",
      "dtypes: float64(1), int32(1), int64(5), object(5)\n",
      "memory usage: 1.9+ MB\n"
     ]
    }
   ],
   "source": [
    "df[\"total_income\"] = df[\"total_income\"].astype(int)\n",
    "df.info()"
   ]
  },
  {
   "cell_type": "code",
   "execution_count": 16,
   "id": "bb4d12a2",
   "metadata": {},
   "outputs": [
    {
     "data": {
      "text/html": [
       "<div>\n",
       "<style scoped>\n",
       "    .dataframe tbody tr th:only-of-type {\n",
       "        vertical-align: middle;\n",
       "    }\n",
       "\n",
       "    .dataframe tbody tr th {\n",
       "        vertical-align: top;\n",
       "    }\n",
       "\n",
       "    .dataframe thead th {\n",
       "        text-align: right;\n",
       "    }\n",
       "</style>\n",
       "<table border=\"1\" class=\"dataframe\">\n",
       "  <thead>\n",
       "    <tr style=\"text-align: right;\">\n",
       "      <th></th>\n",
       "      <th>children</th>\n",
       "      <th>days_employed</th>\n",
       "      <th>dob_years</th>\n",
       "      <th>education</th>\n",
       "      <th>education_id</th>\n",
       "      <th>family_status</th>\n",
       "      <th>family_status_id</th>\n",
       "      <th>gender</th>\n",
       "      <th>income_type</th>\n",
       "      <th>debt</th>\n",
       "      <th>total_income</th>\n",
       "      <th>purpose</th>\n",
       "    </tr>\n",
       "  </thead>\n",
       "  <tbody>\n",
       "    <tr>\n",
       "      <th>0</th>\n",
       "      <td>1</td>\n",
       "      <td>8437.673028</td>\n",
       "      <td>42</td>\n",
       "      <td>высшее</td>\n",
       "      <td>0</td>\n",
       "      <td>женат / замужем</td>\n",
       "      <td>0</td>\n",
       "      <td>F</td>\n",
       "      <td>сотрудник</td>\n",
       "      <td>0</td>\n",
       "      <td>253875</td>\n",
       "      <td>покупка жилья</td>\n",
       "    </tr>\n",
       "    <tr>\n",
       "      <th>1</th>\n",
       "      <td>1</td>\n",
       "      <td>4024.803754</td>\n",
       "      <td>36</td>\n",
       "      <td>среднее</td>\n",
       "      <td>1</td>\n",
       "      <td>женат / замужем</td>\n",
       "      <td>0</td>\n",
       "      <td>F</td>\n",
       "      <td>сотрудник</td>\n",
       "      <td>0</td>\n",
       "      <td>112080</td>\n",
       "      <td>приобретение автомобиля</td>\n",
       "    </tr>\n",
       "    <tr>\n",
       "      <th>2</th>\n",
       "      <td>0</td>\n",
       "      <td>5623.422610</td>\n",
       "      <td>33</td>\n",
       "      <td>Среднее</td>\n",
       "      <td>1</td>\n",
       "      <td>женат / замужем</td>\n",
       "      <td>0</td>\n",
       "      <td>M</td>\n",
       "      <td>сотрудник</td>\n",
       "      <td>0</td>\n",
       "      <td>145885</td>\n",
       "      <td>покупка жилья</td>\n",
       "    </tr>\n",
       "    <tr>\n",
       "      <th>3</th>\n",
       "      <td>3</td>\n",
       "      <td>4124.747207</td>\n",
       "      <td>32</td>\n",
       "      <td>среднее</td>\n",
       "      <td>1</td>\n",
       "      <td>женат / замужем</td>\n",
       "      <td>0</td>\n",
       "      <td>M</td>\n",
       "      <td>сотрудник</td>\n",
       "      <td>0</td>\n",
       "      <td>267628</td>\n",
       "      <td>дополнительное образование</td>\n",
       "    </tr>\n",
       "    <tr>\n",
       "      <th>4</th>\n",
       "      <td>0</td>\n",
       "      <td>340266.072047</td>\n",
       "      <td>53</td>\n",
       "      <td>среднее</td>\n",
       "      <td>1</td>\n",
       "      <td>гражданский брак</td>\n",
       "      <td>1</td>\n",
       "      <td>F</td>\n",
       "      <td>пенсионер</td>\n",
       "      <td>0</td>\n",
       "      <td>158616</td>\n",
       "      <td>сыграть свадьбу</td>\n",
       "    </tr>\n",
       "    <tr>\n",
       "      <th>5</th>\n",
       "      <td>0</td>\n",
       "      <td>926.185831</td>\n",
       "      <td>27</td>\n",
       "      <td>высшее</td>\n",
       "      <td>0</td>\n",
       "      <td>гражданский брак</td>\n",
       "      <td>1</td>\n",
       "      <td>M</td>\n",
       "      <td>компаньон</td>\n",
       "      <td>0</td>\n",
       "      <td>255763</td>\n",
       "      <td>покупка жилья</td>\n",
       "    </tr>\n",
       "    <tr>\n",
       "      <th>6</th>\n",
       "      <td>0</td>\n",
       "      <td>2879.202052</td>\n",
       "      <td>43</td>\n",
       "      <td>высшее</td>\n",
       "      <td>0</td>\n",
       "      <td>женат / замужем</td>\n",
       "      <td>0</td>\n",
       "      <td>F</td>\n",
       "      <td>компаньон</td>\n",
       "      <td>0</td>\n",
       "      <td>240525</td>\n",
       "      <td>операции с жильем</td>\n",
       "    </tr>\n",
       "    <tr>\n",
       "      <th>7</th>\n",
       "      <td>0</td>\n",
       "      <td>152.779569</td>\n",
       "      <td>50</td>\n",
       "      <td>СРЕДНЕЕ</td>\n",
       "      <td>1</td>\n",
       "      <td>женат / замужем</td>\n",
       "      <td>0</td>\n",
       "      <td>M</td>\n",
       "      <td>сотрудник</td>\n",
       "      <td>0</td>\n",
       "      <td>135823</td>\n",
       "      <td>образование</td>\n",
       "    </tr>\n",
       "    <tr>\n",
       "      <th>8</th>\n",
       "      <td>2</td>\n",
       "      <td>6929.865299</td>\n",
       "      <td>35</td>\n",
       "      <td>ВЫСШЕЕ</td>\n",
       "      <td>0</td>\n",
       "      <td>гражданский брак</td>\n",
       "      <td>1</td>\n",
       "      <td>F</td>\n",
       "      <td>сотрудник</td>\n",
       "      <td>0</td>\n",
       "      <td>95856</td>\n",
       "      <td>на проведение свадьбы</td>\n",
       "    </tr>\n",
       "    <tr>\n",
       "      <th>9</th>\n",
       "      <td>0</td>\n",
       "      <td>2188.756445</td>\n",
       "      <td>41</td>\n",
       "      <td>среднее</td>\n",
       "      <td>1</td>\n",
       "      <td>женат / замужем</td>\n",
       "      <td>0</td>\n",
       "      <td>M</td>\n",
       "      <td>сотрудник</td>\n",
       "      <td>0</td>\n",
       "      <td>144425</td>\n",
       "      <td>покупка жилья для семьи</td>\n",
       "    </tr>\n",
       "  </tbody>\n",
       "</table>\n",
       "</div>"
      ],
      "text/plain": [
       "   children  days_employed  dob_years education  education_id  \\\n",
       "0         1    8437.673028         42    высшее             0   \n",
       "1         1    4024.803754         36   среднее             1   \n",
       "2         0    5623.422610         33   Среднее             1   \n",
       "3         3    4124.747207         32   среднее             1   \n",
       "4         0  340266.072047         53   среднее             1   \n",
       "5         0     926.185831         27    высшее             0   \n",
       "6         0    2879.202052         43    высшее             0   \n",
       "7         0     152.779569         50   СРЕДНЕЕ             1   \n",
       "8         2    6929.865299         35    ВЫСШЕЕ             0   \n",
       "9         0    2188.756445         41   среднее             1   \n",
       "\n",
       "      family_status  family_status_id gender income_type  debt  total_income  \\\n",
       "0   женат / замужем                 0      F   сотрудник     0        253875   \n",
       "1   женат / замужем                 0      F   сотрудник     0        112080   \n",
       "2   женат / замужем                 0      M   сотрудник     0        145885   \n",
       "3   женат / замужем                 0      M   сотрудник     0        267628   \n",
       "4  гражданский брак                 1      F   пенсионер     0        158616   \n",
       "5  гражданский брак                 1      M   компаньон     0        255763   \n",
       "6   женат / замужем                 0      F   компаньон     0        240525   \n",
       "7   женат / замужем                 0      M   сотрудник     0        135823   \n",
       "8  гражданский брак                 1      F   сотрудник     0         95856   \n",
       "9   женат / замужем                 0      M   сотрудник     0        144425   \n",
       "\n",
       "                      purpose  \n",
       "0               покупка жилья  \n",
       "1     приобретение автомобиля  \n",
       "2               покупка жилья  \n",
       "3  дополнительное образование  \n",
       "4             сыграть свадьбу  \n",
       "5               покупка жилья  \n",
       "6           операции с жильем  \n",
       "7                 образование  \n",
       "8       на проведение свадьбы  \n",
       "9     покупка жилья для семьи  "
      ]
     },
     "execution_count": 16,
     "metadata": {},
     "output_type": "execute_result"
    }
   ],
   "source": [
    "df.head(10)"
   ]
  },
  {
   "cell_type": "markdown",
   "id": "b9082e38",
   "metadata": {},
   "source": [
    "### Шаг 2.4. Удаление дубликатов."
   ]
  },
  {
   "cell_type": "markdown",
   "id": "ed7d4b77",
   "metadata": {},
   "source": [
    "В данных нверняка присутствуют строки-дубликаты, для их поиска необходимо все строки привести к единому стилю. \n",
    "\n",
    "На пример в колонне education видны разные способы написания одного и тогоже, неоюходимо исправить."
   ]
  },
  {
   "cell_type": "code",
   "execution_count": 17,
   "id": "896a91d0",
   "metadata": {},
   "outputs": [
    {
     "data": {
      "text/plain": [
       "среднее                13750\n",
       "высшее                  4718\n",
       "СРЕДНЕЕ                  772\n",
       "Среднее                  711\n",
       "неоконченное высшее      668\n",
       "ВЫСШЕЕ                   274\n",
       "Высшее                   268\n",
       "начальное                250\n",
       "Неоконченное высшее       47\n",
       "НЕОКОНЧЕННОЕ ВЫСШЕЕ       29\n",
       "НАЧАЛЬНОЕ                 17\n",
       "Начальное                 15\n",
       "ученая степень             4\n",
       "Ученая степень             1\n",
       "УЧЕНАЯ СТЕПЕНЬ             1\n",
       "Name: education, dtype: int64"
      ]
     },
     "execution_count": 17,
     "metadata": {},
     "output_type": "execute_result"
    }
   ],
   "source": [
    "df[\"education\"].value_counts()"
   ]
  },
  {
   "cell_type": "markdown",
   "id": "46fcfe1e",
   "metadata": {},
   "source": [
    "Как видно из прердыдущей ячейки в колонне education есть что менять.\n",
    "\n",
    "Для начал приведем все к одному регистру и оценим еще раз что нужно будет доделать."
   ]
  },
  {
   "cell_type": "code",
   "execution_count": 18,
   "id": "76c384ac",
   "metadata": {},
   "outputs": [
    {
     "data": {
      "text/plain": [
       "среднее                15233\n",
       "высшее                  5260\n",
       "неоконченное высшее      744\n",
       "начальное                282\n",
       "ученая степень             6\n",
       "Name: education, dtype: int64"
      ]
     },
     "execution_count": 18,
     "metadata": {},
     "output_type": "execute_result"
    }
   ],
   "source": [
    "df[\"education\"] = df[\"education\"].str.lower()\n",
    "df[\"education\"].value_counts()"
   ]
  },
  {
   "cell_type": "markdown",
   "id": "07cfadc9",
   "metadata": {},
   "source": [
    "Теперь в строке education все впорядке. Можно дигаться дальше\n",
    "\n",
    "Поскольку у нас нет уникальных значений для каждого клиента, дубликаты нужно искать по полному совпадению строк.\n",
    "Проверим DataFrame на наличе дубликатов с помощью метода duplicated, он поможет найти одинаковые строки в df"
   ]
  },
  {
   "cell_type": "code",
   "execution_count": 19,
   "id": "9cf750ae",
   "metadata": {},
   "outputs": [
    {
     "data": {
      "text/plain": [
       "71"
      ]
     },
     "execution_count": 19,
     "metadata": {},
     "output_type": "execute_result"
    }
   ],
   "source": [
    "df.duplicated().sum() "
   ]
  },
  {
   "cell_type": "markdown",
   "id": "d5dd5a37",
   "metadata": {},
   "source": [
    "71 строка повторяется, нам они не нужны"
   ]
  },
  {
   "cell_type": "code",
   "execution_count": 20,
   "id": "e5bc7e3b",
   "metadata": {},
   "outputs": [
    {
     "data": {
      "text/plain": [
       "0"
      ]
     },
     "execution_count": 20,
     "metadata": {},
     "output_type": "execute_result"
    }
   ],
   "source": [
    "df = df.drop_duplicates().reset_index(drop=True)\n",
    "df.duplicated().sum() "
   ]
  },
  {
   "cell_type": "code",
   "execution_count": 21,
   "id": "336d0050",
   "metadata": {},
   "outputs": [
    {
     "name": "stdout",
     "output_type": "stream",
     "text": [
      "<class 'pandas.core.frame.DataFrame'>\n",
      "RangeIndex: 21454 entries, 0 to 21453\n",
      "Data columns (total 12 columns):\n",
      " #   Column            Non-Null Count  Dtype  \n",
      "---  ------            --------------  -----  \n",
      " 0   children          21454 non-null  int64  \n",
      " 1   days_employed     21454 non-null  float64\n",
      " 2   dob_years         21454 non-null  int64  \n",
      " 3   education         21454 non-null  object \n",
      " 4   education_id      21454 non-null  int64  \n",
      " 5   family_status     21454 non-null  object \n",
      " 6   family_status_id  21454 non-null  int64  \n",
      " 7   gender            21454 non-null  object \n",
      " 8   income_type       21454 non-null  object \n",
      " 9   debt              21454 non-null  int64  \n",
      " 10  total_income      21454 non-null  int32  \n",
      " 11  purpose           21454 non-null  object \n",
      "dtypes: float64(1), int32(1), int64(5), object(5)\n",
      "memory usage: 1.9+ MB\n"
     ]
    }
   ],
   "source": [
    "df.info()"
   ]
  },
  {
   "cell_type": "markdown",
   "id": "555f051b",
   "metadata": {},
   "source": [
    "Проблемы с колонной education могли возникнуть из-за человеческого фактора, разные люди могли по разному заносить данные в таблицу. Дубликаты же могли возникнуть на программном уровне, при переносе данных могла произойти ошибка и строки скопировались дважды."
   ]
  },
  {
   "cell_type": "markdown",
   "id": "33bb1894",
   "metadata": {},
   "source": [
    "### Шаг 2.5. Формирование дополнительных датафреймов словарей, декомпозиция исходного датафрейма."
   ]
  },
  {
   "cell_type": "markdown",
   "id": "7d0dd77e",
   "metadata": {},
   "source": [
    "Для будущего удобства работы создадим два новых DF. df_education и df_family_status с кодлоннами education, education_id и family_status, family_status_id соответственно."
   ]
  },
  {
   "cell_type": "code",
   "execution_count": 22,
   "id": "00e7209b",
   "metadata": {},
   "outputs": [
    {
     "data": {
      "text/html": [
       "<div>\n",
       "<style scoped>\n",
       "    .dataframe tbody tr th:only-of-type {\n",
       "        vertical-align: middle;\n",
       "    }\n",
       "\n",
       "    .dataframe tbody tr th {\n",
       "        vertical-align: top;\n",
       "    }\n",
       "\n",
       "    .dataframe thead th {\n",
       "        text-align: right;\n",
       "    }\n",
       "</style>\n",
       "<table border=\"1\" class=\"dataframe\">\n",
       "  <thead>\n",
       "    <tr style=\"text-align: right;\">\n",
       "      <th></th>\n",
       "      <th>education</th>\n",
       "      <th>education_id</th>\n",
       "    </tr>\n",
       "  </thead>\n",
       "  <tbody>\n",
       "    <tr>\n",
       "      <th>12168</th>\n",
       "      <td>среднее</td>\n",
       "      <td>1</td>\n",
       "    </tr>\n",
       "    <tr>\n",
       "      <th>4501</th>\n",
       "      <td>среднее</td>\n",
       "      <td>1</td>\n",
       "    </tr>\n",
       "    <tr>\n",
       "      <th>1762</th>\n",
       "      <td>среднее</td>\n",
       "      <td>1</td>\n",
       "    </tr>\n",
       "    <tr>\n",
       "      <th>14188</th>\n",
       "      <td>среднее</td>\n",
       "      <td>1</td>\n",
       "    </tr>\n",
       "    <tr>\n",
       "      <th>13183</th>\n",
       "      <td>высшее</td>\n",
       "      <td>0</td>\n",
       "    </tr>\n",
       "    <tr>\n",
       "      <th>12409</th>\n",
       "      <td>среднее</td>\n",
       "      <td>1</td>\n",
       "    </tr>\n",
       "    <tr>\n",
       "      <th>1885</th>\n",
       "      <td>высшее</td>\n",
       "      <td>0</td>\n",
       "    </tr>\n",
       "    <tr>\n",
       "      <th>15595</th>\n",
       "      <td>среднее</td>\n",
       "      <td>1</td>\n",
       "    </tr>\n",
       "    <tr>\n",
       "      <th>14039</th>\n",
       "      <td>высшее</td>\n",
       "      <td>0</td>\n",
       "    </tr>\n",
       "    <tr>\n",
       "      <th>449</th>\n",
       "      <td>среднее</td>\n",
       "      <td>1</td>\n",
       "    </tr>\n",
       "  </tbody>\n",
       "</table>\n",
       "</div>"
      ],
      "text/plain": [
       "      education  education_id\n",
       "12168   среднее             1\n",
       "4501    среднее             1\n",
       "1762    среднее             1\n",
       "14188   среднее             1\n",
       "13183    высшее             0\n",
       "12409   среднее             1\n",
       "1885     высшее             0\n",
       "15595   среднее             1\n",
       "14039    высшее             0\n",
       "449     среднее             1"
      ]
     },
     "metadata": {},
     "output_type": "display_data"
    },
    {
     "data": {
      "text/html": [
       "<div>\n",
       "<style scoped>\n",
       "    .dataframe tbody tr th:only-of-type {\n",
       "        vertical-align: middle;\n",
       "    }\n",
       "\n",
       "    .dataframe tbody tr th {\n",
       "        vertical-align: top;\n",
       "    }\n",
       "\n",
       "    .dataframe thead th {\n",
       "        text-align: right;\n",
       "    }\n",
       "</style>\n",
       "<table border=\"1\" class=\"dataframe\">\n",
       "  <thead>\n",
       "    <tr style=\"text-align: right;\">\n",
       "      <th></th>\n",
       "      <th>family_status</th>\n",
       "      <th>family_status_id</th>\n",
       "    </tr>\n",
       "  </thead>\n",
       "  <tbody>\n",
       "    <tr>\n",
       "      <th>8372</th>\n",
       "      <td>Не женат / не замужем</td>\n",
       "      <td>4</td>\n",
       "    </tr>\n",
       "    <tr>\n",
       "      <th>7328</th>\n",
       "      <td>в разводе</td>\n",
       "      <td>3</td>\n",
       "    </tr>\n",
       "    <tr>\n",
       "      <th>11754</th>\n",
       "      <td>Не женат / не замужем</td>\n",
       "      <td>4</td>\n",
       "    </tr>\n",
       "    <tr>\n",
       "      <th>6213</th>\n",
       "      <td>Не женат / не замужем</td>\n",
       "      <td>4</td>\n",
       "    </tr>\n",
       "    <tr>\n",
       "      <th>18941</th>\n",
       "      <td>женат / замужем</td>\n",
       "      <td>0</td>\n",
       "    </tr>\n",
       "    <tr>\n",
       "      <th>7882</th>\n",
       "      <td>вдовец / вдова</td>\n",
       "      <td>2</td>\n",
       "    </tr>\n",
       "    <tr>\n",
       "      <th>2847</th>\n",
       "      <td>женат / замужем</td>\n",
       "      <td>0</td>\n",
       "    </tr>\n",
       "    <tr>\n",
       "      <th>7687</th>\n",
       "      <td>женат / замужем</td>\n",
       "      <td>0</td>\n",
       "    </tr>\n",
       "    <tr>\n",
       "      <th>9424</th>\n",
       "      <td>женат / замужем</td>\n",
       "      <td>0</td>\n",
       "    </tr>\n",
       "    <tr>\n",
       "      <th>4354</th>\n",
       "      <td>женат / замужем</td>\n",
       "      <td>0</td>\n",
       "    </tr>\n",
       "  </tbody>\n",
       "</table>\n",
       "</div>"
      ],
      "text/plain": [
       "               family_status  family_status_id\n",
       "8372   Не женат / не замужем                 4\n",
       "7328               в разводе                 3\n",
       "11754  Не женат / не замужем                 4\n",
       "6213   Не женат / не замужем                 4\n",
       "18941        женат / замужем                 0\n",
       "7882          вдовец / вдова                 2\n",
       "2847         женат / замужем                 0\n",
       "7687         женат / замужем                 0\n",
       "9424         женат / замужем                 0\n",
       "4354         женат / замужем                 0"
      ]
     },
     "execution_count": 22,
     "metadata": {},
     "output_type": "execute_result"
    }
   ],
   "source": [
    "df_education = df[[\"education\",\"education_id\"]]\n",
    "df_family_status = df[[\"family_status\",\"family_status_id\"]]\n",
    "display(df_education.sample(10))\n",
    "df_family_status.sample(10)"
   ]
  },
  {
   "cell_type": "markdown",
   "id": "fe21c3a8",
   "metadata": {},
   "source": [
    "В таком виде от этих данных нет толку, необходимо удалить повторения в таблицах"
   ]
  },
  {
   "cell_type": "code",
   "execution_count": 23,
   "id": "93d2437e",
   "metadata": {},
   "outputs": [
    {
     "data": {
      "text/html": [
       "<div>\n",
       "<style scoped>\n",
       "    .dataframe tbody tr th:only-of-type {\n",
       "        vertical-align: middle;\n",
       "    }\n",
       "\n",
       "    .dataframe tbody tr th {\n",
       "        vertical-align: top;\n",
       "    }\n",
       "\n",
       "    .dataframe thead th {\n",
       "        text-align: right;\n",
       "    }\n",
       "</style>\n",
       "<table border=\"1\" class=\"dataframe\">\n",
       "  <thead>\n",
       "    <tr style=\"text-align: right;\">\n",
       "      <th></th>\n",
       "      <th>education</th>\n",
       "      <th>education_id</th>\n",
       "    </tr>\n",
       "  </thead>\n",
       "  <tbody>\n",
       "    <tr>\n",
       "      <th>0</th>\n",
       "      <td>высшее</td>\n",
       "      <td>0</td>\n",
       "    </tr>\n",
       "    <tr>\n",
       "      <th>1</th>\n",
       "      <td>среднее</td>\n",
       "      <td>1</td>\n",
       "    </tr>\n",
       "    <tr>\n",
       "      <th>2</th>\n",
       "      <td>неоконченное высшее</td>\n",
       "      <td>2</td>\n",
       "    </tr>\n",
       "    <tr>\n",
       "      <th>3</th>\n",
       "      <td>начальное</td>\n",
       "      <td>3</td>\n",
       "    </tr>\n",
       "    <tr>\n",
       "      <th>4</th>\n",
       "      <td>ученая степень</td>\n",
       "      <td>4</td>\n",
       "    </tr>\n",
       "  </tbody>\n",
       "</table>\n",
       "</div>"
      ],
      "text/plain": [
       "             education  education_id\n",
       "0               высшее             0\n",
       "1              среднее             1\n",
       "2  неоконченное высшее             2\n",
       "3            начальное             3\n",
       "4       ученая степень             4"
      ]
     },
     "execution_count": 23,
     "metadata": {},
     "output_type": "execute_result"
    }
   ],
   "source": [
    "df_education = df_education.drop_duplicates().reset_index(drop=True).sort_values('education_id')\n",
    "df_education"
   ]
  },
  {
   "cell_type": "code",
   "execution_count": 24,
   "id": "3b16192d",
   "metadata": {},
   "outputs": [
    {
     "data": {
      "text/html": [
       "<div>\n",
       "<style scoped>\n",
       "    .dataframe tbody tr th:only-of-type {\n",
       "        vertical-align: middle;\n",
       "    }\n",
       "\n",
       "    .dataframe tbody tr th {\n",
       "        vertical-align: top;\n",
       "    }\n",
       "\n",
       "    .dataframe thead th {\n",
       "        text-align: right;\n",
       "    }\n",
       "</style>\n",
       "<table border=\"1\" class=\"dataframe\">\n",
       "  <thead>\n",
       "    <tr style=\"text-align: right;\">\n",
       "      <th></th>\n",
       "      <th>family_status</th>\n",
       "      <th>family_status_id</th>\n",
       "    </tr>\n",
       "  </thead>\n",
       "  <tbody>\n",
       "    <tr>\n",
       "      <th>0</th>\n",
       "      <td>женат / замужем</td>\n",
       "      <td>0</td>\n",
       "    </tr>\n",
       "    <tr>\n",
       "      <th>1</th>\n",
       "      <td>гражданский брак</td>\n",
       "      <td>1</td>\n",
       "    </tr>\n",
       "    <tr>\n",
       "      <th>2</th>\n",
       "      <td>вдовец / вдова</td>\n",
       "      <td>2</td>\n",
       "    </tr>\n",
       "    <tr>\n",
       "      <th>3</th>\n",
       "      <td>в разводе</td>\n",
       "      <td>3</td>\n",
       "    </tr>\n",
       "    <tr>\n",
       "      <th>4</th>\n",
       "      <td>Не женат / не замужем</td>\n",
       "      <td>4</td>\n",
       "    </tr>\n",
       "  </tbody>\n",
       "</table>\n",
       "</div>"
      ],
      "text/plain": [
       "           family_status  family_status_id\n",
       "0        женат / замужем                 0\n",
       "1       гражданский брак                 1\n",
       "2         вдовец / вдова                 2\n",
       "3              в разводе                 3\n",
       "4  Не женат / не замужем                 4"
      ]
     },
     "execution_count": 24,
     "metadata": {},
     "output_type": "execute_result"
    }
   ],
   "source": [
    "df_family_status = df_family_status.drop_duplicates().reset_index(drop=True).sort_values('family_status_id')\n",
    "df_family_status"
   ]
  },
  {
   "cell_type": "markdown",
   "id": "a5e28bde",
   "metadata": {},
   "source": [
    "Теперь у нас есть полноценные словари со значениями и лишние столбцы из основного DF можно удалить."
   ]
  },
  {
   "cell_type": "code",
   "execution_count": 25,
   "id": "1049f253",
   "metadata": {},
   "outputs": [
    {
     "data": {
      "text/html": [
       "<div>\n",
       "<style scoped>\n",
       "    .dataframe tbody tr th:only-of-type {\n",
       "        vertical-align: middle;\n",
       "    }\n",
       "\n",
       "    .dataframe tbody tr th {\n",
       "        vertical-align: top;\n",
       "    }\n",
       "\n",
       "    .dataframe thead th {\n",
       "        text-align: right;\n",
       "    }\n",
       "</style>\n",
       "<table border=\"1\" class=\"dataframe\">\n",
       "  <thead>\n",
       "    <tr style=\"text-align: right;\">\n",
       "      <th></th>\n",
       "      <th>children</th>\n",
       "      <th>days_employed</th>\n",
       "      <th>dob_years</th>\n",
       "      <th>education_id</th>\n",
       "      <th>family_status_id</th>\n",
       "      <th>gender</th>\n",
       "      <th>income_type</th>\n",
       "      <th>debt</th>\n",
       "      <th>total_income</th>\n",
       "      <th>purpose</th>\n",
       "    </tr>\n",
       "  </thead>\n",
       "  <tbody>\n",
       "    <tr>\n",
       "      <th>0</th>\n",
       "      <td>1</td>\n",
       "      <td>8437.673028</td>\n",
       "      <td>42</td>\n",
       "      <td>0</td>\n",
       "      <td>0</td>\n",
       "      <td>F</td>\n",
       "      <td>сотрудник</td>\n",
       "      <td>0</td>\n",
       "      <td>253875</td>\n",
       "      <td>покупка жилья</td>\n",
       "    </tr>\n",
       "    <tr>\n",
       "      <th>1</th>\n",
       "      <td>1</td>\n",
       "      <td>4024.803754</td>\n",
       "      <td>36</td>\n",
       "      <td>1</td>\n",
       "      <td>0</td>\n",
       "      <td>F</td>\n",
       "      <td>сотрудник</td>\n",
       "      <td>0</td>\n",
       "      <td>112080</td>\n",
       "      <td>приобретение автомобиля</td>\n",
       "    </tr>\n",
       "    <tr>\n",
       "      <th>2</th>\n",
       "      <td>0</td>\n",
       "      <td>5623.422610</td>\n",
       "      <td>33</td>\n",
       "      <td>1</td>\n",
       "      <td>0</td>\n",
       "      <td>M</td>\n",
       "      <td>сотрудник</td>\n",
       "      <td>0</td>\n",
       "      <td>145885</td>\n",
       "      <td>покупка жилья</td>\n",
       "    </tr>\n",
       "    <tr>\n",
       "      <th>3</th>\n",
       "      <td>3</td>\n",
       "      <td>4124.747207</td>\n",
       "      <td>32</td>\n",
       "      <td>1</td>\n",
       "      <td>0</td>\n",
       "      <td>M</td>\n",
       "      <td>сотрудник</td>\n",
       "      <td>0</td>\n",
       "      <td>267628</td>\n",
       "      <td>дополнительное образование</td>\n",
       "    </tr>\n",
       "    <tr>\n",
       "      <th>4</th>\n",
       "      <td>0</td>\n",
       "      <td>340266.072047</td>\n",
       "      <td>53</td>\n",
       "      <td>1</td>\n",
       "      <td>1</td>\n",
       "      <td>F</td>\n",
       "      <td>пенсионер</td>\n",
       "      <td>0</td>\n",
       "      <td>158616</td>\n",
       "      <td>сыграть свадьбу</td>\n",
       "    </tr>\n",
       "    <tr>\n",
       "      <th>...</th>\n",
       "      <td>...</td>\n",
       "      <td>...</td>\n",
       "      <td>...</td>\n",
       "      <td>...</td>\n",
       "      <td>...</td>\n",
       "      <td>...</td>\n",
       "      <td>...</td>\n",
       "      <td>...</td>\n",
       "      <td>...</td>\n",
       "      <td>...</td>\n",
       "    </tr>\n",
       "    <tr>\n",
       "      <th>21449</th>\n",
       "      <td>1</td>\n",
       "      <td>4529.316663</td>\n",
       "      <td>43</td>\n",
       "      <td>1</td>\n",
       "      <td>1</td>\n",
       "      <td>F</td>\n",
       "      <td>компаньон</td>\n",
       "      <td>0</td>\n",
       "      <td>224791</td>\n",
       "      <td>операции с жильем</td>\n",
       "    </tr>\n",
       "    <tr>\n",
       "      <th>21450</th>\n",
       "      <td>0</td>\n",
       "      <td>343937.404131</td>\n",
       "      <td>67</td>\n",
       "      <td>1</td>\n",
       "      <td>0</td>\n",
       "      <td>F</td>\n",
       "      <td>пенсионер</td>\n",
       "      <td>0</td>\n",
       "      <td>155999</td>\n",
       "      <td>сделка с автомобилем</td>\n",
       "    </tr>\n",
       "    <tr>\n",
       "      <th>21451</th>\n",
       "      <td>1</td>\n",
       "      <td>2113.346888</td>\n",
       "      <td>38</td>\n",
       "      <td>1</td>\n",
       "      <td>1</td>\n",
       "      <td>M</td>\n",
       "      <td>сотрудник</td>\n",
       "      <td>1</td>\n",
       "      <td>89672</td>\n",
       "      <td>недвижимость</td>\n",
       "    </tr>\n",
       "    <tr>\n",
       "      <th>21452</th>\n",
       "      <td>3</td>\n",
       "      <td>3112.481705</td>\n",
       "      <td>38</td>\n",
       "      <td>1</td>\n",
       "      <td>0</td>\n",
       "      <td>M</td>\n",
       "      <td>сотрудник</td>\n",
       "      <td>1</td>\n",
       "      <td>244093</td>\n",
       "      <td>на покупку своего автомобиля</td>\n",
       "    </tr>\n",
       "    <tr>\n",
       "      <th>21453</th>\n",
       "      <td>2</td>\n",
       "      <td>1984.507589</td>\n",
       "      <td>40</td>\n",
       "      <td>1</td>\n",
       "      <td>0</td>\n",
       "      <td>F</td>\n",
       "      <td>сотрудник</td>\n",
       "      <td>0</td>\n",
       "      <td>82047</td>\n",
       "      <td>на покупку автомобиля</td>\n",
       "    </tr>\n",
       "  </tbody>\n",
       "</table>\n",
       "<p>21454 rows × 10 columns</p>\n",
       "</div>"
      ],
      "text/plain": [
       "       children  days_employed  dob_years  education_id  family_status_id  \\\n",
       "0             1    8437.673028         42             0                 0   \n",
       "1             1    4024.803754         36             1                 0   \n",
       "2             0    5623.422610         33             1                 0   \n",
       "3             3    4124.747207         32             1                 0   \n",
       "4             0  340266.072047         53             1                 1   \n",
       "...         ...            ...        ...           ...               ...   \n",
       "21449         1    4529.316663         43             1                 1   \n",
       "21450         0  343937.404131         67             1                 0   \n",
       "21451         1    2113.346888         38             1                 1   \n",
       "21452         3    3112.481705         38             1                 0   \n",
       "21453         2    1984.507589         40             1                 0   \n",
       "\n",
       "      gender income_type  debt  total_income                       purpose  \n",
       "0          F   сотрудник     0        253875                 покупка жилья  \n",
       "1          F   сотрудник     0        112080       приобретение автомобиля  \n",
       "2          M   сотрудник     0        145885                 покупка жилья  \n",
       "3          M   сотрудник     0        267628    дополнительное образование  \n",
       "4          F   пенсионер     0        158616               сыграть свадьбу  \n",
       "...      ...         ...   ...           ...                           ...  \n",
       "21449      F   компаньон     0        224791             операции с жильем  \n",
       "21450      F   пенсионер     0        155999          сделка с автомобилем  \n",
       "21451      M   сотрудник     1         89672                  недвижимость  \n",
       "21452      M   сотрудник     1        244093  на покупку своего автомобиля  \n",
       "21453      F   сотрудник     0         82047         на покупку автомобиля  \n",
       "\n",
       "[21454 rows x 10 columns]"
      ]
     },
     "execution_count": 25,
     "metadata": {},
     "output_type": "execute_result"
    }
   ],
   "source": [
    "df = df.drop(columns = [\"education\",\"family_status\"])\n",
    "df"
   ]
  },
  {
   "cell_type": "markdown",
   "id": "5446279d",
   "metadata": {},
   "source": [
    "### Шаг 2.6. Категоризация дохода."
   ]
  },
  {
   "cell_type": "markdown",
   "id": "f3ee5f44",
   "metadata": {},
   "source": [
    "Для дальнейшей работы с данными нужно занести каждого клиента в свою категорию по доходу. \n",
    "\n",
    "- 0–30000 — 'E';\n",
    "- 30001–50000 — 'D';\n",
    "- 50001–200000 — 'C';\n",
    "- 200001–1000000 — 'B';\n",
    "- 1000001 и выше — 'A'.\n",
    "\n",
    "Необходимо создать функию которая сделает это за нас."
   ]
  },
  {
   "cell_type": "code",
   "execution_count": 26,
   "id": "658ff206",
   "metadata": {},
   "outputs": [],
   "source": [
    "def salary_category (salary):\n",
    "    if salary < 30000:\n",
    "        return (\"E\")\n",
    "    if salary < 50000:\n",
    "        return (\"D\")\n",
    "    if salary < 200000:\n",
    "        return (\"C\")\n",
    "    if salary < 1000000:\n",
    "        return (\"B\")\n",
    "    return (\"A\")"
   ]
  },
  {
   "cell_type": "markdown",
   "id": "8a5e7c31",
   "metadata": {},
   "source": [
    "Функция есть, осталось ей воспользоваться, создав новый столбец в основной таблице данных."
   ]
  },
  {
   "cell_type": "code",
   "execution_count": 27,
   "id": "5aca077d",
   "metadata": {},
   "outputs": [
    {
     "data": {
      "text/html": [
       "<div>\n",
       "<style scoped>\n",
       "    .dataframe tbody tr th:only-of-type {\n",
       "        vertical-align: middle;\n",
       "    }\n",
       "\n",
       "    .dataframe tbody tr th {\n",
       "        vertical-align: top;\n",
       "    }\n",
       "\n",
       "    .dataframe thead th {\n",
       "        text-align: right;\n",
       "    }\n",
       "</style>\n",
       "<table border=\"1\" class=\"dataframe\">\n",
       "  <thead>\n",
       "    <tr style=\"text-align: right;\">\n",
       "      <th></th>\n",
       "      <th>children</th>\n",
       "      <th>days_employed</th>\n",
       "      <th>dob_years</th>\n",
       "      <th>education_id</th>\n",
       "      <th>family_status_id</th>\n",
       "      <th>gender</th>\n",
       "      <th>income_type</th>\n",
       "      <th>debt</th>\n",
       "      <th>total_income</th>\n",
       "      <th>purpose</th>\n",
       "      <th>total_income_category</th>\n",
       "    </tr>\n",
       "  </thead>\n",
       "  <tbody>\n",
       "    <tr>\n",
       "      <th>0</th>\n",
       "      <td>1</td>\n",
       "      <td>8437.673028</td>\n",
       "      <td>42</td>\n",
       "      <td>0</td>\n",
       "      <td>0</td>\n",
       "      <td>F</td>\n",
       "      <td>сотрудник</td>\n",
       "      <td>0</td>\n",
       "      <td>253875</td>\n",
       "      <td>покупка жилья</td>\n",
       "      <td>B</td>\n",
       "    </tr>\n",
       "    <tr>\n",
       "      <th>1</th>\n",
       "      <td>1</td>\n",
       "      <td>4024.803754</td>\n",
       "      <td>36</td>\n",
       "      <td>1</td>\n",
       "      <td>0</td>\n",
       "      <td>F</td>\n",
       "      <td>сотрудник</td>\n",
       "      <td>0</td>\n",
       "      <td>112080</td>\n",
       "      <td>приобретение автомобиля</td>\n",
       "      <td>C</td>\n",
       "    </tr>\n",
       "    <tr>\n",
       "      <th>2</th>\n",
       "      <td>0</td>\n",
       "      <td>5623.422610</td>\n",
       "      <td>33</td>\n",
       "      <td>1</td>\n",
       "      <td>0</td>\n",
       "      <td>M</td>\n",
       "      <td>сотрудник</td>\n",
       "      <td>0</td>\n",
       "      <td>145885</td>\n",
       "      <td>покупка жилья</td>\n",
       "      <td>C</td>\n",
       "    </tr>\n",
       "    <tr>\n",
       "      <th>3</th>\n",
       "      <td>3</td>\n",
       "      <td>4124.747207</td>\n",
       "      <td>32</td>\n",
       "      <td>1</td>\n",
       "      <td>0</td>\n",
       "      <td>M</td>\n",
       "      <td>сотрудник</td>\n",
       "      <td>0</td>\n",
       "      <td>267628</td>\n",
       "      <td>дополнительное образование</td>\n",
       "      <td>B</td>\n",
       "    </tr>\n",
       "    <tr>\n",
       "      <th>4</th>\n",
       "      <td>0</td>\n",
       "      <td>340266.072047</td>\n",
       "      <td>53</td>\n",
       "      <td>1</td>\n",
       "      <td>1</td>\n",
       "      <td>F</td>\n",
       "      <td>пенсионер</td>\n",
       "      <td>0</td>\n",
       "      <td>158616</td>\n",
       "      <td>сыграть свадьбу</td>\n",
       "      <td>C</td>\n",
       "    </tr>\n",
       "    <tr>\n",
       "      <th>5</th>\n",
       "      <td>0</td>\n",
       "      <td>926.185831</td>\n",
       "      <td>27</td>\n",
       "      <td>0</td>\n",
       "      <td>1</td>\n",
       "      <td>M</td>\n",
       "      <td>компаньон</td>\n",
       "      <td>0</td>\n",
       "      <td>255763</td>\n",
       "      <td>покупка жилья</td>\n",
       "      <td>B</td>\n",
       "    </tr>\n",
       "    <tr>\n",
       "      <th>6</th>\n",
       "      <td>0</td>\n",
       "      <td>2879.202052</td>\n",
       "      <td>43</td>\n",
       "      <td>0</td>\n",
       "      <td>0</td>\n",
       "      <td>F</td>\n",
       "      <td>компаньон</td>\n",
       "      <td>0</td>\n",
       "      <td>240525</td>\n",
       "      <td>операции с жильем</td>\n",
       "      <td>B</td>\n",
       "    </tr>\n",
       "    <tr>\n",
       "      <th>7</th>\n",
       "      <td>0</td>\n",
       "      <td>152.779569</td>\n",
       "      <td>50</td>\n",
       "      <td>1</td>\n",
       "      <td>0</td>\n",
       "      <td>M</td>\n",
       "      <td>сотрудник</td>\n",
       "      <td>0</td>\n",
       "      <td>135823</td>\n",
       "      <td>образование</td>\n",
       "      <td>C</td>\n",
       "    </tr>\n",
       "    <tr>\n",
       "      <th>8</th>\n",
       "      <td>2</td>\n",
       "      <td>6929.865299</td>\n",
       "      <td>35</td>\n",
       "      <td>0</td>\n",
       "      <td>1</td>\n",
       "      <td>F</td>\n",
       "      <td>сотрудник</td>\n",
       "      <td>0</td>\n",
       "      <td>95856</td>\n",
       "      <td>на проведение свадьбы</td>\n",
       "      <td>C</td>\n",
       "    </tr>\n",
       "    <tr>\n",
       "      <th>9</th>\n",
       "      <td>0</td>\n",
       "      <td>2188.756445</td>\n",
       "      <td>41</td>\n",
       "      <td>1</td>\n",
       "      <td>0</td>\n",
       "      <td>M</td>\n",
       "      <td>сотрудник</td>\n",
       "      <td>0</td>\n",
       "      <td>144425</td>\n",
       "      <td>покупка жилья для семьи</td>\n",
       "      <td>C</td>\n",
       "    </tr>\n",
       "  </tbody>\n",
       "</table>\n",
       "</div>"
      ],
      "text/plain": [
       "   children  days_employed  dob_years  education_id  family_status_id gender  \\\n",
       "0         1    8437.673028         42             0                 0      F   \n",
       "1         1    4024.803754         36             1                 0      F   \n",
       "2         0    5623.422610         33             1                 0      M   \n",
       "3         3    4124.747207         32             1                 0      M   \n",
       "4         0  340266.072047         53             1                 1      F   \n",
       "5         0     926.185831         27             0                 1      M   \n",
       "6         0    2879.202052         43             0                 0      F   \n",
       "7         0     152.779569         50             1                 0      M   \n",
       "8         2    6929.865299         35             0                 1      F   \n",
       "9         0    2188.756445         41             1                 0      M   \n",
       "\n",
       "  income_type  debt  total_income                     purpose  \\\n",
       "0   сотрудник     0        253875               покупка жилья   \n",
       "1   сотрудник     0        112080     приобретение автомобиля   \n",
       "2   сотрудник     0        145885               покупка жилья   \n",
       "3   сотрудник     0        267628  дополнительное образование   \n",
       "4   пенсионер     0        158616             сыграть свадьбу   \n",
       "5   компаньон     0        255763               покупка жилья   \n",
       "6   компаньон     0        240525           операции с жильем   \n",
       "7   сотрудник     0        135823                 образование   \n",
       "8   сотрудник     0         95856       на проведение свадьбы   \n",
       "9   сотрудник     0        144425     покупка жилья для семьи   \n",
       "\n",
       "  total_income_category  \n",
       "0                     B  \n",
       "1                     C  \n",
       "2                     C  \n",
       "3                     B  \n",
       "4                     C  \n",
       "5                     B  \n",
       "6                     B  \n",
       "7                     C  \n",
       "8                     C  \n",
       "9                     C  "
      ]
     },
     "execution_count": 27,
     "metadata": {},
     "output_type": "execute_result"
    }
   ],
   "source": [
    "df[\"total_income_category\"] = df[\"total_income\"].apply(salary_category)\n",
    "df.head(10)"
   ]
  },
  {
   "cell_type": "code",
   "execution_count": 28,
   "id": "4011c45e",
   "metadata": {},
   "outputs": [
    {
     "name": "stdout",
     "output_type": "stream",
     "text": [
      "<class 'pandas.core.frame.DataFrame'>\n",
      "RangeIndex: 21454 entries, 0 to 21453\n",
      "Data columns (total 11 columns):\n",
      " #   Column                 Non-Null Count  Dtype  \n",
      "---  ------                 --------------  -----  \n",
      " 0   children               21454 non-null  int64  \n",
      " 1   days_employed          21454 non-null  float64\n",
      " 2   dob_years              21454 non-null  int64  \n",
      " 3   education_id           21454 non-null  int64  \n",
      " 4   family_status_id       21454 non-null  int64  \n",
      " 5   gender                 21454 non-null  object \n",
      " 6   income_type            21454 non-null  object \n",
      " 7   debt                   21454 non-null  int64  \n",
      " 8   total_income           21454 non-null  int32  \n",
      " 9   purpose                21454 non-null  object \n",
      " 10  total_income_category  21454 non-null  object \n",
      "dtypes: float64(1), int32(1), int64(5), object(4)\n",
      "memory usage: 1.7+ MB\n"
     ]
    }
   ],
   "source": [
    "df.info()"
   ]
  },
  {
   "cell_type": "markdown",
   "id": "5e480b86",
   "metadata": {},
   "source": [
    "Как видим в столбце total_income_category 21454 значения, значит каждый клиент получил категорию и с этим будет проще работать."
   ]
  },
  {
   "cell_type": "markdown",
   "id": "d4bab2cc",
   "metadata": {},
   "source": [
    "### Шаг 2.7. Категоризация целей кредита."
   ]
  },
  {
   "cell_type": "markdown",
   "id": "e19e7dc4",
   "metadata": {},
   "source": [
    "Остался один шаг для основательно работы с данными. Необходимо цели кредита объеденить в категории. Посмотрим какие есть вообще цели."
   ]
  },
  {
   "cell_type": "code",
   "execution_count": 29,
   "id": "124d5e79",
   "metadata": {},
   "outputs": [
    {
     "data": {
      "text/plain": [
       "свадьба                                   791\n",
       "на проведение свадьбы                     768\n",
       "сыграть свадьбу                           765\n",
       "операции с недвижимостью                  675\n",
       "покупка коммерческой недвижимости         661\n",
       "операции с жильем                         652\n",
       "покупка жилья для сдачи                   651\n",
       "операции с коммерческой недвижимостью     650\n",
       "покупка жилья                             646\n",
       "жилье                                     646\n",
       "покупка жилья для семьи                   638\n",
       "строительство собственной недвижимости    635\n",
       "недвижимость                              633\n",
       "операции со своей недвижимостью           627\n",
       "строительство жилой недвижимости          624\n",
       "покупка недвижимости                      621\n",
       "покупка своего жилья                      620\n",
       "строительство недвижимости                619\n",
       "ремонт жилью                              607\n",
       "покупка жилой недвижимости                606\n",
       "на покупку своего автомобиля              505\n",
       "заняться высшим образованием              496\n",
       "автомобиль                                494\n",
       "сделка с подержанным автомобилем          486\n",
       "свой автомобиль                           478\n",
       "на покупку подержанного автомобиля        478\n",
       "автомобили                                478\n",
       "на покупку автомобиля                     471\n",
       "приобретение автомобиля                   461\n",
       "дополнительное образование                460\n",
       "сделка с автомобилем                      455\n",
       "высшее образование                        452\n",
       "образование                               447\n",
       "получение дополнительного образования     446\n",
       "получение образования                     442\n",
       "профильное образование                    436\n",
       "получение высшего образования             426\n",
       "заняться образованием                     408\n",
       "Name: purpose, dtype: int64"
      ]
     },
     "execution_count": 29,
     "metadata": {},
     "output_type": "execute_result"
    }
   ],
   "source": [
    "df[\"purpose\"].value_counts()"
   ]
  },
  {
   "cell_type": "markdown",
   "id": "a833f95c",
   "metadata": {},
   "source": [
    "Все эти ели можно разбить на 4 категории:\n",
    "- Операции с автомобилем\n",
    "- Операции с недвижимостью\n",
    "- Проведение свадьбы\n",
    "- Получение образования\n",
    "\n",
    "Создадим функцию, пропустим через нее цели и добавим purpose_category столбец в таблицу.\n",
    "\n",
    "После чего стоблец purpose можно удалить из основного df."
   ]
  },
  {
   "cell_type": "code",
   "execution_count": 30,
   "id": "265f1d77",
   "metadata": {},
   "outputs": [],
   "source": [
    "def purpose_category (purpose):\n",
    "    if \"свадьб\" in purpose:\n",
    "        return (\"проведение свадьбы\")\n",
    "    if \"автомоб\" in purpose:\n",
    "        return (\"операции с автомобилем\")\n",
    "    if \"образован\" in purpose:\n",
    "        return (\"получение образования\")\n",
    "    return (\"операции с недвижимостью\")"
   ]
  },
  {
   "cell_type": "code",
   "execution_count": 31,
   "id": "84db984e",
   "metadata": {},
   "outputs": [
    {
     "data": {
      "text/html": [
       "<div>\n",
       "<style scoped>\n",
       "    .dataframe tbody tr th:only-of-type {\n",
       "        vertical-align: middle;\n",
       "    }\n",
       "\n",
       "    .dataframe tbody tr th {\n",
       "        vertical-align: top;\n",
       "    }\n",
       "\n",
       "    .dataframe thead th {\n",
       "        text-align: right;\n",
       "    }\n",
       "</style>\n",
       "<table border=\"1\" class=\"dataframe\">\n",
       "  <thead>\n",
       "    <tr style=\"text-align: right;\">\n",
       "      <th></th>\n",
       "      <th>children</th>\n",
       "      <th>days_employed</th>\n",
       "      <th>dob_years</th>\n",
       "      <th>education_id</th>\n",
       "      <th>family_status_id</th>\n",
       "      <th>gender</th>\n",
       "      <th>income_type</th>\n",
       "      <th>debt</th>\n",
       "      <th>total_income</th>\n",
       "      <th>total_income_category</th>\n",
       "      <th>purpose_category</th>\n",
       "    </tr>\n",
       "  </thead>\n",
       "  <tbody>\n",
       "    <tr>\n",
       "      <th>0</th>\n",
       "      <td>1</td>\n",
       "      <td>8437.673028</td>\n",
       "      <td>42</td>\n",
       "      <td>0</td>\n",
       "      <td>0</td>\n",
       "      <td>F</td>\n",
       "      <td>сотрудник</td>\n",
       "      <td>0</td>\n",
       "      <td>253875</td>\n",
       "      <td>B</td>\n",
       "      <td>операции с недвижимостью</td>\n",
       "    </tr>\n",
       "    <tr>\n",
       "      <th>1</th>\n",
       "      <td>1</td>\n",
       "      <td>4024.803754</td>\n",
       "      <td>36</td>\n",
       "      <td>1</td>\n",
       "      <td>0</td>\n",
       "      <td>F</td>\n",
       "      <td>сотрудник</td>\n",
       "      <td>0</td>\n",
       "      <td>112080</td>\n",
       "      <td>C</td>\n",
       "      <td>операции с автомобилем</td>\n",
       "    </tr>\n",
       "    <tr>\n",
       "      <th>2</th>\n",
       "      <td>0</td>\n",
       "      <td>5623.422610</td>\n",
       "      <td>33</td>\n",
       "      <td>1</td>\n",
       "      <td>0</td>\n",
       "      <td>M</td>\n",
       "      <td>сотрудник</td>\n",
       "      <td>0</td>\n",
       "      <td>145885</td>\n",
       "      <td>C</td>\n",
       "      <td>операции с недвижимостью</td>\n",
       "    </tr>\n",
       "    <tr>\n",
       "      <th>3</th>\n",
       "      <td>3</td>\n",
       "      <td>4124.747207</td>\n",
       "      <td>32</td>\n",
       "      <td>1</td>\n",
       "      <td>0</td>\n",
       "      <td>M</td>\n",
       "      <td>сотрудник</td>\n",
       "      <td>0</td>\n",
       "      <td>267628</td>\n",
       "      <td>B</td>\n",
       "      <td>получение образования</td>\n",
       "    </tr>\n",
       "    <tr>\n",
       "      <th>4</th>\n",
       "      <td>0</td>\n",
       "      <td>340266.072047</td>\n",
       "      <td>53</td>\n",
       "      <td>1</td>\n",
       "      <td>1</td>\n",
       "      <td>F</td>\n",
       "      <td>пенсионер</td>\n",
       "      <td>0</td>\n",
       "      <td>158616</td>\n",
       "      <td>C</td>\n",
       "      <td>проведение свадьбы</td>\n",
       "    </tr>\n",
       "    <tr>\n",
       "      <th>5</th>\n",
       "      <td>0</td>\n",
       "      <td>926.185831</td>\n",
       "      <td>27</td>\n",
       "      <td>0</td>\n",
       "      <td>1</td>\n",
       "      <td>M</td>\n",
       "      <td>компаньон</td>\n",
       "      <td>0</td>\n",
       "      <td>255763</td>\n",
       "      <td>B</td>\n",
       "      <td>операции с недвижимостью</td>\n",
       "    </tr>\n",
       "    <tr>\n",
       "      <th>6</th>\n",
       "      <td>0</td>\n",
       "      <td>2879.202052</td>\n",
       "      <td>43</td>\n",
       "      <td>0</td>\n",
       "      <td>0</td>\n",
       "      <td>F</td>\n",
       "      <td>компаньон</td>\n",
       "      <td>0</td>\n",
       "      <td>240525</td>\n",
       "      <td>B</td>\n",
       "      <td>операции с недвижимостью</td>\n",
       "    </tr>\n",
       "    <tr>\n",
       "      <th>7</th>\n",
       "      <td>0</td>\n",
       "      <td>152.779569</td>\n",
       "      <td>50</td>\n",
       "      <td>1</td>\n",
       "      <td>0</td>\n",
       "      <td>M</td>\n",
       "      <td>сотрудник</td>\n",
       "      <td>0</td>\n",
       "      <td>135823</td>\n",
       "      <td>C</td>\n",
       "      <td>получение образования</td>\n",
       "    </tr>\n",
       "    <tr>\n",
       "      <th>8</th>\n",
       "      <td>2</td>\n",
       "      <td>6929.865299</td>\n",
       "      <td>35</td>\n",
       "      <td>0</td>\n",
       "      <td>1</td>\n",
       "      <td>F</td>\n",
       "      <td>сотрудник</td>\n",
       "      <td>0</td>\n",
       "      <td>95856</td>\n",
       "      <td>C</td>\n",
       "      <td>проведение свадьбы</td>\n",
       "    </tr>\n",
       "    <tr>\n",
       "      <th>9</th>\n",
       "      <td>0</td>\n",
       "      <td>2188.756445</td>\n",
       "      <td>41</td>\n",
       "      <td>1</td>\n",
       "      <td>0</td>\n",
       "      <td>M</td>\n",
       "      <td>сотрудник</td>\n",
       "      <td>0</td>\n",
       "      <td>144425</td>\n",
       "      <td>C</td>\n",
       "      <td>операции с недвижимостью</td>\n",
       "    </tr>\n",
       "  </tbody>\n",
       "</table>\n",
       "</div>"
      ],
      "text/plain": [
       "   children  days_employed  dob_years  education_id  family_status_id gender  \\\n",
       "0         1    8437.673028         42             0                 0      F   \n",
       "1         1    4024.803754         36             1                 0      F   \n",
       "2         0    5623.422610         33             1                 0      M   \n",
       "3         3    4124.747207         32             1                 0      M   \n",
       "4         0  340266.072047         53             1                 1      F   \n",
       "5         0     926.185831         27             0                 1      M   \n",
       "6         0    2879.202052         43             0                 0      F   \n",
       "7         0     152.779569         50             1                 0      M   \n",
       "8         2    6929.865299         35             0                 1      F   \n",
       "9         0    2188.756445         41             1                 0      M   \n",
       "\n",
       "  income_type  debt  total_income total_income_category  \\\n",
       "0   сотрудник     0        253875                     B   \n",
       "1   сотрудник     0        112080                     C   \n",
       "2   сотрудник     0        145885                     C   \n",
       "3   сотрудник     0        267628                     B   \n",
       "4   пенсионер     0        158616                     C   \n",
       "5   компаньон     0        255763                     B   \n",
       "6   компаньон     0        240525                     B   \n",
       "7   сотрудник     0        135823                     C   \n",
       "8   сотрудник     0         95856                     C   \n",
       "9   сотрудник     0        144425                     C   \n",
       "\n",
       "           purpose_category  \n",
       "0  операции с недвижимостью  \n",
       "1    операции с автомобилем  \n",
       "2  операции с недвижимостью  \n",
       "3     получение образования  \n",
       "4        проведение свадьбы  \n",
       "5  операции с недвижимостью  \n",
       "6  операции с недвижимостью  \n",
       "7     получение образования  \n",
       "8        проведение свадьбы  \n",
       "9  операции с недвижимостью  "
      ]
     },
     "execution_count": 31,
     "metadata": {},
     "output_type": "execute_result"
    }
   ],
   "source": [
    "df[\"purpose_category\"] = df[\"purpose\"].apply(purpose_category)\n",
    "df = df.drop(columns = [\"purpose\"])\n",
    "df.head(10)"
   ]
  },
  {
   "cell_type": "code",
   "execution_count": 32,
   "id": "bbaec5be",
   "metadata": {},
   "outputs": [
    {
     "name": "stdout",
     "output_type": "stream",
     "text": [
      "<class 'pandas.core.frame.DataFrame'>\n",
      "RangeIndex: 21454 entries, 0 to 21453\n",
      "Data columns (total 11 columns):\n",
      " #   Column                 Non-Null Count  Dtype  \n",
      "---  ------                 --------------  -----  \n",
      " 0   children               21454 non-null  int64  \n",
      " 1   days_employed          21454 non-null  float64\n",
      " 2   dob_years              21454 non-null  int64  \n",
      " 3   education_id           21454 non-null  int64  \n",
      " 4   family_status_id       21454 non-null  int64  \n",
      " 5   gender                 21454 non-null  object \n",
      " 6   income_type            21454 non-null  object \n",
      " 7   debt                   21454 non-null  int64  \n",
      " 8   total_income           21454 non-null  int32  \n",
      " 9   total_income_category  21454 non-null  object \n",
      " 10  purpose_category       21454 non-null  object \n",
      "dtypes: float64(1), int32(1), int64(5), object(4)\n",
      "memory usage: 1.7+ MB\n"
     ]
    }
   ],
   "source": [
    "df.info()"
   ]
  },
  {
   "cell_type": "markdown",
   "id": "6693cb9b",
   "metadata": {},
   "source": [
    "Теперь DataFrame полностью готов для работы с ним. Пропусков нет, дубликаты удалены, лищние таблицы убраны в отделбную базу, клиенты собраны в свои категории по зарплате и целям на кредит."
   ]
  },
  {
   "cell_type": "markdown",
   "id": "7d59f4bf",
   "metadata": {},
   "source": [
    "### Ответы на вопросы."
   ]
  },
  {
   "cell_type": "markdown",
   "id": "9b6b632c",
   "metadata": {},
   "source": [
    "К данной таблице были поставлены следущие вопросы:\n",
    "1. Есть ли зависимость между количеством детей и возвратом кредита в срок?\n",
    "2. Есть ли зависимость между семейным положением и возвратом кредита в срок?\n",
    "3. Есть ли зависимость между уровнем дохода и возвратом кредита в срок?\n",
    "4. Как разные цели кредита влияют на его возврат в срок?"
   ]
  },
  {
   "cell_type": "markdown",
   "id": "329cd25d",
   "metadata": {},
   "source": [
    "##### Вопрос 1:"
   ]
  },
  {
   "cell_type": "markdown",
   "id": "a448bb9d",
   "metadata": {},
   "source": [
    "Для ответа на данный вопрос необходимо понимать какие значения принимают данные."
   ]
  },
  {
   "cell_type": "code",
   "execution_count": 33,
   "id": "0fa6932b",
   "metadata": {},
   "outputs": [
    {
     "data": {
      "text/plain": [
       "0    19713\n",
       "1     1741\n",
       "Name: debt, dtype: int64"
      ]
     },
     "execution_count": 33,
     "metadata": {},
     "output_type": "execute_result"
    }
   ],
   "source": [
    "df[\"debt\"].value_counts()\n"
   ]
  },
  {
   "cell_type": "code",
   "execution_count": 34,
   "id": "38374829",
   "metadata": {},
   "outputs": [
    {
     "data": {
      "text/plain": [
       "0    14091\n",
       "1     4855\n",
       "2     2128\n",
       "3      330\n",
       "4       41\n",
       "5        9\n",
       "Name: children, dtype: int64"
      ]
     },
     "execution_count": 34,
     "metadata": {},
     "output_type": "execute_result"
    }
   ],
   "source": [
    "df[\"children\"].value_counts()"
   ]
  },
  {
   "cell_type": "markdown",
   "id": "df0619e8",
   "metadata": {},
   "source": [
    "Создадим сводную таблицу которая будет принимать необходимые значения."
   ]
  },
  {
   "cell_type": "code",
   "execution_count": 35,
   "id": "38a1646d",
   "metadata": {},
   "outputs": [
    {
     "data": {
      "text/html": [
       "<div>\n",
       "<style scoped>\n",
       "    .dataframe tbody tr th:only-of-type {\n",
       "        vertical-align: middle;\n",
       "    }\n",
       "\n",
       "    .dataframe tbody tr th {\n",
       "        vertical-align: top;\n",
       "    }\n",
       "\n",
       "    .dataframe thead th {\n",
       "        text-align: right;\n",
       "    }\n",
       "</style>\n",
       "<table border=\"1\" class=\"dataframe\">\n",
       "  <thead>\n",
       "    <tr style=\"text-align: right;\">\n",
       "      <th>debt</th>\n",
       "      <th>0</th>\n",
       "      <th>1</th>\n",
       "    </tr>\n",
       "    <tr>\n",
       "      <th>children</th>\n",
       "      <th></th>\n",
       "      <th></th>\n",
       "    </tr>\n",
       "  </thead>\n",
       "  <tbody>\n",
       "    <tr>\n",
       "      <th>0</th>\n",
       "      <td>13028.0</td>\n",
       "      <td>1063.0</td>\n",
       "    </tr>\n",
       "    <tr>\n",
       "      <th>1</th>\n",
       "      <td>4410.0</td>\n",
       "      <td>445.0</td>\n",
       "    </tr>\n",
       "    <tr>\n",
       "      <th>2</th>\n",
       "      <td>1926.0</td>\n",
       "      <td>202.0</td>\n",
       "    </tr>\n",
       "    <tr>\n",
       "      <th>3</th>\n",
       "      <td>303.0</td>\n",
       "      <td>27.0</td>\n",
       "    </tr>\n",
       "    <tr>\n",
       "      <th>4</th>\n",
       "      <td>37.0</td>\n",
       "      <td>4.0</td>\n",
       "    </tr>\n",
       "    <tr>\n",
       "      <th>5</th>\n",
       "      <td>9.0</td>\n",
       "      <td>NaN</td>\n",
       "    </tr>\n",
       "  </tbody>\n",
       "</table>\n",
       "</div>"
      ],
      "text/plain": [
       "debt            0       1\n",
       "children                 \n",
       "0         13028.0  1063.0\n",
       "1          4410.0   445.0\n",
       "2          1926.0   202.0\n",
       "3           303.0    27.0\n",
       "4            37.0     4.0\n",
       "5             9.0     NaN"
      ]
     },
     "execution_count": 35,
     "metadata": {},
     "output_type": "execute_result"
    }
   ],
   "source": [
    "children_debt = df.pivot_table(index = [\"children\"], columns=[\"debt\"], values = \"gender\",  aggfunc=\"count\")\n",
    "children_debt"
   ]
  },
  {
   "cell_type": "markdown",
   "id": "2b01b0a8",
   "metadata": {},
   "source": [
    "Заменим NaN на 0 поскольку семьи с 5 детьми не совершали просрочек."
   ]
  },
  {
   "cell_type": "code",
   "execution_count": 36,
   "id": "e86e6097",
   "metadata": {},
   "outputs": [
    {
     "data": {
      "text/html": [
       "<div>\n",
       "<style scoped>\n",
       "    .dataframe tbody tr th:only-of-type {\n",
       "        vertical-align: middle;\n",
       "    }\n",
       "\n",
       "    .dataframe tbody tr th {\n",
       "        vertical-align: top;\n",
       "    }\n",
       "\n",
       "    .dataframe thead th {\n",
       "        text-align: right;\n",
       "    }\n",
       "</style>\n",
       "<table border=\"1\" class=\"dataframe\">\n",
       "  <thead>\n",
       "    <tr style=\"text-align: right;\">\n",
       "      <th>debt</th>\n",
       "      <th>0</th>\n",
       "      <th>1</th>\n",
       "    </tr>\n",
       "    <tr>\n",
       "      <th>children</th>\n",
       "      <th></th>\n",
       "      <th></th>\n",
       "    </tr>\n",
       "  </thead>\n",
       "  <tbody>\n",
       "    <tr>\n",
       "      <th>0</th>\n",
       "      <td>13028.0</td>\n",
       "      <td>1063.0</td>\n",
       "    </tr>\n",
       "    <tr>\n",
       "      <th>1</th>\n",
       "      <td>4410.0</td>\n",
       "      <td>445.0</td>\n",
       "    </tr>\n",
       "    <tr>\n",
       "      <th>2</th>\n",
       "      <td>1926.0</td>\n",
       "      <td>202.0</td>\n",
       "    </tr>\n",
       "    <tr>\n",
       "      <th>3</th>\n",
       "      <td>303.0</td>\n",
       "      <td>27.0</td>\n",
       "    </tr>\n",
       "    <tr>\n",
       "      <th>4</th>\n",
       "      <td>37.0</td>\n",
       "      <td>4.0</td>\n",
       "    </tr>\n",
       "    <tr>\n",
       "      <th>5</th>\n",
       "      <td>9.0</td>\n",
       "      <td>0.0</td>\n",
       "    </tr>\n",
       "  </tbody>\n",
       "</table>\n",
       "</div>"
      ],
      "text/plain": [
       "debt            0       1\n",
       "children                 \n",
       "0         13028.0  1063.0\n",
       "1          4410.0   445.0\n",
       "2          1926.0   202.0\n",
       "3           303.0    27.0\n",
       "4            37.0     4.0\n",
       "5             9.0     0.0"
      ]
     },
     "execution_count": 36,
     "metadata": {},
     "output_type": "execute_result"
    }
   ],
   "source": [
    "children_debt.loc[5,1] = 0\n",
    "children_debt"
   ]
  },
  {
   "cell_type": "markdown",
   "id": "2a083312",
   "metadata": {},
   "source": [
    "Для оценки будем использовать процентное отношение "
   ]
  },
  {
   "cell_type": "code",
   "execution_count": 37,
   "id": "f0aca64c",
   "metadata": {},
   "outputs": [
    {
     "data": {
      "text/html": [
       "<div>\n",
       "<style scoped>\n",
       "    .dataframe tbody tr th:only-of-type {\n",
       "        vertical-align: middle;\n",
       "    }\n",
       "\n",
       "    .dataframe tbody tr th {\n",
       "        vertical-align: top;\n",
       "    }\n",
       "\n",
       "    .dataframe thead th {\n",
       "        text-align: right;\n",
       "    }\n",
       "</style>\n",
       "<table border=\"1\" class=\"dataframe\">\n",
       "  <thead>\n",
       "    <tr style=\"text-align: right;\">\n",
       "      <th>debt</th>\n",
       "      <th>0</th>\n",
       "      <th>1</th>\n",
       "      <th>prosetn_of_debt</th>\n",
       "    </tr>\n",
       "    <tr>\n",
       "      <th>children</th>\n",
       "      <th></th>\n",
       "      <th></th>\n",
       "      <th></th>\n",
       "    </tr>\n",
       "  </thead>\n",
       "  <tbody>\n",
       "    <tr>\n",
       "      <th>0</th>\n",
       "      <td>13028.0</td>\n",
       "      <td>1063.0</td>\n",
       "      <td>7.543822</td>\n",
       "    </tr>\n",
       "    <tr>\n",
       "      <th>1</th>\n",
       "      <td>4410.0</td>\n",
       "      <td>445.0</td>\n",
       "      <td>9.165808</td>\n",
       "    </tr>\n",
       "    <tr>\n",
       "      <th>2</th>\n",
       "      <td>1926.0</td>\n",
       "      <td>202.0</td>\n",
       "      <td>9.492481</td>\n",
       "    </tr>\n",
       "    <tr>\n",
       "      <th>3</th>\n",
       "      <td>303.0</td>\n",
       "      <td>27.0</td>\n",
       "      <td>8.181818</td>\n",
       "    </tr>\n",
       "    <tr>\n",
       "      <th>4</th>\n",
       "      <td>37.0</td>\n",
       "      <td>4.0</td>\n",
       "      <td>9.756098</td>\n",
       "    </tr>\n",
       "    <tr>\n",
       "      <th>5</th>\n",
       "      <td>9.0</td>\n",
       "      <td>0.0</td>\n",
       "      <td>0.000000</td>\n",
       "    </tr>\n",
       "  </tbody>\n",
       "</table>\n",
       "</div>"
      ],
      "text/plain": [
       "debt            0       1  prosetn_of_debt\n",
       "children                                  \n",
       "0         13028.0  1063.0         7.543822\n",
       "1          4410.0   445.0         9.165808\n",
       "2          1926.0   202.0         9.492481\n",
       "3           303.0    27.0         8.181818\n",
       "4            37.0     4.0         9.756098\n",
       "5             9.0     0.0         0.000000"
      ]
     },
     "execution_count": 37,
     "metadata": {},
     "output_type": "execute_result"
    }
   ],
   "source": [
    "children_debt[\"prosetn_of_debt\"] = children_debt[1] / (children_debt[1] + children_debt[0]) * 100\n",
    "children_debt"
   ]
  },
  {
   "cell_type": "code",
   "execution_count": 38,
   "id": "a7587659",
   "metadata": {},
   "outputs": [
    {
     "data": {
      "text/plain": [
       "2.2122752630549503"
      ]
     },
     "execution_count": 38,
     "metadata": {},
     "output_type": "execute_result"
    }
   ],
   "source": [
    "children_debt[\"prosetn_of_debt\"].max() - children_debt[\"prosetn_of_debt\"][:5].min()"
   ]
  },
  {
   "cell_type": "markdown",
   "id": "2dd7b625",
   "metadata": {},
   "source": [
    "##### Вывод 1:"
   ]
  },
  {
   "cell_type": "markdown",
   "id": "66a473db",
   "metadata": {},
   "source": [
    "Можно сделать вывод что просрочка не зависит от количества детей, разница между минимальным и максимальным значением состовляет всего 2.2% (в расчет не берем семьи с 5 детьми, слишком малло данных)"
   ]
  },
  {
   "cell_type": "markdown",
   "id": "c35155f5",
   "metadata": {},
   "source": [
    "##### Вопрос 2:"
   ]
  },
  {
   "cell_type": "markdown",
   "id": "63d8000c",
   "metadata": {},
   "source": [
    "Здесь будем действовать аналогично как и в предыдущем вопросе."
   ]
  },
  {
   "cell_type": "code",
   "execution_count": 39,
   "id": "5ba99efb",
   "metadata": {},
   "outputs": [
    {
     "data": {
      "text/html": [
       "<div>\n",
       "<style scoped>\n",
       "    .dataframe tbody tr th:only-of-type {\n",
       "        vertical-align: middle;\n",
       "    }\n",
       "\n",
       "    .dataframe tbody tr th {\n",
       "        vertical-align: top;\n",
       "    }\n",
       "\n",
       "    .dataframe thead th {\n",
       "        text-align: right;\n",
       "    }\n",
       "</style>\n",
       "<table border=\"1\" class=\"dataframe\">\n",
       "  <thead>\n",
       "    <tr style=\"text-align: right;\">\n",
       "      <th>debt</th>\n",
       "      <th>0</th>\n",
       "      <th>1</th>\n",
       "    </tr>\n",
       "    <tr>\n",
       "      <th>family_status_id</th>\n",
       "      <th></th>\n",
       "      <th></th>\n",
       "    </tr>\n",
       "  </thead>\n",
       "  <tbody>\n",
       "    <tr>\n",
       "      <th>0</th>\n",
       "      <td>11408</td>\n",
       "      <td>931</td>\n",
       "    </tr>\n",
       "    <tr>\n",
       "      <th>1</th>\n",
       "      <td>3763</td>\n",
       "      <td>388</td>\n",
       "    </tr>\n",
       "    <tr>\n",
       "      <th>2</th>\n",
       "      <td>896</td>\n",
       "      <td>63</td>\n",
       "    </tr>\n",
       "    <tr>\n",
       "      <th>3</th>\n",
       "      <td>1110</td>\n",
       "      <td>85</td>\n",
       "    </tr>\n",
       "    <tr>\n",
       "      <th>4</th>\n",
       "      <td>2536</td>\n",
       "      <td>274</td>\n",
       "    </tr>\n",
       "  </tbody>\n",
       "</table>\n",
       "</div>"
      ],
      "text/plain": [
       "debt                  0    1\n",
       "family_status_id            \n",
       "0                 11408  931\n",
       "1                  3763  388\n",
       "2                   896   63\n",
       "3                  1110   85\n",
       "4                  2536  274"
      ]
     },
     "execution_count": 39,
     "metadata": {},
     "output_type": "execute_result"
    }
   ],
   "source": [
    "family_status_id_debt = df.pivot_table(index = [\"family_status_id\"], columns=[\"debt\"], values = \"gender\",  aggfunc=\"count\")\n",
    "family_status_id_debt"
   ]
  },
  {
   "cell_type": "code",
   "execution_count": 40,
   "id": "b44e192c",
   "metadata": {},
   "outputs": [
    {
     "data": {
      "text/html": [
       "<div>\n",
       "<style scoped>\n",
       "    .dataframe tbody tr th:only-of-type {\n",
       "        vertical-align: middle;\n",
       "    }\n",
       "\n",
       "    .dataframe tbody tr th {\n",
       "        vertical-align: top;\n",
       "    }\n",
       "\n",
       "    .dataframe thead th {\n",
       "        text-align: right;\n",
       "    }\n",
       "</style>\n",
       "<table border=\"1\" class=\"dataframe\">\n",
       "  <thead>\n",
       "    <tr style=\"text-align: right;\">\n",
       "      <th>debt</th>\n",
       "      <th>0</th>\n",
       "      <th>1</th>\n",
       "      <th>prosetn_of_debt</th>\n",
       "    </tr>\n",
       "    <tr>\n",
       "      <th>family_status_id</th>\n",
       "      <th></th>\n",
       "      <th></th>\n",
       "      <th></th>\n",
       "    </tr>\n",
       "  </thead>\n",
       "  <tbody>\n",
       "    <tr>\n",
       "      <th>0</th>\n",
       "      <td>11408</td>\n",
       "      <td>931</td>\n",
       "      <td>7.545182</td>\n",
       "    </tr>\n",
       "    <tr>\n",
       "      <th>1</th>\n",
       "      <td>3763</td>\n",
       "      <td>388</td>\n",
       "      <td>9.347145</td>\n",
       "    </tr>\n",
       "    <tr>\n",
       "      <th>2</th>\n",
       "      <td>896</td>\n",
       "      <td>63</td>\n",
       "      <td>6.569343</td>\n",
       "    </tr>\n",
       "    <tr>\n",
       "      <th>3</th>\n",
       "      <td>1110</td>\n",
       "      <td>85</td>\n",
       "      <td>7.112971</td>\n",
       "    </tr>\n",
       "    <tr>\n",
       "      <th>4</th>\n",
       "      <td>2536</td>\n",
       "      <td>274</td>\n",
       "      <td>9.750890</td>\n",
       "    </tr>\n",
       "  </tbody>\n",
       "</table>\n",
       "</div>"
      ],
      "text/plain": [
       "debt                  0    1  prosetn_of_debt\n",
       "family_status_id                             \n",
       "0                 11408  931         7.545182\n",
       "1                  3763  388         9.347145\n",
       "2                   896   63         6.569343\n",
       "3                  1110   85         7.112971\n",
       "4                  2536  274         9.750890"
      ]
     },
     "execution_count": 40,
     "metadata": {},
     "output_type": "execute_result"
    }
   ],
   "source": [
    "family_status_id_debt[\"prosetn_of_debt\"] = family_status_id_debt[1] / (family_status_id_debt[1] + family_status_id_debt[0]) * 100\n",
    "family_status_id_debt"
   ]
  },
  {
   "cell_type": "code",
   "execution_count": 41,
   "id": "6b26b3eb",
   "metadata": {},
   "outputs": [
    {
     "data": {
      "text/plain": [
       "3.1815466140218707"
      ]
     },
     "execution_count": 41,
     "metadata": {},
     "output_type": "execute_result"
    }
   ],
   "source": [
    "family_status_id_debt[\"prosetn_of_debt\"].max() - family_status_id_debt[\"prosetn_of_debt\"].min()"
   ]
  },
  {
   "cell_type": "markdown",
   "id": "f7bc9f31",
   "metadata": {},
   "source": [
    "##### Вывод 2"
   ]
  },
  {
   "cell_type": "markdown",
   "id": "3747e2a8",
   "metadata": {},
   "source": [
    "Можно сделать вывод что просрочка не зависит от семейного положения, разница между минимальным и максимальным значением состовляет всего 3.2%"
   ]
  },
  {
   "cell_type": "markdown",
   "id": "0e260769",
   "metadata": {},
   "source": [
    "##### Вопрос 3"
   ]
  },
  {
   "cell_type": "markdown",
   "id": "bc6fce7e",
   "metadata": {},
   "source": [
    "Отвеаем на вопрос все по томуже принципу."
   ]
  },
  {
   "cell_type": "code",
   "execution_count": 42,
   "id": "67d68a1a",
   "metadata": {},
   "outputs": [
    {
     "data": {
      "text/html": [
       "<div>\n",
       "<style scoped>\n",
       "    .dataframe tbody tr th:only-of-type {\n",
       "        vertical-align: middle;\n",
       "    }\n",
       "\n",
       "    .dataframe tbody tr th {\n",
       "        vertical-align: top;\n",
       "    }\n",
       "\n",
       "    .dataframe thead th {\n",
       "        text-align: right;\n",
       "    }\n",
       "</style>\n",
       "<table border=\"1\" class=\"dataframe\">\n",
       "  <thead>\n",
       "    <tr style=\"text-align: right;\">\n",
       "      <th>debt</th>\n",
       "      <th>0</th>\n",
       "      <th>1</th>\n",
       "    </tr>\n",
       "    <tr>\n",
       "      <th>total_income_category</th>\n",
       "      <th></th>\n",
       "      <th></th>\n",
       "    </tr>\n",
       "  </thead>\n",
       "  <tbody>\n",
       "    <tr>\n",
       "      <th>A</th>\n",
       "      <td>23</td>\n",
       "      <td>2</td>\n",
       "    </tr>\n",
       "    <tr>\n",
       "      <th>B</th>\n",
       "      <td>4685</td>\n",
       "      <td>356</td>\n",
       "    </tr>\n",
       "    <tr>\n",
       "      <th>C</th>\n",
       "      <td>14656</td>\n",
       "      <td>1360</td>\n",
       "    </tr>\n",
       "    <tr>\n",
       "      <th>D</th>\n",
       "      <td>329</td>\n",
       "      <td>21</td>\n",
       "    </tr>\n",
       "    <tr>\n",
       "      <th>E</th>\n",
       "      <td>20</td>\n",
       "      <td>2</td>\n",
       "    </tr>\n",
       "  </tbody>\n",
       "</table>\n",
       "</div>"
      ],
      "text/plain": [
       "debt                       0     1\n",
       "total_income_category             \n",
       "A                         23     2\n",
       "B                       4685   356\n",
       "C                      14656  1360\n",
       "D                        329    21\n",
       "E                         20     2"
      ]
     },
     "execution_count": 42,
     "metadata": {},
     "output_type": "execute_result"
    }
   ],
   "source": [
    "total_income_category_debt = df.pivot_table(index = [\"total_income_category\"], columns=[\"debt\"], values = \"gender\",  aggfunc=\"count\")\n",
    "total_income_category_debt"
   ]
  },
  {
   "cell_type": "code",
   "execution_count": 43,
   "id": "5b5f703b",
   "metadata": {},
   "outputs": [
    {
     "data": {
      "text/html": [
       "<div>\n",
       "<style scoped>\n",
       "    .dataframe tbody tr th:only-of-type {\n",
       "        vertical-align: middle;\n",
       "    }\n",
       "\n",
       "    .dataframe tbody tr th {\n",
       "        vertical-align: top;\n",
       "    }\n",
       "\n",
       "    .dataframe thead th {\n",
       "        text-align: right;\n",
       "    }\n",
       "</style>\n",
       "<table border=\"1\" class=\"dataframe\">\n",
       "  <thead>\n",
       "    <tr style=\"text-align: right;\">\n",
       "      <th>debt</th>\n",
       "      <th>0</th>\n",
       "      <th>1</th>\n",
       "      <th>prosetn_of_debt</th>\n",
       "    </tr>\n",
       "    <tr>\n",
       "      <th>total_income_category</th>\n",
       "      <th></th>\n",
       "      <th></th>\n",
       "      <th></th>\n",
       "    </tr>\n",
       "  </thead>\n",
       "  <tbody>\n",
       "    <tr>\n",
       "      <th>A</th>\n",
       "      <td>23</td>\n",
       "      <td>2</td>\n",
       "      <td>8.000000</td>\n",
       "    </tr>\n",
       "    <tr>\n",
       "      <th>B</th>\n",
       "      <td>4685</td>\n",
       "      <td>356</td>\n",
       "      <td>7.062091</td>\n",
       "    </tr>\n",
       "    <tr>\n",
       "      <th>C</th>\n",
       "      <td>14656</td>\n",
       "      <td>1360</td>\n",
       "      <td>8.491508</td>\n",
       "    </tr>\n",
       "    <tr>\n",
       "      <th>D</th>\n",
       "      <td>329</td>\n",
       "      <td>21</td>\n",
       "      <td>6.000000</td>\n",
       "    </tr>\n",
       "    <tr>\n",
       "      <th>E</th>\n",
       "      <td>20</td>\n",
       "      <td>2</td>\n",
       "      <td>9.090909</td>\n",
       "    </tr>\n",
       "  </tbody>\n",
       "</table>\n",
       "</div>"
      ],
      "text/plain": [
       "debt                       0     1  prosetn_of_debt\n",
       "total_income_category                              \n",
       "A                         23     2         8.000000\n",
       "B                       4685   356         7.062091\n",
       "C                      14656  1360         8.491508\n",
       "D                        329    21         6.000000\n",
       "E                         20     2         9.090909"
      ]
     },
     "execution_count": 43,
     "metadata": {},
     "output_type": "execute_result"
    }
   ],
   "source": [
    "total_income_category_debt[\"prosetn_of_debt\"] = total_income_category_debt[1] / (total_income_category_debt[1] + total_income_category_debt[0]) * 100\n",
    "total_income_category_debt"
   ]
  },
  {
   "cell_type": "code",
   "execution_count": 44,
   "id": "e867da77",
   "metadata": {},
   "outputs": [
    {
     "data": {
      "text/plain": [
       "3.0909090909090917"
      ]
     },
     "execution_count": 44,
     "metadata": {},
     "output_type": "execute_result"
    }
   ],
   "source": [
    "total_income_category_debt[\"prosetn_of_debt\"].max() - total_income_category_debt[\"prosetn_of_debt\"].min()"
   ]
  },
  {
   "cell_type": "markdown",
   "id": "b02ab388",
   "metadata": {},
   "source": [
    "##### Вывод 3"
   ]
  },
  {
   "cell_type": "markdown",
   "id": "d9689874",
   "metadata": {},
   "source": [
    "Можно сделать вывод что просрочка не зависит от заработка, разница между минимальным и максимальным значением состовляет всего 3.1%"
   ]
  },
  {
   "cell_type": "markdown",
   "id": "e44383a4",
   "metadata": {},
   "source": [
    "##### Вопрос 4"
   ]
  },
  {
   "cell_type": "markdown",
   "id": "2293573c",
   "metadata": {},
   "source": [
    "Действуем аналогично предыдущим вопросам."
   ]
  },
  {
   "cell_type": "code",
   "execution_count": 45,
   "id": "3c4003e7",
   "metadata": {},
   "outputs": [
    {
     "data": {
      "text/html": [
       "<div>\n",
       "<style scoped>\n",
       "    .dataframe tbody tr th:only-of-type {\n",
       "        vertical-align: middle;\n",
       "    }\n",
       "\n",
       "    .dataframe tbody tr th {\n",
       "        vertical-align: top;\n",
       "    }\n",
       "\n",
       "    .dataframe thead th {\n",
       "        text-align: right;\n",
       "    }\n",
       "</style>\n",
       "<table border=\"1\" class=\"dataframe\">\n",
       "  <thead>\n",
       "    <tr style=\"text-align: right;\">\n",
       "      <th>debt</th>\n",
       "      <th>0</th>\n",
       "      <th>1</th>\n",
       "    </tr>\n",
       "    <tr>\n",
       "      <th>purpose_category</th>\n",
       "      <th></th>\n",
       "      <th></th>\n",
       "    </tr>\n",
       "  </thead>\n",
       "  <tbody>\n",
       "    <tr>\n",
       "      <th>операции с автомобилем</th>\n",
       "      <td>3903</td>\n",
       "      <td>403</td>\n",
       "    </tr>\n",
       "    <tr>\n",
       "      <th>операции с недвижимостью</th>\n",
       "      <td>10029</td>\n",
       "      <td>782</td>\n",
       "    </tr>\n",
       "    <tr>\n",
       "      <th>получение образования</th>\n",
       "      <td>3643</td>\n",
       "      <td>370</td>\n",
       "    </tr>\n",
       "    <tr>\n",
       "      <th>проведение свадьбы</th>\n",
       "      <td>2138</td>\n",
       "      <td>186</td>\n",
       "    </tr>\n",
       "  </tbody>\n",
       "</table>\n",
       "</div>"
      ],
      "text/plain": [
       "debt                          0    1\n",
       "purpose_category                    \n",
       "операции с автомобилем     3903  403\n",
       "операции с недвижимостью  10029  782\n",
       "получение образования      3643  370\n",
       "проведение свадьбы         2138  186"
      ]
     },
     "execution_count": 45,
     "metadata": {},
     "output_type": "execute_result"
    }
   ],
   "source": [
    "purpose_category_debt = df.pivot_table(index = [\"purpose_category\"], columns=[\"debt\"], values = \"gender\",  aggfunc=\"count\")\n",
    "purpose_category_debt"
   ]
  },
  {
   "cell_type": "code",
   "execution_count": 46,
   "id": "03b6c19f",
   "metadata": {},
   "outputs": [
    {
     "data": {
      "text/html": [
       "<div>\n",
       "<style scoped>\n",
       "    .dataframe tbody tr th:only-of-type {\n",
       "        vertical-align: middle;\n",
       "    }\n",
       "\n",
       "    .dataframe tbody tr th {\n",
       "        vertical-align: top;\n",
       "    }\n",
       "\n",
       "    .dataframe thead th {\n",
       "        text-align: right;\n",
       "    }\n",
       "</style>\n",
       "<table border=\"1\" class=\"dataframe\">\n",
       "  <thead>\n",
       "    <tr style=\"text-align: right;\">\n",
       "      <th>debt</th>\n",
       "      <th>0</th>\n",
       "      <th>1</th>\n",
       "      <th>prosetn_of_debt</th>\n",
       "    </tr>\n",
       "    <tr>\n",
       "      <th>purpose_category</th>\n",
       "      <th></th>\n",
       "      <th></th>\n",
       "      <th></th>\n",
       "    </tr>\n",
       "  </thead>\n",
       "  <tbody>\n",
       "    <tr>\n",
       "      <th>операции с автомобилем</th>\n",
       "      <td>3903</td>\n",
       "      <td>403</td>\n",
       "      <td>9.359034</td>\n",
       "    </tr>\n",
       "    <tr>\n",
       "      <th>операции с недвижимостью</th>\n",
       "      <td>10029</td>\n",
       "      <td>782</td>\n",
       "      <td>7.233373</td>\n",
       "    </tr>\n",
       "    <tr>\n",
       "      <th>получение образования</th>\n",
       "      <td>3643</td>\n",
       "      <td>370</td>\n",
       "      <td>9.220035</td>\n",
       "    </tr>\n",
       "    <tr>\n",
       "      <th>проведение свадьбы</th>\n",
       "      <td>2138</td>\n",
       "      <td>186</td>\n",
       "      <td>8.003442</td>\n",
       "    </tr>\n",
       "  </tbody>\n",
       "</table>\n",
       "</div>"
      ],
      "text/plain": [
       "debt                          0    1  prosetn_of_debt\n",
       "purpose_category                                     \n",
       "операции с автомобилем     3903  403         9.359034\n",
       "операции с недвижимостью  10029  782         7.233373\n",
       "получение образования      3643  370         9.220035\n",
       "проведение свадьбы         2138  186         8.003442"
      ]
     },
     "execution_count": 46,
     "metadata": {},
     "output_type": "execute_result"
    }
   ],
   "source": [
    "purpose_category_debt[\"prosetn_of_debt\"] = purpose_category_debt[1] / (purpose_category_debt[1] + purpose_category_debt[0]) * 100\n",
    "purpose_category_debt"
   ]
  },
  {
   "cell_type": "code",
   "execution_count": 47,
   "id": "ac0e3974",
   "metadata": {},
   "outputs": [
    {
     "data": {
      "text/plain": [
       "2.125660490212206"
      ]
     },
     "execution_count": 47,
     "metadata": {},
     "output_type": "execute_result"
    }
   ],
   "source": [
    "purpose_category_debt[\"prosetn_of_debt\"].max() - purpose_category_debt[\"prosetn_of_debt\"].min()"
   ]
  },
  {
   "cell_type": "markdown",
   "id": "06862569",
   "metadata": {},
   "source": [
    "##### Вывод 4"
   ]
  },
  {
   "cell_type": "markdown",
   "id": "7576006f",
   "metadata": {},
   "source": [
    "Можно сделать вывод что просрочка не зависит от цели кредита, разница между минимальным и максимальным значением состовляет всего 2.1%"
   ]
  },
  {
   "cell_type": "markdown",
   "id": "ba43af80",
   "metadata": {},
   "source": [
    "## Общий вывод:"
   ]
  },
  {
   "cell_type": "markdown",
   "id": "6d78a54b",
   "metadata": {},
   "source": [
    "Проверив 4 гипотизы получили что возвращение кредитных средств в срок не зависят от семейного положения, количесвта детей, цели кредита и заработка. \n",
    "\n",
    "Так же можно предположить что данных не достаточно для определенных выводов, по скольку в некоторых категорияю количество людей в районе 1000, этого не достаточно для однозначных выводов.\n",
    "\n",
    "Можно предположить, что самым не надежным плательщиком является человек вдовец/вдова без детей, с заработком 30-50т.р. и цель операции с недвижимостью."
   ]
  }
 ],
 "metadata": {
  "ExecuteTimeLog": [
   {
    "duration": 401,
    "start_time": "2022-04-06T06:02:36.129Z"
   },
   {
    "duration": 17,
    "start_time": "2022-04-06T06:03:26.900Z"
   },
   {
    "duration": 255,
    "start_time": "2022-04-06T06:07:06.003Z"
   },
   {
    "duration": 11,
    "start_time": "2022-04-06T06:13:15.333Z"
   },
   {
    "duration": 5,
    "start_time": "2022-04-06T06:15:04.689Z"
   },
   {
    "duration": 7,
    "start_time": "2022-04-06T06:15:12.286Z"
   },
   {
    "duration": 5,
    "start_time": "2022-04-06T06:15:22.646Z"
   },
   {
    "duration": 64,
    "start_time": "2022-04-06T06:16:14.700Z"
   },
   {
    "duration": 6,
    "start_time": "2022-04-06T06:16:24.140Z"
   },
   {
    "duration": 13,
    "start_time": "2022-04-06T06:17:27.641Z"
   },
   {
    "duration": 11,
    "start_time": "2022-04-06T06:18:03.215Z"
   },
   {
    "duration": 9,
    "start_time": "2022-04-06T06:18:06.879Z"
   },
   {
    "duration": 18,
    "start_time": "2022-04-06T06:20:16.890Z"
   },
   {
    "duration": 21,
    "start_time": "2022-04-06T06:20:50.054Z"
   },
   {
    "duration": 14,
    "start_time": "2022-04-06T06:21:10.520Z"
   },
   {
    "duration": 6,
    "start_time": "2022-04-06T06:22:28.301Z"
   },
   {
    "duration": 5,
    "start_time": "2022-04-06T06:22:34.108Z"
   },
   {
    "duration": 5,
    "start_time": "2022-04-06T06:23:18.355Z"
   },
   {
    "duration": 70,
    "start_time": "2022-04-06T06:24:22.319Z"
   },
   {
    "duration": 17,
    "start_time": "2022-04-06T06:24:28.400Z"
   },
   {
    "duration": 4,
    "start_time": "2022-04-06T06:28:20.518Z"
   },
   {
    "duration": 10,
    "start_time": "2022-04-06T06:28:29.165Z"
   },
   {
    "duration": 4,
    "start_time": "2022-04-06T06:29:06.411Z"
   },
   {
    "duration": 4,
    "start_time": "2022-04-06T06:29:12.275Z"
   },
   {
    "duration": 5,
    "start_time": "2022-04-06T06:29:35.483Z"
   },
   {
    "duration": 197,
    "start_time": "2022-04-06T06:31:19.982Z"
   },
   {
    "duration": 203,
    "start_time": "2022-04-06T06:31:38.141Z"
   },
   {
    "duration": 203,
    "start_time": "2022-04-06T06:33:26.833Z"
   },
   {
    "duration": 5,
    "start_time": "2022-04-06T06:33:30.545Z"
   },
   {
    "duration": 5,
    "start_time": "2022-04-06T06:33:39.008Z"
   },
   {
    "duration": 7,
    "start_time": "2022-04-06T06:42:45.041Z"
   },
   {
    "duration": 13,
    "start_time": "2022-04-06T06:43:09.793Z"
   },
   {
    "duration": 7,
    "start_time": "2022-04-06T06:44:12.110Z"
   },
   {
    "duration": 4,
    "start_time": "2022-04-06T06:45:48.057Z"
   },
   {
    "duration": 6,
    "start_time": "2022-04-06T06:46:10.337Z"
   },
   {
    "duration": 10,
    "start_time": "2022-04-06T06:46:15.184Z"
   },
   {
    "duration": 3075,
    "start_time": "2022-04-06T06:46:36.319Z"
   },
   {
    "duration": 7,
    "start_time": "2022-04-06T06:46:50.080Z"
   },
   {
    "duration": 7,
    "start_time": "2022-04-06T06:49:42.408Z"
   },
   {
    "duration": 12,
    "start_time": "2022-04-06T06:51:07.765Z"
   },
   {
    "duration": 6,
    "start_time": "2022-04-06T06:51:24.540Z"
   },
   {
    "duration": 5,
    "start_time": "2022-04-06T06:51:39.668Z"
   },
   {
    "duration": 6,
    "start_time": "2022-04-06T06:51:56.155Z"
   },
   {
    "duration": 6,
    "start_time": "2022-04-06T06:55:30.683Z"
   },
   {
    "duration": 9,
    "start_time": "2022-04-06T06:55:47.530Z"
   },
   {
    "duration": 6,
    "start_time": "2022-04-06T06:56:29.704Z"
   },
   {
    "duration": 7,
    "start_time": "2022-04-06T06:56:59.943Z"
   },
   {
    "duration": 9,
    "start_time": "2022-04-06T06:57:43.741Z"
   },
   {
    "duration": 5,
    "start_time": "2022-04-06T06:57:56.557Z"
   },
   {
    "duration": 5,
    "start_time": "2022-04-06T06:58:04.900Z"
   },
   {
    "duration": 7,
    "start_time": "2022-04-06T06:58:25.723Z"
   },
   {
    "duration": 9,
    "start_time": "2022-04-06T06:58:39.682Z"
   },
   {
    "duration": 6,
    "start_time": "2022-04-06T06:59:08.466Z"
   },
   {
    "duration": 6,
    "start_time": "2022-04-06T06:59:37.056Z"
   },
   {
    "duration": 18,
    "start_time": "2022-04-06T07:03:12.287Z"
   },
   {
    "duration": 16,
    "start_time": "2022-04-06T07:03:37.840Z"
   },
   {
    "duration": 19,
    "start_time": "2022-04-06T07:03:48.846Z"
   },
   {
    "duration": 5,
    "start_time": "2022-04-06T07:05:00.723Z"
   },
   {
    "duration": 7,
    "start_time": "2022-04-06T07:05:30.418Z"
   },
   {
    "duration": 4,
    "start_time": "2022-04-06T07:06:04.655Z"
   },
   {
    "duration": 4,
    "start_time": "2022-04-06T07:06:24.927Z"
   },
   {
    "duration": 9,
    "start_time": "2022-04-06T07:07:39.442Z"
   },
   {
    "duration": 18,
    "start_time": "2022-04-06T07:07:48.347Z"
   },
   {
    "duration": 6,
    "start_time": "2022-04-06T07:08:16.403Z"
   },
   {
    "duration": 8,
    "start_time": "2022-04-06T07:08:30.233Z"
   },
   {
    "duration": 6,
    "start_time": "2022-04-06T07:08:38.834Z"
   },
   {
    "duration": 8,
    "start_time": "2022-04-06T07:09:14.945Z"
   },
   {
    "duration": 10,
    "start_time": "2022-04-06T07:09:25.927Z"
   },
   {
    "duration": 209,
    "start_time": "2022-04-06T07:09:40.902Z"
   },
   {
    "duration": 18,
    "start_time": "2022-04-06T07:09:48.742Z"
   },
   {
    "duration": 10,
    "start_time": "2022-04-06T07:09:54.038Z"
   },
   {
    "duration": 222,
    "start_time": "2022-04-06T07:16:30.124Z"
   },
   {
    "duration": 11,
    "start_time": "2022-04-06T07:16:37.638Z"
   },
   {
    "duration": 24,
    "start_time": "2022-04-06T07:16:53.564Z"
   },
   {
    "duration": 22,
    "start_time": "2022-04-06T07:17:06.156Z"
   },
   {
    "duration": 20,
    "start_time": "2022-04-06T07:17:19.300Z"
   },
   {
    "duration": 18,
    "start_time": "2022-04-06T07:17:55.595Z"
   },
   {
    "duration": 22,
    "start_time": "2022-04-06T07:18:26.601Z"
   },
   {
    "duration": 20,
    "start_time": "2022-04-06T07:19:41.948Z"
   },
   {
    "duration": 26,
    "start_time": "2022-04-06T07:19:46.166Z"
   },
   {
    "duration": 9,
    "start_time": "2022-04-06T07:19:53.966Z"
   },
   {
    "duration": 48,
    "start_time": "2022-04-06T07:20:00.579Z"
   },
   {
    "duration": 596,
    "start_time": "2022-04-06T07:20:03.478Z"
   },
   {
    "duration": 23,
    "start_time": "2022-04-06T07:20:04.077Z"
   },
   {
    "duration": 13,
    "start_time": "2022-04-06T07:20:04.101Z"
   },
   {
    "duration": 18,
    "start_time": "2022-04-06T07:20:04.116Z"
   },
   {
    "duration": 5,
    "start_time": "2022-04-06T07:20:04.135Z"
   },
   {
    "duration": 14,
    "start_time": "2022-04-06T07:20:04.141Z"
   },
   {
    "duration": 50,
    "start_time": "2022-04-06T07:20:04.156Z"
   },
   {
    "duration": 4,
    "start_time": "2022-04-06T07:25:06.496Z"
   },
   {
    "duration": 4,
    "start_time": "2022-04-06T07:25:21.936Z"
   },
   {
    "duration": 19,
    "start_time": "2022-04-06T07:26:44.948Z"
   },
   {
    "duration": 7,
    "start_time": "2022-04-06T07:27:09.289Z"
   },
   {
    "duration": 6,
    "start_time": "2022-04-06T07:27:14.387Z"
   },
   {
    "duration": 5,
    "start_time": "2022-04-06T07:29:32.223Z"
   },
   {
    "duration": 64,
    "start_time": "2022-04-06T07:29:38.595Z"
   },
   {
    "duration": 12,
    "start_time": "2022-04-06T07:29:38.662Z"
   },
   {
    "duration": 13,
    "start_time": "2022-04-06T07:29:38.676Z"
   },
   {
    "duration": 18,
    "start_time": "2022-04-06T07:29:38.691Z"
   },
   {
    "duration": 5,
    "start_time": "2022-04-06T07:29:38.711Z"
   },
   {
    "duration": 11,
    "start_time": "2022-04-06T07:29:38.718Z"
   },
   {
    "duration": 50,
    "start_time": "2022-04-06T07:29:38.731Z"
   },
   {
    "duration": 10,
    "start_time": "2022-04-06T07:29:38.782Z"
   },
   {
    "duration": 64,
    "start_time": "2022-04-06T07:29:45.076Z"
   },
   {
    "duration": 12,
    "start_time": "2022-04-06T07:29:45.142Z"
   },
   {
    "duration": 10,
    "start_time": "2022-04-06T07:29:45.155Z"
   },
   {
    "duration": 26,
    "start_time": "2022-04-06T07:29:45.167Z"
   },
   {
    "duration": 5,
    "start_time": "2022-04-06T07:29:45.195Z"
   },
   {
    "duration": 11,
    "start_time": "2022-04-06T07:29:45.202Z"
   },
   {
    "duration": 24,
    "start_time": "2022-04-06T07:29:45.215Z"
   },
   {
    "duration": 10,
    "start_time": "2022-04-06T07:29:45.240Z"
   },
   {
    "duration": 482,
    "start_time": "2022-04-06T07:29:53.347Z"
   },
   {
    "duration": 17,
    "start_time": "2022-04-06T07:29:53.832Z"
   },
   {
    "duration": 8,
    "start_time": "2022-04-06T07:29:53.851Z"
   },
   {
    "duration": 30,
    "start_time": "2022-04-06T07:29:53.861Z"
   },
   {
    "duration": 4,
    "start_time": "2022-04-06T07:29:53.893Z"
   },
   {
    "duration": 11,
    "start_time": "2022-04-06T07:29:53.899Z"
   },
   {
    "duration": 20,
    "start_time": "2022-04-06T07:29:53.911Z"
   },
   {
    "duration": 11,
    "start_time": "2022-04-06T07:29:53.932Z"
   },
   {
    "duration": 8,
    "start_time": "2022-04-06T07:30:04.782Z"
   },
   {
    "duration": 12,
    "start_time": "2022-04-06T07:30:41.333Z"
   },
   {
    "duration": 13,
    "start_time": "2022-04-06T07:32:17.001Z"
   },
   {
    "duration": 14,
    "start_time": "2022-04-06T07:32:27.918Z"
   },
   {
    "duration": 14,
    "start_time": "2022-04-06T07:32:37.593Z"
   },
   {
    "duration": 21,
    "start_time": "2022-04-06T07:33:10.087Z"
   },
   {
    "duration": 219,
    "start_time": "2022-04-06T07:34:32.652Z"
   },
   {
    "duration": 4,
    "start_time": "2022-04-06T07:38:55.480Z"
   },
   {
    "duration": 15,
    "start_time": "2022-04-06T07:39:03.000Z"
   },
   {
    "duration": 11,
    "start_time": "2022-04-06T07:39:53.134Z"
   },
   {
    "duration": 176,
    "start_time": "2022-04-06T07:42:43.895Z"
   },
   {
    "duration": 60,
    "start_time": "2022-04-06T07:45:33.760Z"
   },
   {
    "duration": 7,
    "start_time": "2022-04-06T07:45:50.383Z"
   },
   {
    "duration": 16,
    "start_time": "2022-04-06T14:59:19.694Z"
   },
   {
    "duration": 42,
    "start_time": "2022-04-06T15:01:37.082Z"
   },
   {
    "duration": 17,
    "start_time": "2022-04-06T15:02:50.816Z"
   },
   {
    "duration": 36,
    "start_time": "2022-04-06T15:03:14.366Z"
   },
   {
    "duration": 19,
    "start_time": "2022-04-06T15:03:24.269Z"
   },
   {
    "duration": 7,
    "start_time": "2022-04-06T15:03:47.732Z"
   },
   {
    "duration": 15,
    "start_time": "2022-04-06T15:03:49.924Z"
   },
   {
    "duration": 21,
    "start_time": "2022-04-06T15:03:52.876Z"
   },
   {
    "duration": 21,
    "start_time": "2022-04-06T15:03:54.964Z"
   },
   {
    "duration": 484,
    "start_time": "2022-04-06T15:04:15.476Z"
   },
   {
    "duration": 26,
    "start_time": "2022-04-06T15:04:15.962Z"
   },
   {
    "duration": 10,
    "start_time": "2022-04-06T15:04:15.990Z"
   },
   {
    "duration": 17,
    "start_time": "2022-04-06T15:04:16.002Z"
   },
   {
    "duration": 4,
    "start_time": "2022-04-06T15:04:16.021Z"
   },
   {
    "duration": 11,
    "start_time": "2022-04-06T15:04:16.026Z"
   },
   {
    "duration": 43,
    "start_time": "2022-04-06T15:04:16.038Z"
   },
   {
    "duration": 13,
    "start_time": "2022-04-06T15:04:16.083Z"
   },
   {
    "duration": 15,
    "start_time": "2022-04-06T15:04:16.098Z"
   },
   {
    "duration": 20,
    "start_time": "2022-04-06T15:04:16.116Z"
   },
   {
    "duration": 14,
    "start_time": "2022-04-06T15:04:16.138Z"
   },
   {
    "duration": 14,
    "start_time": "2022-04-06T15:04:16.181Z"
   },
   {
    "duration": 11,
    "start_time": "2022-04-06T15:04:16.197Z"
   },
   {
    "duration": 11,
    "start_time": "2022-04-06T15:04:16.209Z"
   },
   {
    "duration": 20,
    "start_time": "2022-04-06T15:04:16.221Z"
   },
   {
    "duration": 2,
    "start_time": "2022-04-06T15:04:16.242Z"
   },
   {
    "duration": 24,
    "start_time": "2022-04-06T15:04:16.245Z"
   },
   {
    "duration": 16,
    "start_time": "2022-04-06T15:04:21.751Z"
   },
   {
    "duration": 17,
    "start_time": "2022-04-06T15:04:23.439Z"
   },
   {
    "duration": 37,
    "start_time": "2022-04-06T15:04:29.279Z"
   },
   {
    "duration": 17,
    "start_time": "2022-04-06T15:04:30.767Z"
   },
   {
    "duration": 246,
    "start_time": "2022-04-06T15:12:38.579Z"
   },
   {
    "duration": 12,
    "start_time": "2022-04-06T15:16:17.538Z"
   },
   {
    "duration": 12,
    "start_time": "2022-04-06T15:17:20.479Z"
   },
   {
    "duration": 9,
    "start_time": "2022-04-06T15:17:59.422Z"
   },
   {
    "duration": 59,
    "start_time": "2022-04-06T15:22:52.194Z"
   },
   {
    "duration": 17,
    "start_time": "2022-04-06T15:23:02.305Z"
   },
   {
    "duration": 202,
    "start_time": "2022-04-06T15:23:17.263Z"
   },
   {
    "duration": 16,
    "start_time": "2022-04-06T15:23:27.952Z"
   },
   {
    "duration": 14,
    "start_time": "2022-04-06T15:23:45.791Z"
   },
   {
    "duration": 7,
    "start_time": "2022-04-06T15:25:46.234Z"
   },
   {
    "duration": 3,
    "start_time": "2022-04-06T15:32:08.458Z"
   },
   {
    "duration": 28,
    "start_time": "2022-04-06T15:33:58.077Z"
   },
   {
    "duration": 7,
    "start_time": "2022-04-06T15:38:17.235Z"
   },
   {
    "duration": 18,
    "start_time": "2022-04-06T15:48:28.809Z"
   },
   {
    "duration": 17,
    "start_time": "2022-04-06T15:48:47.856Z"
   },
   {
    "duration": 4,
    "start_time": "2022-04-06T15:58:36.160Z"
   },
   {
    "duration": 3,
    "start_time": "2022-04-06T15:58:42.672Z"
   },
   {
    "duration": 4,
    "start_time": "2022-04-06T15:59:38.557Z"
   },
   {
    "duration": 18,
    "start_time": "2022-04-06T15:59:41.037Z"
   },
   {
    "duration": 3,
    "start_time": "2022-04-06T15:59:54.053Z"
   },
   {
    "duration": 18,
    "start_time": "2022-04-06T15:59:56.095Z"
   },
   {
    "duration": 19,
    "start_time": "2022-04-06T16:00:14.995Z"
   },
   {
    "duration": 5,
    "start_time": "2022-04-06T16:10:20.203Z"
   },
   {
    "duration": 6,
    "start_time": "2022-04-06T16:10:37.369Z"
   },
   {
    "duration": 5,
    "start_time": "2022-04-06T16:11:15.321Z"
   },
   {
    "duration": 5,
    "start_time": "2022-04-06T16:11:22.495Z"
   },
   {
    "duration": 10,
    "start_time": "2022-04-06T16:11:35.794Z"
   },
   {
    "duration": 5,
    "start_time": "2022-04-06T16:11:40.519Z"
   },
   {
    "duration": 3,
    "start_time": "2022-04-06T16:26:19.150Z"
   },
   {
    "duration": 5,
    "start_time": "2022-04-06T16:26:54.253Z"
   },
   {
    "duration": 5,
    "start_time": "2022-04-06T16:27:13.452Z"
   },
   {
    "duration": 7,
    "start_time": "2022-04-06T16:27:14.971Z"
   },
   {
    "duration": 5,
    "start_time": "2022-04-06T16:27:27.099Z"
   },
   {
    "duration": 5,
    "start_time": "2022-04-06T16:27:34.747Z"
   },
   {
    "duration": 12,
    "start_time": "2022-04-06T16:27:50.834Z"
   },
   {
    "duration": 192,
    "start_time": "2022-04-06T16:27:57.905Z"
   },
   {
    "duration": 7,
    "start_time": "2022-04-06T16:28:01.970Z"
   },
   {
    "duration": 6,
    "start_time": "2022-04-06T16:29:57.765Z"
   },
   {
    "duration": 5,
    "start_time": "2022-04-06T16:31:33.626Z"
   },
   {
    "duration": 6,
    "start_time": "2022-04-06T16:31:39.657Z"
   },
   {
    "duration": 32,
    "start_time": "2022-04-06T16:33:17.394Z"
   },
   {
    "duration": 30,
    "start_time": "2022-04-06T16:37:35.594Z"
   },
   {
    "duration": 30,
    "start_time": "2022-04-06T16:38:04.217Z"
   },
   {
    "duration": 30,
    "start_time": "2022-04-06T16:38:40.144Z"
   },
   {
    "duration": 30,
    "start_time": "2022-04-06T16:41:09.801Z"
   },
   {
    "duration": 441,
    "start_time": "2022-04-06T16:49:12.176Z"
   },
   {
    "duration": 26,
    "start_time": "2022-04-06T16:49:12.619Z"
   },
   {
    "duration": 13,
    "start_time": "2022-04-06T16:49:12.647Z"
   },
   {
    "duration": 24,
    "start_time": "2022-04-06T16:49:12.663Z"
   },
   {
    "duration": 6,
    "start_time": "2022-04-06T16:49:12.688Z"
   },
   {
    "duration": 49,
    "start_time": "2022-04-06T16:49:12.696Z"
   },
   {
    "duration": 42,
    "start_time": "2022-04-06T16:49:12.746Z"
   },
   {
    "duration": 58,
    "start_time": "2022-04-06T16:49:12.790Z"
   },
   {
    "duration": 16,
    "start_time": "2022-04-06T16:49:12.850Z"
   },
   {
    "duration": 21,
    "start_time": "2022-04-06T16:49:12.869Z"
   },
   {
    "duration": 44,
    "start_time": "2022-04-06T16:49:12.892Z"
   },
   {
    "duration": 13,
    "start_time": "2022-04-06T16:49:12.938Z"
   },
   {
    "duration": 10,
    "start_time": "2022-04-06T16:49:12.952Z"
   },
   {
    "duration": 19,
    "start_time": "2022-04-06T16:49:12.964Z"
   },
   {
    "duration": 60,
    "start_time": "2022-04-06T16:49:12.986Z"
   },
   {
    "duration": 40,
    "start_time": "2022-04-06T16:49:13.048Z"
   },
   {
    "duration": 16,
    "start_time": "2022-04-06T16:49:13.091Z"
   },
   {
    "duration": 15,
    "start_time": "2022-04-06T16:49:13.133Z"
   },
   {
    "duration": 12,
    "start_time": "2022-04-06T16:49:13.150Z"
   },
   {
    "duration": 11,
    "start_time": "2022-04-06T16:49:13.163Z"
   },
   {
    "duration": 56,
    "start_time": "2022-04-06T16:49:13.178Z"
   },
   {
    "duration": 4,
    "start_time": "2022-04-06T16:49:13.236Z"
   },
   {
    "duration": 30,
    "start_time": "2022-04-06T16:49:13.241Z"
   },
   {
    "duration": 26,
    "start_time": "2022-04-06T16:49:13.276Z"
   },
   {
    "duration": 35,
    "start_time": "2022-04-06T16:49:13.304Z"
   },
   {
    "duration": 10,
    "start_time": "2022-04-06T16:49:13.341Z"
   },
   {
    "duration": 47,
    "start_time": "2022-04-06T16:49:13.352Z"
   },
   {
    "duration": 38,
    "start_time": "2022-04-06T16:49:13.404Z"
   },
   {
    "duration": 5,
    "start_time": "2022-04-06T16:49:13.444Z"
   },
   {
    "duration": 6,
    "start_time": "2022-04-06T16:49:13.452Z"
   },
   {
    "duration": 6,
    "start_time": "2022-04-06T16:49:13.462Z"
   },
   {
    "duration": 108,
    "start_time": "2022-04-06T16:49:13.470Z"
   },
   {
    "duration": 0,
    "start_time": "2022-04-06T16:49:13.580Z"
   },
   {
    "duration": 110,
    "start_time": "2022-04-06T16:49:23.794Z"
   },
   {
    "duration": 62,
    "start_time": "2022-04-06T16:49:32.514Z"
   },
   {
    "duration": 17,
    "start_time": "2022-04-06T16:50:00.137Z"
   },
   {
    "duration": 13,
    "start_time": "2022-04-06T16:50:16.177Z"
   },
   {
    "duration": 34,
    "start_time": "2022-04-06T16:51:21.110Z"
   },
   {
    "duration": 106,
    "start_time": "2022-04-06T16:51:36.390Z"
   },
   {
    "duration": 33,
    "start_time": "2022-04-06T16:51:41.332Z"
   },
   {
    "duration": 33,
    "start_time": "2022-04-06T16:52:14.499Z"
   },
   {
    "duration": 36,
    "start_time": "2022-04-06T16:52:46.633Z"
   },
   {
    "duration": 3,
    "start_time": "2022-04-06T17:03:08.870Z"
   },
   {
    "duration": 9,
    "start_time": "2022-04-06T17:04:35.562Z"
   },
   {
    "duration": 6,
    "start_time": "2022-04-06T17:04:59.841Z"
   },
   {
    "duration": 5,
    "start_time": "2022-04-06T17:05:06.121Z"
   },
   {
    "duration": 9,
    "start_time": "2022-04-06T17:05:08.625Z"
   },
   {
    "duration": 12,
    "start_time": "2022-04-06T17:05:18.962Z"
   },
   {
    "duration": 13,
    "start_time": "2022-04-06T17:05:20.545Z"
   },
   {
    "duration": 7,
    "start_time": "2022-04-06T17:05:25.082Z"
   },
   {
    "duration": 4,
    "start_time": "2022-04-06T17:05:54.304Z"
   },
   {
    "duration": 143,
    "start_time": "2022-04-07T02:23:00.222Z"
   },
   {
    "duration": 47,
    "start_time": "2022-04-07T02:23:08.143Z"
   },
   {
    "duration": 509,
    "start_time": "2022-04-07T02:23:30.906Z"
   },
   {
    "duration": 21,
    "start_time": "2022-04-07T02:23:31.417Z"
   },
   {
    "duration": 13,
    "start_time": "2022-04-07T02:23:31.440Z"
   },
   {
    "duration": 31,
    "start_time": "2022-04-07T02:23:31.454Z"
   },
   {
    "duration": 8,
    "start_time": "2022-04-07T02:23:31.500Z"
   },
   {
    "duration": 27,
    "start_time": "2022-04-07T02:23:31.509Z"
   },
   {
    "duration": 31,
    "start_time": "2022-04-07T02:23:31.538Z"
   },
   {
    "duration": 31,
    "start_time": "2022-04-07T02:23:31.570Z"
   },
   {
    "duration": 16,
    "start_time": "2022-04-07T02:23:31.603Z"
   },
   {
    "duration": 26,
    "start_time": "2022-04-07T02:23:31.621Z"
   },
   {
    "duration": 17,
    "start_time": "2022-04-07T02:23:31.649Z"
   },
   {
    "duration": 44,
    "start_time": "2022-04-07T02:23:31.668Z"
   },
   {
    "duration": 18,
    "start_time": "2022-04-07T02:23:31.714Z"
   },
   {
    "duration": 20,
    "start_time": "2022-04-07T02:23:31.736Z"
   },
   {
    "duration": 23,
    "start_time": "2022-04-07T02:23:31.758Z"
   },
   {
    "duration": 52,
    "start_time": "2022-04-07T02:23:31.783Z"
   },
   {
    "duration": 16,
    "start_time": "2022-04-07T02:23:31.837Z"
   },
   {
    "duration": 15,
    "start_time": "2022-04-07T02:23:31.855Z"
   },
   {
    "duration": 36,
    "start_time": "2022-04-07T02:23:31.872Z"
   },
   {
    "duration": 20,
    "start_time": "2022-04-07T02:23:31.910Z"
   },
   {
    "duration": 18,
    "start_time": "2022-04-07T02:23:31.932Z"
   },
   {
    "duration": 4,
    "start_time": "2022-04-07T02:23:31.952Z"
   },
   {
    "duration": 45,
    "start_time": "2022-04-07T02:23:31.958Z"
   },
   {
    "duration": 17,
    "start_time": "2022-04-07T02:23:32.005Z"
   },
   {
    "duration": 10,
    "start_time": "2022-04-07T02:23:32.024Z"
   },
   {
    "duration": 11,
    "start_time": "2022-04-07T02:23:32.035Z"
   },
   {
    "duration": 25,
    "start_time": "2022-04-07T02:23:32.048Z"
   },
   {
    "duration": 38,
    "start_time": "2022-04-07T02:23:32.075Z"
   },
   {
    "duration": 7,
    "start_time": "2022-04-07T02:23:32.115Z"
   },
   {
    "duration": 17,
    "start_time": "2022-04-07T02:23:32.123Z"
   },
   {
    "duration": 10,
    "start_time": "2022-04-07T02:23:32.141Z"
   },
   {
    "duration": 55,
    "start_time": "2022-04-07T02:23:32.153Z"
   },
   {
    "duration": 4,
    "start_time": "2022-04-07T02:23:32.209Z"
   },
   {
    "duration": 4,
    "start_time": "2022-04-07T02:23:42.758Z"
   },
   {
    "duration": 5,
    "start_time": "2022-04-07T02:24:48.984Z"
   },
   {
    "duration": 4,
    "start_time": "2022-04-07T02:25:03.865Z"
   },
   {
    "duration": 137,
    "start_time": "2022-04-07T02:28:12.838Z"
   },
   {
    "duration": 162,
    "start_time": "2022-04-07T02:28:32.769Z"
   },
   {
    "duration": 71,
    "start_time": "2022-04-07T02:29:20.053Z"
   },
   {
    "duration": 4,
    "start_time": "2022-04-07T02:29:35.813Z"
   },
   {
    "duration": 21,
    "start_time": "2022-04-07T02:29:38.115Z"
   },
   {
    "duration": 146,
    "start_time": "2022-04-07T02:30:13.673Z"
   },
   {
    "duration": 144,
    "start_time": "2022-04-07T02:30:24.635Z"
   },
   {
    "duration": 21,
    "start_time": "2022-04-07T02:30:42.993Z"
   },
   {
    "duration": 3,
    "start_time": "2022-04-07T02:31:09.818Z"
   },
   {
    "duration": 31,
    "start_time": "2022-04-07T02:31:11.746Z"
   },
   {
    "duration": 35,
    "start_time": "2022-04-07T02:31:53.714Z"
   },
   {
    "duration": 24,
    "start_time": "2022-04-07T02:32:23.642Z"
   },
   {
    "duration": 20,
    "start_time": "2022-04-07T02:33:12.421Z"
   },
   {
    "duration": 483,
    "start_time": "2022-04-07T02:33:19.832Z"
   },
   {
    "duration": 22,
    "start_time": "2022-04-07T02:33:20.317Z"
   },
   {
    "duration": 11,
    "start_time": "2022-04-07T02:33:20.341Z"
   },
   {
    "duration": 26,
    "start_time": "2022-04-07T02:33:20.354Z"
   },
   {
    "duration": 22,
    "start_time": "2022-04-07T02:33:20.382Z"
   },
   {
    "duration": 16,
    "start_time": "2022-04-07T02:33:20.406Z"
   },
   {
    "duration": 28,
    "start_time": "2022-04-07T02:33:20.423Z"
   },
   {
    "duration": 13,
    "start_time": "2022-04-07T02:33:20.452Z"
   },
   {
    "duration": 49,
    "start_time": "2022-04-07T02:33:20.467Z"
   },
   {
    "duration": 23,
    "start_time": "2022-04-07T02:33:20.518Z"
   },
   {
    "duration": 17,
    "start_time": "2022-04-07T02:33:20.543Z"
   },
   {
    "duration": 41,
    "start_time": "2022-04-07T02:33:20.562Z"
   },
   {
    "duration": 15,
    "start_time": "2022-04-07T02:33:20.605Z"
   },
   {
    "duration": 21,
    "start_time": "2022-04-07T02:33:20.623Z"
   },
   {
    "duration": 22,
    "start_time": "2022-04-07T02:33:20.646Z"
   },
   {
    "duration": 62,
    "start_time": "2022-04-07T02:33:20.670Z"
   },
   {
    "duration": 16,
    "start_time": "2022-04-07T02:33:20.734Z"
   },
   {
    "duration": 14,
    "start_time": "2022-04-07T02:33:20.752Z"
   },
   {
    "duration": 35,
    "start_time": "2022-04-07T02:33:20.767Z"
   },
   {
    "duration": 12,
    "start_time": "2022-04-07T02:33:20.803Z"
   },
   {
    "duration": 29,
    "start_time": "2022-04-07T02:33:20.817Z"
   },
   {
    "duration": 6,
    "start_time": "2022-04-07T02:33:20.848Z"
   },
   {
    "duration": 48,
    "start_time": "2022-04-07T02:33:20.856Z"
   },
   {
    "duration": 15,
    "start_time": "2022-04-07T02:33:20.906Z"
   },
   {
    "duration": 11,
    "start_time": "2022-04-07T02:33:20.923Z"
   },
   {
    "duration": 7,
    "start_time": "2022-04-07T02:33:20.936Z"
   },
   {
    "duration": 25,
    "start_time": "2022-04-07T02:33:20.944Z"
   },
   {
    "duration": 46,
    "start_time": "2022-04-07T02:33:20.971Z"
   },
   {
    "duration": 6,
    "start_time": "2022-04-07T02:33:21.019Z"
   },
   {
    "duration": 10,
    "start_time": "2022-04-07T02:33:21.026Z"
   },
   {
    "duration": 7,
    "start_time": "2022-04-07T02:33:21.039Z"
   },
   {
    "duration": 60,
    "start_time": "2022-04-07T02:33:21.047Z"
   },
   {
    "duration": 20,
    "start_time": "2022-04-07T02:33:21.108Z"
   },
   {
    "duration": 4,
    "start_time": "2022-04-07T02:33:21.130Z"
   },
   {
    "duration": 34,
    "start_time": "2022-04-07T02:33:21.135Z"
   },
   {
    "duration": 29,
    "start_time": "2022-04-07T02:35:09.439Z"
   },
   {
    "duration": 30,
    "start_time": "2022-04-07T02:35:23.219Z"
   },
   {
    "duration": 32,
    "start_time": "2022-04-07T02:35:34.350Z"
   },
   {
    "duration": 31,
    "start_time": "2022-04-07T02:35:45.479Z"
   },
   {
    "duration": 34,
    "start_time": "2022-04-07T02:36:08.099Z"
   },
   {
    "duration": 27,
    "start_time": "2022-04-07T02:36:28.312Z"
   },
   {
    "duration": 27,
    "start_time": "2022-04-07T02:36:55.001Z"
   },
   {
    "duration": 68,
    "start_time": "2022-04-07T02:37:52.107Z"
   },
   {
    "duration": 26,
    "start_time": "2022-04-07T02:37:52.177Z"
   },
   {
    "duration": 15,
    "start_time": "2022-04-07T02:37:52.204Z"
   },
   {
    "duration": 22,
    "start_time": "2022-04-07T02:37:52.221Z"
   },
   {
    "duration": 6,
    "start_time": "2022-04-07T02:37:52.245Z"
   },
   {
    "duration": 14,
    "start_time": "2022-04-07T02:37:52.253Z"
   },
   {
    "duration": 26,
    "start_time": "2022-04-07T02:37:52.302Z"
   },
   {
    "duration": 12,
    "start_time": "2022-04-07T02:37:52.330Z"
   },
   {
    "duration": 17,
    "start_time": "2022-04-07T02:37:52.344Z"
   },
   {
    "duration": 54,
    "start_time": "2022-04-07T02:37:52.364Z"
   },
   {
    "duration": 17,
    "start_time": "2022-04-07T02:37:52.420Z"
   },
   {
    "duration": 13,
    "start_time": "2022-04-07T02:37:52.439Z"
   },
   {
    "duration": 10,
    "start_time": "2022-04-07T02:37:52.454Z"
   },
   {
    "duration": 51,
    "start_time": "2022-04-07T02:37:52.466Z"
   },
   {
    "duration": 23,
    "start_time": "2022-04-07T02:37:52.518Z"
   },
   {
    "duration": 59,
    "start_time": "2022-04-07T02:37:52.542Z"
   },
   {
    "duration": 16,
    "start_time": "2022-04-07T02:37:52.603Z"
   },
   {
    "duration": 17,
    "start_time": "2022-04-07T02:37:52.621Z"
   },
   {
    "duration": 13,
    "start_time": "2022-04-07T02:37:52.640Z"
   },
   {
    "duration": 12,
    "start_time": "2022-04-07T02:37:52.655Z"
   },
   {
    "duration": 49,
    "start_time": "2022-04-07T02:37:52.669Z"
   },
   {
    "duration": 5,
    "start_time": "2022-04-07T02:37:52.720Z"
   },
   {
    "duration": 23,
    "start_time": "2022-04-07T02:37:52.727Z"
   },
   {
    "duration": 17,
    "start_time": "2022-04-07T02:37:52.752Z"
   },
   {
    "duration": 8,
    "start_time": "2022-04-07T02:37:52.801Z"
   },
   {
    "duration": 7,
    "start_time": "2022-04-07T02:37:52.810Z"
   },
   {
    "duration": 29,
    "start_time": "2022-04-07T02:37:52.819Z"
   },
   {
    "duration": 18,
    "start_time": "2022-04-07T02:37:52.851Z"
   },
   {
    "duration": 6,
    "start_time": "2022-04-07T02:37:52.871Z"
   },
   {
    "duration": 6,
    "start_time": "2022-04-07T02:37:52.901Z"
   },
   {
    "duration": 5,
    "start_time": "2022-04-07T02:37:52.908Z"
   },
   {
    "duration": 38,
    "start_time": "2022-04-07T02:37:52.915Z"
   },
   {
    "duration": 17,
    "start_time": "2022-04-07T02:37:52.955Z"
   },
   {
    "duration": 30,
    "start_time": "2022-04-07T02:37:52.973Z"
   },
   {
    "duration": 42,
    "start_time": "2022-04-07T02:37:53.004Z"
   },
   {
    "duration": 12,
    "start_time": "2022-04-07T02:42:09.530Z"
   },
   {
    "duration": 3,
    "start_time": "2022-04-07T02:42:56.429Z"
   },
   {
    "duration": 3,
    "start_time": "2022-04-07T02:45:18.960Z"
   },
   {
    "duration": 2407,
    "start_time": "2022-04-07T02:45:21.459Z"
   },
   {
    "duration": 2654,
    "start_time": "2022-04-07T02:46:22.052Z"
   },
   {
    "duration": 2202,
    "start_time": "2022-04-07T02:46:52.840Z"
   },
   {
    "duration": 4,
    "start_time": "2022-04-07T02:47:06.099Z"
   },
   {
    "duration": 2309,
    "start_time": "2022-04-07T02:47:08.932Z"
   },
   {
    "duration": 2186,
    "start_time": "2022-04-07T02:47:49.489Z"
   },
   {
    "duration": 522,
    "start_time": "2022-04-07T02:48:05.698Z"
   },
   {
    "duration": 24,
    "start_time": "2022-04-07T02:48:06.223Z"
   },
   {
    "duration": 13,
    "start_time": "2022-04-07T02:48:06.249Z"
   },
   {
    "duration": 46,
    "start_time": "2022-04-07T02:48:06.265Z"
   },
   {
    "duration": 7,
    "start_time": "2022-04-07T02:48:06.314Z"
   },
   {
    "duration": 18,
    "start_time": "2022-04-07T02:48:06.323Z"
   },
   {
    "duration": 58,
    "start_time": "2022-04-07T02:48:06.343Z"
   },
   {
    "duration": 14,
    "start_time": "2022-04-07T02:48:06.404Z"
   },
   {
    "duration": 18,
    "start_time": "2022-04-07T02:48:06.420Z"
   },
   {
    "duration": 27,
    "start_time": "2022-04-07T02:48:06.441Z"
   },
   {
    "duration": 20,
    "start_time": "2022-04-07T02:48:06.501Z"
   },
   {
    "duration": 15,
    "start_time": "2022-04-07T02:48:06.523Z"
   },
   {
    "duration": 15,
    "start_time": "2022-04-07T02:48:06.540Z"
   },
   {
    "duration": 49,
    "start_time": "2022-04-07T02:48:06.560Z"
   },
   {
    "duration": 27,
    "start_time": "2022-04-07T02:48:06.611Z"
   },
   {
    "duration": 41,
    "start_time": "2022-04-07T02:48:06.641Z"
   },
   {
    "duration": 18,
    "start_time": "2022-04-07T02:48:06.701Z"
   },
   {
    "duration": 17,
    "start_time": "2022-04-07T02:48:06.721Z"
   },
   {
    "duration": 16,
    "start_time": "2022-04-07T02:48:06.740Z"
   },
   {
    "duration": 50,
    "start_time": "2022-04-07T02:48:06.758Z"
   },
   {
    "duration": 21,
    "start_time": "2022-04-07T02:48:06.810Z"
   },
   {
    "duration": 6,
    "start_time": "2022-04-07T02:48:06.833Z"
   },
   {
    "duration": 26,
    "start_time": "2022-04-07T02:48:06.841Z"
   },
   {
    "duration": 40,
    "start_time": "2022-04-07T02:48:06.869Z"
   },
   {
    "duration": 8,
    "start_time": "2022-04-07T02:48:06.912Z"
   },
   {
    "duration": 11,
    "start_time": "2022-04-07T02:48:06.922Z"
   },
   {
    "duration": 31,
    "start_time": "2022-04-07T02:48:06.934Z"
   },
   {
    "duration": 21,
    "start_time": "2022-04-07T02:48:06.967Z"
   },
   {
    "duration": 6,
    "start_time": "2022-04-07T02:48:07.001Z"
   },
   {
    "duration": 8,
    "start_time": "2022-04-07T02:48:07.009Z"
   },
   {
    "duration": 7,
    "start_time": "2022-04-07T02:48:07.019Z"
   },
   {
    "duration": 44,
    "start_time": "2022-04-07T02:48:07.028Z"
   },
   {
    "duration": 4,
    "start_time": "2022-04-07T02:48:07.074Z"
   },
   {
    "duration": 48,
    "start_time": "2022-04-07T02:48:07.079Z"
   },
   {
    "duration": 2316,
    "start_time": "2022-04-07T02:48:07.129Z"
   },
   {
    "duration": 0,
    "start_time": "2022-04-07T02:48:09.447Z"
   },
   {
    "duration": 0,
    "start_time": "2022-04-07T02:48:09.448Z"
   },
   {
    "duration": 529,
    "start_time": "2022-04-07T02:48:37.862Z"
   },
   {
    "duration": 21,
    "start_time": "2022-04-07T02:48:38.393Z"
   },
   {
    "duration": 11,
    "start_time": "2022-04-07T02:48:38.416Z"
   },
   {
    "duration": 26,
    "start_time": "2022-04-07T02:48:38.429Z"
   },
   {
    "duration": 6,
    "start_time": "2022-04-07T02:48:38.458Z"
   },
   {
    "duration": 37,
    "start_time": "2022-04-07T02:48:38.465Z"
   },
   {
    "duration": 26,
    "start_time": "2022-04-07T02:48:38.504Z"
   },
   {
    "duration": 13,
    "start_time": "2022-04-07T02:48:38.532Z"
   },
   {
    "duration": 16,
    "start_time": "2022-04-07T02:48:38.546Z"
   },
   {
    "duration": 59,
    "start_time": "2022-04-07T02:48:38.564Z"
   },
   {
    "duration": 16,
    "start_time": "2022-04-07T02:48:38.625Z"
   },
   {
    "duration": 13,
    "start_time": "2022-04-07T02:48:38.643Z"
   },
   {
    "duration": 9,
    "start_time": "2022-04-07T02:48:38.658Z"
   },
   {
    "duration": 19,
    "start_time": "2022-04-07T02:48:38.701Z"
   },
   {
    "duration": 25,
    "start_time": "2022-04-07T02:48:38.721Z"
   },
   {
    "duration": 62,
    "start_time": "2022-04-07T02:48:38.748Z"
   },
   {
    "duration": 15,
    "start_time": "2022-04-07T02:48:38.812Z"
   },
   {
    "duration": 15,
    "start_time": "2022-04-07T02:48:38.828Z"
   },
   {
    "duration": 11,
    "start_time": "2022-04-07T02:48:38.845Z"
   },
   {
    "duration": 43,
    "start_time": "2022-04-07T02:48:38.858Z"
   },
   {
    "duration": 20,
    "start_time": "2022-04-07T02:48:38.903Z"
   },
   {
    "duration": 7,
    "start_time": "2022-04-07T02:48:38.924Z"
   },
   {
    "duration": 22,
    "start_time": "2022-04-07T02:48:38.933Z"
   },
   {
    "duration": 14,
    "start_time": "2022-04-07T02:48:38.957Z"
   },
   {
    "duration": 30,
    "start_time": "2022-04-07T02:48:38.973Z"
   },
   {
    "duration": 7,
    "start_time": "2022-04-07T02:48:39.005Z"
   },
   {
    "duration": 22,
    "start_time": "2022-04-07T02:48:39.014Z"
   },
   {
    "duration": 16,
    "start_time": "2022-04-07T02:48:39.038Z"
   },
   {
    "duration": 6,
    "start_time": "2022-04-07T02:48:39.055Z"
   },
   {
    "duration": 39,
    "start_time": "2022-04-07T02:48:39.063Z"
   },
   {
    "duration": 7,
    "start_time": "2022-04-07T02:48:39.104Z"
   },
   {
    "duration": 43,
    "start_time": "2022-04-07T02:48:39.113Z"
   },
   {
    "duration": 3,
    "start_time": "2022-04-07T02:48:39.158Z"
   },
   {
    "duration": 46,
    "start_time": "2022-04-07T02:48:39.163Z"
   },
   {
    "duration": 6,
    "start_time": "2022-04-07T02:48:39.211Z"
   },
   {
    "duration": 10,
    "start_time": "2022-04-07T02:48:39.219Z"
   },
   {
    "duration": 46,
    "start_time": "2022-04-07T02:48:39.232Z"
   },
   {
    "duration": 37,
    "start_time": "2022-04-07T02:48:47.461Z"
   },
   {
    "duration": 7,
    "start_time": "2022-04-07T02:49:01.084Z"
   },
   {
    "duration": 37,
    "start_time": "2022-04-07T02:49:22.154Z"
   },
   {
    "duration": 28,
    "start_time": "2022-04-07T02:49:37.424Z"
   },
   {
    "duration": 11,
    "start_time": "2022-04-08T04:58:59.554Z"
   },
   {
    "duration": 593,
    "start_time": "2022-04-08T04:59:02.967Z"
   },
   {
    "duration": 31,
    "start_time": "2022-04-08T04:59:03.563Z"
   },
   {
    "duration": 12,
    "start_time": "2022-04-08T04:59:03.596Z"
   },
   {
    "duration": 55,
    "start_time": "2022-04-08T04:59:03.611Z"
   },
   {
    "duration": 7,
    "start_time": "2022-04-08T04:59:03.668Z"
   },
   {
    "duration": 17,
    "start_time": "2022-04-08T04:59:03.677Z"
   },
   {
    "duration": 31,
    "start_time": "2022-04-08T04:59:03.696Z"
   },
   {
    "duration": 48,
    "start_time": "2022-04-08T04:59:03.729Z"
   },
   {
    "duration": 22,
    "start_time": "2022-04-08T04:59:03.779Z"
   },
   {
    "duration": 28,
    "start_time": "2022-04-08T04:59:03.804Z"
   },
   {
    "duration": 49,
    "start_time": "2022-04-08T04:59:03.835Z"
   },
   {
    "duration": 18,
    "start_time": "2022-04-08T04:59:03.886Z"
   },
   {
    "duration": 10,
    "start_time": "2022-04-08T04:59:03.906Z"
   },
   {
    "duration": 60,
    "start_time": "2022-04-08T04:59:03.918Z"
   },
   {
    "duration": 28,
    "start_time": "2022-04-08T04:59:03.980Z"
   },
   {
    "duration": 68,
    "start_time": "2022-04-08T04:59:04.010Z"
   },
   {
    "duration": 20,
    "start_time": "2022-04-08T04:59:04.080Z"
   },
   {
    "duration": 19,
    "start_time": "2022-04-08T04:59:04.102Z"
   },
   {
    "duration": 47,
    "start_time": "2022-04-08T04:59:04.123Z"
   },
   {
    "duration": 14,
    "start_time": "2022-04-08T04:59:04.172Z"
   },
   {
    "duration": 26,
    "start_time": "2022-04-08T04:59:04.188Z"
   },
   {
    "duration": 5,
    "start_time": "2022-04-08T04:59:04.216Z"
   },
   {
    "duration": 64,
    "start_time": "2022-04-08T04:59:04.223Z"
   },
   {
    "duration": 19,
    "start_time": "2022-04-08T04:59:04.289Z"
   },
   {
    "duration": 9,
    "start_time": "2022-04-08T04:59:04.310Z"
   },
   {
    "duration": 5,
    "start_time": "2022-04-08T04:59:04.321Z"
   },
   {
    "duration": 60,
    "start_time": "2022-04-08T04:59:04.328Z"
   },
   {
    "duration": 19,
    "start_time": "2022-04-08T04:59:04.393Z"
   },
   {
    "duration": 7,
    "start_time": "2022-04-08T04:59:04.413Z"
   },
   {
    "duration": 8,
    "start_time": "2022-04-08T04:59:04.422Z"
   },
   {
    "duration": 5,
    "start_time": "2022-04-08T04:59:04.467Z"
   },
   {
    "duration": 50,
    "start_time": "2022-04-08T04:59:04.474Z"
   },
   {
    "duration": 4,
    "start_time": "2022-04-08T04:59:04.526Z"
   },
   {
    "duration": 63,
    "start_time": "2022-04-08T04:59:04.532Z"
   },
   {
    "duration": 9,
    "start_time": "2022-04-08T04:59:04.597Z"
   },
   {
    "duration": 6,
    "start_time": "2022-04-08T04:59:04.608Z"
   },
   {
    "duration": 89,
    "start_time": "2022-04-08T04:59:04.616Z"
   },
   {
    "duration": 5,
    "start_time": "2022-04-08T04:59:04.707Z"
   },
   {
    "duration": 1454,
    "start_time": "2022-04-08T05:00:53.912Z"
   },
   {
    "duration": 15,
    "start_time": "2022-04-08T05:01:32.201Z"
   },
   {
    "duration": 1507,
    "start_time": "2022-04-08T05:01:59.255Z"
   },
   {
    "duration": 4,
    "start_time": "2022-04-08T05:02:04.303Z"
   },
   {
    "duration": 1621,
    "start_time": "2022-04-08T05:02:06.359Z"
   },
   {
    "duration": 4,
    "start_time": "2022-04-08T05:02:35.550Z"
   },
   {
    "duration": 1462,
    "start_time": "2022-04-08T05:02:38.405Z"
   },
   {
    "duration": 5,
    "start_time": "2022-04-08T16:09:07.538Z"
   },
   {
    "duration": 82,
    "start_time": "2022-04-08T16:09:22.530Z"
   },
   {
    "duration": 19,
    "start_time": "2022-04-08T16:09:22.614Z"
   },
   {
    "duration": 45,
    "start_time": "2022-04-08T16:09:22.635Z"
   },
   {
    "duration": 30,
    "start_time": "2022-04-08T16:09:22.683Z"
   },
   {
    "duration": 7,
    "start_time": "2022-04-08T16:09:22.715Z"
   },
   {
    "duration": 51,
    "start_time": "2022-04-08T16:09:22.724Z"
   },
   {
    "duration": 31,
    "start_time": "2022-04-08T16:09:22.777Z"
   },
   {
    "duration": 16,
    "start_time": "2022-04-08T16:09:22.810Z"
   },
   {
    "duration": 50,
    "start_time": "2022-04-08T16:09:22.829Z"
   },
   {
    "duration": 29,
    "start_time": "2022-04-08T16:09:22.884Z"
   },
   {
    "duration": 52,
    "start_time": "2022-04-08T16:09:22.915Z"
   },
   {
    "duration": 18,
    "start_time": "2022-04-08T16:09:22.970Z"
   },
   {
    "duration": 10,
    "start_time": "2022-04-08T16:09:22.991Z"
   },
   {
    "duration": 23,
    "start_time": "2022-04-08T16:09:23.003Z"
   },
   {
    "duration": 64,
    "start_time": "2022-04-08T16:09:23.028Z"
   },
   {
    "duration": 50,
    "start_time": "2022-04-08T16:09:23.095Z"
   },
   {
    "duration": 20,
    "start_time": "2022-04-08T16:09:23.168Z"
   },
   {
    "duration": 19,
    "start_time": "2022-04-08T16:09:23.191Z"
   },
   {
    "duration": 15,
    "start_time": "2022-04-08T16:09:23.212Z"
   },
   {
    "duration": 49,
    "start_time": "2022-04-08T16:09:23.229Z"
   },
   {
    "duration": 27,
    "start_time": "2022-04-08T16:09:23.281Z"
   },
   {
    "duration": 5,
    "start_time": "2022-04-08T16:09:23.310Z"
   },
   {
    "duration": 62,
    "start_time": "2022-04-08T16:09:23.317Z"
   },
   {
    "duration": 19,
    "start_time": "2022-04-08T16:09:23.381Z"
   },
   {
    "duration": 8,
    "start_time": "2022-04-08T16:09:23.403Z"
   },
   {
    "duration": 5,
    "start_time": "2022-04-08T16:09:23.413Z"
   },
   {
    "duration": 60,
    "start_time": "2022-04-08T16:09:23.420Z"
   },
   {
    "duration": 19,
    "start_time": "2022-04-08T16:09:23.485Z"
   },
   {
    "duration": 7,
    "start_time": "2022-04-08T16:09:23.507Z"
   },
   {
    "duration": 9,
    "start_time": "2022-04-08T16:09:23.517Z"
   },
   {
    "duration": 5,
    "start_time": "2022-04-08T16:09:23.567Z"
   },
   {
    "duration": 49,
    "start_time": "2022-04-08T16:09:23.574Z"
   },
   {
    "duration": 4,
    "start_time": "2022-04-08T16:09:23.625Z"
   },
   {
    "duration": 65,
    "start_time": "2022-04-08T16:09:23.631Z"
   },
   {
    "duration": 8,
    "start_time": "2022-04-08T16:09:23.698Z"
   },
   {
    "duration": 4,
    "start_time": "2022-04-08T16:09:23.708Z"
   },
   {
    "duration": 83,
    "start_time": "2022-04-08T16:09:23.714Z"
   },
   {
    "duration": 4,
    "start_time": "2022-04-08T16:09:23.799Z"
   },
   {
    "duration": 8,
    "start_time": "2022-04-08T16:09:23.805Z"
   },
   {
    "duration": 20,
    "start_time": "2022-04-08T16:09:23.815Z"
   },
   {
    "duration": 19,
    "start_time": "2022-04-08T16:09:57.349Z"
   },
   {
    "duration": 35,
    "start_time": "2022-04-08T16:11:16.850Z"
   },
   {
    "duration": 20,
    "start_time": "2022-04-08T16:11:38.371Z"
   },
   {
    "duration": 29,
    "start_time": "2022-04-08T16:26:14.520Z"
   },
   {
    "duration": 10,
    "start_time": "2022-04-08T16:26:41.423Z"
   },
   {
    "duration": 33,
    "start_time": "2022-04-08T16:26:44.935Z"
   },
   {
    "duration": 42,
    "start_time": "2022-04-08T16:26:59.694Z"
   },
   {
    "duration": 44,
    "start_time": "2022-04-08T16:27:08.461Z"
   },
   {
    "duration": 96,
    "start_time": "2022-04-08T16:27:29.644Z"
   },
   {
    "duration": 43,
    "start_time": "2022-04-08T16:27:34.580Z"
   },
   {
    "duration": 50,
    "start_time": "2022-04-08T16:27:42.813Z"
   },
   {
    "duration": 37,
    "start_time": "2022-04-08T16:27:52.188Z"
   },
   {
    "duration": 43,
    "start_time": "2022-04-08T17:31:17.567Z"
   },
   {
    "duration": 48,
    "start_time": "2022-04-10T08:03:28.004Z"
   },
   {
    "duration": 485,
    "start_time": "2022-04-10T08:03:32.295Z"
   },
   {
    "duration": 19,
    "start_time": "2022-04-10T08:03:32.782Z"
   },
   {
    "duration": 13,
    "start_time": "2022-04-10T08:03:32.803Z"
   },
   {
    "duration": 27,
    "start_time": "2022-04-10T08:03:32.818Z"
   },
   {
    "duration": 5,
    "start_time": "2022-04-10T08:03:32.846Z"
   },
   {
    "duration": 11,
    "start_time": "2022-04-10T08:03:32.853Z"
   },
   {
    "duration": 51,
    "start_time": "2022-04-10T08:03:32.866Z"
   },
   {
    "duration": 5,
    "start_time": "2022-04-10T08:03:32.919Z"
   },
   {
    "duration": 13,
    "start_time": "2022-04-10T08:03:32.925Z"
   },
   {
    "duration": 14,
    "start_time": "2022-04-10T08:03:32.941Z"
   },
   {
    "duration": 55,
    "start_time": "2022-04-10T08:03:32.957Z"
   },
   {
    "duration": 15,
    "start_time": "2022-04-10T08:03:33.014Z"
   },
   {
    "duration": 12,
    "start_time": "2022-04-10T08:03:33.031Z"
   },
   {
    "duration": 8,
    "start_time": "2022-04-10T08:03:33.045Z"
   },
   {
    "duration": 20,
    "start_time": "2022-04-10T08:03:33.055Z"
   },
   {
    "duration": 46,
    "start_time": "2022-04-10T08:03:33.076Z"
   },
   {
    "duration": 34,
    "start_time": "2022-04-10T08:03:33.124Z"
   },
   {
    "duration": 15,
    "start_time": "2022-04-10T08:03:33.160Z"
   },
   {
    "duration": 40,
    "start_time": "2022-04-10T08:03:33.177Z"
   },
   {
    "duration": 12,
    "start_time": "2022-04-10T08:03:33.218Z"
   },
   {
    "duration": 10,
    "start_time": "2022-04-10T08:03:33.232Z"
   },
   {
    "duration": 18,
    "start_time": "2022-04-10T08:03:33.243Z"
   },
   {
    "duration": 3,
    "start_time": "2022-04-10T08:03:33.263Z"
   },
   {
    "duration": 57,
    "start_time": "2022-04-10T08:03:33.268Z"
   },
   {
    "duration": 14,
    "start_time": "2022-04-10T08:03:33.327Z"
   },
   {
    "duration": 7,
    "start_time": "2022-04-10T08:03:33.343Z"
   },
   {
    "duration": 3,
    "start_time": "2022-04-10T08:03:33.352Z"
   },
   {
    "duration": 18,
    "start_time": "2022-04-10T08:03:33.358Z"
   },
   {
    "duration": 15,
    "start_time": "2022-04-10T08:03:33.409Z"
   },
   {
    "duration": 5,
    "start_time": "2022-04-10T08:03:33.426Z"
   },
   {
    "duration": 5,
    "start_time": "2022-04-10T08:03:33.433Z"
   },
   {
    "duration": 8,
    "start_time": "2022-04-10T08:03:33.439Z"
   },
   {
    "duration": 41,
    "start_time": "2022-04-10T08:03:33.449Z"
   },
   {
    "duration": 3,
    "start_time": "2022-04-10T08:03:33.509Z"
   },
   {
    "duration": 26,
    "start_time": "2022-04-10T08:03:33.514Z"
   },
   {
    "duration": 3,
    "start_time": "2022-04-10T08:03:33.541Z"
   },
   {
    "duration": 42,
    "start_time": "2022-04-10T08:03:33.546Z"
   },
   {
    "duration": 20,
    "start_time": "2022-04-10T08:03:33.590Z"
   },
   {
    "duration": 33,
    "start_time": "2022-04-10T08:03:33.611Z"
   },
   {
    "duration": 7,
    "start_time": "2022-04-10T08:03:58.592Z"
   },
   {
    "duration": 77,
    "start_time": "2022-04-10T08:04:04.218Z"
   },
   {
    "duration": 14,
    "start_time": "2022-04-10T08:04:04.309Z"
   },
   {
    "duration": 11,
    "start_time": "2022-04-10T08:04:04.324Z"
   },
   {
    "duration": 20,
    "start_time": "2022-04-10T08:04:04.337Z"
   },
   {
    "duration": 5,
    "start_time": "2022-04-10T08:04:04.359Z"
   },
   {
    "duration": 44,
    "start_time": "2022-04-10T08:04:04.366Z"
   },
   {
    "duration": 24,
    "start_time": "2022-04-10T08:04:04.412Z"
   },
   {
    "duration": 5,
    "start_time": "2022-04-10T08:04:04.438Z"
   },
   {
    "duration": 12,
    "start_time": "2022-04-10T08:04:04.445Z"
   },
   {
    "duration": 11,
    "start_time": "2022-04-10T08:04:04.459Z"
   },
   {
    "duration": 49,
    "start_time": "2022-04-10T08:04:04.471Z"
   },
   {
    "duration": 24,
    "start_time": "2022-04-10T08:04:04.522Z"
   },
   {
    "duration": 18,
    "start_time": "2022-04-10T08:04:04.548Z"
   },
   {
    "duration": 39,
    "start_time": "2022-04-10T08:04:04.570Z"
   },
   {
    "duration": 8,
    "start_time": "2022-04-10T08:04:04.610Z"
   },
   {
    "duration": 18,
    "start_time": "2022-04-10T08:04:04.619Z"
   },
   {
    "duration": 21,
    "start_time": "2022-04-10T08:04:04.639Z"
   },
   {
    "duration": 61,
    "start_time": "2022-04-10T08:04:04.662Z"
   },
   {
    "duration": 15,
    "start_time": "2022-04-10T08:04:04.725Z"
   },
   {
    "duration": 16,
    "start_time": "2022-04-10T08:04:04.741Z"
   },
   {
    "duration": 11,
    "start_time": "2022-04-10T08:04:04.759Z"
   },
   {
    "duration": 41,
    "start_time": "2022-04-10T08:04:04.771Z"
   },
   {
    "duration": 19,
    "start_time": "2022-04-10T08:04:04.813Z"
   },
   {
    "duration": 3,
    "start_time": "2022-04-10T08:04:04.834Z"
   },
   {
    "duration": 20,
    "start_time": "2022-04-10T08:04:04.839Z"
   },
   {
    "duration": 18,
    "start_time": "2022-04-10T08:04:04.860Z"
   },
   {
    "duration": 33,
    "start_time": "2022-04-10T08:04:04.880Z"
   },
   {
    "duration": 6,
    "start_time": "2022-04-10T08:04:04.914Z"
   },
   {
    "duration": 20,
    "start_time": "2022-04-10T08:04:04.922Z"
   },
   {
    "duration": 16,
    "start_time": "2022-04-10T08:04:04.944Z"
   },
   {
    "duration": 6,
    "start_time": "2022-04-10T08:04:04.961Z"
   },
   {
    "duration": 44,
    "start_time": "2022-04-10T08:04:04.969Z"
   },
   {
    "duration": 4,
    "start_time": "2022-04-10T08:04:05.015Z"
   },
   {
    "duration": 42,
    "start_time": "2022-04-10T08:04:05.021Z"
   },
   {
    "duration": 4,
    "start_time": "2022-04-10T08:04:05.065Z"
   },
   {
    "duration": 60,
    "start_time": "2022-04-10T08:04:05.071Z"
   },
   {
    "duration": 4,
    "start_time": "2022-04-10T08:04:05.133Z"
   },
   {
    "duration": 38,
    "start_time": "2022-04-10T08:04:05.139Z"
   },
   {
    "duration": 29,
    "start_time": "2022-04-10T08:04:05.180Z"
   },
   {
    "duration": 33,
    "start_time": "2022-04-10T08:04:05.211Z"
   },
   {
    "duration": 47,
    "start_time": "2022-04-10T08:05:15.820Z"
   },
   {
    "duration": 9,
    "start_time": "2022-04-10T08:05:28.036Z"
   },
   {
    "duration": 5,
    "start_time": "2022-04-10T08:05:31.333Z"
   },
   {
    "duration": 10,
    "start_time": "2022-04-10T08:06:23.209Z"
   },
   {
    "duration": 6,
    "start_time": "2022-04-10T08:07:03.599Z"
   },
   {
    "duration": 8,
    "start_time": "2022-04-10T08:07:17.207Z"
   },
   {
    "duration": 496,
    "start_time": "2022-04-10T08:07:29.208Z"
   },
   {
    "duration": 20,
    "start_time": "2022-04-10T08:07:29.706Z"
   },
   {
    "duration": 11,
    "start_time": "2022-04-10T08:07:29.727Z"
   },
   {
    "duration": 20,
    "start_time": "2022-04-10T08:07:29.739Z"
   },
   {
    "duration": 5,
    "start_time": "2022-04-10T08:07:29.761Z"
   },
   {
    "duration": 44,
    "start_time": "2022-04-10T08:07:29.768Z"
   },
   {
    "duration": 23,
    "start_time": "2022-04-10T08:07:29.814Z"
   },
   {
    "duration": 5,
    "start_time": "2022-04-10T08:07:29.839Z"
   },
   {
    "duration": 8,
    "start_time": "2022-04-10T08:07:34.812Z"
   },
   {
    "duration": 68,
    "start_time": "2022-04-10T08:09:03.253Z"
   },
   {
    "duration": 13,
    "start_time": "2022-04-10T08:09:03.323Z"
   },
   {
    "duration": 11,
    "start_time": "2022-04-10T08:09:03.338Z"
   },
   {
    "duration": 21,
    "start_time": "2022-04-10T08:09:03.351Z"
   },
   {
    "duration": 5,
    "start_time": "2022-04-10T08:09:03.373Z"
   },
   {
    "duration": 38,
    "start_time": "2022-04-10T08:09:03.380Z"
   },
   {
    "duration": 24,
    "start_time": "2022-04-10T08:09:03.419Z"
   },
   {
    "duration": 6,
    "start_time": "2022-04-10T08:09:03.445Z"
   },
   {
    "duration": 7,
    "start_time": "2022-04-10T08:09:03.453Z"
   },
   {
    "duration": 47,
    "start_time": "2022-04-10T08:09:03.463Z"
   },
   {
    "duration": 15,
    "start_time": "2022-04-10T08:09:03.512Z"
   },
   {
    "duration": 22,
    "start_time": "2022-04-10T08:09:03.529Z"
   },
   {
    "duration": 15,
    "start_time": "2022-04-10T08:09:03.552Z"
   },
   {
    "duration": 41,
    "start_time": "2022-04-10T08:09:03.569Z"
   },
   {
    "duration": 9,
    "start_time": "2022-04-10T08:09:03.611Z"
   },
   {
    "duration": 20,
    "start_time": "2022-04-10T08:09:03.622Z"
   },
   {
    "duration": 22,
    "start_time": "2022-04-10T08:09:03.644Z"
   },
   {
    "duration": 61,
    "start_time": "2022-04-10T08:09:03.668Z"
   },
   {
    "duration": 15,
    "start_time": "2022-04-10T08:09:03.730Z"
   },
   {
    "duration": 7,
    "start_time": "2022-04-10T08:09:03.747Z"
   },
   {
    "duration": 13,
    "start_time": "2022-04-10T08:09:03.756Z"
   },
   {
    "duration": 40,
    "start_time": "2022-04-10T08:09:03.770Z"
   },
   {
    "duration": 11,
    "start_time": "2022-04-10T08:09:03.812Z"
   },
   {
    "duration": 17,
    "start_time": "2022-04-10T08:09:03.825Z"
   },
   {
    "duration": 4,
    "start_time": "2022-04-10T08:09:03.844Z"
   },
   {
    "duration": 20,
    "start_time": "2022-04-10T08:09:03.850Z"
   },
   {
    "duration": 45,
    "start_time": "2022-04-10T08:09:03.872Z"
   },
   {
    "duration": 7,
    "start_time": "2022-04-10T08:09:03.920Z"
   },
   {
    "duration": 7,
    "start_time": "2022-04-10T08:09:03.928Z"
   },
   {
    "duration": 23,
    "start_time": "2022-04-10T08:09:03.937Z"
   },
   {
    "duration": 15,
    "start_time": "2022-04-10T08:09:03.962Z"
   },
   {
    "duration": 33,
    "start_time": "2022-04-10T08:09:03.979Z"
   },
   {
    "duration": 12,
    "start_time": "2022-04-10T08:09:04.013Z"
   },
   {
    "duration": 5,
    "start_time": "2022-04-10T08:09:04.027Z"
   },
   {
    "duration": 44,
    "start_time": "2022-04-10T08:09:04.034Z"
   },
   {
    "duration": 3,
    "start_time": "2022-04-10T08:09:04.080Z"
   },
   {
    "duration": 41,
    "start_time": "2022-04-10T08:09:04.084Z"
   },
   {
    "duration": 3,
    "start_time": "2022-04-10T08:09:04.127Z"
   },
   {
    "duration": 39,
    "start_time": "2022-04-10T08:09:04.132Z"
   },
   {
    "duration": 3,
    "start_time": "2022-04-10T08:09:04.173Z"
   },
   {
    "duration": 54,
    "start_time": "2022-04-10T08:09:04.177Z"
   },
   {
    "duration": 6,
    "start_time": "2022-04-10T08:11:17.676Z"
   },
   {
    "duration": 490,
    "start_time": "2022-04-10T08:11:23.724Z"
   },
   {
    "duration": 20,
    "start_time": "2022-04-10T08:11:24.216Z"
   },
   {
    "duration": 9,
    "start_time": "2022-04-10T08:11:24.238Z"
   },
   {
    "duration": 19,
    "start_time": "2022-04-10T08:11:24.249Z"
   },
   {
    "duration": 5,
    "start_time": "2022-04-10T08:11:24.270Z"
   },
   {
    "duration": 11,
    "start_time": "2022-04-10T08:11:24.276Z"
   },
   {
    "duration": 34,
    "start_time": "2022-04-10T08:11:24.288Z"
   },
   {
    "duration": 6,
    "start_time": "2022-04-10T08:11:24.323Z"
   },
   {
    "duration": 5,
    "start_time": "2022-04-10T08:11:27.192Z"
   },
   {
    "duration": 65,
    "start_time": "2022-04-10T08:11:50.158Z"
   },
   {
    "duration": 7,
    "start_time": "2022-04-10T08:12:06.270Z"
   },
   {
    "duration": 9,
    "start_time": "2022-04-10T08:12:18.805Z"
   },
   {
    "duration": 6,
    "start_time": "2022-04-10T08:12:22.357Z"
   },
   {
    "duration": 12,
    "start_time": "2022-04-10T08:14:19.030Z"
   },
   {
    "duration": 62,
    "start_time": "2022-04-10T08:14:37.168Z"
   },
   {
    "duration": 67,
    "start_time": "2022-04-10T08:15:02.074Z"
   },
   {
    "duration": 13,
    "start_time": "2022-04-10T08:15:02.143Z"
   },
   {
    "duration": 12,
    "start_time": "2022-04-10T08:15:02.158Z"
   },
   {
    "duration": 39,
    "start_time": "2022-04-10T08:15:02.172Z"
   },
   {
    "duration": 6,
    "start_time": "2022-04-10T08:15:02.213Z"
   },
   {
    "duration": 12,
    "start_time": "2022-04-10T08:15:02.220Z"
   },
   {
    "duration": 23,
    "start_time": "2022-04-10T08:15:02.233Z"
   },
   {
    "duration": 6,
    "start_time": "2022-04-10T08:15:02.258Z"
   },
   {
    "duration": 50,
    "start_time": "2022-04-10T08:15:02.265Z"
   },
   {
    "duration": 6,
    "start_time": "2022-04-10T08:15:02.318Z"
   },
   {
    "duration": 15,
    "start_time": "2022-04-10T08:15:02.325Z"
   },
   {
    "duration": 15,
    "start_time": "2022-04-10T08:15:02.341Z"
   },
   {
    "duration": 51,
    "start_time": "2022-04-10T08:15:02.358Z"
   },
   {
    "duration": 16,
    "start_time": "2022-04-10T08:15:02.411Z"
   },
   {
    "duration": 13,
    "start_time": "2022-04-10T08:15:02.428Z"
   },
   {
    "duration": 11,
    "start_time": "2022-04-10T08:15:02.443Z"
   },
   {
    "duration": 18,
    "start_time": "2022-04-10T08:15:02.456Z"
   },
   {
    "duration": 47,
    "start_time": "2022-04-10T08:15:02.475Z"
   },
   {
    "duration": 35,
    "start_time": "2022-04-10T08:15:02.524Z"
   },
   {
    "duration": 17,
    "start_time": "2022-04-10T08:15:02.561Z"
   },
   {
    "duration": 40,
    "start_time": "2022-04-10T08:15:02.580Z"
   },
   {
    "duration": 13,
    "start_time": "2022-04-10T08:15:02.622Z"
   },
   {
    "duration": 12,
    "start_time": "2022-04-10T08:15:02.637Z"
   },
   {
    "duration": 24,
    "start_time": "2022-04-10T08:15:02.651Z"
   },
   {
    "duration": 32,
    "start_time": "2022-04-10T08:15:02.677Z"
   },
   {
    "duration": 22,
    "start_time": "2022-04-10T08:15:02.711Z"
   },
   {
    "duration": 16,
    "start_time": "2022-04-10T08:15:02.735Z"
   },
   {
    "duration": 8,
    "start_time": "2022-04-10T08:15:02.756Z"
   },
   {
    "duration": 5,
    "start_time": "2022-04-10T08:15:02.766Z"
   },
   {
    "duration": 56,
    "start_time": "2022-04-10T08:15:02.773Z"
   },
   {
    "duration": 16,
    "start_time": "2022-04-10T08:15:02.831Z"
   },
   {
    "duration": 7,
    "start_time": "2022-04-10T08:15:02.849Z"
   },
   {
    "duration": 6,
    "start_time": "2022-04-10T08:15:04.854Z"
   },
   {
    "duration": 3,
    "start_time": "2022-04-10T08:15:49.069Z"
   },
   {
    "duration": 31,
    "start_time": "2022-04-10T08:15:51.100Z"
   },
   {
    "duration": 8,
    "start_time": "2022-04-10T08:25:02.086Z"
   },
   {
    "duration": 10,
    "start_time": "2022-04-10T08:25:12.485Z"
   },
   {
    "duration": 7,
    "start_time": "2022-04-10T08:25:59.731Z"
   },
   {
    "duration": 17,
    "start_time": "2022-04-10T08:28:03.453Z"
   },
   {
    "duration": 12,
    "start_time": "2022-04-10T08:28:51.269Z"
   },
   {
    "duration": 14,
    "start_time": "2022-04-10T08:29:08.867Z"
   },
   {
    "duration": 60,
    "start_time": "2022-04-10T08:29:45.706Z"
   },
   {
    "duration": 8,
    "start_time": "2022-04-10T08:29:50.777Z"
   },
   {
    "duration": 13,
    "start_time": "2022-04-10T08:29:57.945Z"
   },
   {
    "duration": 14,
    "start_time": "2022-04-10T08:30:11.511Z"
   },
   {
    "duration": 28,
    "start_time": "2022-04-10T08:31:02.999Z"
   },
   {
    "duration": 13,
    "start_time": "2022-04-10T08:42:30.801Z"
   },
   {
    "duration": 12,
    "start_time": "2022-04-10T08:44:24.509Z"
   },
   {
    "duration": 43,
    "start_time": "2022-04-10T08:46:15.176Z"
   },
   {
    "duration": 57,
    "start_time": "2022-04-10T08:48:51.162Z"
   },
   {
    "duration": 19,
    "start_time": "2022-04-10T08:48:54.993Z"
   },
   {
    "duration": 18,
    "start_time": "2022-04-10T08:49:53.415Z"
   },
   {
    "duration": 16,
    "start_time": "2022-04-10T08:50:27.261Z"
   },
   {
    "duration": 18,
    "start_time": "2022-04-10T08:50:28.149Z"
   },
   {
    "duration": 18,
    "start_time": "2022-04-10T08:52:56.134Z"
   },
   {
    "duration": 13,
    "start_time": "2022-04-10T08:53:38.253Z"
   },
   {
    "duration": 1154,
    "start_time": "2022-04-10T08:55:26.585Z"
   },
   {
    "duration": 19,
    "start_time": "2022-04-10T08:55:36.696Z"
   },
   {
    "duration": 1086,
    "start_time": "2022-04-10T08:56:20.214Z"
   },
   {
    "duration": 4,
    "start_time": "2022-04-10T08:56:29.567Z"
   },
   {
    "duration": 9,
    "start_time": "2022-04-10T08:56:37.710Z"
   },
   {
    "duration": 10,
    "start_time": "2022-04-10T08:58:11.178Z"
   },
   {
    "duration": 4,
    "start_time": "2022-04-10T08:59:18.942Z"
   },
   {
    "duration": 10,
    "start_time": "2022-04-10T08:59:22.934Z"
   },
   {
    "duration": 11,
    "start_time": "2022-04-10T08:59:35.199Z"
   },
   {
    "duration": 65,
    "start_time": "2022-04-10T08:59:46.616Z"
   },
   {
    "duration": 27,
    "start_time": "2022-04-10T08:59:46.683Z"
   },
   {
    "duration": 10,
    "start_time": "2022-04-10T08:59:46.712Z"
   },
   {
    "duration": 19,
    "start_time": "2022-04-10T08:59:46.724Z"
   },
   {
    "duration": 5,
    "start_time": "2022-04-10T08:59:46.745Z"
   },
   {
    "duration": 10,
    "start_time": "2022-04-10T08:59:46.751Z"
   },
   {
    "duration": 56,
    "start_time": "2022-04-10T08:59:46.763Z"
   },
   {
    "duration": 5,
    "start_time": "2022-04-10T08:59:46.821Z"
   },
   {
    "duration": 10,
    "start_time": "2022-04-10T08:59:46.828Z"
   },
   {
    "duration": 5,
    "start_time": "2022-04-10T08:59:46.840Z"
   },
   {
    "duration": 11,
    "start_time": "2022-04-10T08:59:46.847Z"
   },
   {
    "duration": 16,
    "start_time": "2022-04-10T08:59:46.859Z"
   },
   {
    "duration": 23,
    "start_time": "2022-04-10T08:59:46.908Z"
   },
   {
    "duration": 14,
    "start_time": "2022-04-10T08:59:46.933Z"
   },
   {
    "duration": 11,
    "start_time": "2022-04-10T08:59:46.949Z"
   },
   {
    "duration": 10,
    "start_time": "2022-04-10T08:59:46.962Z"
   },
   {
    "duration": 48,
    "start_time": "2022-04-10T08:59:46.973Z"
   },
   {
    "duration": 18,
    "start_time": "2022-04-10T08:59:47.023Z"
   },
   {
    "duration": 33,
    "start_time": "2022-04-10T08:59:47.042Z"
   },
   {
    "duration": 32,
    "start_time": "2022-04-10T08:59:47.077Z"
   },
   {
    "duration": 13,
    "start_time": "2022-04-10T08:59:47.110Z"
   },
   {
    "duration": 10,
    "start_time": "2022-04-10T08:59:47.125Z"
   },
   {
    "duration": 9,
    "start_time": "2022-04-10T08:59:47.136Z"
   },
   {
    "duration": 16,
    "start_time": "2022-04-10T08:59:47.147Z"
   },
   {
    "duration": 4,
    "start_time": "2022-04-10T08:59:47.165Z"
   },
   {
    "duration": 51,
    "start_time": "2022-04-10T08:59:47.170Z"
   },
   {
    "duration": 13,
    "start_time": "2022-04-10T08:59:47.223Z"
   },
   {
    "duration": 7,
    "start_time": "2022-04-10T08:59:47.239Z"
   },
   {
    "duration": 4,
    "start_time": "2022-04-10T08:59:47.247Z"
   },
   {
    "duration": 19,
    "start_time": "2022-04-10T08:59:47.252Z"
   },
   {
    "duration": 38,
    "start_time": "2022-04-10T08:59:47.273Z"
   },
   {
    "duration": 4,
    "start_time": "2022-04-10T08:59:47.313Z"
   },
   {
    "duration": 6,
    "start_time": "2022-04-10T08:59:47.319Z"
   },
   {
    "duration": 21,
    "start_time": "2022-04-10T08:59:53.037Z"
   },
   {
    "duration": 9,
    "start_time": "2022-04-10T08:59:56.085Z"
   },
   {
    "duration": 8,
    "start_time": "2022-04-10T09:01:15.442Z"
   },
   {
    "duration": 18,
    "start_time": "2022-04-10T09:01:20.417Z"
   },
   {
    "duration": 9,
    "start_time": "2022-04-10T09:01:22.921Z"
   },
   {
    "duration": 10,
    "start_time": "2022-04-10T09:01:28.250Z"
   },
   {
    "duration": 18,
    "start_time": "2022-04-10T09:03:03.229Z"
   },
   {
    "duration": 9,
    "start_time": "2022-04-10T09:03:43.196Z"
   },
   {
    "duration": 18,
    "start_time": "2022-04-10T09:04:34.154Z"
   },
   {
    "duration": 9,
    "start_time": "2022-04-10T09:04:55.481Z"
   },
   {
    "duration": 18,
    "start_time": "2022-04-10T09:05:31.607Z"
   },
   {
    "duration": 9,
    "start_time": "2022-04-10T09:05:46.823Z"
   },
   {
    "duration": 14,
    "start_time": "2022-04-10T09:11:18.081Z"
   },
   {
    "duration": 14,
    "start_time": "2022-04-10T09:11:36.400Z"
   },
   {
    "duration": 19,
    "start_time": "2022-04-10T09:11:47.432Z"
   },
   {
    "duration": 1140,
    "start_time": "2022-04-10T09:12:07.071Z"
   },
   {
    "duration": 17,
    "start_time": "2022-04-10T09:12:14.238Z"
   },
   {
    "duration": 19,
    "start_time": "2022-04-10T09:27:15.876Z"
   },
   {
    "duration": 14,
    "start_time": "2022-04-10T09:27:22.465Z"
   },
   {
    "duration": 483,
    "start_time": "2022-04-19T19:39:57.364Z"
   },
   {
    "duration": 19,
    "start_time": "2022-04-19T19:39:57.849Z"
   },
   {
    "duration": 10,
    "start_time": "2022-04-19T19:39:57.870Z"
   },
   {
    "duration": 29,
    "start_time": "2022-04-19T19:39:57.882Z"
   },
   {
    "duration": 5,
    "start_time": "2022-04-19T19:39:57.914Z"
   },
   {
    "duration": 13,
    "start_time": "2022-04-19T19:39:57.920Z"
   },
   {
    "duration": 21,
    "start_time": "2022-04-19T19:39:57.934Z"
   },
   {
    "duration": 5,
    "start_time": "2022-04-19T19:39:57.956Z"
   },
   {
    "duration": 39,
    "start_time": "2022-04-19T19:39:57.962Z"
   },
   {
    "duration": 5,
    "start_time": "2022-04-19T19:39:58.002Z"
   },
   {
    "duration": 12,
    "start_time": "2022-04-19T19:39:58.008Z"
   },
   {
    "duration": 13,
    "start_time": "2022-04-19T19:39:58.021Z"
   },
   {
    "duration": 19,
    "start_time": "2022-04-19T19:39:58.036Z"
   },
   {
    "duration": 13,
    "start_time": "2022-04-19T19:39:58.057Z"
   },
   {
    "duration": 11,
    "start_time": "2022-04-19T19:39:58.099Z"
   },
   {
    "duration": 7,
    "start_time": "2022-04-19T19:39:58.112Z"
   },
   {
    "duration": 16,
    "start_time": "2022-04-19T19:39:58.121Z"
   },
   {
    "duration": 18,
    "start_time": "2022-04-19T19:39:58.138Z"
   },
   {
    "duration": 55,
    "start_time": "2022-04-19T19:39:58.158Z"
   },
   {
    "duration": 13,
    "start_time": "2022-04-19T19:39:58.215Z"
   },
   {
    "duration": 12,
    "start_time": "2022-04-19T19:39:58.229Z"
   },
   {
    "duration": 11,
    "start_time": "2022-04-19T19:39:58.242Z"
   },
   {
    "duration": 10,
    "start_time": "2022-04-19T19:39:58.254Z"
   },
   {
    "duration": 50,
    "start_time": "2022-04-19T19:39:58.266Z"
   },
   {
    "duration": 4,
    "start_time": "2022-04-19T19:39:58.317Z"
   },
   {
    "duration": 22,
    "start_time": "2022-04-19T19:39:58.322Z"
   },
   {
    "duration": 13,
    "start_time": "2022-04-19T19:39:58.345Z"
   },
   {
    "duration": 6,
    "start_time": "2022-04-19T19:39:58.360Z"
   },
   {
    "duration": 4,
    "start_time": "2022-04-19T19:39:58.368Z"
   },
   {
    "duration": 20,
    "start_time": "2022-04-19T19:39:58.400Z"
   },
   {
    "duration": 12,
    "start_time": "2022-04-19T19:39:58.421Z"
   },
   {
    "duration": 4,
    "start_time": "2022-04-19T19:39:58.434Z"
   },
   {
    "duration": 5,
    "start_time": "2022-04-19T19:39:58.439Z"
   },
   {
    "duration": 16,
    "start_time": "2022-04-19T19:39:58.446Z"
   },
   {
    "duration": 38,
    "start_time": "2022-04-19T19:39:58.463Z"
   },
   {
    "duration": 13,
    "start_time": "2022-04-19T19:39:58.503Z"
   },
   {
    "duration": 16,
    "start_time": "2022-04-19T19:39:58.518Z"
   },
   {
    "duration": 7,
    "start_time": "2022-04-19T19:39:58.536Z"
   },
   {
    "duration": 18,
    "start_time": "2022-04-19T19:39:58.544Z"
   },
   {
    "duration": 7,
    "start_time": "2022-04-19T19:39:58.563Z"
   },
   {
    "duration": 42,
    "start_time": "2022-04-19T19:39:58.573Z"
   },
   {
    "duration": 8,
    "start_time": "2022-04-19T19:39:58.616Z"
   },
   {
    "duration": 10,
    "start_time": "2022-04-19T19:45:11.733Z"
   },
   {
    "duration": 376,
    "start_time": "2022-04-19T20:18:41.877Z"
   },
   {
    "duration": 72,
    "start_time": "2022-04-19T20:18:42.255Z"
   },
   {
    "duration": 23,
    "start_time": "2022-04-19T20:18:42.329Z"
   },
   {
    "duration": 10,
    "start_time": "2022-04-19T20:18:42.354Z"
   },
   {
    "duration": 20,
    "start_time": "2022-04-19T20:18:42.367Z"
   },
   {
    "duration": 6,
    "start_time": "2022-04-19T20:18:42.388Z"
   },
   {
    "duration": 12,
    "start_time": "2022-04-19T20:18:42.395Z"
   },
   {
    "duration": 60,
    "start_time": "2022-04-19T20:18:42.409Z"
   },
   {
    "duration": 5,
    "start_time": "2022-04-19T20:18:42.470Z"
   },
   {
    "duration": 12,
    "start_time": "2022-04-19T20:18:42.477Z"
   },
   {
    "duration": 6,
    "start_time": "2022-04-19T20:18:42.490Z"
   },
   {
    "duration": 14,
    "start_time": "2022-04-19T20:18:42.498Z"
   },
   {
    "duration": 43,
    "start_time": "2022-04-19T20:18:42.514Z"
   },
   {
    "duration": 21,
    "start_time": "2022-04-19T20:18:42.560Z"
   },
   {
    "duration": 15,
    "start_time": "2022-04-19T20:18:42.584Z"
   },
   {
    "duration": 12,
    "start_time": "2022-04-19T20:18:42.601Z"
   },
   {
    "duration": 10,
    "start_time": "2022-04-19T20:18:42.649Z"
   },
   {
    "duration": 27,
    "start_time": "2022-04-19T20:18:42.661Z"
   },
   {
    "duration": 28,
    "start_time": "2022-04-19T20:18:42.690Z"
   },
   {
    "duration": 75,
    "start_time": "2022-04-19T20:18:42.720Z"
   },
   {
    "duration": 21,
    "start_time": "2022-04-19T20:18:42.797Z"
   },
   {
    "duration": 36,
    "start_time": "2022-04-19T20:18:42.820Z"
   },
   {
    "duration": 10,
    "start_time": "2022-04-19T20:18:42.857Z"
   },
   {
    "duration": 10,
    "start_time": "2022-04-19T20:18:42.869Z"
   },
   {
    "duration": 17,
    "start_time": "2022-04-19T20:18:42.880Z"
   },
   {
    "duration": 3,
    "start_time": "2022-04-19T20:18:42.900Z"
   },
   {
    "duration": 60,
    "start_time": "2022-04-19T20:18:42.905Z"
   },
   {
    "duration": 16,
    "start_time": "2022-04-19T20:18:42.966Z"
   },
   {
    "duration": 8,
    "start_time": "2022-04-19T20:18:42.984Z"
   },
   {
    "duration": 4,
    "start_time": "2022-04-19T20:18:42.994Z"
   },
   {
    "duration": 62,
    "start_time": "2022-04-19T20:18:43.002Z"
   },
   {
    "duration": 21,
    "start_time": "2022-04-19T20:18:43.066Z"
   },
   {
    "duration": 7,
    "start_time": "2022-04-19T20:18:43.089Z"
   },
   {
    "duration": 7,
    "start_time": "2022-04-19T20:18:43.098Z"
   },
   {
    "duration": 57,
    "start_time": "2022-04-19T20:18:43.107Z"
   },
   {
    "duration": 10,
    "start_time": "2022-04-19T20:18:43.166Z"
   },
   {
    "duration": 12,
    "start_time": "2022-04-19T20:18:43.179Z"
   },
   {
    "duration": 23,
    "start_time": "2022-04-19T20:18:43.194Z"
   },
   {
    "duration": 13,
    "start_time": "2022-04-19T20:18:43.247Z"
   },
   {
    "duration": 17,
    "start_time": "2022-04-19T20:18:43.263Z"
   },
   {
    "duration": 9,
    "start_time": "2022-04-19T20:18:43.285Z"
   },
   {
    "duration": 6,
    "start_time": "2022-04-19T20:18:43.296Z"
   },
   {
    "duration": 59,
    "start_time": "2022-04-19T20:18:43.304Z"
   },
   {
    "duration": 11,
    "start_time": "2022-04-19T20:18:43.365Z"
   },
   {
    "duration": 6,
    "start_time": "2022-04-19T20:19:25.144Z"
   },
   {
    "duration": 5,
    "start_time": "2022-04-19T20:19:46.407Z"
   },
   {
    "duration": 5,
    "start_time": "2022-04-19T20:20:03.997Z"
   },
   {
    "duration": 6,
    "start_time": "2022-04-19T20:20:28.532Z"
   },
   {
    "duration": 524,
    "start_time": "2022-04-20T18:24:46.536Z"
   },
   {
    "duration": 158,
    "start_time": "2022-04-20T18:24:47.067Z"
   },
   {
    "duration": 30,
    "start_time": "2022-04-20T18:24:47.230Z"
   },
   {
    "duration": 13,
    "start_time": "2022-04-20T18:24:47.267Z"
   },
   {
    "duration": 69,
    "start_time": "2022-04-20T18:24:47.284Z"
   },
   {
    "duration": 10,
    "start_time": "2022-04-20T18:24:47.355Z"
   },
   {
    "duration": 19,
    "start_time": "2022-04-20T18:24:47.368Z"
   },
   {
    "duration": 66,
    "start_time": "2022-04-20T18:24:47.389Z"
   },
   {
    "duration": 8,
    "start_time": "2022-04-20T18:24:47.457Z"
   },
   {
    "duration": 18,
    "start_time": "2022-04-20T18:24:47.467Z"
   },
   {
    "duration": 41,
    "start_time": "2022-04-20T18:24:47.487Z"
   },
   {
    "duration": 17,
    "start_time": "2022-04-20T18:24:47.530Z"
   },
   {
    "duration": 23,
    "start_time": "2022-04-20T18:24:47.549Z"
   },
   {
    "duration": 68,
    "start_time": "2022-04-20T18:24:47.574Z"
   },
   {
    "duration": 21,
    "start_time": "2022-04-20T18:24:47.644Z"
   },
   {
    "duration": 18,
    "start_time": "2022-04-20T18:24:47.668Z"
   },
   {
    "duration": 40,
    "start_time": "2022-04-20T18:24:47.688Z"
   },
   {
    "duration": 23,
    "start_time": "2022-04-20T18:24:47.730Z"
   },
   {
    "duration": 29,
    "start_time": "2022-04-20T18:24:47.755Z"
   },
   {
    "duration": 82,
    "start_time": "2022-04-20T18:24:47.786Z"
   },
   {
    "duration": 20,
    "start_time": "2022-04-20T18:24:47.870Z"
   },
   {
    "duration": 44,
    "start_time": "2022-04-20T18:24:47.892Z"
   },
   {
    "duration": 17,
    "start_time": "2022-04-20T18:24:47.938Z"
   },
   {
    "duration": 19,
    "start_time": "2022-04-20T18:24:47.958Z"
   },
   {
    "duration": 80,
    "start_time": "2022-04-20T18:24:47.980Z"
   },
   {
    "duration": 5,
    "start_time": "2022-04-20T18:24:48.064Z"
   },
   {
    "duration": 68,
    "start_time": "2022-04-20T18:24:48.072Z"
   },
   {
    "duration": 31,
    "start_time": "2022-04-20T18:24:48.148Z"
   },
   {
    "duration": 15,
    "start_time": "2022-04-20T18:24:48.182Z"
   },
   {
    "duration": 5,
    "start_time": "2022-04-20T18:24:48.225Z"
   },
   {
    "duration": 35,
    "start_time": "2022-04-20T18:24:48.232Z"
   },
   {
    "duration": 20,
    "start_time": "2022-04-20T18:24:48.269Z"
   },
   {
    "duration": 45,
    "start_time": "2022-04-20T18:24:48.292Z"
   },
   {
    "duration": 8,
    "start_time": "2022-04-20T18:24:48.340Z"
   },
   {
    "duration": 31,
    "start_time": "2022-04-20T18:24:48.350Z"
   },
   {
    "duration": 11,
    "start_time": "2022-04-20T18:24:48.383Z"
   },
   {
    "duration": 15,
    "start_time": "2022-04-20T18:24:48.425Z"
   },
   {
    "duration": 12,
    "start_time": "2022-04-20T18:24:48.442Z"
   },
   {
    "duration": 28,
    "start_time": "2022-04-20T18:24:48.456Z"
   },
   {
    "duration": 50,
    "start_time": "2022-04-20T18:24:48.486Z"
   },
   {
    "duration": 8,
    "start_time": "2022-04-20T18:24:48.539Z"
   },
   {
    "duration": 31,
    "start_time": "2022-04-20T18:24:48.549Z"
   },
   {
    "duration": 44,
    "start_time": "2022-04-20T18:24:48.582Z"
   },
   {
    "duration": 8,
    "start_time": "2022-04-20T18:24:48.629Z"
   },
   {
    "duration": 31,
    "start_time": "2022-04-20T18:24:48.639Z"
   },
   {
    "duration": 12,
    "start_time": "2022-04-20T18:24:48.672Z"
   },
   {
    "duration": 42,
    "start_time": "2022-04-20T18:24:48.686Z"
   },
   {
    "duration": 571,
    "start_time": "2022-04-20T18:26:03.506Z"
   },
   {
    "duration": 99,
    "start_time": "2022-04-20T18:26:04.080Z"
   },
   {
    "duration": 45,
    "start_time": "2022-04-20T18:26:04.181Z"
   },
   {
    "duration": 13,
    "start_time": "2022-04-20T18:26:04.229Z"
   },
   {
    "duration": 62,
    "start_time": "2022-04-20T18:26:04.245Z"
   },
   {
    "duration": 8,
    "start_time": "2022-04-20T18:26:04.325Z"
   },
   {
    "duration": 27,
    "start_time": "2022-04-20T18:26:04.336Z"
   },
   {
    "duration": 46,
    "start_time": "2022-04-20T18:26:04.366Z"
   },
   {
    "duration": 8,
    "start_time": "2022-04-20T18:26:04.424Z"
   },
   {
    "duration": 30,
    "start_time": "2022-04-20T18:26:04.438Z"
   },
   {
    "duration": 9,
    "start_time": "2022-04-20T18:26:04.470Z"
   },
   {
    "duration": 44,
    "start_time": "2022-04-20T18:26:04.481Z"
   },
   {
    "duration": 36,
    "start_time": "2022-04-20T18:26:04.528Z"
   },
   {
    "duration": 75,
    "start_time": "2022-04-20T18:26:04.567Z"
   },
   {
    "duration": 35,
    "start_time": "2022-04-20T18:26:04.646Z"
   },
   {
    "duration": 56,
    "start_time": "2022-04-20T18:26:04.684Z"
   },
   {
    "duration": 57,
    "start_time": "2022-04-20T18:26:04.743Z"
   },
   {
    "duration": 63,
    "start_time": "2022-04-20T18:26:04.803Z"
   },
   {
    "duration": 46,
    "start_time": "2022-04-20T18:26:04.869Z"
   },
   {
    "duration": 82,
    "start_time": "2022-04-20T18:26:04.926Z"
   },
   {
    "duration": 45,
    "start_time": "2022-04-20T18:26:05.011Z"
   },
   {
    "duration": 30,
    "start_time": "2022-04-20T18:26:05.059Z"
   },
   {
    "duration": 48,
    "start_time": "2022-04-20T18:26:05.092Z"
   },
   {
    "duration": 194,
    "start_time": "2022-04-20T18:26:05.144Z"
   },
   {
    "duration": 78,
    "start_time": "2022-04-20T18:26:05.341Z"
   },
   {
    "duration": 13,
    "start_time": "2022-04-20T18:26:05.422Z"
   },
   {
    "duration": 58,
    "start_time": "2022-04-20T18:26:05.438Z"
   },
   {
    "duration": 33,
    "start_time": "2022-04-20T18:26:05.504Z"
   },
   {
    "duration": 16,
    "start_time": "2022-04-20T18:26:05.540Z"
   },
   {
    "duration": 18,
    "start_time": "2022-04-20T18:26:05.559Z"
   },
   {
    "duration": 63,
    "start_time": "2022-04-20T18:26:05.580Z"
   },
   {
    "duration": 21,
    "start_time": "2022-04-20T18:26:05.646Z"
   },
   {
    "duration": 24,
    "start_time": "2022-04-20T18:26:05.669Z"
   },
   {
    "duration": 14,
    "start_time": "2022-04-20T18:26:05.695Z"
   },
   {
    "duration": 54,
    "start_time": "2022-04-20T18:26:05.711Z"
   },
   {
    "duration": 16,
    "start_time": "2022-04-20T18:26:05.767Z"
   },
   {
    "duration": 35,
    "start_time": "2022-04-20T18:26:05.785Z"
   },
   {
    "duration": 16,
    "start_time": "2022-04-20T18:26:05.823Z"
   },
   {
    "duration": 41,
    "start_time": "2022-04-20T18:26:05.842Z"
   },
   {
    "duration": 13,
    "start_time": "2022-04-20T18:26:05.886Z"
   },
   {
    "duration": 27,
    "start_time": "2022-04-20T18:26:05.902Z"
   },
   {
    "duration": 64,
    "start_time": "2022-04-20T18:26:05.931Z"
   },
   {
    "duration": 21,
    "start_time": "2022-04-20T18:26:05.997Z"
   },
   {
    "duration": 21,
    "start_time": "2022-04-20T18:26:06.021Z"
   },
   {
    "duration": 49,
    "start_time": "2022-04-20T18:26:06.045Z"
   },
   {
    "duration": 14,
    "start_time": "2022-04-20T18:26:06.097Z"
   },
   {
    "duration": 36,
    "start_time": "2022-04-20T18:26:06.114Z"
   },
   {
    "duration": 426,
    "start_time": "2022-04-21T08:27:53.621Z"
   },
   {
    "duration": 91,
    "start_time": "2022-04-21T08:27:54.049Z"
   },
   {
    "duration": 19,
    "start_time": "2022-04-21T08:27:54.144Z"
   },
   {
    "duration": 10,
    "start_time": "2022-04-21T08:27:54.166Z"
   },
   {
    "duration": 21,
    "start_time": "2022-04-21T08:27:54.177Z"
   },
   {
    "duration": 26,
    "start_time": "2022-04-21T08:27:54.200Z"
   },
   {
    "duration": 14,
    "start_time": "2022-04-21T08:27:54.228Z"
   },
   {
    "duration": 25,
    "start_time": "2022-04-21T08:27:54.243Z"
   },
   {
    "duration": 5,
    "start_time": "2022-04-21T08:27:54.270Z"
   },
   {
    "duration": 48,
    "start_time": "2022-04-21T08:27:54.277Z"
   },
   {
    "duration": 6,
    "start_time": "2022-04-21T08:27:54.327Z"
   },
   {
    "duration": 25,
    "start_time": "2022-04-21T08:27:54.334Z"
   },
   {
    "duration": 15,
    "start_time": "2022-04-21T08:27:54.363Z"
   },
   {
    "duration": 42,
    "start_time": "2022-04-21T08:27:54.380Z"
   },
   {
    "duration": 16,
    "start_time": "2022-04-21T08:27:54.424Z"
   },
   {
    "duration": 11,
    "start_time": "2022-04-21T08:27:54.442Z"
   },
   {
    "duration": 9,
    "start_time": "2022-04-21T08:27:54.454Z"
   },
   {
    "duration": 23,
    "start_time": "2022-04-21T08:27:54.465Z"
   },
   {
    "duration": 43,
    "start_time": "2022-04-21T08:27:54.489Z"
   },
   {
    "duration": 34,
    "start_time": "2022-04-21T08:27:54.533Z"
   },
   {
    "duration": 14,
    "start_time": "2022-04-21T08:27:54.569Z"
   },
   {
    "duration": 89,
    "start_time": "2022-04-21T08:27:54.585Z"
   },
   {
    "duration": 0,
    "start_time": "2022-04-21T08:27:54.676Z"
   },
   {
    "duration": 0,
    "start_time": "2022-04-21T08:27:54.677Z"
   },
   {
    "duration": 0,
    "start_time": "2022-04-21T08:27:54.678Z"
   },
   {
    "duration": 0,
    "start_time": "2022-04-21T08:27:54.679Z"
   },
   {
    "duration": 0,
    "start_time": "2022-04-21T08:27:54.680Z"
   },
   {
    "duration": 0,
    "start_time": "2022-04-21T08:27:54.681Z"
   },
   {
    "duration": 0,
    "start_time": "2022-04-21T08:27:54.682Z"
   },
   {
    "duration": 0,
    "start_time": "2022-04-21T08:27:54.683Z"
   },
   {
    "duration": 0,
    "start_time": "2022-04-21T08:27:54.684Z"
   },
   {
    "duration": 0,
    "start_time": "2022-04-21T08:27:54.685Z"
   },
   {
    "duration": 0,
    "start_time": "2022-04-21T08:27:54.686Z"
   },
   {
    "duration": 0,
    "start_time": "2022-04-21T08:27:54.687Z"
   },
   {
    "duration": 0,
    "start_time": "2022-04-21T08:27:54.688Z"
   },
   {
    "duration": 0,
    "start_time": "2022-04-21T08:27:54.689Z"
   },
   {
    "duration": 0,
    "start_time": "2022-04-21T08:27:54.690Z"
   },
   {
    "duration": 0,
    "start_time": "2022-04-21T08:27:54.691Z"
   },
   {
    "duration": 0,
    "start_time": "2022-04-21T08:27:54.692Z"
   },
   {
    "duration": 0,
    "start_time": "2022-04-21T08:27:54.693Z"
   },
   {
    "duration": 0,
    "start_time": "2022-04-21T08:27:54.694Z"
   },
   {
    "duration": 0,
    "start_time": "2022-04-21T08:27:54.723Z"
   },
   {
    "duration": 0,
    "start_time": "2022-04-21T08:27:54.724Z"
   },
   {
    "duration": 0,
    "start_time": "2022-04-21T08:27:54.725Z"
   },
   {
    "duration": 0,
    "start_time": "2022-04-21T08:27:54.726Z"
   },
   {
    "duration": 0,
    "start_time": "2022-04-21T08:27:54.727Z"
   },
   {
    "duration": 0,
    "start_time": "2022-04-21T08:27:54.728Z"
   },
   {
    "duration": 11,
    "start_time": "2022-04-21T08:28:10.604Z"
   },
   {
    "duration": 13,
    "start_time": "2022-04-21T08:28:55.339Z"
   },
   {
    "duration": 16,
    "start_time": "2022-04-21T08:29:01.643Z"
   },
   {
    "duration": 17,
    "start_time": "2022-04-21T08:29:12.571Z"
   },
   {
    "duration": 12,
    "start_time": "2022-04-21T08:29:12.590Z"
   },
   {
    "duration": 17,
    "start_time": "2022-04-21T08:29:12.603Z"
   },
   {
    "duration": 20,
    "start_time": "2022-04-21T08:29:12.622Z"
   },
   {
    "duration": 4,
    "start_time": "2022-04-21T08:29:12.644Z"
   },
   {
    "duration": 21,
    "start_time": "2022-04-21T08:29:12.649Z"
   },
   {
    "duration": 15,
    "start_time": "2022-04-21T08:29:12.672Z"
   },
   {
    "duration": 38,
    "start_time": "2022-04-21T08:29:12.689Z"
   },
   {
    "duration": 7,
    "start_time": "2022-04-21T08:29:12.728Z"
   },
   {
    "duration": 23,
    "start_time": "2022-04-21T08:29:12.738Z"
   },
   {
    "duration": 13,
    "start_time": "2022-04-21T08:29:12.762Z"
   },
   {
    "duration": 5,
    "start_time": "2022-04-21T08:29:12.777Z"
   },
   {
    "duration": 7,
    "start_time": "2022-04-21T08:29:12.783Z"
   },
   {
    "duration": 48,
    "start_time": "2022-04-21T08:29:12.791Z"
   },
   {
    "duration": 7,
    "start_time": "2022-04-21T08:29:12.841Z"
   },
   {
    "duration": 13,
    "start_time": "2022-04-21T08:29:12.849Z"
   },
   {
    "duration": 8,
    "start_time": "2022-04-21T08:29:12.863Z"
   },
   {
    "duration": 20,
    "start_time": "2022-04-21T08:29:12.873Z"
   },
   {
    "duration": 34,
    "start_time": "2022-04-21T08:29:12.895Z"
   },
   {
    "duration": 8,
    "start_time": "2022-04-21T08:29:12.931Z"
   },
   {
    "duration": 19,
    "start_time": "2022-04-21T08:29:12.941Z"
   },
   {
    "duration": 8,
    "start_time": "2022-04-21T08:29:12.961Z"
   },
   {
    "duration": 10,
    "start_time": "2022-04-21T08:29:12.971Z"
   },
   {
    "duration": 43,
    "start_time": "2022-04-21T08:29:12.983Z"
   },
   {
    "duration": 8,
    "start_time": "2022-04-21T08:29:13.028Z"
   },
   {
    "duration": 6,
    "start_time": "2022-04-21T08:29:13.038Z"
   }
  ],
  "kernelspec": {
   "display_name": "Python 3.10.4 64-bit",
   "language": "python",
   "name": "python3"
  },
  "language_info": {
   "codemirror_mode": {
    "name": "ipython",
    "version": 3
   },
   "file_extension": ".py",
   "mimetype": "text/x-python",
   "name": "python",
   "nbconvert_exporter": "python",
   "pygments_lexer": "ipython3",
   "version": "3.10.4"
  },
  "toc": {
   "base_numbering": 1,
   "nav_menu": {},
   "number_sections": true,
   "sideBar": true,
   "skip_h1_title": true,
   "title_cell": "Table of Contents",
   "title_sidebar": "Contents",
   "toc_cell": false,
   "toc_position": {},
   "toc_section_display": true,
   "toc_window_display": false
  },
  "vscode": {
   "interpreter": {
    "hash": "2469a70536e4d2335a2ea8907942d0699c37342a371ac185bdb5b0aa6f073890"
   }
  }
 },
 "nbformat": 4,
 "nbformat_minor": 5
}
