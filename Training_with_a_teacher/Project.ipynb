{
 "cells": [
  {
   "cell_type": "markdown",
   "metadata": {
    "toc": true
   },
   "source": [
    "<h1>Contents<span class=\"tocSkip\"></span></h1>\n",
    "<div class=\"toc\"><ul class=\"toc-item\"><li><span><a href=\"#Data-preparation\" data-toc-modified-id=\"Data-preparation-1\"><span class=\"toc-item-num\">1&nbsp;&nbsp;</span>Data preparation</a></span><ul class=\"toc-item\"><li><span><a href=\"#Data-extractiom\" data-toc-modified-id=\"Data-extractiom-1.1\"><span class=\"toc-item-num\">1.1&nbsp;&nbsp;</span>Data extractiom</a></span></li><li><span><a href=\"#Passes\" data-toc-modified-id=\"Passes-1.2\"><span class=\"toc-item-num\">1.2&nbsp;&nbsp;</span>Passes</a></span></li><li><span><a href=\"#Required-data\" data-toc-modified-id=\"Required-data-1.3\"><span class=\"toc-item-num\">1.3&nbsp;&nbsp;</span>Required data</a></span></li><li><span><a href=\"#Scaling-and-Encoding\" data-toc-modified-id=\"Scaling-and-Encoding-1.4\"><span class=\"toc-item-num\">1.4&nbsp;&nbsp;</span>Scaling and Encoding</a></span></li><li><span><a href=\"#Сonclusion\" data-toc-modified-id=\"Сonclusion-1.5\"><span class=\"toc-item-num\">1.5&nbsp;&nbsp;</span>Сonclusion</a></span></li></ul></li><li><span><a href=\"#Problem-research\" data-toc-modified-id=\"Problem-research-2\"><span class=\"toc-item-num\">2&nbsp;&nbsp;</span>Problem research</a></span><ul class=\"toc-item\"><li><span><a href=\"#Conclusion\" data-toc-modified-id=\"Conclusion-2.1\"><span class=\"toc-item-num\">2.1&nbsp;&nbsp;</span>Conclusion</a></span></li></ul></li><li><span><a href=\"#Correction-of-imbalance\" data-toc-modified-id=\"Correction-of-imbalance-3\"><span class=\"toc-item-num\">3&nbsp;&nbsp;</span>Correction of imbalance</a></span><ul class=\"toc-item\"><li><span><a href=\"#Conclusion\" data-toc-modified-id=\"Conclusion-3.1\"><span class=\"toc-item-num\">3.1&nbsp;&nbsp;</span>Conclusion</a></span></li></ul></li><li><span><a href=\"#Model-testing\" data-toc-modified-id=\"Model-testing-4\"><span class=\"toc-item-num\">4&nbsp;&nbsp;</span>Model testing</a></span><ul class=\"toc-item\"><li><span><a href=\"#Conclusion\" data-toc-modified-id=\"Conclusion-4.1\"><span class=\"toc-item-num\">4.1&nbsp;&nbsp;</span>Conclusion</a></span></li></ul></li><li><span><a href=\"#Conclusion\" data-toc-modified-id=\"Conclusion-5\"><span class=\"toc-item-num\">5&nbsp;&nbsp;</span>Conclusion</a></span></li></ul></div>"
   ]
  },
  {
   "cell_type": "markdown",
   "metadata": {},
   "source": [
    "# Customer churn"
   ]
  },
  {
   "cell_type": "markdown",
   "metadata": {},
   "source": [
    "Customers began to leave Beta-Bank. Every month. A little, but noticeable. Banking marketers figured it was cheaper to keep current customers than to attract new ones.\n",
    "\n",
    "It is necessary to predict whether the client will leave the bank in the near future or not. You are provided with historical data on customer behavior and termination of agreements with the bank.\n",
    "\n",
    "Additionally measure *AUC-ROC*, compare its value with *F1*-measure. \n",
    "\n",
    "Date source: [https://www.kaggle.com/barelydedicated/bank-customer-churn-modeling](https://www.kaggle.com/barelydedicated/bank-customer-churn-modeling)"
   ]
  },
  {
   "cell_type": "markdown",
   "metadata": {},
   "source": [
    "# Data description "
   ]
  },
  {
   "cell_type": "markdown",
   "metadata": {},
   "source": [
    "**Features**\n",
    "- RowNumber — Row index in data\n",
    "- CustomerId — Unique client id\n",
    "- Surname — Last name\n",
    "- CreditScore — Credit rating\n",
    "- Geography — Country of residence\n",
    "- Gender \n",
    "- Age \n",
    "- Tenure — How many years a person has been a bank client\n",
    "- Balance — Account balance\n",
    "- NumOfProducts — Numbers of bank product used by the client\n",
    "- HasCrCard — Availability of a credit card\n",
    "- IsActiveMember — Client activity \n",
    "- EstimatedSalary  \n",
    "\n",
    "**Target**\n",
    "- Exited — The fact thet the client left"
   ]
  },
  {
   "cell_type": "markdown",
   "metadata": {},
   "source": [
    "## Data preparation"
   ]
  },
  {
   "cell_type": "markdown",
   "metadata": {},
   "source": [
    "### Data extractiom"
   ]
  },
  {
   "cell_type": "markdown",
   "metadata": {},
   "source": [
    "As usual, we load the necessary libraries and extract the data."
   ]
  },
  {
   "cell_type": "code",
   "execution_count": 1,
   "metadata": {},
   "outputs": [],
   "source": [
    "import pandas as pd\n",
    "from sklearn.preprocessing import StandardScaler \n",
    "from sklearn.model_selection import train_test_split\n",
    "from sklearn.model_selection import GridSearchCV\n",
    "from sklearn.ensemble import RandomForestClassifier\n",
    "from sklearn.metrics import roc_curve \n",
    "import matplotlib.pyplot as plt\n",
    "from sklearn.metrics import f1_score\n",
    "from sklearn.metrics import roc_auc_score\n",
    "from sklearn.utils import shuffle\n",
    "from sklearn.linear_model import LogisticRegression\n",
    "import warnings"
   ]
  },
  {
   "cell_type": "code",
   "execution_count": 2,
   "metadata": {},
   "outputs": [],
   "source": [
    "df = pd.read_csv(\"./Churn.csv\")"
   ]
  },
  {
   "cell_type": "markdown",
   "metadata": {},
   "source": [
    "Take a look at them."
   ]
  },
  {
   "cell_type": "code",
   "execution_count": 3,
   "metadata": {},
   "outputs": [
    {
     "data": {
      "text/html": [
       "<div>\n",
       "<style scoped>\n",
       "    .dataframe tbody tr th:only-of-type {\n",
       "        vertical-align: middle;\n",
       "    }\n",
       "\n",
       "    .dataframe tbody tr th {\n",
       "        vertical-align: top;\n",
       "    }\n",
       "\n",
       "    .dataframe thead th {\n",
       "        text-align: right;\n",
       "    }\n",
       "</style>\n",
       "<table border=\"1\" class=\"dataframe\">\n",
       "  <thead>\n",
       "    <tr style=\"text-align: right;\">\n",
       "      <th></th>\n",
       "      <th>RowNumber</th>\n",
       "      <th>CustomerId</th>\n",
       "      <th>Surname</th>\n",
       "      <th>CreditScore</th>\n",
       "      <th>Geography</th>\n",
       "      <th>Gender</th>\n",
       "      <th>Age</th>\n",
       "      <th>Tenure</th>\n",
       "      <th>Balance</th>\n",
       "      <th>NumOfProducts</th>\n",
       "      <th>HasCrCard</th>\n",
       "      <th>IsActiveMember</th>\n",
       "      <th>EstimatedSalary</th>\n",
       "      <th>Exited</th>\n",
       "    </tr>\n",
       "  </thead>\n",
       "  <tbody>\n",
       "    <tr>\n",
       "      <th>2261</th>\n",
       "      <td>2262</td>\n",
       "      <td>15681402</td>\n",
       "      <td>Ngozichukwuka</td>\n",
       "      <td>763</td>\n",
       "      <td>Germany</td>\n",
       "      <td>Female</td>\n",
       "      <td>61</td>\n",
       "      <td>1.0</td>\n",
       "      <td>66101.89</td>\n",
       "      <td>1</td>\n",
       "      <td>1</td>\n",
       "      <td>1</td>\n",
       "      <td>143981.27</td>\n",
       "      <td>0</td>\n",
       "    </tr>\n",
       "    <tr>\n",
       "      <th>4752</th>\n",
       "      <td>4753</td>\n",
       "      <td>15620111</td>\n",
       "      <td>Fan</td>\n",
       "      <td>659</td>\n",
       "      <td>France</td>\n",
       "      <td>Male</td>\n",
       "      <td>54</td>\n",
       "      <td>8.0</td>\n",
       "      <td>133436.52</td>\n",
       "      <td>1</td>\n",
       "      <td>1</td>\n",
       "      <td>0</td>\n",
       "      <td>56787.80</td>\n",
       "      <td>0</td>\n",
       "    </tr>\n",
       "    <tr>\n",
       "      <th>4944</th>\n",
       "      <td>4945</td>\n",
       "      <td>15722072</td>\n",
       "      <td>Hou</td>\n",
       "      <td>630</td>\n",
       "      <td>France</td>\n",
       "      <td>Male</td>\n",
       "      <td>53</td>\n",
       "      <td>5.0</td>\n",
       "      <td>138053.67</td>\n",
       "      <td>1</td>\n",
       "      <td>0</td>\n",
       "      <td>1</td>\n",
       "      <td>114110.97</td>\n",
       "      <td>0</td>\n",
       "    </tr>\n",
       "    <tr>\n",
       "      <th>18</th>\n",
       "      <td>19</td>\n",
       "      <td>15661507</td>\n",
       "      <td>Muldrow</td>\n",
       "      <td>587</td>\n",
       "      <td>Spain</td>\n",
       "      <td>Male</td>\n",
       "      <td>45</td>\n",
       "      <td>6.0</td>\n",
       "      <td>0.00</td>\n",
       "      <td>1</td>\n",
       "      <td>0</td>\n",
       "      <td>0</td>\n",
       "      <td>158684.81</td>\n",
       "      <td>0</td>\n",
       "    </tr>\n",
       "    <tr>\n",
       "      <th>9492</th>\n",
       "      <td>9493</td>\n",
       "      <td>15775192</td>\n",
       "      <td>Rounsevell</td>\n",
       "      <td>732</td>\n",
       "      <td>Germany</td>\n",
       "      <td>Female</td>\n",
       "      <td>48</td>\n",
       "      <td>4.0</td>\n",
       "      <td>102962.62</td>\n",
       "      <td>1</td>\n",
       "      <td>1</td>\n",
       "      <td>0</td>\n",
       "      <td>120852.85</td>\n",
       "      <td>1</td>\n",
       "    </tr>\n",
       "  </tbody>\n",
       "</table>\n",
       "</div>"
      ],
      "text/plain": [
       "      RowNumber  CustomerId        Surname  CreditScore Geography  Gender  \\\n",
       "2261       2262    15681402  Ngozichukwuka          763   Germany  Female   \n",
       "4752       4753    15620111            Fan          659    France    Male   \n",
       "4944       4945    15722072            Hou          630    France    Male   \n",
       "18           19    15661507        Muldrow          587     Spain    Male   \n",
       "9492       9493    15775192     Rounsevell          732   Germany  Female   \n",
       "\n",
       "      Age  Tenure    Balance  NumOfProducts  HasCrCard  IsActiveMember  \\\n",
       "2261   61     1.0   66101.89              1          1               1   \n",
       "4752   54     8.0  133436.52              1          1               0   \n",
       "4944   53     5.0  138053.67              1          0               1   \n",
       "18     45     6.0       0.00              1          0               0   \n",
       "9492   48     4.0  102962.62              1          1               0   \n",
       "\n",
       "      EstimatedSalary  Exited  \n",
       "2261        143981.27       0  \n",
       "4752         56787.80       0  \n",
       "4944        114110.97       0  \n",
       "18          158684.81       0  \n",
       "9492        120852.85       1  "
      ]
     },
     "execution_count": 3,
     "metadata": {},
     "output_type": "execute_result"
    }
   ],
   "source": [
    "df.sample(5)"
   ]
  },
  {
   "cell_type": "code",
   "execution_count": 4,
   "metadata": {
    "scrolled": true
   },
   "outputs": [
    {
     "name": "stdout",
     "output_type": "stream",
     "text": [
      "<class 'pandas.core.frame.DataFrame'>\n",
      "RangeIndex: 10000 entries, 0 to 9999\n",
      "Data columns (total 14 columns):\n",
      " #   Column           Non-Null Count  Dtype  \n",
      "---  ------           --------------  -----  \n",
      " 0   RowNumber        10000 non-null  int64  \n",
      " 1   CustomerId       10000 non-null  int64  \n",
      " 2   Surname          10000 non-null  object \n",
      " 3   CreditScore      10000 non-null  int64  \n",
      " 4   Geography        10000 non-null  object \n",
      " 5   Gender           10000 non-null  object \n",
      " 6   Age              10000 non-null  int64  \n",
      " 7   Tenure           9091 non-null   float64\n",
      " 8   Balance          10000 non-null  float64\n",
      " 9   NumOfProducts    10000 non-null  int64  \n",
      " 10  HasCrCard        10000 non-null  int64  \n",
      " 11  IsActiveMember   10000 non-null  int64  \n",
      " 12  EstimatedSalary  10000 non-null  float64\n",
      " 13  Exited           10000 non-null  int64  \n",
      "dtypes: float64(3), int64(8), object(3)\n",
      "memory usage: 1.1+ MB\n"
     ]
    }
   ],
   "source": [
    "df.info()"
   ]
  },
  {
   "cell_type": "markdown",
   "metadata": {},
   "source": [
    "### Passes"
   ]
  },
  {
   "cell_type": "markdown",
   "metadata": {},
   "source": [
    "There are gaps in the column \"Tenure\", let's see if it is related to somthing."
   ]
  },
  {
   "cell_type": "code",
   "execution_count": 5,
   "metadata": {
    "scrolled": false
   },
   "outputs": [
    {
     "data": {
      "text/html": [
       "<div>\n",
       "<style scoped>\n",
       "    .dataframe tbody tr th:only-of-type {\n",
       "        vertical-align: middle;\n",
       "    }\n",
       "\n",
       "    .dataframe tbody tr th {\n",
       "        vertical-align: top;\n",
       "    }\n",
       "\n",
       "    .dataframe thead th {\n",
       "        text-align: right;\n",
       "    }\n",
       "</style>\n",
       "<table border=\"1\" class=\"dataframe\">\n",
       "  <thead>\n",
       "    <tr style=\"text-align: right;\">\n",
       "      <th></th>\n",
       "      <th>RowNumber</th>\n",
       "      <th>CustomerId</th>\n",
       "      <th>Surname</th>\n",
       "      <th>CreditScore</th>\n",
       "      <th>Geography</th>\n",
       "      <th>Gender</th>\n",
       "      <th>Age</th>\n",
       "      <th>Tenure</th>\n",
       "      <th>Balance</th>\n",
       "      <th>NumOfProducts</th>\n",
       "      <th>HasCrCard</th>\n",
       "      <th>IsActiveMember</th>\n",
       "      <th>EstimatedSalary</th>\n",
       "      <th>Exited</th>\n",
       "    </tr>\n",
       "  </thead>\n",
       "  <tbody>\n",
       "    <tr>\n",
       "      <th>30</th>\n",
       "      <td>31</td>\n",
       "      <td>15589475</td>\n",
       "      <td>Azikiwe</td>\n",
       "      <td>591</td>\n",
       "      <td>Spain</td>\n",
       "      <td>Female</td>\n",
       "      <td>39</td>\n",
       "      <td>NaN</td>\n",
       "      <td>0.00</td>\n",
       "      <td>3</td>\n",
       "      <td>1</td>\n",
       "      <td>0</td>\n",
       "      <td>140469.38</td>\n",
       "      <td>1</td>\n",
       "    </tr>\n",
       "    <tr>\n",
       "      <th>48</th>\n",
       "      <td>49</td>\n",
       "      <td>15766205</td>\n",
       "      <td>Yin</td>\n",
       "      <td>550</td>\n",
       "      <td>Germany</td>\n",
       "      <td>Male</td>\n",
       "      <td>38</td>\n",
       "      <td>NaN</td>\n",
       "      <td>103391.38</td>\n",
       "      <td>1</td>\n",
       "      <td>0</td>\n",
       "      <td>1</td>\n",
       "      <td>90878.13</td>\n",
       "      <td>0</td>\n",
       "    </tr>\n",
       "    <tr>\n",
       "      <th>51</th>\n",
       "      <td>52</td>\n",
       "      <td>15768193</td>\n",
       "      <td>Trevisani</td>\n",
       "      <td>585</td>\n",
       "      <td>Germany</td>\n",
       "      <td>Male</td>\n",
       "      <td>36</td>\n",
       "      <td>NaN</td>\n",
       "      <td>146050.97</td>\n",
       "      <td>2</td>\n",
       "      <td>0</td>\n",
       "      <td>0</td>\n",
       "      <td>86424.57</td>\n",
       "      <td>0</td>\n",
       "    </tr>\n",
       "    <tr>\n",
       "      <th>53</th>\n",
       "      <td>54</td>\n",
       "      <td>15702298</td>\n",
       "      <td>Parkhill</td>\n",
       "      <td>655</td>\n",
       "      <td>Germany</td>\n",
       "      <td>Male</td>\n",
       "      <td>41</td>\n",
       "      <td>NaN</td>\n",
       "      <td>125561.97</td>\n",
       "      <td>1</td>\n",
       "      <td>0</td>\n",
       "      <td>0</td>\n",
       "      <td>164040.94</td>\n",
       "      <td>1</td>\n",
       "    </tr>\n",
       "    <tr>\n",
       "      <th>60</th>\n",
       "      <td>61</td>\n",
       "      <td>15651280</td>\n",
       "      <td>Hunter</td>\n",
       "      <td>742</td>\n",
       "      <td>Germany</td>\n",
       "      <td>Male</td>\n",
       "      <td>35</td>\n",
       "      <td>NaN</td>\n",
       "      <td>136857.00</td>\n",
       "      <td>1</td>\n",
       "      <td>0</td>\n",
       "      <td>0</td>\n",
       "      <td>84509.57</td>\n",
       "      <td>0</td>\n",
       "    </tr>\n",
       "    <tr>\n",
       "      <th>...</th>\n",
       "      <td>...</td>\n",
       "      <td>...</td>\n",
       "      <td>...</td>\n",
       "      <td>...</td>\n",
       "      <td>...</td>\n",
       "      <td>...</td>\n",
       "      <td>...</td>\n",
       "      <td>...</td>\n",
       "      <td>...</td>\n",
       "      <td>...</td>\n",
       "      <td>...</td>\n",
       "      <td>...</td>\n",
       "      <td>...</td>\n",
       "      <td>...</td>\n",
       "    </tr>\n",
       "    <tr>\n",
       "      <th>9944</th>\n",
       "      <td>9945</td>\n",
       "      <td>15703923</td>\n",
       "      <td>Cameron</td>\n",
       "      <td>744</td>\n",
       "      <td>Germany</td>\n",
       "      <td>Male</td>\n",
       "      <td>41</td>\n",
       "      <td>NaN</td>\n",
       "      <td>190409.34</td>\n",
       "      <td>2</td>\n",
       "      <td>1</td>\n",
       "      <td>1</td>\n",
       "      <td>138361.48</td>\n",
       "      <td>0</td>\n",
       "    </tr>\n",
       "    <tr>\n",
       "      <th>9956</th>\n",
       "      <td>9957</td>\n",
       "      <td>15707861</td>\n",
       "      <td>Nucci</td>\n",
       "      <td>520</td>\n",
       "      <td>France</td>\n",
       "      <td>Female</td>\n",
       "      <td>46</td>\n",
       "      <td>NaN</td>\n",
       "      <td>85216.61</td>\n",
       "      <td>1</td>\n",
       "      <td>1</td>\n",
       "      <td>0</td>\n",
       "      <td>117369.52</td>\n",
       "      <td>1</td>\n",
       "    </tr>\n",
       "    <tr>\n",
       "      <th>9964</th>\n",
       "      <td>9965</td>\n",
       "      <td>15642785</td>\n",
       "      <td>Douglas</td>\n",
       "      <td>479</td>\n",
       "      <td>France</td>\n",
       "      <td>Male</td>\n",
       "      <td>34</td>\n",
       "      <td>NaN</td>\n",
       "      <td>117593.48</td>\n",
       "      <td>2</td>\n",
       "      <td>0</td>\n",
       "      <td>0</td>\n",
       "      <td>113308.29</td>\n",
       "      <td>0</td>\n",
       "    </tr>\n",
       "    <tr>\n",
       "      <th>9985</th>\n",
       "      <td>9986</td>\n",
       "      <td>15586914</td>\n",
       "      <td>Nepean</td>\n",
       "      <td>659</td>\n",
       "      <td>France</td>\n",
       "      <td>Male</td>\n",
       "      <td>36</td>\n",
       "      <td>NaN</td>\n",
       "      <td>123841.49</td>\n",
       "      <td>2</td>\n",
       "      <td>1</td>\n",
       "      <td>0</td>\n",
       "      <td>96833.00</td>\n",
       "      <td>0</td>\n",
       "    </tr>\n",
       "    <tr>\n",
       "      <th>9999</th>\n",
       "      <td>10000</td>\n",
       "      <td>15628319</td>\n",
       "      <td>Walker</td>\n",
       "      <td>792</td>\n",
       "      <td>France</td>\n",
       "      <td>Female</td>\n",
       "      <td>28</td>\n",
       "      <td>NaN</td>\n",
       "      <td>130142.79</td>\n",
       "      <td>1</td>\n",
       "      <td>1</td>\n",
       "      <td>0</td>\n",
       "      <td>38190.78</td>\n",
       "      <td>0</td>\n",
       "    </tr>\n",
       "  </tbody>\n",
       "</table>\n",
       "<p>909 rows × 14 columns</p>\n",
       "</div>"
      ],
      "text/plain": [
       "      RowNumber  CustomerId    Surname  CreditScore Geography  Gender  Age  \\\n",
       "30           31    15589475    Azikiwe          591     Spain  Female   39   \n",
       "48           49    15766205        Yin          550   Germany    Male   38   \n",
       "51           52    15768193  Trevisani          585   Germany    Male   36   \n",
       "53           54    15702298   Parkhill          655   Germany    Male   41   \n",
       "60           61    15651280     Hunter          742   Germany    Male   35   \n",
       "...         ...         ...        ...          ...       ...     ...  ...   \n",
       "9944       9945    15703923    Cameron          744   Germany    Male   41   \n",
       "9956       9957    15707861      Nucci          520    France  Female   46   \n",
       "9964       9965    15642785    Douglas          479    France    Male   34   \n",
       "9985       9986    15586914     Nepean          659    France    Male   36   \n",
       "9999      10000    15628319     Walker          792    France  Female   28   \n",
       "\n",
       "      Tenure    Balance  NumOfProducts  HasCrCard  IsActiveMember  \\\n",
       "30       NaN       0.00              3          1               0   \n",
       "48       NaN  103391.38              1          0               1   \n",
       "51       NaN  146050.97              2          0               0   \n",
       "53       NaN  125561.97              1          0               0   \n",
       "60       NaN  136857.00              1          0               0   \n",
       "...      ...        ...            ...        ...             ...   \n",
       "9944     NaN  190409.34              2          1               1   \n",
       "9956     NaN   85216.61              1          1               0   \n",
       "9964     NaN  117593.48              2          0               0   \n",
       "9985     NaN  123841.49              2          1               0   \n",
       "9999     NaN  130142.79              1          1               0   \n",
       "\n",
       "      EstimatedSalary  Exited  \n",
       "30          140469.38       1  \n",
       "48           90878.13       0  \n",
       "51           86424.57       0  \n",
       "53          164040.94       1  \n",
       "60           84509.57       0  \n",
       "...               ...     ...  \n",
       "9944        138361.48       0  \n",
       "9956        117369.52       1  \n",
       "9964        113308.29       0  \n",
       "9985         96833.00       0  \n",
       "9999         38190.78       0  \n",
       "\n",
       "[909 rows x 14 columns]"
      ]
     },
     "execution_count": 5,
     "metadata": {},
     "output_type": "execute_result"
    }
   ],
   "source": [
    "df.loc[df[\"Tenure\"].isna()] "
   ]
  },
  {
   "cell_type": "markdown",
   "metadata": {},
   "source": [
    "As you can see, this omission is most likely a technical error and has nothing to do with the rest of the data. It is not possible to restore this column, and filling it with an average or some other value can be critical for the model, so we will simply cut off the row data."
   ]
  },
  {
   "cell_type": "code",
   "execution_count": 6,
   "metadata": {},
   "outputs": [],
   "source": [
    "df = df.loc[df[\"Tenure\"].notna()]"
   ]
  },
  {
   "cell_type": "code",
   "execution_count": 7,
   "metadata": {
    "scrolled": true
   },
   "outputs": [
    {
     "name": "stdout",
     "output_type": "stream",
     "text": [
      "<class 'pandas.core.frame.DataFrame'>\n",
      "Int64Index: 9091 entries, 0 to 9998\n",
      "Data columns (total 14 columns):\n",
      " #   Column           Non-Null Count  Dtype  \n",
      "---  ------           --------------  -----  \n",
      " 0   RowNumber        9091 non-null   int64  \n",
      " 1   CustomerId       9091 non-null   int64  \n",
      " 2   Surname          9091 non-null   object \n",
      " 3   CreditScore      9091 non-null   int64  \n",
      " 4   Geography        9091 non-null   object \n",
      " 5   Gender           9091 non-null   object \n",
      " 6   Age              9091 non-null   int64  \n",
      " 7   Tenure           9091 non-null   float64\n",
      " 8   Balance          9091 non-null   float64\n",
      " 9   NumOfProducts    9091 non-null   int64  \n",
      " 10  HasCrCard        9091 non-null   int64  \n",
      " 11  IsActiveMember   9091 non-null   int64  \n",
      " 12  EstimatedSalary  9091 non-null   float64\n",
      " 13  Exited           9091 non-null   int64  \n",
      "dtypes: float64(3), int64(8), object(3)\n",
      "memory usage: 1.0+ MB\n"
     ]
    }
   ],
   "source": [
    "df.info()"
   ]
  },
  {
   "cell_type": "markdown",
   "metadata": {},
   "source": [
    "### Required data"
   ]
  },
  {
   "cell_type": "markdown",
   "metadata": {},
   "source": [
    "Now for further work, you need to leave the desired columns for the model: \n",
    "- CreditScore\n",
    "- Geography\n",
    "- Gender\n",
    "- Age\n",
    "- Tenure\n",
    "- Balance\n",
    "- NumOfProducts\n",
    "- HasCrCard\n",
    "- IsActiveMember\n",
    "- EstimatedSalary\n",
    "- Exited"
   ]
  },
  {
   "cell_type": "markdown",
   "metadata": {},
   "source": [
    "It seems that this information may influence the choice of the client. "
   ]
  },
  {
   "cell_type": "code",
   "execution_count": 8,
   "metadata": {},
   "outputs": [],
   "source": [
    "df_train = df[[\"CreditScore\",\n",
    "              \"Geography\",\n",
    "              \"Gender\",\n",
    "              \"Age\",\n",
    "              \"Tenure\",\n",
    "              \"Balance\",\n",
    "              \"NumOfProducts\",\n",
    "              \"HasCrCard\",\n",
    "              \"IsActiveMember\",\n",
    "              \"EstimatedSalary\",\n",
    "              \"Exited\"]]"
   ]
  },
  {
   "cell_type": "code",
   "execution_count": 9,
   "metadata": {},
   "outputs": [
    {
     "data": {
      "text/html": [
       "<div>\n",
       "<style scoped>\n",
       "    .dataframe tbody tr th:only-of-type {\n",
       "        vertical-align: middle;\n",
       "    }\n",
       "\n",
       "    .dataframe tbody tr th {\n",
       "        vertical-align: top;\n",
       "    }\n",
       "\n",
       "    .dataframe thead th {\n",
       "        text-align: right;\n",
       "    }\n",
       "</style>\n",
       "<table border=\"1\" class=\"dataframe\">\n",
       "  <thead>\n",
       "    <tr style=\"text-align: right;\">\n",
       "      <th></th>\n",
       "      <th>CreditScore</th>\n",
       "      <th>Geography</th>\n",
       "      <th>Gender</th>\n",
       "      <th>Age</th>\n",
       "      <th>Tenure</th>\n",
       "      <th>Balance</th>\n",
       "      <th>NumOfProducts</th>\n",
       "      <th>HasCrCard</th>\n",
       "      <th>IsActiveMember</th>\n",
       "      <th>EstimatedSalary</th>\n",
       "      <th>Exited</th>\n",
       "    </tr>\n",
       "  </thead>\n",
       "  <tbody>\n",
       "    <tr>\n",
       "      <th>2427</th>\n",
       "      <td>798</td>\n",
       "      <td>Germany</td>\n",
       "      <td>Female</td>\n",
       "      <td>49</td>\n",
       "      <td>5.0</td>\n",
       "      <td>132571.67</td>\n",
       "      <td>1</td>\n",
       "      <td>1</td>\n",
       "      <td>1</td>\n",
       "      <td>31686.33</td>\n",
       "      <td>1</td>\n",
       "    </tr>\n",
       "  </tbody>\n",
       "</table>\n",
       "</div>"
      ],
      "text/plain": [
       "      CreditScore Geography  Gender  Age  Tenure    Balance  NumOfProducts  \\\n",
       "2427          798   Germany  Female   49     5.0  132571.67              1   \n",
       "\n",
       "      HasCrCard  IsActiveMember  EstimatedSalary  Exited  \n",
       "2427          1               1         31686.33       1  "
      ]
     },
     "execution_count": 9,
     "metadata": {},
     "output_type": "execute_result"
    }
   ],
   "source": [
    "df_train.sample()"
   ]
  },
  {
   "cell_type": "markdown",
   "metadata": {},
   "source": [
    "### Scaling and Encoding"
   ]
  },
  {
   "cell_type": "markdown",
   "metadata": {},
   "source": [
    "Now you need to bring all the numerical metrics under one scale, and categorical ones into numerical ones."
   ]
  },
  {
   "cell_type": "code",
   "execution_count": 10,
   "metadata": {},
   "outputs": [],
   "source": [
    "df_train = pd.get_dummies(df_train, drop_first= True)"
   ]
  },
  {
   "cell_type": "code",
   "execution_count": 11,
   "metadata": {},
   "outputs": [
    {
     "data": {
      "text/html": [
       "<div>\n",
       "<style scoped>\n",
       "    .dataframe tbody tr th:only-of-type {\n",
       "        vertical-align: middle;\n",
       "    }\n",
       "\n",
       "    .dataframe tbody tr th {\n",
       "        vertical-align: top;\n",
       "    }\n",
       "\n",
       "    .dataframe thead th {\n",
       "        text-align: right;\n",
       "    }\n",
       "</style>\n",
       "<table border=\"1\" class=\"dataframe\">\n",
       "  <thead>\n",
       "    <tr style=\"text-align: right;\">\n",
       "      <th></th>\n",
       "      <th>CreditScore</th>\n",
       "      <th>Age</th>\n",
       "      <th>Tenure</th>\n",
       "      <th>Balance</th>\n",
       "      <th>NumOfProducts</th>\n",
       "      <th>HasCrCard</th>\n",
       "      <th>IsActiveMember</th>\n",
       "      <th>EstimatedSalary</th>\n",
       "      <th>Exited</th>\n",
       "      <th>Geography_Germany</th>\n",
       "      <th>Geography_Spain</th>\n",
       "      <th>Gender_Male</th>\n",
       "    </tr>\n",
       "  </thead>\n",
       "  <tbody>\n",
       "    <tr>\n",
       "      <th>1003</th>\n",
       "      <td>646</td>\n",
       "      <td>42</td>\n",
       "      <td>3.0</td>\n",
       "      <td>175159.9</td>\n",
       "      <td>2</td>\n",
       "      <td>0</td>\n",
       "      <td>0</td>\n",
       "      <td>67124.48</td>\n",
       "      <td>1</td>\n",
       "      <td>0</td>\n",
       "      <td>0</td>\n",
       "      <td>0</td>\n",
       "    </tr>\n",
       "  </tbody>\n",
       "</table>\n",
       "</div>"
      ],
      "text/plain": [
       "      CreditScore  Age  Tenure   Balance  NumOfProducts  HasCrCard  \\\n",
       "1003          646   42     3.0  175159.9              2          0   \n",
       "\n",
       "      IsActiveMember  EstimatedSalary  Exited  Geography_Germany  \\\n",
       "1003               0         67124.48       1                  0   \n",
       "\n",
       "      Geography_Spain  Gender_Male  \n",
       "1003                0            0  "
      ]
     },
     "execution_count": 11,
     "metadata": {},
     "output_type": "execute_result"
    }
   ],
   "source": [
    "df_train.sample()"
   ]
  },
  {
   "cell_type": "markdown",
   "metadata": {},
   "source": [
    "Categorical metrics have been translated, now let's deal with numerical ones."
   ]
  },
  {
   "cell_type": "code",
   "execution_count": 12,
   "metadata": {},
   "outputs": [
    {
     "data": {
      "text/html": [
       "<div>\n",
       "<style scoped>\n",
       "    .dataframe tbody tr th:only-of-type {\n",
       "        vertical-align: middle;\n",
       "    }\n",
       "\n",
       "    .dataframe tbody tr th {\n",
       "        vertical-align: top;\n",
       "    }\n",
       "\n",
       "    .dataframe thead th {\n",
       "        text-align: right;\n",
       "    }\n",
       "</style>\n",
       "<table border=\"1\" class=\"dataframe\">\n",
       "  <thead>\n",
       "    <tr style=\"text-align: right;\">\n",
       "      <th></th>\n",
       "      <th>CreditScore</th>\n",
       "      <th>Age</th>\n",
       "      <th>Tenure</th>\n",
       "      <th>Balance</th>\n",
       "      <th>NumOfProducts</th>\n",
       "      <th>HasCrCard</th>\n",
       "      <th>IsActiveMember</th>\n",
       "      <th>EstimatedSalary</th>\n",
       "      <th>Exited</th>\n",
       "      <th>Geography_Germany</th>\n",
       "      <th>Geography_Spain</th>\n",
       "      <th>Gender_Male</th>\n",
       "    </tr>\n",
       "  </thead>\n",
       "  <tbody>\n",
       "    <tr>\n",
       "      <th>1730</th>\n",
       "      <td>2.066937</td>\n",
       "      <td>-1.79528</td>\n",
       "      <td>0.691748</td>\n",
       "      <td>-1.22778</td>\n",
       "      <td>0.808655</td>\n",
       "      <td>1</td>\n",
       "      <td>0</td>\n",
       "      <td>-1.195601</td>\n",
       "      <td>0</td>\n",
       "      <td>0</td>\n",
       "      <td>0</td>\n",
       "      <td>1</td>\n",
       "    </tr>\n",
       "  </tbody>\n",
       "</table>\n",
       "</div>"
      ],
      "text/plain": [
       "      CreditScore      Age    Tenure  Balance  NumOfProducts  HasCrCard  \\\n",
       "1730     2.066937 -1.79528  0.691748 -1.22778       0.808655          1   \n",
       "\n",
       "      IsActiveMember  EstimatedSalary  Exited  Geography_Germany  \\\n",
       "1730               0        -1.195601       0                  0   \n",
       "\n",
       "      Geography_Spain  Gender_Male  \n",
       "1730                0            1  "
      ]
     },
     "execution_count": 12,
     "metadata": {},
     "output_type": "execute_result"
    }
   ],
   "source": [
    "column = [\"CreditScore\",\"Tenure\", \"Age\", \"Balance\", \"NumOfProducts\", \"EstimatedSalary\"]\n",
    "scaler = StandardScaler().fit(df_train[column])\n",
    "df_train[column] = scaler.transform(df_train[column])\n",
    "df_train.sample()"
   ]
  },
  {
   "cell_type": "markdown",
   "metadata": {},
   "source": [
    "Now the data is ready for further work."
   ]
  },
  {
   "cell_type": "markdown",
   "metadata": {},
   "source": [
    "### Сonclusion"
   ]
  },
  {
   "cell_type": "markdown",
   "metadata": {},
   "source": [
    "Completely pre-processed the data for further dividing it into samples and training models."
   ]
  },
  {
   "cell_type": "markdown",
   "metadata": {},
   "source": [
    "## Problem research"
   ]
  },
  {
   "cell_type": "markdown",
   "metadata": {},
   "source": [
    "We divide the samples into training and test. Validation is not needed, as we will use GridSearchCV there is cross-validation."
   ]
  },
  {
   "cell_type": "code",
   "execution_count": 13,
   "metadata": {},
   "outputs": [],
   "source": [
    "train, test = train_test_split(df_train, test_size=.25, random_state=46812)"
   ]
  },
  {
   "cell_type": "code",
   "execution_count": 14,
   "metadata": {},
   "outputs": [
    {
     "name": "stdout",
     "output_type": "stream",
     "text": [
      "<class 'pandas.core.frame.DataFrame'>\n",
      "Int64Index: 6818 entries, 382 to 6261\n",
      "Data columns (total 12 columns):\n",
      " #   Column             Non-Null Count  Dtype  \n",
      "---  ------             --------------  -----  \n",
      " 0   CreditScore        6818 non-null   float64\n",
      " 1   Age                6818 non-null   float64\n",
      " 2   Tenure             6818 non-null   float64\n",
      " 3   Balance            6818 non-null   float64\n",
      " 4   NumOfProducts      6818 non-null   float64\n",
      " 5   HasCrCard          6818 non-null   int64  \n",
      " 6   IsActiveMember     6818 non-null   int64  \n",
      " 7   EstimatedSalary    6818 non-null   float64\n",
      " 8   Exited             6818 non-null   int64  \n",
      " 9   Geography_Germany  6818 non-null   uint8  \n",
      " 10  Geography_Spain    6818 non-null   uint8  \n",
      " 11  Gender_Male        6818 non-null   uint8  \n",
      "dtypes: float64(6), int64(3), uint8(3)\n",
      "memory usage: 552.6 KB\n"
     ]
    },
    {
     "data": {
      "text/plain": [
       "None"
      ]
     },
     "metadata": {},
     "output_type": "display_data"
    },
    {
     "data": {
      "text/html": [
       "<div>\n",
       "<style scoped>\n",
       "    .dataframe tbody tr th:only-of-type {\n",
       "        vertical-align: middle;\n",
       "    }\n",
       "\n",
       "    .dataframe tbody tr th {\n",
       "        vertical-align: top;\n",
       "    }\n",
       "\n",
       "    .dataframe thead th {\n",
       "        text-align: right;\n",
       "    }\n",
       "</style>\n",
       "<table border=\"1\" class=\"dataframe\">\n",
       "  <thead>\n",
       "    <tr style=\"text-align: right;\">\n",
       "      <th></th>\n",
       "      <th>CreditScore</th>\n",
       "      <th>Age</th>\n",
       "      <th>Tenure</th>\n",
       "      <th>Balance</th>\n",
       "      <th>NumOfProducts</th>\n",
       "      <th>HasCrCard</th>\n",
       "      <th>IsActiveMember</th>\n",
       "      <th>EstimatedSalary</th>\n",
       "      <th>Exited</th>\n",
       "      <th>Geography_Germany</th>\n",
       "      <th>Geography_Spain</th>\n",
       "      <th>Gender_Male</th>\n",
       "    </tr>\n",
       "  </thead>\n",
       "  <tbody>\n",
       "    <tr>\n",
       "      <th>812</th>\n",
       "      <td>-1.397607</td>\n",
       "      <td>-0.563636</td>\n",
       "      <td>-0.690152</td>\n",
       "      <td>-1.227780</td>\n",
       "      <td>0.808655</td>\n",
       "      <td>1</td>\n",
       "      <td>1</td>\n",
       "      <td>-0.720140</td>\n",
       "      <td>0</td>\n",
       "      <td>0</td>\n",
       "      <td>1</td>\n",
       "      <td>0</td>\n",
       "    </tr>\n",
       "    <tr>\n",
       "      <th>6430</th>\n",
       "      <td>0.282801</td>\n",
       "      <td>0.099557</td>\n",
       "      <td>-0.690152</td>\n",
       "      <td>0.832326</td>\n",
       "      <td>-0.912601</td>\n",
       "      <td>1</td>\n",
       "      <td>0</td>\n",
       "      <td>1.188393</td>\n",
       "      <td>0</td>\n",
       "      <td>0</td>\n",
       "      <td>1</td>\n",
       "      <td>0</td>\n",
       "    </tr>\n",
       "    <tr>\n",
       "      <th>9332</th>\n",
       "      <td>0.614733</td>\n",
       "      <td>2.183877</td>\n",
       "      <td>1.382699</td>\n",
       "      <td>1.150266</td>\n",
       "      <td>-0.912601</td>\n",
       "      <td>1</td>\n",
       "      <td>0</td>\n",
       "      <td>-0.895673</td>\n",
       "      <td>1</td>\n",
       "      <td>1</td>\n",
       "      <td>0</td>\n",
       "      <td>0</td>\n",
       "    </tr>\n",
       "  </tbody>\n",
       "</table>\n",
       "</div>"
      ],
      "text/plain": [
       "      CreditScore       Age    Tenure   Balance  NumOfProducts  HasCrCard  \\\n",
       "812     -1.397607 -0.563636 -0.690152 -1.227780       0.808655          1   \n",
       "6430     0.282801  0.099557 -0.690152  0.832326      -0.912601          1   \n",
       "9332     0.614733  2.183877  1.382699  1.150266      -0.912601          1   \n",
       "\n",
       "      IsActiveMember  EstimatedSalary  Exited  Geography_Germany  \\\n",
       "812                1        -0.720140       0                  0   \n",
       "6430               0         1.188393       0                  0   \n",
       "9332               0        -0.895673       1                  1   \n",
       "\n",
       "      Geography_Spain  Gender_Male  \n",
       "812                 1            0  \n",
       "6430                1            0  \n",
       "9332                0            0  "
      ]
     },
     "execution_count": 14,
     "metadata": {},
     "output_type": "execute_result"
    }
   ],
   "source": [
    "display(train.info())\n",
    "train.sample(3)"
   ]
  },
  {
   "cell_type": "code",
   "execution_count": 15,
   "metadata": {},
   "outputs": [
    {
     "name": "stdout",
     "output_type": "stream",
     "text": [
      "<class 'pandas.core.frame.DataFrame'>\n",
      "Int64Index: 2273 entries, 3433 to 5742\n",
      "Data columns (total 12 columns):\n",
      " #   Column             Non-Null Count  Dtype  \n",
      "---  ------             --------------  -----  \n",
      " 0   CreditScore        2273 non-null   float64\n",
      " 1   Age                2273 non-null   float64\n",
      " 2   Tenure             2273 non-null   float64\n",
      " 3   Balance            2273 non-null   float64\n",
      " 4   NumOfProducts      2273 non-null   float64\n",
      " 5   HasCrCard          2273 non-null   int64  \n",
      " 6   IsActiveMember     2273 non-null   int64  \n",
      " 7   EstimatedSalary    2273 non-null   float64\n",
      " 8   Exited             2273 non-null   int64  \n",
      " 9   Geography_Germany  2273 non-null   uint8  \n",
      " 10  Geography_Spain    2273 non-null   uint8  \n",
      " 11  Gender_Male        2273 non-null   uint8  \n",
      "dtypes: float64(6), int64(3), uint8(3)\n",
      "memory usage: 184.2 KB\n"
     ]
    },
    {
     "data": {
      "text/plain": [
       "None"
      ]
     },
     "metadata": {},
     "output_type": "display_data"
    },
    {
     "data": {
      "text/html": [
       "<div>\n",
       "<style scoped>\n",
       "    .dataframe tbody tr th:only-of-type {\n",
       "        vertical-align: middle;\n",
       "    }\n",
       "\n",
       "    .dataframe tbody tr th {\n",
       "        vertical-align: top;\n",
       "    }\n",
       "\n",
       "    .dataframe thead th {\n",
       "        text-align: right;\n",
       "    }\n",
       "</style>\n",
       "<table border=\"1\" class=\"dataframe\">\n",
       "  <thead>\n",
       "    <tr style=\"text-align: right;\">\n",
       "      <th></th>\n",
       "      <th>CreditScore</th>\n",
       "      <th>Age</th>\n",
       "      <th>Tenure</th>\n",
       "      <th>Balance</th>\n",
       "      <th>NumOfProducts</th>\n",
       "      <th>HasCrCard</th>\n",
       "      <th>IsActiveMember</th>\n",
       "      <th>EstimatedSalary</th>\n",
       "      <th>Exited</th>\n",
       "      <th>Geography_Germany</th>\n",
       "      <th>Geography_Spain</th>\n",
       "      <th>Gender_Male</th>\n",
       "    </tr>\n",
       "  </thead>\n",
       "  <tbody>\n",
       "    <tr>\n",
       "      <th>2741</th>\n",
       "      <td>-1.200522</td>\n",
       "      <td>-0.089927</td>\n",
       "      <td>1.037224</td>\n",
       "      <td>-1.227780</td>\n",
       "      <td>0.808655</td>\n",
       "      <td>1</td>\n",
       "      <td>0</td>\n",
       "      <td>0.632392</td>\n",
       "      <td>0</td>\n",
       "      <td>0</td>\n",
       "      <td>0</td>\n",
       "      <td>0</td>\n",
       "    </tr>\n",
       "    <tr>\n",
       "      <th>6724</th>\n",
       "      <td>1.050394</td>\n",
       "      <td>0.194298</td>\n",
       "      <td>1.037224</td>\n",
       "      <td>-1.227780</td>\n",
       "      <td>0.808655</td>\n",
       "      <td>1</td>\n",
       "      <td>0</td>\n",
       "      <td>0.688333</td>\n",
       "      <td>1</td>\n",
       "      <td>0</td>\n",
       "      <td>0</td>\n",
       "      <td>0</td>\n",
       "    </tr>\n",
       "    <tr>\n",
       "      <th>2221</th>\n",
       "      <td>1.205988</td>\n",
       "      <td>-0.374153</td>\n",
       "      <td>0.346273</td>\n",
       "      <td>0.894176</td>\n",
       "      <td>-0.912601</td>\n",
       "      <td>1</td>\n",
       "      <td>0</td>\n",
       "      <td>0.267007</td>\n",
       "      <td>1</td>\n",
       "      <td>1</td>\n",
       "      <td>0</td>\n",
       "      <td>0</td>\n",
       "    </tr>\n",
       "  </tbody>\n",
       "</table>\n",
       "</div>"
      ],
      "text/plain": [
       "      CreditScore       Age    Tenure   Balance  NumOfProducts  HasCrCard  \\\n",
       "2741    -1.200522 -0.089927  1.037224 -1.227780       0.808655          1   \n",
       "6724     1.050394  0.194298  1.037224 -1.227780       0.808655          1   \n",
       "2221     1.205988 -0.374153  0.346273  0.894176      -0.912601          1   \n",
       "\n",
       "      IsActiveMember  EstimatedSalary  Exited  Geography_Germany  \\\n",
       "2741               0         0.632392       0                  0   \n",
       "6724               0         0.688333       1                  0   \n",
       "2221               0         0.267007       1                  1   \n",
       "\n",
       "      Geography_Spain  Gender_Male  \n",
       "2741                0            0  \n",
       "6724                0            0  \n",
       "2221                0            0  "
      ]
     },
     "execution_count": 15,
     "metadata": {},
     "output_type": "execute_result"
    }
   ],
   "source": [
    "display(test.info())\n",
    "test.sample(3)"
   ]
  },
  {
   "cell_type": "markdown",
   "metadata": {},
   "source": [
    "We got two samples, now we need to separate the answers from the features."
   ]
  },
  {
   "cell_type": "code",
   "execution_count": 16,
   "metadata": {},
   "outputs": [],
   "source": [
    "train_features = train.drop([\"Exited\"], axis= 1)\n",
    "train_answers = train[\"Exited\"]\n",
    "test_features = test.drop([\"Exited\"], axis= 1)\n",
    "test_answers = test[\"Exited\"]"
   ]
  },
  {
   "cell_type": "markdown",
   "metadata": {},
   "source": [
    "Now you can train the model."
   ]
  },
  {
   "cell_type": "code",
   "execution_count": 17,
   "metadata": {},
   "outputs": [
    {
     "name": "stdout",
     "output_type": "stream",
     "text": [
      "CPU times: total: 1min 59s\n",
      "Wall time: 1min 59s\n"
     ]
    },
    {
     "data": {
      "text/plain": [
       "{'max_depth': 13,\n",
       " 'min_samples_leaf': 6,\n",
       " 'min_samples_split': 2,\n",
       " 'n_estimators': 100}"
      ]
     },
     "execution_count": 17,
     "metadata": {},
     "output_type": "execute_result"
    }
   ],
   "source": [
    "%%time\n",
    "parametrs = { 'max_depth': range (5,15, 2),\n",
    "              'min_samples_leaf': range (5,8),\n",
    "              'min_samples_split': range (2,10,2),\n",
    "              'n_estimators' : [100]}\n",
    "model_forest = GridSearchCV(RandomForestClassifier(random_state=46812), parametrs)\n",
    "model_forest.fit(train_features, train_answers)\n",
    "model_forest.best_params_"
   ]
  },
  {
   "cell_type": "code",
   "execution_count": 18,
   "metadata": {},
   "outputs": [
    {
     "data": {
      "text/plain": [
       "0.8621316829574232"
      ]
     },
     "execution_count": 18,
     "metadata": {},
     "output_type": "execute_result"
    }
   ],
   "source": [
    "model_forest.best_score_"
   ]
  },
  {
   "cell_type": "markdown",
   "metadata": {},
   "source": [
    "There is a model that predicts the result in 86% of cases, a fairly good indicator. Now we need to evaluate its quality."
   ]
  },
  {
   "cell_type": "code",
   "execution_count": 19,
   "metadata": {},
   "outputs": [
    {
     "data": {
      "text/plain": [
       "0.550932568149211"
      ]
     },
     "execution_count": 19,
     "metadata": {},
     "output_type": "execute_result"
    }
   ],
   "source": [
    "f1_score(test_answers, model_forest.predict(test_features))"
   ]
  },
  {
   "cell_type": "markdown",
   "metadata": {},
   "source": [
    "F1 metric showed 0.55 result, to put it mildly, it's not really necessary to understand what's going on."
   ]
  },
  {
   "cell_type": "code",
   "execution_count": 20,
   "metadata": {},
   "outputs": [
    {
     "data": {
      "text/plain": [
       "0    7237\n",
       "1    1854\n",
       "Name: Exited, dtype: int64"
      ]
     },
     "execution_count": 20,
     "metadata": {},
     "output_type": "execute_result"
    }
   ],
   "source": [
    "df_train[\"Exited\"].value_counts()"
   ]
  },
  {
   "cell_type": "markdown",
   "metadata": {},
   "source": [
    "Big class imbalance. 0s are almost 4 times more than 1s."
   ]
  },
  {
   "cell_type": "markdown",
   "metadata": {},
   "source": [
    "### Conclusion"
   ]
  },
  {
   "cell_type": "markdown",
   "metadata": {},
   "source": [
    "The data is out of balance and needs to be fixed."
   ]
  },
  {
   "cell_type": "markdown",
   "metadata": {},
   "source": [
    "## Correction of imbalance"
   ]
  },
  {
   "cell_type": "markdown",
   "metadata": {},
   "source": [
    "The easiest way is to use the `class_weight='balanced'` argument, let's see what we can get with it."
   ]
  },
  {
   "cell_type": "code",
   "execution_count": 21,
   "metadata": {},
   "outputs": [
    {
     "name": "stdout",
     "output_type": "stream",
     "text": [
      "CPU times: total: 1min 59s\n",
      "Wall time: 2min\n"
     ]
    },
    {
     "data": {
      "text/plain": [
       "{'max_depth': 13,\n",
       " 'min_samples_leaf': 5,\n",
       " 'min_samples_split': 2,\n",
       " 'n_estimators': 100}"
      ]
     },
     "execution_count": 21,
     "metadata": {},
     "output_type": "execute_result"
    }
   ],
   "source": [
    "%%time\n",
    "parametrs = { 'max_depth': range (5,15, 2),\n",
    "              'min_samples_leaf': range (5,8),\n",
    "              'min_samples_split': range (2,10,2),\n",
    "              'n_estimators' : [100]}\n",
    "model_forest = GridSearchCV(RandomForestClassifier(random_state=46812, class_weight='balanced'), parametrs)\n",
    "model_forest.fit(train_features, train_answers)\n",
    "model_forest.best_params_"
   ]
  },
  {
   "cell_type": "code",
   "execution_count": 22,
   "metadata": {},
   "outputs": [
    {
     "data": {
      "text/plain": [
       "0.8427700668914311"
      ]
     },
     "execution_count": 22,
     "metadata": {},
     "output_type": "execute_result"
    }
   ],
   "source": [
    "model_forest.best_score_"
   ]
  },
  {
   "cell_type": "code",
   "execution_count": 23,
   "metadata": {
    "scrolled": true
   },
   "outputs": [
    {
     "data": {
      "image/png": "[encoded data removed]",
      "text/plain": [
       "<Figure size 432x288 with 1 Axes>"
      ]
     },
     "metadata": {
      "needs_background": "light"
     },
     "output_type": "display_data"
    },
    {
     "data": {
      "text/plain": [
       "0.8712209570740574"
      ]
     },
     "execution_count": 23,
     "metadata": {},
     "output_type": "execute_result"
    }
   ],
   "source": [
    "probabilities_valid = model_forest.predict_proba(test_features)\n",
    "probabilities_one_valid = probabilities_valid[:, 1]\n",
    "\n",
    "fpr, tpr, thresholds = roc_curve(test_answers, probabilities_one_valid) \n",
    "plt.figure()\n",
    "plt.plot(fpr, tpr)\n",
    "\n",
    "plt.plot([0, 1], [0, 1], linestyle='--')\n",
    "\n",
    "plt.xlim([0.0, 1.0])\n",
    "plt.ylim([0.0, 1.0])\n",
    "\n",
    "plt.xlabel(\"False Positive Rate\")\n",
    "plt.ylabel(\"True Positive Rate\")\n",
    "\n",
    "plt.title(\"ROC-graph\")\n",
    "\n",
    "plt.show()\n",
    "roc_auc_score(test_answers, probabilities_one_valid)"
   ]
  },
  {
   "cell_type": "code",
   "execution_count": 24,
   "metadata": {},
   "outputs": [
    {
     "data": {
      "text/plain": [
       "0.6242038216560508"
      ]
     },
     "execution_count": 24,
     "metadata": {},
     "output_type": "execute_result"
    }
   ],
   "source": [
    "f1_score(test_answers, model_forest.predict(test_features))"
   ]
  },
  {
   "cell_type": "markdown",
   "metadata": {},
   "source": [
    "Already better, now let's try to drop some of the zero lines"
   ]
  },
  {
   "cell_type": "code",
   "execution_count": 25,
   "metadata": {},
   "outputs": [],
   "source": [
    "def downsample(features, target, fraction):\n",
    "    features_zeros = features[target == 0]\n",
    "    features_ones = features[target == 1]\n",
    "    target_zeros = target[target == 0]\n",
    "    target_ones = target[target == 1]\n",
    "\n",
    "    features_downsampled = pd.concat(\n",
    "        [features_zeros.sample(frac=fraction, random_state=12345)] + [features_ones])\n",
    "    target_downsampled = pd.concat(\n",
    "        [target_zeros.sample(frac=fraction, random_state=12345)] + [target_ones])\n",
    "    \n",
    "    features_downsampled, target_downsampled = shuffle(\n",
    "        features_downsampled, target_downsampled, random_state=12345)\n",
    "    \n",
    "    return features_downsampled, target_downsampled"
   ]
  },
  {
   "cell_type": "code",
   "execution_count": 26,
   "metadata": {},
   "outputs": [],
   "source": [
    "features_downsampled, target_downsampled = downsample(train_features, train_answers, 0.25)"
   ]
  },
  {
   "cell_type": "code",
   "execution_count": 27,
   "metadata": {},
   "outputs": [
    {
     "name": "stdout",
     "output_type": "stream",
     "text": [
      "CPU times: total: 1min 3s\n",
      "Wall time: 1min 4s\n"
     ]
    },
    {
     "data": {
      "text/plain": [
       "{'max_depth': 13,\n",
       " 'min_samples_leaf': 5,\n",
       " 'min_samples_split': 2,\n",
       " 'n_estimators': 100}"
      ]
     },
     "execution_count": 27,
     "metadata": {},
     "output_type": "execute_result"
    }
   ],
   "source": [
    "%%time\n",
    "parametrs = { 'max_depth': range (5,15, 2),\n",
    "              'min_samples_leaf': range (5,8),\n",
    "              'min_samples_split': range (2,10,2),\n",
    "              'n_estimators' : [100]}\n",
    "model_forest = GridSearchCV(RandomForestClassifier(random_state=46812), parametrs)\n",
    "model_forest.fit(features_downsampled, target_downsampled)\n",
    "model_forest.best_params_"
   ]
  },
  {
   "cell_type": "code",
   "execution_count": 28,
   "metadata": {
    "scrolled": true
   },
   "outputs": [
    {
     "data": {
      "image/png": "[encoded data removed]",
      "text/plain": [
       "<Figure size 432x288 with 1 Axes>"
      ]
     },
     "metadata": {
      "needs_background": "light"
     },
     "output_type": "display_data"
    },
    {
     "data": {
      "text/plain": [
       "0.8703291977081542"
      ]
     },
     "execution_count": 28,
     "metadata": {},
     "output_type": "execute_result"
    }
   ],
   "source": [
    "probabilities_valid = model_forest.predict_proba(test_features)\n",
    "probabilities_one_valid = probabilities_valid[:, 1]\n",
    "\n",
    "fpr, tpr, thresholds = roc_curve(test_answers, probabilities_one_valid) \n",
    "plt.figure()\n",
    "plt.plot(fpr, tpr)\n",
    "\n",
    "plt.plot([0, 1], [0, 1], linestyle='--')\n",
    "\n",
    "plt.xlim([0.0, 1.0])\n",
    "plt.ylim([0.0, 1.0])\n",
    "\n",
    "plt.xlabel(\"False Positive Rate\")\n",
    "plt.ylabel(\"True Positive Rate\")\n",
    "\n",
    "plt.title(\"ROC-graph\")\n",
    "\n",
    "plt.show()\n",
    "roc_auc_score(test_answers, probabilities_one_valid)"
   ]
  },
  {
   "cell_type": "code",
   "execution_count": 29,
   "metadata": {},
   "outputs": [
    {
     "data": {
      "text/plain": [
       "0.5980066445182725"
      ]
     },
     "execution_count": 29,
     "metadata": {},
     "output_type": "execute_result"
    }
   ],
   "source": [
    "f1_score(test_answers, model_forest.predict(test_features))"
   ]
  },
  {
   "cell_type": "markdown",
   "metadata": {},
   "source": [
    "The result is worse, so we will use weights."
   ]
  },
  {
   "cell_type": "markdown",
   "metadata": {},
   "source": [
    "I consider it not a good idea to apply the method with adding strings to 1, since we cannot be sure that we are adding \"good\" strings."
   ]
  },
  {
   "cell_type": "markdown",
   "metadata": {},
   "source": [
    "### Conclusion"
   ]
  },
  {
   "cell_type": "markdown",
   "metadata": {},
   "source": [
    "After doing a little analytics, we found out that the target column has a class imbalance, so we applied two methods for balancing. The option with weights came up best, with it the f1 metric showed a result of 0.62, AUC-ROC 0.87 is not ideal but better than it was originally."
   ]
  },
  {
   "cell_type": "markdown",
   "metadata": {},
   "source": [
    "## Model testing"
   ]
  },
  {
   "cell_type": "markdown",
   "metadata": {},
   "source": [
    "Now let's select a couple of models to solve the problem. For testing, let's take a random forest and a logistic model."
   ]
  },
  {
   "cell_type": "code",
   "execution_count": 30,
   "metadata": {},
   "outputs": [
    {
     "name": "stdout",
     "output_type": "stream",
     "text": [
      "CPU times: total: 8min 52s\n",
      "Wall time: 8min 56s\n"
     ]
    },
    {
     "data": {
      "text/plain": [
       "{'max_depth': 13,\n",
       " 'min_samples_leaf': 5,\n",
       " 'min_samples_split': 2,\n",
       " 'n_estimators': 130}"
      ]
     },
     "execution_count": 30,
     "metadata": {},
     "output_type": "execute_result"
    }
   ],
   "source": [
    "%%time\n",
    "parametrs = { 'max_depth': range (5,15, 2),\n",
    "              'min_samples_leaf': range (5,8),\n",
    "              'min_samples_split': range (2,10,2),\n",
    "              'n_estimators' : range(50,150,20)}\n",
    "model_forest = GridSearchCV(RandomForestClassifier(random_state=46812, class_weight='balanced'), parametrs)\n",
    "model_forest.fit(train_features, train_answers)\n",
    "model_forest.best_params_"
   ]
  },
  {
   "cell_type": "code",
   "execution_count": 31,
   "metadata": {},
   "outputs": [
    {
     "data": {
      "text/plain": [
       "0.8440904680248632"
      ]
     },
     "execution_count": 31,
     "metadata": {},
     "output_type": "execute_result"
    }
   ],
   "source": [
    "model_forest.best_score_"
   ]
  },
  {
   "cell_type": "code",
   "execution_count": 32,
   "metadata": {
    "scrolled": true
   },
   "outputs": [
    {
     "data": {
      "text/plain": [
       "0.6247334754797441"
      ]
     },
     "execution_count": 32,
     "metadata": {},
     "output_type": "execute_result"
    }
   ],
   "source": [
    "f1_score(test_answers, model_forest.predict(test_features))"
   ]
  },
  {
   "cell_type": "code",
   "execution_count": 33,
   "metadata": {},
   "outputs": [
    {
     "data": {
      "image/png": "[encoded data removed]",
      "text/plain": [
       "<Figure size 432x288 with 1 Axes>"
      ]
     },
     "metadata": {
      "needs_background": "light"
     },
     "output_type": "display_data"
    },
    {
     "data": {
      "text/plain": [
       "0.8719960830624036"
      ]
     },
     "execution_count": 33,
     "metadata": {},
     "output_type": "execute_result"
    }
   ],
   "source": [
    "probabilities_valid = model_forest.predict_proba(test_features)\n",
    "probabilities_one_valid = probabilities_valid[:, 1]\n",
    "\n",
    "fpr, tpr, thresholds = roc_curve(test_answers, probabilities_one_valid) \n",
    "plt.figure()\n",
    "plt.plot(fpr, tpr)\n",
    "\n",
    "plt.plot([0, 1], [0, 1], linestyle='--')\n",
    "\n",
    "plt.xlim([0.0, 1.0])\n",
    "plt.ylim([0.0, 1.0])\n",
    "\n",
    "plt.xlabel(\"False Positive Rate\")\n",
    "plt.ylabel(\"True Positive Rate\")\n",
    "\n",
    "plt.title(\"ROC-graph\")\n",
    "\n",
    "plt.show()\n",
    "roc_auc_score(test_answers, probabilities_one_valid)"
   ]
  },
  {
   "cell_type": "code",
   "execution_count": 34,
   "metadata": {
    "scrolled": true
   },
   "outputs": [
    {
     "name": "stdout",
     "output_type": "stream",
     "text": [
      "CPU times: total: 13.2 s\n",
      "Wall time: 13.6 s\n"
     ]
    },
    {
     "data": {
      "text/plain": [
       "{'max_iter': 1000, 'penalty': 'none', 'solver': 'newton-cg'}"
      ]
     },
     "execution_count": 34,
     "metadata": {},
     "output_type": "execute_result"
    }
   ],
   "source": [
    "%%time\n",
    "warnings.filterwarnings(\"ignore\")\n",
    "parametrs = {\"solver\" : ['newton-cg', 'lbfgs', 'liblinear', 'sag', 'saga'],\n",
    "             \"max_iter\": range(1000,2000,100),\n",
    "             \"penalty\": ['l1', 'l2', 'elasticnet', 'none']}\n",
    "model_LR = GridSearchCV(LogisticRegression(random_state=46812,class_weight='balanced'), parametrs)\n",
    "model_LR.fit(train_features, train_answers)\n",
    "model_LR.best_params_"
   ]
  },
  {
   "cell_type": "code",
   "execution_count": 35,
   "metadata": {},
   "outputs": [
    {
     "data": {
      "text/plain": [
       "0.7076875660254356"
      ]
     },
     "execution_count": 35,
     "metadata": {},
     "output_type": "execute_result"
    }
   ],
   "source": [
    "model_LR.best_score_"
   ]
  },
  {
   "cell_type": "code",
   "execution_count": 36,
   "metadata": {},
   "outputs": [
    {
     "data": {
      "text/plain": [
       "0.505066250974279"
      ]
     },
     "execution_count": 36,
     "metadata": {},
     "output_type": "execute_result"
    }
   ],
   "source": [
    "f1_score(test_answers, model_LR.predict(test_features))"
   ]
  },
  {
   "cell_type": "code",
   "execution_count": 37,
   "metadata": {},
   "outputs": [
    {
     "data": {
      "image/png": "[encoded data removed]",
      "text/plain": [
       "<Figure size 432x288 with 1 Axes>"
      ]
     },
     "metadata": {
      "needs_background": "light"
     },
     "output_type": "display_data"
    },
    {
     "data": {
      "text/plain": [
       "0.7842950727257705"
      ]
     },
     "execution_count": 37,
     "metadata": {},
     "output_type": "execute_result"
    }
   ],
   "source": [
    "probabilities_valid = model_LR.predict_proba(test_features)\n",
    "probabilities_one_valid = probabilities_valid[:, 1]\n",
    "\n",
    "fpr, tpr, thresholds = roc_curve(test_answers, probabilities_one_valid) \n",
    "plt.figure()\n",
    "plt.plot(fpr, tpr)\n",
    "\n",
    "plt.plot([0, 1], [0, 1], linestyle='--')\n",
    "\n",
    "plt.xlim([0.0, 1.0])\n",
    "plt.ylim([0.0, 1.0])\n",
    "\n",
    "plt.xlabel(\"False Positive Rate\")\n",
    "plt.ylabel(\"True Positive Rate\")\n",
    "\n",
    "plt.title(\"ROC-graph\")\n",
    "\n",
    "plt.show()\n",
    "roc_auc_score(test_answers, probabilities_one_valid)"
   ]
  },
  {
   "cell_type": "markdown",
   "metadata": {},
   "source": [
    "### Conclusion"
   ]
  },
  {
   "cell_type": "markdown",
   "metadata": {},
   "source": [
    "Random forest performed the best with this task showing 0.61 F1 metrics, correct answers 0.85 and AUC-ROC 0.87"
   ]
  },
  {
   "cell_type": "markdown",
   "metadata": {},
   "source": [
    "## Conclusion"
   ]
  },
  {
   "cell_type": "markdown",
   "metadata": {},
   "source": [
    "After analyzing the data, I found out that significant information about the number of years of the client in the bank was missing, which is why I had to throw out 10% of the data.\n",
    "\n",
    "The problem of data imbalance was also revealed, which was quite simply solved by using weights.\n",
    "\n",
    "As a result, we got a random forest with good indicators and metrics. The random forest had the following parameters:\n",
    "- `'max_depth': 13`,\n",
    "- `'min_samples_leaf': 5`,\n",
    "- `'min_samples_split': 2`,\n",
    "- `'n_estimators': 90`  \n",
    "\n",
    "And showed 0.61 F1 metrics, correct answers 0.85 and AUC-ROC 0.87"
   ]
  }
 ],
 "metadata": {
  "ExecuteTimeLog": [
   {
    "duration": 414,
    "start_time": "2022-07-27T10:59:08.097Z"
   },
   {
    "duration": 69,
    "start_time": "2022-07-27T10:59:35.968Z"
   },
   {
    "duration": 3,
    "start_time": "2022-07-27T10:59:40.100Z"
   },
   {
    "duration": 7,
    "start_time": "2022-07-27T10:59:41.527Z"
   },
   {
    "duration": 82,
    "start_time": "2022-07-27T10:59:52.831Z"
   },
   {
    "duration": 21,
    "start_time": "2022-07-27T11:00:06.702Z"
   },
   {
    "duration": 11,
    "start_time": "2022-07-27T11:02:23.521Z"
   },
   {
    "duration": 13,
    "start_time": "2022-07-27T11:02:26.665Z"
   },
   {
    "duration": 22,
    "start_time": "2022-07-27T11:03:16.199Z"
   },
   {
    "duration": 6,
    "start_time": "2022-07-27T11:08:54.089Z"
   },
   {
    "duration": 495,
    "start_time": "2022-07-27T11:09:07.800Z"
   },
   {
    "duration": 55,
    "start_time": "2022-07-27T11:09:13.792Z"
   },
   {
    "duration": 7,
    "start_time": "2022-07-27T11:10:22.886Z"
   },
   {
    "duration": 6718,
    "start_time": "2022-07-27T11:10:44.045Z"
   },
   {
    "duration": 23,
    "start_time": "2022-07-27T11:12:21.186Z"
   },
   {
    "duration": 20,
    "start_time": "2022-07-27T11:12:27.561Z"
   },
   {
    "duration": 4,
    "start_time": "2022-07-27T11:12:38.185Z"
   },
   {
    "duration": 12,
    "start_time": "2022-07-27T11:12:45.094Z"
   },
   {
    "duration": 7,
    "start_time": "2022-07-27T11:14:36.316Z"
   },
   {
    "duration": 6,
    "start_time": "2022-07-27T11:14:39.681Z"
   },
   {
    "duration": 1634,
    "start_time": "2022-07-27T11:19:22.142Z"
   },
   {
    "duration": 11,
    "start_time": "2022-07-27T11:22:42.419Z"
   },
   {
    "duration": 499,
    "start_time": "2022-07-27T11:22:48.565Z"
   },
   {
    "duration": 621,
    "start_time": "2022-07-27T11:23:41.564Z"
   },
   {
    "duration": 4,
    "start_time": "2022-07-27T11:28:19.163Z"
   },
   {
    "duration": 65,
    "start_time": "2022-07-27T11:28:30.150Z"
   },
   {
    "duration": 11,
    "start_time": "2022-07-27T11:28:32.750Z"
   },
   {
    "duration": 5,
    "start_time": "2022-07-27T11:29:09.221Z"
   },
   {
    "duration": 11,
    "start_time": "2022-07-27T11:29:10.939Z"
   },
   {
    "duration": 11,
    "start_time": "2022-07-27T11:32:06.996Z"
   },
   {
    "duration": 11,
    "start_time": "2022-07-27T11:32:15.861Z"
   },
   {
    "duration": 711,
    "start_time": "2022-07-27T11:33:46.289Z"
   },
   {
    "duration": 39,
    "start_time": "2022-07-27T11:35:43.397Z"
   },
   {
    "duration": 18,
    "start_time": "2022-07-27T11:37:09.223Z"
   },
   {
    "duration": 22,
    "start_time": "2022-07-27T11:37:36.232Z"
   },
   {
    "duration": 22,
    "start_time": "2022-07-27T11:37:55.295Z"
   },
   {
    "duration": 24,
    "start_time": "2022-07-27T11:38:19.099Z"
   },
   {
    "duration": 60,
    "start_time": "2022-07-27T11:48:25.149Z"
   },
   {
    "duration": 3,
    "start_time": "2022-07-27T11:48:43.876Z"
   },
   {
    "duration": 6,
    "start_time": "2022-07-27T11:50:12.897Z"
   },
   {
    "duration": 17,
    "start_time": "2022-07-27T11:50:46.328Z"
   },
   {
    "duration": 23,
    "start_time": "2022-07-27T11:50:51.496Z"
   },
   {
    "duration": 24,
    "start_time": "2022-07-27T11:51:05.281Z"
   },
   {
    "duration": 7,
    "start_time": "2022-07-27T11:52:20.158Z"
   },
   {
    "duration": 58,
    "start_time": "2022-07-27T11:53:14.677Z"
   },
   {
    "duration": 916405,
    "start_time": "2022-07-27T11:53:24.914Z"
   },
   {
    "duration": 4135,
    "start_time": "2022-07-27T12:31:31.662Z"
   },
   {
    "duration": 346174,
    "start_time": "2022-07-27T12:31:38.573Z"
   },
   {
    "duration": 5,
    "start_time": "2022-07-27T12:38:20.339Z"
   },
   {
    "duration": 13,
    "start_time": "2022-07-27T15:07:07.482Z"
   },
   {
    "duration": 10,
    "start_time": "2022-07-27T15:10:30.323Z"
   },
   {
    "duration": 4,
    "start_time": "2022-07-27T15:10:36.380Z"
   },
   {
    "duration": 15,
    "start_time": "2022-07-27T15:10:39.324Z"
   },
   {
    "duration": 15,
    "start_time": "2022-07-27T15:11:22.217Z"
   },
   {
    "duration": 44,
    "start_time": "2022-07-27T15:12:42.781Z"
   },
   {
    "duration": 510,
    "start_time": "2022-07-27T15:13:20.260Z"
   },
   {
    "duration": 209,
    "start_time": "2022-07-27T15:13:24.373Z"
   },
   {
    "duration": 4,
    "start_time": "2022-07-27T15:14:19.187Z"
   },
   {
    "duration": 49,
    "start_time": "2022-07-27T15:14:43.868Z"
   },
   {
    "duration": 39,
    "start_time": "2022-07-27T15:15:34.952Z"
   },
   {
    "duration": 5,
    "start_time": "2022-07-27T15:19:49.286Z"
   },
   {
    "duration": 38,
    "start_time": "2022-07-27T15:20:21.196Z"
   },
   {
    "duration": 33,
    "start_time": "2022-07-27T15:20:49.324Z"
   },
   {
    "duration": 35,
    "start_time": "2022-07-27T15:20:53.058Z"
   },
   {
    "duration": 6,
    "start_time": "2022-07-27T15:21:28.953Z"
   },
   {
    "duration": 10,
    "start_time": "2022-07-27T15:22:32.631Z"
   },
   {
    "duration": 6,
    "start_time": "2022-07-27T15:22:42.486Z"
   },
   {
    "duration": 13,
    "start_time": "2022-07-27T15:22:58.614Z"
   },
   {
    "duration": 4,
    "start_time": "2022-07-27T15:23:55.691Z"
   },
   {
    "duration": 167117,
    "start_time": "2022-07-27T15:24:04.811Z"
   },
   {
    "duration": 5,
    "start_time": "2022-07-27T15:27:20.660Z"
   },
   {
    "duration": 216,
    "start_time": "2022-07-27T15:27:23.827Z"
   },
   {
    "duration": 63,
    "start_time": "2022-07-27T15:27:31.923Z"
   },
   {
    "duration": 47,
    "start_time": "2022-07-27T15:28:35.313Z"
   },
   {
    "duration": 12,
    "start_time": "2022-07-27T15:30:14.166Z"
   },
   {
    "duration": 15,
    "start_time": "2022-07-27T15:30:21.950Z"
   },
   {
    "duration": 246,
    "start_time": "2022-07-27T15:30:38.773Z"
   },
   {
    "duration": 235,
    "start_time": "2022-07-27T15:30:54.205Z"
   },
   {
    "duration": 3,
    "start_time": "2022-07-27T15:31:08.379Z"
   },
   {
    "duration": 257,
    "start_time": "2022-07-27T15:31:12.042Z"
   },
   {
    "duration": 190,
    "start_time": "2022-07-27T15:31:23.491Z"
   },
   {
    "duration": 171,
    "start_time": "2022-07-27T17:12:27.564Z"
   },
   {
    "duration": 17,
    "start_time": "2022-07-27T17:15:11.965Z"
   },
   {
    "duration": 6,
    "start_time": "2022-07-27T17:15:34.351Z"
   },
   {
    "duration": 158511,
    "start_time": "2022-07-27T17:20:17.953Z"
   },
   {
    "duration": 4,
    "start_time": "2022-07-27T17:23:32.394Z"
   },
   {
    "duration": 163,
    "start_time": "2022-07-27T17:23:35.552Z"
   },
   {
    "duration": 48,
    "start_time": "2022-07-27T17:23:50.150Z"
   },
   {
    "duration": 7,
    "start_time": "2022-07-27T17:36:33.906Z"
   },
   {
    "duration": 6,
    "start_time": "2022-07-27T17:37:33.003Z"
   },
   {
    "duration": 18,
    "start_time": "2022-07-27T17:37:48.995Z"
   },
   {
    "duration": 4,
    "start_time": "2022-07-27T17:38:01.169Z"
   },
   {
    "duration": 10,
    "start_time": "2022-07-27T17:38:05.257Z"
   },
   {
    "duration": 85140,
    "start_time": "2022-07-27T17:38:28.425Z"
   },
   {
    "duration": 206,
    "start_time": "2022-07-27T17:42:33.452Z"
   },
   {
    "duration": 57,
    "start_time": "2022-07-27T17:42:46.442Z"
   },
   {
    "duration": 88699,
    "start_time": "2022-07-27T17:50:08.575Z"
   },
   {
    "duration": 202,
    "start_time": "2022-07-27T17:51:55.921Z"
   },
   {
    "duration": 51,
    "start_time": "2022-07-27T17:51:58.888Z"
   },
   {
    "duration": 398979,
    "start_time": "2022-07-27T17:54:34.769Z"
   },
   {
    "duration": 59,
    "start_time": "2022-07-27T18:02:42.357Z"
   },
   {
    "duration": 734336,
    "start_time": "2022-07-27T18:03:07.978Z"
   },
   {
    "duration": 44,
    "start_time": "2022-07-27T18:16:27.181Z"
   },
   {
    "duration": 4,
    "start_time": "2022-07-27T18:17:16.427Z"
   },
   {
    "duration": 11,
    "start_time": "2022-07-27T18:18:46.486Z"
   },
   {
    "duration": 4,
    "start_time": "2022-07-27T18:19:03.575Z"
   },
   {
    "duration": 0,
    "start_time": "2022-07-27T18:20:53.442Z"
   },
   {
    "duration": 118889,
    "start_time": "2022-07-27T18:20:55.410Z"
   },
   {
    "duration": 14,
    "start_time": "2022-07-27T18:23:41.316Z"
   },
   {
    "duration": 4,
    "start_time": "2022-07-27T18:23:59.043Z"
   },
   {
    "duration": 153,
    "start_time": "2022-07-27T18:26:22.925Z"
   },
   {
    "duration": 302,
    "start_time": "2022-07-27T18:26:38.500Z"
   },
   {
    "duration": 1392,
    "start_time": "2022-07-27T18:31:58.144Z"
   },
   {
    "duration": 71,
    "start_time": "2022-07-27T18:31:59.538Z"
   },
   {
    "duration": 19,
    "start_time": "2022-07-27T18:31:59.612Z"
   },
   {
    "duration": 19,
    "start_time": "2022-07-27T18:31:59.634Z"
   },
   {
    "duration": 27,
    "start_time": "2022-07-27T18:31:59.656Z"
   },
   {
    "duration": 6,
    "start_time": "2022-07-27T18:31:59.698Z"
   },
   {
    "duration": 13,
    "start_time": "2022-07-27T18:31:59.706Z"
   },
   {
    "duration": 5,
    "start_time": "2022-07-27T18:31:59.721Z"
   },
   {
    "duration": 16,
    "start_time": "2022-07-27T18:31:59.728Z"
   },
   {
    "duration": 16,
    "start_time": "2022-07-27T18:31:59.748Z"
   },
   {
    "duration": 40,
    "start_time": "2022-07-27T18:31:59.766Z"
   },
   {
    "duration": 41,
    "start_time": "2022-07-27T18:31:59.809Z"
   },
   {
    "duration": 6,
    "start_time": "2022-07-27T18:31:59.852Z"
   },
   {
    "duration": 54,
    "start_time": "2022-07-27T18:31:59.860Z"
   },
   {
    "duration": 23,
    "start_time": "2022-07-27T18:31:59.916Z"
   },
   {
    "duration": 7,
    "start_time": "2022-07-27T18:31:59.941Z"
   },
   {
    "duration": 161623,
    "start_time": "2022-07-27T18:31:59.950Z"
   },
   {
    "duration": 4,
    "start_time": "2022-07-27T18:34:41.574Z"
   },
   {
    "duration": 64,
    "start_time": "2022-07-27T18:34:41.579Z"
   },
   {
    "duration": 5,
    "start_time": "2022-07-27T18:34:41.645Z"
   },
   {
    "duration": 161101,
    "start_time": "2022-07-27T18:34:41.652Z"
   },
   {
    "duration": 4,
    "start_time": "2022-07-27T18:37:22.755Z"
   },
   {
    "duration": 189,
    "start_time": "2022-07-27T18:37:22.760Z"
   },
   {
    "duration": 61,
    "start_time": "2022-07-27T18:37:22.950Z"
   },
   {
    "duration": 4,
    "start_time": "2022-07-27T18:37:23.013Z"
   },
   {
    "duration": 25,
    "start_time": "2022-07-27T18:37:23.019Z"
   },
   {
    "duration": 87405,
    "start_time": "2022-07-27T18:37:23.045Z"
   },
   {
    "duration": 209,
    "start_time": "2022-07-27T18:38:50.454Z"
   },
   {
    "duration": 62,
    "start_time": "2022-07-27T18:38:50.665Z"
   },
   {
    "duration": 737497,
    "start_time": "2022-07-27T18:38:50.729Z"
   },
   {
    "duration": 3,
    "start_time": "2022-07-27T18:51:08.228Z"
   },
   {
    "duration": 50,
    "start_time": "2022-07-27T18:51:08.232Z"
   },
   {
    "duration": 179,
    "start_time": "2022-07-27T18:51:08.284Z"
   },
   {
    "duration": 176437,
    "start_time": "2022-07-27T18:51:08.465Z"
   },
   {
    "duration": 94,
    "start_time": "2022-07-27T18:54:04.904Z"
   },
   {
    "duration": 13,
    "start_time": "2022-07-27T18:54:05.000Z"
   },
   {
    "duration": 473,
    "start_time": "2022-07-27T18:54:05.015Z"
   },
   {
    "duration": 10,
    "start_time": "2022-07-28T13:08:16.631Z"
   },
   {
    "duration": 4,
    "start_time": "2022-07-28T13:08:25.823Z"
   },
   {
    "duration": 4,
    "start_time": "2022-07-28T13:08:36.416Z"
   },
   {
    "duration": 126,
    "start_time": "2022-07-28T13:09:25.426Z"
   },
   {
    "duration": 56,
    "start_time": "2022-07-28T13:09:32.790Z"
   },
   {
    "duration": 1505,
    "start_time": "2022-07-28T13:10:40.132Z"
   },
   {
    "duration": 4,
    "start_time": "2022-07-28T13:11:06.543Z"
   },
   {
    "duration": 83,
    "start_time": "2022-07-28T13:11:06.549Z"
   },
   {
    "duration": 17,
    "start_time": "2022-07-28T13:11:06.634Z"
   },
   {
    "duration": 12,
    "start_time": "2022-07-28T13:11:06.653Z"
   },
   {
    "duration": 21,
    "start_time": "2022-07-28T13:11:06.667Z"
   },
   {
    "duration": 4,
    "start_time": "2022-07-28T13:11:06.690Z"
   },
   {
    "duration": 31,
    "start_time": "2022-07-28T13:11:06.696Z"
   },
   {
    "duration": 3,
    "start_time": "2022-07-28T13:11:06.729Z"
   },
   {
    "duration": 15,
    "start_time": "2022-07-28T13:11:06.734Z"
   },
   {
    "duration": 13,
    "start_time": "2022-07-28T13:11:06.752Z"
   },
   {
    "duration": 11,
    "start_time": "2022-07-28T13:11:06.766Z"
   },
   {
    "duration": 25,
    "start_time": "2022-07-28T13:11:06.778Z"
   },
   {
    "duration": 21,
    "start_time": "2022-07-28T13:11:06.805Z"
   },
   {
    "duration": 26,
    "start_time": "2022-07-28T13:11:06.828Z"
   },
   {
    "duration": 20,
    "start_time": "2022-07-28T13:11:06.856Z"
   },
   {
    "duration": 5,
    "start_time": "2022-07-28T13:11:06.877Z"
   },
   {
    "duration": 138828,
    "start_time": "2022-07-28T13:11:06.883Z"
   },
   {
    "duration": 11,
    "start_time": "2022-07-28T13:13:25.713Z"
   },
   {
    "duration": 55,
    "start_time": "2022-07-28T13:13:25.725Z"
   },
   {
    "duration": 6,
    "start_time": "2022-07-28T13:13:25.782Z"
   },
   {
    "duration": 135748,
    "start_time": "2022-07-28T13:13:25.789Z"
   },
   {
    "duration": 4,
    "start_time": "2022-07-28T13:15:41.538Z"
   },
   {
    "duration": 181,
    "start_time": "2022-07-28T13:15:41.543Z"
   },
   {
    "duration": 51,
    "start_time": "2022-07-28T13:15:41.726Z"
   },
   {
    "duration": 4,
    "start_time": "2022-07-28T13:15:41.778Z"
   },
   {
    "duration": 16,
    "start_time": "2022-07-28T13:15:41.784Z"
   },
   {
    "duration": 75278,
    "start_time": "2022-07-28T13:15:41.802Z"
   },
   {
    "duration": 191,
    "start_time": "2022-07-28T13:16:57.083Z"
   },
   {
    "duration": 71,
    "start_time": "2022-07-28T13:16:57.276Z"
   },
   {
    "duration": 625733,
    "start_time": "2022-07-28T13:16:57.350Z"
   },
   {
    "duration": 4,
    "start_time": "2022-07-28T13:27:23.086Z"
   },
   {
    "duration": 79,
    "start_time": "2022-07-28T13:27:23.092Z"
   },
   {
    "duration": 192,
    "start_time": "2022-07-28T13:27:23.173Z"
   },
   {
    "duration": 334214,
    "start_time": "2022-07-28T13:30:13.916Z"
   }
  ],
  "kernelspec": {
   "display_name": "Python 3 (ipykernel)",
   "language": "python",
   "name": "python3"
  },
  "language_info": {
   "codemirror_mode": {
    "name": "ipython",
    "version": 3
   },
   "file_extension": ".py",
   "mimetype": "text/x-python",
   "name": "python",
   "nbconvert_exporter": "python",
   "pygments_lexer": "ipython3",
   "version": "3.10.4"
  },
  "toc": {
   "base_numbering": 1,
   "nav_menu": {},
   "number_sections": true,
   "sideBar": true,
   "skip_h1_title": true,
   "title_cell": "Содержание",
   "title_sidebar": "Contents",
   "toc_cell": true,
   "toc_position": {
    "height": "calc(100% - 180px)",
    "left": "10px",
    "top": "150px",
    "width": "494.391px"
   },
   "toc_section_display": true,
   "toc_window_display": true
  },
  "vscode": {
   "interpreter": {
    "hash": "2469a70536e4d2335a2ea8907942d0699c37342a371ac185bdb5b0aa6f073890"
   }
  }
 },
 "nbformat": 4,
 "nbformat_minor": 2
}
