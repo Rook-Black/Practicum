{
 "cells": [
  {
   "cell_type": "markdown",
   "id": "63f0ff45",
   "metadata": {
    "toc": true
   },
   "source": [
    "<h1>Содержание<span class=\"tocSkip\"></span></h1>\n",
    "<div class=\"toc\"><ul class=\"toc-item\"><li><span><a href=\"#Описание-данных\" data-toc-modified-id=\"Описание-данных-1\"><span class=\"toc-item-num\">1&nbsp;&nbsp;</span>Описание данных</a></span></li><li><span><a href=\"#Загрузка-библиотек-и-данных\" data-toc-modified-id=\"Загрузка-библиотек-и-данных-2\"><span class=\"toc-item-num\">2&nbsp;&nbsp;</span>Загрузка библиотек и данных</a></span></li><li><span><a href=\"#Предобработка\" data-toc-modified-id=\"Предобработка-3\"><span class=\"toc-item-num\">3&nbsp;&nbsp;</span>Предобработка</a></span></li><li><span><a href=\"#Обучение-модели\" data-toc-modified-id=\"Обучение-модели-4\"><span class=\"toc-item-num\">4&nbsp;&nbsp;</span>Обучение модели</a></span><ul class=\"toc-item\"><li><span><a href=\"#LogisticRegression-все-данные\" data-toc-modified-id=\"LogisticRegression-все-данные-4.1\"><span class=\"toc-item-num\">4.1&nbsp;&nbsp;</span>LogisticRegression все данные</a></span></li></ul></li></ul></div>"
   ]
  },
  {
   "cell_type": "markdown",
   "id": "65354a74",
   "metadata": {},
   "source": [
    "## Описание данных"
   ]
  },
  {
   "cell_type": "markdown",
   "id": "4c7f56a9",
   "metadata": {},
   "source": [
    "В проекте вам нужно обучить модель линейной регрессии на данных о жилье в Калифорнии в 1990 году"
   ]
  },
  {
   "cell_type": "markdown",
   "id": "0bbb3d14",
   "metadata": {},
   "source": [
    "В колонках датасета содержатся следующие данные:\n",
    "- longitude — широта;\n",
    "- latitude — долгота;\n",
    "- housing_median_age — медианный возраст жителей жилого массива;\n",
    "- total_rooms — общее количество комнат в домах жилого массива;\n",
    "- total_bedrooms — общее количество спален в домах жилого массива;\n",
    "- population — количество человек, которые проживают в жилом массиве;\n",
    "- households — количество домовладений в жилом массиве;\n",
    "- median_income — медианный доход жителей жилого массива;\n",
    "- median_house_value — медианная стоимость дома в жилом массиве;\n",
    "- ocean_proximity — близость к океану."
   ]
  },
  {
   "cell_type": "markdown",
   "id": "afadd48a",
   "metadata": {},
   "source": [
    "На основе данных нужно предсказать медианную стоимость дома в жилом массиве — median_house_value. Обучите модель и сделайте предсказания на тестовой выборке. Для оценки качества модели используйте метрики RMSE, MAE и R2."
   ]
  },
  {
   "cell_type": "markdown",
   "id": "4f8132d9",
   "metadata": {},
   "source": [
    "## Загрузка библиотек и данных"
   ]
  },
  {
   "cell_type": "code",
   "execution_count": 1,
   "id": "647a38a5",
   "metadata": {},
   "outputs": [],
   "source": [
    "import pandas as pd \n",
    "import numpy as np\n",
    "import pyspark\n",
    "from pyspark.sql import SparkSession\n",
    "from pyspark.sql.types import *\n",
    "import pyspark.sql.functions as F\n",
    "from pyspark.ml.feature import StringIndexer, VectorAssembler, StandardScaler\n",
    "from pyspark.ml.regression import LinearRegression\n",
    "from pyspark.mllib.evaluation import RegressionMetrics\n",
    "from pyspark.ml.evaluation import RegressionEvaluator\n",
    "from pyspark.ml.tuning import ParamGridBuilder,TrainValidationSplit\n",
    "\n",
    "\n",
    "pyspark_version = pyspark.__version__\n",
    "if int(pyspark_version[:1]) == 3:\n",
    "    from pyspark.ml.feature import OneHotEncoder    \n",
    "elif int(pyspark_version[:1]) == 2:\n",
    "    from pyspark.ml.feature import OneHotEncodeEstimator"
   ]
  },
  {
   "cell_type": "code",
   "execution_count": 2,
   "id": "e14220c6",
   "metadata": {},
   "outputs": [],
   "source": [
    "RANDOM_SEED = 15347"
   ]
  },
  {
   "cell_type": "code",
   "execution_count": 3,
   "id": "0e70a6f7",
   "metadata": {},
   "outputs": [],
   "source": [
    "spark = SparkSession.builder \\\n",
    "                    .master(\"local\") \\\n",
    "                    .appName(\"EDA California Housing\") \\\n",
    "                    .getOrCreate()"
   ]
  },
  {
   "cell_type": "code",
   "execution_count": 4,
   "id": "81f303cd",
   "metadata": {},
   "outputs": [
    {
     "name": "stdout",
     "output_type": "stream",
     "text": [
      "+---------+--------+------------------+-----------+--------------+----------+----------+-------------+------------------+---------------+\n",
      "|longitude|latitude|housing_median_age|total_rooms|total_bedrooms|population|households|median_income|median_house_value|ocean_proximity|\n",
      "+---------+--------+------------------+-----------+--------------+----------+----------+-------------+------------------+---------------+\n",
      "|  -122.23|   37.88|              41.0|      880.0|         129.0|     322.0|     126.0|       8.3252|          452600.0|       NEAR BAY|\n",
      "|  -122.22|   37.86|              21.0|     7099.0|        1106.0|    2401.0|    1138.0|       8.3014|          358500.0|       NEAR BAY|\n",
      "|  -122.24|   37.85|              52.0|     1467.0|         190.0|     496.0|     177.0|       7.2574|          352100.0|       NEAR BAY|\n",
      "|  -122.25|   37.85|              52.0|     1274.0|         235.0|     558.0|     219.0|       5.6431|          341300.0|       NEAR BAY|\n",
      "|  -122.25|   37.85|              52.0|     1627.0|         280.0|     565.0|     259.0|       3.8462|          342200.0|       NEAR BAY|\n",
      "|  -122.25|   37.85|              52.0|      919.0|         213.0|     413.0|     193.0|       4.0368|          269700.0|       NEAR BAY|\n",
      "|  -122.25|   37.84|              52.0|     2535.0|         489.0|    1094.0|     514.0|       3.6591|          299200.0|       NEAR BAY|\n",
      "|  -122.25|   37.84|              52.0|     3104.0|         687.0|    1157.0|     647.0|         3.12|          241400.0|       NEAR BAY|\n",
      "|  -122.26|   37.84|              42.0|     2555.0|         665.0|    1206.0|     595.0|       2.0804|          226700.0|       NEAR BAY|\n",
      "|  -122.25|   37.84|              52.0|     3549.0|         707.0|    1551.0|     714.0|       3.6912|          261100.0|       NEAR BAY|\n",
      "|  -122.26|   37.85|              52.0|     2202.0|         434.0|     910.0|     402.0|       3.2031|          281500.0|       NEAR BAY|\n",
      "|  -122.26|   37.85|              52.0|     3503.0|         752.0|    1504.0|     734.0|       3.2705|          241800.0|       NEAR BAY|\n",
      "|  -122.26|   37.85|              52.0|     2491.0|         474.0|    1098.0|     468.0|        3.075|          213500.0|       NEAR BAY|\n",
      "|  -122.26|   37.84|              52.0|      696.0|         191.0|     345.0|     174.0|       2.6736|          191300.0|       NEAR BAY|\n",
      "|  -122.26|   37.85|              52.0|     2643.0|         626.0|    1212.0|     620.0|       1.9167|          159200.0|       NEAR BAY|\n",
      "|  -122.26|   37.85|              50.0|     1120.0|         283.0|     697.0|     264.0|        2.125|          140000.0|       NEAR BAY|\n",
      "|  -122.27|   37.85|              52.0|     1966.0|         347.0|     793.0|     331.0|        2.775|          152500.0|       NEAR BAY|\n",
      "|  -122.27|   37.85|              52.0|     1228.0|         293.0|     648.0|     303.0|       2.1202|          155500.0|       NEAR BAY|\n",
      "|  -122.26|   37.84|              50.0|     2239.0|         455.0|     990.0|     419.0|       1.9911|          158700.0|       NEAR BAY|\n",
      "|  -122.27|   37.84|              52.0|     1503.0|         298.0|     690.0|     275.0|       2.6033|          162900.0|       NEAR BAY|\n",
      "+---------+--------+------------------+-----------+--------------+----------+----------+-------------+------------------+---------------+\n",
      "only showing top 20 rows\n",
      "\n"
     ]
    }
   ],
   "source": [
    "df_housing = spark.read.load('./housing.csv', format=\"csv\", sep=\",\", inferSchema=True, header=\"true\")\n",
    "df_housing.show()"
   ]
  },
  {
   "cell_type": "markdown",
   "id": "63014d24",
   "metadata": {},
   "source": [
    "## Предобработка  "
   ]
  },
  {
   "cell_type": "markdown",
   "id": "de1f91ab",
   "metadata": {},
   "source": [
    "Проверим данные на пропуски."
   ]
  },
  {
   "cell_type": "code",
   "execution_count": 5,
   "id": "c6b9e3ca",
   "metadata": {},
   "outputs": [
    {
     "data": {
      "text/html": [
       "<div>\n",
       "<style scoped>\n",
       "    .dataframe tbody tr th:only-of-type {\n",
       "        vertical-align: middle;\n",
       "    }\n",
       "\n",
       "    .dataframe tbody tr th {\n",
       "        vertical-align: top;\n",
       "    }\n",
       "\n",
       "    .dataframe thead th {\n",
       "        text-align: right;\n",
       "    }\n",
       "</style>\n",
       "<table border=\"1\" class=\"dataframe\">\n",
       "  <thead>\n",
       "    <tr style=\"text-align: right;\">\n",
       "      <th></th>\n",
       "      <th>summary</th>\n",
       "      <th>longitude</th>\n",
       "      <th>latitude</th>\n",
       "      <th>housing_median_age</th>\n",
       "      <th>total_rooms</th>\n",
       "      <th>total_bedrooms</th>\n",
       "      <th>population</th>\n",
       "      <th>households</th>\n",
       "      <th>median_income</th>\n",
       "      <th>median_house_value</th>\n",
       "      <th>ocean_proximity</th>\n",
       "    </tr>\n",
       "  </thead>\n",
       "  <tbody>\n",
       "    <tr>\n",
       "      <th>0</th>\n",
       "      <td>count</td>\n",
       "      <td>20640</td>\n",
       "      <td>20640</td>\n",
       "      <td>20640</td>\n",
       "      <td>20640</td>\n",
       "      <td>20433</td>\n",
       "      <td>20640</td>\n",
       "      <td>20640</td>\n",
       "      <td>20640</td>\n",
       "      <td>20640</td>\n",
       "      <td>20640</td>\n",
       "    </tr>\n",
       "    <tr>\n",
       "      <th>1</th>\n",
       "      <td>mean</td>\n",
       "      <td>-119.56970445736148</td>\n",
       "      <td>35.6318614341087</td>\n",
       "      <td>28.639486434108527</td>\n",
       "      <td>2635.7630813953488</td>\n",
       "      <td>537.8705525375618</td>\n",
       "      <td>1425.4767441860465</td>\n",
       "      <td>499.5396802325581</td>\n",
       "      <td>3.8706710029070246</td>\n",
       "      <td>206855.81690891474</td>\n",
       "      <td>None</td>\n",
       "    </tr>\n",
       "    <tr>\n",
       "      <th>2</th>\n",
       "      <td>stddev</td>\n",
       "      <td>2.003531723502584</td>\n",
       "      <td>2.135952397457101</td>\n",
       "      <td>12.58555761211163</td>\n",
       "      <td>2181.6152515827944</td>\n",
       "      <td>421.38507007403115</td>\n",
       "      <td>1132.46212176534</td>\n",
       "      <td>382.3297528316098</td>\n",
       "      <td>1.899821717945263</td>\n",
       "      <td>115395.61587441359</td>\n",
       "      <td>None</td>\n",
       "    </tr>\n",
       "    <tr>\n",
       "      <th>3</th>\n",
       "      <td>min</td>\n",
       "      <td>-124.35</td>\n",
       "      <td>32.54</td>\n",
       "      <td>1.0</td>\n",
       "      <td>2.0</td>\n",
       "      <td>1.0</td>\n",
       "      <td>3.0</td>\n",
       "      <td>1.0</td>\n",
       "      <td>0.4999</td>\n",
       "      <td>14999.0</td>\n",
       "      <td>&lt;1H OCEAN</td>\n",
       "    </tr>\n",
       "    <tr>\n",
       "      <th>4</th>\n",
       "      <td>max</td>\n",
       "      <td>-114.31</td>\n",
       "      <td>41.95</td>\n",
       "      <td>52.0</td>\n",
       "      <td>39320.0</td>\n",
       "      <td>6445.0</td>\n",
       "      <td>35682.0</td>\n",
       "      <td>6082.0</td>\n",
       "      <td>15.0001</td>\n",
       "      <td>500001.0</td>\n",
       "      <td>NEAR OCEAN</td>\n",
       "    </tr>\n",
       "  </tbody>\n",
       "</table>\n",
       "</div>"
      ],
      "text/plain": [
       "  summary            longitude           latitude  housing_median_age  \\\n",
       "0   count                20640              20640               20640   \n",
       "1    mean  -119.56970445736148   35.6318614341087  28.639486434108527   \n",
       "2  stddev    2.003531723502584  2.135952397457101   12.58555761211163   \n",
       "3     min              -124.35              32.54                 1.0   \n",
       "4     max              -114.31              41.95                52.0   \n",
       "\n",
       "          total_rooms      total_bedrooms          population  \\\n",
       "0               20640               20433               20640   \n",
       "1  2635.7630813953488   537.8705525375618  1425.4767441860465   \n",
       "2  2181.6152515827944  421.38507007403115    1132.46212176534   \n",
       "3                 2.0                 1.0                 3.0   \n",
       "4             39320.0              6445.0             35682.0   \n",
       "\n",
       "          households       median_income  median_house_value ocean_proximity  \n",
       "0              20640               20640               20640           20640  \n",
       "1  499.5396802325581  3.8706710029070246  206855.81690891474            None  \n",
       "2  382.3297528316098   1.899821717945263  115395.61587441359            None  \n",
       "3                1.0              0.4999             14999.0       <1H OCEAN  \n",
       "4             6082.0             15.0001            500001.0      NEAR OCEAN  "
      ]
     },
     "execution_count": 5,
     "metadata": {},
     "output_type": "execute_result"
    }
   ],
   "source": [
    "df_housing.describe().toPandas()"
   ]
  },
  {
   "cell_type": "markdown",
   "id": "230e6c97",
   "metadata": {},
   "source": [
    "В столбце `total_bedrooms` есть пропуски, заполнять их чем попало не получится, нужно просто удалить, учитывая что это всего 200 строк, примерно 1%"
   ]
  },
  {
   "cell_type": "code",
   "execution_count": 6,
   "id": "68ba06bd",
   "metadata": {},
   "outputs": [],
   "source": [
    "df_housing = df_housing.dropna()"
   ]
  },
  {
   "cell_type": "code",
   "execution_count": 7,
   "id": "afc6fddf",
   "metadata": {},
   "outputs": [
    {
     "data": {
      "text/html": [
       "<div>\n",
       "<style scoped>\n",
       "    .dataframe tbody tr th:only-of-type {\n",
       "        vertical-align: middle;\n",
       "    }\n",
       "\n",
       "    .dataframe tbody tr th {\n",
       "        vertical-align: top;\n",
       "    }\n",
       "\n",
       "    .dataframe thead th {\n",
       "        text-align: right;\n",
       "    }\n",
       "</style>\n",
       "<table border=\"1\" class=\"dataframe\">\n",
       "  <thead>\n",
       "    <tr style=\"text-align: right;\">\n",
       "      <th></th>\n",
       "      <th>summary</th>\n",
       "      <th>longitude</th>\n",
       "      <th>latitude</th>\n",
       "      <th>housing_median_age</th>\n",
       "      <th>total_rooms</th>\n",
       "      <th>total_bedrooms</th>\n",
       "      <th>population</th>\n",
       "      <th>households</th>\n",
       "      <th>median_income</th>\n",
       "      <th>median_house_value</th>\n",
       "      <th>ocean_proximity</th>\n",
       "    </tr>\n",
       "  </thead>\n",
       "  <tbody>\n",
       "    <tr>\n",
       "      <th>0</th>\n",
       "      <td>count</td>\n",
       "      <td>20433</td>\n",
       "      <td>20433</td>\n",
       "      <td>20433</td>\n",
       "      <td>20433</td>\n",
       "      <td>20433</td>\n",
       "      <td>20433</td>\n",
       "      <td>20433</td>\n",
       "      <td>20433</td>\n",
       "      <td>20433</td>\n",
       "      <td>20433</td>\n",
       "    </tr>\n",
       "    <tr>\n",
       "      <th>1</th>\n",
       "      <td>mean</td>\n",
       "      <td>-119.57068859198068</td>\n",
       "      <td>35.63322125972706</td>\n",
       "      <td>28.633093525179856</td>\n",
       "      <td>2636.5042333480155</td>\n",
       "      <td>537.8705525375618</td>\n",
       "      <td>1424.9469485635982</td>\n",
       "      <td>499.43346547251997</td>\n",
       "      <td>3.8711616013312273</td>\n",
       "      <td>206864.41315519012</td>\n",
       "      <td>None</td>\n",
       "    </tr>\n",
       "    <tr>\n",
       "      <th>2</th>\n",
       "      <td>stddev</td>\n",
       "      <td>2.003577890751096</td>\n",
       "      <td>2.1363476663779872</td>\n",
       "      <td>12.591805202182835</td>\n",
       "      <td>2185.269566977601</td>\n",
       "      <td>421.38507007403115</td>\n",
       "      <td>1133.2084897449597</td>\n",
       "      <td>382.2992258828481</td>\n",
       "      <td>1.899291249306247</td>\n",
       "      <td>115435.66709858322</td>\n",
       "      <td>None</td>\n",
       "    </tr>\n",
       "    <tr>\n",
       "      <th>3</th>\n",
       "      <td>min</td>\n",
       "      <td>-124.35</td>\n",
       "      <td>32.54</td>\n",
       "      <td>1.0</td>\n",
       "      <td>2.0</td>\n",
       "      <td>1.0</td>\n",
       "      <td>3.0</td>\n",
       "      <td>1.0</td>\n",
       "      <td>0.4999</td>\n",
       "      <td>14999.0</td>\n",
       "      <td>&lt;1H OCEAN</td>\n",
       "    </tr>\n",
       "    <tr>\n",
       "      <th>4</th>\n",
       "      <td>max</td>\n",
       "      <td>-114.31</td>\n",
       "      <td>41.95</td>\n",
       "      <td>52.0</td>\n",
       "      <td>39320.0</td>\n",
       "      <td>6445.0</td>\n",
       "      <td>35682.0</td>\n",
       "      <td>6082.0</td>\n",
       "      <td>15.0001</td>\n",
       "      <td>500001.0</td>\n",
       "      <td>NEAR OCEAN</td>\n",
       "    </tr>\n",
       "  </tbody>\n",
       "</table>\n",
       "</div>"
      ],
      "text/plain": [
       "  summary            longitude            latitude  housing_median_age  \\\n",
       "0   count                20433               20433               20433   \n",
       "1    mean  -119.57068859198068   35.63322125972706  28.633093525179856   \n",
       "2  stddev    2.003577890751096  2.1363476663779872  12.591805202182835   \n",
       "3     min              -124.35               32.54                 1.0   \n",
       "4     max              -114.31               41.95                52.0   \n",
       "\n",
       "          total_rooms      total_bedrooms          population  \\\n",
       "0               20433               20433               20433   \n",
       "1  2636.5042333480155   537.8705525375618  1424.9469485635982   \n",
       "2   2185.269566977601  421.38507007403115  1133.2084897449597   \n",
       "3                 2.0                 1.0                 3.0   \n",
       "4             39320.0              6445.0             35682.0   \n",
       "\n",
       "           households       median_income  median_house_value ocean_proximity  \n",
       "0               20433               20433               20433           20433  \n",
       "1  499.43346547251997  3.8711616013312273  206864.41315519012            None  \n",
       "2   382.2992258828481   1.899291249306247  115435.66709858322            None  \n",
       "3                 1.0              0.4999             14999.0       <1H OCEAN  \n",
       "4              6082.0             15.0001            500001.0      NEAR OCEAN  "
      ]
     },
     "execution_count": 7,
     "metadata": {},
     "output_type": "execute_result"
    }
   ],
   "source": [
    "df_housing.describe().toPandas()"
   ]
  },
  {
   "cell_type": "markdown",
   "id": "de6bfda9",
   "metadata": {},
   "source": [
    "Теперь можно перевести категориальные значения в понятные для модели цифры через OHE."
   ]
  },
  {
   "cell_type": "code",
   "execution_count": 8,
   "id": "62fe3bdb",
   "metadata": {},
   "outputs": [],
   "source": [
    "indexer = StringIndexer(inputCols=['ocean_proximity'], \n",
    "                        outputCols=['ocean_proximity_idx']) \n",
    "df_housing = indexer.fit(df_housing).transform(df_housing)\n",
    "\n",
    "encoder = OneHotEncoder(inputCols=['ocean_proximity_idx'],\n",
    "                        outputCols=['ocean_proximity_ohe'])\n",
    "df_housing = encoder.fit(df_housing).transform(df_housing)\n",
    "\n",
    "categorical_assembler =VectorAssembler(inputCols=['ocean_proximity_ohe'],\n",
    "                                        outputCol=\"categorical_features\")\n",
    "df_housing = categorical_assembler.transform(df_housing)"
   ]
  },
  {
   "cell_type": "code",
   "execution_count": 9,
   "id": "2eca5328",
   "metadata": {},
   "outputs": [
    {
     "data": {
      "text/html": [
       "<div>\n",
       "<style scoped>\n",
       "    .dataframe tbody tr th:only-of-type {\n",
       "        vertical-align: middle;\n",
       "    }\n",
       "\n",
       "    .dataframe tbody tr th {\n",
       "        vertical-align: top;\n",
       "    }\n",
       "\n",
       "    .dataframe thead th {\n",
       "        text-align: right;\n",
       "    }\n",
       "</style>\n",
       "<table border=\"1\" class=\"dataframe\">\n",
       "  <thead>\n",
       "    <tr style=\"text-align: right;\">\n",
       "      <th></th>\n",
       "      <th>longitude</th>\n",
       "      <th>latitude</th>\n",
       "      <th>housing_median_age</th>\n",
       "      <th>total_rooms</th>\n",
       "      <th>total_bedrooms</th>\n",
       "      <th>population</th>\n",
       "      <th>households</th>\n",
       "      <th>median_income</th>\n",
       "      <th>median_house_value</th>\n",
       "      <th>ocean_proximity</th>\n",
       "      <th>ocean_proximity_idx</th>\n",
       "      <th>ocean_proximity_ohe</th>\n",
       "      <th>categorical_features</th>\n",
       "    </tr>\n",
       "  </thead>\n",
       "  <tbody>\n",
       "    <tr>\n",
       "      <th>7682</th>\n",
       "      <td>-118.09</td>\n",
       "      <td>33.91</td>\n",
       "      <td>14.0</td>\n",
       "      <td>2369.0</td>\n",
       "      <td>604.0</td>\n",
       "      <td>1546.0</td>\n",
       "      <td>464.0</td>\n",
       "      <td>3.7969</td>\n",
       "      <td>159400.0</td>\n",
       "      <td>&lt;1H OCEAN</td>\n",
       "      <td>0.0</td>\n",
       "      <td>(1.0, 0.0, 0.0, 0.0)</td>\n",
       "      <td>(1.0, 0.0, 0.0, 0.0)</td>\n",
       "    </tr>\n",
       "    <tr>\n",
       "      <th>868</th>\n",
       "      <td>-122.03</td>\n",
       "      <td>37.56</td>\n",
       "      <td>31.0</td>\n",
       "      <td>4981.0</td>\n",
       "      <td>964.0</td>\n",
       "      <td>2841.0</td>\n",
       "      <td>924.0</td>\n",
       "      <td>4.8962</td>\n",
       "      <td>220200.0</td>\n",
       "      <td>NEAR BAY</td>\n",
       "      <td>3.0</td>\n",
       "      <td>(0.0, 0.0, 0.0, 1.0)</td>\n",
       "      <td>(0.0, 0.0, 0.0, 1.0)</td>\n",
       "    </tr>\n",
       "    <tr>\n",
       "      <th>13222</th>\n",
       "      <td>-117.64</td>\n",
       "      <td>34.03</td>\n",
       "      <td>10.0</td>\n",
       "      <td>3194.0</td>\n",
       "      <td>579.0</td>\n",
       "      <td>2088.0</td>\n",
       "      <td>549.0</td>\n",
       "      <td>4.1779</td>\n",
       "      <td>159100.0</td>\n",
       "      <td>INLAND</td>\n",
       "      <td>1.0</td>\n",
       "      <td>(0.0, 1.0, 0.0, 0.0)</td>\n",
       "      <td>(0.0, 1.0, 0.0, 0.0)</td>\n",
       "    </tr>\n",
       "    <tr>\n",
       "      <th>9433</th>\n",
       "      <td>-123.17</td>\n",
       "      <td>39.15</td>\n",
       "      <td>30.0</td>\n",
       "      <td>1904.0</td>\n",
       "      <td>331.0</td>\n",
       "      <td>816.0</td>\n",
       "      <td>325.0</td>\n",
       "      <td>4.4250</td>\n",
       "      <td>161900.0</td>\n",
       "      <td>&lt;1H OCEAN</td>\n",
       "      <td>0.0</td>\n",
       "      <td>(1.0, 0.0, 0.0, 0.0)</td>\n",
       "      <td>(1.0, 0.0, 0.0, 0.0)</td>\n",
       "    </tr>\n",
       "    <tr>\n",
       "      <th>4451</th>\n",
       "      <td>-118.22</td>\n",
       "      <td>34.05</td>\n",
       "      <td>36.0</td>\n",
       "      <td>1243.0</td>\n",
       "      <td>470.0</td>\n",
       "      <td>1668.0</td>\n",
       "      <td>444.0</td>\n",
       "      <td>1.0714</td>\n",
       "      <td>137500.0</td>\n",
       "      <td>&lt;1H OCEAN</td>\n",
       "      <td>0.0</td>\n",
       "      <td>(1.0, 0.0, 0.0, 0.0)</td>\n",
       "      <td>(1.0, 0.0, 0.0, 0.0)</td>\n",
       "    </tr>\n",
       "  </tbody>\n",
       "</table>\n",
       "</div>"
      ],
      "text/plain": [
       "       longitude  latitude  housing_median_age  total_rooms  total_bedrooms  \\\n",
       "7682     -118.09     33.91                14.0       2369.0           604.0   \n",
       "868      -122.03     37.56                31.0       4981.0           964.0   \n",
       "13222    -117.64     34.03                10.0       3194.0           579.0   \n",
       "9433     -123.17     39.15                30.0       1904.0           331.0   \n",
       "4451     -118.22     34.05                36.0       1243.0           470.0   \n",
       "\n",
       "       population  households  median_income  median_house_value  \\\n",
       "7682       1546.0       464.0         3.7969            159400.0   \n",
       "868        2841.0       924.0         4.8962            220200.0   \n",
       "13222      2088.0       549.0         4.1779            159100.0   \n",
       "9433        816.0       325.0         4.4250            161900.0   \n",
       "4451       1668.0       444.0         1.0714            137500.0   \n",
       "\n",
       "      ocean_proximity  ocean_proximity_idx   ocean_proximity_ohe  \\\n",
       "7682        <1H OCEAN                  0.0  (1.0, 0.0, 0.0, 0.0)   \n",
       "868          NEAR BAY                  3.0  (0.0, 0.0, 0.0, 1.0)   \n",
       "13222          INLAND                  1.0  (0.0, 1.0, 0.0, 0.0)   \n",
       "9433        <1H OCEAN                  0.0  (1.0, 0.0, 0.0, 0.0)   \n",
       "4451        <1H OCEAN                  0.0  (1.0, 0.0, 0.0, 0.0)   \n",
       "\n",
       "       categorical_features  \n",
       "7682   (1.0, 0.0, 0.0, 0.0)  \n",
       "868    (0.0, 0.0, 0.0, 1.0)  \n",
       "13222  (0.0, 1.0, 0.0, 0.0)  \n",
       "9433   (1.0, 0.0, 0.0, 0.0)  \n",
       "4451   (1.0, 0.0, 0.0, 0.0)  "
      ]
     },
     "execution_count": 9,
     "metadata": {},
     "output_type": "execute_result"
    }
   ],
   "source": [
    "df_housing.toPandas().sample(5)"
   ]
  },
  {
   "cell_type": "markdown",
   "id": "557654f7",
   "metadata": {},
   "source": [
    "Теперь можно и числовые столбцы привести к одному размеру."
   ]
  },
  {
   "cell_type": "code",
   "execution_count": 10,
   "id": "8608595a",
   "metadata": {},
   "outputs": [],
   "source": [
    "numerical_assembler = VectorAssembler(inputCols=['longitude',\n",
    "                                                 'latitude',\n",
    "                                                 'housing_median_age',\n",
    "                                                 'total_rooms',\n",
    "                                                 'total_bedrooms',\n",
    "                                                 'population',\n",
    "                                                 'households',\n",
    "                                                 'median_income'],\n",
    "                                      outputCol=\"numerical_features\")\n",
    "df_housing = numerical_assembler.transform(df_housing) \n",
    "standardScaler = StandardScaler(inputCol='numerical_features',\n",
    "                                outputCol=\"numerical_features_scaled\")\n",
    "\n",
    "df_housing = standardScaler.fit(df_housing).transform(df_housing) "
   ]
  },
  {
   "cell_type": "code",
   "execution_count": 11,
   "id": "6f1aeee7",
   "metadata": {},
   "outputs": [
    {
     "data": {
      "text/html": [
       "<div>\n",
       "<style scoped>\n",
       "    .dataframe tbody tr th:only-of-type {\n",
       "        vertical-align: middle;\n",
       "    }\n",
       "\n",
       "    .dataframe tbody tr th {\n",
       "        vertical-align: top;\n",
       "    }\n",
       "\n",
       "    .dataframe thead th {\n",
       "        text-align: right;\n",
       "    }\n",
       "</style>\n",
       "<table border=\"1\" class=\"dataframe\">\n",
       "  <thead>\n",
       "    <tr style=\"text-align: right;\">\n",
       "      <th></th>\n",
       "      <th>longitude</th>\n",
       "      <th>latitude</th>\n",
       "      <th>housing_median_age</th>\n",
       "      <th>total_rooms</th>\n",
       "      <th>total_bedrooms</th>\n",
       "      <th>population</th>\n",
       "      <th>households</th>\n",
       "      <th>median_income</th>\n",
       "      <th>median_house_value</th>\n",
       "      <th>ocean_proximity</th>\n",
       "      <th>ocean_proximity_idx</th>\n",
       "      <th>ocean_proximity_ohe</th>\n",
       "      <th>categorical_features</th>\n",
       "      <th>numerical_features</th>\n",
       "      <th>numerical_features_scaled</th>\n",
       "    </tr>\n",
       "  </thead>\n",
       "  <tbody>\n",
       "    <tr>\n",
       "      <th>2067</th>\n",
       "      <td>-119.81</td>\n",
       "      <td>36.75</td>\n",
       "      <td>52.0</td>\n",
       "      <td>1827.0</td>\n",
       "      <td>356.0</td>\n",
       "      <td>855.0</td>\n",
       "      <td>353.0</td>\n",
       "      <td>1.7636</td>\n",
       "      <td>55100.0</td>\n",
       "      <td>INLAND</td>\n",
       "      <td>1.0</td>\n",
       "      <td>(0.0, 1.0, 0.0, 0.0)</td>\n",
       "      <td>(0.0, 1.0, 0.0, 0.0)</td>\n",
       "      <td>[-119.81, 36.75, 52.0, 1827.0, 356.0, 855.0, 3...</td>\n",
       "      <td>[-59.79802460042418, 17.202256251814482, 4.129...</td>\n",
       "    </tr>\n",
       "    <tr>\n",
       "      <th>2863</th>\n",
       "      <td>-118.98</td>\n",
       "      <td>35.38</td>\n",
       "      <td>28.0</td>\n",
       "      <td>1171.0</td>\n",
       "      <td>299.0</td>\n",
       "      <td>1193.0</td>\n",
       "      <td>273.0</td>\n",
       "      <td>0.8639</td>\n",
       "      <td>49400.0</td>\n",
       "      <td>INLAND</td>\n",
       "      <td>1.0</td>\n",
       "      <td>(0.0, 1.0, 0.0, 0.0)</td>\n",
       "      <td>(0.0, 1.0, 0.0, 0.0)</td>\n",
       "      <td>[-118.98, 35.38, 28.0, 1171.0, 299.0, 1193.0, ...</td>\n",
       "      <td>[-59.383765686991644, 16.560974862291058, 2.22...</td>\n",
       "    </tr>\n",
       "    <tr>\n",
       "      <th>1678</th>\n",
       "      <td>-122.26</td>\n",
       "      <td>38.02</td>\n",
       "      <td>5.0</td>\n",
       "      <td>3846.0</td>\n",
       "      <td>786.0</td>\n",
       "      <td>2053.0</td>\n",
       "      <td>716.0</td>\n",
       "      <td>5.0473</td>\n",
       "      <td>184800.0</td>\n",
       "      <td>NEAR BAY</td>\n",
       "      <td>3.0</td>\n",
       "      <td>(0.0, 0.0, 0.0, 1.0)</td>\n",
       "      <td>(0.0, 0.0, 0.0, 1.0)</td>\n",
       "      <td>[-122.26, 38.02, 5.0, 3846.0, 786.0, 2053.0, 7...</td>\n",
       "      <td>[-61.02083705573709, 17.79672878078875, 0.3970...</td>\n",
       "    </tr>\n",
       "    <tr>\n",
       "      <th>10685</th>\n",
       "      <td>-117.92</td>\n",
       "      <td>33.62</td>\n",
       "      <td>35.0</td>\n",
       "      <td>1821.0</td>\n",
       "      <td>335.0</td>\n",
       "      <td>727.0</td>\n",
       "      <td>316.0</td>\n",
       "      <td>6.5842</td>\n",
       "      <td>458500.0</td>\n",
       "      <td>&lt;1H OCEAN</td>\n",
       "      <td>0.0</td>\n",
       "      <td>(1.0, 0.0, 0.0, 0.0)</td>\n",
       "      <td>(1.0, 0.0, 0.0, 0.0)</td>\n",
       "      <td>[-117.92, 33.62, 35.0, 1821.0, 335.0, 727.0, 3...</td>\n",
       "      <td>[-58.854712134897085, 15.737138916625927, 2.77...</td>\n",
       "    </tr>\n",
       "    <tr>\n",
       "      <th>9650</th>\n",
       "      <td>-121.70</td>\n",
       "      <td>36.67</td>\n",
       "      <td>37.0</td>\n",
       "      <td>641.0</td>\n",
       "      <td>129.0</td>\n",
       "      <td>458.0</td>\n",
       "      <td>142.0</td>\n",
       "      <td>3.3456</td>\n",
       "      <td>252600.0</td>\n",
       "      <td>&lt;1H OCEAN</td>\n",
       "      <td>0.0</td>\n",
       "      <td>(1.0, 0.0, 0.0, 0.0)</td>\n",
       "      <td>(1.0, 0.0, 0.0, 0.0)</td>\n",
       "      <td>[-121.7, 36.67, 37.0, 641.0, 129.0, 458.0, 142...</td>\n",
       "      <td>[-60.74133706595128, 17.164809163375157, 2.938...</td>\n",
       "    </tr>\n",
       "  </tbody>\n",
       "</table>\n",
       "</div>"
      ],
      "text/plain": [
       "       longitude  latitude  housing_median_age  total_rooms  total_bedrooms  \\\n",
       "2067     -119.81     36.75                52.0       1827.0           356.0   \n",
       "2863     -118.98     35.38                28.0       1171.0           299.0   \n",
       "1678     -122.26     38.02                 5.0       3846.0           786.0   \n",
       "10685    -117.92     33.62                35.0       1821.0           335.0   \n",
       "9650     -121.70     36.67                37.0        641.0           129.0   \n",
       "\n",
       "       population  households  median_income  median_house_value  \\\n",
       "2067        855.0       353.0         1.7636             55100.0   \n",
       "2863       1193.0       273.0         0.8639             49400.0   \n",
       "1678       2053.0       716.0         5.0473            184800.0   \n",
       "10685       727.0       316.0         6.5842            458500.0   \n",
       "9650        458.0       142.0         3.3456            252600.0   \n",
       "\n",
       "      ocean_proximity  ocean_proximity_idx   ocean_proximity_ohe  \\\n",
       "2067           INLAND                  1.0  (0.0, 1.0, 0.0, 0.0)   \n",
       "2863           INLAND                  1.0  (0.0, 1.0, 0.0, 0.0)   \n",
       "1678         NEAR BAY                  3.0  (0.0, 0.0, 0.0, 1.0)   \n",
       "10685       <1H OCEAN                  0.0  (1.0, 0.0, 0.0, 0.0)   \n",
       "9650        <1H OCEAN                  0.0  (1.0, 0.0, 0.0, 0.0)   \n",
       "\n",
       "       categorical_features  \\\n",
       "2067   (0.0, 1.0, 0.0, 0.0)   \n",
       "2863   (0.0, 1.0, 0.0, 0.0)   \n",
       "1678   (0.0, 0.0, 0.0, 1.0)   \n",
       "10685  (1.0, 0.0, 0.0, 0.0)   \n",
       "9650   (1.0, 0.0, 0.0, 0.0)   \n",
       "\n",
       "                                      numerical_features  \\\n",
       "2067   [-119.81, 36.75, 52.0, 1827.0, 356.0, 855.0, 3...   \n",
       "2863   [-118.98, 35.38, 28.0, 1171.0, 299.0, 1193.0, ...   \n",
       "1678   [-122.26, 38.02, 5.0, 3846.0, 786.0, 2053.0, 7...   \n",
       "10685  [-117.92, 33.62, 35.0, 1821.0, 335.0, 727.0, 3...   \n",
       "9650   [-121.7, 36.67, 37.0, 641.0, 129.0, 458.0, 142...   \n",
       "\n",
       "                               numerical_features_scaled  \n",
       "2067   [-59.79802460042418, 17.202256251814482, 4.129...  \n",
       "2863   [-59.383765686991644, 16.560974862291058, 2.22...  \n",
       "1678   [-61.02083705573709, 17.79672878078875, 0.3970...  \n",
       "10685  [-58.854712134897085, 15.737138916625927, 2.77...  \n",
       "9650   [-60.74133706595128, 17.164809163375157, 2.938...  "
      ]
     },
     "execution_count": 11,
     "metadata": {},
     "output_type": "execute_result"
    }
   ],
   "source": [
    "df_housing.toPandas().sample(5)"
   ]
  },
  {
   "cell_type": "markdown",
   "id": "f129540d",
   "metadata": {},
   "source": [
    "Сибираем все вместе для будущего обучения."
   ]
  },
  {
   "cell_type": "code",
   "execution_count": 12,
   "id": "aea04a3e",
   "metadata": {
    "scrolled": false
   },
   "outputs": [],
   "source": [
    "all_features = ['categorical_features','numerical_features_scaled']\n",
    "\n",
    "final_assembler = VectorAssembler(inputCols=all_features, \n",
    "                                  outputCol='features') \n",
    "df_all_features = final_assembler.transform(df_housing)"
   ]
  },
  {
   "cell_type": "code",
   "execution_count": 13,
   "id": "a5032851",
   "metadata": {},
   "outputs": [],
   "source": [
    "df_all_features = df_all_features.select('features','median_house_value')"
   ]
  },
  {
   "cell_type": "code",
   "execution_count": 14,
   "id": "2d901147",
   "metadata": {},
   "outputs": [
    {
     "name": "stdout",
     "output_type": "stream",
     "text": [
      "+--------------------+------------------+\n",
      "|            features|median_house_value|\n",
      "+--------------------+------------------+\n",
      "|[0.0,0.0,0.0,1.0,...|          452600.0|\n",
      "|[0.0,0.0,0.0,1.0,...|          358500.0|\n",
      "|[0.0,0.0,0.0,1.0,...|          352100.0|\n",
      "+--------------------+------------------+\n",
      "only showing top 3 rows\n",
      "\n"
     ]
    }
   ],
   "source": [
    "df_all_features.show(3)"
   ]
  },
  {
   "cell_type": "code",
   "execution_count": 15,
   "id": "0eb12734",
   "metadata": {},
   "outputs": [],
   "source": [
    "all_features = ['numerical_features_scaled']\n",
    "\n",
    "final_assembler = VectorAssembler(inputCols=all_features, \n",
    "                                  outputCol='features') \n",
    "df_numerical = final_assembler.transform(df_housing)"
   ]
  },
  {
   "cell_type": "code",
   "execution_count": 16,
   "id": "ad48f1e3",
   "metadata": {},
   "outputs": [],
   "source": [
    "df_numerical = df_numerical.select('features','median_house_value')"
   ]
  },
  {
   "cell_type": "code",
   "execution_count": 17,
   "id": "d5f1e6b8",
   "metadata": {},
   "outputs": [
    {
     "name": "stdout",
     "output_type": "stream",
     "text": [
      "+--------------------+------------------+\n",
      "|            features|median_house_value|\n",
      "+--------------------+------------------+\n",
      "|[-61.005863841998...|          452600.0|\n",
      "|[-61.000872770752...|          358500.0|\n",
      "|[-61.010854913244...|          352100.0|\n",
      "+--------------------+------------------+\n",
      "only showing top 3 rows\n",
      "\n"
     ]
    }
   ],
   "source": [
    "df_numerical.show(3)"
   ]
  },
  {
   "cell_type": "markdown",
   "id": "2a76ac9c",
   "metadata": {},
   "source": [
    "Теперь делим на обучающую и проверочную выборки."
   ]
  },
  {
   "cell_type": "code",
   "execution_count": 18,
   "id": "31af9ece",
   "metadata": {},
   "outputs": [],
   "source": [
    "train_data_all, test_data_all = df_all_features.randomSplit([.8,.2], seed=RANDOM_SEED)\n",
    "train_data_num, test_data_num = df_numerical.randomSplit([.8,.2], seed=RANDOM_SEED)"
   ]
  },
  {
   "cell_type": "markdown",
   "id": "1d5a344e",
   "metadata": {},
   "source": [
    "Отлично, все готово для будущего обучения."
   ]
  },
  {
   "cell_type": "markdown",
   "id": "955d0a56",
   "metadata": {},
   "source": [
    "Для обучения модели будем использовать несолько подходов:\n",
    "1. Обучать нразные модели\n",
    "2. Использовать разное количество данных."
   ]
  },
  {
   "cell_type": "markdown",
   "id": "3d7ec2e0",
   "metadata": {},
   "source": [
    "## Обучение модели"
   ]
  },
  {
   "cell_type": "markdown",
   "id": "0bbadfdd",
   "metadata": {},
   "source": [
    "### LogisticRegression все данные"
   ]
  },
  {
   "cell_type": "code",
   "execution_count": 33,
   "id": "5f9a5789",
   "metadata": {},
   "outputs": [],
   "source": [
    "lr = LinearRegression(featuresCol = 'features', labelCol='median_house_value')"
   ]
  },
  {
   "cell_type": "code",
   "execution_count": 20,
   "id": "a2712d33",
   "metadata": {},
   "outputs": [],
   "source": [
    "regParam = []\n",
    "for i in range(1,10):\n",
    "    regParam.append(i/10)"
   ]
  },
  {
   "cell_type": "code",
   "execution_count": 21,
   "id": "632ff116",
   "metadata": {},
   "outputs": [],
   "source": [
    "paramGrid = ParamGridBuilder().addGrid(lr.maxIter, range(1,51,10))\\\n",
    "                              .addGrid(lr.regParam, regParam)\\\n",
    "                              .addGrid(lr.elasticNetParam, regParam)\\\n",
    "                              .build()"
   ]
  },
  {
   "cell_type": "code",
   "execution_count": 34,
   "id": "40c4f577",
   "metadata": {},
   "outputs": [],
   "source": [
    "evaluator = RegressionEvaluator(labelCol='median_house_value',metricName='r2')\n",
    "valid = TrainValidationSplit(estimator=lr,\n",
    "                             estimatorParamMaps=paramGrid,\n",
    "                             evaluator=evaluator,\n",
    "                             trainRatio=0.8,\n",
    "                             seed=RANDOM_SEED)"
   ]
  },
  {
   "cell_type": "code",
   "execution_count": 35,
   "id": "78e3a276",
   "metadata": {},
   "outputs": [],
   "source": [
    "model = valid.fit(train_data_all) "
   ]
  },
  {
   "cell_type": "code",
   "execution_count": 36,
   "id": "cd441611",
   "metadata": {},
   "outputs": [],
   "source": [
    "predictions_all = model.transform(test_data_all)"
   ]
  },
  {
   "cell_type": "code",
   "execution_count": 25,
   "id": "6179fb5a",
   "metadata": {},
   "outputs": [
    {
     "name": "stdout",
     "output_type": "stream",
     "text": [
      "+--------------------+------------------+------------------+\n",
      "|            features|median_house_value|        prediction|\n",
      "+--------------------+------------------+------------------+\n",
      "|[0.0,0.0,0.0,0.0,...|          300000.0| 257342.7080652197|\n",
      "|[0.0,0.0,0.0,1.0,...|          285600.0|301754.82220735215|\n",
      "+--------------------+------------------+------------------+\n",
      "only showing top 2 rows\n",
      "\n"
     ]
    }
   ],
   "source": [
    "predictions_all.show(2)"
   ]
  },
  {
   "cell_type": "code",
   "execution_count": 37,
   "id": "4836882f",
   "metadata": {},
   "outputs": [
    {
     "name": "stdout",
     "output_type": "stream",
     "text": [
      "метрика R2: 0.6462578827404262\n",
      "метрика MAE: 49170.8252930821\n",
      "метрика RMSE: 67682.80126436909\n"
     ]
    }
   ],
   "source": [
    "r2_all = RegressionEvaluator(labelCol='median_house_value',metricName='r2').evaluate(predictions_all.select(\"median_house_value\", \"prediction\"))\n",
    "mae_all = RegressionEvaluator(labelCol='median_house_value',metricName='mae').evaluate(predictions_all.select(\"median_house_value\", \"prediction\"))\n",
    "rmse_all = RegressionEvaluator(labelCol='median_house_value',metricName='rmse').evaluate(predictions_all.select(\"median_house_value\", \"prediction\"))\n",
    "print(f'метрика R2: {r2_all}')\n",
    "print(f'метрика MAE: {mae_all}')\n",
    "print(f'метрика RMSE: {rmse_all}')"
   ]
  },
  {
   "cell_type": "code",
   "execution_count": 27,
   "id": "f0efe170",
   "metadata": {},
   "outputs": [
    {
     "name": "stdout",
     "output_type": "stream",
     "text": [
      "+--------------------+------------------+------------------+\n",
      "|            features|median_house_value|        prediction|\n",
      "+--------------------+------------------+------------------+\n",
      "|[-62.039015589956...|          103600.0| 106150.4539744351|\n",
      "|[-61.994095948741...|           58100.0|106006.44249709835|\n",
      "+--------------------+------------------+------------------+\n",
      "only showing top 2 rows\n",
      "\n"
     ]
    }
   ],
   "source": [
    "model = lr.fit(train_data_num)\n",
    "predictions_num = model.transform(test_data_num)\n",
    "predictions_num.show(2)"
   ]
  },
  {
   "cell_type": "code",
   "execution_count": 28,
   "id": "a0ac39c2",
   "metadata": {},
   "outputs": [
    {
     "name": "stdout",
     "output_type": "stream",
     "text": [
      "метрика R2: 0.6353535653534114\n",
      "метрика MAE: 51561.786938304096\n",
      "метрика RMSE: 70372.96265070571\n"
     ]
    }
   ],
   "source": [
    "r2_num = RegressionEvaluator(labelCol='median_house_value',metricName='r2').evaluate(predictions_num.select(\"median_house_value\", \"prediction\"))\n",
    "mae_num = RegressionEvaluator(labelCol='median_house_value',metricName='mae').evaluate(predictions_num.select(\"median_house_value\", \"prediction\"))\n",
    "rmse_num = RegressionEvaluator(labelCol='median_house_value',metricName='rmse').evaluate(predictions_num.select(\"median_house_value\", \"prediction\"))\n",
    "print(f'метрика R2: {r2_num}')\n",
    "print(f'метрика MAE: {mae_num}')\n",
    "print(f'метрика RMSE: {rmse_num}')"
   ]
  }
 ],
 "metadata": {
  "ExecuteTimeLog": [
   {
    "duration": 15611,
    "start_time": "2022-11-10T11:27:42.947Z"
   },
   {
    "duration": 9145,
    "start_time": "2022-11-10T11:28:21.698Z"
   },
   {
    "duration": 197,
    "start_time": "2022-11-10T11:31:28.451Z"
   },
   {
    "duration": 11,
    "start_time": "2022-11-10T11:31:36.284Z"
   },
   {
    "duration": 47,
    "start_time": "2022-11-12T08:18:07.929Z"
   },
   {
    "duration": 15769,
    "start_time": "2022-11-12T08:18:12.698Z"
   },
   {
    "duration": 9786,
    "start_time": "2022-11-12T08:18:28.469Z"
   },
   {
    "duration": 99,
    "start_time": "2022-11-12T08:18:38.256Z"
   },
   {
    "duration": 6300,
    "start_time": "2022-11-12T08:18:38.357Z"
   },
   {
    "duration": 93,
    "start_time": "2022-11-12T08:23:57.860Z"
   },
   {
    "duration": 33,
    "start_time": "2022-11-12T08:24:31.158Z"
   },
   {
    "duration": 4505,
    "start_time": "2022-11-12T08:24:40.629Z"
   },
   {
    "duration": 11,
    "start_time": "2022-11-12T08:28:01.303Z"
   },
   {
    "duration": 322,
    "start_time": "2022-11-12T08:28:27.948Z"
   },
   {
    "duration": 131,
    "start_time": "2022-11-12T08:28:31.523Z"
   },
   {
    "duration": 8,
    "start_time": "2022-11-12T08:31:50.139Z"
   },
   {
    "duration": 4,
    "start_time": "2022-11-12T08:32:18.623Z"
   },
   {
    "duration": 34,
    "start_time": "2022-11-12T08:32:21.420Z"
   },
   {
    "duration": 1758,
    "start_time": "2022-11-12T08:32:30.818Z"
   },
   {
    "duration": 879,
    "start_time": "2022-11-12T08:32:38.279Z"
   },
   {
    "duration": 709,
    "start_time": "2022-11-12T08:33:04.466Z"
   },
   {
    "duration": 14869,
    "start_time": "2022-11-12T08:33:05.177Z"
   },
   {
    "duration": 8698,
    "start_time": "2022-11-12T08:33:20.048Z"
   },
   {
    "duration": 110,
    "start_time": "2022-11-12T08:33:28.748Z"
   },
   {
    "duration": 6075,
    "start_time": "2022-11-12T08:33:28.861Z"
   },
   {
    "duration": 2194,
    "start_time": "2022-11-12T08:33:34.938Z"
   },
   {
    "duration": 4,
    "start_time": "2022-11-12T08:35:14.782Z"
   },
   {
    "duration": 87,
    "start_time": "2022-11-12T08:36:12.438Z"
   },
   {
    "duration": 438,
    "start_time": "2022-11-12T08:36:23.331Z"
   },
   {
    "duration": 875,
    "start_time": "2022-11-14T08:30:14.163Z"
   },
   {
    "duration": 19579,
    "start_time": "2022-11-14T08:30:17.299Z"
   },
   {
    "duration": 9298,
    "start_time": "2022-11-14T08:30:36.880Z"
   },
   {
    "duration": 3923,
    "start_time": "2022-11-14T08:30:57.786Z"
   },
   {
    "duration": 1412,
    "start_time": "2022-11-14T08:31:46.283Z"
   },
   {
    "duration": 1216,
    "start_time": "2022-11-14T08:32:26.386Z"
   },
   {
    "duration": 739,
    "start_time": "2022-11-15T11:18:30.158Z"
   },
   {
    "duration": 14580,
    "start_time": "2022-11-15T11:18:31.216Z"
   },
   {
    "duration": 8391,
    "start_time": "2022-11-15T11:18:45.799Z"
   },
   {
    "duration": 4006,
    "start_time": "2022-11-15T11:18:54.191Z"
   },
   {
    "duration": 455,
    "start_time": "2022-11-15T11:18:58.199Z"
   },
   {
    "duration": 3866,
    "start_time": "2022-11-15T11:20:12.033Z"
   },
   {
    "duration": 1312,
    "start_time": "2022-11-15T11:23:51.178Z"
   },
   {
    "duration": 2562,
    "start_time": "2022-11-15T11:24:12.262Z"
   },
   {
    "duration": 118,
    "start_time": "2022-11-15T11:25:05.777Z"
   },
   {
    "duration": 116,
    "start_time": "2022-11-15T11:25:21.019Z"
   },
   {
    "duration": 101,
    "start_time": "2022-11-15T11:25:27.513Z"
   },
   {
    "duration": 744,
    "start_time": "2022-11-15T11:25:59.975Z"
   },
   {
    "duration": 15178,
    "start_time": "2022-11-15T11:26:00.721Z"
   },
   {
    "duration": 8585,
    "start_time": "2022-11-15T11:26:15.902Z"
   },
   {
    "duration": 3634,
    "start_time": "2022-11-15T11:26:24.489Z"
   },
   {
    "duration": 4454,
    "start_time": "2022-11-15T11:26:28.124Z"
   },
   {
    "duration": 1501,
    "start_time": "2022-11-15T11:26:32.580Z"
   },
   {
    "duration": 2453,
    "start_time": "2022-11-15T11:26:34.083Z"
   },
   {
    "duration": 70,
    "start_time": "2022-11-15T11:37:55.184Z"
   },
   {
    "duration": 15,
    "start_time": "2022-11-15T11:38:03.751Z"
   },
   {
    "duration": 1876,
    "start_time": "2022-11-15T11:38:06.067Z"
   },
   {
    "duration": 2408,
    "start_time": "2022-11-15T11:38:13.279Z"
   },
   {
    "duration": 711,
    "start_time": "2022-11-15T11:42:06.717Z"
   },
   {
    "duration": 14989,
    "start_time": "2022-11-15T11:42:07.430Z"
   },
   {
    "duration": 9270,
    "start_time": "2022-11-15T11:42:22.422Z"
   },
   {
    "duration": 4311,
    "start_time": "2022-11-15T11:42:31.695Z"
   },
   {
    "duration": 14,
    "start_time": "2022-11-15T11:42:36.008Z"
   },
   {
    "duration": 1485,
    "start_time": "2022-11-15T11:42:36.024Z"
   },
   {
    "duration": 2089,
    "start_time": "2022-11-15T11:42:37.511Z"
   },
   {
    "duration": 3537,
    "start_time": "2022-11-15T11:42:39.603Z"
   },
   {
    "duration": 124,
    "start_time": "2022-11-15T11:51:15.518Z"
   },
   {
    "duration": 100,
    "start_time": "2022-11-15T11:51:23.009Z"
   },
   {
    "duration": 653,
    "start_time": "2022-11-15T11:51:32.661Z"
   },
   {
    "duration": 15186,
    "start_time": "2022-11-15T11:51:33.316Z"
   },
   {
    "duration": 8585,
    "start_time": "2022-11-15T11:51:48.505Z"
   },
   {
    "duration": 3997,
    "start_time": "2022-11-15T11:51:57.092Z"
   },
   {
    "duration": 22,
    "start_time": "2022-11-15T11:52:01.092Z"
   },
   {
    "duration": 1992,
    "start_time": "2022-11-15T11:52:01.116Z"
   },
   {
    "duration": 2090,
    "start_time": "2022-11-15T11:52:03.110Z"
   },
   {
    "duration": 2688,
    "start_time": "2022-11-15T11:52:05.202Z"
   },
   {
    "duration": 1110,
    "start_time": "2022-11-15T11:52:07.892Z"
   },
   {
    "duration": 473,
    "start_time": "2022-11-15T11:54:34.506Z"
   },
   {
    "duration": 3,
    "start_time": "2022-11-15T11:56:01.054Z"
   },
   {
    "duration": 2734,
    "start_time": "2022-11-15T11:56:09.460Z"
   },
   {
    "duration": 668,
    "start_time": "2022-11-15T13:50:19.335Z"
   },
   {
    "duration": 2,
    "start_time": "2022-11-15T13:50:20.004Z"
   },
   {
    "duration": 14387,
    "start_time": "2022-11-15T13:50:20.008Z"
   },
   {
    "duration": 9201,
    "start_time": "2022-11-15T13:50:34.397Z"
   },
   {
    "duration": 4092,
    "start_time": "2022-11-15T13:50:43.600Z"
   },
   {
    "duration": 21,
    "start_time": "2022-11-15T13:50:47.693Z"
   },
   {
    "duration": 1492,
    "start_time": "2022-11-15T13:50:47.716Z"
   },
   {
    "duration": 2073,
    "start_time": "2022-11-15T13:50:49.210Z"
   },
   {
    "duration": 2863,
    "start_time": "2022-11-15T13:50:51.285Z"
   },
   {
    "duration": 1154,
    "start_time": "2022-11-15T13:50:54.151Z"
   },
   {
    "duration": 584,
    "start_time": "2022-11-15T13:50:55.307Z"
   },
   {
    "duration": 2893,
    "start_time": "2022-11-15T13:50:55.893Z"
   },
   {
    "duration": 2262903,
    "start_time": "2022-11-15T13:50:58.788Z"
   },
   {
    "duration": 0,
    "start_time": "2022-11-15T14:28:41.693Z"
   },
   {
    "duration": 165889,
    "start_time": "2022-11-15T14:33:06.729Z"
   },
   {
    "duration": 0,
    "start_time": "2022-11-15T14:35:52.620Z"
   },
   {
    "duration": 19159,
    "start_time": "2022-11-15T14:36:20.449Z"
   },
   {
    "duration": 4528,
    "start_time": "2022-11-15T14:36:48.254Z"
   },
   {
    "duration": 28,
    "start_time": "2022-11-15T14:37:20.081Z"
   },
   {
    "duration": 82725,
    "start_time": "2022-11-15T14:38:52.958Z"
   },
   {
    "duration": 5,
    "start_time": "2022-11-15T14:40:20.587Z"
   },
   {
    "duration": 50,
    "start_time": "2022-11-15T14:40:20.594Z"
   },
   {
    "duration": 53,
    "start_time": "2022-11-15T14:40:20.646Z"
   },
   {
    "duration": 40121,
    "start_time": "2022-11-15T14:40:20.702Z"
   },
   {
    "duration": 0,
    "start_time": "2022-11-15T14:41:00.826Z"
   },
   {
    "duration": 0,
    "start_time": "2022-11-15T14:41:00.827Z"
   },
   {
    "duration": 0,
    "start_time": "2022-11-15T14:41:00.828Z"
   },
   {
    "duration": 0,
    "start_time": "2022-11-15T14:41:00.829Z"
   },
   {
    "duration": 0,
    "start_time": "2022-11-15T14:41:00.830Z"
   },
   {
    "duration": 0,
    "start_time": "2022-11-15T14:41:00.831Z"
   },
   {
    "duration": 0,
    "start_time": "2022-11-15T14:41:00.831Z"
   },
   {
    "duration": 768,
    "start_time": "2022-11-15T14:41:08.351Z"
   },
   {
    "duration": 2,
    "start_time": "2022-11-15T14:41:09.967Z"
   },
   {
    "duration": 14870,
    "start_time": "2022-11-15T14:41:10.841Z"
   },
   {
    "duration": 9276,
    "start_time": "2022-11-15T14:41:25.714Z"
   },
   {
    "duration": 4486,
    "start_time": "2022-11-15T14:41:34.992Z"
   },
   {
    "duration": 16,
    "start_time": "2022-11-15T14:41:39.481Z"
   },
   {
    "duration": 1698,
    "start_time": "2022-11-15T14:41:39.499Z"
   },
   {
    "duration": 2286,
    "start_time": "2022-11-15T14:41:41.199Z"
   },
   {
    "duration": 3576,
    "start_time": "2022-11-15T14:41:43.491Z"
   },
   {
    "duration": 1234,
    "start_time": "2022-11-15T14:41:47.076Z"
   },
   {
    "duration": 139,
    "start_time": "2022-11-15T14:41:48.311Z"
   },
   {
    "duration": 0,
    "start_time": "2022-11-15T14:41:48.452Z"
   },
   {
    "duration": 0,
    "start_time": "2022-11-15T14:41:48.453Z"
   },
   {
    "duration": 82,
    "start_time": "2022-11-15T14:42:08.662Z"
   },
   {
    "duration": 3371,
    "start_time": "2022-11-15T14:43:54.920Z"
   },
   {
    "duration": 20,
    "start_time": "2022-11-15T14:44:47.712Z"
   },
   {
    "duration": 8,
    "start_time": "2022-11-15T14:45:20.347Z"
   },
   {
    "duration": 1534,
    "start_time": "2022-11-15T14:45:26.346Z"
   },
   {
    "duration": 2324,
    "start_time": "2022-11-15T14:45:51.160Z"
   },
   {
    "duration": 331,
    "start_time": "2022-11-15T14:45:56.760Z"
   },
   {
    "duration": 309945,
    "start_time": "2022-11-15T14:46:23.872Z"
   },
   {
    "duration": 728,
    "start_time": "2022-11-15T14:51:41.485Z"
   },
   {
    "duration": 2,
    "start_time": "2022-11-15T14:51:42.215Z"
   },
   {
    "duration": 15691,
    "start_time": "2022-11-15T14:51:42.219Z"
   },
   {
    "duration": 9787,
    "start_time": "2022-11-15T14:51:57.912Z"
   },
   {
    "duration": 4986,
    "start_time": "2022-11-15T14:52:07.704Z"
   },
   {
    "duration": 19,
    "start_time": "2022-11-15T14:52:12.692Z"
   },
   {
    "duration": 2306,
    "start_time": "2022-11-15T14:52:12.713Z"
   },
   {
    "duration": 476,
    "start_time": "2022-11-15T14:52:15.021Z"
   },
   {
    "duration": 0,
    "start_time": "2022-11-15T14:52:15.499Z"
   },
   {
    "duration": 0,
    "start_time": "2022-11-15T14:52:15.500Z"
   },
   {
    "duration": 0,
    "start_time": "2022-11-15T14:52:15.501Z"
   },
   {
    "duration": 0,
    "start_time": "2022-11-15T14:52:15.503Z"
   },
   {
    "duration": 0,
    "start_time": "2022-11-15T14:52:15.504Z"
   },
   {
    "duration": 0,
    "start_time": "2022-11-15T14:52:15.505Z"
   },
   {
    "duration": 0,
    "start_time": "2022-11-15T14:52:15.506Z"
   },
   {
    "duration": 0,
    "start_time": "2022-11-15T14:52:15.508Z"
   },
   {
    "duration": 0,
    "start_time": "2022-11-15T14:52:15.509Z"
   },
   {
    "duration": 1737,
    "start_time": "2022-11-15T14:52:59.249Z"
   },
   {
    "duration": 103,
    "start_time": "2022-11-15T14:53:12.127Z"
   },
   {
    "duration": 1000,
    "start_time": "2022-11-15T14:53:18.622Z"
   },
   {
    "duration": 11,
    "start_time": "2022-11-15T14:53:24.892Z"
   },
   {
    "duration": 838,
    "start_time": "2022-11-15T14:53:27.755Z"
   },
   {
    "duration": 2033,
    "start_time": "2022-11-15T14:53:31.251Z"
   },
   {
    "duration": 1312,
    "start_time": "2022-11-15T14:53:42.577Z"
   },
   {
    "duration": 2736,
    "start_time": "2022-11-15T14:53:46.406Z"
   },
   {
    "duration": 24,
    "start_time": "2022-11-15T14:53:58.919Z"
   },
   {
    "duration": 1413,
    "start_time": "2022-11-15T14:54:00.893Z"
   },
   {
    "duration": 2867,
    "start_time": "2022-11-15T14:54:06.140Z"
   },
   {
    "duration": 320,
    "start_time": "2022-11-15T14:54:09.077Z"
   },
   {
    "duration": 336,
    "start_time": "2022-11-15T14:54:19.746Z"
   },
   {
    "duration": 31603,
    "start_time": "2022-11-15T14:54:23.532Z"
   }
  ],
  "colab": {
   "name": "PySparkSprint.ipynb",
   "provenance": []
  },
  "kernelspec": {
   "display_name": "Python 3.10.4 64-bit",
   "language": "python",
   "name": "python3"
  },
  "language_info": {
   "codemirror_mode": {
    "name": "ipython",
    "version": 3
   },
   "file_extension": ".py",
   "mimetype": "text/x-python",
   "name": "python",
   "nbconvert_exporter": "python",
   "pygments_lexer": "ipython3",
   "version": "3.10.4"
  },
  "toc": {
   "base_numbering": 1,
   "nav_menu": {},
   "number_sections": true,
   "sideBar": true,
   "skip_h1_title": true,
   "title_cell": "Содержание",
   "title_sidebar": "Contents",
   "toc_cell": true,
   "toc_position": {},
   "toc_section_display": true,
   "toc_window_display": false
  },
  "vscode": {
   "interpreter": {
    "hash": "2469a70536e4d2335a2ea8907942d0699c37342a371ac185bdb5b0aa6f073890"
   }
  }
 },
 "nbformat": 4,
 "nbformat_minor": 5
}
