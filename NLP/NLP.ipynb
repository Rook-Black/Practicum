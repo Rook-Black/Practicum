{
 "cells": [
  {
   "attachments": {},
   "cell_type": "markdown",
   "metadata": {
    "toc": true
   },
   "source": [
    "<h1>Содержание<span class=\"tocSkip\"></span></h1>\n",
    "<div class=\"toc\"><ul class=\"toc-item\"><li><span><a href=\"#Подготовка\" data-toc-modified-id=\"Подготовка-1\"><span class=\"toc-item-num\">1&nbsp;&nbsp;</span>Подготовка</a></span></li><li><span><a href=\"#Обучение\" data-toc-modified-id=\"Обучение-2\"><span class=\"toc-item-num\">2&nbsp;&nbsp;</span>Обучение</a></span></li><li><span><a href=\"#Выводы\" data-toc-modified-id=\"Выводы-3\"><span class=\"toc-item-num\">3&nbsp;&nbsp;</span>Выводы</a></span></li><li><span><a href=\"#Чек-лист-проверки\" data-toc-modified-id=\"Чек-лист-проверки-4\"><span class=\"toc-item-num\">4&nbsp;&nbsp;</span>Чек-лист проверки</a></span></li></ul></div>"
   ]
  },
  {
   "attachments": {},
   "cell_type": "markdown",
   "metadata": {},
   "source": [
    "# Проект для «Викишоп»"
   ]
  },
  {
   "attachments": {},
   "cell_type": "markdown",
   "metadata": {},
   "source": [
    "Интернет-магазин «Викишоп» запускает новый сервис. Теперь пользователи могут редактировать и дополнять описания товаров, как в вики-сообществах. То есть клиенты предлагают свои правки и комментируют изменения других. Магазину нужен инструмент, который будет искать токсичные комментарии и отправлять их на модерацию. \n",
    "\n",
    "Обучите модель классифицировать комментарии на позитивные и негативные. В вашем распоряжении набор данных с разметкой о токсичности правок.\n",
    "\n",
    "Постройте модель со значением метрики качества *F1* не меньше 0.75. \n",
    "\n",
    "**Инструкция по выполнению проекта**\n",
    "\n",
    "1. Загрузите и подготовьте данные.\n",
    "2. Обучите разные модели. \n",
    "3. Сделайте выводы.\n",
    "\n",
    "Для выполнения проекта применять *BERT* необязательно, но вы можете попробовать.\n",
    "\n",
    "**Описание данных**\n",
    "\n",
    "Данные находятся в файле `toxic_comments.csv`. Столбец *text* в нём содержит текст комментария, а *toxic* — целевой признак."
   ]
  },
  {
   "attachments": {},
   "cell_type": "markdown",
   "metadata": {},
   "source": [
    "## Подготовка"
   ]
  },
  {
   "attachments": {},
   "cell_type": "markdown",
   "metadata": {},
   "source": [
    "Подклбючаем необходимые библиотеки и создаем переменные."
   ]
  },
  {
   "cell_type": "code",
   "execution_count": 55,
   "metadata": {},
   "outputs": [],
   "source": [
    "import pandas as pd\n",
    "import numpy as np\n",
    "import re\n",
    "import spacy\n",
    "import warnings\n",
    "\n",
    "from sklearn.feature_extraction.text import TfidfVectorizer\n",
    "from sklearn.model_selection import train_test_split\n",
    "from sklearn.linear_model import LogisticRegression as lr\n",
    "from sklearn.model_selection import GridSearchCV\n",
    "from sklearn.metrics import f1_score as f1\n",
    "from sklearn.ensemble import RandomForestClassifier as RFC\n",
    "\n",
    "import matplotlib.pyplot as plt\n",
    "\n",
    "from catboost import CatBoostClassifier\n",
    "\n",
    "from nltk.corpus import stopwords as nltk_stopwords\n",
    "\n",
    "\n",
    "RANDOM_STATE = 7894651"
   ]
  },
  {
   "cell_type": "code",
   "execution_count": 3,
   "metadata": {},
   "outputs": [],
   "source": [
    "df = pd.read_csv('./toxic_comments.csv')"
   ]
  },
  {
   "cell_type": "code",
   "execution_count": 4,
   "metadata": {},
   "outputs": [],
   "source": [
    "def get_info(df):\n",
    "    display(df.info())\n",
    "    display(df.sample(5))"
   ]
  },
  {
   "cell_type": "code",
   "execution_count": 5,
   "metadata": {},
   "outputs": [
    {
     "name": "stdout",
     "output_type": "stream",
     "text": [
      "<class 'pandas.core.frame.DataFrame'>\n",
      "RangeIndex: 159292 entries, 0 to 159291\n",
      "Data columns (total 3 columns):\n",
      " #   Column      Non-Null Count   Dtype \n",
      "---  ------      --------------   ----- \n",
      " 0   Unnamed: 0  159292 non-null  int64 \n",
      " 1   text        159292 non-null  object\n",
      " 2   toxic       159292 non-null  int64 \n",
      "dtypes: int64(2), object(1)\n",
      "memory usage: 3.6+ MB\n"
     ]
    },
    {
     "data": {
      "text/plain": [
       "None"
      ]
     },
     "metadata": {},
     "output_type": "display_data"
    },
    {
     "data": {
      "text/html": [
       "<div>\n",
       "<style scoped>\n",
       "    .dataframe tbody tr th:only-of-type {\n",
       "        vertical-align: middle;\n",
       "    }\n",
       "\n",
       "    .dataframe tbody tr th {\n",
       "        vertical-align: top;\n",
       "    }\n",
       "\n",
       "    .dataframe thead th {\n",
       "        text-align: right;\n",
       "    }\n",
       "</style>\n",
       "<table border=\"1\" class=\"dataframe\">\n",
       "  <thead>\n",
       "    <tr style=\"text-align: right;\">\n",
       "      <th></th>\n",
       "      <th>Unnamed: 0</th>\n",
       "      <th>text</th>\n",
       "      <th>toxic</th>\n",
       "    </tr>\n",
       "  </thead>\n",
       "  <tbody>\n",
       "    <tr>\n",
       "      <th>127951</th>\n",
       "      <td>128083</td>\n",
       "      <td>Wikipedia:WikiProject Munich\\nWould you like t...</td>\n",
       "      <td>0</td>\n",
       "    </tr>\n",
       "    <tr>\n",
       "      <th>118808</th>\n",
       "      <td>118908</td>\n",
       "      <td>\"UNLESS YOU\"\"RE JIMBO WALES INFORMING ME OF MY...</td>\n",
       "      <td>0</td>\n",
       "    </tr>\n",
       "    <tr>\n",
       "      <th>101557</th>\n",
       "      <td>101654</td>\n",
       "      <td>THIS GUY NEEDS HELP''''''</td>\n",
       "      <td>0</td>\n",
       "    </tr>\n",
       "    <tr>\n",
       "      <th>95632</th>\n",
       "      <td>95724</td>\n",
       "      <td>AfC archiving \\n\\nHello. You asked</td>\n",
       "      <td>0</td>\n",
       "    </tr>\n",
       "    <tr>\n",
       "      <th>147914</th>\n",
       "      <td>148070</td>\n",
       "      <td>\"\\n\\n Bar Association of San Francisco  \\n\\nHi...</td>\n",
       "      <td>0</td>\n",
       "    </tr>\n",
       "  </tbody>\n",
       "</table>\n",
       "</div>"
      ],
      "text/plain": [
       "        Unnamed: 0                                               text  toxic\n",
       "127951      128083  Wikipedia:WikiProject Munich\\nWould you like t...      0\n",
       "118808      118908  \"UNLESS YOU\"\"RE JIMBO WALES INFORMING ME OF MY...      0\n",
       "101557      101654                          THIS GUY NEEDS HELP''''''      0\n",
       "95632        95724                 AfC archiving \\n\\nHello. You asked      0\n",
       "147914      148070  \"\\n\\n Bar Association of San Francisco  \\n\\nHi...      0"
      ]
     },
     "metadata": {},
     "output_type": "display_data"
    }
   ],
   "source": [
    "get_info(df)"
   ]
  },
  {
   "attachments": {},
   "cell_type": "markdown",
   "metadata": {},
   "source": [
    "В данных есть столюец \"Unnamed: 0\" возможно это бывшая индексация."
   ]
  },
  {
   "cell_type": "code",
   "execution_count": 6,
   "metadata": {},
   "outputs": [
    {
     "data": {
      "text/plain": [
       "159292"
      ]
     },
     "execution_count": 6,
     "metadata": {},
     "output_type": "execute_result"
    }
   ],
   "source": [
    "len(df['Unnamed: 0'].unique())"
   ]
  },
  {
   "attachments": {},
   "cell_type": "markdown",
   "metadata": {},
   "source": [
    "Количество уникальных значений совпадает с количеством строк в таблице, предположение верно, нам этот столбец не нужен удалим его."
   ]
  },
  {
   "cell_type": "code",
   "execution_count": 7,
   "metadata": {},
   "outputs": [],
   "source": [
    "df = df.loc[:,['text','toxic']]"
   ]
  },
  {
   "cell_type": "code",
   "execution_count": 8,
   "metadata": {},
   "outputs": [
    {
     "name": "stdout",
     "output_type": "stream",
     "text": [
      "<class 'pandas.core.frame.DataFrame'>\n",
      "RangeIndex: 159292 entries, 0 to 159291\n",
      "Data columns (total 2 columns):\n",
      " #   Column  Non-Null Count   Dtype \n",
      "---  ------  --------------   ----- \n",
      " 0   text    159292 non-null  object\n",
      " 1   toxic   159292 non-null  int64 \n",
      "dtypes: int64(1), object(1)\n",
      "memory usage: 2.4+ MB\n"
     ]
    },
    {
     "data": {
      "text/plain": [
       "None"
      ]
     },
     "metadata": {},
     "output_type": "display_data"
    },
    {
     "data": {
      "text/html": [
       "<div>\n",
       "<style scoped>\n",
       "    .dataframe tbody tr th:only-of-type {\n",
       "        vertical-align: middle;\n",
       "    }\n",
       "\n",
       "    .dataframe tbody tr th {\n",
       "        vertical-align: top;\n",
       "    }\n",
       "\n",
       "    .dataframe thead th {\n",
       "        text-align: right;\n",
       "    }\n",
       "</style>\n",
       "<table border=\"1\" class=\"dataframe\">\n",
       "  <thead>\n",
       "    <tr style=\"text-align: right;\">\n",
       "      <th></th>\n",
       "      <th>text</th>\n",
       "      <th>toxic</th>\n",
       "    </tr>\n",
       "  </thead>\n",
       "  <tbody>\n",
       "    <tr>\n",
       "      <th>65243</th>\n",
       "      <td>\"\\n\\n Knight undoing \\n\\n\"\"This is simply mean...</td>\n",
       "      <td>0</td>\n",
       "    </tr>\n",
       "    <tr>\n",
       "      <th>139568</th>\n",
       "      <td>\"\\n\\n A barnstar for you! \\n\\n  The Admin's Ba...</td>\n",
       "      <td>0</td>\n",
       "    </tr>\n",
       "    <tr>\n",
       "      <th>87382</th>\n",
       "      <td>Brisbane meetup invitation\\n\\nHi there!  You a...</td>\n",
       "      <td>0</td>\n",
       "    </tr>\n",
       "    <tr>\n",
       "      <th>25635</th>\n",
       "      <td>\"\\nWow, thanks for the barnstar! My second one...</td>\n",
       "      <td>0</td>\n",
       "    </tr>\n",
       "    <tr>\n",
       "      <th>81764</th>\n",
       "      <td>Regarding edits made during February 6 2007 (U...</td>\n",
       "      <td>0</td>\n",
       "    </tr>\n",
       "  </tbody>\n",
       "</table>\n",
       "</div>"
      ],
      "text/plain": [
       "                                                     text  toxic\n",
       "65243   \"\\n\\n Knight undoing \\n\\n\"\"This is simply mean...      0\n",
       "139568  \"\\n\\n A barnstar for you! \\n\\n  The Admin's Ba...      0\n",
       "87382   Brisbane meetup invitation\\n\\nHi there!  You a...      0\n",
       "25635   \"\\nWow, thanks for the barnstar! My second one...      0\n",
       "81764   Regarding edits made during February 6 2007 (U...      0"
      ]
     },
     "metadata": {},
     "output_type": "display_data"
    }
   ],
   "source": [
    "get_info(df)"
   ]
  },
  {
   "attachments": {},
   "cell_type": "markdown",
   "metadata": {},
   "source": [
    "Теперь можно заняться непосредственно коментариями"
   ]
  },
  {
   "attachments": {},
   "cell_type": "markdown",
   "metadata": {},
   "source": [
    "## Работа с комментариями"
   ]
  },
  {
   "attachments": {},
   "cell_type": "markdown",
   "metadata": {},
   "source": [
    "На первый взгляд в комментариях нету лишних символов за исключением символа новой строки \"\\n\""
   ]
  },
  {
   "attachments": {},
   "cell_type": "markdown",
   "metadata": {},
   "source": [
    "По этому заменим их на пробелы"
   ]
  },
  {
   "cell_type": "code",
   "execution_count": 9,
   "metadata": {},
   "outputs": [],
   "source": [
    "def clear_re (df):\n",
    "    df['text'] = re.sub(r'\\n',' ',df['text'])\n",
    "    return df"
   ]
  },
  {
   "cell_type": "code",
   "execution_count": 10,
   "metadata": {},
   "outputs": [],
   "source": [
    "df = df.apply(clear_re,axis=1)"
   ]
  },
  {
   "cell_type": "code",
   "execution_count": 11,
   "metadata": {},
   "outputs": [
    {
     "name": "stdout",
     "output_type": "stream",
     "text": [
      "<class 'pandas.core.frame.DataFrame'>\n",
      "RangeIndex: 159292 entries, 0 to 159291\n",
      "Data columns (total 2 columns):\n",
      " #   Column  Non-Null Count   Dtype \n",
      "---  ------  --------------   ----- \n",
      " 0   text    159292 non-null  object\n",
      " 1   toxic   159292 non-null  int64 \n",
      "dtypes: int64(1), object(1)\n",
      "memory usage: 2.4+ MB\n"
     ]
    },
    {
     "data": {
      "text/plain": [
       "None"
      ]
     },
     "metadata": {},
     "output_type": "display_data"
    },
    {
     "data": {
      "text/html": [
       "<div>\n",
       "<style scoped>\n",
       "    .dataframe tbody tr th:only-of-type {\n",
       "        vertical-align: middle;\n",
       "    }\n",
       "\n",
       "    .dataframe tbody tr th {\n",
       "        vertical-align: top;\n",
       "    }\n",
       "\n",
       "    .dataframe thead th {\n",
       "        text-align: right;\n",
       "    }\n",
       "</style>\n",
       "<table border=\"1\" class=\"dataframe\">\n",
       "  <thead>\n",
       "    <tr style=\"text-align: right;\">\n",
       "      <th></th>\n",
       "      <th>text</th>\n",
       "      <th>toxic</th>\n",
       "    </tr>\n",
       "  </thead>\n",
       "  <tbody>\n",
       "    <tr>\n",
       "      <th>64138</th>\n",
       "      <td>I've corrected the nesting. McGovern did run i...</td>\n",
       "      <td>0</td>\n",
       "    </tr>\n",
       "    <tr>\n",
       "      <th>36053</th>\n",
       "      <td>\"   This guy is guilty of paying $160k for wor...</td>\n",
       "      <td>0</td>\n",
       "    </tr>\n",
       "    <tr>\n",
       "      <th>132323</th>\n",
       "      <td>\"   Direction   The signs may be east–west, bu...</td>\n",
       "      <td>0</td>\n",
       "    </tr>\n",
       "    <tr>\n",
       "      <th>39754</th>\n",
       "      <td>\"  Welcome  Hello and welcome to Wikipedia!  W...</td>\n",
       "      <td>0</td>\n",
       "    </tr>\n",
       "    <tr>\n",
       "      <th>93996</th>\n",
       "      <td>x factor   Excuse me but why are you removing ...</td>\n",
       "      <td>0</td>\n",
       "    </tr>\n",
       "  </tbody>\n",
       "</table>\n",
       "</div>"
      ],
      "text/plain": [
       "                                                     text  toxic\n",
       "64138   I've corrected the nesting. McGovern did run i...      0\n",
       "36053   \"   This guy is guilty of paying $160k for wor...      0\n",
       "132323  \"   Direction   The signs may be east–west, bu...      0\n",
       "39754   \"  Welcome  Hello and welcome to Wikipedia!  W...      0\n",
       "93996   x factor   Excuse me but why are you removing ...      0"
      ]
     },
     "metadata": {},
     "output_type": "display_data"
    }
   ],
   "source": [
    "get_info(df)"
   ]
  },
  {
   "attachments": {},
   "cell_type": "markdown",
   "metadata": {},
   "source": [
    "Теперь можно убрать знаки припинания и привести слова в начальную форму."
   ]
  },
  {
   "cell_type": "code",
   "execution_count": 12,
   "metadata": {},
   "outputs": [],
   "source": [
    "nlp = spacy.load(\"en_core_web_sm\")\n",
    "def lemmatize(df):\n",
    "    text = ''\n",
    "    doc = nlp(df['text'])\n",
    "    for token in doc:\n",
    "        if token.is_stop: continue\n",
    "        text += f'{token.lemma_} '\n",
    "    df['text'] = text\n",
    "    return df"
   ]
  },
  {
   "cell_type": "code",
   "execution_count": null,
   "metadata": {},
   "outputs": [],
   "source": [
    "df = df.apply(lemmatize, axis=1)"
   ]
  },
  {
   "cell_type": "code",
   "execution_count": 14,
   "metadata": {},
   "outputs": [
    {
     "name": "stdout",
     "output_type": "stream",
     "text": [
      "<class 'pandas.core.frame.DataFrame'>\n",
      "RangeIndex: 159292 entries, 0 to 159291\n",
      "Data columns (total 2 columns):\n",
      " #   Column  Non-Null Count   Dtype \n",
      "---  ------  --------------   ----- \n",
      " 0   text    159292 non-null  object\n",
      " 1   toxic   159292 non-null  int64 \n",
      "dtypes: int64(1), object(1)\n",
      "memory usage: 2.4+ MB\n"
     ]
    },
    {
     "data": {
      "text/plain": [
       "None"
      ]
     },
     "metadata": {},
     "output_type": "display_data"
    },
    {
     "data": {
      "text/html": [
       "<div>\n",
       "<style scoped>\n",
       "    .dataframe tbody tr th:only-of-type {\n",
       "        vertical-align: middle;\n",
       "    }\n",
       "\n",
       "    .dataframe tbody tr th {\n",
       "        vertical-align: top;\n",
       "    }\n",
       "\n",
       "    .dataframe thead th {\n",
       "        text-align: right;\n",
       "    }\n",
       "</style>\n",
       "<table border=\"1\" class=\"dataframe\">\n",
       "  <thead>\n",
       "    <tr style=\"text-align: right;\">\n",
       "      <th></th>\n",
       "      <th>text</th>\n",
       "      <th>toxic</th>\n",
       "    </tr>\n",
       "  </thead>\n",
       "  <tbody>\n",
       "    <tr>\n",
       "      <th>57800</th>\n",
       "      <td>Edit request 18 February 2013    add Perovo So...</td>\n",
       "      <td>0</td>\n",
       "    </tr>\n",
       "    <tr>\n",
       "      <th>129050</th>\n",
       "      <td>not u speak like d advise u watch ur mouth ! !</td>\n",
       "      <td>1</td>\n",
       "    </tr>\n",
       "    <tr>\n",
       "      <th>6577</th>\n",
       "      <td>welcome !   hello , Ammypanwar , welcome Wikip...</td>\n",
       "      <td>0</td>\n",
       "    </tr>\n",
       "    <tr>\n",
       "      <th>76987</th>\n",
       "      <td>\"   category deletion   visit   weigh !   ( T ...</td>\n",
       "      <td>0</td>\n",
       "    </tr>\n",
       "    <tr>\n",
       "      <th>39728</th>\n",
       "      <td>certain intend comment . —   Carl (   ·   talk )</td>\n",
       "      <td>0</td>\n",
       "    </tr>\n",
       "  </tbody>\n",
       "</table>\n",
       "</div>"
      ],
      "text/plain": [
       "                                                     text  toxic\n",
       "57800   Edit request 18 February 2013    add Perovo So...      0\n",
       "129050    not u speak like d advise u watch ur mouth ! !       1\n",
       "6577    welcome !   hello , Ammypanwar , welcome Wikip...      0\n",
       "76987   \"   category deletion   visit   weigh !   ( T ...      0\n",
       "39728   certain intend comment . —   Carl (   ·   talk )       0"
      ]
     },
     "metadata": {},
     "output_type": "display_data"
    }
   ],
   "source": [
    "get_info(df)"
   ]
  },
  {
   "cell_type": "code",
   "execution_count": 15,
   "metadata": {},
   "outputs": [],
   "source": [
    "def punctuation(df):\n",
    "    df['text'] = re.sub(r'[.,()!?:;\\-\\'\\\"=\\[\\]&/\\\\]','',df['text'])\n",
    "    df['text'] = re.sub(r'\\s',' ',df['text'])\n",
    "    df['text'] = df['text'].lower()\n",
    "    return df"
   ]
  },
  {
   "cell_type": "code",
   "execution_count": 16,
   "metadata": {},
   "outputs": [],
   "source": [
    "df = df.apply(punctuation,axis=1)"
   ]
  },
  {
   "cell_type": "code",
   "execution_count": 17,
   "metadata": {},
   "outputs": [
    {
     "name": "stdout",
     "output_type": "stream",
     "text": [
      "<class 'pandas.core.frame.DataFrame'>\n",
      "RangeIndex: 159292 entries, 0 to 159291\n",
      "Data columns (total 2 columns):\n",
      " #   Column  Non-Null Count   Dtype \n",
      "---  ------  --------------   ----- \n",
      " 0   text    159292 non-null  object\n",
      " 1   toxic   159292 non-null  int64 \n",
      "dtypes: int64(1), object(1)\n",
      "memory usage: 2.4+ MB\n"
     ]
    },
    {
     "data": {
      "text/plain": [
       "None"
      ]
     },
     "metadata": {},
     "output_type": "display_data"
    },
    {
     "data": {
      "text/html": [
       "<div>\n",
       "<style scoped>\n",
       "    .dataframe tbody tr th:only-of-type {\n",
       "        vertical-align: middle;\n",
       "    }\n",
       "\n",
       "    .dataframe tbody tr th {\n",
       "        vertical-align: top;\n",
       "    }\n",
       "\n",
       "    .dataframe thead th {\n",
       "        text-align: right;\n",
       "    }\n",
       "</style>\n",
       "<table border=\"1\" class=\"dataframe\">\n",
       "  <thead>\n",
       "    <tr style=\"text-align: right;\">\n",
       "      <th></th>\n",
       "      <th>text</th>\n",
       "      <th>toxic</th>\n",
       "    </tr>\n",
       "  </thead>\n",
       "  <tbody>\n",
       "    <tr>\n",
       "      <th>128787</th>\n",
       "      <td>thank edit rescue article maintenance tracki...</td>\n",
       "      <td>0</td>\n",
       "    </tr>\n",
       "    <tr>\n",
       "      <th>43058</th>\n",
       "      <td>thing son biche  fuck youfuck    block properl...</td>\n",
       "      <td>1</td>\n",
       "    </tr>\n",
       "    <tr>\n",
       "      <th>112762</th>\n",
       "      <td>confused comment straw poll    decision   b...</td>\n",
       "      <td>0</td>\n",
       "    </tr>\n",
       "    <tr>\n",
       "      <th>42662</th>\n",
       "      <td>administer allegedly   spamme   completely...</td>\n",
       "      <td>0</td>\n",
       "    </tr>\n",
       "    <tr>\n",
       "      <th>85979</th>\n",
       "      <td>try britannicacom best source info dont was...</td>\n",
       "      <td>0</td>\n",
       "    </tr>\n",
       "  </tbody>\n",
       "</table>\n",
       "</div>"
      ],
      "text/plain": [
       "                                                     text  toxic\n",
       "128787    thank edit rescue article maintenance tracki...      0\n",
       "43058   thing son biche  fuck youfuck    block properl...      1\n",
       "112762     confused comment straw poll    decision   b...      0\n",
       "42662       administer allegedly   spamme   completely...      0\n",
       "85979      try britannicacom best source info dont was...      0"
      ]
     },
     "metadata": {},
     "output_type": "display_data"
    }
   ],
   "source": [
    "get_info(df)"
   ]
  },
  {
   "attachments": {},
   "cell_type": "markdown",
   "metadata": {},
   "source": [
    "Данные подготовлены, теперь осталось только посмотреть на распределение целевого признака."
   ]
  },
  {
   "cell_type": "code",
   "execution_count": 57,
   "metadata": {},
   "outputs": [
    {
     "data": {
      "image/png": "[encoded data removed]",
      "text/plain": [
       "<Figure size 432x288 with 1 Axes>"
      ]
     },
     "metadata": {
      "needs_background": "light"
     },
     "output_type": "display_data"
    }
   ],
   "source": [
    "toxic = df['toxic'].value_counts()\n",
    "\n",
    "plt.xlabel(\"Токсичен ли комментарий\")\n",
    "plt.ylabel(\"Количество случаев\")\n",
    "plt.title(\"Столбец toxic\")\n",
    "plt.bar(toxic.index,toxic.values)\n",
    "plt.show()"
   ]
  },
  {
   "attachments": {},
   "cell_type": "markdown",
   "metadata": {},
   "source": [
    "Видно, что тут явный дисбаланс, юудем учитывать это при обучении."
   ]
  },
  {
   "attachments": {},
   "cell_type": "markdown",
   "metadata": {},
   "source": [
    "### Обучение"
   ]
  },
  {
   "attachments": {},
   "cell_type": "markdown",
   "metadata": {},
   "source": [
    "Сначала нужно разбить данные на выборки."
   ]
  },
  {
   "cell_type": "code",
   "execution_count": 22,
   "metadata": {},
   "outputs": [],
   "source": [
    "train,test = train_test_split(df, random_state=RANDOM_STATE, test_size=.25)"
   ]
  },
  {
   "cell_type": "code",
   "execution_count": 23,
   "metadata": {},
   "outputs": [
    {
     "name": "stdout",
     "output_type": "stream",
     "text": [
      "<class 'pandas.core.frame.DataFrame'>\n",
      "Int64Index: 39823 entries, 119984 to 146791\n",
      "Data columns (total 2 columns):\n",
      " #   Column  Non-Null Count  Dtype \n",
      "---  ------  --------------  ----- \n",
      " 0   text    39823 non-null  object\n",
      " 1   toxic   39823 non-null  int64 \n",
      "dtypes: int64(1), object(1)\n",
      "memory usage: 933.4+ KB\n"
     ]
    },
    {
     "data": {
      "text/plain": [
       "None"
      ]
     },
     "metadata": {},
     "output_type": "display_data"
    },
    {
     "data": {
      "text/html": [
       "<div>\n",
       "<style scoped>\n",
       "    .dataframe tbody tr th:only-of-type {\n",
       "        vertical-align: middle;\n",
       "    }\n",
       "\n",
       "    .dataframe tbody tr th {\n",
       "        vertical-align: top;\n",
       "    }\n",
       "\n",
       "    .dataframe thead th {\n",
       "        text-align: right;\n",
       "    }\n",
       "</style>\n",
       "<table border=\"1\" class=\"dataframe\">\n",
       "  <thead>\n",
       "    <tr style=\"text-align: right;\">\n",
       "      <th></th>\n",
       "      <th>text</th>\n",
       "      <th>toxic</th>\n",
       "    </tr>\n",
       "  </thead>\n",
       "  <tbody>\n",
       "    <tr>\n",
       "      <th>157234</th>\n",
       "      <td>hey  person   suffer   read bullshit  wiki...</td>\n",
       "      <td>1</td>\n",
       "    </tr>\n",
       "    <tr>\n",
       "      <th>90410</th>\n",
       "      <td>eugene delmar    edit say   win match delm...</td>\n",
       "      <td>0</td>\n",
       "    </tr>\n",
       "    <tr>\n",
       "      <th>124825</th>\n",
       "      <td>life scholar  person edit discus guy sitush  s...</td>\n",
       "      <td>0</td>\n",
       "    </tr>\n",
       "    <tr>\n",
       "      <th>81677</th>\n",
       "      <td>hazel eye myth   description hazel eye say gre...</td>\n",
       "      <td>0</td>\n",
       "    </tr>\n",
       "    <tr>\n",
       "      <th>87019</th>\n",
       "      <td>possibly unfree image  kahuluiairportmapjpg   ...</td>\n",
       "      <td>0</td>\n",
       "    </tr>\n",
       "  </tbody>\n",
       "</table>\n",
       "</div>"
      ],
      "text/plain": [
       "                                                     text  toxic\n",
       "157234      hey  person   suffer   read bullshit  wiki...      1\n",
       "90410       eugene delmar    edit say   win match delm...      0\n",
       "124825  life scholar  person edit discus guy sitush  s...      0\n",
       "81677   hazel eye myth   description hazel eye say gre...      0\n",
       "87019   possibly unfree image  kahuluiairportmapjpg   ...      0"
      ]
     },
     "metadata": {},
     "output_type": "display_data"
    }
   ],
   "source": [
    "get_info(test)"
   ]
  },
  {
   "cell_type": "code",
   "execution_count": 24,
   "metadata": {},
   "outputs": [
    {
     "name": "stdout",
     "output_type": "stream",
     "text": [
      "<class 'pandas.core.frame.DataFrame'>\n",
      "Int64Index: 119469 entries, 16933 to 122325\n",
      "Data columns (total 2 columns):\n",
      " #   Column  Non-Null Count   Dtype \n",
      "---  ------  --------------   ----- \n",
      " 0   text    119469 non-null  object\n",
      " 1   toxic   119469 non-null  int64 \n",
      "dtypes: int64(1), object(1)\n",
      "memory usage: 2.7+ MB\n"
     ]
    },
    {
     "data": {
      "text/plain": [
       "None"
      ]
     },
     "metadata": {},
     "output_type": "display_data"
    },
    {
     "data": {
      "text/html": [
       "<div>\n",
       "<style scoped>\n",
       "    .dataframe tbody tr th:only-of-type {\n",
       "        vertical-align: middle;\n",
       "    }\n",
       "\n",
       "    .dataframe tbody tr th {\n",
       "        vertical-align: top;\n",
       "    }\n",
       "\n",
       "    .dataframe thead th {\n",
       "        text-align: right;\n",
       "    }\n",
       "</style>\n",
       "<table border=\"1\" class=\"dataframe\">\n",
       "  <thead>\n",
       "    <tr style=\"text-align: right;\">\n",
       "      <th></th>\n",
       "      <th>text</th>\n",
       "      <th>toxic</th>\n",
       "    </tr>\n",
       "  </thead>\n",
       "  <tbody>\n",
       "    <tr>\n",
       "      <th>104498</th>\n",
       "      <td>definitely improve   democrat page   informat...</td>\n",
       "      <td>0</td>\n",
       "    </tr>\n",
       "    <tr>\n",
       "      <th>52754</th>\n",
       "      <td>point citation people read revert edit  oh  bo...</td>\n",
       "      <td>1</td>\n",
       "    </tr>\n",
       "    <tr>\n",
       "      <th>26104</th>\n",
       "      <td>thank    hope feel well    peace</td>\n",
       "      <td>0</td>\n",
       "    </tr>\n",
       "    <tr>\n",
       "      <th>107442</th>\n",
       "      <td>ginge offender hi  add     template article...</td>\n",
       "      <td>0</td>\n",
       "    </tr>\n",
       "    <tr>\n",
       "      <th>3780</th>\n",
       "      <td>yes sir     revert    change highlighted chang...</td>\n",
       "      <td>0</td>\n",
       "    </tr>\n",
       "  </tbody>\n",
       "</table>\n",
       "</div>"
      ],
      "text/plain": [
       "                                                     text  toxic\n",
       "104498   definitely improve   democrat page   informat...      0\n",
       "52754   point citation people read revert edit  oh  bo...      1\n",
       "26104                 thank    hope feel well    peace         0\n",
       "107442     ginge offender hi  add     template article...      0\n",
       "3780    yes sir     revert    change highlighted chang...      0"
      ]
     },
     "metadata": {},
     "output_type": "display_data"
    }
   ],
   "source": [
    "get_info(train)"
   ]
  },
  {
   "attachments": {},
   "cell_type": "markdown",
   "metadata": {},
   "source": [
    "Теперь нужен TF-IDF"
   ]
  },
  {
   "cell_type": "code",
   "execution_count": 25,
   "metadata": {},
   "outputs": [],
   "source": [
    "corpus = train['text'].values.astype('U')\n",
    "\n",
    "stopwords = list(nltk_stopwords.words('english'))"
   ]
  },
  {
   "cell_type": "code",
   "execution_count": 26,
   "metadata": {},
   "outputs": [],
   "source": [
    "tf_idf = TfidfVectorizer(stop_words=stopwords).fit(corpus)"
   ]
  },
  {
   "cell_type": "code",
   "execution_count": 59,
   "metadata": {},
   "outputs": [],
   "source": [
    "train_tf = tf_idf.transform(corpus)\n",
    "corpus = test['text'].values.astype('U')\n",
    "test_tf = tf_idf.transform(corpus)"
   ]
  },
  {
   "attachments": {},
   "cell_type": "markdown",
   "metadata": {},
   "source": [
    "#### LogisticRegression"
   ]
  },
  {
   "cell_type": "code",
   "execution_count": 33,
   "metadata": {},
   "outputs": [
    {
     "name": "stdout",
     "output_type": "stream",
     "text": [
      "Fitting 2 folds for each of 200 candidates, totalling 400 fits\n",
      "[CV 1/2] END max_iter=1000, penalty=l1, solver=newton-cg;, score=nan total time=   0.0s\n",
      "[CV 2/2] END max_iter=1000, penalty=l1, solver=newton-cg;, score=nan total time=   0.0s\n",
      "[CV 1/2] END max_iter=1000, penalty=l1, solver=lbfgs;, score=nan total time=   0.0s\n",
      "[CV 2/2] END max_iter=1000, penalty=l1, solver=lbfgs;, score=nan total time=   0.0s\n",
      "[CV 1/2] END max_iter=1000, penalty=l1, solver=liblinear;, score=0.750 total time=   0.4s\n",
      "[CV 2/2] END max_iter=1000, penalty=l1, solver=liblinear;, score=0.749 total time=   0.4s\n",
      "[CV 1/2] END max_iter=1000, penalty=l1, solver=sag;, score=nan total time=   0.0s\n",
      "[CV 2/2] END max_iter=1000, penalty=l1, solver=sag;, score=nan total time=   0.0s\n",
      "[CV 1/2] END max_iter=1000, penalty=l1, solver=saga;, score=0.750 total time=  12.3s\n",
      "[CV 2/2] END max_iter=1000, penalty=l1, solver=saga;, score=0.749 total time=  11.3s\n",
      "[CV 1/2] END max_iter=1000, penalty=l2, solver=newton-cg;, score=0.679 total time=   1.4s\n",
      "[CV 2/2] END max_iter=1000, penalty=l2, solver=newton-cg;, score=0.679 total time=   1.5s\n",
      "[CV 1/2] END max_iter=1000, penalty=l2, solver=lbfgs;, score=0.679 total time=   3.0s\n",
      "[CV 2/2] END max_iter=1000, penalty=l2, solver=lbfgs;, score=0.679 total time=   2.5s\n",
      "[CV 1/2] END max_iter=1000, penalty=l2, solver=liblinear;, score=0.679 total time=   0.3s\n",
      "[CV 2/2] END max_iter=1000, penalty=l2, solver=liblinear;, score=0.679 total time=   0.3s\n",
      "[CV 1/2] END max_iter=1000, penalty=l2, solver=sag;, score=0.679 total time=   0.7s\n",
      "[CV 2/2] END max_iter=1000, penalty=l2, solver=sag;, score=0.679 total time=   0.7s\n",
      "[CV 1/2] END max_iter=1000, penalty=l2, solver=saga;, score=0.679 total time=   0.8s\n",
      "[CV 2/2] END max_iter=1000, penalty=l2, solver=saga;, score=0.679 total time=   0.8s\n",
      "[CV 1/2] END max_iter=1000, penalty=elasticnet, solver=newton-cg;, score=nan total time=   0.0s\n",
      "[CV 2/2] END max_iter=1000, penalty=elasticnet, solver=newton-cg;, score=nan total time=   0.0s\n",
      "[CV 1/2] END max_iter=1000, penalty=elasticnet, solver=lbfgs;, score=nan total time=   0.0s\n",
      "[CV 2/2] END max_iter=1000, penalty=elasticnet, solver=lbfgs;, score=nan total time=   0.0s\n",
      "[CV 1/2] END max_iter=1000, penalty=elasticnet, solver=liblinear;, score=nan total time=   0.0s\n",
      "[CV 2/2] END max_iter=1000, penalty=elasticnet, solver=liblinear;, score=nan total time=   0.0s\n",
      "[CV 1/2] END max_iter=1000, penalty=elasticnet, solver=sag;, score=nan total time=   0.0s\n",
      "[CV 2/2] END max_iter=1000, penalty=elasticnet, solver=sag;, score=nan total time=   0.0s\n",
      "[CV 1/2] END max_iter=1000, penalty=elasticnet, solver=saga;, score=nan total time=   0.0s\n",
      "[CV 2/2] END max_iter=1000, penalty=elasticnet, solver=saga;, score=nan total time=   0.0s\n",
      "[CV 1/2] END max_iter=1000, penalty=none, solver=newton-cg;, score=0.626 total time= 1.0min\n",
      "[CV 2/2] END max_iter=1000, penalty=none, solver=newton-cg;, score=0.615 total time= 1.9min\n",
      "[CV 1/2] END max_iter=1000, penalty=none, solver=lbfgs;, score=0.644 total time=  26.8s\n",
      "[CV 2/2] END max_iter=1000, penalty=none, solver=lbfgs;, score=0.639 total time=  30.0s\n",
      "[CV 1/2] END max_iter=1000, penalty=none, solver=liblinear;, score=nan total time=   0.0s\n",
      "[CV 2/2] END max_iter=1000, penalty=none, solver=liblinear;, score=nan total time=   0.0s\n",
      "[CV 1/2] END max_iter=1000, penalty=none, solver=sag;, score=0.723 total time=  48.3s\n",
      "[CV 2/2] END max_iter=1000, penalty=none, solver=sag;, score=0.709 total time=  49.8s\n",
      "[CV 1/2] END max_iter=1000, penalty=none, solver=saga;, score=0.724 total time=  50.6s\n",
      "[CV 2/2] END max_iter=1000, penalty=none, solver=saga;, score=0.713 total time=  51.5s\n",
      "[CV 1/2] END max_iter=1100, penalty=l1, solver=newton-cg;, score=nan total time=   0.0s\n",
      "[CV 2/2] END max_iter=1100, penalty=l1, solver=newton-cg;, score=nan total time=   0.0s\n",
      "[CV 1/2] END max_iter=1100, penalty=l1, solver=lbfgs;, score=nan total time=   0.0s\n",
      "[CV 2/2] END max_iter=1100, penalty=l1, solver=lbfgs;, score=nan total time=   0.0s\n",
      "[CV 1/2] END max_iter=1100, penalty=l1, solver=liblinear;, score=0.750 total time=   0.4s\n",
      "[CV 2/2] END max_iter=1100, penalty=l1, solver=liblinear;, score=0.749 total time=   0.4s\n",
      "[CV 1/2] END max_iter=1100, penalty=l1, solver=sag;, score=nan total time=   0.0s\n",
      "[CV 2/2] END max_iter=1100, penalty=l1, solver=sag;, score=nan total time=   0.0s\n",
      "[CV 1/2] END max_iter=1100, penalty=l1, solver=saga;, score=0.750 total time=  10.0s\n",
      "[CV 2/2] END max_iter=1100, penalty=l1, solver=saga;, score=0.749 total time=   9.6s\n",
      "[CV 1/2] END max_iter=1100, penalty=l2, solver=newton-cg;, score=0.679 total time=   1.2s\n",
      "[CV 2/2] END max_iter=1100, penalty=l2, solver=newton-cg;, score=0.679 total time=   1.4s\n",
      "[CV 1/2] END max_iter=1100, penalty=l2, solver=lbfgs;, score=0.679 total time=   3.0s\n",
      "[CV 2/2] END max_iter=1100, penalty=l2, solver=lbfgs;, score=0.679 total time=   2.5s\n",
      "[CV 1/2] END max_iter=1100, penalty=l2, solver=liblinear;, score=0.679 total time=   0.3s\n",
      "[CV 2/2] END max_iter=1100, penalty=l2, solver=liblinear;, score=0.679 total time=   0.3s\n",
      "[CV 1/2] END max_iter=1100, penalty=l2, solver=sag;, score=0.679 total time=   0.6s\n",
      "[CV 2/2] END max_iter=1100, penalty=l2, solver=sag;, score=0.679 total time=   0.6s\n",
      "[CV 1/2] END max_iter=1100, penalty=l2, solver=saga;, score=0.679 total time=   0.7s\n",
      "[CV 2/2] END max_iter=1100, penalty=l2, solver=saga;, score=0.679 total time=   0.7s\n",
      "[CV 1/2] END max_iter=1100, penalty=elasticnet, solver=newton-cg;, score=nan total time=   0.0s\n",
      "[CV 2/2] END max_iter=1100, penalty=elasticnet, solver=newton-cg;, score=nan total time=   0.0s\n",
      "[CV 1/2] END max_iter=1100, penalty=elasticnet, solver=lbfgs;, score=nan total time=   0.0s\n",
      "[CV 2/2] END max_iter=1100, penalty=elasticnet, solver=lbfgs;, score=nan total time=   0.0s\n",
      "[CV 1/2] END max_iter=1100, penalty=elasticnet, solver=liblinear;, score=nan total time=   0.0s\n",
      "[CV 2/2] END max_iter=1100, penalty=elasticnet, solver=liblinear;, score=nan total time=   0.0s\n",
      "[CV 1/2] END max_iter=1100, penalty=elasticnet, solver=sag;, score=nan total time=   0.0s\n",
      "[CV 2/2] END max_iter=1100, penalty=elasticnet, solver=sag;, score=nan total time=   0.0s\n",
      "[CV 1/2] END max_iter=1100, penalty=elasticnet, solver=saga;, score=nan total time=   0.0s\n",
      "[CV 2/2] END max_iter=1100, penalty=elasticnet, solver=saga;, score=nan total time=   0.0s\n",
      "[CV 1/2] END max_iter=1100, penalty=none, solver=newton-cg;, score=0.626 total time=  54.7s\n",
      "[CV 2/2] END max_iter=1100, penalty=none, solver=newton-cg;, score=0.615 total time= 1.7min\n",
      "[CV 1/2] END max_iter=1100, penalty=none, solver=lbfgs;, score=0.643 total time=  28.7s\n",
      "[CV 2/2] END max_iter=1100, penalty=none, solver=lbfgs;, score=0.635 total time=  28.8s\n",
      "[CV 1/2] END max_iter=1100, penalty=none, solver=liblinear;, score=nan total time=   0.0s\n",
      "[CV 2/2] END max_iter=1100, penalty=none, solver=liblinear;, score=nan total time=   0.0s\n",
      "[CV 1/2] END max_iter=1100, penalty=none, solver=sag;, score=0.723 total time=  42.0s\n",
      "[CV 2/2] END max_iter=1100, penalty=none, solver=sag;, score=0.708 total time=  41.9s\n",
      "[CV 1/2] END max_iter=1100, penalty=none, solver=saga;, score=0.723 total time=  43.9s\n",
      "[CV 2/2] END max_iter=1100, penalty=none, solver=saga;, score=0.712 total time=  43.8s\n",
      "[CV 1/2] END max_iter=1200, penalty=l1, solver=newton-cg;, score=nan total time=   0.0s\n",
      "[CV 2/2] END max_iter=1200, penalty=l1, solver=newton-cg;, score=nan total time=   0.0s\n",
      "[CV 1/2] END max_iter=1200, penalty=l1, solver=lbfgs;, score=nan total time=   0.0s\n",
      "[CV 2/2] END max_iter=1200, penalty=l1, solver=lbfgs;, score=nan total time=   0.0s\n",
      "[CV 1/2] END max_iter=1200, penalty=l1, solver=liblinear;, score=0.750 total time=   0.4s\n",
      "[CV 2/2] END max_iter=1200, penalty=l1, solver=liblinear;, score=0.749 total time=   0.4s\n",
      "[CV 1/2] END max_iter=1200, penalty=l1, solver=sag;, score=nan total time=   0.0s\n",
      "[CV 2/2] END max_iter=1200, penalty=l1, solver=sag;, score=nan total time=   0.0s\n",
      "[CV 1/2] END max_iter=1200, penalty=l1, solver=saga;, score=0.750 total time=  10.4s\n",
      "[CV 2/2] END max_iter=1200, penalty=l1, solver=saga;, score=0.749 total time=  10.2s\n",
      "[CV 1/2] END max_iter=1200, penalty=l2, solver=newton-cg;, score=0.679 total time=   1.2s\n",
      "[CV 2/2] END max_iter=1200, penalty=l2, solver=newton-cg;, score=0.679 total time=   1.3s\n",
      "[CV 1/2] END max_iter=1200, penalty=l2, solver=lbfgs;, score=0.679 total time=   2.8s\n",
      "[CV 2/2] END max_iter=1200, penalty=l2, solver=lbfgs;, score=0.679 total time=   2.6s\n",
      "[CV 1/2] END max_iter=1200, penalty=l2, solver=liblinear;, score=0.679 total time=   0.3s\n",
      "[CV 2/2] END max_iter=1200, penalty=l2, solver=liblinear;, score=0.679 total time=   0.3s\n",
      "[CV 1/2] END max_iter=1200, penalty=l2, solver=sag;, score=0.679 total time=   0.6s\n",
      "[CV 2/2] END max_iter=1200, penalty=l2, solver=sag;, score=0.679 total time=   0.6s\n",
      "[CV 1/2] END max_iter=1200, penalty=l2, solver=saga;, score=0.679 total time=   0.8s\n",
      "[CV 2/2] END max_iter=1200, penalty=l2, solver=saga;, score=0.679 total time=   0.7s\n",
      "[CV 1/2] END max_iter=1200, penalty=elasticnet, solver=newton-cg;, score=nan total time=   0.0s\n",
      "[CV 2/2] END max_iter=1200, penalty=elasticnet, solver=newton-cg;, score=nan total time=   0.0s\n",
      "[CV 1/2] END max_iter=1200, penalty=elasticnet, solver=lbfgs;, score=nan total time=   0.0s\n",
      "[CV 2/2] END max_iter=1200, penalty=elasticnet, solver=lbfgs;, score=nan total time=   0.0s\n",
      "[CV 1/2] END max_iter=1200, penalty=elasticnet, solver=liblinear;, score=nan total time=   0.0s\n",
      "[CV 2/2] END max_iter=1200, penalty=elasticnet, solver=liblinear;, score=nan total time=   0.0s\n",
      "[CV 1/2] END max_iter=1200, penalty=elasticnet, solver=sag;, score=nan total time=   0.0s\n",
      "[CV 2/2] END max_iter=1200, penalty=elasticnet, solver=sag;, score=nan total time=   0.0s\n",
      "[CV 1/2] END max_iter=1200, penalty=elasticnet, solver=saga;, score=nan total time=   0.0s\n",
      "[CV 2/2] END max_iter=1200, penalty=elasticnet, solver=saga;, score=nan total time=   0.0s\n",
      "[CV 1/2] END max_iter=1200, penalty=none, solver=newton-cg;, score=0.626 total time=  58.5s\n",
      "[CV 2/2] END max_iter=1200, penalty=none, solver=newton-cg;, score=0.615 total time= 2.3min\n",
      "[CV 1/2] END max_iter=1200, penalty=none, solver=lbfgs;, score=0.643 total time=  40.4s\n",
      "[CV 2/2] END max_iter=1200, penalty=none, solver=lbfgs;, score=0.634 total time=  38.8s\n",
      "[CV 1/2] END max_iter=1200, penalty=none, solver=liblinear;, score=nan total time=   0.0s\n",
      "[CV 2/2] END max_iter=1200, penalty=none, solver=liblinear;, score=nan total time=   0.0s\n",
      "[CV 1/2] END max_iter=1200, penalty=none, solver=sag;, score=0.722 total time= 1.3min\n",
      "[CV 2/2] END max_iter=1200, penalty=none, solver=sag;, score=0.707 total time= 1.2min\n",
      "[CV 1/2] END max_iter=1200, penalty=none, solver=saga;, score=0.723 total time= 1.3min\n",
      "[CV 2/2] END max_iter=1200, penalty=none, solver=saga;, score=0.712 total time= 1.3min\n",
      "[CV 1/2] END max_iter=1300, penalty=l1, solver=newton-cg;, score=nan total time=   0.0s\n",
      "[CV 2/2] END max_iter=1300, penalty=l1, solver=newton-cg;, score=nan total time=   0.0s\n",
      "[CV 1/2] END max_iter=1300, penalty=l1, solver=lbfgs;, score=nan total time=   0.0s\n",
      "[CV 2/2] END max_iter=1300, penalty=l1, solver=lbfgs;, score=nan total time=   0.0s\n",
      "[CV 1/2] END max_iter=1300, penalty=l1, solver=liblinear;, score=0.750 total time=   0.5s\n",
      "[CV 2/2] END max_iter=1300, penalty=l1, solver=liblinear;, score=0.749 total time=   0.5s\n",
      "[CV 1/2] END max_iter=1300, penalty=l1, solver=sag;, score=nan total time=   0.0s\n",
      "[CV 2/2] END max_iter=1300, penalty=l1, solver=sag;, score=nan total time=   0.0s\n",
      "[CV 1/2] END max_iter=1300, penalty=l1, solver=saga;, score=0.750 total time=  13.3s\n",
      "[CV 2/2] END max_iter=1300, penalty=l1, solver=saga;, score=0.749 total time=  12.3s\n",
      "[CV 1/2] END max_iter=1300, penalty=l2, solver=newton-cg;, score=0.679 total time=   1.7s\n",
      "[CV 2/2] END max_iter=1300, penalty=l2, solver=newton-cg;, score=0.679 total time=   1.8s\n",
      "[CV 1/2] END max_iter=1300, penalty=l2, solver=lbfgs;, score=0.679 total time=   3.9s\n",
      "[CV 2/2] END max_iter=1300, penalty=l2, solver=lbfgs;, score=0.679 total time=   3.2s\n",
      "[CV 1/2] END max_iter=1300, penalty=l2, solver=liblinear;, score=0.679 total time=   0.5s\n",
      "[CV 2/2] END max_iter=1300, penalty=l2, solver=liblinear;, score=0.679 total time=   0.5s\n",
      "[CV 1/2] END max_iter=1300, penalty=l2, solver=sag;, score=0.679 total time=   1.1s\n",
      "[CV 2/2] END max_iter=1300, penalty=l2, solver=sag;, score=0.679 total time=   1.0s\n",
      "[CV 1/2] END max_iter=1300, penalty=l2, solver=saga;, score=0.679 total time=   1.2s\n",
      "[CV 2/2] END max_iter=1300, penalty=l2, solver=saga;, score=0.679 total time=   1.3s\n",
      "[CV 1/2] END max_iter=1300, penalty=elasticnet, solver=newton-cg;, score=nan total time=   0.0s\n",
      "[CV 2/2] END max_iter=1300, penalty=elasticnet, solver=newton-cg;, score=nan total time=   0.0s\n",
      "[CV 1/2] END max_iter=1300, penalty=elasticnet, solver=lbfgs;, score=nan total time=   0.0s\n",
      "[CV 2/2] END max_iter=1300, penalty=elasticnet, solver=lbfgs;, score=nan total time=   0.0s\n",
      "[CV 1/2] END max_iter=1300, penalty=elasticnet, solver=liblinear;, score=nan total time=   0.0s\n",
      "[CV 2/2] END max_iter=1300, penalty=elasticnet, solver=liblinear;, score=nan total time=   0.0s\n",
      "[CV 1/2] END max_iter=1300, penalty=elasticnet, solver=sag;, score=nan total time=   0.0s\n",
      "[CV 2/2] END max_iter=1300, penalty=elasticnet, solver=sag;, score=nan total time=   0.0s\n",
      "[CV 1/2] END max_iter=1300, penalty=elasticnet, solver=saga;, score=nan total time=   0.0s\n",
      "[CV 2/2] END max_iter=1300, penalty=elasticnet, solver=saga;, score=nan total time=   0.0s\n",
      "[CV 1/2] END max_iter=1300, penalty=none, solver=newton-cg;, score=0.626 total time= 1.2min\n",
      "[CV 2/2] END max_iter=1300, penalty=none, solver=newton-cg;, score=0.615 total time= 2.4min\n",
      "[CV 1/2] END max_iter=1300, penalty=none, solver=lbfgs;, score=0.642 total time=  43.0s\n",
      "[CV 2/2] END max_iter=1300, penalty=none, solver=lbfgs;, score=0.632 total time=  42.7s\n",
      "[CV 1/2] END max_iter=1300, penalty=none, solver=liblinear;, score=nan total time=   0.0s\n",
      "[CV 2/2] END max_iter=1300, penalty=none, solver=liblinear;, score=nan total time=   0.0s\n",
      "[CV 1/2] END max_iter=1300, penalty=none, solver=sag;, score=0.721 total time= 1.4min\n",
      "[CV 2/2] END max_iter=1300, penalty=none, solver=sag;, score=0.706 total time= 1.3min\n",
      "[CV 1/2] END max_iter=1300, penalty=none, solver=saga;, score=0.723 total time= 1.4min\n",
      "[CV 2/2] END max_iter=1300, penalty=none, solver=saga;, score=0.711 total time= 1.4min\n",
      "[CV 1/2] END max_iter=1400, penalty=l1, solver=newton-cg;, score=nan total time=   0.0s\n",
      "[CV 2/2] END max_iter=1400, penalty=l1, solver=newton-cg;, score=nan total time=   0.0s\n",
      "[CV 1/2] END max_iter=1400, penalty=l1, solver=lbfgs;, score=nan total time=   0.0s\n",
      "[CV 2/2] END max_iter=1400, penalty=l1, solver=lbfgs;, score=nan total time=   0.0s\n",
      "[CV 1/2] END max_iter=1400, penalty=l1, solver=liblinear;, score=0.750 total time=   0.5s\n",
      "[CV 2/2] END max_iter=1400, penalty=l1, solver=liblinear;, score=0.749 total time=   0.5s\n",
      "[CV 1/2] END max_iter=1400, penalty=l1, solver=sag;, score=nan total time=   0.0s\n",
      "[CV 2/2] END max_iter=1400, penalty=l1, solver=sag;, score=nan total time=   0.0s\n",
      "[CV 1/2] END max_iter=1400, penalty=l1, solver=saga;, score=0.750 total time=  12.9s\n",
      "[CV 2/2] END max_iter=1400, penalty=l1, solver=saga;, score=0.749 total time=  12.3s\n",
      "[CV 1/2] END max_iter=1400, penalty=l2, solver=newton-cg;, score=0.679 total time=   1.7s\n",
      "[CV 2/2] END max_iter=1400, penalty=l2, solver=newton-cg;, score=0.679 total time=   1.8s\n",
      "[CV 1/2] END max_iter=1400, penalty=l2, solver=lbfgs;, score=0.679 total time=   3.9s\n",
      "[CV 2/2] END max_iter=1400, penalty=l2, solver=lbfgs;, score=0.679 total time=   3.2s\n",
      "[CV 1/2] END max_iter=1400, penalty=l2, solver=liblinear;, score=0.679 total time=   0.5s\n",
      "[CV 2/2] END max_iter=1400, penalty=l2, solver=liblinear;, score=0.679 total time=   0.4s\n",
      "[CV 1/2] END max_iter=1400, penalty=l2, solver=sag;, score=0.679 total time=   1.0s\n",
      "[CV 2/2] END max_iter=1400, penalty=l2, solver=sag;, score=0.679 total time=   1.0s\n",
      "[CV 1/2] END max_iter=1400, penalty=l2, solver=saga;, score=0.679 total time=   1.3s\n",
      "[CV 2/2] END max_iter=1400, penalty=l2, solver=saga;, score=0.679 total time=   1.2s\n",
      "[CV 1/2] END max_iter=1400, penalty=elasticnet, solver=newton-cg;, score=nan total time=   0.0s\n",
      "[CV 2/2] END max_iter=1400, penalty=elasticnet, solver=newton-cg;, score=nan total time=   0.0s\n",
      "[CV 1/2] END max_iter=1400, penalty=elasticnet, solver=lbfgs;, score=nan total time=   0.0s\n",
      "[CV 2/2] END max_iter=1400, penalty=elasticnet, solver=lbfgs;, score=nan total time=   0.0s\n",
      "[CV 1/2] END max_iter=1400, penalty=elasticnet, solver=liblinear;, score=nan total time=   0.0s\n",
      "[CV 2/2] END max_iter=1400, penalty=elasticnet, solver=liblinear;, score=nan total time=   0.0s\n",
      "[CV 1/2] END max_iter=1400, penalty=elasticnet, solver=sag;, score=nan total time=   0.0s\n",
      "[CV 2/2] END max_iter=1400, penalty=elasticnet, solver=sag;, score=nan total time=   0.0s\n",
      "[CV 1/2] END max_iter=1400, penalty=elasticnet, solver=saga;, score=nan total time=   0.0s\n",
      "[CV 2/2] END max_iter=1400, penalty=elasticnet, solver=saga;, score=nan total time=   0.0s\n",
      "[CV 1/2] END max_iter=1400, penalty=none, solver=newton-cg;, score=0.626 total time= 1.2min\n",
      "[CV 2/2] END max_iter=1400, penalty=none, solver=newton-cg;, score=0.615 total time= 2.3min\n",
      "[CV 1/2] END max_iter=1400, penalty=none, solver=lbfgs;, score=0.642 total time=  39.5s\n",
      "[CV 2/2] END max_iter=1400, penalty=none, solver=lbfgs;, score=0.631 total time=  50.3s\n",
      "[CV 1/2] END max_iter=1400, penalty=none, solver=liblinear;, score=nan total time=   0.0s\n",
      "[CV 2/2] END max_iter=1400, penalty=none, solver=liblinear;, score=nan total time=   0.0s\n",
      "[CV 1/2] END max_iter=1400, penalty=none, solver=sag;, score=0.721 total time= 1.6min\n",
      "[CV 2/2] END max_iter=1400, penalty=none, solver=sag;, score=0.706 total time= 1.6min\n",
      "[CV 1/2] END max_iter=1400, penalty=none, solver=saga;, score=0.723 total time= 1.6min\n",
      "[CV 2/2] END max_iter=1400, penalty=none, solver=saga;, score=0.711 total time= 1.6min\n",
      "[CV 1/2] END max_iter=1500, penalty=l1, solver=newton-cg;, score=nan total time=   0.0s\n",
      "[CV 2/2] END max_iter=1500, penalty=l1, solver=newton-cg;, score=nan total time=   0.0s\n",
      "[CV 1/2] END max_iter=1500, penalty=l1, solver=lbfgs;, score=nan total time=   0.0s\n",
      "[CV 2/2] END max_iter=1500, penalty=l1, solver=lbfgs;, score=nan total time=   0.0s\n",
      "[CV 1/2] END max_iter=1500, penalty=l1, solver=liblinear;, score=0.750 total time=   0.6s\n",
      "[CV 2/2] END max_iter=1500, penalty=l1, solver=liblinear;, score=0.749 total time=   0.6s\n",
      "[CV 1/2] END max_iter=1500, penalty=l1, solver=sag;, score=nan total time=   0.0s\n",
      "[CV 2/2] END max_iter=1500, penalty=l1, solver=sag;, score=nan total time=   0.0s\n",
      "[CV 1/2] END max_iter=1500, penalty=l1, solver=saga;, score=0.750 total time=  13.3s\n",
      "[CV 2/2] END max_iter=1500, penalty=l1, solver=saga;, score=0.749 total time=  12.9s\n",
      "[CV 1/2] END max_iter=1500, penalty=l2, solver=newton-cg;, score=0.679 total time=   1.8s\n",
      "[CV 2/2] END max_iter=1500, penalty=l2, solver=newton-cg;, score=0.679 total time=   2.0s\n",
      "[CV 1/2] END max_iter=1500, penalty=l2, solver=lbfgs;, score=0.679 total time=   4.0s\n",
      "[CV 2/2] END max_iter=1500, penalty=l2, solver=lbfgs;, score=0.679 total time=   3.5s\n",
      "[CV 1/2] END max_iter=1500, penalty=l2, solver=liblinear;, score=0.679 total time=   0.5s\n",
      "[CV 2/2] END max_iter=1500, penalty=l2, solver=liblinear;, score=0.679 total time=   0.5s\n",
      "[CV 1/2] END max_iter=1500, penalty=l2, solver=sag;, score=0.679 total time=   1.2s\n",
      "[CV 2/2] END max_iter=1500, penalty=l2, solver=sag;, score=0.679 total time=   1.4s\n",
      "[CV 1/2] END max_iter=1500, penalty=l2, solver=saga;, score=0.679 total time=   1.5s\n",
      "[CV 2/2] END max_iter=1500, penalty=l2, solver=saga;, score=0.679 total time=   1.5s\n",
      "[CV 1/2] END max_iter=1500, penalty=elasticnet, solver=newton-cg;, score=nan total time=   0.0s\n",
      "[CV 2/2] END max_iter=1500, penalty=elasticnet, solver=newton-cg;, score=nan total time=   0.0s\n",
      "[CV 1/2] END max_iter=1500, penalty=elasticnet, solver=lbfgs;, score=nan total time=   0.0s\n",
      "[CV 2/2] END max_iter=1500, penalty=elasticnet, solver=lbfgs;, score=nan total time=   0.0s\n",
      "[CV 1/2] END max_iter=1500, penalty=elasticnet, solver=liblinear;, score=nan total time=   0.0s\n",
      "[CV 2/2] END max_iter=1500, penalty=elasticnet, solver=liblinear;, score=nan total time=   0.0s\n",
      "[CV 1/2] END max_iter=1500, penalty=elasticnet, solver=sag;, score=nan total time=   0.0s\n",
      "[CV 2/2] END max_iter=1500, penalty=elasticnet, solver=sag;, score=nan total time=   0.0s\n",
      "[CV 1/2] END max_iter=1500, penalty=elasticnet, solver=saga;, score=nan total time=   0.0s\n",
      "[CV 2/2] END max_iter=1500, penalty=elasticnet, solver=saga;, score=nan total time=   0.0s\n",
      "[CV 1/2] END max_iter=1500, penalty=none, solver=newton-cg;, score=0.626 total time= 1.3min\n",
      "[CV 2/2] END max_iter=1500, penalty=none, solver=newton-cg;, score=0.615 total time= 2.5min\n",
      "[CV 1/2] END max_iter=1500, penalty=none, solver=lbfgs;, score=0.641 total time=  54.1s\n",
      "[CV 2/2] END max_iter=1500, penalty=none, solver=lbfgs;, score=0.630 total time=  53.8s\n",
      "[CV 1/2] END max_iter=1500, penalty=none, solver=liblinear;, score=nan total time=   0.0s\n",
      "[CV 2/2] END max_iter=1500, penalty=none, solver=liblinear;, score=nan total time=   0.0s\n",
      "[CV 1/2] END max_iter=1500, penalty=none, solver=sag;, score=0.720 total time= 1.7min\n",
      "[CV 2/2] END max_iter=1500, penalty=none, solver=sag;, score=0.705 total time= 1.7min\n",
      "[CV 1/2] END max_iter=1500, penalty=none, solver=saga;, score=0.722 total time= 1.7min\n",
      "[CV 2/2] END max_iter=1500, penalty=none, solver=saga;, score=0.711 total time= 1.7min\n",
      "[CV 1/2] END max_iter=1600, penalty=l1, solver=newton-cg;, score=nan total time=   0.0s\n",
      "[CV 2/2] END max_iter=1600, penalty=l1, solver=newton-cg;, score=nan total time=   0.0s\n",
      "[CV 1/2] END max_iter=1600, penalty=l1, solver=lbfgs;, score=nan total time=   0.0s\n",
      "[CV 2/2] END max_iter=1600, penalty=l1, solver=lbfgs;, score=nan total time=   0.0s\n",
      "[CV 1/2] END max_iter=1600, penalty=l1, solver=liblinear;, score=0.750 total time=   0.6s\n",
      "[CV 2/2] END max_iter=1600, penalty=l1, solver=liblinear;, score=0.749 total time=   0.6s\n",
      "[CV 1/2] END max_iter=1600, penalty=l1, solver=sag;, score=nan total time=   0.0s\n",
      "[CV 2/2] END max_iter=1600, penalty=l1, solver=sag;, score=nan total time=   0.0s\n",
      "[CV 1/2] END max_iter=1600, penalty=l1, solver=saga;, score=0.750 total time=  13.5s\n",
      "[CV 2/2] END max_iter=1600, penalty=l1, solver=saga;, score=0.749 total time=  12.9s\n",
      "[CV 1/2] END max_iter=1600, penalty=l2, solver=newton-cg;, score=0.679 total time=   2.0s\n",
      "[CV 2/2] END max_iter=1600, penalty=l2, solver=newton-cg;, score=0.679 total time=   2.5s\n",
      "[CV 1/2] END max_iter=1600, penalty=l2, solver=lbfgs;, score=0.679 total time=   3.8s\n",
      "[CV 2/2] END max_iter=1600, penalty=l2, solver=lbfgs;, score=0.679 total time=   3.3s\n",
      "[CV 1/2] END max_iter=1600, penalty=l2, solver=liblinear;, score=0.679 total time=   0.5s\n",
      "[CV 2/2] END max_iter=1600, penalty=l2, solver=liblinear;, score=0.679 total time=   0.5s\n",
      "[CV 1/2] END max_iter=1600, penalty=l2, solver=sag;, score=0.679 total time=   1.1s\n",
      "[CV 2/2] END max_iter=1600, penalty=l2, solver=sag;, score=0.679 total time=   1.3s\n",
      "[CV 1/2] END max_iter=1600, penalty=l2, solver=saga;, score=0.679 total time=   1.5s\n",
      "[CV 2/2] END max_iter=1600, penalty=l2, solver=saga;, score=0.679 total time=   1.4s\n",
      "[CV 1/2] END max_iter=1600, penalty=elasticnet, solver=newton-cg;, score=nan total time=   0.0s\n",
      "[CV 2/2] END max_iter=1600, penalty=elasticnet, solver=newton-cg;, score=nan total time=   0.0s\n",
      "[CV 1/2] END max_iter=1600, penalty=elasticnet, solver=lbfgs;, score=nan total time=   0.0s\n",
      "[CV 2/2] END max_iter=1600, penalty=elasticnet, solver=lbfgs;, score=nan total time=   0.0s\n",
      "[CV 1/2] END max_iter=1600, penalty=elasticnet, solver=liblinear;, score=nan total time=   0.0s\n",
      "[CV 2/2] END max_iter=1600, penalty=elasticnet, solver=liblinear;, score=nan total time=   0.0s\n",
      "[CV 1/2] END max_iter=1600, penalty=elasticnet, solver=sag;, score=nan total time=   0.0s\n",
      "[CV 2/2] END max_iter=1600, penalty=elasticnet, solver=sag;, score=nan total time=   0.0s\n",
      "[CV 1/2] END max_iter=1600, penalty=elasticnet, solver=saga;, score=nan total time=   0.0s\n",
      "[CV 2/2] END max_iter=1600, penalty=elasticnet, solver=saga;, score=nan total time=   0.0s\n",
      "[CV 1/2] END max_iter=1600, penalty=none, solver=newton-cg;, score=0.626 total time= 1.3min\n",
      "[CV 2/2] END max_iter=1600, penalty=none, solver=newton-cg;, score=0.615 total time= 2.4min\n",
      "[CV 1/2] END max_iter=1600, penalty=none, solver=lbfgs;, score=0.641 total time=  54.7s\n",
      "[CV 2/2] END max_iter=1600, penalty=none, solver=lbfgs;, score=0.628 total time=  55.6s\n",
      "[CV 1/2] END max_iter=1600, penalty=none, solver=liblinear;, score=nan total time=   0.0s\n",
      "[CV 2/2] END max_iter=1600, penalty=none, solver=liblinear;, score=nan total time=   0.0s\n",
      "[CV 1/2] END max_iter=1600, penalty=none, solver=sag;, score=0.720 total time= 1.7min\n",
      "[CV 2/2] END max_iter=1600, penalty=none, solver=sag;, score=0.704 total time= 1.7min\n",
      "[CV 1/2] END max_iter=1600, penalty=none, solver=saga;, score=0.723 total time= 1.8min\n",
      "[CV 2/2] END max_iter=1600, penalty=none, solver=saga;, score=0.710 total time= 1.8min\n",
      "[CV 1/2] END max_iter=1700, penalty=l1, solver=newton-cg;, score=nan total time=   0.0s\n",
      "[CV 2/2] END max_iter=1700, penalty=l1, solver=newton-cg;, score=nan total time=   0.0s\n",
      "[CV 1/2] END max_iter=1700, penalty=l1, solver=lbfgs;, score=nan total time=   0.0s\n",
      "[CV 2/2] END max_iter=1700, penalty=l1, solver=lbfgs;, score=nan total time=   0.0s\n",
      "[CV 1/2] END max_iter=1700, penalty=l1, solver=liblinear;, score=0.750 total time=   0.6s\n",
      "[CV 2/2] END max_iter=1700, penalty=l1, solver=liblinear;, score=0.749 total time=   0.6s\n",
      "[CV 1/2] END max_iter=1700, penalty=l1, solver=sag;, score=nan total time=   0.0s\n",
      "[CV 2/2] END max_iter=1700, penalty=l1, solver=sag;, score=nan total time=   0.0s\n",
      "[CV 1/2] END max_iter=1700, penalty=l1, solver=saga;, score=0.750 total time=  13.4s\n",
      "[CV 2/2] END max_iter=1700, penalty=l1, solver=saga;, score=0.749 total time=  12.9s\n",
      "[CV 1/2] END max_iter=1700, penalty=l2, solver=newton-cg;, score=0.679 total time=   1.9s\n",
      "[CV 2/2] END max_iter=1700, penalty=l2, solver=newton-cg;, score=0.679 total time=   1.9s\n",
      "[CV 1/2] END max_iter=1700, penalty=l2, solver=lbfgs;, score=0.679 total time=   4.0s\n",
      "[CV 2/2] END max_iter=1700, penalty=l2, solver=lbfgs;, score=0.679 total time=   3.6s\n",
      "[CV 1/2] END max_iter=1700, penalty=l2, solver=liblinear;, score=0.679 total time=   0.5s\n",
      "[CV 2/2] END max_iter=1700, penalty=l2, solver=liblinear;, score=0.679 total time=   0.5s\n",
      "[CV 1/2] END max_iter=1700, penalty=l2, solver=sag;, score=0.679 total time=   1.2s\n",
      "[CV 2/2] END max_iter=1700, penalty=l2, solver=sag;, score=0.679 total time=   1.4s\n",
      "[CV 1/2] END max_iter=1700, penalty=l2, solver=saga;, score=0.679 total time=   1.6s\n",
      "[CV 2/2] END max_iter=1700, penalty=l2, solver=saga;, score=0.679 total time=   1.3s\n",
      "[CV 1/2] END max_iter=1700, penalty=elasticnet, solver=newton-cg;, score=nan total time=   0.0s\n",
      "[CV 2/2] END max_iter=1700, penalty=elasticnet, solver=newton-cg;, score=nan total time=   0.0s\n",
      "[CV 1/2] END max_iter=1700, penalty=elasticnet, solver=lbfgs;, score=nan total time=   0.0s\n",
      "[CV 2/2] END max_iter=1700, penalty=elasticnet, solver=lbfgs;, score=nan total time=   0.0s\n",
      "[CV 1/2] END max_iter=1700, penalty=elasticnet, solver=liblinear;, score=nan total time=   0.0s\n",
      "[CV 2/2] END max_iter=1700, penalty=elasticnet, solver=liblinear;, score=nan total time=   0.0s\n",
      "[CV 1/2] END max_iter=1700, penalty=elasticnet, solver=sag;, score=nan total time=   0.0s\n",
      "[CV 2/2] END max_iter=1700, penalty=elasticnet, solver=sag;, score=nan total time=   0.0s\n",
      "[CV 1/2] END max_iter=1700, penalty=elasticnet, solver=saga;, score=nan total time=   0.0s\n",
      "[CV 2/2] END max_iter=1700, penalty=elasticnet, solver=saga;, score=nan total time=   0.0s\n",
      "[CV 1/2] END max_iter=1700, penalty=none, solver=newton-cg;, score=0.626 total time= 1.3min\n",
      "[CV 2/2] END max_iter=1700, penalty=none, solver=newton-cg;, score=0.615 total time= 2.5min\n",
      "[CV 1/2] END max_iter=1700, penalty=none, solver=lbfgs;, score=0.641 total time=  59.3s\n",
      "[CV 2/2] END max_iter=1700, penalty=none, solver=lbfgs;, score=0.627 total time=  58.7s\n",
      "[CV 1/2] END max_iter=1700, penalty=none, solver=liblinear;, score=nan total time=   0.0s\n",
      "[CV 2/2] END max_iter=1700, penalty=none, solver=liblinear;, score=nan total time=   0.0s\n",
      "[CV 1/2] END max_iter=1700, penalty=none, solver=sag;, score=0.719 total time= 1.8min\n",
      "[CV 2/2] END max_iter=1700, penalty=none, solver=sag;, score=0.703 total time= 1.0min\n",
      "[CV 1/2] END max_iter=1700, penalty=none, solver=saga;, score=0.723 total time= 1.2min\n",
      "[CV 2/2] END max_iter=1700, penalty=none, solver=saga;, score=0.709 total time= 1.2min\n",
      "[CV 1/2] END max_iter=1800, penalty=l1, solver=newton-cg;, score=nan total time=   0.0s\n",
      "[CV 2/2] END max_iter=1800, penalty=l1, solver=newton-cg;, score=nan total time=   0.0s\n",
      "[CV 1/2] END max_iter=1800, penalty=l1, solver=lbfgs;, score=nan total time=   0.0s\n",
      "[CV 2/2] END max_iter=1800, penalty=l1, solver=lbfgs;, score=nan total time=   0.0s\n",
      "[CV 1/2] END max_iter=1800, penalty=l1, solver=liblinear;, score=0.750 total time=   0.4s\n",
      "[CV 2/2] END max_iter=1800, penalty=l1, solver=liblinear;, score=0.749 total time=   0.4s\n",
      "[CV 1/2] END max_iter=1800, penalty=l1, solver=sag;, score=nan total time=   0.0s\n",
      "[CV 2/2] END max_iter=1800, penalty=l1, solver=sag;, score=nan total time=   0.0s\n",
      "[CV 1/2] END max_iter=1800, penalty=l1, solver=saga;, score=0.750 total time=  10.1s\n",
      "[CV 2/2] END max_iter=1800, penalty=l1, solver=saga;, score=0.749 total time=   9.7s\n",
      "[CV 1/2] END max_iter=1800, penalty=l2, solver=newton-cg;, score=0.679 total time=   1.3s\n",
      "[CV 2/2] END max_iter=1800, penalty=l2, solver=newton-cg;, score=0.679 total time=   1.4s\n",
      "[CV 1/2] END max_iter=1800, penalty=l2, solver=lbfgs;, score=0.679 total time=   2.9s\n",
      "[CV 2/2] END max_iter=1800, penalty=l2, solver=lbfgs;, score=0.679 total time=   2.5s\n",
      "[CV 1/2] END max_iter=1800, penalty=l2, solver=liblinear;, score=0.679 total time=   0.3s\n",
      "[CV 2/2] END max_iter=1800, penalty=l2, solver=liblinear;, score=0.679 total time=   0.3s\n",
      "[CV 1/2] END max_iter=1800, penalty=l2, solver=sag;, score=0.679 total time=   0.6s\n",
      "[CV 2/2] END max_iter=1800, penalty=l2, solver=sag;, score=0.679 total time=   0.7s\n",
      "[CV 1/2] END max_iter=1800, penalty=l2, solver=saga;, score=0.679 total time=   0.8s\n",
      "[CV 2/2] END max_iter=1800, penalty=l2, solver=saga;, score=0.679 total time=   0.7s\n",
      "[CV 1/2] END max_iter=1800, penalty=elasticnet, solver=newton-cg;, score=nan total time=   0.0s\n",
      "[CV 2/2] END max_iter=1800, penalty=elasticnet, solver=newton-cg;, score=nan total time=   0.0s\n",
      "[CV 1/2] END max_iter=1800, penalty=elasticnet, solver=lbfgs;, score=nan total time=   0.0s\n",
      "[CV 2/2] END max_iter=1800, penalty=elasticnet, solver=lbfgs;, score=nan total time=   0.0s\n",
      "[CV 1/2] END max_iter=1800, penalty=elasticnet, solver=liblinear;, score=nan total time=   0.0s\n",
      "[CV 2/2] END max_iter=1800, penalty=elasticnet, solver=liblinear;, score=nan total time=   0.0s\n",
      "[CV 1/2] END max_iter=1800, penalty=elasticnet, solver=sag;, score=nan total time=   0.0s\n",
      "[CV 2/2] END max_iter=1800, penalty=elasticnet, solver=sag;, score=nan total time=   0.0s\n",
      "[CV 1/2] END max_iter=1800, penalty=elasticnet, solver=saga;, score=nan total time=   0.0s\n",
      "[CV 2/2] END max_iter=1800, penalty=elasticnet, solver=saga;, score=nan total time=   0.0s\n",
      "[CV 1/2] END max_iter=1800, penalty=none, solver=newton-cg;, score=0.626 total time=  58.3s\n",
      "[CV 2/2] END max_iter=1800, penalty=none, solver=newton-cg;, score=0.615 total time= 1.8min\n",
      "[CV 1/2] END max_iter=1800, penalty=none, solver=lbfgs;, score=0.640 total time=  47.2s\n",
      "[CV 2/2] END max_iter=1800, penalty=none, solver=lbfgs;, score=0.626 total time=  47.0s\n",
      "[CV 1/2] END max_iter=1800, penalty=none, solver=liblinear;, score=nan total time=   0.0s\n",
      "[CV 2/2] END max_iter=1800, penalty=none, solver=liblinear;, score=nan total time=   0.0s\n",
      "[CV 1/2] END max_iter=1800, penalty=none, solver=sag;, score=0.719 total time= 1.1min\n",
      "[CV 2/2] END max_iter=1800, penalty=none, solver=sag;, score=0.703 total time= 1.1min\n",
      "[CV 1/2] END max_iter=1800, penalty=none, solver=saga;, score=0.723 total time= 1.2min\n",
      "[CV 2/2] END max_iter=1800, penalty=none, solver=saga;, score=0.709 total time= 1.2min\n",
      "[CV 1/2] END max_iter=1900, penalty=l1, solver=newton-cg;, score=nan total time=   0.0s\n",
      "[CV 2/2] END max_iter=1900, penalty=l1, solver=newton-cg;, score=nan total time=   0.0s\n",
      "[CV 1/2] END max_iter=1900, penalty=l1, solver=lbfgs;, score=nan total time=   0.0s\n",
      "[CV 2/2] END max_iter=1900, penalty=l1, solver=lbfgs;, score=nan total time=   0.0s\n",
      "[CV 1/2] END max_iter=1900, penalty=l1, solver=liblinear;, score=0.750 total time=   0.4s\n",
      "[CV 2/2] END max_iter=1900, penalty=l1, solver=liblinear;, score=0.749 total time=   0.4s\n",
      "[CV 1/2] END max_iter=1900, penalty=l1, solver=sag;, score=nan total time=   0.0s\n",
      "[CV 2/2] END max_iter=1900, penalty=l1, solver=sag;, score=nan total time=   0.0s\n",
      "[CV 1/2] END max_iter=1900, penalty=l1, solver=saga;, score=0.750 total time=  10.1s\n",
      "[CV 2/2] END max_iter=1900, penalty=l1, solver=saga;, score=0.749 total time=   9.6s\n",
      "[CV 1/2] END max_iter=1900, penalty=l2, solver=newton-cg;, score=0.679 total time=   1.3s\n",
      "[CV 2/2] END max_iter=1900, penalty=l2, solver=newton-cg;, score=0.679 total time=   1.4s\n",
      "[CV 1/2] END max_iter=1900, penalty=l2, solver=lbfgs;, score=0.679 total time=   3.0s\n",
      "[CV 2/2] END max_iter=1900, penalty=l2, solver=lbfgs;, score=0.679 total time=   2.5s\n",
      "[CV 1/2] END max_iter=1900, penalty=l2, solver=liblinear;, score=0.679 total time=   0.3s\n",
      "[CV 2/2] END max_iter=1900, penalty=l2, solver=liblinear;, score=0.679 total time=   0.3s\n",
      "[CV 1/2] END max_iter=1900, penalty=l2, solver=sag;, score=0.679 total time=   0.6s\n",
      "[CV 2/2] END max_iter=1900, penalty=l2, solver=sag;, score=0.679 total time=   0.6s\n",
      "[CV 1/2] END max_iter=1900, penalty=l2, solver=saga;, score=0.679 total time=   0.8s\n",
      "[CV 2/2] END max_iter=1900, penalty=l2, solver=saga;, score=0.679 total time=   0.7s\n",
      "[CV 1/2] END max_iter=1900, penalty=elasticnet, solver=newton-cg;, score=nan total time=   0.0s\n",
      "[CV 2/2] END max_iter=1900, penalty=elasticnet, solver=newton-cg;, score=nan total time=   0.0s\n",
      "[CV 1/2] END max_iter=1900, penalty=elasticnet, solver=lbfgs;, score=nan total time=   0.0s\n",
      "[CV 2/2] END max_iter=1900, penalty=elasticnet, solver=lbfgs;, score=nan total time=   0.0s\n",
      "[CV 1/2] END max_iter=1900, penalty=elasticnet, solver=liblinear;, score=nan total time=   0.0s\n",
      "[CV 2/2] END max_iter=1900, penalty=elasticnet, solver=liblinear;, score=nan total time=   0.0s\n",
      "[CV 1/2] END max_iter=1900, penalty=elasticnet, solver=sag;, score=nan total time=   0.0s\n",
      "[CV 2/2] END max_iter=1900, penalty=elasticnet, solver=sag;, score=nan total time=   0.0s\n",
      "[CV 1/2] END max_iter=1900, penalty=elasticnet, solver=saga;, score=nan total time=   0.0s\n",
      "[CV 2/2] END max_iter=1900, penalty=elasticnet, solver=saga;, score=nan total time=   0.0s\n",
      "[CV 1/2] END max_iter=1900, penalty=none, solver=newton-cg;, score=0.626 total time=  54.4s\n",
      "[CV 2/2] END max_iter=1900, penalty=none, solver=newton-cg;, score=0.615 total time= 1.7min\n",
      "[CV 1/2] END max_iter=1900, penalty=none, solver=lbfgs;, score=0.640 total time=  49.1s\n",
      "[CV 2/2] END max_iter=1900, penalty=none, solver=lbfgs;, score=0.626 total time=  49.6s\n",
      "[CV 1/2] END max_iter=1900, penalty=none, solver=liblinear;, score=nan total time=   0.0s\n",
      "[CV 2/2] END max_iter=1900, penalty=none, solver=liblinear;, score=nan total time=   0.0s\n",
      "[CV 1/2] END max_iter=1900, penalty=none, solver=sag;, score=0.719 total time= 1.1min\n",
      "[CV 2/2] END max_iter=1900, penalty=none, solver=sag;, score=0.702 total time= 1.2min\n",
      "[CV 1/2] END max_iter=1900, penalty=none, solver=saga;, score=0.723 total time= 1.2min\n",
      "[CV 2/2] END max_iter=1900, penalty=none, solver=saga;, score=0.708 total time= 1.3min\n"
     ]
    },
    {
     "data": {
      "text/plain": [
       "{'max_iter': 1000, 'penalty': 'l1', 'solver': 'liblinear'}"
      ]
     },
     "execution_count": 33,
     "metadata": {},
     "output_type": "execute_result"
    }
   ],
   "source": [
    "warnings.filterwarnings(\"ignore\")\n",
    "parametrs = {\"solver\" : ['newton-cg', 'lbfgs', 'liblinear', 'sag', 'saga'],\n",
    "             \"max_iter\": range(1000,2000,100),\n",
    "             \"penalty\": ['l1', 'l2', 'elasticnet', 'none']}\n",
    "model_LR = GridSearchCV(lr(random_state=46812), \n",
    "                        parametrs,\n",
    "                        scoring = 'f1',\n",
    "                        verbose = 3,\n",
    "                        cv=2)\n",
    "model_LR.fit(train_tf, train['toxic'])\n",
    "model_LR.best_params_"
   ]
  },
  {
   "cell_type": "code",
   "execution_count": 54,
   "metadata": {},
   "outputs": [
    {
     "data": {
      "text/plain": [
       "0.7492733100385021"
      ]
     },
     "execution_count": 54,
     "metadata": {},
     "output_type": "execute_result"
    }
   ],
   "source": [
    "model_LR.best_score_"
   ]
  },
  {
   "attachments": {},
   "cell_type": "markdown",
   "metadata": {},
   "source": [
    "Прекрасно, уже есть модель которая преодалела необходимый порог."
   ]
  },
  {
   "attachments": {},
   "cell_type": "markdown",
   "metadata": {},
   "source": [
    "#### CatBoostClassifier"
   ]
  },
  {
   "cell_type": "code",
   "execution_count": 52,
   "metadata": {},
   "outputs": [
    {
     "name": "stdout",
     "output_type": "stream",
     "text": [
      "Fitting 2 folds for each of 54 candidates, totalling 108 fits\n",
      "[CV 1/2] END depth=2, iterations=1100, l2_leaf_reg=2, learning_rate=0.7;, score=0.748 total time= 2.3min\n",
      "[CV 2/2] END depth=2, iterations=1100, l2_leaf_reg=2, learning_rate=0.7;, score=0.748 total time= 2.3min\n",
      "[CV 1/2] END depth=2, iterations=1100, l2_leaf_reg=2, learning_rate=0.5;, score=0.754 total time= 2.3min\n",
      "[CV 2/2] END depth=2, iterations=1100, l2_leaf_reg=2, learning_rate=0.5;, score=0.755 total time= 2.3min\n",
      "[CV 1/2] END depth=2, iterations=1100, l2_leaf_reg=2, learning_rate=0.3;, score=0.751 total time= 2.3min\n",
      "[CV 2/2] END depth=2, iterations=1100, l2_leaf_reg=2, learning_rate=0.3;, score=0.756 total time= 2.3min\n",
      "[CV 1/2] END depth=2, iterations=1100, l2_leaf_reg=5, learning_rate=0.7;, score=0.747 total time= 2.3min\n",
      "[CV 2/2] END depth=2, iterations=1100, l2_leaf_reg=5, learning_rate=0.7;, score=0.750 total time= 2.3min\n",
      "[CV 1/2] END depth=2, iterations=1100, l2_leaf_reg=5, learning_rate=0.5;, score=0.752 total time= 2.3min\n",
      "[CV 2/2] END depth=2, iterations=1100, l2_leaf_reg=5, learning_rate=0.5;, score=0.748 total time= 2.3min\n",
      "[CV 1/2] END depth=2, iterations=1100, l2_leaf_reg=5, learning_rate=0.3;, score=0.750 total time= 2.3min\n",
      "[CV 2/2] END depth=2, iterations=1100, l2_leaf_reg=5, learning_rate=0.3;, score=0.753 total time= 2.3min\n",
      "[CV 1/2] END depth=2, iterations=1100, l2_leaf_reg=8, learning_rate=0.7;, score=0.748 total time= 2.3min\n",
      "[CV 2/2] END depth=2, iterations=1100, l2_leaf_reg=8, learning_rate=0.7;, score=0.749 total time= 2.3min\n",
      "[CV 1/2] END depth=2, iterations=1100, l2_leaf_reg=8, learning_rate=0.5;, score=0.749 total time= 2.3min\n",
      "[CV 2/2] END depth=2, iterations=1100, l2_leaf_reg=8, learning_rate=0.5;, score=0.753 total time= 2.3min\n",
      "[CV 1/2] END depth=2, iterations=1100, l2_leaf_reg=8, learning_rate=0.3;, score=0.749 total time= 2.3min\n",
      "[CV 2/2] END depth=2, iterations=1100, l2_leaf_reg=8, learning_rate=0.3;, score=0.754 total time= 2.3min\n",
      "[CV 1/2] END depth=2, iterations=1350, l2_leaf_reg=2, learning_rate=0.7;, score=0.751 total time= 2.8min\n",
      "[CV 2/2] END depth=2, iterations=1350, l2_leaf_reg=2, learning_rate=0.7;, score=0.748 total time= 2.8min\n",
      "[CV 1/2] END depth=2, iterations=1350, l2_leaf_reg=2, learning_rate=0.5;, score=0.753 total time= 2.8min\n",
      "[CV 2/2] END depth=2, iterations=1350, l2_leaf_reg=2, learning_rate=0.5;, score=0.758 total time= 2.8min\n",
      "[CV 1/2] END depth=2, iterations=1350, l2_leaf_reg=2, learning_rate=0.3;, score=0.752 total time= 2.8min\n",
      "[CV 2/2] END depth=2, iterations=1350, l2_leaf_reg=2, learning_rate=0.3;, score=0.757 total time= 2.8min\n",
      "[CV 1/2] END depth=2, iterations=1350, l2_leaf_reg=5, learning_rate=0.7;, score=0.747 total time= 2.8min\n",
      "[CV 2/2] END depth=2, iterations=1350, l2_leaf_reg=5, learning_rate=0.7;, score=0.751 total time= 2.8min\n",
      "[CV 1/2] END depth=2, iterations=1350, l2_leaf_reg=5, learning_rate=0.5;, score=0.755 total time= 2.8min\n",
      "[CV 2/2] END depth=2, iterations=1350, l2_leaf_reg=5, learning_rate=0.5;, score=0.752 total time= 2.8min\n",
      "[CV 1/2] END depth=2, iterations=1350, l2_leaf_reg=5, learning_rate=0.3;, score=0.755 total time= 2.8min\n",
      "[CV 2/2] END depth=2, iterations=1350, l2_leaf_reg=5, learning_rate=0.3;, score=0.755 total time= 2.8min\n",
      "[CV 1/2] END depth=2, iterations=1350, l2_leaf_reg=8, learning_rate=0.7;, score=0.751 total time= 2.8min\n",
      "[CV 2/2] END depth=2, iterations=1350, l2_leaf_reg=8, learning_rate=0.7;, score=0.751 total time= 2.8min\n",
      "[CV 1/2] END depth=2, iterations=1350, l2_leaf_reg=8, learning_rate=0.5;, score=0.752 total time= 2.8min\n",
      "[CV 2/2] END depth=2, iterations=1350, l2_leaf_reg=8, learning_rate=0.5;, score=0.755 total time= 2.8min\n",
      "[CV 1/2] END depth=2, iterations=1350, l2_leaf_reg=8, learning_rate=0.3;, score=0.755 total time= 2.8min\n",
      "[CV 2/2] END depth=2, iterations=1350, l2_leaf_reg=8, learning_rate=0.3;, score=0.756 total time= 2.8min\n",
      "[CV 1/2] END depth=5, iterations=1100, l2_leaf_reg=2, learning_rate=0.7;, score=0.756 total time= 6.6min\n",
      "[CV 2/2] END depth=5, iterations=1100, l2_leaf_reg=2, learning_rate=0.7;, score=0.756 total time= 6.6min\n",
      "[CV 1/2] END depth=5, iterations=1100, l2_leaf_reg=2, learning_rate=0.5;, score=0.763 total time= 6.6min\n",
      "[CV 2/2] END depth=5, iterations=1100, l2_leaf_reg=2, learning_rate=0.5;, score=0.761 total time= 6.6min\n",
      "[CV 1/2] END depth=5, iterations=1100, l2_leaf_reg=2, learning_rate=0.3;, score=0.766 total time= 6.6min\n",
      "[CV 2/2] END depth=5, iterations=1100, l2_leaf_reg=2, learning_rate=0.3;, score=0.765 total time= 6.6min\n",
      "[CV 1/2] END depth=5, iterations=1100, l2_leaf_reg=5, learning_rate=0.7;, score=0.759 total time= 6.6min\n",
      "[CV 2/2] END depth=5, iterations=1100, l2_leaf_reg=5, learning_rate=0.7;, score=0.758 total time= 6.6min\n",
      "[CV 1/2] END depth=5, iterations=1100, l2_leaf_reg=5, learning_rate=0.5;, score=0.762 total time= 6.6min\n",
      "[CV 2/2] END depth=5, iterations=1100, l2_leaf_reg=5, learning_rate=0.5;, score=0.761 total time= 6.6min\n",
      "[CV 1/2] END depth=5, iterations=1100, l2_leaf_reg=5, learning_rate=0.3;, score=0.763 total time= 6.6min\n",
      "[CV 2/2] END depth=5, iterations=1100, l2_leaf_reg=5, learning_rate=0.3;, score=0.764 total time= 6.6min\n",
      "[CV 1/2] END depth=5, iterations=1100, l2_leaf_reg=8, learning_rate=0.7;, score=0.759 total time= 6.6min\n",
      "[CV 2/2] END depth=5, iterations=1100, l2_leaf_reg=8, learning_rate=0.7;, score=0.754 total time= 6.6min\n",
      "[CV 1/2] END depth=5, iterations=1100, l2_leaf_reg=8, learning_rate=0.5;, score=0.763 total time= 6.6min\n",
      "[CV 2/2] END depth=5, iterations=1100, l2_leaf_reg=8, learning_rate=0.5;, score=0.760 total time= 6.6min\n",
      "[CV 1/2] END depth=5, iterations=1100, l2_leaf_reg=8, learning_rate=0.3;, score=0.765 total time= 6.6min\n",
      "[CV 2/2] END depth=5, iterations=1100, l2_leaf_reg=8, learning_rate=0.3;, score=0.765 total time= 6.6min\n",
      "[CV 1/2] END depth=5, iterations=1350, l2_leaf_reg=2, learning_rate=0.7;, score=0.757 total time= 8.1min\n",
      "[CV 2/2] END depth=5, iterations=1350, l2_leaf_reg=2, learning_rate=0.7;, score=0.761 total time= 8.1min\n",
      "[CV 1/2] END depth=5, iterations=1350, l2_leaf_reg=2, learning_rate=0.5;, score=0.762 total time= 8.0min\n",
      "[CV 2/2] END depth=5, iterations=1350, l2_leaf_reg=2, learning_rate=0.5;, score=0.765 total time= 8.0min\n",
      "[CV 1/2] END depth=5, iterations=1350, l2_leaf_reg=2, learning_rate=0.3;, score=0.768 total time= 8.0min\n",
      "[CV 2/2] END depth=5, iterations=1350, l2_leaf_reg=2, learning_rate=0.3;, score=0.767 total time= 8.1min\n",
      "[CV 1/2] END depth=5, iterations=1350, l2_leaf_reg=5, learning_rate=0.7;, score=0.760 total time= 8.0min\n",
      "[CV 2/2] END depth=5, iterations=1350, l2_leaf_reg=5, learning_rate=0.7;, score=0.762 total time= 8.1min\n",
      "[CV 1/2] END depth=5, iterations=1350, l2_leaf_reg=5, learning_rate=0.5;, score=0.761 total time= 8.0min\n",
      "[CV 2/2] END depth=5, iterations=1350, l2_leaf_reg=5, learning_rate=0.5;, score=0.762 total time= 8.0min\n",
      "[CV 1/2] END depth=5, iterations=1350, l2_leaf_reg=5, learning_rate=0.3;, score=0.766 total time= 8.0min\n",
      "[CV 2/2] END depth=5, iterations=1350, l2_leaf_reg=5, learning_rate=0.3;, score=0.765 total time= 8.1min\n",
      "[CV 1/2] END depth=5, iterations=1350, l2_leaf_reg=8, learning_rate=0.7;, score=0.760 total time= 8.6min\n",
      "[CV 2/2] END depth=5, iterations=1350, l2_leaf_reg=8, learning_rate=0.7;, score=0.756 total time= 9.9min\n",
      "[CV 1/2] END depth=5, iterations=1350, l2_leaf_reg=8, learning_rate=0.5;, score=0.764 total time= 9.5min\n",
      "[CV 2/2] END depth=5, iterations=1350, l2_leaf_reg=8, learning_rate=0.5;, score=0.761 total time= 9.0min\n",
      "[CV 1/2] END depth=5, iterations=1350, l2_leaf_reg=8, learning_rate=0.3;, score=0.766 total time= 8.3min\n",
      "[CV 2/2] END depth=5, iterations=1350, l2_leaf_reg=8, learning_rate=0.3;, score=0.765 total time= 8.0min\n",
      "[CV 1/2] END depth=8, iterations=1100, l2_leaf_reg=2, learning_rate=0.7;, score=0.765 total time=26.5min\n",
      "[CV 2/2] END depth=8, iterations=1100, l2_leaf_reg=2, learning_rate=0.7;, score=0.763 total time=27.3min\n",
      "[CV 1/2] END depth=8, iterations=1100, l2_leaf_reg=2, learning_rate=0.5;, score=0.767 total time=27.2min\n",
      "[CV 2/2] END depth=8, iterations=1100, l2_leaf_reg=2, learning_rate=0.5;, score=0.766 total time=26.0min\n",
      "[CV 1/2] END depth=8, iterations=1100, l2_leaf_reg=2, learning_rate=0.3;, score=0.770 total time=28.6min\n",
      "[CV 2/2] END depth=8, iterations=1100, l2_leaf_reg=2, learning_rate=0.3;, score=0.768 total time=25.4min\n",
      "[CV 1/2] END depth=8, iterations=1100, l2_leaf_reg=5, learning_rate=0.7;, score=0.763 total time=25.0min\n",
      "[CV 2/2] END depth=8, iterations=1100, l2_leaf_reg=5, learning_rate=0.7;, score=0.765 total time=25.1min\n",
      "[CV 1/2] END depth=8, iterations=1100, l2_leaf_reg=5, learning_rate=0.5;, score=0.764 total time=24.9min\n",
      "[CV 2/2] END depth=8, iterations=1100, l2_leaf_reg=5, learning_rate=0.5;, score=0.764 total time=25.0min\n",
      "[CV 1/2] END depth=8, iterations=1100, l2_leaf_reg=5, learning_rate=0.3;, score=0.767 total time=24.8min\n",
      "[CV 2/2] END depth=8, iterations=1100, l2_leaf_reg=5, learning_rate=0.3;, score=0.768 total time=24.9min\n",
      "[CV 1/2] END depth=8, iterations=1100, l2_leaf_reg=8, learning_rate=0.7;, score=0.760 total time=24.9min\n",
      "[CV 2/2] END depth=8, iterations=1100, l2_leaf_reg=8, learning_rate=0.7;, score=0.762 total time=25.0min\n",
      "[CV 1/2] END depth=8, iterations=1100, l2_leaf_reg=8, learning_rate=0.5;, score=0.763 total time=24.8min\n",
      "[CV 2/2] END depth=8, iterations=1100, l2_leaf_reg=8, learning_rate=0.5;, score=0.767 total time=24.9min\n",
      "[CV 1/2] END depth=8, iterations=1100, l2_leaf_reg=8, learning_rate=0.3;, score=0.768 total time=24.8min\n",
      "[CV 2/2] END depth=8, iterations=1100, l2_leaf_reg=8, learning_rate=0.3;, score=0.768 total time=24.9min\n",
      "[CV 1/2] END depth=8, iterations=1350, l2_leaf_reg=2, learning_rate=0.7;, score=0.766 total time=30.4min\n",
      "[CV 2/2] END depth=8, iterations=1350, l2_leaf_reg=2, learning_rate=0.7;, score=0.765 total time=30.6min\n",
      "[CV 1/2] END depth=8, iterations=1350, l2_leaf_reg=2, learning_rate=0.5;, score=0.768 total time=30.5min\n",
      "[CV 2/2] END depth=8, iterations=1350, l2_leaf_reg=2, learning_rate=0.5;, score=0.767 total time=30.5min\n",
      "[CV 1/2] END depth=8, iterations=1350, l2_leaf_reg=2, learning_rate=0.3;, score=0.769 total time=30.5min\n",
      "[CV 2/2] END depth=8, iterations=1350, l2_leaf_reg=2, learning_rate=0.3;, score=0.770 total time=30.5min\n",
      "[CV 1/2] END depth=8, iterations=1350, l2_leaf_reg=5, learning_rate=0.7;, score=0.763 total time=30.4min\n",
      "[CV 2/2] END depth=8, iterations=1350, l2_leaf_reg=5, learning_rate=0.7;, score=0.765 total time=30.5min\n",
      "[CV 1/2] END depth=8, iterations=1350, l2_leaf_reg=5, learning_rate=0.5;, score=0.765 total time=30.4min\n",
      "[CV 2/2] END depth=8, iterations=1350, l2_leaf_reg=5, learning_rate=0.5;, score=0.769 total time=30.5min\n",
      "[CV 1/2] END depth=8, iterations=1350, l2_leaf_reg=5, learning_rate=0.3;, score=0.769 total time=30.4min\n",
      "[CV 2/2] END depth=8, iterations=1350, l2_leaf_reg=5, learning_rate=0.3;, score=0.767 total time=30.5min\n",
      "[CV 1/2] END depth=8, iterations=1350, l2_leaf_reg=8, learning_rate=0.7;, score=0.763 total time=30.4min\n",
      "[CV 2/2] END depth=8, iterations=1350, l2_leaf_reg=8, learning_rate=0.7;, score=0.765 total time=30.5min\n",
      "[CV 1/2] END depth=8, iterations=1350, l2_leaf_reg=8, learning_rate=0.5;, score=0.764 total time=30.4min\n",
      "[CV 2/2] END depth=8, iterations=1350, l2_leaf_reg=8, learning_rate=0.5;, score=0.767 total time=30.6min\n",
      "[CV 1/2] END depth=8, iterations=1350, l2_leaf_reg=8, learning_rate=0.3;, score=0.769 total time=30.5min\n",
      "[CV 2/2] END depth=8, iterations=1350, l2_leaf_reg=8, learning_rate=0.3;, score=0.767 total time=30.7min\n",
      "{'depth': 8, 'iterations': 1350, 'l2_leaf_reg': 2, 'learning_rate': 0.3}\n",
      "0.7693862941761751\n"
     ]
    }
   ],
   "source": [
    "parametrs = {'depth' :range(2,9,3),\n",
    "            'iterations' : range(1100,1501,250),\n",
    "            'learning_rate' : [.7,.5,.3],\n",
    "            'l2_leaf_reg':range(2,9,3)}\n",
    "cbc = GridSearchCV(CatBoostClassifier(random_seed= RANDOM_STATE,\n",
    "                        logging_level='Silent',\n",
    "                        auto_class_weights='Balanced'), \n",
    "                    parametrs, \n",
    "                    scoring = 'f1',\n",
    "                    verbose = 3,\n",
    "                    cv=2)\n",
    "cbc.fit(train_tf, train['toxic'])\n",
    "print (cbc.best_params_)\n",
    "print (cbc.best_score_)"
   ]
  },
  {
   "attachments": {},
   "cell_type": "markdown",
   "metadata": {},
   "source": [
    "Как видно, CatBoostClassifier справился лучше, по этому на тестовой выборке будем использовать его."
   ]
  },
  {
   "attachments": {},
   "cell_type": "markdown",
   "metadata": {},
   "source": [
    "## Тестовая выборка"
   ]
  },
  {
   "cell_type": "code",
   "execution_count": 60,
   "metadata": {},
   "outputs": [
    {
     "data": {
      "text/plain": [
       "0.7807814897886908"
      ]
     },
     "execution_count": 60,
     "metadata": {},
     "output_type": "execute_result"
    }
   ],
   "source": [
    "f1(test['toxic'], cbc.predict(test_tf))"
   ]
  },
  {
   "attachments": {},
   "cell_type": "markdown",
   "metadata": {},
   "source": [
    "Прекрасный результат."
   ]
  },
  {
   "attachments": {},
   "cell_type": "markdown",
   "metadata": {},
   "source": [
    "## Выводы"
   ]
  },
  {
   "attachments": {},
   "cell_type": "markdown",
   "metadata": {},
   "source": [
    "Произвели поготовку текста для предсказания токсичности модели, обучили катбуст и получили итоговую метрику f1 0.78. Что является не плохим результатом."
   ]
  }
 ],
 "metadata": {
  "kernelspec": {
   "display_name": "Python 3 (ipykernel)",
   "language": "python",
   "name": "python3"
  },
  "language_info": {
   "codemirror_mode": {
    "name": "ipython",
    "version": 3
   },
   "file_extension": ".py",
   "mimetype": "text/x-python",
   "name": "python",
   "nbconvert_exporter": "python",
   "pygments_lexer": "ipython3",
   "version": "3.10.4"
  },
  "toc": {
   "base_numbering": 1,
   "nav_menu": {},
   "number_sections": true,
   "sideBar": true,
   "skip_h1_title": true,
   "title_cell": "Содержание",
   "title_sidebar": "Contents",
   "toc_cell": true,
   "toc_position": {
    "height": "calc(100% - 180px)",
    "left": "10px",
    "top": "150px",
    "width": "302.391px"
   },
   "toc_section_display": true,
   "toc_window_display": false
  }
 },
 "nbformat": 4,
 "nbformat_minor": 2
}
