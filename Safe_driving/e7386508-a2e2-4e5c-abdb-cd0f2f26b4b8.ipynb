{
 "cells": [
  {
   "cell_type": "markdown",
   "id": "e3079579",
   "metadata": {
    "ExecuteTime": {
     "end_time": "2022-05-05T04:58:05.692448Z",
     "start_time": "2022-05-05T04:58:05.688565Z"
    }
   },
   "source": [
    "## Подключитесь к базе. Загрузите таблицы sql"
   ]
  },
  {
   "cell_type": "code",
   "execution_count": 3,
   "id": "3c0a7231",
   "metadata": {},
   "outputs": [],
   "source": [
    "import pandas as pd\n",
    "import matplotlib.pyplot as plt\n",
    "from sqlalchemy import create_engine, text"
   ]
  },
  {
   "cell_type": "code",
   "execution_count": 4,
   "id": "9c5e2be8",
   "metadata": {},
   "outputs": [],
   "source": [
    "\n",
    "db_config = {\n",
    "'user': 'praktikum_student', # имя пользователя,\n",
    "'pwd': 'Sdf4$2;d-d30pp', # пароль,\n",
    "'host': 'rc1b-wcoijxj3yxfsf3fs.mdb.yandexcloud.net',\n",
    "'port': 6432, # порт подключения,\n",
    "'db': 'data-science-vehicle-db' # название базы данных,\n",
    "} \n",
    "connection_string = 'postgresql://{}:{}@{}:{}/{}'.format(\n",
    "    db_config['user'],\n",
    "    db_config['pwd'],\n",
    "    db_config['host'],\n",
    "    db_config['port'],\n",
    "    db_config['db'],\n",
    ")\n",
    "engine = create_engine(connection_string)"
   ]
  },
  {
   "cell_type": "code",
   "execution_count": 8,
   "id": "58f048b8",
   "metadata": {},
   "outputs": [],
   "source": [
    "def get_info(df):\n",
    "    display(df.sample(5))\n",
    "    display(df.info())"
   ]
  },
  {
   "cell_type": "code",
   "execution_count": 9,
   "id": "bae19670",
   "metadata": {},
   "outputs": [],
   "source": [
    "query = '''\n",
    "SELECT *\n",
    "FROM case_ids\n",
    "'''\n",
    "df_ids = pd.read_sql_query(sql=text(query), con = engine.connect())"
   ]
  },
  {
   "cell_type": "code",
   "execution_count": 11,
   "id": "25b60bd8",
   "metadata": {},
   "outputs": [
    {
     "data": {
      "text/html": [
       "<div>\n",
       "<style scoped>\n",
       "    .dataframe tbody tr th:only-of-type {\n",
       "        vertical-align: middle;\n",
       "    }\n",
       "\n",
       "    .dataframe tbody tr th {\n",
       "        vertical-align: top;\n",
       "    }\n",
       "\n",
       "    .dataframe thead th {\n",
       "        text-align: right;\n",
       "    }\n",
       "</style>\n",
       "<table border=\"1\" class=\"dataframe\">\n",
       "  <thead>\n",
       "    <tr style=\"text-align: right;\">\n",
       "      <th></th>\n",
       "      <th>case_id</th>\n",
       "      <th>db_year</th>\n",
       "    </tr>\n",
       "  </thead>\n",
       "  <tbody>\n",
       "    <tr>\n",
       "      <th>473863</th>\n",
       "      <td>4623461</td>\n",
       "      <td>2021</td>\n",
       "    </tr>\n",
       "    <tr>\n",
       "      <th>244264</th>\n",
       "      <td>4357359</td>\n",
       "      <td>2021</td>\n",
       "    </tr>\n",
       "    <tr>\n",
       "      <th>30233</th>\n",
       "      <td>4098266</td>\n",
       "      <td>2021</td>\n",
       "    </tr>\n",
       "    <tr>\n",
       "      <th>535798</th>\n",
       "      <td>4687370</td>\n",
       "      <td>2021</td>\n",
       "    </tr>\n",
       "    <tr>\n",
       "      <th>527029</th>\n",
       "      <td>4678255</td>\n",
       "      <td>2021</td>\n",
       "    </tr>\n",
       "  </tbody>\n",
       "</table>\n",
       "</div>"
      ],
      "text/plain": [
       "        case_id db_year\n",
       "473863  4623461    2021\n",
       "244264  4357359    2021\n",
       "30233   4098266    2021\n",
       "535798  4687370    2021\n",
       "527029  4678255    2021"
      ]
     },
     "metadata": {},
     "output_type": "display_data"
    },
    {
     "name": "stdout",
     "output_type": "stream",
     "text": [
      "<class 'pandas.core.frame.DataFrame'>\n",
      "RangeIndex: 1400000 entries, 0 to 1399999\n",
      "Data columns (total 2 columns):\n",
      " #   Column   Non-Null Count    Dtype \n",
      "---  ------   --------------    ----- \n",
      " 0   case_id  1400000 non-null  object\n",
      " 1   db_year  1400000 non-null  object\n",
      "dtypes: object(2)\n",
      "memory usage: 21.4+ MB\n"
     ]
    },
    {
     "data": {
      "text/plain": [
       "None"
      ]
     },
     "metadata": {},
     "output_type": "display_data"
    }
   ],
   "source": [
    "get_info(df_ids)"
   ]
  },
  {
   "cell_type": "code",
   "execution_count": 12,
   "id": "3f80120b",
   "metadata": {},
   "outputs": [],
   "source": [
    "query = '''\n",
    "SELECT *\n",
    "FROM collisions\n",
    "'''\n",
    "df_col = pd.read_sql_query(sql=text(query), con = engine.connect())"
   ]
  },
  {
   "cell_type": "code",
   "execution_count": 13,
   "id": "5b9e3035",
   "metadata": {},
   "outputs": [
    {
     "data": {
      "text/html": [
       "<div>\n",
       "<style scoped>\n",
       "    .dataframe tbody tr th:only-of-type {\n",
       "        vertical-align: middle;\n",
       "    }\n",
       "\n",
       "    .dataframe tbody tr th {\n",
       "        vertical-align: top;\n",
       "    }\n",
       "\n",
       "    .dataframe thead th {\n",
       "        text-align: right;\n",
       "    }\n",
       "</style>\n",
       "<table border=\"1\" class=\"dataframe\">\n",
       "  <thead>\n",
       "    <tr style=\"text-align: right;\">\n",
       "      <th></th>\n",
       "      <th>case_id</th>\n",
       "      <th>county_city_location</th>\n",
       "      <th>county_location</th>\n",
       "      <th>distance</th>\n",
       "      <th>direction</th>\n",
       "      <th>intersection</th>\n",
       "      <th>weather_1</th>\n",
       "      <th>location_type</th>\n",
       "      <th>collision_damage</th>\n",
       "      <th>party_count</th>\n",
       "      <th>primary_collision_factor</th>\n",
       "      <th>pcf_violation_category</th>\n",
       "      <th>type_of_collision</th>\n",
       "      <th>motor_vehicle_involved_with</th>\n",
       "      <th>road_surface</th>\n",
       "      <th>road_condition_1</th>\n",
       "      <th>lighting</th>\n",
       "      <th>control_device</th>\n",
       "      <th>collision_date</th>\n",
       "      <th>collision_time</th>\n",
       "    </tr>\n",
       "  </thead>\n",
       "  <tbody>\n",
       "    <tr>\n",
       "      <th>1038407</th>\n",
       "      <td>5364143</td>\n",
       "      <td>4313</td>\n",
       "      <td>santa clara</td>\n",
       "      <td>30.0</td>\n",
       "      <td>west</td>\n",
       "      <td>0.0</td>\n",
       "      <td>clear</td>\n",
       "      <td>highway</td>\n",
       "      <td>small damage</td>\n",
       "      <td>2</td>\n",
       "      <td>vehicle code violation</td>\n",
       "      <td>unsafe lane change</td>\n",
       "      <td>sideswipe</td>\n",
       "      <td>other motor vehicle</td>\n",
       "      <td>dry</td>\n",
       "      <td>normal</td>\n",
       "      <td>daylight</td>\n",
       "      <td>none</td>\n",
       "      <td>2011-08-11</td>\n",
       "      <td>07:10:00</td>\n",
       "    </tr>\n",
       "    <tr>\n",
       "      <th>645353</th>\n",
       "      <td>4540540</td>\n",
       "      <td>4311</td>\n",
       "      <td>santa clara</td>\n",
       "      <td>90.0</td>\n",
       "      <td>north</td>\n",
       "      <td>0.0</td>\n",
       "      <td>raining</td>\n",
       "      <td>None</td>\n",
       "      <td>small damage</td>\n",
       "      <td>2</td>\n",
       "      <td>unknown</td>\n",
       "      <td>unknown</td>\n",
       "      <td>sideswipe</td>\n",
       "      <td>other motor vehicle</td>\n",
       "      <td>wet</td>\n",
       "      <td>normal</td>\n",
       "      <td>dark with street lights</td>\n",
       "      <td>none</td>\n",
       "      <td>2009-12-29</td>\n",
       "      <td>16:05:00</td>\n",
       "    </tr>\n",
       "    <tr>\n",
       "      <th>1060737</th>\n",
       "      <td>5409760</td>\n",
       "      <td>3104</td>\n",
       "      <td>placer</td>\n",
       "      <td>0.0</td>\n",
       "      <td>None</td>\n",
       "      <td>1.0</td>\n",
       "      <td>cloudy</td>\n",
       "      <td>None</td>\n",
       "      <td>small damage</td>\n",
       "      <td>2</td>\n",
       "      <td>vehicle code violation</td>\n",
       "      <td>dui</td>\n",
       "      <td>sideswipe</td>\n",
       "      <td>other motor vehicle</td>\n",
       "      <td>wet</td>\n",
       "      <td>normal</td>\n",
       "      <td>dark with street lights</td>\n",
       "      <td>functioning</td>\n",
       "      <td>2011-11-20</td>\n",
       "      <td>20:03:00</td>\n",
       "    </tr>\n",
       "    <tr>\n",
       "      <th>1285494</th>\n",
       "      <td>4916797</td>\n",
       "      <td>3005</td>\n",
       "      <td>orange</td>\n",
       "      <td>1260.0</td>\n",
       "      <td>south</td>\n",
       "      <td>0.0</td>\n",
       "      <td>clear</td>\n",
       "      <td>None</td>\n",
       "      <td>middle damage</td>\n",
       "      <td>2</td>\n",
       "      <td>vehicle code violation</td>\n",
       "      <td>automobile right of way</td>\n",
       "      <td>broadside</td>\n",
       "      <td>other motor vehicle</td>\n",
       "      <td>dry</td>\n",
       "      <td>normal</td>\n",
       "      <td>daylight</td>\n",
       "      <td>none</td>\n",
       "      <td>2010-08-27</td>\n",
       "      <td>12:29:00</td>\n",
       "    </tr>\n",
       "    <tr>\n",
       "      <th>454456</th>\n",
       "      <td>4125762</td>\n",
       "      <td>1919</td>\n",
       "      <td>los angeles</td>\n",
       "      <td>30.0</td>\n",
       "      <td>north</td>\n",
       "      <td>0.0</td>\n",
       "      <td>clear</td>\n",
       "      <td>None</td>\n",
       "      <td>small damage</td>\n",
       "      <td>1</td>\n",
       "      <td>vehicle code violation</td>\n",
       "      <td>improper turning</td>\n",
       "      <td>hit object</td>\n",
       "      <td>other object</td>\n",
       "      <td>dry</td>\n",
       "      <td>normal</td>\n",
       "      <td>dark with street lights</td>\n",
       "      <td>none</td>\n",
       "      <td>2009-04-06</td>\n",
       "      <td>00:17:00</td>\n",
       "    </tr>\n",
       "  </tbody>\n",
       "</table>\n",
       "</div>"
      ],
      "text/plain": [
       "         case_id county_city_location county_location  distance direction  \\\n",
       "1038407  5364143                 4313     santa clara      30.0      west   \n",
       "645353   4540540                 4311     santa clara      90.0     north   \n",
       "1060737  5409760                 3104          placer       0.0      None   \n",
       "1285494  4916797                 3005          orange    1260.0     south   \n",
       "454456   4125762                 1919     los angeles      30.0     north   \n",
       "\n",
       "         intersection weather_1 location_type collision_damage  party_count  \\\n",
       "1038407           0.0     clear       highway     small damage            2   \n",
       "645353            0.0   raining          None     small damage            2   \n",
       "1060737           1.0    cloudy          None     small damage            2   \n",
       "1285494           0.0     clear          None    middle damage            2   \n",
       "454456            0.0     clear          None     small damage            1   \n",
       "\n",
       "        primary_collision_factor   pcf_violation_category type_of_collision  \\\n",
       "1038407   vehicle code violation       unsafe lane change         sideswipe   \n",
       "645353                   unknown                  unknown         sideswipe   \n",
       "1060737   vehicle code violation                      dui         sideswipe   \n",
       "1285494   vehicle code violation  automobile right of way         broadside   \n",
       "454456    vehicle code violation         improper turning        hit object   \n",
       "\n",
       "        motor_vehicle_involved_with road_surface road_condition_1  \\\n",
       "1038407         other motor vehicle          dry           normal   \n",
       "645353          other motor vehicle          wet           normal   \n",
       "1060737         other motor vehicle          wet           normal   \n",
       "1285494         other motor vehicle          dry           normal   \n",
       "454456                 other object          dry           normal   \n",
       "\n",
       "                        lighting control_device collision_date collision_time  \n",
       "1038407                 daylight           none     2011-08-11       07:10:00  \n",
       "645353   dark with street lights           none     2009-12-29       16:05:00  \n",
       "1060737  dark with street lights    functioning     2011-11-20       20:03:00  \n",
       "1285494                 daylight           none     2010-08-27       12:29:00  \n",
       "454456   dark with street lights           none     2009-04-06       00:17:00  "
      ]
     },
     "metadata": {},
     "output_type": "display_data"
    },
    {
     "name": "stdout",
     "output_type": "stream",
     "text": [
      "<class 'pandas.core.frame.DataFrame'>\n",
      "RangeIndex: 1400000 entries, 0 to 1399999\n",
      "Data columns (total 20 columns):\n",
      " #   Column                       Non-Null Count    Dtype  \n",
      "---  ------                       --------------    -----  \n",
      " 0   case_id                      1400000 non-null  object \n",
      " 1   county_city_location         1400000 non-null  object \n",
      " 2   county_location              1400000 non-null  object \n",
      " 3   distance                     1400000 non-null  float64\n",
      " 4   direction                    1059358 non-null  object \n",
      " 5   intersection                 1387781 non-null  float64\n",
      " 6   weather_1                    1392741 non-null  object \n",
      " 7   location_type                518779 non-null   object \n",
      " 8   collision_damage             1400000 non-null  object \n",
      " 9   party_count                  1400000 non-null  int64  \n",
      " 10  primary_collision_factor     1391834 non-null  object \n",
      " 11  pcf_violation_category       1372046 non-null  object \n",
      " 12  type_of_collision            1388176 non-null  object \n",
      " 13  motor_vehicle_involved_with  1393181 non-null  object \n",
      " 14  road_surface                 1386907 non-null  object \n",
      " 15  road_condition_1             1388012 non-null  object \n",
      " 16  lighting                     1391407 non-null  object \n",
      " 17  control_device               1391593 non-null  object \n",
      " 18  collision_date               1400000 non-null  object \n",
      " 19  collision_time               1387692 non-null  object \n",
      "dtypes: float64(2), int64(1), object(17)\n",
      "memory usage: 213.6+ MB\n"
     ]
    },
    {
     "data": {
      "text/plain": [
       "None"
      ]
     },
     "metadata": {},
     "output_type": "display_data"
    }
   ],
   "source": [
    "get_info(df_col)"
   ]
  },
  {
   "cell_type": "code",
   "execution_count": 14,
   "id": "d5276557",
   "metadata": {},
   "outputs": [],
   "source": [
    "query = '''\n",
    "SELECT *\n",
    "FROM Parties\n",
    "'''\n",
    "df_par = pd.read_sql_query(sql=text(query), con = engine.connect())"
   ]
  },
  {
   "cell_type": "code",
   "execution_count": 18,
   "id": "e201513d",
   "metadata": {},
   "outputs": [
    {
     "data": {
      "text/html": [
       "<div>\n",
       "<style scoped>\n",
       "    .dataframe tbody tr th:only-of-type {\n",
       "        vertical-align: middle;\n",
       "    }\n",
       "\n",
       "    .dataframe tbody tr th {\n",
       "        vertical-align: top;\n",
       "    }\n",
       "\n",
       "    .dataframe thead th {\n",
       "        text-align: right;\n",
       "    }\n",
       "</style>\n",
       "<table border=\"1\" class=\"dataframe\">\n",
       "  <thead>\n",
       "    <tr style=\"text-align: right;\">\n",
       "      <th></th>\n",
       "      <th>id</th>\n",
       "      <th>case_id</th>\n",
       "      <th>party_number</th>\n",
       "      <th>party_type</th>\n",
       "      <th>at_fault</th>\n",
       "      <th>insurance_premium</th>\n",
       "      <th>party_sobriety</th>\n",
       "      <th>party_drug_physical</th>\n",
       "      <th>cellphone_in_use</th>\n",
       "    </tr>\n",
       "  </thead>\n",
       "  <tbody>\n",
       "    <tr>\n",
       "      <th>757840</th>\n",
       "      <td>140099</td>\n",
       "      <td>4160444</td>\n",
       "      <td>1</td>\n",
       "      <td>car</td>\n",
       "      <td>1</td>\n",
       "      <td>20.0</td>\n",
       "      <td>had not been drinking</td>\n",
       "      <td>None</td>\n",
       "      <td>0.0</td>\n",
       "    </tr>\n",
       "    <tr>\n",
       "      <th>1902967</th>\n",
       "      <td>1443069</td>\n",
       "      <td>4924123</td>\n",
       "      <td>1</td>\n",
       "      <td>car</td>\n",
       "      <td>1</td>\n",
       "      <td>NaN</td>\n",
       "      <td>impairment unknown</td>\n",
       "      <td>G</td>\n",
       "      <td>NaN</td>\n",
       "    </tr>\n",
       "    <tr>\n",
       "      <th>404605</th>\n",
       "      <td>2491102</td>\n",
       "      <td>5500293</td>\n",
       "      <td>2</td>\n",
       "      <td>car</td>\n",
       "      <td>0</td>\n",
       "      <td>52.0</td>\n",
       "      <td>had not been drinking</td>\n",
       "      <td>None</td>\n",
       "      <td>0.0</td>\n",
       "    </tr>\n",
       "    <tr>\n",
       "      <th>2586371</th>\n",
       "      <td>2221048</td>\n",
       "      <td>5354824</td>\n",
       "      <td>2</td>\n",
       "      <td>car</td>\n",
       "      <td>0</td>\n",
       "      <td>25.0</td>\n",
       "      <td>had not been drinking</td>\n",
       "      <td>None</td>\n",
       "      <td>0.0</td>\n",
       "    </tr>\n",
       "    <tr>\n",
       "      <th>973301</th>\n",
       "      <td>385035</td>\n",
       "      <td>4302247</td>\n",
       "      <td>1</td>\n",
       "      <td>car</td>\n",
       "      <td>1</td>\n",
       "      <td>22.0</td>\n",
       "      <td>had not been drinking</td>\n",
       "      <td>None</td>\n",
       "      <td>0.0</td>\n",
       "    </tr>\n",
       "  </tbody>\n",
       "</table>\n",
       "</div>"
      ],
      "text/plain": [
       "              id  case_id  party_number party_type  at_fault  \\\n",
       "757840    140099  4160444             1        car         1   \n",
       "1902967  1443069  4924123             1        car         1   \n",
       "404605   2491102  5500293             2        car         0   \n",
       "2586371  2221048  5354824             2        car         0   \n",
       "973301    385035  4302247             1        car         1   \n",
       "\n",
       "         insurance_premium         party_sobriety party_drug_physical  \\\n",
       "757840                20.0  had not been drinking                None   \n",
       "1902967                NaN     impairment unknown                   G   \n",
       "404605                52.0  had not been drinking                None   \n",
       "2586371               25.0  had not been drinking                None   \n",
       "973301                22.0  had not been drinking                None   \n",
       "\n",
       "         cellphone_in_use  \n",
       "757840                0.0  \n",
       "1902967               NaN  \n",
       "404605                0.0  \n",
       "2586371               0.0  \n",
       "973301                0.0  "
      ]
     },
     "metadata": {},
     "output_type": "display_data"
    },
    {
     "name": "stdout",
     "output_type": "stream",
     "text": [
      "<class 'pandas.core.frame.DataFrame'>\n",
      "RangeIndex: 2752408 entries, 0 to 2752407\n",
      "Data columns (total 9 columns):\n",
      " #   Column               Dtype  \n",
      "---  ------               -----  \n",
      " 0   id                   int64  \n",
      " 1   case_id              object \n",
      " 2   party_number         int64  \n",
      " 3   party_type           object \n",
      " 4   at_fault             int64  \n",
      " 5   insurance_premium    float64\n",
      " 6   party_sobriety       object \n",
      " 7   party_drug_physical  object \n",
      " 8   cellphone_in_use     float64\n",
      "dtypes: float64(2), int64(3), object(4)\n",
      "memory usage: 189.0+ MB\n"
     ]
    },
    {
     "data": {
      "text/plain": [
       "None"
      ]
     },
     "metadata": {},
     "output_type": "display_data"
    }
   ],
   "source": [
    "get_info(df_par)"
   ]
  },
  {
   "cell_type": "code",
   "execution_count": 16,
   "id": "ba690757",
   "metadata": {},
   "outputs": [],
   "source": [
    "query = '''\n",
    "SELECT *\n",
    "FROM Vehicles\n",
    "'''\n",
    "df_car = pd.read_sql_query(sql=text(query), con = engine.connect()) "
   ]
  },
  {
   "cell_type": "code",
   "execution_count": 17,
   "id": "ef59b2a2",
   "metadata": {},
   "outputs": [
    {
     "data": {
      "text/html": [
       "<div>\n",
       "<style scoped>\n",
       "    .dataframe tbody tr th:only-of-type {\n",
       "        vertical-align: middle;\n",
       "    }\n",
       "\n",
       "    .dataframe tbody tr th {\n",
       "        vertical-align: top;\n",
       "    }\n",
       "\n",
       "    .dataframe thead th {\n",
       "        text-align: right;\n",
       "    }\n",
       "</style>\n",
       "<table border=\"1\" class=\"dataframe\">\n",
       "  <thead>\n",
       "    <tr style=\"text-align: right;\">\n",
       "      <th></th>\n",
       "      <th>id</th>\n",
       "      <th>case_id</th>\n",
       "      <th>party_number</th>\n",
       "      <th>vehicle_type</th>\n",
       "      <th>vehicle_transmission</th>\n",
       "      <th>vehicle_age</th>\n",
       "    </tr>\n",
       "  </thead>\n",
       "  <tbody>\n",
       "    <tr>\n",
       "      <th>629410</th>\n",
       "      <td>877416</td>\n",
       "      <td>5015215</td>\n",
       "      <td>2</td>\n",
       "      <td>hatchback</td>\n",
       "      <td>manual</td>\n",
       "      <td>7.0</td>\n",
       "    </tr>\n",
       "    <tr>\n",
       "      <th>531808</th>\n",
       "      <td>602515</td>\n",
       "      <td>4717728</td>\n",
       "      <td>2</td>\n",
       "      <td>hatchback</td>\n",
       "      <td>manual</td>\n",
       "      <td>5.0</td>\n",
       "    </tr>\n",
       "    <tr>\n",
       "      <th>711432</th>\n",
       "      <td>1109862</td>\n",
       "      <td>5244335</td>\n",
       "      <td>2</td>\n",
       "      <td>minivan</td>\n",
       "      <td>manual</td>\n",
       "      <td>2.0</td>\n",
       "    </tr>\n",
       "    <tr>\n",
       "      <th>54437</th>\n",
       "      <td>77820</td>\n",
       "      <td>4165093</td>\n",
       "      <td>1</td>\n",
       "      <td>sedan</td>\n",
       "      <td>auto</td>\n",
       "      <td>7.0</td>\n",
       "    </tr>\n",
       "    <tr>\n",
       "      <th>107062</th>\n",
       "      <td>416735</td>\n",
       "      <td>4522484</td>\n",
       "      <td>1</td>\n",
       "      <td>sedan</td>\n",
       "      <td>auto</td>\n",
       "      <td>4.0</td>\n",
       "    </tr>\n",
       "  </tbody>\n",
       "</table>\n",
       "</div>"
      ],
      "text/plain": [
       "             id  case_id  party_number vehicle_type vehicle_transmission  \\\n",
       "629410   877416  5015215             2    hatchback               manual   \n",
       "531808   602515  4717728             2    hatchback               manual   \n",
       "711432  1109862  5244335             2      minivan               manual   \n",
       "54437     77820  4165093             1        sedan                 auto   \n",
       "107062   416735  4522484             1        sedan                 auto   \n",
       "\n",
       "        vehicle_age  \n",
       "629410          7.0  \n",
       "531808          5.0  \n",
       "711432          2.0  \n",
       "54437           7.0  \n",
       "107062          4.0  "
      ]
     },
     "metadata": {},
     "output_type": "display_data"
    },
    {
     "name": "stdout",
     "output_type": "stream",
     "text": [
      "<class 'pandas.core.frame.DataFrame'>\n",
      "RangeIndex: 1021234 entries, 0 to 1021233\n",
      "Data columns (total 6 columns):\n",
      " #   Column                Non-Null Count    Dtype  \n",
      "---  ------                --------------    -----  \n",
      " 0   id                    1021234 non-null  int64  \n",
      " 1   case_id               1021234 non-null  object \n",
      " 2   party_number          1021234 non-null  int64  \n",
      " 3   vehicle_type          1021234 non-null  object \n",
      " 4   vehicle_transmission  997575 non-null   object \n",
      " 5   vehicle_age           996652 non-null   float64\n",
      "dtypes: float64(1), int64(2), object(3)\n",
      "memory usage: 46.7+ MB\n"
     ]
    },
    {
     "data": {
      "text/plain": [
       "None"
      ]
     },
     "metadata": {},
     "output_type": "display_data"
    }
   ],
   "source": [
    "get_info(df_car)"
   ]
  },
  {
   "cell_type": "markdown",
   "id": "08115f03",
   "metadata": {},
   "source": [
    "## Проведите первичное исследование таблиц"
   ]
  },
  {
   "cell_type": "code",
   "execution_count": null,
   "id": "0785f9e1",
   "metadata": {},
   "outputs": [],
   "source": []
  },
  {
   "cell_type": "markdown",
   "id": "d976efa3",
   "metadata": {},
   "source": [
    "##  Проведите статистический анализ факторов ДТП"
   ]
  },
  {
   "cell_type": "code",
   "execution_count": null,
   "id": "4c070208",
   "metadata": {},
   "outputs": [],
   "source": []
  },
  {
   "cell_type": "markdown",
   "id": "4f02ff19",
   "metadata": {},
   "source": [
    "## Создайте модель для оценки водительского риска"
   ]
  },
  {
   "cell_type": "code",
   "execution_count": null,
   "id": "9a3fd039",
   "metadata": {},
   "outputs": [],
   "source": []
  },
  {
   "cell_type": "markdown",
   "id": "0e971195",
   "metadata": {},
   "source": [
    "## Проведите анализ важности факторов ДТП"
   ]
  },
  {
   "cell_type": "code",
   "execution_count": null,
   "id": "9521d2f7",
   "metadata": {},
   "outputs": [],
   "source": []
  },
  {
   "cell_type": "markdown",
   "id": "afca00fb",
   "metadata": {},
   "source": [
    "## Выводы"
   ]
  },
  {
   "cell_type": "code",
   "execution_count": null,
   "id": "aa11f6e6",
   "metadata": {},
   "outputs": [],
   "source": []
  }
 ],
 "metadata": {
  "kernelspec": {
   "display_name": "Python 3",
   "language": "python",
   "name": "python3"
  },
  "language_info": {
   "codemirror_mode": {
    "name": "ipython",
    "version": 3
   },
   "file_extension": ".py",
   "mimetype": "text/x-python",
   "name": "python",
   "nbconvert_exporter": "python",
   "pygments_lexer": "ipython3",
   "version": "3.10.4"
  },
  "toc": {
   "base_numbering": 1,
   "nav_menu": {},
   "number_sections": false,
   "sideBar": true,
   "skip_h1_title": false,
   "title_cell": "Table of Contents",
   "title_sidebar": "Contents",
   "toc_cell": false,
   "toc_position": {},
   "toc_section_display": true,
   "toc_window_display": false
  },
  "varInspector": {
   "cols": {
    "lenName": 16,
    "lenType": 16,
    "lenVar": 40
   },
   "kernels_config": {
    "python": {
     "delete_cmd_postfix": "",
     "delete_cmd_prefix": "del ",
     "library": "var_list.py",
     "varRefreshCmd": "print(var_dic_list())"
    },
    "r": {
     "delete_cmd_postfix": ") ",
     "delete_cmd_prefix": "rm(",
     "library": "var_list.r",
     "varRefreshCmd": "cat(var_dic_list()) "
    }
   },
   "types_to_exclude": [
    "module",
    "function",
    "builtin_function_or_method",
    "instance",
    "_Feature"
   ],
   "window_display": false
  },
  "vscode": {
   "interpreter": {
    "hash": "2469a70536e4d2335a2ea8907942d0699c37342a371ac185bdb5b0aa6f073890"
   }
  }
 },
 "nbformat": 4,
 "nbformat_minor": 5
}
