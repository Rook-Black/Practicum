{
 "cells": [
  {
   "cell_type": "markdown",
   "id": "0ca11775",
   "metadata": {},
   "source": [
    "<div style=\"border:solid Chocolate 2px; padding: 40px\">\n",
    "    \n",
    " <b>Добрый день, Иван!</b>\n",
    "    \n",
    "Меня зовут Ксения Цыганова, и я буду комментировать твою работу и помогать тебе сделать ее сильнее. В Практикуме мы общаемся на «ты», но если тебе это будет некомфортно, пожалуйста, скажи, и мы будем обращаться друг к другу на «вы».\n",
    "    \n",
    "Все мои комментарии делятся на три вида:\n",
    "\n",
    "    \n",
    "👍 Здесь все отлично, идем дальше! - <font color='green'> зеленый цвет </font>\n",
    "    \n",
    "💡 Все хорошо, однако, можно оптимизировать или рассмотреть другие способы (необязательно для исполнения, чтобы пройти дальше) - <font color='gold'>желтый цвет</font>\n",
    "    \n",
    "🤔 Необходимо внести исправления, без которых я не смогу принять проект - <font color='red'>красный цвет</font>\n",
    "    \n",
    "    \n",
    "Свои комментарии я буду выделять заголовком «комментарий ревьюера». Пожалуйста, не удаляй их, это поможет сократить время проверки на повторных ревью.Ты также можешь писать свои комментарии к моим и выделять их любым понравившимся способом, отличным от моего. Если у тебя будут возникать вопросы в течение нашей работы, я с радостью на них отвечу.\n",
    "\n",
    "Цель моего ревью не критика и не возможность дать тебе готовые ответы, это способ привести тебя в нужное русло, чтобы ты смог развить собственные идеи и решения. Твой будущий работодатель будет поступать похожим образом. \n",
    "        \n",
    "   <b>У тебя все получится!</b>"
   ]
  },
  {
   "cell_type": "markdown",
   "id": "1bb1bdcb",
   "metadata": {
    "toc": true
   },
   "source": [
    "<h1>Содержание<span class=\"tocSkip\"></span></h1>\n",
    "<div class=\"toc\"><ul class=\"toc-item\"><li><span><a href=\"#Описание-проекта\" data-toc-modified-id=\"Описание-проекта-1\">Описание проекта</a></span><ul class=\"toc-item\"><li><span><a href=\"#Задача-проекта\" data-toc-modified-id=\"Задача-проекта-1.1\">Задача проекта</a></span></li><li><span><a href=\"#Описание-даннных\" data-toc-modified-id=\"Описание-даннных-1.2\">Описание даннных</a></span></li></ul></li><li><span><a href=\"#Проект\" data-toc-modified-id=\"Проект-2\">Проект</a></span><ul class=\"toc-item\"><li><span><a href=\"#Выгрузка-данных\" data-toc-modified-id=\"Выгрузка-данных-2.1\">Выгрузка данных</a></span><ul class=\"toc-item\"><li><span><a href=\"#Первичиный-анализ\" data-toc-modified-id=\"Первичиный-анализ-2.1.1\">Первичиный анализ</a></span></li><li><span><a href=\"#Статистический-анализ\" data-toc-modified-id=\"Статистический-анализ-2.1.2\">Статистический анализ</a></span><ul class=\"toc-item\"><li><span><a href=\"#Возраст-автомобиля-и-виновность-в-аварии.\" data-toc-modified-id=\"Возраст-автомобиля-и-виновность-в-аварии.-2.1.2.1\">Возраст автомобиля и виновность в аварии.</a></span></li><li><span><a href=\"#Тип-КПП-и-виновность-в-дтп\" data-toc-modified-id=\"Тип-КПП-и-виновность-в-дтп-2.1.2.2\">Тип КПП и виновность в дтп</a></span></li></ul></li><li><span><a href=\"#Выгрузка-данных-для-DF\" data-toc-modified-id=\"Выгрузка-данных-для-DF-2.1.3\">Выгрузка данных для DF</a></span></li><li><span><a href=\"#Шаг-2.-Проведите-первичное-исследование-таблиц\" data-toc-modified-id=\"Шаг-2.-Проведите-первичное-исследование-таблиц-2.1.4\"><strong>Шаг 2. Проведите первичное исследование таблиц</strong></a></span></li><li><span><a href=\"#Шаг-3.-Проведите-статистический-анализ-факторов-ДТП\" data-toc-modified-id=\"Шаг-3.-Проведите-статистический-анализ-факторов-ДТП-2.1.5\"><strong>Шаг 3. Проведите статистический анализ факторов ДТП</strong></a></span></li></ul></li><li><span><a href=\"#Распределеные-данных--по-столбцам\" data-toc-modified-id=\"Распределеные-данных--по-столбцам-2.2\">Распределеные данных  по столбцам</a></span><ul class=\"toc-item\"><li><span><a href=\"#Дубликаты\" data-toc-modified-id=\"Дубликаты-2.2.1\">Дубликаты</a></span></li><li><span><a href=\"#CASE_ID,-ID_1,-ID_2\" data-toc-modified-id=\"CASE_ID,-ID_1,-ID_2-2.2.2\">CASE_ID, ID_1, ID_2</a></span></li><li><span><a href=\"#county_city_location\" data-toc-modified-id=\"county_city_location-2.2.3\">county_city_location</a></span></li><li><span><a href=\"#county_location\" data-toc-modified-id=\"county_location-2.2.4\">county_location</a></span></li><li><span><a href=\"#distance\" data-toc-modified-id=\"distance-2.2.5\">distance</a></span></li><li><span><a href=\"#direction\" data-toc-modified-id=\"direction-2.2.6\">direction</a></span></li><li><span><a href=\"#intersection\" data-toc-modified-id=\"intersection-2.2.7\">intersection</a></span></li><li><span><a href=\"#weather_1\" data-toc-modified-id=\"weather_1-2.2.8\">weather_1</a></span></li><li><span><a href=\"#location_type\" data-toc-modified-id=\"location_type-2.2.9\">location_type</a></span></li><li><span><a href=\"#collision_damage\" data-toc-modified-id=\"collision_damage-2.2.10\">collision_damage</a></span></li><li><span><a href=\"#party_count\" data-toc-modified-id=\"party_count-2.2.11\">party_count</a></span></li><li><span><a href=\"#primary_collision_factor\" data-toc-modified-id=\"primary_collision_factor-2.2.12\">primary_collision_factor</a></span></li><li><span><a href=\"#pcf_violation_category\" data-toc-modified-id=\"pcf_violation_category-2.2.13\">pcf_violation_category</a></span></li><li><span><a href=\"#type_of_collision\" data-toc-modified-id=\"type_of_collision-2.2.14\">type_of_collision</a></span></li><li><span><a href=\"#motor_vehicle_involved_with\" data-toc-modified-id=\"motor_vehicle_involved_with-2.2.15\">motor_vehicle_involved_with</a></span></li><li><span><a href=\"#road_surface\" data-toc-modified-id=\"road_surface-2.2.16\">road_surface</a></span></li><li><span><a href=\"#road_condition_1\" data-toc-modified-id=\"road_condition_1-2.2.17\">road_condition_1</a></span></li><li><span><a href=\"#lighting\" data-toc-modified-id=\"lighting-2.2.18\">lighting</a></span></li><li><span><a href=\"#control_device\" data-toc-modified-id=\"control_device-2.2.19\">control_device</a></span></li><li><span><a href=\"#collision_date\" data-toc-modified-id=\"collision_date-2.2.20\">collision_date</a></span></li><li><span><a href=\"#collision_time\" data-toc-modified-id=\"collision_time-2.2.21\">collision_time</a></span></li><li><span><a href=\"#party_number_1\" data-toc-modified-id=\"party_number_1-2.2.22\">party_number_1</a></span></li><li><span><a href=\"#party_type\" data-toc-modified-id=\"party_type-2.2.23\">party_type</a></span></li><li><span><a href=\"#at_fault\" data-toc-modified-id=\"at_fault-2.2.24\">at_fault</a></span></li><li><span><a href=\"#insurance_premium\" data-toc-modified-id=\"insurance_premium-2.2.25\">insurance_premium</a></span></li><li><span><a href=\"#party_sobriety\" data-toc-modified-id=\"party_sobriety-2.2.26\">party_sobriety</a></span></li><li><span><a href=\"#party_drug_physical\" data-toc-modified-id=\"party_drug_physical-2.2.27\">party_drug_physical</a></span></li><li><span><a href=\"#cellphone_in_use\" data-toc-modified-id=\"cellphone_in_use-2.2.28\">cellphone_in_use</a></span></li><li><span><a href=\"#party_number_2\" data-toc-modified-id=\"party_number_2-2.2.29\">party_number_2</a></span></li><li><span><a href=\"#vehicle_type\" data-toc-modified-id=\"vehicle_type-2.2.30\">vehicle_type</a></span></li><li><span><a href=\"#vehicle_transmission\" data-toc-modified-id=\"vehicle_transmission-2.2.31\">vehicle_transmission</a></span></li><li><span><a href=\"#vehicle_age\" data-toc-modified-id=\"vehicle_age-2.2.32\">vehicle_age</a></span></li><li><span><a href=\"#Вывод\" data-toc-modified-id=\"Вывод-2.2.33\">Вывод</a></span></li></ul></li><li><span><a href=\"#Разбитие-на-выборки,-кодировка-и-масштабирование-данных\" data-toc-modified-id=\"Разбитие-на-выборки,-кодировка-и-масштабирование-данных-2.3\">Разбитие на выборки, кодировка и масштабирование данных</a></span><ul class=\"toc-item\"><li><span><a href=\"#Выборки\" data-toc-modified-id=\"Выборки-2.3.1\">Выборки</a></span></li><li><span><a href=\"#OHE\" data-toc-modified-id=\"OHE-2.3.2\">OHE</a></span></li><li><span><a href=\"#Масштабирование\" data-toc-modified-id=\"Масштабирование-2.3.3\">Масштабирование</a></span></li></ul></li><li><span><a href=\"#Модели\" data-toc-modified-id=\"Модели-2.4\">Модели</a></span><ul class=\"toc-item\"><li><span><a href=\"#LogisticRegression\" data-toc-modified-id=\"LogisticRegression-2.4.1\">LogisticRegression</a></span></li><li><span><a href=\"#RandomForestClassifier\" data-toc-modified-id=\"RandomForestClassifier-2.4.2\">RandomForestClassifier</a></span></li><li><span><a href=\"#CatBoostClassifier\" data-toc-modified-id=\"CatBoostClassifier-2.4.3\">CatBoostClassifier</a></span></li><li><span><a href=\"#Нейроная-сеть\" data-toc-modified-id=\"Нейроная-сеть-2.4.4\">Нейроная сеть</a></span></li><li><span><a href=\"#Оценка-лучшей-модели.\" data-toc-modified-id=\"Оценка-лучшей-модели.-2.4.5\">Оценка лучшей модели.</a></span><ul class=\"toc-item\"><li><span><a href=\"#cellphone_in_use\" data-toc-modified-id=\"cellphone_in_use-2.4.5.1\">cellphone_in_use</a></span></li></ul></li><li><span><a href=\"#Шаг-6.--Проверьте-лучшую-модель-в-работе\" data-toc-modified-id=\"Шаг-6.--Проверьте-лучшую-модель-в-работе-2.4.6\">Шаг 6.  Проверьте лучшую модель в работе</a></span></li></ul></li><li><span><a href=\"#Вывод\" data-toc-modified-id=\"Вывод-2.5\">Вывод</a></span></li></ul></li></ul></div>"
   ]
  },
  {
   "cell_type": "markdown",
   "id": "1c52fb61",
   "metadata": {},
   "source": [
    "# Описание проекта"
   ]
  },
  {
   "cell_type": "markdown",
   "id": "b6e57c68",
   "metadata": {},
   "source": [
    "## Задача проекта"
   ]
  },
  {
   "cell_type": "markdown",
   "id": "6087741c",
   "metadata": {},
   "source": [
    "Необходимо создать систему для оценки рисков ДТП по выбраному маршруту. Под риском понимается вероятнгсть ДТП с любым повреждением транспротного свредства. Как только водитель забронировал автомобиль, сел за руль и выбрал маршрут, система должна оценить уровень риска. Если уровень риска высок, водитель увидит предупреждение и рекомендации по маршруту.\n",
    "\n",
    "Идея создания такой системы находится в стадии предварительного обсуждения и проработки. Чёткого алгоритма работы и подобных решений на рынке ещё не существует. Текущая задача — понять, возможно ли предсказывать ДТП, опираясь на исторические данные одного из регионов."
   ]
  },
  {
   "cell_type": "markdown",
   "id": "945f8e03",
   "metadata": {},
   "source": [
    "Идея решения задачи от заказчика: \n",
    "1. Создать модель предсказания ДТП (целевое значение — at_fault (виновник) в таблице parties)\n",
    " - Для модели выбрать тип виновника — только машина (car).\n",
    " - Выбрать случаи, когда ДТП привело к любым повреждениям транспортного средства, кроме типа SCRATCH (царапина).\n",
    " - Для моделирования ограничиться данными за 2012 год — они самые свежие.\n",
    " - Обязательное условие — учесть фактор возраста автомобиля.\n",
    "2. На основе модели исследовать основные факторы ДТП.\n",
    "3. Понять, помогут ли результаты моделирования и анализ важности факторов ответить на вопросы:\n",
    " - Возможно ли создать адекватную системы оценки водительского риска при выдаче авто?\n",
    " - Какие ещё факторы нужно учесть?\n",
    " - Нужно ли оборудовать автомобиль какими-либо датчиками или камерой?\n",
    "\n",
    "\n",
    "Заказчик предлагает вам поработать с базой данных по происшествиям и сформировать свои идеи создания такой системы. "
   ]
  },
  {
   "cell_type": "markdown",
   "id": "9d234e3a",
   "metadata": {},
   "source": [
    "## Описание даннных"
   ]
  },
  {
   "cell_type": "markdown",
   "id": "583e838f",
   "metadata": {},
   "source": [
    "Таблица `collision` - информация о проишествиях"
   ]
  },
  {
   "cell_type": "markdown",
   "id": "bd14cd0c",
   "metadata": {},
   "source": [
    "| Обозначение в таблице | Описание | Подробнее |\n",
    "|---------------------|--------|-------------------|\n",
    "| CASE_ID |<p>Индификационный номер в базе данных</p>| <p>Уникальный номер для зарегистрированного происшествия в таблице происшествий. </p>|\n",
    "|COLLISION_DATE|<p>Дата проишествия</p>|<p>Формат год/месяц/день</p>|\n",
    "|COLLISION_TIME|<p>Время проишествия</p>|<p>Формат:24-часовой</p>|\n",
    "|INTERSECTION|<p>Является ли место проишествия перекрестком</p>|<p>Y - Intersection (перекресток) <br> N - Not Intersection (не перекресток) <br> -- - Not stated (не указано)</p>|\n",
    "|WEATHER_1|<p>Погода</p>|<p>A - Clear(Ясно) <br> B - Cloudy(Облачно) <br> C - Rainning(Облачно) <br> D - Snownig(Снегопад) <br> E - Fog(Туман) <br> F - Other (Другое) <br> G - Wind(Ветер) <br> - - Not stated(не указано)</p><br>|\n",
    "|COLLISON_DAMAGE|<p>Серьёзность проишествия</p>|<p>1 - FATAL TC (не подлежить востановлению)<br>2 - SEVERE DAMAGE (Серьёзный ремонт, большая часть подзамену/Серьёзное повреждение капитального стоения <br> 3 - MIDDLE DAMAGE (Средний ремонт, машина в целом на ходу/Строение в целом устояло <br> 4 - SMALL DAMAGE (Отдельный элемент кузова под замену/покраска) <br> 0 -  SCRATCH (царапина)</p>|\n",
    "|PRIMARY_COLL_FACTOR|<p>Основной фактор аварий</p>|<p> A - Code Violation (Нарушение правил ПДД) <br> B - Other Improper Driving (Другое направильное вождение) <br> C - Other Than Driver (Кроме водителя) <br> D - Unknown (Неизвестно) <br> E - Fell Asleep (Заснул) <br> - - Not Stated (Не указано)</p>|\n",
    "|ROAD_SURFACE|<p>Состояние дороги</p>|<p>A - Dry (сухая) <br> B - Wet (Мокрая) <br> C - Snowy or Icy (Заснеженная или обледенелая) <br> D - Slippery (Muddy, Oily, ect.)(Скользкая,грязная,маслянистая и т.д.) <br> - - Not Stated(Не указано)</p>|\n",
    "|LIGHTING|<p>Освещение</p>|<p>A - Daylight(Дневной свет) <br> B - Dusk-Dawn (Сумерки-Рассвет) <br> C - Dark-Street Lights (Темно-Уличные фонари) <br> D - Dark-No Street Lights (Темно-Нет уличных фонарей) <br> E - Dark-Street Lights Not Functioning (Темно-уличные фонари не работают) <br> - - Not State (Не указано)</p>|\n",
    "|COUNTY_CITY_LOCATION|<p>Номер географических районов, где произошло ДТП</p>|<p>Число</p>|\n",
    "|COUNTY_LOCATION|<p>Название географических районов, где произошло ДТП</p>|<p>Список разных названий, категориальный тип данных</p>|\n",
    "|DIRECTION|<p>Направление движения</p>|<p> N - North (Север) <br> E - East (Восток) <br> S - South (Юг) <br> W - West (Запад) - or blank - Not state (не указано) <br> на перекрестке</p>|\n",
    "|DISTANCE|<p>Растояние от главной дороги (метры)</p>|<p>Число</p>|\n",
    "|LOCATION_TYPE|<p>Тип дороги</p>|<p> H - Highway(Шоссе) <br> I - Intersection (Перекресток) <br> R - Ramp (or Collector) (Рампа) <br> - or blank - Not State (не указано) </p>|\n",
    "|PARTY_COUNT|<p>Количестко участников</p>|<p>Число</p>|\n",
    "|PCF_VIOLATION_CATEGORY|<p>Категория нарушения</p>|<p>01 — Driving or Bicycling Under the Influence of Alcohol or Drug (Вождение или езда на велосипеде в состоянии алкогольного или наркотического опьянения)<br>02 — Impeding Traffic (Препятствие движению транспорта)<br>03 — Unsafe Speed (Превышение скорости)<br>04 — Following Too Closely (Опасное сближение)<br>05 — Wrong Side of Road (Неправильная сторона дороги)<br>06 — Improper Passing (Неправильное движение)<br>07 — Unsafe Lane Change (Небезопасная смена полосы движения)<br>08 — Improper Turning (Неправильный поворот)<br>09 — Automobile Right of Way (Автомобильное право проезда)<br>10 — Pedestrian Right of Way (Пешеходное право проезда)<br>11 — Pedestrian Violation (Нарушение пешеходами)<br>12 — Traffic Signals and Signs (Дорожные сигналы и знаки)<br>13 — Hazardous Parking (Неправильная парковка)<br>14 — Lights (Освещение)<br>15 — Brakes (Тормоза)<br>16 — Other Equipment (Другое оборудование)<br>17 — Other Hazardous Violation (Другие нарушения)<br>18 — Other Than Driver (or Pedestrian) (Кроме водителя или пешехода)<br>19 — Speeding (Скорость)<br>20 — Pedestrian dui (Нарушение пешехода)<br>21 — Unsafe Starting or Backing (Опасный старт)<br>22 — Other Improper Driving (Другое неправильное вождение)<br>23 — Pedestrian or “Other” Under the Influence of Alcohol or Drug (Пешеход или «Другой» в состоянии алкогольного или наркотического опьянения)<br>24 — Fell Asleep (Заснул)<br>00 — Unknown (Неизвестно)<br>- — Not Stated (Не указано)</p>|\n",
    "|TYPE_OF_COLLISION|<p>Аварии</p>|<p>A — Head-On (Лоб в лоб)<br>B — Sideswipe (Сторона)<br>C — Rear End (Столкновение задней частью)<br>D — Broadside (Боковой удар)<br>E — Hit Object (Удар объекта)<br>F — Overturned (Опрокинутый)<br>G — Vehicle (транспортное средство/ Пешеход)<br>H — Other (Другое)<br>- — Not Stated (Не указано)</p>|\n",
    "|MOTOR_VEHICLE_INVOLVED_WITH|<p>Дополнительные участники ДТП</p>|<p>Other motor vehicle (Другой автомобиль)<br>Fixed object (Неподвижный объект)<br>Parked motor vehicle (Припаркованный автомобиль)<br>Pedestrian (Пешеход)<br>Bicycle (Велосипедист)<br>Non-collision (Не столкновение)<br>Other object (Другой объект)<br>Motor vehicle on other roadway (Автомобиль на другой проезжей)<br>Animal (Животное)<br>Train (Поезд)</p>|\n",
    "|ROAD_CONDITION_1|<p> Дорожное состояние</p>|<p>A — Holes, Deep Ruts (Ямы, глубокая колея)<br>B — Loose Material on Roadway (Сыпучий материал на проезжей части)<br>C — Obstruction on Roadway (Препятствие на проезжей части)<br>D — Construction or Repair Zone (Зона строительства или ремонта)<br>E — Reduced Roadway Width (Уменьшенная ширина проезжей части)<br>F — Flooded (Затоплено)<br>G — Other (Другое)<br>H — No Unusual Condition (Нет ничего необычного)<br>- — Not Stated (Не указано)</p>|\n",
    "|CONTROL_CONDITION_1|<p> Устройство управления</p>|<p>A — Functioning (Функционирует)<br>B — Not Functioning (Не функционирует)<br>C — Obscured (Затемнённый)<br>D — None (Нет)<br>- — Not Stated (Не указано)</p>|"
   ]
  },
  {
   "cell_type": "markdown",
   "id": "ed193a83",
   "metadata": {},
   "source": [
    "Таблица `Parties` - Описание участников проишествия"
   ]
  },
  {
   "cell_type": "markdown",
   "id": "b6629668",
   "metadata": {},
   "source": [
    "|Обозначение в таблице|Описание|Подробнее|\n",
    "|---------------------|--------|------------------|\n",
    "|CASE_ID|<p>Идентификационный номер в базе данных</p>|<p>Уникальный номер для зарегестрированного проишествия в таблице проишествий</p>|\n",
    "|PARTY_NUMBER|<p>Номер участника проишествия</p>|<p> От 1 до N - по числу участников проишествия </p>|\n",
    "|PARTY_TYPE|<p>Тип участника проишествия</p>|<p>1 — Car (Авто)<br>2 — Road bumper (Дорожные знаки)<br>3 — Building (Строения)<br>4 — Road signs (Отбойник)<br>5 — Other (Другое)<br>6 — Operator (Оператор)<br>- — Not Stated (Не указано)</p>|\n",
    "|AT_FAULT|<p>Виновность участника</p>|<p>0/1</p>|\n",
    "|INSURANCE_PREMIUM|<p>Сумма страховки (тыс.$) </p>|<p>Число</p>|\n",
    "|PARTY_DRUG_PHYSICAL|<p>Состояние участника: физическое или с учетом принятых лекарств</p>|<p>E — Under Drug Influence (Под воздействием лекарств)<br>F — Impairment — Physical (Ухудшение состояния)<br>G — Impairment Unknown (Не известно)<br>H — Not Applicable (Не оценивался)<br>I — Sleepy/Fatigued (Сонный/Усталый)<br>- — Not Stated (Не указано)</p>|\n",
    "|PARTY_SOBRIETY|<p>Трезвость участника</p>|<p>A — Had Not Been Drinking (Не пил)<br>B — Had Been Drinking, Under Influence (Был пьян, под влиянием)<br>C — Had Been Drinking, Not Under Influence (Был пьян, не под влиянием)<br>D — Had Been Drinking, Impairment Unknown (Был пьян, ухудшение неизвестно)<br>G — Impairment Unknown (Неизвестно ухудшение)<br>H — Not Applicable (Не оценивался)<br>- — Not Stated (Не указано)</p>|\n",
    "|CELLPHONE_IN_USE|<p>Наличие телефона в автомобиле (возможность||"
   ]
  },
  {
   "cell_type": "markdown",
   "id": "6827530f",
   "metadata": {},
   "source": [
    "Таблица `Vehucles` - Описание автомобиля"
   ]
  },
  {
   "cell_type": "markdown",
   "id": "beab1700",
   "metadata": {},
   "source": [
    "|Обозначение в таблице|<p>Описание</p>|<p>Подробнее</p>|\n",
    "|---------------------|--------|-------------------|\n",
    "|ID|<p>Индекс текущей таблицы</p>|<p>Номекр в таблице</p>|\n",
    "|CASE_ID|<p>Идентификационный номер в базу данных</p>|<p>Уникальный номер для зарегестрированного проишествия в таблице проишествий</p>|\n",
    "|VEHICLE_TYPE|<p>Тип кузова</p>|<p>MINIVAN<br>COUPE<br>SEDAN<br>HATCHBACK<br>OTHER</p>|\n",
    "|VEHICLE_TRANSMISSION|<p>Тип КПП</p>|<p>auto (Автоматическая)<br>manual (Ручная)<br>- — Not Stated (Не указано)</p>|\n",
    "|VEHICLE_AGE|<p>Возраст автомобиля (в годаз)</p>|<p> число</p>|"
   ]
  },
  {
   "cell_type": "markdown",
   "id": "beeac326",
   "metadata": {},
   "source": [
    "<div class=\"alert alert-success\">\n",
    "<h2> Комментарий ревьюера <a class=\"tocSkip\"> </h2>\n",
    "\n",
    "<b>Все отлично!👍:</b> \n",
    "    \n",
    "Отлично, что есть подробный вступительный комментарий и содержание."
   ]
  },
  {
   "cell_type": "markdown",
   "id": "136a8635",
   "metadata": {},
   "source": [
    "# Проект"
   ]
  },
  {
   "cell_type": "markdown",
   "id": "d6838f29",
   "metadata": {},
   "source": [
    "## Выгрузка данных"
   ]
  },
  {
   "cell_type": "markdown",
   "id": "789389b5",
   "metadata": {},
   "source": [
    "Загружаем необходимые библиотеки, создем глобальные переменные."
   ]
  },
  {
   "cell_type": "code",
   "execution_count": 1,
   "id": "ebfc62c3",
   "metadata": {},
   "outputs": [
    {
     "name": "stdout",
     "output_type": "stream",
     "text": [
      "Requirement already satisfied: scikit-learn in /opt/conda/lib/python3.9/site-packages (0.24.1)\n",
      "Collecting scikit-learn\n",
      "  Downloading scikit_learn-1.2.2-cp39-cp39-manylinux_2_17_x86_64.manylinux2014_x86_64.whl (9.6 MB)\n",
      "\u001b[K     |████████████████████████████████| 9.6 MB 1.2 MB/s eta 0:00:01\n",
      "\u001b[?25hRequirement already satisfied: scipy>=1.3.2 in /opt/conda/lib/python3.9/site-packages (from scikit-learn) (1.9.1)\n",
      "Collecting joblib>=1.1.1\n",
      "  Downloading joblib-1.2.0-py3-none-any.whl (297 kB)\n",
      "\u001b[K     |████████████████████████████████| 297 kB 51.4 MB/s eta 0:00:01\n",
      "\u001b[?25hRequirement already satisfied: numpy>=1.17.3 in /opt/conda/lib/python3.9/site-packages (from scikit-learn) (1.21.1)\n",
      "Requirement already satisfied: threadpoolctl>=2.0.0 in /opt/conda/lib/python3.9/site-packages (from scikit-learn) (3.1.0)\n",
      "Installing collected packages: joblib, scikit-learn\n",
      "  Attempting uninstall: joblib\n",
      "    Found existing installation: joblib 1.1.0\n",
      "    Uninstalling joblib-1.1.0:\n",
      "      Successfully uninstalled joblib-1.1.0\n",
      "  Attempting uninstall: scikit-learn\n",
      "    Found existing installation: scikit-learn 0.24.1\n",
      "    Uninstalling scikit-learn-0.24.1:\n",
      "      Successfully uninstalled scikit-learn-0.24.1\n",
      "Successfully installed joblib-1.2.0 scikit-learn-1.2.2\n"
     ]
    }
   ],
   "source": [
    "!pip install -U scikit-learn"
   ]
  },
  {
   "cell_type": "code",
   "execution_count": 2,
   "id": "d749fc8d",
   "metadata": {},
   "outputs": [
    {
     "name": "stdout",
     "output_type": "stream",
     "text": [
      "Collecting notifiers\n",
      "  Downloading notifiers-1.3.3-py3-none-any.whl (43 kB)\n",
      "\u001b[K     |████████████████████████████████| 43 kB 849 kB/s eta 0:00:011\n",
      "\u001b[?25hCollecting jsonschema<5.0.0,>=4.4.0\n",
      "  Downloading jsonschema-4.17.3-py3-none-any.whl (90 kB)\n",
      "\u001b[K     |████████████████████████████████| 90 kB 1.7 MB/s eta 0:00:01\n",
      "\u001b[?25hCollecting requests<3.0.0,>=2.27.1\n",
      "  Downloading requests-2.28.2-py3-none-any.whl (62 kB)\n",
      "\u001b[K     |████████████████████████████████| 62 kB 1.9 MB/s eta 0:00:011\n",
      "\u001b[?25hRequirement already satisfied: click<9.0.0,>=8.0.3 in /opt/conda/lib/python3.9/site-packages (from notifiers) (8.1.3)\n",
      "Requirement already satisfied: attrs>=17.4.0 in /opt/conda/lib/python3.9/site-packages (from jsonschema<5.0.0,>=4.4.0->notifiers) (21.2.0)\n",
      "Requirement already satisfied: pyrsistent!=0.17.0,!=0.17.1,!=0.17.2,>=0.14.0 in /opt/conda/lib/python3.9/site-packages (from jsonschema<5.0.0,>=4.4.0->notifiers) (0.17.3)\n",
      "Requirement already satisfied: urllib3<1.27,>=1.21.1 in /opt/conda/lib/python3.9/site-packages (from requests<3.0.0,>=2.27.1->notifiers) (1.26.6)\n",
      "Collecting charset-normalizer<4,>=2\n",
      "  Downloading charset_normalizer-3.1.0-cp39-cp39-manylinux_2_17_x86_64.manylinux2014_x86_64.whl (199 kB)\n",
      "\u001b[K     |████████████████████████████████| 199 kB 6.9 MB/s eta 0:00:01\n",
      "\u001b[?25hRequirement already satisfied: certifi>=2017.4.17 in /opt/conda/lib/python3.9/site-packages (from requests<3.0.0,>=2.27.1->notifiers) (2022.6.15)\n",
      "Requirement already satisfied: idna<4,>=2.5 in /opt/conda/lib/python3.9/site-packages (from requests<3.0.0,>=2.27.1->notifiers) (2.10)\n",
      "Installing collected packages: charset-normalizer, requests, jsonschema, notifiers\n",
      "  Attempting uninstall: requests\n",
      "    Found existing installation: requests 2.25.1\n",
      "    Uninstalling requests-2.25.1:\n",
      "      Successfully uninstalled requests-2.25.1\n",
      "  Attempting uninstall: jsonschema\n",
      "    Found existing installation: jsonschema 3.2.0\n",
      "    Uninstalling jsonschema-3.2.0:\n",
      "      Successfully uninstalled jsonschema-3.2.0\n",
      "Successfully installed charset-normalizer-3.1.0 jsonschema-4.17.3 notifiers-1.3.3 requests-2.28.2\n"
     ]
    }
   ],
   "source": [
    "!pip install notifiers"
   ]
  },
  {
   "cell_type": "code",
   "execution_count": 3,
   "id": "e460cccc",
   "metadata": {},
   "outputs": [
    {
     "name": "stdout",
     "output_type": "stream",
     "text": [
      "Collecting torchmetrics\n",
      "  Downloading torchmetrics-0.11.4-py3-none-any.whl (519 kB)\n",
      "\u001b[K     |████████████████████████████████| 519 kB 2.1 MB/s eta 0:00:01\n",
      "\u001b[?25hRequirement already satisfied: torch>=1.8.1 in /opt/conda/lib/python3.9/site-packages (from torchmetrics) (1.10.0)\n",
      "Requirement already satisfied: packaging in /opt/conda/lib/python3.9/site-packages (from torchmetrics) (21.3)\n",
      "Requirement already satisfied: numpy>=1.17.2 in /opt/conda/lib/python3.9/site-packages (from torchmetrics) (1.21.1)\n",
      "Requirement already satisfied: typing-extensions in /opt/conda/lib/python3.9/site-packages (from torch>=1.8.1->torchmetrics) (4.3.0)\n",
      "Requirement already satisfied: pyparsing!=3.0.5,>=2.0.2 in /opt/conda/lib/python3.9/site-packages (from packaging->torchmetrics) (2.4.7)\n",
      "Installing collected packages: torchmetrics\n",
      "Successfully installed torchmetrics-0.11.4\n"
     ]
    }
   ],
   "source": [
    "!pip install torchmetrics"
   ]
  },
  {
   "cell_type": "markdown",
   "id": "b70d9aa9",
   "metadata": {},
   "source": [
    "<div class=\"alert alert-warning\">\n",
    "    <h2> Комментарий ревьюера <a class=\"tocSkip\"> </h2>\n",
    "    \n",
    "<b>Некоторые замечания и рекомендации💡:</b> \n",
    "        \n",
    "Пожалуйста, в следующий раз не забывай прописывать установку дополнительно используемых библиотек, без этого код на платформе выдает ошибку и ревьюер может отправить проект обратно."
   ]
  },
  {
   "cell_type": "code",
   "execution_count": 4,
   "id": "e970d4db",
   "metadata": {},
   "outputs": [],
   "source": [
    "import warnings\n",
    "import random\n",
    "\n",
    "import pandas as pd\n",
    "\n",
    "import matplotlib.pyplot as plt\n",
    "\n",
    "from sqlalchemy import create_engine, text\n",
    "\n",
    "import numpy as np\n",
    "\n",
    "from sklearn.model_selection import train_test_split, GridSearchCV\n",
    "from sklearn.preprocessing import StandardScaler,  OneHotEncoder\n",
    "from sklearn.linear_model import LogisticRegression\n",
    "from sklearn.ensemble import RandomForestClassifier\n",
    "from sklearn.metrics import f1_score,roc_curve,roc_auc_score,confusion_matrix,precision_score,recall_score\n",
    "\n",
    "from catboost import CatBoostClassifier\n",
    "\n",
    "from notifiers import get_notifier\n",
    "\n",
    "import torch\n",
    "import torch.nn as nn\n",
    "from torchmetrics.functional.classification import binary_f1_score\n",
    "\n",
    "from math import ceil\n",
    "\n",
    "\n",
    "\n",
    "pd.set_option('display.max_columns', None)"
   ]
  },
  {
   "cell_type": "markdown",
   "id": "de20e40e",
   "metadata": {},
   "source": [
    "<div class=\"alert alert-success\">\n",
    "<h2> Комментарий ревьюера <a class=\"tocSkip\"> </h2>\n",
    "\n",
    "    \n",
    "<b>Все отлично!👍:</b> \n",
    "    \n",
    "Отлично, что все импорты собраны в одном месте в начале проекта. Это поможет в случае чего сразу увидеть, какие библиотеки следует доустановить."
   ]
  },
  {
   "cell_type": "markdown",
   "id": "fea8ebfd",
   "metadata": {},
   "source": [
    "<div class=\"alert alert-warning\">\n",
    "    <h2> Комментарий ревьюера <a class=\"tocSkip\"> </h2>\n",
    "    \n",
    "<b>Некоторые замечания и рекомендации💡:</b> \n",
    "\n",
    "\"Согласно руководству по написанию кода PEP8 все импорты должны располагаться сразу после комментариев к модулю и строк документации, но перед объявлением констант. При этом группировать их желательно в следующем порядке:\n",
    "\n",
    "импорты из стандартной библиотеки,\n",
    "импорты из сторонних библиотек,\n",
    "импорты пользовательских модулей текущего проекта.\"\n",
    "        \n",
    "И между группами стоит оставлять пустую строку.\n",
    "        \n",
    "        \n",
    "Вот еще хорошая статья:\n",
    "        \n",
    "https://okpython.net/python/python_uchebnik/osnovy/moduli_i_pakety_v_python.html\n",
    "        \n",
    "Какие модули входят в стандартную библиотеку можно посмотреть вот здесь:\n",
    "        \n",
    "https://docs.python.org/3/library/exceptions.html#warnings\n",
    "    "
   ]
  },
  {
   "cell_type": "code",
   "execution_count": 5,
   "id": "263e1a6a",
   "metadata": {},
   "outputs": [],
   "source": [
    "def make_notifier(\n",
    "    token='5658096333:AAHiwKbKFkFDhJH-0eSKwDeXmJnYsqXc88A',\n",
    "    chat_id=-831532630):\n",
    "    def f(text):\n",
    "        notifier = get_notifier('telegram')\n",
    "        notifier.notify(\n",
    "            message=text,\n",
    "            token=token,\n",
    "            chat_id=chat_id)\n",
    "    return f\n",
    "bot_send = make_notifier()"
   ]
  },
  {
   "cell_type": "code",
   "execution_count": 6,
   "id": "bc489307",
   "metadata": {},
   "outputs": [],
   "source": [
    "CAT_COL = []\n",
    "RANDOM_STATE = 30400"
   ]
  },
  {
   "cell_type": "markdown",
   "id": "0da404ca",
   "metadata": {},
   "source": [
    "### Первичиный анализ "
   ]
  },
  {
   "cell_type": "code",
   "execution_count": 7,
   "id": "5205611e",
   "metadata": {},
   "outputs": [],
   "source": [
    "\n",
    "db_config = {\n",
    "'user': 'praktikum_student', # имя пользователя,\n",
    "'pwd': 'Sdf4$2;d-d30pp', # пароль,\n",
    "'host': 'rc1b-wcoijxj3yxfsf3fs.mdb.yandexcloud.net',\n",
    "'port': 6432, # порт подключения,\n",
    "'db': 'data-science-vehicle-db' # название базы данных,\n",
    "} \n",
    "connection_string = 'postgresql://{}:{}@{}:{}/{}'.format(\n",
    "    db_config['user'],\n",
    "    db_config['pwd'],\n",
    "    db_config['host'],\n",
    "    db_config['port'],\n",
    "    db_config['db'],\n",
    ")\n",
    "engine = create_engine(connection_string)"
   ]
  },
  {
   "cell_type": "markdown",
   "id": "c9e518ff",
   "metadata": {},
   "source": [
    "Посмотрим на полноту таблиц."
   ]
  },
  {
   "cell_type": "code",
   "execution_count": 8,
   "id": "da768924",
   "metadata": {},
   "outputs": [
    {
     "data": {
      "text/html": [
       "<div>\n",
       "<style scoped>\n",
       "    .dataframe tbody tr th:only-of-type {\n",
       "        vertical-align: middle;\n",
       "    }\n",
       "\n",
       "    .dataframe tbody tr th {\n",
       "        vertical-align: top;\n",
       "    }\n",
       "\n",
       "    .dataframe thead th {\n",
       "        text-align: right;\n",
       "    }\n",
       "</style>\n",
       "<table border=\"1\" class=\"dataframe\">\n",
       "  <thead>\n",
       "    <tr style=\"text-align: right;\">\n",
       "      <th></th>\n",
       "      <th>case_id</th>\n",
       "      <th>county_city_location</th>\n",
       "      <th>county_location</th>\n",
       "      <th>distance</th>\n",
       "      <th>direction</th>\n",
       "      <th>intersection</th>\n",
       "      <th>weather_1</th>\n",
       "      <th>location_type</th>\n",
       "      <th>collision_damage</th>\n",
       "      <th>party_count</th>\n",
       "      <th>primary_collision_factor</th>\n",
       "      <th>pcf_violation_category</th>\n",
       "      <th>type_of_collision</th>\n",
       "      <th>motor_vehicle_involved_with</th>\n",
       "      <th>road_surface</th>\n",
       "      <th>road_condition_1</th>\n",
       "      <th>lighting</th>\n",
       "      <th>control_device</th>\n",
       "      <th>collision_date</th>\n",
       "      <th>collision_time</th>\n",
       "    </tr>\n",
       "  </thead>\n",
       "  <tbody>\n",
       "    <tr>\n",
       "      <th>0</th>\n",
       "      <td>4083072</td>\n",
       "      <td>1942</td>\n",
       "      <td>los angeles</td>\n",
       "      <td>528.0</td>\n",
       "      <td>north</td>\n",
       "      <td>0.0</td>\n",
       "      <td>cloudy</td>\n",
       "      <td>highway</td>\n",
       "      <td>small damage</td>\n",
       "      <td>2</td>\n",
       "      <td>vehicle code violation</td>\n",
       "      <td>unsafe lane change</td>\n",
       "      <td>sideswipe</td>\n",
       "      <td>other motor vehicle</td>\n",
       "      <td>wet</td>\n",
       "      <td>normal</td>\n",
       "      <td>daylight</td>\n",
       "      <td>none</td>\n",
       "      <td>2009-01-22</td>\n",
       "      <td>07:25:00</td>\n",
       "    </tr>\n",
       "    <tr>\n",
       "      <th>1</th>\n",
       "      <td>4083075</td>\n",
       "      <td>4313</td>\n",
       "      <td>santa clara</td>\n",
       "      <td>0.0</td>\n",
       "      <td>None</td>\n",
       "      <td>1.0</td>\n",
       "      <td>clear</td>\n",
       "      <td>None</td>\n",
       "      <td>small damage</td>\n",
       "      <td>1</td>\n",
       "      <td>vehicle code violation</td>\n",
       "      <td>improper passing</td>\n",
       "      <td>hit object</td>\n",
       "      <td>fixed object</td>\n",
       "      <td>dry</td>\n",
       "      <td>normal</td>\n",
       "      <td>dark with street lights</td>\n",
       "      <td>functioning</td>\n",
       "      <td>2009-01-03</td>\n",
       "      <td>02:26:00</td>\n",
       "    </tr>\n",
       "    <tr>\n",
       "      <th>2</th>\n",
       "      <td>4083073</td>\n",
       "      <td>0109</td>\n",
       "      <td>alameda</td>\n",
       "      <td>0.0</td>\n",
       "      <td>None</td>\n",
       "      <td>1.0</td>\n",
       "      <td>clear</td>\n",
       "      <td>None</td>\n",
       "      <td>scratch</td>\n",
       "      <td>2</td>\n",
       "      <td>vehicle code violation</td>\n",
       "      <td>improper turning</td>\n",
       "      <td>broadside</td>\n",
       "      <td>other motor vehicle</td>\n",
       "      <td>dry</td>\n",
       "      <td>normal</td>\n",
       "      <td>dark with street lights</td>\n",
       "      <td>functioning</td>\n",
       "      <td>2009-01-11</td>\n",
       "      <td>03:32:00</td>\n",
       "    </tr>\n",
       "    <tr>\n",
       "      <th>3</th>\n",
       "      <td>4083077</td>\n",
       "      <td>0109</td>\n",
       "      <td>alameda</td>\n",
       "      <td>0.0</td>\n",
       "      <td>None</td>\n",
       "      <td>1.0</td>\n",
       "      <td>clear</td>\n",
       "      <td>None</td>\n",
       "      <td>scratch</td>\n",
       "      <td>2</td>\n",
       "      <td>vehicle code violation</td>\n",
       "      <td>automobile right of way</td>\n",
       "      <td>broadside</td>\n",
       "      <td>other motor vehicle</td>\n",
       "      <td>dry</td>\n",
       "      <td>normal</td>\n",
       "      <td>daylight</td>\n",
       "      <td>functioning</td>\n",
       "      <td>2009-01-11</td>\n",
       "      <td>10:35:00</td>\n",
       "    </tr>\n",
       "    <tr>\n",
       "      <th>4</th>\n",
       "      <td>4083087</td>\n",
       "      <td>4313</td>\n",
       "      <td>santa clara</td>\n",
       "      <td>0.0</td>\n",
       "      <td>None</td>\n",
       "      <td>1.0</td>\n",
       "      <td>clear</td>\n",
       "      <td>None</td>\n",
       "      <td>scratch</td>\n",
       "      <td>2</td>\n",
       "      <td>vehicle code violation</td>\n",
       "      <td>speeding</td>\n",
       "      <td>rear end</td>\n",
       "      <td>other motor vehicle</td>\n",
       "      <td>dry</td>\n",
       "      <td>None</td>\n",
       "      <td>dark with street lights</td>\n",
       "      <td>functioning</td>\n",
       "      <td>2009-01-02</td>\n",
       "      <td>22:43:00</td>\n",
       "    </tr>\n",
       "    <tr>\n",
       "      <th>...</th>\n",
       "      <td>...</td>\n",
       "      <td>...</td>\n",
       "      <td>...</td>\n",
       "      <td>...</td>\n",
       "      <td>...</td>\n",
       "      <td>...</td>\n",
       "      <td>...</td>\n",
       "      <td>...</td>\n",
       "      <td>...</td>\n",
       "      <td>...</td>\n",
       "      <td>...</td>\n",
       "      <td>...</td>\n",
       "      <td>...</td>\n",
       "      <td>...</td>\n",
       "      <td>...</td>\n",
       "      <td>...</td>\n",
       "      <td>...</td>\n",
       "      <td>...</td>\n",
       "      <td>...</td>\n",
       "      <td>...</td>\n",
       "    </tr>\n",
       "    <tr>\n",
       "      <th>1399995</th>\n",
       "      <td>4082805</td>\n",
       "      <td>1502</td>\n",
       "      <td>kern</td>\n",
       "      <td>57.0</td>\n",
       "      <td>east</td>\n",
       "      <td>0.0</td>\n",
       "      <td>clear</td>\n",
       "      <td>None</td>\n",
       "      <td>middle damage</td>\n",
       "      <td>2</td>\n",
       "      <td>vehicle code violation</td>\n",
       "      <td>pedestrian violation</td>\n",
       "      <td>other</td>\n",
       "      <td>other object</td>\n",
       "      <td>dry</td>\n",
       "      <td>normal</td>\n",
       "      <td>dark with no street lights</td>\n",
       "      <td>none</td>\n",
       "      <td>2009-01-17</td>\n",
       "      <td>21:04:00</td>\n",
       "    </tr>\n",
       "    <tr>\n",
       "      <th>1399996</th>\n",
       "      <td>4082820</td>\n",
       "      <td>1953</td>\n",
       "      <td>los angeles</td>\n",
       "      <td>0.0</td>\n",
       "      <td>None</td>\n",
       "      <td>1.0</td>\n",
       "      <td>clear</td>\n",
       "      <td>None</td>\n",
       "      <td>middle damage</td>\n",
       "      <td>2</td>\n",
       "      <td>vehicle code violation</td>\n",
       "      <td>pedestrian right of way</td>\n",
       "      <td>other</td>\n",
       "      <td>other object</td>\n",
       "      <td>dry</td>\n",
       "      <td>normal</td>\n",
       "      <td>daylight</td>\n",
       "      <td>functioning</td>\n",
       "      <td>2009-01-18</td>\n",
       "      <td>14:20:00</td>\n",
       "    </tr>\n",
       "    <tr>\n",
       "      <th>1399997</th>\n",
       "      <td>4082829</td>\n",
       "      <td>1502</td>\n",
       "      <td>kern</td>\n",
       "      <td>0.0</td>\n",
       "      <td>None</td>\n",
       "      <td>1.0</td>\n",
       "      <td>clear</td>\n",
       "      <td>highway</td>\n",
       "      <td>middle damage</td>\n",
       "      <td>2</td>\n",
       "      <td>vehicle code violation</td>\n",
       "      <td>pedestrian right of way</td>\n",
       "      <td>other</td>\n",
       "      <td>other object</td>\n",
       "      <td>dry</td>\n",
       "      <td>normal</td>\n",
       "      <td>dark with street lights</td>\n",
       "      <td>functioning</td>\n",
       "      <td>2009-01-17</td>\n",
       "      <td>18:06:00</td>\n",
       "    </tr>\n",
       "    <tr>\n",
       "      <th>1399998</th>\n",
       "      <td>4083008</td>\n",
       "      <td>4313</td>\n",
       "      <td>santa clara</td>\n",
       "      <td>20.0</td>\n",
       "      <td>east</td>\n",
       "      <td>NaN</td>\n",
       "      <td>clear</td>\n",
       "      <td>None</td>\n",
       "      <td>middle damage</td>\n",
       "      <td>2</td>\n",
       "      <td>vehicle code violation</td>\n",
       "      <td>pedestrian right of way</td>\n",
       "      <td>other</td>\n",
       "      <td>other object</td>\n",
       "      <td>dry</td>\n",
       "      <td>normal</td>\n",
       "      <td>dark with street lights</td>\n",
       "      <td>functioning</td>\n",
       "      <td>2009-01-06</td>\n",
       "      <td>17:53:00</td>\n",
       "    </tr>\n",
       "    <tr>\n",
       "      <th>1399999</th>\n",
       "      <td>4083051</td>\n",
       "      <td>1950</td>\n",
       "      <td>los angeles</td>\n",
       "      <td>182.0</td>\n",
       "      <td>north</td>\n",
       "      <td>0.0</td>\n",
       "      <td>clear</td>\n",
       "      <td>None</td>\n",
       "      <td>middle damage</td>\n",
       "      <td>2</td>\n",
       "      <td>vehicle code violation</td>\n",
       "      <td>pedestrian violation</td>\n",
       "      <td>other</td>\n",
       "      <td>other object</td>\n",
       "      <td>dry</td>\n",
       "      <td>normal</td>\n",
       "      <td>dark with no street lights</td>\n",
       "      <td>none</td>\n",
       "      <td>2009-01-17</td>\n",
       "      <td>21:17:00</td>\n",
       "    </tr>\n",
       "  </tbody>\n",
       "</table>\n",
       "<p>1400000 rows × 20 columns</p>\n",
       "</div>"
      ],
      "text/plain": [
       "         case_id county_city_location county_location  distance direction  \\\n",
       "0        4083072                 1942     los angeles     528.0     north   \n",
       "1        4083075                 4313     santa clara       0.0      None   \n",
       "2        4083073                 0109         alameda       0.0      None   \n",
       "3        4083077                 0109         alameda       0.0      None   \n",
       "4        4083087                 4313     santa clara       0.0      None   \n",
       "...          ...                  ...             ...       ...       ...   \n",
       "1399995  4082805                 1502            kern      57.0      east   \n",
       "1399996  4082820                 1953     los angeles       0.0      None   \n",
       "1399997  4082829                 1502            kern       0.0      None   \n",
       "1399998  4083008                 4313     santa clara      20.0      east   \n",
       "1399999  4083051                 1950     los angeles     182.0     north   \n",
       "\n",
       "         intersection weather_1 location_type collision_damage  party_count  \\\n",
       "0                 0.0    cloudy       highway     small damage            2   \n",
       "1                 1.0     clear          None     small damage            1   \n",
       "2                 1.0     clear          None          scratch            2   \n",
       "3                 1.0     clear          None          scratch            2   \n",
       "4                 1.0     clear          None          scratch            2   \n",
       "...               ...       ...           ...              ...          ...   \n",
       "1399995           0.0     clear          None    middle damage            2   \n",
       "1399996           1.0     clear          None    middle damage            2   \n",
       "1399997           1.0     clear       highway    middle damage            2   \n",
       "1399998           NaN     clear          None    middle damage            2   \n",
       "1399999           0.0     clear          None    middle damage            2   \n",
       "\n",
       "        primary_collision_factor   pcf_violation_category type_of_collision  \\\n",
       "0         vehicle code violation       unsafe lane change         sideswipe   \n",
       "1         vehicle code violation         improper passing        hit object   \n",
       "2         vehicle code violation         improper turning         broadside   \n",
       "3         vehicle code violation  automobile right of way         broadside   \n",
       "4         vehicle code violation                 speeding          rear end   \n",
       "...                          ...                      ...               ...   \n",
       "1399995   vehicle code violation     pedestrian violation             other   \n",
       "1399996   vehicle code violation  pedestrian right of way             other   \n",
       "1399997   vehicle code violation  pedestrian right of way             other   \n",
       "1399998   vehicle code violation  pedestrian right of way             other   \n",
       "1399999   vehicle code violation     pedestrian violation             other   \n",
       "\n",
       "        motor_vehicle_involved_with road_surface road_condition_1  \\\n",
       "0               other motor vehicle          wet           normal   \n",
       "1                      fixed object          dry           normal   \n",
       "2               other motor vehicle          dry           normal   \n",
       "3               other motor vehicle          dry           normal   \n",
       "4               other motor vehicle          dry             None   \n",
       "...                             ...          ...              ...   \n",
       "1399995                other object          dry           normal   \n",
       "1399996                other object          dry           normal   \n",
       "1399997                other object          dry           normal   \n",
       "1399998                other object          dry           normal   \n",
       "1399999                other object          dry           normal   \n",
       "\n",
       "                           lighting control_device collision_date  \\\n",
       "0                          daylight           none     2009-01-22   \n",
       "1           dark with street lights    functioning     2009-01-03   \n",
       "2           dark with street lights    functioning     2009-01-11   \n",
       "3                          daylight    functioning     2009-01-11   \n",
       "4           dark with street lights    functioning     2009-01-02   \n",
       "...                             ...            ...            ...   \n",
       "1399995  dark with no street lights           none     2009-01-17   \n",
       "1399996                    daylight    functioning     2009-01-18   \n",
       "1399997     dark with street lights    functioning     2009-01-17   \n",
       "1399998     dark with street lights    functioning     2009-01-06   \n",
       "1399999  dark with no street lights           none     2009-01-17   \n",
       "\n",
       "        collision_time  \n",
       "0             07:25:00  \n",
       "1             02:26:00  \n",
       "2             03:32:00  \n",
       "3             10:35:00  \n",
       "4             22:43:00  \n",
       "...                ...  \n",
       "1399995       21:04:00  \n",
       "1399996       14:20:00  \n",
       "1399997       18:06:00  \n",
       "1399998       17:53:00  \n",
       "1399999       21:17:00  \n",
       "\n",
       "[1400000 rows x 20 columns]"
      ]
     },
     "execution_count": 8,
     "metadata": {},
     "output_type": "execute_result"
    }
   ],
   "source": [
    "query = '''\n",
    "SELECT *\n",
    "FROM collisions\n",
    "'''\n",
    "pd.read_sql_query(sql=text(query), con = engine.connect())"
   ]
  },
  {
   "cell_type": "code",
   "execution_count": null,
   "id": "fb84bad9",
   "metadata": {},
   "outputs": [],
   "source": [
    "query = '''\n",
    "SELECT *\n",
    "FROM Parties \n",
    "'''\n",
    "pd.read_sql_query(sql=text(query), con = engine.connect())"
   ]
  },
  {
   "cell_type": "code",
   "execution_count": null,
   "id": "b6a76c10",
   "metadata": {
    "scrolled": false
   },
   "outputs": [],
   "source": [
    "query = '''\n",
    "SELECT *\n",
    "FROM Vehicles  \n",
    "'''\n",
    "pd.read_sql_query(sql=text(query), con = engine.connect())"
   ]
  },
  {
   "cell_type": "markdown",
   "id": "656e65a1",
   "metadata": {},
   "source": [
    "Все таблицы имеют данные. Имеется общий ключь. Теперь можно провести статистический анализ."
   ]
  },
  {
   "cell_type": "markdown",
   "id": "abe694e8",
   "metadata": {},
   "source": [
    "### Статистический анализ"
   ]
  },
  {
   "cell_type": "markdown",
   "id": "bfd79dad",
   "metadata": {},
   "source": [
    "Теперь можно посмотреть на какой месяц приходятся наибольшее количество аварий."
   ]
  },
  {
   "cell_type": "code",
   "execution_count": null,
   "id": "b56abdb2",
   "metadata": {},
   "outputs": [],
   "source": [
    "query = '''\n",
    "SELECT COUNT(CASE_ID),\n",
    "       EXTRACT (YEAR FROM COLLISION_DATE) as Year,\n",
    "       EXTRACT (MONTH FROM COLLISION_DATE) as Month\n",
    "FROM collisions\n",
    "GROUP BY EXTRACT (YEAR FROM COLLISION_DATE), EXTRACT(MONTH FROM COLLISION_DATE)\n",
    "'''\n",
    "month = pd.read_sql_query(sql=text(query), con = engine.connect())"
   ]
  },
  {
   "cell_type": "code",
   "execution_count": null,
   "id": "05354bde",
   "metadata": {},
   "outputs": [],
   "source": [
    "month"
   ]
  },
  {
   "cell_type": "code",
   "execution_count": null,
   "id": "440f7fe5",
   "metadata": {},
   "outputs": [],
   "source": [
    "month['year'] = month['year'].astype(int)\n",
    "month['month'] = month['month'].astype(int)"
   ]
  },
  {
   "cell_type": "code",
   "execution_count": null,
   "id": "7feae35a",
   "metadata": {
    "scrolled": false
   },
   "outputs": [],
   "source": [
    "for year in month['year'].unique():\n",
    "    plt.figure(figsize=(15,8))\n",
    "    plt.xlabel(\"Номер месяца\")\n",
    "    plt.ylabel(\"Количество Аварий\")\n",
    "    plt.title(f\"Количество за {year}\")\n",
    "    plt.bar(month.loc[month['year'] == year, 'month'].unique(),\n",
    "            month.loc[month['year'] == year, 'count'])\n",
    "    plt.show()"
   ]
  },
  {
   "cell_type": "markdown",
   "id": "93d099bc",
   "metadata": {},
   "source": [
    "Как видно из графиков, что каждый год аварии распределены +- одинаково, но после мая 2012 года, количество резко падает. Причино этому могут быть много факторов, но скорее всего, просто перестали записывать новые данные в таблицу. Теперь для полной оценки возьмем года с 2009 по 2011 включительно."
   ]
  },
  {
   "cell_type": "code",
   "execution_count": null,
   "id": "d25b23da",
   "metadata": {},
   "outputs": [],
   "source": [
    "query = '''\n",
    "SELECT COUNT(CASE_ID)\n",
    "FROM collisions\n",
    "WHERE EXTRACT (YEAR FROM COLLISION_DATE) = 2009 or EXTRACT (YEAR FROM COLLISION_DATE) = 2010 or EXTRACT (YEAR FROM COLLISION_DATE) = 2011\n",
    "GROUP BY EXTRACT(MONTH FROM COLLISION_DATE)\n",
    "'''\n",
    "month = pd.read_sql_query(sql=text(query), con = engine.connect())"
   ]
  },
  {
   "cell_type": "code",
   "execution_count": null,
   "id": "8afe568d",
   "metadata": {},
   "outputs": [],
   "source": [
    "month"
   ]
  },
  {
   "cell_type": "code",
   "execution_count": null,
   "id": "3db3f42a",
   "metadata": {},
   "outputs": [],
   "source": [
    "plt.figure(figsize=(15,8))\n",
    "plt.xlabel(\"Название месяца\")\n",
    "plt.ylabel(\"Количество Аварий\")\n",
    "plt.title(\"Количество аварий по месяца\")\n",
    "plt.bar(['январь',\n",
    "         'февраль',\n",
    "         'март',\n",
    "         'апрель',\n",
    "         'май',\n",
    "         'июнь',\n",
    "         'июль',\n",
    "         'август',\n",
    "         'сентябрь',\n",
    "         'октябрь',\n",
    "         'ноябрь',\n",
    "         'декабрь'],month['count'])\n",
    "plt.show()"
   ]
  },
  {
   "cell_type": "markdown",
   "id": "a70601c6",
   "metadata": {},
   "source": [
    "Как видно, какой-то явной зависимости от месяца года или сезона нету."
   ]
  },
  {
   "cell_type": "markdown",
   "id": "a63b9bc7",
   "metadata": {},
   "source": [
    "\n",
    "<div class=\"alert alert-block alert-danger\">\n",
    "<h2> Комментарий ревьюера №2<a class=\"tocSkip\"></h2>\n",
    "\n",
    "    \n",
    "<b>На доработку🤔:</b>\n",
    "    \n",
    "В таблицах есть данные за разные года, поэтому стоит проверить, полные ли эти данные, прежде чем строить общую выборку по годам. Так как это может отразиться на выводах."
   ]
  },
  {
   "cell_type": "markdown",
   "id": "09ebf3db",
   "metadata": {},
   "source": [
    "Для лучшего понимая таблиц можно посмотреть на следющие зависимости:\n",
    "1. Как связаны состояние водителя (таблица Parties стобце PARTY_DRUG_PHYSICAL) и тип участника происшествия (таблица Parties стобце PARTY_TYPE)\n",
    "2. Наличие \"hands free\" системы в автомобиле (таблица Parties стобце CELLPHONE_IN_USE) и виновность в аварии (таблица Parties стобце AT_FAULT)\n",
    "3. Возраст автомобиля(таблица Vehicles столбце VEHICLE_AGE) и виновность в аварии (таблица Parties стобце AT_FAULT).\n",
    "4. Количестов автомобилей в аварии (таблица Parties стобце PARTY_NUMBER) и дорожное состояние (таблица collisions столбец ROAD_CONDITION_1)\n",
    "5. Погода (таблица collisions столбец WEATHER_1) и ментальное состояние водителя (таблица Parties стобце PARTY_DRUG_PHYSICAL)\n",
    "6. Тип коробки передач (таблица Vehicles столбце VEHICLE_TRANSMISSION) и и виновность в аварии (таблица Parties стобце AT_FAULT)"
   ]
  },
  {
   "cell_type": "markdown",
   "id": "d9b57950",
   "metadata": {},
   "source": [
    "\n",
    "<div class=\"alert alert-block alert-danger\">\n",
    "<h2> Комментарий ревьюера №2<a class=\"tocSkip\"></h2>\n",
    "\n",
    "    \n",
    "<b>На доработку🤔:</b>\n",
    "    \n",
    "Распиши, пожалуйста, подробнее задачи, так чтобы было понятно, связь каких таблиц они включают."
   ]
  },
  {
   "cell_type": "markdown",
   "id": "2bd3b401",
   "metadata": {},
   "source": [
    "Рассмотрим задачу № 3 и № 6"
   ]
  },
  {
   "cell_type": "markdown",
   "id": "3066ef53",
   "metadata": {},
   "source": [
    "####  Возраст автомобиля и виновность в аварии."
   ]
  },
  {
   "cell_type": "markdown",
   "id": "2eba203a",
   "metadata": {},
   "source": [
    "Для правильной оценки данного фактора, нужно сделать следующее:\n",
    "1. Создать sql-запрос\n",
    "    1. Связать две таблицы Vehicles и Parties\n",
    "    2. Сгрупировать их по возрасту автомобиля.\n",
    "3. Почитать в процентах при каком возрасте какую долю стостовляют автомобили.\n",
    "3. Построить график.\n",
    "4. Сделать вывод."
   ]
  },
  {
   "cell_type": "code",
   "execution_count": null,
   "id": "25c15ca1",
   "metadata": {},
   "outputs": [],
   "source": [
    "query = '''\n",
    "SELECT VEHICLE_AGE,\n",
    "       SUM(AT_FAULT),\n",
    "       COUNT(AT_FAULT)\n",
    "FROM Parties AS p\n",
    "INNER JOIN Vehicles as v USING (CASE_ID)\n",
    "GROUP BY VEHICLE_AGE\n",
    "'''\n",
    "age = pd.read_sql_query(sql=text(query), con = engine.connect())"
   ]
  },
  {
   "cell_type": "code",
   "execution_count": null,
   "id": "50f6d8fb",
   "metadata": {},
   "outputs": [],
   "source": [
    "age"
   ]
  },
  {
   "cell_type": "code",
   "execution_count": null,
   "id": "37a3d818",
   "metadata": {},
   "outputs": [],
   "source": [
    "age['share_ot_all'] = (age['count']/sum(age['count']))*100\n",
    "age['share'] = (age['sum']/age['count'])*100\n",
    "age['share_of_all'] = (age['sum']/sum(age['count']))*100"
   ]
  },
  {
   "cell_type": "code",
   "execution_count": null,
   "id": "d1e13f05",
   "metadata": {},
   "outputs": [],
   "source": [
    "age['vehicle_age'] = age['vehicle_age'].astype(str)"
   ]
  },
  {
   "cell_type": "code",
   "execution_count": null,
   "id": "4e1dab46",
   "metadata": {},
   "outputs": [],
   "source": [
    "age"
   ]
  },
  {
   "cell_type": "code",
   "execution_count": null,
   "id": "69b8b0e2",
   "metadata": {},
   "outputs": [],
   "source": [
    "plt.figure(figsize=(15,8))\n",
    "plt.xlabel(\"Возраст\")\n",
    "plt.ylabel(\"Процент Аварий\")\n",
    "plt.title(\"Процент аварий в конкретном возрасте автомобиля\")\n",
    "plt.bar(age['vehicle_age'].values,age['share'])\n",
    "plt.show()"
   ]
  },
  {
   "cell_type": "code",
   "execution_count": null,
   "id": "1d6ff9a8",
   "metadata": {},
   "outputs": [],
   "source": [
    "plt.figure(figsize=(15,8))\n",
    "plt.xlabel(\"Возраст\")\n",
    "plt.ylabel(\"Процент Аварий\")\n",
    "plt.title(\"Процент аварий с данным возрастом ко всем авариям\")\n",
    "plt.bar(age['vehicle_age'].values,age['share_of_all'])\n",
    "plt.show()"
   ]
  },
  {
   "cell_type": "code",
   "execution_count": null,
   "id": "8169a74e",
   "metadata": {},
   "outputs": [],
   "source": [
    "plt.figure(figsize=(15,8))\n",
    "plt.xlabel(\"Возраст\")\n",
    "plt.ylabel(\"Процент\")\n",
    "plt.title(\"Процент машин с данным возрастом\")\n",
    "plt.bar(age['vehicle_age'].values,age['share_ot_all'])\n",
    "plt.show()"
   ]
  },
  {
   "cell_type": "markdown",
   "id": "7022b4d1",
   "metadata": {},
   "source": [
    "Как видно из графиков, распередление аварий по возрасту (график 2) и распределение возраста по всем машинам (график 3) имеют одинаковую форму, получается график №1 показывает реальное расперделение аварий по возрасту, оно сильно не зависти."
   ]
  },
  {
   "cell_type": "markdown",
   "id": "225e7ffe",
   "metadata": {},
   "source": [
    "#### Тип КПП и виновность в дтп"
   ]
  },
  {
   "cell_type": "markdown",
   "id": "2f0a1c9d",
   "metadata": {},
   "source": [
    "Тут похожий алгорит:\n",
    "1. sql-запрос:\n",
    "    1. Объединяем две таблицы Vehicles и Parties\n",
    "    2. Оставляем виновников\n",
    "2. Группируем по типу\n",
    "3. Считаем проценты\n",
    "4. Выводим результаты и делаем выводы."
   ]
  },
  {
   "cell_type": "code",
   "execution_count": null,
   "id": "62fba677",
   "metadata": {},
   "outputs": [],
   "source": [
    "query = '''\n",
    "SELECT VEHICLE_TRANSMISSION,\n",
    "       SUM(AT_FAULT),\n",
    "       COUNT(AT_FAULT)\n",
    "FROM Parties AS p\n",
    "INNER JOIN Vehicles as v USING (CASE_ID)\n",
    "GROUP BY VEHICLE_TRANSMISSION\n",
    "'''\n",
    "gear = pd.read_sql_query(sql=text(query), con = engine.connect())"
   ]
  },
  {
   "cell_type": "code",
   "execution_count": null,
   "id": "e84e1827",
   "metadata": {},
   "outputs": [],
   "source": [
    "gear"
   ]
  },
  {
   "cell_type": "code",
   "execution_count": null,
   "id": "3fc2852c",
   "metadata": {},
   "outputs": [],
   "source": [
    "gear.loc[[2],['vehicle_transmission']] = 'unknown'"
   ]
  },
  {
   "cell_type": "code",
   "execution_count": null,
   "id": "779957f6",
   "metadata": {},
   "outputs": [],
   "source": [
    "plt.figure(figsize=(15,8))\n",
    "plt.xlabel(\"Тип КПП\")\n",
    "plt.ylabel(\"Количество\")\n",
    "plt.title(\"Количество виновных с разными КПП\")\n",
    "plt.bar(gear['vehicle_transmission'].values,gear['sum'])\n",
    "plt.show()"
   ]
  },
  {
   "cell_type": "code",
   "execution_count": null,
   "id": "b8d3209d",
   "metadata": {},
   "outputs": [],
   "source": [
    "plt.figure(figsize=(15,8))\n",
    "plt.xlabel(\"Тип КПП\")\n",
    "plt.ylabel(\"Количество\")\n",
    "plt.title(\"Количество не виновных с разными КПП\")\n",
    "plt.bar(gear['vehicle_transmission'].values,gear['count']-gear['sum'])\n",
    "plt.show()"
   ]
  },
  {
   "cell_type": "markdown",
   "id": "f3db2306",
   "metadata": {},
   "source": [
    "Как видно из графиков сильно тип КПП не влияет на аварии."
   ]
  },
  {
   "cell_type": "markdown",
   "id": "6925fc5f",
   "metadata": {},
   "source": [
    "\n",
    "<div class=\"alert alert-block alert-danger\">\n",
    "<h2> Комментарий ревьюера №2<a class=\"tocSkip\"></h2>\n",
    "\n",
    "    \n",
    "<b>На доработку🤔:</b>\n",
    "    \n",
    "Для 2х задач алгоритм решения стоит осуществить, а не просто прописать.\n",
    "\n",
    "- Создайте sql-запрос;\n",
    "- Постройте график;\n",
    "- Сделайте вывод."
   ]
  },
  {
   "cell_type": "markdown",
   "id": "e2d2ad8b",
   "metadata": {},
   "source": [
    "<div class=\"alert alert-block alert-info\">\n",
    "<b>Комментраий:</b> Ну как мне кажется такого условия в задании не было:\n",
    "    \n",
    "    Пропишите порядок решения для двух задач из списка. Обязательное условие — решение этих задач должно включать связь не менее 2-х таблиц. Пример прописанного порядка:\n",
    "        Создайте sql-запрос;\n",
    "        Постройте график;\n",
    "        Сделайте вывод.\n",
    "\n",
    "Честно, я не вижу слова сделать данные задачи. Если оно требуется в условиях ревью, то пожалуйста, подскажите колегам, что бы они добавили его в задание.\n",
    "</div>"
   ]
  },
  {
   "attachments": {
    "image.png": {
     "image/png": "[encoded data removed]"
    }
   },
   "cell_type": "markdown",
   "id": "3ad6409d",
   "metadata": {},
   "source": [
    "<div class=\"alert alert-success\">\n",
    "<h2> Комментарий ревьюера №3<a class=\"tocSkip\"> </h2>\n",
    "\n",
    "<b>Все отлично!👍:</b> \n",
    "    \n",
    "Да, Иван, спасибо за обратную связь, дейстивтельно могут быть разночтения из-за такой формулировки. Обязательно передам коллегам, чтобы по возможности скорректировали формулировку.\n",
    "    \n",
    "Требования к ревью:\n",
    "    \n",
    " ![image.png](attachment:image.png)"
   ]
  },
  {
   "cell_type": "markdown",
   "id": "e86a64c4",
   "metadata": {},
   "source": [
    "### Выгрузка данных для DF "
   ]
  },
  {
   "cell_type": "code",
   "execution_count": null,
   "id": "9fc6e972",
   "metadata": {},
   "outputs": [],
   "source": [
    "def get_info(df):\n",
    "    display(df.sample(5))\n",
    "    display(df.info())"
   ]
  },
  {
   "cell_type": "markdown",
   "id": "623c2a89",
   "metadata": {},
   "source": [
    "<div class=\"alert alert-block alert-danger\">\n",
    "<h2> Комментарий ревьюера <a class=\"tocSkip\"></h2>\n",
    "\n",
    "    \n",
    "<b>На доработку🤔:</b>\n",
    "    \n",
    "    \n",
    "Перед тем как выполнять часть проекта, связанную с созданием датасета и непосредственно моделированием, стоит выполнить первую часть проекта. \n",
    "    \n",
    "Какие задания туда входят:\n",
    "    \n",
    "### **Шаг 2. Проведите первичное исследование таблиц**\n",
    "\n",
    "- Все ли таблицы имеют набор данных;\n",
    "- Соответствует ли количество таблиц условию задачи;\n",
    "- Имеется ли общий ключ для связи таблиц.\n",
    "\n",
    "Для осмотра таблиц используйте sql-запрос.\n",
    "    \n",
    "### **Шаг 3. Проведите статистический анализ факторов ДТП**\n",
    "\n",
    "1. Выясните, в какие месяцы происходит наибольшее количество аварий. Проанализируйте весь период наблюдений (таблица **collisions)**.\n",
    "    - Создайте sql-запрос;\n",
    "    - Постройте график;\n",
    "    - Сделайте вывод.\n",
    "2. Скоро состоится первое совещание вашей рабочей группы. Чтобы обсуждение было конструктивным, каждый сотрудник должен понимать данные. Для этого вы должны создать подходящие аналитические задачи и поручить их решение коллегам.\n",
    "    \n",
    "2.1. Создайте не менее шести задач для коллег. Опирайтесь на примеры и таблицы. \n",
    "\n",
    "2.2. Пропишите порядок решения для двух задач из списка. Обязательное условие — решение этих задач должно включать связь не менее 2-х таблиц. Пример прописанного порядка:\n",
    "\n",
    "- Создайте sql-запрос;\n",
    "- Постройте график;\n",
    "- Сделайте вывод.\n",
    "    \n"
   ]
  },
  {
   "cell_type": "markdown",
   "id": "75879eb9",
   "metadata": {},
   "source": [
    "<div class=\"alert alert-block alert-info\">\n",
    "<b>Изменения:</b> Чуть выше сделал необходимые первичные исследования\n",
    "</div>"
   ]
  },
  {
   "cell_type": "markdown",
   "id": "57296c7d",
   "metadata": {},
   "source": [
    "Поскольку не понятно, что нам может пригодиться, выгрущим объедененую, полную таблицу и будем с ней рабоать."
   ]
  },
  {
   "cell_type": "code",
   "execution_count": null,
   "id": "1a491ba5",
   "metadata": {},
   "outputs": [],
   "source": [
    "query = '''\n",
    "SELECT *\n",
    "FROM collisions as c\n",
    "INNER JOIN Parties as p USING (CASE_ID)\n",
    "INNER JOIN Vehicles as v USING (CASE_ID)\n",
    "WHERE EXTRACT(YEAR FROM COLLISION_DATE) = 2012 AND PARTY_TYPE = 'car' AND c.collision_damage <> 'SCRATCH'\n",
    "'''\n",
    "df = pd.read_sql_query(sql=text(query), con = engine.connect())"
   ]
  },
  {
   "cell_type": "markdown",
   "id": "d2d317d2",
   "metadata": {},
   "source": [
    "<div class=\"alert alert-success\">\n",
    "<h2> Комментарий ревьюера <a class=\"tocSkip\"> </h2>\n",
    "\n",
    "<b>Все отлично!👍:</b> \n",
    "    \n",
    "Молодец, что соблюдаешь условия запроса."
   ]
  },
  {
   "cell_type": "code",
   "execution_count": null,
   "id": "798dde34",
   "metadata": {
    "scrolled": false
   },
   "outputs": [],
   "source": [
    "get_info(df)"
   ]
  },
  {
   "cell_type": "markdown",
   "id": "4d0fb8f3",
   "metadata": {},
   "source": [
    "После создания DF  видим столбцы с одинаковыми названиями, надо это исправить для дальнейшей работы."
   ]
  },
  {
   "cell_type": "code",
   "execution_count": null,
   "id": "1977b208",
   "metadata": {},
   "outputs": [],
   "source": [
    "columns = ['case_id',\n",
    "         'county_city_location',\n",
    "         'county_location',\n",
    "         'distance',\n",
    "         'direction',\n",
    "         'intersection',\n",
    "         'weather_1',\n",
    "         'location_type',\n",
    "         'collision_damage',\n",
    "         'party_count',\n",
    "         'primary_collision_factor',\n",
    "         'pcf_violation_category',\n",
    "         'type_of_collision',\n",
    "         'motor_vehicle_involved_with',\n",
    "         'road_surface',\n",
    "         'road_condition_1',\n",
    "         'lighting',\n",
    "         'control_device',\n",
    "         'collision_date',\n",
    "         'collision_time',\n",
    "         'id_1',\n",
    "         'party_number_1',\n",
    "         'party_type',\n",
    "         'at_fault',\n",
    "         'insurance_premium',\n",
    "         'party_sobriety',\n",
    "         'party_drug_physical',\n",
    "         'cellphone_in_use',\n",
    "         'id_2',\n",
    "         'party_number_2',\n",
    "         'vehicle_type',\n",
    "         'vehicle_transmission',\n",
    "         'vehicle_age']"
   ]
  },
  {
   "cell_type": "code",
   "execution_count": null,
   "id": "f9af3f57",
   "metadata": {},
   "outputs": [],
   "source": [
    "df.columns = columns"
   ]
  },
  {
   "cell_type": "code",
   "execution_count": null,
   "id": "5f516c5a",
   "metadata": {},
   "outputs": [],
   "source": [
    "get_info(df)"
   ]
  },
  {
   "cell_type": "markdown",
   "id": "e1047ba4",
   "metadata": {},
   "source": [
    "Так лучше, таблица есть, столбцы на первый взгляд имеют нормальные навзания. Есть лишние это мы исправим позже."
   ]
  },
  {
   "cell_type": "markdown",
   "id": "cee47052",
   "metadata": {},
   "source": [
    "## Распределеные данных  по столбцам"
   ]
  },
  {
   "cell_type": "markdown",
   "id": "fcb1f3f3",
   "metadata": {},
   "source": [
    "### Дубликаты"
   ]
  },
  {
   "cell_type": "markdown",
   "id": "b8053292",
   "metadata": {},
   "source": [
    "Посмотрим в первую очередь на явные дублиаты."
   ]
  },
  {
   "cell_type": "code",
   "execution_count": null,
   "id": "cff64106",
   "metadata": {},
   "outputs": [],
   "source": [
    "df.drop(columns=['case_id','id_1','id_2'], axis =1).duplicated().sum()"
   ]
  },
  {
   "cell_type": "markdown",
   "id": "25092521",
   "metadata": {},
   "source": [
    "всего 7 повторений, на 240к строк, их можно просто удалить, но для начала нужно на них взглянуть. "
   ]
  },
  {
   "cell_type": "code",
   "execution_count": null,
   "id": "9bed1a59",
   "metadata": {
    "scrolled": false
   },
   "outputs": [],
   "source": [
    "df.loc[df.drop(columns=['case_id','id_1','id_2'], axis =1).duplicated(keep = False)].sort_values(by='case_id')"
   ]
  },
  {
   "cell_type": "markdown",
   "id": "00aa8d8f",
   "metadata": {},
   "source": [
    "На удивление, все столбцы заполнены, было предлополжение, что строки полупустые. В любом случае, их не много, можно убрать."
   ]
  },
  {
   "cell_type": "code",
   "execution_count": null,
   "id": "9c6461f4",
   "metadata": {},
   "outputs": [],
   "source": [
    "col = list(df.columns)\n",
    "col.remove('case_id')\n",
    "col.remove('id_1')\n",
    "col.remove('id_2')\n",
    "df = df.drop_duplicates(subset = col).reset_index(drop=True)"
   ]
  },
  {
   "cell_type": "code",
   "execution_count": null,
   "id": "704279d0",
   "metadata": {},
   "outputs": [],
   "source": [
    "df.drop(columns=['case_id','id_1','id_2'], axis =1).duplicated().sum()"
   ]
  },
  {
   "cell_type": "markdown",
   "id": "fa3f1115",
   "metadata": {},
   "source": [
    "Дубликатов больше нет, теперь можно оценить убрать чевидно лишние столбцы и расмотреть каждый по отдельности."
   ]
  },
  {
   "cell_type": "markdown",
   "id": "94642930",
   "metadata": {},
   "source": [
    "<div class=\"alert alert-success\">\n",
    "<h2> Комментарий ревьюера <a class=\"tocSkip\"> </h2>\n",
    "\n",
    "<b>Все отлично!👍:</b> \n",
    "    \n",
    "Молодец, что удаляешь дубликаты."
   ]
  },
  {
   "cell_type": "markdown",
   "id": "c2cac995",
   "metadata": {},
   "source": [
    "### CASE_ID, ID_1, ID_2"
   ]
  },
  {
   "cell_type": "markdown",
   "id": "30bd4e00",
   "metadata": {},
   "source": [
    "В нашей задаче эти столбцы не понадобятся. По этому можно их убрать."
   ]
  },
  {
   "cell_type": "code",
   "execution_count": null,
   "id": "a9fcd9a5",
   "metadata": {},
   "outputs": [],
   "source": [
    "df = df.drop(columns=['case_id','id_1','id_2'], axis =1)"
   ]
  },
  {
   "cell_type": "markdown",
   "id": "a1f08c3a",
   "metadata": {},
   "source": [
    "<div class=\"alert alert-success\">\n",
    "<h2> Комментарий ревьюера <a class=\"tocSkip\"> </h2>\n",
    "\n",
    "<b>Все отлично!👍:</b> \n",
    "    \n",
    "Молодец, что удаляешь неинформативные признаки."
   ]
  },
  {
   "cell_type": "code",
   "execution_count": null,
   "id": "b2a062a6",
   "metadata": {},
   "outputs": [],
   "source": [
    "get_info(df)"
   ]
  },
  {
   "cell_type": "markdown",
   "id": "e9f095f1",
   "metadata": {},
   "source": [
    "Отлично, теперь остальные столбцы."
   ]
  },
  {
   "cell_type": "markdown",
   "id": "0db8dc7c",
   "metadata": {},
   "source": [
    "### county_city_location"
   ]
  },
  {
   "cell_type": "markdown",
   "id": "c70b09f3",
   "metadata": {},
   "source": [
    "По описанию, это столбец с номером географических районов, где произошло ДТП.  По логике для нашей задачи это важный столбец. Как видно из `df.info()` в этом столбце нету пропусков, но возможно есть выбросиы."
   ]
  },
  {
   "cell_type": "code",
   "execution_count": null,
   "id": "7dc6e678",
   "metadata": {},
   "outputs": [],
   "source": [
    "df['county_city_location']"
   ]
  },
  {
   "cell_type": "markdown",
   "id": "9e2383a1",
   "metadata": {},
   "source": [
    "В первую очередь даный столбце можно перевести в числовой, но нужно запомнить, что он категориальный."
   ]
  },
  {
   "cell_type": "code",
   "execution_count": null,
   "id": "450dd96b",
   "metadata": {},
   "outputs": [],
   "source": [
    "CAT_COL.append('county_city_location')"
   ]
  },
  {
   "cell_type": "code",
   "execution_count": null,
   "id": "b43364b0",
   "metadata": {},
   "outputs": [],
   "source": [
    "df['county_city_location'] = df['county_city_location'].astype(int)"
   ]
  },
  {
   "cell_type": "code",
   "execution_count": null,
   "id": "c962eecc",
   "metadata": {},
   "outputs": [],
   "source": [
    "df['county_city_location']"
   ]
  },
  {
   "cell_type": "markdown",
   "id": "638dc87b",
   "metadata": {},
   "source": [
    "Теперь лучше, можно сторить графики."
   ]
  },
  {
   "cell_type": "code",
   "execution_count": null,
   "id": "55ceed1b",
   "metadata": {},
   "outputs": [],
   "source": [
    "plt.xlabel(\"номер локации\")\n",
    "plt.ylabel(\"количество локаций\")\n",
    "plt.title(\"Столбец county_city_location\")\n",
    "df['county_city_location'].hist()\n",
    "plt.show()"
   ]
  },
  {
   "cell_type": "markdown",
   "id": "a4de0829",
   "metadata": {},
   "source": [
    "Видно, что выбросов нет, данные распределенны, почти нормально. Так что тут больше делать нечего."
   ]
  },
  {
   "cell_type": "markdown",
   "id": "31eefadf",
   "metadata": {},
   "source": [
    "<div class=\"alert alert-warning\">\n",
    "    <h2> Комментарий ревьюера <a class=\"tocSkip\"> </h2>\n",
    "    \n",
    "<b>Некоторые замечания и рекомендации💡:</b> \n",
    "        \n",
    "        \n",
    "Есть малые категории, возможно, их стоит объединить."
   ]
  },
  {
   "cell_type": "markdown",
   "id": "50f49490",
   "metadata": {},
   "source": [
    "<div class=\"alert alert-block alert-info\">\n",
    "<b>Изменения:</b> Возможно\n",
    "</div>"
   ]
  },
  {
   "cell_type": "markdown",
   "id": "e61460ad",
   "metadata": {},
   "source": [
    "### county_location"
   ]
  },
  {
   "cell_type": "markdown",
   "id": "f3aea62f",
   "metadata": {},
   "source": [
    "Этот столбец имеет похожий с предыдущем сымсл, только тут непосредственно названия мест. Думаю он нам не нужен будет в обучении, так как есть предыдущий, единственное, можно проверить количество уникальных значений тут и в предыдущем, что бы понять что для каждого номера есть название."
   ]
  },
  {
   "cell_type": "code",
   "execution_count": null,
   "id": "1e460ab7",
   "metadata": {},
   "outputs": [],
   "source": [
    "len(df['county_location'].unique())"
   ]
  },
  {
   "cell_type": "code",
   "execution_count": null,
   "id": "1a14604e",
   "metadata": {},
   "outputs": [],
   "source": [
    "len(df['county_city_location'].unique())"
   ]
  },
  {
   "cell_type": "markdown",
   "id": "a2c94571",
   "metadata": {},
   "source": [
    "Явно есть различия, посмотрим на эти названия."
   ]
  },
  {
   "cell_type": "code",
   "execution_count": null,
   "id": "8518575b",
   "metadata": {},
   "outputs": [],
   "source": [
    "np.sort(df['county_location'].unique())"
   ]
  },
  {
   "cell_type": "markdown",
   "id": "5219355b",
   "metadata": {},
   "source": [
    "Как видно из названия, данные регионы достаточно крупные, возможно предыдущий столбец это код, первые две цифры код региона, а остальные это код района, проверим."
   ]
  },
  {
   "cell_type": "code",
   "execution_count": null,
   "id": "ff5aaa2c",
   "metadata": {},
   "outputs": [],
   "source": [
    "len(np.unique(df['county_city_location'].unique() // 100))"
   ]
  },
  {
   "cell_type": "markdown",
   "id": "daa2924d",
   "metadata": {},
   "source": [
    "Если откинуть последние две цифры, то количество уникальных значений четко совпадает с количеством регионов, что точно быть увереным что это так, посмотрим именно на уникальные пары, регион-код."
   ]
  },
  {
   "cell_type": "code",
   "execution_count": null,
   "id": "5bac52cf",
   "metadata": {},
   "outputs": [],
   "source": [
    "hypothesis = []"
   ]
  },
  {
   "cell_type": "code",
   "execution_count": null,
   "id": "0afe2ee3",
   "metadata": {},
   "outputs": [],
   "source": [
    "def apl (df):\n",
    "    hypothesis.append(f\"{df['county_city_location'] // 100} {df['county_location']}\")"
   ]
  },
  {
   "cell_type": "code",
   "execution_count": null,
   "id": "86cf60b3",
   "metadata": {},
   "outputs": [],
   "source": [
    "df.loc[:,['county_city_location','county_location']].apply(apl, axis = 1)"
   ]
  },
  {
   "cell_type": "code",
   "execution_count": null,
   "id": "c63ff508",
   "metadata": {},
   "outputs": [],
   "source": [
    "len(np.unique(hypothesis))"
   ]
  },
  {
   "cell_type": "markdown",
   "id": "35cbe096",
   "metadata": {},
   "source": [
    "Все четко, гипотиза подтвердилась, первые цифры это код региона, так что столбец с названиями нам не понадобится. По этому можно предыдущий столбец оствить только последние две цифры, а этот столбец заменить на коды, первые две цифры"
   ]
  },
  {
   "cell_type": "code",
   "execution_count": null,
   "id": "f9b7fc3e",
   "metadata": {},
   "outputs": [],
   "source": [
    "df['county_location'] = df['county_city_location'] // 100\n",
    "df['county_city_location'] = df['county_city_location'] % 100"
   ]
  },
  {
   "cell_type": "markdown",
   "id": "cdb7dedd",
   "metadata": {},
   "source": [
    "<div class=\"alert alert-success\">\n",
    "<h2> Комментарий ревьюера <a class=\"tocSkip\"> </h2>\n",
    "\n",
    "<b>Все отлично!👍</b> "
   ]
  },
  {
   "cell_type": "code",
   "execution_count": null,
   "id": "b883740c",
   "metadata": {},
   "outputs": [],
   "source": [
    "CAT_COL.append('county_location')"
   ]
  },
  {
   "cell_type": "code",
   "execution_count": null,
   "id": "e387dfc2",
   "metadata": {},
   "outputs": [],
   "source": [
    "get_info(df)"
   ]
  },
  {
   "cell_type": "markdown",
   "id": "38eb93ac",
   "metadata": {},
   "source": [
    "Идем дальше."
   ]
  },
  {
   "cell_type": "markdown",
   "id": "4111d790",
   "metadata": {},
   "source": [
    "### distance"
   ]
  },
  {
   "cell_type": "markdown",
   "id": "24af2a7e",
   "metadata": {},
   "source": [
    "По описанию это растояние до главной дороги в метрах. Звучит важно, посмотрим что с цифрами тут"
   ]
  },
  {
   "cell_type": "code",
   "execution_count": null,
   "id": "722dfe95",
   "metadata": {},
   "outputs": [],
   "source": [
    "plt.xlabel(\"Растояние\")\n",
    "plt.ylabel(\"количество локаций\")\n",
    "plt.title(\"Столбец distance\")\n",
    "df['distance'].hist()\n",
    "plt.show()"
   ]
  },
  {
   "cell_type": "markdown",
   "id": "8f686fa1",
   "metadata": {},
   "source": [
    "<div class=\"alert alert-warning\">\n",
    "    <h2> Комментарий ревьюера <a class=\"tocSkip\"> </h2>\n",
    "    \n",
    "<b>Некоторые замечания и рекомендации💡:</b> \n",
    "        \n",
    "Здесь стоит исправить заголовок и подпись оси y"
   ]
  },
  {
   "cell_type": "markdown",
   "id": "5eabc7be",
   "metadata": {},
   "source": [
    "Думаю тут лучше поможет \"ящик с усами\""
   ]
  },
  {
   "cell_type": "code",
   "execution_count": null,
   "id": "05e56aaf",
   "metadata": {},
   "outputs": [],
   "source": [
    "plt.ylabel(\"Растояние\")\n",
    "plt.title(\"Столбец distance\")\n",
    "plt.boxplot(df['distance'])\n",
    "plt.show()"
   ]
  },
  {
   "cell_type": "markdown",
   "id": "836b55f6",
   "metadata": {},
   "source": [
    "<div class=\"alert alert-warning\">\n",
    "    <h2> Комментарий ревьюера <a class=\"tocSkip\"> </h2>\n",
    "    \n",
    "<b>Некоторые замечания и рекомендации💡:</b> \n",
    "        \n",
    "Здесь также стоит исправить заголовок."
   ]
  },
  {
   "cell_type": "code",
   "execution_count": null,
   "id": "8a600150",
   "metadata": {},
   "outputs": [],
   "source": [
    "df['distance'].describe()"
   ]
  },
  {
   "cell_type": "markdown",
   "id": "694e164d",
   "metadata": {},
   "source": [
    "Как видно есть один выброс, по скольку в 1500 км от главной жороги можно врезаться только в дерево в лесу, думаю это значение можно спокойно удалить, но прежде нужно посмотреть на это строку."
   ]
  },
  {
   "cell_type": "code",
   "execution_count": null,
   "id": "4bd35a8b",
   "metadata": {},
   "outputs": [],
   "source": [
    "df.loc[df['distance'] == df['distance'].max()]"
   ]
  },
  {
   "cell_type": "markdown",
   "id": "ed229ea7",
   "metadata": {},
   "source": [
    "Думаю без этих двух значений мы переживем."
   ]
  },
  {
   "cell_type": "code",
   "execution_count": null,
   "id": "8d5ba719",
   "metadata": {},
   "outputs": [],
   "source": [
    "df = df.loc[df['distance'] != df['distance'].max()]"
   ]
  },
  {
   "cell_type": "markdown",
   "id": "b8816815",
   "metadata": {},
   "source": [
    "<div class=\"alert alert-success\">\n",
    "<h2> Комментарий ревьюера <a class=\"tocSkip\"> </h2>\n",
    "\n",
    "<b>Все отлично!👍:</b> \n",
    "    \n",
    "Молодец, что обрабатываешь аномалии."
   ]
  },
  {
   "cell_type": "code",
   "execution_count": null,
   "id": "532b2533",
   "metadata": {},
   "outputs": [],
   "source": [
    "plt.ylabel(\"Растояние\")\n",
    "plt.title(\"Столбец distance\")\n",
    "plt.boxplot(df['distance'])\n",
    "plt.show()"
   ]
  },
  {
   "cell_type": "markdown",
   "id": "78d7dbf6",
   "metadata": {},
   "source": [
    "<div class=\"alert alert-warning\">\n",
    "    <h2> Комментарий ревьюера <a class=\"tocSkip\"> </h2>\n",
    "    \n",
    "<b>Некоторые замечания и рекомендации💡:</b> \n",
    "        \n",
    "Здесь также стоит исправить заголовок"
   ]
  },
  {
   "cell_type": "code",
   "execution_count": null,
   "id": "467421f8",
   "metadata": {},
   "outputs": [],
   "source": [
    "df['distance'].describe()"
   ]
  },
  {
   "cell_type": "markdown",
   "id": "9fe6e722",
   "metadata": {},
   "source": [
    "Так уже на много лучше, теперь можно оценить какие данные оставить."
   ]
  },
  {
   "cell_type": "markdown",
   "id": "d8c16197",
   "metadata": {},
   "source": [
    "Думаю если оставить 85% данных то будет в самый раз."
   ]
  },
  {
   "cell_type": "code",
   "execution_count": null,
   "id": "fbbb6f3a",
   "metadata": {},
   "outputs": [],
   "source": [
    "distance_count = df['distance'].value_counts().sort_index()\n",
    "leght = len(distance_count)\n",
    "distance_sum = distance_count.sum()\n",
    "for i in range(leght):\n",
    "    if distance_count[:i+1].sum()/distance_sum > .85: \n",
    "        break\n",
    "i"
   ]
  },
  {
   "cell_type": "code",
   "execution_count": null,
   "id": "fc00a445",
   "metadata": {},
   "outputs": [],
   "source": [
    "distance_count.head(999)"
   ]
  },
  {
   "cell_type": "markdown",
   "id": "c2b8848c",
   "metadata": {},
   "source": [
    "Получается 85% аварий произошли в пределах 900м от главной дороги, остановимся на одном км."
   ]
  },
  {
   "cell_type": "code",
   "execution_count": null,
   "id": "ee91baa3",
   "metadata": {},
   "outputs": [],
   "source": [
    "df = df.loc[df['distance'] <=1000].reset_index(drop=True)"
   ]
  },
  {
   "cell_type": "code",
   "execution_count": null,
   "id": "2fbb1945",
   "metadata": {},
   "outputs": [],
   "source": [
    "plt.xlabel(\"Растояние\")\n",
    "plt.ylabel(\"Количество событий\")\n",
    "plt.title(\"Столбец distance\")\n",
    "plt.hist(df['distance'])\n",
    "plt.show()"
   ]
  },
  {
   "cell_type": "code",
   "execution_count": null,
   "id": "19e574a1",
   "metadata": {
    "scrolled": true
   },
   "outputs": [],
   "source": [
    "df['distance'].describe()"
   ]
  },
  {
   "cell_type": "markdown",
   "id": "919f437c",
   "metadata": {},
   "source": [
    "Теперь на много лучше, даже распределение получилось Геометрическим."
   ]
  },
  {
   "cell_type": "markdown",
   "id": "2d7c12b7",
   "metadata": {},
   "source": [
    "<div class=\"alert alert-warning\">\n",
    "    <h2> Комментарий ревьюера <a class=\"tocSkip\"> </h2>\n",
    "    \n",
    "<b>Некоторые замечания и рекомендации💡:</b> \n",
    "        \n",
    "Скорее это геометрическое распределение, а не нормальное."
   ]
  },
  {
   "cell_type": "markdown",
   "id": "79eff613",
   "metadata": {},
   "source": [
    "<div class=\"alert alert-block alert-info\">\n",
    "<b>Изменения:</b> Спасибо)\n",
    "</div>"
   ]
  },
  {
   "cell_type": "markdown",
   "id": "d6773685",
   "metadata": {},
   "source": [
    "<div class=\"alert alert-success\">\n",
    "<h2> Комментарий ревьюера №2<a class=\"tocSkip\"> </h2>\n",
    "\n",
    "<b>Все отлично!👍</b> "
   ]
  },
  {
   "attachments": {
    "image.png": {
     "image/png": "[encoded data removed]"
    }
   },
   "cell_type": "markdown",
   "id": "9e75a9b6",
   "metadata": {},
   "source": [
    "![image.png](attachment:image.png)"
   ]
  },
  {
   "cell_type": "markdown",
   "id": "390591f3",
   "metadata": {},
   "source": [
    "### direction"
   ]
  },
  {
   "cell_type": "markdown",
   "id": "d95f2566",
   "metadata": {},
   "source": [
    "Данный столбец отвечает за направление движения, кажется что он не сильно нужен."
   ]
  },
  {
   "cell_type": "code",
   "execution_count": null,
   "id": "f24ee625",
   "metadata": {},
   "outputs": [],
   "source": [
    "df['direction'].isna().sum()/len(df)"
   ]
  },
  {
   "cell_type": "markdown",
   "id": "592f765b",
   "metadata": {},
   "source": [
    "При условии, что тут 31% пропусков. Убираем."
   ]
  },
  {
   "cell_type": "code",
   "execution_count": null,
   "id": "2fb4b88c",
   "metadata": {},
   "outputs": [],
   "source": [
    "df = df.drop(columns=['direction'], axis =1)\n",
    "get_info(df)"
   ]
  },
  {
   "cell_type": "markdown",
   "id": "7315a0ce",
   "metadata": {},
   "source": [
    "Следующий"
   ]
  },
  {
   "cell_type": "markdown",
   "id": "78bdf7ad",
   "metadata": {},
   "source": [
    "### intersection"
   ]
  },
  {
   "cell_type": "markdown",
   "id": "ee765e80",
   "metadata": {},
   "source": [
    "Тут хранится информация было ли проишествие на перекрестке. Кажется, что это важный столбец, есть пропуски но их не много, думаю можно просто заполнить как не указаные."
   ]
  },
  {
   "cell_type": "markdown",
   "id": "4dcfdb30",
   "metadata": {},
   "source": [
    "Так же это категориальный столбец добавляем в списко."
   ]
  },
  {
   "cell_type": "code",
   "execution_count": null,
   "id": "a1860f4a",
   "metadata": {},
   "outputs": [],
   "source": [
    "CAT_COL.append('intersection')"
   ]
  },
  {
   "cell_type": "code",
   "execution_count": null,
   "id": "88db1ebd",
   "metadata": {},
   "outputs": [],
   "source": [
    "df['intersection'].isna().sum()"
   ]
  },
  {
   "cell_type": "code",
   "execution_count": null,
   "id": "0492e9ce",
   "metadata": {},
   "outputs": [],
   "source": [
    "df['intersection'].unique()"
   ]
  },
  {
   "cell_type": "markdown",
   "id": "21235f3f",
   "metadata": {},
   "source": [
    "Очень интересно, в описании написано, что тут должный быть значения *Y*, *N*, *-*, а видим *1*,*0*"
   ]
  },
  {
   "cell_type": "markdown",
   "id": "34faece5",
   "metadata": {},
   "source": [
    "По скольку тут всего 700 пропусков, это 0.4% от всей выборки, так что можно просто удалить."
   ]
  },
  {
   "cell_type": "code",
   "execution_count": null,
   "id": "a39b874c",
   "metadata": {},
   "outputs": [],
   "source": [
    "df = df.dropna(subset = ['intersection']).reset_index(drop=True)"
   ]
  },
  {
   "cell_type": "markdown",
   "id": "759054f5",
   "metadata": {},
   "source": [
    "<div class=\"alert alert-success\">\n",
    "<h2> Комментарий ревьюера <a class=\"tocSkip\"> </h2>\n",
    "\n",
    "<b>Все отлично!👍:</b> \n",
    "    \n",
    "Молодец, что обрабатываешь аномальные значения."
   ]
  },
  {
   "cell_type": "code",
   "execution_count": null,
   "id": "68350879",
   "metadata": {},
   "outputs": [],
   "source": [
    "df['intersection'] = df['intersection'].astype(int)"
   ]
  },
  {
   "cell_type": "code",
   "execution_count": null,
   "id": "e695d4f4",
   "metadata": {
    "scrolled": false
   },
   "outputs": [],
   "source": [
    "get_info(df)"
   ]
  },
  {
   "cell_type": "markdown",
   "id": "78eb4799",
   "metadata": {},
   "source": [
    "Пропуски убрали, теперь посмотрим на распределение значений, есть чувство что на перекрестках аварий больше."
   ]
  },
  {
   "cell_type": "code",
   "execution_count": null,
   "id": "16afab20",
   "metadata": {
    "scrolled": true
   },
   "outputs": [],
   "source": [
    "plt.xlabel(\"На перекрестки ли была авария\")\n",
    "plt.ylabel(\"Количество событий\")\n",
    "plt.title(\"Столбец intersection\")\n",
    "plt.hist(df['intersection'])\n",
    "plt.show()"
   ]
  },
  {
   "cell_type": "markdown",
   "id": "2cd857d9",
   "metadata": {},
   "source": [
    "Как видим все на оборот, большенство аварий были вне перекрестков."
   ]
  },
  {
   "cell_type": "markdown",
   "id": "b560a5c3",
   "metadata": {},
   "source": [
    "### weather_1"
   ]
  },
  {
   "cell_type": "markdown",
   "id": "e71197f4",
   "metadata": {},
   "source": [
    "Как понятно из названия, это столбец с погодой при аварии. Думаю  он сыграет свою роль при обучении, по этому обработаем его и оставим. Так же он категориальный. По скольку других столбцов с погодой нет, думаю этот можно переименовать."
   ]
  },
  {
   "cell_type": "code",
   "execution_count": null,
   "id": "950c9d4e",
   "metadata": {},
   "outputs": [],
   "source": [
    "df = df.rename(columns={'weather_1': 'weather'})"
   ]
  },
  {
   "cell_type": "code",
   "execution_count": null,
   "id": "526bf73d",
   "metadata": {},
   "outputs": [],
   "source": [
    "CAT_COL.append('weather')"
   ]
  },
  {
   "cell_type": "code",
   "execution_count": null,
   "id": "f884d3b6",
   "metadata": {},
   "outputs": [],
   "source": [
    "df['weather'].isna().sum()"
   ]
  },
  {
   "cell_type": "code",
   "execution_count": null,
   "id": "3de643f8",
   "metadata": {
    "scrolled": true
   },
   "outputs": [],
   "source": [
    "df['weather'].unique()"
   ]
  },
  {
   "cell_type": "markdown",
   "id": "6503ceca",
   "metadata": {},
   "source": [
    "Тут значения совпадают с описанием, тут пропусков также очень мало, так что простот убираем."
   ]
  },
  {
   "cell_type": "code",
   "execution_count": null,
   "id": "cc2fabea",
   "metadata": {},
   "outputs": [],
   "source": [
    "df = df.dropna(subset = ['weather']).reset_index(drop=True)"
   ]
  },
  {
   "cell_type": "code",
   "execution_count": null,
   "id": "730936ac",
   "metadata": {},
   "outputs": [],
   "source": [
    "get_info(df)"
   ]
  },
  {
   "cell_type": "markdown",
   "id": "7f9b9011",
   "metadata": {},
   "source": [
    "Отлично. Теперь посмотрим на распределение."
   ]
  },
  {
   "cell_type": "code",
   "execution_count": null,
   "id": "acb6a064",
   "metadata": {},
   "outputs": [],
   "source": [
    "weather = df['weather'].value_counts()"
   ]
  },
  {
   "cell_type": "code",
   "execution_count": null,
   "id": "a0644ed0",
   "metadata": {},
   "outputs": [],
   "source": [
    "plt.xlabel(\"Погода\")\n",
    "plt.ylabel(\"Количество случаев\")\n",
    "plt.title(\"Столбец weather\")\n",
    "plt.bar(weather.index,weather.values)\n",
    "plt.show()"
   ]
  },
  {
   "cell_type": "markdown",
   "id": "6dd3da18",
   "metadata": {},
   "source": [
    "<div class=\"alert alert-warning\">\n",
    "    <h2> Комментарий ревьюера <a class=\"tocSkip\"> </h2>\n",
    "    \n",
    "<b>Некоторые замечания и рекомендации💡:</b> \n",
    "        \n",
    "Для визуализации распределений данных по категориям больше подходят графики столбчатых диаграмм\n",
    "        \n",
    "https://matplotlib.org/stable/api/_as_gen/matplotlib.pyplot.bar.html"
   ]
  },
  {
   "cell_type": "markdown",
   "id": "25f872e0",
   "metadata": {},
   "source": [
    "<div class=\"alert alert-block alert-info\">\n",
    "<b>Изменения:</b> 👌\n",
    "</div>"
   ]
  },
  {
   "cell_type": "markdown",
   "id": "bf5b2c4d",
   "metadata": {},
   "source": [
    "<div class=\"alert alert-success\">\n",
    "<h2> Комментарий ревьюера №2<a class=\"tocSkip\"> </h2>\n",
    "\n",
    "<b>Все отлично!👍</b> "
   ]
  },
  {
   "cell_type": "code",
   "execution_count": null,
   "id": "825dfc27",
   "metadata": {},
   "outputs": [],
   "source": [
    "df['weather'].value_counts()"
   ]
  },
  {
   "cell_type": "markdown",
   "id": "143546a0",
   "metadata": {},
   "source": [
    "Как видно, большинство случаев произошло в ясную и облачную погоду. Думаю что туман, снег и ветер можно объеденить в категорию \"другие\", по скольку их количество очень мало."
   ]
  },
  {
   "cell_type": "code",
   "execution_count": null,
   "id": "8735576a",
   "metadata": {},
   "outputs": [],
   "source": [
    "df.loc[(df['weather'] == 'fog') | (df['weather'] == 'snowing') | (df['weather'] == 'wind'), 'weather'] = 'other'"
   ]
  },
  {
   "cell_type": "markdown",
   "id": "58bba246",
   "metadata": {},
   "source": [
    "<div class=\"alert alert-success\">\n",
    "<h2> Комментарий ревьюера <a class=\"tocSkip\"> </h2>\n",
    "\n",
    "<b>Все отлично!👍:</b> \n",
    "    \n",
    "Молодец, что объединяешь малые категории"
   ]
  },
  {
   "cell_type": "code",
   "execution_count": null,
   "id": "8e69cb4e",
   "metadata": {},
   "outputs": [],
   "source": [
    "df['weather'].value_counts()"
   ]
  },
  {
   "cell_type": "markdown",
   "id": "d303ee16",
   "metadata": {},
   "source": [
    "Теперь лучше."
   ]
  },
  {
   "cell_type": "markdown",
   "id": "8a216d9e",
   "metadata": {},
   "source": [
    "### location_type"
   ]
  },
  {
   "cell_type": "markdown",
   "id": "88f43baf",
   "metadata": {},
   "source": [
    "Тут описан тип дороги. Этот столбец самый бедный на информацию. Думаю можео его даже не рассматривать."
   ]
  },
  {
   "cell_type": "code",
   "execution_count": null,
   "id": "2ff43301",
   "metadata": {},
   "outputs": [],
   "source": [
    "df = df.drop(columns=['location_type'], axis =1)\n",
    "get_info(df)"
   ]
  },
  {
   "cell_type": "markdown",
   "id": "c8aae7b9",
   "metadata": {},
   "source": [
    "### collision_damage"
   ]
  },
  {
   "cell_type": "markdown",
   "id": "55eff84f",
   "metadata": {},
   "source": [
    "Тут описаны типы повреждений автомобилей. Как мне кажется этот столбец не нужет, так как мы заранее не можем узнать силу аварии и будет ли она вообще. Этот столбец можно было бы использовать для предсказания силы повреждения, но это не наша задача. Убираем."
   ]
  },
  {
   "cell_type": "code",
   "execution_count": null,
   "id": "e89e4902",
   "metadata": {},
   "outputs": [],
   "source": [
    "df = df.drop(columns=['collision_damage'], axis =1)\n",
    "get_info(df) "
   ]
  },
  {
   "cell_type": "markdown",
   "id": "7d5d059a",
   "metadata": {},
   "source": [
    "### party_count "
   ]
  },
  {
   "cell_type": "markdown",
   "id": "f58a8bb4",
   "metadata": {},
   "source": [
    "Количество участников аварии, логика таже что и с силой пвреждений."
   ]
  },
  {
   "cell_type": "code",
   "execution_count": null,
   "id": "13dd29f2",
   "metadata": {},
   "outputs": [],
   "source": [
    "df = df.drop(columns=['party_count'], axis =1)\n",
    "get_info(df) "
   ]
  },
  {
   "cell_type": "markdown",
   "id": "a78965a5",
   "metadata": {},
   "source": [
    "### primary_collision_factor "
   ]
  },
  {
   "cell_type": "markdown",
   "id": "00cce36d",
   "metadata": {},
   "source": [
    "Фактор аварии, тоже долой."
   ]
  },
  {
   "cell_type": "code",
   "execution_count": null,
   "id": "471824f6",
   "metadata": {},
   "outputs": [],
   "source": [
    "df = df.drop(columns=['primary_collision_factor'], axis =1)\n",
    "get_info(df) "
   ]
  },
  {
   "cell_type": "markdown",
   "id": "938e9f0d",
   "metadata": {},
   "source": [
    "### pcf_violation_category"
   ]
  },
  {
   "cell_type": "markdown",
   "id": "43c1a137",
   "metadata": {},
   "source": [
    "Категория нарушения, не можем узнать до аварии."
   ]
  },
  {
   "cell_type": "code",
   "execution_count": null,
   "id": "0c82f0d4",
   "metadata": {},
   "outputs": [],
   "source": [
    "df = df.drop(columns=['pcf_violation_category'], axis =1)\n",
    "get_info(df) "
   ]
  },
  {
   "cell_type": "markdown",
   "id": "0d2380f4",
   "metadata": {},
   "source": [
    "### type_of_collision"
   ]
  },
  {
   "cell_type": "markdown",
   "id": "9b0ce457",
   "metadata": {},
   "source": [
    "Тип аварии, убираем."
   ]
  },
  {
   "cell_type": "code",
   "execution_count": null,
   "id": "42318dba",
   "metadata": {},
   "outputs": [],
   "source": [
    "df = df.drop(columns=['type_of_collision'], axis =1)\n",
    "get_info(df) "
   ]
  },
  {
   "cell_type": "markdown",
   "id": "fe2a8bc3",
   "metadata": {},
   "source": [
    "### motor_vehicle_involved_with"
   ]
  },
  {
   "cell_type": "markdown",
   "id": "c377f739",
   "metadata": {},
   "source": [
    "Все также причина, в будущее мы не умеем смотреть, удаляем."
   ]
  },
  {
   "cell_type": "code",
   "execution_count": null,
   "id": "731671b6",
   "metadata": {},
   "outputs": [],
   "source": [
    "df = df.drop(columns=['motor_vehicle_involved_with'], axis =1)\n",
    "get_info(df) "
   ]
  },
  {
   "cell_type": "markdown",
   "id": "61b1e4a9",
   "metadata": {},
   "source": [
    "### road_surface "
   ]
  },
  {
   "cell_type": "markdown",
   "id": "75708b3f",
   "metadata": {},
   "source": [
    "Состояние дороги, наконец-то столбец с которым можно порабоать. Категориальный столбец, достаточно полный на данные. "
   ]
  },
  {
   "cell_type": "code",
   "execution_count": null,
   "id": "79933f1e",
   "metadata": {},
   "outputs": [],
   "source": [
    "df['road_surface'].isna().sum()"
   ]
  },
  {
   "cell_type": "markdown",
   "id": "745289aa",
   "metadata": {},
   "source": [
    "пол процента пропусков, посмотрим на остальные значения."
   ]
  },
  {
   "cell_type": "code",
   "execution_count": null,
   "id": "4ca42bca",
   "metadata": {
    "scrolled": true
   },
   "outputs": [],
   "source": [
    "df['road_surface'].value_counts()"
   ]
  },
  {
   "cell_type": "markdown",
   "id": "38c1bc52",
   "metadata": {},
   "source": [
    "Есть две основные категории, сухая и мокрая, думаю можно сделать просто, пропуски удалить, а три категории (мокрая, снежная и скользкая) объеденить в одну. Просто создав новый столбец сукхая ли дорога `wet_road`"
   ]
  },
  {
   "cell_type": "code",
   "execution_count": null,
   "id": "a6a37974",
   "metadata": {},
   "outputs": [],
   "source": [
    "df = df.dropna(subset = ['road_surface']).reset_index(drop=True)"
   ]
  },
  {
   "cell_type": "markdown",
   "id": "866ab50e",
   "metadata": {},
   "source": [
    "<div class=\"alert alert-block alert-danger\">\n",
    "<h2> Комментарий ревьюера <a class=\"tocSkip\"></h2>\n",
    "\n",
    "    \n",
    "<b>На доработку🤔:</b>\n",
    "    \n",
    "Здесь ты удаляешь пропуски в столбце weather, а не в road_surface"
   ]
  },
  {
   "cell_type": "markdown",
   "id": "c5bf0d3a",
   "metadata": {},
   "source": [
    "<div class=\"alert alert-block alert-info\">\n",
    "<b>Изменения:</b> подправил\n",
    "</div>"
   ]
  },
  {
   "cell_type": "markdown",
   "id": "47b272f9",
   "metadata": {},
   "source": [
    "<div class=\"alert alert-success\">\n",
    "<h2> Комментарий ревьюера №2<a class=\"tocSkip\"> </h2>\n",
    "\n",
    "<b>Все отлично!👍</b> "
   ]
  },
  {
   "cell_type": "code",
   "execution_count": null,
   "id": "f243dc6e",
   "metadata": {},
   "outputs": [],
   "source": [
    "df['wet_road'] = 1"
   ]
  },
  {
   "cell_type": "code",
   "execution_count": null,
   "id": "bb727af1",
   "metadata": {},
   "outputs": [],
   "source": [
    "CAT_COL.append('wet_road')"
   ]
  },
  {
   "cell_type": "code",
   "execution_count": null,
   "id": "d38e5b91",
   "metadata": {},
   "outputs": [],
   "source": [
    "df.loc[df['road_surface'] == 'dry', 'wet_road'] = 0"
   ]
  },
  {
   "cell_type": "code",
   "execution_count": null,
   "id": "25f379f2",
   "metadata": {},
   "outputs": [],
   "source": [
    "df = df.drop(columns=['road_surface'], axis =1)\n",
    "get_info(df)"
   ]
  },
  {
   "cell_type": "markdown",
   "id": "56dff013",
   "metadata": {},
   "source": [
    "Отлично, идем дальше."
   ]
  },
  {
   "cell_type": "markdown",
   "id": "94d4d0b8",
   "metadata": {},
   "source": [
    "### road_condition_1"
   ]
  },
  {
   "cell_type": "markdown",
   "id": "958e2901",
   "metadata": {},
   "source": [
    "Даный столбец описывает состояние дорожного покрытия, кажется что даный столбец очень важен. Пропусков тут не так много."
   ]
  },
  {
   "cell_type": "code",
   "execution_count": null,
   "id": "302dadd8",
   "metadata": {},
   "outputs": [],
   "source": [
    "df['road_condition_1'].isna().sum()"
   ]
  },
  {
   "cell_type": "code",
   "execution_count": null,
   "id": "ed896b3f",
   "metadata": {},
   "outputs": [],
   "source": [
    "df['road_condition_1'].value_counts()"
   ]
  },
  {
   "cell_type": "markdown",
   "id": "88397742",
   "metadata": {},
   "source": [
    "Убираем пропуски, меняем названия и идем дальше."
   ]
  },
  {
   "cell_type": "code",
   "execution_count": null,
   "id": "a5159d64",
   "metadata": {},
   "outputs": [],
   "source": [
    "df = df.dropna(subset = ['road_condition_1']).reset_index(drop=True)"
   ]
  },
  {
   "cell_type": "code",
   "execution_count": null,
   "id": "9ac01a26",
   "metadata": {},
   "outputs": [],
   "source": [
    "df = df.rename(columns={'road_condition_1': 'road_condition'})"
   ]
  },
  {
   "cell_type": "code",
   "execution_count": null,
   "id": "b42e28c9",
   "metadata": {},
   "outputs": [],
   "source": [
    "CAT_COL.append('road_condition')"
   ]
  },
  {
   "cell_type": "markdown",
   "id": "148e8b49",
   "metadata": {},
   "source": [
    "### lighting"
   ]
  },
  {
   "cell_type": "markdown",
   "id": "5c3480cc",
   "metadata": {},
   "source": [
    "Дорожное освещение, очень важный столбец. "
   ]
  },
  {
   "cell_type": "code",
   "execution_count": null,
   "id": "47ccf114",
   "metadata": {},
   "outputs": [],
   "source": [
    "df['lighting'].isna().sum()"
   ]
  },
  {
   "cell_type": "code",
   "execution_count": null,
   "id": "154addd4",
   "metadata": {},
   "outputs": [],
   "source": [
    "df['lighting'].value_counts()"
   ]
  },
  {
   "cell_type": "markdown",
   "id": "fc7b23b8",
   "metadata": {},
   "source": [
    "В принципе по распределению все не плохо, просто убирем пропуски."
   ]
  },
  {
   "cell_type": "code",
   "execution_count": null,
   "id": "d21edfda",
   "metadata": {},
   "outputs": [],
   "source": [
    "df = df.dropna(subset = ['lighting']).reset_index(drop=True)"
   ]
  },
  {
   "cell_type": "code",
   "execution_count": null,
   "id": "292d544d",
   "metadata": {},
   "outputs": [],
   "source": [
    "CAT_COL.append('lighting')"
   ]
  },
  {
   "cell_type": "markdown",
   "id": "ab384b05",
   "metadata": {},
   "source": [
    "### control_device"
   ]
  },
  {
   "cell_type": "markdown",
   "id": "cbedf7fd",
   "metadata": {},
   "source": [
    "Устройство управления, очень расплывчатое описане, не понятно про что тут говорится."
   ]
  },
  {
   "cell_type": "markdown",
   "id": "1e4f5830",
   "metadata": {},
   "source": [
    "<div class=\"alert alert-warning\">\n",
    "    <h2> Комментарий ревьюера <a class=\"tocSkip\"> </h2>\n",
    "    \n",
    "<b>Некоторые замечания и рекомендации💡:</b> \n",
    "        \n",
    "Control Devices\n",
    "In a modern automobile, control devices are used to actuate door locks, deck lids, head lamp covers, windows, seats, antennas etc.\n",
    "        \n",
    "http://what-when-how.com/automobile/control-devices-automobile/\n",
    "        \n",
    "То есть - это также характеристика автомобиля."
   ]
  },
  {
   "cell_type": "code",
   "execution_count": null,
   "id": "4499e529",
   "metadata": {},
   "outputs": [],
   "source": [
    "df['control_device'].value_counts()"
   ]
  },
  {
   "cell_type": "code",
   "execution_count": null,
   "id": "cd506bcc",
   "metadata": {},
   "outputs": [],
   "source": [
    "df['control_device'].isna().sum()"
   ]
  },
  {
   "cell_type": "markdown",
   "id": "abd2984c",
   "metadata": {},
   "source": [
    "Оставим даный столбец, просто поступим как с состоянием дороги, пропуски заменим на отсутсвие и обеденим значения \"none\" и \"not functioning\" это 0, а \"functioning\" с \"obscured\" это 1."
   ]
  },
  {
   "cell_type": "code",
   "execution_count": null,
   "id": "86cc8110",
   "metadata": {},
   "outputs": [],
   "source": [
    "df['control_device'] = df['control_device'].fillna(0)\n",
    "df.loc[(df['control_device'] == 'functioning') | (df['control_device'] == 'obscured'), 'control_device'] = 1\n",
    "df.loc[(df['control_device'] == 'none') | (df['control_device'] == 'not functioning'), 'control_device'] = 0"
   ]
  },
  {
   "cell_type": "code",
   "execution_count": null,
   "id": "32a1d0ce",
   "metadata": {},
   "outputs": [],
   "source": [
    "df['control_device'].value_counts()"
   ]
  },
  {
   "cell_type": "code",
   "execution_count": null,
   "id": "841287b0",
   "metadata": {},
   "outputs": [],
   "source": [
    "CAT_COL.append('control_device')"
   ]
  },
  {
   "cell_type": "markdown",
   "id": "498c9132",
   "metadata": {},
   "source": [
    "Отлично, идем дальше."
   ]
  },
  {
   "cell_type": "markdown",
   "id": "809c3348",
   "metadata": {},
   "source": [
    "### collision_date"
   ]
  },
  {
   "cell_type": "markdown",
   "id": "b5954e49",
   "metadata": {},
   "source": [
    "Дата аварии, кажется что это важный столбец, но по факту без точной географии события, он безполезен. Можно было-бы вытащить времена года, но в экваториальнеых районах нет вообще сезонности, а в другом полушарии они вообще инвертированы. Так что просто пропустим."
   ]
  },
  {
   "cell_type": "code",
   "execution_count": null,
   "id": "097dee13",
   "metadata": {},
   "outputs": [],
   "source": [
    "df = df.drop(columns=['collision_date'], axis =1)\n",
    "get_info(df) "
   ]
  },
  {
   "cell_type": "markdown",
   "id": "9c37a69f",
   "metadata": {},
   "source": [
    "### collision_time"
   ]
  },
  {
   "cell_type": "markdown",
   "id": "95fd1fba",
   "metadata": {},
   "source": [
    "Тут стоит время разбить на 4 категории, утро с 6 до 12, день с 13 до 18, вечер с 19 до 23 и ночь с 00 до 5. Но опять же в зависимости от широты, это рамки будут двигаться."
   ]
  },
  {
   "cell_type": "code",
   "execution_count": null,
   "id": "a8e8ab1f",
   "metadata": {},
   "outputs": [],
   "source": [
    "def get_day_time (df):\n",
    "    time = df['collision_time'].hour\n",
    "    if time >= 0 and time < 6: return (\"night\")\n",
    "    elif time >= 6 and time < 13: return (\"morning\")\n",
    "    elif time >= 13 and time < 18: return (\"day\")\n",
    "    else: return (\"evening\")"
   ]
  },
  {
   "cell_type": "code",
   "execution_count": null,
   "id": "5ad448ec",
   "metadata": {},
   "outputs": [],
   "source": [
    "df['collision_time'].isna().sum()"
   ]
  },
  {
   "cell_type": "code",
   "execution_count": null,
   "id": "faf5dbe4",
   "metadata": {},
   "outputs": [],
   "source": [
    "df = df.dropna(subset = ['collision_time']).reset_index(drop=True)"
   ]
  },
  {
   "cell_type": "code",
   "execution_count": null,
   "id": "5ea98db2",
   "metadata": {},
   "outputs": [],
   "source": [
    "df['collision_time'] = df.apply(get_day_time,axis=1)"
   ]
  },
  {
   "cell_type": "markdown",
   "id": "887696e3",
   "metadata": {},
   "source": [
    "<div class=\"alert alert-success\">\n",
    "<h2> Комментарий ревьюера <a class=\"tocSkip\"> </h2>\n",
    "\n",
    "<b>Все отлично!👍:</b> \n",
    "    \n",
    "Молодец, что создаешь собственные признаки на основе имеющихся."
   ]
  },
  {
   "cell_type": "code",
   "execution_count": null,
   "id": "c9642d76",
   "metadata": {},
   "outputs": [],
   "source": [
    "df['collision_time'].value_counts()"
   ]
  },
  {
   "cell_type": "code",
   "execution_count": null,
   "id": "a7f37c32",
   "metadata": {},
   "outputs": [],
   "source": [
    "CAT_COL.append('collision_time')"
   ]
  },
  {
   "cell_type": "code",
   "execution_count": null,
   "id": "7c491043",
   "metadata": {},
   "outputs": [],
   "source": [
    "get_info(df)"
   ]
  },
  {
   "cell_type": "markdown",
   "id": "809d215c",
   "metadata": {},
   "source": [
    "Распределение почти равномерное, за исключением ночи."
   ]
  },
  {
   "cell_type": "markdown",
   "id": "cd69a655",
   "metadata": {},
   "source": [
    "### party_number_1"
   ]
  },
  {
   "cell_type": "markdown",
   "id": "e343d3e4",
   "metadata": {},
   "source": [
    "Номер участника проишествия. Думаю данный столбец нам не нужен."
   ]
  },
  {
   "cell_type": "code",
   "execution_count": null,
   "id": "d02492b9",
   "metadata": {},
   "outputs": [],
   "source": [
    "df = df.drop(columns=['party_number_1'], axis =1)\n",
    "get_info(df) "
   ]
  },
  {
   "cell_type": "markdown",
   "id": "48abfdde",
   "metadata": {},
   "source": [
    "### party_type"
   ]
  },
  {
   "cell_type": "markdown",
   "id": "b54b7e20",
   "metadata": {},
   "source": [
    "Тип участника проишествия, у нас только один, машины. Так что этот столбец тоже бесполезен."
   ]
  },
  {
   "cell_type": "code",
   "execution_count": null,
   "id": "dfe1c842",
   "metadata": {},
   "outputs": [],
   "source": [
    "df = df.drop(columns=['party_type'], axis =1)\n",
    "get_info(df) "
   ]
  },
  {
   "cell_type": "markdown",
   "id": "a78656d2",
   "metadata": {},
   "source": [
    "### at_fault"
   ]
  },
  {
   "cell_type": "markdown",
   "id": "987749fb",
   "metadata": {},
   "source": [
    "Виновность участника, это основной наш столбец, который нужно научиться предсказывать."
   ]
  },
  {
   "cell_type": "code",
   "execution_count": null,
   "id": "3036ed37",
   "metadata": {},
   "outputs": [],
   "source": [
    "plt.xlabel(\"Виновность\")\n",
    "plt.ylabel(\"Количество случаев\")\n",
    "plt.title(\"Столбец at_fault\")\n",
    "plt.hist(df['at_fault'])\n",
    "plt.show()"
   ]
  },
  {
   "cell_type": "markdown",
   "id": "647f23c6",
   "metadata": {},
   "source": [
    "Распределение почти равномерно, так что этот столбец можно не трогать."
   ]
  },
  {
   "cell_type": "markdown",
   "id": "dfe724d7",
   "metadata": {},
   "source": [
    "<div class=\"alert alert-success\">\n",
    "<h2> Комментарий ревьюера <a class=\"tocSkip\"> </h2>\n",
    "\n",
    "<b>Все отлично!👍:</b> \n",
    "    \n",
    "Молодец, что оцениваешь баланс классов в целевом признаке."
   ]
  },
  {
   "cell_type": "markdown",
   "id": "d8246ded",
   "metadata": {},
   "source": [
    "### insurance_premium"
   ]
  },
  {
   "cell_type": "markdown",
   "id": "9b196a56",
   "metadata": {},
   "source": [
    "Страховая выплата, тут для нас нету полезной информации. Так что просто удаляем."
   ]
  },
  {
   "cell_type": "code",
   "execution_count": null,
   "id": "68d341a4",
   "metadata": {},
   "outputs": [],
   "source": [
    "df = df.drop(columns=['insurance_premium'], axis =1)\n",
    "get_info(df) "
   ]
  },
  {
   "cell_type": "markdown",
   "id": "06beed43",
   "metadata": {},
   "source": [
    "### party_sobriety"
   ]
  },
  {
   "cell_type": "markdown",
   "id": "4a269cb7",
   "metadata": {},
   "source": [
    "Трезвость водителя, очень крутой параметр, но жаль нельзя его узнать до старта поездки."
   ]
  },
  {
   "cell_type": "markdown",
   "id": "a011b824",
   "metadata": {},
   "source": [
    "<div class=\"alert alert-warning\">\n",
    "    <h2> Комментарий ревьюера <a class=\"tocSkip\"> </h2>\n",
    "    \n",
    "<b>Некоторые замечания и рекомендации💡:</b> \n",
    "        \n",
    "Одно из возможных предложений по итогам данного исследования оборудовать автомобиль тестером на алкогольное опьянение, без использования которого поездка не начинается. Так что можно и оставить этот признак, если учесть такой вариант. И если этот признак действительно окажется важным для модели."
   ]
  },
  {
   "cell_type": "markdown",
   "id": "f2b9c3ee",
   "metadata": {},
   "source": [
    "<div class=\"alert alert-block alert-info\">\n",
    "<b>Изменения:</b> Тут тогда встает два вопроса:\n",
    "    \n",
    "    1. Техническая реализация.  \n",
    "    2. Если человек пьян, то нельзя ему вообще ехать за рулем и данный столбце теряет смысл.\n",
    "</div>"
   ]
  },
  {
   "cell_type": "markdown",
   "id": "987c3cfd",
   "metadata": {},
   "source": [
    "<div class=\"alert alert-warning\">\n",
    "    <h2> Комментарий ревьюера №2<a class=\"tocSkip\"> </h2>\n",
    "    \n",
    "<b>Некоторые замечания и рекомендации💡:</b> \n",
    "        \n",
    "1. оборудовать автомобиль алкометром.\n",
    "        \n",
    "2. Да, здесь согласна."
   ]
  },
  {
   "cell_type": "code",
   "execution_count": null,
   "id": "6e1f9a5b",
   "metadata": {},
   "outputs": [],
   "source": [
    "df = df.drop(columns=['party_sobriety'], axis =1)\n",
    "get_info(df) "
   ]
  },
  {
   "cell_type": "markdown",
   "id": "0dc14be8",
   "metadata": {},
   "source": [
    "### party_drug_physical"
   ]
  },
  {
   "cell_type": "markdown",
   "id": "b0bca18d",
   "metadata": {},
   "source": [
    "Как и предыдущий столбец, очень информативен, но информацию заранее не получить."
   ]
  },
  {
   "cell_type": "code",
   "execution_count": null,
   "id": "d9231b9c",
   "metadata": {},
   "outputs": [],
   "source": [
    "df = df.drop(columns=['party_drug_physical'], axis =1)\n",
    "get_info(df) "
   ]
  },
  {
   "cell_type": "markdown",
   "id": "69ed9325",
   "metadata": {},
   "source": [
    "### cellphone_in_use"
   ]
  },
  {
   "cell_type": "markdown",
   "id": "14faa293",
   "metadata": {},
   "source": [
    "Возможность разговора по громкой связи, прекрасный столбец. Посмотьрим на него по ближе."
   ]
  },
  {
   "cell_type": "code",
   "execution_count": null,
   "id": "2bedc19f",
   "metadata": {},
   "outputs": [],
   "source": [
    "df['cellphone_in_use'].isna().sum()"
   ]
  },
  {
   "cell_type": "markdown",
   "id": "2b0577a7",
   "metadata": {},
   "source": [
    "Пропусков очень много, хотя кажется что данная информация должна быть у каршеринг фирмы. Тут тогдапросто создадим дополнительную категорию `unknown` по скольку тут почти 10% строк с пропусками."
   ]
  },
  {
   "cell_type": "code",
   "execution_count": null,
   "id": "aaff124f",
   "metadata": {},
   "outputs": [],
   "source": [
    "df['cellphone_in_use'] = df['cellphone_in_use'].fillna('unknown')"
   ]
  },
  {
   "cell_type": "code",
   "execution_count": null,
   "id": "5c2b12a7",
   "metadata": {},
   "outputs": [],
   "source": [
    "df['cellphone_in_use'].isna().sum()"
   ]
  },
  {
   "cell_type": "code",
   "execution_count": null,
   "id": "329dbb3b",
   "metadata": {},
   "outputs": [],
   "source": [
    "df['cellphone_in_use'] = df['cellphone_in_use'].astype(str)"
   ]
  },
  {
   "cell_type": "code",
   "execution_count": null,
   "id": "e2b16800",
   "metadata": {},
   "outputs": [],
   "source": [
    "df['cellphone_in_use'].value_counts()"
   ]
  },
  {
   "cell_type": "code",
   "execution_count": null,
   "id": "c7d33670",
   "metadata": {},
   "outputs": [],
   "source": [
    "CAT_COL.append('cellphone_in_use')"
   ]
  },
  {
   "cell_type": "markdown",
   "id": "ebd1a7a6",
   "metadata": {},
   "source": [
    "У очень маленького количества автомобилей есть такая возможность. Очень странно для 2012 года."
   ]
  },
  {
   "cell_type": "markdown",
   "id": "52ab9b4e",
   "metadata": {},
   "source": [
    "### party_number_2"
   ]
  },
  {
   "cell_type": "markdown",
   "id": "86f4e216",
   "metadata": {},
   "source": [
    "Тоже самое что и party_number_1."
   ]
  },
  {
   "cell_type": "code",
   "execution_count": null,
   "id": "e9cd6d2b",
   "metadata": {},
   "outputs": [],
   "source": [
    "df = df.drop(columns=['party_number_2'], axis =1)\n",
    "get_info(df) "
   ]
  },
  {
   "cell_type": "markdown",
   "id": "a507e370",
   "metadata": {},
   "source": [
    "### vehicle_type"
   ]
  },
  {
   "cell_type": "markdown",
   "id": "a44334c2",
   "metadata": {},
   "source": [
    "Тип кузова автомобиля, не понятно будет ли влиять данная вещь на аварии, но пусть будет."
   ]
  },
  {
   "cell_type": "code",
   "execution_count": null,
   "id": "78cc1c01",
   "metadata": {},
   "outputs": [],
   "source": [
    "df['vehicle_type'].isna().sum()"
   ]
  },
  {
   "cell_type": "markdown",
   "id": "9ac7ca7f",
   "metadata": {},
   "source": [
    "Пропусков нет, прекрасно."
   ]
  },
  {
   "cell_type": "code",
   "execution_count": null,
   "id": "887d17d8",
   "metadata": {},
   "outputs": [],
   "source": [
    "plt.xlabel(\"Тип кузова\")\n",
    "plt.ylabel(\"Количество машин\")\n",
    "plt.title(\"Столбец vehicle_type\")\n",
    "plt.hist(df['vehicle_type'])\n",
    "plt.show()"
   ]
  },
  {
   "cell_type": "code",
   "execution_count": null,
   "id": "2e51921f",
   "metadata": {},
   "outputs": [],
   "source": [
    "df['vehicle_type'].value_counts()"
   ]
  },
  {
   "cell_type": "code",
   "execution_count": null,
   "id": "4cdc1d33",
   "metadata": {},
   "outputs": [],
   "source": [
    "CAT_COL.append('vehicle_type')"
   ]
  },
  {
   "cell_type": "markdown",
   "id": "cc29740a",
   "metadata": {},
   "source": [
    "Видим что подовляющее число имеют седаны и купе. Интересно."
   ]
  },
  {
   "cell_type": "markdown",
   "id": "f0ff145b",
   "metadata": {},
   "source": [
    "### vehicle_transmission"
   ]
  },
  {
   "cell_type": "markdown",
   "id": "56bb450c",
   "metadata": {},
   "source": [
    "Тип КПП. Думаю тоже важный столбец, по скольку АКПП так сказать с защитой от дураков, в отличии от МКПП."
   ]
  },
  {
   "cell_type": "markdown",
   "id": "beed3472",
   "metadata": {},
   "source": [
    "<div class=\"alert alert-warning\">\n",
    "    <h2> Комментарий ревьюера <a class=\"tocSkip\"> </h2>\n",
    "    \n",
    "<b>Некоторые замечания и рекомендации💡:</b> \n",
    "        \n",
    "Интересно посмотреть действительно ли больше виновных в аварии ездили на МКПП."
   ]
  },
  {
   "cell_type": "markdown",
   "id": "84ee9a2b",
   "metadata": {},
   "source": [
    "<div class=\"alert alert-block alert-info\">\n",
    "<b>Изменения:</b> Сейчас и посмотрим.\n",
    "</div>"
   ]
  },
  {
   "cell_type": "markdown",
   "id": "14db671a",
   "metadata": {},
   "source": [
    "<div class=\"alert alert-success\">\n",
    "<h2> Комментарий ревьюера №2<a class=\"tocSkip\"> </h2>\n",
    "\n",
    "<b>Все отлично!👍</b> "
   ]
  },
  {
   "cell_type": "code",
   "execution_count": null,
   "id": "e26f9fbf",
   "metadata": {},
   "outputs": [],
   "source": [
    "df.loc[df['at_fault'] == 1, 'vehicle_transmission'].value_counts()"
   ]
  },
  {
   "cell_type": "code",
   "execution_count": null,
   "id": "c8db6b58",
   "metadata": {},
   "outputs": [],
   "source": [
    "df.loc[df['at_fault'] == 0, 'vehicle_transmission'].value_counts()"
   ]
  },
  {
   "cell_type": "markdown",
   "id": "ac34449c",
   "metadata": {},
   "source": [
    "<div class=\"alert alert-block alert-info\">\n",
    "<b>Изменения:</b> +- одинаково\n",
    "</div>"
   ]
  },
  {
   "cell_type": "code",
   "execution_count": null,
   "id": "1d7ad5ff",
   "metadata": {},
   "outputs": [],
   "source": [
    "df['vehicle_transmission'].isna().sum()"
   ]
  },
  {
   "cell_type": "markdown",
   "id": "52b58e17",
   "metadata": {},
   "source": [
    "Пропусков достаточно много, по этому заменим их на `unknown`."
   ]
  },
  {
   "cell_type": "code",
   "execution_count": null,
   "id": "49a5be41",
   "metadata": {},
   "outputs": [],
   "source": [
    "df['vehicle_transmission'] = df['vehicle_transmission'].fillna('unknown')"
   ]
  },
  {
   "cell_type": "code",
   "execution_count": null,
   "id": "ce813d30",
   "metadata": {},
   "outputs": [],
   "source": [
    "df['vehicle_transmission'].value_counts()"
   ]
  },
  {
   "cell_type": "code",
   "execution_count": null,
   "id": "146eb4d4",
   "metadata": {},
   "outputs": [],
   "source": [
    "CAT_COL.append('vehicle_transmission')"
   ]
  },
  {
   "cell_type": "markdown",
   "id": "9470fc7e",
   "metadata": {},
   "source": [
    "Разниица не очень большая, между МКПП и АКПП."
   ]
  },
  {
   "cell_type": "markdown",
   "id": "b7bf712a",
   "metadata": {},
   "source": [
    "### vehicle_age"
   ]
  },
  {
   "cell_type": "markdown",
   "id": "e2be7c2f",
   "metadata": {},
   "source": [
    "Возраст автомобиля, важный столбец, чем страше автомобиль, тем больше вероятность отказа."
   ]
  },
  {
   "cell_type": "code",
   "execution_count": null,
   "id": "f27813a1",
   "metadata": {},
   "outputs": [],
   "source": [
    "df['vehicle_age'].isna().sum()"
   ]
  },
  {
   "cell_type": "markdown",
   "id": "1da6e8d0",
   "metadata": {},
   "source": [
    "Тут пропусков еще больше, выход тот же."
   ]
  },
  {
   "cell_type": "code",
   "execution_count": null,
   "id": "84b82a35",
   "metadata": {},
   "outputs": [],
   "source": [
    "df['vehicle_age'] = df['vehicle_age'].fillna(-1)"
   ]
  },
  {
   "cell_type": "code",
   "execution_count": null,
   "id": "7e4edbc6",
   "metadata": {},
   "outputs": [],
   "source": [
    "df['vehicle_age'].value_counts()"
   ]
  },
  {
   "cell_type": "markdown",
   "id": "d7c9f175",
   "metadata": {},
   "source": [
    "Как видно, большая часть машин достаточно молодая, до 10 лет. Но есть и откровенный старичек 161 год, при условии что первый офоциальный автомобиль был создан в 1886, никакой другой не может быть старше него, это явно опечатка или что-то еще, просто уберем."
   ]
  },
  {
   "cell_type": "code",
   "execution_count": null,
   "id": "b84cb700",
   "metadata": {},
   "outputs": [],
   "source": [
    "df = df.loc[df['vehicle_age'] != 161].reset_index(drop=True)"
   ]
  },
  {
   "cell_type": "markdown",
   "id": "ba71dc65",
   "metadata": {},
   "source": [
    "<div class=\"alert alert-success\">\n",
    "<h2> Комментарий ревьюера <a class=\"tocSkip\"> </h2>\n",
    "\n",
    "<b>Все отлично!👍</b> \n",
    "    "
   ]
  },
  {
   "cell_type": "code",
   "execution_count": null,
   "id": "0ceda162",
   "metadata": {
    "scrolled": false
   },
   "outputs": [],
   "source": [
    "get_info(df)"
   ]
  },
  {
   "cell_type": "markdown",
   "id": "e9e87e50",
   "metadata": {},
   "source": [
    "<div class=\"alert alert-warning\">\n",
    "    <h2> Комментарий ревьюера <a class=\"tocSkip\"> </h2>\n",
    "    \n",
    "<b>Некоторые замечания и рекомендации💡:</b> \n",
    "        \n",
    "Тебе не кажется, что удачнее возраст авто оставить численным признаком и пропуски заполнить подходящим этому образом?"
   ]
  },
  {
   "cell_type": "markdown",
   "id": "6049cec1",
   "metadata": {},
   "source": [
    "<div class=\"alert alert-block alert-info\">\n",
    "<b>Изменения:</b> Посещала такая идея, но видимо когда в первый раз делал, решил по дргуому.\n",
    "</div>"
   ]
  },
  {
   "cell_type": "markdown",
   "id": "c3438e9b",
   "metadata": {},
   "source": [
    "<div class=\"alert alert-warning\">\n",
    "    <h2> Комментарий ревьюера №2<a class=\"tocSkip\"> </h2>\n",
    "    \n",
    "<b>Некоторые замечания и рекомендации💡:</b> \n",
    "        \n",
    "Метрика может быть лучше."
   ]
  },
  {
   "cell_type": "markdown",
   "id": "18ee87bf",
   "metadata": {},
   "source": [
    "Тут больше делать нечего.\n"
   ]
  },
  {
   "cell_type": "markdown",
   "id": "d6001834",
   "metadata": {},
   "source": [
    "### Вывод"
   ]
  },
  {
   "cell_type": "markdown",
   "id": "93450093",
   "metadata": {},
   "source": [
    "Все столбцы подготовлены, лишние убраны, пропусков нет. Из изначальных 33 столбцов осталось 14 и 225778 строк удалили 34347, это почти 15% даных, считаю это допустимая потеря."
   ]
  },
  {
   "cell_type": "markdown",
   "id": "a7559370",
   "metadata": {},
   "source": [
    "## Разбитие на выборки, кодировка и масштабирование данных"
   ]
  },
  {
   "cell_type": "markdown",
   "id": "902e902e",
   "metadata": {},
   "source": [
    "Для дальнейшего обучения моделей необходимо закодировать категориальные данные, отмасштабировать численые и разбить на необхдимые выборки."
   ]
  },
  {
   "cell_type": "markdown",
   "id": "26b40be5",
   "metadata": {},
   "source": [
    "### Выборки"
   ]
  },
  {
   "cell_type": "code",
   "execution_count": null,
   "id": "dcf5d51e",
   "metadata": {},
   "outputs": [],
   "source": [
    "train, test = train_test_split(df, test_size=.2, random_state=RANDOM_STATE)\n",
    "train, vall = train_test_split(train, test_size=.25, random_state=RANDOM_STATE)"
   ]
  },
  {
   "cell_type": "code",
   "execution_count": null,
   "id": "f5eeb296",
   "metadata": {},
   "outputs": [],
   "source": [
    "get_info(train)"
   ]
  },
  {
   "cell_type": "code",
   "execution_count": null,
   "id": "5257ca97",
   "metadata": {},
   "outputs": [],
   "source": [
    "get_info(vall)"
   ]
  },
  {
   "cell_type": "code",
   "execution_count": null,
   "id": "127140dc",
   "metadata": {},
   "outputs": [],
   "source": [
    "get_info(test)"
   ]
  },
  {
   "cell_type": "markdown",
   "id": "22a93491",
   "metadata": {},
   "source": [
    "Есть три выборки, теперь нужно закодировать и отмасштабировать."
   ]
  },
  {
   "cell_type": "markdown",
   "id": "961f3fd8",
   "metadata": {},
   "source": [
    "###  OHE"
   ]
  },
  {
   "cell_type": "code",
   "execution_count": null,
   "id": "a92dbaff",
   "metadata": {
    "scrolled": true
   },
   "outputs": [],
   "source": [
    "encoder_ohe = OneHotEncoder(drop='first', handle_unknown='error', sparse=False)\n",
    "encoder_ohe.fit(train[CAT_COL])"
   ]
  },
  {
   "cell_type": "markdown",
   "id": "ad3f654e",
   "metadata": {},
   "source": [
    "<div class=\"alert alert-warning\">\n",
    "    <h2> Комментарий ревьюера №2<a class=\"tocSkip\"> </h2>\n",
    "    \n",
    "<b>Некоторые замечания и рекомендации💡:</b> \n",
    "        \n",
    "Здесь в процессе ревью снова упало ядро, продолжу в colab"
   ]
  },
  {
   "cell_type": "code",
   "execution_count": null,
   "id": "ad93d324",
   "metadata": {},
   "outputs": [],
   "source": [
    "train_ohe = train.copy()\n",
    "train_ohe[encoder_ohe.get_feature_names_out()] = encoder_ohe.transform(train[CAT_COL])\n",
    "train_ohe = train_ohe.drop(CAT_COL, axis=1)"
   ]
  },
  {
   "cell_type": "code",
   "execution_count": null,
   "id": "99b129f5",
   "metadata": {},
   "outputs": [],
   "source": [
    "test_ohe = test.copy()\n",
    "test_ohe[encoder_ohe.get_feature_names_out()] = encoder_ohe.transform(test[CAT_COL])\n",
    "test_ohe = test_ohe.drop(CAT_COL, axis=1)"
   ]
  },
  {
   "cell_type": "code",
   "execution_count": null,
   "id": "4105a2f8",
   "metadata": {},
   "outputs": [],
   "source": [
    "vall_ohe = vall.copy()\n",
    "vall_ohe[encoder_ohe.get_feature_names_out()] = encoder_ohe.transform(vall[CAT_COL])\n",
    "vall_ohe = vall_ohe.drop(CAT_COL, axis=1)"
   ]
  },
  {
   "cell_type": "code",
   "execution_count": null,
   "id": "3fc5bd45",
   "metadata": {
    "scrolled": true
   },
   "outputs": [],
   "source": [
    "CAT_COL"
   ]
  },
  {
   "cell_type": "markdown",
   "id": "e9b63d4d",
   "metadata": {},
   "source": [
    "<div class=\"alert alert-success\">\n",
    "<h2> Комментарий ревьюера <a class=\"tocSkip\"> </h2>\n",
    "\n",
    "<b>Все отлично!👍:</b> \n",
    "    \n",
    "    \n",
    "Кодирование проведено верно, молодец."
   ]
  },
  {
   "cell_type": "code",
   "execution_count": null,
   "id": "6c917b53",
   "metadata": {
    "scrolled": false
   },
   "outputs": [],
   "source": [
    "get_info(train_ohe)\n",
    "get_info(test_ohe)\n",
    "get_info(vall_ohe)"
   ]
  },
  {
   "cell_type": "markdown",
   "id": "aff1baa9",
   "metadata": {},
   "source": [
    "Почти 200 столбцов, много но ничего не поделать. "
   ]
  },
  {
   "cell_type": "markdown",
   "id": "f50c69f9",
   "metadata": {},
   "source": [
    "### Масштабирование"
   ]
  },
  {
   "cell_type": "code",
   "execution_count": null,
   "id": "e2fb1b9d",
   "metadata": {},
   "outputs": [],
   "source": [
    "X_train = train_ohe.drop('at_fault', axis=1)\n",
    "Y_train = train_ohe['at_fault']\n",
    "X_vall = vall_ohe.drop('at_fault', axis=1)\n",
    "Y_vall = vall_ohe['at_fault']\n",
    "X_test = test_ohe.drop('at_fault', axis=1)\n",
    "Y_test = test_ohe['at_fault']"
   ]
  },
  {
   "cell_type": "code",
   "execution_count": null,
   "id": "ebdf319b",
   "metadata": {},
   "outputs": [],
   "source": [
    "column = X_train.columns\n",
    "scaler = StandardScaler()\n",
    "scaler.fit(X_train[column])\n",
    "pd.options.mode.chained_assignment = None"
   ]
  },
  {
   "cell_type": "markdown",
   "id": "17cbaf0a",
   "metadata": {},
   "source": [
    "<div class=\"alert alert-warning\">\n",
    "    <h2> Комментарий ревьюера <a class=\"tocSkip\"> </h2>\n",
    "    \n",
    "<b>Некоторые замечания и рекомендации💡:</b> \n",
    "        \n",
    "Не обязательно масштабировать one-hot признаки, это не имеет особого смыслы к тому же такое центрирование может негативно сказываться на качестве модели"
   ]
  },
  {
   "cell_type": "markdown",
   "id": "61e7e8ba",
   "metadata": {},
   "source": [
    "<div class=\"alert alert-block alert-info\">\n",
    "<b>Изменения:</b> Согласен, что можно кодировать только численые признаки, но это тогда нужно их отдельно указывать, а по факту всех предыдущих экспериментов, модлеи показывают абсолютно одинаковые результаты, с кодированием и без.\n",
    "</div>"
   ]
  },
  {
   "cell_type": "markdown",
   "id": "059e8cbf",
   "metadata": {},
   "source": [
    "<div class=\"alert alert-warning\">\n",
    "    <h2> Комментарий ревьюера №2<a class=\"tocSkip\"> </h2>\n",
    "    \n",
    "<b>Некоторые замечания и рекомендации💡:</b> \n",
    "        \n",
    "Да, все верно, можно в переменную column сохранить только численные признаки."
   ]
  },
  {
   "cell_type": "code",
   "execution_count": null,
   "id": "578a12a9",
   "metadata": {},
   "outputs": [],
   "source": [
    "X_train[column] = scaler.transform(X_train[column])\n",
    "X_test[column] = scaler.transform(X_test[column])\n",
    "X_vall[column] = scaler.transform(X_vall[column])"
   ]
  },
  {
   "cell_type": "markdown",
   "id": "f595d950",
   "metadata": {},
   "source": [
    "<div class=\"alert alert-success\">\n",
    "<h2> Комментарий ревьюера <a class=\"tocSkip\"> </h2>\n",
    "\n",
    "<b>Все отлично!👍:</b> \n",
    "    \n",
    "Алгоритм масштабирования корректный, молодец."
   ]
  },
  {
   "cell_type": "code",
   "execution_count": null,
   "id": "4b093ffc",
   "metadata": {},
   "outputs": [],
   "source": [
    "get_info(X_train)\n",
    "get_info(X_test)\n",
    "get_info(X_vall)"
   ]
  },
  {
   "cell_type": "markdown",
   "id": "90cdbe19",
   "metadata": {},
   "source": [
    "Все готово для обучения. "
   ]
  },
  {
   "cell_type": "markdown",
   "id": "bda6dad8",
   "metadata": {},
   "source": [
    "## Модели"
   ]
  },
  {
   "cell_type": "markdown",
   "id": "0d5b2860",
   "metadata": {},
   "source": [
    "Для решения данной задачи будем использовать будем использовать следующие модели:\n",
    "- LogisticRegression\n",
    "- RandomForestClassifier\n",
    "- CatBoostClassifier\n",
    "- Нейроная сеть"
   ]
  },
  {
   "cell_type": "markdown",
   "id": "edc51d98",
   "metadata": {},
   "source": [
    "<div class=\"alert alert-success\">\n",
    "<h2> Комментарий ревьюера <a class=\"tocSkip\"> </h2>\n",
    "\n",
    "<b>Все отлично!👍</b> \n",
    "    "
   ]
  },
  {
   "cell_type": "markdown",
   "id": "cf77e3e2",
   "metadata": {},
   "source": [
    "Прежде чем приступить к обуению нужно решить какую использовать метрику."
   ]
  },
  {
   "cell_type": "markdown",
   "id": "6f66e019",
   "metadata": {},
   "source": [
    "Как мне кажется для нашей задачи подойте Recall так как нам важно не допустить ДТП, то есть если шанс высокий но мы не предложим другой маршрут, то пострадают люди и мы получим убытки. При этом мы можем всем говорить оъезжать и не получить никакого результата, так что наш выбор падает на баланс между precision и Recall, это f1 - метрика."
   ]
  },
  {
   "cell_type": "markdown",
   "id": "08d590e6",
   "metadata": {},
   "source": [
    "<div class=\"alert alert-success\">\n",
    "<h2> Комментарий ревьюера <a class=\"tocSkip\"> </h2>\n",
    "\n",
    "<b>Все отлично!👍:</b> \n",
    "    \n",
    "Отлично, что есть обоснование выбора метрики."
   ]
  },
  {
   "cell_type": "markdown",
   "id": "2014d513",
   "metadata": {},
   "source": [
    "### LogisticRegression"
   ]
  },
  {
   "cell_type": "markdown",
   "id": "49097689",
   "metadata": {},
   "source": [
    "Теперь все есть для обучения."
   ]
  },
  {
   "cell_type": "code",
   "execution_count": null,
   "id": "a27ee133",
   "metadata": {},
   "outputs": [],
   "source": [
    "warnings.filterwarnings(\"ignore\")\n",
    "parametrs = {\"max_iter\": range(100,900,100),\n",
    "             \"penalty\": ['l1', 'l2', 'elasticnet', 'none']}\n",
    "model_LR = GridSearchCV(LogisticRegression(random_state=RANDOM_STATE,class_weight='balanced'),\n",
    "                        parametrs,\n",
    "                        verbose = 3,\n",
    "                        cv=2,\n",
    "                        scoring = 'f1')\n",
    "model_LR.fit(X_train, Y_train)\n",
    "display(model_LR.best_params_)\n",
    "display(model_LR.best_score_)"
   ]
  },
  {
   "cell_type": "code",
   "execution_count": null,
   "id": "9e192ce6",
   "metadata": {},
   "outputs": [],
   "source": [
    "f1_score(Y_vall,model_LR.predict(X_vall))"
   ]
  },
  {
   "cell_type": "markdown",
   "id": "32cedeb7",
   "metadata": {},
   "source": [
    "Не высокий результат, посмотрим как себя поведут другие модели"
   ]
  },
  {
   "cell_type": "markdown",
   "id": "27884700",
   "metadata": {},
   "source": [
    "<div class=\"alert alert-success\">\n",
    "<h2> Комментарий ревьюера <a class=\"tocSkip\"> </h2>\n",
    "\n",
    "<b>Все отлично!👍:</b> \n",
    "    \n",
    "Молодец, что подбираешь гиперпараметры."
   ]
  },
  {
   "cell_type": "markdown",
   "id": "98a2c835",
   "metadata": {},
   "source": [
    "### RandomForestClassifier"
   ]
  },
  {
   "cell_type": "code",
   "execution_count": null,
   "id": "da1fd3a4",
   "metadata": {},
   "outputs": [],
   "source": [
    "parametrs = { 'max_depth': range (6,9),\n",
    "                'min_samples_leaf': range (2,5),\n",
    "                'min_samples_split': range (7,17,2),\n",
    "                'n_estimators' : range(2,102,50)}\n",
    "model_forest = GridSearchCV(RandomForestClassifier(random_state= RANDOM_STATE, class_weight = 'balanced'), \n",
    "                    parametrs, \n",
    "                    scoring = 'f1', \n",
    "                    verbose = 3,\n",
    "                    cv=2)\n",
    "model_forest.fit(X_train, Y_train)\n",
    "display(model_forest.best_params_)\n",
    "display(model_forest.best_score_)\n",
    "bot_send(f'{model_forest.best_score_}')\n",
    "for s in model_forest.best_params_:\n",
    "    bot_send (f'{s}: {model_forest.best_params_[s]}')"
   ]
  },
  {
   "cell_type": "markdown",
   "id": "ad32fbf8",
   "metadata": {},
   "source": [
    "<div class=\"alert alert-block alert-danger\">\n",
    "<h2> Комментарий ревьюера <a class=\"tocSkip\"></h2>\n",
    "\n",
    "    \n",
    "<b>На доработку🤔:</b>\n",
    "    \n",
    "Тестовая выборка - это отложенная иммитация реальных данных, стоит исключить ее использование до этапа тестирования лучшей модели. В процессе анализа моделей нам достаточно качества на кросс-валидации или на валидационной выборке (она у тебя выделена)."
   ]
  },
  {
   "cell_type": "markdown",
   "id": "11fa2638",
   "metadata": {},
   "source": [
    "Хуже чем регресия."
   ]
  },
  {
   "cell_type": "markdown",
   "id": "eb3cfd5f",
   "metadata": {},
   "source": [
    "### CatBoostClassifier"
   ]
  },
  {
   "cell_type": "code",
   "execution_count": null,
   "id": "7cd23460",
   "metadata": {},
   "outputs": [],
   "source": [
    "parametrs = {'depth' :[2],\n",
    "            'iterations' : range(100,1101,200),\n",
    "            'learning_rate' : [.7,.8,.9,1],\n",
    "            'l2_leaf_reg':[3]}\n",
    "cbc = GridSearchCV(CatBoostClassifier(random_seed= RANDOM_STATE,\n",
    "                        logging_level='Silent',\n",
    "                        auto_class_weights='Balanced'), \n",
    "                    parametrs, \n",
    "                    scoring = 'f1',\n",
    "                    verbose = 3,\n",
    "                    cv=3)\n",
    "cbc.fit(X_train, Y_train)\n",
    "print (cbc.best_params_)\n",
    "print (cbc.best_score_)\n",
    "bot_send(f'{cbc.best_score_}')\n",
    "for s in cbc.best_params_:\n",
    "    bot_send (f'{s}: {cbc.best_params_[s]}')"
   ]
  },
  {
   "cell_type": "markdown",
   "id": "47c32468",
   "metadata": {},
   "source": [
    "<div class=\"alert alert-warning\">\n",
    "    <h2> Комментарий ревьюера <a class=\"tocSkip\"> </h2>\n",
    "    \n",
    "<b>Некоторые замечания и рекомендации💡:</b> \n",
    "        \n",
    "Если значение гиперпараметра никак не изменяется, то его необязательно передавать в GridSearch, можно сразу указать необходимое значение при инициализации модели."
   ]
  },
  {
   "cell_type": "markdown",
   "id": "a703997e",
   "metadata": {},
   "source": [
    "<div class=\"alert alert-block alert-info\">\n",
    "<b>Комментарий:</b> Это уже для себя, я же запускаю подбори несколько раз и каждый раз корректирую параметры. В данном случае просто видно, что этот параметр я перебрал и остановился на этом значении.\n",
    "</div>"
   ]
  },
  {
   "cell_type": "markdown",
   "id": "57ce3765",
   "metadata": {},
   "source": [
    "Катбуст показал схожие результаты с предыдущими моделями."
   ]
  },
  {
   "cell_type": "markdown",
   "id": "554ecc68",
   "metadata": {},
   "source": [
    "Посмотрим на какие элементы он больше обращал внимание."
   ]
  },
  {
   "cell_type": "code",
   "execution_count": null,
   "id": "eb379bf4",
   "metadata": {},
   "outputs": [],
   "source": [
    "best = cbc.best_estimator_\n",
    "f = best.feature_importances_\n",
    "n = best.feature_names_\n",
    "imp = {}\n",
    "for i in range(len(f)):\n",
    "    imp[n[i]] = f[i] "
   ]
  },
  {
   "cell_type": "markdown",
   "id": "a1d1e1c8",
   "metadata": {},
   "source": [
    "<div class=\"alert alert-success\">\n",
    "<h2> Комментарий ревьюера <a class=\"tocSkip\"> </h2>\n",
    "\n",
    "<b>Все отлично!👍:</b> \n",
    "    \n",
    "    \n",
    "Молодец, что оцениваешь важность признаков для модели."
   ]
  },
  {
   "cell_type": "code",
   "execution_count": null,
   "id": "999b528b",
   "metadata": {},
   "outputs": [],
   "source": [
    "proba = pd.DataFrame(list(imp.items()), columns = ['col1', 'col2'])"
   ]
  },
  {
   "cell_type": "code",
   "execution_count": null,
   "id": "a2608e84",
   "metadata": {},
   "outputs": [],
   "source": [
    "proba"
   ]
  },
  {
   "cell_type": "code",
   "execution_count": null,
   "id": "5304d001",
   "metadata": {},
   "outputs": [],
   "source": [
    "(proba.loc[proba['col2'] > .5]\n",
    " .style\n",
    " .background_gradient(cmap='bwr',axis=0)\n",
    " )"
   ]
  },
  {
   "cell_type": "markdown",
   "id": "d7402ae2",
   "metadata": {},
   "source": [
    "Интересно, самые важные значения для модлеи были, дистанция, время столкновения - ночь и тип кузова хэчбэк. Очень интересно."
   ]
  },
  {
   "cell_type": "markdown",
   "id": "64167a82",
   "metadata": {},
   "source": [
    "### Нейроная сеть"
   ]
  },
  {
   "cell_type": "markdown",
   "id": "27d7e7f7",
   "metadata": {},
   "source": [
    "Большие надежды возложены на нейроную сеть, посмотрим что она может.\n",
    "Для начала переведем данные в понятные для сети"
   ]
  },
  {
   "cell_type": "code",
   "execution_count": null,
   "id": "10bcb5f9",
   "metadata": {},
   "outputs": [],
   "source": [
    "X_train_tn = torch.FloatTensor(X_train.values)\n",
    "X_test_tn = torch.FloatTensor(X_test.values)\n",
    "X_vall_tn = torch.FloatTensor(X_vall.values)\n",
    "Y_train_tn = torch.FloatTensor(Y_train.values)\n",
    "Y_test_tn = torch.FloatTensor(Y_test.values)\n",
    "Y_vall_tn = torch.FloatTensor(Y_vall.values)"
   ]
  },
  {
   "cell_type": "code",
   "execution_count": null,
   "id": "0e6b1d72",
   "metadata": {},
   "outputs": [],
   "source": [
    "count_f_n = len(X_train_tn[0])"
   ]
  },
  {
   "cell_type": "markdown",
   "id": "16f00ac8",
   "metadata": {},
   "source": [
    "Теперь пропробуем создать простую сеть, что бы посмотреть на что она способна."
   ]
  },
  {
   "cell_type": "code",
   "execution_count": null,
   "id": "1f75c1b1",
   "metadata": {},
   "outputs": [],
   "source": [
    "n_neurons = [count_f_n, 12, 8, 15, 6, 1]\n",
    "net_layers = []\n",
    "\n",
    "for i in range(1, len(n_neurons) - 1):\n",
    "    net_layers.append(nn.Linear(n_neurons[i-1],n_neurons[i])) \n",
    "    if (i+1) % 2 == 0:\n",
    "            net_layers.append(nn.Tanh()) \n",
    "net_layers.append(nn.Linear(n_neurons[-2], n_neurons[-1]))\n",
    "net_layers.append(nn.Sigmoid())\n",
    "net = nn.Sequential(*net_layers)\n",
    "\n",
    "L1_train = []\n",
    "L1_test = []\n",
    "\n",
    "optimizer = torch.optim.Adam(net.parameters(),lr=1e-3)\n",
    "\n",
    "loss = nn.BCELoss()\n",
    "\n",
    "num_epochs = 1500\n",
    "for epoch in range(num_epochs):\n",
    "    net.train()\n",
    "    optimizer.zero_grad()\n",
    "    \n",
    "    preds = net.forward(X_train_tn).flatten()\n",
    "    loss_value = loss(preds, Y_train_tn)\n",
    "    loss_value.backward()\n",
    "    \n",
    "    optimizer.step()\n",
    "    \n",
    "    \n",
    "    if epoch % 100 == 0 or epoch == num_epochs-1:\n",
    "        train_pred = net.forward(X_train_tn).flatten()\n",
    "        L1_train.append(binary_f1_score(train_pred, Y_train_tn).detach().numpy())\n",
    "        net.eval()\n",
    "        vall_pred = net.forward(X_vall_tn).flatten()\n",
    "        L1 = binary_f1_score(vall_pred,Y_vall_tn)\n",
    "        L1_test.append(L1.detach().numpy())\n",
    "        print(epoch)"
   ]
  },
  {
   "cell_type": "markdown",
   "id": "c945e732",
   "metadata": {},
   "source": [
    "<div class=\"alert alert-warning\">\n",
    "    <h2> Комментарий ревьюера <a class=\"tocSkip\"> </h2>\n",
    "    \n",
    "<b>Некоторые замечания и рекомендации💡:</b> \n",
    "        \n",
    "Здесь у меня перестала справляться платформа, перехожу в colab"
   ]
  },
  {
   "cell_type": "markdown",
   "id": "e407c97e",
   "metadata": {},
   "source": [
    "<div class=\"alert alert-block alert-info\">\n",
    "<b>Комментарий:</b> Теперь должно быть все четко. Но сразу говорю, чуть ниже, где идет подбор параметров нейроной сети, подбор займет парялка 400 минут, ту ячейку можно не запускать, она ни на что не влияет.\n",
    "</div>"
   ]
  },
  {
   "cell_type": "markdown",
   "id": "cdb17e38",
   "metadata": {},
   "source": [
    "<div class=\"alert alert-warning\">\n",
    "    <h2> Комментарий ревьюера №2<a class=\"tocSkip\"> </h2>\n",
    "    \n",
    "<b>Некоторые замечания и рекомендации💡:</b> \n",
    "        \n",
    "Я там в колабе изменила количество нейронок, чтобы побыстрее справлялась)"
   ]
  },
  {
   "attachments": {
    "image.png": {
     "image/png": "[encoded data removed]"
    }
   },
   "cell_type": "markdown",
   "id": "fac20b89",
   "metadata": {},
   "source": [
    "![image.png](attachment:image.png)"
   ]
  },
  {
   "cell_type": "code",
   "execution_count": null,
   "id": "1df6e0ed",
   "metadata": {},
   "outputs": [],
   "source": [
    "x = np.array(range(0, len(L1_test)))\n",
    "plt.figure(figsize=(15,8))\n",
    "plt.title('Изменение ошибки на тесте и валидации от эпохи')\n",
    "plt.xlabel('Номер эпохи е2')\n",
    "plt.ylabel('f1')\n",
    "plt.plot(x,L1_train,label='Тренировочная')\n",
    "plt.plot(x,L1_test,label='Валидация')\n",
    "plt.legend(loc='best', fontsize=12)\n",
    "plt.show()"
   ]
  },
  {
   "cell_type": "markdown",
   "id": "b523197f",
   "metadata": {},
   "source": [
    "Очень слабый результат, возможно параметры не правильные. Попробуем перебрать несколько моделей со случаными параметрами."
   ]
  },
  {
   "cell_type": "code",
   "execution_count": null,
   "id": "67efd358",
   "metadata": {},
   "outputs": [],
   "source": [
    "def create_net (count_net, first_lay, count_lays, last_lay, count_neirons, count_epochs):\n",
    "    conf = []\n",
    "    for g in range(count_net):\n",
    "        print(g)\n",
    "        l = np.random.randint(count_lays[0],count_lays[1])\n",
    "        n_neurons = [first_lay]\n",
    "        net_layers = []\n",
    "        for j in range(l):\n",
    "            n_neurons.append(np.random.randint(count_neirons[0],count_neirons[1]))\n",
    "        n_neurons.append(last_lay)\n",
    "\n",
    "        for i in range(1, len(n_neurons) - 1):\n",
    "                net_layers.append(nn.Linear(n_neurons[i-1],n_neurons[i])) \n",
    "                if (i+1) % 2 == 0:\n",
    "                    if l > 30:\n",
    "                        net_layers.append(nn.SiLU())\n",
    "                    else:\n",
    "                         net_layers.append(nn.Tanh())\n",
    "        net_layers.append(nn.Linear(n_neurons[-2], n_neurons[-1]))\n",
    "        net_layers.append(nn.Sigmoid())\n",
    "        net = nn.Sequential(*net_layers)\n",
    "\n",
    "        L1_train = []\n",
    "        L1_test = []\n",
    "        \n",
    "        optimizer = torch.optim.Adam(net.parameters(),lr=1e-3)\n",
    "        conf.append([g,n_neurons])\n",
    "        loss = nn.BCELoss()\n",
    "\n",
    "        for epoch in range(count_epochs):\n",
    "            net.train()\n",
    "            optimizer.zero_grad()\n",
    "            \n",
    "            preds = net.forward(X_train_tn).flatten()\n",
    "            loss_value = loss(preds, Y_train_tn)\n",
    "            loss_value.backward()\n",
    "            \n",
    "            optimizer.step()\n",
    "            \n",
    "            if epoch % 100 == 0 or epoch == count_epochs-1:\n",
    "                print(epoch)\n",
    "                train_pred = net.forward(X_train_tn).flatten()\n",
    "                L1_train.append(binary_f1_score(train_pred, Y_train_tn).detach().numpy())\n",
    "                net.eval()\n",
    "                vall_pred = net.forward(X_vall_tn).flatten()\n",
    "                L1 = binary_f1_score(vall_pred,Y_vall_tn)\n",
    "                L1_test.append(L1.detach().numpy())\n",
    "        f1 = f1_score(Y_test_tn.detach(), np.around(net.forward(X_test_tn).flatten().detach().numpy()))\n",
    "        conf[g].append(f1)\n",
    "        x = np.array(range(0, len(L1_train)))\n",
    "        if (g + 1) % 10 == 1:\n",
    "            plt.figure(figsize=(20,12))\n",
    "            plt.title('Изменение ошибки на тесте и валидации от эпохи')\n",
    "            plt.xlabel('Номер эпохи е2')\n",
    "            plt.ylabel('f1')\n",
    "        plt.plot(x,L1_train,label=f'Train {g}')\n",
    "        plt.plot(x,L1_test,label=f'Test {g}')\n",
    "        plt.legend(loc='best', fontsize=12)\n",
    "        if (g + 1) % 10 == 0:\n",
    "            plt.show()\n",
    "    plt.figure(figsize=(20,12))\n",
    "    plt.title('Распределение ошибки по моделям')\n",
    "    plt.xlabel('Индекс сети')\n",
    "    plt.ylabel('f1')\n",
    "    for i in range(len(conf)):\n",
    "        plt.scatter(i,conf[i][2])\n",
    "        plt.annotate(f\"{i}\", xy=[i,conf[i][2]+1])\n",
    "    return (conf)"
   ]
  },
  {
   "cell_type": "code",
   "execution_count": null,
   "id": "a7d72eb1",
   "metadata": {},
   "outputs": [],
   "source": [
    "try:\n",
    "    conf = create_net(50,count_f_n,[0,40],1,[2,200],400)\n",
    "    bot_send('все')\n",
    "except:\n",
    "    bot_send('ошибка')"
   ]
  },
  {
   "cell_type": "markdown",
   "id": "19cf3414",
   "metadata": {},
   "source": [
    "Мы приблизились к результатам обычных моделей, уже что-то, постморим что из этого можно взять."
   ]
  },
  {
   "cell_type": "code",
   "execution_count": null,
   "id": "74544ca4",
   "metadata": {},
   "outputs": [],
   "source": [
    "result = pd.DataFrame(conf)"
   ]
  },
  {
   "cell_type": "code",
   "execution_count": null,
   "id": "633a0218",
   "metadata": {},
   "outputs": [],
   "source": [
    "result = result.loc[result[2] > .3]"
   ]
  },
  {
   "cell_type": "code",
   "execution_count": null,
   "id": "c3088bbd",
   "metadata": {},
   "outputs": [],
   "source": [
    "result"
   ]
  },
  {
   "cell_type": "code",
   "execution_count": null,
   "id": "c4b4fc25",
   "metadata": {},
   "outputs": [],
   "source": [
    "s = 0\n",
    "n =[]\n",
    "for j in result[1]:\n",
    "    s += len(j) - 2\n",
    "    for i in j[1:-1]:\n",
    "        n.append(i)\n",
    "print(s/len(result[1]))\n",
    "plt.hist(n,bins=100)\n",
    "plt.show()"
   ]
  },
  {
   "cell_type": "markdown",
   "id": "0f696ac5",
   "metadata": {},
   "source": [
    "Как видно, среднее количестов слоев 11 возьмем модели в этом диапозоне, а количество нейронов в районе 100"
   ]
  },
  {
   "cell_type": "code",
   "execution_count": null,
   "id": "cec494c1",
   "metadata": {},
   "outputs": [],
   "source": [
    "gkl = create_net(5,count_f_n,[8,13],1,[150,200],400)"
   ]
  },
  {
   "cell_type": "markdown",
   "id": "e6ba500b",
   "metadata": {},
   "source": [
    "Видно что нейронка не может найти необходмых закономерностей, попробему добавить бачи."
   ]
  },
  {
   "cell_type": "code",
   "execution_count": null,
   "id": "f8106842",
   "metadata": {},
   "outputs": [],
   "source": [
    "conf_bc = []\n",
    "x = np.array(range(0,200))\n",
    "for g in range(5):\n",
    "    print(g)\n",
    "    p = 0\n",
    "    d = 5\n",
    "    mean = [20000]\n",
    "    l = 4\n",
    "    n_neurons = [count_f_n]\n",
    "    net_layers1 = []\n",
    "    for j in [124, 86, 146, 196, 190, 102]:\n",
    "        n_neurons.append(j)\n",
    "    n_neurons.append(1)\n",
    "\n",
    "    for i in range(1, len(n_neurons) - 1):\n",
    "        net_layers1.append(nn.Linear(n_neurons[i-1],n_neurons[i])) \n",
    "        if (i+1) % 2 == 0:\n",
    "                net_layers1.append(nn.Tanh()) \n",
    "    net_layers1.append(nn.Linear(n_neurons[-2], n_neurons[-1]))\n",
    "    net_layers1.append(nn.Sigmoid())\n",
    "    net1 = nn.Sequential(*net_layers1)\n",
    "    L1_train = []   \n",
    "    L1_test = []\n",
    "    optimizer = torch.optim.Adam(net1.parameters(),lr=1e-3)\n",
    "    conf_bc.append([g,n_neurons])\n",
    "\n",
    "    loss = nn.BCELoss()\n",
    "    batch_size = 25000\n",
    "\n",
    "    num_epochs = 1000\n",
    "\n",
    "    num_batches = ceil(len(X_train_tn)/batch_size)\n",
    "\n",
    "    for epoch in range(num_epochs):\n",
    "        net1.train()\n",
    "        order = np.random.permutation(len(X_train_tn))\n",
    "        lo = []\n",
    "        for batch_idx in range(num_batches):\n",
    "            start_index = batch_idx * batch_size\n",
    "            optimizer.zero_grad()\n",
    "    \n",
    "            batch_indexes = order[start_index:start_index+batch_size]\n",
    "            X_batch = X_train_tn[batch_indexes]\n",
    "            y_batch = Y_train_tn[batch_indexes]\n",
    "    \n",
    "            preds = net1.forward(X_batch).flatten()\n",
    "            loss_value = loss(preds, y_batch)\n",
    "            lo.append(loss_value.detach().numpy())\n",
    "            loss_value.backward()\n",
    "                \n",
    "            optimizer.step()\n",
    "        \n",
    "        if (epoch + 1) % 100 == 0:\n",
    "            print(epoch)\n",
    "            L1_train.append(np.mean(lo))\n",
    "            net1.eval()\n",
    "            test_pred = net1.forward(X_vall_tn).flatten()\n",
    "            L1 = binary_f1_score(vall_pred,Y_vall_tn)\n",
    "            L1_test.append(L1.detach().numpy())\n",
    "            if (epoch + 1) % (d*100) == 0:\n",
    "                mean.append(sum(L1_test[p:p+d])/d)\n",
    "                p += d\n",
    "                if mean[-1] > mean[-2]: break\n",
    "                \n",
    "    f1 = f1_score(Y_test_tn.detach(), np.around(net.forward(X_test_tn).flatten().detach().numpy()))\n",
    "    conf_bc[g].append(f1)\n",
    "    conf_bc[g].append(net1)\n",
    "    if len(x) > len(L1_train): x = np.array(range(0, len(L1_train)))\n",
    "    if (g + 1) % 10 == 1:\n",
    "        plt.figure(figsize=(20,12))\n",
    "        plt.title('Изменение ошибки на тесте и валидации от эпохи')\n",
    "        plt.xlabel('Номер эпохи е2')\n",
    "        plt.ylabel('f1')        \n",
    "    plt.plot(x,L1_train[0:len(x)],label=f'Train {g}')\n",
    "    plt.plot(x,L1_test[0:len(x)],label=f'Test {g}')\n",
    "    plt.legend(loc='best', fontsize=12)\n",
    "    if (g + 1) % 10 == 0:\n",
    "        plt.show()\n",
    "plt.figure(figsize=(20,12))\n",
    "plt.title('Распределение ошибки по моделям')\n",
    "plt.xlabel('Индекс сети')\n",
    "plt.ylabel('f1')\n",
    "for i in range(len(conf_bc)):\n",
    "    plt.scatter(i,conf_bc[i][2])\n",
    "    plt.annotate(f\"{i}\", xy=[i,conf_bc[i][2]+1])\n",
    "plt.show()"
   ]
  },
  {
   "cell_type": "markdown",
   "id": "f6ded372",
   "metadata": {},
   "source": [
    "Так же результат не очень."
   ]
  },
  {
   "cell_type": "code",
   "execution_count": null,
   "id": "11eb2ea4",
   "metadata": {},
   "outputs": [],
   "source": [
    "nets = pd.DataFrame(conf_bc)"
   ]
  },
  {
   "cell_type": "code",
   "execution_count": null,
   "id": "b7518978",
   "metadata": {},
   "outputs": [],
   "source": [
    "nets"
   ]
  },
  {
   "cell_type": "code",
   "execution_count": null,
   "id": "c66be7d3",
   "metadata": {},
   "outputs": [],
   "source": [
    "t = nets[3][4]"
   ]
  },
  {
   "cell_type": "code",
   "execution_count": null,
   "id": "b6709c22",
   "metadata": {},
   "outputs": [],
   "source": [
    "f1_score(Y_vall_tn.detach(), np.around(t.forward(X_vall_tn).flatten().detach().numpy()))"
   ]
  },
  {
   "cell_type": "markdown",
   "id": "64c18d32",
   "metadata": {},
   "source": [
    "Есть идея, а что если брать ответы модели и их инвертировать."
   ]
  },
  {
   "cell_type": "code",
   "execution_count": null,
   "id": "858a94bc",
   "metadata": {},
   "outputs": [],
   "source": [
    "ans = np.around(t.forward(X_vall_tn).flatten().detach().numpy())\n",
    "for i in range(len(ans)):\n",
    "    if ans[i] == 0: ans[i] = 1\n",
    "    else: ans[i] = 0"
   ]
  },
  {
   "cell_type": "code",
   "execution_count": null,
   "id": "54af233d",
   "metadata": {},
   "outputs": [],
   "source": [
    "f1_score(Y_vall_tn.detach(),ans)"
   ]
  },
  {
   "cell_type": "markdown",
   "id": "d6ad6713",
   "metadata": {},
   "source": [
    "Почти 0.6 вот это уже что-то"
   ]
  },
  {
   "cell_type": "code",
   "execution_count": null,
   "id": "ff022b4f",
   "metadata": {},
   "outputs": [],
   "source": [
    "fig = plt.figure(figsize=(21, 12))\n",
    "\n",
    "probabilities_valid = model_LR.predict_proba(X_test)\n",
    "probabilities_one_valid = probabilities_valid[:, 1]\n",
    "fpr, tpr, thresholds = roc_curve(Y_test, probabilities_one_valid) \n",
    "fig.add_subplot(2,2,1).plot(fpr, tpr)\n",
    "plt.xlim([0.0, 1.0])\n",
    "plt.ylim([0.0, 1.0])\n",
    "plt.xlabel(\"False Positive Rate\")\n",
    "plt.ylabel(\"True Positive Rate\")\n",
    "plt.title(\"ROC-graph - LogisticRegression\")\n",
    "\n",
    "probabilities_valid = model_forest.predict_proba(X_test)\n",
    "probabilities_one_valid = probabilities_valid[:, 1]\n",
    "fpr, tpr, thresholds = roc_curve(Y_test, probabilities_one_valid) \n",
    "fig.add_subplot(2,2,2).plot(fpr, tpr)\n",
    "plt.xlim([0.0, 1.0])\n",
    "plt.ylim([0.0, 1.0])\n",
    "plt.xlabel(\"False Positive Rate\")\n",
    "plt.ylabel(\"True Positive Rate\")\n",
    "plt.title(\"ROC-graph - RandomForestClassifier\")\n",
    "\n",
    "probabilities_valid = cbc.predict_proba(X_test)\n",
    "probabilities_one_valid = probabilities_valid[:, 1]\n",
    "fpr, tpr, thresholds = roc_curve(Y_test, probabilities_one_valid) \n",
    "fig.add_subplot(2,2,3).plot(fpr, tpr)\n",
    "plt.xlim([0.0, 1.0])\n",
    "plt.ylim([0.0, 1.0])\n",
    "plt.xlabel(\"False Positive Rate\")\n",
    "plt.ylabel(\"True Positive Rate\")\n",
    "plt.title(\"ROC-graph - CatBoostClassifier\")\n",
    "\n",
    "probabilities_valid = t.forward(X_test_tn).flatten().detach().numpy()\n",
    "for i in range(len(probabilities_valid)):\n",
    "    probabilities_valid[i] = 1 - probabilities_valid[i]\n",
    "fpr, tpr, thresholds = roc_curve(Y_test_tn, probabilities_valid) \n",
    "fig.add_subplot(2,2,4).plot(fpr, tpr)\n",
    "plt.xlim([0.0, 1.0])\n",
    "plt.ylim([0.0, 1.0])\n",
    "plt.xlabel(\"False Positive Rate\")\n",
    "plt.ylabel(\"True Positive Rate\")\n",
    "plt.title(\"ROC-graph - Нейроная сеть\")\n",
    "plt.show()"
   ]
  },
  {
   "cell_type": "markdown",
   "id": "d670d0f4",
   "metadata": {},
   "source": [
    "Как видно из графиков, нейроная сеть имеет наибольшее качество, по этому для даной задачи, лучше использовать ее."
   ]
  },
  {
   "cell_type": "markdown",
   "id": "a9cf12a2",
   "metadata": {},
   "source": [
    "Соберем все данные в одном месте."
   ]
  },
  {
   "cell_type": "code",
   "execution_count": null,
   "id": "b3c1365e",
   "metadata": {},
   "outputs": [],
   "source": [
    "pd.DataFrame([['LogisticRegression',f1_score(Y_vall,model_LR.predict(X_vall)),roc_auc_score(Y_vall, model_LR.predict_proba(X_vall)[:, 1])],\n",
    "              ['RandomForestClassifier',f1_score(Y_vall,model_forest.predict(X_vall)), roc_auc_score(Y_vall, model_forest.predict_proba(X_vall)[:, 1])],\n",
    "              ['CatBoostClassifier',f1_score(Y_vall,cbc.predict(X_test)),roc_auc_score(Y_vall, cbc.predict_proba(X_vall)[:, 1])],\n",
    "              ['Нейроная сеть',f1_score(Y_vall_tn.detach(),ans),roc_auc_score(Y_vall_tn,probabilities_valid)]],\n",
    "            columns=['Название','f1_score','roc_auc_score'])"
   ]
  },
  {
   "cell_type": "markdown",
   "id": "7b2b5ac7",
   "metadata": {},
   "source": [
    "Как видно, нейроная сеть показывет лучшую метрику. Будем ее исследовать."
   ]
  },
  {
   "cell_type": "markdown",
   "id": "f738184e",
   "metadata": {},
   "source": [
    "### Оценка лучшей модели."
   ]
  },
  {
   "cell_type": "markdown",
   "id": "6a7a24c2",
   "metadata": {},
   "source": [
    "Теперь проведем оценку нейроной сети, построим Матрицу ошибок, оценим наиболее важные фичи."
   ]
  },
  {
   "cell_type": "code",
   "execution_count": null,
   "id": "dfd92900",
   "metadata": {},
   "outputs": [],
   "source": [
    "ans_test = np.around(t.forward(X_test_tn).flatten().detach().numpy())\n",
    "for i in range(len(ans_test)):\n",
    "    if ans_test[i] == 0: ans_test[i] = 1\n",
    "    else: ans_test[i] = 0\n",
    "matrix = pd.DataFrame(confusion_matrix(Y_test_tn, ans_test),\n",
    "                      index = [['Actual','Actual'],['False','True']],\n",
    "                      columns=[['Predict','Predict'],['False','True']])"
   ]
  },
  {
   "cell_type": "code",
   "execution_count": null,
   "id": "b9e06c6a",
   "metadata": {},
   "outputs": [],
   "source": [
    "f1_score(Y_test_tn.detach(), ans_test)"
   ]
  },
  {
   "cell_type": "code",
   "execution_count": null,
   "id": "5e99e3ce",
   "metadata": {},
   "outputs": [],
   "source": [
    "matrix"
   ]
  },
  {
   "cell_type": "code",
   "execution_count": null,
   "id": "fd5c11f5",
   "metadata": {},
   "outputs": [],
   "source": [
    "plt.figure(figsize=(15,8))\n",
    "plt.title('Метрики лучшей модели')\n",
    "plt.xlabel('Метрика')\n",
    "plt.ylabel('Величина')\n",
    "plt.bar(['precision','recall','f1'], [precision_score(Y_test_tn.detach(), ans_test), \n",
    "                                      recall_score(Y_test_tn.detach(), ans_test), \n",
    "                                      f1_score(Y_test_tn.detach(), ans_test)])\n",
    "plt.show()"
   ]
  },
  {
   "cell_type": "markdown",
   "id": "02018ac2",
   "metadata": {},
   "source": [
    "Для оценки важности фичей, напишем свою функцию, которая будет перемешивать столбце с данными несколько раз и считать среднюю метрику."
   ]
  },
  {
   "cell_type": "code",
   "execution_count": null,
   "id": "8bad8797",
   "metadata": {},
   "outputs": [],
   "source": [
    "result = [[],[]]\n",
    "for i in X_vall.columns:\n",
    "    X_shuffle = X_vall\n",
    "    f1 = 0 \n",
    "    for j in range(30):\n",
    "        shuff = list(X_vall[f\"{i}\"])\n",
    "        random.shuffle(shuff)\n",
    "        X_shuffle[f\"{i}\"] = shuff\n",
    "        X_shuffle_tn = torch.FloatTensor(X_shuffle.values)\n",
    "        ans_test = np.around(t.forward(X_shuffle_tn).flatten().detach().numpy())\n",
    "        for k in range(len(ans_test)):\n",
    "            if ans_test[k] == 0: ans_test[k] = 1\n",
    "            else: ans_test[k] = 0\n",
    "        f1 += f1_score(Y_vall_tn.detach(), ans_test)\n",
    "    print(f'{i} - {f1/30}')\n",
    "    result[0].append(i)\n",
    "    result[1].append(f1/30)"
   ]
  },
  {
   "cell_type": "code",
   "execution_count": null,
   "id": "b79ec356",
   "metadata": {},
   "outputs": [],
   "source": [
    "ans_test = np.around(t.forward(X_vall_tn).flatten().detach().numpy())\n",
    "for k in range(len(ans_test)):\n",
    "    if ans_test[k] == 0: ans_test[k] = 1\n",
    "    else: ans_test[k] = 0\n",
    "f1_ans = f1_score(Y_vall_tn.detach(), ans_test)"
   ]
  },
  {
   "cell_type": "code",
   "execution_count": null,
   "id": "bc458c87",
   "metadata": {},
   "outputs": [],
   "source": [
    "result.append(list(result[1] - f1_ans))"
   ]
  },
  {
   "cell_type": "code",
   "execution_count": null,
   "id": "bbf8ebdc",
   "metadata": {},
   "outputs": [],
   "source": [
    "importans = pd.DataFrame(result[0], columns = ['name'])"
   ]
  },
  {
   "cell_type": "code",
   "execution_count": null,
   "id": "703b018d",
   "metadata": {},
   "outputs": [],
   "source": [
    "importans['result'] = result[1]\n",
    "importans['result - f1'] = result[2]"
   ]
  },
  {
   "cell_type": "code",
   "execution_count": null,
   "id": "c2f19827",
   "metadata": {},
   "outputs": [],
   "source": [
    "importans = importans.sort_values(by='result - f1')"
   ]
  },
  {
   "cell_type": "code",
   "execution_count": null,
   "id": "59372a37",
   "metadata": {},
   "outputs": [],
   "source": [
    "importans.head(10)"
   ]
  },
  {
   "cell_type": "markdown",
   "id": "8e445957",
   "metadata": {},
   "source": [
    "Вот 10 фичей наиболее влияющих на безопасное вождение, по мнению модели.\n",
    "Как видно, модель опирается на время суток, в вечерние, ночнык и утрение часы, самы важны для модели."
   ]
  },
  {
   "cell_type": "markdown",
   "id": "bae3619f",
   "metadata": {},
   "source": [
    "Для подробного иследования возьмем фичу cellphone_in_use_1.0, по скольку время суток можно определить по обычным часа, тут ничего инетресного."
   ]
  },
  {
   "cell_type": "markdown",
   "id": "b7941436",
   "metadata": {},
   "source": [
    "#### cellphone_in_use"
   ]
  },
  {
   "cell_type": "markdown",
   "id": "ffa51c84",
   "metadata": {},
   "source": [
    "Для начала покажем как связаны аварии и данные столбец. Для оценки возьмем полный DF."
   ]
  },
  {
   "cell_type": "code",
   "execution_count": null,
   "id": "b3a8caa3",
   "metadata": {},
   "outputs": [],
   "source": [
    "plt.figure(figsize=(15,8))\n",
    "plt.title('Процент аварий с и без системы HandsFree')\n",
    "plt.xlabel('Наличие')\n",
    "plt.ylabel('Процент')\n",
    "plt.bar(['есть устройство HandsFree', \n",
    "         'нет устройства HandsFree', \n",
    "         'неизвестно'],\n",
    "         [(df.loc[df['cellphone_in_use'] == \"1.0\", 'at_fault'].sum()/len(df))*100,\n",
    "          (df.loc[df['cellphone_in_use'] == \"0.0\", 'at_fault'].sum()/len(df))*100,\n",
    "          (df.loc[df['cellphone_in_use'] == \"unknown\", 'at_fault'].sum()/len(df))*100])\n",
    "plt.show()\n"
   ]
  },
  {
   "cell_type": "markdown",
   "id": "2735acd8",
   "metadata": {},
   "source": [
    "Как видно, очень много аварий произошло при олтсутвии данной системы. Как данный момент можно контролировать:\n",
    "1. Поставить во все машины современную мультимедиа систему\n",
    "2. Предупрежать человека, что телефон не подключен к автомобилю\n",
    "3. При запуске двигателя сразу включать систему на сопяжение с телефоном."
   ]
  },
  {
   "cell_type": "markdown",
   "id": "6c3c823d",
   "metadata": {},
   "source": [
    "<div class=\"alert alert-warning\">\n",
    "    <h2> Комментарий ревьюера <a class=\"tocSkip\"> </h2>\n",
    "    \n",
    "<b>Некоторые замечания и рекомендации💡:</b> \n",
    "        \n",
    "Результаты моделей можно оформить в виде сравнительной таблицы."
   ]
  },
  {
   "cell_type": "markdown",
   "id": "f1df774e",
   "metadata": {},
   "source": [
    "<div class=\"alert alert-block alert-danger\">\n",
    "<h2> Комментарий ревьюера <a class=\"tocSkip\"></h2>\n",
    "\n",
    "    \n",
    "<b>На доработку🤔:</b>\n",
    "    \n",
    "На тестовой выборке стоит  проверять только лучшую модель.\n",
    "    \n",
    "Также стоит сделать подробный анализ лучшей модели:\n",
    "    \n",
    "### Шаг 6.  Проверьте лучшую модель в работе\n",
    "\n",
    "1. Проведите графический анализ «Матрица ошибок». ****Выведите полноту и точность на график.\n",
    "2. Проанализируйте важность основных факторов, влияющих на вероятность ДТП.\n",
    "3. Для одного из выявленных важных факторов проведите дополнительное исследование: \n",
    "    - Покажите график зависимости фактора и целевой переменной.\n",
    "    - Предложите, чем можно оборудовать автомобиль, чтобы учесть этот фактор во время посадки водителя.\n",
    "    \n",
    "    \n"
   ]
  },
  {
   "cell_type": "markdown",
   "id": "d8cbefa2",
   "metadata": {},
   "source": [
    "## Вывод"
   ]
  },
  {
   "cell_type": "markdown",
   "id": "8b8e464f",
   "metadata": {},
   "source": [
    "На основе иследования можно сделать следубющие выводы:\n",
    "1. Оценить вероятность авраии можно, для этого нужно использовать нейроные сети, проблема уператся только во времени затраченом на обучение.\n",
    "2. Во воермя просмотра даных аварии были исключены столбцы которые имели информацию из \"будущего\", информация об аварии, можно было-бы обучить модель предсказывать эту информацию, а уже на основе ее попробовать предсказать вероятность аварии.\n",
    "3. Модел нейроной сети выбрала основными источниками информации столбцы:\n",
    "    * Связаные с временем суток\n",
    "    * HandsFree системой\n",
    "    * control_device_1\n",
    "\n",
    "4. Возраст автомоблиля не сильно влиял на предсказание моделей. \n",
    "5. Наверняка психическое и физическое состояние водителя сыгшрают важную роль для предсказания аварии. Для оценки минтального сотояния можно сделать мини тест, а для физического только елси \"продувка\" на алкоголь."
   ]
  },
  {
   "cell_type": "markdown",
   "id": "03f87b64",
   "metadata": {},
   "source": [
    "<div class=\"alert alert-block alert-danger\">\n",
    "<h2> Комментарий ревьюера <a class=\"tocSkip\"></h2>\n",
    "\n",
    "    \n",
    "<b>На доработку🤔:</b>\n",
    "    \n",
    "Вывод стоит дополнить ответом на вопрос:\n",
    "\n",
    "\"Какие факторы ещё необходимо собирать, чтобы улучшить модель?\""
   ]
  },
  {
   "cell_type": "markdown",
   "id": "1c27355f",
   "metadata": {},
   "source": [
    "<div class=\"alert alert-block alert-info\">\n",
    "<b>Комментарий студента:</b> Вроде все подправил.\n",
    "</div>"
   ]
  },
  {
   "cell_type": "markdown",
   "id": "1fc9aa3c",
   "metadata": {},
   "source": [
    "<div class=\"alert alert-success\">\n",
    "<h2> Комментарий ревьюера №2<a class=\"tocSkip\"> </h2>\n",
    "\n",
    "<b>Все отлично!👍:</b> \n",
    "    \n",
    "Спасибо, хорошая работа."
   ]
  },
  {
   "cell_type": "markdown",
   "id": "5dcaf4ad",
   "metadata": {},
   "source": [
    "<div style=\"border:solid Chocolate 2px; padding: 40px\">\n",
    "    \n",
    "<b>Общий вывод по проекту</b>\n",
    "\n",
    "Иван, спасибо за работу! Проект хороший, однако стоит внести некоторые исправления, чтобы можно было считать проект завершенным.\n",
    "    \n",
    "    \n",
    "**Положительные моменты проекта, которые хочу еще раз подчеркнуть**:\n",
    "\n",
    " \n",
    "    1. Есть аргументация выбора факторов для моделирования\n",
    "    2. Проведен статистический анализ исходных данных и внесены необходимые корректировки\n",
    "    3. Отбор данных проведен с помощью sql-запроса\n",
    "    4. Использовано 4 модели ML (из 2-го спринта и из 3-го спринта)\n",
    "    5. Есть применение подбора гиперпараметров\n",
    "    6. Есть обоснование выбора метрики\n",
    "    7. Есть использование самописных функций\n",
    "    8. Есть анализ баланса классов\n",
    "\n",
    "    \n",
    "   \n",
    "\n",
    "**Замечания, на которые стоит обратить внимание при будущей работе**:\n",
    "    \n",
    "    1. Выполнить первую часть проека\n",
    "    2. Исследовать лучшую модель\n",
    "    3. Использование тестовой выборки стоит исключить до этапа тестирования лучшей модели\n",
    "    4. Дополнить итоговый вывод\n",
    "\n",
    "    \n",
    "Остальные комментарии ты найдешь выше.\n",
    "    \n",
    "**Желаю удачи и жду твой проект на повторное ревью!**"
   ]
  },
  {
   "cell_type": "markdown",
   "id": "9842859b",
   "metadata": {},
   "source": [
    "<div style=\"border:solid Chocolate 2px; padding: 40px\">\n",
    "    \n",
    "<b>Общий вывод по проекту №2</b>\n",
    "\n",
    "Иван, спасибо за работу,\n",
    "    \n",
    "Что осталось подправить:\n",
    "    \n",
    "    1. Проверить гипотезу и неполноте данных по годам, прежде чем строить график распределения аварий по месяцам\n",
    "    \n",
    "    2. Реализовать алгоритм решения 2х задач (решение должно включать связь 2х таблиц)\n",
    "    \n",
    "**Жду твой проект на следующее ревью**"
   ]
  },
  {
   "cell_type": "markdown",
   "id": "093b6ced",
   "metadata": {},
   "source": [
    "<div style=\"border:solid Chocolate 2px; padding: 40px\">\n",
    "    \n",
    "<b>Общий вывод по проекту №3</b>\n",
    "\n",
    "Иван, спасибо за работу,\n",
    "    \n",
    "**все хорошо, проект принимаю и желаю успехов в дальнейшем!**"
   ]
  }
 ],
 "metadata": {
  "ExecuteTimeLog": [
   {
    "duration": 855,
    "start_time": "2023-03-08T07:50:01.921Z"
   },
   {
    "duration": 7838,
    "start_time": "2023-03-08T07:50:14.973Z"
   },
   {
    "duration": 3,
    "start_time": "2023-03-08T09:35:59.347Z"
   },
   {
    "duration": 145,
    "start_time": "2023-03-08T09:40:57.797Z"
   },
   {
    "duration": 14145,
    "start_time": "2023-03-08T09:42:14.124Z"
   },
   {
    "duration": 748,
    "start_time": "2023-03-08T09:42:42.303Z"
   },
   {
    "duration": 7697,
    "start_time": "2023-03-08T09:42:44.242Z"
   },
   {
    "duration": 4,
    "start_time": "2023-03-08T09:42:51.941Z"
   },
   {
    "duration": 13162,
    "start_time": "2023-03-08T09:42:51.946Z"
   },
   {
    "duration": 757,
    "start_time": "2023-03-08T09:43:05.110Z"
   },
   {
    "duration": 86,
    "start_time": "2023-03-08T10:06:14.909Z"
   },
   {
    "duration": 9,
    "start_time": "2023-03-08T10:06:23.941Z"
   },
   {
    "duration": 4,
    "start_time": "2023-03-08T10:06:30.169Z"
   },
   {
    "duration": 4,
    "start_time": "2023-03-08T10:06:56.370Z"
   },
   {
    "duration": 6,
    "start_time": "2023-03-08T10:07:01.150Z"
   },
   {
    "duration": 12,
    "start_time": "2023-03-08T10:09:14.907Z"
   },
   {
    "duration": 1490,
    "start_time": "2023-03-08T10:11:35.911Z"
   },
   {
    "duration": 12,
    "start_time": "2023-03-08T10:11:44.332Z"
   },
   {
    "duration": 7,
    "start_time": "2023-03-08T10:12:27.258Z"
   },
   {
    "duration": 6,
    "start_time": "2023-03-08T10:12:31.230Z"
   },
   {
    "duration": 4,
    "start_time": "2023-03-08T10:12:40.758Z"
   },
   {
    "duration": 5,
    "start_time": "2023-03-08T10:15:13.490Z"
   },
   {
    "duration": 4,
    "start_time": "2023-03-08T10:16:12.221Z"
   },
   {
    "duration": 4,
    "start_time": "2023-03-08T10:16:15.321Z"
   },
   {
    "duration": 4,
    "start_time": "2023-03-08T10:16:28.948Z"
   },
   {
    "duration": 5,
    "start_time": "2023-03-08T10:16:31.149Z"
   },
   {
    "duration": 4,
    "start_time": "2023-03-08T10:17:14.167Z"
   },
   {
    "duration": 757,
    "start_time": "2023-03-08T10:17:21.184Z"
   },
   {
    "duration": 1726,
    "start_time": "2023-03-08T10:27:16.578Z"
   },
   {
    "duration": 13,
    "start_time": "2023-03-08T10:30:04.888Z"
   },
   {
    "duration": 20,
    "start_time": "2023-03-08T10:30:18.409Z"
   },
   {
    "duration": 1621,
    "start_time": "2023-03-08T10:30:28.306Z"
   },
   {
    "duration": 6,
    "start_time": "2023-03-08T10:30:42.611Z"
   },
   {
    "duration": 3,
    "start_time": "2023-03-08T10:30:46.140Z"
   },
   {
    "duration": 746,
    "start_time": "2023-03-08T10:30:50.486Z"
   },
   {
    "duration": 1592,
    "start_time": "2023-03-08T10:30:56.650Z"
   },
   {
    "duration": 1679,
    "start_time": "2023-03-08T10:32:18.962Z"
   },
   {
    "duration": 5,
    "start_time": "2023-03-08T10:32:49.913Z"
   },
   {
    "duration": 1619,
    "start_time": "2023-03-08T10:32:54.281Z"
   },
   {
    "duration": 1746,
    "start_time": "2023-03-08T10:34:53.458Z"
   },
   {
    "duration": 1647,
    "start_time": "2023-03-08T10:35:08.505Z"
   },
   {
    "duration": 1601,
    "start_time": "2023-03-08T10:36:36.861Z"
   },
   {
    "duration": 926,
    "start_time": "2023-03-08T22:36:18.081Z"
   },
   {
    "duration": 4990,
    "start_time": "2023-03-08T22:36:19.009Z"
   },
   {
    "duration": 3,
    "start_time": "2023-03-08T22:36:24.001Z"
   },
   {
    "duration": 18053,
    "start_time": "2023-03-08T22:36:24.006Z"
   },
   {
    "duration": 876,
    "start_time": "2023-03-08T22:36:42.061Z"
   },
   {
    "duration": 4,
    "start_time": "2023-03-08T22:36:42.938Z"
   },
   {
    "duration": 6,
    "start_time": "2023-03-08T22:36:42.944Z"
   },
   {
    "duration": 849,
    "start_time": "2023-03-08T22:36:42.952Z"
   },
   {
    "duration": 1914,
    "start_time": "2023-03-08T22:36:43.804Z"
   },
   {
    "duration": 1837,
    "start_time": "2023-03-08T22:36:45.720Z"
   },
   {
    "duration": 69,
    "start_time": "2023-03-08T22:36:50.840Z"
   },
   {
    "duration": 73,
    "start_time": "2023-03-08T22:37:46.586Z"
   },
   {
    "duration": 6,
    "start_time": "2023-03-08T22:37:58.966Z"
   },
   {
    "duration": 82,
    "start_time": "2023-03-08T22:38:18.007Z"
   },
   {
    "duration": 98,
    "start_time": "2023-03-08T22:38:23.117Z"
   },
   {
    "duration": 102,
    "start_time": "2023-03-08T22:38:32.179Z"
   },
   {
    "duration": 2302,
    "start_time": "2023-03-08T22:39:21.617Z"
   },
   {
    "duration": 396,
    "start_time": "2023-03-08T22:39:32.049Z"
   },
   {
    "duration": 85,
    "start_time": "2023-03-08T22:40:07.729Z"
   },
   {
    "duration": 17969,
    "start_time": "2023-03-08T22:40:41.227Z"
   },
   {
    "duration": 850,
    "start_time": "2023-03-08T22:40:59.198Z"
   },
   {
    "duration": 3363,
    "start_time": "2023-03-08T22:41:11.127Z"
   },
   {
    "duration": 93,
    "start_time": "2023-03-08T22:41:15.496Z"
   },
   {
    "duration": 112,
    "start_time": "2023-03-08T22:42:30.647Z"
   },
   {
    "duration": 63,
    "start_time": "2023-03-08T22:49:08.098Z"
   },
   {
    "duration": 171,
    "start_time": "2023-03-08T22:49:16.937Z"
   },
   {
    "duration": 179,
    "start_time": "2023-03-08T22:49:24.770Z"
   },
   {
    "duration": 148,
    "start_time": "2023-03-08T22:50:22.650Z"
   },
   {
    "duration": 157,
    "start_time": "2023-03-08T22:50:29.388Z"
   },
   {
    "duration": 64,
    "start_time": "2023-03-08T22:51:53.659Z"
   },
   {
    "duration": 58,
    "start_time": "2023-03-08T22:52:27.053Z"
   },
   {
    "duration": 53,
    "start_time": "2023-03-08T22:53:07.903Z"
   },
   {
    "duration": 14401,
    "start_time": "2023-03-08T22:53:20.223Z"
   },
   {
    "duration": 815,
    "start_time": "2023-03-08T22:53:34.626Z"
   },
   {
    "duration": 1005,
    "start_time": "2023-03-08T22:53:41.023Z"
   },
   {
    "duration": 5,
    "start_time": "2023-03-08T22:53:50.188Z"
   },
   {
    "duration": 3,
    "start_time": "2023-03-08T22:53:51.598Z"
   },
   {
    "duration": 843,
    "start_time": "2023-03-08T22:53:53.739Z"
   },
   {
    "duration": 99,
    "start_time": "2023-03-08T22:53:58.808Z"
   },
   {
    "duration": 62,
    "start_time": "2023-03-08T22:54:00.931Z"
   },
   {
    "duration": 926,
    "start_time": "2023-03-09T00:36:40.494Z"
   },
   {
    "duration": 5456,
    "start_time": "2023-03-09T00:36:42.354Z"
   },
   {
    "duration": 4,
    "start_time": "2023-03-09T00:36:47.812Z"
   },
   {
    "duration": 15120,
    "start_time": "2023-03-09T00:36:47.817Z"
   },
   {
    "duration": 13425,
    "start_time": "2023-03-09T00:37:08.841Z"
   },
   {
    "duration": 858,
    "start_time": "2023-03-09T00:37:22.269Z"
   },
   {
    "duration": 116,
    "start_time": "2023-03-09T00:37:36.473Z"
   },
   {
    "duration": 31,
    "start_time": "2023-03-09T00:37:55.685Z"
   },
   {
    "duration": 31,
    "start_time": "2023-03-09T00:38:32.387Z"
   },
   {
    "duration": 7,
    "start_time": "2023-03-09T00:38:51.913Z"
   },
   {
    "duration": 5,
    "start_time": "2023-03-09T00:38:57.885Z"
   },
   {
    "duration": 4,
    "start_time": "2023-03-09T00:39:17.804Z"
   },
   {
    "duration": 131,
    "start_time": "2023-03-09T00:39:28.064Z"
   },
   {
    "duration": 66,
    "start_time": "2023-03-09T00:39:42.525Z"
   },
   {
    "duration": 2829,
    "start_time": "2023-03-09T00:39:51.414Z"
   },
   {
    "duration": 403,
    "start_time": "2023-03-09T00:39:56.864Z"
   },
   {
    "duration": 91,
    "start_time": "2023-03-09T00:40:01.321Z"
   },
   {
    "duration": 13001,
    "start_time": "2023-03-09T00:40:21.535Z"
   },
   {
    "duration": 45,
    "start_time": "2023-03-09T00:40:34.538Z"
   },
   {
    "duration": 896,
    "start_time": "2023-03-09T00:40:41.515Z"
   },
   {
    "duration": 4,
    "start_time": "2023-03-09T00:40:57.585Z"
   },
   {
    "duration": 144,
    "start_time": "2023-03-09T00:41:01.457Z"
   },
   {
    "duration": 53,
    "start_time": "2023-03-09T00:42:32.255Z"
   },
   {
    "duration": 13299,
    "start_time": "2023-03-09T00:45:26.854Z"
   },
   {
    "duration": 879,
    "start_time": "2023-03-09T00:45:40.155Z"
   },
   {
    "duration": 12753,
    "start_time": "2023-03-09T00:46:48.602Z"
   },
   {
    "duration": 833,
    "start_time": "2023-03-09T00:47:01.357Z"
   },
   {
    "duration": 12013,
    "start_time": "2023-03-09T00:51:38.537Z"
   },
   {
    "duration": 789,
    "start_time": "2023-03-09T00:52:08.316Z"
   },
   {
    "duration": 13806,
    "start_time": "2023-03-09T00:57:50.557Z"
   },
   {
    "duration": 750,
    "start_time": "2023-03-09T00:58:04.366Z"
   },
   {
    "duration": 21,
    "start_time": "2023-03-09T00:58:16.487Z"
   },
   {
    "duration": 79,
    "start_time": "2023-03-09T00:58:26.923Z"
   },
   {
    "duration": 115,
    "start_time": "2023-03-09T00:58:54.646Z"
   },
   {
    "duration": 14085,
    "start_time": "2023-03-09T01:01:57.837Z"
   },
   {
    "duration": 780,
    "start_time": "2023-03-09T01:02:11.924Z"
   },
   {
    "duration": 4,
    "start_time": "2023-03-09T01:02:17.963Z"
   },
   {
    "duration": 2,
    "start_time": "2023-03-09T01:02:22.817Z"
   },
   {
    "duration": 778,
    "start_time": "2023-03-09T01:02:24.996Z"
   },
   {
    "duration": 1751,
    "start_time": "2023-03-09T01:02:39.644Z"
   },
   {
    "duration": 1608,
    "start_time": "2023-03-09T01:03:09.756Z"
   },
   {
    "duration": 1632,
    "start_time": "2023-03-09T01:03:16.966Z"
   },
   {
    "duration": 1714,
    "start_time": "2023-03-09T01:03:31.756Z"
   },
   {
    "duration": 1602,
    "start_time": "2023-03-09T01:03:44.043Z"
   },
   {
    "duration": 3,
    "start_time": "2023-03-09T01:05:34.456Z"
   },
   {
    "duration": 1590,
    "start_time": "2023-03-09T01:05:37.127Z"
   },
   {
    "duration": 4140,
    "start_time": "2023-03-09T01:21:07.648Z"
   },
   {
    "duration": 389,
    "start_time": "2023-03-09T01:21:29.318Z"
   },
   {
    "duration": 379,
    "start_time": "2023-03-09T01:21:47.077Z"
   },
   {
    "duration": 67,
    "start_time": "2023-03-09T01:21:56.737Z"
   },
   {
    "duration": 884,
    "start_time": "2023-03-09T14:27:23.230Z"
   },
   {
    "duration": 4684,
    "start_time": "2023-03-09T14:27:24.116Z"
   },
   {
    "duration": 4,
    "start_time": "2023-03-09T14:27:28.802Z"
   },
   {
    "duration": 299,
    "start_time": "2023-03-09T14:27:28.807Z"
   },
   {
    "duration": 2214,
    "start_time": "2023-03-09T14:27:35.392Z"
   },
   {
    "duration": 354,
    "start_time": "2023-03-09T14:27:58.913Z"
   },
   {
    "duration": 60,
    "start_time": "2023-03-10T09:17:03.611Z"
   },
   {
    "duration": 975,
    "start_time": "2023-03-10T09:17:07.670Z"
   },
   {
    "duration": 7225,
    "start_time": "2023-03-10T09:17:08.648Z"
   },
   {
    "duration": 4,
    "start_time": "2023-03-10T09:17:15.875Z"
   },
   {
    "duration": 13588,
    "start_time": "2023-03-10T09:17:15.881Z"
   },
   {
    "duration": 671,
    "start_time": "2023-03-10T09:17:29.472Z"
   },
   {
    "duration": 4,
    "start_time": "2023-03-10T09:17:30.146Z"
   },
   {
    "duration": 62,
    "start_time": "2023-03-10T09:17:30.152Z"
   },
   {
    "duration": 756,
    "start_time": "2023-03-10T09:17:30.216Z"
   },
   {
    "duration": 1563,
    "start_time": "2023-03-10T09:17:30.974Z"
   },
   {
    "duration": 1483,
    "start_time": "2023-03-10T09:17:32.543Z"
   },
   {
    "duration": 1851,
    "start_time": "2023-03-10T09:17:34.028Z"
   },
   {
    "duration": 1382,
    "start_time": "2023-03-10T09:24:20.825Z"
   },
   {
    "duration": 285,
    "start_time": "2023-03-10T09:27:29.153Z"
   },
   {
    "duration": 645,
    "start_time": "2023-03-10T09:27:35.871Z"
   },
   {
    "duration": 630,
    "start_time": "2023-03-10T09:27:46.150Z"
   },
   {
    "duration": 6559,
    "start_time": "2023-03-10T09:38:16.741Z"
   },
   {
    "duration": 48,
    "start_time": "2023-03-10T09:47:30.578Z"
   },
   {
    "duration": 4,
    "start_time": "2023-03-10T09:48:39.497Z"
   },
   {
    "duration": 5300,
    "start_time": "2023-03-10T09:48:43.457Z"
   },
   {
    "duration": 7,
    "start_time": "2023-03-10T09:49:20.803Z"
   },
   {
    "duration": 194,
    "start_time": "2023-03-10T09:51:44.450Z"
   },
   {
    "duration": 7,
    "start_time": "2023-03-10T09:51:50.906Z"
   },
   {
    "duration": 5,
    "start_time": "2023-03-10T09:52:27.910Z"
   },
   {
    "duration": 190,
    "start_time": "2023-03-10T09:52:34.249Z"
   },
   {
    "duration": 921,
    "start_time": "2023-03-10T09:54:38.395Z"
   },
   {
    "duration": 168,
    "start_time": "2023-03-10T09:54:45.763Z"
   },
   {
    "duration": 3,
    "start_time": "2023-03-10T09:55:23.623Z"
   },
   {
    "duration": 3,
    "start_time": "2023-03-10T09:55:45.942Z"
   },
   {
    "duration": 354,
    "start_time": "2023-03-10T09:57:35.949Z"
   },
   {
    "duration": 69,
    "start_time": "2023-03-10T10:00:07.954Z"
   },
   {
    "duration": 5,
    "start_time": "2023-03-10T10:00:17.928Z"
   },
   {
    "duration": 66,
    "start_time": "2023-03-10T10:01:12.613Z"
   },
   {
    "duration": 68,
    "start_time": "2023-03-10T10:02:20.597Z"
   },
   {
    "duration": 69,
    "start_time": "2023-03-10T10:02:30.191Z"
   },
   {
    "duration": 66,
    "start_time": "2023-03-10T10:02:38.536Z"
   },
   {
    "duration": 3,
    "start_time": "2023-03-10T10:03:28.291Z"
   },
   {
    "duration": 68,
    "start_time": "2023-03-10T10:04:01.596Z"
   },
   {
    "duration": 8,
    "start_time": "2023-03-10T10:05:11.003Z"
   },
   {
    "duration": 8,
    "start_time": "2023-03-10T10:05:27.574Z"
   },
   {
    "duration": 6,
    "start_time": "2023-03-10T10:06:32.728Z"
   },
   {
    "duration": 6,
    "start_time": "2023-03-10T10:06:38.764Z"
   },
   {
    "duration": 726,
    "start_time": "2023-03-10T10:12:48.914Z"
   },
   {
    "duration": 23,
    "start_time": "2023-03-10T10:13:07.139Z"
   },
   {
    "duration": 16,
    "start_time": "2023-03-10T10:13:13.279Z"
   },
   {
    "duration": 8,
    "start_time": "2023-03-10T10:13:41.461Z"
   },
   {
    "duration": 19,
    "start_time": "2023-03-10T10:13:46.602Z"
   },
   {
    "duration": 31,
    "start_time": "2023-03-10T10:14:33.315Z"
   },
   {
    "duration": 76,
    "start_time": "2023-03-10T10:19:25.271Z"
   },
   {
    "duration": 14,
    "start_time": "2023-03-10T10:19:31.041Z"
   },
   {
    "duration": 59,
    "start_time": "2023-03-10T10:19:33.298Z"
   },
   {
    "duration": 3,
    "start_time": "2023-03-10T10:19:57.015Z"
   },
   {
    "duration": 3,
    "start_time": "2023-03-10T10:19:57.532Z"
   },
   {
    "duration": 59,
    "start_time": "2023-03-10T10:19:58.282Z"
   },
   {
    "duration": 3,
    "start_time": "2023-03-10T10:20:07.347Z"
   },
   {
    "duration": 2192,
    "start_time": "2023-03-10T10:20:08.080Z"
   },
   {
    "duration": 128,
    "start_time": "2023-03-10T10:20:37.271Z"
   },
   {
    "duration": 20,
    "start_time": "2023-03-10T10:23:08.418Z"
   },
   {
    "duration": 156,
    "start_time": "2023-03-10T10:23:14.133Z"
   },
   {
    "duration": 630,
    "start_time": "2023-03-10T10:23:22.436Z"
   },
   {
    "duration": 227,
    "start_time": "2023-03-10T10:25:17.798Z"
   },
   {
    "duration": 193,
    "start_time": "2023-03-10T10:25:41.524Z"
   },
   {
    "duration": 135,
    "start_time": "2023-03-10T10:26:46.508Z"
   },
   {
    "duration": 206,
    "start_time": "2023-03-10T10:27:04.382Z"
   },
   {
    "duration": 170,
    "start_time": "2023-03-10T10:27:09.314Z"
   },
   {
    "duration": 143,
    "start_time": "2023-03-10T10:27:11.911Z"
   },
   {
    "duration": 21,
    "start_time": "2023-03-10T10:27:39.237Z"
   },
   {
    "duration": 19,
    "start_time": "2023-03-10T10:27:58.395Z"
   },
   {
    "duration": 27,
    "start_time": "2023-03-10T10:30:20.194Z"
   },
   {
    "duration": 900,
    "start_time": "2023-03-10T10:32:46.489Z"
   },
   {
    "duration": 4,
    "start_time": "2023-03-10T10:32:47.393Z"
   },
   {
    "duration": 6093,
    "start_time": "2023-03-10T10:32:47.399Z"
   },
   {
    "duration": 7,
    "start_time": "2023-03-10T10:32:53.494Z"
   },
   {
    "duration": 15558,
    "start_time": "2023-03-10T10:32:53.505Z"
   },
   {
    "duration": 783,
    "start_time": "2023-03-10T10:33:09.066Z"
   },
   {
    "duration": 5,
    "start_time": "2023-03-10T10:33:09.850Z"
   },
   {
    "duration": 20,
    "start_time": "2023-03-10T10:33:09.857Z"
   },
   {
    "duration": 755,
    "start_time": "2023-03-10T10:33:09.879Z"
   },
   {
    "duration": 2226,
    "start_time": "2023-03-10T10:33:10.637Z"
   },
   {
    "duration": 1834,
    "start_time": "2023-03-10T10:33:12.865Z"
   },
   {
    "duration": 77,
    "start_time": "2023-03-10T10:33:14.702Z"
   },
   {
    "duration": 0,
    "start_time": "2023-03-10T10:33:14.783Z"
   },
   {
    "duration": 0,
    "start_time": "2023-03-10T10:33:14.785Z"
   },
   {
    "duration": 0,
    "start_time": "2023-03-10T10:33:14.787Z"
   },
   {
    "duration": 0,
    "start_time": "2023-03-10T10:33:14.789Z"
   },
   {
    "duration": 0,
    "start_time": "2023-03-10T10:33:14.791Z"
   },
   {
    "duration": 0,
    "start_time": "2023-03-10T10:33:14.793Z"
   },
   {
    "duration": 0,
    "start_time": "2023-03-10T10:33:14.794Z"
   },
   {
    "duration": 0,
    "start_time": "2023-03-10T10:33:14.795Z"
   },
   {
    "duration": 0,
    "start_time": "2023-03-10T10:33:14.797Z"
   },
   {
    "duration": 0,
    "start_time": "2023-03-10T10:33:14.798Z"
   },
   {
    "duration": 0,
    "start_time": "2023-03-10T10:33:14.799Z"
   },
   {
    "duration": 0,
    "start_time": "2023-03-10T10:33:14.801Z"
   },
   {
    "duration": 0,
    "start_time": "2023-03-10T10:33:14.803Z"
   },
   {
    "duration": 0,
    "start_time": "2023-03-10T10:33:14.804Z"
   },
   {
    "duration": 0,
    "start_time": "2023-03-10T10:33:14.805Z"
   },
   {
    "duration": 0,
    "start_time": "2023-03-10T10:33:14.806Z"
   },
   {
    "duration": 0,
    "start_time": "2023-03-10T10:33:14.808Z"
   },
   {
    "duration": 0,
    "start_time": "2023-03-10T10:33:14.808Z"
   },
   {
    "duration": 0,
    "start_time": "2023-03-10T10:33:14.810Z"
   },
   {
    "duration": 0,
    "start_time": "2023-03-10T10:33:14.812Z"
   },
   {
    "duration": 0,
    "start_time": "2023-03-10T10:33:14.814Z"
   },
   {
    "duration": 0,
    "start_time": "2023-03-10T10:33:14.816Z"
   },
   {
    "duration": 2431,
    "start_time": "2023-03-10T10:33:23.159Z"
   },
   {
    "duration": 2032,
    "start_time": "2023-03-10T10:33:26.388Z"
   },
   {
    "duration": 1675,
    "start_time": "2023-03-10T10:33:28.423Z"
   },
   {
    "duration": 366,
    "start_time": "2023-03-10T10:33:30.100Z"
   },
   {
    "duration": 786,
    "start_time": "2023-03-10T10:33:30.468Z"
   },
   {
    "duration": 7,
    "start_time": "2023-03-10T10:33:31.256Z"
   },
   {
    "duration": 58,
    "start_time": "2023-03-10T10:33:31.265Z"
   },
   {
    "duration": 275,
    "start_time": "2023-03-10T10:33:31.326Z"
   },
   {
    "duration": 8,
    "start_time": "2023-03-10T10:33:31.603Z"
   },
   {
    "duration": 250,
    "start_time": "2023-03-10T10:33:31.613Z"
   },
   {
    "duration": 121,
    "start_time": "2023-03-10T10:33:31.866Z"
   },
   {
    "duration": 6,
    "start_time": "2023-03-10T10:33:31.989Z"
   },
   {
    "duration": 130,
    "start_time": "2023-03-10T10:33:31.997Z"
   },
   {
    "duration": 7,
    "start_time": "2023-03-10T10:33:32.129Z"
   },
   {
    "duration": 38,
    "start_time": "2023-03-10T10:33:32.139Z"
   },
   {
    "duration": 25,
    "start_time": "2023-03-10T10:33:32.180Z"
   },
   {
    "duration": 2364,
    "start_time": "2023-03-10T10:33:32.207Z"
   },
   {
    "duration": 189,
    "start_time": "2023-03-10T10:33:34.573Z"
   },
   {
    "duration": 349,
    "start_time": "2023-03-10T10:33:34.764Z"
   },
   {
    "duration": 751,
    "start_time": "2023-03-10T10:33:35.116Z"
   },
   {
    "duration": 223,
    "start_time": "2023-03-10T10:33:35.870Z"
   },
   {
    "duration": 259,
    "start_time": "2023-03-10T10:33:36.096Z"
   },
   {
    "duration": 29,
    "start_time": "2023-03-10T10:33:36.358Z"
   },
   {
    "duration": 59,
    "start_time": "2023-03-10T10:33:36.399Z"
   },
   {
    "duration": 482,
    "start_time": "2023-03-10T10:35:35.898Z"
   },
   {
    "duration": 195,
    "start_time": "2023-03-10T10:35:44.643Z"
   },
   {
    "duration": 25,
    "start_time": "2023-03-10T10:35:58.360Z"
   },
   {
    "duration": 104,
    "start_time": "2023-03-10T10:42:17.633Z"
   },
   {
    "duration": 23,
    "start_time": "2023-03-10T10:42:26.691Z"
   },
   {
    "duration": 12,
    "start_time": "2023-03-10T10:42:40.232Z"
   },
   {
    "duration": 8,
    "start_time": "2023-03-10T10:42:55.746Z"
   },
   {
    "duration": 11,
    "start_time": "2023-03-10T10:43:17.890Z"
   },
   {
    "duration": 14,
    "start_time": "2023-03-10T10:43:22.430Z"
   },
   {
    "duration": 11,
    "start_time": "2023-03-10T10:43:43.810Z"
   },
   {
    "duration": 11,
    "start_time": "2023-03-10T10:45:40.852Z"
   },
   {
    "duration": 98,
    "start_time": "2023-03-10T10:45:56.666Z"
   },
   {
    "duration": 16,
    "start_time": "2023-03-10T10:46:06.521Z"
   },
   {
    "duration": 8,
    "start_time": "2023-03-10T10:46:53.765Z"
   },
   {
    "duration": 368,
    "start_time": "2023-03-10T10:47:38.446Z"
   },
   {
    "duration": 144,
    "start_time": "2023-03-10T10:47:43.475Z"
   },
   {
    "duration": 25,
    "start_time": "2023-03-10T10:47:53.760Z"
   },
   {
    "duration": 192,
    "start_time": "2023-03-10T10:48:05.809Z"
   },
   {
    "duration": 40,
    "start_time": "2023-03-10T14:32:02.055Z"
   },
   {
    "duration": 50,
    "start_time": "2023-03-10T14:32:14.909Z"
   },
   {
    "duration": 33,
    "start_time": "2023-03-10T14:32:22.073Z"
   },
   {
    "duration": 903,
    "start_time": "2023-03-10T14:33:08.096Z"
   },
   {
    "duration": 6,
    "start_time": "2023-03-10T14:35:03.777Z"
   },
   {
    "duration": 6,
    "start_time": "2023-03-10T14:35:10.315Z"
   },
   {
    "duration": 878,
    "start_time": "2023-03-10T14:36:21.023Z"
   },
   {
    "duration": 3,
    "start_time": "2023-03-10T14:36:21.903Z"
   },
   {
    "duration": 7131,
    "start_time": "2023-03-10T14:36:21.908Z"
   },
   {
    "duration": 8,
    "start_time": "2023-03-10T14:36:29.042Z"
   },
   {
    "duration": 16683,
    "start_time": "2023-03-10T14:36:29.052Z"
   },
   {
    "duration": 1134,
    "start_time": "2023-03-10T14:36:45.737Z"
   },
   {
    "duration": 58,
    "start_time": "2023-03-10T14:36:46.873Z"
   },
   {
    "duration": 66,
    "start_time": "2023-03-10T14:36:46.936Z"
   },
   {
    "duration": 1670,
    "start_time": "2023-03-10T14:36:47.004Z"
   },
   {
    "duration": 1932,
    "start_time": "2023-03-10T14:36:48.677Z"
   },
   {
    "duration": 1877,
    "start_time": "2023-03-10T14:36:50.611Z"
   },
   {
    "duration": 2192,
    "start_time": "2023-03-10T14:36:52.490Z"
   },
   {
    "duration": 2794,
    "start_time": "2023-03-10T14:36:54.684Z"
   },
   {
    "duration": 869,
    "start_time": "2023-03-10T14:36:57.480Z"
   },
   {
    "duration": 812,
    "start_time": "2023-03-10T14:36:58.350Z"
   },
   {
    "duration": 10,
    "start_time": "2023-03-10T14:36:59.175Z"
   },
   {
    "duration": 6,
    "start_time": "2023-03-10T14:36:59.187Z"
   },
   {
    "duration": 260,
    "start_time": "2023-03-10T14:36:59.195Z"
   },
   {
    "duration": 26,
    "start_time": "2023-03-10T14:36:59.465Z"
   },
   {
    "duration": 251,
    "start_time": "2023-03-10T14:36:59.499Z"
   },
   {
    "duration": 110,
    "start_time": "2023-03-10T14:36:59.752Z"
   },
   {
    "duration": 9,
    "start_time": "2023-03-10T14:36:59.864Z"
   },
   {
    "duration": 121,
    "start_time": "2023-03-10T14:36:59.875Z"
   },
   {
    "duration": 6,
    "start_time": "2023-03-10T14:36:59.997Z"
   },
   {
    "duration": 39,
    "start_time": "2023-03-10T14:37:00.004Z"
   },
   {
    "duration": 35,
    "start_time": "2023-03-10T14:37:00.053Z"
   },
   {
    "duration": 4077,
    "start_time": "2023-03-10T14:37:00.090Z"
   },
   {
    "duration": 489,
    "start_time": "2023-03-10T14:37:04.178Z"
   },
   {
    "duration": 551,
    "start_time": "2023-03-10T14:37:04.670Z"
   },
   {
    "duration": 707,
    "start_time": "2023-03-10T14:37:05.224Z"
   },
   {
    "duration": 261,
    "start_time": "2023-03-10T14:37:05.933Z"
   },
   {
    "duration": 210,
    "start_time": "2023-03-10T14:37:06.196Z"
   },
   {
    "duration": 31,
    "start_time": "2023-03-10T14:37:06.408Z"
   },
   {
    "duration": 36,
    "start_time": "2023-03-10T14:37:06.441Z"
   },
   {
    "duration": 433,
    "start_time": "2023-03-10T14:37:06.479Z"
   },
   {
    "duration": 185,
    "start_time": "2023-03-10T14:37:06.914Z"
   },
   {
    "duration": 17,
    "start_time": "2023-03-10T14:37:07.102Z"
   },
   {
    "duration": 116,
    "start_time": "2023-03-10T14:37:07.130Z"
   },
   {
    "duration": 8,
    "start_time": "2023-03-10T14:37:07.249Z"
   },
   {
    "duration": 630,
    "start_time": "2023-03-10T14:37:07.259Z"
   },
   {
    "duration": 182,
    "start_time": "2023-03-10T14:37:07.891Z"
   },
   {
    "duration": 17,
    "start_time": "2023-03-10T14:37:08.079Z"
   },
   {
    "duration": 47,
    "start_time": "2023-03-10T14:37:08.098Z"
   },
   {
    "duration": 916,
    "start_time": "2023-03-10T14:37:08.147Z"
   },
   {
    "duration": 6,
    "start_time": "2023-03-10T14:37:09.068Z"
   },
   {
    "duration": 5,
    "start_time": "2023-03-10T14:38:38.395Z"
   },
   {
    "duration": 14,
    "start_time": "2023-03-10T14:39:11.861Z"
   },
   {
    "duration": 80,
    "start_time": "2023-03-10T14:43:30.781Z"
   },
   {
    "duration": 11,
    "start_time": "2023-03-10T14:43:32.578Z"
   },
   {
    "duration": 9,
    "start_time": "2023-03-10T14:45:25.680Z"
   },
   {
    "duration": 7,
    "start_time": "2023-03-10T14:45:36.208Z"
   },
   {
    "duration": 274,
    "start_time": "2023-03-10T14:46:58.652Z"
   },
   {
    "duration": 316,
    "start_time": "2023-03-10T14:47:07.709Z"
   },
   {
    "duration": 14,
    "start_time": "2023-03-10T14:47:08.862Z"
   },
   {
    "duration": 287,
    "start_time": "2023-03-10T14:47:34.190Z"
   },
   {
    "duration": 613,
    "start_time": "2023-03-10T14:47:47.361Z"
   },
   {
    "duration": 186,
    "start_time": "2023-03-10T14:49:27.281Z"
   },
   {
    "duration": 189,
    "start_time": "2023-03-10T14:49:55.128Z"
   },
   {
    "duration": 3,
    "start_time": "2023-03-10T14:52:00.195Z"
   },
   {
    "duration": 261,
    "start_time": "2023-03-10T14:55:56.390Z"
   },
   {
    "duration": 3,
    "start_time": "2023-03-10T14:55:57.909Z"
   },
   {
    "duration": 559,
    "start_time": "2023-03-10T14:56:07.865Z"
   },
   {
    "duration": 44,
    "start_time": "2023-03-10T14:56:27.658Z"
   },
   {
    "duration": 91,
    "start_time": "2023-03-10T14:56:45.562Z"
   },
   {
    "duration": 644,
    "start_time": "2023-03-10T14:59:51.357Z"
   },
   {
    "duration": 50,
    "start_time": "2023-03-10T14:59:55.960Z"
   },
   {
    "duration": 617,
    "start_time": "2023-03-10T15:00:20.439Z"
   },
   {
    "duration": 419,
    "start_time": "2023-03-10T15:01:12.071Z"
   },
   {
    "duration": 159,
    "start_time": "2023-03-10T15:02:27.360Z"
   },
   {
    "duration": 220,
    "start_time": "2023-03-10T15:02:55.770Z"
   },
   {
    "duration": 128,
    "start_time": "2023-03-10T15:04:54.860Z"
   },
   {
    "duration": 99,
    "start_time": "2023-03-10T15:05:00.227Z"
   },
   {
    "duration": 11,
    "start_time": "2023-03-10T15:08:09.114Z"
   },
   {
    "duration": 120,
    "start_time": "2023-03-10T15:09:03.734Z"
   },
   {
    "duration": 162,
    "start_time": "2023-03-10T15:09:13.782Z"
   },
   {
    "duration": 96,
    "start_time": "2023-03-10T15:09:18.989Z"
   },
   {
    "duration": 163,
    "start_time": "2023-03-10T15:11:48.190Z"
   },
   {
    "duration": 87,
    "start_time": "2023-03-10T15:11:49.669Z"
   },
   {
    "duration": 696,
    "start_time": "2023-03-10T15:14:17.209Z"
   },
   {
    "duration": 28,
    "start_time": "2023-03-10T15:16:21.397Z"
   },
   {
    "duration": 650,
    "start_time": "2023-03-10T15:18:59.561Z"
   },
   {
    "duration": 73,
    "start_time": "2023-03-10T15:20:44.589Z"
   },
   {
    "duration": 704,
    "start_time": "2023-03-10T15:20:52.870Z"
   },
   {
    "duration": 730,
    "start_time": "2023-03-10T15:21:58.778Z"
   },
   {
    "duration": 17,
    "start_time": "2023-03-10T15:23:04.506Z"
   },
   {
    "duration": 596,
    "start_time": "2023-03-10T15:23:09.752Z"
   },
   {
    "duration": 650,
    "start_time": "2023-03-10T15:23:55.820Z"
   },
   {
    "duration": 580,
    "start_time": "2023-03-10T15:24:54.830Z"
   },
   {
    "duration": 2,
    "start_time": "2023-03-10T15:26:45.701Z"
   },
   {
    "duration": 49,
    "start_time": "2023-03-10T15:27:09.225Z"
   },
   {
    "duration": 453,
    "start_time": "2023-03-10T15:28:00.464Z"
   },
   {
    "duration": 17,
    "start_time": "2023-03-10T15:28:33.234Z"
   },
   {
    "duration": 8,
    "start_time": "2023-03-10T15:28:37.711Z"
   },
   {
    "duration": 94,
    "start_time": "2023-03-10T15:28:42.873Z"
   },
   {
    "duration": 339,
    "start_time": "2023-03-10T15:42:15.697Z"
   },
   {
    "duration": 8,
    "start_time": "2023-03-10T15:43:39.870Z"
   },
   {
    "duration": 40,
    "start_time": "2023-03-10T15:44:10.743Z"
   },
   {
    "duration": 24,
    "start_time": "2023-03-10T15:44:31.825Z"
   },
   {
    "duration": 455,
    "start_time": "2023-03-10T15:44:37.807Z"
   },
   {
    "duration": 729,
    "start_time": "2023-03-10T15:45:51.477Z"
   },
   {
    "duration": 2,
    "start_time": "2023-03-10T15:45:52.208Z"
   },
   {
    "duration": 5226,
    "start_time": "2023-03-10T15:45:52.212Z"
   },
   {
    "duration": 5,
    "start_time": "2023-03-10T15:45:57.440Z"
   },
   {
    "duration": 16026,
    "start_time": "2023-03-10T15:45:57.448Z"
   },
   {
    "duration": 781,
    "start_time": "2023-03-10T15:46:13.475Z"
   },
   {
    "duration": 4,
    "start_time": "2023-03-10T15:46:14.258Z"
   },
   {
    "duration": 9,
    "start_time": "2023-03-10T15:46:14.263Z"
   },
   {
    "duration": 775,
    "start_time": "2023-03-10T15:46:14.274Z"
   },
   {
    "duration": 1901,
    "start_time": "2023-03-10T15:46:15.052Z"
   },
   {
    "duration": 1708,
    "start_time": "2023-03-10T15:46:16.955Z"
   },
   {
    "duration": 2131,
    "start_time": "2023-03-10T15:46:18.665Z"
   },
   {
    "duration": 1784,
    "start_time": "2023-03-10T15:46:20.798Z"
   },
   {
    "duration": 389,
    "start_time": "2023-03-10T15:46:22.584Z"
   },
   {
    "duration": 758,
    "start_time": "2023-03-10T15:46:22.976Z"
   },
   {
    "duration": 8,
    "start_time": "2023-03-10T15:46:23.740Z"
   },
   {
    "duration": 12,
    "start_time": "2023-03-10T15:46:23.750Z"
   },
   {
    "duration": 225,
    "start_time": "2023-03-10T15:46:23.764Z"
   },
   {
    "duration": 7,
    "start_time": "2023-03-10T15:46:23.991Z"
   },
   {
    "duration": 230,
    "start_time": "2023-03-10T15:46:23.999Z"
   },
   {
    "duration": 112,
    "start_time": "2023-03-10T15:46:24.231Z"
   },
   {
    "duration": 6,
    "start_time": "2023-03-10T15:46:24.345Z"
   },
   {
    "duration": 104,
    "start_time": "2023-03-10T15:46:24.353Z"
   },
   {
    "duration": 12,
    "start_time": "2023-03-10T15:46:24.460Z"
   },
   {
    "duration": 8,
    "start_time": "2023-03-10T15:46:24.474Z"
   },
   {
    "duration": 18,
    "start_time": "2023-03-10T15:46:24.484Z"
   },
   {
    "duration": 2398,
    "start_time": "2023-03-10T15:46:24.503Z"
   },
   {
    "duration": 181,
    "start_time": "2023-03-10T15:46:26.907Z"
   },
   {
    "duration": 333,
    "start_time": "2023-03-10T15:46:27.090Z"
   },
   {
    "duration": 659,
    "start_time": "2023-03-10T15:46:27.425Z"
   },
   {
    "duration": 204,
    "start_time": "2023-03-10T15:46:28.087Z"
   },
   {
    "duration": 158,
    "start_time": "2023-03-10T15:46:28.293Z"
   },
   {
    "duration": 17,
    "start_time": "2023-03-10T15:46:28.453Z"
   },
   {
    "duration": 26,
    "start_time": "2023-03-10T15:46:28.472Z"
   },
   {
    "duration": 382,
    "start_time": "2023-03-10T15:46:28.500Z"
   },
   {
    "duration": 177,
    "start_time": "2023-03-10T15:46:28.884Z"
   },
   {
    "duration": 19,
    "start_time": "2023-03-10T15:46:29.064Z"
   },
   {
    "duration": 111,
    "start_time": "2023-03-10T15:46:29.085Z"
   },
   {
    "duration": 6,
    "start_time": "2023-03-10T15:46:29.198Z"
   },
   {
    "duration": 594,
    "start_time": "2023-03-10T15:46:29.206Z"
   },
   {
    "duration": 173,
    "start_time": "2023-03-10T15:46:29.802Z"
   },
   {
    "duration": 16,
    "start_time": "2023-03-10T15:46:29.977Z"
   },
   {
    "duration": 50,
    "start_time": "2023-03-10T15:46:29.995Z"
   },
   {
    "duration": 855,
    "start_time": "2023-03-10T15:46:30.047Z"
   },
   {
    "duration": 4,
    "start_time": "2023-03-10T15:46:30.904Z"
   },
   {
    "duration": 64,
    "start_time": "2023-03-10T15:46:30.910Z"
   },
   {
    "duration": 51,
    "start_time": "2023-03-10T15:46:30.976Z"
   },
   {
    "duration": 565,
    "start_time": "2023-03-10T15:46:31.029Z"
   },
   {
    "duration": 558,
    "start_time": "2023-03-10T15:46:31.596Z"
   },
   {
    "duration": 171,
    "start_time": "2023-03-10T15:46:32.156Z"
   },
   {
    "duration": 237,
    "start_time": "2023-03-10T15:46:32.331Z"
   },
   {
    "duration": 4,
    "start_time": "2023-03-10T15:46:32.569Z"
   },
   {
    "duration": 77,
    "start_time": "2023-03-10T15:46:32.574Z"
   },
   {
    "duration": 91,
    "start_time": "2023-03-10T15:46:32.653Z"
   },
   {
    "duration": 583,
    "start_time": "2023-03-10T15:46:32.746Z"
   },
   {
    "duration": 577,
    "start_time": "2023-03-10T15:46:33.332Z"
   },
   {
    "duration": 353,
    "start_time": "2023-03-10T15:46:33.911Z"
   },
   {
    "duration": 95,
    "start_time": "2023-03-10T15:46:34.266Z"
   },
   {
    "duration": 173,
    "start_time": "2023-03-10T15:46:34.363Z"
   },
   {
    "duration": 82,
    "start_time": "2023-03-10T15:46:34.538Z"
   },
   {
    "duration": 849,
    "start_time": "2023-03-10T15:46:34.632Z"
   },
   {
    "duration": 59,
    "start_time": "2023-03-10T15:46:35.483Z"
   },
   {
    "duration": 0,
    "start_time": "2023-03-10T15:46:35.545Z"
   },
   {
    "duration": 0,
    "start_time": "2023-03-10T15:46:35.546Z"
   },
   {
    "duration": 0,
    "start_time": "2023-03-10T15:46:35.547Z"
   },
   {
    "duration": 0,
    "start_time": "2023-03-10T15:46:35.549Z"
   },
   {
    "duration": 0,
    "start_time": "2023-03-10T15:46:35.550Z"
   },
   {
    "duration": 0,
    "start_time": "2023-03-10T15:46:35.552Z"
   },
   {
    "duration": 0,
    "start_time": "2023-03-10T15:46:35.553Z"
   },
   {
    "duration": 0,
    "start_time": "2023-03-10T15:46:35.554Z"
   },
   {
    "duration": 0,
    "start_time": "2023-03-10T15:46:35.556Z"
   },
   {
    "duration": 0,
    "start_time": "2023-03-10T15:46:35.557Z"
   },
   {
    "duration": 0,
    "start_time": "2023-03-10T15:46:35.558Z"
   },
   {
    "duration": 0,
    "start_time": "2023-03-10T15:46:35.559Z"
   },
   {
    "duration": 754,
    "start_time": "2023-03-10T15:47:09.215Z"
   },
   {
    "duration": 3,
    "start_time": "2023-03-10T15:47:18.712Z"
   },
   {
    "duration": 7,
    "start_time": "2023-03-10T15:47:18.717Z"
   },
   {
    "duration": 8,
    "start_time": "2023-03-10T15:47:18.725Z"
   },
   {
    "duration": 23,
    "start_time": "2023-03-10T15:47:18.735Z"
   },
   {
    "duration": 784,
    "start_time": "2023-03-10T15:47:28.993Z"
   },
   {
    "duration": 2,
    "start_time": "2023-03-10T15:47:29.780Z"
   },
   {
    "duration": 5977,
    "start_time": "2023-03-10T15:47:29.784Z"
   },
   {
    "duration": 4,
    "start_time": "2023-03-10T15:47:35.763Z"
   },
   {
    "duration": 16252,
    "start_time": "2023-03-10T15:47:35.769Z"
   },
   {
    "duration": 723,
    "start_time": "2023-03-10T15:47:52.022Z"
   },
   {
    "duration": 5,
    "start_time": "2023-03-10T15:47:52.747Z"
   },
   {
    "duration": 16,
    "start_time": "2023-03-10T15:47:52.754Z"
   },
   {
    "duration": 739,
    "start_time": "2023-03-10T15:47:52.771Z"
   },
   {
    "duration": 1754,
    "start_time": "2023-03-10T15:47:53.512Z"
   },
   {
    "duration": 1711,
    "start_time": "2023-03-10T15:47:55.268Z"
   },
   {
    "duration": 2036,
    "start_time": "2023-03-10T15:47:56.981Z"
   },
   {
    "duration": 1728,
    "start_time": "2023-03-10T15:47:59.019Z"
   },
   {
    "duration": 366,
    "start_time": "2023-03-10T15:48:00.748Z"
   },
   {
    "duration": 670,
    "start_time": "2023-03-10T15:48:01.116Z"
   },
   {
    "duration": 6,
    "start_time": "2023-03-10T15:48:01.787Z"
   },
   {
    "duration": 44,
    "start_time": "2023-03-10T15:48:01.795Z"
   },
   {
    "duration": 238,
    "start_time": "2023-03-10T15:48:01.844Z"
   },
   {
    "duration": 6,
    "start_time": "2023-03-10T15:48:02.083Z"
   },
   {
    "duration": 196,
    "start_time": "2023-03-10T15:48:02.090Z"
   },
   {
    "duration": 90,
    "start_time": "2023-03-10T15:48:02.288Z"
   },
   {
    "duration": 5,
    "start_time": "2023-03-10T15:48:02.380Z"
   },
   {
    "duration": 91,
    "start_time": "2023-03-10T15:48:02.386Z"
   },
   {
    "duration": 7,
    "start_time": "2023-03-10T15:48:02.478Z"
   },
   {
    "duration": 5,
    "start_time": "2023-03-10T15:48:02.486Z"
   },
   {
    "duration": 23,
    "start_time": "2023-03-10T15:48:02.493Z"
   },
   {
    "duration": 2370,
    "start_time": "2023-03-10T15:48:02.517Z"
   },
   {
    "duration": 185,
    "start_time": "2023-03-10T15:48:04.892Z"
   },
   {
    "duration": 314,
    "start_time": "2023-03-10T15:48:05.079Z"
   },
   {
    "duration": 662,
    "start_time": "2023-03-10T15:48:05.395Z"
   },
   {
    "duration": 274,
    "start_time": "2023-03-10T15:48:06.059Z"
   },
   {
    "duration": 169,
    "start_time": "2023-03-10T15:48:06.335Z"
   },
   {
    "duration": 29,
    "start_time": "2023-03-10T15:48:06.506Z"
   },
   {
    "duration": 37,
    "start_time": "2023-03-10T15:48:06.537Z"
   },
   {
    "duration": 372,
    "start_time": "2023-03-10T15:48:06.576Z"
   },
   {
    "duration": 168,
    "start_time": "2023-03-10T15:48:06.950Z"
   },
   {
    "duration": 32,
    "start_time": "2023-03-10T15:48:07.120Z"
   },
   {
    "duration": 99,
    "start_time": "2023-03-10T15:48:07.153Z"
   },
   {
    "duration": 7,
    "start_time": "2023-03-10T15:48:07.254Z"
   },
   {
    "duration": 541,
    "start_time": "2023-03-10T15:48:07.263Z"
   },
   {
    "duration": 163,
    "start_time": "2023-03-10T15:48:07.806Z"
   },
   {
    "duration": 17,
    "start_time": "2023-03-10T15:48:07.971Z"
   },
   {
    "duration": 51,
    "start_time": "2023-03-10T15:48:07.990Z"
   },
   {
    "duration": 757,
    "start_time": "2023-03-10T15:48:08.046Z"
   },
   {
    "duration": 3,
    "start_time": "2023-03-10T15:48:08.805Z"
   },
   {
    "duration": 26,
    "start_time": "2023-03-10T15:48:08.809Z"
   },
   {
    "duration": 10,
    "start_time": "2023-03-10T15:48:08.841Z"
   },
   {
    "duration": 527,
    "start_time": "2023-03-10T15:48:08.853Z"
   },
   {
    "duration": 524,
    "start_time": "2023-03-10T15:48:09.382Z"
   },
   {
    "duration": 178,
    "start_time": "2023-03-10T15:48:09.908Z"
   },
   {
    "duration": 232,
    "start_time": "2023-03-10T15:48:10.088Z"
   },
   {
    "duration": 13,
    "start_time": "2023-03-10T15:48:10.322Z"
   },
   {
    "duration": 50,
    "start_time": "2023-03-10T15:48:10.336Z"
   },
   {
    "duration": 62,
    "start_time": "2023-03-10T15:48:10.388Z"
   },
   {
    "duration": 544,
    "start_time": "2023-03-10T15:48:10.452Z"
   },
   {
    "duration": 540,
    "start_time": "2023-03-10T15:48:10.998Z"
   },
   {
    "duration": 348,
    "start_time": "2023-03-10T15:48:11.544Z"
   },
   {
    "duration": 82,
    "start_time": "2023-03-10T15:48:11.894Z"
   },
   {
    "duration": 145,
    "start_time": "2023-03-10T15:48:11.977Z"
   },
   {
    "duration": 76,
    "start_time": "2023-03-10T15:48:12.132Z"
   },
   {
    "duration": 751,
    "start_time": "2023-03-10T15:48:12.210Z"
   },
   {
    "duration": 688,
    "start_time": "2023-03-10T15:48:12.963Z"
   },
   {
    "duration": 699,
    "start_time": "2023-03-10T15:48:13.653Z"
   },
   {
    "duration": 641,
    "start_time": "2023-03-10T15:48:14.358Z"
   },
   {
    "duration": 591,
    "start_time": "2023-03-10T15:48:15.000Z"
   },
   {
    "duration": 569,
    "start_time": "2023-03-10T15:48:15.593Z"
   },
   {
    "duration": 546,
    "start_time": "2023-03-10T15:48:16.164Z"
   },
   {
    "duration": 39,
    "start_time": "2023-03-10T15:48:16.712Z"
   },
   {
    "duration": 99,
    "start_time": "2023-03-10T15:48:16.752Z"
   },
   {
    "duration": 391,
    "start_time": "2023-03-10T15:48:16.853Z"
   },
   {
    "duration": 8,
    "start_time": "2023-03-10T15:48:17.247Z"
   },
   {
    "duration": 8,
    "start_time": "2023-03-10T15:48:17.257Z"
   },
   {
    "duration": 49,
    "start_time": "2023-03-10T15:48:17.268Z"
   },
   {
    "duration": 495,
    "start_time": "2023-03-10T15:48:17.320Z"
   },
   {
    "duration": 38,
    "start_time": "2023-03-10T15:48:29.500Z"
   },
   {
    "duration": 70,
    "start_time": "2023-03-10T15:48:40.358Z"
   },
   {
    "duration": 347,
    "start_time": "2023-03-10T15:50:23.518Z"
   },
   {
    "duration": 139,
    "start_time": "2023-03-10T15:51:08.713Z"
   },
   {
    "duration": 4,
    "start_time": "2023-03-10T15:52:25.145Z"
   },
   {
    "duration": 1820,
    "start_time": "2023-03-10T15:52:33.026Z"
   },
   {
    "duration": 37,
    "start_time": "2023-03-10T15:52:40.495Z"
   },
   {
    "duration": 69,
    "start_time": "2023-03-10T15:52:50.422Z"
   },
   {
    "duration": 257,
    "start_time": "2023-03-10T15:54:14.421Z"
   },
   {
    "duration": 2,
    "start_time": "2023-03-10T15:54:22.381Z"
   },
   {
    "duration": 77,
    "start_time": "2023-03-10T15:57:35.940Z"
   },
   {
    "duration": 38,
    "start_time": "2023-03-10T15:58:03.277Z"
   },
   {
    "duration": 39,
    "start_time": "2023-03-10T15:58:07.447Z"
   },
   {
    "duration": 214,
    "start_time": "2023-03-10T16:03:03.067Z"
   },
   {
    "duration": 19,
    "start_time": "2023-03-10T16:03:07.952Z"
   },
   {
    "duration": 25,
    "start_time": "2023-03-10T16:03:12.297Z"
   },
   {
    "duration": 7,
    "start_time": "2023-03-10T16:03:36.936Z"
   },
   {
    "duration": 375,
    "start_time": "2023-03-10T16:28:12.919Z"
   },
   {
    "duration": 7,
    "start_time": "2023-03-10T16:32:23.335Z"
   },
   {
    "duration": 5,
    "start_time": "2023-03-10T16:32:33.413Z"
   },
   {
    "duration": 6,
    "start_time": "2023-03-10T16:32:43.852Z"
   },
   {
    "duration": 5,
    "start_time": "2023-03-10T16:32:49.791Z"
   },
   {
    "duration": 9,
    "start_time": "2023-03-10T16:34:22.184Z"
   },
   {
    "duration": 10,
    "start_time": "2023-03-10T16:34:29.365Z"
   },
   {
    "duration": 4,
    "start_time": "2023-03-10T16:34:48.136Z"
   },
   {
    "duration": 115,
    "start_time": "2023-03-10T16:40:29.331Z"
   },
   {
    "duration": 5,
    "start_time": "2023-03-10T16:40:33.497Z"
   },
   {
    "duration": 25,
    "start_time": "2023-03-10T16:41:18.957Z"
   },
   {
    "duration": 216,
    "start_time": "2023-03-10T16:41:46.650Z"
   },
   {
    "duration": 180,
    "start_time": "2023-03-10T16:42:44.152Z"
   },
   {
    "duration": 199,
    "start_time": "2023-03-10T16:43:21.462Z"
   },
   {
    "duration": 204,
    "start_time": "2023-03-10T16:43:46.926Z"
   },
   {
    "duration": 4,
    "start_time": "2023-03-10T16:44:27.786Z"
   },
   {
    "duration": 195,
    "start_time": "2023-03-10T16:44:44.722Z"
   },
   {
    "duration": 17,
    "start_time": "2023-03-10T16:45:12.582Z"
   },
   {
    "duration": 4,
    "start_time": "2023-03-10T16:45:23.319Z"
   },
   {
    "duration": 4,
    "start_time": "2023-03-10T16:45:25.443Z"
   },
   {
    "duration": 221,
    "start_time": "2023-03-10T16:45:47.553Z"
   },
   {
    "duration": 4,
    "start_time": "2023-03-10T16:46:05.010Z"
   },
   {
    "duration": 208,
    "start_time": "2023-03-10T16:46:15.663Z"
   },
   {
    "duration": 3,
    "start_time": "2023-03-10T16:46:23.680Z"
   },
   {
    "duration": 1507,
    "start_time": "2023-03-10T16:46:25.996Z"
   },
   {
    "duration": 1411,
    "start_time": "2023-03-10T16:46:39.417Z"
   },
   {
    "duration": 6,
    "start_time": "2023-03-10T16:46:54.220Z"
   },
   {
    "duration": 18,
    "start_time": "2023-03-10T16:47:08.153Z"
   },
   {
    "duration": 262,
    "start_time": "2023-03-10T16:47:28.814Z"
   },
   {
    "duration": 453,
    "start_time": "2023-03-10T18:17:36.689Z"
   },
   {
    "duration": 347,
    "start_time": "2023-03-10T18:18:51.894Z"
   },
   {
    "duration": 216,
    "start_time": "2023-03-10T18:20:17.425Z"
   },
   {
    "duration": 347,
    "start_time": "2023-03-10T18:22:08.575Z"
   },
   {
    "duration": 305,
    "start_time": "2023-03-10T18:23:17.113Z"
   },
   {
    "duration": 303,
    "start_time": "2023-03-10T18:24:20.794Z"
   },
   {
    "duration": 5,
    "start_time": "2023-03-10T18:25:24.096Z"
   },
   {
    "duration": 26,
    "start_time": "2023-03-10T18:27:34.961Z"
   },
   {
    "duration": 31,
    "start_time": "2023-03-10T18:27:43.329Z"
   },
   {
    "duration": 14,
    "start_time": "2023-03-10T18:27:49.135Z"
   },
   {
    "duration": 289,
    "start_time": "2023-03-10T18:28:35.034Z"
   },
   {
    "duration": 28,
    "start_time": "2023-03-10T18:29:08.256Z"
   },
   {
    "duration": 434,
    "start_time": "2023-03-10T18:30:49.866Z"
   },
   {
    "duration": 3,
    "start_time": "2023-03-10T18:31:47.021Z"
   },
   {
    "duration": 36,
    "start_time": "2023-03-10T18:32:26.426Z"
   },
   {
    "duration": 271,
    "start_time": "2023-03-10T18:32:59.112Z"
   },
   {
    "duration": 70,
    "start_time": "2023-03-10T18:33:21.136Z"
   },
   {
    "duration": 51,
    "start_time": "2023-03-10T18:35:26.650Z"
   },
   {
    "duration": 3,
    "start_time": "2023-03-10T18:35:45.233Z"
   },
   {
    "duration": 37,
    "start_time": "2023-03-10T18:36:01.299Z"
   },
   {
    "duration": 76,
    "start_time": "2023-03-10T18:36:14.412Z"
   },
   {
    "duration": 62,
    "start_time": "2023-03-10T18:37:13.259Z"
   },
   {
    "duration": 75,
    "start_time": "2023-03-10T18:37:29.637Z"
   },
   {
    "duration": 6,
    "start_time": "2023-03-10T18:39:05.076Z"
   },
   {
    "duration": 38,
    "start_time": "2023-03-10T18:39:44.164Z"
   },
   {
    "duration": 239,
    "start_time": "2023-03-10T18:39:58.224Z"
   },
   {
    "duration": 26,
    "start_time": "2023-03-10T18:40:32.448Z"
   },
   {
    "duration": 231,
    "start_time": "2023-03-10T18:43:43.677Z"
   },
   {
    "duration": 200,
    "start_time": "2023-03-10T18:43:50.193Z"
   },
   {
    "duration": 193,
    "start_time": "2023-03-10T18:44:31.453Z"
   },
   {
    "duration": 210,
    "start_time": "2023-03-10T18:44:32.808Z"
   },
   {
    "duration": 3,
    "start_time": "2023-03-10T18:45:28.525Z"
   },
   {
    "duration": 2635,
    "start_time": "2023-03-11T10:31:56.613Z"
   },
   {
    "duration": 10,
    "start_time": "2023-03-11T10:31:59.255Z"
   },
   {
    "duration": 13919,
    "start_time": "2023-03-11T10:31:59.268Z"
   },
   {
    "duration": 6,
    "start_time": "2023-03-11T10:32:13.194Z"
   },
   {
    "duration": 14435,
    "start_time": "2023-03-11T10:32:13.203Z"
   },
   {
    "duration": 873,
    "start_time": "2023-03-11T10:32:27.648Z"
   },
   {
    "duration": 6,
    "start_time": "2023-03-11T10:32:28.524Z"
   },
   {
    "duration": 31,
    "start_time": "2023-03-11T10:32:28.532Z"
   },
   {
    "duration": 719,
    "start_time": "2023-03-11T10:32:28.568Z"
   },
   {
    "duration": 1804,
    "start_time": "2023-03-11T10:32:29.290Z"
   },
   {
    "duration": 1833,
    "start_time": "2023-03-11T10:32:31.102Z"
   },
   {
    "duration": 2033,
    "start_time": "2023-03-11T10:32:32.941Z"
   },
   {
    "duration": 1750,
    "start_time": "2023-03-11T10:32:34.976Z"
   },
   {
    "duration": 284,
    "start_time": "2023-03-11T10:32:36.731Z"
   },
   {
    "duration": 823,
    "start_time": "2023-03-11T10:32:37.018Z"
   },
   {
    "duration": 29,
    "start_time": "2023-03-11T10:32:37.847Z"
   },
   {
    "duration": 8,
    "start_time": "2023-03-11T10:32:37.878Z"
   },
   {
    "duration": 292,
    "start_time": "2023-03-11T10:32:37.894Z"
   },
   {
    "duration": 21,
    "start_time": "2023-03-11T10:32:38.196Z"
   },
   {
    "duration": 299,
    "start_time": "2023-03-11T10:32:38.219Z"
   },
   {
    "duration": 110,
    "start_time": "2023-03-11T10:32:38.520Z"
   },
   {
    "duration": 17,
    "start_time": "2023-03-11T10:32:38.632Z"
   },
   {
    "duration": 109,
    "start_time": "2023-03-11T10:32:38.651Z"
   },
   {
    "duration": 17,
    "start_time": "2023-03-11T10:32:38.766Z"
   },
   {
    "duration": 6,
    "start_time": "2023-03-11T10:32:38.789Z"
   },
   {
    "duration": 28,
    "start_time": "2023-03-11T10:32:38.800Z"
   },
   {
    "duration": 3377,
    "start_time": "2023-03-11T10:32:38.833Z"
   },
   {
    "duration": 270,
    "start_time": "2023-03-11T10:32:42.214Z"
   },
   {
    "duration": 257,
    "start_time": "2023-03-11T10:32:42.491Z"
   },
   {
    "duration": 563,
    "start_time": "2023-03-11T10:32:42.752Z"
   },
   {
    "duration": 257,
    "start_time": "2023-03-11T10:32:43.322Z"
   },
   {
    "duration": 184,
    "start_time": "2023-03-11T10:32:43.581Z"
   },
   {
    "duration": 30,
    "start_time": "2023-03-11T10:32:43.768Z"
   },
   {
    "duration": 52,
    "start_time": "2023-03-11T10:32:43.800Z"
   },
   {
    "duration": 269,
    "start_time": "2023-03-11T10:32:43.854Z"
   },
   {
    "duration": 178,
    "start_time": "2023-03-11T10:32:44.125Z"
   },
   {
    "duration": 22,
    "start_time": "2023-03-11T10:32:44.309Z"
   },
   {
    "duration": 160,
    "start_time": "2023-03-11T10:32:44.333Z"
   },
   {
    "duration": 12,
    "start_time": "2023-03-11T10:32:44.500Z"
   },
   {
    "duration": 554,
    "start_time": "2023-03-11T10:32:44.514Z"
   },
   {
    "duration": 195,
    "start_time": "2023-03-11T10:32:45.076Z"
   },
   {
    "duration": 22,
    "start_time": "2023-03-11T10:32:45.274Z"
   },
   {
    "duration": 101,
    "start_time": "2023-03-11T10:32:45.297Z"
   },
   {
    "duration": 760,
    "start_time": "2023-03-11T10:32:45.400Z"
   },
   {
    "duration": 2,
    "start_time": "2023-03-11T10:32:46.162Z"
   },
   {
    "duration": 33,
    "start_time": "2023-03-11T10:32:46.167Z"
   },
   {
    "duration": 14,
    "start_time": "2023-03-11T10:32:46.204Z"
   },
   {
    "duration": 561,
    "start_time": "2023-03-11T10:32:46.221Z"
   },
   {
    "duration": 499,
    "start_time": "2023-03-11T10:32:46.785Z"
   },
   {
    "duration": 269,
    "start_time": "2023-03-11T10:32:47.295Z"
   },
   {
    "duration": 178,
    "start_time": "2023-03-11T10:32:47.570Z"
   },
   {
    "duration": 7,
    "start_time": "2023-03-11T10:32:47.750Z"
   },
   {
    "duration": 84,
    "start_time": "2023-03-11T10:32:47.759Z"
   },
   {
    "duration": 89,
    "start_time": "2023-03-11T10:32:47.848Z"
   },
   {
    "duration": 526,
    "start_time": "2023-03-11T10:32:47.939Z"
   },
   {
    "duration": 530,
    "start_time": "2023-03-11T10:32:48.470Z"
   },
   {
    "duration": 396,
    "start_time": "2023-03-11T10:32:49.011Z"
   },
   {
    "duration": 76,
    "start_time": "2023-03-11T10:32:49.412Z"
   },
   {
    "duration": 117,
    "start_time": "2023-03-11T10:32:49.500Z"
   },
   {
    "duration": 82,
    "start_time": "2023-03-11T10:32:49.619Z"
   },
   {
    "duration": 624,
    "start_time": "2023-03-11T10:32:49.703Z"
   },
   {
    "duration": 619,
    "start_time": "2023-03-11T10:32:50.340Z"
   },
   {
    "duration": 655,
    "start_time": "2023-03-11T10:32:50.966Z"
   },
   {
    "duration": 620,
    "start_time": "2023-03-11T10:32:51.624Z"
   },
   {
    "duration": 557,
    "start_time": "2023-03-11T10:32:52.253Z"
   },
   {
    "duration": 522,
    "start_time": "2023-03-11T10:32:52.812Z"
   },
   {
    "duration": 488,
    "start_time": "2023-03-11T10:32:53.335Z"
   },
   {
    "duration": 37,
    "start_time": "2023-03-11T10:32:53.826Z"
   },
   {
    "duration": 69,
    "start_time": "2023-03-11T10:32:53.865Z"
   },
   {
    "duration": 299,
    "start_time": "2023-03-11T10:32:53.936Z"
   },
   {
    "duration": 3,
    "start_time": "2023-03-11T10:32:54.237Z"
   },
   {
    "duration": 10,
    "start_time": "2023-03-11T10:32:54.243Z"
   },
   {
    "duration": 44,
    "start_time": "2023-03-11T10:32:54.255Z"
   },
   {
    "duration": 458,
    "start_time": "2023-03-11T10:32:54.301Z"
   },
   {
    "duration": 43,
    "start_time": "2023-03-11T10:32:54.765Z"
   },
   {
    "duration": 101,
    "start_time": "2023-03-11T10:32:54.814Z"
   },
   {
    "duration": 306,
    "start_time": "2023-03-11T10:32:54.918Z"
   },
   {
    "duration": 98,
    "start_time": "2023-03-11T10:32:55.227Z"
   },
   {
    "duration": 3,
    "start_time": "2023-03-11T10:32:55.327Z"
   },
   {
    "duration": 55,
    "start_time": "2023-03-11T10:32:55.332Z"
   },
   {
    "duration": 64,
    "start_time": "2023-03-11T10:32:55.391Z"
   },
   {
    "duration": 310,
    "start_time": "2023-03-11T10:32:55.461Z"
   },
   {
    "duration": 4,
    "start_time": "2023-03-11T10:32:55.774Z"
   },
   {
    "duration": 89,
    "start_time": "2023-03-11T10:32:55.781Z"
   },
   {
    "duration": 50,
    "start_time": "2023-03-11T10:32:55.876Z"
   },
   {
    "duration": 246,
    "start_time": "2023-03-11T10:32:55.934Z"
   },
   {
    "duration": 40,
    "start_time": "2023-03-11T10:32:56.182Z"
   },
   {
    "duration": 11,
    "start_time": "2023-03-11T10:32:56.223Z"
   },
   {
    "duration": 444,
    "start_time": "2023-03-11T10:32:56.236Z"
   },
   {
    "duration": 11,
    "start_time": "2023-03-11T10:32:56.687Z"
   },
   {
    "duration": 41,
    "start_time": "2023-03-11T10:32:56.705Z"
   },
   {
    "duration": 302,
    "start_time": "2023-03-11T10:32:56.755Z"
   },
   {
    "duration": 2123,
    "start_time": "2023-03-11T10:32:57.059Z"
   },
   {
    "duration": 48,
    "start_time": "2023-03-11T10:32:59.188Z"
   },
   {
    "duration": 329,
    "start_time": "2023-03-11T10:32:59.242Z"
   },
   {
    "duration": 413,
    "start_time": "2023-03-11T10:32:59.572Z"
   },
   {
    "duration": 368,
    "start_time": "2023-03-11T10:32:59.987Z"
   },
   {
    "duration": 322,
    "start_time": "2023-03-11T10:33:00.362Z"
   },
   {
    "duration": 369,
    "start_time": "2023-03-11T10:33:00.697Z"
   },
   {
    "duration": 321,
    "start_time": "2023-03-11T10:33:01.072Z"
   },
   {
    "duration": 339,
    "start_time": "2023-03-11T10:33:01.400Z"
   },
   {
    "duration": 14,
    "start_time": "2023-03-11T10:33:01.748Z"
   },
   {
    "duration": 107,
    "start_time": "2023-03-11T10:33:01.769Z"
   },
   {
    "duration": 53,
    "start_time": "2023-03-11T10:33:01.883Z"
   },
   {
    "duration": 101,
    "start_time": "2023-03-11T10:33:01.948Z"
   },
   {
    "duration": 18,
    "start_time": "2023-03-11T10:33:02.061Z"
   },
   {
    "duration": 639,
    "start_time": "2023-03-11T10:33:02.089Z"
   },
   {
    "duration": 46,
    "start_time": "2023-03-11T10:33:02.730Z"
   },
   {
    "duration": 550,
    "start_time": "2023-03-11T10:33:02.778Z"
   },
   {
    "duration": 100,
    "start_time": "2023-03-11T10:33:03.332Z"
   },
   {
    "duration": 5,
    "start_time": "2023-03-11T10:33:03.438Z"
   },
   {
    "duration": 41,
    "start_time": "2023-03-11T10:33:03.446Z"
   },
   {
    "duration": 60,
    "start_time": "2023-03-11T10:33:03.492Z"
   },
   {
    "duration": 80,
    "start_time": "2023-03-11T10:33:03.563Z"
   },
   {
    "duration": 18,
    "start_time": "2023-03-11T10:33:03.649Z"
   },
   {
    "duration": 52,
    "start_time": "2023-03-11T10:33:03.674Z"
   },
   {
    "duration": 84,
    "start_time": "2023-03-11T10:33:03.732Z"
   },
   {
    "duration": 354,
    "start_time": "2023-03-11T10:33:03.819Z"
   },
   {
    "duration": 314,
    "start_time": "2023-03-11T10:33:04.178Z"
   },
   {
    "duration": 6,
    "start_time": "2023-03-11T10:33:04.494Z"
   },
   {
    "duration": 11,
    "start_time": "2023-03-11T10:33:32.525Z"
   },
   {
    "duration": 496,
    "start_time": "2023-03-11T10:34:30.464Z"
   },
   {
    "duration": 296,
    "start_time": "2023-03-11T10:34:40.051Z"
   },
   {
    "duration": 102,
    "start_time": "2023-03-11T10:34:55.168Z"
   },
   {
    "duration": 95,
    "start_time": "2023-03-11T10:35:04.498Z"
   },
   {
    "duration": 202,
    "start_time": "2023-03-11T10:36:48.911Z"
   },
   {
    "duration": 9,
    "start_time": "2023-03-11T10:37:25.188Z"
   },
   {
    "duration": 2195,
    "start_time": "2023-03-11T10:37:37.581Z"
   },
   {
    "duration": 3,
    "start_time": "2023-03-11T10:37:39.779Z"
   },
   {
    "duration": 12554,
    "start_time": "2023-03-11T10:37:39.783Z"
   },
   {
    "duration": 7,
    "start_time": "2023-03-11T10:37:52.339Z"
   },
   {
    "duration": 15984,
    "start_time": "2023-03-11T10:37:52.351Z"
   },
   {
    "duration": 754,
    "start_time": "2023-03-11T10:38:08.337Z"
   },
   {
    "duration": 9,
    "start_time": "2023-03-11T10:38:09.101Z"
   },
   {
    "duration": 22,
    "start_time": "2023-03-11T10:38:09.112Z"
   },
   {
    "duration": 785,
    "start_time": "2023-03-11T10:38:09.136Z"
   },
   {
    "duration": 1602,
    "start_time": "2023-03-11T10:38:09.923Z"
   },
   {
    "duration": 1592,
    "start_time": "2023-03-11T10:38:11.533Z"
   },
   {
    "duration": 1784,
    "start_time": "2023-03-11T10:38:13.127Z"
   },
   {
    "duration": 1479,
    "start_time": "2023-03-11T10:38:14.913Z"
   },
   {
    "duration": 220,
    "start_time": "2023-03-11T10:38:16.396Z"
   },
   {
    "duration": 598,
    "start_time": "2023-03-11T10:38:16.618Z"
   },
   {
    "duration": 6,
    "start_time": "2023-03-11T10:38:17.218Z"
   },
   {
    "duration": 8,
    "start_time": "2023-03-11T10:38:17.244Z"
   },
   {
    "duration": 179,
    "start_time": "2023-03-11T10:38:17.258Z"
   },
   {
    "duration": 11,
    "start_time": "2023-03-11T10:38:17.439Z"
   },
   {
    "duration": 322,
    "start_time": "2023-03-11T10:38:17.452Z"
   },
   {
    "duration": 90,
    "start_time": "2023-03-11T10:38:17.784Z"
   },
   {
    "duration": 74,
    "start_time": "2023-03-11T10:38:17.881Z"
   },
   {
    "duration": 191,
    "start_time": "2023-03-11T10:38:17.961Z"
   },
   {
    "duration": 55,
    "start_time": "2023-03-11T10:38:18.157Z"
   },
   {
    "duration": 121,
    "start_time": "2023-03-11T10:38:18.214Z"
   },
   {
    "duration": 78,
    "start_time": "2023-03-11T10:38:18.338Z"
   },
   {
    "duration": 2910,
    "start_time": "2023-03-11T10:38:18.418Z"
   },
   {
    "duration": 176,
    "start_time": "2023-03-11T10:38:21.330Z"
   },
   {
    "duration": 207,
    "start_time": "2023-03-11T10:38:21.508Z"
   },
   {
    "duration": 609,
    "start_time": "2023-03-11T10:38:21.717Z"
   },
   {
    "duration": 203,
    "start_time": "2023-03-11T10:38:22.327Z"
   },
   {
    "duration": 165,
    "start_time": "2023-03-11T10:38:22.532Z"
   },
   {
    "duration": 20,
    "start_time": "2023-03-11T10:38:22.699Z"
   },
   {
    "duration": 54,
    "start_time": "2023-03-11T10:38:22.721Z"
   },
   {
    "duration": 219,
    "start_time": "2023-03-11T10:38:22.777Z"
   },
   {
    "duration": 209,
    "start_time": "2023-03-11T10:38:22.997Z"
   },
   {
    "duration": 20,
    "start_time": "2023-03-11T10:38:23.208Z"
   },
   {
    "duration": 178,
    "start_time": "2023-03-11T10:38:23.230Z"
   },
   {
    "duration": 8,
    "start_time": "2023-03-11T10:38:23.410Z"
   },
   {
    "duration": 352,
    "start_time": "2023-03-11T10:38:23.420Z"
   },
   {
    "duration": 180,
    "start_time": "2023-03-11T10:38:23.783Z"
   },
   {
    "duration": 18,
    "start_time": "2023-03-11T10:38:23.966Z"
   },
   {
    "duration": 23,
    "start_time": "2023-03-11T10:38:23.989Z"
   },
   {
    "duration": 618,
    "start_time": "2023-03-11T10:38:24.014Z"
   },
   {
    "duration": 25,
    "start_time": "2023-03-11T10:38:24.634Z"
   },
   {
    "duration": 12,
    "start_time": "2023-03-11T10:38:24.661Z"
   },
   {
    "duration": 129,
    "start_time": "2023-03-11T10:38:24.676Z"
   },
   {
    "duration": 339,
    "start_time": "2023-03-11T10:38:24.808Z"
   },
   {
    "duration": 453,
    "start_time": "2023-03-11T10:38:25.153Z"
   },
   {
    "duration": 205,
    "start_time": "2023-03-11T10:38:25.608Z"
   },
   {
    "duration": 155,
    "start_time": "2023-03-11T10:38:25.815Z"
   },
   {
    "duration": 15,
    "start_time": "2023-03-11T10:38:25.972Z"
   },
   {
    "duration": 110,
    "start_time": "2023-03-11T10:38:25.989Z"
   },
   {
    "duration": 59,
    "start_time": "2023-03-11T10:38:26.101Z"
   },
   {
    "duration": 442,
    "start_time": "2023-03-11T10:38:26.169Z"
   },
   {
    "duration": 554,
    "start_time": "2023-03-11T10:38:26.614Z"
   },
   {
    "duration": 404,
    "start_time": "2023-03-11T10:38:27.173Z"
   },
   {
    "duration": 89,
    "start_time": "2023-03-11T10:38:27.579Z"
   },
   {
    "duration": 147,
    "start_time": "2023-03-11T10:38:27.670Z"
   },
   {
    "duration": 95,
    "start_time": "2023-03-11T10:38:27.820Z"
   },
   {
    "duration": 727,
    "start_time": "2023-03-11T10:38:27.919Z"
   },
   {
    "duration": 643,
    "start_time": "2023-03-11T10:38:28.648Z"
   },
   {
    "duration": 607,
    "start_time": "2023-03-11T10:38:29.307Z"
   },
   {
    "duration": 523,
    "start_time": "2023-03-11T10:38:29.915Z"
   },
   {
    "duration": 487,
    "start_time": "2023-03-11T10:38:30.447Z"
   },
   {
    "duration": 455,
    "start_time": "2023-03-11T10:38:30.936Z"
   },
   {
    "duration": 430,
    "start_time": "2023-03-11T10:38:31.393Z"
   },
   {
    "duration": 35,
    "start_time": "2023-03-11T10:38:31.825Z"
   },
   {
    "duration": 113,
    "start_time": "2023-03-11T10:38:31.862Z"
   },
   {
    "duration": 282,
    "start_time": "2023-03-11T10:38:31.977Z"
   },
   {
    "duration": 9,
    "start_time": "2023-03-11T10:38:32.264Z"
   },
   {
    "duration": 4,
    "start_time": "2023-03-11T10:38:32.276Z"
   },
   {
    "duration": 43,
    "start_time": "2023-03-11T10:38:32.285Z"
   },
   {
    "duration": 456,
    "start_time": "2023-03-11T10:38:32.330Z"
   },
   {
    "duration": 33,
    "start_time": "2023-03-11T10:38:32.788Z"
   },
   {
    "duration": 85,
    "start_time": "2023-03-11T10:38:32.823Z"
   },
   {
    "duration": 240,
    "start_time": "2023-03-11T10:38:32.911Z"
   },
   {
    "duration": 84,
    "start_time": "2023-03-11T10:38:33.153Z"
   },
   {
    "duration": 11,
    "start_time": "2023-03-11T10:38:33.240Z"
   },
   {
    "duration": 37,
    "start_time": "2023-03-11T10:38:33.258Z"
   },
   {
    "duration": 66,
    "start_time": "2023-03-11T10:38:33.297Z"
   },
   {
    "duration": 306,
    "start_time": "2023-03-11T10:38:33.365Z"
   },
   {
    "duration": 6,
    "start_time": "2023-03-11T10:38:33.674Z"
   },
   {
    "duration": 85,
    "start_time": "2023-03-11T10:38:33.682Z"
   },
   {
    "duration": 38,
    "start_time": "2023-03-11T10:38:33.769Z"
   },
   {
    "duration": 215,
    "start_time": "2023-03-11T10:38:33.809Z"
   },
   {
    "duration": 30,
    "start_time": "2023-03-11T10:38:34.027Z"
   },
   {
    "duration": 6,
    "start_time": "2023-03-11T10:38:34.060Z"
   },
   {
    "duration": 498,
    "start_time": "2023-03-11T10:38:34.068Z"
   },
   {
    "duration": 6,
    "start_time": "2023-03-11T10:38:34.568Z"
   },
   {
    "duration": 32,
    "start_time": "2023-03-11T10:38:34.576Z"
   },
   {
    "duration": 335,
    "start_time": "2023-03-11T10:38:34.610Z"
   },
   {
    "duration": 1720,
    "start_time": "2023-03-11T10:38:34.949Z"
   },
   {
    "duration": 32,
    "start_time": "2023-03-11T10:38:36.671Z"
   },
   {
    "duration": 320,
    "start_time": "2023-03-11T10:38:36.704Z"
   },
   {
    "duration": 355,
    "start_time": "2023-03-11T10:38:37.029Z"
   },
   {
    "duration": 323,
    "start_time": "2023-03-11T10:38:37.386Z"
   },
   {
    "duration": 258,
    "start_time": "2023-03-11T10:38:37.711Z"
   },
   {
    "duration": 326,
    "start_time": "2023-03-11T10:38:37.972Z"
   },
   {
    "duration": 289,
    "start_time": "2023-03-11T10:38:38.300Z"
   },
   {
    "duration": 255,
    "start_time": "2023-03-11T10:38:38.591Z"
   },
   {
    "duration": 9,
    "start_time": "2023-03-11T10:38:38.848Z"
   },
   {
    "duration": 33,
    "start_time": "2023-03-11T10:38:38.859Z"
   },
   {
    "duration": 15,
    "start_time": "2023-03-11T10:38:38.898Z"
   },
   {
    "duration": 56,
    "start_time": "2023-03-11T10:38:38.915Z"
   },
   {
    "duration": 5,
    "start_time": "2023-03-11T10:38:38.973Z"
   },
   {
    "duration": 391,
    "start_time": "2023-03-11T10:38:38.979Z"
   },
   {
    "duration": 37,
    "start_time": "2023-03-11T10:38:39.377Z"
   },
   {
    "duration": 298,
    "start_time": "2023-03-11T10:38:39.417Z"
   },
   {
    "duration": 81,
    "start_time": "2023-03-11T10:38:39.717Z"
   },
   {
    "duration": 4,
    "start_time": "2023-03-11T10:38:39.799Z"
   },
   {
    "duration": 54,
    "start_time": "2023-03-11T10:38:39.805Z"
   },
   {
    "duration": 73,
    "start_time": "2023-03-11T10:38:39.877Z"
   },
   {
    "duration": 68,
    "start_time": "2023-03-11T10:38:39.960Z"
   },
   {
    "duration": 16,
    "start_time": "2023-03-11T10:38:40.030Z"
   },
   {
    "duration": 55,
    "start_time": "2023-03-11T10:38:40.048Z"
   },
   {
    "duration": 52,
    "start_time": "2023-03-11T10:38:40.106Z"
   },
   {
    "duration": 258,
    "start_time": "2023-03-11T10:38:40.159Z"
   },
   {
    "duration": 218,
    "start_time": "2023-03-11T10:38:40.419Z"
   },
   {
    "duration": 3,
    "start_time": "2023-03-11T10:38:40.641Z"
   },
   {
    "duration": 412,
    "start_time": "2023-03-11T10:38:40.646Z"
   },
   {
    "duration": 222,
    "start_time": "2023-03-11T10:38:41.080Z"
   },
   {
    "duration": 104,
    "start_time": "2023-03-11T10:38:41.305Z"
   },
   {
    "duration": 106,
    "start_time": "2023-03-11T10:38:41.411Z"
   },
   {
    "duration": 198,
    "start_time": "2023-03-11T10:38:41.520Z"
   },
   {
    "duration": 0,
    "start_time": "2023-03-11T10:38:41.720Z"
   },
   {
    "duration": 13,
    "start_time": "2023-03-11T10:40:57.897Z"
   },
   {
    "duration": 43,
    "start_time": "2023-03-11T10:45:08.395Z"
   },
   {
    "duration": 217,
    "start_time": "2023-03-11T10:46:27.427Z"
   },
   {
    "duration": 98,
    "start_time": "2023-03-11T10:47:36.170Z"
   },
   {
    "duration": 242,
    "start_time": "2023-03-11T10:47:41.489Z"
   },
   {
    "duration": 19,
    "start_time": "2023-03-11T10:48:35.111Z"
   },
   {
    "duration": 80,
    "start_time": "2023-03-11T10:48:39.478Z"
   },
   {
    "duration": 53,
    "start_time": "2023-03-11T10:48:49.025Z"
   },
   {
    "duration": 13,
    "start_time": "2023-03-11T10:51:48.866Z"
   },
   {
    "duration": 1902,
    "start_time": "2023-03-11T10:53:28.921Z"
   },
   {
    "duration": 2,
    "start_time": "2023-03-11T10:53:30.826Z"
   },
   {
    "duration": 11900,
    "start_time": "2023-03-11T10:53:30.830Z"
   },
   {
    "duration": 4,
    "start_time": "2023-03-11T10:53:42.733Z"
   },
   {
    "duration": 14053,
    "start_time": "2023-03-11T10:53:42.739Z"
   },
   {
    "duration": 823,
    "start_time": "2023-03-11T10:53:56.797Z"
   },
   {
    "duration": 6,
    "start_time": "2023-03-11T10:53:57.627Z"
   },
   {
    "duration": 8,
    "start_time": "2023-03-11T10:53:57.636Z"
   },
   {
    "duration": 821,
    "start_time": "2023-03-11T10:53:57.658Z"
   },
   {
    "duration": 1963,
    "start_time": "2023-03-11T10:53:58.493Z"
   },
   {
    "duration": 1914,
    "start_time": "2023-03-11T10:54:00.458Z"
   },
   {
    "duration": 2200,
    "start_time": "2023-03-11T10:54:02.374Z"
   },
   {
    "duration": 1798,
    "start_time": "2023-03-11T10:54:04.576Z"
   },
   {
    "duration": 273,
    "start_time": "2023-03-11T10:54:06.379Z"
   },
   {
    "duration": 725,
    "start_time": "2023-03-11T10:54:06.654Z"
   },
   {
    "duration": 10,
    "start_time": "2023-03-11T10:54:07.384Z"
   },
   {
    "duration": 4,
    "start_time": "2023-03-11T10:54:07.400Z"
   },
   {
    "duration": 194,
    "start_time": "2023-03-11T10:54:07.406Z"
   },
   {
    "duration": 8,
    "start_time": "2023-03-11T10:54:07.604Z"
   },
   {
    "duration": 246,
    "start_time": "2023-03-11T10:54:07.616Z"
   },
   {
    "duration": 98,
    "start_time": "2023-03-11T10:54:07.869Z"
   },
   {
    "duration": 10,
    "start_time": "2023-03-11T10:54:07.970Z"
   },
   {
    "duration": 127,
    "start_time": "2023-03-11T10:54:07.986Z"
   },
   {
    "duration": 12,
    "start_time": "2023-03-11T10:54:08.121Z"
   },
   {
    "duration": 3,
    "start_time": "2023-03-11T10:54:08.136Z"
   },
   {
    "duration": 10,
    "start_time": "2023-03-11T10:54:08.149Z"
   },
   {
    "duration": 3255,
    "start_time": "2023-03-11T10:54:08.166Z"
   },
   {
    "duration": 202,
    "start_time": "2023-03-11T10:54:11.426Z"
   },
   {
    "duration": 284,
    "start_time": "2023-03-11T10:54:11.630Z"
   },
   {
    "duration": 647,
    "start_time": "2023-03-11T10:54:11.919Z"
   },
   {
    "duration": 198,
    "start_time": "2023-03-11T10:54:12.571Z"
   },
   {
    "duration": 165,
    "start_time": "2023-03-11T10:54:12.774Z"
   },
   {
    "duration": 29,
    "start_time": "2023-03-11T10:54:12.943Z"
   },
   {
    "duration": 47,
    "start_time": "2023-03-11T10:54:12.975Z"
   },
   {
    "duration": 285,
    "start_time": "2023-03-11T10:54:13.027Z"
   },
   {
    "duration": 180,
    "start_time": "2023-03-11T10:54:13.318Z"
   },
   {
    "duration": 21,
    "start_time": "2023-03-11T10:54:13.500Z"
   },
   {
    "duration": 200,
    "start_time": "2023-03-11T10:54:13.523Z"
   },
   {
    "duration": 18,
    "start_time": "2023-03-11T10:54:13.725Z"
   },
   {
    "duration": 514,
    "start_time": "2023-03-11T10:54:13.745Z"
   },
   {
    "duration": 233,
    "start_time": "2023-03-11T10:54:14.268Z"
   },
   {
    "duration": 19,
    "start_time": "2023-03-11T10:54:14.504Z"
   },
   {
    "duration": 29,
    "start_time": "2023-03-11T10:54:14.525Z"
   },
   {
    "duration": 810,
    "start_time": "2023-03-11T10:54:14.556Z"
   },
   {
    "duration": 8,
    "start_time": "2023-03-11T10:54:15.368Z"
   },
   {
    "duration": 15,
    "start_time": "2023-03-11T10:54:15.379Z"
   },
   {
    "duration": 156,
    "start_time": "2023-03-11T10:54:15.396Z"
   },
   {
    "duration": 505,
    "start_time": "2023-03-11T10:54:15.555Z"
   },
   {
    "duration": 9,
    "start_time": "2023-03-11T10:54:16.063Z"
   },
   {
    "duration": 581,
    "start_time": "2023-03-11T10:54:16.077Z"
   },
   {
    "duration": 228,
    "start_time": "2023-03-11T10:54:16.669Z"
   },
   {
    "duration": 184,
    "start_time": "2023-03-11T10:54:16.906Z"
   },
   {
    "duration": 6,
    "start_time": "2023-03-11T10:54:17.093Z"
   },
   {
    "duration": 57,
    "start_time": "2023-03-11T10:54:17.101Z"
   },
   {
    "duration": 72,
    "start_time": "2023-03-11T10:54:17.163Z"
   },
   {
    "duration": 537,
    "start_time": "2023-03-11T10:54:17.237Z"
   },
   {
    "duration": 611,
    "start_time": "2023-03-11T10:54:17.780Z"
   },
   {
    "duration": 418,
    "start_time": "2023-03-11T10:54:18.396Z"
   },
   {
    "duration": 89,
    "start_time": "2023-03-11T10:54:18.820Z"
   },
   {
    "duration": 143,
    "start_time": "2023-03-11T10:54:18.916Z"
   },
   {
    "duration": 104,
    "start_time": "2023-03-11T10:54:19.065Z"
   },
   {
    "duration": 786,
    "start_time": "2023-03-11T10:54:19.175Z"
   },
   {
    "duration": 689,
    "start_time": "2023-03-11T10:54:19.967Z"
   },
   {
    "duration": 690,
    "start_time": "2023-03-11T10:54:20.661Z"
   },
   {
    "duration": 713,
    "start_time": "2023-03-11T10:54:21.354Z"
   },
   {
    "duration": 713,
    "start_time": "2023-03-11T10:54:22.074Z"
   },
   {
    "duration": 595,
    "start_time": "2023-03-11T10:54:22.794Z"
   },
   {
    "duration": 565,
    "start_time": "2023-03-11T10:54:23.391Z"
   },
   {
    "duration": 49,
    "start_time": "2023-03-11T10:54:23.959Z"
   },
   {
    "duration": 121,
    "start_time": "2023-03-11T10:54:24.018Z"
   },
   {
    "duration": 336,
    "start_time": "2023-03-11T10:54:24.141Z"
   },
   {
    "duration": 6,
    "start_time": "2023-03-11T10:54:24.481Z"
   },
   {
    "duration": 10,
    "start_time": "2023-03-11T10:54:24.490Z"
   },
   {
    "duration": 57,
    "start_time": "2023-03-11T10:54:24.502Z"
   },
   {
    "duration": 517,
    "start_time": "2023-03-11T10:54:24.568Z"
   },
   {
    "duration": 41,
    "start_time": "2023-03-11T10:54:25.088Z"
   },
   {
    "duration": 92,
    "start_time": "2023-03-11T10:54:25.131Z"
   },
   {
    "duration": 342,
    "start_time": "2023-03-11T10:54:25.225Z"
   },
   {
    "duration": 119,
    "start_time": "2023-03-11T10:54:25.572Z"
   },
   {
    "duration": 17,
    "start_time": "2023-03-11T10:54:25.700Z"
   },
   {
    "duration": 66,
    "start_time": "2023-03-11T10:54:25.726Z"
   },
   {
    "duration": 82,
    "start_time": "2023-03-11T10:54:25.803Z"
   },
   {
    "duration": 356,
    "start_time": "2023-03-11T10:54:25.888Z"
   },
   {
    "duration": 9,
    "start_time": "2023-03-11T10:54:26.246Z"
   },
   {
    "duration": 99,
    "start_time": "2023-03-11T10:54:26.257Z"
   },
   {
    "duration": 40,
    "start_time": "2023-03-11T10:54:26.359Z"
   },
   {
    "duration": 272,
    "start_time": "2023-03-11T10:54:26.401Z"
   },
   {
    "duration": 40,
    "start_time": "2023-03-11T10:54:26.676Z"
   },
   {
    "duration": 3,
    "start_time": "2023-03-11T10:54:26.720Z"
   },
   {
    "duration": 491,
    "start_time": "2023-03-11T10:54:26.726Z"
   },
   {
    "duration": 6,
    "start_time": "2023-03-11T10:54:27.219Z"
   },
   {
    "duration": 82,
    "start_time": "2023-03-11T10:54:27.228Z"
   },
   {
    "duration": 335,
    "start_time": "2023-03-11T10:54:27.313Z"
   },
   {
    "duration": 2280,
    "start_time": "2023-03-11T10:54:27.650Z"
   },
   {
    "duration": 40,
    "start_time": "2023-03-11T10:54:29.934Z"
   },
   {
    "duration": 354,
    "start_time": "2023-03-11T10:54:29.976Z"
   },
   {
    "duration": 440,
    "start_time": "2023-03-11T10:54:30.333Z"
   },
   {
    "duration": 352,
    "start_time": "2023-03-11T10:54:30.783Z"
   },
   {
    "duration": 194,
    "start_time": "2023-03-11T10:54:31.141Z"
   },
   {
    "duration": 350,
    "start_time": "2023-03-11T10:54:31.343Z"
   },
   {
    "duration": 326,
    "start_time": "2023-03-11T10:54:31.698Z"
   },
   {
    "duration": 327,
    "start_time": "2023-03-11T10:54:32.029Z"
   },
   {
    "duration": 9,
    "start_time": "2023-03-11T10:54:32.361Z"
   },
   {
    "duration": 43,
    "start_time": "2023-03-11T10:54:32.376Z"
   },
   {
    "duration": 44,
    "start_time": "2023-03-11T10:54:32.421Z"
   },
   {
    "duration": 121,
    "start_time": "2023-03-11T10:54:32.468Z"
   },
   {
    "duration": 40,
    "start_time": "2023-03-11T10:54:32.597Z"
   },
   {
    "duration": 7,
    "start_time": "2023-03-11T10:54:32.639Z"
   },
   {
    "duration": 459,
    "start_time": "2023-03-11T10:54:32.649Z"
   },
   {
    "duration": 46,
    "start_time": "2023-03-11T10:54:33.110Z"
   },
   {
    "duration": 368,
    "start_time": "2023-03-11T10:54:33.158Z"
   },
   {
    "duration": 87,
    "start_time": "2023-03-11T10:54:33.529Z"
   },
   {
    "duration": 13,
    "start_time": "2023-03-11T10:54:33.619Z"
   },
   {
    "duration": 102,
    "start_time": "2023-03-11T10:54:33.634Z"
   },
   {
    "duration": 128,
    "start_time": "2023-03-11T10:54:33.739Z"
   },
   {
    "duration": 106,
    "start_time": "2023-03-11T10:54:33.869Z"
   },
   {
    "duration": 58,
    "start_time": "2023-03-11T10:54:33.977Z"
   },
   {
    "duration": 93,
    "start_time": "2023-03-11T10:54:34.038Z"
   },
   {
    "duration": 58,
    "start_time": "2023-03-11T10:54:34.136Z"
   },
   {
    "duration": 365,
    "start_time": "2023-03-11T10:54:34.201Z"
   },
   {
    "duration": 95,
    "start_time": "2023-03-11T10:54:34.568Z"
   },
   {
    "duration": 507,
    "start_time": "2023-03-11T10:54:34.667Z"
   },
   {
    "duration": 11,
    "start_time": "2023-03-11T10:54:35.176Z"
   },
   {
    "duration": 713,
    "start_time": "2023-03-11T10:54:35.191Z"
   },
   {
    "duration": 266,
    "start_time": "2023-03-11T10:54:35.909Z"
   },
   {
    "duration": 111,
    "start_time": "2023-03-11T10:54:36.177Z"
   },
   {
    "duration": 108,
    "start_time": "2023-03-11T10:54:36.293Z"
   },
   {
    "duration": 296,
    "start_time": "2023-03-11T10:54:36.407Z"
   },
   {
    "duration": 5,
    "start_time": "2023-03-11T10:54:36.706Z"
   },
   {
    "duration": 1814,
    "start_time": "2023-03-11T10:54:36.713Z"
   },
   {
    "duration": 54,
    "start_time": "2023-03-11T10:55:22.286Z"
   },
   {
    "duration": 266,
    "start_time": "2023-03-11T10:55:37.581Z"
   },
   {
    "duration": 1916,
    "start_time": "2023-03-11T10:56:17.991Z"
   },
   {
    "duration": 11853,
    "start_time": "2023-03-11T10:56:55.327Z"
   },
   {
    "duration": 1741,
    "start_time": "2023-03-11T10:57:08.842Z"
   },
   {
    "duration": 243,
    "start_time": "2023-03-11T10:57:22.569Z"
   },
   {
    "duration": 1581,
    "start_time": "2023-03-11T10:57:24.622Z"
   },
   {
    "duration": 2919,
    "start_time": "2023-03-11T10:57:55.364Z"
   },
   {
    "duration": 377,
    "start_time": "2023-03-11T10:57:58.286Z"
   },
   {
    "duration": 1536,
    "start_time": "2023-03-11T10:58:00.869Z"
   },
   {
    "duration": 9,
    "start_time": "2023-03-11T10:59:55.284Z"
   },
   {
    "duration": 1397,
    "start_time": "2023-03-11T11:00:41.313Z"
   },
   {
    "duration": 1834,
    "start_time": "2023-03-11T11:17:24.709Z"
   },
   {
    "duration": 1863,
    "start_time": "2023-03-11T11:18:10.333Z"
   },
   {
    "duration": 1821,
    "start_time": "2023-03-11T11:18:52.687Z"
   },
   {
    "duration": 178,
    "start_time": "2023-03-11T11:20:34.210Z"
   },
   {
    "duration": 3648,
    "start_time": "2023-03-11T11:20:37.628Z"
   },
   {
    "duration": 9,
    "start_time": "2023-03-11T11:20:41.289Z"
   },
   {
    "duration": 20999,
    "start_time": "2023-03-11T11:20:41.301Z"
   },
   {
    "duration": 10,
    "start_time": "2023-03-11T11:21:02.306Z"
   },
   {
    "duration": 18103,
    "start_time": "2023-03-11T11:21:02.323Z"
   },
   {
    "duration": 908,
    "start_time": "2023-03-11T11:21:20.436Z"
   },
   {
    "duration": 10,
    "start_time": "2023-03-11T11:21:21.346Z"
   },
   {
    "duration": 33,
    "start_time": "2023-03-11T11:21:21.359Z"
   },
   {
    "duration": 1105,
    "start_time": "2023-03-11T11:21:21.400Z"
   },
   {
    "duration": 2292,
    "start_time": "2023-03-11T11:21:22.511Z"
   },
   {
    "duration": 2315,
    "start_time": "2023-03-11T11:21:24.810Z"
   },
   {
    "duration": 2604,
    "start_time": "2023-03-11T11:21:27.128Z"
   },
   {
    "duration": 2154,
    "start_time": "2023-03-11T11:21:29.734Z"
   },
   {
    "duration": 415,
    "start_time": "2023-03-11T11:21:31.896Z"
   },
   {
    "duration": 904,
    "start_time": "2023-03-11T11:21:32.313Z"
   },
   {
    "duration": 24,
    "start_time": "2023-03-11T11:21:33.220Z"
   },
   {
    "duration": 8,
    "start_time": "2023-03-11T11:21:33.248Z"
   },
   {
    "duration": 380,
    "start_time": "2023-03-11T11:21:33.259Z"
   },
   {
    "duration": 10,
    "start_time": "2023-03-11T11:21:33.647Z"
   },
   {
    "duration": 378,
    "start_time": "2023-03-11T11:21:33.663Z"
   },
   {
    "duration": 124,
    "start_time": "2023-03-11T11:21:34.055Z"
   },
   {
    "duration": 40,
    "start_time": "2023-03-11T11:21:34.192Z"
   },
   {
    "duration": 173,
    "start_time": "2023-03-11T11:21:34.243Z"
   },
   {
    "duration": 12,
    "start_time": "2023-03-11T11:21:34.422Z"
   },
   {
    "duration": 16,
    "start_time": "2023-03-11T11:21:34.440Z"
   },
   {
    "duration": 22,
    "start_time": "2023-03-11T11:21:34.462Z"
   },
   {
    "duration": 3492,
    "start_time": "2023-03-11T11:21:34.486Z"
   },
   {
    "duration": 261,
    "start_time": "2023-03-11T11:21:37.983Z"
   },
   {
    "duration": 382,
    "start_time": "2023-03-11T11:21:38.246Z"
   },
   {
    "duration": 753,
    "start_time": "2023-03-11T11:21:38.631Z"
   },
   {
    "duration": 290,
    "start_time": "2023-03-11T11:21:39.390Z"
   },
   {
    "duration": 248,
    "start_time": "2023-03-11T11:21:39.687Z"
   },
   {
    "duration": 32,
    "start_time": "2023-03-11T11:21:39.944Z"
   },
   {
    "duration": 77,
    "start_time": "2023-03-11T11:21:39.982Z"
   },
   {
    "duration": 439,
    "start_time": "2023-03-11T11:21:40.066Z"
   },
   {
    "duration": 207,
    "start_time": "2023-03-11T11:21:40.512Z"
   },
   {
    "duration": 36,
    "start_time": "2023-03-11T11:21:40.730Z"
   },
   {
    "duration": 202,
    "start_time": "2023-03-11T11:21:40.772Z"
   },
   {
    "duration": 14,
    "start_time": "2023-03-11T11:21:40.986Z"
   },
   {
    "duration": 646,
    "start_time": "2023-03-11T11:21:41.006Z"
   },
   {
    "duration": 209,
    "start_time": "2023-03-11T11:21:41.664Z"
   },
   {
    "duration": 36,
    "start_time": "2023-03-11T11:21:41.881Z"
   },
   {
    "duration": 44,
    "start_time": "2023-03-11T11:21:41.922Z"
   },
   {
    "duration": 1127,
    "start_time": "2023-03-11T11:21:41.972Z"
   },
   {
    "duration": 16,
    "start_time": "2023-03-11T11:21:43.106Z"
   },
   {
    "duration": 21,
    "start_time": "2023-03-11T11:21:43.130Z"
   },
   {
    "duration": 22,
    "start_time": "2023-03-11T11:21:43.153Z"
   },
   {
    "duration": 639,
    "start_time": "2023-03-11T11:21:43.181Z"
   },
   {
    "duration": 12,
    "start_time": "2023-03-11T11:21:43.822Z"
   },
   {
    "duration": 632,
    "start_time": "2023-03-11T11:21:43.836Z"
   },
   {
    "duration": 246,
    "start_time": "2023-03-11T11:21:44.470Z"
   },
   {
    "duration": 209,
    "start_time": "2023-03-11T11:21:44.729Z"
   },
   {
    "duration": 24,
    "start_time": "2023-03-11T11:21:44.940Z"
   },
   {
    "duration": 57,
    "start_time": "2023-03-11T11:21:44.981Z"
   },
   {
    "duration": 102,
    "start_time": "2023-03-11T11:21:45.052Z"
   },
   {
    "duration": 612,
    "start_time": "2023-03-11T11:21:45.156Z"
   },
   {
    "duration": 642,
    "start_time": "2023-03-11T11:21:45.770Z"
   },
   {
    "duration": 397,
    "start_time": "2023-03-11T11:21:46.414Z"
   },
   {
    "duration": 104,
    "start_time": "2023-03-11T11:21:46.814Z"
   },
   {
    "duration": 178,
    "start_time": "2023-03-11T11:21:46.921Z"
   },
   {
    "duration": 115,
    "start_time": "2023-03-11T11:21:47.108Z"
   },
   {
    "duration": 864,
    "start_time": "2023-03-11T11:21:47.226Z"
   },
   {
    "duration": 786,
    "start_time": "2023-03-11T11:21:48.096Z"
   },
   {
    "duration": 794,
    "start_time": "2023-03-11T11:21:48.893Z"
   },
   {
    "duration": 886,
    "start_time": "2023-03-11T11:21:49.698Z"
   },
   {
    "duration": 624,
    "start_time": "2023-03-11T11:21:50.594Z"
   },
   {
    "duration": 593,
    "start_time": "2023-03-11T11:21:51.221Z"
   },
   {
    "duration": 559,
    "start_time": "2023-03-11T11:21:51.825Z"
   },
   {
    "duration": 39,
    "start_time": "2023-03-11T11:21:52.389Z"
   },
   {
    "duration": 106,
    "start_time": "2023-03-11T11:21:52.431Z"
   },
   {
    "duration": 398,
    "start_time": "2023-03-11T11:21:52.539Z"
   },
   {
    "duration": 43,
    "start_time": "2023-03-11T11:21:52.939Z"
   },
   {
    "duration": 16,
    "start_time": "2023-03-11T11:21:52.993Z"
   },
   {
    "duration": 49,
    "start_time": "2023-03-11T11:21:53.013Z"
   },
   {
    "duration": 527,
    "start_time": "2023-03-11T11:21:53.068Z"
   },
   {
    "duration": 43,
    "start_time": "2023-03-11T11:21:53.605Z"
   },
   {
    "duration": 108,
    "start_time": "2023-03-11T11:21:53.650Z"
   },
   {
    "duration": 374,
    "start_time": "2023-03-11T11:21:53.760Z"
   },
   {
    "duration": 146,
    "start_time": "2023-03-11T11:21:54.135Z"
   },
   {
    "duration": 6,
    "start_time": "2023-03-11T11:21:54.298Z"
   },
   {
    "duration": 48,
    "start_time": "2023-03-11T11:21:54.312Z"
   },
   {
    "duration": 100,
    "start_time": "2023-03-11T11:21:54.362Z"
   },
   {
    "duration": 363,
    "start_time": "2023-03-11T11:21:54.473Z"
   },
   {
    "duration": 11,
    "start_time": "2023-03-11T11:21:54.838Z"
   },
   {
    "duration": 112,
    "start_time": "2023-03-11T11:21:54.860Z"
   },
   {
    "duration": 44,
    "start_time": "2023-03-11T11:21:54.979Z"
   },
   {
    "duration": 286,
    "start_time": "2023-03-11T11:21:55.025Z"
   },
   {
    "duration": 41,
    "start_time": "2023-03-11T11:21:55.313Z"
   },
   {
    "duration": 9,
    "start_time": "2023-03-11T11:21:55.356Z"
   },
   {
    "duration": 451,
    "start_time": "2023-03-11T11:21:55.371Z"
   },
   {
    "duration": 4,
    "start_time": "2023-03-11T11:21:55.824Z"
   },
   {
    "duration": 36,
    "start_time": "2023-03-11T11:21:55.830Z"
   },
   {
    "duration": 329,
    "start_time": "2023-03-11T11:21:55.869Z"
   },
   {
    "duration": 2010,
    "start_time": "2023-03-11T11:21:56.209Z"
   },
   {
    "duration": 70,
    "start_time": "2023-03-11T11:21:58.230Z"
   },
   {
    "duration": 327,
    "start_time": "2023-03-11T11:21:58.304Z"
   },
   {
    "duration": 473,
    "start_time": "2023-03-11T11:21:58.633Z"
   },
   {
    "duration": 421,
    "start_time": "2023-03-11T11:21:59.112Z"
   },
   {
    "duration": 282,
    "start_time": "2023-03-11T11:21:59.535Z"
   },
   {
    "duration": 406,
    "start_time": "2023-03-11T11:21:59.820Z"
   },
   {
    "duration": 354,
    "start_time": "2023-03-11T11:22:00.228Z"
   },
   {
    "duration": 319,
    "start_time": "2023-03-11T11:22:00.585Z"
   },
   {
    "duration": 6,
    "start_time": "2023-03-11T11:22:00.906Z"
   },
   {
    "duration": 72,
    "start_time": "2023-03-11T11:22:00.913Z"
   },
   {
    "duration": 31,
    "start_time": "2023-03-11T11:22:00.987Z"
   },
   {
    "duration": 98,
    "start_time": "2023-03-11T11:22:01.020Z"
   },
   {
    "duration": 45,
    "start_time": "2023-03-11T11:22:01.120Z"
   },
   {
    "duration": 37,
    "start_time": "2023-03-11T11:22:01.168Z"
   },
   {
    "duration": 492,
    "start_time": "2023-03-11T11:22:01.207Z"
   },
   {
    "duration": 41,
    "start_time": "2023-03-11T11:22:01.705Z"
   },
   {
    "duration": 383,
    "start_time": "2023-03-11T11:22:01.755Z"
   },
   {
    "duration": 78,
    "start_time": "2023-03-11T11:22:02.146Z"
   },
   {
    "duration": 21,
    "start_time": "2023-03-11T11:22:02.226Z"
   },
   {
    "duration": 78,
    "start_time": "2023-03-11T11:22:02.248Z"
   },
   {
    "duration": 76,
    "start_time": "2023-03-11T11:22:02.328Z"
   },
   {
    "duration": 93,
    "start_time": "2023-03-11T11:22:02.407Z"
   },
   {
    "duration": 8,
    "start_time": "2023-03-11T11:22:02.504Z"
   },
   {
    "duration": 68,
    "start_time": "2023-03-11T11:22:02.516Z"
   },
   {
    "duration": 41,
    "start_time": "2023-03-11T11:22:02.586Z"
   },
   {
    "duration": 371,
    "start_time": "2023-03-11T11:22:02.629Z"
   },
   {
    "duration": 73,
    "start_time": "2023-03-11T11:22:03.002Z"
   },
   {
    "duration": 253,
    "start_time": "2023-03-11T11:22:03.083Z"
   },
   {
    "duration": 14,
    "start_time": "2023-03-11T11:22:03.338Z"
   },
   {
    "duration": 741,
    "start_time": "2023-03-11T11:22:03.355Z"
   },
   {
    "duration": 408,
    "start_time": "2023-03-11T11:22:04.098Z"
   },
   {
    "duration": 115,
    "start_time": "2023-03-11T11:22:04.507Z"
   },
   {
    "duration": 181,
    "start_time": "2023-03-11T11:22:04.625Z"
   },
   {
    "duration": 294,
    "start_time": "2023-03-11T11:22:04.812Z"
   },
   {
    "duration": 1609,
    "start_time": "2023-03-11T11:22:05.112Z"
   },
   {
    "duration": 89376,
    "start_time": "2023-03-11T11:22:38.113Z"
   },
   {
    "duration": 16,
    "start_time": "2023-03-11T11:24:18.502Z"
   },
   {
    "duration": 12,
    "start_time": "2023-03-11T11:24:30.461Z"
   },
   {
    "duration": 5572,
    "start_time": "2023-03-11T11:24:56.839Z"
   },
   {
    "duration": 3,
    "start_time": "2023-03-11T11:25:02.414Z"
   },
   {
    "duration": 18055,
    "start_time": "2023-03-11T11:25:02.419Z"
   },
   {
    "duration": 6,
    "start_time": "2023-03-11T11:25:20.477Z"
   },
   {
    "duration": 15811,
    "start_time": "2023-03-11T11:25:20.485Z"
   },
   {
    "duration": 930,
    "start_time": "2023-03-11T11:25:36.298Z"
   },
   {
    "duration": 9,
    "start_time": "2023-03-11T11:25:37.230Z"
   },
   {
    "duration": 3,
    "start_time": "2023-03-11T11:25:37.255Z"
   },
   {
    "duration": 894,
    "start_time": "2023-03-11T11:25:37.264Z"
   },
   {
    "duration": 2347,
    "start_time": "2023-03-11T11:25:38.161Z"
   },
   {
    "duration": 2401,
    "start_time": "2023-03-11T11:25:40.514Z"
   },
   {
    "duration": 2840,
    "start_time": "2023-03-11T11:25:42.917Z"
   },
   {
    "duration": 2289,
    "start_time": "2023-03-11T11:25:45.765Z"
   },
   {
    "duration": 416,
    "start_time": "2023-03-11T11:25:48.061Z"
   },
   {
    "duration": 935,
    "start_time": "2023-03-11T11:25:48.483Z"
   },
   {
    "duration": 12,
    "start_time": "2023-03-11T11:25:49.419Z"
   },
   {
    "duration": 29,
    "start_time": "2023-03-11T11:25:49.432Z"
   },
   {
    "duration": 362,
    "start_time": "2023-03-11T11:25:49.467Z"
   },
   {
    "duration": 12,
    "start_time": "2023-03-11T11:25:49.838Z"
   },
   {
    "duration": 352,
    "start_time": "2023-03-11T11:25:49.856Z"
   },
   {
    "duration": 114,
    "start_time": "2023-03-11T11:25:50.215Z"
   },
   {
    "duration": 20,
    "start_time": "2023-03-11T11:25:50.337Z"
   },
   {
    "duration": 119,
    "start_time": "2023-03-11T11:25:50.365Z"
   },
   {
    "duration": 12,
    "start_time": "2023-03-11T11:25:50.486Z"
   },
   {
    "duration": 15,
    "start_time": "2023-03-11T11:25:50.500Z"
   },
   {
    "duration": 7,
    "start_time": "2023-03-11T11:25:50.517Z"
   },
   {
    "duration": 3696,
    "start_time": "2023-03-11T11:25:50.526Z"
   },
   {
    "duration": 236,
    "start_time": "2023-03-11T11:25:54.228Z"
   },
   {
    "duration": 432,
    "start_time": "2023-03-11T11:25:54.475Z"
   },
   {
    "duration": 757,
    "start_time": "2023-03-11T11:25:54.915Z"
   },
   {
    "duration": 289,
    "start_time": "2023-03-11T11:25:55.675Z"
   },
   {
    "duration": 196,
    "start_time": "2023-03-11T11:25:55.969Z"
   },
   {
    "duration": 27,
    "start_time": "2023-03-11T11:25:56.167Z"
   },
   {
    "duration": 53,
    "start_time": "2023-03-11T11:25:56.242Z"
   },
   {
    "duration": 701,
    "start_time": "2023-03-11T11:25:56.298Z"
   },
   {
    "duration": 429,
    "start_time": "2023-03-11T11:25:57.050Z"
   },
   {
    "duration": 21,
    "start_time": "2023-03-11T11:25:57.481Z"
   },
   {
    "duration": 291,
    "start_time": "2023-03-11T11:25:57.504Z"
   },
   {
    "duration": 60,
    "start_time": "2023-03-11T11:25:57.798Z"
   },
   {
    "duration": 1241,
    "start_time": "2023-03-11T11:25:57.860Z"
   },
   {
    "duration": 392,
    "start_time": "2023-03-11T11:25:59.104Z"
   },
   {
    "duration": 28,
    "start_time": "2023-03-11T11:25:59.498Z"
   },
   {
    "duration": 56,
    "start_time": "2023-03-11T11:25:59.528Z"
   },
   {
    "duration": 859,
    "start_time": "2023-03-11T11:25:59.596Z"
   },
   {
    "duration": 2,
    "start_time": "2023-03-11T11:26:00.457Z"
   },
   {
    "duration": 111,
    "start_time": "2023-03-11T11:26:00.462Z"
   },
   {
    "duration": 108,
    "start_time": "2023-03-11T11:26:00.575Z"
   },
   {
    "duration": 612,
    "start_time": "2023-03-11T11:26:00.685Z"
   },
   {
    "duration": 8,
    "start_time": "2023-03-11T11:26:01.298Z"
   },
   {
    "duration": 672,
    "start_time": "2023-03-11T11:26:01.308Z"
   },
   {
    "duration": 257,
    "start_time": "2023-03-11T11:26:01.983Z"
   },
   {
    "duration": 223,
    "start_time": "2023-03-11T11:26:02.243Z"
   },
   {
    "duration": 3,
    "start_time": "2023-03-11T11:26:02.470Z"
   },
   {
    "duration": 48,
    "start_time": "2023-03-11T11:26:02.475Z"
   },
   {
    "duration": 81,
    "start_time": "2023-03-11T11:26:02.525Z"
   },
   {
    "duration": 644,
    "start_time": "2023-03-11T11:26:02.611Z"
   },
   {
    "duration": 757,
    "start_time": "2023-03-11T11:26:03.265Z"
   },
   {
    "duration": 537,
    "start_time": "2023-03-11T11:26:04.023Z"
   },
   {
    "duration": 95,
    "start_time": "2023-03-11T11:26:04.564Z"
   },
   {
    "duration": 162,
    "start_time": "2023-03-11T11:26:04.661Z"
   },
   {
    "duration": 99,
    "start_time": "2023-03-11T11:26:04.825Z"
   },
   {
    "duration": 849,
    "start_time": "2023-03-11T11:26:04.926Z"
   },
   {
    "duration": 747,
    "start_time": "2023-03-11T11:26:05.788Z"
   },
   {
    "duration": 724,
    "start_time": "2023-03-11T11:26:06.537Z"
   },
   {
    "duration": 764,
    "start_time": "2023-03-11T11:26:07.266Z"
   },
   {
    "duration": 686,
    "start_time": "2023-03-11T11:26:08.044Z"
   },
   {
    "duration": 619,
    "start_time": "2023-03-11T11:26:08.736Z"
   },
   {
    "duration": 572,
    "start_time": "2023-03-11T11:26:09.360Z"
   },
   {
    "duration": 49,
    "start_time": "2023-03-11T11:26:09.934Z"
   },
   {
    "duration": 102,
    "start_time": "2023-03-11T11:26:09.985Z"
   },
   {
    "duration": 407,
    "start_time": "2023-03-11T11:26:10.089Z"
   },
   {
    "duration": 8,
    "start_time": "2023-03-11T11:26:10.498Z"
   },
   {
    "duration": 11,
    "start_time": "2023-03-11T11:26:10.511Z"
   },
   {
    "duration": 56,
    "start_time": "2023-03-11T11:26:10.523Z"
   },
   {
    "duration": 511,
    "start_time": "2023-03-11T11:26:10.583Z"
   },
   {
    "duration": 41,
    "start_time": "2023-03-11T11:26:11.099Z"
   },
   {
    "duration": 130,
    "start_time": "2023-03-11T11:26:11.151Z"
   },
   {
    "duration": 343,
    "start_time": "2023-03-11T11:26:11.286Z"
   },
   {
    "duration": 154,
    "start_time": "2023-03-11T11:26:11.631Z"
   },
   {
    "duration": 9,
    "start_time": "2023-03-11T11:26:11.793Z"
   },
   {
    "duration": 74,
    "start_time": "2023-03-11T11:26:11.804Z"
   },
   {
    "duration": 113,
    "start_time": "2023-03-11T11:26:11.889Z"
   },
   {
    "duration": 466,
    "start_time": "2023-03-11T11:26:12.007Z"
   },
   {
    "duration": 4,
    "start_time": "2023-03-11T11:26:12.474Z"
   },
   {
    "duration": 87,
    "start_time": "2023-03-11T11:26:12.480Z"
   },
   {
    "duration": 64,
    "start_time": "2023-03-11T11:26:12.572Z"
   },
   {
    "duration": 294,
    "start_time": "2023-03-11T11:26:12.638Z"
   },
   {
    "duration": 53,
    "start_time": "2023-03-11T11:26:12.934Z"
   },
   {
    "duration": 2,
    "start_time": "2023-03-11T11:26:12.989Z"
   },
   {
    "duration": 478,
    "start_time": "2023-03-11T11:26:12.997Z"
   },
   {
    "duration": 13,
    "start_time": "2023-03-11T11:26:13.479Z"
   },
   {
    "duration": 48,
    "start_time": "2023-03-11T11:26:13.502Z"
   },
   {
    "duration": 325,
    "start_time": "2023-03-11T11:26:13.557Z"
   },
   {
    "duration": 1938,
    "start_time": "2023-03-11T11:26:13.885Z"
   },
   {
    "duration": 40,
    "start_time": "2023-03-11T11:26:15.825Z"
   },
   {
    "duration": 340,
    "start_time": "2023-03-11T11:26:15.870Z"
   },
   {
    "duration": 475,
    "start_time": "2023-03-11T11:26:16.219Z"
   },
   {
    "duration": 404,
    "start_time": "2023-03-11T11:26:16.704Z"
   },
   {
    "duration": 175,
    "start_time": "2023-03-11T11:26:17.110Z"
   },
   {
    "duration": 420,
    "start_time": "2023-03-11T11:26:17.287Z"
   },
   {
    "duration": 387,
    "start_time": "2023-03-11T11:26:17.709Z"
   },
   {
    "duration": 341,
    "start_time": "2023-03-11T11:26:18.098Z"
   },
   {
    "duration": 8,
    "start_time": "2023-03-11T11:26:18.441Z"
   },
   {
    "duration": 66,
    "start_time": "2023-03-11T11:26:18.453Z"
   },
   {
    "duration": 24,
    "start_time": "2023-03-11T11:26:18.521Z"
   },
   {
    "duration": 92,
    "start_time": "2023-03-11T11:26:18.547Z"
   },
   {
    "duration": 52,
    "start_time": "2023-03-11T11:26:18.646Z"
   },
   {
    "duration": 5,
    "start_time": "2023-03-11T11:26:18.707Z"
   },
   {
    "duration": 511,
    "start_time": "2023-03-11T11:26:18.720Z"
   },
   {
    "duration": 41,
    "start_time": "2023-03-11T11:26:19.238Z"
   },
   {
    "duration": 491,
    "start_time": "2023-03-11T11:26:19.281Z"
   },
   {
    "duration": 93,
    "start_time": "2023-03-11T11:26:19.776Z"
   },
   {
    "duration": 15,
    "start_time": "2023-03-11T11:26:19.872Z"
   },
   {
    "duration": 49,
    "start_time": "2023-03-11T11:26:19.898Z"
   },
   {
    "duration": 77,
    "start_time": "2023-03-11T11:26:19.953Z"
   },
   {
    "duration": 82,
    "start_time": "2023-03-11T11:26:20.033Z"
   },
   {
    "duration": 6,
    "start_time": "2023-03-11T11:26:20.118Z"
   },
   {
    "duration": 54,
    "start_time": "2023-03-11T11:26:20.125Z"
   },
   {
    "duration": 40,
    "start_time": "2023-03-11T11:26:20.193Z"
   },
   {
    "duration": 416,
    "start_time": "2023-03-11T11:26:20.235Z"
   },
   {
    "duration": 121,
    "start_time": "2023-03-11T11:26:20.657Z"
   },
   {
    "duration": 291,
    "start_time": "2023-03-11T11:26:20.785Z"
   },
   {
    "duration": 17,
    "start_time": "2023-03-11T11:26:21.083Z"
   },
   {
    "duration": 518,
    "start_time": "2023-03-11T11:26:21.112Z"
   },
   {
    "duration": 302,
    "start_time": "2023-03-11T11:26:21.632Z"
   },
   {
    "duration": 239,
    "start_time": "2023-03-11T11:26:21.936Z"
   },
   {
    "duration": 304,
    "start_time": "2023-03-11T11:26:22.182Z"
   },
   {
    "duration": 480,
    "start_time": "2023-03-11T11:26:22.496Z"
   },
   {
    "duration": 25,
    "start_time": "2023-03-11T11:28:01.358Z"
   },
   {
    "duration": 23852,
    "start_time": "2023-03-11T11:28:06.985Z"
   },
   {
    "duration": 104,
    "start_time": "2023-03-11T11:31:38.832Z"
   },
   {
    "duration": 2725,
    "start_time": "2023-03-11T11:31:43.934Z"
   },
   {
    "duration": 7,
    "start_time": "2023-03-11T11:31:46.665Z"
   },
   {
    "duration": 15149,
    "start_time": "2023-03-11T11:31:46.674Z"
   },
   {
    "duration": 3,
    "start_time": "2023-03-11T11:32:01.825Z"
   },
   {
    "duration": 15903,
    "start_time": "2023-03-11T11:32:01.831Z"
   },
   {
    "duration": 877,
    "start_time": "2023-03-11T11:32:17.737Z"
   },
   {
    "duration": 8,
    "start_time": "2023-03-11T11:32:18.616Z"
   },
   {
    "duration": 23,
    "start_time": "2023-03-11T11:32:18.626Z"
   },
   {
    "duration": 822,
    "start_time": "2023-03-11T11:32:18.658Z"
   },
   {
    "duration": 2044,
    "start_time": "2023-03-11T11:32:19.482Z"
   },
   {
    "duration": 1996,
    "start_time": "2023-03-11T11:32:21.528Z"
   },
   {
    "duration": 2260,
    "start_time": "2023-03-11T11:32:23.526Z"
   },
   {
    "duration": 1977,
    "start_time": "2023-03-11T11:32:25.793Z"
   },
   {
    "duration": 386,
    "start_time": "2023-03-11T11:32:27.774Z"
   },
   {
    "duration": 777,
    "start_time": "2023-03-11T11:32:28.162Z"
   },
   {
    "duration": 16,
    "start_time": "2023-03-11T11:32:28.941Z"
   },
   {
    "duration": 17,
    "start_time": "2023-03-11T11:32:28.959Z"
   },
   {
    "duration": 292,
    "start_time": "2023-03-11T11:32:28.977Z"
   },
   {
    "duration": 11,
    "start_time": "2023-03-11T11:32:29.280Z"
   },
   {
    "duration": 314,
    "start_time": "2023-03-11T11:32:29.302Z"
   },
   {
    "duration": 101,
    "start_time": "2023-03-11T11:32:29.618Z"
   },
   {
    "duration": 7,
    "start_time": "2023-03-11T11:32:29.721Z"
   },
   {
    "duration": 146,
    "start_time": "2023-03-11T11:32:29.730Z"
   },
   {
    "duration": 11,
    "start_time": "2023-03-11T11:32:29.881Z"
   },
   {
    "duration": 20,
    "start_time": "2023-03-11T11:32:40.839Z"
   },
   {
    "duration": 341,
    "start_time": "2023-03-11T11:33:44.469Z"
   },
   {
    "duration": 720,
    "start_time": "2023-03-11T11:33:48.040Z"
   },
   {
    "duration": 1639,
    "start_time": "2023-03-11T11:34:10.878Z"
   },
   {
    "duration": 3,
    "start_time": "2023-03-11T11:34:12.521Z"
   },
   {
    "duration": 14511,
    "start_time": "2023-03-11T11:34:12.525Z"
   },
   {
    "duration": 12,
    "start_time": "2023-03-11T11:34:27.038Z"
   },
   {
    "duration": 16120,
    "start_time": "2023-03-11T11:34:27.054Z"
   },
   {
    "duration": 699,
    "start_time": "2023-03-11T11:34:43.176Z"
   },
   {
    "duration": 9,
    "start_time": "2023-03-11T11:34:43.877Z"
   },
   {
    "duration": 6,
    "start_time": "2023-03-11T11:34:43.888Z"
   },
   {
    "duration": 695,
    "start_time": "2023-03-11T11:34:43.896Z"
   },
   {
    "duration": 1706,
    "start_time": "2023-03-11T11:34:44.593Z"
   },
   {
    "duration": 1715,
    "start_time": "2023-03-11T11:34:46.301Z"
   },
   {
    "duration": 2059,
    "start_time": "2023-03-11T11:34:48.019Z"
   },
   {
    "duration": 1610,
    "start_time": "2023-03-11T11:34:50.079Z"
   },
   {
    "duration": 345,
    "start_time": "2023-03-11T11:34:51.692Z"
   },
   {
    "duration": 678,
    "start_time": "2023-03-11T11:34:52.039Z"
   },
   {
    "duration": 5,
    "start_time": "2023-03-11T11:34:52.719Z"
   },
   {
    "duration": 5,
    "start_time": "2023-03-11T11:34:52.726Z"
   },
   {
    "duration": 249,
    "start_time": "2023-03-11T11:34:52.732Z"
   },
   {
    "duration": 8,
    "start_time": "2023-03-11T11:34:52.983Z"
   },
   {
    "duration": 209,
    "start_time": "2023-03-11T11:34:52.993Z"
   },
   {
    "duration": 99,
    "start_time": "2023-03-11T11:34:53.205Z"
   },
   {
    "duration": 5,
    "start_time": "2023-03-11T11:34:53.306Z"
   },
   {
    "duration": 103,
    "start_time": "2023-03-11T11:34:53.313Z"
   },
   {
    "duration": 6,
    "start_time": "2023-03-11T11:34:53.418Z"
   },
   {
    "duration": 4,
    "start_time": "2023-03-11T11:34:53.425Z"
   },
   {
    "duration": 33,
    "start_time": "2023-03-11T11:34:53.430Z"
   },
   {
    "duration": 2745,
    "start_time": "2023-03-11T11:34:53.467Z"
   },
   {
    "duration": 212,
    "start_time": "2023-03-11T11:34:56.214Z"
   },
   {
    "duration": 321,
    "start_time": "2023-03-11T11:34:56.428Z"
   },
   {
    "duration": 661,
    "start_time": "2023-03-11T11:34:56.758Z"
   },
   {
    "duration": 263,
    "start_time": "2023-03-11T11:34:57.421Z"
   },
   {
    "duration": 204,
    "start_time": "2023-03-11T11:34:57.691Z"
   },
   {
    "duration": 23,
    "start_time": "2023-03-11T11:34:57.897Z"
   },
   {
    "duration": 46,
    "start_time": "2023-03-11T11:34:57.922Z"
   },
   {
    "duration": 339,
    "start_time": "2023-03-11T11:34:57.976Z"
   },
   {
    "duration": 194,
    "start_time": "2023-03-11T11:34:58.317Z"
   },
   {
    "duration": 17,
    "start_time": "2023-03-11T11:34:58.513Z"
   },
   {
    "duration": 141,
    "start_time": "2023-03-11T11:34:58.532Z"
   },
   {
    "duration": 8,
    "start_time": "2023-03-11T11:34:58.675Z"
   },
   {
    "duration": 557,
    "start_time": "2023-03-11T11:34:58.686Z"
   },
   {
    "duration": 168,
    "start_time": "2023-03-11T11:34:59.251Z"
   },
   {
    "duration": 38,
    "start_time": "2023-03-11T11:34:59.422Z"
   },
   {
    "duration": 32,
    "start_time": "2023-03-11T11:34:59.469Z"
   },
   {
    "duration": 734,
    "start_time": "2023-03-11T11:34:59.503Z"
   },
   {
    "duration": 14,
    "start_time": "2023-03-11T11:35:00.249Z"
   },
   {
    "duration": 17,
    "start_time": "2023-03-11T11:35:00.269Z"
   },
   {
    "duration": 19,
    "start_time": "2023-03-11T11:35:00.288Z"
   },
   {
    "duration": 514,
    "start_time": "2023-03-11T11:35:00.309Z"
   },
   {
    "duration": 18,
    "start_time": "2023-03-11T11:35:00.826Z"
   },
   {
    "duration": 548,
    "start_time": "2023-03-11T11:35:00.846Z"
   },
   {
    "duration": 197,
    "start_time": "2023-03-11T11:35:01.396Z"
   },
   {
    "duration": 197,
    "start_time": "2023-03-11T11:35:01.595Z"
   },
   {
    "duration": 3,
    "start_time": "2023-03-11T11:35:01.794Z"
   },
   {
    "duration": 73,
    "start_time": "2023-03-11T11:35:01.799Z"
   },
   {
    "duration": 57,
    "start_time": "2023-03-11T11:35:01.888Z"
   },
   {
    "duration": 521,
    "start_time": "2023-03-11T11:35:01.948Z"
   },
   {
    "duration": 482,
    "start_time": "2023-03-11T11:35:02.475Z"
   },
   {
    "duration": 322,
    "start_time": "2023-03-11T11:35:02.959Z"
   },
   {
    "duration": 76,
    "start_time": "2023-03-11T11:35:03.283Z"
   },
   {
    "duration": 137,
    "start_time": "2023-03-11T11:35:03.362Z"
   },
   {
    "duration": 66,
    "start_time": "2023-03-11T11:35:03.501Z"
   },
   {
    "duration": 748,
    "start_time": "2023-03-11T11:35:03.570Z"
   },
   {
    "duration": 707,
    "start_time": "2023-03-11T11:35:04.321Z"
   },
   {
    "duration": 782,
    "start_time": "2023-03-11T11:35:05.030Z"
   },
   {
    "duration": 620,
    "start_time": "2023-03-11T11:35:05.814Z"
   },
   {
    "duration": 573,
    "start_time": "2023-03-11T11:35:06.436Z"
   },
   {
    "duration": 582,
    "start_time": "2023-03-11T11:35:07.011Z"
   },
   {
    "duration": 567,
    "start_time": "2023-03-11T11:35:07.595Z"
   },
   {
    "duration": 47,
    "start_time": "2023-03-11T11:35:08.170Z"
   },
   {
    "duration": 80,
    "start_time": "2023-03-11T11:35:08.219Z"
   },
   {
    "duration": 413,
    "start_time": "2023-03-11T11:35:08.302Z"
   },
   {
    "duration": 4,
    "start_time": "2023-03-11T11:35:08.717Z"
   },
   {
    "duration": 5,
    "start_time": "2023-03-11T11:35:08.722Z"
   },
   {
    "duration": 57,
    "start_time": "2023-03-11T11:35:08.728Z"
   },
   {
    "duration": 486,
    "start_time": "2023-03-11T11:35:08.787Z"
   },
   {
    "duration": 36,
    "start_time": "2023-03-11T11:35:09.277Z"
   },
   {
    "duration": 79,
    "start_time": "2023-03-11T11:35:09.315Z"
   },
   {
    "duration": 312,
    "start_time": "2023-03-11T11:35:09.396Z"
   },
   {
    "duration": 124,
    "start_time": "2023-03-11T11:35:09.710Z"
   },
   {
    "duration": 23,
    "start_time": "2023-03-11T11:35:09.836Z"
   },
   {
    "duration": 55,
    "start_time": "2023-03-11T11:35:09.874Z"
   },
   {
    "duration": 74,
    "start_time": "2023-03-11T11:35:09.931Z"
   },
   {
    "duration": 357,
    "start_time": "2023-03-11T11:35:10.007Z"
   },
   {
    "duration": 2,
    "start_time": "2023-03-11T11:35:10.372Z"
   },
   {
    "duration": 102,
    "start_time": "2023-03-11T11:35:10.376Z"
   },
   {
    "duration": 42,
    "start_time": "2023-03-11T11:35:10.480Z"
   },
   {
    "duration": 237,
    "start_time": "2023-03-11T11:35:10.523Z"
   },
   {
    "duration": 32,
    "start_time": "2023-03-11T11:35:10.766Z"
   },
   {
    "duration": 4,
    "start_time": "2023-03-11T11:35:10.799Z"
   },
   {
    "duration": 375,
    "start_time": "2023-03-11T11:35:10.805Z"
   },
   {
    "duration": 6,
    "start_time": "2023-03-11T11:35:11.184Z"
   },
   {
    "duration": 22,
    "start_time": "2023-03-11T11:35:11.192Z"
   },
   {
    "duration": 326,
    "start_time": "2023-03-11T11:35:11.216Z"
   },
   {
    "duration": 1545,
    "start_time": "2023-03-11T11:35:11.550Z"
   },
   {
    "duration": 19,
    "start_time": "2023-03-11T11:35:13.096Z"
   },
   {
    "duration": 293,
    "start_time": "2023-03-11T11:35:13.117Z"
   },
   {
    "duration": 426,
    "start_time": "2023-03-11T11:35:13.411Z"
   },
   {
    "duration": 370,
    "start_time": "2023-03-11T11:35:13.845Z"
   },
   {
    "duration": 183,
    "start_time": "2023-03-11T11:35:14.216Z"
   },
   {
    "duration": 334,
    "start_time": "2023-03-11T11:35:14.401Z"
   },
   {
    "duration": 329,
    "start_time": "2023-03-11T11:35:14.737Z"
   },
   {
    "duration": 276,
    "start_time": "2023-03-11T11:35:15.069Z"
   },
   {
    "duration": 5,
    "start_time": "2023-03-11T11:35:15.347Z"
   },
   {
    "duration": 39,
    "start_time": "2023-03-11T11:35:15.354Z"
   },
   {
    "duration": 12,
    "start_time": "2023-03-11T11:35:15.395Z"
   },
   {
    "duration": 93,
    "start_time": "2023-03-11T11:35:15.409Z"
   },
   {
    "duration": 42,
    "start_time": "2023-03-11T11:35:15.504Z"
   },
   {
    "duration": 3,
    "start_time": "2023-03-11T11:35:15.548Z"
   },
   {
    "duration": 435,
    "start_time": "2023-03-11T11:35:15.553Z"
   },
   {
    "duration": 34,
    "start_time": "2023-03-11T11:35:15.990Z"
   },
   {
    "duration": 341,
    "start_time": "2023-03-11T11:35:16.026Z"
   },
   {
    "duration": 80,
    "start_time": "2023-03-11T11:35:16.375Z"
   },
   {
    "duration": 19,
    "start_time": "2023-03-11T11:35:16.457Z"
   },
   {
    "duration": 48,
    "start_time": "2023-03-11T11:35:16.478Z"
   },
   {
    "duration": 73,
    "start_time": "2023-03-11T11:35:16.528Z"
   },
   {
    "duration": 65,
    "start_time": "2023-03-11T11:35:16.603Z"
   },
   {
    "duration": 29,
    "start_time": "2023-03-11T11:35:16.670Z"
   },
   {
    "duration": 37,
    "start_time": "2023-03-11T11:35:16.701Z"
   },
   {
    "duration": 56,
    "start_time": "2023-03-11T11:35:16.740Z"
   },
   {
    "duration": 401,
    "start_time": "2023-03-11T11:35:16.798Z"
   },
   {
    "duration": 79,
    "start_time": "2023-03-11T11:35:17.201Z"
   },
   {
    "duration": 320,
    "start_time": "2023-03-11T11:35:17.291Z"
   },
   {
    "duration": 3,
    "start_time": "2023-03-11T11:35:17.613Z"
   },
   {
    "duration": 547,
    "start_time": "2023-03-11T11:35:17.618Z"
   },
   {
    "duration": 255,
    "start_time": "2023-03-11T11:35:18.169Z"
   },
   {
    "duration": 139,
    "start_time": "2023-03-11T11:35:18.427Z"
   },
   {
    "duration": 123,
    "start_time": "2023-03-11T11:35:18.570Z"
   },
   {
    "duration": 267,
    "start_time": "2023-03-11T11:35:18.695Z"
   },
   {
    "duration": 17,
    "start_time": "2023-03-11T11:35:18.964Z"
   },
   {
    "duration": 15506,
    "start_time": "2023-03-11T11:35:18.983Z"
   },
   {
    "duration": 16483,
    "start_time": "2023-03-11T11:35:34.498Z"
   },
   {
    "duration": 0,
    "start_time": "2023-03-11T11:35:50.987Z"
   },
   {
    "duration": 0,
    "start_time": "2023-03-11T11:35:50.988Z"
   },
   {
    "duration": 409,
    "start_time": "2023-03-11T11:35:55.003Z"
   },
   {
    "duration": 4627,
    "start_time": "2023-03-11T11:36:06.891Z"
   },
   {
    "duration": 4735,
    "start_time": "2023-03-11T11:36:13.824Z"
   },
   {
    "duration": 629,
    "start_time": "2023-03-11T11:38:24.692Z"
   },
   {
    "duration": 6,
    "start_time": "2023-03-11T11:40:01.097Z"
   },
   {
    "duration": 3,
    "start_time": "2023-03-11T11:40:46.320Z"
   },
   {
    "duration": 1521,
    "start_time": "2023-03-11T11:40:53.015Z"
   },
   {
    "duration": 22,
    "start_time": "2023-03-11T11:40:54.538Z"
   },
   {
    "duration": 11132,
    "start_time": "2023-03-11T11:40:54.565Z"
   },
   {
    "duration": 3,
    "start_time": "2023-03-11T11:41:05.699Z"
   },
   {
    "duration": 14721,
    "start_time": "2023-03-11T11:41:05.703Z"
   },
   {
    "duration": 717,
    "start_time": "2023-03-11T11:41:20.426Z"
   },
   {
    "duration": 5,
    "start_time": "2023-03-11T11:41:21.150Z"
   },
   {
    "duration": 3,
    "start_time": "2023-03-11T11:41:21.157Z"
   },
   {
    "duration": 724,
    "start_time": "2023-03-11T11:41:21.162Z"
   },
   {
    "duration": 1624,
    "start_time": "2023-03-11T11:41:21.890Z"
   },
   {
    "duration": 1660,
    "start_time": "2023-03-11T11:41:23.516Z"
   },
   {
    "duration": 1886,
    "start_time": "2023-03-11T11:41:25.182Z"
   },
   {
    "duration": 1667,
    "start_time": "2023-03-11T11:41:27.070Z"
   },
   {
    "duration": 314,
    "start_time": "2023-03-11T11:41:28.741Z"
   },
   {
    "duration": 686,
    "start_time": "2023-03-11T11:41:29.059Z"
   },
   {
    "duration": 9,
    "start_time": "2023-03-11T11:41:29.746Z"
   },
   {
    "duration": 4,
    "start_time": "2023-03-11T11:41:29.758Z"
   },
   {
    "duration": 219,
    "start_time": "2023-03-11T11:41:29.763Z"
   },
   {
    "duration": 12,
    "start_time": "2023-03-11T11:41:29.988Z"
   },
   {
    "duration": 306,
    "start_time": "2023-03-11T11:41:30.004Z"
   },
   {
    "duration": 86,
    "start_time": "2023-03-11T11:41:30.313Z"
   },
   {
    "duration": 19,
    "start_time": "2023-03-11T11:41:30.400Z"
   },
   {
    "duration": 136,
    "start_time": "2023-03-11T11:41:30.421Z"
   },
   {
    "duration": 21,
    "start_time": "2023-03-11T11:41:30.565Z"
   },
   {
    "duration": 22,
    "start_time": "2023-03-11T11:41:30.588Z"
   },
   {
    "duration": 44,
    "start_time": "2023-03-11T11:41:30.612Z"
   },
   {
    "duration": 2632,
    "start_time": "2023-03-11T11:41:30.658Z"
   },
   {
    "duration": 167,
    "start_time": "2023-03-11T11:41:33.295Z"
   },
   {
    "duration": 206,
    "start_time": "2023-03-11T11:41:33.464Z"
   },
   {
    "duration": 6,
    "start_time": "2023-03-11T11:41:33.682Z"
   },
   {
    "duration": 616,
    "start_time": "2023-03-11T11:41:33.690Z"
   },
   {
    "duration": 260,
    "start_time": "2023-03-11T11:41:34.308Z"
   },
   {
    "duration": 164,
    "start_time": "2023-03-11T11:41:34.579Z"
   },
   {
    "duration": 22,
    "start_time": "2023-03-11T11:41:34.744Z"
   },
   {
    "duration": 31,
    "start_time": "2023-03-11T11:41:34.768Z"
   },
   {
    "duration": 298,
    "start_time": "2023-03-11T11:41:34.801Z"
   },
   {
    "duration": 176,
    "start_time": "2023-03-11T11:41:35.102Z"
   },
   {
    "duration": 22,
    "start_time": "2023-03-11T11:41:35.280Z"
   },
   {
    "duration": 146,
    "start_time": "2023-03-11T11:41:35.304Z"
   },
   {
    "duration": 12,
    "start_time": "2023-03-11T11:41:35.452Z"
   },
   {
    "duration": 446,
    "start_time": "2023-03-11T11:41:35.465Z"
   },
   {
    "duration": 185,
    "start_time": "2023-03-11T11:41:35.913Z"
   },
   {
    "duration": 15,
    "start_time": "2023-03-11T11:41:36.100Z"
   },
   {
    "duration": 54,
    "start_time": "2023-03-11T11:41:36.116Z"
   },
   {
    "duration": 697,
    "start_time": "2023-03-11T11:41:36.172Z"
   },
   {
    "duration": 5,
    "start_time": "2023-03-11T11:41:36.871Z"
   },
   {
    "duration": 14,
    "start_time": "2023-03-11T11:41:36.881Z"
   },
   {
    "duration": 6,
    "start_time": "2023-03-11T11:41:36.897Z"
   },
   {
    "duration": 459,
    "start_time": "2023-03-11T11:41:36.905Z"
   },
   {
    "duration": 8,
    "start_time": "2023-03-11T11:41:37.370Z"
   },
   {
    "duration": 542,
    "start_time": "2023-03-11T11:41:37.380Z"
   },
   {
    "duration": 258,
    "start_time": "2023-03-11T11:41:37.924Z"
   },
   {
    "duration": 207,
    "start_time": "2023-03-11T11:41:38.190Z"
   },
   {
    "duration": 3,
    "start_time": "2023-03-11T11:41:38.400Z"
   },
   {
    "duration": 66,
    "start_time": "2023-03-11T11:41:38.406Z"
   },
   {
    "duration": 57,
    "start_time": "2023-03-11T11:41:38.474Z"
   },
   {
    "duration": 512,
    "start_time": "2023-03-11T11:41:38.533Z"
   },
   {
    "duration": 531,
    "start_time": "2023-03-11T11:41:39.047Z"
   },
   {
    "duration": 342,
    "start_time": "2023-03-11T11:41:39.579Z"
   },
   {
    "duration": 77,
    "start_time": "2023-03-11T11:41:39.930Z"
   },
   {
    "duration": 192,
    "start_time": "2023-03-11T11:41:40.009Z"
   },
   {
    "duration": 87,
    "start_time": "2023-03-11T11:41:40.203Z"
   },
   {
    "duration": 706,
    "start_time": "2023-03-11T11:41:40.292Z"
   },
   {
    "duration": 654,
    "start_time": "2023-03-11T11:41:41.000Z"
   },
   {
    "duration": 748,
    "start_time": "2023-03-11T11:41:41.656Z"
   },
   {
    "duration": 597,
    "start_time": "2023-03-11T11:41:42.405Z"
   },
   {
    "duration": 581,
    "start_time": "2023-03-11T11:41:43.004Z"
   },
   {
    "duration": 537,
    "start_time": "2023-03-11T11:41:43.587Z"
   },
   {
    "duration": 490,
    "start_time": "2023-03-11T11:41:44.126Z"
   },
   {
    "duration": 41,
    "start_time": "2023-03-11T11:41:44.618Z"
   },
   {
    "duration": 68,
    "start_time": "2023-03-11T11:41:44.661Z"
   },
   {
    "duration": 339,
    "start_time": "2023-03-11T11:41:44.732Z"
   },
   {
    "duration": 7,
    "start_time": "2023-03-11T11:41:45.082Z"
   },
   {
    "duration": 3,
    "start_time": "2023-03-11T11:41:45.092Z"
   },
   {
    "duration": 38,
    "start_time": "2023-03-11T11:41:45.096Z"
   },
   {
    "duration": 442,
    "start_time": "2023-03-11T11:41:45.136Z"
   },
   {
    "duration": 32,
    "start_time": "2023-03-11T11:41:45.580Z"
   },
   {
    "duration": 92,
    "start_time": "2023-03-11T11:41:45.614Z"
   },
   {
    "duration": 299,
    "start_time": "2023-03-11T11:41:45.707Z"
   },
   {
    "duration": 114,
    "start_time": "2023-03-11T11:41:46.007Z"
   },
   {
    "duration": 3,
    "start_time": "2023-03-11T11:41:46.123Z"
   },
   {
    "duration": 64,
    "start_time": "2023-03-11T11:41:46.141Z"
   },
   {
    "duration": 77,
    "start_time": "2023-03-11T11:41:46.207Z"
   },
   {
    "duration": 302,
    "start_time": "2023-03-11T11:41:46.289Z"
   },
   {
    "duration": 3,
    "start_time": "2023-03-11T11:41:46.593Z"
   },
   {
    "duration": 116,
    "start_time": "2023-03-11T11:41:46.597Z"
   },
   {
    "duration": 44,
    "start_time": "2023-03-11T11:41:46.715Z"
   },
   {
    "duration": 264,
    "start_time": "2023-03-11T11:41:46.761Z"
   },
   {
    "duration": 48,
    "start_time": "2023-03-11T11:41:47.027Z"
   },
   {
    "duration": 43,
    "start_time": "2023-03-11T11:41:47.081Z"
   },
   {
    "duration": 467,
    "start_time": "2023-03-11T11:41:47.126Z"
   },
   {
    "duration": 6,
    "start_time": "2023-03-11T11:41:47.596Z"
   },
   {
    "duration": 28,
    "start_time": "2023-03-11T11:41:47.604Z"
   },
   {
    "duration": 284,
    "start_time": "2023-03-11T11:41:47.633Z"
   },
   {
    "duration": 1795,
    "start_time": "2023-03-11T11:41:47.919Z"
   },
   {
    "duration": 19,
    "start_time": "2023-03-11T11:41:49.716Z"
   },
   {
    "duration": 324,
    "start_time": "2023-03-11T11:41:49.741Z"
   },
   {
    "duration": 362,
    "start_time": "2023-03-11T11:41:50.071Z"
   },
   {
    "duration": 333,
    "start_time": "2023-03-11T11:41:50.443Z"
   },
   {
    "duration": 188,
    "start_time": "2023-03-11T11:41:50.778Z"
   },
   {
    "duration": 323,
    "start_time": "2023-03-11T11:41:50.968Z"
   },
   {
    "duration": 303,
    "start_time": "2023-03-11T11:41:51.293Z"
   },
   {
    "duration": 296,
    "start_time": "2023-03-11T11:41:51.597Z"
   },
   {
    "duration": 7,
    "start_time": "2023-03-11T11:41:51.896Z"
   },
   {
    "duration": 64,
    "start_time": "2023-03-11T11:41:51.905Z"
   },
   {
    "duration": 20,
    "start_time": "2023-03-11T11:41:51.975Z"
   },
   {
    "duration": 65,
    "start_time": "2023-03-11T11:41:51.997Z"
   },
   {
    "duration": 45,
    "start_time": "2023-03-11T11:41:52.069Z"
   },
   {
    "duration": 3,
    "start_time": "2023-03-11T11:41:52.116Z"
   },
   {
    "duration": 452,
    "start_time": "2023-03-11T11:41:52.121Z"
   },
   {
    "duration": 32,
    "start_time": "2023-03-11T11:41:52.577Z"
   },
   {
    "duration": 444,
    "start_time": "2023-03-11T11:41:52.611Z"
   },
   {
    "duration": 72,
    "start_time": "2023-03-11T11:41:53.060Z"
   },
   {
    "duration": 7,
    "start_time": "2023-03-11T11:41:53.135Z"
   },
   {
    "duration": 40,
    "start_time": "2023-03-11T11:41:53.153Z"
   },
   {
    "duration": 70,
    "start_time": "2023-03-11T11:41:53.194Z"
   },
   {
    "duration": 62,
    "start_time": "2023-03-11T11:41:53.271Z"
   },
   {
    "duration": 19,
    "start_time": "2023-03-11T11:41:53.335Z"
   },
   {
    "duration": 33,
    "start_time": "2023-03-11T11:41:53.355Z"
   },
   {
    "duration": 23,
    "start_time": "2023-03-11T11:41:53.390Z"
   },
   {
    "duration": 284,
    "start_time": "2023-03-11T11:41:53.415Z"
   },
   {
    "duration": 84,
    "start_time": "2023-03-11T11:41:53.701Z"
   },
   {
    "duration": 233,
    "start_time": "2023-03-11T11:41:53.789Z"
   },
   {
    "duration": 4,
    "start_time": "2023-03-11T11:41:54.024Z"
   },
   {
    "duration": 426,
    "start_time": "2023-03-11T11:41:54.029Z"
   },
   {
    "duration": 219,
    "start_time": "2023-03-11T11:41:54.467Z"
   },
   {
    "duration": 116,
    "start_time": "2023-03-11T11:41:54.688Z"
   },
   {
    "duration": 112,
    "start_time": "2023-03-11T11:41:54.807Z"
   },
   {
    "duration": 259,
    "start_time": "2023-03-11T11:41:54.920Z"
   },
   {
    "duration": 22227,
    "start_time": "2023-03-11T11:41:55.180Z"
   },
   {
    "duration": 5912,
    "start_time": "2023-03-11T11:42:17.410Z"
   },
   {
    "duration": 7055,
    "start_time": "2023-03-11T11:42:23.325Z"
   },
   {
    "duration": 4,
    "start_time": "2023-03-11T11:42:30.382Z"
   },
   {
    "duration": 716,
    "start_time": "2023-03-11T11:42:30.388Z"
   },
   {
    "duration": 4,
    "start_time": "2023-03-11T11:42:56.608Z"
   },
   {
    "duration": 3,
    "start_time": "2023-03-11T13:14:22.286Z"
   },
   {
    "duration": 1832,
    "start_time": "2023-03-11T13:16:10.288Z"
   },
   {
    "duration": 3,
    "start_time": "2023-03-11T13:16:12.123Z"
   },
   {
    "duration": 11298,
    "start_time": "2023-03-11T13:16:12.128Z"
   },
   {
    "duration": 4,
    "start_time": "2023-03-11T13:16:23.429Z"
   },
   {
    "duration": 15439,
    "start_time": "2023-03-11T13:16:23.435Z"
   },
   {
    "duration": 740,
    "start_time": "2023-03-11T13:16:38.876Z"
   },
   {
    "duration": 5,
    "start_time": "2023-03-11T13:16:39.618Z"
   },
   {
    "duration": 27,
    "start_time": "2023-03-11T13:16:39.624Z"
   },
   {
    "duration": 742,
    "start_time": "2023-03-11T13:16:39.653Z"
   },
   {
    "duration": 1897,
    "start_time": "2023-03-11T13:16:40.398Z"
   },
   {
    "duration": 1806,
    "start_time": "2023-03-11T13:16:42.297Z"
   },
   {
    "duration": 2132,
    "start_time": "2023-03-11T13:16:44.104Z"
   },
   {
    "duration": 1926,
    "start_time": "2023-03-11T13:16:46.238Z"
   },
   {
    "duration": 358,
    "start_time": "2023-03-11T13:16:48.166Z"
   },
   {
    "duration": 717,
    "start_time": "2023-03-11T13:16:48.526Z"
   },
   {
    "duration": 11,
    "start_time": "2023-03-11T13:16:49.249Z"
   },
   {
    "duration": 9,
    "start_time": "2023-03-11T13:16:49.262Z"
   },
   {
    "duration": 258,
    "start_time": "2023-03-11T13:16:49.273Z"
   },
   {
    "duration": 19,
    "start_time": "2023-03-11T13:16:49.533Z"
   },
   {
    "duration": 226,
    "start_time": "2023-03-11T13:16:49.554Z"
   },
   {
    "duration": 83,
    "start_time": "2023-03-11T13:16:49.787Z"
   },
   {
    "duration": 11,
    "start_time": "2023-03-11T13:16:49.872Z"
   },
   {
    "duration": 104,
    "start_time": "2023-03-11T13:16:49.885Z"
   },
   {
    "duration": 5,
    "start_time": "2023-03-11T13:16:49.991Z"
   },
   {
    "duration": 15,
    "start_time": "2023-03-11T13:16:49.998Z"
   },
   {
    "duration": 5,
    "start_time": "2023-03-11T13:16:50.015Z"
   },
   {
    "duration": 2659,
    "start_time": "2023-03-11T13:16:50.022Z"
   },
   {
    "duration": 199,
    "start_time": "2023-03-11T13:16:52.690Z"
   },
   {
    "duration": 308,
    "start_time": "2023-03-11T13:16:52.891Z"
   },
   {
    "duration": 3,
    "start_time": "2023-03-11T13:16:53.201Z"
   },
   {
    "duration": 653,
    "start_time": "2023-03-11T13:16:53.206Z"
   },
   {
    "duration": 240,
    "start_time": "2023-03-11T13:16:53.861Z"
   },
   {
    "duration": 174,
    "start_time": "2023-03-11T13:16:54.104Z"
   },
   {
    "duration": 22,
    "start_time": "2023-03-11T13:16:54.280Z"
   },
   {
    "duration": 47,
    "start_time": "2023-03-11T13:16:54.304Z"
   },
   {
    "duration": 305,
    "start_time": "2023-03-11T13:16:54.353Z"
   },
   {
    "duration": 155,
    "start_time": "2023-03-11T13:16:54.661Z"
   },
   {
    "duration": 27,
    "start_time": "2023-03-11T13:16:54.818Z"
   },
   {
    "duration": 120,
    "start_time": "2023-03-11T13:16:54.847Z"
   },
   {
    "duration": 10,
    "start_time": "2023-03-11T13:16:54.972Z"
   },
   {
    "duration": 526,
    "start_time": "2023-03-11T13:16:54.986Z"
   },
   {
    "duration": 178,
    "start_time": "2023-03-11T13:16:55.513Z"
   },
   {
    "duration": 13,
    "start_time": "2023-03-11T13:16:55.693Z"
   },
   {
    "duration": 51,
    "start_time": "2023-03-11T13:16:55.708Z"
   },
   {
    "duration": 756,
    "start_time": "2023-03-11T13:16:55.761Z"
   },
   {
    "duration": 3,
    "start_time": "2023-03-11T13:16:56.519Z"
   },
   {
    "duration": 21,
    "start_time": "2023-03-11T13:16:56.523Z"
   },
   {
    "duration": 11,
    "start_time": "2023-03-11T13:16:56.546Z"
   },
   {
    "duration": 528,
    "start_time": "2023-03-11T13:16:56.559Z"
   },
   {
    "duration": 8,
    "start_time": "2023-03-11T13:16:57.090Z"
   },
   {
    "duration": 588,
    "start_time": "2023-03-11T13:16:57.100Z"
   },
   {
    "duration": 217,
    "start_time": "2023-03-11T13:16:57.690Z"
   },
   {
    "duration": 227,
    "start_time": "2023-03-11T13:16:57.911Z"
   },
   {
    "duration": 4,
    "start_time": "2023-03-11T13:16:58.149Z"
   },
   {
    "duration": 57,
    "start_time": "2023-03-11T13:16:58.155Z"
   },
   {
    "duration": 90,
    "start_time": "2023-03-11T13:16:58.214Z"
   },
   {
    "duration": 572,
    "start_time": "2023-03-11T13:16:58.306Z"
   },
   {
    "duration": 532,
    "start_time": "2023-03-11T13:16:58.880Z"
   },
   {
    "duration": 380,
    "start_time": "2023-03-11T13:16:59.414Z"
   },
   {
    "duration": 90,
    "start_time": "2023-03-11T13:16:59.796Z"
   },
   {
    "duration": 141,
    "start_time": "2023-03-11T13:16:59.887Z"
   },
   {
    "duration": 78,
    "start_time": "2023-03-11T13:17:00.030Z"
   },
   {
    "duration": 779,
    "start_time": "2023-03-11T13:17:00.110Z"
   },
   {
    "duration": 715,
    "start_time": "2023-03-11T13:17:00.892Z"
   },
   {
    "duration": 702,
    "start_time": "2023-03-11T13:17:01.609Z"
   },
   {
    "duration": 629,
    "start_time": "2023-03-11T13:17:02.313Z"
   },
   {
    "duration": 608,
    "start_time": "2023-03-11T13:17:02.944Z"
   },
   {
    "duration": 529,
    "start_time": "2023-03-11T13:17:03.554Z"
   },
   {
    "duration": 533,
    "start_time": "2023-03-11T13:17:04.084Z"
   },
   {
    "duration": 42,
    "start_time": "2023-03-11T13:17:04.619Z"
   },
   {
    "duration": 92,
    "start_time": "2023-03-11T13:17:04.663Z"
   },
   {
    "duration": 435,
    "start_time": "2023-03-11T13:17:04.757Z"
   },
   {
    "duration": 6,
    "start_time": "2023-03-11T13:17:05.194Z"
   },
   {
    "duration": 9,
    "start_time": "2023-03-11T13:17:05.202Z"
   },
   {
    "duration": 71,
    "start_time": "2023-03-11T13:17:05.213Z"
   },
   {
    "duration": 469,
    "start_time": "2023-03-11T13:17:05.287Z"
   },
   {
    "duration": 41,
    "start_time": "2023-03-11T13:17:05.758Z"
   },
   {
    "duration": 96,
    "start_time": "2023-03-11T13:17:05.801Z"
   },
   {
    "duration": 435,
    "start_time": "2023-03-11T13:17:05.899Z"
   },
   {
    "duration": 124,
    "start_time": "2023-03-11T13:17:06.336Z"
   },
   {
    "duration": 2,
    "start_time": "2023-03-11T13:17:06.466Z"
   },
   {
    "duration": 40,
    "start_time": "2023-03-11T13:17:06.477Z"
   },
   {
    "duration": 98,
    "start_time": "2023-03-11T13:17:06.519Z"
   },
   {
    "duration": 388,
    "start_time": "2023-03-11T13:17:06.619Z"
   },
   {
    "duration": 3,
    "start_time": "2023-03-11T13:17:07.008Z"
   },
   {
    "duration": 105,
    "start_time": "2023-03-11T13:17:07.013Z"
   },
   {
    "duration": 50,
    "start_time": "2023-03-11T13:17:07.121Z"
   },
   {
    "duration": 242,
    "start_time": "2023-03-11T13:17:07.173Z"
   },
   {
    "duration": 33,
    "start_time": "2023-03-11T13:17:07.419Z"
   },
   {
    "duration": 20,
    "start_time": "2023-03-11T13:17:07.454Z"
   },
   {
    "duration": 443,
    "start_time": "2023-03-11T13:17:07.476Z"
   },
   {
    "duration": 4,
    "start_time": "2023-03-11T13:17:07.921Z"
   },
   {
    "duration": 43,
    "start_time": "2023-03-11T13:17:07.927Z"
   },
   {
    "duration": 357,
    "start_time": "2023-03-11T13:17:07.972Z"
   },
   {
    "duration": 1738,
    "start_time": "2023-03-11T13:17:08.331Z"
   },
   {
    "duration": 33,
    "start_time": "2023-03-11T13:17:10.071Z"
   },
   {
    "duration": 4,
    "start_time": "2023-03-11T13:17:10.106Z"
   },
   {
    "duration": 315,
    "start_time": "2023-03-11T13:17:10.112Z"
   },
   {
    "duration": 398,
    "start_time": "2023-03-11T13:17:10.429Z"
   },
   {
    "duration": 375,
    "start_time": "2023-03-11T13:17:10.830Z"
   },
   {
    "duration": 178,
    "start_time": "2023-03-11T13:17:11.207Z"
   },
   {
    "duration": 322,
    "start_time": "2023-03-11T13:17:11.388Z"
   },
   {
    "duration": 324,
    "start_time": "2023-03-11T13:17:11.711Z"
   },
   {
    "duration": 316,
    "start_time": "2023-03-11T13:17:12.036Z"
   },
   {
    "duration": 9,
    "start_time": "2023-03-11T13:17:12.354Z"
   },
   {
    "duration": 36,
    "start_time": "2023-03-11T13:17:12.366Z"
   },
   {
    "duration": 13,
    "start_time": "2023-03-11T13:17:12.403Z"
   },
   {
    "duration": 98,
    "start_time": "2023-03-11T13:17:12.417Z"
   },
   {
    "duration": 44,
    "start_time": "2023-03-11T13:17:12.516Z"
   },
   {
    "duration": 3,
    "start_time": "2023-03-11T13:17:12.561Z"
   },
   {
    "duration": 424,
    "start_time": "2023-03-11T13:17:12.567Z"
   },
   {
    "duration": 48,
    "start_time": "2023-03-11T13:17:12.993Z"
   },
   {
    "duration": 465,
    "start_time": "2023-03-11T13:17:13.043Z"
   },
   {
    "duration": 90,
    "start_time": "2023-03-11T13:17:13.510Z"
   },
   {
    "duration": 5,
    "start_time": "2023-03-11T13:17:13.603Z"
   },
   {
    "duration": 60,
    "start_time": "2023-03-11T13:17:13.610Z"
   },
   {
    "duration": 67,
    "start_time": "2023-03-11T13:17:13.681Z"
   },
   {
    "duration": 75,
    "start_time": "2023-03-11T13:17:13.758Z"
   },
   {
    "duration": 4,
    "start_time": "2023-03-11T13:17:13.834Z"
   },
   {
    "duration": 7,
    "start_time": "2023-03-11T13:17:13.840Z"
   },
   {
    "duration": 36,
    "start_time": "2023-03-11T13:17:13.849Z"
   },
   {
    "duration": 28,
    "start_time": "2023-03-11T13:17:13.894Z"
   },
   {
    "duration": 393,
    "start_time": "2023-03-11T13:17:13.924Z"
   },
   {
    "duration": 88,
    "start_time": "2023-03-11T13:17:14.319Z"
   },
   {
    "duration": 239,
    "start_time": "2023-03-11T13:17:14.409Z"
   },
   {
    "duration": 14,
    "start_time": "2023-03-11T13:17:14.650Z"
   },
   {
    "duration": 431,
    "start_time": "2023-03-11T13:17:14.668Z"
   },
   {
    "duration": 286,
    "start_time": "2023-03-11T13:17:15.101Z"
   },
   {
    "duration": 113,
    "start_time": "2023-03-11T13:17:15.389Z"
   },
   {
    "duration": 120,
    "start_time": "2023-03-11T13:17:15.504Z"
   },
   {
    "duration": 363,
    "start_time": "2023-03-11T13:17:15.626Z"
   },
   {
    "duration": 22861,
    "start_time": "2023-03-11T13:17:15.991Z"
   },
   {
    "duration": 8540,
    "start_time": "2023-03-11T13:17:38.855Z"
   },
   {
    "duration": 9205,
    "start_time": "2023-03-11T13:17:47.401Z"
   },
   {
    "duration": 4,
    "start_time": "2023-03-11T13:17:56.608Z"
   },
   {
    "duration": 715,
    "start_time": "2023-03-11T13:17:56.614Z"
   },
   {
    "duration": 2,
    "start_time": "2023-03-11T13:19:04.534Z"
   },
   {
    "duration": 144,
    "start_time": "2023-03-11T13:19:04.538Z"
   },
   {
    "duration": 0,
    "start_time": "2023-03-11T13:19:04.686Z"
   },
   {
    "duration": 0,
    "start_time": "2023-03-11T13:19:04.687Z"
   },
   {
    "duration": 0,
    "start_time": "2023-03-11T13:19:04.689Z"
   },
   {
    "duration": 0,
    "start_time": "2023-03-11T13:19:04.691Z"
   },
   {
    "duration": 0,
    "start_time": "2023-03-11T13:19:04.692Z"
   },
   {
    "duration": 0,
    "start_time": "2023-03-11T13:19:04.694Z"
   },
   {
    "duration": 0,
    "start_time": "2023-03-11T13:19:04.695Z"
   },
   {
    "duration": 0,
    "start_time": "2023-03-11T13:19:04.696Z"
   },
   {
    "duration": 1,
    "start_time": "2023-03-11T13:19:04.697Z"
   },
   {
    "duration": 99,
    "start_time": "2023-03-11T13:19:21.321Z"
   },
   {
    "duration": 4,
    "start_time": "2023-03-11T13:19:55.191Z"
   },
   {
    "duration": 419,
    "start_time": "2023-03-11T13:19:55.199Z"
   },
   {
    "duration": 242,
    "start_time": "2023-03-11T13:19:55.620Z"
   },
   {
    "duration": 106,
    "start_time": "2023-03-11T13:19:55.864Z"
   },
   {
    "duration": 107,
    "start_time": "2023-03-11T13:19:55.973Z"
   },
   {
    "duration": 371,
    "start_time": "2023-03-11T13:19:56.082Z"
   },
   {
    "duration": 3567,
    "start_time": "2023-03-11T13:19:56.456Z"
   },
   {
    "duration": 0,
    "start_time": "2023-03-11T13:20:00.024Z"
   },
   {
    "duration": 0,
    "start_time": "2023-03-11T13:20:00.026Z"
   },
   {
    "duration": 0,
    "start_time": "2023-03-11T13:20:00.027Z"
   },
   {
    "duration": 0,
    "start_time": "2023-03-11T13:20:00.028Z"
   },
   {
    "duration": 1987,
    "start_time": "2023-03-11T13:20:31.094Z"
   },
   {
    "duration": 5,
    "start_time": "2023-03-11T13:20:33.083Z"
   },
   {
    "duration": 12266,
    "start_time": "2023-03-11T13:20:33.095Z"
   },
   {
    "duration": 8,
    "start_time": "2023-03-11T13:20:45.363Z"
   },
   {
    "duration": 15857,
    "start_time": "2023-03-11T13:20:45.374Z"
   },
   {
    "duration": 757,
    "start_time": "2023-03-11T13:21:01.233Z"
   },
   {
    "duration": 6,
    "start_time": "2023-03-11T13:21:01.993Z"
   },
   {
    "duration": 22,
    "start_time": "2023-03-11T13:21:02.003Z"
   },
   {
    "duration": 789,
    "start_time": "2023-03-11T13:21:02.027Z"
   },
   {
    "duration": 1903,
    "start_time": "2023-03-11T13:21:02.818Z"
   },
   {
    "duration": 1833,
    "start_time": "2023-03-11T13:21:04.722Z"
   },
   {
    "duration": 2267,
    "start_time": "2023-03-11T13:21:06.561Z"
   },
   {
    "duration": 1770,
    "start_time": "2023-03-11T13:21:08.830Z"
   },
   {
    "duration": 315,
    "start_time": "2023-03-11T13:21:10.604Z"
   },
   {
    "duration": 715,
    "start_time": "2023-03-11T13:21:10.920Z"
   },
   {
    "duration": 10,
    "start_time": "2023-03-11T13:21:11.644Z"
   },
   {
    "duration": 3,
    "start_time": "2023-03-11T13:21:11.656Z"
   },
   {
    "duration": 255,
    "start_time": "2023-03-11T13:21:11.661Z"
   },
   {
    "duration": 5,
    "start_time": "2023-03-11T13:21:11.918Z"
   },
   {
    "duration": 283,
    "start_time": "2023-03-11T13:21:11.925Z"
   },
   {
    "duration": 91,
    "start_time": "2023-03-11T13:21:12.210Z"
   },
   {
    "duration": 6,
    "start_time": "2023-03-11T13:21:12.303Z"
   },
   {
    "duration": 83,
    "start_time": "2023-03-11T13:21:12.311Z"
   },
   {
    "duration": 6,
    "start_time": "2023-03-11T13:21:12.400Z"
   },
   {
    "duration": 4,
    "start_time": "2023-03-11T13:21:12.407Z"
   },
   {
    "duration": 4,
    "start_time": "2023-03-11T13:21:12.412Z"
   },
   {
    "duration": 2716,
    "start_time": "2023-03-11T13:21:12.418Z"
   },
   {
    "duration": 202,
    "start_time": "2023-03-11T13:21:15.135Z"
   },
   {
    "duration": 305,
    "start_time": "2023-03-11T13:21:15.338Z"
   },
   {
    "duration": 3,
    "start_time": "2023-03-11T13:21:15.644Z"
   },
   {
    "duration": 671,
    "start_time": "2023-03-11T13:21:15.649Z"
   },
   {
    "duration": 227,
    "start_time": "2023-03-11T13:21:16.322Z"
   },
   {
    "duration": 181,
    "start_time": "2023-03-11T13:21:16.551Z"
   },
   {
    "duration": 38,
    "start_time": "2023-03-11T13:21:16.734Z"
   },
   {
    "duration": 32,
    "start_time": "2023-03-11T13:21:16.792Z"
   },
   {
    "duration": 334,
    "start_time": "2023-03-11T13:21:16.826Z"
   },
   {
    "duration": 161,
    "start_time": "2023-03-11T13:21:17.170Z"
   },
   {
    "duration": 24,
    "start_time": "2023-03-11T13:21:17.333Z"
   },
   {
    "duration": 121,
    "start_time": "2023-03-11T13:21:17.361Z"
   },
   {
    "duration": 8,
    "start_time": "2023-03-11T13:21:17.493Z"
   },
   {
    "duration": 584,
    "start_time": "2023-03-11T13:21:17.507Z"
   },
   {
    "duration": 188,
    "start_time": "2023-03-11T13:21:18.098Z"
   },
   {
    "duration": 24,
    "start_time": "2023-03-11T13:21:18.288Z"
   },
   {
    "duration": 49,
    "start_time": "2023-03-11T13:21:18.317Z"
   },
   {
    "duration": 761,
    "start_time": "2023-03-11T13:21:18.369Z"
   },
   {
    "duration": 19,
    "start_time": "2023-03-11T13:21:19.133Z"
   },
   {
    "duration": 9,
    "start_time": "2023-03-11T13:21:19.161Z"
   },
   {
    "duration": 8,
    "start_time": "2023-03-11T13:21:19.172Z"
   },
   {
    "duration": 515,
    "start_time": "2023-03-11T13:21:19.182Z"
   },
   {
    "duration": 6,
    "start_time": "2023-03-11T13:21:19.699Z"
   },
   {
    "duration": 549,
    "start_time": "2023-03-11T13:21:19.707Z"
   },
   {
    "duration": 183,
    "start_time": "2023-03-11T13:21:20.258Z"
   },
   {
    "duration": 206,
    "start_time": "2023-03-11T13:21:20.445Z"
   },
   {
    "duration": 4,
    "start_time": "2023-03-11T13:21:20.653Z"
   },
   {
    "duration": 46,
    "start_time": "2023-03-11T13:21:20.658Z"
   },
   {
    "duration": 85,
    "start_time": "2023-03-11T13:21:20.706Z"
   },
   {
    "duration": 513,
    "start_time": "2023-03-11T13:21:20.795Z"
   },
   {
    "duration": 550,
    "start_time": "2023-03-11T13:21:21.310Z"
   },
   {
    "duration": 370,
    "start_time": "2023-03-11T13:21:21.862Z"
   },
   {
    "duration": 91,
    "start_time": "2023-03-11T13:21:22.234Z"
   },
   {
    "duration": 147,
    "start_time": "2023-03-11T13:21:22.327Z"
   },
   {
    "duration": 70,
    "start_time": "2023-03-11T13:21:22.476Z"
   },
   {
    "duration": 699,
    "start_time": "2023-03-11T13:21:22.551Z"
   },
   {
    "duration": 653,
    "start_time": "2023-03-11T13:21:23.254Z"
   },
   {
    "duration": 782,
    "start_time": "2023-03-11T13:21:23.909Z"
   },
   {
    "duration": 618,
    "start_time": "2023-03-11T13:21:24.693Z"
   },
   {
    "duration": 600,
    "start_time": "2023-03-11T13:21:25.314Z"
   },
   {
    "duration": 559,
    "start_time": "2023-03-11T13:21:25.916Z"
   },
   {
    "duration": 556,
    "start_time": "2023-03-11T13:21:26.477Z"
   },
   {
    "duration": 45,
    "start_time": "2023-03-11T13:21:27.035Z"
   },
   {
    "duration": 83,
    "start_time": "2023-03-11T13:21:27.082Z"
   },
   {
    "duration": 387,
    "start_time": "2023-03-11T13:21:27.171Z"
   },
   {
    "duration": 12,
    "start_time": "2023-03-11T13:21:27.565Z"
   },
   {
    "duration": 9,
    "start_time": "2023-03-11T13:21:27.583Z"
   },
   {
    "duration": 41,
    "start_time": "2023-03-11T13:21:27.598Z"
   },
   {
    "duration": 513,
    "start_time": "2023-03-11T13:21:27.642Z"
   },
   {
    "duration": 49,
    "start_time": "2023-03-11T13:21:28.166Z"
   },
   {
    "duration": 102,
    "start_time": "2023-03-11T13:21:28.218Z"
   },
   {
    "duration": 340,
    "start_time": "2023-03-11T13:21:28.322Z"
   },
   {
    "duration": 144,
    "start_time": "2023-03-11T13:21:28.669Z"
   },
   {
    "duration": 3,
    "start_time": "2023-03-11T13:21:28.814Z"
   },
   {
    "duration": 69,
    "start_time": "2023-03-11T13:21:28.821Z"
   },
   {
    "duration": 88,
    "start_time": "2023-03-11T13:21:28.893Z"
   },
   {
    "duration": 376,
    "start_time": "2023-03-11T13:21:28.985Z"
   },
   {
    "duration": 5,
    "start_time": "2023-03-11T13:21:29.364Z"
   },
   {
    "duration": 110,
    "start_time": "2023-03-11T13:21:29.372Z"
   },
   {
    "duration": 35,
    "start_time": "2023-03-11T13:21:29.487Z"
   },
   {
    "duration": 263,
    "start_time": "2023-03-11T13:21:29.524Z"
   },
   {
    "duration": 27,
    "start_time": "2023-03-11T13:21:29.790Z"
   },
   {
    "duration": 3,
    "start_time": "2023-03-11T13:21:29.819Z"
   },
   {
    "duration": 460,
    "start_time": "2023-03-11T13:21:29.823Z"
   },
   {
    "duration": 9,
    "start_time": "2023-03-11T13:21:30.285Z"
   },
   {
    "duration": 189,
    "start_time": "2023-03-11T13:21:30.296Z"
   },
   {
    "duration": 493,
    "start_time": "2023-03-11T13:21:30.487Z"
   },
   {
    "duration": 1813,
    "start_time": "2023-03-11T13:21:30.987Z"
   },
   {
    "duration": 19,
    "start_time": "2023-03-11T13:21:32.802Z"
   },
   {
    "duration": 11,
    "start_time": "2023-03-11T13:21:32.823Z"
   },
   {
    "duration": 342,
    "start_time": "2023-03-11T13:21:32.844Z"
   },
   {
    "duration": 408,
    "start_time": "2023-03-11T13:21:33.188Z"
   },
   {
    "duration": 395,
    "start_time": "2023-03-11T13:21:33.599Z"
   },
   {
    "duration": 186,
    "start_time": "2023-03-11T13:21:33.997Z"
   },
   {
    "duration": 344,
    "start_time": "2023-03-11T13:21:34.186Z"
   },
   {
    "duration": 307,
    "start_time": "2023-03-11T13:21:34.531Z"
   },
   {
    "duration": 316,
    "start_time": "2023-03-11T13:21:34.840Z"
   },
   {
    "duration": 20,
    "start_time": "2023-03-11T13:21:35.160Z"
   },
   {
    "duration": 26,
    "start_time": "2023-03-11T13:21:35.190Z"
   },
   {
    "duration": 15,
    "start_time": "2023-03-11T13:21:35.218Z"
   },
   {
    "duration": 83,
    "start_time": "2023-03-11T13:21:35.235Z"
   },
   {
    "duration": 39,
    "start_time": "2023-03-11T13:21:35.320Z"
   },
   {
    "duration": 39,
    "start_time": "2023-03-11T13:21:35.361Z"
   },
   {
    "duration": 481,
    "start_time": "2023-03-11T13:21:35.402Z"
   },
   {
    "duration": 35,
    "start_time": "2023-03-11T13:21:35.886Z"
   },
   {
    "duration": 349,
    "start_time": "2023-03-11T13:21:35.922Z"
   },
   {
    "duration": 78,
    "start_time": "2023-03-11T13:21:36.273Z"
   },
   {
    "duration": 9,
    "start_time": "2023-03-11T13:21:36.355Z"
   },
   {
    "duration": 38,
    "start_time": "2023-03-11T13:21:36.370Z"
   },
   {
    "duration": 86,
    "start_time": "2023-03-11T13:21:36.410Z"
   },
   {
    "duration": 65,
    "start_time": "2023-03-11T13:21:36.500Z"
   },
   {
    "duration": 10,
    "start_time": "2023-03-11T13:21:36.566Z"
   },
   {
    "duration": 15,
    "start_time": "2023-03-11T13:21:36.579Z"
   },
   {
    "duration": 21,
    "start_time": "2023-03-11T13:21:36.596Z"
   },
   {
    "duration": 53,
    "start_time": "2023-03-11T13:21:36.625Z"
   },
   {
    "duration": 360,
    "start_time": "2023-03-11T13:21:36.679Z"
   },
   {
    "duration": 79,
    "start_time": "2023-03-11T13:21:37.041Z"
   },
   {
    "duration": 281,
    "start_time": "2023-03-11T13:21:37.122Z"
   },
   {
    "duration": 3,
    "start_time": "2023-03-11T13:21:37.406Z"
   },
   {
    "duration": 418,
    "start_time": "2023-03-11T13:21:37.410Z"
   },
   {
    "duration": 319,
    "start_time": "2023-03-11T13:21:37.831Z"
   },
   {
    "duration": 114,
    "start_time": "2023-03-11T13:21:38.160Z"
   },
   {
    "duration": 113,
    "start_time": "2023-03-11T13:21:38.276Z"
   },
   {
    "duration": 318,
    "start_time": "2023-03-11T13:21:38.391Z"
   },
   {
    "duration": 21906,
    "start_time": "2023-03-11T13:21:38.711Z"
   },
   {
    "duration": 8468,
    "start_time": "2023-03-11T13:22:00.619Z"
   },
   {
    "duration": 7440,
    "start_time": "2023-03-11T13:22:09.090Z"
   },
   {
    "duration": 3,
    "start_time": "2023-03-11T13:22:16.532Z"
   },
   {
    "duration": 678,
    "start_time": "2023-03-11T13:22:16.537Z"
   },
   {
    "duration": 10,
    "start_time": "2023-03-11T13:27:55.690Z"
   },
   {
    "duration": 128,
    "start_time": "2023-03-11T13:30:03.135Z"
   },
   {
    "duration": 788,
    "start_time": "2023-03-11T13:30:41.129Z"
   },
   {
    "duration": 792,
    "start_time": "2023-03-11T13:30:42.767Z"
   },
   {
    "duration": 512,
    "start_time": "2023-03-11T13:30:44.688Z"
   },
   {
    "duration": 537,
    "start_time": "2023-03-11T13:40:07.225Z"
   },
   {
    "duration": 6,
    "start_time": "2023-03-11T13:59:07.742Z"
   },
   {
    "duration": 239,
    "start_time": "2023-03-11T14:03:04.213Z"
   },
   {
    "duration": 4,
    "start_time": "2023-03-11T14:03:20.621Z"
   },
   {
    "duration": 110078,
    "start_time": "2023-03-11T14:03:25.481Z"
   },
   {
    "duration": 186812,
    "start_time": "2023-03-11T14:05:53.659Z"
   },
   {
    "duration": 10,
    "start_time": "2023-03-11T14:10:51.015Z"
   },
   {
    "duration": 175,
    "start_time": "2023-03-11T14:11:01.573Z"
   },
   {
    "duration": 158,
    "start_time": "2023-03-11T14:11:07.799Z"
   },
   {
    "duration": 2499,
    "start_time": "2023-03-19T05:56:03.206Z"
   },
   {
    "duration": 0,
    "start_time": "2023-03-19T05:56:05.725Z"
   },
   {
    "duration": 0,
    "start_time": "2023-03-19T05:56:05.726Z"
   },
   {
    "duration": 0,
    "start_time": "2023-03-19T05:56:05.728Z"
   },
   {
    "duration": 0,
    "start_time": "2023-03-19T05:56:05.729Z"
   },
   {
    "duration": 0,
    "start_time": "2023-03-19T05:56:05.730Z"
   },
   {
    "duration": 0,
    "start_time": "2023-03-19T05:56:05.731Z"
   },
   {
    "duration": 0,
    "start_time": "2023-03-19T05:56:05.732Z"
   },
   {
    "duration": 0,
    "start_time": "2023-03-19T05:56:05.736Z"
   },
   {
    "duration": 0,
    "start_time": "2023-03-19T05:56:05.737Z"
   },
   {
    "duration": 0,
    "start_time": "2023-03-19T05:56:05.738Z"
   },
   {
    "duration": 0,
    "start_time": "2023-03-19T05:56:05.739Z"
   },
   {
    "duration": 0,
    "start_time": "2023-03-19T05:56:05.740Z"
   },
   {
    "duration": 0,
    "start_time": "2023-03-19T05:56:05.741Z"
   },
   {
    "duration": 0,
    "start_time": "2023-03-19T05:56:05.741Z"
   },
   {
    "duration": 0,
    "start_time": "2023-03-19T05:56:05.742Z"
   },
   {
    "duration": 0,
    "start_time": "2023-03-19T05:56:05.743Z"
   },
   {
    "duration": 0,
    "start_time": "2023-03-19T05:56:05.743Z"
   },
   {
    "duration": 0,
    "start_time": "2023-03-19T05:56:05.744Z"
   },
   {
    "duration": 0,
    "start_time": "2023-03-19T05:56:05.761Z"
   },
   {
    "duration": 0,
    "start_time": "2023-03-19T05:56:05.762Z"
   },
   {
    "duration": 0,
    "start_time": "2023-03-19T05:56:05.763Z"
   },
   {
    "duration": 0,
    "start_time": "2023-03-19T05:56:05.763Z"
   },
   {
    "duration": 0,
    "start_time": "2023-03-19T05:56:05.764Z"
   },
   {
    "duration": 0,
    "start_time": "2023-03-19T05:56:05.776Z"
   },
   {
    "duration": 0,
    "start_time": "2023-03-19T05:56:05.776Z"
   },
   {
    "duration": 0,
    "start_time": "2023-03-19T05:56:05.789Z"
   },
   {
    "duration": 0,
    "start_time": "2023-03-19T05:56:05.790Z"
   },
   {
    "duration": 0,
    "start_time": "2023-03-19T05:56:05.791Z"
   },
   {
    "duration": 0,
    "start_time": "2023-03-19T05:56:05.792Z"
   },
   {
    "duration": 0,
    "start_time": "2023-03-19T05:56:05.802Z"
   },
   {
    "duration": 0,
    "start_time": "2023-03-19T05:56:05.803Z"
   },
   {
    "duration": 0,
    "start_time": "2023-03-19T05:56:05.805Z"
   },
   {
    "duration": 0,
    "start_time": "2023-03-19T05:56:05.806Z"
   },
   {
    "duration": 0,
    "start_time": "2023-03-19T05:56:05.808Z"
   },
   {
    "duration": 0,
    "start_time": "2023-03-19T05:56:05.809Z"
   },
   {
    "duration": 0,
    "start_time": "2023-03-19T05:56:05.811Z"
   },
   {
    "duration": 0,
    "start_time": "2023-03-19T05:56:05.812Z"
   },
   {
    "duration": 0,
    "start_time": "2023-03-19T05:56:05.816Z"
   },
   {
    "duration": 0,
    "start_time": "2023-03-19T05:56:05.818Z"
   },
   {
    "duration": 0,
    "start_time": "2023-03-19T05:56:05.819Z"
   },
   {
    "duration": 0,
    "start_time": "2023-03-19T05:56:05.821Z"
   },
   {
    "duration": 0,
    "start_time": "2023-03-19T05:56:05.822Z"
   },
   {
    "duration": 0,
    "start_time": "2023-03-19T05:56:05.827Z"
   },
   {
    "duration": 0,
    "start_time": "2023-03-19T05:56:05.828Z"
   },
   {
    "duration": 0,
    "start_time": "2023-03-19T05:56:05.829Z"
   },
   {
    "duration": 0,
    "start_time": "2023-03-19T05:56:05.830Z"
   },
   {
    "duration": 0,
    "start_time": "2023-03-19T05:56:05.832Z"
   },
   {
    "duration": 0,
    "start_time": "2023-03-19T05:56:05.833Z"
   },
   {
    "duration": 0,
    "start_time": "2023-03-19T05:56:05.835Z"
   },
   {
    "duration": 0,
    "start_time": "2023-03-19T05:56:05.836Z"
   },
   {
    "duration": 0,
    "start_time": "2023-03-19T05:56:05.837Z"
   },
   {
    "duration": 0,
    "start_time": "2023-03-19T05:56:05.838Z"
   },
   {
    "duration": 0,
    "start_time": "2023-03-19T05:56:05.838Z"
   },
   {
    "duration": 0,
    "start_time": "2023-03-19T05:56:05.839Z"
   },
   {
    "duration": 0,
    "start_time": "2023-03-19T05:56:05.839Z"
   },
   {
    "duration": 0,
    "start_time": "2023-03-19T05:56:05.840Z"
   },
   {
    "duration": 0,
    "start_time": "2023-03-19T05:56:05.840Z"
   },
   {
    "duration": 0,
    "start_time": "2023-03-19T05:56:05.849Z"
   },
   {
    "duration": 0,
    "start_time": "2023-03-19T05:56:05.850Z"
   },
   {
    "duration": 0,
    "start_time": "2023-03-19T05:56:05.850Z"
   },
   {
    "duration": 0,
    "start_time": "2023-03-19T05:56:05.851Z"
   },
   {
    "duration": 0,
    "start_time": "2023-03-19T05:56:05.851Z"
   },
   {
    "duration": 0,
    "start_time": "2023-03-19T05:56:05.851Z"
   },
   {
    "duration": 0,
    "start_time": "2023-03-19T05:56:05.852Z"
   },
   {
    "duration": 0,
    "start_time": "2023-03-19T05:56:05.852Z"
   },
   {
    "duration": 0,
    "start_time": "2023-03-19T05:56:05.861Z"
   },
   {
    "duration": 0,
    "start_time": "2023-03-19T05:56:05.862Z"
   },
   {
    "duration": 0,
    "start_time": "2023-03-19T05:56:05.862Z"
   },
   {
    "duration": 0,
    "start_time": "2023-03-19T05:56:05.863Z"
   },
   {
    "duration": 0,
    "start_time": "2023-03-19T05:56:05.863Z"
   },
   {
    "duration": 0,
    "start_time": "2023-03-19T05:56:05.864Z"
   },
   {
    "duration": 0,
    "start_time": "2023-03-19T05:56:05.864Z"
   },
   {
    "duration": 0,
    "start_time": "2023-03-19T05:56:05.865Z"
   },
   {
    "duration": 0,
    "start_time": "2023-03-19T05:56:05.887Z"
   },
   {
    "duration": 0,
    "start_time": "2023-03-19T05:56:05.888Z"
   },
   {
    "duration": 0,
    "start_time": "2023-03-19T05:56:05.888Z"
   },
   {
    "duration": 0,
    "start_time": "2023-03-19T05:56:05.889Z"
   },
   {
    "duration": 0,
    "start_time": "2023-03-19T05:56:05.889Z"
   },
   {
    "duration": 0,
    "start_time": "2023-03-19T05:56:05.890Z"
   },
   {
    "duration": 0,
    "start_time": "2023-03-19T05:56:05.890Z"
   },
   {
    "duration": 0,
    "start_time": "2023-03-19T05:56:05.890Z"
   },
   {
    "duration": 0,
    "start_time": "2023-03-19T05:56:05.891Z"
   },
   {
    "duration": 0,
    "start_time": "2023-03-19T05:56:05.891Z"
   },
   {
    "duration": 0,
    "start_time": "2023-03-19T05:56:05.892Z"
   },
   {
    "duration": 0,
    "start_time": "2023-03-19T05:56:05.892Z"
   },
   {
    "duration": 0,
    "start_time": "2023-03-19T05:56:05.894Z"
   },
   {
    "duration": 0,
    "start_time": "2023-03-19T05:56:05.895Z"
   },
   {
    "duration": 0,
    "start_time": "2023-03-19T05:56:05.896Z"
   },
   {
    "duration": 0,
    "start_time": "2023-03-19T05:56:05.897Z"
   },
   {
    "duration": 0,
    "start_time": "2023-03-19T05:56:05.905Z"
   },
   {
    "duration": 0,
    "start_time": "2023-03-19T05:56:05.906Z"
   },
   {
    "duration": 0,
    "start_time": "2023-03-19T05:56:05.907Z"
   },
   {
    "duration": 0,
    "start_time": "2023-03-19T05:56:05.908Z"
   },
   {
    "duration": 0,
    "start_time": "2023-03-19T05:56:05.913Z"
   },
   {
    "duration": 0,
    "start_time": "2023-03-19T05:56:05.914Z"
   },
   {
    "duration": 0,
    "start_time": "2023-03-19T05:56:05.915Z"
   },
   {
    "duration": 0,
    "start_time": "2023-03-19T05:56:05.916Z"
   },
   {
    "duration": 0,
    "start_time": "2023-03-19T05:56:05.917Z"
   },
   {
    "duration": 0,
    "start_time": "2023-03-19T05:56:05.920Z"
   },
   {
    "duration": 0,
    "start_time": "2023-03-19T05:56:05.921Z"
   },
   {
    "duration": 0,
    "start_time": "2023-03-19T05:56:05.923Z"
   },
   {
    "duration": 0,
    "start_time": "2023-03-19T05:56:05.924Z"
   },
   {
    "duration": 0,
    "start_time": "2023-03-19T05:56:05.926Z"
   },
   {
    "duration": 0,
    "start_time": "2023-03-19T05:56:05.927Z"
   },
   {
    "duration": 0,
    "start_time": "2023-03-19T05:56:05.928Z"
   },
   {
    "duration": 0,
    "start_time": "2023-03-19T05:56:05.929Z"
   },
   {
    "duration": 0,
    "start_time": "2023-03-19T05:56:05.930Z"
   },
   {
    "duration": 0,
    "start_time": "2023-03-19T05:56:05.931Z"
   },
   {
    "duration": 0,
    "start_time": "2023-03-19T05:56:05.957Z"
   },
   {
    "duration": 0,
    "start_time": "2023-03-19T05:56:05.958Z"
   },
   {
    "duration": 0,
    "start_time": "2023-03-19T05:56:05.959Z"
   },
   {
    "duration": 0,
    "start_time": "2023-03-19T05:56:05.960Z"
   },
   {
    "duration": 0,
    "start_time": "2023-03-19T05:56:05.960Z"
   },
   {
    "duration": 0,
    "start_time": "2023-03-19T05:56:05.961Z"
   },
   {
    "duration": 0,
    "start_time": "2023-03-19T05:56:05.962Z"
   },
   {
    "duration": 0,
    "start_time": "2023-03-19T05:56:05.965Z"
   },
   {
    "duration": 0,
    "start_time": "2023-03-19T05:56:05.966Z"
   },
   {
    "duration": 0,
    "start_time": "2023-03-19T05:56:05.967Z"
   },
   {
    "duration": 0,
    "start_time": "2023-03-19T05:56:05.968Z"
   },
   {
    "duration": 0,
    "start_time": "2023-03-19T05:56:05.968Z"
   },
   {
    "duration": 0,
    "start_time": "2023-03-19T05:56:05.969Z"
   },
   {
    "duration": 0,
    "start_time": "2023-03-19T05:56:05.970Z"
   },
   {
    "duration": 0,
    "start_time": "2023-03-19T05:56:05.971Z"
   },
   {
    "duration": 0,
    "start_time": "2023-03-19T05:56:05.971Z"
   },
   {
    "duration": 0,
    "start_time": "2023-03-19T05:56:05.972Z"
   },
   {
    "duration": 0,
    "start_time": "2023-03-19T05:56:05.973Z"
   },
   {
    "duration": 0,
    "start_time": "2023-03-19T05:56:05.981Z"
   },
   {
    "duration": 0,
    "start_time": "2023-03-19T05:56:05.982Z"
   },
   {
    "duration": 0,
    "start_time": "2023-03-19T05:56:05.982Z"
   },
   {
    "duration": 0,
    "start_time": "2023-03-19T05:56:05.983Z"
   },
   {
    "duration": 0,
    "start_time": "2023-03-19T05:56:05.984Z"
   },
   {
    "duration": 0,
    "start_time": "2023-03-19T05:56:05.984Z"
   },
   {
    "duration": 0,
    "start_time": "2023-03-19T05:56:05.985Z"
   },
   {
    "duration": 0,
    "start_time": "2023-03-19T05:56:05.986Z"
   },
   {
    "duration": 0,
    "start_time": "2023-03-19T05:56:05.989Z"
   },
   {
    "duration": 0,
    "start_time": "2023-03-19T05:56:05.990Z"
   },
   {
    "duration": 0,
    "start_time": "2023-03-19T05:56:05.991Z"
   },
   {
    "duration": 0,
    "start_time": "2023-03-19T05:56:05.991Z"
   },
   {
    "duration": 0,
    "start_time": "2023-03-19T05:56:05.992Z"
   },
   {
    "duration": 0,
    "start_time": "2023-03-19T05:56:05.993Z"
   },
   {
    "duration": 0,
    "start_time": "2023-03-19T05:56:05.994Z"
   },
   {
    "duration": 0,
    "start_time": "2023-03-19T05:56:05.994Z"
   },
   {
    "duration": 0,
    "start_time": "2023-03-19T05:56:05.995Z"
   },
   {
    "duration": 0,
    "start_time": "2023-03-19T05:56:05.995Z"
   },
   {
    "duration": 0,
    "start_time": "2023-03-19T05:56:05.996Z"
   },
   {
    "duration": 0,
    "start_time": "2023-03-19T05:56:06.005Z"
   },
   {
    "duration": 0,
    "start_time": "2023-03-19T05:56:06.006Z"
   },
   {
    "duration": 0,
    "start_time": "2023-03-19T05:56:06.006Z"
   },
   {
    "duration": 0,
    "start_time": "2023-03-19T05:56:06.007Z"
   },
   {
    "duration": 0,
    "start_time": "2023-03-19T05:56:06.008Z"
   },
   {
    "duration": 0,
    "start_time": "2023-03-19T05:56:06.009Z"
   },
   {
    "duration": 0,
    "start_time": "2023-03-19T05:56:06.009Z"
   },
   {
    "duration": 0,
    "start_time": "2023-03-19T05:56:06.010Z"
   },
   {
    "duration": 0,
    "start_time": "2023-03-19T05:56:06.011Z"
   },
   {
    "duration": 0,
    "start_time": "2023-03-19T05:56:06.012Z"
   },
   {
    "duration": 0,
    "start_time": "2023-03-19T05:56:06.012Z"
   },
   {
    "duration": 0,
    "start_time": "2023-03-19T05:56:06.013Z"
   },
   {
    "duration": 0,
    "start_time": "2023-03-19T05:56:06.014Z"
   },
   {
    "duration": 0,
    "start_time": "2023-03-19T05:56:06.014Z"
   },
   {
    "duration": 0,
    "start_time": "2023-03-19T05:56:06.015Z"
   },
   {
    "duration": 0,
    "start_time": "2023-03-19T05:56:06.016Z"
   },
   {
    "duration": 0,
    "start_time": "2023-03-19T05:56:06.019Z"
   },
   {
    "duration": 0,
    "start_time": "2023-03-19T05:56:06.020Z"
   },
   {
    "duration": 0,
    "start_time": "2023-03-19T05:56:06.020Z"
   },
   {
    "duration": 0,
    "start_time": "2023-03-19T05:56:06.025Z"
   },
   {
    "duration": 0,
    "start_time": "2023-03-19T05:56:06.026Z"
   },
   {
    "duration": 0,
    "start_time": "2023-03-19T05:56:06.027Z"
   },
   {
    "duration": 5666,
    "start_time": "2023-03-19T05:56:57.091Z"
   },
   {
    "duration": 3194,
    "start_time": "2023-03-19T05:57:02.764Z"
   },
   {
    "duration": 0,
    "start_time": "2023-03-19T05:57:05.981Z"
   },
   {
    "duration": 0,
    "start_time": "2023-03-19T05:57:05.987Z"
   },
   {
    "duration": 0,
    "start_time": "2023-03-19T05:57:05.992Z"
   },
   {
    "duration": 0,
    "start_time": "2023-03-19T05:57:05.998Z"
   },
   {
    "duration": 0,
    "start_time": "2023-03-19T05:57:06.002Z"
   },
   {
    "duration": 0,
    "start_time": "2023-03-19T05:57:06.006Z"
   },
   {
    "duration": 0,
    "start_time": "2023-03-19T05:57:06.014Z"
   },
   {
    "duration": 0,
    "start_time": "2023-03-19T05:57:06.021Z"
   },
   {
    "duration": 0,
    "start_time": "2023-03-19T05:57:06.023Z"
   },
   {
    "duration": 0,
    "start_time": "2023-03-19T05:57:06.030Z"
   },
   {
    "duration": 0,
    "start_time": "2023-03-19T05:57:06.031Z"
   },
   {
    "duration": 0,
    "start_time": "2023-03-19T05:57:06.032Z"
   },
   {
    "duration": 0,
    "start_time": "2023-03-19T05:57:06.034Z"
   },
   {
    "duration": 0,
    "start_time": "2023-03-19T05:57:06.036Z"
   },
   {
    "duration": 0,
    "start_time": "2023-03-19T05:57:06.037Z"
   },
   {
    "duration": 0,
    "start_time": "2023-03-19T05:57:06.038Z"
   },
   {
    "duration": 0,
    "start_time": "2023-03-19T05:57:06.050Z"
   },
   {
    "duration": 0,
    "start_time": "2023-03-19T05:57:06.050Z"
   },
   {
    "duration": 0,
    "start_time": "2023-03-19T05:57:06.051Z"
   },
   {
    "duration": 0,
    "start_time": "2023-03-19T05:57:06.052Z"
   },
   {
    "duration": 0,
    "start_time": "2023-03-19T05:57:06.052Z"
   },
   {
    "duration": 0,
    "start_time": "2023-03-19T05:57:06.055Z"
   },
   {
    "duration": 0,
    "start_time": "2023-03-19T05:57:06.056Z"
   },
   {
    "duration": 0,
    "start_time": "2023-03-19T05:57:06.057Z"
   },
   {
    "duration": 0,
    "start_time": "2023-03-19T05:57:06.057Z"
   },
   {
    "duration": 0,
    "start_time": "2023-03-19T05:57:06.058Z"
   },
   {
    "duration": 0,
    "start_time": "2023-03-19T05:57:06.059Z"
   },
   {
    "duration": 0,
    "start_time": "2023-03-19T05:57:06.059Z"
   },
   {
    "duration": 0,
    "start_time": "2023-03-19T05:57:06.060Z"
   },
   {
    "duration": 0,
    "start_time": "2023-03-19T05:57:06.060Z"
   },
   {
    "duration": 0,
    "start_time": "2023-03-19T05:57:06.070Z"
   },
   {
    "duration": 0,
    "start_time": "2023-03-19T05:57:06.071Z"
   },
   {
    "duration": 0,
    "start_time": "2023-03-19T05:57:06.072Z"
   },
   {
    "duration": 0,
    "start_time": "2023-03-19T05:57:06.073Z"
   },
   {
    "duration": 0,
    "start_time": "2023-03-19T05:57:06.079Z"
   },
   {
    "duration": 0,
    "start_time": "2023-03-19T05:57:06.081Z"
   },
   {
    "duration": 1,
    "start_time": "2023-03-19T05:57:06.081Z"
   },
   {
    "duration": 0,
    "start_time": "2023-03-19T05:57:06.082Z"
   },
   {
    "duration": 0,
    "start_time": "2023-03-19T05:57:06.083Z"
   },
   {
    "duration": 0,
    "start_time": "2023-03-19T05:57:06.084Z"
   },
   {
    "duration": 0,
    "start_time": "2023-03-19T05:57:06.085Z"
   },
   {
    "duration": 0,
    "start_time": "2023-03-19T05:57:06.094Z"
   },
   {
    "duration": 0,
    "start_time": "2023-03-19T05:57:06.095Z"
   },
   {
    "duration": 0,
    "start_time": "2023-03-19T05:57:06.096Z"
   },
   {
    "duration": 0,
    "start_time": "2023-03-19T05:57:06.096Z"
   },
   {
    "duration": 0,
    "start_time": "2023-03-19T05:57:06.105Z"
   },
   {
    "duration": 0,
    "start_time": "2023-03-19T05:57:06.106Z"
   },
   {
    "duration": 0,
    "start_time": "2023-03-19T05:57:06.106Z"
   },
   {
    "duration": 0,
    "start_time": "2023-03-19T05:57:06.107Z"
   },
   {
    "duration": 0,
    "start_time": "2023-03-19T05:57:06.107Z"
   },
   {
    "duration": 0,
    "start_time": "2023-03-19T05:57:06.108Z"
   },
   {
    "duration": 0,
    "start_time": "2023-03-19T05:57:06.108Z"
   },
   {
    "duration": 0,
    "start_time": "2023-03-19T05:57:06.110Z"
   },
   {
    "duration": 0,
    "start_time": "2023-03-19T05:57:06.111Z"
   },
   {
    "duration": 0,
    "start_time": "2023-03-19T05:57:06.111Z"
   },
   {
    "duration": 0,
    "start_time": "2023-03-19T05:57:06.112Z"
   },
   {
    "duration": 0,
    "start_time": "2023-03-19T05:57:06.119Z"
   },
   {
    "duration": 0,
    "start_time": "2023-03-19T05:57:06.120Z"
   },
   {
    "duration": 0,
    "start_time": "2023-03-19T05:57:06.125Z"
   },
   {
    "duration": 0,
    "start_time": "2023-03-19T05:57:06.127Z"
   },
   {
    "duration": 0,
    "start_time": "2023-03-19T05:57:06.127Z"
   },
   {
    "duration": 0,
    "start_time": "2023-03-19T05:57:06.128Z"
   },
   {
    "duration": 0,
    "start_time": "2023-03-19T05:57:06.131Z"
   },
   {
    "duration": 0,
    "start_time": "2023-03-19T05:57:06.132Z"
   },
   {
    "duration": 0,
    "start_time": "2023-03-19T05:57:06.134Z"
   },
   {
    "duration": 0,
    "start_time": "2023-03-19T05:57:06.136Z"
   },
   {
    "duration": 0,
    "start_time": "2023-03-19T05:57:06.137Z"
   },
   {
    "duration": 0,
    "start_time": "2023-03-19T05:57:06.138Z"
   },
   {
    "duration": 0,
    "start_time": "2023-03-19T05:57:06.145Z"
   },
   {
    "duration": 0,
    "start_time": "2023-03-19T05:57:06.146Z"
   },
   {
    "duration": 0,
    "start_time": "2023-03-19T05:57:06.147Z"
   },
   {
    "duration": 0,
    "start_time": "2023-03-19T05:57:06.148Z"
   },
   {
    "duration": 0,
    "start_time": "2023-03-19T05:57:06.148Z"
   },
   {
    "duration": 0,
    "start_time": "2023-03-19T05:57:06.150Z"
   },
   {
    "duration": 0,
    "start_time": "2023-03-19T05:57:06.151Z"
   },
   {
    "duration": 0,
    "start_time": "2023-03-19T05:57:06.152Z"
   },
   {
    "duration": 0,
    "start_time": "2023-03-19T05:57:06.153Z"
   },
   {
    "duration": 0,
    "start_time": "2023-03-19T05:57:06.155Z"
   },
   {
    "duration": 0,
    "start_time": "2023-03-19T05:57:06.155Z"
   },
   {
    "duration": 0,
    "start_time": "2023-03-19T05:57:06.156Z"
   },
   {
    "duration": 0,
    "start_time": "2023-03-19T05:57:06.156Z"
   },
   {
    "duration": 0,
    "start_time": "2023-03-19T05:57:06.158Z"
   },
   {
    "duration": 0,
    "start_time": "2023-03-19T05:57:06.159Z"
   },
   {
    "duration": 0,
    "start_time": "2023-03-19T05:57:06.160Z"
   },
   {
    "duration": 1,
    "start_time": "2023-03-19T05:57:06.160Z"
   },
   {
    "duration": 0,
    "start_time": "2023-03-19T05:57:06.168Z"
   },
   {
    "duration": 0,
    "start_time": "2023-03-19T05:57:06.168Z"
   },
   {
    "duration": 0,
    "start_time": "2023-03-19T05:57:06.169Z"
   },
   {
    "duration": 0,
    "start_time": "2023-03-19T05:57:06.170Z"
   },
   {
    "duration": 0,
    "start_time": "2023-03-19T05:57:06.172Z"
   },
   {
    "duration": 4,
    "start_time": "2023-03-19T05:57:06.173Z"
   },
   {
    "duration": 0,
    "start_time": "2023-03-19T05:57:06.178Z"
   },
   {
    "duration": 0,
    "start_time": "2023-03-19T05:57:06.179Z"
   },
   {
    "duration": 0,
    "start_time": "2023-03-19T05:57:06.187Z"
   },
   {
    "duration": 0,
    "start_time": "2023-03-19T05:57:06.188Z"
   },
   {
    "duration": 0,
    "start_time": "2023-03-19T05:57:06.189Z"
   },
   {
    "duration": 0,
    "start_time": "2023-03-19T05:57:06.190Z"
   },
   {
    "duration": 0,
    "start_time": "2023-03-19T05:57:06.196Z"
   },
   {
    "duration": 0,
    "start_time": "2023-03-19T05:57:06.197Z"
   },
   {
    "duration": 0,
    "start_time": "2023-03-19T05:57:06.204Z"
   },
   {
    "duration": 0,
    "start_time": "2023-03-19T05:57:06.205Z"
   },
   {
    "duration": 0,
    "start_time": "2023-03-19T05:57:06.207Z"
   },
   {
    "duration": 0,
    "start_time": "2023-03-19T05:57:06.208Z"
   },
   {
    "duration": 0,
    "start_time": "2023-03-19T05:57:06.209Z"
   },
   {
    "duration": 0,
    "start_time": "2023-03-19T05:57:06.210Z"
   },
   {
    "duration": 0,
    "start_time": "2023-03-19T05:57:06.211Z"
   },
   {
    "duration": 0,
    "start_time": "2023-03-19T05:57:06.212Z"
   },
   {
    "duration": 0,
    "start_time": "2023-03-19T05:57:06.213Z"
   },
   {
    "duration": 0,
    "start_time": "2023-03-19T05:57:06.214Z"
   },
   {
    "duration": 0,
    "start_time": "2023-03-19T05:57:06.214Z"
   },
   {
    "duration": 0,
    "start_time": "2023-03-19T05:57:06.225Z"
   },
   {
    "duration": 0,
    "start_time": "2023-03-19T05:57:06.227Z"
   },
   {
    "duration": 0,
    "start_time": "2023-03-19T05:57:06.228Z"
   },
   {
    "duration": 0,
    "start_time": "2023-03-19T05:57:06.230Z"
   },
   {
    "duration": 0,
    "start_time": "2023-03-19T05:57:06.232Z"
   },
   {
    "duration": 0,
    "start_time": "2023-03-19T05:57:06.233Z"
   },
   {
    "duration": 0,
    "start_time": "2023-03-19T05:57:06.234Z"
   },
   {
    "duration": 0,
    "start_time": "2023-03-19T05:57:06.234Z"
   },
   {
    "duration": 0,
    "start_time": "2023-03-19T05:57:06.235Z"
   },
   {
    "duration": 0,
    "start_time": "2023-03-19T05:57:06.236Z"
   },
   {
    "duration": 0,
    "start_time": "2023-03-19T05:57:06.236Z"
   },
   {
    "duration": 0,
    "start_time": "2023-03-19T05:57:06.237Z"
   },
   {
    "duration": 0,
    "start_time": "2023-03-19T05:57:06.238Z"
   },
   {
    "duration": 0,
    "start_time": "2023-03-19T05:57:06.238Z"
   },
   {
    "duration": 0,
    "start_time": "2023-03-19T05:57:06.239Z"
   },
   {
    "duration": 0,
    "start_time": "2023-03-19T05:57:06.240Z"
   },
   {
    "duration": 0,
    "start_time": "2023-03-19T05:57:06.240Z"
   },
   {
    "duration": 0,
    "start_time": "2023-03-19T05:57:06.246Z"
   },
   {
    "duration": 0,
    "start_time": "2023-03-19T05:57:06.246Z"
   },
   {
    "duration": 0,
    "start_time": "2023-03-19T05:57:06.249Z"
   },
   {
    "duration": 0,
    "start_time": "2023-03-19T05:57:06.250Z"
   },
   {
    "duration": 0,
    "start_time": "2023-03-19T05:57:06.251Z"
   },
   {
    "duration": 0,
    "start_time": "2023-03-19T05:57:06.252Z"
   },
   {
    "duration": 0,
    "start_time": "2023-03-19T05:57:06.268Z"
   },
   {
    "duration": 0,
    "start_time": "2023-03-19T05:57:06.269Z"
   },
   {
    "duration": 0,
    "start_time": "2023-03-19T05:57:06.270Z"
   },
   {
    "duration": 0,
    "start_time": "2023-03-19T05:57:06.271Z"
   },
   {
    "duration": 0,
    "start_time": "2023-03-19T05:57:06.272Z"
   },
   {
    "duration": 0,
    "start_time": "2023-03-19T05:57:06.277Z"
   },
   {
    "duration": 0,
    "start_time": "2023-03-19T05:57:06.278Z"
   },
   {
    "duration": 0,
    "start_time": "2023-03-19T05:57:06.285Z"
   },
   {
    "duration": 0,
    "start_time": "2023-03-19T05:57:06.286Z"
   },
   {
    "duration": 0,
    "start_time": "2023-03-19T05:57:06.287Z"
   },
   {
    "duration": 0,
    "start_time": "2023-03-19T05:57:06.287Z"
   },
   {
    "duration": 0,
    "start_time": "2023-03-19T05:57:06.288Z"
   },
   {
    "duration": 0,
    "start_time": "2023-03-19T05:57:06.288Z"
   },
   {
    "duration": 0,
    "start_time": "2023-03-19T05:57:06.290Z"
   },
   {
    "duration": 0,
    "start_time": "2023-03-19T05:57:06.291Z"
   },
   {
    "duration": 0,
    "start_time": "2023-03-19T05:57:06.291Z"
   },
   {
    "duration": 0,
    "start_time": "2023-03-19T05:57:06.292Z"
   },
   {
    "duration": 0,
    "start_time": "2023-03-19T05:57:06.292Z"
   },
   {
    "duration": 0,
    "start_time": "2023-03-19T05:57:06.297Z"
   },
   {
    "duration": 0,
    "start_time": "2023-03-19T05:57:06.298Z"
   },
   {
    "duration": 0,
    "start_time": "2023-03-19T05:57:06.298Z"
   },
   {
    "duration": 0,
    "start_time": "2023-03-19T05:57:06.299Z"
   },
   {
    "duration": 0,
    "start_time": "2023-03-19T05:57:06.299Z"
   },
   {
    "duration": 0,
    "start_time": "2023-03-19T05:57:06.300Z"
   },
   {
    "duration": 0,
    "start_time": "2023-03-19T05:57:06.300Z"
   },
   {
    "duration": 0,
    "start_time": "2023-03-19T05:57:06.301Z"
   },
   {
    "duration": 0,
    "start_time": "2023-03-19T05:57:06.302Z"
   },
   {
    "duration": 0,
    "start_time": "2023-03-19T05:57:06.302Z"
   },
   {
    "duration": 0,
    "start_time": "2023-03-19T05:57:06.303Z"
   },
   {
    "duration": 0,
    "start_time": "2023-03-19T05:57:06.309Z"
   },
   {
    "duration": 0,
    "start_time": "2023-03-19T05:57:06.326Z"
   },
   {
    "duration": 0,
    "start_time": "2023-03-19T05:57:06.326Z"
   },
   {
    "duration": 0,
    "start_time": "2023-03-19T05:57:06.327Z"
   },
   {
    "duration": 0,
    "start_time": "2023-03-19T05:57:06.328Z"
   },
   {
    "duration": 5087,
    "start_time": "2023-03-19T05:59:03.866Z"
   },
   {
    "duration": 6505,
    "start_time": "2023-03-19T05:59:11.392Z"
   },
   {
    "duration": 3380,
    "start_time": "2023-03-19T05:59:28.717Z"
   },
   {
    "duration": 3248,
    "start_time": "2023-03-19T05:59:32.099Z"
   },
   {
    "duration": 9353,
    "start_time": "2023-03-19T05:59:35.349Z"
   },
   {
    "duration": 11,
    "start_time": "2023-03-19T05:59:44.719Z"
   },
   {
    "duration": 4,
    "start_time": "2023-03-19T05:59:44.732Z"
   },
   {
    "duration": 19565,
    "start_time": "2023-03-19T05:59:44.738Z"
   },
   {
    "duration": 9,
    "start_time": "2023-03-19T06:00:04.308Z"
   },
   {
    "duration": 12453,
    "start_time": "2023-03-19T06:00:04.321Z"
   },
   {
    "duration": 707,
    "start_time": "2023-03-19T06:00:16.786Z"
   },
   {
    "duration": 6,
    "start_time": "2023-03-19T06:00:17.497Z"
   },
   {
    "duration": 8,
    "start_time": "2023-03-19T06:00:17.504Z"
   },
   {
    "duration": 740,
    "start_time": "2023-03-19T06:00:17.513Z"
   },
   {
    "duration": 1658,
    "start_time": "2023-03-19T06:00:18.264Z"
   },
   {
    "duration": 1506,
    "start_time": "2023-03-19T06:00:19.924Z"
   },
   {
    "duration": 1805,
    "start_time": "2023-03-19T06:00:21.432Z"
   },
   {
    "duration": 1593,
    "start_time": "2023-03-19T06:00:23.256Z"
   },
   {
    "duration": 374,
    "start_time": "2023-03-19T06:00:24.858Z"
   },
   {
    "duration": 968,
    "start_time": "2023-03-19T06:00:25.239Z"
   },
   {
    "duration": 19,
    "start_time": "2023-03-19T06:00:26.218Z"
   },
   {
    "duration": 8,
    "start_time": "2023-03-19T06:00:26.251Z"
   },
   {
    "duration": 195,
    "start_time": "2023-03-19T06:00:26.265Z"
   },
   {
    "duration": 15,
    "start_time": "2023-03-19T06:00:26.466Z"
   },
   {
    "duration": 340,
    "start_time": "2023-03-19T06:00:26.489Z"
   },
   {
    "duration": 85,
    "start_time": "2023-03-19T06:00:26.843Z"
   },
   {
    "duration": 13,
    "start_time": "2023-03-19T06:00:26.933Z"
   },
   {
    "duration": 87,
    "start_time": "2023-03-19T06:00:26.954Z"
   },
   {
    "duration": 10,
    "start_time": "2023-03-19T06:00:27.045Z"
   },
   {
    "duration": 6,
    "start_time": "2023-03-19T06:00:27.067Z"
   },
   {
    "duration": 7,
    "start_time": "2023-03-19T06:00:27.077Z"
   },
   {
    "duration": 3745,
    "start_time": "2023-03-19T06:00:27.088Z"
   },
   {
    "duration": 202,
    "start_time": "2023-03-19T06:00:30.839Z"
   },
   {
    "duration": 199,
    "start_time": "2023-03-19T06:00:31.046Z"
   },
   {
    "duration": 11,
    "start_time": "2023-03-19T06:00:31.250Z"
   },
   {
    "duration": 632,
    "start_time": "2023-03-19T06:00:31.269Z"
   },
   {
    "duration": 262,
    "start_time": "2023-03-19T06:00:31.903Z"
   },
   {
    "duration": 170,
    "start_time": "2023-03-19T06:00:32.167Z"
   },
   {
    "duration": 37,
    "start_time": "2023-03-19T06:00:32.340Z"
   },
   {
    "duration": 35,
    "start_time": "2023-03-19T06:00:32.382Z"
   },
   {
    "duration": 275,
    "start_time": "2023-03-19T06:00:32.422Z"
   },
   {
    "duration": 218,
    "start_time": "2023-03-19T06:00:32.707Z"
   },
   {
    "duration": 29,
    "start_time": "2023-03-19T06:00:32.930Z"
   },
   {
    "duration": 135,
    "start_time": "2023-03-19T06:00:32.965Z"
   },
   {
    "duration": 11,
    "start_time": "2023-03-19T06:00:33.105Z"
   },
   {
    "duration": 378,
    "start_time": "2023-03-19T06:00:33.121Z"
   },
   {
    "duration": 204,
    "start_time": "2023-03-19T06:00:33.505Z"
   },
   {
    "duration": 34,
    "start_time": "2023-03-19T06:00:33.715Z"
   },
   {
    "duration": 53,
    "start_time": "2023-03-19T06:00:33.755Z"
   },
   {
    "duration": 767,
    "start_time": "2023-03-19T06:00:33.814Z"
   },
   {
    "duration": 5,
    "start_time": "2023-03-19T06:00:34.587Z"
   },
   {
    "duration": 15,
    "start_time": "2023-03-19T06:00:34.598Z"
   },
   {
    "duration": 18,
    "start_time": "2023-03-19T06:00:34.623Z"
   },
   {
    "duration": 386,
    "start_time": "2023-03-19T06:00:34.651Z"
   },
   {
    "duration": 18,
    "start_time": "2023-03-19T06:00:35.043Z"
   },
   {
    "duration": 666,
    "start_time": "2023-03-19T06:00:35.067Z"
   },
   {
    "duration": 293,
    "start_time": "2023-03-19T06:00:35.739Z"
   },
   {
    "duration": 130,
    "start_time": "2023-03-19T06:00:36.042Z"
   },
   {
    "duration": 5,
    "start_time": "2023-03-19T06:00:36.178Z"
   },
   {
    "duration": 43,
    "start_time": "2023-03-19T06:00:36.190Z"
   },
   {
    "duration": 82,
    "start_time": "2023-03-19T06:00:36.239Z"
   },
   {
    "duration": 338,
    "start_time": "2023-03-19T06:00:36.327Z"
   },
   {
    "duration": 730,
    "start_time": "2023-03-19T06:00:36.675Z"
   },
   {
    "duration": 414,
    "start_time": "2023-03-19T06:00:37.411Z"
   },
   {
    "duration": 90,
    "start_time": "2023-03-19T06:00:37.831Z"
   },
   {
    "duration": 191,
    "start_time": "2023-03-19T06:00:37.927Z"
   },
   {
    "duration": 97,
    "start_time": "2023-03-19T06:00:38.125Z"
   },
   {
    "duration": 717,
    "start_time": "2023-03-19T06:00:38.227Z"
   },
   {
    "duration": 648,
    "start_time": "2023-03-19T06:00:38.949Z"
   },
   {
    "duration": 807,
    "start_time": "2023-03-19T06:00:39.602Z"
   },
   {
    "duration": 670,
    "start_time": "2023-03-19T06:00:40.415Z"
   },
   {
    "duration": 589,
    "start_time": "2023-03-19T06:00:41.092Z"
   },
   {
    "duration": 571,
    "start_time": "2023-03-19T06:00:41.686Z"
   },
   {
    "duration": 507,
    "start_time": "2023-03-19T06:00:42.258Z"
   },
   {
    "duration": 39,
    "start_time": "2023-03-19T06:00:42.769Z"
   },
   {
    "duration": 70,
    "start_time": "2023-03-19T06:00:42.813Z"
   },
   {
    "duration": 251,
    "start_time": "2023-03-19T06:00:42.887Z"
   },
   {
    "duration": 12,
    "start_time": "2023-03-19T06:00:43.152Z"
   },
   {
    "duration": 4,
    "start_time": "2023-03-19T06:00:43.177Z"
   },
   {
    "duration": 78,
    "start_time": "2023-03-19T06:00:43.186Z"
   },
   {
    "duration": 523,
    "start_time": "2023-03-19T06:00:43.266Z"
   },
   {
    "duration": 91,
    "start_time": "2023-03-19T06:00:43.802Z"
   },
   {
    "duration": 129,
    "start_time": "2023-03-19T06:00:43.909Z"
   },
   {
    "duration": 256,
    "start_time": "2023-03-19T06:00:44.046Z"
   },
   {
    "duration": 86,
    "start_time": "2023-03-19T06:00:44.304Z"
   },
   {
    "duration": 6,
    "start_time": "2023-03-19T06:00:44.395Z"
   },
   {
    "duration": 87,
    "start_time": "2023-03-19T06:00:44.414Z"
   },
   {
    "duration": 111,
    "start_time": "2023-03-19T06:00:44.502Z"
   },
   {
    "duration": 287,
    "start_time": "2023-03-19T06:00:44.617Z"
   },
   {
    "duration": 4,
    "start_time": "2023-03-19T06:00:44.905Z"
   },
   {
    "duration": 107,
    "start_time": "2023-03-19T06:00:44.910Z"
   },
   {
    "duration": 79,
    "start_time": "2023-03-19T06:00:45.018Z"
   },
   {
    "duration": 314,
    "start_time": "2023-03-19T06:00:45.099Z"
   },
   {
    "duration": 35,
    "start_time": "2023-03-19T06:00:45.414Z"
   },
   {
    "duration": 14,
    "start_time": "2023-03-19T06:00:45.451Z"
   },
   {
    "duration": 382,
    "start_time": "2023-03-19T06:00:45.466Z"
   },
   {
    "duration": 9,
    "start_time": "2023-03-19T06:00:45.852Z"
   },
   {
    "duration": 27,
    "start_time": "2023-03-19T06:00:45.866Z"
   },
   {
    "duration": 176,
    "start_time": "2023-03-19T06:00:45.897Z"
   },
   {
    "duration": 1897,
    "start_time": "2023-03-19T06:00:46.078Z"
   },
   {
    "duration": 40,
    "start_time": "2023-03-19T06:00:47.981Z"
   },
   {
    "duration": 7,
    "start_time": "2023-03-19T06:00:48.030Z"
   },
   {
    "duration": 359,
    "start_time": "2023-03-19T06:00:48.042Z"
   },
   {
    "duration": 470,
    "start_time": "2023-03-19T06:00:48.403Z"
   },
   {
    "duration": 440,
    "start_time": "2023-03-19T06:00:48.885Z"
   },
   {
    "duration": 287,
    "start_time": "2023-03-19T06:00:49.334Z"
   },
   {
    "duration": 346,
    "start_time": "2023-03-19T06:00:49.627Z"
   },
   {
    "duration": 339,
    "start_time": "2023-03-19T06:00:49.978Z"
   },
   {
    "duration": 279,
    "start_time": "2023-03-19T06:00:50.330Z"
   },
   {
    "duration": 10,
    "start_time": "2023-03-19T06:00:50.611Z"
   },
   {
    "duration": 34,
    "start_time": "2023-03-19T06:00:50.623Z"
   },
   {
    "duration": 24,
    "start_time": "2023-03-19T06:00:50.665Z"
   },
   {
    "duration": 100,
    "start_time": "2023-03-19T06:00:50.693Z"
   },
   {
    "duration": 65,
    "start_time": "2023-03-19T06:00:50.798Z"
   },
   {
    "duration": 10,
    "start_time": "2023-03-19T06:00:50.867Z"
   },
   {
    "duration": 395,
    "start_time": "2023-03-19T06:00:50.882Z"
   },
   {
    "duration": 43,
    "start_time": "2023-03-19T06:00:51.286Z"
   },
   {
    "duration": 323,
    "start_time": "2023-03-19T06:00:51.334Z"
   },
   {
    "duration": 82,
    "start_time": "2023-03-19T06:00:51.662Z"
   },
   {
    "duration": 8,
    "start_time": "2023-03-19T06:00:51.749Z"
   },
   {
    "duration": 47,
    "start_time": "2023-03-19T06:00:51.762Z"
   },
   {
    "duration": 56,
    "start_time": "2023-03-19T06:00:51.815Z"
   },
   {
    "duration": 95,
    "start_time": "2023-03-19T06:00:51.876Z"
   },
   {
    "duration": 5,
    "start_time": "2023-03-19T06:00:51.976Z"
   },
   {
    "duration": 32,
    "start_time": "2023-03-19T06:00:51.985Z"
   },
   {
    "duration": 40,
    "start_time": "2023-03-19T06:00:52.025Z"
   },
   {
    "duration": 44,
    "start_time": "2023-03-19T06:00:52.073Z"
   },
   {
    "duration": 345,
    "start_time": "2023-03-19T06:00:52.119Z"
   },
   {
    "duration": 96,
    "start_time": "2023-03-19T06:00:52.469Z"
   },
   {
    "duration": 233,
    "start_time": "2023-03-19T06:00:52.573Z"
   },
   {
    "duration": 6,
    "start_time": "2023-03-19T06:00:52.811Z"
   },
   {
    "duration": 267,
    "start_time": "2023-03-19T06:00:52.822Z"
   },
   {
    "duration": 291,
    "start_time": "2023-03-19T06:00:53.094Z"
   },
   {
    "duration": 203,
    "start_time": "2023-03-19T06:00:53.398Z"
   },
   {
    "duration": 145,
    "start_time": "2023-03-19T06:00:53.608Z"
   },
   {
    "duration": 340,
    "start_time": "2023-03-19T06:00:53.757Z"
   },
   {
    "duration": 18783,
    "start_time": "2023-03-19T06:00:54.102Z"
   },
   {
    "duration": 4126,
    "start_time": "2023-03-19T06:01:12.891Z"
   },
   {
    "duration": 3885,
    "start_time": "2023-03-19T06:01:17.025Z"
   },
   {
    "duration": 5,
    "start_time": "2023-03-19T06:01:20.912Z"
   },
   {
    "duration": 755,
    "start_time": "2023-03-19T06:01:20.918Z"
   },
   {
    "duration": 116,
    "start_time": "2023-03-19T06:01:21.677Z"
   },
   {
    "duration": 323,
    "start_time": "2023-03-19T06:01:21.798Z"
   },
   {
    "duration": 503,
    "start_time": "2023-03-19T06:01:22.130Z"
   },
   {
    "duration": 543,
    "start_time": "2023-03-19T06:01:22.636Z"
   },
   {
    "duration": 134774,
    "start_time": "2023-03-19T06:01:23.183Z"
   },
   {
    "duration": 214,
    "start_time": "2023-03-19T06:03:37.989Z"
   },
   {
    "duration": 260622,
    "start_time": "2023-03-19T06:03:38.214Z"
   },
   {
    "duration": 1000534,
    "start_time": "2023-03-19T06:07:58.839Z"
   },
   {
    "duration": 14,
    "start_time": "2023-03-19T06:24:39.379Z"
   },
   {
    "duration": 19,
    "start_time": "2023-03-19T06:24:39.394Z"
   },
   {
    "duration": 17,
    "start_time": "2023-03-19T06:24:39.415Z"
   },
   {
    "duration": 154,
    "start_time": "2023-03-19T06:24:39.435Z"
   },
   {
    "duration": 273,
    "start_time": "2023-03-19T06:24:39.600Z"
   },
   {
    "duration": 661,
    "start_time": "2023-03-19T06:24:39.874Z"
   },
   {
    "duration": 0,
    "start_time": "2023-03-19T06:24:40.537Z"
   },
   {
    "duration": 0,
    "start_time": "2023-03-19T06:24:40.538Z"
   },
   {
    "duration": 0,
    "start_time": "2023-03-19T06:24:40.538Z"
   },
   {
    "duration": 0,
    "start_time": "2023-03-19T06:24:40.539Z"
   },
   {
    "duration": 0,
    "start_time": "2023-03-19T06:24:40.540Z"
   },
   {
    "duration": 0,
    "start_time": "2023-03-19T06:24:40.541Z"
   },
   {
    "duration": 0,
    "start_time": "2023-03-19T06:24:40.541Z"
   },
   {
    "duration": 0,
    "start_time": "2023-03-19T06:24:40.542Z"
   },
   {
    "duration": 0,
    "start_time": "2023-03-19T06:24:40.543Z"
   },
   {
    "duration": 0,
    "start_time": "2023-03-19T06:24:40.544Z"
   },
   {
    "duration": 0,
    "start_time": "2023-03-19T06:24:40.545Z"
   },
   {
    "duration": 0,
    "start_time": "2023-03-19T06:24:40.546Z"
   },
   {
    "duration": 0,
    "start_time": "2023-03-19T06:24:40.546Z"
   },
   {
    "duration": 0,
    "start_time": "2023-03-19T06:24:40.547Z"
   },
   {
    "duration": 0,
    "start_time": "2023-03-19T06:24:40.547Z"
   },
   {
    "duration": 0,
    "start_time": "2023-03-19T06:24:40.548Z"
   },
   {
    "duration": 0,
    "start_time": "2023-03-19T06:24:40.549Z"
   },
   {
    "duration": 3856,
    "start_time": "2023-03-19T12:47:14.728Z"
   },
   {
    "duration": 2852,
    "start_time": "2023-03-19T12:47:18.586Z"
   },
   {
    "duration": 4266,
    "start_time": "2023-03-19T12:47:21.440Z"
   },
   {
    "duration": 3,
    "start_time": "2023-03-19T12:47:25.708Z"
   },
   {
    "duration": 10,
    "start_time": "2023-03-19T12:47:25.714Z"
   },
   {
    "duration": 4785,
    "start_time": "2023-03-19T12:47:25.726Z"
   },
   {
    "duration": 3,
    "start_time": "2023-03-19T12:47:30.513Z"
   },
   {
    "duration": 12873,
    "start_time": "2023-03-19T12:47:30.517Z"
   },
   {
    "duration": 519,
    "start_time": "2023-03-19T12:47:43.391Z"
   },
   {
    "duration": 3,
    "start_time": "2023-03-19T12:47:43.912Z"
   },
   {
    "duration": 10,
    "start_time": "2023-03-19T12:47:43.917Z"
   },
   {
    "duration": 544,
    "start_time": "2023-03-19T12:47:43.928Z"
   },
   {
    "duration": 1163,
    "start_time": "2023-03-19T12:47:44.474Z"
   },
   {
    "duration": 1115,
    "start_time": "2023-03-19T12:47:45.641Z"
   },
   {
    "duration": 1243,
    "start_time": "2023-03-19T12:47:46.758Z"
   },
   {
    "duration": 1024,
    "start_time": "2023-03-19T12:47:48.003Z"
   },
   {
    "duration": 189,
    "start_time": "2023-03-19T12:47:49.028Z"
   },
   {
    "duration": 514,
    "start_time": "2023-03-19T12:47:49.219Z"
   },
   {
    "duration": 5,
    "start_time": "2023-03-19T12:47:49.735Z"
   },
   {
    "duration": 16,
    "start_time": "2023-03-19T12:47:49.741Z"
   },
   {
    "duration": 135,
    "start_time": "2023-03-19T12:47:49.758Z"
   },
   {
    "duration": 5,
    "start_time": "2023-03-19T12:47:49.894Z"
   },
   {
    "duration": 235,
    "start_time": "2023-03-19T12:47:49.900Z"
   },
   {
    "duration": 52,
    "start_time": "2023-03-19T12:47:50.137Z"
   },
   {
    "duration": 15,
    "start_time": "2023-03-19T12:47:50.191Z"
   },
   {
    "duration": 73,
    "start_time": "2023-03-19T12:47:50.207Z"
   },
   {
    "duration": 58,
    "start_time": "2023-03-19T12:47:50.282Z"
   },
   {
    "duration": 33,
    "start_time": "2023-03-19T12:47:50.341Z"
   },
   {
    "duration": 44,
    "start_time": "2023-03-19T12:47:50.376Z"
   },
   {
    "duration": 1916,
    "start_time": "2023-03-19T12:47:50.422Z"
   },
   {
    "duration": 121,
    "start_time": "2023-03-19T12:47:52.339Z"
   },
   {
    "duration": 160,
    "start_time": "2023-03-19T12:47:52.461Z"
   },
   {
    "duration": 3,
    "start_time": "2023-03-19T12:47:52.622Z"
   },
   {
    "duration": 472,
    "start_time": "2023-03-19T12:47:52.626Z"
   },
   {
    "duration": 154,
    "start_time": "2023-03-19T12:47:53.099Z"
   },
   {
    "duration": 137,
    "start_time": "2023-03-19T12:47:53.254Z"
   },
   {
    "duration": 16,
    "start_time": "2023-03-19T12:47:53.393Z"
   },
   {
    "duration": 36,
    "start_time": "2023-03-19T12:47:53.410Z"
   },
   {
    "duration": 184,
    "start_time": "2023-03-19T12:47:53.457Z"
   },
   {
    "duration": 129,
    "start_time": "2023-03-19T12:47:53.644Z"
   },
   {
    "duration": 15,
    "start_time": "2023-03-19T12:47:53.777Z"
   },
   {
    "duration": 84,
    "start_time": "2023-03-19T12:47:53.794Z"
   },
   {
    "duration": 5,
    "start_time": "2023-03-19T12:47:53.880Z"
   },
   {
    "duration": 310,
    "start_time": "2023-03-19T12:47:53.887Z"
   },
   {
    "duration": 152,
    "start_time": "2023-03-19T12:47:54.198Z"
   },
   {
    "duration": 17,
    "start_time": "2023-03-19T12:47:54.351Z"
   },
   {
    "duration": 28,
    "start_time": "2023-03-19T12:47:54.369Z"
   },
   {
    "duration": 543,
    "start_time": "2023-03-19T12:47:54.398Z"
   },
   {
    "duration": 2,
    "start_time": "2023-03-19T12:47:54.943Z"
   },
   {
    "duration": 34,
    "start_time": "2023-03-19T12:47:54.947Z"
   },
   {
    "duration": 14,
    "start_time": "2023-03-19T12:47:54.982Z"
   },
   {
    "duration": 303,
    "start_time": "2023-03-19T12:47:54.998Z"
   },
   {
    "duration": 6,
    "start_time": "2023-03-19T12:47:55.303Z"
   },
   {
    "duration": 437,
    "start_time": "2023-03-19T12:47:55.311Z"
   },
   {
    "duration": 149,
    "start_time": "2023-03-19T12:47:55.750Z"
   },
   {
    "duration": 137,
    "start_time": "2023-03-19T12:47:55.901Z"
   },
   {
    "duration": 2,
    "start_time": "2023-03-19T12:47:56.040Z"
   },
   {
    "duration": 38,
    "start_time": "2023-03-19T12:47:56.044Z"
   },
   {
    "duration": 48,
    "start_time": "2023-03-19T12:47:56.083Z"
   },
   {
    "duration": 309,
    "start_time": "2023-03-19T12:47:56.132Z"
   },
   {
    "duration": 394,
    "start_time": "2023-03-19T12:47:56.443Z"
   },
   {
    "duration": 264,
    "start_time": "2023-03-19T12:47:56.838Z"
   },
   {
    "duration": 59,
    "start_time": "2023-03-19T12:47:57.104Z"
   },
   {
    "duration": 97,
    "start_time": "2023-03-19T12:47:57.165Z"
   },
   {
    "duration": 82,
    "start_time": "2023-03-19T12:47:57.263Z"
   },
   {
    "duration": 483,
    "start_time": "2023-03-19T12:47:57.347Z"
   },
   {
    "duration": 478,
    "start_time": "2023-03-19T12:47:57.832Z"
   },
   {
    "duration": 482,
    "start_time": "2023-03-19T12:47:58.312Z"
   },
   {
    "duration": 463,
    "start_time": "2023-03-19T12:47:58.796Z"
   },
   {
    "duration": 413,
    "start_time": "2023-03-19T12:47:59.261Z"
   },
   {
    "duration": 378,
    "start_time": "2023-03-19T12:47:59.675Z"
   },
   {
    "duration": 362,
    "start_time": "2023-03-19T12:48:00.054Z"
   },
   {
    "duration": 29,
    "start_time": "2023-03-19T12:48:00.418Z"
   },
   {
    "duration": 57,
    "start_time": "2023-03-19T12:48:00.458Z"
   },
   {
    "duration": 255,
    "start_time": "2023-03-19T12:48:00.517Z"
   },
   {
    "duration": 4,
    "start_time": "2023-03-19T12:48:00.774Z"
   },
   {
    "duration": 24,
    "start_time": "2023-03-19T12:48:00.779Z"
   },
   {
    "duration": 43,
    "start_time": "2023-03-19T12:48:00.805Z"
   },
   {
    "duration": 368,
    "start_time": "2023-03-19T12:48:00.849Z"
   },
   {
    "duration": 28,
    "start_time": "2023-03-19T12:48:01.219Z"
   },
   {
    "duration": 59,
    "start_time": "2023-03-19T12:48:01.257Z"
   },
   {
    "duration": 235,
    "start_time": "2023-03-19T12:48:01.318Z"
   },
   {
    "duration": 82,
    "start_time": "2023-03-19T12:48:01.555Z"
   },
   {
    "duration": 2,
    "start_time": "2023-03-19T12:48:01.639Z"
   },
   {
    "duration": 45,
    "start_time": "2023-03-19T12:48:01.643Z"
   },
   {
    "duration": 81,
    "start_time": "2023-03-19T12:48:01.689Z"
   },
   {
    "duration": 237,
    "start_time": "2023-03-19T12:48:01.772Z"
   },
   {
    "duration": 3,
    "start_time": "2023-03-19T12:48:02.011Z"
   },
   {
    "duration": 90,
    "start_time": "2023-03-19T12:48:02.016Z"
   },
   {
    "duration": 53,
    "start_time": "2023-03-19T12:48:02.108Z"
   },
   {
    "duration": 157,
    "start_time": "2023-03-19T12:48:02.162Z"
   },
   {
    "duration": 27,
    "start_time": "2023-03-19T12:48:02.320Z"
   },
   {
    "duration": 21,
    "start_time": "2023-03-19T12:48:02.348Z"
   },
   {
    "duration": 311,
    "start_time": "2023-03-19T12:48:02.370Z"
   },
   {
    "duration": 3,
    "start_time": "2023-03-19T12:48:02.683Z"
   },
   {
    "duration": 43,
    "start_time": "2023-03-19T12:48:02.688Z"
   },
   {
    "duration": 176,
    "start_time": "2023-03-19T12:48:02.733Z"
   },
   {
    "duration": 1265,
    "start_time": "2023-03-19T12:48:02.911Z"
   },
   {
    "duration": 19,
    "start_time": "2023-03-19T12:48:04.178Z"
   },
   {
    "duration": 5,
    "start_time": "2023-03-19T12:48:04.199Z"
   },
   {
    "duration": 230,
    "start_time": "2023-03-19T12:48:04.205Z"
   },
   {
    "duration": 348,
    "start_time": "2023-03-19T12:48:04.436Z"
   },
   {
    "duration": 589,
    "start_time": "2023-03-19T12:48:04.786Z"
   },
   {
    "duration": 393,
    "start_time": "2023-03-19T12:48:05.377Z"
   },
   {
    "duration": 504,
    "start_time": "2023-03-19T12:48:05.773Z"
   },
   {
    "duration": 428,
    "start_time": "2023-03-19T12:48:06.279Z"
   },
   {
    "duration": 264,
    "start_time": "2023-03-19T12:48:06.708Z"
   },
   {
    "duration": 5,
    "start_time": "2023-03-19T12:48:06.973Z"
   },
   {
    "duration": 61,
    "start_time": "2023-03-19T12:48:06.980Z"
   },
   {
    "duration": 11,
    "start_time": "2023-03-19T12:48:07.044Z"
   },
   {
    "duration": 53,
    "start_time": "2023-03-19T12:48:07.056Z"
   },
   {
    "duration": 25,
    "start_time": "2023-03-19T12:48:07.111Z"
   },
   {
    "duration": 23,
    "start_time": "2023-03-19T12:48:07.137Z"
   },
   {
    "duration": 300,
    "start_time": "2023-03-19T12:48:07.161Z"
   },
   {
    "duration": 26,
    "start_time": "2023-03-19T12:48:07.463Z"
   },
   {
    "duration": 247,
    "start_time": "2023-03-19T12:48:07.491Z"
   },
   {
    "duration": 54,
    "start_time": "2023-03-19T12:48:07.739Z"
   },
   {
    "duration": 9,
    "start_time": "2023-03-19T12:48:07.794Z"
   },
   {
    "duration": 35,
    "start_time": "2023-03-19T12:48:07.805Z"
   },
   {
    "duration": 45,
    "start_time": "2023-03-19T12:48:07.841Z"
   },
   {
    "duration": 41,
    "start_time": "2023-03-19T12:48:07.887Z"
   },
   {
    "duration": 2,
    "start_time": "2023-03-19T12:48:07.935Z"
   },
   {
    "duration": 21,
    "start_time": "2023-03-19T12:48:07.939Z"
   },
   {
    "duration": 6,
    "start_time": "2023-03-19T12:48:07.962Z"
   },
   {
    "duration": 10,
    "start_time": "2023-03-19T12:48:07.969Z"
   },
   {
    "duration": 117,
    "start_time": "2023-03-19T12:48:07.981Z"
   },
   {
    "duration": 180,
    "start_time": "2023-03-19T12:48:08.100Z"
   },
   {
    "duration": 4266,
    "start_time": "2023-03-20T07:43:33.205Z"
   },
   {
    "duration": 3118,
    "start_time": "2023-03-20T07:43:37.473Z"
   },
   {
    "duration": 4573,
    "start_time": "2023-03-20T07:43:40.593Z"
   },
   {
    "duration": 4,
    "start_time": "2023-03-20T07:43:45.168Z"
   },
   {
    "duration": 16,
    "start_time": "2023-03-20T07:43:45.174Z"
   },
   {
    "duration": 8195,
    "start_time": "2023-03-20T07:43:45.192Z"
   },
   {
    "duration": 17684,
    "start_time": "2023-03-20T07:43:53.388Z"
   },
   {
    "duration": 11032,
    "start_time": "2023-03-20T07:44:29.031Z"
   },
   {
    "duration": 2996,
    "start_time": "2023-03-20T07:44:42.709Z"
   },
   {
    "duration": 209,
    "start_time": "2023-03-20T07:50:32.699Z"
   },
   {
    "duration": 208,
    "start_time": "2023-03-20T07:50:39.587Z"
   },
   {
    "duration": 307,
    "start_time": "2023-03-20T07:51:05.607Z"
   },
   {
    "duration": 20,
    "start_time": "2023-03-20T07:51:21.761Z"
   },
   {
    "duration": 135,
    "start_time": "2023-03-20T07:51:45.231Z"
   },
   {
    "duration": 6,
    "start_time": "2023-03-20T07:52:31.789Z"
   },
   {
    "duration": 140,
    "start_time": "2023-03-20T07:52:41.699Z"
   },
   {
    "duration": 124,
    "start_time": "2023-03-20T07:53:02.959Z"
   },
   {
    "duration": 70,
    "start_time": "2023-03-20T07:54:50.656Z"
   },
   {
    "duration": 147,
    "start_time": "2023-03-20T07:54:58.009Z"
   },
   {
    "duration": 329,
    "start_time": "2023-03-20T07:56:58.562Z"
   },
   {
    "duration": 379,
    "start_time": "2023-03-20T07:57:10.655Z"
   },
   {
    "duration": 2386,
    "start_time": "2023-03-20T08:16:37.774Z"
   },
   {
    "duration": 2291,
    "start_time": "2023-03-20T08:16:40.163Z"
   },
   {
    "duration": 5,
    "start_time": "2023-03-20T08:16:42.456Z"
   },
   {
    "duration": 6,
    "start_time": "2023-03-20T08:16:42.464Z"
   },
   {
    "duration": 4,
    "start_time": "2023-03-20T08:16:42.472Z"
   },
   {
    "duration": 7,
    "start_time": "2023-03-20T08:16:42.479Z"
   },
   {
    "duration": 2172,
    "start_time": "2023-03-20T08:16:58.056Z"
   },
   {
    "duration": 2143,
    "start_time": "2023-03-20T08:17:00.230Z"
   },
   {
    "duration": 5350,
    "start_time": "2023-03-20T08:17:02.375Z"
   },
   {
    "duration": 4,
    "start_time": "2023-03-20T08:17:07.727Z"
   },
   {
    "duration": 14,
    "start_time": "2023-03-20T08:17:07.734Z"
   },
   {
    "duration": 13980,
    "start_time": "2023-03-20T08:17:07.751Z"
   },
   {
    "duration": 18286,
    "start_time": "2023-03-20T08:17:21.733Z"
   },
   {
    "duration": 10979,
    "start_time": "2023-03-20T08:17:40.021Z"
   },
   {
    "duration": 2997,
    "start_time": "2023-03-20T08:17:51.001Z"
   },
   {
    "duration": 207,
    "start_time": "2023-03-20T08:17:54.001Z"
   },
   {
    "duration": 7,
    "start_time": "2023-03-20T08:17:54.211Z"
   },
   {
    "duration": 250,
    "start_time": "2023-03-20T08:17:54.222Z"
   },
   {
    "duration": 2,
    "start_time": "2023-03-20T08:17:54.474Z"
   },
   {
    "duration": 12986,
    "start_time": "2023-03-20T08:17:54.478Z"
   },
   {
    "duration": 703,
    "start_time": "2023-03-20T08:18:07.466Z"
   },
   {
    "duration": 4,
    "start_time": "2023-03-20T08:18:08.170Z"
   },
   {
    "duration": 5,
    "start_time": "2023-03-20T08:18:08.176Z"
   },
   {
    "duration": 694,
    "start_time": "2023-03-20T08:18:08.182Z"
   },
   {
    "duration": 1626,
    "start_time": "2023-03-20T08:18:08.878Z"
   },
   {
    "duration": 1601,
    "start_time": "2023-03-20T08:18:10.505Z"
   },
   {
    "duration": 1878,
    "start_time": "2023-03-20T08:18:12.108Z"
   },
   {
    "duration": 1562,
    "start_time": "2023-03-20T08:18:13.989Z"
   },
   {
    "duration": 300,
    "start_time": "2023-03-20T08:18:15.553Z"
   },
   {
    "duration": 684,
    "start_time": "2023-03-20T08:18:15.855Z"
   },
   {
    "duration": 9,
    "start_time": "2023-03-20T08:18:16.541Z"
   },
   {
    "duration": 24,
    "start_time": "2023-03-20T08:18:16.552Z"
   },
   {
    "duration": 269,
    "start_time": "2023-03-20T08:18:16.578Z"
   },
   {
    "duration": 6,
    "start_time": "2023-03-20T08:18:16.851Z"
   },
   {
    "duration": 18,
    "start_time": "2023-03-20T08:18:16.860Z"
   },
   {
    "duration": 6,
    "start_time": "2023-03-20T08:18:16.880Z"
   },
   {
    "duration": 1788,
    "start_time": "2023-03-20T08:18:22.999Z"
   },
   {
    "duration": 5,
    "start_time": "2023-03-20T08:18:30.717Z"
   },
   {
    "duration": 22,
    "start_time": "2023-03-20T08:19:06.029Z"
   },
   {
    "duration": 5,
    "start_time": "2023-03-20T08:19:08.832Z"
   },
   {
    "duration": 815,
    "start_time": "2023-03-20T08:19:16.786Z"
   },
   {
    "duration": 833,
    "start_time": "2023-03-20T08:19:20.418Z"
   },
   {
    "duration": 1204,
    "start_time": "2023-03-20T08:19:46.712Z"
   },
   {
    "duration": 5,
    "start_time": "2023-03-20T08:20:05.954Z"
   },
   {
    "duration": 850,
    "start_time": "2023-03-20T08:20:40.926Z"
   },
   {
    "duration": 1210,
    "start_time": "2023-03-20T08:20:46.278Z"
   },
   {
    "duration": 191,
    "start_time": "2023-03-20T08:21:20.248Z"
   },
   {
    "duration": 2458,
    "start_time": "2023-03-20T08:24:53.463Z"
   },
   {
    "duration": 2319,
    "start_time": "2023-03-20T08:24:55.925Z"
   },
   {
    "duration": 7,
    "start_time": "2023-03-20T08:24:58.247Z"
   },
   {
    "duration": 7,
    "start_time": "2023-03-20T08:24:58.259Z"
   },
   {
    "duration": 4,
    "start_time": "2023-03-20T08:24:58.268Z"
   },
   {
    "duration": 7,
    "start_time": "2023-03-20T08:24:58.273Z"
   },
   {
    "duration": 2694,
    "start_time": "2023-03-20T08:25:12.149Z"
   },
   {
    "duration": 2219,
    "start_time": "2023-03-20T08:25:14.845Z"
   },
   {
    "duration": 5091,
    "start_time": "2023-03-20T08:25:17.067Z"
   },
   {
    "duration": 4,
    "start_time": "2023-03-20T08:25:22.160Z"
   },
   {
    "duration": 6,
    "start_time": "2023-03-20T08:25:22.165Z"
   },
   {
    "duration": 11123,
    "start_time": "2023-03-20T08:25:22.173Z"
   },
   {
    "duration": 17711,
    "start_time": "2023-03-20T08:25:33.298Z"
   },
   {
    "duration": 11089,
    "start_time": "2023-03-20T08:25:51.010Z"
   },
   {
    "duration": 3064,
    "start_time": "2023-03-20T08:26:02.101Z"
   },
   {
    "duration": 214,
    "start_time": "2023-03-20T08:26:05.169Z"
   },
   {
    "duration": 6,
    "start_time": "2023-03-20T08:26:05.385Z"
   },
   {
    "duration": 219,
    "start_time": "2023-03-20T08:26:05.393Z"
   },
   {
    "duration": 2,
    "start_time": "2023-03-20T08:26:05.614Z"
   },
   {
    "duration": 14854,
    "start_time": "2023-03-20T08:26:05.618Z"
   },
   {
    "duration": 696,
    "start_time": "2023-03-20T08:26:20.474Z"
   },
   {
    "duration": 4,
    "start_time": "2023-03-20T08:26:21.171Z"
   },
   {
    "duration": 5,
    "start_time": "2023-03-20T08:26:21.177Z"
   },
   {
    "duration": 695,
    "start_time": "2023-03-20T08:26:21.184Z"
   },
   {
    "duration": 1675,
    "start_time": "2023-03-20T08:26:21.882Z"
   },
   {
    "duration": 1633,
    "start_time": "2023-03-20T08:26:23.558Z"
   },
   {
    "duration": 1942,
    "start_time": "2023-03-20T08:26:25.193Z"
   },
   {
    "duration": 1574,
    "start_time": "2023-03-20T08:26:27.137Z"
   },
   {
    "duration": 317,
    "start_time": "2023-03-20T08:26:28.713Z"
   },
   {
    "duration": 650,
    "start_time": "2023-03-20T08:26:29.032Z"
   },
   {
    "duration": 6,
    "start_time": "2023-03-20T08:26:29.685Z"
   },
   {
    "duration": 6,
    "start_time": "2023-03-20T08:26:29.692Z"
   },
   {
    "duration": 243,
    "start_time": "2023-03-20T08:26:29.699Z"
   },
   {
    "duration": 9,
    "start_time": "2023-03-20T08:26:29.946Z"
   },
   {
    "duration": 200,
    "start_time": "2023-03-20T08:26:29.957Z"
   },
   {
    "duration": 80,
    "start_time": "2023-03-20T08:26:30.159Z"
   },
   {
    "duration": 7,
    "start_time": "2023-03-20T08:26:30.241Z"
   },
   {
    "duration": 94,
    "start_time": "2023-03-20T08:26:30.249Z"
   },
   {
    "duration": 6,
    "start_time": "2023-03-20T08:26:30.345Z"
   },
   {
    "duration": 32,
    "start_time": "2023-03-20T08:26:30.353Z"
   },
   {
    "duration": 42,
    "start_time": "2023-03-20T08:26:30.387Z"
   },
   {
    "duration": 2195,
    "start_time": "2023-03-20T08:26:30.431Z"
   },
   {
    "duration": 136,
    "start_time": "2023-03-20T08:26:32.627Z"
   },
   {
    "duration": 260,
    "start_time": "2023-03-20T08:26:32.765Z"
   },
   {
    "duration": 3,
    "start_time": "2023-03-20T08:26:33.026Z"
   },
   {
    "duration": 601,
    "start_time": "2023-03-20T08:26:33.031Z"
   },
   {
    "duration": 188,
    "start_time": "2023-03-20T08:26:33.633Z"
   },
   {
    "duration": 146,
    "start_time": "2023-03-20T08:26:33.823Z"
   },
   {
    "duration": 17,
    "start_time": "2023-03-20T08:26:33.974Z"
   },
   {
    "duration": 24,
    "start_time": "2023-03-20T08:26:33.992Z"
   },
   {
    "duration": 372,
    "start_time": "2023-03-20T08:26:34.017Z"
   },
   {
    "duration": 140,
    "start_time": "2023-03-20T08:26:34.391Z"
   },
   {
    "duration": 21,
    "start_time": "2023-03-20T08:26:34.534Z"
   },
   {
    "duration": 101,
    "start_time": "2023-03-20T08:26:34.557Z"
   },
   {
    "duration": 16,
    "start_time": "2023-03-20T08:26:34.660Z"
   },
   {
    "duration": 533,
    "start_time": "2023-03-20T08:26:34.678Z"
   },
   {
    "duration": 149,
    "start_time": "2023-03-20T08:26:35.213Z"
   },
   {
    "duration": 28,
    "start_time": "2023-03-20T08:26:35.363Z"
   },
   {
    "duration": 30,
    "start_time": "2023-03-20T08:26:35.394Z"
   },
   {
    "duration": 718,
    "start_time": "2023-03-20T08:26:35.426Z"
   },
   {
    "duration": 4,
    "start_time": "2023-03-20T08:26:36.146Z"
   },
   {
    "duration": 24,
    "start_time": "2023-03-20T08:26:36.151Z"
   },
   {
    "duration": 7,
    "start_time": "2023-03-20T08:26:36.177Z"
   },
   {
    "duration": 493,
    "start_time": "2023-03-20T08:26:36.186Z"
   },
   {
    "duration": 7,
    "start_time": "2023-03-20T08:26:36.680Z"
   },
   {
    "duration": 506,
    "start_time": "2023-03-20T08:26:36.689Z"
   },
   {
    "duration": 158,
    "start_time": "2023-03-20T08:26:37.198Z"
   },
   {
    "duration": 209,
    "start_time": "2023-03-20T08:26:37.358Z"
   },
   {
    "duration": 6,
    "start_time": "2023-03-20T08:26:37.569Z"
   },
   {
    "duration": 39,
    "start_time": "2023-03-20T08:26:37.577Z"
   },
   {
    "duration": 64,
    "start_time": "2023-03-20T08:26:37.618Z"
   },
   {
    "duration": 527,
    "start_time": "2023-03-20T08:26:37.684Z"
   },
   {
    "duration": 529,
    "start_time": "2023-03-20T08:26:38.213Z"
   },
   {
    "duration": 67,
    "start_time": "2023-03-20T08:26:38.744Z"
   },
   {
    "duration": 236,
    "start_time": "2023-03-20T08:26:38.812Z"
   },
   {
    "duration": 56,
    "start_time": "2023-03-20T08:35:06.802Z"
   },
   {
    "duration": 66,
    "start_time": "2023-03-20T08:35:18.364Z"
   },
   {
    "duration": 2104,
    "start_time": "2023-03-20T08:41:34.052Z"
   },
   {
    "duration": 2049,
    "start_time": "2023-03-20T08:41:36.159Z"
   },
   {
    "duration": 4594,
    "start_time": "2023-03-20T08:41:38.210Z"
   },
   {
    "duration": 3,
    "start_time": "2023-03-20T08:41:42.806Z"
   },
   {
    "duration": 5,
    "start_time": "2023-03-20T08:41:42.811Z"
   },
   {
    "duration": 8146,
    "start_time": "2023-03-20T08:41:42.818Z"
   },
   {
    "duration": 17771,
    "start_time": "2023-03-20T08:41:50.967Z"
   },
   {
    "duration": 11166,
    "start_time": "2023-03-20T08:42:08.739Z"
   },
   {
    "duration": 3094,
    "start_time": "2023-03-20T08:42:19.907Z"
   },
   {
    "duration": 213,
    "start_time": "2023-03-20T08:42:23.002Z"
   },
   {
    "duration": 6,
    "start_time": "2023-03-20T08:42:23.216Z"
   },
   {
    "duration": 225,
    "start_time": "2023-03-20T08:42:23.223Z"
   },
   {
    "duration": 3,
    "start_time": "2023-03-20T08:42:23.450Z"
   },
   {
    "duration": 13901,
    "start_time": "2023-03-20T08:42:23.455Z"
   },
   {
    "duration": 660,
    "start_time": "2023-03-20T08:42:37.358Z"
   },
   {
    "duration": 3,
    "start_time": "2023-03-20T08:42:38.021Z"
   },
   {
    "duration": 13,
    "start_time": "2023-03-20T08:42:38.026Z"
   },
   {
    "duration": 642,
    "start_time": "2023-03-20T08:42:38.041Z"
   },
   {
    "duration": 1527,
    "start_time": "2023-03-20T08:42:38.684Z"
   },
   {
    "duration": 1521,
    "start_time": "2023-03-20T08:42:40.212Z"
   },
   {
    "duration": 1788,
    "start_time": "2023-03-20T08:42:41.735Z"
   },
   {
    "duration": 1499,
    "start_time": "2023-03-20T08:42:43.525Z"
   },
   {
    "duration": 266,
    "start_time": "2023-03-20T08:42:45.026Z"
   },
   {
    "duration": 617,
    "start_time": "2023-03-20T08:42:45.294Z"
   },
   {
    "duration": 6,
    "start_time": "2023-03-20T08:42:45.912Z"
   },
   {
    "duration": 13,
    "start_time": "2023-03-20T08:42:45.919Z"
   },
   {
    "duration": 218,
    "start_time": "2023-03-20T08:42:45.934Z"
   },
   {
    "duration": 5,
    "start_time": "2023-03-20T08:42:46.154Z"
   },
   {
    "duration": 191,
    "start_time": "2023-03-20T08:42:46.161Z"
   },
   {
    "duration": 87,
    "start_time": "2023-03-20T08:42:46.354Z"
   },
   {
    "duration": 5,
    "start_time": "2023-03-20T08:42:46.443Z"
   },
   {
    "duration": 81,
    "start_time": "2023-03-20T08:42:46.449Z"
   },
   {
    "duration": 5,
    "start_time": "2023-03-20T08:42:46.531Z"
   },
   {
    "duration": 5,
    "start_time": "2023-03-20T08:42:46.538Z"
   },
   {
    "duration": 9,
    "start_time": "2023-03-20T08:42:46.544Z"
   },
   {
    "duration": 2254,
    "start_time": "2023-03-20T08:42:46.555Z"
   },
   {
    "duration": 134,
    "start_time": "2023-03-20T08:42:48.811Z"
   },
   {
    "duration": 224,
    "start_time": "2023-03-20T08:42:48.946Z"
   },
   {
    "duration": 4,
    "start_time": "2023-03-20T08:42:49.171Z"
   },
   {
    "duration": 581,
    "start_time": "2023-03-20T08:42:49.178Z"
   },
   {
    "duration": 179,
    "start_time": "2023-03-20T08:42:49.765Z"
   },
   {
    "duration": 153,
    "start_time": "2023-03-20T08:42:49.945Z"
   },
   {
    "duration": 15,
    "start_time": "2023-03-20T08:42:50.099Z"
   },
   {
    "duration": 35,
    "start_time": "2023-03-20T08:42:50.116Z"
   },
   {
    "duration": 282,
    "start_time": "2023-03-20T08:42:50.152Z"
   },
   {
    "duration": 159,
    "start_time": "2023-03-20T08:42:50.438Z"
   },
   {
    "duration": 15,
    "start_time": "2023-03-20T08:42:50.598Z"
   },
   {
    "duration": 98,
    "start_time": "2023-03-20T08:42:50.615Z"
   },
   {
    "duration": 5,
    "start_time": "2023-03-20T08:42:50.715Z"
   },
   {
    "duration": 485,
    "start_time": "2023-03-20T08:42:50.722Z"
   },
   {
    "duration": 146,
    "start_time": "2023-03-20T08:42:51.209Z"
   },
   {
    "duration": 25,
    "start_time": "2023-03-20T08:42:51.357Z"
   },
   {
    "duration": 28,
    "start_time": "2023-03-20T08:42:51.384Z"
   },
   {
    "duration": 688,
    "start_time": "2023-03-20T08:42:51.413Z"
   },
   {
    "duration": 3,
    "start_time": "2023-03-20T08:42:52.103Z"
   },
   {
    "duration": 13,
    "start_time": "2023-03-20T08:42:52.108Z"
   },
   {
    "duration": 15,
    "start_time": "2023-03-20T08:42:52.122Z"
   },
   {
    "duration": 437,
    "start_time": "2023-03-20T08:42:52.138Z"
   },
   {
    "duration": 9,
    "start_time": "2023-03-20T08:42:52.579Z"
   },
   {
    "duration": 500,
    "start_time": "2023-03-20T08:42:52.590Z"
   },
   {
    "duration": 179,
    "start_time": "2023-03-20T08:42:53.092Z"
   },
   {
    "duration": 175,
    "start_time": "2023-03-20T08:42:53.272Z"
   },
   {
    "duration": 3,
    "start_time": "2023-03-20T08:42:53.449Z"
   },
   {
    "duration": 41,
    "start_time": "2023-03-20T08:42:53.453Z"
   },
   {
    "duration": 52,
    "start_time": "2023-03-20T08:42:53.496Z"
   },
   {
    "duration": 460,
    "start_time": "2023-03-20T08:42:53.550Z"
   },
   {
    "duration": 484,
    "start_time": "2023-03-20T08:42:54.011Z"
   },
   {
    "duration": 57,
    "start_time": "2023-03-20T08:42:54.497Z"
   },
   {
    "duration": 151,
    "start_time": "2023-03-20T08:42:54.556Z"
   },
   {
    "duration": 68,
    "start_time": "2023-03-20T08:42:54.708Z"
   },
   {
    "duration": 121,
    "start_time": "2023-03-20T08:42:54.778Z"
   },
   {
    "duration": 54,
    "start_time": "2023-03-20T08:42:54.901Z"
   },
   {
    "duration": 637,
    "start_time": "2023-03-20T08:42:54.956Z"
   },
   {
    "duration": 607,
    "start_time": "2023-03-20T08:42:55.595Z"
   },
   {
    "duration": 592,
    "start_time": "2023-03-20T08:42:56.204Z"
   },
   {
    "duration": 591,
    "start_time": "2023-03-20T08:42:56.798Z"
   },
   {
    "duration": 521,
    "start_time": "2023-03-20T08:42:57.391Z"
   },
   {
    "duration": 514,
    "start_time": "2023-03-20T08:42:57.914Z"
   },
   {
    "duration": 465,
    "start_time": "2023-03-20T08:42:58.429Z"
   },
   {
    "duration": 31,
    "start_time": "2023-03-20T08:42:58.895Z"
   },
   {
    "duration": 73,
    "start_time": "2023-03-20T08:42:58.928Z"
   },
   {
    "duration": 336,
    "start_time": "2023-03-20T08:42:59.002Z"
   },
   {
    "duration": 4,
    "start_time": "2023-03-20T08:42:59.340Z"
   },
   {
    "duration": 6,
    "start_time": "2023-03-20T08:42:59.345Z"
   },
   {
    "duration": 47,
    "start_time": "2023-03-20T08:42:59.352Z"
   },
   {
    "duration": 430,
    "start_time": "2023-03-20T08:42:59.400Z"
   },
   {
    "duration": 30,
    "start_time": "2023-03-20T08:42:59.831Z"
   },
   {
    "duration": 71,
    "start_time": "2023-03-20T08:42:59.863Z"
   },
   {
    "duration": 323,
    "start_time": "2023-03-20T08:42:59.936Z"
   },
   {
    "duration": 126,
    "start_time": "2023-03-20T08:43:00.261Z"
   },
   {
    "duration": 9,
    "start_time": "2023-03-20T08:43:00.395Z"
   },
   {
    "duration": 69,
    "start_time": "2023-03-20T08:43:00.406Z"
   },
   {
    "duration": 82,
    "start_time": "2023-03-20T08:43:00.478Z"
   },
   {
    "duration": 398,
    "start_time": "2023-03-20T08:43:00.562Z"
   },
   {
    "duration": 3,
    "start_time": "2023-03-20T08:43:00.962Z"
   },
   {
    "duration": 99,
    "start_time": "2023-03-20T08:43:00.967Z"
   },
   {
    "duration": 76,
    "start_time": "2023-03-20T08:43:01.068Z"
   },
   {
    "duration": 264,
    "start_time": "2023-03-20T08:43:01.147Z"
   },
   {
    "duration": 16,
    "start_time": "2023-03-20T08:43:01.413Z"
   },
   {
    "duration": 22,
    "start_time": "2023-03-20T08:43:01.430Z"
   },
   {
    "duration": 382,
    "start_time": "2023-03-20T08:43:01.454Z"
   },
   {
    "duration": 3,
    "start_time": "2023-03-20T08:43:01.838Z"
   },
   {
    "duration": 53,
    "start_time": "2023-03-20T08:43:01.843Z"
   },
   {
    "duration": 301,
    "start_time": "2023-03-20T08:43:01.898Z"
   },
   {
    "duration": 1367,
    "start_time": "2023-03-20T08:43:02.201Z"
   },
   {
    "duration": 25,
    "start_time": "2023-03-20T08:43:03.569Z"
   },
   {
    "duration": 5,
    "start_time": "2023-03-20T08:43:03.596Z"
   },
   {
    "duration": 238,
    "start_time": "2023-03-20T08:43:03.602Z"
   },
   {
    "duration": 349,
    "start_time": "2023-03-20T08:43:03.842Z"
   },
   {
    "duration": 314,
    "start_time": "2023-03-20T08:43:04.194Z"
   },
   {
    "duration": 141,
    "start_time": "2023-03-20T08:43:04.509Z"
   },
   {
    "duration": 283,
    "start_time": "2023-03-20T08:43:04.651Z"
   },
   {
    "duration": 262,
    "start_time": "2023-03-20T08:43:04.936Z"
   },
   {
    "duration": 247,
    "start_time": "2023-03-20T08:43:05.199Z"
   },
   {
    "duration": 4,
    "start_time": "2023-03-20T08:43:05.447Z"
   },
   {
    "duration": 50,
    "start_time": "2023-03-20T08:43:05.453Z"
   },
   {
    "duration": 12,
    "start_time": "2023-03-20T08:43:05.504Z"
   },
   {
    "duration": 50,
    "start_time": "2023-03-20T08:43:05.517Z"
   },
   {
    "duration": 28,
    "start_time": "2023-03-20T08:43:05.576Z"
   },
   {
    "duration": 8,
    "start_time": "2023-03-20T08:43:05.606Z"
   },
   {
    "duration": 362,
    "start_time": "2023-03-20T08:43:05.615Z"
   },
   {
    "duration": 31,
    "start_time": "2023-03-20T08:43:05.988Z"
   },
   {
    "duration": 266,
    "start_time": "2023-03-20T08:43:06.021Z"
   },
   {
    "duration": 59,
    "start_time": "2023-03-20T08:43:06.289Z"
   },
   {
    "duration": 5,
    "start_time": "2023-03-20T08:43:06.349Z"
   },
   {
    "duration": 81,
    "start_time": "2023-03-20T08:43:06.355Z"
   },
   {
    "duration": 30,
    "start_time": "2023-03-20T08:43:06.438Z"
   },
   {
    "duration": 62,
    "start_time": "2023-03-20T08:43:06.469Z"
   },
   {
    "duration": 62,
    "start_time": "2023-03-20T08:43:06.532Z"
   },
   {
    "duration": 4,
    "start_time": "2023-03-20T08:43:06.596Z"
   },
   {
    "duration": 7,
    "start_time": "2023-03-20T08:43:06.601Z"
   },
   {
    "duration": 4,
    "start_time": "2023-03-20T08:43:06.610Z"
   },
   {
    "duration": 9,
    "start_time": "2023-03-20T08:43:06.615Z"
   },
   {
    "duration": 185,
    "start_time": "2023-03-20T08:43:06.625Z"
   },
   {
    "duration": 188,
    "start_time": "2023-03-20T08:43:06.811Z"
   },
   {
    "duration": 278,
    "start_time": "2023-03-20T08:43:07.001Z"
   },
   {
    "duration": 197,
    "start_time": "2023-03-20T08:43:07.280Z"
   },
   {
    "duration": 76,
    "start_time": "2023-03-20T08:43:07.483Z"
   },
   {
    "duration": 78,
    "start_time": "2023-03-20T08:43:07.575Z"
   },
   {
    "duration": 362,
    "start_time": "2023-03-20T08:43:07.654Z"
   },
   {
    "duration": 0,
    "start_time": "2023-03-20T08:43:08.017Z"
   },
   {
    "duration": 0,
    "start_time": "2023-03-20T08:43:08.019Z"
   },
   {
    "duration": 0,
    "start_time": "2023-03-20T08:43:08.020Z"
   },
   {
    "duration": 0,
    "start_time": "2023-03-20T08:43:08.021Z"
   },
   {
    "duration": 0,
    "start_time": "2023-03-20T08:43:08.022Z"
   },
   {
    "duration": 0,
    "start_time": "2023-03-20T08:43:08.023Z"
   },
   {
    "duration": 0,
    "start_time": "2023-03-20T08:43:08.024Z"
   },
   {
    "duration": 0,
    "start_time": "2023-03-20T08:43:08.025Z"
   },
   {
    "duration": 0,
    "start_time": "2023-03-20T08:43:08.025Z"
   },
   {
    "duration": 0,
    "start_time": "2023-03-20T08:43:08.029Z"
   },
   {
    "duration": 20,
    "start_time": "2023-03-20T08:43:35.491Z"
   },
   {
    "duration": 251,
    "start_time": "2023-03-20T08:44:13.711Z"
   },
   {
    "duration": 995,
    "start_time": "2023-03-20T08:44:15.943Z"
   },
   {
    "duration": 0,
    "start_time": "2023-03-20T08:44:16.940Z"
   },
   {
    "duration": 334,
    "start_time": "2023-03-20T08:44:17.141Z"
   },
   {
    "duration": 5710,
    "start_time": "2023-03-20T08:45:04.053Z"
   },
   {
    "duration": 151,
    "start_time": "2023-03-20T08:45:18.469Z"
   },
   {
    "duration": 240,
    "start_time": "2023-03-20T08:45:25.017Z"
   },
   {
    "duration": 940,
    "start_time": "2023-03-20T08:45:27.048Z"
   },
   {
    "duration": 8940,
    "start_time": "2023-03-23T14:16:23.714Z"
   },
   {
    "duration": 3670,
    "start_time": "2023-03-23T14:16:32.656Z"
   },
   {
    "duration": 2737,
    "start_time": "2023-03-23T14:16:36.328Z"
   },
   {
    "duration": 17585,
    "start_time": "2023-03-23T14:16:39.067Z"
   },
   {
    "duration": 3,
    "start_time": "2023-03-23T14:16:56.654Z"
   },
   {
    "duration": 8,
    "start_time": "2023-03-23T14:16:56.659Z"
   },
   {
    "duration": 10385,
    "start_time": "2023-03-23T14:16:56.668Z"
   },
   {
    "duration": 11763,
    "start_time": "2023-03-23T14:17:07.055Z"
   },
   {
    "duration": 9618,
    "start_time": "2023-03-23T14:17:18.820Z"
   },
   {
    "duration": 2580,
    "start_time": "2023-03-23T14:17:28.440Z"
   },
   {
    "duration": 236,
    "start_time": "2023-03-23T14:17:31.021Z"
   },
   {
    "duration": 5,
    "start_time": "2023-03-23T14:17:31.259Z"
   },
   {
    "duration": 193,
    "start_time": "2023-03-23T14:17:31.266Z"
   },
   {
    "duration": 2,
    "start_time": "2023-03-23T14:17:31.461Z"
   },
   {
    "duration": 13394,
    "start_time": "2023-03-23T14:17:31.464Z"
   },
   {
    "duration": 535,
    "start_time": "2023-03-23T14:17:44.859Z"
   },
   {
    "duration": 3,
    "start_time": "2023-03-23T14:17:45.395Z"
   },
   {
    "duration": 7,
    "start_time": "2023-03-23T14:17:45.400Z"
   },
   {
    "duration": 542,
    "start_time": "2023-03-23T14:17:45.408Z"
   },
   {
    "duration": 1213,
    "start_time": "2023-03-23T14:17:45.951Z"
   },
   {
    "duration": 1106,
    "start_time": "2023-03-23T14:17:47.165Z"
   },
   {
    "duration": 1301,
    "start_time": "2023-03-23T14:17:48.273Z"
   },
   {
    "duration": 1114,
    "start_time": "2023-03-23T14:17:49.576Z"
   },
   {
    "duration": 182,
    "start_time": "2023-03-23T14:17:50.692Z"
   },
   {
    "duration": 529,
    "start_time": "2023-03-23T14:17:50.876Z"
   },
   {
    "duration": 4,
    "start_time": "2023-03-23T14:17:51.407Z"
   },
   {
    "duration": 10,
    "start_time": "2023-03-23T14:17:51.412Z"
   },
   {
    "duration": 162,
    "start_time": "2023-03-23T14:17:51.425Z"
   },
   {
    "duration": 5,
    "start_time": "2023-03-23T14:17:51.588Z"
   },
   {
    "duration": 146,
    "start_time": "2023-03-23T14:17:51.595Z"
   },
   {
    "duration": 61,
    "start_time": "2023-03-23T14:17:51.743Z"
   },
   {
    "duration": 4,
    "start_time": "2023-03-23T14:17:51.805Z"
   },
   {
    "duration": 57,
    "start_time": "2023-03-23T14:17:51.810Z"
   },
   {
    "duration": 20,
    "start_time": "2023-03-23T14:17:51.868Z"
   },
   {
    "duration": 12,
    "start_time": "2023-03-23T14:17:51.889Z"
   },
   {
    "duration": 4,
    "start_time": "2023-03-23T14:17:51.903Z"
   },
   {
    "duration": 1946,
    "start_time": "2023-03-23T14:17:51.908Z"
   },
   {
    "duration": 120,
    "start_time": "2023-03-23T14:17:53.855Z"
   },
   {
    "duration": 121,
    "start_time": "2023-03-23T14:17:53.976Z"
   },
   {
    "duration": 3,
    "start_time": "2023-03-23T14:17:54.098Z"
   },
   {
    "duration": 471,
    "start_time": "2023-03-23T14:17:54.102Z"
   },
   {
    "duration": 144,
    "start_time": "2023-03-23T14:17:54.575Z"
   },
   {
    "duration": 119,
    "start_time": "2023-03-23T14:17:54.721Z"
   },
   {
    "duration": 14,
    "start_time": "2023-03-23T14:17:54.841Z"
   },
   {
    "duration": 37,
    "start_time": "2023-03-23T14:17:54.857Z"
   },
   {
    "duration": 178,
    "start_time": "2023-03-23T14:17:54.895Z"
   },
   {
    "duration": 119,
    "start_time": "2023-03-23T14:17:55.074Z"
   },
   {
    "duration": 14,
    "start_time": "2023-03-23T14:17:55.195Z"
   },
   {
    "duration": 91,
    "start_time": "2023-03-23T14:17:55.211Z"
   },
   {
    "duration": 4,
    "start_time": "2023-03-23T14:17:55.304Z"
   },
   {
    "duration": 287,
    "start_time": "2023-03-23T14:17:55.309Z"
   },
   {
    "duration": 126,
    "start_time": "2023-03-23T14:17:55.597Z"
   },
   {
    "duration": 16,
    "start_time": "2023-03-23T14:17:55.725Z"
   },
   {
    "duration": 23,
    "start_time": "2023-03-23T14:17:55.742Z"
   },
   {
    "duration": 528,
    "start_time": "2023-03-23T14:17:55.767Z"
   },
   {
    "duration": 2,
    "start_time": "2023-03-23T14:17:56.296Z"
   },
   {
    "duration": 12,
    "start_time": "2023-03-23T14:17:56.300Z"
   },
   {
    "duration": 7,
    "start_time": "2023-03-23T14:17:56.314Z"
   },
   {
    "duration": 306,
    "start_time": "2023-03-23T14:17:56.322Z"
   },
   {
    "duration": 6,
    "start_time": "2023-03-23T14:17:56.630Z"
   },
   {
    "duration": 419,
    "start_time": "2023-03-23T14:17:56.638Z"
   },
   {
    "duration": 140,
    "start_time": "2023-03-23T14:17:57.059Z"
   },
   {
    "duration": 106,
    "start_time": "2023-03-23T14:17:57.201Z"
   },
   {
    "duration": 3,
    "start_time": "2023-03-23T14:17:57.309Z"
   },
   {
    "duration": 31,
    "start_time": "2023-03-23T14:17:57.314Z"
   },
   {
    "duration": 53,
    "start_time": "2023-03-23T14:17:57.347Z"
   },
   {
    "duration": 311,
    "start_time": "2023-03-23T14:17:57.402Z"
   },
   {
    "duration": 399,
    "start_time": "2023-03-23T14:17:57.715Z"
   },
   {
    "duration": 51,
    "start_time": "2023-03-23T14:17:58.115Z"
   },
   {
    "duration": 128,
    "start_time": "2023-03-23T14:17:58.168Z"
   },
   {
    "duration": 51,
    "start_time": "2023-03-23T14:17:58.297Z"
   },
   {
    "duration": 106,
    "start_time": "2023-03-23T14:17:58.350Z"
   },
   {
    "duration": 45,
    "start_time": "2023-03-23T14:17:58.458Z"
   },
   {
    "duration": 478,
    "start_time": "2023-03-23T14:17:58.504Z"
   },
   {
    "duration": 450,
    "start_time": "2023-03-23T14:17:58.984Z"
   },
   {
    "duration": 448,
    "start_time": "2023-03-23T14:17:59.436Z"
   },
   {
    "duration": 435,
    "start_time": "2023-03-23T14:17:59.886Z"
   },
   {
    "duration": 422,
    "start_time": "2023-03-23T14:18:00.322Z"
   },
   {
    "duration": 409,
    "start_time": "2023-03-23T14:18:00.745Z"
   },
   {
    "duration": 386,
    "start_time": "2023-03-23T14:18:01.155Z"
   },
   {
    "duration": 28,
    "start_time": "2023-03-23T14:18:01.542Z"
   },
   {
    "duration": 222,
    "start_time": "2023-03-23T14:18:01.589Z"
   },
   {
    "duration": 238,
    "start_time": "2023-03-23T14:18:01.812Z"
   },
   {
    "duration": 3,
    "start_time": "2023-03-23T14:18:02.051Z"
   },
   {
    "duration": 119,
    "start_time": "2023-03-23T14:18:02.056Z"
   },
   {
    "duration": 58,
    "start_time": "2023-03-23T14:18:02.176Z"
   },
   {
    "duration": 336,
    "start_time": "2023-03-23T14:18:02.236Z"
   },
   {
    "duration": 34,
    "start_time": "2023-03-23T14:18:02.574Z"
   },
   {
    "duration": 63,
    "start_time": "2023-03-23T14:18:02.610Z"
   },
   {
    "duration": 228,
    "start_time": "2023-03-23T14:18:02.675Z"
   },
   {
    "duration": 63,
    "start_time": "2023-03-23T14:18:02.904Z"
   },
   {
    "duration": 19,
    "start_time": "2023-03-23T14:18:02.969Z"
   },
   {
    "duration": 36,
    "start_time": "2023-03-23T14:18:02.990Z"
   },
   {
    "duration": 72,
    "start_time": "2023-03-23T14:18:03.028Z"
   },
   {
    "duration": 214,
    "start_time": "2023-03-23T14:18:03.102Z"
   },
   {
    "duration": 2,
    "start_time": "2023-03-23T14:18:03.318Z"
   },
   {
    "duration": 59,
    "start_time": "2023-03-23T14:18:03.322Z"
   },
   {
    "duration": 42,
    "start_time": "2023-03-23T14:18:03.383Z"
   },
   {
    "duration": 144,
    "start_time": "2023-03-23T14:18:03.427Z"
   },
   {
    "duration": 17,
    "start_time": "2023-03-23T14:18:03.573Z"
   },
   {
    "duration": 8,
    "start_time": "2023-03-23T14:18:03.592Z"
   },
   {
    "duration": 292,
    "start_time": "2023-03-23T14:18:03.602Z"
   },
   {
    "duration": 3,
    "start_time": "2023-03-23T14:18:03.896Z"
   },
   {
    "duration": 30,
    "start_time": "2023-03-23T14:18:03.901Z"
   },
   {
    "duration": 205,
    "start_time": "2023-03-23T14:18:03.932Z"
   },
   {
    "duration": 1219,
    "start_time": "2023-03-23T14:18:04.139Z"
   },
   {
    "duration": 17,
    "start_time": "2023-03-23T14:18:05.359Z"
   },
   {
    "duration": 3,
    "start_time": "2023-03-23T14:18:05.385Z"
   },
   {
    "duration": 217,
    "start_time": "2023-03-23T14:18:05.389Z"
   },
   {
    "duration": 286,
    "start_time": "2023-03-23T14:18:05.608Z"
   },
   {
    "duration": 257,
    "start_time": "2023-03-23T14:18:05.896Z"
   },
   {
    "duration": 139,
    "start_time": "2023-03-23T14:18:06.155Z"
   },
   {
    "duration": 267,
    "start_time": "2023-03-23T14:18:06.295Z"
   },
   {
    "duration": 239,
    "start_time": "2023-03-23T14:18:06.566Z"
   },
   {
    "duration": 210,
    "start_time": "2023-03-23T14:18:06.807Z"
   },
   {
    "duration": 4,
    "start_time": "2023-03-23T14:18:07.019Z"
   },
   {
    "duration": 30,
    "start_time": "2023-03-23T14:18:07.024Z"
   },
   {
    "duration": 11,
    "start_time": "2023-03-23T14:18:07.055Z"
   },
   {
    "duration": 58,
    "start_time": "2023-03-23T14:18:07.068Z"
   },
   {
    "duration": 23,
    "start_time": "2023-03-23T14:18:07.127Z"
   },
   {
    "duration": 6,
    "start_time": "2023-03-23T14:18:07.152Z"
   },
   {
    "duration": 267,
    "start_time": "2023-03-23T14:18:07.159Z"
   },
   {
    "duration": 27,
    "start_time": "2023-03-23T14:18:07.428Z"
   },
   {
    "duration": 228,
    "start_time": "2023-03-23T14:18:07.457Z"
   },
   {
    "duration": 55,
    "start_time": "2023-03-23T14:18:07.687Z"
   },
   {
    "duration": 17,
    "start_time": "2023-03-23T14:18:07.744Z"
   },
   {
    "duration": 59,
    "start_time": "2023-03-23T14:18:07.762Z"
   },
   {
    "duration": 50,
    "start_time": "2023-03-23T14:18:07.822Z"
   },
   {
    "duration": 42,
    "start_time": "2023-03-23T14:18:07.873Z"
   },
   {
    "duration": 39,
    "start_time": "2023-03-23T14:18:07.917Z"
   },
   {
    "duration": 54,
    "start_time": "2023-03-23T14:18:07.957Z"
   },
   {
    "duration": 18,
    "start_time": "2023-03-23T14:18:08.012Z"
   },
   {
    "duration": 7,
    "start_time": "2023-03-23T14:18:08.032Z"
   },
   {
    "duration": 17,
    "start_time": "2023-03-23T14:18:08.040Z"
   },
   {
    "duration": 20,
    "start_time": "2023-03-23T14:18:08.058Z"
   },
   {
    "duration": 106,
    "start_time": "2023-03-23T14:18:08.079Z"
   },
   {
    "duration": 157,
    "start_time": "2023-03-23T14:18:08.186Z"
   },
   {
    "duration": 155,
    "start_time": "2023-03-23T14:18:08.344Z"
   },
   {
    "duration": 151,
    "start_time": "2023-03-23T14:18:08.501Z"
   },
   {
    "duration": 72,
    "start_time": "2023-03-23T14:18:08.654Z"
   },
   {
    "duration": 74,
    "start_time": "2023-03-23T14:18:08.728Z"
   },
   {
    "duration": 158,
    "start_time": "2023-03-23T14:18:08.804Z"
   },
   {
    "duration": 7434,
    "start_time": "2023-03-23T16:47:40.034Z"
   },
   {
    "duration": 4712,
    "start_time": "2023-03-23T16:47:47.471Z"
   },
   {
    "duration": 4078,
    "start_time": "2023-03-23T16:47:52.186Z"
   },
   {
    "duration": 7341,
    "start_time": "2023-03-23T16:47:56.267Z"
   },
   {
    "duration": 5,
    "start_time": "2023-03-23T16:48:03.611Z"
   },
   {
    "duration": 12,
    "start_time": "2023-03-23T16:48:03.618Z"
   },
   {
    "duration": 6465,
    "start_time": "2023-03-23T16:48:03.632Z"
   },
   {
    "duration": 19955,
    "start_time": "2023-03-23T16:48:10.099Z"
   },
   {
    "duration": 13448,
    "start_time": "2023-03-23T16:48:30.057Z"
   },
   {
    "duration": 287,
    "start_time": "2023-03-23T16:52:43.630Z"
   },
   {
    "duration": 20,
    "start_time": "2023-03-23T16:52:45.278Z"
   },
   {
    "duration": 685,
    "start_time": "2023-03-23T16:52:47.455Z"
   },
   {
    "duration": 198,
    "start_time": "2023-03-23T16:52:59.970Z"
   },
   {
    "duration": 290,
    "start_time": "2023-03-23T16:53:11.168Z"
   },
   {
    "duration": 305,
    "start_time": "2023-03-23T16:53:30.724Z"
   },
   {
    "duration": 299,
    "start_time": "2023-03-23T16:54:16.176Z"
   },
   {
    "duration": 23,
    "start_time": "2023-03-23T16:54:18.489Z"
   },
   {
    "duration": 63,
    "start_time": "2023-03-23T16:55:38.784Z"
   },
   {
    "duration": 1254,
    "start_time": "2023-03-23T16:55:45.067Z"
   },
   {
    "duration": 1135,
    "start_time": "2023-03-23T16:55:59.524Z"
   },
   {
    "duration": 6,
    "start_time": "2023-03-23T16:56:07.004Z"
   },
   {
    "duration": 5,
    "start_time": "2023-03-23T16:56:11.071Z"
   },
   {
    "duration": 6,
    "start_time": "2023-03-23T16:56:35.910Z"
   },
   {
    "duration": 5,
    "start_time": "2023-03-23T16:56:42.747Z"
   },
   {
    "duration": 5,
    "start_time": "2023-03-23T16:56:55.677Z"
   },
   {
    "duration": 1161,
    "start_time": "2023-03-23T16:58:43.231Z"
   },
   {
    "duration": 3,
    "start_time": "2023-03-23T17:00:43.143Z"
   },
   {
    "duration": 5,
    "start_time": "2023-03-23T17:00:48.330Z"
   },
   {
    "duration": 24,
    "start_time": "2023-03-23T17:00:51.712Z"
   },
   {
    "duration": 85,
    "start_time": "2023-03-23T17:05:52.215Z"
   },
   {
    "duration": 167,
    "start_time": "2023-03-23T17:06:03.336Z"
   },
   {
    "duration": 8,
    "start_time": "2023-03-23T17:06:08.329Z"
   },
   {
    "duration": 338,
    "start_time": "2023-03-23T17:06:23.328Z"
   },
   {
    "duration": 7,
    "start_time": "2023-03-23T17:06:25.305Z"
   },
   {
    "duration": 67,
    "start_time": "2023-03-23T17:06:37.846Z"
   },
   {
    "duration": 449,
    "start_time": "2023-03-23T17:06:56.937Z"
   },
   {
    "duration": 8,
    "start_time": "2023-03-23T17:06:58.969Z"
   },
   {
    "duration": 290,
    "start_time": "2023-03-23T17:07:24.425Z"
   },
   {
    "duration": 9909,
    "start_time": "2023-03-23T17:28:48.716Z"
   },
   {
    "duration": 14,
    "start_time": "2023-03-23T17:29:22.466Z"
   },
   {
    "duration": 76,
    "start_time": "2023-03-23T17:29:52.636Z"
   },
   {
    "duration": 76,
    "start_time": "2023-03-23T17:30:10.744Z"
   },
   {
    "duration": 4550,
    "start_time": "2023-03-23T17:30:32.309Z"
   },
   {
    "duration": 14,
    "start_time": "2023-03-23T17:30:38.933Z"
   },
   {
    "duration": 4413,
    "start_time": "2023-03-23T17:31:13.210Z"
   },
   {
    "duration": 11,
    "start_time": "2023-03-23T17:31:17.626Z"
   },
   {
    "duration": 5,
    "start_time": "2023-03-23T17:32:49.709Z"
   },
   {
    "duration": 15,
    "start_time": "2023-03-23T17:32:54.849Z"
   },
   {
    "duration": 199,
    "start_time": "2023-03-23T17:33:54.945Z"
   },
   {
    "duration": 263,
    "start_time": "2023-03-23T17:34:04.574Z"
   },
   {
    "duration": 5,
    "start_time": "2023-03-23T17:34:28.841Z"
   },
   {
    "duration": 35,
    "start_time": "2023-03-23T17:34:31.574Z"
   },
   {
    "duration": 266,
    "start_time": "2023-03-23T17:34:40.270Z"
   },
   {
    "duration": 6,
    "start_time": "2023-03-23T17:35:25.573Z"
   },
   {
    "duration": 12,
    "start_time": "2023-03-23T17:35:31.240Z"
   },
   {
    "duration": 296,
    "start_time": "2023-03-23T17:35:59.382Z"
   },
   {
    "duration": 308,
    "start_time": "2023-03-23T17:41:50.028Z"
   },
   {
    "duration": 217,
    "start_time": "2023-03-23T17:41:56.598Z"
   },
   {
    "duration": 431,
    "start_time": "2023-03-23T17:42:15.977Z"
   },
   {
    "duration": 6,
    "start_time": "2023-03-23T17:44:32.101Z"
   },
   {
    "duration": 12,
    "start_time": "2023-03-23T17:44:36.868Z"
   },
   {
    "duration": 7,
    "start_time": "2023-03-23T17:45:25.334Z"
   },
   {
    "duration": 19,
    "start_time": "2023-03-23T17:45:26.073Z"
   },
   {
    "duration": 211,
    "start_time": "2023-03-23T17:46:11.314Z"
   },
   {
    "duration": 266,
    "start_time": "2023-03-23T17:46:22.473Z"
   },
   {
    "duration": 4,
    "start_time": "2023-03-23T17:47:22.272Z"
   },
   {
    "duration": 14,
    "start_time": "2023-03-23T17:47:24.116Z"
   },
   {
    "duration": 314,
    "start_time": "2023-03-23T17:47:26.489Z"
   },
   {
    "duration": 447,
    "start_time": "2023-03-23T17:48:36.664Z"
   },
   {
    "duration": 317,
    "start_time": "2023-03-23T17:49:11.084Z"
   },
   {
    "duration": 2309,
    "start_time": "2023-03-23T18:01:34.899Z"
   },
   {
    "duration": 10,
    "start_time": "2023-03-23T18:01:39.230Z"
   },
   {
    "duration": 249,
    "start_time": "2023-03-23T18:03:12.716Z"
   },
   {
    "duration": 207,
    "start_time": "2023-03-23T18:03:46.201Z"
   },
   {
    "duration": 218,
    "start_time": "2023-03-23T18:04:27.682Z"
   },
   {
    "duration": 189,
    "start_time": "2023-03-23T18:04:36.154Z"
   },
   {
    "duration": 183,
    "start_time": "2023-03-23T18:05:17.945Z"
   },
   {
    "duration": 1354,
    "start_time": "2023-03-23T18:05:33.022Z"
   },
   {
    "duration": 187,
    "start_time": "2023-03-23T18:05:39.518Z"
   },
   {
    "duration": 3071,
    "start_time": "2023-03-23T18:06:57.714Z"
   },
   {
    "duration": 2631,
    "start_time": "2023-03-23T18:07:00.790Z"
   },
   {
    "duration": 2669,
    "start_time": "2023-03-23T18:07:03.423Z"
   },
   {
    "duration": 5223,
    "start_time": "2023-03-23T18:07:06.095Z"
   },
   {
    "duration": 3,
    "start_time": "2023-03-23T18:07:11.321Z"
   },
   {
    "duration": 8,
    "start_time": "2023-03-23T18:07:11.326Z"
   },
   {
    "duration": 6731,
    "start_time": "2023-03-23T18:07:11.335Z"
   },
   {
    "duration": 19698,
    "start_time": "2023-03-23T18:07:18.068Z"
   },
   {
    "duration": 14239,
    "start_time": "2023-03-23T18:07:37.768Z"
   },
   {
    "duration": 3816,
    "start_time": "2023-03-23T18:07:52.010Z"
   },
   {
    "duration": 293,
    "start_time": "2023-03-23T18:07:55.828Z"
   },
   {
    "duration": 18,
    "start_time": "2023-03-23T18:07:56.123Z"
   },
   {
    "duration": 12,
    "start_time": "2023-03-23T18:07:56.143Z"
   },
   {
    "duration": 1232,
    "start_time": "2023-03-23T18:07:56.158Z"
   },
   {
    "duration": 316,
    "start_time": "2023-03-23T18:07:57.402Z"
   },
   {
    "duration": 7,
    "start_time": "2023-03-23T18:07:57.720Z"
   },
   {
    "duration": 238,
    "start_time": "2023-03-23T18:07:57.729Z"
   },
   {
    "duration": 4299,
    "start_time": "2023-03-23T18:07:57.970Z"
   },
   {
    "duration": 10,
    "start_time": "2023-03-23T18:08:02.271Z"
   },
   {
    "duration": 28,
    "start_time": "2023-03-23T18:08:02.283Z"
   },
   {
    "duration": 7,
    "start_time": "2023-03-23T18:08:02.313Z"
   },
   {
    "duration": 16,
    "start_time": "2023-03-23T18:08:02.322Z"
   },
   {
    "duration": 315,
    "start_time": "2023-03-23T18:08:02.340Z"
   },
   {
    "duration": 323,
    "start_time": "2023-03-23T18:08:02.657Z"
   },
   {
    "duration": 290,
    "start_time": "2023-03-23T18:08:02.987Z"
   },
   {
    "duration": 4444,
    "start_time": "2023-03-23T18:08:03.279Z"
   },
   {
    "duration": 10,
    "start_time": "2023-03-23T18:08:07.725Z"
   },
   {
    "duration": 577,
    "start_time": "2023-03-23T18:08:07.737Z"
   },
   {
    "duration": 0,
    "start_time": "2023-03-23T18:08:08.316Z"
   },
   {
    "duration": 8,
    "start_time": "2023-03-23T18:08:54.745Z"
   },
   {
    "duration": 4,
    "start_time": "2023-03-23T18:09:00.281Z"
   },
   {
    "duration": 4,
    "start_time": "2023-03-23T18:09:07.444Z"
   },
   {
    "duration": 8,
    "start_time": "2023-03-23T18:09:15.702Z"
   },
   {
    "duration": 28,
    "start_time": "2023-03-23T18:09:26.061Z"
   },
   {
    "duration": 8,
    "start_time": "2023-03-23T18:09:44.877Z"
   },
   {
    "duration": 4,
    "start_time": "2023-03-23T18:09:53.804Z"
   },
   {
    "duration": 153,
    "start_time": "2023-03-23T18:09:56.133Z"
   },
   {
    "duration": 174,
    "start_time": "2023-03-23T18:09:59.539Z"
   },
   {
    "duration": 3135,
    "start_time": "2023-03-23T18:10:09.704Z"
   },
   {
    "duration": 2850,
    "start_time": "2023-03-23T18:10:12.841Z"
   },
   {
    "duration": 2571,
    "start_time": "2023-03-23T18:10:15.701Z"
   },
   {
    "duration": 5147,
    "start_time": "2023-03-23T18:10:18.274Z"
   },
   {
    "duration": 4,
    "start_time": "2023-03-23T18:10:23.424Z"
   },
   {
    "duration": 9,
    "start_time": "2023-03-23T18:10:23.429Z"
   },
   {
    "duration": 6474,
    "start_time": "2023-03-23T18:10:23.440Z"
   },
   {
    "duration": 19778,
    "start_time": "2023-03-23T18:10:29.916Z"
   },
   {
    "duration": 13263,
    "start_time": "2023-03-23T18:10:49.705Z"
   },
   {
    "duration": 3722,
    "start_time": "2023-03-23T18:11:02.970Z"
   },
   {
    "duration": 305,
    "start_time": "2023-03-23T18:11:06.694Z"
   },
   {
    "duration": 16,
    "start_time": "2023-03-23T18:11:07.004Z"
   },
   {
    "duration": 11,
    "start_time": "2023-03-23T18:11:07.022Z"
   },
   {
    "duration": 1125,
    "start_time": "2023-03-23T18:11:07.036Z"
   },
   {
    "duration": 316,
    "start_time": "2023-03-23T18:11:08.163Z"
   },
   {
    "duration": 17,
    "start_time": "2023-03-23T18:11:08.481Z"
   },
   {
    "duration": 228,
    "start_time": "2023-03-23T18:11:08.500Z"
   },
   {
    "duration": 4402,
    "start_time": "2023-03-23T18:11:08.730Z"
   },
   {
    "duration": 11,
    "start_time": "2023-03-23T18:11:13.134Z"
   },
   {
    "duration": 19,
    "start_time": "2023-03-23T18:11:13.147Z"
   },
   {
    "duration": 7,
    "start_time": "2023-03-23T18:11:13.168Z"
   },
   {
    "duration": 20,
    "start_time": "2023-03-23T18:11:13.177Z"
   },
   {
    "duration": 267,
    "start_time": "2023-03-23T18:11:13.203Z"
   },
   {
    "duration": 295,
    "start_time": "2023-03-23T18:11:13.472Z"
   },
   {
    "duration": 293,
    "start_time": "2023-03-23T18:11:13.769Z"
   },
   {
    "duration": 4401,
    "start_time": "2023-03-23T18:11:14.064Z"
   },
   {
    "duration": 7,
    "start_time": "2023-03-23T18:11:18.467Z"
   },
   {
    "duration": 8,
    "start_time": "2023-03-23T18:11:18.476Z"
   },
   {
    "duration": 159,
    "start_time": "2023-03-23T18:11:18.486Z"
   },
   {
    "duration": 177,
    "start_time": "2023-03-23T18:11:18.649Z"
   },
   {
    "duration": 7429,
    "start_time": "2023-03-24T10:06:18.416Z"
   },
   {
    "duration": 4699,
    "start_time": "2023-03-24T10:06:25.848Z"
   },
   {
    "duration": 3402,
    "start_time": "2023-03-24T10:06:30.549Z"
   },
   {
    "duration": 6317,
    "start_time": "2023-03-24T10:06:33.954Z"
   },
   {
    "duration": 3,
    "start_time": "2023-03-24T10:06:40.273Z"
   },
   {
    "duration": 32,
    "start_time": "2023-03-24T10:06:40.278Z"
   },
   {
    "duration": 8262,
    "start_time": "2023-03-24T10:06:40.311Z"
   },
   {
    "duration": 17567,
    "start_time": "2023-03-24T10:06:48.575Z"
   }
  ],
  "kernelspec": {
   "display_name": "Python 3 (ipykernel)",
   "language": "python",
   "name": "python3"
  },
  "language_info": {
   "codemirror_mode": {
    "name": "ipython",
    "version": 3
   },
   "file_extension": ".py",
   "mimetype": "text/x-python",
   "name": "python",
   "nbconvert_exporter": "python",
   "pygments_lexer": "ipython3",
   "version": "3.9.5"
  },
  "toc": {
   "base_numbering": 1,
   "nav_menu": {},
   "number_sections": false,
   "sideBar": true,
   "skip_h1_title": false,
   "title_cell": "Содержание",
   "title_sidebar": "Contents",
   "toc_cell": true,
   "toc_position": {
    "height": "calc(100% - 180px)",
    "left": "10px",
    "top": "150px",
    "width": "165px"
   },
   "toc_section_display": true,
   "toc_window_display": false
  },
  "varInspector": {
   "cols": {
    "lenName": 16,
    "lenType": 16,
    "lenVar": 40
   },
   "kernels_config": {
    "python": {
     "delete_cmd_postfix": "",
     "delete_cmd_prefix": "del ",
     "library": "var_list.py",
     "varRefreshCmd": "print(var_dic_list())"
    },
    "r": {
     "delete_cmd_postfix": ") ",
     "delete_cmd_prefix": "rm(",
     "library": "var_list.r",
     "varRefreshCmd": "cat(var_dic_list()) "
    }
   },
   "types_to_exclude": [
    "module",
    "function",
    "builtin_function_or_method",
    "instance",
    "_Feature"
   ],
   "window_display": false
  }
 },
 "nbformat": 4,
 "nbformat_minor": 5
}
